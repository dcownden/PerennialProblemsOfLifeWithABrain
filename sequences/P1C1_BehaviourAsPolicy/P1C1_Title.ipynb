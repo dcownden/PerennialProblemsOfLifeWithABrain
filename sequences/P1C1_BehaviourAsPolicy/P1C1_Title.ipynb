{
  "cells": [
    {
      "cell_type": "markdown",
      "metadata": {
        "id": "view-in-github",
        "colab_type": "text"
      },
      "source": [
        "<a href=\"https://colab.research.google.com/github/dcownden/PerennialProblemsOfLifeWithABrain/blob/md-title-pages/sequences/P1C1_BehaviourAsPolicy/P1C1_Title.ipynb\" target=\"_parent\"><img src=\"https://colab.research.google.com/assets/colab-badge.svg\" alt=\"Open In Colab\"/></a>"
      ]
    },
    {
      "cell_type": "markdown",
      "metadata": {
        "execution": {},
        "id": "YLhKFSOHeeSZ"
      },
      "source": [
        "The following is part of a test for an upcoming text book on computational neuroscience from an optimization and learning perspective. The book will start with evolution because ultimately, all aspects of the brain are shaped by evolution and, as we will see, evolution can also be seen as an optimization algorithm. We are sharing it now to get feedback on what works and what does not and the developments we should do."
      ]
    },
    {
      "cell_type": "markdown",
      "metadata": {
        "execution": {},
        "id": "uw-ujunbeeSd"
      },
      "source": [
        "___\n",
        "**Behaviour as a Policy in an Environmental Context (Part 1 Chapter 1)**"
      ]
    },
    {
      "cell_type": "markdown",
      "source": [
        "This chapter develops examples of how behaviour is described and evaluated in relation to its [goodness](## \"This is a very loaded term, to be unpacked carefully later\") within a specific environmental niche. Please note, we've used mouseover text for hints, solutions, and footnotes (like with 'goodness' here). These appear as blue, underlined text (for now) but are not clickable links; instead, hovering over them will display additional information.\n",
        "\n",
        "You will learn:\n",
        "*   What is a policy? A policy is a formalization of behaviour as a function that takes an organism's experiences of their environment as an input and outputs the organism's actions.\n",
        "*   What is a good policy? The rewards and other environmental signals resulting from the organism's actions in the environment are integrated into a Loss/Objective function to evaluate, and potentially improve, a policy.\n",
        "*   What is stochasticity? Both the environment and an organism's behavior can contain random elements. This randomness can pose challenges when evaluating policies as it becomes difficult to determine whether poor outcomes are due the policy itself or simply bad luck."
      ],
      "metadata": {
        "id": "8bOJh9NWeoeG"
      }
    },
    {
      "cell_type": "markdown",
      "metadata": {
        "execution": {},
        "id": "QG-ws5f5eeSg"
      },
      "source": [
        "___\n",
        "This chapter is the first of three in the first part of the book. The first part of the book is about\n",
        "\n",
        "**Behaviour, Environments and Optimization: Evolution and Learning (Part 1)**\n",
        "\n",
        "Animals are adapted to their specific environments; their behaviour is best understood within the context of their evolutionary environment.\n",
        "\n",
        "Part 1 of the book aims to introduce the fundamental concepts of\n",
        "* **Environment**, where an organism lives\n",
        "* **Behaviour**, what the organism does in the environment\n",
        "* **Optimization**, how learning and evolution shape an organism's behaviour to make it better suited to its environment"
      ]
    },
    {
      "cell_type": "markdown",
      "source": [
        "This is at the core of why we are writing this book: pretty much anything happening in the brain (and biology) can be viewed as part of a process that brings about improvement in this sense. In this first part of the book we set out this foundational perspective. Each subsequent part shows how this perspective connects insights from Machine Learning to the function of the brain in a way that can both synthesize and guide empirical neuroscience research."
      ],
      "metadata": {
        "id": "xkXY6G6reySi"
      }
    }
  ],
  "metadata": {
    "colab": {
      "name": "P1C1_Title",
      "provenance": [],
      "toc_visible": true,
      "include_colab_link": true
    },
    "kernel": {
      "display_name": "Python 3",
      "language": "python",
      "name": "python3"
    },
    "kernelspec": {
      "display_name": "Python 3",
      "name": "python3"
    },
    "language_info": {
      "codemirror_mode": {
        "name": "ipython",
        "version": 3
      },
      "file_extension": ".py",
      "mimetype": "text/x-python",
      "name": "python",
      "nbconvert_exporter": "python",
      "pygments_lexer": "ipython3",
      "version": "3.9.18"
    }
  },
  "nbformat": 4,
  "nbformat_minor": 0
}