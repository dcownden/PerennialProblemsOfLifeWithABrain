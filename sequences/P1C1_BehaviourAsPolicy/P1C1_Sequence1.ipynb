{
  "cells": [
    {
      "cell_type": "markdown",
      "metadata": {
        "id": "view-in-github",
        "colab_type": "text"
      },
      "source": [
        "<a href=\"https://colab.research.google.com/github/dcownden/PerennialProblemsOfLifeWithABrain/blob/P1C1_Sequence1_refinements/sequences/P1C1_BehaviourAsPolicy/P1C1_Sequence1.ipynb\" target=\"_parent\"><img src=\"https://colab.research.google.com/assets/colab-badge.svg\" alt=\"Open In Colab\"/></a>"
      ]
    },
    {
      "cell_type": "markdown",
      "metadata": {
        "execution": {},
        "id": "dcHx9jSH0gkd"
      },
      "source": [
        "# **Part 1 Behaviour, environments and optimization: evolution and learning**\n",
        "\n",
        "### **Animals are adapted to their specific environments; their behaviour is best understood within the context of their evolutionary environment.**\n",
        "\n",
        "### Objective: Part 1 of the book aims to introduce the fundamental concepts of\n",
        "* ### **environment**, where an organism lives;\n",
        "* ### **behaviour**, what the organism does there;\n",
        "* ### **optimization**, how learning and evolution shape an organism's behaviour to make it better suited to its environment."
      ]
    },
    {
      "cell_type": "markdown",
      "metadata": {
        "execution": {},
        "id": "7beHHwGx0gkj"
      },
      "source": [
        "___\n",
        "# Chapter 1.1 Behaviour as a policy in an environmental context\n",
        "\n",
        "### Objective: This chapter develops examples of how behaviour is described and evaluated in relation to its [goodness](## \"This is a very loaded term, to be unpacked carefully later\") within a specific environmental niche.\n",
        "\n",
        "You will learn:\n",
        "*   What is a policy? A policy is a formalization of behaviour as a function that takes an organism's experiences of their environment as an input and outputs the organism's actions.\n",
        "*   What is a good policy? The rewards and other environmental signals, resulting from the organism's actions in the environment, are integrated into a Loss/Objective function to evaluatate, and potentially improve, a policy.\n",
        "*   What is stochasticity? Both the environment and an organism's behavior can contain random elements. This randomness can pose challenges when evaluating policies, as it becomes difficult to determine whether poor outcomes are due the policy itself or simply bad luck.\n",
        "\n"
      ]
    },
    {
      "cell_type": "markdown",
      "metadata": {
        "execution": {},
        "id": "ROV3QVkt0gkl"
      },
      "source": [
        "___\n",
        "# **Sequence 1.1.1: Gridworld Introduction**\n",
        "\n",
        "### Objective: In this sequence, we will create a simple environment-organism system to demonstrate how an organism's **behaviour**, within an **environment**, can be evaluated using **rewards**. We will also explore how intelligent behaviour can lead to better outcomes and how **randomness** can make evaluation of behaviour difficult."
      ]
    },
    {
      "cell_type": "markdown",
      "metadata": {
        "execution": {},
        "id": "EQSveAtV0gkn"
      },
      "source": [
        "# Setup\n",
        "\n"
      ]
    },
    {
      "cell_type": "code",
      "execution_count": 1,
      "metadata": {
        "execution": {},
        "id": "XvdDmZTg0gkp"
      },
      "outputs": [],
      "source": [
        "import ipywidgets as widgets\n",
        "import threading\n",
        "from IPython.display import display\n",
        "import numpy as np\n",
        "import matplotlib.pyplot as plt\n",
        "import time\n",
        "import asyncio\n",
        "import logging\n",
        "#import jax\n",
        "\n",
        "!pip3 install vibecheck datatops > /dev/null 2> /dev/null #google.colab\n",
        "from vibecheck import DatatopsContentReviewContainer\n",
        "\n",
        "# set numpy random seed\n",
        "SEED = 2021\n",
        "rng = np.random.default_rng(seed=SEED)\n",
        "#from google.colab import output as colab_output\n",
        "#colab_output.enable_custom_widget_manager()"
      ]
    },
    {
      "cell_type": "code",
      "execution_count": 3,
      "metadata": {
        "execution": {},
        "id": "5NTqSX210gkr"
      },
      "outputs": [],
      "source": [
        "# @title Plotting Functions\n",
        "# @markdown You don't need to worry about how this code works – but you do need to **run the cell**\n",
        "\n",
        "%matplotlib inline\n",
        "%config InlineBackend.figure_format = 'retina'\n",
        "plt.style.use(\"https://raw.githubusercontent.com/dcownden/PerennialProblemsOfLifeWithABrain/main/pplb.mplstyle\")\n",
        "logging.getLogger('matplotlib.font_manager').setLevel(logging.ERROR)\n",
        "\n",
        "def make_grid(num_rows, num_cols):\n",
        "  \"\"\"Plots an n_rows by n_cols grid with cells centered on integer indices and\n",
        "  returns fig and ax handles for futher use\n",
        "  Args:\n",
        "    num_rows (int): number of rows in the grid (vertical dimension)\n",
        "    num_cols (int): number of cols in the grid (horizontal dimension)\n",
        "\n",
        "  Returns:\n",
        "    fig (matplotlib.figure.Figure): figure handle for the grid\n",
        "    ax: (matplotlib.axes._axes.Axes): axes handle for the grid\n",
        "  \"\"\"\n",
        "  fig, ax = plt.subplots(figsize = (7,6), layout='constrained')\n",
        "  ax.spines[['right', 'top']].set_visible(True)\n",
        "  ax.set_xticks(np.arange(0, num_cols, 1))\n",
        "  ax.set_yticks(np.arange(0, num_rows, 1))\n",
        "  # Labels for major ticks\n",
        "  ax.set_xticklabels(np.arange(0, num_cols, 1),fontsize=8)\n",
        "  ax.set_yticklabels(np.arange(0, num_rows, 1),fontsize=8)\n",
        "\n",
        "  # Minor ticks\n",
        "  ax.set_xticks(np.arange(0.5, num_cols-0.5, 1), minor=True)\n",
        "  ax.set_yticks(np.arange(0.5, num_rows-0.5, 1), minor=True)\n",
        "\n",
        "  ax.xaxis.tick_top()\n",
        "\n",
        "  # Gridlines based on minor ticks\n",
        "  ax.grid(which='minor', color='grey', linestyle='-', linewidth=2, alpha=0.5)\n",
        "\n",
        "  # Remove minor ticks\n",
        "  ax.tick_params(which='minor', bottom=False, left=False)\n",
        "\n",
        "  ax.set_xlim(( -0.5, num_cols-0.5))\n",
        "  ax.set_ylim(( -0.5, num_rows-0.5))\n",
        "  ax.invert_yaxis()\n",
        "  return fig, ax\n",
        "\n",
        "def plot_food(fig, ax, rc_food_loc, n_rows):\n",
        "  food = ax.scatter([], [], s=150, marker='o', color='red', label='Food')\n",
        "  rc_food_loc = np.array(rc_food_loc, dtype=int)\n",
        "  #matrix indexing convention is is [row-vertical, col-horizontal]\n",
        "  #plotting indexing convention is (x-horizontal,y-vertical), hence flip\n",
        "  food.set_offsets(np.fliplr(rc_food_loc))\n",
        "  return food\n",
        "\n",
        "def plot_critter(fig, ax, rc_critter_loc, n_rows):\n",
        "  critter = ax.scatter([], [], s=250, marker='h', color='blue', label='Critter')\n",
        "  #matrix indexing convention is is [row-vertical, col-horizontal]\n",
        "  #plotting indexing convention is (x-horizontal,y-vertical), hence flip\n",
        "  critter.set_offsets(np.flip(rc_critter_loc))\n",
        "  return critter"
      ]
    },
    {
      "cell_type": "code",
      "execution_count": 4,
      "metadata": {
        "execution": {},
        "id": "FQ84kARn0gks"
      },
      "outputs": [],
      "source": [
        "# @title Simulation Functions, Variables and Widgets\n",
        "# @markdown You don't need to worry about how this code works – but you do need to **run the cell**\n",
        "\n",
        "def init_loc(n_rows, n_cols, num):\n",
        "  \"\"\"\n",
        "  Samples random 2d grid locations, without replacement,\n",
        "\n",
        "  Returns:\n",
        "    int_loc: ndarray(int) of flat indices for a grid\n",
        "    rc_index: (ndarray(int), ndarray(int)) a pair of arrays the first\n",
        "      giving the row indices, the second giving the col indices, useful\n",
        "      for indexing an n_rows by n_cols numpy array\n",
        "    rc_plotting: ndarray(int) num x 2, same rc coordinates but structured\n",
        "      in the way that matplotlib likes\n",
        "  \"\"\"\n",
        "  int_loc = np.random.choice(n_rows * n_cols, num, replace=False)\n",
        "  rc_index = np.unravel_index(int_loc, (n_rows, n_cols))\n",
        "  rc_plotting = np.fliplr(np.array(rc_index).T)\n",
        "  return int_loc, rc_index, rc_plotting\n",
        "\n",
        "\n",
        "class GridworldBoard():\n",
        "  \"\"\"\n",
        "  A collection methods and parameters of a gridworld game board that\n",
        "  define the logic of the game.\n",
        "  Board state is tracked as a triple (pieces, scores, rounds_left)\n",
        "  pieces: batch_size x n_rows x n_cols np.array\n",
        "  scores: batch_size np.array\n",
        "  rounds_left: batch_size np.array\n",
        "\n",
        "  Pieces are interpreted as:\n",
        "  1=critter, -1=food, 0=empty\n",
        "\n",
        "  First dim is batch, second dim row , third is col, so pieces[0][1][7]\n",
        "  is the square in row 2, in column 8 of the first board in the batch of boards\n",
        "\n",
        "  Note:\n",
        "    In 2d np.array first dim is row (vertical), second dim is col (horizontal),\n",
        "    i.e. top left corner is (0,0), so take care when visualizing/plotting\n",
        "    as np.array visualization inline with typical tensor notation but at odds\n",
        "    with conventional plotting where (0,0) is bottom left, first dim, x, is\n",
        "    horizontal, second dim, y, is vertical\n",
        "  \"\"\"\n",
        "  def __init__(self, batch_size=1,\n",
        "               n_rows=7, n_cols=7,\n",
        "               num_food=10, lifetime=30):\n",
        "    \"\"\"Set the parameters of the game.\"\"\"\n",
        "    self.n_rows = n_rows\n",
        "    self.n_cols = n_cols\n",
        "    self.batch_size = batch_size\n",
        "    self.num_food = num_food\n",
        "    self.lifetime = lifetime\n",
        "\n",
        "\n",
        "  def get_init_board_state(self):\n",
        "    \"\"\"Set up starting board using game parameters\"\"\"\n",
        "    #set rounds_left and score\n",
        "    self.rounds_left = np.ones(self.batch_size) * self.lifetime\n",
        "    self.scores = np.zeros(self.batch_size)\n",
        "    # create an empty board array.\n",
        "    self.pieces = np.zeros((self.batch_size, self.n_rows, self.n_cols))\n",
        "    # Place critter and initial food items on the board randomly\n",
        "    for ii in np.arange(self.batch_size):\n",
        "      # num_food+1 because we want critter and food locations\n",
        "      int_loc, rc_idx, rc_plot = init_loc(self.n_rows,\n",
        "                                          self.n_cols,\n",
        "                                          self.num_food+1)\n",
        "      # critter random start location\n",
        "      self.pieces[(ii, rc_idx[0][0], rc_idx[1][0])] = 1\n",
        "      # food random start locations\n",
        "      self.pieces[(ii, rc_idx[0][1:], rc_idx[1][1:])] = -1\n",
        "    return(self.pieces.copy(), self.scores.copy(), self.rounds_left.copy())\n",
        "\n",
        "\n",
        "  def set_state(self, board):\n",
        "    \"\"\" board is a triple of np arrays\n",
        "    pieces,       - batch_size x n_rows x n_cols\n",
        "    scores,       - batch_size\n",
        "    rounds_left   - batch_size\n",
        "    \"\"\"\n",
        "    self.pieces, self.scores, self.rounds_left = board\n",
        "\n",
        "\n",
        "  def get_state(self):\n",
        "    \"\"\" returns a board state, which is a triple of np arrays\n",
        "    pieces,       - batch_size x n_rows x n_cols\n",
        "    scores,       - batch_size\n",
        "    rounds_left   - batch_size\n",
        "    \"\"\"\n",
        "    return(self.pieces.copy(), self.scores.copy(), self.rounds_left.copy())\n",
        "\n",
        "\n",
        "  def __getitem__(self, index):\n",
        "    return self.pieces[index]\n",
        "\n",
        "\n",
        "  def execute_moves(self, moves):\n",
        "    \"\"\"\n",
        "    Updates the state of the board given the moves made.\n",
        "\n",
        "    Args:\n",
        "      moves: a 3-tuple of 1-d arrays each of length batch_size,\n",
        "        the first array gives the specific board within the batch,\n",
        "        the second array in the tuple gives the new x coord for each critter\n",
        "        on each board and the third gives the new y coord.\n",
        "\n",
        "    Note:\n",
        "      Assumes that there is exactly one valid move for each board in the\n",
        "      batch of boards. i.e. it does't check for bounce/reflection on edges,\n",
        "      or for multiple move made on the same board. It only checks for eating\n",
        "      food and adds new food when appropriate. Invalid moves could lead to\n",
        "      illegal teleporting behavior, critter dublication, or index out of range\n",
        "      errors.\n",
        "    This assumes the move is valid, i.e. doesn't check for\n",
        "    bounce/reflection on edges, it only checks eating and adds new food,\n",
        "    so invalid moves could lead to illegal teleporting behaviour or index out\n",
        "    of range errors\n",
        "    \"\"\"\n",
        "    assert len(moves[0]) == self.pieces.shape[0]\n",
        "    #critters leave their spots\n",
        "    self.pieces[self.pieces==1] = 0\n",
        "    #which critters have food in their new spots\n",
        "    eats_food = self.pieces[moves] == -1\n",
        "    # some critters eat and their scores go up\n",
        "    self.scores = self.scores + eats_food\n",
        "\n",
        "    num_empty_after_eat = self.n_rows*self.n_cols - self.num_food\n",
        "    # -1 for the critter +1 for food eaten\n",
        "    # which boards in the batch had eating happen\n",
        "    g_eating = np.where(eats_food)[0]\n",
        "    new_food_sample = rng.choice(num_empty_after_eat, size=np.sum(eats_food))\n",
        "    # add random food to replace what is eaten\n",
        "    if np.any(eats_food):\n",
        "      possible_new_locs = np.where(np.logical_and(\n",
        "          self.pieces == 0, #the spot is empty\n",
        "          eats_food.reshape(self.batch_size, 1, 1))) #food eaten on that board\n",
        "      food_sample_ = rng.choice(num_empty_after_eat, size=np.sum(eats_food))\n",
        "      food_sample = food_sample_ + np.arange(len(g_eating))*num_empty_after_eat\n",
        "      assert np.all(self.pieces[(possible_new_locs[0][food_sample],\n",
        "                                 possible_new_locs[1][food_sample],\n",
        "                                 possible_new_locs[2][food_sample])] == 0)\n",
        "      #put new food on the board\n",
        "      self.pieces[(possible_new_locs[0][food_sample],\n",
        "                   possible_new_locs[1][food_sample],\n",
        "                   possible_new_locs[2][food_sample])] = -1\n",
        "    # put critters in new positions\n",
        "    self.pieces[moves] = 1.0\n",
        "    self.rounds_left = self.rounds_left - 1\n",
        "    assert np.all(self.pieces.sum(axis=(1,2)) == ((self.num_food * -1) + 1))\n",
        "\n",
        "\n",
        "  def get_legal_moves(self):\n",
        "    \"\"\"Identifies all legal moves for the critter, taking into acount\n",
        "    bouncing/reflection at edges,\n",
        "\n",
        "    Returns:\n",
        "      A numpy int array of size batch x 3(g,x,y) x 4(possible moves)\n",
        "\n",
        "    Note:\n",
        "      moves[0,1,3] is the x coordinate of the move corresponding to the\n",
        "      fourth offstet on the first board.\n",
        "      moves[1,:,1] will give the g,x,y triple corresponding to the\n",
        "      move on the second board and the second offset, actions are integers\n",
        "    \"\"\"\n",
        "\n",
        "    #apply all possible offsets to each game\n",
        "    moves = np.stack([\n",
        "      np.array(np.where(self.pieces == 1)) +\n",
        "        np.array([np.array([0,  1, 0])]*self.batch_size).T,\n",
        "      np.array(np.where(self.pieces == 1)) +\n",
        "        np.array([np.array([0, -1, 0])]*self.batch_size).T,\n",
        "      np.array(np.where(self.pieces == 1)) +\n",
        "        np.array([np.array([0, 0,  1])]*self.batch_size).T,\n",
        "      np.array(np.where(self.pieces == 1)) +\n",
        "        np.array([np.array([0, 0, -1])]*self.batch_size).T]).swapaxes(0,2)\n",
        "\n",
        "    #check bounces at boundaries\n",
        "    moves[:,1,:] = np.where(moves[:,1,:] >=\n",
        "                            self.n_rows, self.n_rows-2, moves[:,1,:])\n",
        "    moves[:,2,:] = np.where(moves[:,2,:] >=\n",
        "                            self.n_cols, self.n_cols-2, moves[:,2,:])\n",
        "    moves[:,1,:] = np.where(moves[:,1,:] < 0, 1, moves[:,1,:])\n",
        "    moves[:,2,:] = np.where(moves[:,2,:] < 0, 1, moves[:,2,:])\n",
        "    return moves\n",
        "\n",
        "\n",
        "\n",
        "\n",
        "class GridworldGame():\n",
        "  \"\"\"\n",
        "  A collection methods and parameters of a gridworld game that allow\n",
        "  for interaction with and display of GridwordlBoard objects.\n",
        "  \"\"\"\n",
        "  square_content = {\n",
        "      -1: \"X\", #Food\n",
        "      +0: \"-\", #Nothing\n",
        "      +1: \"O\"  #Critter\n",
        "      }\n",
        "\n",
        "  def get_square_piece(self, piece):\n",
        "    return GridworldGame.square_content[piece]\n",
        "\n",
        "\n",
        "  def __init__(self, batch_size, n_rows, n_cols, num_food, lifetime):\n",
        "    self.batch_size = batch_size\n",
        "    self.n_rows = n_rows\n",
        "    self.n_cols = n_cols\n",
        "    self.num_food = num_food\n",
        "    self.lifetime = lifetime\n",
        "\n",
        "\n",
        "  def get_init_board(self):\n",
        "    \"\"\"\n",
        "    Generates a starting board given the parameters of the game.\n",
        "    Returns a tuple giving current state of the game\n",
        "    \"\"\"\n",
        "    # current score, and rounds left in the episode\n",
        "    b = GridworldBoard(self.batch_size, self.n_rows, self.n_cols,\n",
        "                       self.num_food, self.lifetime)\n",
        "    return b.get_init_board_state()\n",
        "\n",
        "\n",
        "  def get_board_size(self):\n",
        "    \"\"\"Shape of a sinlge board, doesn't give batch size\"\"\"\n",
        "    return (self.n_rows, self.n_cols)\n",
        "\n",
        "\n",
        "  def get_action_size(self):\n",
        "    \"\"\"\n",
        "    Returns the number of all possible actions, even though only  2-4 of\n",
        "    these will ever be valid on a given turn.\n",
        "    Actions correspond to integer indexes of board locations,\n",
        "    moves to g,x,y coordinate indexes of board locations\n",
        "    \"\"\"\n",
        "    return self.n_rows * self.n_cols\n",
        "\n",
        "\n",
        "  def get_batch_size(self):\n",
        "    \"\"\"\n",
        "    Returns the number of actions, only 2-4 of these will ever be valid.\n",
        "    Actions correspond to integer indexes of board locations,\n",
        "    moves to x,y indexes of board locations\n",
        "    \"\"\"\n",
        "    return self.batch_size\n",
        "\n",
        "\n",
        "  def string_rep(self, board, g):\n",
        "    \"\"\" A bytestring representation board g's state in the batch of boards\"\"\"\n",
        "    return board[0][g].tobytes() + board[1][g].tobytes() + board[2][g].tobytes()\n",
        "\n",
        "\n",
        "  def string_rep_readable(self, board, g):\n",
        "    \"\"\" A human readable representation board g's state in the batch of boards\"\"\"\n",
        "    board_s = \"\".join([self.square_content[square] for row in board[0][g] for square in row])\n",
        "    board_s = board_s + '_' + str(board[1][g])\n",
        "    board_s = board_s + '_' + str(board[2][g])\n",
        "    return board_s\n",
        "\n",
        "\n",
        "  def get_scores(self, board):\n",
        "    return board[1].copy()\n",
        "\n",
        "\n",
        "  def get_rounds_left(self, board):\n",
        "    return board[2].copy()\n",
        "\n",
        "\n",
        "  def display(self, board, g):\n",
        "    \"\"\"Dispalys the g-th games in the batch of boards\"\"\"\n",
        "    print(\"   \", end=\"\")\n",
        "    for y in range(self.n_cols):\n",
        "      print(y, end=\" \")\n",
        "    print(\"\")\n",
        "    print(\"-----------------------\")\n",
        "    for y in range(self.n_cols):\n",
        "      print(y, \"|\", end=\"\")    # Print the row\n",
        "      for x in range(self.n_rows):\n",
        "        piece = board[0][g][y][x]    # Get the piece to print\n",
        "        print(GridworldGame.square_content[piece], end=\" \")\n",
        "      print(\"|\")\n",
        "    print(\"-----------------------\")\n",
        "    print(\"Rounds Left: \" + str(board[2][g]))\n",
        "    print(\"Score: \" + str(board[1][g]))\n",
        "\n",
        "\n",
        "  def plot_board(self, board, g):\n",
        "    \"\"\"Uses plotting functions to make picture of the current board state\"\"\"\n",
        "    batch_size, n_rows, n_cols = board[0].shape\n",
        "    fig, ax = make_grid(n_rows, n_cols)\n",
        "    rc_critter = np.squeeze(np.array(np.where(board[0][g] == 1)))\n",
        "    plot_critter(fig, ax, rc_critter, n_rows)\n",
        "    rc_food_index = np.array(np.where(board[0][g] == -1))\n",
        "    rc_food_plotting = np.array(rc_food_index).T\n",
        "    plot_food(fig, ax, rc_food_plotting, n_rows)\n",
        "    fig.legend(loc = \"outside right upper\")\n",
        "\n",
        "\n",
        "  def get_valid_actions(self, board):\n",
        "    \"\"\"\n",
        "    A Helper function to translate the g,x,y, tuples provided the\n",
        "    GridworldBoard.get_legal_moves method into valid actions, represented\n",
        "    as binary vectors of len num_actions.\n",
        "\n",
        "    Args:\n",
        "      board: a triple of np arrays representing board state\n",
        "        pieces,       - batch_size x n_rows x n_cols\n",
        "        scores,       - batch_size\n",
        "        rounds_left   - batch_size\n",
        "\n",
        "    Returns:\n",
        "      valids: np.ndarray(binary) batch_size x num_actions, 1's represent\n",
        "              valid moves\n",
        "    \"\"\"\n",
        "    batch_size, n_rows, n_cols = board[0].shape\n",
        "    b = GridworldBoard(batch_size, n_rows, n_cols,\n",
        "                       self.num_food, self.lifetime)\n",
        "    b.set_state(board)\n",
        "    legal_moves =  b.get_legal_moves()\n",
        "    valids = np.zeros((batch_size, n_rows * n_cols))\n",
        "    for ii, g in enumerate(legal_moves[:,1:,:]):\n",
        "      for x,y in zip(g[0],g[1]):\n",
        "        valids[ii, x*self.n_cols+y] = 1\n",
        "    return valids\n",
        "\n",
        "\n",
        "  def display_moves(self, board, g):\n",
        "    \"\"\"Dispaly possible moves for the g-th games in the batch of boards\"\"\"\n",
        "    batch_size, n_rows, n_cols = board[0].shape\n",
        "    A=np.reshape(self.get_valid_actions(board)[g], (n_rows, n_cols))\n",
        "    print(\"  \")\n",
        "    print(\"possible moves\")\n",
        "    print(\"   \", end=\"\")\n",
        "    for y in range(self.n_cols):\n",
        "      print(y, end=\" \")\n",
        "    print(\"\")\n",
        "    print(\"-----------------------\")\n",
        "    for y in range(self.n_cols):\n",
        "      print(y, \"|\", end=\"\")    # Print the row\n",
        "      for x in range(self.n_rows):\n",
        "        piece = A[y][x]    # Get the piece to print\n",
        "        print(GridworldGame.square_content[piece], end=\" \")\n",
        "      print(\"|\")\n",
        "    print(\"-----------------------\")\n",
        "\n",
        "\n",
        "  def get_next_state(self, board, actions, a_indx=None):\n",
        "    \"\"\"\n",
        "    Helper function using GridworldBoard.execute_moves to update board state\n",
        "    given actions on a batch of boards\n",
        "\n",
        "    Args:\n",
        "      board: a triple of np arrays representing board state\n",
        "        pieces,       - batch_size x n_rows x n_cols\n",
        "        scores,       - batch_size\n",
        "        rounds_left   - batch_size\n",
        "      actions: list of integer indexes of critter's new board positions\n",
        "      a_indx: list of integer indexes indicating which actions are being taken\n",
        "        on which boards in the batch\n",
        "\n",
        "    Returns:\n",
        "      a board tiple signifying next state\n",
        "\n",
        "    Note:\n",
        "      if len(actions) > batch_size of board the returned board state will have\n",
        "      an expanded batch size, allowing multiple paths in the game tree to be\n",
        "      explored in parellel\n",
        "\n",
        "    \"\"\"\n",
        "    batch_size, n_rows, n_cols = board[0].shape\n",
        "    if board[2][0] <= 0:\n",
        "      # assumes all boards in the batch have the same rounds left\n",
        "      # no rounds left return the board unchanged\n",
        "      return board\n",
        "    else:\n",
        "      moves = (np.arange(len(actions)),\n",
        "               np.floor_divide(actions, n_cols),\n",
        "               np.remainder(actions, n_cols))\n",
        "      b = GridworldBoard(len(actions), n_rows, n_cols,\n",
        "                         self.num_food, self.lifetime)\n",
        "      if a_indx is None:\n",
        "        # just one move on each board in the batch\n",
        "        assert batch_size == len(actions)\n",
        "        b.set_state(board)\n",
        "      else:\n",
        "        # potentially multiple moves on each board, expand the batch\n",
        "        assert len(actions) == len(a_indx)\n",
        "        newPieces = np.array([board[0][ai].copy() for ai in a_indx])\n",
        "        newScores = np.array([board[1][ai].copy() for ai in a_indx])\n",
        "        newrounds_left = np.array([board[2][ai].copy() for ai in a_indx])\n",
        "        b.set_state((newPieces, newScores, newrounds_left))\n",
        "      b.execute_moves(moves)\n",
        "      return b.get_state()\n",
        "\n",
        "\n",
        "  def creature_oriented_action_update(self, board, offsets):\n",
        "    \"\"\"\n",
        "    Translates directions in reference to the creature's location into\n",
        "    moves on the board in absolute terms, while checking for\n",
        "    bouncing/reflecting then calls get next state\n",
        "\n",
        "    Args:\n",
        "      board: a triple of np arrays representing board state\n",
        "        pieces,       - batch_size x n_rows x n_cols\n",
        "        scores,       - batch_size\n",
        "        rounds_left   - batch_size\n",
        "      offsets: batch length list of strings one 'up', 'down', 'left', 'right'\n",
        "\n",
        "    Returns:\n",
        "      a board tiple signifying next state\n",
        "    \"\"\"\n",
        "\n",
        "  def get_game_ended(self, board):\n",
        "    \"\"\"\n",
        "    Helper function to signify if game has ended\n",
        "\n",
        "    Args:\n",
        "      board: a triple of np arrays representing board state\n",
        "        pieces,       - batch_size x n_rows x n_cols\n",
        "        scores,       - batch_size\n",
        "        rounds_left   - batch_size\n",
        "\n",
        "    Returns:\n",
        "      batch size np.array of -1 if not ended, and scores for\n",
        "      each game in the batch if it is ended\n",
        "    \"\"\"\n",
        "    rounds_left = board[2]\n",
        "    scores = board[1]\n",
        "    if np.any(rounds_left >= 1):\n",
        "      return np.ones(self.batch_size) * -1.0\n",
        "    else:\n",
        "      return scores\n",
        "\n",
        "output = widgets.Output()\n",
        "\n",
        "def plot_fig_from_scratch():\n",
        "  fig, ax = make_grid(state['n_rows'], state['n_cols'])\n",
        "  plot_food(fig, ax, state['rc_food_loc'])\n",
        "  plot_critter(fig, ax, state['rc_critter_loc'])\n",
        "\n",
        "  plt.show()\n",
        "\n",
        "up_button = widgets.Button(description=\"Up\")\n",
        "down_button = widgets.Button(description=\"Down\")\n",
        "left_button = widgets.Button(description=\"Left\")\n",
        "right_button = widgets.Button(description=\"Right\")\n",
        "random_movement = widgets.Checkbox(\n",
        "    value=False,\n",
        "    description='Move Randomly',\n",
        "    disabled=False,\n",
        "    indent=False\n",
        ")\n",
        "\n",
        "def random_click():\n",
        "  move = np.random.randint(0,4)\n",
        "  if move == 0:\n",
        "    up_button.click()\n",
        "  elif move == 1:\n",
        "    down_button.click()\n",
        "  elif move == 2:\n",
        "    left_button.click()\n",
        "  elif move == 3:\n",
        "    right_button.click()\n",
        "  else:\n",
        "    print('should not happen')\n",
        "\n",
        "\n",
        "class Timer:\n",
        "  def __init__(self, timeout, callback):\n",
        "    self._timeout = timeout\n",
        "    self._callback = callback\n",
        "  async def _job(self):\n",
        "    await asyncio.sleep(self._timeout)\n",
        "    self._callback()\n",
        "  def start(self):\n",
        "    self._task = asyncio.ensure_future(self._job())\n",
        "  def cancel(self):\n",
        "    self._task.cancel()\n",
        "\n",
        "click_timer = Timer(5.0, random_click)\n",
        "\n",
        "def button_output_update(which_button, x, y):\n",
        "  with output:\n",
        "    if random_movement.value == True:\n",
        "      if hasattr(click_timer, '__Task'):\n",
        "        click_timer.cancel()\n",
        "    output.clear_output(wait=True)\n",
        "    print(\"Moved \" + which_button + \". \" + \"Criter is now at ({}, {}).\".format(x,y))\n",
        "    print(state['eating_string'])\n",
        "    print(\"Moves: {0} \\tFood Eaten: {1} \\tFood Per Move: {2}\".format(state['num_moves'], state['num_eats'], state['num_eats'] / state['num_moves']))\n",
        "    plot_fig_from_scratch()\n",
        "    if random_movement.value == True:\n",
        "      click_timer.start()\n",
        "\n",
        "def on_up_button_clicked(b):\n",
        "  which_button = 'up'\n",
        "  x = state['rc_critter_loc'][0][0]\n",
        "  y = state['rc_critter_loc'][0][1]\n",
        "  if y >= state['n_cols']-1:\n",
        "    y = state['n_cols'] - 2\n",
        "  elif y < state['n_cols']-1:\n",
        "    y = y+1\n",
        "  update_state(x, y)\n",
        "  button_output_update(which_button, x, y)\n",
        "\n",
        "def on_down_button_clicked(b):\n",
        "  which_button = 'down'\n",
        "  x = state['rc_critter_loc'][0][0]\n",
        "  y = state['rc_critter_loc'][0][1]\n",
        "  if y > 0 :\n",
        "    y = y-1\n",
        "  elif y <= 0:\n",
        "    y = 1\n",
        "  update_state(x, y)\n",
        "  button_output_update(which_button, x, y)\n",
        "\n",
        "def on_left_button_clicked(b):\n",
        "  which_button = 'left'\n",
        "  x = state['rc_critter_loc'][0][0]\n",
        "  y = state['rc_critter_loc'][0][1]\n",
        "  if x > 0 :\n",
        "    x = x-1\n",
        "  elif x <= 0:\n",
        "    x = 1\n",
        "  update_state(x, y)\n",
        "  button_output_update(which_button, x, y)\n",
        "\n",
        "def on_right_button_clicked(b):\n",
        "  which_button = 'right'\n",
        "  x = state['rc_critter_loc'][0][0]\n",
        "  y = state['rc_critter_loc'][0][1]\n",
        "  if x >= state['n_rows']-1:\n",
        "    x = state['n_rows'] - 2\n",
        "  elif x < state['n_rows']-1:\n",
        "    x = x+1\n",
        "  update_state(x, y)\n",
        "  button_output_update(which_button, x, y)\n",
        "\n",
        "up_button.on_click(on_up_button_clicked)\n",
        "down_button.on_click(on_down_button_clicked)\n",
        "left_button.on_click(on_left_button_clicked)\n",
        "right_button.on_click(on_right_button_clicked)"
      ]
    },
    {
      "cell_type": "code",
      "source": [
        "gwg = GridworldGame(4, 7, 7, 10, 30)"
      ],
      "metadata": {
        "id": "Ivgq8v32AKfS"
      },
      "execution_count": 5,
      "outputs": []
    },
    {
      "cell_type": "code",
      "source": [
        "init_board = gwg.get_init_board()"
      ],
      "metadata": {
        "id": "wC_NbX-UARB8"
      },
      "execution_count": 6,
      "outputs": []
    },
    {
      "cell_type": "code",
      "source": [
        "init_board[0][0]"
      ],
      "metadata": {
        "id": "6g_ABX4aAZsE",
        "outputId": "6b7edad2-6c90-4e4d-8c68-ff2a586dc57a",
        "colab": {
          "base_uri": "https://localhost:8080/"
        }
      },
      "execution_count": 7,
      "outputs": [
        {
          "output_type": "execute_result",
          "data": {
            "text/plain": [
              "array([[ 0.,  0.,  0.,  0.,  0.,  0., -1.],\n",
              "       [ 0., -1.,  0.,  0.,  0.,  0., -1.],\n",
              "       [ 0., -1., -1.,  0.,  0.,  0.,  0.],\n",
              "       [ 0.,  0.,  0.,  0.,  0., -1., -1.],\n",
              "       [-1.,  1.,  0.,  0.,  0.,  0.,  0.],\n",
              "       [ 0.,  0.,  0.,  0.,  0.,  0., -1.],\n",
              "       [-1.,  0.,  0.,  0.,  0.,  0.,  0.]])"
            ]
          },
          "metadata": {},
          "execution_count": 7
        }
      ]
    },
    {
      "cell_type": "code",
      "source": [
        "gwg.display(init_board, 0)"
      ],
      "metadata": {
        "id": "Hd7T5sr0AdBk",
        "outputId": "ff31782f-7886-4a18-a41b-efe9844e7e50",
        "colab": {
          "base_uri": "https://localhost:8080/"
        }
      },
      "execution_count": 8,
      "outputs": [
        {
          "output_type": "stream",
          "name": "stdout",
          "text": [
            "   0 1 2 3 4 5 6 \n",
            "-----------------------\n",
            "0 |- - - - - - X |\n",
            "1 |- X - - - - X |\n",
            "2 |- X X - - - - |\n",
            "3 |- - - - - X X |\n",
            "4 |X O - - - - - |\n",
            "5 |- - - - - - X |\n",
            "6 |X - - - - - - |\n",
            "-----------------------\n",
            "Rounds Left: 30.0\n",
            "Score: 0.0\n"
          ]
        }
      ]
    },
    {
      "cell_type": "code",
      "source": [
        "gwg.plot_board(init_board, 0)"
      ],
      "metadata": {
        "id": "npPEC6wVAhUn",
        "outputId": "a5208667-810d-4f4e-ffcd-ba7f35ab15b7",
        "colab": {
          "base_uri": "https://localhost:8080/",
          "height": 628
        }
      },
      "execution_count": 9,
      "outputs": [
        {
          "output_type": "display_data",
          "data": {
            "text/plain": [
              "<Figure size 700x600 with 1 Axes>"
            ],
            "image/png": "[encoded data removed]"
          },
          "metadata": {
            "image/png": {
              "width": 707,
              "height": 611
            }
          }
        }
      ]
    },
    {
      "cell_type": "code",
      "execution_count": 10,
      "metadata": {
        "cellView": "form",
        "execution": {},
        "id": "8zVAobIX0gku"
      },
      "outputs": [],
      "source": [
        "# @title Other Helper Functions\n",
        "# @markdown You don't need to worry about how this code works – but you do need to **run the cell**\n",
        "\n",
        "class dotdict(dict):\n",
        "  def __getattr__(self, name):\n",
        "    return self[name]\n",
        "\n",
        "def content_review(notebook_section: str):\n",
        "  return DatatopsContentReviewContainer(\n",
        "    \"\",  # No text prompt\n",
        "    notebook_section,\n",
        "    {\n",
        "      \"url\": \"https://pmyvdlilci.execute-api.us-east-1.amazonaws.com/klab\",\n",
        "      \"name\": \"neuro_book\",\n",
        "      \"user_key\": \"xuk960xj\",\n",
        "    },\n",
        "  ).render()"
      ]
    },
    {
      "cell_type": "markdown",
      "metadata": {
        "execution": {},
        "id": "PhauEW1l0gkx"
      },
      "source": [
        "# Micro 1.1.1.1: Initializing Gridworld\n",
        "\n",
        "Before we introduce an organism with **behaviour** we're going to build an **environment** for them to behave in. To start, this world will consist of a 7 x 7 grid of cells. Let's make a picture of that and see what it looks like."
      ]
    },
    {
      "cell_type": "code",
      "execution_count": 11,
      "metadata": {
        "execution": {},
        "colab": {
          "base_uri": "https://localhost:8080/",
          "height": 237
        },
        "id": "7Lhku6R_0gkz",
        "outputId": "7849bb1a-eca1-4c78-e1cb-6a667e5d0455"
      },
      "outputs": [
        {
          "output_type": "error",
          "ename": "NotImplementedError",
          "evalue": "ignored",
          "traceback": [
            "\u001b[0;31m---------------------------------------------------------------------------\u001b[0m",
            "\u001b[0;31mNotImplementedError\u001b[0m                       Traceback (most recent call last)",
            "\u001b[0;32m<ipython-input-11-c71955344217>\u001b[0m in \u001b[0;36m<cell line: 6>\u001b[0;34m()\u001b[0m\n\u001b[1;32m      4\u001b[0m \u001b[0;31m## tool tip by hovering over the word make_grid to find out how to use it. You\u001b[0m\u001b[0;34m\u001b[0m\u001b[0;34m\u001b[0m\u001b[0m\n\u001b[1;32m      5\u001b[0m \u001b[0;31m## can also use the tool tip to view the source code. How does it work?\u001b[0m\u001b[0;34m\u001b[0m\u001b[0;34m\u001b[0m\u001b[0m\n\u001b[0;32m----> 6\u001b[0;31m \u001b[0;32mraise\u001b[0m \u001b[0mNotImplementedError\u001b[0m\u001b[0;34m(\u001b[0m\u001b[0;34m\"Student exercise: make grid using the make_grid function\"\u001b[0m\u001b[0;34m)\u001b[0m\u001b[0;34m\u001b[0m\u001b[0;34m\u001b[0m\u001b[0m\n\u001b[0m\u001b[1;32m      7\u001b[0m \u001b[0;31m############################################################################\u001b[0m\u001b[0;34m\u001b[0m\u001b[0;34m\u001b[0m\u001b[0m\n\u001b[1;32m      8\u001b[0m \u001b[0;34m\u001b[0m\u001b[0m\n",
            "\u001b[0;31mNotImplementedError\u001b[0m: Student exercise: make grid using the make_grid function"
          ]
        }
      ],
      "source": [
        "############################################################################\n",
        "## TO DO for students: replace ... with the correct arguments(inputs) is the\n",
        "## make_grid function below to a grid the right size and shape. You can use the\n",
        "## tool tip by hovering over the word make_grid to find out how to use it. You\n",
        "## can also use the tool tip to view the source code. How does it work?\n",
        "raise NotImplementedError(\"Student exercise: make grid using the make_grid function\")\n",
        "############################################################################\n",
        "\n",
        "fig, ax = make_grid(...)"
      ]
    },
    {
      "cell_type": "code",
      "execution_count": 12,
      "metadata": {
        "execution": {},
        "colab": {
          "base_uri": "https://localhost:8080/",
          "height": 628
        },
        "id": "uUZ055zF0gk0",
        "outputId": "f9b441b7-d10d-4b5e-dc68-dd085e136a2e"
      },
      "outputs": [
        {
          "output_type": "display_data",
          "data": {
            "text/plain": [
              "<Figure size 700x600 with 1 Axes>"
            ],
            "image/png": "[encoded data removed]"
          },
          "metadata": {
            "image/png": {
              "width": 711,
              "height": 611
            }
          }
        }
      ],
      "source": [
        "# to_remove solution\n",
        "\n",
        "with plt.xkcd():\n",
        "  fig, ax = make_grid(7, 7)"
      ]
    },
    {
      "cell_type": "markdown",
      "metadata": {
        "execution": {},
        "id": "b_xwKLM70gk1"
      },
      "source": [
        "*Bonus*: Tweak the make_grid function in the Plotting Functions cell above to make the grid lines green."
      ]
    },
    {
      "cell_type": "markdown",
      "metadata": {
        "execution": {},
        "id": "MH9osrWj0gk3"
      },
      "source": [
        "Wow, what a boring environment. Let's add an organism and something for that organism to interact with. We'll start with 10 food items scattered randomly throughout the grid, never more than one food item per cell. To plot these food items we need their locations. We will set these by randomly sampling grid coordinates [without replacement](## \"never picking the same (row,col) coordinate pair twice\"). We'll place the organism in the same way and not on a food item to start."
      ]
    },
    {
      "cell_type": "code",
      "execution_count": 13,
      "metadata": {
        "execution": {},
        "colab": {
          "base_uri": "https://localhost:8080/",
          "height": 237
        },
        "id": "3LVbIaIO0gk4",
        "outputId": "fae78a27-bec2-4671-9605-4244d39fea86"
      },
      "outputs": [
        {
          "output_type": "error",
          "ename": "NotImplementedError",
          "evalue": "ignored",
          "traceback": [
            "\u001b[0;31m---------------------------------------------------------------------------\u001b[0m",
            "\u001b[0;31mNotImplementedError\u001b[0m                       Traceback (most recent call last)",
            "\u001b[0;32m<ipython-input-13-16f440e70e84>\u001b[0m in \u001b[0;36m<cell line: 5>\u001b[0;34m()\u001b[0m\n\u001b[1;32m      3\u001b[0m \u001b[0;31m# food item locations, in coordinates that make sense for our grid environment\u001b[0m\u001b[0;34m\u001b[0m\u001b[0;34m\u001b[0m\u001b[0m\n\u001b[1;32m      4\u001b[0m \u001b[0;31m# then comment out or remove the next line.\u001b[0m\u001b[0;34m\u001b[0m\u001b[0;34m\u001b[0m\u001b[0m\n\u001b[0;32m----> 5\u001b[0;31m \u001b[0;32mraise\u001b[0m \u001b[0mNotImplementedError\u001b[0m\u001b[0;34m(\u001b[0m\u001b[0;34m\"Exercise: initialize food and critter locations\"\u001b[0m\u001b[0;34m)\u001b[0m\u001b[0;34m\u001b[0m\u001b[0;34m\u001b[0m\u001b[0m\n\u001b[0m\u001b[1;32m      6\u001b[0m \u001b[0;31m################################################################################\u001b[0m\u001b[0;34m\u001b[0m\u001b[0;34m\u001b[0m\u001b[0m\n\u001b[1;32m      7\u001b[0m \u001b[0;32mdef\u001b[0m \u001b[0minit_loc\u001b[0m\u001b[0;34m(\u001b[0m\u001b[0mn_rows\u001b[0m\u001b[0;34m,\u001b[0m \u001b[0mn_cols\u001b[0m\u001b[0;34m,\u001b[0m \u001b[0mnum\u001b[0m\u001b[0;34m)\u001b[0m\u001b[0;34m:\u001b[0m\u001b[0;34m\u001b[0m\u001b[0;34m\u001b[0m\u001b[0m\n",
            "\u001b[0;31mNotImplementedError\u001b[0m: Exercise: initialize food and critter locations"
          ]
        }
      ],
      "source": [
        "################################################################################\n",
        "# TODO for students: replace ... in init_loc(...) to initialize the right number of\n",
        "# food item locations, in coordinates that make sense for our grid environment\n",
        "# then comment out or remove the next line.\n",
        "raise NotImplementedError(\"Exercise: initialize food and critter locations\")\n",
        "################################################################################\n",
        "def init_loc(n_rows, n_cols, num):\n",
        "  \"\"\"\n",
        "  Samples random 2d grid locations, without replacement,\n",
        "\n",
        "  Returns:\n",
        "    int_loc: ndarray(int) of flat indices for a grid\n",
        "    rc_index: (ndarray(int), ndarray(int)) a pair of arrays the first\n",
        "      giving the row indices, the second giving the col indices, useful\n",
        "      for indexing an n_rows by n_cols numpy array\n",
        "    rc_plotting: ndarray(int) num x 2, same rc coordinates but structured\n",
        "      in the way that matplotlib likes\n",
        "  \"\"\"\n",
        "  int_loc = np.random.choice(n_rows * n_cols, num, replace=False)\n",
        "  rc_index = np.unravel_index(int_loc, (n_rows, n_cols))\n",
        "  rc_plotting = np.fliplr(np.array(rc_index).T)\n",
        "  return int_loc, rc_index, rc_plotting\n",
        "\n",
        "fig, ax = make_grid(7, 7)\n",
        "int_locs, rc_index, rc_plotting = init_loc(...)\n",
        "\n",
        "rc_critter_loc = rc_plotting[0]\n",
        "plot_critter(fig, ax, rc_critter_loc, 7)\n",
        "\n",
        "rc_food_loc = rc_plotting[...]\n",
        "plot_food(fig, ax, rc_food_loc, 7)\n",
        "\n",
        "fig.legend(loc='outside right upper')"
      ]
    },
    {
      "cell_type": "code",
      "execution_count": 14,
      "metadata": {
        "execution": {},
        "colab": {
          "base_uri": "https://localhost:8080/",
          "height": 628
        },
        "id": "oeL8iE2Y0gk5",
        "outputId": "f02bf810-5750-4a73-e5d5-14962e749ba6"
      },
      "outputs": [
        {
          "output_type": "display_data",
          "data": {
            "text/plain": [
              "<Figure size 700x600 with 1 Axes>"
            ],
            "image/png": "[encoded data removed]"
          },
          "metadata": {
            "image/png": {
              "width": 707,
              "height": 611
            }
          }
        }
      ],
      "source": [
        "#to_remove solution\n",
        "def init_loc(n_rows, n_cols, num):\n",
        "  \"\"\"\n",
        "  Samples random 2d grid locations, without replacement,\n",
        "\n",
        "  Returns:\n",
        "    int_loc: ndarray(int) of flat indices for a grid\n",
        "    rc_index: (ndarray(int), ndarray(int)) a pair of arrays the first\n",
        "      giving the row indices, the second giving the col indices, useful\n",
        "      for indexing an n_rows by n_cols numpy array\n",
        "    rc_plotting: ndarray(int) num x 2, same rc coordinates but structured\n",
        "      in the way that matplotlib likes\n",
        "  \"\"\"\n",
        "  int_loc = np.random.choice(n_rows * n_cols, num, replace=False)\n",
        "  rc_index = np.unravel_index(int_loc, (n_rows, n_cols))\n",
        "  rc_plotting = np.array(rc_index).T\n",
        "  return int_loc, rc_index, rc_plotting\n",
        "\n",
        "with plt.xkcd():\n",
        "  fig, ax = make_grid(7, 7)\n",
        "  int_locs, rc_index, rc_plotting = init_loc(7, 7, 11)\n",
        "\n",
        "  rc_critter = (rc_plotting[0])\n",
        "  plot_critter(fig, ax, rc_critter, 7)\n",
        "\n",
        "  rc_food = rc_plotting[1:]\n",
        "  plot_food(fig, ax, rc_food, 7)\n",
        "\n",
        "  fig.legend(loc='outside right upper')"
      ]
    },
    {
      "cell_type": "code",
      "execution_count": 15,
      "metadata": {
        "cellView": "form",
        "execution": {},
        "colab": {
          "base_uri": "https://localhost:8080/",
          "height": 81,
          "referenced_widgets": [
            "dfd0b21cdbf442edb2f69d76da2fba4a",
            "58fd2f320e884d6f93edfd08e50ca814",
            "16beb26af73c452ebe0825d3307ca00c",
            "a86b037c2c9147daa8599b3e2983ee02",
            "b5456ecdb8d64664a2b401eb0610a699",
            "cfecaa0cb85a4008891f45009548abf7",
            "7e5077fc9dea47cf8e5f82e83d4a6d11",
            "9fc830d8cdb7420eb425f24b5e6ddbe8",
            "62065c0e516d4787b95391fbaa13f5a1",
            "b3b77c27fc6c47519572f3867fac8457",
            "212ce5b59d6a44fdadbbe09e2790fde1",
            "fe02e091836f43758e638768639f4794",
            "8f2a5d94fa5845249c0f431a088e64db",
            "5842e1bbbad641bb8870d06959da49bf",
            "c743005126d3481bb4546b7499ffd8db",
            "de1dae838ba44e268d6699619623789a",
            "28c2919d01d74a6abfd3f87e83b111fc",
            "7dbc2498dee1486a9df8a9c0677e3589",
            "5c0226225a71419d8023499552e022d9",
            "80ca1921897a42bcb0871ef5997e0572",
            "822466b321ba4a66a1745a4f74ee41c4",
            "52f18265a0434d75976d78280e088458",
            "72900e139ed64befa21d13fa64baae30",
            "36668bb4206144b992966274a71fc248",
            "e42b3eb8278448c089435fc7fcf53da1",
            "ecbb182bd6e24325aea21aa3f04bdb30",
            "c54f3264bb164a669286aaa1accd4618"
          ]
        },
        "id": "WaFgAcDd0gk6",
        "outputId": "e5f1e927-685e-4cde-efe1-63a34801ba93"
      },
      "outputs": [
        {
          "output_type": "display_data",
          "data": {
            "text/plain": [
              "VBox(children=(Label(value=''), HBox(children=(Button(description='🙂', layout=Layout(height='auto', width='aut…"
            ],
            "application/vnd.jupyter.widget-view+json": {
              "version_major": 2,
              "version_minor": 0,
              "model_id": "dfd0b21cdbf442edb2f69d76da2fba4a"
            }
          },
          "metadata": {}
        }
      ],
      "source": [
        "# @markdown Vibe Check\n",
        "content_review(\"Sequence 1.1.1 Micro 1\")"
      ]
    },
    {
      "cell_type": "markdown",
      "metadata": {
        "execution": {},
        "id": "nHpKtdRW0gk6"
      },
      "source": [
        "---\n",
        "# Micro 1.1.1.2: Random Eating"
      ]
    },
    {
      "cell_type": "markdown",
      "metadata": {
        "execution": {},
        "id": "2AoXixtC0gk7"
      },
      "source": [
        "Now that we have an environment scattered with food and an organism, let's introduce some behaviour. The organism drifts around the environment randomly and eats the food it happens to stumble upon. (Can you think of any organisms that employ this strategy?). When food is eaten, the organism gets a **reward**, in this case a *Food Eaten* point, and a new food item appears randomly somewhere else in the environment (that doesn't already have food). Run the code cell below to see what this looks like."
      ]
    },
    {
      "cell_type": "code",
      "execution_count": 16,
      "metadata": {
        "execution": {},
        "tags": [],
        "colab": {
          "base_uri": "https://localhost:8080/",
          "height": 237,
          "referenced_widgets": [
            "9dbd0e36b23d45449b897b32fe9eabd9",
            "3629cebb48f248588ac7aa6f0e360eb6"
          ]
        },
        "id": "mZ3meM7p0gk8",
        "outputId": "aeda4843-83bc-44c3-9432-b3b2a5f93a8f"
      },
      "outputs": [
        {
          "output_type": "display_data",
          "data": {
            "text/plain": [
              "Output()"
            ],
            "application/vnd.jupyter.widget-view+json": {
              "version_major": 2,
              "version_minor": 0,
              "model_id": "9dbd0e36b23d45449b897b32fe9eabd9"
            }
          },
          "metadata": {}
        },
        {
          "output_type": "error",
          "ename": "NameError",
          "evalue": "ignored",
          "traceback": [
            "\u001b[0;31m---------------------------------------------------------------------------\u001b[0m",
            "\u001b[0;31mNameError\u001b[0m                                 Traceback (most recent call last)",
            "\u001b[0;32m<ipython-input-16-3d3fc07b91cc>\u001b[0m in \u001b[0;36m<cell line: 6>\u001b[0;34m()\u001b[0m\n\u001b[1;32m      4\u001b[0m \u001b[0;34m\u001b[0m\u001b[0m\n\u001b[1;32m      5\u001b[0m \u001b[0;31m# 20 random button presses, one every ~3 seconds\u001b[0m\u001b[0;34m\u001b[0m\u001b[0;34m\u001b[0m\u001b[0m\n\u001b[0;32m----> 6\u001b[0;31m \u001b[0mstate\u001b[0m \u001b[0;34m=\u001b[0m \u001b[0minit_state\u001b[0m\u001b[0;34m(\u001b[0m\u001b[0mn_rows\u001b[0m\u001b[0;34m=\u001b[0m\u001b[0;36m7\u001b[0m\u001b[0;34m,\u001b[0m \u001b[0mn_cols\u001b[0m\u001b[0;34m=\u001b[0m\u001b[0;36m7\u001b[0m\u001b[0;34m,\u001b[0m \u001b[0mnum_food\u001b[0m\u001b[0;34m=\u001b[0m\u001b[0;36m10\u001b[0m\u001b[0;34m)\u001b[0m\u001b[0;34m\u001b[0m\u001b[0;34m\u001b[0m\u001b[0m\n\u001b[0m\u001b[1;32m      7\u001b[0m \u001b[0;32mfor\u001b[0m \u001b[0mii\u001b[0m \u001b[0;32min\u001b[0m \u001b[0mrange\u001b[0m\u001b[0;34m(\u001b[0m\u001b[0;36m30\u001b[0m\u001b[0;34m)\u001b[0m\u001b[0;34m:\u001b[0m\u001b[0;34m\u001b[0m\u001b[0;34m\u001b[0m\u001b[0m\n\u001b[1;32m      8\u001b[0m   \u001b[0mrandom_click\u001b[0m\u001b[0;34m(\u001b[0m\u001b[0;34m)\u001b[0m\u001b[0;34m\u001b[0m\u001b[0;34m\u001b[0m\u001b[0m\n",
            "\u001b[0;31mNameError\u001b[0m: name 'init_state' is not defined"
          ]
        }
      ],
      "source": [
        "# @title Random Movement\n",
        "# @markdown You don't need to worry about how this code works, yet – just **run the cell** for now and watch what happens\n",
        "display(output)\n",
        "\n",
        "# 20 random button presses, one every ~3 seconds\n",
        "state = init_state(n_rows=7, n_cols=7, num_food=10)\n",
        "for ii in range(30):\n",
        "  random_click()\n",
        "  time.sleep(0.1)"
      ]
    },
    {
      "cell_type": "markdown",
      "metadata": {
        "execution": {},
        "id": "SmKx-q8i0gk9"
      },
      "source": [
        "*Question:* When the organism is just drifting around randomly how good is it at eating lots of food, what is its efficiency in terms of food per movement? Now run the cell above a few more times. Does the organism always eat the same amount of food or does it change between simulation runs?"
      ]
    },
    {
      "cell_type": "code",
      "execution_count": null,
      "metadata": {
        "execution": {},
        "id": "Foz9O5AF0gk-"
      },
      "outputs": [],
      "source": [
        "# to_remove explanation\n",
        "\n",
        "\"\"\"\n",
        "The amount of food eaten varies a lot from simulation run to simulation run,\n",
        "usually it manages to eat one or two pieces of food, sometimes more sometimes less.\n",
        "\"\"\""
      ]
    },
    {
      "cell_type": "markdown",
      "metadata": {
        "execution": {},
        "id": "UdUUFIi10gk-"
      },
      "source": [
        "Before we move on it's important to test that our simulation is running as we expect. Randomness can make testing hard, but can overcome in part by setting up the environment in such a way that the outcome becomes deterministic. In the two cells bellow change how the the Gridworld is initialized. By alterning the size, shape and number of food items available create a scenario where the organism will always achieve perfect efficnency and a scenario where the organism will fail completely."
      ]
    },
    {
      "cell_type": "code",
      "execution_count": null,
      "metadata": {
        "execution": {},
        "id": "_zCaaPyh0gk-"
      },
      "outputs": [],
      "source": [
        "###############################################################################\n",
        "# TODO for students: replace ... in init_state(...) to initialize a grid world\n",
        "# where the organism is always 100% efficient.\n",
        "raise NotImplementedError(\"Exercise: make random movement 100% efficient\")\n",
        "################################################################################\n",
        "\n",
        "display(output)\n",
        "\n",
        "# 20 random moves, one every ~0.1 seconds\n",
        "state = init_state(...)\n",
        "for ii in range(30):\n",
        "  random_click()\n",
        "  time.sleep(0.1)"
      ]
    },
    {
      "cell_type": "code",
      "execution_count": null,
      "metadata": {
        "execution": {},
        "tags": [],
        "id": "nYZGzcES0gk_"
      },
      "outputs": [],
      "source": [
        "#to_remove solution\n",
        "\n",
        "display(output)\n",
        "\n",
        "# 20 random moves, one every ~0.1 seconds\n",
        "state = init_state(n_rows=3, n_cols=2, num_food=5)\n",
        "for ii in range(30):\n",
        "  random_click()\n",
        "  time.sleep(0.1)"
      ]
    },
    {
      "cell_type": "code",
      "execution_count": null,
      "metadata": {
        "execution": {},
        "id": "Zevl3iOn0glB"
      },
      "outputs": [],
      "source": [
        "###############################################################################\n",
        "# TODO for students: replace ... in init_state(...) to initialize a grid world\n",
        "# where the organism is always 0% efficient.\n",
        "raise NotImplementedError(\"Exercise: make random movement 0% efficient\")\n",
        "################################################################################\n",
        "\n",
        "display(output)\n",
        "\n",
        "# 20 random button presses, one every ~0.1 seconds\n",
        "state = init_state(...)\n",
        "for ii in range(30):\n",
        "  random_click()\n",
        "  time.sleep(0.1)"
      ]
    },
    {
      "cell_type": "code",
      "execution_count": null,
      "metadata": {
        "execution": {},
        "tags": [],
        "id": "OxuJRiVk0glC"
      },
      "outputs": [],
      "source": [
        "#to_remove solution\n",
        "\n",
        "display(output)\n",
        "\n",
        "# 20 random button presses, one every ~0.1 seconds\n",
        "state = init_state(n_rows=7, n_cols=7, num_food=0)\n",
        "for ii in range(30):\n",
        "  random_click()\n",
        "  time.sleep(0.1)"
      ]
    },
    {
      "cell_type": "code",
      "execution_count": null,
      "metadata": {
        "cellView": "form",
        "execution": {},
        "id": "mZfpieSC0glD"
      },
      "outputs": [],
      "source": [
        "# @markdown Vibe Check\n",
        "content_review(\"Sequence 1.1.1 Micro 2\")"
      ]
    },
    {
      "cell_type": "markdown",
      "metadata": {
        "execution": {},
        "id": "C1I1zdN00glD"
      },
      "source": [
        "---\n",
        "# Micro 1.1.1.3: Better Than Random Eating\n",
        "Now it's your turn to control the organism. Run the next cell and see how much more efficient than random drifting your control of the organism is in terms of food per movement."
      ]
    },
    {
      "cell_type": "code",
      "execution_count": null,
      "metadata": {
        "cellView": "form",
        "execution": {},
        "tags": [],
        "id": "c8DN43UZ0glD"
      },
      "outputs": [],
      "source": [
        "# @title Controlled Movement\n",
        "# @markdown You don't need to worry about how this code works – just **run the cell** and then use the buttons to guide the organism\n",
        "\n",
        "# user in control\n",
        "state = init_state(n_rows=7, n_cols=7, num_food=10)\n",
        "with output:\n",
        "  output.clear_output(wait=True)\n",
        "  print('Press a button')\n",
        "  plot_fig_from_scratch()\n",
        "display(widgets.HBox([left_button, widgets.VBox([up_button, down_button]), right_button]), output)"
      ]
    },
    {
      "cell_type": "markdown",
      "metadata": {
        "execution": {},
        "id": "8775ghdb0glE"
      },
      "source": [
        "Hopefully your performance was more successful than random flailing. Even in this relatively simple and contrived foraging scenario intelligence can help a lot. What kinds of strategies and heuristics did you use to guide your choice of direction? Essentially, the fundamental purpose of a nervous system and a brain is to solve problems of this kind—deciding which actions to take based on environmental inputs to maximize rewards."
      ]
    },
    {
      "cell_type": "code",
      "execution_count": null,
      "metadata": {
        "cellView": "form",
        "execution": {},
        "id": "0EnS0bN-0glE"
      },
      "outputs": [],
      "source": [
        "# @markdown Vibe Check\n",
        "content_review(\"Sequence 1.1.1 Micro 3\")"
      ]
    },
    {
      "cell_type": "markdown",
      "metadata": {
        "execution": {},
        "id": "RWZ3OAjZ0glF"
      },
      "source": [
        "---\n",
        "# Micro 1.1.1.4: Optimal Eating\n",
        "Finally we'd like to introduce a time traveling super organism, GW7x7-10-30, from the last chapter of this book. GW7x7-10-30 has absolutely mastered 7x7 Gridworld, with 10 food items and a 30 round duration. Run the next cell and see how efficient a highly optimized and specialized Gridworld organism can be. Are you as good as gw7x7-10-30? If not, you gotta read this book 😉 (If you can't beat the AIs, at least learn how to program them.)"
      ]
    },
    {
      "cell_type": "markdown",
      "metadata": {
        "execution": {},
        "id": "gJAY18u40glG"
      },
      "source": [
        "(Last chapter not made yet so working on a minimal sketch/skeleton version to produce this agent)"
      ]
    },
    {
      "cell_type": "code",
      "execution_count": null,
      "metadata": {
        "cellView": "form",
        "execution": {},
        "id": "TVCx5Vy-0glG"
      },
      "outputs": [],
      "source": [
        "# @title Optimal Movement\n",
        "# @markdown You don't need to worry about how this code works – just **run the cell** to watch the super organism behave. See if you can outperform them.\n",
        "\n",
        "# master organism in control"
      ]
    },
    {
      "cell_type": "code",
      "execution_count": null,
      "metadata": {
        "cellView": "form",
        "execution": {},
        "id": "ksuLXPBl0glH"
      },
      "outputs": [],
      "source": [
        "# @markdown Vibe Check\n",
        "content_review(\"Sequence 1.1.1 Micro 4\")"
      ]
    },
    {
      "cell_type": "markdown",
      "metadata": {
        "execution": {},
        "id": "undCdl9Z0glH"
      },
      "source": [
        "---\n",
        "# Graveyard\n"
      ]
    },
    {
      "cell_type": "markdown",
      "metadata": {
        "execution": {},
        "id": "LJQOB9ji0glI"
      },
      "source": [
        "Useful scavenging from github and SO"
      ]
    },
    {
      "cell_type": "code",
      "execution_count": null,
      "metadata": {
        "execution": {},
        "id": "mhnIfi-r0glJ"
      },
      "outputs": [],
      "source": [
        "out = widgets.Output(layout=widgets.Layout(height='300px'))\n",
        "\n",
        "x = np.linspace(0,1,100)\n",
        "\n",
        "def update_plot(w):\n",
        "    with out:\n",
        "        # Without clear_output(), figures get appended below each other inside\n",
        "        # the output widget\n",
        "        # Ah ha! Got it! I need wait=True!\n",
        "        out.clear_output(wait=True)\n",
        "        plt.plot(x, x**p_widget.value)\n",
        "        plt.show()\n",
        "\n",
        "p_widget = widgets.FloatSlider(min=0, max=2, step=0.1, value = 1)\n",
        "update_plot([])\n",
        "p_widget.observe(update_plot)\n",
        "display(p_widget, out)"
      ]
    },
    {
      "cell_type": "code",
      "execution_count": null,
      "metadata": {
        "execution": {},
        "id": "NXU9Iptk0glJ"
      },
      "outputs": [],
      "source": [
        "import ipywidgets as widgets\n",
        "\n",
        "x = 0\n",
        "y = {\"x\": 0}\n",
        "b = widgets.Button(description=\"Do it\")\n",
        "\n",
        "def doit(obj):\n",
        "    print(x, y)\n",
        "    # x += 1 # uncommenting makes the above print fail\n",
        "    y[\"x\"] += 1 # this is ok\n",
        "\n",
        "b.on_click(doit)\n",
        "display(b)"
      ]
    },
    {
      "cell_type": "code",
      "execution_count": null,
      "metadata": {
        "execution": {},
        "tags": [],
        "id": "UqZm5lae0glK"
      },
      "outputs": [],
      "source": [
        "# how to get figures to work in this context nicely???\n",
        "a = widgets.FloatSlider(description='a', min=0, max=10)\n",
        "b = widgets.FloatSlider(description='b', min=0, max=10)\n",
        "c = widgets.FloatSlider(description='c', min=0, max=10)\n",
        "\n",
        "def f(a, b, c):\n",
        "    print('{}*{}*{}={}'.format(a, b, c, a*b*c))\n",
        "\n",
        "out = widgets.interactive_output(f, {'a': a, 'b': b, 'c': c})\n",
        "\n",
        "widgets.HBox([widgets.VBox([a, b, c]), out])"
      ]
    },
    {
      "cell_type": "code",
      "execution_count": null,
      "metadata": {
        "execution": {},
        "id": "p7qXSBtT0glL"
      },
      "outputs": [],
      "source": [
        "from matplotlib import animation, rc, patches\n",
        "from IPython.display import HTML"
      ]
    },
    {
      "cell_type": "code",
      "execution_count": null,
      "metadata": {
        "execution": {},
        "id": "gLAsY9Eu0glL"
      },
      "outputs": [],
      "source": [
        "# First set up the figure, the axis, and the plot element we want to animate\n",
        "fig, ax = plt.subplots()\n",
        "\n",
        "ax.set_xticks(np.arange(0, 11, 1))\n",
        "ax.set_yticks(np.arange(0, 11, 1))\n",
        "\n",
        "# Labels for major ticks\n",
        "ax.set_xticklabels(np.arange(0, 11, 1))\n",
        "ax.set_yticklabels(np.arange(0, 11, 1))\n",
        "\n",
        "# Minor ticks\n",
        "ax.set_xticks(np.arange(1.5, 10.5, 1), minor=True)\n",
        "ax.set_yticks(np.arange(1.5, 10.5, 1), minor=True)\n",
        "\n",
        "# Gridlines based on minor ticks\n",
        "ax.grid(which='minor', color='grey', linestyle='-', linewidth=2, alpha=0.5)\n",
        "\n",
        "# Remove minor ticks\n",
        "ax.tick_params(which='minor', bottom=False, left=False)\n",
        "\n",
        "ax.set_xlim(( 0.5, 10.5))\n",
        "ax.set_ylim(( 0.5, 10.5))\n",
        "\n",
        "#ax.axis(\"equal\")\n",
        "scatter = ax.scatter([], [])\n",
        "#critterCircle = plt.Circle((5,5), 0.4)\n",
        "#dot = ax.add_patch(critterCircle)\n",
        "#scatter.set_offsets([[5, 5]])\n",
        "\n",
        "scatter.set_offsets([[3, 11-3]])\n",
        "#fig.canvas.draw()\n",
        "#fig.canvas.flush_events()"
      ]
    },
    {
      "cell_type": "code",
      "execution_count": null,
      "metadata": {
        "execution": {},
        "id": "_viWkpYC0glM"
      },
      "outputs": [],
      "source": [
        "def init():\n",
        "    scatter.set_offsets([[5, 5]])\n",
        "    return scatter,"
      ]
    },
    {
      "cell_type": "code",
      "execution_count": null,
      "metadata": {
        "execution": {},
        "id": "bG7ZifLj0glM"
      },
      "outputs": [],
      "source": [
        "def animate_dot(i):\n",
        "    print(i)\n",
        "    x = i\n",
        "    y = 11-i\n",
        "    scatter.set_offsets([[x, y]])\n",
        "    return scatter,"
      ]
    },
    {
      "cell_type": "code",
      "execution_count": null,
      "metadata": {
        "execution": {},
        "id": "tv-cuLC90glN"
      },
      "outputs": [],
      "source": [
        "# call the animator. blit=True means only re-draw the parts that have changed.\n",
        "anim = animation.FuncAnimation(fig, animate_dot, init_func=init,\n",
        "                               frames=(np.arange(10)+1), interval=500, blit=True)"
      ]
    },
    {
      "cell_type": "code",
      "execution_count": null,
      "metadata": {
        "execution": {},
        "tags": [],
        "id": "Z5V7h9iq0glN"
      },
      "outputs": [],
      "source": [
        "HTML(anim.to_html5_video())"
      ]
    },
    {
      "cell_type": "code",
      "execution_count": null,
      "metadata": {
        "execution": {},
        "id": "jP6Axnkb0glO"
      },
      "outputs": [],
      "source": [
        "rc('animation', html='html5')"
      ]
    },
    {
      "cell_type": "code",
      "execution_count": null,
      "metadata": {
        "execution": {},
        "id": "GsaJZbxt0glO"
      },
      "outputs": [],
      "source": [
        "anim"
      ]
    },
    {
      "cell_type": "markdown",
      "metadata": {
        "execution": {},
        "id": "xcbm2CPs0glP"
      },
      "source": [
        "These movies are really pretty compared drawing everything from scratch, each time, need to figure out some way to combine the two eventually, but will keep prototyping in janky mode for now."
      ]
    }
  ],
  "metadata": {
    "colab": {
      "name": "P1C1_Sequence1",
      "provenance": [],
      "include_colab_link": true
    },
    "kernel": {
      "display_name": "Python 3",
      "language": "python",
      "name": "python3"
    },
    "kernelspec": {
      "display_name": "Python 3 (ipykernel)",
      "name": "python3"
    },
    "language_info": {
      "codemirror_mode": {
        "name": "ipython",
        "version": 3
      },
      "file_extension": ".py",
      "mimetype": "text/x-python",
      "name": "python",
      "nbconvert_exporter": "python",
      "pygments_lexer": "ipython3",
      "version": "3.9.16"
    },
    "widgets": {
      "application/vnd.jupyter.widget-state+json": {
        "dfd0b21cdbf442edb2f69d76da2fba4a": {
          "model_module": "@jupyter-widgets/controls",
          "model_name": "VBoxModel",
          "model_module_version": "1.5.0",
          "state": {
            "_dom_classes": [],
            "_model_module": "@jupyter-widgets/controls",
            "_model_module_version": "1.5.0",
            "_model_name": "VBoxModel",
            "_view_count": null,
            "_view_module": "@jupyter-widgets/controls",
            "_view_module_version": "1.5.0",
            "_view_name": "VBoxView",
            "box_style": "",
            "children": [
              "IPY_MODEL_58fd2f320e884d6f93edfd08e50ca814",
              "IPY_MODEL_16beb26af73c452ebe0825d3307ca00c",
              "IPY_MODEL_a86b037c2c9147daa8599b3e2983ee02",
              "IPY_MODEL_b5456ecdb8d64664a2b401eb0610a699"
            ],
            "layout": "IPY_MODEL_cfecaa0cb85a4008891f45009548abf7"
          }
        },
        "58fd2f320e884d6f93edfd08e50ca814": {
          "model_module": "@jupyter-widgets/controls",
          "model_name": "LabelModel",
          "model_module_version": "1.5.0",
          "state": {
            "_dom_classes": [],
            "_model_module": "@jupyter-widgets/controls",
            "_model_module_version": "1.5.0",
            "_model_name": "LabelModel",
            "_view_count": null,
            "_view_module": "@jupyter-widgets/controls",
            "_view_module_version": "1.5.0",
            "_view_name": "LabelView",
            "description": "",
            "description_tooltip": null,
            "layout": "IPY_MODEL_7e5077fc9dea47cf8e5f82e83d4a6d11",
            "placeholder": "​",
            "style": "IPY_MODEL_9fc830d8cdb7420eb425f24b5e6ddbe8",
            "value": ""
          }
        },
        "16beb26af73c452ebe0825d3307ca00c": {
          "model_module": "@jupyter-widgets/controls",
          "model_name": "HBoxModel",
          "model_module_version": "1.5.0",
          "state": {
            "_dom_classes": [],
            "_model_module": "@jupyter-widgets/controls",
            "_model_module_version": "1.5.0",
            "_model_name": "HBoxModel",
            "_view_count": null,
            "_view_module": "@jupyter-widgets/controls",
            "_view_module_version": "1.5.0",
            "_view_name": "HBoxView",
            "box_style": "",
            "children": [
              "IPY_MODEL_62065c0e516d4787b95391fbaa13f5a1",
              "IPY_MODEL_b3b77c27fc6c47519572f3867fac8457",
              "IPY_MODEL_212ce5b59d6a44fdadbbe09e2790fde1"
            ],
            "layout": "IPY_MODEL_fe02e091836f43758e638768639f4794"
          }
        },
        "a86b037c2c9147daa8599b3e2983ee02": {
          "model_module": "@jupyter-widgets/controls",
          "model_name": "HBoxModel",
          "model_module_version": "1.5.0",
          "state": {
            "_dom_classes": [],
            "_model_module": "@jupyter-widgets/controls",
            "_model_module_version": "1.5.0",
            "_model_name": "HBoxModel",
            "_view_count": null,
            "_view_module": "@jupyter-widgets/controls",
            "_view_module_version": "1.5.0",
            "_view_name": "HBoxView",
            "box_style": "",
            "children": [
              "IPY_MODEL_8f2a5d94fa5845249c0f431a088e64db",
              "IPY_MODEL_5842e1bbbad641bb8870d06959da49bf"
            ],
            "layout": "IPY_MODEL_c743005126d3481bb4546b7499ffd8db"
          }
        },
        "b5456ecdb8d64664a2b401eb0610a699": {
          "model_module": "@jupyter-widgets/controls",
          "model_name": "LabelModel",
          "model_module_version": "1.5.0",
          "state": {
            "_dom_classes": [],
            "_model_module": "@jupyter-widgets/controls",
            "_model_module_version": "1.5.0",
            "_model_name": "LabelModel",
            "_view_count": null,
            "_view_module": "@jupyter-widgets/controls",
            "_view_module_version": "1.5.0",
            "_view_name": "LabelView",
            "description": "",
            "description_tooltip": null,
            "layout": "IPY_MODEL_de1dae838ba44e268d6699619623789a",
            "placeholder": "​",
            "style": "IPY_MODEL_28c2919d01d74a6abfd3f87e83b111fc",
            "value": "Thanks for your feedback!"
          }
        },
        "cfecaa0cb85a4008891f45009548abf7": {
          "model_module": "@jupyter-widgets/base",
          "model_name": "LayoutModel",
          "model_module_version": "1.2.0",
          "state": {
            "_model_module": "@jupyter-widgets/base",
            "_model_module_version": "1.2.0",
            "_model_name": "LayoutModel",
            "_view_count": null,
            "_view_module": "@jupyter-widgets/base",
            "_view_module_version": "1.2.0",
            "_view_name": "LayoutView",
            "align_content": null,
            "align_items": null,
            "align_self": null,
            "border": null,
            "bottom": null,
            "display": null,
            "flex": null,
            "flex_flow": null,
            "grid_area": null,
            "grid_auto_columns": null,
            "grid_auto_flow": null,
            "grid_auto_rows": null,
            "grid_column": null,
            "grid_gap": null,
            "grid_row": null,
            "grid_template_areas": null,
            "grid_template_columns": null,
            "grid_template_rows": null,
            "height": null,
            "justify_content": null,
            "justify_items": null,
            "left": null,
            "margin": null,
            "max_height": null,
            "max_width": null,
            "min_height": null,
            "min_width": null,
            "object_fit": null,
            "object_position": null,
            "order": null,
            "overflow": null,
            "overflow_x": null,
            "overflow_y": null,
            "padding": null,
            "right": null,
            "top": null,
            "visibility": null,
            "width": null
          }
        },
        "7e5077fc9dea47cf8e5f82e83d4a6d11": {
          "model_module": "@jupyter-widgets/base",
          "model_name": "LayoutModel",
          "model_module_version": "1.2.0",
          "state": {
            "_model_module": "@jupyter-widgets/base",
            "_model_module_version": "1.2.0",
            "_model_name": "LayoutModel",
            "_view_count": null,
            "_view_module": "@jupyter-widgets/base",
            "_view_module_version": "1.2.0",
            "_view_name": "LayoutView",
            "align_content": null,
            "align_items": null,
            "align_self": null,
            "border": null,
            "bottom": null,
            "display": null,
            "flex": null,
            "flex_flow": null,
            "grid_area": null,
            "grid_auto_columns": null,
            "grid_auto_flow": null,
            "grid_auto_rows": null,
            "grid_column": null,
            "grid_gap": null,
            "grid_row": null,
            "grid_template_areas": null,
            "grid_template_columns": null,
            "grid_template_rows": null,
            "height": null,
            "justify_content": null,
            "justify_items": null,
            "left": null,
            "margin": null,
            "max_height": null,
            "max_width": null,
            "min_height": null,
            "min_width": null,
            "object_fit": null,
            "object_position": null,
            "order": null,
            "overflow": null,
            "overflow_x": null,
            "overflow_y": null,
            "padding": null,
            "right": null,
            "top": null,
            "visibility": null,
            "width": null
          }
        },
        "9fc830d8cdb7420eb425f24b5e6ddbe8": {
          "model_module": "@jupyter-widgets/controls",
          "model_name": "DescriptionStyleModel",
          "model_module_version": "1.5.0",
          "state": {
            "_model_module": "@jupyter-widgets/controls",
            "_model_module_version": "1.5.0",
            "_model_name": "DescriptionStyleModel",
            "_view_count": null,
            "_view_module": "@jupyter-widgets/base",
            "_view_module_version": "1.2.0",
            "_view_name": "StyleView",
            "description_width": ""
          }
        },
        "62065c0e516d4787b95391fbaa13f5a1": {
          "model_module": "@jupyter-widgets/controls",
          "model_name": "ButtonModel",
          "model_module_version": "1.5.0",
          "state": {
            "_dom_classes": [
              "happy"
            ],
            "_model_module": "@jupyter-widgets/controls",
            "_model_module_version": "1.5.0",
            "_model_name": "ButtonModel",
            "_view_count": null,
            "_view_module": "@jupyter-widgets/controls",
            "_view_module_version": "1.5.0",
            "_view_name": "ButtonView",
            "button_style": "",
            "description": "🙂",
            "disabled": false,
            "icon": "",
            "layout": "IPY_MODEL_7dbc2498dee1486a9df8a9c0677e3589",
            "style": "IPY_MODEL_5c0226225a71419d8023499552e022d9",
            "tooltip": "Happy"
          }
        },
        "b3b77c27fc6c47519572f3867fac8457": {
          "model_module": "@jupyter-widgets/controls",
          "model_name": "ButtonModel",
          "model_module_version": "1.5.0",
          "state": {
            "_dom_classes": [
              "medium"
            ],
            "_model_module": "@jupyter-widgets/controls",
            "_model_module_version": "1.5.0",
            "_model_name": "ButtonModel",
            "_view_count": null,
            "_view_module": "@jupyter-widgets/controls",
            "_view_module_version": "1.5.0",
            "_view_name": "ButtonView",
            "button_style": "",
            "description": "😐",
            "disabled": false,
            "icon": "",
            "layout": "IPY_MODEL_80ca1921897a42bcb0871ef5997e0572",
            "style": "IPY_MODEL_822466b321ba4a66a1745a4f74ee41c4",
            "tooltip": "Medium"
          }
        },
        "212ce5b59d6a44fdadbbe09e2790fde1": {
          "model_module": "@jupyter-widgets/controls",
          "model_name": "ButtonModel",
          "model_module_version": "1.5.0",
          "state": {
            "_dom_classes": [
              "sad"
            ],
            "_model_module": "@jupyter-widgets/controls",
            "_model_module_version": "1.5.0",
            "_model_name": "ButtonModel",
            "_view_count": null,
            "_view_module": "@jupyter-widgets/controls",
            "_view_module_version": "1.5.0",
            "_view_name": "ButtonView",
            "button_style": "",
            "description": "🙁",
            "disabled": false,
            "icon": "",
            "layout": "IPY_MODEL_52f18265a0434d75976d78280e088458",
            "style": "IPY_MODEL_72900e139ed64befa21d13fa64baae30",
            "tooltip": "Sad"
          }
        },
        "fe02e091836f43758e638768639f4794": {
          "model_module": "@jupyter-widgets/base",
          "model_name": "LayoutModel",
          "model_module_version": "1.2.0",
          "state": {
            "_model_module": "@jupyter-widgets/base",
            "_model_module_version": "1.2.0",
            "_model_name": "LayoutModel",
            "_view_count": null,
            "_view_module": "@jupyter-widgets/base",
            "_view_module_version": "1.2.0",
            "_view_name": "LayoutView",
            "align_content": null,
            "align_items": null,
            "align_self": null,
            "border": null,
            "bottom": null,
            "display": null,
            "flex": null,
            "flex_flow": null,
            "grid_area": null,
            "grid_auto_columns": null,
            "grid_auto_flow": null,
            "grid_auto_rows": null,
            "grid_column": null,
            "grid_gap": null,
            "grid_row": null,
            "grid_template_areas": null,
            "grid_template_columns": null,
            "grid_template_rows": null,
            "height": null,
            "justify_content": null,
            "justify_items": null,
            "left": null,
            "margin": null,
            "max_height": null,
            "max_width": null,
            "min_height": null,
            "min_width": null,
            "object_fit": null,
            "object_position": null,
            "order": null,
            "overflow": null,
            "overflow_x": null,
            "overflow_y": null,
            "padding": null,
            "right": null,
            "top": null,
            "visibility": null,
            "width": null
          }
        },
        "8f2a5d94fa5845249c0f431a088e64db": {
          "model_module": "@jupyter-widgets/controls",
          "model_name": "TextareaModel",
          "model_module_version": "1.5.0",
          "state": {
            "_dom_classes": [],
            "_model_module": "@jupyter-widgets/controls",
            "_model_module_version": "1.5.0",
            "_model_name": "TextareaModel",
            "_view_count": null,
            "_view_module": "@jupyter-widgets/controls",
            "_view_module_version": "1.5.0",
            "_view_name": "TextareaView",
            "continuous_update": true,
            "description": "",
            "description_tooltip": null,
            "disabled": false,
            "layout": "IPY_MODEL_36668bb4206144b992966274a71fc248",
            "placeholder": "We want your feedback!",
            "rows": null,
            "style": "IPY_MODEL_e42b3eb8278448c089435fc7fcf53da1",
            "value": ""
          }
        },
        "5842e1bbbad641bb8870d06959da49bf": {
          "model_module": "@jupyter-widgets/controls",
          "model_name": "ButtonModel",
          "model_module_version": "1.5.0",
          "state": {
            "_dom_classes": [],
            "_model_module": "@jupyter-widgets/controls",
            "_model_module_version": "1.5.0",
            "_model_name": "ButtonModel",
            "_view_count": null,
            "_view_module": "@jupyter-widgets/controls",
            "_view_module_version": "1.5.0",
            "_view_name": "ButtonView",
            "button_style": "",
            "description": "Submit",
            "disabled": false,
            "icon": "",
            "layout": "IPY_MODEL_ecbb182bd6e24325aea21aa3f04bdb30",
            "style": "IPY_MODEL_c54f3264bb164a669286aaa1accd4618",
            "tooltip": ""
          }
        },
        "c743005126d3481bb4546b7499ffd8db": {
          "model_module": "@jupyter-widgets/base",
          "model_name": "LayoutModel",
          "model_module_version": "1.2.0",
          "state": {
            "_model_module": "@jupyter-widgets/base",
            "_model_module_version": "1.2.0",
            "_model_name": "LayoutModel",
            "_view_count": null,
            "_view_module": "@jupyter-widgets/base",
            "_view_module_version": "1.2.0",
            "_view_name": "LayoutView",
            "align_content": null,
            "align_items": null,
            "align_self": null,
            "border": null,
            "bottom": null,
            "display": "none",
            "flex": null,
            "flex_flow": null,
            "grid_area": null,
            "grid_auto_columns": null,
            "grid_auto_flow": null,
            "grid_auto_rows": null,
            "grid_column": null,
            "grid_gap": null,
            "grid_row": null,
            "grid_template_areas": null,
            "grid_template_columns": null,
            "grid_template_rows": null,
            "height": null,
            "justify_content": null,
            "justify_items": null,
            "left": null,
            "margin": null,
            "max_height": null,
            "max_width": null,
            "min_height": null,
            "min_width": null,
            "object_fit": null,
            "object_position": null,
            "order": null,
            "overflow": null,
            "overflow_x": null,
            "overflow_y": null,
            "padding": null,
            "right": null,
            "top": null,
            "visibility": null,
            "width": null
          }
        },
        "de1dae838ba44e268d6699619623789a": {
          "model_module": "@jupyter-widgets/base",
          "model_name": "LayoutModel",
          "model_module_version": "1.2.0",
          "state": {
            "_model_module": "@jupyter-widgets/base",
            "_model_module_version": "1.2.0",
            "_model_name": "LayoutModel",
            "_view_count": null,
            "_view_module": "@jupyter-widgets/base",
            "_view_module_version": "1.2.0",
            "_view_name": "LayoutView",
            "align_content": null,
            "align_items": null,
            "align_self": null,
            "border": null,
            "bottom": null,
            "display": "none",
            "flex": null,
            "flex_flow": null,
            "grid_area": null,
            "grid_auto_columns": null,
            "grid_auto_flow": null,
            "grid_auto_rows": null,
            "grid_column": null,
            "grid_gap": null,
            "grid_row": null,
            "grid_template_areas": null,
            "grid_template_columns": null,
            "grid_template_rows": null,
            "height": null,
            "justify_content": null,
            "justify_items": null,
            "left": null,
            "margin": null,
            "max_height": null,
            "max_width": null,
            "min_height": null,
            "min_width": null,
            "object_fit": null,
            "object_position": null,
            "order": null,
            "overflow": null,
            "overflow_x": null,
            "overflow_y": null,
            "padding": null,
            "right": null,
            "top": null,
            "visibility": null,
            "width": null
          }
        },
        "28c2919d01d74a6abfd3f87e83b111fc": {
          "model_module": "@jupyter-widgets/controls",
          "model_name": "DescriptionStyleModel",
          "model_module_version": "1.5.0",
          "state": {
            "_model_module": "@jupyter-widgets/controls",
            "_model_module_version": "1.5.0",
            "_model_name": "DescriptionStyleModel",
            "_view_count": null,
            "_view_module": "@jupyter-widgets/base",
            "_view_module_version": "1.2.0",
            "_view_name": "StyleView",
            "description_width": ""
          }
        },
        "7dbc2498dee1486a9df8a9c0677e3589": {
          "model_module": "@jupyter-widgets/base",
          "model_name": "LayoutModel",
          "model_module_version": "1.2.0",
          "state": {
            "_model_module": "@jupyter-widgets/base",
            "_model_module_version": "1.2.0",
            "_model_name": "LayoutModel",
            "_view_count": null,
            "_view_module": "@jupyter-widgets/base",
            "_view_module_version": "1.2.0",
            "_view_name": "LayoutView",
            "align_content": null,
            "align_items": null,
            "align_self": null,
            "border": null,
            "bottom": null,
            "display": null,
            "flex": null,
            "flex_flow": null,
            "grid_area": null,
            "grid_auto_columns": null,
            "grid_auto_flow": null,
            "grid_auto_rows": null,
            "grid_column": null,
            "grid_gap": null,
            "grid_row": null,
            "grid_template_areas": null,
            "grid_template_columns": null,
            "grid_template_rows": null,
            "height": "auto",
            "justify_content": null,
            "justify_items": null,
            "left": null,
            "margin": null,
            "max_height": null,
            "max_width": null,
            "min_height": null,
            "min_width": null,
            "object_fit": null,
            "object_position": null,
            "order": null,
            "overflow": null,
            "overflow_x": null,
            "overflow_y": null,
            "padding": null,
            "right": null,
            "top": null,
            "visibility": null,
            "width": "auto"
          }
        },
        "5c0226225a71419d8023499552e022d9": {
          "model_module": "@jupyter-widgets/controls",
          "model_name": "ButtonStyleModel",
          "model_module_version": "1.5.0",
          "state": {
            "_model_module": "@jupyter-widgets/controls",
            "_model_module_version": "1.5.0",
            "_model_name": "ButtonStyleModel",
            "_view_count": null,
            "_view_module": "@jupyter-widgets/base",
            "_view_module_version": "1.2.0",
            "_view_name": "StyleView",
            "button_color": "#aaffaa",
            "font_weight": ""
          }
        },
        "80ca1921897a42bcb0871ef5997e0572": {
          "model_module": "@jupyter-widgets/base",
          "model_name": "LayoutModel",
          "model_module_version": "1.2.0",
          "state": {
            "_model_module": "@jupyter-widgets/base",
            "_model_module_version": "1.2.0",
            "_model_name": "LayoutModel",
            "_view_count": null,
            "_view_module": "@jupyter-widgets/base",
            "_view_module_version": "1.2.0",
            "_view_name": "LayoutView",
            "align_content": null,
            "align_items": null,
            "align_self": null,
            "border": null,
            "bottom": null,
            "display": null,
            "flex": null,
            "flex_flow": null,
            "grid_area": null,
            "grid_auto_columns": null,
            "grid_auto_flow": null,
            "grid_auto_rows": null,
            "grid_column": null,
            "grid_gap": null,
            "grid_row": null,
            "grid_template_areas": null,
            "grid_template_columns": null,
            "grid_template_rows": null,
            "height": "auto",
            "justify_content": null,
            "justify_items": null,
            "left": null,
            "margin": null,
            "max_height": null,
            "max_width": null,
            "min_height": null,
            "min_width": null,
            "object_fit": null,
            "object_position": null,
            "order": null,
            "overflow": null,
            "overflow_x": null,
            "overflow_y": null,
            "padding": null,
            "right": null,
            "top": null,
            "visibility": null,
            "width": "auto"
          }
        },
        "822466b321ba4a66a1745a4f74ee41c4": {
          "model_module": "@jupyter-widgets/controls",
          "model_name": "ButtonStyleModel",
          "model_module_version": "1.5.0",
          "state": {
            "_model_module": "@jupyter-widgets/controls",
            "_model_module_version": "1.5.0",
            "_model_name": "ButtonStyleModel",
            "_view_count": null,
            "_view_module": "@jupyter-widgets/base",
            "_view_module_version": "1.2.0",
            "_view_name": "StyleView",
            "button_color": "#dddd77",
            "font_weight": ""
          }
        },
        "52f18265a0434d75976d78280e088458": {
          "model_module": "@jupyter-widgets/base",
          "model_name": "LayoutModel",
          "model_module_version": "1.2.0",
          "state": {
            "_model_module": "@jupyter-widgets/base",
            "_model_module_version": "1.2.0",
            "_model_name": "LayoutModel",
            "_view_count": null,
            "_view_module": "@jupyter-widgets/base",
            "_view_module_version": "1.2.0",
            "_view_name": "LayoutView",
            "align_content": null,
            "align_items": null,
            "align_self": null,
            "border": null,
            "bottom": null,
            "display": null,
            "flex": null,
            "flex_flow": null,
            "grid_area": null,
            "grid_auto_columns": null,
            "grid_auto_flow": null,
            "grid_auto_rows": null,
            "grid_column": null,
            "grid_gap": null,
            "grid_row": null,
            "grid_template_areas": null,
            "grid_template_columns": null,
            "grid_template_rows": null,
            "height": "auto",
            "justify_content": null,
            "justify_items": null,
            "left": null,
            "margin": null,
            "max_height": null,
            "max_width": null,
            "min_height": null,
            "min_width": null,
            "object_fit": null,
            "object_position": null,
            "order": null,
            "overflow": null,
            "overflow_x": null,
            "overflow_y": null,
            "padding": null,
            "right": null,
            "top": null,
            "visibility": null,
            "width": "auto"
          }
        },
        "72900e139ed64befa21d13fa64baae30": {
          "model_module": "@jupyter-widgets/controls",
          "model_name": "ButtonStyleModel",
          "model_module_version": "1.5.0",
          "state": {
            "_model_module": "@jupyter-widgets/controls",
            "_model_module_version": "1.5.0",
            "_model_name": "ButtonStyleModel",
            "_view_count": null,
            "_view_module": "@jupyter-widgets/base",
            "_view_module_version": "1.2.0",
            "_view_name": "StyleView",
            "button_color": "#ffaaaa",
            "font_weight": ""
          }
        },
        "36668bb4206144b992966274a71fc248": {
          "model_module": "@jupyter-widgets/base",
          "model_name": "LayoutModel",
          "model_module_version": "1.2.0",
          "state": {
            "_model_module": "@jupyter-widgets/base",
            "_model_module_version": "1.2.0",
            "_model_name": "LayoutModel",
            "_view_count": null,
            "_view_module": "@jupyter-widgets/base",
            "_view_module_version": "1.2.0",
            "_view_name": "LayoutView",
            "align_content": null,
            "align_items": null,
            "align_self": null,
            "border": null,
            "bottom": null,
            "display": null,
            "flex": null,
            "flex_flow": null,
            "grid_area": null,
            "grid_auto_columns": null,
            "grid_auto_flow": null,
            "grid_auto_rows": null,
            "grid_column": null,
            "grid_gap": null,
            "grid_row": null,
            "grid_template_areas": null,
            "grid_template_columns": null,
            "grid_template_rows": null,
            "height": "auto",
            "justify_content": null,
            "justify_items": null,
            "left": null,
            "margin": null,
            "max_height": null,
            "max_width": null,
            "min_height": null,
            "min_width": null,
            "object_fit": null,
            "object_position": null,
            "order": null,
            "overflow": null,
            "overflow_x": null,
            "overflow_y": null,
            "padding": null,
            "right": null,
            "top": null,
            "visibility": null,
            "width": "auto"
          }
        },
        "e42b3eb8278448c089435fc7fcf53da1": {
          "model_module": "@jupyter-widgets/controls",
          "model_name": "DescriptionStyleModel",
          "model_module_version": "1.5.0",
          "state": {
            "_model_module": "@jupyter-widgets/controls",
            "_model_module_version": "1.5.0",
            "_model_name": "DescriptionStyleModel",
            "_view_count": null,
            "_view_module": "@jupyter-widgets/base",
            "_view_module_version": "1.2.0",
            "_view_name": "StyleView",
            "description_width": ""
          }
        },
        "ecbb182bd6e24325aea21aa3f04bdb30": {
          "model_module": "@jupyter-widgets/base",
          "model_name": "LayoutModel",
          "model_module_version": "1.2.0",
          "state": {
            "_model_module": "@jupyter-widgets/base",
            "_model_module_version": "1.2.0",
            "_model_name": "LayoutModel",
            "_view_count": null,
            "_view_module": "@jupyter-widgets/base",
            "_view_module_version": "1.2.0",
            "_view_name": "LayoutView",
            "align_content": null,
            "align_items": null,
            "align_self": null,
            "border": null,
            "bottom": null,
            "display": null,
            "flex": null,
            "flex_flow": null,
            "grid_area": null,
            "grid_auto_columns": null,
            "grid_auto_flow": null,
            "grid_auto_rows": null,
            "grid_column": null,
            "grid_gap": null,
            "grid_row": null,
            "grid_template_areas": null,
            "grid_template_columns": null,
            "grid_template_rows": null,
            "height": "auto",
            "justify_content": null,
            "justify_items": null,
            "left": null,
            "margin": null,
            "max_height": null,
            "max_width": null,
            "min_height": null,
            "min_width": null,
            "object_fit": null,
            "object_position": null,
            "order": null,
            "overflow": null,
            "overflow_x": null,
            "overflow_y": null,
            "padding": null,
            "right": null,
            "top": null,
            "visibility": null,
            "width": "auto"
          }
        },
        "c54f3264bb164a669286aaa1accd4618": {
          "model_module": "@jupyter-widgets/controls",
          "model_name": "ButtonStyleModel",
          "model_module_version": "1.5.0",
          "state": {
            "_model_module": "@jupyter-widgets/controls",
            "_model_module_version": "1.5.0",
            "_model_name": "ButtonStyleModel",
            "_view_count": null,
            "_view_module": "@jupyter-widgets/base",
            "_view_module_version": "1.2.0",
            "_view_name": "StyleView",
            "button_color": null,
            "font_weight": ""
          }
        },
        "9dbd0e36b23d45449b897b32fe9eabd9": {
          "model_module": "@jupyter-widgets/output",
          "model_name": "OutputModel",
          "model_module_version": "1.0.0",
          "state": {
            "_dom_classes": [],
            "_model_module": "@jupyter-widgets/output",
            "_model_module_version": "1.0.0",
            "_model_name": "OutputModel",
            "_view_count": null,
            "_view_module": "@jupyter-widgets/output",
            "_view_module_version": "1.0.0",
            "_view_name": "OutputView",
            "layout": "IPY_MODEL_3629cebb48f248588ac7aa6f0e360eb6",
            "msg_id": "",
            "outputs": []
          }
        },
        "3629cebb48f248588ac7aa6f0e360eb6": {
          "model_module": "@jupyter-widgets/base",
          "model_name": "LayoutModel",
          "model_module_version": "1.2.0",
          "state": {
            "_model_module": "@jupyter-widgets/base",
            "_model_module_version": "1.2.0",
            "_model_name": "LayoutModel",
            "_view_count": null,
            "_view_module": "@jupyter-widgets/base",
            "_view_module_version": "1.2.0",
            "_view_name": "LayoutView",
            "align_content": null,
            "align_items": null,
            "align_self": null,
            "border": null,
            "bottom": null,
            "display": null,
            "flex": null,
            "flex_flow": null,
            "grid_area": null,
            "grid_auto_columns": null,
            "grid_auto_flow": null,
            "grid_auto_rows": null,
            "grid_column": null,
            "grid_gap": null,
            "grid_row": null,
            "grid_template_areas": null,
            "grid_template_columns": null,
            "grid_template_rows": null,
            "height": null,
            "justify_content": null,
            "justify_items": null,
            "left": null,
            "margin": null,
            "max_height": null,
            "max_width": null,
            "min_height": null,
            "min_width": null,
            "object_fit": null,
            "object_position": null,
            "order": null,
            "overflow": null,
            "overflow_x": null,
            "overflow_y": null,
            "padding": null,
            "right": null,
            "top": null,
            "visibility": null,
            "width": null
          }
        }
      }
    }
  },
  "nbformat": 4,
  "nbformat_minor": 0
}