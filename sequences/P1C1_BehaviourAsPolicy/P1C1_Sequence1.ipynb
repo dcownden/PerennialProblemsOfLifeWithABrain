{
  "cells": [
    {
      "cell_type": "markdown",
      "metadata": {
        "id": "view-in-github",
        "colab_type": "text"
      },
      "source": [
        "<a href=\"https://colab.research.google.com/github/dcownden/PerennialProblemsOfLifeWithABrain/blob/main/GridWorldSequence.ipynb\" target=\"_parent\"><img src=\"https://colab.research.google.com/assets/colab-badge.svg\" alt=\"Open In Colab\"/></a>"
      ]
    },
    {
      "cell_type": "markdown",
      "source": [
        "#**Part 1 Behaviour, environments and optimization: evolution and learning**\n",
        "\n",
        "###**Animals have evolved in an environment, their behaviour is only meaningful within this environment.**\n",
        "\n",
        "###Objectives: Introduce the core concepts of \n",
        "* ### **environment**, where an organism lives;\n",
        "* ### **behaviour**, what the organism does there; \n",
        "* ### **optimization**, how learning and evolution shape behaviour so that the organism's behaviour is better suited to its environment.\n"
      ],
      "metadata": {
        "id": "23stmUvbLCaB"
      }
    },
    {
      "cell_type": "markdown",
      "source": [
        "___\n",
        "# Chapter 1.1 An optimization based view on the world\n",
        "\n",
        "### Objectives: Develop examples of how behaviour is described and evaluated relative to being [good](## \"This is a very loaded term, to be unpacked carefully later\") in an environmental niche. \n",
        "\n",
        "You will learn:\n",
        "*   What is a policy? A formalization of behaviour as a function that determines an organism's actions (usually) based on the organism's experience of their environment.\n",
        "*   What is a good policy? Rewards (and other signals?) from the environment in response to the organisms behaviour are integrated into a Loss/Objective function to evaluatate (and sometimes improve) a policy.\n",
        "*   What is stochasticity? The environment and an organism's behavior may have elements of randomness. This can make policy evaluation challenging; was the policy generating bad behaviour or was the organism just unlucky? \n",
        "\n"
      ],
      "metadata": {
        "id": "OpuwaM7pK5Zt"
      }
    },
    {
      "cell_type": "markdown",
      "source": [
        "___\n",
        "# **Sequence 1.1.1: Gridworld Introduction**\n",
        "\n",
        "### Objective:\n",
        "\n",
        "Create a simple environment-organism system to illustrate how an organism's **behaviour** within an **environment** can be evaluated using **Rewards**. Within this context we will see how behavior guided by intellegence can be better and how **randomness** can make evalutation of behaviour difficult\n"
      ],
      "metadata": {
        "id": "DkLkm2MW-84w"
      }
    },
    {
      "cell_type": "markdown",
      "source": [
        "# Setup\n",
        "\n"
      ],
      "metadata": {
        "id": "mIbPXwEKrHpd"
      }
    },
    {
      "cell_type": "code",
      "source": [
        "import ipywidgets as widgets\n",
        "import threading\n",
        "from IPython.display import display\n",
        "import numpy as np\n",
        "import matplotlib.pyplot as plt\n",
        "import time\n",
        "import asyncio\n",
        "import jax\n",
        "\n",
        "!pip3 install vibecheck datatops > /dev/null 2> /dev/null #google.colab\n",
        "from vibecheck import DatatopsContentReviewContainer\n",
        "\n",
        "#from google.colab import output as colab_output\n",
        "#colab_output.enable_custom_widget_manager()"
      ],
      "metadata": {
        "id": "lFXcDTEpA1ox"
      },
      "execution_count": 1,
      "outputs": []
    },
    {
      "cell_type": "code",
      "source": [
        "# @title Plotting Functions\n",
        "# @markdown You don't need to worry about how this code works – but you do need to **run the cell**\n",
        "\n",
        "def makeGrid(xSize, ySize):\n",
        "  \"\"\"Plots an xSize by ySize grid with cells centered on integer indices and \n",
        "  returns fig and ax handles for futher use\n",
        "  Args:\n",
        "    xSize (int): size of grid in x dimension\n",
        "    ySize (int): size of grid in y dimension\n",
        "\n",
        "  Returns:\n",
        "    fig (matplotlib.figure.Figure): figure handle for the grid\n",
        "    ax: (matplotlib.axes._axes.Axes): axes handle for the grid\n",
        "  \"\"\"\n",
        "  fig, ax = plt.subplots(figsize = (7,6), layout='constrained')\n",
        "  #ax.axis(\"equal\")\n",
        "  ax.set_xticks(np.arange(0, xSize, 1))\n",
        "  ax.set_yticks(np.arange(0, ySize, 1))\n",
        "  # Labels for major ticks\n",
        "  ax.set_xticklabels(np.arange(0, xSize, 1),fontsize=8)\n",
        "  ax.set_yticklabels(np.arange(0, ySize, 1),fontsize=8)\n",
        "\n",
        "  # Minor ticks\n",
        "  ax.set_xticks(np.arange(0.5, xSize-0.5, 1), minor=True)\n",
        "  ax.set_yticks(np.arange(0.5, ySize-0.5, 1), minor=True)\n",
        "\n",
        "  # Gridlines based on minor ticks\n",
        "  ax.grid(which='minor', color='grey', linestyle='-', linewidth=2, alpha=0.5)\n",
        "\n",
        "  # Remove minor ticks\n",
        "  ax.tick_params(which='minor', bottom=False, left=False)\n",
        "\n",
        "  ax.set_xlim(( -0.5, xSize-0.5))\n",
        "  ax.set_ylim(( -0.5, ySize-0.5))\n",
        "  return fig, ax\n",
        "\n",
        "def plotFood(fig, ax, xyFoodLoc):\n",
        "  food = ax.scatter([], [], s=150, marker='o', color='red', label='Food')\n",
        "  food.set_offsets(xyFoodLoc)\n",
        "  return food\n",
        "\n",
        "def plotCritter(fig, ax, xyCritterLoc):\n",
        "  critter = ax.scatter([], [], s=250, marker='h', color='blue', label='Critter')\n",
        "  critter.set_offsets(xyCritterLoc)\n",
        "  return critter"
      ],
      "metadata": {
        "id": "5obN1t-TuNf6",
        "cellView": "form"
      },
      "execution_count": 2,
      "outputs": []
    },
    {
      "cell_type": "code",
      "source": [
        "# @title Simulation Functions, Variables and Widgets\n",
        "# @markdown You don't need to worry about how this code works – but you do need to **run the cell**\n",
        "\n",
        "# keep track of all relevant states of the simluation in a global state dictionary\n",
        "# maybe turn this into an object if we want to have multiple independent simulations going on?\n",
        "\n",
        "def initLoc(xSize, ySize, num):\n",
        "  \"\"\"Returns random 2d grid locations, without replacement, \n",
        "  in both unravled/flat coordinates and as xy pairs\"\"\"\n",
        "  intLoc = np.random.choice(xSize * ySize, num, replace=False)\n",
        "  xyLoc = np.vstack(np.unravel_index(intLoc, (xSize, ySize))).T\n",
        "  return intLoc, xyLoc\n",
        "\n",
        "def initState(xSize=7,\n",
        "              ySize=7,\n",
        "              numFoods=10,\n",
        "              xyCritter=None):\n",
        "  state = {'numMoves': 0,\n",
        "           'numEats': 0,\n",
        "           'numFoods': numFoods,\n",
        "           'xyFoodLoc': np.array([[]]),\n",
        "           'intFoodLoc': np.array([]),\n",
        "           'xSize': xSize,\n",
        "           'ySize': ySize}\n",
        "\n",
        "  #randomly initialize food locations\n",
        "  if numFoods > xSize * ySize -1:\n",
        "    state['numFoods'] = xSize * ySize -1\n",
        "  state['intFoodLoc'], state['xyFoodLoc'] = initLoc(state['xSize'],state['ySize'],state['numFoods'])\n",
        "\n",
        "  if xyCritter is None:\n",
        "    # put critter roughly in the middle\n",
        "    state['xyCritterLoc'] = np.array([[np.floor(state['xSize']/2), np.floor(state['ySize']/2)]], dtype=int)\n",
        "    state['intCritterLoc'] = np.ravel_multi_index((state['xyCritterLoc'][:,0],state['xyCritterLoc'][:,1]), (state['xSize'], state['ySize']))\n",
        "  else:\n",
        "    state['xyCritterLoc'] = np.array(xyCritter).reshape((1,2))\n",
        "    state['intCritterLoc'] = np.ravel_multi_index((state['xyCritterLoc'][:,0],state['xyCritterLoc'][:,1]), (state['xSize'], state['ySize']))\n",
        "  return state\n",
        "\n",
        "state = initState()\n",
        "\n",
        "def updateCritterLocation(x, y):\n",
        "  state['numMoves'] = state['numMoves'] + 1\n",
        "  state['xyCritterLoc'] = np.array([[x,y]])\n",
        "  state['intCritterLoc'] = np.ravel_multi_index((state['xyCritterLoc'][:,0],state['xyCritterLoc'][:,1]), (state['xSize'], state['ySize']))\n",
        "\n",
        "def eating():\n",
        "  # is the critter on a food patch\n",
        "  if state['intCritterLoc'][0] in set(state['intFoodLoc']):\n",
        "    #critter is on a food patch\n",
        "    state['numEats'] = state['numEats'] + 1\n",
        "    # figure out where the new food will go where there isn't already food\n",
        "    newFoodLoc = np.random.choice(list(set(np.arange(state['xSize']*state['ySize'])) - set(state['intFoodLoc'])))\n",
        "    #remove the eaten food\n",
        "    newFoodLocSet = set(state['intFoodLoc'])\n",
        "    newFoodLocSet.remove(state['intCritterLoc'][0])\n",
        "    # add the new food\n",
        "    newFoodLocSet.add(newFoodLoc)\n",
        "    \n",
        "    #update state\n",
        "    state['intFoodLoc'] = np.array(np.sort(list(newFoodLocSet)))\n",
        "    state['xyFoodLoc'] = np.vstack(np.unravel_index(state['intFoodLoc'], (state['xSize'], state['ySize']))).T\n",
        "    state['eatingString'] = ('You ate the food here, new food at ' + str(np.unravel_index(newFoodLoc, (state['xSize'], state['ySize']))))\n",
        "  else:\n",
        "    state['eatingString'] = 'No food here'\n",
        "\n",
        "def updateState(x, y):\n",
        "  updateCritterLocation(x, y)\n",
        "  eating()\n",
        "  #print(stateDict['foodLocationsUnravel'])\n",
        "\n",
        "output = widgets.Output()\n",
        "\n",
        "def plotFigFromScratch():\n",
        "  fig, ax = makeGrid(state['xSize'], state['ySize'])\n",
        "  plotFood(fig, ax, state['xyFoodLoc'])\n",
        "  plotCritter(fig, ax, state['xyCritterLoc'])\n",
        "  fig.legend(loc = \"outside right upper\")\n",
        "  plt.show()\n",
        "\n",
        "upButton = widgets.Button(description=\"Up\")\n",
        "downButton = widgets.Button(description=\"Down\")\n",
        "leftButton = widgets.Button(description=\"Left\")\n",
        "rightButton = widgets.Button(description=\"Right\")\n",
        "randomMovement = widgets.Checkbox(\n",
        "    value=False,\n",
        "    description='Move Randomly',\n",
        "    disabled=False,\n",
        "    indent=False\n",
        ")\n",
        "\n",
        "def randomClick():\n",
        "  move = np.random.randint(0,4)\n",
        "  if move == 0:\n",
        "    upButton.click()\n",
        "  elif move == 1:\n",
        "    downButton.click()\n",
        "  elif move == 2:\n",
        "    leftButton.click()\n",
        "  elif move == 3:\n",
        "    rightButton.click()\n",
        "  else:\n",
        "    print('should not happen')\n",
        "\n",
        "\n",
        "class Timer:\n",
        "  def __init__(self, timeout, callback):\n",
        "    self._timeout = timeout\n",
        "    self._callback = callback\n",
        "  async def _job(self):\n",
        "    await asyncio.sleep(self._timeout)\n",
        "    self._callback()\n",
        "  def start(self):\n",
        "    self._task = asyncio.ensure_future(self._job())\n",
        "  def cancel(self):\n",
        "    self._task.cancel()\n",
        "\n",
        "clickTimer = Timer(5.0, randomClick)\n",
        "\n",
        "def buttonOutputUpdate(whichButton, x, y):\n",
        "  with output:\n",
        "    if randomMovement.value == True:\n",
        "      if hasattr(clickTimer, '__Task'):\n",
        "        clickTimer.cancel()\n",
        "    output.clear_output(wait=True)\n",
        "    print(\"Moved \" + whichButton + \". \" + \"Criter is now at ({}, {}).\".format(x,y))\n",
        "    print(state['eatingString'])\n",
        "    print(\"Moves: {0} \\tFood Eaten: {1} \\tFood Per Move: {2}\".format(state['numMoves'], state['numEats'], state['numEats'] / state['numMoves']))\n",
        "    plotFigFromScratch()\n",
        "    if randomMovement.value == True:\n",
        "      clickTimer.start()\n",
        "\n",
        "def on_upButton_clicked(b):\n",
        "  whichButton = 'up'\n",
        "  x = state['xyCritterLoc'][0][0]\n",
        "  y = state['xyCritterLoc'][0][1]\n",
        "  if y >= state['ySize']-1:\n",
        "    y = state['ySize'] - 2\n",
        "  elif y < state['ySize']-1:\n",
        "    y = y+1\n",
        "  updateState(x, y)\n",
        "  buttonOutputUpdate(whichButton, x, y)\n",
        "\n",
        "def on_downButton_clicked(b):\n",
        "  whichButton = 'down'\n",
        "  x = state['xyCritterLoc'][0][0]\n",
        "  y = state['xyCritterLoc'][0][1]\n",
        "  if y > 0 :\n",
        "    y = y-1\n",
        "  elif y <= 0:\n",
        "    y = 1\n",
        "  updateState(x, y)\n",
        "  buttonOutputUpdate(whichButton, x, y)\n",
        "\n",
        "def on_leftButton_clicked(b):\n",
        "  whichButton = 'left'\n",
        "  x = state['xyCritterLoc'][0][0]\n",
        "  y = state['xyCritterLoc'][0][1]\n",
        "  if x > 0 :\n",
        "    x = x-1\n",
        "  elif x <= 0:\n",
        "    x = 1\n",
        "  updateState(x, y)\n",
        "  buttonOutputUpdate(whichButton, x, y)\n",
        "    \n",
        "def on_rightButton_clicked(b):\n",
        "  whichButton = 'right'\n",
        "  x = state['xyCritterLoc'][0][0]\n",
        "  y = state['xyCritterLoc'][0][1]\n",
        "  if x >= state['xSize']-1:\n",
        "    x = state['xSize'] - 2\n",
        "  elif x < state['xSize']-1:\n",
        "    x = x+1\n",
        "  updateState(x, y)\n",
        "  buttonOutputUpdate(whichButton, x, y)\n",
        "\n",
        "upButton.on_click(on_upButton_clicked)\n",
        "downButton.on_click(on_downButton_clicked)\n",
        "leftButton.on_click(on_leftButton_clicked)\n",
        "rightButton.on_click(on_rightButton_clicked)"
      ],
      "metadata": {
        "id": "05Uz1GkYBXnC",
        "cellView": "form"
      },
      "execution_count": 3,
      "outputs": []
    },
    {
      "cell_type": "code",
      "source": [
        "# @title Other Helper Functions\n",
        "# @markdown You don't need to worry about how this code works – but you do need to **run the cell**\n",
        "\n",
        "class dotdict(dict):\n",
        "  def __getattr__(self, name):\n",
        "    return self[name]\n",
        "\n",
        "def content_review(notebook_section: str):\n",
        "  return DatatopsContentReviewContainer(\n",
        "    \"\",  # No text prompt\n",
        "    notebook_section,\n",
        "    {\n",
        "      \"url\": \"https://pmyvdlilci.execute-api.us-east-1.amazonaws.com/klab\",\n",
        "      \"name\": \"neuro_book\",\n",
        "      \"user_key\": \"xuk960xj\",\n",
        "    },\n",
        "  ).render()"
      ],
      "metadata": {
        "cellView": "form",
        "id": "0rJo86T8Ctc4"
      },
      "execution_count": 7,
      "outputs": []
    },
    {
      "cell_type": "markdown",
      "source": [
        "# Micro 1.1.1.1: Initializing Gridworld\n",
        "\n",
        "Before we introduce an organism with **behaviour** we're going to build an **environment** for them to behave in. To start, this world will consist of a 7 x 7 grid of cells. Let's make a picture of that and see what it looks like."
      ],
      "metadata": {
        "id": "04LAm3mXsb6S"
      }
    },
    {
      "cell_type": "code",
      "source": [
        "############################################################################\n",
        "## TO DO for students: replace ... with the correct arguments(inputs) is the \n",
        "## makeGrid function below to a grid the right size and shape. You can use the\n",
        "## tool tip by hovering over the word makeGrid to find out how to use it. You\n",
        "## can also use the tool tip to view the source code. How does it work?\n",
        "raise NotImplementedError(\"Student exercise: make grid using the makeGrid function\")\n",
        "############################################################################\n",
        "\n",
        "fig, ax = makeGrid(...)\n",
        "plt.show()"
      ],
      "metadata": {
        "colab": {
          "base_uri": "https://localhost:8080/",
          "height": 237
        },
        "id": "1v1iQASrtiC9",
        "outputId": "47c60149-8185-43d7-e319-d31a6e001943"
      },
      "execution_count": 6,
      "outputs": [
        {
          "output_type": "error",
          "ename": "NotImplementedError",
          "evalue": "ignored",
          "traceback": [
            "\u001b[0;31m---------------------------------------------------------------------------\u001b[0m",
            "\u001b[0;31mNotImplementedError\u001b[0m                       Traceback (most recent call last)",
            "\u001b[0;32m<ipython-input-6-e7b24bee3769>\u001b[0m in \u001b[0;36m<cell line: 6>\u001b[0;34m()\u001b[0m\n\u001b[1;32m      4\u001b[0m \u001b[0;31m## tool tip by hovering over the word makeGrid to find out how to use it. You\u001b[0m\u001b[0;34m\u001b[0m\u001b[0;34m\u001b[0m\u001b[0m\n\u001b[1;32m      5\u001b[0m \u001b[0;31m## can also use the tool tip to view the source code. How does it work?\u001b[0m\u001b[0;34m\u001b[0m\u001b[0;34m\u001b[0m\u001b[0m\n\u001b[0;32m----> 6\u001b[0;31m \u001b[0;32mraise\u001b[0m \u001b[0mNotImplementedError\u001b[0m\u001b[0;34m(\u001b[0m\u001b[0;34m\"Student exercise: make grid using the makeGrid function\"\u001b[0m\u001b[0;34m)\u001b[0m\u001b[0;34m\u001b[0m\u001b[0;34m\u001b[0m\u001b[0m\n\u001b[0m\u001b[1;32m      7\u001b[0m \u001b[0;31m############################################################################\u001b[0m\u001b[0;34m\u001b[0m\u001b[0;34m\u001b[0m\u001b[0m\n\u001b[1;32m      8\u001b[0m \u001b[0;34m\u001b[0m\u001b[0m\n",
            "\u001b[0;31mNotImplementedError\u001b[0m: Student exercise: make grid using the makeGrid function"
          ]
        }
      ]
    },
    {
      "cell_type": "code",
      "source": [
        "# to_remove solution\n",
        "\n",
        "fig, ax = makeGrid(7, 7)\n",
        "plt.show()"
      ],
      "metadata": {
        "colab": {
          "base_uri": "https://localhost:8080/",
          "height": 628
        },
        "id": "d-S2rQCW4T74",
        "outputId": "7ceb462a-a432-4fb6-ff5d-54f0071d3d9c"
      },
      "execution_count": 6,
      "outputs": [
        {
          "output_type": "display_data",
          "data": {
            "text/plain": [
              "<Figure size 700x600 with 1 Axes>"
            ],
            "image/png": "[encoded data removed]"
          },
          "metadata": {}
        }
      ]
    },
    {
      "cell_type": "markdown",
      "source": [
        "Bonus activity: Tweak the makeGrid function in the Plotting Functions cell above to make the gridlines green."
      ],
      "metadata": {
        "id": "kWtXbaTdtL9q"
      }
    },
    {
      "cell_type": "markdown",
      "source": [
        "Wow, what a boring environment. Let's add an organism and something for that organism to interact with. We'll start with 10 food items scattered randomly throughout the grid, never more than one food item per cell. To plot these food item we need to initalize their locations by randomly sampling grid coordinates [without replacement](## \"never picking the same (x,y) coordinate pair twice\"). We'll place the agent roughly in the middle of the grid."
      ],
      "metadata": {
        "id": "3q36p8g6xAI3"
      }
    },
    {
      "cell_type": "code",
      "source": [
        "################################################################################\n",
        "# TODO for students: replace ... in initLoc(...) to initialize the right number of \n",
        "# food item locations, in coordinates that make sense for our grid environment\n",
        "# then comment out or remove the next line.\n",
        "raise NotImplementedError(\"Exercise: make the grid the right size\")\n",
        "################################################################################\n",
        "def initLoc(xSize, ySize, num):\n",
        "  \"\"\"Returns random 2d grid locations, without replacement, \n",
        "  in both unravled/flat coordinates and as xy pairs\"\"\"\n",
        "  intLoc = np.random.choice(xSize * ySize, num, replace=False)\n",
        "  xyLoc = np.vstack(np.unravel_index(intLoc, (xSize, ySize))).T\n",
        "  return intLoc, xyLoc\n",
        "\n",
        "fig, ax = makeGrid(7, 7)\n",
        "initLoc(...)\n",
        "plotFood(fig, ax, xyFoodLoc)\n",
        " \n",
        "xyCritterLoc = (5,5)\n",
        "plotCritter(fig, ax, xyCritterLoc)\n",
        "\n",
        "fig.legend(loc='outside right upper')\n",
        "plt.show()"
      ],
      "metadata": {
        "colab": {
          "base_uri": "https://localhost:8080/",
          "height": 237
        },
        "id": "mU6yaQYQ0o_Y",
        "outputId": "44a5c43a-e196-48f1-f9a3-0a19ca3d325d"
      },
      "execution_count": 7,
      "outputs": [
        {
          "output_type": "error",
          "ename": "NotImplementedError",
          "evalue": "ignored",
          "traceback": [
            "\u001b[0;31m---------------------------------------------------------------------------\u001b[0m",
            "\u001b[0;31mNotImplementedError\u001b[0m                       Traceback (most recent call last)",
            "\u001b[0;32m<ipython-input-7-8d14e09228e8>\u001b[0m in \u001b[0;36m<cell line: 5>\u001b[0;34m()\u001b[0m\n\u001b[1;32m      3\u001b[0m \u001b[0;31m# food item locations, in coordinates that make sense for our grid environment\u001b[0m\u001b[0;34m\u001b[0m\u001b[0;34m\u001b[0m\u001b[0m\n\u001b[1;32m      4\u001b[0m \u001b[0;31m# then comment out or remove the next line.\u001b[0m\u001b[0;34m\u001b[0m\u001b[0;34m\u001b[0m\u001b[0m\n\u001b[0;32m----> 5\u001b[0;31m \u001b[0;32mraise\u001b[0m \u001b[0mNotImplementedError\u001b[0m\u001b[0;34m(\u001b[0m\u001b[0;34m\"Exercise: make the grid the right size\"\u001b[0m\u001b[0;34m)\u001b[0m\u001b[0;34m\u001b[0m\u001b[0;34m\u001b[0m\u001b[0m\n\u001b[0m\u001b[1;32m      6\u001b[0m \u001b[0;31m################################################################################\u001b[0m\u001b[0;34m\u001b[0m\u001b[0;34m\u001b[0m\u001b[0m\n\u001b[1;32m      7\u001b[0m \u001b[0;32mdef\u001b[0m \u001b[0minitLoc\u001b[0m\u001b[0;34m(\u001b[0m\u001b[0mxSize\u001b[0m\u001b[0;34m,\u001b[0m \u001b[0mySize\u001b[0m\u001b[0;34m,\u001b[0m \u001b[0mnum\u001b[0m\u001b[0;34m)\u001b[0m\u001b[0;34m:\u001b[0m\u001b[0;34m\u001b[0m\u001b[0;34m\u001b[0m\u001b[0m\n",
            "\u001b[0;31mNotImplementedError\u001b[0m: Exercise: make the grid the right size"
          ]
        }
      ]
    },
    {
      "cell_type": "code",
      "source": [
        "#to_remove solution\n",
        "def initLoc(xSize, ySize, num):\n",
        "  \"\"\"Returns random 2d grid locations, without replacement, \n",
        "  in both unravled/flat coordinates and as xy pairs\"\"\"\n",
        "  intLoc = np.random.choice(xSize * ySize, num, replace=False)\n",
        "  xyLoc = np.vstack(np.unravel_index(intLoc, (xSize, ySize))).T\n",
        "  return intLoc, xyLoc\n",
        "\n",
        "fig, ax = makeGrid(7, 7)\n",
        "intFoodLoc, xyFoodLoc = initLoc(7,7,10)\n",
        "plotFood(fig, ax, xyFoodLoc)\n",
        " \n",
        "xyCritterLoc = (5,5)\n",
        "plotCritter(fig, ax, xyCritterLoc)\n",
        "\n",
        "fig.legend(loc='outside right upper')\n",
        "plt.show() "
      ],
      "metadata": {
        "colab": {
          "base_uri": "https://localhost:8080/",
          "height": 628
        },
        "id": "QprpNJisUkHB",
        "outputId": "709c1db5-e0b5-4d1a-ee16-1b3eb6a86ec6"
      },
      "execution_count": 8,
      "outputs": [
        {
          "output_type": "display_data",
          "data": {
            "text/plain": [
              "<Figure size 700x600 with 1 Axes>"
            ],
            "image/png": "[encoded data removed]"
          },
          "metadata": {}
        }
      ]
    },
    {
      "cell_type": "code",
      "source": [
        "# @markdown Vibe Check\n",
        "content_review(\"Sequence 1.1.1 Micro 1\")"
      ],
      "metadata": {
        "colab": {
          "base_uri": "https://localhost:8080/",
          "height": 81,
          "referenced_widgets": [
            "091367d75049403db65d4d1322bd6544",
            "4a50193ddd7c441d85c8fab66f77068b",
            "1e3fa9712b3a4f08960a429f747bf312",
            "b1589b2ed136429788f023983ae24245",
            "8ddefa029e4e407ea82f88999934df82",
            "625103a72e424b969b00667b69edfd4b",
            "aca56da3481e4ea0b8cc558035f4942c",
            "32aa08171afa4ebbaf7e655926b0a4c0",
            "dd5aff627772464ba6b44c36085ad9ad",
            "e512b9cbdfce4ca1bd893bf55069f476",
            "836ef8ba315f47f8b1988eeed2373467",
            "da44c96b420b4e8191511a68db396374",
            "29d1c47408b24758a1a367962357370a",
            "207a1fa83d0b45ee9038fd29b2618e4e",
            "1eb93519019745c78d8c38856aaff057",
            "00f3c21d5ed24737b8719b649391baef",
            "7ba1486c364f4d1d934d1ec3417de725",
            "9163e455213d448db2265fdd2db9dca7",
            "f64dcbfbb62c48dc910fe7cbf2c3c933",
            "9d29ac6637594c8da438c7314aa9dbcc",
            "8c30480c0a35441181057d3a63613ba7",
            "3541081dfef04ad987425337ef23c98b",
            "d71c2681cde44b8daee6878a580a00c0",
            "f8972f5528a04a5ebf4e3b3b184fddb8",
            "2326ddf4f3354cc0affd76518daf1b46",
            "bddc8c80a4d14f7ba5ad0ed5e02d66fb",
            "e7a850dc05f8481295b2cf110d70b4e3"
          ]
        },
        "id": "eGFbLrsRCH-3",
        "outputId": "7c437a03-ea67-4c3b-cf8d-aa4ad90ff691"
      },
      "execution_count": 10,
      "outputs": [
        {
          "output_type": "display_data",
          "data": {
            "text/plain": [
              "VBox(children=(Label(value=''), HBox(children=(Button(description='🙂', layout=Layout(height='auto', width='aut…"
            ],
            "application/vnd.jupyter.widget-view+json": {
              "version_major": 2,
              "version_minor": 0,
              "model_id": "091367d75049403db65d4d1322bd6544"
            }
          },
          "metadata": {}
        }
      ]
    },
    {
      "cell_type": "markdown",
      "source": [
        "---\n",
        "# Micro 1.1.1.2: Random Eating"
      ],
      "metadata": {
        "id": "BPM30RsBlDtL"
      }
    },
    {
      "cell_type": "markdown",
      "source": [
        "Now that we have an environment scattered with food and an organism, let's introduce some behaviour. The organism drifts around the environment randomly (connect to real life situations where this strategy is employed) and eats the food that they happen to stumble upon. When food is eaten, the organism gets a **reward**, in this case a *Food Eaten* point, and a new food item appears randomly somewhere else in the environment (that doesn't already have food). Run the following cell to see what this looks like."
      ],
      "metadata": {
        "id": "Ap9Qt5LUF3GR"
      }
    },
    {
      "cell_type": "code",
      "source": [
        "# @title Random Movement\n",
        "# @markdown You don't need to worry about how this code works, yet – just **run the cell** for now and watch what happens\n",
        "display(output)\n",
        "\n",
        "# 20 random button presses, one every ~3 seconds\n",
        "state = initState(xSize=7, ySize=7, numFoods=10)\n",
        "for ii in range(20):\n",
        "  randomClick()\n",
        "  time.sleep(0.1)"
      ],
      "metadata": {
        "id": "5_OsYaIoPGJM",
        "colab": {
          "base_uri": "https://localhost:8080/",
          "height": 680,
          "referenced_widgets": [
            "4e42687fb7474c778f6ec512952759b5",
            "64ff875e61cb40bd95bbebe2e051de8b"
          ]
        },
        "outputId": "65d3e039-3c06-478b-cf2c-8d961ac70303",
        "cellView": "form"
      },
      "execution_count": 15,
      "outputs": [
        {
          "output_type": "display_data",
          "data": {
            "text/plain": [
              "Output()"
            ],
            "application/vnd.jupyter.widget-view+json": {
              "version_major": 2,
              "version_minor": 0,
              "model_id": "4e42687fb7474c778f6ec512952759b5"
            }
          },
          "metadata": {}
        }
      ]
    },
    {
      "cell_type": "markdown",
      "source": [
        "When the organism is just drifting around randomly how good is it at eating lots of food, what is its efficiency in terms of food per movement? Now run the cell above a few more times. Does the organism always eat the same amount of food or does it change between simulation runs? "
      ],
      "metadata": {
        "id": "de1ADh8N0d9G"
      }
    },
    {
      "cell_type": "code",
      "source": [
        "# to_remove explanation\n",
        "\n",
        "\"\"\"\n",
        "The amount of food eaten vary a lot from simulation run to simulation run, \n",
        "usually it manages to eat one or two pieces of food, sometimes more sometimes less.\n",
        "\"\"\";"
      ],
      "metadata": {
        "id": "KhJVZAO6VZsW"
      },
      "execution_count": 16,
      "outputs": []
    },
    {
      "cell_type": "markdown",
      "source": [
        "Before we move on it's important to test that our simulation is running as we expect. The randomness of the environment can make this hard to test, but can overcome in part by setting up the environment in such a way that the outcome become deterministic. In the two cells bellow change how the the Grid World is initialized in terms of size, shape and number of food items. In one case so that organism is gaurenteed achieve 100% efficnency in terms of food per move and another case where the organism is gaurentted to achieve 0% efficiency."
      ],
      "metadata": {
        "id": "Urjzz0NYTUmF"
      }
    },
    {
      "cell_type": "code",
      "source": [
        "###############################################################################\n",
        "# TODO for students: replace ... in initState(...) to initialize a grid world \n",
        "# where the organism is always 100% efficient.\n",
        "raise NotImplementedError(\"Exercise: make random movement 100% efficient\")\n",
        "################################################################################\n",
        "\n",
        "display(output)\n",
        "\n",
        "# 20 random moves, one every ~0.1 seconds\n",
        "state = initState(...)\n",
        "for ii in range(20):\n",
        "  randomClick()\n",
        "  time.sleep(0.1)"
      ],
      "metadata": {
        "colab": {
          "base_uri": "https://localhost:8080/",
          "height": 237
        },
        "id": "t0yB-_KQB6yx",
        "outputId": "673a81e0-555a-4174-f182-9ad08047cb42"
      },
      "execution_count": 17,
      "outputs": [
        {
          "output_type": "error",
          "ename": "NotImplementedError",
          "evalue": "ignored",
          "traceback": [
            "\u001b[0;31m---------------------------------------------------------------------------\u001b[0m",
            "\u001b[0;31mNotImplementedError\u001b[0m                       Traceback (most recent call last)",
            "\u001b[0;32m<ipython-input-17-657e186565d1>\u001b[0m in \u001b[0;36m<cell line: 4>\u001b[0;34m()\u001b[0m\n\u001b[1;32m      2\u001b[0m \u001b[0;31m# TODO for students: replace ... in initState(...) to initialize a grid world\u001b[0m\u001b[0;34m\u001b[0m\u001b[0;34m\u001b[0m\u001b[0m\n\u001b[1;32m      3\u001b[0m \u001b[0;31m# where the organism is always 100% efficient.\u001b[0m\u001b[0;34m\u001b[0m\u001b[0;34m\u001b[0m\u001b[0m\n\u001b[0;32m----> 4\u001b[0;31m \u001b[0;32mraise\u001b[0m \u001b[0mNotImplementedError\u001b[0m\u001b[0;34m(\u001b[0m\u001b[0;34m\"Exercise: make random movement 100% efficient\"\u001b[0m\u001b[0;34m)\u001b[0m\u001b[0;34m\u001b[0m\u001b[0;34m\u001b[0m\u001b[0m\n\u001b[0m\u001b[1;32m      5\u001b[0m \u001b[0;31m################################################################################\u001b[0m\u001b[0;34m\u001b[0m\u001b[0;34m\u001b[0m\u001b[0m\n\u001b[1;32m      6\u001b[0m \u001b[0;34m\u001b[0m\u001b[0m\n",
            "\u001b[0;31mNotImplementedError\u001b[0m: Exercise: make random movement 100% efficient"
          ]
        }
      ]
    },
    {
      "cell_type": "code",
      "source": [
        "display(output)\n",
        "\n",
        "# 20 random button presses, one every ~0.1 seconds\n",
        "state = initState(xSize=3, ySize=2, numFoods=5)\n",
        "for ii in range(20):\n",
        "  randomClick()\n",
        "  time.sleep(0.1)"
      ],
      "metadata": {
        "colab": {
          "base_uri": "https://localhost:8080/",
          "height": 680,
          "referenced_widgets": [
            "4e42687fb7474c778f6ec512952759b5",
            "64ff875e61cb40bd95bbebe2e051de8b"
          ]
        },
        "id": "UlRrwePsXbc2",
        "outputId": "a583bb2d-8751-47b0-a097-3c1c839d134f"
      },
      "execution_count": 18,
      "outputs": [
        {
          "output_type": "display_data",
          "data": {
            "text/plain": [
              "Output()"
            ],
            "application/vnd.jupyter.widget-view+json": {
              "version_major": 2,
              "version_minor": 0,
              "model_id": "4e42687fb7474c778f6ec512952759b5"
            }
          },
          "metadata": {}
        }
      ]
    },
    {
      "cell_type": "code",
      "source": [
        "###############################################################################\n",
        "# TODO for students: replace ... in initState(...) to initialize a grid world \n",
        "# where the organism is always 0% efficient.\n",
        "raise NotImplementedError(\"Exercise: make random movement 0% efficient\")\n",
        "################################################################################\n",
        "\n",
        "display(output)\n",
        "\n",
        "# 20 random button presses, one every ~0.1 seconds\n",
        "state = initState(...)\n",
        "for ii in range(20):\n",
        "  randomClick()\n",
        "  time.sleep(0.1)"
      ],
      "metadata": {
        "colab": {
          "base_uri": "https://localhost:8080/",
          "height": 237
        },
        "id": "bi3RmUEfXbpr",
        "outputId": "8040b4fd-d4ff-4348-9483-3d6e19b7fc3a"
      },
      "execution_count": 19,
      "outputs": [
        {
          "output_type": "error",
          "ename": "NotImplementedError",
          "evalue": "ignored",
          "traceback": [
            "\u001b[0;31m---------------------------------------------------------------------------\u001b[0m",
            "\u001b[0;31mNotImplementedError\u001b[0m                       Traceback (most recent call last)",
            "\u001b[0;32m<ipython-input-19-f166143fe39b>\u001b[0m in \u001b[0;36m<cell line: 4>\u001b[0;34m()\u001b[0m\n\u001b[1;32m      2\u001b[0m \u001b[0;31m# TODO for students: replace ... in initState(...) to initialize a grid world\u001b[0m\u001b[0;34m\u001b[0m\u001b[0;34m\u001b[0m\u001b[0m\n\u001b[1;32m      3\u001b[0m \u001b[0;31m# where the organism is always 0% efficient.\u001b[0m\u001b[0;34m\u001b[0m\u001b[0;34m\u001b[0m\u001b[0m\n\u001b[0;32m----> 4\u001b[0;31m \u001b[0;32mraise\u001b[0m \u001b[0mNotImplementedError\u001b[0m\u001b[0;34m(\u001b[0m\u001b[0;34m\"Exercise: make random movement 0% efficient\"\u001b[0m\u001b[0;34m)\u001b[0m\u001b[0;34m\u001b[0m\u001b[0;34m\u001b[0m\u001b[0m\n\u001b[0m\u001b[1;32m      5\u001b[0m \u001b[0;31m################################################################################\u001b[0m\u001b[0;34m\u001b[0m\u001b[0;34m\u001b[0m\u001b[0m\n\u001b[1;32m      6\u001b[0m \u001b[0;34m\u001b[0m\u001b[0m\n",
            "\u001b[0;31mNotImplementedError\u001b[0m: Exercise: make random movement 0% efficient"
          ]
        }
      ]
    },
    {
      "cell_type": "code",
      "source": [
        "display(output)\n",
        "\n",
        "# 20 random button presses, one every ~0.1 seconds\n",
        "state = initState(xSize=7, ySize=7, numFoods=0)\n",
        "for ii in range(20):\n",
        "  randomClick()\n",
        "  time.sleep(0.1)"
      ],
      "metadata": {
        "colab": {
          "base_uri": "https://localhost:8080/",
          "height": 680,
          "referenced_widgets": [
            "4e42687fb7474c778f6ec512952759b5",
            "64ff875e61cb40bd95bbebe2e051de8b"
          ]
        },
        "id": "2YhCCYunXb4b",
        "outputId": "0f340473-e653-4298-a659-a866d24411bb"
      },
      "execution_count": 20,
      "outputs": [
        {
          "output_type": "display_data",
          "data": {
            "text/plain": [
              "Output()"
            ],
            "application/vnd.jupyter.widget-view+json": {
              "version_major": 2,
              "version_minor": 0,
              "model_id": "4e42687fb7474c778f6ec512952759b5"
            }
          },
          "metadata": {}
        }
      ]
    },
    {
      "cell_type": "markdown",
      "source": [
        "---\n",
        "# Micro 1.1.1.3: Better Than Random Eating\n",
        "Now it's your turn to control the organism. Run the next cell and see how much more efficient than random drifting your control of the organism in terms of food per movement."
      ],
      "metadata": {
        "id": "BXrhTaRPF3fu"
      }
    },
    {
      "cell_type": "code",
      "source": [
        "# @title Controlled Movement\n",
        "# @markdown You don't need to worry about how this code works – just **run the cell** and then use the buttons to guide the organism\n",
        "\n",
        "# user in control\n",
        "state = initState()\n",
        "with output:\n",
        "  output.clear_output(wait=True)\n",
        "  print('Press a button')\n",
        "  plotFigFromScratch()\n",
        "display(widgets.HBox([leftButton, widgets.VBox([upButton, downButton]), rightButton]), output)"
      ],
      "metadata": {
        "colab": {
          "base_uri": "https://localhost:8080/",
          "height": 744,
          "referenced_widgets": [
            "69f1a058ca68415c97418578698c39fd",
            "b175e9e0d610496dac1b66d37ba3a387",
            "e4f0723f9a0f4c0089e4f64ca75800ac",
            "1658439fcd624eb8a2a761277cd0128e",
            "b8289364deca4ec3b939fd3c8fadd104",
            "e85b0e18b98340dd822a539a6a567a85",
            "c7589c14e1784fafa92c3fac832ddeb2",
            "a668f3b34f42407fa66e3747a9624888",
            "4b7e653954e249f8aaa692226f776436",
            "1c7a39ec03e14f748de8354e2a34ab1c",
            "5101bf8337d84b598186f24e4a1fb5a3",
            "1b1208e6f15d47c0883069174a1dc3ed",
            "49b8e88d1789456694b8bce9d219a864",
            "b20cc45842ee41509b32e50af25758e2",
            "9b17529e5ee9474ebfeeb3c44d3dda49",
            "4b2b5024c99b4707a2aebf7fad5100b0",
            "4e42687fb7474c778f6ec512952759b5",
            "64ff875e61cb40bd95bbebe2e051de8b"
          ]
        },
        "id": "d0UxXhWSFEAo",
        "outputId": "7fe0985f-e953-41b9-9a22-7f7a8ba11868"
      },
      "execution_count": 21,
      "outputs": [
        {
          "output_type": "display_data",
          "data": {
            "text/plain": [
              "HBox(children=(Button(description='Left', style=ButtonStyle()), VBox(children=(Button(description='Up', style=…"
            ],
            "application/vnd.jupyter.widget-view+json": {
              "version_major": 2,
              "version_minor": 0,
              "model_id": "69f1a058ca68415c97418578698c39fd"
            }
          },
          "metadata": {}
        },
        {
          "output_type": "display_data",
          "data": {
            "text/plain": [
              "Output()"
            ],
            "application/vnd.jupyter.widget-view+json": {
              "version_major": 2,
              "version_minor": 0,
              "model_id": "4e42687fb7474c778f6ec512952759b5"
            }
          },
          "metadata": {}
        }
      ]
    },
    {
      "cell_type": "markdown",
      "source": [
        "Hopefully you were able to perform much better than a policy of random flailing. Even in this relatively simple, contrived and constrained foraging problem intellegence helps a lot. What kinds of strategies and heuristics did you use to guide your choice of direction? In some very real sense, the whole purpose of a nervous system and a brain is to solve problems of this kind, i.e., based on inputs from the environment which actions should be taken maximize reward."
      ],
      "metadata": {
        "id": "BgaFUnEk1bN0"
      }
    },
    {
      "cell_type": "markdown",
      "source": [
        "---\n",
        "# Micro 1.1.1.4: Optimal Eating\n",
        "Finally we'd like to introduce a time traveling super organism, GW7x7-10-20, from the last chapter of this book. GW7x7-10-20 has absolutely mastered 7x7 grdiworld, with 10 food items and 20 round duration. Run the next cell and see how efficient a highly optimized and specialized gridworld organism can be. Are you as good as gw7x7-10-20? If not, you gotta read this book 😉 (If you can't beat 'em, at least learn how to program 'em.)"
      ],
      "metadata": {
        "id": "_ig9JFud6TIR"
      }
    },
    {
      "cell_type": "markdown",
      "source": [
        "(Last chapter not made yet so working on a minimal sketch/skeleton version to produce this agent)"
      ],
      "metadata": {
        "id": "LGJNVO_z6NZC"
      }
    },
    {
      "cell_type": "code",
      "source": [
        "# @title Optimal Movement\n",
        "# @markdown You don't need to worry about how this code works – just **run the cell** and then use the buttons to guide the organism\n",
        "\n",
        "# user in control\n",
        "state = initState()\n",
        "with output:\n",
        "  output.clear_output(wait=True)\n",
        "  print('Press a button')\n",
        "  plotFigFromScratch()\n",
        "display(widgets.HBox([leftButton, widgets.VBox([upButton, downButton]), rightButton]), output)"
      ],
      "metadata": {
        "id": "o3oF6nXP9OVy"
      },
      "execution_count": null,
      "outputs": []
    },
    {
      "cell_type": "markdown",
      "source": [
        "---\n",
        "# Graveyard\n"
      ],
      "metadata": {
        "id": "n4gkoAzbFdGs"
      }
    },
    {
      "cell_type": "code",
      "source": [
        "%gui asyncio\n",
        "with output:\n",
        "  print('Press a button')\n",
        "  plotFigFromScratch()\n",
        "display(widgets.HBox([leftButton, widgets.VBox([upButton, downButton]), rightButton]), randomMovement, output)\n"
      ],
      "metadata": {
        "colab": {
          "base_uri": "https://localhost:8080/",
          "height": 776,
          "referenced_widgets": [
            "6e0b6c178d424b64802acea458d5488c",
            "c8b970e4f4ab4076b5336885015174d4",
            "957d0d6bd3184ffb83e599571dd1b442",
            "ae3b8503a59a416e9ddaf51720811903",
            "be85ebc42266495292f1feb483c6b6ed",
            "2320e027792a4ad1a716e78242b8c0a3",
            "177831be4f694dfca5056ee3d0efe963",
            "361671a7c298402da0438ce94505a453",
            "a02ea973026b4e998db7fa597b537828",
            "edb4ff5e28474593b7dc922dfed09067",
            "373fc4b96ccc46c89842b166c37a05f3",
            "a4316225c4a6442aa532a2e18236463a",
            "2970e455550d43a3aa7629c3ea98cdf6",
            "1536e24e8fd348e39da1a6286574ff83",
            "949e0e24647546a2904b551bc7e644f3",
            "a57c862df1914620a013437cb3dcccb1",
            "31057b64652e4b86b2443661a42e1bd3",
            "7f0d9d5d3f284be7b4a0170bdfdc642c",
            "28f5d797c17a45d9b8897de96d9703f0",
            "5e08599840cc4069bb3be60289524639",
            "720748bb153c4731836c3fd5a234d3cf"
          ]
        },
        "id": "esncavcGXkCa",
        "outputId": "6b19b21e-cd49-4a09-8adb-7cf2578a73b7"
      },
      "execution_count": null,
      "outputs": [
        {
          "output_type": "display_data",
          "data": {
            "text/plain": [
              "HBox(children=(Button(description='Left', style=ButtonStyle()), VBox(children=(Button(description='Up', style=…"
            ],
            "application/vnd.jupyter.widget-view+json": {
              "version_major": 2,
              "version_minor": 0,
              "model_id": "6e0b6c178d424b64802acea458d5488c"
            }
          },
          "metadata": {}
        },
        {
          "output_type": "display_data",
          "data": {
            "text/plain": [
              "Checkbox(value=False, description='Move Randomly', indent=False)"
            ],
            "application/vnd.jupyter.widget-view+json": {
              "version_major": 2,
              "version_minor": 0,
              "model_id": "31057b64652e4b86b2443661a42e1bd3"
            }
          },
          "metadata": {}
        },
        {
          "output_type": "display_data",
          "data": {
            "text/plain": [
              "Output()"
            ],
            "application/vnd.jupyter.widget-view+json": {
              "version_major": 2,
              "version_minor": 0,
              "model_id": "5e08599840cc4069bb3be60289524639"
            }
          },
          "metadata": {}
        }
      ]
    },
    {
      "cell_type": "code",
      "source": [
        "randomClick()"
      ],
      "metadata": {
        "id": "784WshV2d4aT"
      },
      "execution_count": null,
      "outputs": []
    },
    {
      "cell_type": "code",
      "source": [
        "with output:\n",
        "  output.clear_output(wait=True)\n",
        "  print('Press a button')\n",
        "  clickTimer.start()\n",
        "  plotFigFromScratch()\n",
        "display(upButton, downButton, leftButton, rightButton, output)"
      ],
      "metadata": {
        "colab": {
          "base_uri": "https://localhost:8080/",
          "height": 808,
          "referenced_widgets": [
            "cd81a1239e884d0786fce6a55ad12745",
            "a7294bf1ebc44472a165fe8178be11b7",
            "53b7248ef6cc468681b7cdf22fc66637",
            "5255017df61f4c19a719e09829153e2a",
            "018a78dc8dbc43eaaf5114dddcade84e",
            "db6260dc665043b5a58374cae013680c",
            "cd11653195a348f29355deee13007973",
            "42f63c53c1bf4a469b60e5c1ce892757",
            "d4353615087b497eaff2f3db35970800",
            "b1002c4d488041f299220f68e0f9ce79",
            "b8284354f31f464f899ec46cca830f32",
            "c2e0d0f2b6e1489b900ec7b064ac8dd9",
            "3162cb56872f4788bafcbfca4021118f",
            "2b0c13d941504562ae19ac5c67a6517e"
          ]
        },
        "id": "96Gle-ivYJGR",
        "outputId": "ae1aef75-67eb-4e19-d7c0-67c4ba651323"
      },
      "execution_count": null,
      "outputs": [
        {
          "output_type": "display_data",
          "data": {
            "text/plain": [
              "Button(description='Up', style=ButtonStyle())"
            ],
            "application/vnd.jupyter.widget-view+json": {
              "version_major": 2,
              "version_minor": 0,
              "model_id": "cd81a1239e884d0786fce6a55ad12745"
            }
          },
          "metadata": {}
        },
        {
          "output_type": "display_data",
          "data": {
            "text/plain": [
              "Button(description='Down', style=ButtonStyle())"
            ],
            "application/vnd.jupyter.widget-view+json": {
              "version_major": 2,
              "version_minor": 0,
              "model_id": "5255017df61f4c19a719e09829153e2a"
            }
          },
          "metadata": {}
        },
        {
          "output_type": "display_data",
          "data": {
            "text/plain": [
              "Button(description='Left', style=ButtonStyle())"
            ],
            "application/vnd.jupyter.widget-view+json": {
              "version_major": 2,
              "version_minor": 0,
              "model_id": "cd11653195a348f29355deee13007973"
            }
          },
          "metadata": {}
        },
        {
          "output_type": "display_data",
          "data": {
            "text/plain": [
              "Button(description='Right', style=ButtonStyle())"
            ],
            "application/vnd.jupyter.widget-view+json": {
              "version_major": 2,
              "version_minor": 0,
              "model_id": "b1002c4d488041f299220f68e0f9ce79"
            }
          },
          "metadata": {}
        },
        {
          "output_type": "display_data",
          "data": {
            "text/plain": [
              "Output()"
            ],
            "application/vnd.jupyter.widget-view+json": {
              "version_major": 2,
              "version_minor": 0,
              "model_id": "3162cb56872f4788bafcbfca4021118f"
            }
          },
          "metadata": {}
        }
      ]
    },
    {
      "cell_type": "code",
      "source": [
        "# user in control\n",
        "with output:\n",
        "  output.clear_output(wait=True)\n",
        "  print('Press a button')  \n",
        "  plotFigFromScratch()\n"
      ],
      "metadata": {
        "colab": {
          "base_uri": "https://localhost:8080/",
          "height": 808,
          "referenced_widgets": [
            "46e3b215ca2641408a1a6b00356c6fc4",
            "a805825cce054db59e58771ae01b3edd",
            "edf18472079e4290a6b1e8af7c129bbe",
            "57465daeff52468ebd75b260d35eab51",
            "860d354899b44ce4b37e5bfbdea306f3",
            "8d87be1e04684f94bb615257d149bab3",
            "604af0e3c07047c7a77ef2ac2a9c537d",
            "d14e9cbcd06f491bb426a939e92daea1",
            "4c3075bbbe3c4c109834941f3a1798ef",
            "ba446242c7514abbbe6297e1d976881c",
            "b1f8f1efdc224abe871419581ee2e410",
            "c03d199a6a6247c6b36cf785ce95c4b3",
            "adfa6c7320c54bbcbad45801b880434f",
            "e4631d296b844a05b5079e8867f3c19d"
          ]
        },
        "id": "GTa1PhUZPg80",
        "outputId": "48527b19-45bb-4265-a949-d6b26606eb4c"
      },
      "execution_count": null,
      "outputs": [
        {
          "output_type": "display_data",
          "data": {
            "text/plain": [
              "Button(description='Up', style=ButtonStyle())"
            ],
            "application/vnd.jupyter.widget-view+json": {
              "version_major": 2,
              "version_minor": 0,
              "model_id": "46e3b215ca2641408a1a6b00356c6fc4"
            }
          },
          "metadata": {}
        },
        {
          "output_type": "display_data",
          "data": {
            "text/plain": [
              "Button(description='Down', style=ButtonStyle())"
            ],
            "application/vnd.jupyter.widget-view+json": {
              "version_major": 2,
              "version_minor": 0,
              "model_id": "57465daeff52468ebd75b260d35eab51"
            }
          },
          "metadata": {}
        },
        {
          "output_type": "display_data",
          "data": {
            "text/plain": [
              "Button(description='Left', style=ButtonStyle())"
            ],
            "application/vnd.jupyter.widget-view+json": {
              "version_major": 2,
              "version_minor": 0,
              "model_id": "604af0e3c07047c7a77ef2ac2a9c537d"
            }
          },
          "metadata": {}
        },
        {
          "output_type": "display_data",
          "data": {
            "text/plain": [
              "Button(description='Right', style=ButtonStyle())"
            ],
            "application/vnd.jupyter.widget-view+json": {
              "version_major": 2,
              "version_minor": 0,
              "model_id": "ba446242c7514abbbe6297e1d976881c"
            }
          },
          "metadata": {}
        },
        {
          "output_type": "display_data",
          "data": {
            "text/plain": [
              "Output()"
            ],
            "application/vnd.jupyter.widget-view+json": {
              "version_major": 2,
              "version_minor": 0,
              "model_id": "adfa6c7320c54bbcbad45801b880434f"
            }
          },
          "metadata": {}
        }
      ]
    },
    {
      "cell_type": "code",
      "source": [
        "# user in control\n",
        "state\n",
        "stateDict = {'critterLocationXY': np.array([[]]),\n",
        "             'critterLocationUnravel': np.array([]),\n",
        "             'numMoves': 0,\n",
        "             'numEats': 0,\n",
        "             'numFoods': 30,\n",
        "             'foodLocationsXY': np.array([[]]),\n",
        "             'foodLocationsUnravel': np.array([]),\n",
        "             'xSize': 10,\n",
        "             'ySize': 10}\n",
        "\n",
        "#randomly initialize food locations\n",
        "stateDict['foodLocationsUnravel'] = np.sort(np.random.choice(stateDict['xSize']*stateDict['ySize'], stateDict['numFoods'], replace=False))\n",
        "stateDict['foodLocationsXY'] = np.vstack(np.unravel_index(stateDict['foodLocationsUnravel'], (stateDict['xSize'], stateDict['ySize']))).T\n",
        "\n",
        "# put critter roughly in the middle\n",
        "stateDict['critterLocationXY'] = np.array([[np.floor(stateDict['xSize']/2), np.floor(stateDict['ySize']/2)]], dtype=int)\n",
        "stateDict['critterLocationUravel'] = np.ravel_multi_index((stateDict['critterLocationXY'][:,0],stateDict['critterLocationXY'][:,1]), (stateDict['xSize'], stateDict['ySize'])) \n",
        "\n",
        "def updateCritterLocation(x, y, stateDict):\n",
        "  stateDict['numMoves'] = stateDict['numMoves'] + 1\n",
        "  stateDict['critterLocationXY'] = np.array([[x,y]])\n",
        "  stateDict['critterLocationUravel'] = np.ravel_multi_index((stateDict['critterLocationXY'][:,0],stateDict['critterLocationXY'][:,1]), (stateDict['xSize'], stateDict['ySize']))\n",
        "  return\n",
        "\n",
        "def eating(stateDict):\n",
        "  # is the critter on a food patch\n",
        "  if stateDict['critterLocationUravel'][0] in set(stateDict['foodLocationsUnravel']):\n",
        "    #print('eating!!!')\n",
        "    #critter is on a food patch\n",
        "    stateDict['numEats'] = stateDict['numEats'] + 1\n",
        "    # add food where there isn't already food\n",
        "    newFoodLocation = np.random.choice(list(set(np.arange(stateDict['xSize']*stateDict['ySize'])) - set(stateDict['foodLocationsUnravel'])))\n",
        "    #print('new food location')\n",
        "    #print(newFoodLocation)\n",
        "    #old food gone\n",
        "    #print('critter eating here')\n",
        "    #print(stateDict['critterLocationUravel'][0])\n",
        "    newFoodLocationsSet = set(stateDict['foodLocationsUnravel'])\n",
        "    #print(np.array(np.sort(list(newFoodLocationsSet))))\n",
        "    newFoodLocationsSet.remove(stateDict['critterLocationUravel'][0])\n",
        "    #print(np.array(np.sort(list(newFoodLocationsSet))))\n",
        "\n",
        "    # new food added\n",
        "    newFoodLocationsSet.add(newFoodLocation)\n",
        "    #print(np.array(np.sort(list(newFoodLocationsSet))))\n",
        "    stateDict['foodLocationsUnravel'] = np.array(np.sort(list(newFoodLocationsSet)))\n",
        "    stateDict['foodLocationsXY'] = np.vstack(np.unravel_index(stateDict['foodLocationsUnravel'], (stateDict['xSize'], stateDict['ySize']))).T\n",
        "    #print(stateDict['foodLocationsUnravel'])\n",
        "    stateDict['eatingString'] = ('You ate the food here, new food at ' + str(np.unravel_index(newFoodLocation, (stateDict['xSize'], stateDict['ySize']))))\n",
        "  else:\n",
        "    stateDict['eatingString'] = 'No food here'\n",
        "  return\n",
        "\n",
        "def updateState(x, y, StateDict):\n",
        "  updateCritterLocation(x, y, StateDict)\n",
        "  eating(stateDict)\n",
        "  #print(stateDict['foodLocationsUnravel'])\n",
        "  return\n",
        "\n",
        "def plotFigFromScratch(stateDict):\n",
        "  fig, ax = plt.subplots(figsize = (8,8))\n",
        "  ax.set_xticks(np.arange(0, stateDict['xSize'], 1))\n",
        "  ax.set_yticks(np.arange(0, stateDict['ySize'], 1))\n",
        "  # Labels for major ticks\n",
        "  ax.set_xticklabels(np.arange(0, stateDict['xSize'], 1))\n",
        "  ax.set_yticklabels(np.arange(0, stateDict['ySize'], 1))\n",
        "\n",
        "  # Minor ticks\n",
        "  ax.set_xticks(np.arange(0.5, stateDict['xSize']-0.5, 1), minor=True)\n",
        "  ax.set_yticks(np.arange(0.5, stateDict['ySize']-0.5, 1), minor=True)\n",
        "\n",
        "  # Gridlines based on minor ticks\n",
        "  ax.grid(which='minor', color='grey', linestyle='-', linewidth=2, alpha=0.5)\n",
        "\n",
        "  # Remove minor ticks\n",
        "  ax.tick_params(which='minor', bottom=False, left=False)\n",
        "\n",
        "  ax.set_xlim(( -0.5, stateDict['xSize']-0.5))\n",
        "  ax.set_ylim(( -0.5, stateDict['ySize']-0.5))\n",
        "\n",
        "  #ax.axis(\"equal\")\n",
        "  critter = ax.scatter([], [], s=250.0, marker='h', color='blue', label='Critter')\n",
        "  food = ax.scatter([], [], s=150, marker='o', color='red', label='Food')\n",
        "  critter.set_offsets(stateDict['critterLocationXY'])\n",
        "  food.set_offsets(stateDict['foodLocationsXY'])\n",
        "  ax.legend()\n",
        "  plt.show()\n",
        "  return\n",
        "\n",
        "def buttonOutputUpdate(whichButton, x, y, stateDict):\n",
        "  with output:\n",
        "    output.clear_output(wait=True)\n",
        "    print(whichButton + \" Button clicked.\" + \"Criter is now at ({}, {}).\".format(x,y))\n",
        "    print(stateDict['eatingString'])\n",
        "    print(\"Moves: {0} \\tFood Eaten: {1} \\tFood Per Move: {2}\".format(stateDict['numMoves'], stateDict['numEats'], stateDict['numEats'] / stateDict['numMoves']))\n",
        "    plotFigFromScratch(stateDict)\n",
        "  return\n",
        "\n",
        "upButton = widgets.Button(description=\"Up\")\n",
        "downButton = widgets.Button(description=\"Down\")\n",
        "leftButton = widgets.Button(description=\"Left\")\n",
        "rightButton = widgets.Button(description=\"Right\")\n",
        "output = widgets.Output()\n",
        "\n",
        "def on_upButton_clicked(b):\n",
        "  whichButton = 'Up'\n",
        "  x = stateDict['critterLocationXY'][0][0]\n",
        "  y = stateDict['critterLocationXY'][0][1]\n",
        "  if y >= stateDict['ySize']-1:\n",
        "    y = stateDict['ySize'] - 2\n",
        "  elif y < stateDict['ySize']-1:\n",
        "    y = y+1\n",
        "  updateState(x, y, stateDict)\n",
        "  buttonOutputUpdate(whichButton, x, y, stateDict)\n",
        "\n",
        "def on_downButton_clicked(b):\n",
        "  whichButton = 'Down'\n",
        "  x = stateDict['critterLocationXY'][0][0]\n",
        "  y = stateDict['critterLocationXY'][0][1]\n",
        "  if y > 0 :\n",
        "    y = y-1\n",
        "  elif y <= 0:\n",
        "    y = 1\n",
        "  updateState(x, y, stateDict)\n",
        "  buttonOutputUpdate(whichButton, x, y, stateDict)\n",
        "\n",
        "def on_leftButton_clicked(b):\n",
        "  whichButton = 'Left'\n",
        "  x = stateDict['critterLocationXY'][0][0]\n",
        "  y = stateDict['critterLocationXY'][0][1]\n",
        "  if x > 0 :\n",
        "    x = x-1\n",
        "  elif x <= 0:\n",
        "    x = 1\n",
        "  updateState(x, y, stateDict)\n",
        "  buttonOutputUpdate(whichButton, x, y, stateDict)\n",
        "    \n",
        "def on_rightButton_clicked(b):\n",
        "  whichButton = 'Right'\n",
        "  x = stateDict['critterLocationXY'][0][0]\n",
        "  y = stateDict['critterLocationXY'][0][1]\n",
        "  if x >= stateDict['xSize']-1:\n",
        "    x = stateDict['xSize'] - 2\n",
        "  elif x < stateDict['xSize']-1:\n",
        "    x = x+1\n",
        "  updateState(x, y, stateDict)\n",
        "  buttonOutputUpdate(whichButton, x, y, stateDict)\n",
        "\n",
        "upButton.on_click(on_upButton_clicked)\n",
        "downButton.on_click(on_downButton_clicked)\n",
        "leftButton.on_click(on_leftButton_clicked)\n",
        "rightButton.on_click(on_rightButton_clicked)\n",
        "\n",
        "with output:\n",
        "  output.clear_output(wait=True)\n",
        "  print('Press a button')  \n",
        "  plotFigFromScratch(stateDict)\n",
        "display(upButton, downButton, leftButton, rightButton, output)"
      ],
      "metadata": {
        "colab": {
          "base_uri": "https://localhost:8080/",
          "height": 856,
          "referenced_widgets": [
            "1c57077aa9da417785a35e6ec3062e26",
            "6bf73e5572de400491851b79e92ead23",
            "54cbf51baec64a058527a685cb1af2fe",
            "03b22de1bb634ccb806e7639b835b44f",
            "2e9033e27dc647b7b6b1022e976adc14",
            "8b28a965ecf44d94bfa53a35cf00e828",
            "430b342074684a7ebde9bf5fd6f6e25f",
            "2da5a1aab8c54653b2cac68b8df69a99",
            "87d3e42c345849efbb16954f9d7b2ec6",
            "7fce57e7051141f89c4ade1c9d934256",
            "30cae5c4003c4dd1a5398fd7bc5b8f78",
            "98e1a2ee3c1a440583dfaf2843fddc4d",
            "d30297e408ff454cae66a32a332fb3d0",
            "b56aec1ad7dd4f4fb09d7819f60d8d18"
          ]
        },
        "id": "jKreVIvGKxJZ",
        "outputId": "7d8a80ff-f623-4ee2-b4f1-beb801bb0489"
      },
      "execution_count": null,
      "outputs": [
        {
          "output_type": "display_data",
          "data": {
            "text/plain": [
              "Button(description='Up', style=ButtonStyle())"
            ],
            "application/vnd.jupyter.widget-view+json": {
              "version_major": 2,
              "version_minor": 0,
              "model_id": "1c57077aa9da417785a35e6ec3062e26"
            }
          },
          "metadata": {}
        },
        {
          "output_type": "display_data",
          "data": {
            "text/plain": [
              "Button(description='Down', style=ButtonStyle())"
            ],
            "application/vnd.jupyter.widget-view+json": {
              "version_major": 2,
              "version_minor": 0,
              "model_id": "03b22de1bb634ccb806e7639b835b44f"
            }
          },
          "metadata": {}
        },
        {
          "output_type": "display_data",
          "data": {
            "text/plain": [
              "Button(description='Left', style=ButtonStyle())"
            ],
            "application/vnd.jupyter.widget-view+json": {
              "version_major": 2,
              "version_minor": 0,
              "model_id": "430b342074684a7ebde9bf5fd6f6e25f"
            }
          },
          "metadata": {}
        },
        {
          "output_type": "display_data",
          "data": {
            "text/plain": [
              "Button(description='Right', style=ButtonStyle())"
            ],
            "application/vnd.jupyter.widget-view+json": {
              "version_major": 2,
              "version_minor": 0,
              "model_id": "7fce57e7051141f89c4ade1c9d934256"
            }
          },
          "metadata": {}
        },
        {
          "output_type": "display_data",
          "data": {
            "text/plain": [
              "Output()"
            ],
            "application/vnd.jupyter.widget-view+json": {
              "version_major": 2,
              "version_minor": 0,
              "model_id": "d30297e408ff454cae66a32a332fb3d0"
            }
          },
          "metadata": {}
        }
      ]
    },
    {
      "cell_type": "code",
      "source": [
        "display(output)\n",
        "\n",
        "# 20 random button presses one every ~3 seconds\n",
        "for ii in range(20):\n",
        "  move = np.random.randint(0,4)\n",
        "  if move == 0:\n",
        "    upButton.click()\n",
        "  elif move == 1:\n",
        "    downButton.click()\n",
        "  elif move == 2:\n",
        "    leftButton.click()\n",
        "  elif move == 3:\n",
        "    rightButton.click()\n",
        "  else:\n",
        "    print('should not happen')\n",
        "  time.sleep(3)"
      ],
      "metadata": {
        "colab": {
          "base_uri": "https://localhost:8080/",
          "height": 680,
          "referenced_widgets": [
            "126287c94d1742b3b9e45dc922aebca0",
            "7c997091c6994ee09bca8cf7ce5d6b6f"
          ]
        },
        "id": "KfwZsTlJSqN8",
        "outputId": "b7d69e04-23c6-4bf7-fba3-4cdbb0e21e66"
      },
      "execution_count": null,
      "outputs": [
        {
          "output_type": "display_data",
          "data": {
            "text/plain": [
              "Output()"
            ],
            "application/vnd.jupyter.widget-view+json": {
              "version_major": 2,
              "version_minor": 0,
              "model_id": "126287c94d1742b3b9e45dc922aebca0"
            }
          },
          "metadata": {}
        }
      ]
    },
    {
      "cell_type": "code",
      "source": [],
      "metadata": {
        "id": "hmmkF2_tVzzy"
      },
      "execution_count": null,
      "outputs": []
    },
    {
      "cell_type": "code",
      "source": [
        "# janky random button pressing\n",
        "stateDict = {'critterLocation': {'x': 5.0, 'y': 5.0},\n",
        "              'numMoves': 0,\n",
        "              'numEats': 0,\n",
        "              'numFoods': 3,\n",
        "              'foodLocation': np.array([[]]),\n",
        "              'xSize': 10,\n",
        "              'ySize': 10}\n",
        "\n",
        "def sampleComb(dims, nsamp):\n",
        "    idx = np.random.choice(np.prod(dims), nsamp, replace=False)\n",
        "    return np.vstack(np.unravel_index(idx, dims)).T\n",
        "\n",
        "stateDict['foodLocations'] = sampleComb([stateDict['xSize'], stateDict['ySize']], stateDict['numFoods'])\n",
        "\n",
        "def plot_fig_from_scratch(stateDict):\n",
        "  critterX = stateDict['critterLocation']['x']\n",
        "  critterY = stateDict['critterLocation']['y'] \n",
        "  fig, ax = plt.subplots()\n",
        "  ax.set_xticks(np.arange(0, stateDict['xSize']+1, 1))\n",
        "  ax.set_yticks(np.arange(0, stateDict['ySize']+1, 1))\n",
        "  # Labels for major ticks\n",
        "  ax.set_xticklabels(np.arange(0, stateDict['xSize']+1, 1))\n",
        "  ax.set_yticklabels(np.arange(0, stateDict['ySize']+1, 1))\n",
        "\n",
        "  # Minor ticks\n",
        "  ax.set_xticks(np.arange(1.5, stateDict['xSize']+0.5, 1), minor=True)\n",
        "  ax.set_yticks(np.arange(1.5, stateDict['ySize']+0.5, 1), minor=True)\n",
        "\n",
        "  # Gridlines based on minor ticks\n",
        "  ax.grid(which='minor', color='grey', linestyle='-', linewidth=2, alpha=0.5)\n",
        "\n",
        "  # Remove minor ticks\n",
        "  ax.tick_params(which='minor', bottom=False, left=False)\n",
        "\n",
        "  ax.set_xlim(( 0.5, stateDict['xSize']+0.5))\n",
        "  ax.set_ylim(( 0.5, stateDict['ySize']+0.5))\n",
        "\n",
        "  #ax.axis(\"equal\")\n",
        "  critter = ax.scatter([], [], s=250.0, marker='h',)\n",
        "  critter.set_offsets([[critterX, critterY]])\n",
        "  plt.show()\n",
        "\n",
        "upButton = widgets.Button(description=\"Up\")\n",
        "downButton = widgets.Button(description=\"Down\")\n",
        "leftButton = widgets.Button(description=\"Left\")\n",
        "rightButton = widgets.Button(description=\"Right\")\n",
        "output = widgets.Output()\n",
        "\n",
        "def on_upButton_clicked(b):\n",
        "  x = stateDict['critterLocation']['x']\n",
        "  y = stateDict['critterLocation']['y']\n",
        "  if y > 9:\n",
        "    y = 9.0\n",
        "  elif y <= 9:\n",
        "    y = y+1\n",
        "  stateDict['critterLocation']['y'] = y\n",
        "  with output:\n",
        "    output.clear_output(wait=True)\n",
        "    plot_fig_from_scratch(stateDict)\n",
        "    print(\"Up Button clicked.\")\n",
        "    print(\"New coordinate value is ({},{}).\".format(x,y))\n",
        "\n",
        "def on_downButton_clicked(b):\n",
        "  x = stateDict['critterLocation']['x']\n",
        "  y = stateDict['critterLocation']['y']\n",
        "  if y > 1 :\n",
        "    y = y-1\n",
        "  elif y <= 1:\n",
        "    y = 2.0\n",
        "  stateDict['critterLocation']['y'] = y\n",
        "  with output:\n",
        "    output.clear_output(wait=True)\n",
        "    plot_fig_from_scratch(stateDict)\n",
        "    print(\"Down Button clicked.\")\n",
        "    print(\"New coordinate value is ({},{}).\".format(x,y))\n",
        "\n",
        "def on_leftButton_clicked(b):\n",
        "  x = stateDict['critterLocation']['x']\n",
        "  y = stateDict['critterLocation']['y']\n",
        "  if x > 1 :\n",
        "    x = x-1\n",
        "  elif x <= 1:\n",
        "    x = 2.0\n",
        "  stateDict['critterLocation']['x'] = x\n",
        "  with output:\n",
        "    output.clear_output(wait=True)\n",
        "    plot_fig_from_scratch(stateDict)\n",
        "    print(\"Left Button clicked.\")\n",
        "    print(\"New coordinate value is ({},{}).\".format(x,y))\n",
        "    \n",
        "def on_rightButton_clicked(b):\n",
        "  x = stateDict['critterLocation']['x']\n",
        "  y = stateDict['critterLocation']['y']\n",
        "  if x < 10.0 :\n",
        "    x = x+1\n",
        "  elif x >= 10.0:\n",
        "    x = 9.0\n",
        "  stateDict['critterLocation']['x'] = x\n",
        "  with output:\n",
        "    output.clear_output(wait=True)\n",
        "    plot_fig_from_scratch(stateDict)\n",
        "    print(\"Right Button clicked.\")\n",
        "    print(\"New coordinate value is ({},{}).\".format(x,y))\n",
        "\n",
        "upButton.on_click(on_upButton_clicked)\n",
        "downButton.on_click(on_downButton_clicked)\n",
        "leftButton.on_click(on_leftButton_clicked)\n",
        "rightButton.on_click(on_rightButton_clicked)\n",
        "\n",
        "\n",
        "display(upButton, downButton, leftButton, rightButton, output)\n",
        "\n",
        "# 20 random button presses one every ~3 seconds\n",
        "for ii in range(20):\n",
        "  move = np.random.randint(0,4)\n",
        "  if move == 0:\n",
        "    upButton.click()\n",
        "  elif move == 1:\n",
        "    downButton.click()\n",
        "  elif move == 2:\n",
        "    leftButton.click()\n",
        "  elif move == 3:\n",
        "    rightButton.click()\n",
        "  else:\n",
        "    print('should not happen')\n",
        "  time.sleep(3)\n",
        "\n",
        "#need to figure out how to overlay/interleave user button mashing and timed random button mashing"
      ],
      "metadata": {
        "colab": {
          "base_uri": "https://localhost:8080/",
          "height": 593,
          "referenced_widgets": [
            "f8ec51731dab42e7a8dd3c200d129711",
            "1014e9b8d66148e0aafd22ec37c1bd3d",
            "2c154e264d194894bcb69c7c51f33f57",
            "759dc9e8214049b6ac6efdcefb10f837",
            "7edc73868ac04ac5b6f3b79b5fc76e89",
            "936ed010edab4ebcb4ff09320f991ac8",
            "db3db3cc6244460a85ceab65bef88303",
            "ff69b2de80bf489fa4fe4f12db364b96",
            "33e33d44ebeb47d3860b5c8b5321faf8",
            "4455958f8f2943ec8a784620e568a2dd",
            "42824fdf01474678a2a4c8ff3a1f6611",
            "bca75ffcea36492297eb6d77824ab467",
            "2ff2875b975d45b396031b52dae0513b",
            "c0a6f5be01544254898c12d06f618e88"
          ]
        },
        "id": "w95mHuQirbog",
        "outputId": "70994bdc-4403-4ce6-8eab-bd1b81f16da5"
      },
      "execution_count": null,
      "outputs": [
        {
          "output_type": "display_data",
          "data": {
            "text/plain": [
              "Button(description='Up', style=ButtonStyle())"
            ],
            "application/vnd.jupyter.widget-view+json": {
              "version_major": 2,
              "version_minor": 0,
              "model_id": "f8ec51731dab42e7a8dd3c200d129711"
            }
          },
          "metadata": {}
        },
        {
          "output_type": "display_data",
          "data": {
            "text/plain": [
              "Button(description='Down', style=ButtonStyle())"
            ],
            "application/vnd.jupyter.widget-view+json": {
              "version_major": 2,
              "version_minor": 0,
              "model_id": "759dc9e8214049b6ac6efdcefb10f837"
            }
          },
          "metadata": {}
        },
        {
          "output_type": "display_data",
          "data": {
            "text/plain": [
              "Button(description='Left', style=ButtonStyle())"
            ],
            "application/vnd.jupyter.widget-view+json": {
              "version_major": 2,
              "version_minor": 0,
              "model_id": "db3db3cc6244460a85ceab65bef88303"
            }
          },
          "metadata": {}
        },
        {
          "output_type": "display_data",
          "data": {
            "text/plain": [
              "Button(description='Right', style=ButtonStyle())"
            ],
            "application/vnd.jupyter.widget-view+json": {
              "version_major": 2,
              "version_minor": 0,
              "model_id": "4455958f8f2943ec8a784620e568a2dd"
            }
          },
          "metadata": {}
        },
        {
          "output_type": "display_data",
          "data": {
            "text/plain": [
              "Output()"
            ],
            "application/vnd.jupyter.widget-view+json": {
              "version_major": 2,
              "version_minor": 0,
              "model_id": "2ff2875b975d45b396031b52dae0513b"
            }
          },
          "metadata": {}
        }
      ]
    },
    {
      "cell_type": "markdown",
      "source": [
        "Useful scavenging from github and SO"
      ],
      "metadata": {
        "id": "jR6a05QT70wo"
      }
    },
    {
      "cell_type": "code",
      "source": [
        "# @title Simulation Setup\n",
        "# @markdown You don't need to worry about how this code works – but you do need to **run the cell** to start the simulation\n",
        "# keep track of all relevant states of the simluation in a global state dictionary\n",
        "\n",
        "def initState(xSize=10,\n",
        "              ySize=10,\n",
        "              numFoods=30,\n",
        "              xyCritter=None):\n",
        "  state = {'numMoves': 0,\n",
        "           'numEats': 0,\n",
        "           'numFoods': numFoods,\n",
        "           'xyFoodLoc': np.array([[]]),\n",
        "           'intFoodLoc': np.array([]),\n",
        "           'xSize': xSize,\n",
        "           'ySize': ySize}\n",
        "\n",
        "  #randomly initialize food locations\n",
        "  state['intFoodLoc'], state['xyFoodLoc'] = initLoc(state['xSize'],state['ySize'],state['numFoods'])\n",
        "\n",
        "  if xyCritter is None:\n",
        "    # put critter roughly in the middle\n",
        "    state['xyCritterLoc'] = np.array([[np.floor(state['xSize']/2), np.floor(state['ySize']/2)]], dtype=int)\n",
        "    state['intCritterLoc'] = np.ravel_multi_index((state['xyCritterLoc'][:,0],state['xyCritterLoc'][:,1]), (state['xSize'], state['ySize']))\n",
        "  else:\n",
        "    state['xyCritterLoc'] = np.array(xyCritter).reshape((1,2))\n",
        "    state['intCritterLoc'] = np.ravel_multi_index((state['xyCritterLoc'][:,0],state['xyCritterLoc'][:,1]), (state['xSize'], state['ySize']))\n",
        "  return state\n",
        "\n",
        "state = initState()\n",
        "\n",
        "def updateCritterLocation(x, y):\n",
        "  state['numMoves'] = state['numMoves'] + 1\n",
        "  state['xyCritterLoc'] = np.array([[x,y]])\n",
        "  state['intCritterLoc'] = np.ravel_multi_index((state['xyCritterLoc'][:,0],state['xyCritterLoc'][:,1]), (state['xSize'], state['ySize']))\n",
        "\n",
        "def eating():\n",
        "  # is the critter on a food patch\n",
        "  if state['intCritterLoc'][0] in set(state['intFoodLoc']):\n",
        "    #critter is on a food patch\n",
        "    state['numEats'] = state['numEats'] + 1\n",
        "    # figure out where the new food will go where there isn't already food\n",
        "    newFoodLoc = np.random.choice(list(set(np.arange(state['xSize']*state['ySize'])) - set(state['intFoodLoc'])))\n",
        "    #remove the eaten food\n",
        "    newFoodLocSet = set(state['intFoodLoc'])\n",
        "    newFoodLocSet.remove(state['intCritterLoc'][0])\n",
        "    # add the new food\n",
        "    newFoodLocSet.add(newFoodLoc)\n",
        "    \n",
        "    #update state\n",
        "    state['intFoodLoc'] = np.array(np.sort(list(newFoodLocSet)))\n",
        "    state['xyFoodLoc'] = np.vstack(np.unravel_index(state['intFoodLoc'], (state['xSize'], state['ySize']))).T\n",
        "    state['eatingString'] = ('You ate the food here, new food at ' + str(np.unravel_index(newFoodLoc, (state['xSize'], state['ySize']))))\n",
        "  else:\n",
        "    state['eatingString'] = 'No food here'\n",
        "\n",
        "def updateState(x, y):\n",
        "  updateCritterLocation(x, y)\n",
        "  eating()\n",
        "  #print(stateDict['foodLocationsUnravel'])\n",
        "\n",
        "output = widgets.Output()\n",
        "\n",
        "def plotFigFromScratch():\n",
        "  fig, ax = makeGrid(state['xSize'], state['ySize'])\n",
        "  plotFood(fig, ax, state['xyFoodLoc'])\n",
        "  plotCritter(fig, ax, state['xyCritterLoc'])\n",
        "  fig.legend(loc = \"outside right upper\")\n",
        "  plt.show()\n",
        "\n",
        "upButton = widgets.Button(description=\"Up\")\n",
        "downButton = widgets.Button(description=\"Down\")\n",
        "leftButton = widgets.Button(description=\"Left\")\n",
        "rightButton = widgets.Button(description=\"Right\")\n",
        "randomMovement = widgets.Checkbox(\n",
        "    value=False,\n",
        "    description='Move Randomly',\n",
        "    disabled=False,\n",
        "    indent=False\n",
        ")\n",
        "\n",
        "def randomClick():\n",
        "  move = np.random.randint(0,4)\n",
        "  if move == 0:\n",
        "    upButton.click()\n",
        "  elif move == 1:\n",
        "    downButton.click()\n",
        "  elif move == 2:\n",
        "    leftButton.click()\n",
        "  elif move == 3:\n",
        "    rightButton.click()\n",
        "  else:\n",
        "    print('should not happen')\n",
        "\n",
        "\n",
        "class Timer:\n",
        "  def __init__(self, timeout, callback):\n",
        "    self._timeout = timeout\n",
        "    self._callback = callback\n",
        "  async def _job(self):\n",
        "    await asyncio.sleep(self._timeout)\n",
        "    self._callback()\n",
        "  def start(self):\n",
        "    self._task = asyncio.ensure_future(self._job())\n",
        "  def cancel(self):\n",
        "    self._task.cancel()\n",
        "\n",
        "clickTimer = Timer(5.0, randomClick)\n",
        "\n",
        "def buttonOutputUpdate(whichButton, x, y):\n",
        "  with output:\n",
        "    if randomMovement.value == True:\n",
        "      if hasattr(clickTimer, '__Task'):\n",
        "        clickTimer.cancel()\n",
        "    output.clear_output(wait=True)\n",
        "    print(\"Moved \" + whichButton + \". \" + \"Criter is now at ({}, {}).\".format(x,y))\n",
        "    print(state['eatingString'])\n",
        "    print(\"Moves: {0} \\tFood Eaten: {1} \\tFood Per Move: {2}\".format(state['numMoves'], state['numEats'], state['numEats'] / state['numMoves']))\n",
        "    plotFigFromScratch()\n",
        "    if randomMovement.value == True:\n",
        "      clickTimer.start()\n",
        "\n",
        "def on_upButton_clicked(b):\n",
        "  whichButton = 'up'\n",
        "  x = state['xyCritterLoc'][0][0]\n",
        "  y = state['xyCritterLoc'][0][1]\n",
        "  if y >= state['ySize']-1:\n",
        "    y = state['ySize'] - 2\n",
        "  elif y < state['ySize']-1:\n",
        "    y = y+1\n",
        "  updateState(x, y)\n",
        "  buttonOutputUpdate(whichButton, x, y)\n",
        "\n",
        "def on_downButton_clicked(b):\n",
        "  whichButton = 'down'\n",
        "  x = state['xyCritterLoc'][0][0]\n",
        "  y = state['xyCritterLoc'][0][1]\n",
        "  if y > 0 :\n",
        "    y = y-1\n",
        "  elif y <= 0:\n",
        "    y = 1\n",
        "  updateState(x, y)\n",
        "  buttonOutputUpdate(whichButton, x, y)\n",
        "\n",
        "def on_leftButton_clicked(b):\n",
        "  whichButton = 'left'\n",
        "  x = state['xyCritterLoc'][0][0]\n",
        "  y = state['xyCritterLoc'][0][1]\n",
        "  if x > 0 :\n",
        "    x = x-1\n",
        "  elif x <= 0:\n",
        "    x = 1\n",
        "  updateState(x, y)\n",
        "  buttonOutputUpdate(whichButton, x, y)\n",
        "    \n",
        "def on_rightButton_clicked(b):\n",
        "  whichButton = 'right'\n",
        "  x = state['xyCritterLoc'][0][0]\n",
        "  y = state['xyCritterLoc'][0][1]\n",
        "  if x >= state['xSize']-1:\n",
        "    x = state['xSize'] - 2\n",
        "  elif x < state['xSize']-1:\n",
        "    x = x+1\n",
        "  updateState(x, y)\n",
        "  buttonOutputUpdate(whichButton, x, y)\n",
        "\n",
        "upButton.on_click(on_upButton_clicked)\n",
        "downButton.on_click(on_downButton_clicked)\n",
        "leftButton.on_click(on_leftButton_clicked)\n",
        "rightButton.on_click(on_rightButton_clicked)"
      ],
      "metadata": {
        "id": "y0C9pJ9WGzBc"
      },
      "execution_count": null,
      "outputs": []
    },
    {
      "cell_type": "code",
      "source": [
        "out = widgets.Output(layout=widgets.Layout(height='300px'))\n",
        "\n",
        "x = np.linspace(0,1,100)\n",
        "\n",
        "def update_plot(w):\n",
        "    with out:\n",
        "        # Without clear_output(), figures get appended below each other inside\n",
        "        # the output widget\n",
        "        # Ah ha! Got it! I need wait=True!\n",
        "        out.clear_output(wait=True)\n",
        "        plt.plot(x, x**p_widget.value)  \n",
        "        plt.show()\n",
        "\n",
        "p_widget = widgets.FloatSlider(min=0, max=2, step=0.1, value = 1)\n",
        "update_plot([])\n",
        "p_widget.observe(update_plot)\n",
        "display(p_widget, out)"
      ],
      "metadata": {
        "colab": {
          "base_uri": "https://localhost:8080/",
          "height": 452,
          "referenced_widgets": [
            "4c6675b31b40437a8f35e33cceb0b2ff",
            "3c9cdcb9f9b64c68bd3983c190691dea",
            "185d5ad7de1a4d4da4fe14764ed0ec42",
            "f56fbed727b4436bb4c134bb4f9a39d3",
            "5264a3d8d34941a9b2c4d807c0f1abd1"
          ]
        },
        "id": "MsACAZm2k7iU",
        "outputId": "6e50d0ff-6e72-4da6-f9b5-351e2fc6c200"
      },
      "execution_count": null,
      "outputs": [
        {
          "output_type": "display_data",
          "data": {
            "text/plain": [
              "FloatSlider(value=1.0, max=2.0)"
            ],
            "application/vnd.jupyter.widget-view+json": {
              "version_major": 2,
              "version_minor": 0,
              "model_id": "4c6675b31b40437a8f35e33cceb0b2ff"
            }
          },
          "metadata": {}
        },
        {
          "output_type": "display_data",
          "data": {
            "text/plain": [
              "Output(layout=Layout(height='300px'))"
            ],
            "application/vnd.jupyter.widget-view+json": {
              "version_major": 2,
              "version_minor": 0,
              "model_id": "f56fbed727b4436bb4c134bb4f9a39d3"
            }
          },
          "metadata": {}
        }
      ]
    },
    {
      "cell_type": "code",
      "source": [
        "import ipywidgets as widgets\n",
        "\n",
        "x = 0\n",
        "y = {\"x\": 0}\n",
        "b = widgets.Button(description=\"Do it\")\n",
        "\n",
        "def doit(obj):\n",
        "    print(x, y)\n",
        "    # x += 1 # uncommenting makes the above print fail\n",
        "    y[\"x\"] += 1 # this is ok\n",
        "\n",
        "b.on_click(doit)\n",
        "display(b)"
      ],
      "metadata": {
        "colab": {
          "base_uri": "https://localhost:8080/",
          "height": 49,
          "referenced_widgets": [
            "4157023b724844d0ba31c21e96853540",
            "3fcaddae65884d5db69d5fd087edce12",
            "eaad0af0fc5644e5a36d50e389d1a4a3"
          ]
        },
        "id": "Fz3zdqkmOs0g",
        "outputId": "a41610fa-8cff-4e6d-e1c6-99a539650ba2"
      },
      "execution_count": null,
      "outputs": [
        {
          "output_type": "display_data",
          "data": {
            "text/plain": [
              "Button(description='Do it', style=ButtonStyle())"
            ],
            "application/vnd.jupyter.widget-view+json": {
              "version_major": 2,
              "version_minor": 0,
              "model_id": "4157023b724844d0ba31c21e96853540"
            }
          },
          "metadata": {}
        }
      ]
    },
    {
      "cell_type": "code",
      "source": [
        "# how to get figures to work in this context nicely???\n",
        "a = widgets.FloatSlider(description='a', min=0, max=10)\n",
        "b = widgets.FloatSlider(description='b', min=0, max=10)\n",
        "c = widgets.FloatSlider(description='c', min=0, max=10)\n",
        "\n",
        "def f(a, b, c):\n",
        "    print('{}*{}*{}={}'.format(a, b, c, a*b*c))\n",
        "\n",
        "out = widgets.interactive_output(f, {'a': a, 'b': b, 'c': c})\n",
        "\n",
        "widgets.HBox([widgets.VBox([a, b, c]), out])"
      ],
      "metadata": {
        "colab": {
          "base_uri": "https://localhost:8080/",
          "height": 113,
          "referenced_widgets": [
            "840c7ade75934997b75e90b6f0a9b01e",
            "6a24d42792dc4baa8db7c201d93dc114",
            "18fdae61999140028e7ead68e761343b",
            "7ca3ba725bf441158749a634dbeaaf02",
            "c580a222d67f4d31b89e91c43721aafa",
            "e301def9619e4863b3c2008635faf601",
            "e82f3d25ebcc4d4dae1edd392158636f",
            "438feaf3f431431da9e22a19516d8efe",
            "383837ce1b7b43f7b2ad0926751f113c",
            "a88e078e8faa4fa0aff22d88574bf221",
            "8c1762a52af14879b408bfa44bc072d1",
            "24d558a71055470eb543c3a3fa55b807",
            "765e11a4c652497eb9396aa00125c1b2",
            "7f763399c61f4ef58828e90c81c37964",
            "77c96522cda646778ee5499c8af908c8"
          ]
        },
        "id": "jL81nc9XSn1M",
        "outputId": "9bf9cb76-5e1d-475a-eadf-c3a005ac695b"
      },
      "execution_count": null,
      "outputs": [
        {
          "output_type": "display_data",
          "data": {
            "text/plain": [
              "HBox(children=(VBox(children=(FloatSlider(value=0.0, description='a', max=10.0), FloatSlider(value=0.0, descri…"
            ],
            "application/vnd.jupyter.widget-view+json": {
              "version_major": 2,
              "version_minor": 0,
              "model_id": "840c7ade75934997b75e90b6f0a9b01e"
            }
          },
          "metadata": {}
        }
      ]
    },
    {
      "cell_type": "code",
      "source": [
        "from matplotlib import animation, rc, patches\n",
        "from IPython.display import HTML"
      ],
      "metadata": {
        "id": "HF05s7WtvHav"
      },
      "execution_count": null,
      "outputs": []
    },
    {
      "cell_type": "code",
      "source": [
        "# First set up the figure, the axis, and the plot element we want to animate\n",
        "fig, ax = plt.subplots()\n",
        "\n",
        "ax.set_xticks(np.arange(0, 11, 1))\n",
        "ax.set_yticks(np.arange(0, 11, 1))\n",
        "\n",
        "# Labels for major ticks\n",
        "ax.set_xticklabels(np.arange(0, 11, 1))\n",
        "ax.set_yticklabels(np.arange(0, 11, 1))\n",
        "\n",
        "# Minor ticks\n",
        "ax.set_xticks(np.arange(1.5, 10.5, 1), minor=True)\n",
        "ax.set_yticks(np.arange(1.5, 10.5, 1), minor=True)\n",
        "\n",
        "# Gridlines based on minor ticks\n",
        "ax.grid(which='minor', color='grey', linestyle='-', linewidth=2, alpha=0.5)\n",
        "\n",
        "# Remove minor ticks\n",
        "ax.tick_params(which='minor', bottom=False, left=False)\n",
        "\n",
        "ax.set_xlim(( 0.5, 10.5))\n",
        "ax.set_ylim(( 0.5, 10.5))\n",
        "\n",
        "#ax.axis(\"equal\")\n",
        "scatter = ax.scatter([], [])\n",
        "#critterCircle = plt.Circle((5,5), 0.4)\n",
        "#dot = ax.add_patch(critterCircle)\n",
        "#scatter.set_offsets([[5, 5]])\n",
        "\n",
        "scatter.set_offsets([[3, 11-3]])\n",
        "#fig.canvas.draw()\n",
        "#fig.canvas.flush_events()"
      ],
      "metadata": {
        "colab": {
          "base_uri": "https://localhost:8080/",
          "height": 430
        },
        "id": "fXtyHFy6v4VQ",
        "outputId": "e7c19d99-5471-499b-e273-f0f2137a3d9a"
      },
      "execution_count": null,
      "outputs": [
        {
          "output_type": "display_data",
          "data": {
            "text/plain": [
              "<Figure size 640x480 with 1 Axes>"
            ],
            "image/png": "[encoded data removed]"
          },
          "metadata": {}
        }
      ]
    },
    {
      "cell_type": "code",
      "source": [
        "def init():\n",
        "    scatter.set_offsets([[5, 5]])\n",
        "    return scatter,"
      ],
      "metadata": {
        "id": "fwA6cdwO9sd4"
      },
      "execution_count": null,
      "outputs": []
    },
    {
      "cell_type": "code",
      "source": [
        "def animate_dot(i):\n",
        "    print(i)\n",
        "    x = i\n",
        "    y = 11-i\n",
        "    scatter.set_offsets([[x, y]])\n",
        "    return scatter, "
      ],
      "metadata": {
        "id": "oqR6qYdR8CDI"
      },
      "execution_count": null,
      "outputs": []
    },
    {
      "cell_type": "code",
      "source": [
        "# call the animator. blit=True means only re-draw the parts that have changed.\n",
        "anim = animation.FuncAnimation(fig, animate_dot, init_func=init,\n",
        "                               frames=(np.arange(10)+1), interval=500, blit=True)"
      ],
      "metadata": {
        "id": "tdSdZllW5KDV"
      },
      "execution_count": null,
      "outputs": []
    },
    {
      "cell_type": "code",
      "source": [
        "HTML(anim.to_html5_video())"
      ],
      "metadata": {
        "colab": {
          "base_uri": "https://localhost:8080/",
          "height": 675
        },
        "id": "B4-apUlpPjqG",
        "outputId": "f58f671f-80fd-45db-c603-37bd9339bc4c"
      },
      "execution_count": null,
      "outputs": [
        {
          "output_type": "stream",
          "name": "stdout",
          "text": [
            "1\n",
            "2\n",
            "3\n",
            "4\n",
            "5\n",
            "6\n",
            "7\n",
            "8\n",
            "9\n",
            "10\n"
          ]
        },
        {
          "output_type": "execute_result",
          "data": {
            "text/plain": [
              "<IPython.core.display.HTML object>"
            ],
            "text/html": [
              "<video width=\"640\" height=\"480\" controls autoplay loop>\n",
              "  <source type=\"video/mp4\" src=\"data:video/mp4;base64,AAAAHGZ0eXBNNFYgAAACAGlzb21pc28yYXZjMQAAAAhmcmVlAAAieW1kYXQAAAKtBgX//6ncRem9\n",
              "5tlIt5Ys2CDZI+7veDI2NCAtIGNvcmUgMTU1IHIyOTE3IDBhODRkOTggLSBILjI2NC9NUEVHLTQg\n",
              "QVZDIGNvZGVjIC0gQ29weWxlZnQgMjAwMy0yMDE4IC0gaHR0cDovL3d3dy52aWRlb2xhbi5vcmcv\n",
              "eDI2NC5odG1sIC0gb3B0aW9uczogY2FiYWM9MSByZWY9MyBkZWJsb2NrPTE6MDowIGFuYWx5c2U9\n",
              "MHgzOjB4MTEzIG1lPWhleCBzdWJtZT03IHBzeT0xIHBzeV9yZD0xLjAwOjAuMDAgbWl4ZWRfcmVm\n",
              "PTEgbWVfcmFuZ2U9MTYgY2hyb21hX21lPTEgdHJlbGxpcz0xIDh4OGRjdD0xIGNxbT0wIGRlYWR6\n",
              "b25lPTIxLDExIGZhc3RfcHNraXA9MSBjaHJvbWFfcXBfb2Zmc2V0PS0yIHRocmVhZHM9MyBsb29r\n",
              "YWhlYWRfdGhyZWFkcz0xIHNsaWNlZF90aHJlYWRzPTAgbnI9MCBkZWNpbWF0ZT0xIGludGVybGFj\n",
              "ZWQ9MCBibHVyYXlfY29tcGF0PTAgY29uc3RyYWluZWRfaW50cmE9MCBiZnJhbWVzPTMgYl9weXJh\n",
              "bWlkPTIgYl9hZGFwdD0xIGJfYmlhcz0wIGRpcmVjdD0xIHdlaWdodGI9MSBvcGVuX2dvcD0wIHdl\n",
              "aWdodHA9MiBrZXlpbnQ9MjUwIGtleWludF9taW49MiBzY2VuZWN1dD00MCBpbnRyYV9yZWZyZXNo\n",
              "PTAgcmNfbG9va2FoZWFkPTQwIHJjPWNyZiBtYnRyZWU9MSBjcmY9MjMuMCBxY29tcD0wLjYwIHFw\n",
              "bWluPTAgcXBtYXg9NjkgcXBzdGVwPTQgaXBfcmF0aW89MS40MCBhcT0xOjEuMDAAgAAAGWhliIQA\n",
              "Fv/+99M/zLLr9zm146j3op4mX0N1JQGblsTtOoAAAAMAAAMAAB68FghEPzIoq68AAAMAyoAYTY/+\n",
              "FMcfAJIKCni9uhIRM4Ac7F1ICKkHnsKJmU/2hbhxrsBvbYuwOYIZyVULWOa02y6NItWLd1ecGsXx\n",
              "RT1/vFCbpd6PpDD2TqvgI87qzIfH6XvUxakI7VMPO6fMfvtHuti2v1MeAHxiuZOioFbyvGwd4I33\n",
              "5LNhJvj8ukQoB2RbrH65fe5vSjmijglFr9HY4LghqccnyaqWdon5YbFxjn5pz4bzQikm10D9zVLX\n",
              "Fn63zKMBUEZVxbcTHNrByZREQZQAMEclILb/zGT2ns6mVL11Nt1GiJrARvY9uo8susL1EPBN7RbC\n",
              "ilq+hKqfJKTMRqELN8fXb7t3wPyySMAGlcmLU5xhrJDbNTj9WjlHYEp6VO3UhE/89z94QCACCwk4\n",
              "KdFq43XNtnkRT4qCfR8BdfnoC7hfljpv1xdvb6IUCGwnyvn/VzIbmfFG9AfcMdOOCTQRY5NEyWkX\n",
              "+rO+9Lymz/6jb+35uS3oTp9j0Xe1lOGbXxsUe2OecPoHkLHvdjj8sUEepflMrzf8mpN549nPU5Mc\n",
              "fy9vWQVTfG9JKg9+86NNGRfzpypxyyUS1GPrp+V+URep429Hhx25UjYkF8NnhlovdtfYwMs5eM0f\n",
              "sb1V5aXlZEdhabjl0vCmF30i5A+e5XETby8TMvFdMuAAD+/NZfSZcOY9Y6nLlobBIFCMcVtvzEEy\n",
              "/vqApMIunCW30EkfXTguX54xz1/Eowj0xc9PVsUTmatPpi8ZzPWiRQq91aasTmYd5Wjw3KYfbCsi\n",
              "HkDo4SrIjoejAr+59hCVIPtzm9lGRyCg/j/BJnh6DuFo60Sz395JGbRc2XKljDvnDlBbD7jLz4xv\n",
              "urJqoN+NbL5qpQSr/zAac6+tlm06Wz+U84Na7MzvQ3x7fX3O0IoM8M1XleIQg6GI0lzFhnuGYpLU\n",
              "GPlxNjxBROl/CAGv9jtZ1A2KoqW3nLlm0guTYZ1hB8KU8VsNxmPNwfaGyH6cvds/DRQLk8+azfM5\n",
              "v6xDVD4yLV6Zu+QsBI/Pg4UCnm4XI/IlZHSWD4VPbeSPDdlfrng/RIOjj1K8yGDFSKbUxsPXADi+\n",
              "IHoKix5MtnWYNVyeak/oBtuoOMEfsQpaPuiVRrR2n2xgSKf/O7m/LCZKf6jrIVTdaAXoHks1QiyW\n",
              "tff9mWCiAnOttJ3p+MYgTnXFU/z2pg4vggwbzxZ5GHo1mqBjzxSQAVoUBMRwvDlhP9/tV9O5DNVM\n",
              "Kdth1JHLxLMAQxnI3TPmJOvcnug/oRv8u2cS076/zD0dET04RdXZv42UgscY8Kw7xyflvstb3VZ/\n",
              "nrevwz5x29Md7BO6yEHqf985HgKVsW5vwWpvmYANVCn0thTZgKeq1FGL67HDuvONWDiKf0RGU4eR\n",
              "y8av56NxQCU5no3xc43FjpiVTgVEbh/mm/7Vy6gv7+CRVRX+khE1/Z5VEMyYxjGyfAqs0+BTkZoV\n",
              "+R0rVOwvw8SG4iMhkWFAtHmC6UJDv2LZ0sgmUq9nIHaTxgF2PmzgOPdL6GDF1QI9gKt2H5TbphTj\n",
              "ICYBd+aijcBUwf6sr0cRBy7NYoen+zkfpRmgW4VscuUBgNoAAAMDpwIx5SVkEwahT2NvucGo0QQ3\n",
              "lEk85ZuOuCajzrKM6NtiEjgYna/rPykivbxO3e9d+QyRmx6kfK6ATAdKv9EALuA+A8/ZMCvI8LGj\n",
              "829QXgWjU2fOfJCId5BqVIG0R0gQA6y3NWQNsBrdU0U5BpWhM0NcB5lHyX1rzqSdyy6GWC9Q+nlM\n",
              "5wc2IxJVy+Ieqtmv2M2LGEVq+zJ37s6Ezo7S7jdC4O48/PSzLFzywh4e3Zolmo8iJzDrunuVY85i\n",
              "/0Q1nlE0yiYd8Qrxaq2RGO3vC4nFD4cRV1iPVQNopHqFbGSCwIQ94RUpyNew1EpScGrHDUlLD6tq\n",
              "dryty89kxnrIm1bxX9Y9A7sUESnXwXj17lgl3qgYHbObvEtCU89yglSnlBsJOIUkoFFDw/Zwhute\n",
              "TzTctjhjomfGVQk+8u4AVJxVFtlVvMSXtqPamFsielNAjblNzCUvj/cp+DgDwizDyTxXmXsByRIZ\n",
              "//jFn6VWMfKAVXh6LZ5gzDzUhoGS/11FrWqsgM+Yv1evCPcU8TaeBlc2eMz8OkJ6isxW5givHf3I\n",
              "IOUvQ93YmseXtmhzMf5EBwFUgacs2Wblu6EG2t6JKXu+p52Z1oKDfhNyiiBCcQfl6JE/iS1ZOmYj\n",
              "J9thX/iWczf42aqXd1brbABsUoMkdqW+yMECTbUXpFI/DoTJg7u5DRFIDfsPU2RzT8SF79AADh99\n",
              "R9gBlIaNUR5Ft5qmEXKKGGd3DA8bKJ6t9O8l3d06cp5jRq4pE7yFauqokL/zZlQ9O+7+q+yzPTXb\n",
              "E8mlm1PQMIuPM1uknLn7NE9BZSAbHzqaxLerVaog3FOj6xy6WKopRuLarswpolo/pRHG/Pa/Lea/\n",
              "uysGJ0aI5LzkY0lfjVPx4RjuPmwOBQ8GVPgje5svf9tZ0x5SKPF8IjoiIhoeZFUqtJiv5lg/tG0f\n",
              "PNi6SbMrtsz4visv9z4fZbAjNHg/JNL0rib6oVOk4PSIoZsFnD7I4ue7HIBk8YV4hWRhnXNkndxq\n",
              "KSF0kk+PobBbZ/MWsidjNbjarlX5ODG60OUtKTZMzZc6hSJTgpEGRlhM9lQm8VaHZ5pO/KKqrNBe\n",
              "dBJ5RU0SzD/1AIZTAkF18ijJAe6a9WYwQoXrGTx76WBEeEP6srMqs+F2Y7BsUUmYvK18p5CkKxad\n",
              "78e4WFaK4sPa1pQ4lh2yaPrGAbThw1OJJtbFvoyLAvu7js+dANzuCPx87kePvOQH+TaHuSeen7ui\n",
              "g0CPBRpwFPwwv7NeMa8n3lEQoDnhTysEdUszCzrR/cdFcDOF8WIKa2BvyBysYPtIzXf3ZMGQXFC1\n",
              "do/CCDGdBWTq/7ZQpBqFsYqgh/G0TXwAAAuoNNuTkhNF3MK5MaRgeBsMgACeWf1qDIGV3UreRp+a\n",
              "wqAqDVCh6j0XwvswyuTvtGSNutNyi/p/qD0plWrWspKWNeyd4h8+TQizmo93INxzMXOhzbekMioH\n",
              "oNnzBXIqgAAKu/HFDWGUb+7Xkifq7FPKfC1e7F8ayDlDAr9HMdpZ/EQ13fZkPzoxMdA+RjbT8qsE\n",
              "xcv76p2e4P5US2kd8xYrRyYkmKR5VniF5BaHrrgoybIdJixQky6HPl/295PAzVwit10CObXxeMp0\n",
              "98OV1hVuHnLf0BaWOFvvyIX4LmjJ0wZSl1YiojEdk5Angf0xbG92vIOektokacCtSEWyxmk7e3pH\n",
              "bfDnffqPzZ1sqhYFVZ/9w10kR5f4Dbnl5QBtwkf5qPppBDwje3+na6wRFnr6jC9ijNGhrPB719Kz\n",
              "Jx0IKONz/QqceJ/Jb6Ta6lUPM25WWhv5bpcGZvSxaa1EJJnc13tOVptKt9XuuwCwAwkvSps0qPmu\n",
              "L2X+RBjgzQOUHR6Kb2PfpAzu7YbOxOCxSAgf5o+pad9Y98taihe0dvRLB9Ki7AVO/4sUfvkgAAAD\n",
              "Ac5S8e/4QfAzCvwzE2+pxjvOznKQJZViAAADAADaNLr7/8ebZC8yl8NUVcw1dpTimLGybUPcATU/\n",
              "5UY25wpxmabWgGbyD59DTf6O6S7VB0tbpdEdjpef73rcXPAG8D8Pey5MHHgT2GqlsZ0z39YgfQVJ\n",
              "Awm2/1p7jYmEIqRK7ihK+MrZ+EHbhPgMAcDihHpkCAZ+wLtumab28ckfI4gf0wEHRKMBoH/MR7Rr\n",
              "NMNE2i69XlgDVTHakDRy1ofzFgNfXqJb2HdIA5zL0moGVmakvxecjqrj/EiMseUwRz61cS0Z7huw\n",
              "S4nCdMoQx48qmV/eYR2AzLzYX7hOcpWDRXKdHGJC8wdRKi4DQePIwoBv6DWSAGYU2Xn7jZpwbawa\n",
              "NcwGdIoA+ugN6sa7Zs3+v2b09L263ATo0VmgKgRj6cnHmqWlW6xC8Z+2v7F/2xVCbOg6rencmmMj\n",
              "tYk5V8nwzH2jandEBCXrYd1Wv7ls8l2aARB2pmQPbKDjdEZwChiWCmdtoykn+HDyFLB23MuK7x11\n",
              "rrH7mgclsS+murpYcffveem8zPznfwrazxtUVqSfyJceCYQ0vXUvqIIT6ioB4bpOPDBAwAAAAwAl\n",
              "VjPeJkdGqtTv1DjDzzdevJoQxYjzCxClkilxSGGhdUlSOE4jFKLzUWGbm5vSQiRe7T/Fj+Qf5pI+\n",
              "11urAp/qEv61Htl8jykOwE/tQXefYEMzVelHvSYpCGknP5N5Gg04Gw8A6YVU1+qUxsC1quyY9Xmk\n",
              "jU2/n7oOIp39mjdCnOYRdpHqyICkOUtBzUzpNzNUxc/MvqLLQrv+4Q5oAX+J+pM+Gv2XziA+wHLD\n",
              "dt+BS7ntzmxnz1V7EN+iPMDrITswBR/CKsCIrAFbsjVuICpGQFBYHUIt8gQiVq/Tn7wzQGXgwBl5\n",
              "3tU74p/8gwrgVb19l9smtP88ZPU1bG00/k34ajeOXGJPIVqcv7VlJQCW/HEexUbLEz/PtHPdhpR4\n",
              "d9sAyla2e0RU96vKsujry+Fdu/8eyS93hEG80BB8Hoaq/WrEKVIQY/wIUtP/OSd5MfIVVVEr/hvK\n",
              "GA5YkBIVXw+6+mqAWzme+K79UY/+DSGUARqPQ5jTaIhFtfafzmnoj2tktFzp6OiiVfHLi4Ngi0eW\n",
              "0ksZrO3oJbeb6QnqeF6hwWIObc/nn9MXFDvNvYGU/hnsPeuG+TtKZiaHP5Q+6t1/7jzq4Df87m4f\n",
              "Lhci7H27I3TVlWCYS+GCaAenNxibzqw5Hqoym/homRmYOOeVqWg25yrVozHrcxJM7436MLGhhdgA\n",
              "QDtSLHJ4Sk8AMWD5eeK2mD6Ha+eTUGH7qWy/R/2xEdxOoVeOLHiLnbCnVr0+SlhmnvUMogz8kzBk\n",
              "Tm5+0xMHUlcWyhfJApHyD++taeUeIVZ9gkSfr5uIwJ/Bd+gS49uZ94OWtXG3Io3XqJoxV8zYo7pL\n",
              "i5JuFUH3Td+DxqUmxdnNiUh0TPlo5kwP0NWa1kFtO09nqeq2qtPCkWWugWSO23RBb5T0QIy4k99h\n",
              "Vtn0ftvn0BbklP2fXNYhyJ6lCBYCaQtLaqkMR6BmhIoMeol774i7kScLQ5D69dVJA9cvr2d7QynW\n",
              "w28SzgfbTT+VWn/3XwgIguwPhm3HTpgW6FfwjZBUQqr+RYD44XW5ukv7p9I12TnxsfOy+f83pWVO\n",
              "UfOQeb5SeV860Qa3As0zPumk9gABsbRdwAoonithRYYNy4MpVTXIzq+DvQ256OnyE5wGR9fHnylN\n",
              "n3h7kDmqxbK8rKrqpvnWNerGqq9lVfVDSAR8he2lprkUqNNKBlCJ6NyTRO4/kMFRE5PKS1anP/Pa\n",
              "SDQc+iHFVQJSGkiiAVuVP6bGezI/spKpIuLuTf7RQvLkPRlNHbNsAV2/+eXoaoriyzy2610mAZrH\n",
              "2x58zHslY+RNcHFRiDkKohPyb3F0zOk+DT/XxYtMK0TFoHoDlIqOUAiYQWVTUg+55HRm5K6EwEs/\n",
              "LXEAKRx9k4Hxb2RCp8F357AAkzqcW6b1SYfi9FdjT3HeJMVSDi9vAxuhaefF+HM0XJR/vwy9T6AA\n",
              "5VMFD0tlTvpvGGRGARX/k3nUZGhNo+UWlV8EedlLTV2cHebCjVW1Np5pEc4kEECoSBdgMKZkedU0\n",
              "zqRHmYN8bxz7Xy0nXMY20KbJKL+Yy8fgN2RUbccmU5InfHKu3GvXWC+WFm8XRTejc8ihqnIqRrh7\n",
              "7xOGm2hpix6L+iNi/sS4K8RBqlC9Ul/uagh68YZ+D/UQTzzPiO3AH66BJSWlw/J1d/nLZvjkqi5L\n",
              "hX840Pu+XTm/0cLU4IXHd1TllgCr5TzdjLuCijStAdv5afcNWItUU1ZIYLkHCyngnQZxJW6dAqRJ\n",
              "1tGUr6fvCsaf2kYMUZoI/62SH8Lpxd+Z6K4mQH9w1MZ2OI2pRSYafvR0mAoQT9KIJaxEj47Xu4zd\n",
              "FwM5t6iHJtdteecRbVB5W/BiJYPeddm3Yc5+Ie29IEaGx9TWRU829E6gb8pO2YKbvgMgW93Yp617\n",
              "rvk3N+4SvHD7IFi9n6kqd7aHz0wPZKQepCSnCKAbC4g8eUpcAAADAH8UydUf0DtRgn/7wLXH9qKT\n",
              "Yw4YKW8msktF1JndDUp3cVaZqzCA8xtWlvijPEzPFrsZr/yN7ekT642VLVQRCH7G1ff4vM35W4Dw\n",
              "v9FWgFp07ukbjDvggQCAzLysgOXS/ICh4CeYTPq9gKhWuLcrSSZawWKZhvmnu3Km/XPVmGkFzhcx\n",
              "8CrepW4VwPygVZz4vSvGf95EOUuL+Rmci8Opfb3PPID41On2UFWv8CqtHShOL0x3u9hpS54zH5tC\n",
              "lVlS0cpI1ASHVy37+oztDKajtNUnDWvX0MZZJQKjymPaP3+tET/r4IQQmPfqAcXx7yHBo7WF2Tpf\n",
              "Q6pQHX+C24JzUDOTvjzMRN49fJDNoTAuX5xbxhj9/Ac82gE0HoPVT3GXEwtI/GGU7kOVg3c3AePX\n",
              "eWzdtncu4WTFrG3E2kMIgUyziEgz7cEhPEbE15YCCscO/9f/+x0mdX9702hNtbU84SiUhOhPEiqe\n",
              "Ub5PObR7ZXBUTRR0gX360h8UaOaMjr0F+85eo+b+ICG/Bs6waXWioEPpBlP5QCQAAAMAAHZrlOH5\n",
              "aN50CVbu/thNP1I5fRr20UGltUzz5d4/f1od6HF4T6OtOWmWeoqhBjbxjkGKMcQpG4QmUTqBa28G\n",
              "w8hiwp+wLKp/YdTez4EhLOr1dNtwpvOnyLb0jJ01YVc4eWPvaqJYedfG6HP6DmG3/Aiv19vzPhQY\n",
              "Va3MBEp9Cq9ZCPyWT6STq5juSGLQJBpbbXt1OzhCRgjekj7JG4p+TUkXcm3N1B+puTQNcTiJF1Lx\n",
              "lVnPFJkvL9mnkNd+oEZnnf4ShxnsjRG7x2q9fHXxAbySKkiCTTW5gyrDUeaWPTZ9HBS/Z5xJfO7y\n",
              "NBInhSFZHTZbAFIwlkkMcnU/iCyA+kZy9fdoS8yIHLOczHrHe5qJ/Vi4Etkel93R7s5BS7/me/zc\n",
              "YOsgLJNI1A/Y0A8CFk3iCu35S9Uvufs1amVzAsB4JHJa0uU1JkwWgTirdtis3BAomGuL/bWhJaJ7\n",
              "2+2G3EHwp0A/DG9KsDyxA/rI2ym7D1a/72BBrfhQYH8Autdvu2pCd6IJmxhE6EMwVwrrObfsGMhK\n",
              "OWRKtEozxTidixDCxcAVTQAEBqICvBh6DS+8XVLC/EWPVA2PFKkH6gBQ5FJctjiId4yPEZtMG1/J\n",
              "t3+c2xdC1KqtG5puZ/9/oDpQiTsPUZhc/HCAjyavp4CUSoEduzc3pNmsoLcr1toEr9/rf/beYiu3\n",
              "ahJ6/NW/YtsovIcGqwbWTC2ddyfNfwbs6Lxm9Nuz1HorN1Hl5UStoct0OAtOsm1EjJwJcapxhBbH\n",
              "p5U0/wwYjeMbo9Cn6K17HC1GGEUBqRHMWysmEX3FIvOk+wslLjTsXyorSx7KBknMGKtkeUAbHtzG\n",
              "XQ856EIOvhboVjyIuA0u15sz7X5/Zvoq9nmHN7CtjP0UFG7cXnDNdS22fPgwEIE9mGHLpaI853kC\n",
              "V8zGqB2inkBomkUYpV9Ny1bHUZ1PXqTptFdehmdk0QkT64E6CgLZ8sHf5SdLRB3Hg33FSO1UBqOc\n",
              "Vf0icDNlKdu1d4IkCTrQ6MaKV6se0lcTY9r3JFCc+Pt7vUDBDgCeVsdDhKKUgK4VVR0ZZJBey7X6\n",
              "TLnMZBs2hXunRCvtnhdm3QKrcOFq8IO50LCQgu73YpOINxsNP9k2ajg4P9Bjj6yVUeuxq1Kuov+C\n",
              "7iByjcrqUMqc5jaylL8mQ1enuBqr5MdwMFNWcmTooR+dBbfZteMuNMv6Q1KIAnJOVCwSgz4wsX82\n",
              "ywPCNfl2oPSzV3+gwr7xdC0CupHi/oIVLo6R66c19+z2/R+6jCqsKUCJnuzJ4UrdPl63biT2ns9a\n",
              "ARzz2JWohusbyT9p8ykcCAaKoUoHdNh4g9wxK9UMnh54Cm/0eA1+gc/BflswUjj0+9htFG9vYG9K\n",
              "1Vva8C3SDh19YRaP+PTJPnzwJ+l7xxJU97huwadwkeYD+N4F7OAzJPSm280iO3HJBlITxUpTe3OX\n",
              "CULgpS6lmaCu4LaLMP5jNk6+KS0jXwQq3fXOq3bsV/8Yt0qD5rSMuOcF8aCQDi1jQVHwMyOwK4+v\n",
              "P91n/buV1q2VPjKNeWU0reExXsvp7skJjR4MXNlHU+DXIy156u2vE1iQrX0xEDOksyI7XBy1dpcB\n",
              "aYg8CZk8PJFw0LGIT87cxeMt0W6yAObE+oQcxi9WOMX8Y/7mdHauIMNyzp4emsGW9Hnc3GuImPOL\n",
              "41LMkEZu9ZLFLk97yxQAGxUIqnHWl0ppjQm/rg3sbOQarlv10fwNFkoDWpX1AGVyEG1ySeKDvVQ2\n",
              "sAWXZWp4vOp9PJMLXliJmcK/hnEC0dlGboPrqjuPQiRZ3bLj2aKH+hL86sbuvOkVI9MaCzNqJUiC\n",
              "/nwBEN4Sjukn5MbM+G/ugD5k174813/LkAIHiLFt9OM1bCT82CpVkzA81u/TzXpZpjiUmy5q4x2k\n",
              "OdzYpjcdGLYb8LT+fyIejXsrX0FvSFB5Y7Xvorwbp1mETcGHHKRb1QaRDMRzC9AJukPFUv9+Q4AA\n",
              "C3kAAAFHQZokbEFf/talUABgNhv4AbtfxMh/Iv4tMb5oLc0bWzs3Z7Bb2Y5dMLeY7VLiYwhxfYLw\n",
              "gtyIoedUQeeWi+UalMKsQWxR5TaA9/cfSogfQHzYhCG9QoulZOt6+u7I2SKCDVXtSRN/OpwBtS5e\n",
              "Pau/4tv79OfTPoVYFzaiTFthfrW9QnZzMvirm/uloq9Sf8w8zyNFqmab+PHBpNM30PV8NUAQ5U8R\n",
              "0SJiDqnJNgYfZkBDYUH0e1ZKW9oHegjda7zKtx2viN/r0FRVX41V+iXbDAl+0NvFSw+KnQBJPgSW\n",
              "0F3JxasCzBdjczw+9Rcyx5sCvPch2+2KFZjRI9d5MSu6mFvuQwcuHVnrbuA5W9DTgEWpbORxTOKR\n",
              "RIDso2WlGrP1sNoRyk/b3aoVCid0l40eZ+byMBTRmJKlkb1OvLx8BRVcCSn0TaZUAAAAp0GeQniC\n",
              "nwAAgla3af4Qrl6FfMZieJTXuPLff8cDldz+doAHab8DagF3WzpfTWijliFeAiBBoFIBByEXzb3D\n",
              "5NIl/8i/ggGRFVtZHXNhcdGcRaW/NBLEYdwgU4G0uadXWtQih9GfgM+hLDJeMFPpzMUEv46t3kK3\n",
              "s908vWkd9GtT7DX83ISU5g8wQaa7aBQdZr7U6hLv/rlUIiRPXaGCygTEHzFdU4EbAAAArAGeYXRB\n",
              "LwABc8juakH/5+Ct024Z/8fdQFgBdW7s+ONZzi54tZet4KF8vTz3AKddVryg4Bx2FmTY0IXEyqCf\n",
              "ehZMP3zGd3RMhjZPJTowFqBNJ6DI8IZRwcsKWuenV6gGBOK1/WDLL+7Zs4LpHE3uHEewFg75+PH3\n",
              "8zAPnHJCloAqCtY3Nj+Sv/ffwC0JzqUM2men8mluxG95NCUAOY6VueDyTeOUXgGMhrIgGhAAAACY\n",
              "AZ5jakEvAAADAR0MDqBGam29v02NL9ABNRwa1WxrxQ5jGbYsVz5YNPw4EYwcg5ozOHNAROear7mi\n",
              "aA3nfra6QHG3vTdpVcMrWVxsL83lg3xxY/OcoNO64NdVvym0D4b28CfJegtmQ2WaovFd5bbx2nfC\n",
              "fiJLIJt0s9ul1j/RdU7P8BjRmUOEad7eQWOPNbHnFmNILrQwqYEAAACXQZpoSahBaJlMCCn//taM\n",
              "sAAAAwIQpFcfgPprERLG2B+yYZAALq31AN3K44WNzziBIuPQu4qXCHATmh5inVtxCyrmSXh3RHOf\n",
              "uns0lYN1i5cXxSle0mrXgAPVSowZh6eeOFhpfGrUQeIBZ4uGfRh/nLMTzX9oaXk8/0t9iytFH3wM\n",
              "YQpFtS4vtE08Hwtc917kQgBkuT31nQAAAKJBnoZFESwU/wAAAwABc1A9wJy9w4e7q+/5ae3oAE7q\n",
              "ZE6YxgTCOzNiOsgpKfHpSfXT60tJfUCMPet1MSl+uYAmHIkHzuMdHtqcI7ApUwqbAfwQ4zeonp+y\n",
              "ua78/wXhBc34pXcrmneAlyFcw1gdl+CLR/72WU4bTnEMmIlB8Kx9G4vfApeuYCdGnU4KpYXgsWyy\n",
              "C6NSOYzqx6KSRtxe3U4bpOEAAACTAZ6ldEEvAAADAAP2pTJkDLX1iFQ14DA72gAWzDkg8tPoFWB3\n",
              "n7Uxtm43Wc9TL7x16Prff/3drWf+rSI79xHaLpKKUwE/9m+0Wxuo3Fc3cMADLSdX0fuTCvma0XDS\n",
              "2oxqe3PhcnsnrRQRq3c9+Kju/03QNdDkCEQOzmpuL7fjhrBOGWfIdoshvgFLZDq0kE7KiAM/AAAA\n",
              "pAGep2pBLwAAAwAABT8QOoEZzJOAhW0q0EryDPR2+znP0KwIDtkmW1oKGUwSUOyMvHc57Yj7KLgS\n",
              "X5xwdwlrpVqN0WNgSDROXAYUTz3JiuxleTpTOeBc9lq0V1s4lLRiK9c7i8W/s/hCpU8Q4jubeGeV\n",
              "j3ix8Y97LDm+Xudq3NoWHHN+n3t7GB91rG+ElXAT/oZxStkudxVd3vCHn0bPSRO5Q1fMAAAAjkGa\n",
              "qUmoQWyZTAgl//61KoAAAAMAACUIZEsuJCT/ce89pxi2cYAJ2OC6bLiPGQ1AEPacu35+P0Ae5XcB\n",
              "hPbFJsfTHg73HEI1d2Gw/Ivv/ak3CO94skYWDJD9ye3/mMAwnNir1hhfDIHKH89jaHZW19K5WJyQ\n",
              "Y8F4XJV+LSM9kIUaWr0CYmApIB7gQ88GuLAAAAOmbW9vdgAAAGxtdmhkAAAAAAAAAAAAAAAAAAAD\n",
              "6AAAE4gAAQAAAQAAAAAAAAAAAAAAAAEAAAAAAAAAAAAAAAAAAAABAAAAAAAAAAAAAAAAAABAAAAA\n",
              "AAAAAAAAAAAAAAAAAAAAAAAAAAAAAAAAAAAAAgAAAtB0cmFrAAAAXHRraGQAAAADAAAAAAAAAAAA\n",
              "AAABAAAAAAAAE4gAAAAAAAAAAAAAAAAAAAAAAAEAAAAAAAAAAAAAAAAAAAABAAAAAAAAAAAAAAAA\n",
              "AABAAAAAAoAAAAHgAAAAAAAkZWR0cwAAABxlbHN0AAAAAAAAAAEAABOIAABAAAABAAAAAAJIbWRp\n",
              "YQAAACBtZGhkAAAAAAAAAAAAAAAAAABAAAABQABVxAAAAAAALWhkbHIAAAAAAAAAAHZpZGUAAAAA\n",
              "AAAAAAAAAABWaWRlb0hhbmRsZXIAAAAB821pbmYAAAAUdm1oZAAAAAEAAAAAAAAAAAAAACRkaW5m\n",
              "AAAAHGRyZWYAAAAAAAAAAQAAAAx1cmwgAAAAAQAAAbNzdGJsAAAAs3N0c2QAAAAAAAAAAQAAAKNh\n",
              "dmMxAAAAAAAAAAEAAAAAAAAAAAAAAAAAAAAAAoAB4ABIAAAASAAAAAAAAAABAAAAAAAAAAAAAAAA\n",
              "AAAAAAAAAAAAAAAAAAAAAAAAAAAAGP//AAAAMWF2Y0MBZAAW/+EAGGdkABas2UCgPaEAAAMAAQAA\n",
              "AwAEDxYtlgEABmjr48siwAAAABx1dWlka2hA8l8kT8W6OaUbzwMj8wAAAAAAAAAYc3R0cwAAAAAA\n",
              "AAABAAAACgAAIAAAAAAUc3RzcwAAAAAAAAABAAAAAQAAAGBjdHRzAAAAAAAAAAoAAAABAABAAAAA\n",
              "AAEAAKAAAAAAAQAAQAAAAAABAAAAAAAAAAEAACAAAAAAAQAAoAAAAAABAABAAAAAAAEAAAAAAAAA\n",
              "AQAAIAAAAAABAABAAAAAABxzdHNjAAAAAAAAAAEAAAABAAAACgAAAAEAAAA8c3RzegAAAAAAAAAA\n",
              "AAAACgAAHB0AAAFLAAAAqwAAALAAAACcAAAAmwAAAKYAAACXAAAAqAAAAJIAAAAUc3RjbwAAAAAA\n",
              "AAABAAAALAAAAGJ1ZHRhAAAAWm1ldGEAAAAAAAAAIWhkbHIAAAAAAAAAAG1kaXJhcHBsAAAAAAAA\n",
              "AAAAAAAALWlsc3QAAAAlqXRvbwAAAB1kYXRhAAAAAQAAAABMYXZmNTguMjkuMTAw\n",
              "\">\n",
              "  Your browser does not support the video tag.\n",
              "</video>"
            ]
          },
          "metadata": {},
          "execution_count": 13
        }
      ]
    },
    {
      "cell_type": "code",
      "source": [
        "rc('animation', html='html5')"
      ],
      "metadata": {
        "id": "1fs_TMt9P5Ce"
      },
      "execution_count": null,
      "outputs": []
    },
    {
      "cell_type": "code",
      "source": [
        "anim"
      ],
      "metadata": {
        "colab": {
          "base_uri": "https://localhost:8080/",
          "height": 501
        },
        "id": "u0nWVNupQL55",
        "outputId": "6c9c3d17-3f7b-4909-bba6-e39d58be75bb"
      },
      "execution_count": null,
      "outputs": [
        {
          "output_type": "execute_result",
          "data": {
            "text/plain": [
              "<matplotlib.animation.FuncAnimation at 0x7fefd86fab90>"
            ],
            "text/html": [
              "<video width=\"640\" height=\"480\" controls autoplay loop>\n",
              "  <source type=\"video/mp4\" src=\"data:video/mp4;base64,AAAAHGZ0eXBNNFYgAAACAGlzb21pc28yYXZjMQAAAAhmcmVlAAAieW1kYXQAAAKtBgX//6ncRem9\n",
              "5tlIt5Ys2CDZI+7veDI2NCAtIGNvcmUgMTU1IHIyOTE3IDBhODRkOTggLSBILjI2NC9NUEVHLTQg\n",
              "QVZDIGNvZGVjIC0gQ29weWxlZnQgMjAwMy0yMDE4IC0gaHR0cDovL3d3dy52aWRlb2xhbi5vcmcv\n",
              "eDI2NC5odG1sIC0gb3B0aW9uczogY2FiYWM9MSByZWY9MyBkZWJsb2NrPTE6MDowIGFuYWx5c2U9\n",
              "MHgzOjB4MTEzIG1lPWhleCBzdWJtZT03IHBzeT0xIHBzeV9yZD0xLjAwOjAuMDAgbWl4ZWRfcmVm\n",
              "PTEgbWVfcmFuZ2U9MTYgY2hyb21hX21lPTEgdHJlbGxpcz0xIDh4OGRjdD0xIGNxbT0wIGRlYWR6\n",
              "b25lPTIxLDExIGZhc3RfcHNraXA9MSBjaHJvbWFfcXBfb2Zmc2V0PS0yIHRocmVhZHM9MyBsb29r\n",
              "YWhlYWRfdGhyZWFkcz0xIHNsaWNlZF90aHJlYWRzPTAgbnI9MCBkZWNpbWF0ZT0xIGludGVybGFj\n",
              "ZWQ9MCBibHVyYXlfY29tcGF0PTAgY29uc3RyYWluZWRfaW50cmE9MCBiZnJhbWVzPTMgYl9weXJh\n",
              "bWlkPTIgYl9hZGFwdD0xIGJfYmlhcz0wIGRpcmVjdD0xIHdlaWdodGI9MSBvcGVuX2dvcD0wIHdl\n",
              "aWdodHA9MiBrZXlpbnQ9MjUwIGtleWludF9taW49MiBzY2VuZWN1dD00MCBpbnRyYV9yZWZyZXNo\n",
              "PTAgcmNfbG9va2FoZWFkPTQwIHJjPWNyZiBtYnRyZWU9MSBjcmY9MjMuMCBxY29tcD0wLjYwIHFw\n",
              "bWluPTAgcXBtYXg9NjkgcXBzdGVwPTQgaXBfcmF0aW89MS40MCBhcT0xOjEuMDAAgAAAGWhliIQA\n",
              "Fv/+99M/zLLr9zm146j3op4mX0N1JQGblsTtOoAAAAMAAAMAAB68FghEPzIoq68AAAMAyoAYTY/+\n",
              "FMcfAJIKCni9uhIRM4Ac7F1ICKkHnsKJmU/2hbhxrsBvbYuwOYIZyVULWOa02y6NItWLd1ecGsXx\n",
              "RT1/vFCbpd6PpDD2TqvgI87qzIfH6XvUxakI7VMPO6fMfvtHuti2v1MeAHxiuZOioFbyvGwd4I33\n",
              "5LNhJvj8ukQoB2RbrH65fe5vSjmijglFr9HY4LghqccnyaqWdon5YbFxjn5pz4bzQikm10D9zVLX\n",
              "Fn63zKMBUEZVxbcTHNrByZREQZQAMEclILb/zGT2ns6mVL11Nt1GiJrARvY9uo8susL1EPBN7RbC\n",
              "ilq+hKqfJKTMRqELN8fXb7t3wPyySMAGlcmLU5xhrJDbNTj9WjlHYEp6VO3UhE/89z94QCACCwk4\n",
              "KdFq43XNtnkRT4qCfR8BdfnoC7hfljpv1xdvb6IUCGwnyvn/VzIbmfFG9AfcMdOOCTQRY5NEyWkX\n",
              "+rO+9Lymz/6jb+35uS3oTp9j0Xe1lOGbXxsUe2OecPoHkLHvdjj8sUEepflMrzf8mpN549nPU5Mc\n",
              "fy9vWQVTfG9JKg9+86NNGRfzpypxyyUS1GPrp+V+URep429Hhx25UjYkF8NnhlovdtfYwMs5eM0f\n",
              "sb1V5aXlZEdhabjl0vCmF30i5A+e5XETby8TMvFdMuAAD+/NZfSZcOY9Y6nLlobBIFCMcVtvzEEy\n",
              "/vqApMIunCW30EkfXTguX54xz1/Eowj0xc9PVsUTmatPpi8ZzPWiRQq91aasTmYd5Wjw3KYfbCsi\n",
              "HkDo4SrIjoejAr+59hCVIPtzm9lGRyCg/j/BJnh6DuFo60Sz395JGbRc2XKljDvnDlBbD7jLz4xv\n",
              "urJqoN+NbL5qpQSr/zAac6+tlm06Wz+U84Na7MzvQ3x7fX3O0IoM8M1XleIQg6GI0lzFhnuGYpLU\n",
              "GPlxNjxBROl/CAGv9jtZ1A2KoqW3nLlm0guTYZ1hB8KU8VsNxmPNwfaGyH6cvds/DRQLk8+azfM5\n",
              "v6xDVD4yLV6Zu+QsBI/Pg4UCnm4XI/IlZHSWD4VPbeSPDdlfrng/RIOjj1K8yGDFSKbUxsPXADi+\n",
              "IHoKix5MtnWYNVyeak/oBtuoOMEfsQpaPuiVRrR2n2xgSKf/O7m/LCZKf6jrIVTdaAXoHks1QiyW\n",
              "tff9mWCiAnOttJ3p+MYgTnXFU/z2pg4vggwbzxZ5GHo1mqBjzxSQAVoUBMRwvDlhP9/tV9O5DNVM\n",
              "Kdth1JHLxLMAQxnI3TPmJOvcnug/oRv8u2cS076/zD0dET04RdXZv42UgscY8Kw7xyflvstb3VZ/\n",
              "nrevwz5x29Md7BO6yEHqf985HgKVsW5vwWpvmYANVCn0thTZgKeq1FGL67HDuvONWDiKf0RGU4eR\n",
              "y8av56NxQCU5no3xc43FjpiVTgVEbh/mm/7Vy6gv7+CRVRX+khE1/Z5VEMyYxjGyfAqs0+BTkZoV\n",
              "+R0rVOwvw8SG4iMhkWFAtHmC6UJDv2LZ0sgmUq9nIHaTxgF2PmzgOPdL6GDF1QI9gKt2H5TbphTj\n",
              "ICYBd+aijcBUwf6sr0cRBy7NYoen+zkfpRmgW4VscuUBgNoAAAMDpwIx5SVkEwahT2NvucGo0QQ3\n",
              "lEk85ZuOuCajzrKM6NtiEjgYna/rPykivbxO3e9d+QyRmx6kfK6ATAdKv9EALuA+A8/ZMCvI8LGj\n",
              "829QXgWjU2fOfJCId5BqVIG0R0gQA6y3NWQNsBrdU0U5BpWhM0NcB5lHyX1rzqSdyy6GWC9Q+nlM\n",
              "5wc2IxJVy+Ieqtmv2M2LGEVq+zJ37s6Ezo7S7jdC4O48/PSzLFzywh4e3Zolmo8iJzDrunuVY85i\n",
              "/0Q1nlE0yiYd8Qrxaq2RGO3vC4nFD4cRV1iPVQNopHqFbGSCwIQ94RUpyNew1EpScGrHDUlLD6tq\n",
              "dryty89kxnrIm1bxX9Y9A7sUESnXwXj17lgl3qgYHbObvEtCU89yglSnlBsJOIUkoFFDw/Zwhute\n",
              "TzTctjhjomfGVQk+8u4AVJxVFtlVvMSXtqPamFsielNAjblNzCUvj/cp+DgDwizDyTxXmXsByRIZ\n",
              "//jFn6VWMfKAVXh6LZ5gzDzUhoGS/11FrWqsgM+Yv1evCPcU8TaeBlc2eMz8OkJ6isxW5givHf3I\n",
              "IOUvQ93YmseXtmhzMf5EBwFUgacs2Wblu6EG2t6JKXu+p52Z1oKDfhNyiiBCcQfl6JE/iS1ZOmYj\n",
              "J9thX/iWczf42aqXd1brbABsUoMkdqW+yMECTbUXpFI/DoTJg7u5DRFIDfsPU2RzT8SF79AADh99\n",
              "R9gBlIaNUR5Ft5qmEXKKGGd3DA8bKJ6t9O8l3d06cp5jRq4pE7yFauqokL/zZlQ9O+7+q+yzPTXb\n",
              "E8mlm1PQMIuPM1uknLn7NE9BZSAbHzqaxLerVaog3FOj6xy6WKopRuLarswpolo/pRHG/Pa/Lea/\n",
              "uysGJ0aI5LzkY0lfjVPx4RjuPmwOBQ8GVPgje5svf9tZ0x5SKPF8IjoiIhoeZFUqtJiv5lg/tG0f\n",
              "PNi6SbMrtsz4visv9z4fZbAjNHg/JNL0rib6oVOk4PSIoZsFnD7I4ue7HIBk8YV4hWRhnXNkndxq\n",
              "KSF0kk+PobBbZ/MWsidjNbjarlX5ODG60OUtKTZMzZc6hSJTgpEGRlhM9lQm8VaHZ5pO/KKqrNBe\n",
              "dBJ5RU0SzD/1AIZTAkF18ijJAe6a9WYwQoXrGTx76WBEeEP6srMqs+F2Y7BsUUmYvK18p5CkKxad\n",
              "78e4WFaK4sPa1pQ4lh2yaPrGAbThw1OJJtbFvoyLAvu7js+dANzuCPx87kePvOQH+TaHuSeen7ui\n",
              "g0CPBRpwFPwwv7NeMa8n3lEQoDnhTysEdUszCzrR/cdFcDOF8WIKa2BvyBysYPtIzXf3ZMGQXFC1\n",
              "do/CCDGdBWTq/7ZQpBqFsYqgh/G0TXwAAAuoNNuTkhNF3MK5MaRgeBsMgACeWf1qDIGV3UreRp+a\n",
              "wqAqDVCh6j0XwvswyuTvtGSNutNyi/p/qD0plWrWspKWNeyd4h8+TQizmo93INxzMXOhzbekMioH\n",
              "oNnzBXIqgAAKu/HFDWGUb+7Xkifq7FPKfC1e7F8ayDlDAr9HMdpZ/EQ13fZkPzoxMdA+RjbT8qsE\n",
              "xcv76p2e4P5US2kd8xYrRyYkmKR5VniF5BaHrrgoybIdJixQky6HPl/295PAzVwit10CObXxeMp0\n",
              "98OV1hVuHnLf0BaWOFvvyIX4LmjJ0wZSl1YiojEdk5Angf0xbG92vIOektokacCtSEWyxmk7e3pH\n",
              "bfDnffqPzZ1sqhYFVZ/9w10kR5f4Dbnl5QBtwkf5qPppBDwje3+na6wRFnr6jC9ijNGhrPB719Kz\n",
              "Jx0IKONz/QqceJ/Jb6Ta6lUPM25WWhv5bpcGZvSxaa1EJJnc13tOVptKt9XuuwCwAwkvSps0qPmu\n",
              "L2X+RBjgzQOUHR6Kb2PfpAzu7YbOxOCxSAgf5o+pad9Y98taihe0dvRLB9Ki7AVO/4sUfvkgAAAD\n",
              "Ac5S8e/4QfAzCvwzE2+pxjvOznKQJZViAAADAADaNLr7/8ebZC8yl8NUVcw1dpTimLGybUPcATU/\n",
              "5UY25wpxmabWgGbyD59DTf6O6S7VB0tbpdEdjpef73rcXPAG8D8Pey5MHHgT2GqlsZ0z39YgfQVJ\n",
              "Awm2/1p7jYmEIqRK7ihK+MrZ+EHbhPgMAcDihHpkCAZ+wLtumab28ckfI4gf0wEHRKMBoH/MR7Rr\n",
              "NMNE2i69XlgDVTHakDRy1ofzFgNfXqJb2HdIA5zL0moGVmakvxecjqrj/EiMseUwRz61cS0Z7huw\n",
              "S4nCdMoQx48qmV/eYR2AzLzYX7hOcpWDRXKdHGJC8wdRKi4DQePIwoBv6DWSAGYU2Xn7jZpwbawa\n",
              "NcwGdIoA+ugN6sa7Zs3+v2b09L263ATo0VmgKgRj6cnHmqWlW6xC8Z+2v7F/2xVCbOg6rencmmMj\n",
              "tYk5V8nwzH2jandEBCXrYd1Wv7ls8l2aARB2pmQPbKDjdEZwChiWCmdtoykn+HDyFLB23MuK7x11\n",
              "rrH7mgclsS+murpYcffveem8zPznfwrazxtUVqSfyJceCYQ0vXUvqIIT6ioB4bpOPDBAwAAAAwAl\n",
              "VjPeJkdGqtTv1DjDzzdevJoQxYjzCxClkilxSGGhdUlSOE4jFKLzUWGbm5vSQiRe7T/Fj+Qf5pI+\n",
              "11urAp/qEv61Htl8jykOwE/tQXefYEMzVelHvSYpCGknP5N5Gg04Gw8A6YVU1+qUxsC1quyY9Xmk\n",
              "jU2/n7oOIp39mjdCnOYRdpHqyICkOUtBzUzpNzNUxc/MvqLLQrv+4Q5oAX+J+pM+Gv2XziA+wHLD\n",
              "dt+BS7ntzmxnz1V7EN+iPMDrITswBR/CKsCIrAFbsjVuICpGQFBYHUIt8gQiVq/Tn7wzQGXgwBl5\n",
              "3tU74p/8gwrgVb19l9smtP88ZPU1bG00/k34ajeOXGJPIVqcv7VlJQCW/HEexUbLEz/PtHPdhpR4\n",
              "d9sAyla2e0RU96vKsujry+Fdu/8eyS93hEG80BB8Hoaq/WrEKVIQY/wIUtP/OSd5MfIVVVEr/hvK\n",
              "GA5YkBIVXw+6+mqAWzme+K79UY/+DSGUARqPQ5jTaIhFtfafzmnoj2tktFzp6OiiVfHLi4Ngi0eW\n",
              "0ksZrO3oJbeb6QnqeF6hwWIObc/nn9MXFDvNvYGU/hnsPeuG+TtKZiaHP5Q+6t1/7jzq4Df87m4f\n",
              "Lhci7H27I3TVlWCYS+GCaAenNxibzqw5Hqoym/homRmYOOeVqWg25yrVozHrcxJM7436MLGhhdgA\n",
              "QDtSLHJ4Sk8AMWD5eeK2mD6Ha+eTUGH7qWy/R/2xEdxOoVeOLHiLnbCnVr0+SlhmnvUMogz8kzBk\n",
              "Tm5+0xMHUlcWyhfJApHyD++taeUeIVZ9gkSfr5uIwJ/Bd+gS49uZ94OWtXG3Io3XqJoxV8zYo7pL\n",
              "i5JuFUH3Td+DxqUmxdnNiUh0TPlo5kwP0NWa1kFtO09nqeq2qtPCkWWugWSO23RBb5T0QIy4k99h\n",
              "Vtn0ftvn0BbklP2fXNYhyJ6lCBYCaQtLaqkMR6BmhIoMeol774i7kScLQ5D69dVJA9cvr2d7QynW\n",
              "w28SzgfbTT+VWn/3XwgIguwPhm3HTpgW6FfwjZBUQqr+RYD44XW5ukv7p9I12TnxsfOy+f83pWVO\n",
              "UfOQeb5SeV860Qa3As0zPumk9gABsbRdwAoonithRYYNy4MpVTXIzq+DvQ256OnyE5wGR9fHnylN\n",
              "n3h7kDmqxbK8rKrqpvnWNerGqq9lVfVDSAR8he2lprkUqNNKBlCJ6NyTRO4/kMFRE5PKS1anP/Pa\n",
              "SDQc+iHFVQJSGkiiAVuVP6bGezI/spKpIuLuTf7RQvLkPRlNHbNsAV2/+eXoaoriyzy2610mAZrH\n",
              "2x58zHslY+RNcHFRiDkKohPyb3F0zOk+DT/XxYtMK0TFoHoDlIqOUAiYQWVTUg+55HRm5K6EwEs/\n",
              "LXEAKRx9k4Hxb2RCp8F357AAkzqcW6b1SYfi9FdjT3HeJMVSDi9vAxuhaefF+HM0XJR/vwy9T6AA\n",
              "5VMFD0tlTvpvGGRGARX/k3nUZGhNo+UWlV8EedlLTV2cHebCjVW1Np5pEc4kEECoSBdgMKZkedU0\n",
              "zqRHmYN8bxz7Xy0nXMY20KbJKL+Yy8fgN2RUbccmU5InfHKu3GvXWC+WFm8XRTejc8ihqnIqRrh7\n",
              "7xOGm2hpix6L+iNi/sS4K8RBqlC9Ul/uagh68YZ+D/UQTzzPiO3AH66BJSWlw/J1d/nLZvjkqi5L\n",
              "hX840Pu+XTm/0cLU4IXHd1TllgCr5TzdjLuCijStAdv5afcNWItUU1ZIYLkHCyngnQZxJW6dAqRJ\n",
              "1tGUr6fvCsaf2kYMUZoI/62SH8Lpxd+Z6K4mQH9w1MZ2OI2pRSYafvR0mAoQT9KIJaxEj47Xu4zd\n",
              "FwM5t6iHJtdteecRbVB5W/BiJYPeddm3Yc5+Ie29IEaGx9TWRU829E6gb8pO2YKbvgMgW93Yp617\n",
              "rvk3N+4SvHD7IFi9n6kqd7aHz0wPZKQepCSnCKAbC4g8eUpcAAADAH8UydUf0DtRgn/7wLXH9qKT\n",
              "Yw4YKW8msktF1JndDUp3cVaZqzCA8xtWlvijPEzPFrsZr/yN7ekT642VLVQRCH7G1ff4vM35W4Dw\n",
              "v9FWgFp07ukbjDvggQCAzLysgOXS/ICh4CeYTPq9gKhWuLcrSSZawWKZhvmnu3Km/XPVmGkFzhcx\n",
              "8CrepW4VwPygVZz4vSvGf95EOUuL+Rmci8Opfb3PPID41On2UFWv8CqtHShOL0x3u9hpS54zH5tC\n",
              "lVlS0cpI1ASHVy37+oztDKajtNUnDWvX0MZZJQKjymPaP3+tET/r4IQQmPfqAcXx7yHBo7WF2Tpf\n",
              "Q6pQHX+C24JzUDOTvjzMRN49fJDNoTAuX5xbxhj9/Ac82gE0HoPVT3GXEwtI/GGU7kOVg3c3AePX\n",
              "eWzdtncu4WTFrG3E2kMIgUyziEgz7cEhPEbE15YCCscO/9f/+x0mdX9702hNtbU84SiUhOhPEiqe\n",
              "Ub5PObR7ZXBUTRR0gX360h8UaOaMjr0F+85eo+b+ICG/Bs6waXWioEPpBlP5QCQAAAMAAHZrlOH5\n",
              "aN50CVbu/thNP1I5fRr20UGltUzz5d4/f1od6HF4T6OtOWmWeoqhBjbxjkGKMcQpG4QmUTqBa28G\n",
              "w8hiwp+wLKp/YdTez4EhLOr1dNtwpvOnyLb0jJ01YVc4eWPvaqJYedfG6HP6DmG3/Aiv19vzPhQY\n",
              "Va3MBEp9Cq9ZCPyWT6STq5juSGLQJBpbbXt1OzhCRgjekj7JG4p+TUkXcm3N1B+puTQNcTiJF1Lx\n",
              "lVnPFJkvL9mnkNd+oEZnnf4ShxnsjRG7x2q9fHXxAbySKkiCTTW5gyrDUeaWPTZ9HBS/Z5xJfO7y\n",
              "NBInhSFZHTZbAFIwlkkMcnU/iCyA+kZy9fdoS8yIHLOczHrHe5qJ/Vi4Etkel93R7s5BS7/me/zc\n",
              "YOsgLJNI1A/Y0A8CFk3iCu35S9Uvufs1amVzAsB4JHJa0uU1JkwWgTirdtis3BAomGuL/bWhJaJ7\n",
              "2+2G3EHwp0A/DG9KsDyxA/rI2ym7D1a/72BBrfhQYH8Autdvu2pCd6IJmxhE6EMwVwrrObfsGMhK\n",
              "OWRKtEozxTidixDCxcAVTQAEBqICvBh6DS+8XVLC/EWPVA2PFKkH6gBQ5FJctjiId4yPEZtMG1/J\n",
              "t3+c2xdC1KqtG5puZ/9/oDpQiTsPUZhc/HCAjyavp4CUSoEduzc3pNmsoLcr1toEr9/rf/beYiu3\n",
              "ahJ6/NW/YtsovIcGqwbWTC2ddyfNfwbs6Lxm9Nuz1HorN1Hl5UStoct0OAtOsm1EjJwJcapxhBbH\n",
              "p5U0/wwYjeMbo9Cn6K17HC1GGEUBqRHMWysmEX3FIvOk+wslLjTsXyorSx7KBknMGKtkeUAbHtzG\n",
              "XQ856EIOvhboVjyIuA0u15sz7X5/Zvoq9nmHN7CtjP0UFG7cXnDNdS22fPgwEIE9mGHLpaI853kC\n",
              "V8zGqB2inkBomkUYpV9Ny1bHUZ1PXqTptFdehmdk0QkT64E6CgLZ8sHf5SdLRB3Hg33FSO1UBqOc\n",
              "Vf0icDNlKdu1d4IkCTrQ6MaKV6se0lcTY9r3JFCc+Pt7vUDBDgCeVsdDhKKUgK4VVR0ZZJBey7X6\n",
              "TLnMZBs2hXunRCvtnhdm3QKrcOFq8IO50LCQgu73YpOINxsNP9k2ajg4P9Bjj6yVUeuxq1Kuov+C\n",
              "7iByjcrqUMqc5jaylL8mQ1enuBqr5MdwMFNWcmTooR+dBbfZteMuNMv6Q1KIAnJOVCwSgz4wsX82\n",
              "ywPCNfl2oPSzV3+gwr7xdC0CupHi/oIVLo6R66c19+z2/R+6jCqsKUCJnuzJ4UrdPl63biT2ns9a\n",
              "ARzz2JWohusbyT9p8ykcCAaKoUoHdNh4g9wxK9UMnh54Cm/0eA1+gc/BflswUjj0+9htFG9vYG9K\n",
              "1Vva8C3SDh19YRaP+PTJPnzwJ+l7xxJU97huwadwkeYD+N4F7OAzJPSm280iO3HJBlITxUpTe3OX\n",
              "CULgpS6lmaCu4LaLMP5jNk6+KS0jXwQq3fXOq3bsV/8Yt0qD5rSMuOcF8aCQDi1jQVHwMyOwK4+v\n",
              "P91n/buV1q2VPjKNeWU0reExXsvp7skJjR4MXNlHU+DXIy156u2vE1iQrX0xEDOksyI7XBy1dpcB\n",
              "aYg8CZk8PJFw0LGIT87cxeMt0W6yAObE+oQcxi9WOMX8Y/7mdHauIMNyzp4emsGW9Hnc3GuImPOL\n",
              "41LMkEZu9ZLFLk97yxQAGxUIqnHWl0ppjQm/rg3sbOQarlv10fwNFkoDWpX1AGVyEG1ySeKDvVQ2\n",
              "sAWXZWp4vOp9PJMLXliJmcK/hnEC0dlGboPrqjuPQiRZ3bLj2aKH+hL86sbuvOkVI9MaCzNqJUiC\n",
              "/nwBEN4Sjukn5MbM+G/ugD5k174813/LkAIHiLFt9OM1bCT82CpVkzA81u/TzXpZpjiUmy5q4x2k\n",
              "OdzYpjcdGLYb8LT+fyIejXsrX0FvSFB5Y7Xvorwbp1mETcGHHKRb1QaRDMRzC9AJukPFUv9+Q4AA\n",
              "C3kAAAFHQZokbEFf/talUABgNhv4AbtfxMh/Iv4tMb5oLc0bWzs3Z7Bb2Y5dMLeY7VLiYwhxfYLw\n",
              "gtyIoedUQeeWi+UalMKsQWxR5TaA9/cfSogfQHzYhCG9QoulZOt6+u7I2SKCDVXtSRN/OpwBtS5e\n",
              "Pau/4tv79OfTPoVYFzaiTFthfrW9QnZzMvirm/uloq9Sf8w8zyNFqmab+PHBpNM30PV8NUAQ5U8R\n",
              "0SJiDqnJNgYfZkBDYUH0e1ZKW9oHegjda7zKtx2viN/r0FRVX41V+iXbDAl+0NvFSw+KnQBJPgSW\n",
              "0F3JxasCzBdjczw+9Rcyx5sCvPch2+2KFZjRI9d5MSu6mFvuQwcuHVnrbuA5W9DTgEWpbORxTOKR\n",
              "RIDso2WlGrP1sNoRyk/b3aoVCid0l40eZ+byMBTRmJKlkb1OvLx8BRVcCSn0TaZUAAAAp0GeQniC\n",
              "nwAAgla3af4Qrl6FfMZieJTXuPLff8cDldz+doAHab8DagF3WzpfTWijliFeAiBBoFIBByEXzb3D\n",
              "5NIl/8i/ggGRFVtZHXNhcdGcRaW/NBLEYdwgU4G0uadXWtQih9GfgM+hLDJeMFPpzMUEv46t3kK3\n",
              "s908vWkd9GtT7DX83ISU5g8wQaa7aBQdZr7U6hLv/rlUIiRPXaGCygTEHzFdU4EbAAAArAGeYXRB\n",
              "LwABc8juakH/5+Ct024Z/8fdQFgBdW7s+ONZzi54tZet4KF8vTz3AKddVryg4Bx2FmTY0IXEyqCf\n",
              "ehZMP3zGd3RMhjZPJTowFqBNJ6DI8IZRwcsKWuenV6gGBOK1/WDLL+7Zs4LpHE3uHEewFg75+PH3\n",
              "8zAPnHJCloAqCtY3Nj+Sv/ffwC0JzqUM2men8mluxG95NCUAOY6VueDyTeOUXgGMhrIgGhAAAACY\n",
              "AZ5jakEvAAADAR0MDqBGam29v02NL9ABNRwa1WxrxQ5jGbYsVz5YNPw4EYwcg5ozOHNAROear7mi\n",
              "aA3nfra6QHG3vTdpVcMrWVxsL83lg3xxY/OcoNO64NdVvym0D4b28CfJegtmQ2WaovFd5bbx2nfC\n",
              "fiJLIJt0s9ul1j/RdU7P8BjRmUOEad7eQWOPNbHnFmNILrQwqYEAAACXQZpoSahBaJlMCCn//taM\n",
              "sAAAAwIQpFcfgPprERLG2B+yYZAALq31AN3K44WNzziBIuPQu4qXCHATmh5inVtxCyrmSXh3RHOf\n",
              "uns0lYN1i5cXxSle0mrXgAPVSowZh6eeOFhpfGrUQeIBZ4uGfRh/nLMTzX9oaXk8/0t9iytFH3wM\n",
              "YQpFtS4vtE08Hwtc917kQgBkuT31nQAAAKJBnoZFESwU/wAAAwABc1A9wJy9w4e7q+/5ae3oAE7q\n",
              "ZE6YxgTCOzNiOsgpKfHpSfXT60tJfUCMPet1MSl+uYAmHIkHzuMdHtqcI7ApUwqbAfwQ4zeonp+y\n",
              "ua78/wXhBc34pXcrmneAlyFcw1gdl+CLR/72WU4bTnEMmIlB8Kx9G4vfApeuYCdGnU4KpYXgsWyy\n",
              "C6NSOYzqx6KSRtxe3U4bpOEAAACTAZ6ldEEvAAADAAP2pTJkDLX1iFQ14DA72gAWzDkg8tPoFWB3\n",
              "n7Uxtm43Wc9TL7x16Prff/3drWf+rSI79xHaLpKKUwE/9m+0Wxuo3Fc3cMADLSdX0fuTCvma0XDS\n",
              "2oxqe3PhcnsnrRQRq3c9+Kju/03QNdDkCEQOzmpuL7fjhrBOGWfIdoshvgFLZDq0kE7KiAM/AAAA\n",
              "pAGep2pBLwAAAwAABT8QOoEZzJOAhW0q0EryDPR2+znP0KwIDtkmW1oKGUwSUOyMvHc57Yj7KLgS\n",
              "X5xwdwlrpVqN0WNgSDROXAYUTz3JiuxleTpTOeBc9lq0V1s4lLRiK9c7i8W/s/hCpU8Q4jubeGeV\n",
              "j3ix8Y97LDm+Xudq3NoWHHN+n3t7GB91rG+ElXAT/oZxStkudxVd3vCHn0bPSRO5Q1fMAAAAjkGa\n",
              "qUmoQWyZTAgl//61KoAAAAMAACUIZEsuJCT/ce89pxi2cYAJ2OC6bLiPGQ1AEPacu35+P0Ae5XcB\n",
              "hPbFJsfTHg73HEI1d2Gw/Ivv/ak3CO94skYWDJD9ye3/mMAwnNir1hhfDIHKH89jaHZW19K5WJyQ\n",
              "Y8F4XJV+LSM9kIUaWr0CYmApIB7gQ88GuLAAAAOmbW9vdgAAAGxtdmhkAAAAAAAAAAAAAAAAAAAD\n",
              "6AAAE4gAAQAAAQAAAAAAAAAAAAAAAAEAAAAAAAAAAAAAAAAAAAABAAAAAAAAAAAAAAAAAABAAAAA\n",
              "AAAAAAAAAAAAAAAAAAAAAAAAAAAAAAAAAAAAAgAAAtB0cmFrAAAAXHRraGQAAAADAAAAAAAAAAAA\n",
              "AAABAAAAAAAAE4gAAAAAAAAAAAAAAAAAAAAAAAEAAAAAAAAAAAAAAAAAAAABAAAAAAAAAAAAAAAA\n",
              "AABAAAAAAoAAAAHgAAAAAAAkZWR0cwAAABxlbHN0AAAAAAAAAAEAABOIAABAAAABAAAAAAJIbWRp\n",
              "YQAAACBtZGhkAAAAAAAAAAAAAAAAAABAAAABQABVxAAAAAAALWhkbHIAAAAAAAAAAHZpZGUAAAAA\n",
              "AAAAAAAAAABWaWRlb0hhbmRsZXIAAAAB821pbmYAAAAUdm1oZAAAAAEAAAAAAAAAAAAAACRkaW5m\n",
              "AAAAHGRyZWYAAAAAAAAAAQAAAAx1cmwgAAAAAQAAAbNzdGJsAAAAs3N0c2QAAAAAAAAAAQAAAKNh\n",
              "dmMxAAAAAAAAAAEAAAAAAAAAAAAAAAAAAAAAAoAB4ABIAAAASAAAAAAAAAABAAAAAAAAAAAAAAAA\n",
              "AAAAAAAAAAAAAAAAAAAAAAAAAAAAGP//AAAAMWF2Y0MBZAAW/+EAGGdkABas2UCgPaEAAAMAAQAA\n",
              "AwAEDxYtlgEABmjr48siwAAAABx1dWlka2hA8l8kT8W6OaUbzwMj8wAAAAAAAAAYc3R0cwAAAAAA\n",
              "AAABAAAACgAAIAAAAAAUc3RzcwAAAAAAAAABAAAAAQAAAGBjdHRzAAAAAAAAAAoAAAABAABAAAAA\n",
              "AAEAAKAAAAAAAQAAQAAAAAABAAAAAAAAAAEAACAAAAAAAQAAoAAAAAABAABAAAAAAAEAAAAAAAAA\n",
              "AQAAIAAAAAABAABAAAAAABxzdHNjAAAAAAAAAAEAAAABAAAACgAAAAEAAAA8c3RzegAAAAAAAAAA\n",
              "AAAACgAAHB0AAAFLAAAAqwAAALAAAACcAAAAmwAAAKYAAACXAAAAqAAAAJIAAAAUc3RjbwAAAAAA\n",
              "AAABAAAALAAAAGJ1ZHRhAAAAWm1ldGEAAAAAAAAAIWhkbHIAAAAAAAAAAG1kaXJhcHBsAAAAAAAA\n",
              "AAAAAAAALWlsc3QAAAAlqXRvbwAAAB1kYXRhAAAAAQAAAABMYXZmNTguMjkuMTAw\n",
              "\">\n",
              "  Your browser does not support the video tag.\n",
              "</video>"
            ]
          },
          "metadata": {},
          "execution_count": 15
        }
      ]
    },
    {
      "cell_type": "markdown",
      "source": [
        "These movies are really pretty compared drawing everything from scratch, each time, need to figure out some way to combine the two eventually, but will keep prototyping in janky mode for now."
      ],
      "metadata": {
        "id": "XYNZhBGx8rRB"
      }
    },
    {
      "cell_type": "code",
      "source": [
        "#widgets.__version__\n",
        "#np.__version__"
      ],
      "metadata": {
        "id": "O971RhaAkA7x"
      },
      "execution_count": null,
      "outputs": []
    },
    {
      "cell_type": "code",
      "source": [
        "# gets the random movement to happen, but for whatever reason the random button clicks initiated by the asyncio don't automatically update the outputs...\n",
        "# but they do get called since the state is updated, not sure what is going on there, but if I could figure it out this would be great\n",
        "def buttonOutputUpdate(whichButton, x, y):\n",
        "  with output:\n",
        "    if randomMovement.value == True:\n",
        "      if hasattr(clickTimer, '__Task'):\n",
        "        clickTimer.cancel()\n",
        "    output.clear_output(wait=True)\n",
        "    print(\"Moved \" + whichButton + \". \" + \"Criter is now at ({}, {}).\".format(x,y))\n",
        "    print(state['eatingString'])\n",
        "    print(\"Moves: {0} \\tFood Eaten: {1} \\tFood Per Move: {2}\".format(state['numMoves'], state['numEats'], state['numEats'] / state['numMoves']))\n",
        "    plotFigFromScratch()\n",
        "    if randomMovement.value == True:\n",
        "      clickTimer.start()"
      ],
      "metadata": {
        "id": "PUuUh5CzOFBG"
      },
      "execution_count": null,
      "outputs": []
    },
    {
      "cell_type": "code",
      "source": [
        "np.array([[3, 7]], dtype=int).shape"
      ],
      "metadata": {
        "colab": {
          "base_uri": "https://localhost:8080/"
        },
        "id": "23HIEyccQOFE",
        "outputId": "7471b403-70d1-42b6-9067-1f0d49d1cc51"
      },
      "execution_count": null,
      "outputs": [
        {
          "output_type": "execute_result",
          "data": {
            "text/plain": [
              "(1, 2)"
            ]
          },
          "metadata": {},
          "execution_count": 25
        }
      ]
    },
    {
      "cell_type": "code",
      "source": [
        "# Define the grid dimensions\n",
        "GRID_SIZE = 10\n",
        "\n",
        "# Define the initial position of the circle\n",
        "circle_x = 0\n",
        "circle_y = 0\n",
        "\n",
        "# Create a grid\n",
        "grid = [[0] * GRID_SIZE for _ in range(GRID_SIZE)]\n",
        "\n",
        "# Create a function to update the grid and plot the circle\n",
        "def update_grid(x, y):\n",
        "  global circle_x, circle_y\n",
        "  grid[circle_y][circle_x] = 0  # Clear the previous circle position\n",
        "  circle_x = max(0, min(x, GRID_SIZE - 1))  # Restrict x within grid boundaries\n",
        "  circle_y = max(0, min(y, GRID_SIZE - 1))  # Restrict y within grid boundaries\n",
        "  grid[circle_y][circle_x] = 1  # Set the new circle position\n",
        "  plt.imshow(grid, cmap='gray', vmin=0, vmax=1)\n",
        "  plt.xticks([])\n",
        "  plt.yticks([])\n",
        "  plt.show()\n",
        "\n",
        "# Create the interactive widget\n",
        "x_slider = widgets.IntSlider(min=0, max=GRID_SIZE - 1, value=circle_x, description='X')\n",
        "y_slider = widgets.IntSlider(min=0, max=GRID_SIZE - 1, value=circle_y, description='Y')\n",
        "widgets.interactive(update_grid, x=x_slider, y=y_slider)\n",
        "\n",
        "# Display the widget\n",
        "display(x_slider, y_slider)"
      ],
      "metadata": {
        "id": "vlePDOswQSQC",
        "colab": {
          "base_uri": "https://localhost:8080/",
          "referenced_widgets": [
            "339ae43466a04a0da0852f547c45e785",
            "214cd6bbd5e64aa08a3da18233ebe17c"
          ]
        },
        "outputId": "d9a4fe9d-570e-49ce-8342-8885076d8319"
      },
      "execution_count": null,
      "outputs": [
        {
          "output_type": "display_data",
          "data": {
            "text/plain": [
              "IntSlider(value=0, description='X', max=9)"
            ],
            "application/vnd.jupyter.widget-view+json": {
              "version_major": 2,
              "version_minor": 0,
              "model_id": "339ae43466a04a0da0852f547c45e785"
            }
          },
          "metadata": {}
        },
        {
          "output_type": "display_data",
          "data": {
            "text/plain": [
              "IntSlider(value=0, description='Y', max=9)"
            ],
            "application/vnd.jupyter.widget-view+json": {
              "version_major": 2,
              "version_minor": 0,
              "model_id": "214cd6bbd5e64aa08a3da18233ebe17c"
            }
          },
          "metadata": {}
        }
      ]
    },
    {
      "cell_type": "code",
      "source": [
        "import math"
      ],
      "metadata": {
        "id": "BrJKn5fGHXTC"
      },
      "execution_count": null,
      "outputs": []
    },
    {
      "cell_type": "code",
      "source": [
        "math.comb(100,1) * math.comb(99,20)"
      ],
      "metadata": {
        "colab": {
          "base_uri": "https://localhost:8080/"
        },
        "id": "_kmOXZUL8xUh",
        "outputId": "b190d559-fcfa-4ce9-a2d3-61a99bbe7497"
      },
      "execution_count": null,
      "outputs": [
        {
          "output_type": "execute_result",
          "data": {
            "text/plain": [
              "42878669632304774637600"
            ]
          },
          "metadata": {},
          "execution_count": 14
        }
      ]
    },
    {
      "cell_type": "code",
      "source": [
        "math.comb(99,20)"
      ],
      "metadata": {
        "colab": {
          "base_uri": "https://localhost:8080/"
        },
        "id": "QDRBB4rN82H-",
        "outputId": "5017b55a-184a-4728-8a9d-02495923fe3d"
      },
      "execution_count": null,
      "outputs": [
        {
          "output_type": "execute_result",
          "data": {
            "text/plain": [
              "428786696323047746376"
            ]
          },
          "metadata": {},
          "execution_count": 15
        }
      ]
    },
    {
      "cell_type": "code",
      "source": [
        "float(42878669632304774637600)"
      ],
      "metadata": {
        "colab": {
          "base_uri": "https://localhost:8080/"
        },
        "id": "2le3dWbf8_qz",
        "outputId": "8fb47f8e-eaa9-4294-c38b-8d849b402605"
      },
      "execution_count": null,
      "outputs": [
        {
          "output_type": "execute_result",
          "data": {
            "text/plain": [
              "4.2878669632304776e+22"
            ]
          },
          "metadata": {},
          "execution_count": 18
        }
      ]
    },
    {
      "cell_type": "code",
      "source": [],
      "metadata": {
        "id": "ShvliQlc9Hbv"
      },
      "execution_count": null,
      "outputs": []
    }
  ],
  "metadata": {
    "colab": {
      "provenance": [],
      "toc_visible": true,
      "include_colab_link": true
    },
    "kernelspec": {
      "name": "python3",
      "display_name": "Python 3"
    },
    "language_info": {
      "name": "python"
    },
    "widgets": {
      "application/vnd.jupyter.widget-state+json": {
        "f8ec51731dab42e7a8dd3c200d129711": {
          "model_module": "@jupyter-widgets/controls",
          "model_name": "ButtonModel",
          "model_module_version": "1.5.0",
          "state": {
            "_dom_classes": [],
            "_model_module": "@jupyter-widgets/controls",
            "_model_module_version": "1.5.0",
            "_model_name": "ButtonModel",
            "_view_count": null,
            "_view_module": "@jupyter-widgets/controls",
            "_view_module_version": "1.5.0",
            "_view_name": "ButtonView",
            "button_style": "",
            "description": "Up",
            "disabled": false,
            "icon": "",
            "layout": "IPY_MODEL_1014e9b8d66148e0aafd22ec37c1bd3d",
            "style": "IPY_MODEL_2c154e264d194894bcb69c7c51f33f57",
            "tooltip": ""
          }
        },
        "1014e9b8d66148e0aafd22ec37c1bd3d": {
          "model_module": "@jupyter-widgets/base",
          "model_name": "LayoutModel",
          "model_module_version": "1.2.0",
          "state": {
            "_model_module": "@jupyter-widgets/base",
            "_model_module_version": "1.2.0",
            "_model_name": "LayoutModel",
            "_view_count": null,
            "_view_module": "@jupyter-widgets/base",
            "_view_module_version": "1.2.0",
            "_view_name": "LayoutView",
            "align_content": null,
            "align_items": null,
            "align_self": null,
            "border": null,
            "bottom": null,
            "display": null,
            "flex": null,
            "flex_flow": null,
            "grid_area": null,
            "grid_auto_columns": null,
            "grid_auto_flow": null,
            "grid_auto_rows": null,
            "grid_column": null,
            "grid_gap": null,
            "grid_row": null,
            "grid_template_areas": null,
            "grid_template_columns": null,
            "grid_template_rows": null,
            "height": null,
            "justify_content": null,
            "justify_items": null,
            "left": null,
            "margin": null,
            "max_height": null,
            "max_width": null,
            "min_height": null,
            "min_width": null,
            "object_fit": null,
            "object_position": null,
            "order": null,
            "overflow": null,
            "overflow_x": null,
            "overflow_y": null,
            "padding": null,
            "right": null,
            "top": null,
            "visibility": null,
            "width": null
          }
        },
        "2c154e264d194894bcb69c7c51f33f57": {
          "model_module": "@jupyter-widgets/controls",
          "model_name": "ButtonStyleModel",
          "model_module_version": "1.5.0",
          "state": {
            "_model_module": "@jupyter-widgets/controls",
            "_model_module_version": "1.5.0",
            "_model_name": "ButtonStyleModel",
            "_view_count": null,
            "_view_module": "@jupyter-widgets/base",
            "_view_module_version": "1.2.0",
            "_view_name": "StyleView",
            "button_color": null,
            "font_weight": ""
          }
        },
        "759dc9e8214049b6ac6efdcefb10f837": {
          "model_module": "@jupyter-widgets/controls",
          "model_name": "ButtonModel",
          "model_module_version": "1.5.0",
          "state": {
            "_dom_classes": [],
            "_model_module": "@jupyter-widgets/controls",
            "_model_module_version": "1.5.0",
            "_model_name": "ButtonModel",
            "_view_count": null,
            "_view_module": "@jupyter-widgets/controls",
            "_view_module_version": "1.5.0",
            "_view_name": "ButtonView",
            "button_style": "",
            "description": "Down",
            "disabled": false,
            "icon": "",
            "layout": "IPY_MODEL_7edc73868ac04ac5b6f3b79b5fc76e89",
            "style": "IPY_MODEL_936ed010edab4ebcb4ff09320f991ac8",
            "tooltip": ""
          }
        },
        "7edc73868ac04ac5b6f3b79b5fc76e89": {
          "model_module": "@jupyter-widgets/base",
          "model_name": "LayoutModel",
          "model_module_version": "1.2.0",
          "state": {
            "_model_module": "@jupyter-widgets/base",
            "_model_module_version": "1.2.0",
            "_model_name": "LayoutModel",
            "_view_count": null,
            "_view_module": "@jupyter-widgets/base",
            "_view_module_version": "1.2.0",
            "_view_name": "LayoutView",
            "align_content": null,
            "align_items": null,
            "align_self": null,
            "border": null,
            "bottom": null,
            "display": null,
            "flex": null,
            "flex_flow": null,
            "grid_area": null,
            "grid_auto_columns": null,
            "grid_auto_flow": null,
            "grid_auto_rows": null,
            "grid_column": null,
            "grid_gap": null,
            "grid_row": null,
            "grid_template_areas": null,
            "grid_template_columns": null,
            "grid_template_rows": null,
            "height": null,
            "justify_content": null,
            "justify_items": null,
            "left": null,
            "margin": null,
            "max_height": null,
            "max_width": null,
            "min_height": null,
            "min_width": null,
            "object_fit": null,
            "object_position": null,
            "order": null,
            "overflow": null,
            "overflow_x": null,
            "overflow_y": null,
            "padding": null,
            "right": null,
            "top": null,
            "visibility": null,
            "width": null
          }
        },
        "936ed010edab4ebcb4ff09320f991ac8": {
          "model_module": "@jupyter-widgets/controls",
          "model_name": "ButtonStyleModel",
          "model_module_version": "1.5.0",
          "state": {
            "_model_module": "@jupyter-widgets/controls",
            "_model_module_version": "1.5.0",
            "_model_name": "ButtonStyleModel",
            "_view_count": null,
            "_view_module": "@jupyter-widgets/base",
            "_view_module_version": "1.2.0",
            "_view_name": "StyleView",
            "button_color": null,
            "font_weight": ""
          }
        },
        "db3db3cc6244460a85ceab65bef88303": {
          "model_module": "@jupyter-widgets/controls",
          "model_name": "ButtonModel",
          "model_module_version": "1.5.0",
          "state": {
            "_dom_classes": [],
            "_model_module": "@jupyter-widgets/controls",
            "_model_module_version": "1.5.0",
            "_model_name": "ButtonModel",
            "_view_count": null,
            "_view_module": "@jupyter-widgets/controls",
            "_view_module_version": "1.5.0",
            "_view_name": "ButtonView",
            "button_style": "",
            "description": "Left",
            "disabled": false,
            "icon": "",
            "layout": "IPY_MODEL_ff69b2de80bf489fa4fe4f12db364b96",
            "style": "IPY_MODEL_33e33d44ebeb47d3860b5c8b5321faf8",
            "tooltip": ""
          }
        },
        "ff69b2de80bf489fa4fe4f12db364b96": {
          "model_module": "@jupyter-widgets/base",
          "model_name": "LayoutModel",
          "model_module_version": "1.2.0",
          "state": {
            "_model_module": "@jupyter-widgets/base",
            "_model_module_version": "1.2.0",
            "_model_name": "LayoutModel",
            "_view_count": null,
            "_view_module": "@jupyter-widgets/base",
            "_view_module_version": "1.2.0",
            "_view_name": "LayoutView",
            "align_content": null,
            "align_items": null,
            "align_self": null,
            "border": null,
            "bottom": null,
            "display": null,
            "flex": null,
            "flex_flow": null,
            "grid_area": null,
            "grid_auto_columns": null,
            "grid_auto_flow": null,
            "grid_auto_rows": null,
            "grid_column": null,
            "grid_gap": null,
            "grid_row": null,
            "grid_template_areas": null,
            "grid_template_columns": null,
            "grid_template_rows": null,
            "height": null,
            "justify_content": null,
            "justify_items": null,
            "left": null,
            "margin": null,
            "max_height": null,
            "max_width": null,
            "min_height": null,
            "min_width": null,
            "object_fit": null,
            "object_position": null,
            "order": null,
            "overflow": null,
            "overflow_x": null,
            "overflow_y": null,
            "padding": null,
            "right": null,
            "top": null,
            "visibility": null,
            "width": null
          }
        },
        "33e33d44ebeb47d3860b5c8b5321faf8": {
          "model_module": "@jupyter-widgets/controls",
          "model_name": "ButtonStyleModel",
          "model_module_version": "1.5.0",
          "state": {
            "_model_module": "@jupyter-widgets/controls",
            "_model_module_version": "1.5.0",
            "_model_name": "ButtonStyleModel",
            "_view_count": null,
            "_view_module": "@jupyter-widgets/base",
            "_view_module_version": "1.2.0",
            "_view_name": "StyleView",
            "button_color": null,
            "font_weight": ""
          }
        },
        "4455958f8f2943ec8a784620e568a2dd": {
          "model_module": "@jupyter-widgets/controls",
          "model_name": "ButtonModel",
          "model_module_version": "1.5.0",
          "state": {
            "_dom_classes": [],
            "_model_module": "@jupyter-widgets/controls",
            "_model_module_version": "1.5.0",
            "_model_name": "ButtonModel",
            "_view_count": null,
            "_view_module": "@jupyter-widgets/controls",
            "_view_module_version": "1.5.0",
            "_view_name": "ButtonView",
            "button_style": "",
            "description": "Right",
            "disabled": false,
            "icon": "",
            "layout": "IPY_MODEL_42824fdf01474678a2a4c8ff3a1f6611",
            "style": "IPY_MODEL_bca75ffcea36492297eb6d77824ab467",
            "tooltip": ""
          }
        },
        "42824fdf01474678a2a4c8ff3a1f6611": {
          "model_module": "@jupyter-widgets/base",
          "model_name": "LayoutModel",
          "model_module_version": "1.2.0",
          "state": {
            "_model_module": "@jupyter-widgets/base",
            "_model_module_version": "1.2.0",
            "_model_name": "LayoutModel",
            "_view_count": null,
            "_view_module": "@jupyter-widgets/base",
            "_view_module_version": "1.2.0",
            "_view_name": "LayoutView",
            "align_content": null,
            "align_items": null,
            "align_self": null,
            "border": null,
            "bottom": null,
            "display": null,
            "flex": null,
            "flex_flow": null,
            "grid_area": null,
            "grid_auto_columns": null,
            "grid_auto_flow": null,
            "grid_auto_rows": null,
            "grid_column": null,
            "grid_gap": null,
            "grid_row": null,
            "grid_template_areas": null,
            "grid_template_columns": null,
            "grid_template_rows": null,
            "height": null,
            "justify_content": null,
            "justify_items": null,
            "left": null,
            "margin": null,
            "max_height": null,
            "max_width": null,
            "min_height": null,
            "min_width": null,
            "object_fit": null,
            "object_position": null,
            "order": null,
            "overflow": null,
            "overflow_x": null,
            "overflow_y": null,
            "padding": null,
            "right": null,
            "top": null,
            "visibility": null,
            "width": null
          }
        },
        "bca75ffcea36492297eb6d77824ab467": {
          "model_module": "@jupyter-widgets/controls",
          "model_name": "ButtonStyleModel",
          "model_module_version": "1.5.0",
          "state": {
            "_model_module": "@jupyter-widgets/controls",
            "_model_module_version": "1.5.0",
            "_model_name": "ButtonStyleModel",
            "_view_count": null,
            "_view_module": "@jupyter-widgets/base",
            "_view_module_version": "1.2.0",
            "_view_name": "StyleView",
            "button_color": null,
            "font_weight": ""
          }
        },
        "2ff2875b975d45b396031b52dae0513b": {
          "model_module": "@jupyter-widgets/output",
          "model_name": "OutputModel",
          "model_module_version": "1.0.0",
          "state": {
            "_dom_classes": [],
            "_model_module": "@jupyter-widgets/output",
            "_model_module_version": "1.0.0",
            "_model_name": "OutputModel",
            "_view_count": null,
            "_view_module": "@jupyter-widgets/output",
            "_view_module_version": "1.0.0",
            "_view_name": "OutputView",
            "layout": "IPY_MODEL_c0a6f5be01544254898c12d06f618e88",
            "msg_id": "",
            "outputs": [
              {
                "output_type": "display_data",
                "data": {
                  "text/plain": "<Figure size 640x480 with 1 Axes>",
                  "image/png": "iVBORw0KGgoAAAANSUhEUgAAAh8AAAGdCAYAAACyzRGfAAAAOXRFWHRTb2Z0d2FyZQBNYXRwbG90bGliIHZlcnNpb24zLjcuMSwgaHR0cHM6Ly9tYXRwbG90bGliLm9yZy/bCgiHAAAACXBIWXMAAA9hAAAPYQGoP6dpAAAmfElEQVR4nO3df3RU9Z3/8deQkUs2JhH48iORgOGHREH4ihhOQOsPEE8W+WL3HFQO3aZSt7vdWImeujW1+ItC0G09FutGcV2wKqLdLdh6xBTZEr62QgJKD2i/QpRoCgK7/UomjPXKTO73D5d8N4I6Se587r0fno9z7h+Z+Tif9yvjcV7O3MyNeZ7nCQAAwJB+QQ8AAABOL5QPAABgFOUDAAAYRfkAAABGUT4AAIBRlA8AAGAU5QMAABhF+QAAAEbFgx7gszo7O3Xw4EHl5+crFosFPQ4AAMiA53nq6OhQcXGx+vX74vc2Qlc+Dh48qJKSkqDHAAAAvdDW1qYRI0Z84ZrQlY/8/HxJnw5fUFAQ8DS919TUJNd15TiOysvLgx6n12zIYUMGyY4cNmSQyBEmNmSQ7MiRSCRUUlLS9Tr+RUJXPk581FJQUBDp8pGXl6d4PC7HccgRMBsySHbksCGDRI4wsSGDZE8OSRmdMsEJpwAAwCjKBwAAMIryAQAAjKJ8AADwJY5+9EnQI1gldCecAgAQFu/8xzHd96u31Lj3P3TZuUN019zzNWbImUGPFXmUDwAAPqP9z8e1cvM+rf7t/q6/3ni15T911YONWjSjVN+ZOU6FuWcEPGV0UT4AAPgv6U5PzzW3acXGP+iYm1KnJ8nzuu6TpH/57X79fOcfdUdlma6bWqKcfnwbd09RPgAAkLTt3T/prhf2aO/hY4pJ8j5nXacnJf58XLW/2K01v23VffMmaNrowSZHjTzKBwDgtNb2fz/S8pf+oI17Dinnv97E+LziccKJ+1uOdOj6VdtUOXG47pxznkYM/ItsjmoN/toFAHDaemHXAV354y369VuHJUnpL2sdn3Fi/a/fOqwrfrRFL+w64POEdqJ8AABOWy+8cUDH017X+Ry9le70dDzt6YU3KB+Z6HH52Lp1q+bOnavi4mLFYjFt2LCh2/2e5+muu+5SUVGRcnNzNWvWLO3bt8+veQEA8E3fKkf2H89WPS4fyWRSkydP1iOPPHLK+x944AGtXLlSjz76qLZv3668vDxdffXV+vjjj/s8LAAAiL4en3BaWVmpysrKU97neZ4eeugh/eAHP9C8efMkST/72c80bNgwbdiwQTfccEPfpgUAAJHn6zkf+/fv16FDhzRr1qyu2woLCzVt2jS99tprp/xnXNdVIpHodgAAAHv5Wj4OHTokSRo2bFi324cNG9Z132fV1dWpsLCw6ygpKfFzJAAAEDKB/7VLbW2t2tvbu462tragRwIAAFnka/kYPny4JOnw4cPdbj98+HDXfZ/lOI4KCgq6HQAAwF6+lo/S0lINHz5cmzdv7rotkUho+/btqqio8HMrAAAQUT3+a5djx46ppaWl6+f9+/dr165dGjRokEaOHKmamhr98Ic/1Lhx41RaWqolS5aouLhY1157rZ9zAwCAiOpx+dixY4euuOKKrp9vu+02SVJVVZXWrFmjf/iHf1AymdS3vvUtHT16VJdccolefvllDRgwwL+pAQDwgd/Xo+X6tpnpcfm4/PLL5Xmf/x1usVhM9913n+67774+DQYAQLbNu/Bs/e+W/1Snpz59xXpOv5j6xT59PHw5rmoLADhtzfufZ+uiUQO1/KU/6KXdn17VticXl+sXkzo96eoJw/T9v+SqtpmifAAATmsjBv6F/mnhRdr+7p901wtv6u3DHYrpi6/TcuL+c4fl697/NUHTRg82M6wlKB8AAEiaNnqwXlp8qZ7f0aYVG/+POj4+rlN9EtMvJuUPOEO1lWWaP7VEOf0406OnKB8AAPyXnH4xLSgfqb+8oEgPb96nf/ntfsViMaU7PeX0i8nzPH3zklJ9Z+Y4FQw4I+hxI4vyAQDAZxTmnqEfXHO+Fkwbqft+9ZYa9/6HLh33P7TkmvM1ZsiZQY8XeZQPAAA+x5ghZ+rJReU6+tEnOusv+gc9jjUCv7YLAABhR/HwF+UDAAAYRfkAAABGUT4AAIBRlA8AAGBUaP/apampSXl5eUGP0Wutra1KpVKKx0P7K86IDTlsyCDZkcOGDBI5wsSGDJIdOZLJZMZrQ5vSdd1IPwmpVErpdFrSp1miyoYcNmSQ7MhhQwaJHGFiQwbJjhw9mTu0r+6O48hxnKDH6LUTxSkej5MjYDZkkOzIYUMGiRxhYkMGyY4cqVQq47WhLR/l5eUqKCgIeow+cV1XjuOooqIi6FH6xIYcNmSQ7MhhQwaJHGFiQwYp+jkSiUTGaznhFAAAGEX5AAAARlE+AACAUZQPAABgFOUDAAAYRfkAAABGUT4AAIBRlA8AAGAU5QMAABhF+QAAAEZRPgAAgFFZKR8dHR2qqanRqFGjlJubq+nTp6u5uTkbWwEAgIjJSvm46aabtGnTJj311FPavXu3Zs+erVmzZunAgQPZ2A4AAESI7+Xjz3/+s/7t3/5NDzzwgL7yla9o7NixuueeezR27FjV19f7vR0AAIiYuN8PmEqllE6nNWDAgG635+bm6tVXXz1pveu6cl236+eeXJIXAABEj+/vfOTn56uiokJLly7VwYMHlU6n9fTTT+u1117TBx98cNL6uro6FRYWdh0lJSV+jwQAAEIkK+d8PPXUU/I8T2effbYcx9HKlSu1YMEC9et38na1tbVqb2/vOtra2rIxEgAACAnfP3aRpDFjxqixsVHJZFKJREJFRUW6/vrrNXr06JPWOo4jx3GyMQYAAAihrH7PR15enoqKivThhx+qoaFB8+bNy+Z2AAAgArLyzkdDQ4M8z9P48ePV0tKi22+/XWVlZbrxxhuzsR0AAIiQrLzz0d7erurqapWVlenrX/+6LrnkEjU0NOiMM87IxnYAACBCsvLOx3XXXafrrrsuGw8NAAAijmu7AAAAoygfAADAKMoHAAAwivIBAACMonwAAACjKB8AAMAoygcAADCK8gEAAIyifAAAAKMoHwAAwCjKBwAAMCor13bxQ1NTk/Ly8oIeo9daW1uVSqUUj4f2V5wRG3LYkEGyI4cNGSRyhIkNGSQ7ciSTyYzXhjal67qRfhJSqZTS6bSkT7NElQ05bMgg2ZHDhgwSOcLEhgySHTl6MndoX90dx5HjOEGP0WsnilM8HidHwGzIINmRw4YMEjnCxIYMkh05UqlUxmtDWz7Ky8tVUFAQ9Bh94rquHMdRRUVF0KP0iQ05bMgg2ZHDhgwSOcLEhgxS9HMkEomM13LCKQAAMIryAQAAjKJ8AAAAoygfAADAKMoHAAAwivIBAACMonwAAACjKB8AAMAoygcAADCK8gEAAIyifAAAAKN8Lx/pdFpLlixRaWmpcnNzNWbMGC1dulSe5/m9FQAAiCDfLyx3//33q76+Xk8++aQmTJigHTt26MYbb1RhYaFuueUWv7cDAAAR43v5+N3vfqd58+Zpzpw5kqRzzjlHzz77rJqamvzeCgAARJDvH7tMnz5dmzdv1t69eyVJv//97/Xqq6+qsrLylOtd11Uikeh2AAAAe/n+zscdd9yhRCKhsrIy5eTkKJ1Oa9myZVq4cOEp19fV1enee+/1ewwAABBSvr/z8fzzz+uZZ57R2rVr9frrr+vJJ5/Uj370Iz355JOnXF9bW6v29vauo62tze+RAABAiPj+zsftt9+uO+64QzfccIMk6YILLtB7772nuro6VVVVnbTecRw5juP3GAAAIKR8f+fjo48+Ur9+3R82JydHnZ2dfm8FAAAiyPd3PubOnatly5Zp5MiRmjBhgt544w09+OCDWrRokd9bAQCACPK9fDz88MNasmSJ/v7v/15HjhxRcXGx/vZv/1Z33XWX31sBAIAI8r185Ofn66GHHtJDDz3k90MDAAALcG0XAABgFOUDAAAYRfkAAABGUT4AAIBRlA8AAGAU5QMAABhF+QAAAEZRPgAAgFGUDwAAYBTlAwAAGEX5AAAARvl+bRe/NDU1KS8vL+gxeq21tVWpVErxeGh/xRmxIYcNGSQ7ctiQQSJHmNiQQbIjRzKZzHhtaFO6rhvpJyGVSimdTkv6NEtU2ZDDhgySHTlsyCCRI0xsyCDZkaMnc4f21d1xHDmOE/QYvXaiOMXjcXIEzIYMkh05bMggkSNMbMgg2ZEjlUplvDa05aO8vFwFBQVBj9EnruvKcRxVVFQEPUqf2JDDhgySHTlsyCCRI0xsyCBFP0cikch4LSecAgAAoygfAADAKMoHAAAwivIBAACMonwAAACjKB8AAMAoygcAADCK8gEAAIyifAAAAKMoHwAAwCjKBwAAMMr38nHOOecoFouddFRXV/u9FQAAiCDfLyzX3NzcdVlgSdqzZ4+uuuoqzZ8/3++tAABABPlePoYMGdLt5xUrVmjMmDG67LLL/N4KAABEkO/l47/75JNP9PTTT+u2225TLBY75RrXdeW6btfPPbkkLwAAiJ6snnC6YcMGHT16VN/4xjc+d01dXZ0KCwu7jpKSkmyOBAAAApbV8vHEE0+osrJSxcXFn7umtrZW7e3tXUdbW1s2RwIAAAHL2scu7733nl555RX94he/+MJ1juPIcZxsjQEAAEIma+98rF69WkOHDtWcOXOytQUAAIigrJSPzs5OrV69WlVVVYrHs3pOKwAAiJislI9XXnlF77//vhYtWpSNhwcAABGWlbclZs+eLc/zsvHQAAAg4ri2CwAAMIryAQAAjKJ8AAAAoygfAADAKMoHAAAwivIBAACMonwAAACjKB8AAMAoygcAADCK8gEAAIyifAAAAKNCe8nZpqYm5eXlBT1Gr7W2tiqVSkX+qr425LAhg2RHDhsySOQIExsySHbkSCaTGa8NbUrXdSP9JKRSKaXTaUmfZokqG3LYkEGyI4cNGSRyhIkNGSQ7cvRk7tC+ujuOI8dxgh6j104Up3g8To6A2ZBBsiOHDRkkcoSJDRkkO3KkUqmM14a2fJSXl6ugoCDoMfrEdV05jqOKioqgR+kTG3LYkEGyI4cNGSRyhIkNGaTo50gkEhmv5YRTAABgFOUDAAAYRfkAAABGUT4AAIBRlA8AAGAU5QMAABhF+QAAAEZRPgAAgFGUDwAAYBTlAwAAGEX5AAAARmWlfBw4cEBf+9rXNHjwYOXm5uqCCy7Qjh07srEVAACIGN8vLPfhhx9qxowZuuKKK7Rx40YNGTJE+/bt08CBA/3eCgAARJDv5eP+++9XSUmJVq9e3XVbaWmp39sAAICI8v1jl1/+8peaOnWq5s+fr6FDh+rCCy/U448//rnrXddVIpHodgAAAHv5Xj7effdd1dfXa9y4cWpoaNC3v/1t3XLLLXryySdPub6urk6FhYVdR0lJid8jAQCAEPG9fHR2dmrKlClavny5LrzwQn3rW9/S3/zN3+jRRx895fra2lq1t7d3HW1tbX6PBAAAQsT38lFUVKTzzz+/223nnXee3n///VOudxxHBQUF3Q4AAGAv38vHjBkz9Pbbb3e7be/evRo1apTfWwEAgAjyvXzceuut2rZtm5YvX66WlhatXbtWq1atUnV1td9bAQCACPK9fFx88cVav369nn32WU2cOFFLly7VQw89pIULF/q9FQAAiCDfv+dDkq655hpdc8012XhoAAAQcVzbBQAAGEX5AAAARlE+AACAUZQPAABgFOUDAAAYRfkAAABGUT4AAIBRlA8AAGAU5QMAABhF+QAAAEZl5evV/dDU1KS8vLygx+i11tZWpVIpxeOh/RVnxIYcNmSQ7MhhQwaJHGFiQwbJjhzJZDLjtaFN6bpupJ+EVCqldDot6dMsUWVDDhsySHbksCGDRI4wsSGDZEeOnswd2ld3x3HkOE7QY/TaieIUj8fJETAbMkh25LAhg0SOMLEhg2RHjlQqlfHa0JaP8vJyFRQUBD1Gn7iuK8dxVFFREfQofWJDDhsySHbksCGDRI4wsSGDFP0ciUQi47WccAoAAIyifAAAAKMoHwAAwCjKBwAAMIryAQAAjKJ8AAAAoygfAADAKMoHAAAwivIBAACMonwAAACjKB8AAMAoygcAADDK9/Jxzz33KBaLdTvKysr83gYAAERUVq5qO2HCBL3yyiv/f5N4aC+eCwAADMtKK4jH4xo+fHg2HhoAAERcVs752Ldvn4qLizV69GgtXLhQ77///ueudV1XiUSi2wEAAOzle/mYNm2a1qxZo5dffln19fXav3+/Lr30UnV0dJxyfV1dnQoLC7uOkpISv0cCAAAh4nv5qKys1Pz58zVp0iRdffXVeumll3T06FE9//zzp1xfW1ur9vb2rqOtrc3vkQAAQIhk/UzQs846S+eee65aWlpOeb/jOHIcJ9tjAACAkMj693wcO3ZM77zzjoqKirK9FQAAiADfy8d3v/tdNTY2qrW1Vb/73e/01a9+VTk5OVqwYIHfWwEAgAjy/WOXP/7xj1qwYIH+9Kc/aciQIbrkkku0bds2DRkyxO+tAABABPlePtatW+f3QwIAAItwbRcAAGAU5QMAABhF+QAAAEZRPgAAgFGUDwAAYBTlAwAAGEX5AAAARlE+AACAUZQPAABgFOUDAAAY5fvXq/ulqalJeXl5QY/Ra62trUqlUorHQ/srzogNOWzIINmRw4YMEjnCxIYMkh05kslkxmtDm9J13Ug/CalUSul0WtKnWaLKhhw2ZJDsyGFDBokcYWJDBsmOHD2ZO7Sv7o7jyHGcoMfotRPFKR6PkyNgNmSQ7MhhQwaJHGFiQwbJjhypVCrjtaEtH+Xl5SooKAh6jD5xXVeO46iioiLoUfrEhhw2ZJDsyGFDBokcYWJDBin6ORKJRMZrOeEUAAAYRfkAAABGUT4AAIBRlA8AAGAU5QMAABhF+QAAAEZRPgAAgFGUDwAAYBTlAwAAGEX5AAAARlE+AACAUZQPAABgVNbLx4oVKxSLxVRTU5PtrQAAQARktXw0Nzfrscce06RJk7K5DQAAiJCslY9jx45p4cKFevzxxzVw4MBsbQMAACIma+Wjurpac+bM0axZs75wneu6SiQS3Q4AAGCveDYedN26dXr99dfV3Nz8pWvr6up07733ZmMMAAAQQr6/89HW1qbFixfrmWee0YABA750fW1trdrb27uOtrY2v0cCAAAh4vs7Hzt37tSRI0c0ZcqUrtvS6bS2bt2qn/70p3JdVzk5OV33OY4jx3H8HgMAAISU7+Vj5syZ2r17d7fbbrzxRpWVlel73/tet+IBAABOP76Xj/z8fE2cOLHbbXl5eRo8ePBJtwMAgNMP33AKAACMyspfu3zWli1bTGwDAAAigHc+AACAUZQPAABgFOUDAAAYRfkAAABGUT4AAIBRlA8AAGAU5QMAABhF+QAAAEZRPgAAgFGUDwAAYJSRr1fvjaamJuXl5QU9Rq+1trYqlUopHg/trzgjNuSwIYNkRw4bMkjkCBMbMkh25EgmkxmvDW1K13Uj/SSkUiml02lJn2aJKhty2JBBsiOHDRkkcoSJDRkkO3L0ZO7Qvro7jiPHcYIeo9dOFKd4PE6OgNmQQbIjhw0ZJHKEiQ0ZJDtypFKpjNeGtnyUl5eroKAg6DH6xHVdOY6jioqKoEfpExty2JBBsiOHDRkkcoSJDRmk6OdIJBIZr+WEUwAAYBTlAwAAGEX5AAAARlE+AACAUZQPAABgFOUDAAAYRfkAAABGUT4AAIBRlA8AAGAU5QMAABhF+QAAAEZRPgAAgFG+l4/6+npNmjRJBQUFKigoUEVFhTZu3Oj3NgAAIKJ8Lx8jRozQihUrtHPnTu3YsUNXXnml5s2bpzfffNPvrQAAQATF/X7AuXPndvt52bJlqq+v17Zt2zRhwgS/twMAABHje/n479LptH7+858rmUyqoqLilGtc15Xrul0/JxKJbI4EAAAClpUTTnfv3q0zzzxTjuPo7/7u77R+/Xqdf/75p1xbV1enwsLCrqOkpCQbIwEAgJDISvkYP368du3ape3bt+vb3/62qqqq9NZbb51ybW1trdrb27uOtra2bIwEAABCIisfu/Tv319jx46VJF100UVqbm7WT37yEz322GMnrXUcR47jZGMMAAAQQka+56Ozs7PbeR0AAOD05fs7H7W1taqsrNTIkSPV0dGhtWvXasuWLWpoaPB7KwAAEEG+l48jR47o61//uj744AMVFhZq0qRJamho0FVXXeX3VgAAIIJ8Lx9PPPGE3w8JAAAswrVdAACAUZQPAABgFOUDAAAYRfkAAABGUT4AAIBRlA8AAGAU5QMAABhF+QAAAEZRPgAAgFGUDwAAYJTvX6/ul6amJuXl5QU9Rq+1trYqlUopHg/trzgjNuSwIYNkRw4bMkjkCBMbMkh25EgmkxmvDW1K13Uj/SSkUiml02lJn2aJKhty2JBBsiOHDRkkcoSJDRkkO3L0ZO7Qvro7jiPHcYIeo9dOFKd4PE6OgNmQQbIjhw0ZJHKEiQ0ZJDtypFKpjNeGtnyUl5eroKAg6DH6xHVdOY6jioqKoEfpExty2JBBsiOHDRkkcoSJDRmk6OdIJBIZr+WEUwAAYBTlAwAAGEX5AAAARlE+AACAUZQPAABgFOUDAAAYRfkAAABGUT4AAIBRlA8AAGAU5QMAABhF+QAAAEZRPgAAgFG+l4+6ujpdfPHFys/P19ChQ3Xttdfq7bff9nsbAAAQUb6Xj8bGRlVXV2vbtm3atGmTjh8/rtmzZyuZTPq9FQAAiKC43w/48ssvd/t5zZo1Gjp0qHbu3KmvfOUrfm8HAAAixvfy8Vnt7e2SpEGDBp3yftd15bpu18+JRCLbIwEAgABl9YTTzs5O1dTUaMaMGZo4ceIp19TV1amwsLDrKCkpyeZIAAAgYFktH9XV1dqzZ4/WrVv3uWtqa2vV3t7edbS1tWVzJAAAELCsfexy880368UXX9TWrVs1YsSIz13nOI4cx8nWGAAAIGR8Lx+e5+k73/mO1q9fry1btqi0tNTvLQAAQIT5Xj6qq6u1du1avfDCC8rPz9ehQ4ckSYWFhcrNzfV7OwAAEDG+n/NRX1+v9vZ2XX755SoqKuo6nnvuOb+3AgAAEZSVj10AAAA+D9d2AQAARlE+AACAUZQPAABgFOUDAAAYRfkAAABGUT4AAIBRlA8AAGAU5QMAABhF+QAAAEZRPgAAgFG+f726X5qampSXlxf0GL3W2tqqVCqleDy0v+KM2JDDhgySHTlsyCCRI0xsyCDZkSOZTGa8NrQpXdeN9JOQSqWUTqclfZolqmzIYUMGyY4cNmSQyBEmNmSQ7MjRk7lD++ruOI4cxwl6jF47UZzi8Tg5AmZDBsmOHDZkkMgRJjZkkOzIkUqlMl4b2vJRXl6ugoKCoMfoE9d15TiOKioqgh6lT2zIYUMGyY4cNmSQyBEmNmSQop8jkUhkvJYTTgEAgFGUDwAAYBTlAwAAGEX5AAAARlE+AACAUZQPAABgFOUDAAAYRfkAAABGUT4AAIBRlA8AAGAU5QMAABhF+QAAAEb5Xj62bt2quXPnqri4WLFYTBs2bPB7CwAAEGG+l49kMqnJkyfrkUce8fuhAQCABeJ+P2BlZaUqKyv9flgAAGAJ38tHT7muK9d1u35OJBIBTgMAALIt8BNO6+rqVFhY2HWUlJQEPRIAAMiiwMtHbW2t2tvbu462tragRwIAAFkU+McujuPIcZygxwAAAIYE/s4HAAA4vfj+zsexY8fU0tLS9fP+/fu1a9cuDRo0SCNHjvR7OwAAEDG+l48dO3boiiuu6Pr5tttukyRVVVVpzZo1fm8HAAAixvfycfnll8vzPL8fFgAAWIJzPgAAgFGUDwAAYBTlAwAAGEX5AAAARlE+AACAUZQPAABgFOUDAAAYRfkAAABGUT4AAIBRlA8AAGCU71+v3lcnvpo9kUgEPEnfJJNJua6rVCoV6Sw25LAhg2RHDhsySOQIExsySHbkODF3JpdYCV356OjokCSVlJQEPAkAAOipjo4OFRYWfuGamBeyq8B1dnbq4MGDys/PVywWy8oeiURCJSUlamtrU0FBQVb2MMGGHDZkkMgRJjZkkOzIYUMGiRyZ8jxPHR0dKi4uVr9+X3xWR+je+ejXr59GjBhhZK+CgoJI/4t0gg05bMggkSNMbMgg2ZHDhgwSOTLxZe94nMAJpwAAwCjKBwAAMOq0LB+O4+juu++W4zhBj9InNuSwIYNEjjCxIYNkRw4bMkjkyIbQnXAKAADsdlq+8wEAAIJD+QAAAEZRPgAAgFGUDwAAYNRpVT62bt2quXPnqri4WLFYTBs2bAh6pB6rq6vTxRdfrPz8fA0dOlTXXnut3n777aDH6rH6+npNmjSp68tuKioqtHHjxqDH6pMVK1YoFouppqYm6FF65J577lEsFut2lJWVBT1Wrxw4cEBf+9rXNHjwYOXm5uqCCy7Qjh07gh4rY+ecc85Jz0UsFlN1dXXQo/VIOp3WkiVLVFpaqtzcXI0ZM0ZLly7N6JofYdLR0aGamhqNGjVKubm5mj59upqbm4Me6wt92euc53m66667VFRUpNzcXM2aNUv79u0zPudpVT6SyaQmT56sRx55JOhReq2xsVHV1dXatm2bNm3apOPHj2v27NlKJpNBj9YjI0aM0IoVK7Rz507t2LFDV155pebNm6c333wz6NF6pbm5WY899pgmTZoU9Ci9MmHCBH3wwQddx6uvvhr0SD324YcfasaMGTrjjDO0ceNGvfXWW/rxj3+sgQMHBj1axpqbm7s9D5s2bZIkzZ8/P+DJeub+++9XfX29fvrTn+oPf/iD7r//fj3wwAN6+OGHgx6tR2666SZt2rRJTz31lHbv3q3Zs2dr1qxZOnDgQNCjfa4ve5174IEHtHLlSj366KPavn278vLydPXVV+vjjz82O6h3mpLkrV+/Pugx+uzIkSOeJK+xsTHoUfps4MCB3j//8z8HPUaPdXR0eOPGjfM2bdrkXXbZZd7ixYuDHqlH7r77bm/y5MlBj9Fn3/ve97xLLrkk6DF8tXjxYm/MmDFeZ2dn0KP0yJw5c7xFixZ1u+2v/uqvvIULFwY0Uc999NFHXk5Ojvfiiy92u33KlCnenXfeGdBUPfPZ17nOzk5v+PDh3j/+4z923Xb06FHPcRzv2WefNTrbafXOh43a29slSYMGDQp4kt5Lp9Nat26dksmkKioqgh6nx6qrqzVnzhzNmjUr6FF6bd++fSouLtbo0aO1cOFCvf/++0GP1GO//OUvNXXqVM2fP19Dhw7VhRdeqMcffzzosXrtk08+0dNPP61FixZl7SKb2TJ9+nRt3rxZe/fulST9/ve/16uvvqrKysqAJ8tcKpVSOp3WgAEDut2em5sbyXcGJWn//v06dOhQt/9WFRYWatq0aXrttdeMzhK6C8shc52dnaqpqdGMGTM0ceLEoMfpsd27d6uiokIff/yxzjzzTK1fv17nn39+0GP1yLp16/T666+H/nPgLzJt2jStWbNG48eP1wcffKB7771Xl156qfbs2aP8/Pygx8vYu+++q/r6et122236/ve/r+bmZt1yyy3q37+/qqqqgh6vxzZs2KCjR4/qG9/4RtCj9Ngdd9yhRCKhsrIy5eTkKJ1Oa9myZVq4cGHQo2UsPz9fFRUVWrp0qc477zwNGzZMzz77rF577TWNHTs26PF65dChQ5KkYcOGdbt92LBhXfeZQvmIsOrqau3ZsyeyLXz8+PHatWuX2tvb9a//+q+qqqpSY2NjZApIW1ubFi9erE2bNp30f0dR8t//b3TSpEmaNm2aRo0apeeff17f/OY3A5ysZzo7OzV16lQtX75cknThhRdqz549evTRRyNZPp544glVVlaquLg46FF67Pnnn9czzzyjtWvXasKECdq1a5dqampUXFwcqefiqaee0qJFi3T22WcrJydHU6ZM0YIFC7Rz586gR4s8PnaJqJtvvlkvvviifvOb32jEiBFBj9Mr/fv319ixY3XRRReprq5OkydP1k9+8pOgx8rYzp07deTIEU2ZMkXxeFzxeFyNjY1auXKl4vG40ul00CP2yllnnaVzzz1XLS0tQY/SI0VFRScV1/POOy+SHyG99957euWVV3TTTTcFPUqv3H777brjjjt0ww036IILLtBf//Vf69Zbb1VdXV3Qo/XImDFj1NjYqGPHjqmtrU1NTU06fvy4Ro8eHfRovTJ8+HBJ0uHDh7vdfvjw4a77TKF8RIznebr55pu1fv16/fu//7tKS0uDHsk3nZ2dcl036DEyNnPmTO3evVu7du3qOqZOnaqFCxdq165dysnJCXrEXjl27JjeeecdFRUVBT1Kj8yYMeOkPzvfu3evRo0aFdBEvbd69WoNHTpUc+bMCXqUXvnoo4/Ur1/3l5ecnBx1dnYGNFHf5OXlqaioSB9++KEaGho0b968oEfqldLSUg0fPlybN2/uui2RSGj79u3Gz7c7rT52OXbsWLf/m9u/f7927dqlQYMGaeTIkQFOlrnq6mqtXbtWL7zwgvLz87s+pyssLFRubm7A02WutrZWlZWVGjlypDo6OrR27Vpt2bJFDQ0NQY+Wsfz8/JPOtcnLy9PgwYMjdQ7Od7/7Xc2dO1ejRo3SwYMHdffddysnJ0cLFiwIerQeufXWWzV9+nQtX75c1113nZqamrRq1SqtWrUq6NF6pLOzU6tXr1ZVVZXi8Wj+J3ru3LlatmyZRo4cqQkTJuiNN97Qgw8+qEWLFgU9Wo80NDTI8zyNHz9eLS0tuv3221VWVqYbb7wx6NE+15e9ztXU1OiHP/yhxo0bp9LSUi1ZskTFxcW69tprzQ5q9G9rAvab3/zGk3TSUVVVFfRoGTvV/JK81atXBz1ajyxatMgbNWqU179/f2/IkCHezJkzvV//+tdBj9VnUfxT2+uvv94rKiry+vfv75199tne9ddf77W0tAQ9Vq/86le/8iZOnOg5juOVlZV5q1atCnqkHmtoaPAkeW+//XbQo/RaIpHwFi9e7I0cOdIbMGCAN3r0aO/OO+/0XNcNerQeee6557zRo0d7/fv394YPH+5VV1d7R48eDXqsL/Rlr3OdnZ3ekiVLvGHDhnmO43gzZ84M5N+1mOdF7CvnAABApHHOBwAAMIryAQAAjKJ8AAAAoygfAADAKMoHAAAwivIBAACMonwAAACjKB8AAMAoygcAADCK8gEAAIyifAAAAKMoHwAAwKj/B8mR+6JHGtFkAAAAAElFTkSuQmCC\n"
                },
                "metadata": {}
              },
              {
                "output_type": "stream",
                "name": "stdout",
                "text": [
                  "Up Button clicked.\n",
                  "New coordinate value is (9.0,10.0).\n"
                ]
              }
            ]
          }
        },
        "c0a6f5be01544254898c12d06f618e88": {
          "model_module": "@jupyter-widgets/base",
          "model_name": "LayoutModel",
          "model_module_version": "1.2.0",
          "state": {
            "_model_module": "@jupyter-widgets/base",
            "_model_module_version": "1.2.0",
            "_model_name": "LayoutModel",
            "_view_count": null,
            "_view_module": "@jupyter-widgets/base",
            "_view_module_version": "1.2.0",
            "_view_name": "LayoutView",
            "align_content": null,
            "align_items": null,
            "align_self": null,
            "border": null,
            "bottom": null,
            "display": null,
            "flex": null,
            "flex_flow": null,
            "grid_area": null,
            "grid_auto_columns": null,
            "grid_auto_flow": null,
            "grid_auto_rows": null,
            "grid_column": null,
            "grid_gap": null,
            "grid_row": null,
            "grid_template_areas": null,
            "grid_template_columns": null,
            "grid_template_rows": null,
            "height": null,
            "justify_content": null,
            "justify_items": null,
            "left": null,
            "margin": null,
            "max_height": null,
            "max_width": null,
            "min_height": null,
            "min_width": null,
            "object_fit": null,
            "object_position": null,
            "order": null,
            "overflow": null,
            "overflow_x": null,
            "overflow_y": null,
            "padding": null,
            "right": null,
            "top": null,
            "visibility": null,
            "width": null
          }
        },
        "4c6675b31b40437a8f35e33cceb0b2ff": {
          "model_module": "@jupyter-widgets/controls",
          "model_name": "FloatSliderModel",
          "model_module_version": "1.5.0",
          "state": {
            "_dom_classes": [],
            "_model_module": "@jupyter-widgets/controls",
            "_model_module_version": "1.5.0",
            "_model_name": "FloatSliderModel",
            "_view_count": null,
            "_view_module": "@jupyter-widgets/controls",
            "_view_module_version": "1.5.0",
            "_view_name": "FloatSliderView",
            "continuous_update": true,
            "description": "",
            "description_tooltip": null,
            "disabled": false,
            "layout": "IPY_MODEL_3c9cdcb9f9b64c68bd3983c190691dea",
            "max": 2,
            "min": 0,
            "orientation": "horizontal",
            "readout": true,
            "readout_format": ".2f",
            "step": 0.1,
            "style": "IPY_MODEL_185d5ad7de1a4d4da4fe14764ed0ec42",
            "value": 0.8
          }
        },
        "3c9cdcb9f9b64c68bd3983c190691dea": {
          "model_module": "@jupyter-widgets/base",
          "model_name": "LayoutModel",
          "model_module_version": "1.2.0",
          "state": {
            "_model_module": "@jupyter-widgets/base",
            "_model_module_version": "1.2.0",
            "_model_name": "LayoutModel",
            "_view_count": null,
            "_view_module": "@jupyter-widgets/base",
            "_view_module_version": "1.2.0",
            "_view_name": "LayoutView",
            "align_content": null,
            "align_items": null,
            "align_self": null,
            "border": null,
            "bottom": null,
            "display": null,
            "flex": null,
            "flex_flow": null,
            "grid_area": null,
            "grid_auto_columns": null,
            "grid_auto_flow": null,
            "grid_auto_rows": null,
            "grid_column": null,
            "grid_gap": null,
            "grid_row": null,
            "grid_template_areas": null,
            "grid_template_columns": null,
            "grid_template_rows": null,
            "height": null,
            "justify_content": null,
            "justify_items": null,
            "left": null,
            "margin": null,
            "max_height": null,
            "max_width": null,
            "min_height": null,
            "min_width": null,
            "object_fit": null,
            "object_position": null,
            "order": null,
            "overflow": null,
            "overflow_x": null,
            "overflow_y": null,
            "padding": null,
            "right": null,
            "top": null,
            "visibility": null,
            "width": null
          }
        },
        "185d5ad7de1a4d4da4fe14764ed0ec42": {
          "model_module": "@jupyter-widgets/controls",
          "model_name": "SliderStyleModel",
          "model_module_version": "1.5.0",
          "state": {
            "_model_module": "@jupyter-widgets/controls",
            "_model_module_version": "1.5.0",
            "_model_name": "SliderStyleModel",
            "_view_count": null,
            "_view_module": "@jupyter-widgets/base",
            "_view_module_version": "1.2.0",
            "_view_name": "StyleView",
            "description_width": "",
            "handle_color": null
          }
        },
        "f56fbed727b4436bb4c134bb4f9a39d3": {
          "model_module": "@jupyter-widgets/output",
          "model_name": "OutputModel",
          "model_module_version": "1.0.0",
          "state": {
            "_dom_classes": [],
            "_model_module": "@jupyter-widgets/output",
            "_model_module_version": "1.0.0",
            "_model_name": "OutputModel",
            "_view_count": null,
            "_view_module": "@jupyter-widgets/output",
            "_view_module_version": "1.0.0",
            "_view_name": "OutputView",
            "layout": "IPY_MODEL_5264a3d8d34941a9b2c4d807c0f1abd1",
            "msg_id": "",
            "outputs": [
              {
                "output_type": "display_data",
                "data": {
                  "text/plain": "<Figure size 640x480 with 1 Axes>",
                  "image/png": "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\n"
                },
                "metadata": {}
              }
            ]
          }
        },
        "5264a3d8d34941a9b2c4d807c0f1abd1": {
          "model_module": "@jupyter-widgets/base",
          "model_name": "LayoutModel",
          "model_module_version": "1.2.0",
          "state": {
            "_model_module": "@jupyter-widgets/base",
            "_model_module_version": "1.2.0",
            "_model_name": "LayoutModel",
            "_view_count": null,
            "_view_module": "@jupyter-widgets/base",
            "_view_module_version": "1.2.0",
            "_view_name": "LayoutView",
            "align_content": null,
            "align_items": null,
            "align_self": null,
            "border": null,
            "bottom": null,
            "display": null,
            "flex": null,
            "flex_flow": null,
            "grid_area": null,
            "grid_auto_columns": null,
            "grid_auto_flow": null,
            "grid_auto_rows": null,
            "grid_column": null,
            "grid_gap": null,
            "grid_row": null,
            "grid_template_areas": null,
            "grid_template_columns": null,
            "grid_template_rows": null,
            "height": "300px",
            "justify_content": null,
            "justify_items": null,
            "left": null,
            "margin": null,
            "max_height": null,
            "max_width": null,
            "min_height": null,
            "min_width": null,
            "object_fit": null,
            "object_position": null,
            "order": null,
            "overflow": null,
            "overflow_x": null,
            "overflow_y": null,
            "padding": null,
            "right": null,
            "top": null,
            "visibility": null,
            "width": null
          }
        },
        "4157023b724844d0ba31c21e96853540": {
          "model_module": "@jupyter-widgets/controls",
          "model_name": "ButtonModel",
          "model_module_version": "1.5.0",
          "state": {
            "_dom_classes": [],
            "_model_module": "@jupyter-widgets/controls",
            "_model_module_version": "1.5.0",
            "_model_name": "ButtonModel",
            "_view_count": null,
            "_view_module": "@jupyter-widgets/controls",
            "_view_module_version": "1.5.0",
            "_view_name": "ButtonView",
            "button_style": "",
            "description": "Do it",
            "disabled": false,
            "icon": "",
            "layout": "IPY_MODEL_3fcaddae65884d5db69d5fd087edce12",
            "style": "IPY_MODEL_eaad0af0fc5644e5a36d50e389d1a4a3",
            "tooltip": ""
          }
        },
        "3fcaddae65884d5db69d5fd087edce12": {
          "model_module": "@jupyter-widgets/base",
          "model_name": "LayoutModel",
          "model_module_version": "1.2.0",
          "state": {
            "_model_module": "@jupyter-widgets/base",
            "_model_module_version": "1.2.0",
            "_model_name": "LayoutModel",
            "_view_count": null,
            "_view_module": "@jupyter-widgets/base",
            "_view_module_version": "1.2.0",
            "_view_name": "LayoutView",
            "align_content": null,
            "align_items": null,
            "align_self": null,
            "border": null,
            "bottom": null,
            "display": null,
            "flex": null,
            "flex_flow": null,
            "grid_area": null,
            "grid_auto_columns": null,
            "grid_auto_flow": null,
            "grid_auto_rows": null,
            "grid_column": null,
            "grid_gap": null,
            "grid_row": null,
            "grid_template_areas": null,
            "grid_template_columns": null,
            "grid_template_rows": null,
            "height": null,
            "justify_content": null,
            "justify_items": null,
            "left": null,
            "margin": null,
            "max_height": null,
            "max_width": null,
            "min_height": null,
            "min_width": null,
            "object_fit": null,
            "object_position": null,
            "order": null,
            "overflow": null,
            "overflow_x": null,
            "overflow_y": null,
            "padding": null,
            "right": null,
            "top": null,
            "visibility": null,
            "width": null
          }
        },
        "eaad0af0fc5644e5a36d50e389d1a4a3": {
          "model_module": "@jupyter-widgets/controls",
          "model_name": "ButtonStyleModel",
          "model_module_version": "1.5.0",
          "state": {
            "_model_module": "@jupyter-widgets/controls",
            "_model_module_version": "1.5.0",
            "_model_name": "ButtonStyleModel",
            "_view_count": null,
            "_view_module": "@jupyter-widgets/base",
            "_view_module_version": "1.2.0",
            "_view_name": "StyleView",
            "button_color": null,
            "font_weight": ""
          }
        },
        "840c7ade75934997b75e90b6f0a9b01e": {
          "model_module": "@jupyter-widgets/controls",
          "model_name": "HBoxModel",
          "model_module_version": "1.5.0",
          "state": {
            "_dom_classes": [],
            "_model_module": "@jupyter-widgets/controls",
            "_model_module_version": "1.5.0",
            "_model_name": "HBoxModel",
            "_view_count": null,
            "_view_module": "@jupyter-widgets/controls",
            "_view_module_version": "1.5.0",
            "_view_name": "HBoxView",
            "box_style": "",
            "children": [
              "IPY_MODEL_6a24d42792dc4baa8db7c201d93dc114",
              "IPY_MODEL_18fdae61999140028e7ead68e761343b"
            ],
            "layout": "IPY_MODEL_7ca3ba725bf441158749a634dbeaaf02"
          }
        },
        "6a24d42792dc4baa8db7c201d93dc114": {
          "model_module": "@jupyter-widgets/controls",
          "model_name": "VBoxModel",
          "model_module_version": "1.5.0",
          "state": {
            "_dom_classes": [],
            "_model_module": "@jupyter-widgets/controls",
            "_model_module_version": "1.5.0",
            "_model_name": "VBoxModel",
            "_view_count": null,
            "_view_module": "@jupyter-widgets/controls",
            "_view_module_version": "1.5.0",
            "_view_name": "VBoxView",
            "box_style": "",
            "children": [
              "IPY_MODEL_c580a222d67f4d31b89e91c43721aafa",
              "IPY_MODEL_e301def9619e4863b3c2008635faf601",
              "IPY_MODEL_e82f3d25ebcc4d4dae1edd392158636f"
            ],
            "layout": "IPY_MODEL_438feaf3f431431da9e22a19516d8efe"
          }
        },
        "18fdae61999140028e7ead68e761343b": {
          "model_module": "@jupyter-widgets/output",
          "model_name": "OutputModel",
          "model_module_version": "1.0.0",
          "state": {
            "_dom_classes": [],
            "_model_module": "@jupyter-widgets/output",
            "_model_module_version": "1.0.0",
            "_model_name": "OutputModel",
            "_view_count": null,
            "_view_module": "@jupyter-widgets/output",
            "_view_module_version": "1.0.0",
            "_view_name": "OutputView",
            "layout": "IPY_MODEL_77c96522cda646778ee5499c8af908c8",
            "msg_id": "",
            "outputs": [
              {
                "output_type": "stream",
                "name": "stdout",
                "text": [
                  "4.5*4.3*5.8=112.22999999999999\n"
                ]
              }
            ]
          }
        },
        "7ca3ba725bf441158749a634dbeaaf02": {
          "model_module": "@jupyter-widgets/base",
          "model_name": "LayoutModel",
          "model_module_version": "1.2.0",
          "state": {
            "_model_module": "@jupyter-widgets/base",
            "_model_module_version": "1.2.0",
            "_model_name": "LayoutModel",
            "_view_count": null,
            "_view_module": "@jupyter-widgets/base",
            "_view_module_version": "1.2.0",
            "_view_name": "LayoutView",
            "align_content": null,
            "align_items": null,
            "align_self": null,
            "border": null,
            "bottom": null,
            "display": null,
            "flex": null,
            "flex_flow": null,
            "grid_area": null,
            "grid_auto_columns": null,
            "grid_auto_flow": null,
            "grid_auto_rows": null,
            "grid_column": null,
            "grid_gap": null,
            "grid_row": null,
            "grid_template_areas": null,
            "grid_template_columns": null,
            "grid_template_rows": null,
            "height": null,
            "justify_content": null,
            "justify_items": null,
            "left": null,
            "margin": null,
            "max_height": null,
            "max_width": null,
            "min_height": null,
            "min_width": null,
            "object_fit": null,
            "object_position": null,
            "order": null,
            "overflow": null,
            "overflow_x": null,
            "overflow_y": null,
            "padding": null,
            "right": null,
            "top": null,
            "visibility": null,
            "width": null
          }
        },
        "c580a222d67f4d31b89e91c43721aafa": {
          "model_module": "@jupyter-widgets/controls",
          "model_name": "FloatSliderModel",
          "model_module_version": "1.5.0",
          "state": {
            "_dom_classes": [],
            "_model_module": "@jupyter-widgets/controls",
            "_model_module_version": "1.5.0",
            "_model_name": "FloatSliderModel",
            "_view_count": null,
            "_view_module": "@jupyter-widgets/controls",
            "_view_module_version": "1.5.0",
            "_view_name": "FloatSliderView",
            "continuous_update": true,
            "description": "a",
            "description_tooltip": null,
            "disabled": false,
            "layout": "IPY_MODEL_383837ce1b7b43f7b2ad0926751f113c",
            "max": 10,
            "min": 0,
            "orientation": "horizontal",
            "readout": true,
            "readout_format": ".2f",
            "step": 0.1,
            "style": "IPY_MODEL_a88e078e8faa4fa0aff22d88574bf221",
            "value": 4.5
          }
        },
        "e301def9619e4863b3c2008635faf601": {
          "model_module": "@jupyter-widgets/controls",
          "model_name": "FloatSliderModel",
          "model_module_version": "1.5.0",
          "state": {
            "_dom_classes": [],
            "_model_module": "@jupyter-widgets/controls",
            "_model_module_version": "1.5.0",
            "_model_name": "FloatSliderModel",
            "_view_count": null,
            "_view_module": "@jupyter-widgets/controls",
            "_view_module_version": "1.5.0",
            "_view_name": "FloatSliderView",
            "continuous_update": true,
            "description": "b",
            "description_tooltip": null,
            "disabled": false,
            "layout": "IPY_MODEL_8c1762a52af14879b408bfa44bc072d1",
            "max": 10,
            "min": 0,
            "orientation": "horizontal",
            "readout": true,
            "readout_format": ".2f",
            "step": 0.1,
            "style": "IPY_MODEL_24d558a71055470eb543c3a3fa55b807",
            "value": 4.3
          }
        },
        "e82f3d25ebcc4d4dae1edd392158636f": {
          "model_module": "@jupyter-widgets/controls",
          "model_name": "FloatSliderModel",
          "model_module_version": "1.5.0",
          "state": {
            "_dom_classes": [],
            "_model_module": "@jupyter-widgets/controls",
            "_model_module_version": "1.5.0",
            "_model_name": "FloatSliderModel",
            "_view_count": null,
            "_view_module": "@jupyter-widgets/controls",
            "_view_module_version": "1.5.0",
            "_view_name": "FloatSliderView",
            "continuous_update": true,
            "description": "c",
            "description_tooltip": null,
            "disabled": false,
            "layout": "IPY_MODEL_765e11a4c652497eb9396aa00125c1b2",
            "max": 10,
            "min": 0,
            "orientation": "horizontal",
            "readout": true,
            "readout_format": ".2f",
            "step": 0.1,
            "style": "IPY_MODEL_7f763399c61f4ef58828e90c81c37964",
            "value": 5.8
          }
        },
        "438feaf3f431431da9e22a19516d8efe": {
          "model_module": "@jupyter-widgets/base",
          "model_name": "LayoutModel",
          "model_module_version": "1.2.0",
          "state": {
            "_model_module": "@jupyter-widgets/base",
            "_model_module_version": "1.2.0",
            "_model_name": "LayoutModel",
            "_view_count": null,
            "_view_module": "@jupyter-widgets/base",
            "_view_module_version": "1.2.0",
            "_view_name": "LayoutView",
            "align_content": null,
            "align_items": null,
            "align_self": null,
            "border": null,
            "bottom": null,
            "display": null,
            "flex": null,
            "flex_flow": null,
            "grid_area": null,
            "grid_auto_columns": null,
            "grid_auto_flow": null,
            "grid_auto_rows": null,
            "grid_column": null,
            "grid_gap": null,
            "grid_row": null,
            "grid_template_areas": null,
            "grid_template_columns": null,
            "grid_template_rows": null,
            "height": null,
            "justify_content": null,
            "justify_items": null,
            "left": null,
            "margin": null,
            "max_height": null,
            "max_width": null,
            "min_height": null,
            "min_width": null,
            "object_fit": null,
            "object_position": null,
            "order": null,
            "overflow": null,
            "overflow_x": null,
            "overflow_y": null,
            "padding": null,
            "right": null,
            "top": null,
            "visibility": null,
            "width": null
          }
        },
        "383837ce1b7b43f7b2ad0926751f113c": {
          "model_module": "@jupyter-widgets/base",
          "model_name": "LayoutModel",
          "model_module_version": "1.2.0",
          "state": {
            "_model_module": "@jupyter-widgets/base",
            "_model_module_version": "1.2.0",
            "_model_name": "LayoutModel",
            "_view_count": null,
            "_view_module": "@jupyter-widgets/base",
            "_view_module_version": "1.2.0",
            "_view_name": "LayoutView",
            "align_content": null,
            "align_items": null,
            "align_self": null,
            "border": null,
            "bottom": null,
            "display": null,
            "flex": null,
            "flex_flow": null,
            "grid_area": null,
            "grid_auto_columns": null,
            "grid_auto_flow": null,
            "grid_auto_rows": null,
            "grid_column": null,
            "grid_gap": null,
            "grid_row": null,
            "grid_template_areas": null,
            "grid_template_columns": null,
            "grid_template_rows": null,
            "height": null,
            "justify_content": null,
            "justify_items": null,
            "left": null,
            "margin": null,
            "max_height": null,
            "max_width": null,
            "min_height": null,
            "min_width": null,
            "object_fit": null,
            "object_position": null,
            "order": null,
            "overflow": null,
            "overflow_x": null,
            "overflow_y": null,
            "padding": null,
            "right": null,
            "top": null,
            "visibility": null,
            "width": null
          }
        },
        "a88e078e8faa4fa0aff22d88574bf221": {
          "model_module": "@jupyter-widgets/controls",
          "model_name": "SliderStyleModel",
          "model_module_version": "1.5.0",
          "state": {
            "_model_module": "@jupyter-widgets/controls",
            "_model_module_version": "1.5.0",
            "_model_name": "SliderStyleModel",
            "_view_count": null,
            "_view_module": "@jupyter-widgets/base",
            "_view_module_version": "1.2.0",
            "_view_name": "StyleView",
            "description_width": "",
            "handle_color": null
          }
        },
        "8c1762a52af14879b408bfa44bc072d1": {
          "model_module": "@jupyter-widgets/base",
          "model_name": "LayoutModel",
          "model_module_version": "1.2.0",
          "state": {
            "_model_module": "@jupyter-widgets/base",
            "_model_module_version": "1.2.0",
            "_model_name": "LayoutModel",
            "_view_count": null,
            "_view_module": "@jupyter-widgets/base",
            "_view_module_version": "1.2.0",
            "_view_name": "LayoutView",
            "align_content": null,
            "align_items": null,
            "align_self": null,
            "border": null,
            "bottom": null,
            "display": null,
            "flex": null,
            "flex_flow": null,
            "grid_area": null,
            "grid_auto_columns": null,
            "grid_auto_flow": null,
            "grid_auto_rows": null,
            "grid_column": null,
            "grid_gap": null,
            "grid_row": null,
            "grid_template_areas": null,
            "grid_template_columns": null,
            "grid_template_rows": null,
            "height": null,
            "justify_content": null,
            "justify_items": null,
            "left": null,
            "margin": null,
            "max_height": null,
            "max_width": null,
            "min_height": null,
            "min_width": null,
            "object_fit": null,
            "object_position": null,
            "order": null,
            "overflow": null,
            "overflow_x": null,
            "overflow_y": null,
            "padding": null,
            "right": null,
            "top": null,
            "visibility": null,
            "width": null
          }
        },
        "24d558a71055470eb543c3a3fa55b807": {
          "model_module": "@jupyter-widgets/controls",
          "model_name": "SliderStyleModel",
          "model_module_version": "1.5.0",
          "state": {
            "_model_module": "@jupyter-widgets/controls",
            "_model_module_version": "1.5.0",
            "_model_name": "SliderStyleModel",
            "_view_count": null,
            "_view_module": "@jupyter-widgets/base",
            "_view_module_version": "1.2.0",
            "_view_name": "StyleView",
            "description_width": "",
            "handle_color": null
          }
        },
        "765e11a4c652497eb9396aa00125c1b2": {
          "model_module": "@jupyter-widgets/base",
          "model_name": "LayoutModel",
          "model_module_version": "1.2.0",
          "state": {
            "_model_module": "@jupyter-widgets/base",
            "_model_module_version": "1.2.0",
            "_model_name": "LayoutModel",
            "_view_count": null,
            "_view_module": "@jupyter-widgets/base",
            "_view_module_version": "1.2.0",
            "_view_name": "LayoutView",
            "align_content": null,
            "align_items": null,
            "align_self": null,
            "border": null,
            "bottom": null,
            "display": null,
            "flex": null,
            "flex_flow": null,
            "grid_area": null,
            "grid_auto_columns": null,
            "grid_auto_flow": null,
            "grid_auto_rows": null,
            "grid_column": null,
            "grid_gap": null,
            "grid_row": null,
            "grid_template_areas": null,
            "grid_template_columns": null,
            "grid_template_rows": null,
            "height": null,
            "justify_content": null,
            "justify_items": null,
            "left": null,
            "margin": null,
            "max_height": null,
            "max_width": null,
            "min_height": null,
            "min_width": null,
            "object_fit": null,
            "object_position": null,
            "order": null,
            "overflow": null,
            "overflow_x": null,
            "overflow_y": null,
            "padding": null,
            "right": null,
            "top": null,
            "visibility": null,
            "width": null
          }
        },
        "7f763399c61f4ef58828e90c81c37964": {
          "model_module": "@jupyter-widgets/controls",
          "model_name": "SliderStyleModel",
          "model_module_version": "1.5.0",
          "state": {
            "_model_module": "@jupyter-widgets/controls",
            "_model_module_version": "1.5.0",
            "_model_name": "SliderStyleModel",
            "_view_count": null,
            "_view_module": "@jupyter-widgets/base",
            "_view_module_version": "1.2.0",
            "_view_name": "StyleView",
            "description_width": "",
            "handle_color": null
          }
        },
        "77c96522cda646778ee5499c8af908c8": {
          "model_module": "@jupyter-widgets/base",
          "model_name": "LayoutModel",
          "model_module_version": "1.2.0",
          "state": {
            "_model_module": "@jupyter-widgets/base",
            "_model_module_version": "1.2.0",
            "_model_name": "LayoutModel",
            "_view_count": null,
            "_view_module": "@jupyter-widgets/base",
            "_view_module_version": "1.2.0",
            "_view_name": "LayoutView",
            "align_content": null,
            "align_items": null,
            "align_self": null,
            "border": null,
            "bottom": null,
            "display": null,
            "flex": null,
            "flex_flow": null,
            "grid_area": null,
            "grid_auto_columns": null,
            "grid_auto_flow": null,
            "grid_auto_rows": null,
            "grid_column": null,
            "grid_gap": null,
            "grid_row": null,
            "grid_template_areas": null,
            "grid_template_columns": null,
            "grid_template_rows": null,
            "height": null,
            "justify_content": null,
            "justify_items": null,
            "left": null,
            "margin": null,
            "max_height": null,
            "max_width": null,
            "min_height": null,
            "min_width": null,
            "object_fit": null,
            "object_position": null,
            "order": null,
            "overflow": null,
            "overflow_x": null,
            "overflow_y": null,
            "padding": null,
            "right": null,
            "top": null,
            "visibility": null,
            "width": null
          }
        },
        "126287c94d1742b3b9e45dc922aebca0": {
          "model_module": "@jupyter-widgets/output",
          "model_name": "OutputModel",
          "model_module_version": "1.0.0",
          "state": {
            "_dom_classes": [],
            "_model_module": "@jupyter-widgets/output",
            "_model_module_version": "1.0.0",
            "_model_name": "OutputModel",
            "_view_count": null,
            "_view_module": "@jupyter-widgets/output",
            "_view_module_version": "1.0.0",
            "_view_name": "OutputView",
            "layout": "IPY_MODEL_7c997091c6994ee09bca8cf7ce5d6b6f",
            "msg_id": "",
            "outputs": [
              {
                "output_type": "stream",
                "name": "stdout",
                "text": [
                  "Moved up. Criter is now at (0, 4).\n",
                  "No food here\n",
                  "Moves: 38 \tFood Eaten: 20 \tFood Per Move: 0.5263157894736842\n"
                ]
              },
              {
                "output_type": "display_data",
                "data": {
                  "text/plain": "<Figure size 700x600 with 1 Axes>",
                  "image/png": "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\n"
                },
                "metadata": {}
              }
            ]
          }
        },
        "7c997091c6994ee09bca8cf7ce5d6b6f": {
          "model_module": "@jupyter-widgets/base",
          "model_name": "LayoutModel",
          "model_module_version": "1.2.0",
          "state": {
            "_model_module": "@jupyter-widgets/base",
            "_model_module_version": "1.2.0",
            "_model_name": "LayoutModel",
            "_view_count": null,
            "_view_module": "@jupyter-widgets/base",
            "_view_module_version": "1.2.0",
            "_view_name": "LayoutView",
            "align_content": null,
            "align_items": null,
            "align_self": null,
            "border": null,
            "bottom": null,
            "display": null,
            "flex": null,
            "flex_flow": null,
            "grid_area": null,
            "grid_auto_columns": null,
            "grid_auto_flow": null,
            "grid_auto_rows": null,
            "grid_column": null,
            "grid_gap": null,
            "grid_row": null,
            "grid_template_areas": null,
            "grid_template_columns": null,
            "grid_template_rows": null,
            "height": null,
            "justify_content": null,
            "justify_items": null,
            "left": null,
            "margin": null,
            "max_height": null,
            "max_width": null,
            "min_height": null,
            "min_width": null,
            "object_fit": null,
            "object_position": null,
            "order": null,
            "overflow": null,
            "overflow_x": null,
            "overflow_y": null,
            "padding": null,
            "right": null,
            "top": null,
            "visibility": null,
            "width": null
          }
        },
        "cd81a1239e884d0786fce6a55ad12745": {
          "model_module": "@jupyter-widgets/controls",
          "model_name": "ButtonModel",
          "model_module_version": "1.5.0",
          "state": {
            "_dom_classes": [],
            "_model_module": "@jupyter-widgets/controls",
            "_model_module_version": "1.5.0",
            "_model_name": "ButtonModel",
            "_view_count": null,
            "_view_module": "@jupyter-widgets/controls",
            "_view_module_version": "1.5.0",
            "_view_name": "ButtonView",
            "button_style": "",
            "description": "Up",
            "disabled": false,
            "icon": "",
            "layout": "IPY_MODEL_a7294bf1ebc44472a165fe8178be11b7",
            "style": "IPY_MODEL_53b7248ef6cc468681b7cdf22fc66637",
            "tooltip": ""
          }
        },
        "a7294bf1ebc44472a165fe8178be11b7": {
          "model_module": "@jupyter-widgets/base",
          "model_name": "LayoutModel",
          "model_module_version": "1.2.0",
          "state": {
            "_model_module": "@jupyter-widgets/base",
            "_model_module_version": "1.2.0",
            "_model_name": "LayoutModel",
            "_view_count": null,
            "_view_module": "@jupyter-widgets/base",
            "_view_module_version": "1.2.0",
            "_view_name": "LayoutView",
            "align_content": null,
            "align_items": null,
            "align_self": null,
            "border": null,
            "bottom": null,
            "display": null,
            "flex": null,
            "flex_flow": null,
            "grid_area": null,
            "grid_auto_columns": null,
            "grid_auto_flow": null,
            "grid_auto_rows": null,
            "grid_column": null,
            "grid_gap": null,
            "grid_row": null,
            "grid_template_areas": null,
            "grid_template_columns": null,
            "grid_template_rows": null,
            "height": null,
            "justify_content": null,
            "justify_items": null,
            "left": null,
            "margin": null,
            "max_height": null,
            "max_width": null,
            "min_height": null,
            "min_width": null,
            "object_fit": null,
            "object_position": null,
            "order": null,
            "overflow": null,
            "overflow_x": null,
            "overflow_y": null,
            "padding": null,
            "right": null,
            "top": null,
            "visibility": null,
            "width": null
          }
        },
        "53b7248ef6cc468681b7cdf22fc66637": {
          "model_module": "@jupyter-widgets/controls",
          "model_name": "ButtonStyleModel",
          "model_module_version": "1.5.0",
          "state": {
            "_model_module": "@jupyter-widgets/controls",
            "_model_module_version": "1.5.0",
            "_model_name": "ButtonStyleModel",
            "_view_count": null,
            "_view_module": "@jupyter-widgets/base",
            "_view_module_version": "1.2.0",
            "_view_name": "StyleView",
            "button_color": null,
            "font_weight": ""
          }
        },
        "5255017df61f4c19a719e09829153e2a": {
          "model_module": "@jupyter-widgets/controls",
          "model_name": "ButtonModel",
          "model_module_version": "1.5.0",
          "state": {
            "_dom_classes": [],
            "_model_module": "@jupyter-widgets/controls",
            "_model_module_version": "1.5.0",
            "_model_name": "ButtonModel",
            "_view_count": null,
            "_view_module": "@jupyter-widgets/controls",
            "_view_module_version": "1.5.0",
            "_view_name": "ButtonView",
            "button_style": "",
            "description": "Down",
            "disabled": false,
            "icon": "",
            "layout": "IPY_MODEL_018a78dc8dbc43eaaf5114dddcade84e",
            "style": "IPY_MODEL_db6260dc665043b5a58374cae013680c",
            "tooltip": ""
          }
        },
        "018a78dc8dbc43eaaf5114dddcade84e": {
          "model_module": "@jupyter-widgets/base",
          "model_name": "LayoutModel",
          "model_module_version": "1.2.0",
          "state": {
            "_model_module": "@jupyter-widgets/base",
            "_model_module_version": "1.2.0",
            "_model_name": "LayoutModel",
            "_view_count": null,
            "_view_module": "@jupyter-widgets/base",
            "_view_module_version": "1.2.0",
            "_view_name": "LayoutView",
            "align_content": null,
            "align_items": null,
            "align_self": null,
            "border": null,
            "bottom": null,
            "display": null,
            "flex": null,
            "flex_flow": null,
            "grid_area": null,
            "grid_auto_columns": null,
            "grid_auto_flow": null,
            "grid_auto_rows": null,
            "grid_column": null,
            "grid_gap": null,
            "grid_row": null,
            "grid_template_areas": null,
            "grid_template_columns": null,
            "grid_template_rows": null,
            "height": null,
            "justify_content": null,
            "justify_items": null,
            "left": null,
            "margin": null,
            "max_height": null,
            "max_width": null,
            "min_height": null,
            "min_width": null,
            "object_fit": null,
            "object_position": null,
            "order": null,
            "overflow": null,
            "overflow_x": null,
            "overflow_y": null,
            "padding": null,
            "right": null,
            "top": null,
            "visibility": null,
            "width": null
          }
        },
        "db6260dc665043b5a58374cae013680c": {
          "model_module": "@jupyter-widgets/controls",
          "model_name": "ButtonStyleModel",
          "model_module_version": "1.5.0",
          "state": {
            "_model_module": "@jupyter-widgets/controls",
            "_model_module_version": "1.5.0",
            "_model_name": "ButtonStyleModel",
            "_view_count": null,
            "_view_module": "@jupyter-widgets/base",
            "_view_module_version": "1.2.0",
            "_view_name": "StyleView",
            "button_color": null,
            "font_weight": ""
          }
        },
        "cd11653195a348f29355deee13007973": {
          "model_module": "@jupyter-widgets/controls",
          "model_name": "ButtonModel",
          "model_module_version": "1.5.0",
          "state": {
            "_dom_classes": [],
            "_model_module": "@jupyter-widgets/controls",
            "_model_module_version": "1.5.0",
            "_model_name": "ButtonModel",
            "_view_count": null,
            "_view_module": "@jupyter-widgets/controls",
            "_view_module_version": "1.5.0",
            "_view_name": "ButtonView",
            "button_style": "",
            "description": "Left",
            "disabled": false,
            "icon": "",
            "layout": "IPY_MODEL_42f63c53c1bf4a469b60e5c1ce892757",
            "style": "IPY_MODEL_d4353615087b497eaff2f3db35970800",
            "tooltip": ""
          }
        },
        "42f63c53c1bf4a469b60e5c1ce892757": {
          "model_module": "@jupyter-widgets/base",
          "model_name": "LayoutModel",
          "model_module_version": "1.2.0",
          "state": {
            "_model_module": "@jupyter-widgets/base",
            "_model_module_version": "1.2.0",
            "_model_name": "LayoutModel",
            "_view_count": null,
            "_view_module": "@jupyter-widgets/base",
            "_view_module_version": "1.2.0",
            "_view_name": "LayoutView",
            "align_content": null,
            "align_items": null,
            "align_self": null,
            "border": null,
            "bottom": null,
            "display": null,
            "flex": null,
            "flex_flow": null,
            "grid_area": null,
            "grid_auto_columns": null,
            "grid_auto_flow": null,
            "grid_auto_rows": null,
            "grid_column": null,
            "grid_gap": null,
            "grid_row": null,
            "grid_template_areas": null,
            "grid_template_columns": null,
            "grid_template_rows": null,
            "height": null,
            "justify_content": null,
            "justify_items": null,
            "left": null,
            "margin": null,
            "max_height": null,
            "max_width": null,
            "min_height": null,
            "min_width": null,
            "object_fit": null,
            "object_position": null,
            "order": null,
            "overflow": null,
            "overflow_x": null,
            "overflow_y": null,
            "padding": null,
            "right": null,
            "top": null,
            "visibility": null,
            "width": null
          }
        },
        "d4353615087b497eaff2f3db35970800": {
          "model_module": "@jupyter-widgets/controls",
          "model_name": "ButtonStyleModel",
          "model_module_version": "1.5.0",
          "state": {
            "_model_module": "@jupyter-widgets/controls",
            "_model_module_version": "1.5.0",
            "_model_name": "ButtonStyleModel",
            "_view_count": null,
            "_view_module": "@jupyter-widgets/base",
            "_view_module_version": "1.2.0",
            "_view_name": "StyleView",
            "button_color": null,
            "font_weight": ""
          }
        },
        "b1002c4d488041f299220f68e0f9ce79": {
          "model_module": "@jupyter-widgets/controls",
          "model_name": "ButtonModel",
          "model_module_version": "1.5.0",
          "state": {
            "_dom_classes": [],
            "_model_module": "@jupyter-widgets/controls",
            "_model_module_version": "1.5.0",
            "_model_name": "ButtonModel",
            "_view_count": null,
            "_view_module": "@jupyter-widgets/controls",
            "_view_module_version": "1.5.0",
            "_view_name": "ButtonView",
            "button_style": "",
            "description": "Right",
            "disabled": false,
            "icon": "",
            "layout": "IPY_MODEL_b8284354f31f464f899ec46cca830f32",
            "style": "IPY_MODEL_c2e0d0f2b6e1489b900ec7b064ac8dd9",
            "tooltip": ""
          }
        },
        "b8284354f31f464f899ec46cca830f32": {
          "model_module": "@jupyter-widgets/base",
          "model_name": "LayoutModel",
          "model_module_version": "1.2.0",
          "state": {
            "_model_module": "@jupyter-widgets/base",
            "_model_module_version": "1.2.0",
            "_model_name": "LayoutModel",
            "_view_count": null,
            "_view_module": "@jupyter-widgets/base",
            "_view_module_version": "1.2.0",
            "_view_name": "LayoutView",
            "align_content": null,
            "align_items": null,
            "align_self": null,
            "border": null,
            "bottom": null,
            "display": null,
            "flex": null,
            "flex_flow": null,
            "grid_area": null,
            "grid_auto_columns": null,
            "grid_auto_flow": null,
            "grid_auto_rows": null,
            "grid_column": null,
            "grid_gap": null,
            "grid_row": null,
            "grid_template_areas": null,
            "grid_template_columns": null,
            "grid_template_rows": null,
            "height": null,
            "justify_content": null,
            "justify_items": null,
            "left": null,
            "margin": null,
            "max_height": null,
            "max_width": null,
            "min_height": null,
            "min_width": null,
            "object_fit": null,
            "object_position": null,
            "order": null,
            "overflow": null,
            "overflow_x": null,
            "overflow_y": null,
            "padding": null,
            "right": null,
            "top": null,
            "visibility": null,
            "width": null
          }
        },
        "c2e0d0f2b6e1489b900ec7b064ac8dd9": {
          "model_module": "@jupyter-widgets/controls",
          "model_name": "ButtonStyleModel",
          "model_module_version": "1.5.0",
          "state": {
            "_model_module": "@jupyter-widgets/controls",
            "_model_module_version": "1.5.0",
            "_model_name": "ButtonStyleModel",
            "_view_count": null,
            "_view_module": "@jupyter-widgets/base",
            "_view_module_version": "1.2.0",
            "_view_name": "StyleView",
            "button_color": null,
            "font_weight": ""
          }
        },
        "3162cb56872f4788bafcbfca4021118f": {
          "model_module": "@jupyter-widgets/output",
          "model_name": "OutputModel",
          "model_module_version": "1.0.0",
          "state": {
            "_dom_classes": [],
            "_model_module": "@jupyter-widgets/output",
            "_model_module_version": "1.0.0",
            "_model_name": "OutputModel",
            "_view_count": null,
            "_view_module": "@jupyter-widgets/output",
            "_view_module_version": "1.0.0",
            "_view_name": "OutputView",
            "layout": "IPY_MODEL_2b0c13d941504562ae19ac5c67a6517e",
            "msg_id": "",
            "outputs": [
              {
                "output_type": "stream",
                "name": "stdout",
                "text": [
                  "Moved down. Criter is now at (4, 6).\n",
                  "No food here\n",
                  "Moves: 4 \tFood Eaten: 0 \tFood Per Move: 0.0\n"
                ]
              },
              {
                "output_type": "display_data",
                "data": {
                  "text/plain": "<Figure size 700x600 with 1 Axes>",
                  "image/png": "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\n"
                },
                "metadata": {}
              }
            ]
          }
        },
        "2b0c13d941504562ae19ac5c67a6517e": {
          "model_module": "@jupyter-widgets/base",
          "model_name": "LayoutModel",
          "model_module_version": "1.2.0",
          "state": {
            "_model_module": "@jupyter-widgets/base",
            "_model_module_version": "1.2.0",
            "_model_name": "LayoutModel",
            "_view_count": null,
            "_view_module": "@jupyter-widgets/base",
            "_view_module_version": "1.2.0",
            "_view_name": "LayoutView",
            "align_content": null,
            "align_items": null,
            "align_self": null,
            "border": null,
            "bottom": null,
            "display": null,
            "flex": null,
            "flex_flow": null,
            "grid_area": null,
            "grid_auto_columns": null,
            "grid_auto_flow": null,
            "grid_auto_rows": null,
            "grid_column": null,
            "grid_gap": null,
            "grid_row": null,
            "grid_template_areas": null,
            "grid_template_columns": null,
            "grid_template_rows": null,
            "height": null,
            "justify_content": null,
            "justify_items": null,
            "left": null,
            "margin": null,
            "max_height": null,
            "max_width": null,
            "min_height": null,
            "min_width": null,
            "object_fit": null,
            "object_position": null,
            "order": null,
            "overflow": null,
            "overflow_x": null,
            "overflow_y": null,
            "padding": null,
            "right": null,
            "top": null,
            "visibility": null,
            "width": null
          }
        },
        "46e3b215ca2641408a1a6b00356c6fc4": {
          "model_module": "@jupyter-widgets/controls",
          "model_name": "ButtonModel",
          "model_module_version": "1.5.0",
          "state": {
            "_dom_classes": [],
            "_model_module": "@jupyter-widgets/controls",
            "_model_module_version": "1.5.0",
            "_model_name": "ButtonModel",
            "_view_count": null,
            "_view_module": "@jupyter-widgets/controls",
            "_view_module_version": "1.5.0",
            "_view_name": "ButtonView",
            "button_style": "",
            "description": "Up",
            "disabled": false,
            "icon": "",
            "layout": "IPY_MODEL_a805825cce054db59e58771ae01b3edd",
            "style": "IPY_MODEL_edf18472079e4290a6b1e8af7c129bbe",
            "tooltip": ""
          }
        },
        "a805825cce054db59e58771ae01b3edd": {
          "model_module": "@jupyter-widgets/base",
          "model_name": "LayoutModel",
          "model_module_version": "1.2.0",
          "state": {
            "_model_module": "@jupyter-widgets/base",
            "_model_module_version": "1.2.0",
            "_model_name": "LayoutModel",
            "_view_count": null,
            "_view_module": "@jupyter-widgets/base",
            "_view_module_version": "1.2.0",
            "_view_name": "LayoutView",
            "align_content": null,
            "align_items": null,
            "align_self": null,
            "border": null,
            "bottom": null,
            "display": null,
            "flex": null,
            "flex_flow": null,
            "grid_area": null,
            "grid_auto_columns": null,
            "grid_auto_flow": null,
            "grid_auto_rows": null,
            "grid_column": null,
            "grid_gap": null,
            "grid_row": null,
            "grid_template_areas": null,
            "grid_template_columns": null,
            "grid_template_rows": null,
            "height": null,
            "justify_content": null,
            "justify_items": null,
            "left": null,
            "margin": null,
            "max_height": null,
            "max_width": null,
            "min_height": null,
            "min_width": null,
            "object_fit": null,
            "object_position": null,
            "order": null,
            "overflow": null,
            "overflow_x": null,
            "overflow_y": null,
            "padding": null,
            "right": null,
            "top": null,
            "visibility": null,
            "width": null
          }
        },
        "edf18472079e4290a6b1e8af7c129bbe": {
          "model_module": "@jupyter-widgets/controls",
          "model_name": "ButtonStyleModel",
          "model_module_version": "1.5.0",
          "state": {
            "_model_module": "@jupyter-widgets/controls",
            "_model_module_version": "1.5.0",
            "_model_name": "ButtonStyleModel",
            "_view_count": null,
            "_view_module": "@jupyter-widgets/base",
            "_view_module_version": "1.2.0",
            "_view_name": "StyleView",
            "button_color": null,
            "font_weight": ""
          }
        },
        "57465daeff52468ebd75b260d35eab51": {
          "model_module": "@jupyter-widgets/controls",
          "model_name": "ButtonModel",
          "model_module_version": "1.5.0",
          "state": {
            "_dom_classes": [],
            "_model_module": "@jupyter-widgets/controls",
            "_model_module_version": "1.5.0",
            "_model_name": "ButtonModel",
            "_view_count": null,
            "_view_module": "@jupyter-widgets/controls",
            "_view_module_version": "1.5.0",
            "_view_name": "ButtonView",
            "button_style": "",
            "description": "Down",
            "disabled": false,
            "icon": "",
            "layout": "IPY_MODEL_860d354899b44ce4b37e5bfbdea306f3",
            "style": "IPY_MODEL_8d87be1e04684f94bb615257d149bab3",
            "tooltip": ""
          }
        },
        "860d354899b44ce4b37e5bfbdea306f3": {
          "model_module": "@jupyter-widgets/base",
          "model_name": "LayoutModel",
          "model_module_version": "1.2.0",
          "state": {
            "_model_module": "@jupyter-widgets/base",
            "_model_module_version": "1.2.0",
            "_model_name": "LayoutModel",
            "_view_count": null,
            "_view_module": "@jupyter-widgets/base",
            "_view_module_version": "1.2.0",
            "_view_name": "LayoutView",
            "align_content": null,
            "align_items": null,
            "align_self": null,
            "border": null,
            "bottom": null,
            "display": null,
            "flex": null,
            "flex_flow": null,
            "grid_area": null,
            "grid_auto_columns": null,
            "grid_auto_flow": null,
            "grid_auto_rows": null,
            "grid_column": null,
            "grid_gap": null,
            "grid_row": null,
            "grid_template_areas": null,
            "grid_template_columns": null,
            "grid_template_rows": null,
            "height": null,
            "justify_content": null,
            "justify_items": null,
            "left": null,
            "margin": null,
            "max_height": null,
            "max_width": null,
            "min_height": null,
            "min_width": null,
            "object_fit": null,
            "object_position": null,
            "order": null,
            "overflow": null,
            "overflow_x": null,
            "overflow_y": null,
            "padding": null,
            "right": null,
            "top": null,
            "visibility": null,
            "width": null
          }
        },
        "8d87be1e04684f94bb615257d149bab3": {
          "model_module": "@jupyter-widgets/controls",
          "model_name": "ButtonStyleModel",
          "model_module_version": "1.5.0",
          "state": {
            "_model_module": "@jupyter-widgets/controls",
            "_model_module_version": "1.5.0",
            "_model_name": "ButtonStyleModel",
            "_view_count": null,
            "_view_module": "@jupyter-widgets/base",
            "_view_module_version": "1.2.0",
            "_view_name": "StyleView",
            "button_color": null,
            "font_weight": ""
          }
        },
        "604af0e3c07047c7a77ef2ac2a9c537d": {
          "model_module": "@jupyter-widgets/controls",
          "model_name": "ButtonModel",
          "model_module_version": "1.5.0",
          "state": {
            "_dom_classes": [],
            "_model_module": "@jupyter-widgets/controls",
            "_model_module_version": "1.5.0",
            "_model_name": "ButtonModel",
            "_view_count": null,
            "_view_module": "@jupyter-widgets/controls",
            "_view_module_version": "1.5.0",
            "_view_name": "ButtonView",
            "button_style": "",
            "description": "Left",
            "disabled": false,
            "icon": "",
            "layout": "IPY_MODEL_d14e9cbcd06f491bb426a939e92daea1",
            "style": "IPY_MODEL_4c3075bbbe3c4c109834941f3a1798ef",
            "tooltip": ""
          }
        },
        "d14e9cbcd06f491bb426a939e92daea1": {
          "model_module": "@jupyter-widgets/base",
          "model_name": "LayoutModel",
          "model_module_version": "1.2.0",
          "state": {
            "_model_module": "@jupyter-widgets/base",
            "_model_module_version": "1.2.0",
            "_model_name": "LayoutModel",
            "_view_count": null,
            "_view_module": "@jupyter-widgets/base",
            "_view_module_version": "1.2.0",
            "_view_name": "LayoutView",
            "align_content": null,
            "align_items": null,
            "align_self": null,
            "border": null,
            "bottom": null,
            "display": null,
            "flex": null,
            "flex_flow": null,
            "grid_area": null,
            "grid_auto_columns": null,
            "grid_auto_flow": null,
            "grid_auto_rows": null,
            "grid_column": null,
            "grid_gap": null,
            "grid_row": null,
            "grid_template_areas": null,
            "grid_template_columns": null,
            "grid_template_rows": null,
            "height": null,
            "justify_content": null,
            "justify_items": null,
            "left": null,
            "margin": null,
            "max_height": null,
            "max_width": null,
            "min_height": null,
            "min_width": null,
            "object_fit": null,
            "object_position": null,
            "order": null,
            "overflow": null,
            "overflow_x": null,
            "overflow_y": null,
            "padding": null,
            "right": null,
            "top": null,
            "visibility": null,
            "width": null
          }
        },
        "4c3075bbbe3c4c109834941f3a1798ef": {
          "model_module": "@jupyter-widgets/controls",
          "model_name": "ButtonStyleModel",
          "model_module_version": "1.5.0",
          "state": {
            "_model_module": "@jupyter-widgets/controls",
            "_model_module_version": "1.5.0",
            "_model_name": "ButtonStyleModel",
            "_view_count": null,
            "_view_module": "@jupyter-widgets/base",
            "_view_module_version": "1.2.0",
            "_view_name": "StyleView",
            "button_color": null,
            "font_weight": ""
          }
        },
        "ba446242c7514abbbe6297e1d976881c": {
          "model_module": "@jupyter-widgets/controls",
          "model_name": "ButtonModel",
          "model_module_version": "1.5.0",
          "state": {
            "_dom_classes": [],
            "_model_module": "@jupyter-widgets/controls",
            "_model_module_version": "1.5.0",
            "_model_name": "ButtonModel",
            "_view_count": null,
            "_view_module": "@jupyter-widgets/controls",
            "_view_module_version": "1.5.0",
            "_view_name": "ButtonView",
            "button_style": "",
            "description": "Right",
            "disabled": false,
            "icon": "",
            "layout": "IPY_MODEL_b1f8f1efdc224abe871419581ee2e410",
            "style": "IPY_MODEL_c03d199a6a6247c6b36cf785ce95c4b3",
            "tooltip": ""
          }
        },
        "b1f8f1efdc224abe871419581ee2e410": {
          "model_module": "@jupyter-widgets/base",
          "model_name": "LayoutModel",
          "model_module_version": "1.2.0",
          "state": {
            "_model_module": "@jupyter-widgets/base",
            "_model_module_version": "1.2.0",
            "_model_name": "LayoutModel",
            "_view_count": null,
            "_view_module": "@jupyter-widgets/base",
            "_view_module_version": "1.2.0",
            "_view_name": "LayoutView",
            "align_content": null,
            "align_items": null,
            "align_self": null,
            "border": null,
            "bottom": null,
            "display": null,
            "flex": null,
            "flex_flow": null,
            "grid_area": null,
            "grid_auto_columns": null,
            "grid_auto_flow": null,
            "grid_auto_rows": null,
            "grid_column": null,
            "grid_gap": null,
            "grid_row": null,
            "grid_template_areas": null,
            "grid_template_columns": null,
            "grid_template_rows": null,
            "height": null,
            "justify_content": null,
            "justify_items": null,
            "left": null,
            "margin": null,
            "max_height": null,
            "max_width": null,
            "min_height": null,
            "min_width": null,
            "object_fit": null,
            "object_position": null,
            "order": null,
            "overflow": null,
            "overflow_x": null,
            "overflow_y": null,
            "padding": null,
            "right": null,
            "top": null,
            "visibility": null,
            "width": null
          }
        },
        "c03d199a6a6247c6b36cf785ce95c4b3": {
          "model_module": "@jupyter-widgets/controls",
          "model_name": "ButtonStyleModel",
          "model_module_version": "1.5.0",
          "state": {
            "_model_module": "@jupyter-widgets/controls",
            "_model_module_version": "1.5.0",
            "_model_name": "ButtonStyleModel",
            "_view_count": null,
            "_view_module": "@jupyter-widgets/base",
            "_view_module_version": "1.2.0",
            "_view_name": "StyleView",
            "button_color": null,
            "font_weight": ""
          }
        },
        "adfa6c7320c54bbcbad45801b880434f": {
          "model_module": "@jupyter-widgets/output",
          "model_name": "OutputModel",
          "model_module_version": "1.0.0",
          "state": {
            "_dom_classes": [],
            "_model_module": "@jupyter-widgets/output",
            "_model_module_version": "1.0.0",
            "_model_name": "OutputModel",
            "_view_count": null,
            "_view_module": "@jupyter-widgets/output",
            "_view_module_version": "1.0.0",
            "_view_name": "OutputView",
            "layout": "IPY_MODEL_e4631d296b844a05b5079e8867f3c19d",
            "msg_id": "",
            "outputs": [
              {
                "output_type": "stream",
                "name": "stdout",
                "text": [
                  "Moved left. Criter is now at (5, 6).\n",
                  "No food here\n",
                  "Moves: 103 \tFood Eaten: 68 \tFood Per Move: 0.6601941747572816\n"
                ]
              },
              {
                "output_type": "display_data",
                "data": {
                  "text/plain": "<Figure size 700x600 with 1 Axes>",
                  "image/png": "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\n"
                },
                "metadata": {}
              }
            ]
          }
        },
        "e4631d296b844a05b5079e8867f3c19d": {
          "model_module": "@jupyter-widgets/base",
          "model_name": "LayoutModel",
          "model_module_version": "1.2.0",
          "state": {
            "_model_module": "@jupyter-widgets/base",
            "_model_module_version": "1.2.0",
            "_model_name": "LayoutModel",
            "_view_count": null,
            "_view_module": "@jupyter-widgets/base",
            "_view_module_version": "1.2.0",
            "_view_name": "LayoutView",
            "align_content": null,
            "align_items": null,
            "align_self": null,
            "border": null,
            "bottom": null,
            "display": null,
            "flex": null,
            "flex_flow": null,
            "grid_area": null,
            "grid_auto_columns": null,
            "grid_auto_flow": null,
            "grid_auto_rows": null,
            "grid_column": null,
            "grid_gap": null,
            "grid_row": null,
            "grid_template_areas": null,
            "grid_template_columns": null,
            "grid_template_rows": null,
            "height": null,
            "justify_content": null,
            "justify_items": null,
            "left": null,
            "margin": null,
            "max_height": null,
            "max_width": null,
            "min_height": null,
            "min_width": null,
            "object_fit": null,
            "object_position": null,
            "order": null,
            "overflow": null,
            "overflow_x": null,
            "overflow_y": null,
            "padding": null,
            "right": null,
            "top": null,
            "visibility": null,
            "width": null
          }
        },
        "1c57077aa9da417785a35e6ec3062e26": {
          "model_module": "@jupyter-widgets/controls",
          "model_name": "ButtonModel",
          "model_module_version": "1.5.0",
          "state": {
            "_dom_classes": [],
            "_model_module": "@jupyter-widgets/controls",
            "_model_module_version": "1.5.0",
            "_model_name": "ButtonModel",
            "_view_count": null,
            "_view_module": "@jupyter-widgets/controls",
            "_view_module_version": "1.5.0",
            "_view_name": "ButtonView",
            "button_style": "",
            "description": "Up",
            "disabled": false,
            "icon": "",
            "layout": "IPY_MODEL_6bf73e5572de400491851b79e92ead23",
            "style": "IPY_MODEL_54cbf51baec64a058527a685cb1af2fe",
            "tooltip": ""
          }
        },
        "6bf73e5572de400491851b79e92ead23": {
          "model_module": "@jupyter-widgets/base",
          "model_name": "LayoutModel",
          "model_module_version": "1.2.0",
          "state": {
            "_model_module": "@jupyter-widgets/base",
            "_model_module_version": "1.2.0",
            "_model_name": "LayoutModel",
            "_view_count": null,
            "_view_module": "@jupyter-widgets/base",
            "_view_module_version": "1.2.0",
            "_view_name": "LayoutView",
            "align_content": null,
            "align_items": null,
            "align_self": null,
            "border": null,
            "bottom": null,
            "display": null,
            "flex": null,
            "flex_flow": null,
            "grid_area": null,
            "grid_auto_columns": null,
            "grid_auto_flow": null,
            "grid_auto_rows": null,
            "grid_column": null,
            "grid_gap": null,
            "grid_row": null,
            "grid_template_areas": null,
            "grid_template_columns": null,
            "grid_template_rows": null,
            "height": null,
            "justify_content": null,
            "justify_items": null,
            "left": null,
            "margin": null,
            "max_height": null,
            "max_width": null,
            "min_height": null,
            "min_width": null,
            "object_fit": null,
            "object_position": null,
            "order": null,
            "overflow": null,
            "overflow_x": null,
            "overflow_y": null,
            "padding": null,
            "right": null,
            "top": null,
            "visibility": null,
            "width": null
          }
        },
        "54cbf51baec64a058527a685cb1af2fe": {
          "model_module": "@jupyter-widgets/controls",
          "model_name": "ButtonStyleModel",
          "model_module_version": "1.5.0",
          "state": {
            "_model_module": "@jupyter-widgets/controls",
            "_model_module_version": "1.5.0",
            "_model_name": "ButtonStyleModel",
            "_view_count": null,
            "_view_module": "@jupyter-widgets/base",
            "_view_module_version": "1.2.0",
            "_view_name": "StyleView",
            "button_color": null,
            "font_weight": ""
          }
        },
        "03b22de1bb634ccb806e7639b835b44f": {
          "model_module": "@jupyter-widgets/controls",
          "model_name": "ButtonModel",
          "model_module_version": "1.5.0",
          "state": {
            "_dom_classes": [],
            "_model_module": "@jupyter-widgets/controls",
            "_model_module_version": "1.5.0",
            "_model_name": "ButtonModel",
            "_view_count": null,
            "_view_module": "@jupyter-widgets/controls",
            "_view_module_version": "1.5.0",
            "_view_name": "ButtonView",
            "button_style": "",
            "description": "Down",
            "disabled": false,
            "icon": "",
            "layout": "IPY_MODEL_2e9033e27dc647b7b6b1022e976adc14",
            "style": "IPY_MODEL_8b28a965ecf44d94bfa53a35cf00e828",
            "tooltip": ""
          }
        },
        "2e9033e27dc647b7b6b1022e976adc14": {
          "model_module": "@jupyter-widgets/base",
          "model_name": "LayoutModel",
          "model_module_version": "1.2.0",
          "state": {
            "_model_module": "@jupyter-widgets/base",
            "_model_module_version": "1.2.0",
            "_model_name": "LayoutModel",
            "_view_count": null,
            "_view_module": "@jupyter-widgets/base",
            "_view_module_version": "1.2.0",
            "_view_name": "LayoutView",
            "align_content": null,
            "align_items": null,
            "align_self": null,
            "border": null,
            "bottom": null,
            "display": null,
            "flex": null,
            "flex_flow": null,
            "grid_area": null,
            "grid_auto_columns": null,
            "grid_auto_flow": null,
            "grid_auto_rows": null,
            "grid_column": null,
            "grid_gap": null,
            "grid_row": null,
            "grid_template_areas": null,
            "grid_template_columns": null,
            "grid_template_rows": null,
            "height": null,
            "justify_content": null,
            "justify_items": null,
            "left": null,
            "margin": null,
            "max_height": null,
            "max_width": null,
            "min_height": null,
            "min_width": null,
            "object_fit": null,
            "object_position": null,
            "order": null,
            "overflow": null,
            "overflow_x": null,
            "overflow_y": null,
            "padding": null,
            "right": null,
            "top": null,
            "visibility": null,
            "width": null
          }
        },
        "8b28a965ecf44d94bfa53a35cf00e828": {
          "model_module": "@jupyter-widgets/controls",
          "model_name": "ButtonStyleModel",
          "model_module_version": "1.5.0",
          "state": {
            "_model_module": "@jupyter-widgets/controls",
            "_model_module_version": "1.5.0",
            "_model_name": "ButtonStyleModel",
            "_view_count": null,
            "_view_module": "@jupyter-widgets/base",
            "_view_module_version": "1.2.0",
            "_view_name": "StyleView",
            "button_color": null,
            "font_weight": ""
          }
        },
        "430b342074684a7ebde9bf5fd6f6e25f": {
          "model_module": "@jupyter-widgets/controls",
          "model_name": "ButtonModel",
          "model_module_version": "1.5.0",
          "state": {
            "_dom_classes": [],
            "_model_module": "@jupyter-widgets/controls",
            "_model_module_version": "1.5.0",
            "_model_name": "ButtonModel",
            "_view_count": null,
            "_view_module": "@jupyter-widgets/controls",
            "_view_module_version": "1.5.0",
            "_view_name": "ButtonView",
            "button_style": "",
            "description": "Left",
            "disabled": false,
            "icon": "",
            "layout": "IPY_MODEL_2da5a1aab8c54653b2cac68b8df69a99",
            "style": "IPY_MODEL_87d3e42c345849efbb16954f9d7b2ec6",
            "tooltip": ""
          }
        },
        "2da5a1aab8c54653b2cac68b8df69a99": {
          "model_module": "@jupyter-widgets/base",
          "model_name": "LayoutModel",
          "model_module_version": "1.2.0",
          "state": {
            "_model_module": "@jupyter-widgets/base",
            "_model_module_version": "1.2.0",
            "_model_name": "LayoutModel",
            "_view_count": null,
            "_view_module": "@jupyter-widgets/base",
            "_view_module_version": "1.2.0",
            "_view_name": "LayoutView",
            "align_content": null,
            "align_items": null,
            "align_self": null,
            "border": null,
            "bottom": null,
            "display": null,
            "flex": null,
            "flex_flow": null,
            "grid_area": null,
            "grid_auto_columns": null,
            "grid_auto_flow": null,
            "grid_auto_rows": null,
            "grid_column": null,
            "grid_gap": null,
            "grid_row": null,
            "grid_template_areas": null,
            "grid_template_columns": null,
            "grid_template_rows": null,
            "height": null,
            "justify_content": null,
            "justify_items": null,
            "left": null,
            "margin": null,
            "max_height": null,
            "max_width": null,
            "min_height": null,
            "min_width": null,
            "object_fit": null,
            "object_position": null,
            "order": null,
            "overflow": null,
            "overflow_x": null,
            "overflow_y": null,
            "padding": null,
            "right": null,
            "top": null,
            "visibility": null,
            "width": null
          }
        },
        "87d3e42c345849efbb16954f9d7b2ec6": {
          "model_module": "@jupyter-widgets/controls",
          "model_name": "ButtonStyleModel",
          "model_module_version": "1.5.0",
          "state": {
            "_model_module": "@jupyter-widgets/controls",
            "_model_module_version": "1.5.0",
            "_model_name": "ButtonStyleModel",
            "_view_count": null,
            "_view_module": "@jupyter-widgets/base",
            "_view_module_version": "1.2.0",
            "_view_name": "StyleView",
            "button_color": null,
            "font_weight": ""
          }
        },
        "7fce57e7051141f89c4ade1c9d934256": {
          "model_module": "@jupyter-widgets/controls",
          "model_name": "ButtonModel",
          "model_module_version": "1.5.0",
          "state": {
            "_dom_classes": [],
            "_model_module": "@jupyter-widgets/controls",
            "_model_module_version": "1.5.0",
            "_model_name": "ButtonModel",
            "_view_count": null,
            "_view_module": "@jupyter-widgets/controls",
            "_view_module_version": "1.5.0",
            "_view_name": "ButtonView",
            "button_style": "",
            "description": "Right",
            "disabled": false,
            "icon": "",
            "layout": "IPY_MODEL_30cae5c4003c4dd1a5398fd7bc5b8f78",
            "style": "IPY_MODEL_98e1a2ee3c1a440583dfaf2843fddc4d",
            "tooltip": ""
          }
        },
        "30cae5c4003c4dd1a5398fd7bc5b8f78": {
          "model_module": "@jupyter-widgets/base",
          "model_name": "LayoutModel",
          "model_module_version": "1.2.0",
          "state": {
            "_model_module": "@jupyter-widgets/base",
            "_model_module_version": "1.2.0",
            "_model_name": "LayoutModel",
            "_view_count": null,
            "_view_module": "@jupyter-widgets/base",
            "_view_module_version": "1.2.0",
            "_view_name": "LayoutView",
            "align_content": null,
            "align_items": null,
            "align_self": null,
            "border": null,
            "bottom": null,
            "display": null,
            "flex": null,
            "flex_flow": null,
            "grid_area": null,
            "grid_auto_columns": null,
            "grid_auto_flow": null,
            "grid_auto_rows": null,
            "grid_column": null,
            "grid_gap": null,
            "grid_row": null,
            "grid_template_areas": null,
            "grid_template_columns": null,
            "grid_template_rows": null,
            "height": null,
            "justify_content": null,
            "justify_items": null,
            "left": null,
            "margin": null,
            "max_height": null,
            "max_width": null,
            "min_height": null,
            "min_width": null,
            "object_fit": null,
            "object_position": null,
            "order": null,
            "overflow": null,
            "overflow_x": null,
            "overflow_y": null,
            "padding": null,
            "right": null,
            "top": null,
            "visibility": null,
            "width": null
          }
        },
        "98e1a2ee3c1a440583dfaf2843fddc4d": {
          "model_module": "@jupyter-widgets/controls",
          "model_name": "ButtonStyleModel",
          "model_module_version": "1.5.0",
          "state": {
            "_model_module": "@jupyter-widgets/controls",
            "_model_module_version": "1.5.0",
            "_model_name": "ButtonStyleModel",
            "_view_count": null,
            "_view_module": "@jupyter-widgets/base",
            "_view_module_version": "1.2.0",
            "_view_name": "StyleView",
            "button_color": null,
            "font_weight": ""
          }
        },
        "d30297e408ff454cae66a32a332fb3d0": {
          "model_module": "@jupyter-widgets/output",
          "model_name": "OutputModel",
          "model_module_version": "1.0.0",
          "state": {
            "_dom_classes": [],
            "_model_module": "@jupyter-widgets/output",
            "_model_module_version": "1.0.0",
            "_model_name": "OutputModel",
            "_view_count": null,
            "_view_module": "@jupyter-widgets/output",
            "_view_module_version": "1.0.0",
            "_view_name": "OutputView",
            "layout": "IPY_MODEL_b56aec1ad7dd4f4fb09d7819f60d8d18",
            "msg_id": "",
            "outputs": [
              {
                "output_type": "stream",
                "name": "stdout",
                "text": [
                  "Down Button clicked.Criter is now at (0, 3).\n",
                  "You ate the food here, new food at (5, 3)\n",
                  "Moves: 281 \tFood Eaten: 213 \tFood Per Move: 0.7580071174377224\n"
                ]
              },
              {
                "output_type": "display_data",
                "data": {
                  "text/plain": "<Figure size 800x800 with 1 Axes>",
                  "image/png": "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\n"
                },
                "metadata": {}
              }
            ]
          }
        },
        "b56aec1ad7dd4f4fb09d7819f60d8d18": {
          "model_module": "@jupyter-widgets/base",
          "model_name": "LayoutModel",
          "model_module_version": "1.2.0",
          "state": {
            "_model_module": "@jupyter-widgets/base",
            "_model_module_version": "1.2.0",
            "_model_name": "LayoutModel",
            "_view_count": null,
            "_view_module": "@jupyter-widgets/base",
            "_view_module_version": "1.2.0",
            "_view_name": "LayoutView",
            "align_content": null,
            "align_items": null,
            "align_self": null,
            "border": null,
            "bottom": null,
            "display": null,
            "flex": null,
            "flex_flow": null,
            "grid_area": null,
            "grid_auto_columns": null,
            "grid_auto_flow": null,
            "grid_auto_rows": null,
            "grid_column": null,
            "grid_gap": null,
            "grid_row": null,
            "grid_template_areas": null,
            "grid_template_columns": null,
            "grid_template_rows": null,
            "height": null,
            "justify_content": null,
            "justify_items": null,
            "left": null,
            "margin": null,
            "max_height": null,
            "max_width": null,
            "min_height": null,
            "min_width": null,
            "object_fit": null,
            "object_position": null,
            "order": null,
            "overflow": null,
            "overflow_x": null,
            "overflow_y": null,
            "padding": null,
            "right": null,
            "top": null,
            "visibility": null,
            "width": null
          }
        },
        "c8b970e4f4ab4076b5336885015174d4": {
          "model_module": "@jupyter-widgets/controls",
          "model_name": "ButtonModel",
          "model_module_version": "1.5.0",
          "state": {
            "_dom_classes": [],
            "_model_module": "@jupyter-widgets/controls",
            "_model_module_version": "1.5.0",
            "_model_name": "ButtonModel",
            "_view_count": null,
            "_view_module": "@jupyter-widgets/controls",
            "_view_module_version": "1.5.0",
            "_view_name": "ButtonView",
            "button_style": "",
            "description": "Left",
            "disabled": false,
            "icon": "",
            "layout": "IPY_MODEL_2320e027792a4ad1a716e78242b8c0a3",
            "style": "IPY_MODEL_177831be4f694dfca5056ee3d0efe963",
            "tooltip": ""
          }
        },
        "ae3b8503a59a416e9ddaf51720811903": {
          "model_module": "@jupyter-widgets/controls",
          "model_name": "ButtonModel",
          "model_module_version": "1.5.0",
          "state": {
            "_dom_classes": [],
            "_model_module": "@jupyter-widgets/controls",
            "_model_module_version": "1.5.0",
            "_model_name": "ButtonModel",
            "_view_count": null,
            "_view_module": "@jupyter-widgets/controls",
            "_view_module_version": "1.5.0",
            "_view_name": "ButtonView",
            "button_style": "",
            "description": "Right",
            "disabled": false,
            "icon": "",
            "layout": "IPY_MODEL_373fc4b96ccc46c89842b166c37a05f3",
            "style": "IPY_MODEL_a4316225c4a6442aa532a2e18236463a",
            "tooltip": ""
          }
        },
        "2320e027792a4ad1a716e78242b8c0a3": {
          "model_module": "@jupyter-widgets/base",
          "model_name": "LayoutModel",
          "model_module_version": "1.2.0",
          "state": {
            "_model_module": "@jupyter-widgets/base",
            "_model_module_version": "1.2.0",
            "_model_name": "LayoutModel",
            "_view_count": null,
            "_view_module": "@jupyter-widgets/base",
            "_view_module_version": "1.2.0",
            "_view_name": "LayoutView",
            "align_content": null,
            "align_items": null,
            "align_self": null,
            "border": null,
            "bottom": null,
            "display": null,
            "flex": null,
            "flex_flow": null,
            "grid_area": null,
            "grid_auto_columns": null,
            "grid_auto_flow": null,
            "grid_auto_rows": null,
            "grid_column": null,
            "grid_gap": null,
            "grid_row": null,
            "grid_template_areas": null,
            "grid_template_columns": null,
            "grid_template_rows": null,
            "height": null,
            "justify_content": null,
            "justify_items": null,
            "left": null,
            "margin": null,
            "max_height": null,
            "max_width": null,
            "min_height": null,
            "min_width": null,
            "object_fit": null,
            "object_position": null,
            "order": null,
            "overflow": null,
            "overflow_x": null,
            "overflow_y": null,
            "padding": null,
            "right": null,
            "top": null,
            "visibility": null,
            "width": null
          }
        },
        "177831be4f694dfca5056ee3d0efe963": {
          "model_module": "@jupyter-widgets/controls",
          "model_name": "ButtonStyleModel",
          "model_module_version": "1.5.0",
          "state": {
            "_model_module": "@jupyter-widgets/controls",
            "_model_module_version": "1.5.0",
            "_model_name": "ButtonStyleModel",
            "_view_count": null,
            "_view_module": "@jupyter-widgets/base",
            "_view_module_version": "1.2.0",
            "_view_name": "StyleView",
            "button_color": null,
            "font_weight": ""
          }
        },
        "361671a7c298402da0438ce94505a453": {
          "model_module": "@jupyter-widgets/controls",
          "model_name": "ButtonModel",
          "model_module_version": "1.5.0",
          "state": {
            "_dom_classes": [],
            "_model_module": "@jupyter-widgets/controls",
            "_model_module_version": "1.5.0",
            "_model_name": "ButtonModel",
            "_view_count": null,
            "_view_module": "@jupyter-widgets/controls",
            "_view_module_version": "1.5.0",
            "_view_name": "ButtonView",
            "button_style": "",
            "description": "Up",
            "disabled": false,
            "icon": "",
            "layout": "IPY_MODEL_2970e455550d43a3aa7629c3ea98cdf6",
            "style": "IPY_MODEL_1536e24e8fd348e39da1a6286574ff83",
            "tooltip": ""
          }
        },
        "a02ea973026b4e998db7fa597b537828": {
          "model_module": "@jupyter-widgets/controls",
          "model_name": "ButtonModel",
          "model_module_version": "1.5.0",
          "state": {
            "_dom_classes": [],
            "_model_module": "@jupyter-widgets/controls",
            "_model_module_version": "1.5.0",
            "_model_name": "ButtonModel",
            "_view_count": null,
            "_view_module": "@jupyter-widgets/controls",
            "_view_module_version": "1.5.0",
            "_view_name": "ButtonView",
            "button_style": "",
            "description": "Down",
            "disabled": false,
            "icon": "",
            "layout": "IPY_MODEL_949e0e24647546a2904b551bc7e644f3",
            "style": "IPY_MODEL_a57c862df1914620a013437cb3dcccb1",
            "tooltip": ""
          }
        },
        "373fc4b96ccc46c89842b166c37a05f3": {
          "model_module": "@jupyter-widgets/base",
          "model_name": "LayoutModel",
          "model_module_version": "1.2.0",
          "state": {
            "_model_module": "@jupyter-widgets/base",
            "_model_module_version": "1.2.0",
            "_model_name": "LayoutModel",
            "_view_count": null,
            "_view_module": "@jupyter-widgets/base",
            "_view_module_version": "1.2.0",
            "_view_name": "LayoutView",
            "align_content": null,
            "align_items": null,
            "align_self": null,
            "border": null,
            "bottom": null,
            "display": null,
            "flex": null,
            "flex_flow": null,
            "grid_area": null,
            "grid_auto_columns": null,
            "grid_auto_flow": null,
            "grid_auto_rows": null,
            "grid_column": null,
            "grid_gap": null,
            "grid_row": null,
            "grid_template_areas": null,
            "grid_template_columns": null,
            "grid_template_rows": null,
            "height": null,
            "justify_content": null,
            "justify_items": null,
            "left": null,
            "margin": null,
            "max_height": null,
            "max_width": null,
            "min_height": null,
            "min_width": null,
            "object_fit": null,
            "object_position": null,
            "order": null,
            "overflow": null,
            "overflow_x": null,
            "overflow_y": null,
            "padding": null,
            "right": null,
            "top": null,
            "visibility": null,
            "width": null
          }
        },
        "a4316225c4a6442aa532a2e18236463a": {
          "model_module": "@jupyter-widgets/controls",
          "model_name": "ButtonStyleModel",
          "model_module_version": "1.5.0",
          "state": {
            "_model_module": "@jupyter-widgets/controls",
            "_model_module_version": "1.5.0",
            "_model_name": "ButtonStyleModel",
            "_view_count": null,
            "_view_module": "@jupyter-widgets/base",
            "_view_module_version": "1.2.0",
            "_view_name": "StyleView",
            "button_color": null,
            "font_weight": ""
          }
        },
        "2970e455550d43a3aa7629c3ea98cdf6": {
          "model_module": "@jupyter-widgets/base",
          "model_name": "LayoutModel",
          "model_module_version": "1.2.0",
          "state": {
            "_model_module": "@jupyter-widgets/base",
            "_model_module_version": "1.2.0",
            "_model_name": "LayoutModel",
            "_view_count": null,
            "_view_module": "@jupyter-widgets/base",
            "_view_module_version": "1.2.0",
            "_view_name": "LayoutView",
            "align_content": null,
            "align_items": null,
            "align_self": null,
            "border": null,
            "bottom": null,
            "display": null,
            "flex": null,
            "flex_flow": null,
            "grid_area": null,
            "grid_auto_columns": null,
            "grid_auto_flow": null,
            "grid_auto_rows": null,
            "grid_column": null,
            "grid_gap": null,
            "grid_row": null,
            "grid_template_areas": null,
            "grid_template_columns": null,
            "grid_template_rows": null,
            "height": null,
            "justify_content": null,
            "justify_items": null,
            "left": null,
            "margin": null,
            "max_height": null,
            "max_width": null,
            "min_height": null,
            "min_width": null,
            "object_fit": null,
            "object_position": null,
            "order": null,
            "overflow": null,
            "overflow_x": null,
            "overflow_y": null,
            "padding": null,
            "right": null,
            "top": null,
            "visibility": null,
            "width": null
          }
        },
        "1536e24e8fd348e39da1a6286574ff83": {
          "model_module": "@jupyter-widgets/controls",
          "model_name": "ButtonStyleModel",
          "model_module_version": "1.5.0",
          "state": {
            "_model_module": "@jupyter-widgets/controls",
            "_model_module_version": "1.5.0",
            "_model_name": "ButtonStyleModel",
            "_view_count": null,
            "_view_module": "@jupyter-widgets/base",
            "_view_module_version": "1.2.0",
            "_view_name": "StyleView",
            "button_color": null,
            "font_weight": ""
          }
        },
        "949e0e24647546a2904b551bc7e644f3": {
          "model_module": "@jupyter-widgets/base",
          "model_name": "LayoutModel",
          "model_module_version": "1.2.0",
          "state": {
            "_model_module": "@jupyter-widgets/base",
            "_model_module_version": "1.2.0",
            "_model_name": "LayoutModel",
            "_view_count": null,
            "_view_module": "@jupyter-widgets/base",
            "_view_module_version": "1.2.0",
            "_view_name": "LayoutView",
            "align_content": null,
            "align_items": null,
            "align_self": null,
            "border": null,
            "bottom": null,
            "display": null,
            "flex": null,
            "flex_flow": null,
            "grid_area": null,
            "grid_auto_columns": null,
            "grid_auto_flow": null,
            "grid_auto_rows": null,
            "grid_column": null,
            "grid_gap": null,
            "grid_row": null,
            "grid_template_areas": null,
            "grid_template_columns": null,
            "grid_template_rows": null,
            "height": null,
            "justify_content": null,
            "justify_items": null,
            "left": null,
            "margin": null,
            "max_height": null,
            "max_width": null,
            "min_height": null,
            "min_width": null,
            "object_fit": null,
            "object_position": null,
            "order": null,
            "overflow": null,
            "overflow_x": null,
            "overflow_y": null,
            "padding": null,
            "right": null,
            "top": null,
            "visibility": null,
            "width": null
          }
        },
        "a57c862df1914620a013437cb3dcccb1": {
          "model_module": "@jupyter-widgets/controls",
          "model_name": "ButtonStyleModel",
          "model_module_version": "1.5.0",
          "state": {
            "_model_module": "@jupyter-widgets/controls",
            "_model_module_version": "1.5.0",
            "_model_name": "ButtonStyleModel",
            "_view_count": null,
            "_view_module": "@jupyter-widgets/base",
            "_view_module_version": "1.2.0",
            "_view_name": "StyleView",
            "button_color": null,
            "font_weight": ""
          }
        },
        "5e08599840cc4069bb3be60289524639": {
          "model_module": "@jupyter-widgets/output",
          "model_name": "OutputModel",
          "model_module_version": "1.0.0",
          "state": {
            "_dom_classes": [],
            "_model_module": "@jupyter-widgets/output",
            "_model_module_version": "1.0.0",
            "_model_name": "OutputModel",
            "_view_count": null,
            "_view_module": "@jupyter-widgets/output",
            "_view_module_version": "1.0.0",
            "_view_name": "OutputView",
            "layout": "IPY_MODEL_720748bb153c4731836c3fd5a234d3cf",
            "msg_id": "",
            "outputs": [
              {
                "output_type": "stream",
                "name": "stdout",
                "text": [
                  "Moved right. Criter is now at (6, 6).\n",
                  "You ate the food here, new food at (5, 0)\n",
                  "Moves: 132 \tFood Eaten: 78 \tFood Per Move: 0.5909090909090909\n"
                ]
              },
              {
                "output_type": "display_data",
                "data": {
                  "text/plain": "<Figure size 700x600 with 1 Axes>",
                  "image/png": "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\n"
                },
                "metadata": {}
              }
            ]
          }
        },
        "720748bb153c4731836c3fd5a234d3cf": {
          "model_module": "@jupyter-widgets/base",
          "model_name": "LayoutModel",
          "model_module_version": "1.2.0",
          "state": {
            "_model_module": "@jupyter-widgets/base",
            "_model_module_version": "1.2.0",
            "_model_name": "LayoutModel",
            "_view_count": null,
            "_view_module": "@jupyter-widgets/base",
            "_view_module_version": "1.2.0",
            "_view_name": "LayoutView",
            "align_content": null,
            "align_items": null,
            "align_self": null,
            "border": null,
            "bottom": null,
            "display": null,
            "flex": null,
            "flex_flow": null,
            "grid_area": null,
            "grid_auto_columns": null,
            "grid_auto_flow": null,
            "grid_auto_rows": null,
            "grid_column": null,
            "grid_gap": null,
            "grid_row": null,
            "grid_template_areas": null,
            "grid_template_columns": null,
            "grid_template_rows": null,
            "height": null,
            "justify_content": null,
            "justify_items": null,
            "left": null,
            "margin": null,
            "max_height": null,
            "max_width": null,
            "min_height": null,
            "min_width": null,
            "object_fit": null,
            "object_position": null,
            "order": null,
            "overflow": null,
            "overflow_x": null,
            "overflow_y": null,
            "padding": null,
            "right": null,
            "top": null,
            "visibility": null,
            "width": null
          }
        },
        "6e0b6c178d424b64802acea458d5488c": {
          "model_module": "@jupyter-widgets/controls",
          "model_name": "HBoxModel",
          "model_module_version": "1.5.0",
          "state": {
            "_dom_classes": [],
            "_model_module": "@jupyter-widgets/controls",
            "_model_module_version": "1.5.0",
            "_model_name": "HBoxModel",
            "_view_count": null,
            "_view_module": "@jupyter-widgets/controls",
            "_view_module_version": "1.5.0",
            "_view_name": "HBoxView",
            "box_style": "",
            "children": [
              "IPY_MODEL_c8b970e4f4ab4076b5336885015174d4",
              "IPY_MODEL_957d0d6bd3184ffb83e599571dd1b442",
              "IPY_MODEL_ae3b8503a59a416e9ddaf51720811903"
            ],
            "layout": "IPY_MODEL_be85ebc42266495292f1feb483c6b6ed"
          }
        },
        "957d0d6bd3184ffb83e599571dd1b442": {
          "model_module": "@jupyter-widgets/controls",
          "model_name": "VBoxModel",
          "model_module_version": "1.5.0",
          "state": {
            "_dom_classes": [],
            "_model_module": "@jupyter-widgets/controls",
            "_model_module_version": "1.5.0",
            "_model_name": "VBoxModel",
            "_view_count": null,
            "_view_module": "@jupyter-widgets/controls",
            "_view_module_version": "1.5.0",
            "_view_name": "VBoxView",
            "box_style": "",
            "children": [
              "IPY_MODEL_361671a7c298402da0438ce94505a453",
              "IPY_MODEL_a02ea973026b4e998db7fa597b537828"
            ],
            "layout": "IPY_MODEL_edb4ff5e28474593b7dc922dfed09067"
          }
        },
        "be85ebc42266495292f1feb483c6b6ed": {
          "model_module": "@jupyter-widgets/base",
          "model_name": "LayoutModel",
          "model_module_version": "1.2.0",
          "state": {
            "_model_module": "@jupyter-widgets/base",
            "_model_module_version": "1.2.0",
            "_model_name": "LayoutModel",
            "_view_count": null,
            "_view_module": "@jupyter-widgets/base",
            "_view_module_version": "1.2.0",
            "_view_name": "LayoutView",
            "align_content": null,
            "align_items": null,
            "align_self": null,
            "border": null,
            "bottom": null,
            "display": null,
            "flex": null,
            "flex_flow": null,
            "grid_area": null,
            "grid_auto_columns": null,
            "grid_auto_flow": null,
            "grid_auto_rows": null,
            "grid_column": null,
            "grid_gap": null,
            "grid_row": null,
            "grid_template_areas": null,
            "grid_template_columns": null,
            "grid_template_rows": null,
            "height": null,
            "justify_content": null,
            "justify_items": null,
            "left": null,
            "margin": null,
            "max_height": null,
            "max_width": null,
            "min_height": null,
            "min_width": null,
            "object_fit": null,
            "object_position": null,
            "order": null,
            "overflow": null,
            "overflow_x": null,
            "overflow_y": null,
            "padding": null,
            "right": null,
            "top": null,
            "visibility": null,
            "width": null
          }
        },
        "edb4ff5e28474593b7dc922dfed09067": {
          "model_module": "@jupyter-widgets/base",
          "model_name": "LayoutModel",
          "model_module_version": "1.2.0",
          "state": {
            "_model_module": "@jupyter-widgets/base",
            "_model_module_version": "1.2.0",
            "_model_name": "LayoutModel",
            "_view_count": null,
            "_view_module": "@jupyter-widgets/base",
            "_view_module_version": "1.2.0",
            "_view_name": "LayoutView",
            "align_content": null,
            "align_items": null,
            "align_self": null,
            "border": null,
            "bottom": null,
            "display": null,
            "flex": null,
            "flex_flow": null,
            "grid_area": null,
            "grid_auto_columns": null,
            "grid_auto_flow": null,
            "grid_auto_rows": null,
            "grid_column": null,
            "grid_gap": null,
            "grid_row": null,
            "grid_template_areas": null,
            "grid_template_columns": null,
            "grid_template_rows": null,
            "height": null,
            "justify_content": null,
            "justify_items": null,
            "left": null,
            "margin": null,
            "max_height": null,
            "max_width": null,
            "min_height": null,
            "min_width": null,
            "object_fit": null,
            "object_position": null,
            "order": null,
            "overflow": null,
            "overflow_x": null,
            "overflow_y": null,
            "padding": null,
            "right": null,
            "top": null,
            "visibility": null,
            "width": null
          }
        },
        "31057b64652e4b86b2443661a42e1bd3": {
          "model_module": "@jupyter-widgets/controls",
          "model_name": "CheckboxModel",
          "model_module_version": "1.5.0",
          "state": {
            "_dom_classes": [],
            "_model_module": "@jupyter-widgets/controls",
            "_model_module_version": "1.5.0",
            "_model_name": "CheckboxModel",
            "_view_count": null,
            "_view_module": "@jupyter-widgets/controls",
            "_view_module_version": "1.5.0",
            "_view_name": "CheckboxView",
            "description": "Move Randomly",
            "description_tooltip": null,
            "disabled": false,
            "indent": false,
            "layout": "IPY_MODEL_7f0d9d5d3f284be7b4a0170bdfdc642c",
            "style": "IPY_MODEL_28f5d797c17a45d9b8897de96d9703f0",
            "value": false
          }
        },
        "7f0d9d5d3f284be7b4a0170bdfdc642c": {
          "model_module": "@jupyter-widgets/base",
          "model_name": "LayoutModel",
          "model_module_version": "1.2.0",
          "state": {
            "_model_module": "@jupyter-widgets/base",
            "_model_module_version": "1.2.0",
            "_model_name": "LayoutModel",
            "_view_count": null,
            "_view_module": "@jupyter-widgets/base",
            "_view_module_version": "1.2.0",
            "_view_name": "LayoutView",
            "align_content": null,
            "align_items": null,
            "align_self": null,
            "border": null,
            "bottom": null,
            "display": null,
            "flex": null,
            "flex_flow": null,
            "grid_area": null,
            "grid_auto_columns": null,
            "grid_auto_flow": null,
            "grid_auto_rows": null,
            "grid_column": null,
            "grid_gap": null,
            "grid_row": null,
            "grid_template_areas": null,
            "grid_template_columns": null,
            "grid_template_rows": null,
            "height": null,
            "justify_content": null,
            "justify_items": null,
            "left": null,
            "margin": null,
            "max_height": null,
            "max_width": null,
            "min_height": null,
            "min_width": null,
            "object_fit": null,
            "object_position": null,
            "order": null,
            "overflow": null,
            "overflow_x": null,
            "overflow_y": null,
            "padding": null,
            "right": null,
            "top": null,
            "visibility": null,
            "width": null
          }
        },
        "28f5d797c17a45d9b8897de96d9703f0": {
          "model_module": "@jupyter-widgets/controls",
          "model_name": "DescriptionStyleModel",
          "model_module_version": "1.5.0",
          "state": {
            "_model_module": "@jupyter-widgets/controls",
            "_model_module_version": "1.5.0",
            "_model_name": "DescriptionStyleModel",
            "_view_count": null,
            "_view_module": "@jupyter-widgets/base",
            "_view_module_version": "1.2.0",
            "_view_name": "StyleView",
            "description_width": ""
          }
        },
        "091367d75049403db65d4d1322bd6544": {
          "model_module": "@jupyter-widgets/controls",
          "model_name": "VBoxModel",
          "model_module_version": "1.5.0",
          "state": {
            "_dom_classes": [],
            "_model_module": "@jupyter-widgets/controls",
            "_model_module_version": "1.5.0",
            "_model_name": "VBoxModel",
            "_view_count": null,
            "_view_module": "@jupyter-widgets/controls",
            "_view_module_version": "1.5.0",
            "_view_name": "VBoxView",
            "box_style": "",
            "children": [
              "IPY_MODEL_4a50193ddd7c441d85c8fab66f77068b",
              "IPY_MODEL_1e3fa9712b3a4f08960a429f747bf312",
              "IPY_MODEL_b1589b2ed136429788f023983ae24245",
              "IPY_MODEL_8ddefa029e4e407ea82f88999934df82"
            ],
            "layout": "IPY_MODEL_625103a72e424b969b00667b69edfd4b"
          }
        },
        "4a50193ddd7c441d85c8fab66f77068b": {
          "model_module": "@jupyter-widgets/controls",
          "model_name": "LabelModel",
          "model_module_version": "1.5.0",
          "state": {
            "_dom_classes": [],
            "_model_module": "@jupyter-widgets/controls",
            "_model_module_version": "1.5.0",
            "_model_name": "LabelModel",
            "_view_count": null,
            "_view_module": "@jupyter-widgets/controls",
            "_view_module_version": "1.5.0",
            "_view_name": "LabelView",
            "description": "",
            "description_tooltip": null,
            "layout": "IPY_MODEL_aca56da3481e4ea0b8cc558035f4942c",
            "placeholder": "​",
            "style": "IPY_MODEL_32aa08171afa4ebbaf7e655926b0a4c0",
            "value": ""
          }
        },
        "1e3fa9712b3a4f08960a429f747bf312": {
          "model_module": "@jupyter-widgets/controls",
          "model_name": "HBoxModel",
          "model_module_version": "1.5.0",
          "state": {
            "_dom_classes": [],
            "_model_module": "@jupyter-widgets/controls",
            "_model_module_version": "1.5.0",
            "_model_name": "HBoxModel",
            "_view_count": null,
            "_view_module": "@jupyter-widgets/controls",
            "_view_module_version": "1.5.0",
            "_view_name": "HBoxView",
            "box_style": "",
            "children": [
              "IPY_MODEL_dd5aff627772464ba6b44c36085ad9ad",
              "IPY_MODEL_e512b9cbdfce4ca1bd893bf55069f476",
              "IPY_MODEL_836ef8ba315f47f8b1988eeed2373467"
            ],
            "layout": "IPY_MODEL_da44c96b420b4e8191511a68db396374"
          }
        },
        "b1589b2ed136429788f023983ae24245": {
          "model_module": "@jupyter-widgets/controls",
          "model_name": "HBoxModel",
          "model_module_version": "1.5.0",
          "state": {
            "_dom_classes": [],
            "_model_module": "@jupyter-widgets/controls",
            "_model_module_version": "1.5.0",
            "_model_name": "HBoxModel",
            "_view_count": null,
            "_view_module": "@jupyter-widgets/controls",
            "_view_module_version": "1.5.0",
            "_view_name": "HBoxView",
            "box_style": "",
            "children": [
              "IPY_MODEL_29d1c47408b24758a1a367962357370a",
              "IPY_MODEL_207a1fa83d0b45ee9038fd29b2618e4e"
            ],
            "layout": "IPY_MODEL_1eb93519019745c78d8c38856aaff057"
          }
        },
        "8ddefa029e4e407ea82f88999934df82": {
          "model_module": "@jupyter-widgets/controls",
          "model_name": "LabelModel",
          "model_module_version": "1.5.0",
          "state": {
            "_dom_classes": [],
            "_model_module": "@jupyter-widgets/controls",
            "_model_module_version": "1.5.0",
            "_model_name": "LabelModel",
            "_view_count": null,
            "_view_module": "@jupyter-widgets/controls",
            "_view_module_version": "1.5.0",
            "_view_name": "LabelView",
            "description": "",
            "description_tooltip": null,
            "layout": "IPY_MODEL_00f3c21d5ed24737b8719b649391baef",
            "placeholder": "​",
            "style": "IPY_MODEL_7ba1486c364f4d1d934d1ec3417de725",
            "value": "Thanks for your feedback!"
          }
        },
        "625103a72e424b969b00667b69edfd4b": {
          "model_module": "@jupyter-widgets/base",
          "model_name": "LayoutModel",
          "model_module_version": "1.2.0",
          "state": {
            "_model_module": "@jupyter-widgets/base",
            "_model_module_version": "1.2.0",
            "_model_name": "LayoutModel",
            "_view_count": null,
            "_view_module": "@jupyter-widgets/base",
            "_view_module_version": "1.2.0",
            "_view_name": "LayoutView",
            "align_content": null,
            "align_items": null,
            "align_self": null,
            "border": null,
            "bottom": null,
            "display": null,
            "flex": null,
            "flex_flow": null,
            "grid_area": null,
            "grid_auto_columns": null,
            "grid_auto_flow": null,
            "grid_auto_rows": null,
            "grid_column": null,
            "grid_gap": null,
            "grid_row": null,
            "grid_template_areas": null,
            "grid_template_columns": null,
            "grid_template_rows": null,
            "height": null,
            "justify_content": null,
            "justify_items": null,
            "left": null,
            "margin": null,
            "max_height": null,
            "max_width": null,
            "min_height": null,
            "min_width": null,
            "object_fit": null,
            "object_position": null,
            "order": null,
            "overflow": null,
            "overflow_x": null,
            "overflow_y": null,
            "padding": null,
            "right": null,
            "top": null,
            "visibility": null,
            "width": null
          }
        },
        "aca56da3481e4ea0b8cc558035f4942c": {
          "model_module": "@jupyter-widgets/base",
          "model_name": "LayoutModel",
          "model_module_version": "1.2.0",
          "state": {
            "_model_module": "@jupyter-widgets/base",
            "_model_module_version": "1.2.0",
            "_model_name": "LayoutModel",
            "_view_count": null,
            "_view_module": "@jupyter-widgets/base",
            "_view_module_version": "1.2.0",
            "_view_name": "LayoutView",
            "align_content": null,
            "align_items": null,
            "align_self": null,
            "border": null,
            "bottom": null,
            "display": null,
            "flex": null,
            "flex_flow": null,
            "grid_area": null,
            "grid_auto_columns": null,
            "grid_auto_flow": null,
            "grid_auto_rows": null,
            "grid_column": null,
            "grid_gap": null,
            "grid_row": null,
            "grid_template_areas": null,
            "grid_template_columns": null,
            "grid_template_rows": null,
            "height": null,
            "justify_content": null,
            "justify_items": null,
            "left": null,
            "margin": null,
            "max_height": null,
            "max_width": null,
            "min_height": null,
            "min_width": null,
            "object_fit": null,
            "object_position": null,
            "order": null,
            "overflow": null,
            "overflow_x": null,
            "overflow_y": null,
            "padding": null,
            "right": null,
            "top": null,
            "visibility": null,
            "width": null
          }
        },
        "32aa08171afa4ebbaf7e655926b0a4c0": {
          "model_module": "@jupyter-widgets/controls",
          "model_name": "DescriptionStyleModel",
          "model_module_version": "1.5.0",
          "state": {
            "_model_module": "@jupyter-widgets/controls",
            "_model_module_version": "1.5.0",
            "_model_name": "DescriptionStyleModel",
            "_view_count": null,
            "_view_module": "@jupyter-widgets/base",
            "_view_module_version": "1.2.0",
            "_view_name": "StyleView",
            "description_width": ""
          }
        },
        "dd5aff627772464ba6b44c36085ad9ad": {
          "model_module": "@jupyter-widgets/controls",
          "model_name": "ButtonModel",
          "model_module_version": "1.5.0",
          "state": {
            "_dom_classes": [
              "happy"
            ],
            "_model_module": "@jupyter-widgets/controls",
            "_model_module_version": "1.5.0",
            "_model_name": "ButtonModel",
            "_view_count": null,
            "_view_module": "@jupyter-widgets/controls",
            "_view_module_version": "1.5.0",
            "_view_name": "ButtonView",
            "button_style": "",
            "description": "🙂",
            "disabled": false,
            "icon": "",
            "layout": "IPY_MODEL_9163e455213d448db2265fdd2db9dca7",
            "style": "IPY_MODEL_f64dcbfbb62c48dc910fe7cbf2c3c933",
            "tooltip": "Happy"
          }
        },
        "e512b9cbdfce4ca1bd893bf55069f476": {
          "model_module": "@jupyter-widgets/controls",
          "model_name": "ButtonModel",
          "model_module_version": "1.5.0",
          "state": {
            "_dom_classes": [
              "medium"
            ],
            "_model_module": "@jupyter-widgets/controls",
            "_model_module_version": "1.5.0",
            "_model_name": "ButtonModel",
            "_view_count": null,
            "_view_module": "@jupyter-widgets/controls",
            "_view_module_version": "1.5.0",
            "_view_name": "ButtonView",
            "button_style": "",
            "description": "😐",
            "disabled": false,
            "icon": "",
            "layout": "IPY_MODEL_9d29ac6637594c8da438c7314aa9dbcc",
            "style": "IPY_MODEL_8c30480c0a35441181057d3a63613ba7",
            "tooltip": "Medium"
          }
        },
        "836ef8ba315f47f8b1988eeed2373467": {
          "model_module": "@jupyter-widgets/controls",
          "model_name": "ButtonModel",
          "model_module_version": "1.5.0",
          "state": {
            "_dom_classes": [
              "sad"
            ],
            "_model_module": "@jupyter-widgets/controls",
            "_model_module_version": "1.5.0",
            "_model_name": "ButtonModel",
            "_view_count": null,
            "_view_module": "@jupyter-widgets/controls",
            "_view_module_version": "1.5.0",
            "_view_name": "ButtonView",
            "button_style": "",
            "description": "🙁",
            "disabled": false,
            "icon": "",
            "layout": "IPY_MODEL_3541081dfef04ad987425337ef23c98b",
            "style": "IPY_MODEL_d71c2681cde44b8daee6878a580a00c0",
            "tooltip": "Sad"
          }
        },
        "da44c96b420b4e8191511a68db396374": {
          "model_module": "@jupyter-widgets/base",
          "model_name": "LayoutModel",
          "model_module_version": "1.2.0",
          "state": {
            "_model_module": "@jupyter-widgets/base",
            "_model_module_version": "1.2.0",
            "_model_name": "LayoutModel",
            "_view_count": null,
            "_view_module": "@jupyter-widgets/base",
            "_view_module_version": "1.2.0",
            "_view_name": "LayoutView",
            "align_content": null,
            "align_items": null,
            "align_self": null,
            "border": null,
            "bottom": null,
            "display": null,
            "flex": null,
            "flex_flow": null,
            "grid_area": null,
            "grid_auto_columns": null,
            "grid_auto_flow": null,
            "grid_auto_rows": null,
            "grid_column": null,
            "grid_gap": null,
            "grid_row": null,
            "grid_template_areas": null,
            "grid_template_columns": null,
            "grid_template_rows": null,
            "height": null,
            "justify_content": null,
            "justify_items": null,
            "left": null,
            "margin": null,
            "max_height": null,
            "max_width": null,
            "min_height": null,
            "min_width": null,
            "object_fit": null,
            "object_position": null,
            "order": null,
            "overflow": null,
            "overflow_x": null,
            "overflow_y": null,
            "padding": null,
            "right": null,
            "top": null,
            "visibility": null,
            "width": null
          }
        },
        "29d1c47408b24758a1a367962357370a": {
          "model_module": "@jupyter-widgets/controls",
          "model_name": "TextareaModel",
          "model_module_version": "1.5.0",
          "state": {
            "_dom_classes": [],
            "_model_module": "@jupyter-widgets/controls",
            "_model_module_version": "1.5.0",
            "_model_name": "TextareaModel",
            "_view_count": null,
            "_view_module": "@jupyter-widgets/controls",
            "_view_module_version": "1.5.0",
            "_view_name": "TextareaView",
            "continuous_update": true,
            "description": "",
            "description_tooltip": null,
            "disabled": false,
            "layout": "IPY_MODEL_f8972f5528a04a5ebf4e3b3b184fddb8",
            "placeholder": "We want your feedback!",
            "rows": null,
            "style": "IPY_MODEL_2326ddf4f3354cc0affd76518daf1b46",
            "value": ""
          }
        },
        "207a1fa83d0b45ee9038fd29b2618e4e": {
          "model_module": "@jupyter-widgets/controls",
          "model_name": "ButtonModel",
          "model_module_version": "1.5.0",
          "state": {
            "_dom_classes": [],
            "_model_module": "@jupyter-widgets/controls",
            "_model_module_version": "1.5.0",
            "_model_name": "ButtonModel",
            "_view_count": null,
            "_view_module": "@jupyter-widgets/controls",
            "_view_module_version": "1.5.0",
            "_view_name": "ButtonView",
            "button_style": "",
            "description": "Submit",
            "disabled": false,
            "icon": "",
            "layout": "IPY_MODEL_bddc8c80a4d14f7ba5ad0ed5e02d66fb",
            "style": "IPY_MODEL_e7a850dc05f8481295b2cf110d70b4e3",
            "tooltip": ""
          }
        },
        "1eb93519019745c78d8c38856aaff057": {
          "model_module": "@jupyter-widgets/base",
          "model_name": "LayoutModel",
          "model_module_version": "1.2.0",
          "state": {
            "_model_module": "@jupyter-widgets/base",
            "_model_module_version": "1.2.0",
            "_model_name": "LayoutModel",
            "_view_count": null,
            "_view_module": "@jupyter-widgets/base",
            "_view_module_version": "1.2.0",
            "_view_name": "LayoutView",
            "align_content": null,
            "align_items": null,
            "align_self": null,
            "border": null,
            "bottom": null,
            "display": "none",
            "flex": null,
            "flex_flow": null,
            "grid_area": null,
            "grid_auto_columns": null,
            "grid_auto_flow": null,
            "grid_auto_rows": null,
            "grid_column": null,
            "grid_gap": null,
            "grid_row": null,
            "grid_template_areas": null,
            "grid_template_columns": null,
            "grid_template_rows": null,
            "height": null,
            "justify_content": null,
            "justify_items": null,
            "left": null,
            "margin": null,
            "max_height": null,
            "max_width": null,
            "min_height": null,
            "min_width": null,
            "object_fit": null,
            "object_position": null,
            "order": null,
            "overflow": null,
            "overflow_x": null,
            "overflow_y": null,
            "padding": null,
            "right": null,
            "top": null,
            "visibility": null,
            "width": null
          }
        },
        "00f3c21d5ed24737b8719b649391baef": {
          "model_module": "@jupyter-widgets/base",
          "model_name": "LayoutModel",
          "model_module_version": "1.2.0",
          "state": {
            "_model_module": "@jupyter-widgets/base",
            "_model_module_version": "1.2.0",
            "_model_name": "LayoutModel",
            "_view_count": null,
            "_view_module": "@jupyter-widgets/base",
            "_view_module_version": "1.2.0",
            "_view_name": "LayoutView",
            "align_content": null,
            "align_items": null,
            "align_self": null,
            "border": null,
            "bottom": null,
            "display": "none",
            "flex": null,
            "flex_flow": null,
            "grid_area": null,
            "grid_auto_columns": null,
            "grid_auto_flow": null,
            "grid_auto_rows": null,
            "grid_column": null,
            "grid_gap": null,
            "grid_row": null,
            "grid_template_areas": null,
            "grid_template_columns": null,
            "grid_template_rows": null,
            "height": null,
            "justify_content": null,
            "justify_items": null,
            "left": null,
            "margin": null,
            "max_height": null,
            "max_width": null,
            "min_height": null,
            "min_width": null,
            "object_fit": null,
            "object_position": null,
            "order": null,
            "overflow": null,
            "overflow_x": null,
            "overflow_y": null,
            "padding": null,
            "right": null,
            "top": null,
            "visibility": null,
            "width": null
          }
        },
        "7ba1486c364f4d1d934d1ec3417de725": {
          "model_module": "@jupyter-widgets/controls",
          "model_name": "DescriptionStyleModel",
          "model_module_version": "1.5.0",
          "state": {
            "_model_module": "@jupyter-widgets/controls",
            "_model_module_version": "1.5.0",
            "_model_name": "DescriptionStyleModel",
            "_view_count": null,
            "_view_module": "@jupyter-widgets/base",
            "_view_module_version": "1.2.0",
            "_view_name": "StyleView",
            "description_width": ""
          }
        },
        "9163e455213d448db2265fdd2db9dca7": {
          "model_module": "@jupyter-widgets/base",
          "model_name": "LayoutModel",
          "model_module_version": "1.2.0",
          "state": {
            "_model_module": "@jupyter-widgets/base",
            "_model_module_version": "1.2.0",
            "_model_name": "LayoutModel",
            "_view_count": null,
            "_view_module": "@jupyter-widgets/base",
            "_view_module_version": "1.2.0",
            "_view_name": "LayoutView",
            "align_content": null,
            "align_items": null,
            "align_self": null,
            "border": null,
            "bottom": null,
            "display": null,
            "flex": null,
            "flex_flow": null,
            "grid_area": null,
            "grid_auto_columns": null,
            "grid_auto_flow": null,
            "grid_auto_rows": null,
            "grid_column": null,
            "grid_gap": null,
            "grid_row": null,
            "grid_template_areas": null,
            "grid_template_columns": null,
            "grid_template_rows": null,
            "height": "auto",
            "justify_content": null,
            "justify_items": null,
            "left": null,
            "margin": null,
            "max_height": null,
            "max_width": null,
            "min_height": null,
            "min_width": null,
            "object_fit": null,
            "object_position": null,
            "order": null,
            "overflow": null,
            "overflow_x": null,
            "overflow_y": null,
            "padding": null,
            "right": null,
            "top": null,
            "visibility": null,
            "width": "auto"
          }
        },
        "f64dcbfbb62c48dc910fe7cbf2c3c933": {
          "model_module": "@jupyter-widgets/controls",
          "model_name": "ButtonStyleModel",
          "model_module_version": "1.5.0",
          "state": {
            "_model_module": "@jupyter-widgets/controls",
            "_model_module_version": "1.5.0",
            "_model_name": "ButtonStyleModel",
            "_view_count": null,
            "_view_module": "@jupyter-widgets/base",
            "_view_module_version": "1.2.0",
            "_view_name": "StyleView",
            "button_color": "#aaffaa",
            "font_weight": ""
          }
        },
        "9d29ac6637594c8da438c7314aa9dbcc": {
          "model_module": "@jupyter-widgets/base",
          "model_name": "LayoutModel",
          "model_module_version": "1.2.0",
          "state": {
            "_model_module": "@jupyter-widgets/base",
            "_model_module_version": "1.2.0",
            "_model_name": "LayoutModel",
            "_view_count": null,
            "_view_module": "@jupyter-widgets/base",
            "_view_module_version": "1.2.0",
            "_view_name": "LayoutView",
            "align_content": null,
            "align_items": null,
            "align_self": null,
            "border": null,
            "bottom": null,
            "display": null,
            "flex": null,
            "flex_flow": null,
            "grid_area": null,
            "grid_auto_columns": null,
            "grid_auto_flow": null,
            "grid_auto_rows": null,
            "grid_column": null,
            "grid_gap": null,
            "grid_row": null,
            "grid_template_areas": null,
            "grid_template_columns": null,
            "grid_template_rows": null,
            "height": "auto",
            "justify_content": null,
            "justify_items": null,
            "left": null,
            "margin": null,
            "max_height": null,
            "max_width": null,
            "min_height": null,
            "min_width": null,
            "object_fit": null,
            "object_position": null,
            "order": null,
            "overflow": null,
            "overflow_x": null,
            "overflow_y": null,
            "padding": null,
            "right": null,
            "top": null,
            "visibility": null,
            "width": "auto"
          }
        },
        "8c30480c0a35441181057d3a63613ba7": {
          "model_module": "@jupyter-widgets/controls",
          "model_name": "ButtonStyleModel",
          "model_module_version": "1.5.0",
          "state": {
            "_model_module": "@jupyter-widgets/controls",
            "_model_module_version": "1.5.0",
            "_model_name": "ButtonStyleModel",
            "_view_count": null,
            "_view_module": "@jupyter-widgets/base",
            "_view_module_version": "1.2.0",
            "_view_name": "StyleView",
            "button_color": "#dddd77",
            "font_weight": ""
          }
        },
        "3541081dfef04ad987425337ef23c98b": {
          "model_module": "@jupyter-widgets/base",
          "model_name": "LayoutModel",
          "model_module_version": "1.2.0",
          "state": {
            "_model_module": "@jupyter-widgets/base",
            "_model_module_version": "1.2.0",
            "_model_name": "LayoutModel",
            "_view_count": null,
            "_view_module": "@jupyter-widgets/base",
            "_view_module_version": "1.2.0",
            "_view_name": "LayoutView",
            "align_content": null,
            "align_items": null,
            "align_self": null,
            "border": null,
            "bottom": null,
            "display": null,
            "flex": null,
            "flex_flow": null,
            "grid_area": null,
            "grid_auto_columns": null,
            "grid_auto_flow": null,
            "grid_auto_rows": null,
            "grid_column": null,
            "grid_gap": null,
            "grid_row": null,
            "grid_template_areas": null,
            "grid_template_columns": null,
            "grid_template_rows": null,
            "height": "auto",
            "justify_content": null,
            "justify_items": null,
            "left": null,
            "margin": null,
            "max_height": null,
            "max_width": null,
            "min_height": null,
            "min_width": null,
            "object_fit": null,
            "object_position": null,
            "order": null,
            "overflow": null,
            "overflow_x": null,
            "overflow_y": null,
            "padding": null,
            "right": null,
            "top": null,
            "visibility": null,
            "width": "auto"
          }
        },
        "d71c2681cde44b8daee6878a580a00c0": {
          "model_module": "@jupyter-widgets/controls",
          "model_name": "ButtonStyleModel",
          "model_module_version": "1.5.0",
          "state": {
            "_model_module": "@jupyter-widgets/controls",
            "_model_module_version": "1.5.0",
            "_model_name": "ButtonStyleModel",
            "_view_count": null,
            "_view_module": "@jupyter-widgets/base",
            "_view_module_version": "1.2.0",
            "_view_name": "StyleView",
            "button_color": "#ffaaaa",
            "font_weight": ""
          }
        },
        "f8972f5528a04a5ebf4e3b3b184fddb8": {
          "model_module": "@jupyter-widgets/base",
          "model_name": "LayoutModel",
          "model_module_version": "1.2.0",
          "state": {
            "_model_module": "@jupyter-widgets/base",
            "_model_module_version": "1.2.0",
            "_model_name": "LayoutModel",
            "_view_count": null,
            "_view_module": "@jupyter-widgets/base",
            "_view_module_version": "1.2.0",
            "_view_name": "LayoutView",
            "align_content": null,
            "align_items": null,
            "align_self": null,
            "border": null,
            "bottom": null,
            "display": null,
            "flex": null,
            "flex_flow": null,
            "grid_area": null,
            "grid_auto_columns": null,
            "grid_auto_flow": null,
            "grid_auto_rows": null,
            "grid_column": null,
            "grid_gap": null,
            "grid_row": null,
            "grid_template_areas": null,
            "grid_template_columns": null,
            "grid_template_rows": null,
            "height": "auto",
            "justify_content": null,
            "justify_items": null,
            "left": null,
            "margin": null,
            "max_height": null,
            "max_width": null,
            "min_height": null,
            "min_width": null,
            "object_fit": null,
            "object_position": null,
            "order": null,
            "overflow": null,
            "overflow_x": null,
            "overflow_y": null,
            "padding": null,
            "right": null,
            "top": null,
            "visibility": null,
            "width": "auto"
          }
        },
        "2326ddf4f3354cc0affd76518daf1b46": {
          "model_module": "@jupyter-widgets/controls",
          "model_name": "DescriptionStyleModel",
          "model_module_version": "1.5.0",
          "state": {
            "_model_module": "@jupyter-widgets/controls",
            "_model_module_version": "1.5.0",
            "_model_name": "DescriptionStyleModel",
            "_view_count": null,
            "_view_module": "@jupyter-widgets/base",
            "_view_module_version": "1.2.0",
            "_view_name": "StyleView",
            "description_width": ""
          }
        },
        "bddc8c80a4d14f7ba5ad0ed5e02d66fb": {
          "model_module": "@jupyter-widgets/base",
          "model_name": "LayoutModel",
          "model_module_version": "1.2.0",
          "state": {
            "_model_module": "@jupyter-widgets/base",
            "_model_module_version": "1.2.0",
            "_model_name": "LayoutModel",
            "_view_count": null,
            "_view_module": "@jupyter-widgets/base",
            "_view_module_version": "1.2.0",
            "_view_name": "LayoutView",
            "align_content": null,
            "align_items": null,
            "align_self": null,
            "border": null,
            "bottom": null,
            "display": null,
            "flex": null,
            "flex_flow": null,
            "grid_area": null,
            "grid_auto_columns": null,
            "grid_auto_flow": null,
            "grid_auto_rows": null,
            "grid_column": null,
            "grid_gap": null,
            "grid_row": null,
            "grid_template_areas": null,
            "grid_template_columns": null,
            "grid_template_rows": null,
            "height": "auto",
            "justify_content": null,
            "justify_items": null,
            "left": null,
            "margin": null,
            "max_height": null,
            "max_width": null,
            "min_height": null,
            "min_width": null,
            "object_fit": null,
            "object_position": null,
            "order": null,
            "overflow": null,
            "overflow_x": null,
            "overflow_y": null,
            "padding": null,
            "right": null,
            "top": null,
            "visibility": null,
            "width": "auto"
          }
        },
        "e7a850dc05f8481295b2cf110d70b4e3": {
          "model_module": "@jupyter-widgets/controls",
          "model_name": "ButtonStyleModel",
          "model_module_version": "1.5.0",
          "state": {
            "_model_module": "@jupyter-widgets/controls",
            "_model_module_version": "1.5.0",
            "_model_name": "ButtonStyleModel",
            "_view_count": null,
            "_view_module": "@jupyter-widgets/base",
            "_view_module_version": "1.2.0",
            "_view_name": "StyleView",
            "button_color": null,
            "font_weight": ""
          }
        },
        "4e42687fb7474c778f6ec512952759b5": {
          "model_module": "@jupyter-widgets/output",
          "model_name": "OutputModel",
          "model_module_version": "1.0.0",
          "state": {
            "_dom_classes": [],
            "_model_module": "@jupyter-widgets/output",
            "_model_module_version": "1.0.0",
            "_model_name": "OutputModel",
            "_view_count": null,
            "_view_module": "@jupyter-widgets/output",
            "_view_module_version": "1.0.0",
            "_view_name": "OutputView",
            "layout": "IPY_MODEL_64ff875e61cb40bd95bbebe2e051de8b",
            "msg_id": "",
            "outputs": [
              {
                "output_type": "stream",
                "name": "stdout",
                "text": [
                  "Moved down. Criter is now at (3, 1).\n",
                  "You ate the food here, new food at (6, 3)\n",
                  "Moves: 104 \tFood Eaten: 67 \tFood Per Move: 0.6442307692307693\n"
                ]
              },
              {
                "output_type": "display_data",
                "data": {
                  "text/plain": "<Figure size 700x600 with 1 Axes>",
                  "image/png": "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\n"
                },
                "metadata": {}
              }
            ]
          }
        },
        "64ff875e61cb40bd95bbebe2e051de8b": {
          "model_module": "@jupyter-widgets/base",
          "model_name": "LayoutModel",
          "model_module_version": "1.2.0",
          "state": {
            "_model_module": "@jupyter-widgets/base",
            "_model_module_version": "1.2.0",
            "_model_name": "LayoutModel",
            "_view_count": null,
            "_view_module": "@jupyter-widgets/base",
            "_view_module_version": "1.2.0",
            "_view_name": "LayoutView",
            "align_content": null,
            "align_items": null,
            "align_self": null,
            "border": null,
            "bottom": null,
            "display": null,
            "flex": null,
            "flex_flow": null,
            "grid_area": null,
            "grid_auto_columns": null,
            "grid_auto_flow": null,
            "grid_auto_rows": null,
            "grid_column": null,
            "grid_gap": null,
            "grid_row": null,
            "grid_template_areas": null,
            "grid_template_columns": null,
            "grid_template_rows": null,
            "height": null,
            "justify_content": null,
            "justify_items": null,
            "left": null,
            "margin": null,
            "max_height": null,
            "max_width": null,
            "min_height": null,
            "min_width": null,
            "object_fit": null,
            "object_position": null,
            "order": null,
            "overflow": null,
            "overflow_x": null,
            "overflow_y": null,
            "padding": null,
            "right": null,
            "top": null,
            "visibility": null,
            "width": null
          }
        },
        "69f1a058ca68415c97418578698c39fd": {
          "model_module": "@jupyter-widgets/controls",
          "model_name": "HBoxModel",
          "model_module_version": "1.5.0",
          "state": {
            "_dom_classes": [],
            "_model_module": "@jupyter-widgets/controls",
            "_model_module_version": "1.5.0",
            "_model_name": "HBoxModel",
            "_view_count": null,
            "_view_module": "@jupyter-widgets/controls",
            "_view_module_version": "1.5.0",
            "_view_name": "HBoxView",
            "box_style": "",
            "children": [
              "IPY_MODEL_b175e9e0d610496dac1b66d37ba3a387",
              "IPY_MODEL_e4f0723f9a0f4c0089e4f64ca75800ac",
              "IPY_MODEL_1658439fcd624eb8a2a761277cd0128e"
            ],
            "layout": "IPY_MODEL_b8289364deca4ec3b939fd3c8fadd104"
          }
        },
        "b175e9e0d610496dac1b66d37ba3a387": {
          "model_module": "@jupyter-widgets/controls",
          "model_name": "ButtonModel",
          "model_module_version": "1.5.0",
          "state": {
            "_dom_classes": [],
            "_model_module": "@jupyter-widgets/controls",
            "_model_module_version": "1.5.0",
            "_model_name": "ButtonModel",
            "_view_count": null,
            "_view_module": "@jupyter-widgets/controls",
            "_view_module_version": "1.5.0",
            "_view_name": "ButtonView",
            "button_style": "",
            "description": "Left",
            "disabled": false,
            "icon": "",
            "layout": "IPY_MODEL_e85b0e18b98340dd822a539a6a567a85",
            "style": "IPY_MODEL_c7589c14e1784fafa92c3fac832ddeb2",
            "tooltip": ""
          }
        },
        "e4f0723f9a0f4c0089e4f64ca75800ac": {
          "model_module": "@jupyter-widgets/controls",
          "model_name": "VBoxModel",
          "model_module_version": "1.5.0",
          "state": {
            "_dom_classes": [],
            "_model_module": "@jupyter-widgets/controls",
            "_model_module_version": "1.5.0",
            "_model_name": "VBoxModel",
            "_view_count": null,
            "_view_module": "@jupyter-widgets/controls",
            "_view_module_version": "1.5.0",
            "_view_name": "VBoxView",
            "box_style": "",
            "children": [
              "IPY_MODEL_a668f3b34f42407fa66e3747a9624888",
              "IPY_MODEL_4b7e653954e249f8aaa692226f776436"
            ],
            "layout": "IPY_MODEL_1c7a39ec03e14f748de8354e2a34ab1c"
          }
        },
        "1658439fcd624eb8a2a761277cd0128e": {
          "model_module": "@jupyter-widgets/controls",
          "model_name": "ButtonModel",
          "model_module_version": "1.5.0",
          "state": {
            "_dom_classes": [],
            "_model_module": "@jupyter-widgets/controls",
            "_model_module_version": "1.5.0",
            "_model_name": "ButtonModel",
            "_view_count": null,
            "_view_module": "@jupyter-widgets/controls",
            "_view_module_version": "1.5.0",
            "_view_name": "ButtonView",
            "button_style": "",
            "description": "Right",
            "disabled": false,
            "icon": "",
            "layout": "IPY_MODEL_5101bf8337d84b598186f24e4a1fb5a3",
            "style": "IPY_MODEL_1b1208e6f15d47c0883069174a1dc3ed",
            "tooltip": ""
          }
        },
        "b8289364deca4ec3b939fd3c8fadd104": {
          "model_module": "@jupyter-widgets/base",
          "model_name": "LayoutModel",
          "model_module_version": "1.2.0",
          "state": {
            "_model_module": "@jupyter-widgets/base",
            "_model_module_version": "1.2.0",
            "_model_name": "LayoutModel",
            "_view_count": null,
            "_view_module": "@jupyter-widgets/base",
            "_view_module_version": "1.2.0",
            "_view_name": "LayoutView",
            "align_content": null,
            "align_items": null,
            "align_self": null,
            "border": null,
            "bottom": null,
            "display": null,
            "flex": null,
            "flex_flow": null,
            "grid_area": null,
            "grid_auto_columns": null,
            "grid_auto_flow": null,
            "grid_auto_rows": null,
            "grid_column": null,
            "grid_gap": null,
            "grid_row": null,
            "grid_template_areas": null,
            "grid_template_columns": null,
            "grid_template_rows": null,
            "height": null,
            "justify_content": null,
            "justify_items": null,
            "left": null,
            "margin": null,
            "max_height": null,
            "max_width": null,
            "min_height": null,
            "min_width": null,
            "object_fit": null,
            "object_position": null,
            "order": null,
            "overflow": null,
            "overflow_x": null,
            "overflow_y": null,
            "padding": null,
            "right": null,
            "top": null,
            "visibility": null,
            "width": null
          }
        },
        "e85b0e18b98340dd822a539a6a567a85": {
          "model_module": "@jupyter-widgets/base",
          "model_name": "LayoutModel",
          "model_module_version": "1.2.0",
          "state": {
            "_model_module": "@jupyter-widgets/base",
            "_model_module_version": "1.2.0",
            "_model_name": "LayoutModel",
            "_view_count": null,
            "_view_module": "@jupyter-widgets/base",
            "_view_module_version": "1.2.0",
            "_view_name": "LayoutView",
            "align_content": null,
            "align_items": null,
            "align_self": null,
            "border": null,
            "bottom": null,
            "display": null,
            "flex": null,
            "flex_flow": null,
            "grid_area": null,
            "grid_auto_columns": null,
            "grid_auto_flow": null,
            "grid_auto_rows": null,
            "grid_column": null,
            "grid_gap": null,
            "grid_row": null,
            "grid_template_areas": null,
            "grid_template_columns": null,
            "grid_template_rows": null,
            "height": null,
            "justify_content": null,
            "justify_items": null,
            "left": null,
            "margin": null,
            "max_height": null,
            "max_width": null,
            "min_height": null,
            "min_width": null,
            "object_fit": null,
            "object_position": null,
            "order": null,
            "overflow": null,
            "overflow_x": null,
            "overflow_y": null,
            "padding": null,
            "right": null,
            "top": null,
            "visibility": null,
            "width": null
          }
        },
        "c7589c14e1784fafa92c3fac832ddeb2": {
          "model_module": "@jupyter-widgets/controls",
          "model_name": "ButtonStyleModel",
          "model_module_version": "1.5.0",
          "state": {
            "_model_module": "@jupyter-widgets/controls",
            "_model_module_version": "1.5.0",
            "_model_name": "ButtonStyleModel",
            "_view_count": null,
            "_view_module": "@jupyter-widgets/base",
            "_view_module_version": "1.2.0",
            "_view_name": "StyleView",
            "button_color": null,
            "font_weight": ""
          }
        },
        "a668f3b34f42407fa66e3747a9624888": {
          "model_module": "@jupyter-widgets/controls",
          "model_name": "ButtonModel",
          "model_module_version": "1.5.0",
          "state": {
            "_dom_classes": [],
            "_model_module": "@jupyter-widgets/controls",
            "_model_module_version": "1.5.0",
            "_model_name": "ButtonModel",
            "_view_count": null,
            "_view_module": "@jupyter-widgets/controls",
            "_view_module_version": "1.5.0",
            "_view_name": "ButtonView",
            "button_style": "",
            "description": "Up",
            "disabled": false,
            "icon": "",
            "layout": "IPY_MODEL_49b8e88d1789456694b8bce9d219a864",
            "style": "IPY_MODEL_b20cc45842ee41509b32e50af25758e2",
            "tooltip": ""
          }
        },
        "4b7e653954e249f8aaa692226f776436": {
          "model_module": "@jupyter-widgets/controls",
          "model_name": "ButtonModel",
          "model_module_version": "1.5.0",
          "state": {
            "_dom_classes": [],
            "_model_module": "@jupyter-widgets/controls",
            "_model_module_version": "1.5.0",
            "_model_name": "ButtonModel",
            "_view_count": null,
            "_view_module": "@jupyter-widgets/controls",
            "_view_module_version": "1.5.0",
            "_view_name": "ButtonView",
            "button_style": "",
            "description": "Down",
            "disabled": false,
            "icon": "",
            "layout": "IPY_MODEL_9b17529e5ee9474ebfeeb3c44d3dda49",
            "style": "IPY_MODEL_4b2b5024c99b4707a2aebf7fad5100b0",
            "tooltip": ""
          }
        },
        "1c7a39ec03e14f748de8354e2a34ab1c": {
          "model_module": "@jupyter-widgets/base",
          "model_name": "LayoutModel",
          "model_module_version": "1.2.0",
          "state": {
            "_model_module": "@jupyter-widgets/base",
            "_model_module_version": "1.2.0",
            "_model_name": "LayoutModel",
            "_view_count": null,
            "_view_module": "@jupyter-widgets/base",
            "_view_module_version": "1.2.0",
            "_view_name": "LayoutView",
            "align_content": null,
            "align_items": null,
            "align_self": null,
            "border": null,
            "bottom": null,
            "display": null,
            "flex": null,
            "flex_flow": null,
            "grid_area": null,
            "grid_auto_columns": null,
            "grid_auto_flow": null,
            "grid_auto_rows": null,
            "grid_column": null,
            "grid_gap": null,
            "grid_row": null,
            "grid_template_areas": null,
            "grid_template_columns": null,
            "grid_template_rows": null,
            "height": null,
            "justify_content": null,
            "justify_items": null,
            "left": null,
            "margin": null,
            "max_height": null,
            "max_width": null,
            "min_height": null,
            "min_width": null,
            "object_fit": null,
            "object_position": null,
            "order": null,
            "overflow": null,
            "overflow_x": null,
            "overflow_y": null,
            "padding": null,
            "right": null,
            "top": null,
            "visibility": null,
            "width": null
          }
        },
        "5101bf8337d84b598186f24e4a1fb5a3": {
          "model_module": "@jupyter-widgets/base",
          "model_name": "LayoutModel",
          "model_module_version": "1.2.0",
          "state": {
            "_model_module": "@jupyter-widgets/base",
            "_model_module_version": "1.2.0",
            "_model_name": "LayoutModel",
            "_view_count": null,
            "_view_module": "@jupyter-widgets/base",
            "_view_module_version": "1.2.0",
            "_view_name": "LayoutView",
            "align_content": null,
            "align_items": null,
            "align_self": null,
            "border": null,
            "bottom": null,
            "display": null,
            "flex": null,
            "flex_flow": null,
            "grid_area": null,
            "grid_auto_columns": null,
            "grid_auto_flow": null,
            "grid_auto_rows": null,
            "grid_column": null,
            "grid_gap": null,
            "grid_row": null,
            "grid_template_areas": null,
            "grid_template_columns": null,
            "grid_template_rows": null,
            "height": null,
            "justify_content": null,
            "justify_items": null,
            "left": null,
            "margin": null,
            "max_height": null,
            "max_width": null,
            "min_height": null,
            "min_width": null,
            "object_fit": null,
            "object_position": null,
            "order": null,
            "overflow": null,
            "overflow_x": null,
            "overflow_y": null,
            "padding": null,
            "right": null,
            "top": null,
            "visibility": null,
            "width": null
          }
        },
        "1b1208e6f15d47c0883069174a1dc3ed": {
          "model_module": "@jupyter-widgets/controls",
          "model_name": "ButtonStyleModel",
          "model_module_version": "1.5.0",
          "state": {
            "_model_module": "@jupyter-widgets/controls",
            "_model_module_version": "1.5.0",
            "_model_name": "ButtonStyleModel",
            "_view_count": null,
            "_view_module": "@jupyter-widgets/base",
            "_view_module_version": "1.2.0",
            "_view_name": "StyleView",
            "button_color": null,
            "font_weight": ""
          }
        },
        "49b8e88d1789456694b8bce9d219a864": {
          "model_module": "@jupyter-widgets/base",
          "model_name": "LayoutModel",
          "model_module_version": "1.2.0",
          "state": {
            "_model_module": "@jupyter-widgets/base",
            "_model_module_version": "1.2.0",
            "_model_name": "LayoutModel",
            "_view_count": null,
            "_view_module": "@jupyter-widgets/base",
            "_view_module_version": "1.2.0",
            "_view_name": "LayoutView",
            "align_content": null,
            "align_items": null,
            "align_self": null,
            "border": null,
            "bottom": null,
            "display": null,
            "flex": null,
            "flex_flow": null,
            "grid_area": null,
            "grid_auto_columns": null,
            "grid_auto_flow": null,
            "grid_auto_rows": null,
            "grid_column": null,
            "grid_gap": null,
            "grid_row": null,
            "grid_template_areas": null,
            "grid_template_columns": null,
            "grid_template_rows": null,
            "height": null,
            "justify_content": null,
            "justify_items": null,
            "left": null,
            "margin": null,
            "max_height": null,
            "max_width": null,
            "min_height": null,
            "min_width": null,
            "object_fit": null,
            "object_position": null,
            "order": null,
            "overflow": null,
            "overflow_x": null,
            "overflow_y": null,
            "padding": null,
            "right": null,
            "top": null,
            "visibility": null,
            "width": null
          }
        },
        "b20cc45842ee41509b32e50af25758e2": {
          "model_module": "@jupyter-widgets/controls",
          "model_name": "ButtonStyleModel",
          "model_module_version": "1.5.0",
          "state": {
            "_model_module": "@jupyter-widgets/controls",
            "_model_module_version": "1.5.0",
            "_model_name": "ButtonStyleModel",
            "_view_count": null,
            "_view_module": "@jupyter-widgets/base",
            "_view_module_version": "1.2.0",
            "_view_name": "StyleView",
            "button_color": null,
            "font_weight": ""
          }
        },
        "9b17529e5ee9474ebfeeb3c44d3dda49": {
          "model_module": "@jupyter-widgets/base",
          "model_name": "LayoutModel",
          "model_module_version": "1.2.0",
          "state": {
            "_model_module": "@jupyter-widgets/base",
            "_model_module_version": "1.2.0",
            "_model_name": "LayoutModel",
            "_view_count": null,
            "_view_module": "@jupyter-widgets/base",
            "_view_module_version": "1.2.0",
            "_view_name": "LayoutView",
            "align_content": null,
            "align_items": null,
            "align_self": null,
            "border": null,
            "bottom": null,
            "display": null,
            "flex": null,
            "flex_flow": null,
            "grid_area": null,
            "grid_auto_columns": null,
            "grid_auto_flow": null,
            "grid_auto_rows": null,
            "grid_column": null,
            "grid_gap": null,
            "grid_row": null,
            "grid_template_areas": null,
            "grid_template_columns": null,
            "grid_template_rows": null,
            "height": null,
            "justify_content": null,
            "justify_items": null,
            "left": null,
            "margin": null,
            "max_height": null,
            "max_width": null,
            "min_height": null,
            "min_width": null,
            "object_fit": null,
            "object_position": null,
            "order": null,
            "overflow": null,
            "overflow_x": null,
            "overflow_y": null,
            "padding": null,
            "right": null,
            "top": null,
            "visibility": null,
            "width": null
          }
        },
        "4b2b5024c99b4707a2aebf7fad5100b0": {
          "model_module": "@jupyter-widgets/controls",
          "model_name": "ButtonStyleModel",
          "model_module_version": "1.5.0",
          "state": {
            "_model_module": "@jupyter-widgets/controls",
            "_model_module_version": "1.5.0",
            "_model_name": "ButtonStyleModel",
            "_view_count": null,
            "_view_module": "@jupyter-widgets/base",
            "_view_module_version": "1.2.0",
            "_view_name": "StyleView",
            "button_color": null,
            "font_weight": ""
          }
        }
      }
    }
  },
  "nbformat": 4,
  "nbformat_minor": 0
}