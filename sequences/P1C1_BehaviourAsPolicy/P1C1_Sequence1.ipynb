{
 "cells": [
  {
   "cell_type": "markdown",
   "metadata": {
    "colab_type": "text",
    "execution": {},
    "id": "view-in-github"
   },
   "source": [
    "<a href=\"https://colab.research.google.com/github/dcownden/PerennialProblemsOfLifeWithABrain/blob/main/sequences/P1C1_BehaviourAsPolicy/P1C1_Sequence1.ipynb\" target=\"_parent\"><img src=\"https://colab.research.google.com/assets/colab-badge.svg\" alt=\"Open In Colab\"/></a> &nbsp; <a href=\"https://kaggle.com/kernels/welcome?src=https://raw.githubusercontent.com/dcownden/PerrenialProblemsOfLifeWithABrain/main/sequences/P1C1_BehaviourAsPolicy/P1C1_Sequence1.ipynb\" target=\"_parent\"><img src=\"https://kaggle.com/static/images/open-in-kaggle.svg\" alt=\"Open in Kaggle\"/></a>"
   ]
  },
  {
   "cell_type": "markdown",
   "metadata": {
    "execution": {}
   },
   "source": [
    "# **Part 1 Behaviour, environments and optimization: evolution and learning**\n",
    "\n",
    "### **Animals have evolved in an environment; their behaviour is only meaningful within this environment.**\n",
    "\n",
    "### Objectives: Introduce the core concepts of \n",
    "* ### **environment**, where an organism lives;\n",
    "* ### **behaviour**, what the organism does there; \n",
    "* ### **optimization**, how learning and evolution shape behaviour so that the organism's behaviour is better suited to its environment.\n"
   ]
  },
  {
   "cell_type": "markdown",
   "metadata": {
    "execution": {}
   },
   "source": [
    "___\n",
    "# Chapter 1.1 Behaviour as a policy in the context of an environment\n",
    "\n",
    "### Objective: Develop examples of how behaviour is described and evaluated relative to being [good](## \"This is a very loaded term, to be unpacked carefully later\") in an environmental niche. \n",
    "\n",
    "You will learn:\n",
    "*   What is a policy? A formalization of behaviour as a function that determines an organism's behaviour (usually) based on the organism's experience of their environment.\n",
    "*   What is a good policy? Rewards (and other signals?) from the environment in response to the organisms behaviour are integrated into a Loss/Objective function to evaluatate (and sometimes improve) a policy.\n",
    "*   What is stochasticity? The environment and an organism's behavior may have elements of randomness. This can make policy evaluation challenging; was the policy generating bad behaviour or was the organism just unlucky? \n",
    "\n"
   ]
  },
  {
   "cell_type": "markdown",
   "metadata": {
    "execution": {}
   },
   "source": [
    "___\n",
    "# **Sequence 1.1.1: Gridworld Introduction**\n",
    "\n",
    "### Objective:\n",
    "\n",
    "Create a simple environment-organism system to illustrate how an organism's **behaviour** within an **environment** can be evaluated using **rewards**. Within this context we will see how behavior guided by intellegence can be better and how **randomness** can make evalutation of behaviour difficult\n"
   ]
  },
  {
   "cell_type": "markdown",
   "metadata": {
    "execution": {}
   },
   "source": [
    "# Setup\n",
    "\n"
   ]
  },
  {
   "cell_type": "code",
   "execution_count": null,
   "metadata": {
    "execution": {}
   },
   "outputs": [],
   "source": [
    "import ipywidgets as widgets\n",
    "import threading\n",
    "from IPython.display import display\n",
    "import numpy as np\n",
    "import matplotlib.pyplot as plt\n",
    "import time\n",
    "import asyncio\n",
    "#import jax\n",
    "\n",
    "!pip3 install vibecheck datatops > /dev/null 2> /dev/null #google.colab\n",
    "from vibecheck import DatatopsContentReviewContainer\n",
    "\n",
    "#from google.colab import output as colab_output\n",
    "#colab_output.enable_custom_widget_manager()"
   ]
  },
  {
   "cell_type": "code",
   "execution_count": null,
   "metadata": {
    "cellView": "form",
    "execution": {}
   },
   "outputs": [],
   "source": [
    "# @title Plotting Functions\n",
    "# @markdown You don't need to worry about how this code works – but you do need to **run the cell**\n",
    "\n",
    "def make_grid(x_size, y_size):\n",
    "  \"\"\"Plots an x_size by y_size grid with cells centered on integer indices and\n",
    "  returns fig and ax handles for futher use\n",
    "  Args:\n",
    "    x_size (int): size of grid in x dimension\n",
    "    y_size (int): size of grid in y dimension\n",
    "\n",
    "  Returns:\n",
    "    fig (matplotlib.figure.Figure): figure handle for the grid\n",
    "    ax: (matplotlib.axes._axes.Axes): axes handle for the grid\n",
    "  \"\"\"\n",
    "  fig, ax = plt.subplots(figsize = (7,6), layout='constrained')\n",
    "  #ax.axis(\"equal\")\n",
    "  ax.set_xticks(np.arange(0, x_size, 1))\n",
    "  ax.set_yticks(np.arange(0, y_size, 1))\n",
    "  # Labels for major ticks\n",
    "  ax.set_xticklabels(np.arange(0, x_size, 1),fontsize=8)\n",
    "  ax.set_yticklabels(np.arange(0, y_size, 1),fontsize=8)\n",
    "\n",
    "  # Minor ticks\n",
    "  ax.set_xticks(np.arange(0.5, x_size-0.5, 1), minor=True)\n",
    "  ax.set_yticks(np.arange(0.5, y_size-0.5, 1), minor=True)\n",
    "\n",
    "  # Gridlines based on minor ticks\n",
    "  ax.grid(which='minor', color='grey', linestyle='-', linewidth=2, alpha=0.5)\n",
    "\n",
    "  # Remove minor ticks\n",
    "  ax.tick_params(which='minor', bottom=False, left=False)\n",
    "\n",
    "  ax.set_xlim(( -0.5, x_size-0.5))\n",
    "  ax.set_ylim(( -0.5, y_size-0.5))\n",
    "  return fig, ax\n",
    "\n",
    "def plot_food(fig, ax, xy_food_loc):\n",
    "  food = ax.scatter([], [], s=150, marker='o', color='red', label='Food')\n",
    "  food.set_offsets(xy_food_loc)\n",
    "  return food\n",
    "\n",
    "def plot_critter(fig, ax, xy_critter_loc):\n",
    "  critter = ax.scatter([], [], s=250, marker='h', color='blue', label='Critter')\n",
    "  critter.set_offsets(xy_critter_loc)\n",
    "  return critter"
   ]
  },
  {
   "cell_type": "code",
   "execution_count": null,
   "metadata": {
    "cellView": "form",
    "execution": {}
   },
   "outputs": [],
   "source": [
    "# @title Simulation Functions, Variables and Widgets\n",
    "# @markdown You don't need to worry about how this code works – but you do need to **run the cell**\n",
    "\n",
    "# keep track of all relevant states of the simluation in a global state dictionary\n",
    "# maybe turn this into an object if we want to have multiple independent simulations going on?\n",
    "\n",
    "def init_loc(x_size, y_size, num):\n",
    "  \"\"\"Returns random 2d grid locations, without replacement,\n",
    "  in both unravled/flat coordinates and as xy pairs\"\"\"\n",
    "  int_loc = np.random.choice(x_size * y_size, num, replace=False)\n",
    "  xy_loc = np.vstack(np.unravel_index(int_loc, (x_size, y_size))).T\n",
    "  return int_loc, xy_loc\n",
    "\n",
    "def init_state(x_size=7,\n",
    "              y_size=7,\n",
    "              num_food=10,\n",
    "              xy_critter=None):\n",
    "  state = {'num_moves': 0,\n",
    "           'num_eats': 0,\n",
    "           'num_food': num_food,\n",
    "           'xy_food_loc': np.array([[]]),\n",
    "           'int_food_loc': np.array([]),\n",
    "           'x_size': x_size,\n",
    "           'y_size': y_size}\n",
    "\n",
    "  #randomly initialize food locations\n",
    "  if num_food > x_size * y_size -1:\n",
    "    state['num_food'] = x_size * y_size -1\n",
    "  state['int_food_loc'], state['xy_food_loc'] = init_loc(state['x_size'],state['y_size'],state['num_food'])\n",
    "\n",
    "  if xy_critter is None:\n",
    "    # put critter roughly in the middle\n",
    "    state['xy_critter_loc'] = np.array([[np.floor(state['x_size']/2), np.floor(state['y_size']/2)]], dtype=int)\n",
    "    state['int_critter_loc'] = np.ravel_multi_index((state['xy_critter_loc'][:,0],state['xy_critter_loc'][:,1]), (state['x_size'], state['y_size']))\n",
    "  else:\n",
    "    state['xy_critter_loc'] = np.array(xy_critter).reshape((1,2))\n",
    "    state['int_critter_loc'] = np.ravel_multi_index((state['xy_critter_loc'][:,0],state['xy_critter_loc'][:,1]), (state['x_size'], state['y_size']))\n",
    "  return state\n",
    "\n",
    "state = init_state()\n",
    "\n",
    "def update_critter_location(x, y):\n",
    "  state['num_moves'] = state['num_moves'] + 1\n",
    "  state['xy_critter_loc'] = np.array([[x,y]])\n",
    "  state['int_critter_loc'] = np.ravel_multi_index((state['xy_critter_loc'][:,0],state['xy_critter_loc'][:,1]), (state['x_size'], state['y_size']))\n",
    "\n",
    "def eating():\n",
    "  # is the critter on a food patch\n",
    "  if state['int_critter_loc'][0] in set(state['int_food_loc']):\n",
    "    #critter is on a food patch\n",
    "    state['num_eats'] = state['num_eats'] + 1\n",
    "    # figure out where the new food will go where there isn't already food\n",
    "    new_food_loc = np.random.choice(list(set(np.arange(state['x_size']*state['y_size'])) - set(state['int_food_loc'])))\n",
    "    #remove the eaten food\n",
    "    new_food_loc_set = set(state['int_food_loc'])\n",
    "    new_food_loc_set.remove(state['int_critter_loc'][0])\n",
    "    # add the new food\n",
    "    new_food_loc_set.add(new_food_loc)\n",
    "\n",
    "    #update state\n",
    "    state['int_food_loc'] = np.array(np.sort(list(new_food_loc_set)))\n",
    "    state['xy_food_loc'] = np.vstack(np.unravel_index(state['int_food_loc'], (state['x_size'], state['y_size']))).T\n",
    "    state['eating_string'] = ('You ate the food here, new food at ' + str(np.unravel_index(new_food_loc, (state['x_size'], state['y_size']))))\n",
    "  else:\n",
    "    state['eating_string'] = 'No food here'\n",
    "\n",
    "def update_state(x, y):\n",
    "  update_critter_location(x, y)\n",
    "  eating()\n",
    "  #print(state_dict['food_locationssUnravel'])\n",
    "\n",
    "output = widgets.Output()\n",
    "\n",
    "def plot_fig_from_scratch():\n",
    "  fig, ax = make_grid(state['x_size'], state['y_size'])\n",
    "  plot_food(fig, ax, state['xy_food_loc'])\n",
    "  plot_critter(fig, ax, state['xy_critter_loc'])\n",
    "  fig.legend(loc = \"outside right upper\")\n",
    "  plt.show()\n",
    "\n",
    "up_button = widgets.Button(description=\"Up\")\n",
    "down_button = widgets.Button(description=\"Down\")\n",
    "left_button = widgets.Button(description=\"Left\")\n",
    "right_button = widgets.Button(description=\"Right\")\n",
    "random_movement = widgets.Checkbox(\n",
    "    value=False,\n",
    "    description='Move Randomly',\n",
    "    disabled=False,\n",
    "    indent=False\n",
    ")\n",
    "\n",
    "def random_click():\n",
    "  move = np.random.randint(0,4)\n",
    "  if move == 0:\n",
    "    up_button.click()\n",
    "  elif move == 1:\n",
    "    down_button.click()\n",
    "  elif move == 2:\n",
    "    left_button.click()\n",
    "  elif move == 3:\n",
    "    right_button.click()\n",
    "  else:\n",
    "    print('should not happen')\n",
    "\n",
    "\n",
    "class Timer:\n",
    "  def __init__(self, timeout, callback):\n",
    "    self._timeout = timeout\n",
    "    self._callback = callback\n",
    "  async def _job(self):\n",
    "    await asyncio.sleep(self._timeout)\n",
    "    self._callback()\n",
    "  def start(self):\n",
    "    self._task = asyncio.ensure_future(self._job())\n",
    "  def cancel(self):\n",
    "    self._task.cancel()\n",
    "\n",
    "click_timer = Timer(5.0, random_click)\n",
    "\n",
    "def button_output_update(which_button, x, y):\n",
    "  with output:\n",
    "    if random_movement.value == True:\n",
    "      if hasattr(click_timer, '__Task'):\n",
    "        click_timer.cancel()\n",
    "    output.clear_output(wait=True)\n",
    "    print(\"Moved \" + which_button + \". \" + \"Criter is now at ({}, {}).\".format(x,y))\n",
    "    print(state['eating_string'])\n",
    "    print(\"Moves: {0} \\tFood Eaten: {1} \\tFood Per Move: {2}\".format(state['num_moves'], state['num_eats'], state['num_eats'] / state['num_moves']))\n",
    "    plot_fig_from_scratch()\n",
    "    if random_movement.value == True:\n",
    "      click_timer.start()\n",
    "\n",
    "def on_up_button_clicked(b):\n",
    "  which_button = 'up'\n",
    "  x = state['xy_critter_loc'][0][0]\n",
    "  y = state['xy_critter_loc'][0][1]\n",
    "  if y >= state['y_size']-1:\n",
    "    y = state['y_size'] - 2\n",
    "  elif y < state['y_size']-1:\n",
    "    y = y+1\n",
    "  update_state(x, y)\n",
    "  button_output_update(which_button, x, y)\n",
    "\n",
    "def on_down_button_clicked(b):\n",
    "  which_button = 'down'\n",
    "  x = state['xy_critter_loc'][0][0]\n",
    "  y = state['xy_critter_loc'][0][1]\n",
    "  if y > 0 :\n",
    "    y = y-1\n",
    "  elif y <= 0:\n",
    "    y = 1\n",
    "  update_state(x, y)\n",
    "  button_output_update(which_button, x, y)\n",
    "\n",
    "def on_left_button_clicked(b):\n",
    "  which_button = 'left'\n",
    "  x = state['xy_critter_loc'][0][0]\n",
    "  y = state['xy_critter_loc'][0][1]\n",
    "  if x > 0 :\n",
    "    x = x-1\n",
    "  elif x <= 0:\n",
    "    x = 1\n",
    "  update_state(x, y)\n",
    "  button_output_update(which_button, x, y)\n",
    "\n",
    "def on_right_button_clicked(b):\n",
    "  which_button = 'right'\n",
    "  x = state['xy_critter_loc'][0][0]\n",
    "  y = state['xy_critter_loc'][0][1]\n",
    "  if x >= state['x_size']-1:\n",
    "    x = state['x_size'] - 2\n",
    "  elif x < state['x_size']-1:\n",
    "    x = x+1\n",
    "  update_state(x, y)\n",
    "  button_output_update(which_button, x, y)\n",
    "\n",
    "up_button.on_click(on_up_button_clicked)\n",
    "down_button.on_click(on_down_button_clicked)\n",
    "left_button.on_click(on_left_button_clicked)\n",
    "right_button.on_click(on_right_button_clicked)"
   ]
  },
  {
   "cell_type": "code",
   "execution_count": null,
   "metadata": {
    "cellView": "form",
    "execution": {}
   },
   "outputs": [],
   "source": [
    "# @title Other Helper Functions\n",
    "# @markdown You don't need to worry about how this code works – but you do need to **run the cell**\n",
    "\n",
    "class dotdict(dict):\n",
    "  def __getattr__(self, name):\n",
    "    return self[name]\n",
    "\n",
    "def content_review(notebook_section: str):\n",
    "  return DatatopsContentReviewContainer(\n",
    "    \"\",  # No text prompt\n",
    "    notebook_section,\n",
    "    {\n",
    "      \"url\": \"https://pmyvdlilci.execute-api.us-east-1.amazonaws.com/klab\",\n",
    "      \"name\": \"neuro_book\",\n",
    "      \"user_key\": \"xuk960xj\",\n",
    "    },\n",
    "  ).render()"
   ]
  },
  {
   "cell_type": "markdown",
   "metadata": {
    "execution": {}
   },
   "source": [
    "# Micro 1.1.1.1: Initializing Gridworld\n",
    "\n",
    "Before we introduce an organism with **behaviour** we're going to build an **environment** for them to behave in. To start, this world will consist of a 7 x 7 grid of cells. Let's make a picture of that and see what it looks like."
   ]
  },
  {
   "cell_type": "code",
   "execution_count": null,
   "metadata": {
    "execution": {}
   },
   "outputs": [],
   "source": [
    "############################################################################\n",
    "## TO DO for students: replace ... with the correct arguments(inputs) is the\n",
    "## make_grid function below to a grid the right size and shape. You can use the\n",
    "## tool tip by hovering over the word make_grid to find out how to use it. You\n",
    "## can also use the tool tip to view the source code. How does it work?\n",
    "raise NotImplementedError(\"Student exercise: make grid using the make_grid function\")\n",
    "############################################################################\n",
    "\n",
    "fig, ax = make_grid(...)\n",
    "plt.show()"
   ]
  },
  {
   "cell_type": "code",
   "execution_count": null,
   "metadata": {
    "execution": {}
   },
   "outputs": [],
   "source": [
    "# to_remove solution\n",
    "\n",
    "fig, ax = make_grid(7, 7)\n",
    "plt.show()"
   ]
  },
  {
   "cell_type": "markdown",
   "metadata": {
    "execution": {}
   },
   "source": [
    "Bonus activity: Tweak the make_grid function in the Plotting Functions cell above to make the gridlines green."
   ]
  },
  {
   "cell_type": "markdown",
   "metadata": {
    "execution": {}
   },
   "source": [
    "Wow, what a boring environment. Let's add an organism and something for that organism to interact with. We'll start with 10 food items scattered randomly throughout the grid, never more than one food item per cell. To plot these food item we need to initalize their locations by randomly sampling grid coordinates [without replacement](## \"never picking the same (x,y) coordinate pair twice\"). We'll place the agent roughly in the middle of the grid."
   ]
  },
  {
   "cell_type": "code",
   "execution_count": null,
   "metadata": {
    "execution": {}
   },
   "outputs": [],
   "source": [
    "################################################################################\n",
    "# TODO for students: replace ... in init_loc(...) to initialize the right number of\n",
    "# food item locations, in coordinates that make sense for our grid environment\n",
    "# then comment out or remove the next line.\n",
    "raise NotImplementedError(\"Exercise: make the grid the right size\")\n",
    "################################################################################\n",
    "def init_loc(x_size, y_size, num):\n",
    "  \"\"\"Returns random 2d grid locations, without replacement,\n",
    "  in both unravled/flat coordinates and as xy pairs\"\"\"\n",
    "  int_loc = np.random.choice(x_size * y_size, num, replace=False)\n",
    "  xy_loc = np.vstack(np.unravel_index(int_loc, (x_size, y_size))).T\n",
    "  return int_loc, xy_loc\n",
    "\n",
    "fig, ax = make_grid(7, 7)\n",
    "init_loc(...)\n",
    "plot_food(fig, ax, xy_food_loc)\n",
    "\n",
    "xy_critter_loc = (5,5)\n",
    "plot_critter(fig, ax, xy_critter_loc)\n",
    "\n",
    "fig.legend(loc='outside right upper')\n",
    "plt.show()"
   ]
  },
  {
   "cell_type": "code",
   "execution_count": null,
   "metadata": {
    "execution": {}
   },
   "outputs": [],
   "source": [
    "#to_remove solution\n",
    "def init_loc(x_size, y_size, num):\n",
    "  \"\"\"Returns random 2d grid locations, without replacement,\n",
    "  in both unravled/flat coordinates and as xy pairs\"\"\"\n",
    "  int_loc = np.random.choice(x_size * y_size, num, replace=False)\n",
    "  xy_loc = np.vstack(np.unravel_index(int_loc, (x_size, y_size))).T\n",
    "  return int_loc, xy_loc\n",
    "\n",
    "fig, ax = make_grid(7, 7)\n",
    "int_food_loc, xy_food_loc = init_loc(7,7,10)\n",
    "plot_food(fig, ax, xy_food_loc)\n",
    "\n",
    "xy_critter_loc = (5,5)\n",
    "plot_critter(fig, ax, xy_critter_loc)\n",
    "\n",
    "fig.legend(loc='outside right upper')\n",
    "plt.show()"
   ]
  },
  {
   "cell_type": "code",
   "execution_count": null,
   "metadata": {
    "cellView": "form",
    "execution": {}
   },
   "outputs": [],
   "source": [
    "# @markdown Vibe Check\n",
    "content_review(\"Sequence 1.1.1 Micro 1\")"
   ]
  },
  {
   "cell_type": "markdown",
   "metadata": {
    "execution": {}
   },
   "source": [
    "---\n",
    "# Micro 1.1.1.2: Random Eating"
   ]
  },
  {
   "cell_type": "markdown",
   "metadata": {
    "execution": {}
   },
   "source": [
    "Now that we have an environment scattered with food and an organism, let's introduce some behaviour. The organism drifts around the environment randomly (connect to real life situations where this strategy is employed) and eats the food that they happen to stumble upon. When food is eaten, the organism gets a **reward**, in this case a *Food Eaten* point, and a new food item appears randomly somewhere else in the environment (that doesn't already have food). Run the following cell to see what this looks like."
   ]
  },
  {
   "cell_type": "code",
   "execution_count": null,
   "metadata": {
    "cellView": "form",
    "execution": {}
   },
   "outputs": [],
   "source": [
    "# @title Random Movement\n",
    "# @markdown You don't need to worry about how this code works, yet – just **run the cell** for now and watch what happens\n",
    "display(output)\n",
    "\n",
    "# 20 random button presses, one every ~3 seconds\n",
    "state = init_state(x_size=7, y_size=7, num_food=10)\n",
    "for ii in range(30):\n",
    "  random_click()\n",
    "  time.sleep(0.1)"
   ]
  },
  {
   "cell_type": "markdown",
   "metadata": {
    "execution": {}
   },
   "source": [
    "When the organism is just drifting around randomly how good is it at eating lots of food, what is its efficiency in terms of food per movement? Now run the cell above a few more times. Does the organism always eat the same amount of food or does it change between simulation runs? "
   ]
  },
  {
   "cell_type": "code",
   "execution_count": null,
   "metadata": {
    "execution": {}
   },
   "outputs": [],
   "source": [
    "# to_remove explanation\n",
    "\n",
    "\"\"\"\n",
    "The amount of food eaten varies a lot from simulation run to simulation run,\n",
    "usually it manages to eat one or two pieces of food, sometimes more sometimes less.\n",
    "\"\"\";"
   ]
  },
  {
   "cell_type": "markdown",
   "metadata": {
    "execution": {}
   },
   "source": [
    "Before we move on it's important to test that our simulation is running as we expect. Randomness can make testing hard, but can overcome in part by setting up the environment in such a way that the outcome becomes deterministic. In the two cells bellow change how the the Grid World is initialized in terms of size, shape and number of food items. In one case so that organism is gaurenteed achieve 100% efficnency in terms of food per move and another case where the organism is gaurentted to achieve 0% efficiency."
   ]
  },
  {
   "cell_type": "code",
   "execution_count": null,
   "metadata": {
    "execution": {}
   },
   "outputs": [],
   "source": [
    "###############################################################################\n",
    "# TODO for students: replace ... in init_state(...) to initialize a grid world\n",
    "# where the organism is always 100% efficient.\n",
    "raise NotImplementedError(\"Exercise: make random movement 100% efficient\")\n",
    "################################################################################\n",
    "\n",
    "display(output)\n",
    "\n",
    "# 20 random moves, one every ~0.1 seconds\n",
    "state = init_state(...)\n",
    "for ii in range(30):\n",
    "  random_click()\n",
    "  time.sleep(0.1)"
   ]
  },
  {
   "cell_type": "code",
   "execution_count": null,
   "metadata": {
    "execution": {}
   },
   "outputs": [],
   "source": [
    "#to_remove solution\n",
    "\n",
    "display(output)\n",
    "\n",
    "# 20 random moves, one every ~0.1 seconds\n",
    "state = init_state(x_size=3, y_size=2, num_food=5)\n",
    "for ii in range(30):\n",
    "  random_click()\n",
    "  time.sleep(0.1)"
   ]
  },
  {
   "cell_type": "code",
   "execution_count": null,
   "metadata": {
    "execution": {}
   },
   "outputs": [],
   "source": [
    "###############################################################################\n",
    "# TODO for students: replace ... in init_state(...) to initialize a grid world\n",
    "# where the organism is always 0% efficient.\n",
    "raise NotImplementedError(\"Exercise: make random movement 0% efficient\")\n",
    "################################################################################\n",
    "\n",
    "display(output)\n",
    "\n",
    "# 20 random button presses, one every ~0.1 seconds\n",
    "state = init_state(...)\n",
    "for ii in range(30):\n",
    "  random_click()\n",
    "  time.sleep(0.1)"
   ]
  },
  {
   "cell_type": "code",
   "execution_count": null,
   "metadata": {
    "execution": {}
   },
   "outputs": [],
   "source": [
    "#to_remove solution\n",
    "\n",
    "display(output)\n",
    "\n",
    "# 20 random button presses, one every ~0.1 seconds\n",
    "state = init_state(x_size=7, y_size=7, num_food=0)\n",
    "for ii in range(30):\n",
    "  random_click()\n",
    "  time.sleep(0.1)"
   ]
  },
  {
   "cell_type": "code",
   "execution_count": null,
   "metadata": {
    "cellView": "form",
    "execution": {}
   },
   "outputs": [],
   "source": [
    "# @markdown Vibe Check\n",
    "content_review(\"Sequence 1.1.1 Micro 2\")"
   ]
  },
  {
   "cell_type": "markdown",
   "metadata": {
    "execution": {}
   },
   "source": [
    "---\n",
    "# Micro 1.1.1.3: Better Than Random Eating\n",
    "Now it's your turn to control the organism. Run the next cell and see how much more efficient than random drifting your control of the organism in terms of food per movement."
   ]
  },
  {
   "cell_type": "code",
   "execution_count": null,
   "metadata": {
    "cellView": "form",
    "execution": {}
   },
   "outputs": [],
   "source": [
    "# @title Controlled Movement\n",
    "# @markdown You don't need to worry about how this code works – just **run the cell** and then use the buttons to guide the organism\n",
    "\n",
    "# user in control\n",
    "state = init_state(x_size=7, y_size=7, num_food=10)\n",
    "with output:\n",
    "  output.clear_output(wait=True)\n",
    "  print('Press a button')\n",
    "  plot_fig_from_scratch()\n",
    "display(widgets.HBox([left_button, widgets.VBox([up_button, down_button]), right_button]), output)"
   ]
  },
  {
   "cell_type": "markdown",
   "metadata": {
    "execution": {}
   },
   "source": [
    "Hopefully you were able to perform much better than a policy of random flailing. Even in this relatively simple, contrived and constrained foraging problem intellegence helps a lot. What kinds of strategies and heuristics did you use to guide your choice of direction? In some very real sense, the whole purpose of a nervous system and a brain is to solve problems of this kind, i.e., based on inputs from the environment which actions should be taken to maximize reward."
   ]
  },
  {
   "cell_type": "code",
   "execution_count": null,
   "metadata": {
    "cellView": "form",
    "execution": {}
   },
   "outputs": [],
   "source": [
    "# @markdown Vibe Check\n",
    "content_review(\"Sequence 1.1.1 Micro 3\")"
   ]
  },
  {
   "cell_type": "markdown",
   "metadata": {
    "execution": {}
   },
   "source": [
    "---\n",
    "# Micro 1.1.1.4: Optimal Eating\n",
    "Finally we'd like to introduce a time traveling super organism, GW7x7-10-30, from the last chapter of this book. GW7x7-10-30 has absolutely mastered 7x7 grdiworld, with 10 food items and a 30 round duration. Run the next cell and see how efficient a highly optimized and specialized gridworld organism can be. Are you as good as gw7x7-10-30? If not, you gotta read this book 😉 (If you can't beat the AI, at least learn how to program the AI.)"
   ]
  },
  {
   "cell_type": "markdown",
   "metadata": {
    "execution": {}
   },
   "source": [
    "(Last chapter not made yet so working on a minimal sketch/skeleton version to produce this agent)"
   ]
  },
  {
   "cell_type": "code",
   "execution_count": null,
   "metadata": {
    "cellView": "form",
    "execution": {}
   },
   "outputs": [],
   "source": [
    "# @title Optimal Movement\n",
    "# @markdown You don't need to worry about how this code works – just **run the cell** to watch the super organism behave. See if you can outperform them.\n",
    "\n",
    "# master organism in control"
   ]
  },
  {
   "cell_type": "code",
   "execution_count": null,
   "metadata": {
    "cellView": "form",
    "execution": {}
   },
   "outputs": [],
   "source": [
    "# @markdown Vibe Check\n",
    "content_review(\"Sequence 1.1.1 Micro 4\")"
   ]
  },
  {
   "cell_type": "markdown",
   "metadata": {
    "execution": {}
   },
   "source": [
    "---\n",
    "# Graveyard\n"
   ]
  },
  {
   "cell_type": "markdown",
   "metadata": {
    "execution": {}
   },
   "source": [
    "Useful scavenging from github and SO"
   ]
  },
  {
   "cell_type": "code",
   "execution_count": null,
   "metadata": {
    "execution": {}
   },
   "outputs": [],
   "source": [
    "out = widgets.Output(layout=widgets.Layout(height='300px'))\n",
    "\n",
    "x = np.linspace(0,1,100)\n",
    "\n",
    "def update_plot(w):\n",
    "    with out:\n",
    "        # Without clear_output(), figures get appended below each other inside\n",
    "        # the output widget\n",
    "        # Ah ha! Got it! I need wait=True!\n",
    "        out.clear_output(wait=True)\n",
    "        plt.plot(x, x**p_widget.value)\n",
    "        plt.show()\n",
    "\n",
    "p_widget = widgets.FloatSlider(min=0, max=2, step=0.1, value = 1)\n",
    "update_plot([])\n",
    "p_widget.observe(update_plot)\n",
    "display(p_widget, out)"
   ]
  },
  {
   "cell_type": "code",
   "execution_count": null,
   "metadata": {
    "execution": {}
   },
   "outputs": [],
   "source": [
    "import ipywidgets as widgets\n",
    "\n",
    "x = 0\n",
    "y = {\"x\": 0}\n",
    "b = widgets.Button(description=\"Do it\")\n",
    "\n",
    "def doit(obj):\n",
    "    print(x, y)\n",
    "    # x += 1 # uncommenting makes the above print fail\n",
    "    y[\"x\"] += 1 # this is ok\n",
    "\n",
    "b.on_click(doit)\n",
    "display(b)"
   ]
  },
  {
   "cell_type": "code",
   "execution_count": null,
   "metadata": {
    "execution": {}
   },
   "outputs": [],
   "source": [
    "# how to get figures to work in this context nicely???\n",
    "a = widgets.FloatSlider(description='a', min=0, max=10)\n",
    "b = widgets.FloatSlider(description='b', min=0, max=10)\n",
    "c = widgets.FloatSlider(description='c', min=0, max=10)\n",
    "\n",
    "def f(a, b, c):\n",
    "    print('{}*{}*{}={}'.format(a, b, c, a*b*c))\n",
    "\n",
    "out = widgets.interactive_output(f, {'a': a, 'b': b, 'c': c})\n",
    "\n",
    "widgets.HBox([widgets.VBox([a, b, c]), out])"
   ]
  },
  {
   "cell_type": "code",
   "execution_count": null,
   "metadata": {
    "execution": {}
   },
   "outputs": [],
   "source": [
    "from matplotlib import animation, rc, patches\n",
    "from IPython.display import HTML"
   ]
  },
  {
   "cell_type": "code",
   "execution_count": null,
   "metadata": {
    "execution": {}
   },
   "outputs": [],
   "source": [
    "# First set up the figure, the axis, and the plot element we want to animate\n",
    "fig, ax = plt.subplots()\n",
    "\n",
    "ax.set_xticks(np.arange(0, 11, 1))\n",
    "ax.set_yticks(np.arange(0, 11, 1))\n",
    "\n",
    "# Labels for major ticks\n",
    "ax.set_xticklabels(np.arange(0, 11, 1))\n",
    "ax.set_yticklabels(np.arange(0, 11, 1))\n",
    "\n",
    "# Minor ticks\n",
    "ax.set_xticks(np.arange(1.5, 10.5, 1), minor=True)\n",
    "ax.set_yticks(np.arange(1.5, 10.5, 1), minor=True)\n",
    "\n",
    "# Gridlines based on minor ticks\n",
    "ax.grid(which='minor', color='grey', linestyle='-', linewidth=2, alpha=0.5)\n",
    "\n",
    "# Remove minor ticks\n",
    "ax.tick_params(which='minor', bottom=False, left=False)\n",
    "\n",
    "ax.set_xlim(( 0.5, 10.5))\n",
    "ax.set_ylim(( 0.5, 10.5))\n",
    "\n",
    "#ax.axis(\"equal\")\n",
    "scatter = ax.scatter([], [])\n",
    "#critterCircle = plt.Circle((5,5), 0.4)\n",
    "#dot = ax.add_patch(critterCircle)\n",
    "#scatter.set_offsets([[5, 5]])\n",
    "\n",
    "scatter.set_offsets([[3, 11-3]])\n",
    "#fig.canvas.draw()\n",
    "#fig.canvas.flush_events()"
   ]
  },
  {
   "cell_type": "code",
   "execution_count": null,
   "metadata": {
    "execution": {}
   },
   "outputs": [],
   "source": [
    "def init():\n",
    "    scatter.set_offsets([[5, 5]])\n",
    "    return scatter,"
   ]
  },
  {
   "cell_type": "code",
   "execution_count": null,
   "metadata": {
    "execution": {}
   },
   "outputs": [],
   "source": [
    "def animate_dot(i):\n",
    "    print(i)\n",
    "    x = i\n",
    "    y = 11-i\n",
    "    scatter.set_offsets([[x, y]])\n",
    "    return scatter,"
   ]
  },
  {
   "cell_type": "code",
   "execution_count": null,
   "metadata": {
    "execution": {}
   },
   "outputs": [],
   "source": [
    "# call the animator. blit=True means only re-draw the parts that have changed.\n",
    "anim = animation.FuncAnimation(fig, animate_dot, init_func=init,\n",
    "                               frames=(np.arange(10)+1), interval=500, blit=True)"
   ]
  },
  {
   "cell_type": "code",
   "execution_count": null,
   "metadata": {
    "execution": {}
   },
   "outputs": [],
   "source": [
    "HTML(anim.to_html5_video())"
   ]
  },
  {
   "cell_type": "code",
   "execution_count": null,
   "metadata": {
    "execution": {}
   },
   "outputs": [],
   "source": [
    "rc('animation', html='html5')"
   ]
  },
  {
   "cell_type": "code",
   "execution_count": null,
   "metadata": {
    "execution": {}
   },
   "outputs": [],
   "source": [
    "anim"
   ]
  },
  {
   "cell_type": "markdown",
   "metadata": {
    "execution": {}
   },
   "source": [
    "These movies are really pretty compared drawing everything from scratch, each time, need to figure out some way to combine the two eventually, but will keep prototyping in janky mode for now."
   ]
  },
  {
   "cell_type": "code",
   "execution_count": null,
   "metadata": {
    "execution": {}
   },
   "outputs": [],
   "source": [
    "#will python find ffmpeg on the github worker?"
   ]
  }
 ],
 "metadata": {
  "colab": {
   "collapsed_sections": [],
   "include_colab_link": true,
   "name": "P1C1_Sequence1",
   "provenance": [],
   "toc_visible": true
  },
  "kernel": {
   "display_name": "Python 3",
   "language": "python",
   "name": "python3"
  },
  "kernelspec": {
   "display_name": "Python 3",
   "name": "python3"
  },
  "language_info": {
   "codemirror_mode": {
    "name": "ipython",
    "version": 3
   },
   "file_extension": ".py",
   "mimetype": "text/x-python",
   "name": "python",
   "nbconvert_exporter": "python",
   "pygments_lexer": "ipython3",
   "version": "3.9.16"
  }
 },
 "nbformat": 4,
 "nbformat_minor": 0
}