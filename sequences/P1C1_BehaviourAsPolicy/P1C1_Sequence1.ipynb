{
  "cells": [
    {
      "cell_type": "markdown",
      "metadata": {
        "id": "view-in-github",
        "colab_type": "text"
      },
      "source": [
        "<a href=\"https://colab.research.google.com/github/dcownden/PerennialProblemsOfLifeWithABrain/blob/P1C1_Sequence1_refinements/sequences/P1C1_BehaviourAsPolicy/P1C1_Sequence1.ipynb\" target=\"_parent\"><img src=\"https://colab.research.google.com/assets/colab-badge.svg\" alt=\"Open In Colab\"/></a>"
      ]
    },
    {
      "cell_type": "markdown",
      "metadata": {
        "execution": {},
        "id": "dcHx9jSH0gkd"
      },
      "source": [
        "# **Part 1 Behaviour, environments and optimization: evolution and learning**\n",
        "\n",
        "### **Animals are adapted to their specific environments; their behaviour is best understood within the context of their evolutionary environment.**\n",
        "\n",
        "### Objective: Part 1 of the book aims to introduce the fundamental concepts of\n",
        "* ### **environment**, where an organism lives;\n",
        "* ### **behaviour**, what the organism does there;\n",
        "* ### **optimization**, how learning and evolution shape an organism's behaviour to make it better suited to its environment."
      ]
    },
    {
      "cell_type": "markdown",
      "metadata": {
        "execution": {},
        "id": "7beHHwGx0gkj"
      },
      "source": [
        "___\n",
        "# Chapter 1.1 Behaviour as a policy in an environmental context\n",
        "\n",
        "### Objective: This chapter develops examples of how behaviour is described and evaluated in relation to its [goodness](## \"This is a very loaded term, to be unpacked carefully later\") within a specific environmental niche.\n",
        "\n",
        "You will learn:\n",
        "*   What is a policy? A policy is a formalization of behaviour as a function that takes an organism's experiences of their environment as an input and outputs the organism's actions.\n",
        "*   What is a good policy? The rewards and other environmental signals, resulting from the organism's actions in the environment, are integrated into a Loss/Objective function to evaluatate, and potentially improve, a policy.\n",
        "*   What is stochasticity? Both the environment and an organism's behavior can contain random elements. This randomness can pose challenges when evaluating policies, as it becomes difficult to determine whether poor outcomes are due the policy itself or simply bad luck.\n",
        "\n"
      ]
    },
    {
      "cell_type": "markdown",
      "metadata": {
        "execution": {},
        "id": "ROV3QVkt0gkl"
      },
      "source": [
        "___\n",
        "# **Sequence 1.1.1: Gridworld Introduction**\n",
        "\n",
        "### Objective: In this sequence, we will create a simple environment-organism system to demonstrate how an organism's **behaviour**, within an **environment**, can be evaluated using **rewards**. We will also explore how intelligent behaviour can lead to better outcomes and how **randomness** can make evaluation of behaviour difficult."
      ]
    },
    {
      "cell_type": "markdown",
      "metadata": {
        "execution": {},
        "id": "EQSveAtV0gkn"
      },
      "source": [
        "# Setup\n",
        "\n"
      ]
    },
    {
      "cell_type": "code",
      "execution_count": 1,
      "metadata": {
        "execution": {},
        "id": "XvdDmZTg0gkp"
      },
      "outputs": [],
      "source": [
        "import ipywidgets as widgets\n",
        "import threading\n",
        "from IPython.display import display\n",
        "import numpy as np\n",
        "import matplotlib.pyplot as plt\n",
        "import time\n",
        "import asyncio\n",
        "import logging\n",
        "#import jax\n",
        "\n",
        "!pip3 install vibecheck datatops > /dev/null 2> /dev/null #google.colab\n",
        "from vibecheck import DatatopsContentReviewContainer\n",
        "\n",
        "# set numpy random seed\n",
        "SEED = 2021\n",
        "rng = np.random.default_rng(seed=SEED)\n",
        "#from google.colab import output as colab_output\n",
        "#colab_output.enable_custom_widget_manager()"
      ]
    },
    {
      "cell_type": "code",
      "execution_count": 48,
      "metadata": {
        "execution": {},
        "id": "5NTqSX210gkr"
      },
      "outputs": [],
      "source": [
        "# @title Plotting Functions\n",
        "# @markdown You don't need to worry about how this code works – but you do need to **run the cell**\n",
        "\n",
        "%matplotlib inline\n",
        "%config InlineBackend.figure_format = 'retina'\n",
        "plt.style.use(\"https://raw.githubusercontent.com/dcownden/PerennialProblemsOfLifeWithABrain/main/pplb.mplstyle\")\n",
        "logging.getLogger('matplotlib.font_manager').setLevel(logging.ERROR)\n",
        "\n",
        "def make_grid(num_rows, num_cols):\n",
        "  \"\"\"Plots an n_rows by n_cols grid with cells centered on integer indices and\n",
        "  returns fig and ax handles for futher use\n",
        "  Args:\n",
        "    num_rows (int): number of rows in the grid (vertical dimension)\n",
        "    num_cols (int): number of cols in the grid (horizontal dimension)\n",
        "\n",
        "  Returns:\n",
        "    fig (matplotlib.figure.Figure): figure handle for the grid\n",
        "    ax: (matplotlib.axes._axes.Axes): axes handle for the grid\n",
        "  \"\"\"\n",
        "  fig, ax = plt.subplots(figsize = (7,6), layout='constrained')\n",
        "  ax.spines[['right', 'top']].set_visible(True)\n",
        "  ax.set_xticks(np.arange(0, num_cols, 1))\n",
        "  ax.set_yticks(np.arange(0, num_rows, 1))\n",
        "  # Labels for major ticks\n",
        "  ax.set_xticklabels(np.arange(0, num_cols, 1),fontsize=8)\n",
        "  ax.set_yticklabels(np.arange(0, num_rows, 1)[::-1],fontsize=8)\n",
        "\n",
        "  # Minor ticks\n",
        "  ax.set_xticks(np.arange(0.5, num_cols-0.5, 1), minor=True)\n",
        "  ax.set_yticks(np.arange(0.5, num_rows-0.5, 1), minor=True)\n",
        "\n",
        "  ax.xaxis.tick_top()\n",
        "\n",
        "  # Gridlines based on minor ticks\n",
        "  ax.grid(which='minor', color='grey', linestyle='-', linewidth=2, alpha=0.5)\n",
        "\n",
        "  # Remove minor ticks\n",
        "  ax.tick_params(which='minor', bottom=False, left=False)\n",
        "\n",
        "  ax.set_xlim(( -0.5, num_cols-0.5))\n",
        "  ax.set_ylim(( -0.5, num_rows-0.5))\n",
        "  return fig, ax\n",
        "\n",
        "def plot_food(fig, ax, rc_food_loc, n_rows):\n",
        "  food = ax.scatter([], [], s=150, marker='o', color='red', label='Food')\n",
        "  rc_food_loc = np.array(rc_food_loc, dtype=int)\n",
        "  rc_food_loc[:,0] = n_rows - 1 - rc_food_loc[:,0]\n",
        "  food.set_offsets(np.fliplr(rc_food_loc))\n",
        "  return food\n",
        "\n",
        "def plot_critter(fig, ax, rc_critter_loc, n_rows):\n",
        "  critter = ax.scatter([], [], s=250, marker='h', color='blue', label='Critter')\n",
        "  r, c = rc_critter_loc\n",
        "  critter.set_offsets((c, n_rows-1-r))\n",
        "  return critter"
      ]
    },
    {
      "cell_type": "code",
      "execution_count": 3,
      "metadata": {
        "cellView": "form",
        "execution": {},
        "id": "FQ84kARn0gks"
      },
      "outputs": [],
      "source": [
        "# @title Simulation Functions, Variables and Widgets\n",
        "# @markdown You don't need to worry about how this code works – but you do need to **run the cell**\n",
        "\n",
        "def init_loc(n_rows, n_cols, num):\n",
        "  \"\"\"Returns random 2d grid locations, without replacement,\n",
        "  in both unravled/flat coordinates and as xy pairs\"\"\"\n",
        "  int_loc = np.random.choice(n_rows * n_cols, num, replace=False)\n",
        "  rc_loc = np.unravel_index(int_loc, (n_rows, n_cols))\n",
        "  return int_loc, rc_loc\n",
        "\n",
        "\n",
        "class GridworldBoard():\n",
        "  \"\"\"\n",
        "  A collection methods and parameters of a gridworld game board that\n",
        "  define the logic of the game.\n",
        "  Board state is tracked as a triple (pieces, scores, rounds_left)\n",
        "  pieces: batch_size x n_rows x n_cols np.array\n",
        "  scores: batch_size np.array\n",
        "  rounds_left: batch_size np.array\n",
        "\n",
        "  Pieces are interpreted as:\n",
        "  1=critter, -1=food, 0=empty\n",
        "\n",
        "  First dim is batch, second dim row , third is col, so pieces[0][1][7]\n",
        "  is the square in row 2, in column 8 of the first board in the batch of boards\n",
        "\n",
        "  Note:\n",
        "    In 2d np.array first dim is row (vertical), second dim is col (horizontal),\n",
        "    i.e. top left corner is (0,0), so take care when visualizing/plotting\n",
        "    as np.array visualization inline with typical tensor notation but at odds\n",
        "    with conventional plotting where (0,0) is bottom left, first dim, x, is\n",
        "    horizontal, second dim, y, is vertical\n",
        "  \"\"\"\n",
        "  def __init__(self, batch_size=1,\n",
        "               n_rows=7, n_cols=7,\n",
        "               num_food=10, lifetime=30):\n",
        "    \"\"\"Set the parameters of the game.\"\"\"\n",
        "    self.n_rows = n_rows\n",
        "    self.n_cols = n_cols\n",
        "    self.batch_size = batch_size\n",
        "    self.num_food = num_food\n",
        "    self.lifetime = lifetime\n",
        "\n",
        "\n",
        "  def get_init_board_state(self):\n",
        "    \"\"\"Set up starting board using game parameters\"\"\"\n",
        "    #set rounds_left and score\n",
        "    self.rounds_left = np.ones(self.batch_size) * self.lifetime\n",
        "    self.scores = np.zeros(self.batch_size)\n",
        "    # create an empty board array.\n",
        "    self.pieces = np.zeros((self.batch_size, self.n_rows, self.n_cols))\n",
        "    # Place critter and initial food items on the board randomly\n",
        "    for ii in np.arange(self.batch_size):\n",
        "      # num_food+1 because we want critter and food locations\n",
        "      int_loc, rc_loc = init_loc(self.n_rows, self.n_cols, self.num_food+1)\n",
        "      # critter random start location\n",
        "      self.pieces[(ii, rc_loc[0][0], rc_loc[1][0])] = 1\n",
        "      # food random start locations\n",
        "      self.pieces[(ii, rc_loc[0][1:], rc_loc[1][1:])] = -1\n",
        "    return(self.pieces.copy(), self.scores.copy(), self.rounds_left.copy())\n",
        "\n",
        "\n",
        "  def set_state(self, board):\n",
        "    \"\"\" board is a triple of np arrays\n",
        "    pieces,       - batch_size x n_rows x n_cols\n",
        "    scores,       - batch_size\n",
        "    rounds_left   - batch_size\n",
        "    \"\"\"\n",
        "    self.pieces, self.scores, self.rounds_left = board\n",
        "\n",
        "\n",
        "  def get_state(self):\n",
        "    \"\"\" returns a board state, which is a triple of np arrays\n",
        "    pieces,       - batch_size x n_rows x n_cols\n",
        "    scores,       - batch_size\n",
        "    rounds_left   - batch_size\n",
        "    \"\"\"\n",
        "    return(self.pieces.copy(), self.scores.copy(), self.rounds_left.copy())\n",
        "\n",
        "\n",
        "  def __getitem__(self, index):\n",
        "    return self.pieces[index]\n",
        "\n",
        "\n",
        "  def execute_moves(self, moves):\n",
        "    \"\"\"\n",
        "    Updates the state of the board given the moves made.\n",
        "\n",
        "    Args:\n",
        "      moves: a 3-tuple of 1-d arrays each of length batch_size,\n",
        "        the first array gives the specific board within the batch,\n",
        "        the second array in the tuple gives the new x coord for each critter\n",
        "        on each board and the third gives the new y coord.\n",
        "\n",
        "    Note:\n",
        "      Assumes that there is exactly one valid move for each board in the\n",
        "      batch of boards. i.e. it does't check for bounce/reflection on edges,\n",
        "      or for multiple move made on the same board. It only checks for eating\n",
        "      food and adds new food when appropriate. Invalid moves could lead to\n",
        "      illegal teleporting behavior, critter dublication, or index out of range\n",
        "      errors.\n",
        "    This assumes the move is valid, i.e. doesn't check for\n",
        "    bounce/reflection on edges, it only checks eating and adds new food,\n",
        "    so invalid moves could lead to illegal teleporting behaviour or index out\n",
        "    of range errors\n",
        "    \"\"\"\n",
        "    assert len(moves[0]) == self.pieces.shape[0]\n",
        "    #critters leave their spots\n",
        "    self.pieces[self.pieces==1] = 0\n",
        "    #which critters have food in their new spots\n",
        "    eats_food = self.pieces[moves] == -1\n",
        "    # some critters eat and their scores go up\n",
        "    self.scores = self.scores + eats_food\n",
        "\n",
        "    num_empty_after_eat = self.n_rows*self.n_cols - self.num_food\n",
        "    # -1 for the critter +1 for food eaten\n",
        "    # which boards in the batch had eating happen\n",
        "    g_eating = np.where(eats_food)[0]\n",
        "    new_food_sample = rng.choice(num_empty_after_eat, size=np.sum(eats_food))\n",
        "    # add random food to replace what is eaten\n",
        "    if np.any(eats_food):\n",
        "      possible_new_locs = np.where(np.logical_and(\n",
        "          self.pieces == 0, #the spot is empty\n",
        "          eats_food.reshape(self.batch_size, 1, 1))) #food eaten on that board\n",
        "      food_sample_ = rng.choice(num_empty_after_eat, size=np.sum(eats_food))\n",
        "      food_sample = food_sample_ + np.arange(len(g_eating))*num_empty_after_eat\n",
        "      assert np.all(self.pieces[(possible_new_locs[0][food_sample],\n",
        "                                 possible_new_locs[1][food_sample],\n",
        "                                 possible_new_locs[2][food_sample])] == 0)\n",
        "      #put new food on the board\n",
        "      self.pieces[(possible_new_locs[0][food_sample],\n",
        "                   possible_new_locs[1][food_sample],\n",
        "                   possible_new_locs[2][food_sample])] = -1\n",
        "    # put critters in new positions\n",
        "    self.pieces[moves] = 1.0\n",
        "    self.rounds_left = self.rounds_left - 1\n",
        "    assert np.all(self.pieces.sum(axis=(1,2)) == ((self.num_food * -1) + 1))\n",
        "\n",
        "\n",
        "  def get_legal_moves(self):\n",
        "    \"\"\"Identifies all legal moves for the critter, taking into acount\n",
        "    bouncing/reflection at edges,\n",
        "\n",
        "    Returns:\n",
        "      A numpy int array of size batch x 3(g,x,y) x 4(possible moves)\n",
        "\n",
        "    Note:\n",
        "      moves[0,1,3] is the x coordinate of the move corresponding to the\n",
        "      fourth offstet on the first board.\n",
        "      moves[1,:,1] will give the g,x,y triple corresponding to the\n",
        "      move on the second board and the second offset, actions are integers\n",
        "    \"\"\"\n",
        "\n",
        "    #apply all possible offsets to each game\n",
        "    moves = np.stack([\n",
        "      np.array(np.where(self.pieces == 1)) +\n",
        "        np.array([np.array([0,  1, 0])]*self.batch_size).T,\n",
        "      np.array(np.where(self.pieces == 1)) +\n",
        "        np.array([np.array([0, -1, 0])]*self.batch_size).T,\n",
        "      np.array(np.where(self.pieces == 1)) +\n",
        "        np.array([np.array([0, 0,  1])]*self.batch_size).T,\n",
        "      np.array(np.where(self.pieces == 1)) +\n",
        "        np.array([np.array([0, 0, -1])]*self.batch_size).T]).swapaxes(0,2)\n",
        "\n",
        "    #check bounces at boundaries\n",
        "    moves[:,1,:] = np.where(moves[:,1,:] >=\n",
        "                            self.n_rows, self.n_rows-2, moves[:,1,:])\n",
        "    moves[:,2,:] = np.where(moves[:,2,:] >=\n",
        "                            self.n_cols, self.n_cols-2, moves[:,2,:])\n",
        "    moves[:,1,:] = np.where(moves[:,1,:] < 0, 1, moves[:,1,:])\n",
        "    moves[:,2,:] = np.where(moves[:,2,:] < 0, 1, moves[:,2,:])\n",
        "    return moves\n",
        "\n",
        "\n",
        "\n",
        "\n",
        "class GridworldGame():\n",
        "  \"\"\"\n",
        "  A collection methods and parameters of a gridworld game that allow\n",
        "  for interaction with and display of GridwordlBoard objects.\n",
        "  \"\"\"\n",
        "  square_content = {\n",
        "      -1: \"X\", #Food\n",
        "      +0: \"-\", #Nothing\n",
        "      +1: \"O\"  #Critter\n",
        "      }\n",
        "\n",
        "  def get_square_piece(self, piece):\n",
        "    return GridworldGame.square_content[piece]\n",
        "\n",
        "\n",
        "  def __init__(self, batch_size, n_rows, n_cols, num_food, lifetime):\n",
        "    self.batch_size = batch_size\n",
        "    self.n_rows = n_rows\n",
        "    self.n_cols = n_cols\n",
        "    self.num_food = num_food\n",
        "    self.lifetime = lifetime\n",
        "\n",
        "\n",
        "  def get_init_board(self):\n",
        "    \"\"\"\n",
        "    Generates a starting board given the parameters of the game.\n",
        "    Returns a tuple giving current state of the game\n",
        "    \"\"\"\n",
        "    # current score, and rounds left in the episode\n",
        "    b = GridworldBoard(self.batch_size, self.n_rows, self.n_cols,\n",
        "                       self.num_food, self.lifetime)\n",
        "    return b.get_init_board_state()\n",
        "\n",
        "\n",
        "  def get_board_size(self):\n",
        "    \"\"\"Shape of a sinlge board, doesn't give batch size\"\"\"\n",
        "    return (self.n_rows, self.n_cols)\n",
        "\n",
        "\n",
        "  def get_action_size(self):\n",
        "    \"\"\"\n",
        "    Returns the number of all possible actions, even though only  2-4 of\n",
        "    these will ever be valid on a given turn.\n",
        "    Actions correspond to integer indexes of board locations,\n",
        "    moves to g,x,y coordinate indexes of board locations\n",
        "    \"\"\"\n",
        "    return self.n_rows * self.n_cols\n",
        "\n",
        "\n",
        "  def get_batch_size(self):\n",
        "    \"\"\"\n",
        "    Returns the number of actions, only 2-4 of these will ever be valid.\n",
        "    Actions correspond to integer indexes of board locations,\n",
        "    moves to x,y indexes of board locations\n",
        "    \"\"\"\n",
        "    return self.batch_size\n",
        "\n",
        "\n",
        "  def string_rep(self, board, g):\n",
        "    \"\"\" A bytestring representation board g's state in the batch of boards\"\"\"\n",
        "    return board[0][g].tobytes() + board[1][g].tobytes() + board[2][g].tobytes()\n",
        "\n",
        "\n",
        "  def string_rep_readable(self, board, g):\n",
        "    \"\"\" A human readable representation board g's state in the batch of boards\"\"\"\n",
        "    board_s = \"\".join([self.square_content[square] for row in board[0][g] for square in row])\n",
        "    board_s = board_s + '_' + str(board[1][g])\n",
        "    board_s = board_s + '_' + str(board[2][g])\n",
        "    return board_s\n",
        "\n",
        "\n",
        "  def get_scores(self, board):\n",
        "    return board[1].copy()\n",
        "\n",
        "\n",
        "  def get_rounds_left(self, board):\n",
        "    return board[2].copy()\n",
        "\n",
        "\n",
        "  def display(self, board, g):\n",
        "    \"\"\"Dispalys the g-th games in the batch of boards\"\"\"\n",
        "    print(\"   \", end=\"\")\n",
        "    for y in range(self.n_cols):\n",
        "      print(y, end=\" \")\n",
        "    print(\"\")\n",
        "    print(\"-----------------------\")\n",
        "    for y in range(self.n_cols):\n",
        "      print(y, \"|\", end=\"\")    # Print the row\n",
        "      for x in range(self.n_rows):\n",
        "        piece = board[0][g][y][x]    # Get the piece to print\n",
        "        print(GridworldGame.square_content[piece], end=\" \")\n",
        "      print(\"|\")\n",
        "    print(\"-----------------------\")\n",
        "    print(\"Rounds Left: \" + str(board[2][g]))\n",
        "    print(\"Score: \" + str(board[1][g]))\n",
        "\n",
        "\n",
        "  def get_valid_actions(self, board):\n",
        "    \"\"\"\n",
        "    A Helper function to translate the g,x,y, tuples provided the\n",
        "    GridworldBoard.get_legal_moves method into valid actions, represented\n",
        "    as binary vectors of len num_actions.\n",
        "\n",
        "    Args:\n",
        "      board: a triple of np arrays representing board state\n",
        "        pieces,       - batch_size x n_rows x n_cols\n",
        "        scores,       - batch_size\n",
        "        rounds_left   - batch_size\n",
        "\n",
        "    Returns:\n",
        "      valids: np.ndarray(binary) batch_size x num_actions, 1's represent\n",
        "              valid moves\n",
        "    \"\"\"\n",
        "    batch_size, n_rows, n_cols = board[0].shape\n",
        "    b = GridworldBoard(batch_size, n_rows, n_cols,\n",
        "                       self.num_food, self.lifetime)\n",
        "    b.set_state(board)\n",
        "    legal_moves =  b.get_legal_moves()\n",
        "    valids = np.zeros((batch_size, n_rows * n_cols))\n",
        "    for ii, g in enumerate(legal_moves[:,1:,:]):\n",
        "      for x,y in zip(g[0],g[1]):\n",
        "        valids[ii, x*self.n_cols+y] = 1\n",
        "    return valids\n",
        "\n",
        "\n",
        "  def display_moves(self, board, g):\n",
        "    \"\"\"Dispaly possible moves for the g-th games in the batch of boards\"\"\"\n",
        "    batch_size, n_rows, n_cols = board[0].shape\n",
        "    A=np.reshape(self.get_valid_actions(board)[g], (n_rows, n_cols))\n",
        "    print(\"  \")\n",
        "    print(\"possible moves\")\n",
        "    print(\"   \", end=\"\")\n",
        "    for y in range(self.n_cols):\n",
        "      print(y, end=\" \")\n",
        "    print(\"\")\n",
        "    print(\"-----------------------\")\n",
        "    for y in range(self.n_cols):\n",
        "      print(y, \"|\", end=\"\")    # Print the row\n",
        "      for x in range(self.n_rows):\n",
        "        piece = A[y][x]    # Get the piece to print\n",
        "        print(GridworldGame.square_content[piece], end=\" \")\n",
        "      print(\"|\")\n",
        "    print(\"-----------------------\")\n",
        "\n",
        "\n",
        "  def get_next_state(self, board, actions, a_indx=None):\n",
        "    \"\"\"\n",
        "    Helper function using GridworldBoard.execute_moves to update board state\n",
        "    given actions on a batch of boards\n",
        "\n",
        "\n",
        "    Args:\n",
        "      board: a triple of np arrays representing board state\n",
        "        pieces,       - batch_size x n_rows x n_cols\n",
        "        scores,       - batch_size\n",
        "        rounds_left   - batch_size\n",
        "      actions: list of integer indexes of critter's new board positions\n",
        "      a_indx: list of integer indexes indicating which actions are being taken\n",
        "        on which boards in the batch\n",
        "\n",
        "    Returns:\n",
        "      a board tiple signifying next state\n",
        "\n",
        "    Note:\n",
        "      if len(actions) > batch_size of board the returned board state will have\n",
        "      an expanded batch size, allowing multiple paths in the game tree to be\n",
        "      explored in parellel\n",
        "\n",
        "    \"\"\"\n",
        "    batch_size, n_rows, n_cols = board[0].shape\n",
        "    if board[2][0] <= 0:\n",
        "      # assumes all boards in the batch have the same rounds left\n",
        "      # no rounds left return the board unchanged\n",
        "      return board\n",
        "    else:\n",
        "      moves = (np.arange(len(actions)),\n",
        "               np.floor_divide(actions, n_cols),\n",
        "               np.remainder(actions, n_cols))\n",
        "      b = GridworldBoard(len(actions), n_rows, n_cols,\n",
        "                         self.num_food, self.lifetime)\n",
        "      if a_indx is None:\n",
        "        # just one move on each board in the batch\n",
        "        assert batch_size == len(actions)\n",
        "        b.set_state(board)\n",
        "      else:\n",
        "        # potentially multiple moves on each board, expand the batch\n",
        "        assert len(actions) == len(a_indx)\n",
        "        newPieces = np.array([board[0][ai].copy() for ai in a_indx])\n",
        "        newScores = np.array([board[1][ai].copy() for ai in a_indx])\n",
        "        newrounds_left = np.array([board[2][ai].copy() for ai in a_indx])\n",
        "        b.set_state((newPieces, newScores, newrounds_left))\n",
        "      b.execute_moves(moves)\n",
        "      return b.get_state()\n",
        "\n",
        "\n",
        "  def get_game_ended(self, board):\n",
        "    \"\"\"\n",
        "    Helper function to signify if game has ended\n",
        "\n",
        "    Args:\n",
        "      board: a triple of np arrays representing board state\n",
        "        pieces,       - batch_size x n_rows x n_cols\n",
        "        scores,       - batch_size\n",
        "        rounds_left   - batch_size\n",
        "\n",
        "    Returns:\n",
        "      batch size np.array of -1 if not ended, and scores for\n",
        "      each game in the batch if it is ended\n",
        "    \"\"\"\n",
        "    rounds_left = board[2]\n",
        "    scores = board[1]\n",
        "    if np.any(rounds_left >= 1):\n",
        "      return np.ones(self.batch_size) * -1.0\n",
        "    else:\n",
        "      return scores\n",
        "\n",
        "\n",
        "def init_state(n_rows=7,\n",
        "              n_cols=7,\n",
        "              num_food=10,\n",
        "              rc_critter=None):\n",
        "  state = {'num_moves': 0,\n",
        "           'num_eats': 0,\n",
        "           'num_food': num_food,\n",
        "           'rc_food_loc': np.array([[]]),\n",
        "           'int_food_loc': np.array([]),\n",
        "           'n_rows': n_rows,\n",
        "           'n_cols': n_cols}\n",
        "\n",
        "  #randomly initialize food locations\n",
        "  if num_food > n_rows * n_cols -1:\n",
        "    state['num_food'] = n_rows * n_cols -1\n",
        "  state['int_food_loc'], state['rc_food_loc'] = init_loc(state['n_rows'],state['n_cols'],state['num_food'])\n",
        "\n",
        "  if rc_critter is None:\n",
        "    # put critter roughly in the middle\n",
        "    state['rc_critter_loc'] = np.array([[np.floor(state['n_rows']/2), np.floor(state['n_cols']/2)]], dtype=int)\n",
        "    state['int_critter_loc'] = np.ravel_multi_index((state['rc_critter_loc'][:,0],state['rc_critter_loc'][:,1]), (state['n_rows'], state['n_cols']))\n",
        "  else:\n",
        "    state['rc_critter_loc'] = np.array(rc_critter).reshape((1,2))\n",
        "    state['int_critter_loc'] = np.ravel_multi_index((state['rc_critter_loc'][:,0],state['rc_critter_loc'][:,1]), (state['n_rows'], state['n_cols']))\n",
        "  return state\n",
        "\n",
        "state = init_state()\n",
        "\n",
        "def update_critter_location(x, y):\n",
        "  state['num_moves'] = state['num_moves'] + 1\n",
        "  state['rc_critter_loc'] = np.array([[x,y]])\n",
        "  state['int_critter_loc'] = np.ravel_multi_index((state['rc_critter_loc'][:,0],state['rc_critter_loc'][:,1]), (state['n_rows'], state['n_cols']))\n",
        "\n",
        "def eating():\n",
        "  # is the critter on a food patch\n",
        "  if state['int_critter_loc'][0] in set(state['int_food_loc']):\n",
        "    #critter is on a food patch\n",
        "    state['num_eats'] = state['num_eats'] + 1\n",
        "    # figure out where the new food will go where there isn't already food\n",
        "    new_food_loc = np.random.choice(list(set(np.arange(state['n_rows']*state['n_cols'])) - set(state['int_food_loc'])))\n",
        "    #remove the eaten food\n",
        "    new_food_loc_set = set(state['int_food_loc'])\n",
        "    new_food_loc_set.remove(state['int_critter_loc'][0])\n",
        "    # add the new food\n",
        "    new_food_loc_set.add(new_food_loc)\n",
        "\n",
        "    #update state\n",
        "    state['int_food_loc'] = np.array(np.sort(list(new_food_loc_set)))\n",
        "    state['rc_food_loc'] = np.vstack(np.unravel_index(state['int_food_loc'], (state['n_rows'], state['n_cols']))).T\n",
        "    state['eating_string'] = ('You ate the food here, new food at ' + str(np.unravel_index(new_food_loc, (state['n_rows'], state['n_cols']))))\n",
        "  else:\n",
        "    state['eating_string'] = 'No food here'\n",
        "\n",
        "def update_state(x, y):\n",
        "  update_critter_location(x, y)\n",
        "  eating()\n",
        "  #print(state_dict['food_locationssUnravel'])\n",
        "\n",
        "output = widgets.Output()\n",
        "\n",
        "def plot_fig_from_scratch():\n",
        "  fig, ax = make_grid(state['n_rows'], state['n_cols'])\n",
        "  plot_food(fig, ax, state['rc_food_loc'])\n",
        "  plot_critter(fig, ax, state['rc_critter_loc'])\n",
        "  fig.legend(loc = \"outside right upper\")\n",
        "  plt.show()\n",
        "\n",
        "up_button = widgets.Button(description=\"Up\")\n",
        "down_button = widgets.Button(description=\"Down\")\n",
        "left_button = widgets.Button(description=\"Left\")\n",
        "right_button = widgets.Button(description=\"Right\")\n",
        "random_movement = widgets.Checkbox(\n",
        "    value=False,\n",
        "    description='Move Randomly',\n",
        "    disabled=False,\n",
        "    indent=False\n",
        ")\n",
        "\n",
        "def random_click():\n",
        "  move = np.random.randint(0,4)\n",
        "  if move == 0:\n",
        "    up_button.click()\n",
        "  elif move == 1:\n",
        "    down_button.click()\n",
        "  elif move == 2:\n",
        "    left_button.click()\n",
        "  elif move == 3:\n",
        "    right_button.click()\n",
        "  else:\n",
        "    print('should not happen')\n",
        "\n",
        "\n",
        "class Timer:\n",
        "  def __init__(self, timeout, callback):\n",
        "    self._timeout = timeout\n",
        "    self._callback = callback\n",
        "  async def _job(self):\n",
        "    await asyncio.sleep(self._timeout)\n",
        "    self._callback()\n",
        "  def start(self):\n",
        "    self._task = asyncio.ensure_future(self._job())\n",
        "  def cancel(self):\n",
        "    self._task.cancel()\n",
        "\n",
        "click_timer = Timer(5.0, random_click)\n",
        "\n",
        "def button_output_update(which_button, x, y):\n",
        "  with output:\n",
        "    if random_movement.value == True:\n",
        "      if hasattr(click_timer, '__Task'):\n",
        "        click_timer.cancel()\n",
        "    output.clear_output(wait=True)\n",
        "    print(\"Moved \" + which_button + \". \" + \"Criter is now at ({}, {}).\".format(x,y))\n",
        "    print(state['eating_string'])\n",
        "    print(\"Moves: {0} \\tFood Eaten: {1} \\tFood Per Move: {2}\".format(state['num_moves'], state['num_eats'], state['num_eats'] / state['num_moves']))\n",
        "    plot_fig_from_scratch()\n",
        "    if random_movement.value == True:\n",
        "      click_timer.start()\n",
        "\n",
        "def on_up_button_clicked(b):\n",
        "  which_button = 'up'\n",
        "  x = state['rc_critter_loc'][0][0]\n",
        "  y = state['rc_critter_loc'][0][1]\n",
        "  if y >= state['n_cols']-1:\n",
        "    y = state['n_cols'] - 2\n",
        "  elif y < state['n_cols']-1:\n",
        "    y = y+1\n",
        "  update_state(x, y)\n",
        "  button_output_update(which_button, x, y)\n",
        "\n",
        "def on_down_button_clicked(b):\n",
        "  which_button = 'down'\n",
        "  x = state['rc_critter_loc'][0][0]\n",
        "  y = state['rc_critter_loc'][0][1]\n",
        "  if y > 0 :\n",
        "    y = y-1\n",
        "  elif y <= 0:\n",
        "    y = 1\n",
        "  update_state(x, y)\n",
        "  button_output_update(which_button, x, y)\n",
        "\n",
        "def on_left_button_clicked(b):\n",
        "  which_button = 'left'\n",
        "  x = state['rc_critter_loc'][0][0]\n",
        "  y = state['rc_critter_loc'][0][1]\n",
        "  if x > 0 :\n",
        "    x = x-1\n",
        "  elif x <= 0:\n",
        "    x = 1\n",
        "  update_state(x, y)\n",
        "  button_output_update(which_button, x, y)\n",
        "\n",
        "def on_right_button_clicked(b):\n",
        "  which_button = 'right'\n",
        "  x = state['rc_critter_loc'][0][0]\n",
        "  y = state['rc_critter_loc'][0][1]\n",
        "  if x >= state['n_rows']-1:\n",
        "    x = state['n_rows'] - 2\n",
        "  elif x < state['n_rows']-1:\n",
        "    x = x+1\n",
        "  update_state(x, y)\n",
        "  button_output_update(which_button, x, y)\n",
        "\n",
        "up_button.on_click(on_up_button_clicked)\n",
        "down_button.on_click(on_down_button_clicked)\n",
        "left_button.on_click(on_left_button_clicked)\n",
        "right_button.on_click(on_right_button_clicked)"
      ]
    },
    {
      "cell_type": "code",
      "source": [
        "gwb = GridworldBoard(batch_size=4)\n",
        "gwb.get_init_board_state()"
      ],
      "metadata": {
        "id": "zQf22ILLQ6ca",
        "outputId": "a8bcbad8-f26d-4695-8f23-f2eae6fd9bc6",
        "colab": {
          "base_uri": "https://localhost:8080/"
        }
      },
      "execution_count": 4,
      "outputs": [
        {
          "output_type": "execute_result",
          "data": {
            "text/plain": [
              "(array([[[ 0.,  0.,  0.,  0., -1.,  0., -1.],\n",
              "         [ 0.,  0.,  0., -1.,  0.,  0.,  0.],\n",
              "         [ 0.,  0.,  0.,  0.,  0.,  0.,  0.],\n",
              "         [ 0.,  0., -1., -1.,  0.,  0.,  0.],\n",
              "         [ 0.,  0.,  0.,  0., -1.,  0.,  0.],\n",
              "         [ 0., -1.,  1., -1., -1.,  0.,  0.],\n",
              "         [ 0.,  0.,  0., -1.,  0.,  0.,  0.]],\n",
              " \n",
              "        [[ 0.,  0.,  0., -1., -1.,  0.,  0.],\n",
              "         [-1., -1.,  0., -1.,  0.,  0.,  0.],\n",
              "         [ 0.,  1.,  0.,  0.,  0.,  0.,  0.],\n",
              "         [ 0.,  0.,  0.,  0.,  0.,  0.,  0.],\n",
              "         [ 0.,  0.,  0.,  0.,  0.,  0., -1.],\n",
              "         [ 0.,  0.,  0., -1.,  0., -1.,  0.],\n",
              "         [ 0.,  0.,  0.,  0., -1.,  0., -1.]],\n",
              " \n",
              "        [[ 0.,  0., -1.,  0., -1.,  0., -1.],\n",
              "         [ 0.,  0., -1.,  0.,  0.,  0.,  0.],\n",
              "         [ 0.,  0.,  0., -1.,  0.,  0., -1.],\n",
              "         [ 0.,  0.,  0.,  0., -1.,  0.,  0.],\n",
              "         [ 0.,  0.,  0.,  0.,  0.,  0., -1.],\n",
              "         [-1.,  0.,  0.,  0.,  1.,  0.,  0.],\n",
              "         [ 0.,  0.,  0.,  0.,  0., -1.,  0.]],\n",
              " \n",
              "        [[-1.,  0.,  0.,  0.,  0.,  0.,  0.],\n",
              "         [ 0.,  0., -1., -1.,  0.,  0., -1.],\n",
              "         [ 0.,  0.,  0., -1.,  0.,  0.,  0.],\n",
              "         [ 0.,  0.,  0., -1.,  0.,  0.,  0.],\n",
              "         [-1.,  0.,  0.,  0.,  0.,  0., -1.],\n",
              "         [ 0.,  0.,  0.,  0.,  0.,  0.,  0.],\n",
              "         [ 0.,  0., -1.,  0.,  0.,  1., -1.]]]),\n",
              " array([0., 0., 0., 0.]),\n",
              " array([30., 30., 30., 30.]))"
            ]
          },
          "metadata": {},
          "execution_count": 4
        }
      ]
    },
    {
      "cell_type": "code",
      "source": [
        "moves = gwb.get_legal_moves()"
      ],
      "metadata": {
        "id": "zlAQohPWRCKC"
      },
      "execution_count": 5,
      "outputs": []
    },
    {
      "cell_type": "code",
      "source": [
        "moves[1,:,1]"
      ],
      "metadata": {
        "id": "DZUqi4ecRR_5",
        "outputId": "a246c489-785c-417a-8805-faddad00e8e8",
        "colab": {
          "base_uri": "https://localhost:8080/"
        }
      },
      "execution_count": 6,
      "outputs": [
        {
          "output_type": "execute_result",
          "data": {
            "text/plain": [
              "array([1, 1, 1])"
            ]
          },
          "metadata": {},
          "execution_count": 6
        }
      ]
    },
    {
      "cell_type": "code",
      "execution_count": 7,
      "metadata": {
        "cellView": "form",
        "execution": {},
        "id": "8zVAobIX0gku"
      },
      "outputs": [],
      "source": [
        "# @title Other Helper Functions\n",
        "# @markdown You don't need to worry about how this code works – but you do need to **run the cell**\n",
        "\n",
        "class dotdict(dict):\n",
        "  def __getattr__(self, name):\n",
        "    return self[name]\n",
        "\n",
        "def content_review(notebook_section: str):\n",
        "  return DatatopsContentReviewContainer(\n",
        "    \"\",  # No text prompt\n",
        "    notebook_section,\n",
        "    {\n",
        "      \"url\": \"https://pmyvdlilci.execute-api.us-east-1.amazonaws.com/klab\",\n",
        "      \"name\": \"neuro_book\",\n",
        "      \"user_key\": \"xuk960xj\",\n",
        "    },\n",
        "  ).render()"
      ]
    },
    {
      "cell_type": "markdown",
      "metadata": {
        "execution": {},
        "id": "PhauEW1l0gkx"
      },
      "source": [
        "# Micro 1.1.1.1: Initializing Gridworld\n",
        "\n",
        "Before we introduce an organism with **behaviour** we're going to build an **environment** for them to behave in. To start, this world will consist of a 7 x 7 grid of cells. Let's make a picture of that and see what it looks like."
      ]
    },
    {
      "cell_type": "code",
      "execution_count": 8,
      "metadata": {
        "execution": {},
        "id": "7Lhku6R_0gkz",
        "outputId": "1468a3e4-852b-4048-b217-b3e4b09f8847",
        "colab": {
          "base_uri": "https://localhost:8080/",
          "height": 237
        }
      },
      "outputs": [
        {
          "output_type": "error",
          "ename": "NotImplementedError",
          "evalue": "ignored",
          "traceback": [
            "\u001b[0;31m---------------------------------------------------------------------------\u001b[0m",
            "\u001b[0;31mNotImplementedError\u001b[0m                       Traceback (most recent call last)",
            "\u001b[0;32m<ipython-input-8-c71955344217>\u001b[0m in \u001b[0;36m<cell line: 6>\u001b[0;34m()\u001b[0m\n\u001b[1;32m      4\u001b[0m \u001b[0;31m## tool tip by hovering over the word make_grid to find out how to use it. You\u001b[0m\u001b[0;34m\u001b[0m\u001b[0;34m\u001b[0m\u001b[0m\n\u001b[1;32m      5\u001b[0m \u001b[0;31m## can also use the tool tip to view the source code. How does it work?\u001b[0m\u001b[0;34m\u001b[0m\u001b[0;34m\u001b[0m\u001b[0m\n\u001b[0;32m----> 6\u001b[0;31m \u001b[0;32mraise\u001b[0m \u001b[0mNotImplementedError\u001b[0m\u001b[0;34m(\u001b[0m\u001b[0;34m\"Student exercise: make grid using the make_grid function\"\u001b[0m\u001b[0;34m)\u001b[0m\u001b[0;34m\u001b[0m\u001b[0;34m\u001b[0m\u001b[0m\n\u001b[0m\u001b[1;32m      7\u001b[0m \u001b[0;31m############################################################################\u001b[0m\u001b[0;34m\u001b[0m\u001b[0;34m\u001b[0m\u001b[0m\n\u001b[1;32m      8\u001b[0m \u001b[0;34m\u001b[0m\u001b[0m\n",
            "\u001b[0;31mNotImplementedError\u001b[0m: Student exercise: make grid using the make_grid function"
          ]
        }
      ],
      "source": [
        "############################################################################\n",
        "## TO DO for students: replace ... with the correct arguments(inputs) is the\n",
        "## make_grid function below to a grid the right size and shape. You can use the\n",
        "## tool tip by hovering over the word make_grid to find out how to use it. You\n",
        "## can also use the tool tip to view the source code. How does it work?\n",
        "raise NotImplementedError(\"Student exercise: make grid using the make_grid function\")\n",
        "############################################################################\n",
        "\n",
        "fig, ax = make_grid(...)"
      ]
    },
    {
      "cell_type": "code",
      "execution_count": 12,
      "metadata": {
        "execution": {},
        "id": "uUZ055zF0gk0",
        "outputId": "df936602-658a-48ee-9e5c-dab9851ae0d4",
        "colab": {
          "base_uri": "https://localhost:8080/",
          "height": 628
        }
      },
      "outputs": [
        {
          "output_type": "display_data",
          "data": {
            "text/plain": [
              "<Figure size 700x600 with 1 Axes>"
            ],
            "image/png": "[encoded data removed]"
          },
          "metadata": {
            "image/png": {
              "width": 711,
              "height": 611
            }
          }
        }
      ],
      "source": [
        "# to_remove solution\n",
        "\n",
        "with plt.xkcd():\n",
        "  fig, ax = make_grid(7, 7)"
      ]
    },
    {
      "cell_type": "markdown",
      "metadata": {
        "execution": {},
        "id": "b_xwKLM70gk1"
      },
      "source": [
        "*Bonus*: Tweak the make_grid function in the Plotting Functions cell above to make the grid lines green."
      ]
    },
    {
      "cell_type": "markdown",
      "metadata": {
        "execution": {},
        "id": "MH9osrWj0gk3"
      },
      "source": [
        "Wow, what a boring environment. Let's add an organism and something for that organism to interact with. We'll start with 10 food items scattered randomly throughout the grid, never more than one food item per cell. To plot these food items we need their locations. We will set these by randomly sampling grid coordinates [without replacement](## \"never picking the same (x,y) coordinate pair twice\"). We'll place the organism in the same way and not on a food item to start."
      ]
    },
    {
      "cell_type": "code",
      "execution_count": 51,
      "metadata": {
        "execution": {},
        "id": "3LVbIaIO0gk4",
        "outputId": "ea7d315d-fb58-457c-bd54-f628535e5f7e",
        "colab": {
          "base_uri": "https://localhost:8080/",
          "height": 237
        }
      },
      "outputs": [
        {
          "output_type": "error",
          "ename": "NotImplementedError",
          "evalue": "ignored",
          "traceback": [
            "\u001b[0;31m---------------------------------------------------------------------------\u001b[0m",
            "\u001b[0;31mNotImplementedError\u001b[0m                       Traceback (most recent call last)",
            "\u001b[0;32m<ipython-input-51-16f440e70e84>\u001b[0m in \u001b[0;36m<cell line: 5>\u001b[0;34m()\u001b[0m\n\u001b[1;32m      3\u001b[0m \u001b[0;31m# food item locations, in coordinates that make sense for our grid environment\u001b[0m\u001b[0;34m\u001b[0m\u001b[0;34m\u001b[0m\u001b[0m\n\u001b[1;32m      4\u001b[0m \u001b[0;31m# then comment out or remove the next line.\u001b[0m\u001b[0;34m\u001b[0m\u001b[0;34m\u001b[0m\u001b[0m\n\u001b[0;32m----> 5\u001b[0;31m \u001b[0;32mraise\u001b[0m \u001b[0mNotImplementedError\u001b[0m\u001b[0;34m(\u001b[0m\u001b[0;34m\"Exercise: initialize food and critter locations\"\u001b[0m\u001b[0;34m)\u001b[0m\u001b[0;34m\u001b[0m\u001b[0;34m\u001b[0m\u001b[0m\n\u001b[0m\u001b[1;32m      6\u001b[0m \u001b[0;31m################################################################################\u001b[0m\u001b[0;34m\u001b[0m\u001b[0;34m\u001b[0m\u001b[0m\n\u001b[1;32m      7\u001b[0m \u001b[0;32mdef\u001b[0m \u001b[0minit_loc\u001b[0m\u001b[0;34m(\u001b[0m\u001b[0mn_rows\u001b[0m\u001b[0;34m,\u001b[0m \u001b[0mn_cols\u001b[0m\u001b[0;34m,\u001b[0m \u001b[0mnum\u001b[0m\u001b[0;34m)\u001b[0m\u001b[0;34m:\u001b[0m\u001b[0;34m\u001b[0m\u001b[0;34m\u001b[0m\u001b[0m\n",
            "\u001b[0;31mNotImplementedError\u001b[0m: Exercise: initialize food and critter locations"
          ]
        }
      ],
      "source": [
        "################################################################################\n",
        "# TODO for students: replace ... in init_loc(...) to initialize the right number of\n",
        "# food item locations, in coordinates that make sense for our grid environment\n",
        "# then comment out or remove the next line.\n",
        "raise NotImplementedError(\"Exercise: initialize food and critter locations\")\n",
        "################################################################################\n",
        "def init_loc(n_rows, n_cols, num):\n",
        "  \"\"\"\n",
        "  Samples random 2d grid locations, without replacement,\n",
        "\n",
        "  Returns:\n",
        "    int_loc: ndarray(int) of flat indices for a grid\n",
        "    rc_index: (ndarray(int), ndarray(int)) a pair of arrays the first\n",
        "      giving the row indices, the second giving the col indices, useful\n",
        "      for indexing an n_rows by n_cols numpy array\n",
        "    rc_plotting: ndarray(int) num x 2, same rc coordinates but structured\n",
        "      in the way that matplotlib likes\n",
        "  \"\"\"\n",
        "  int_loc = np.random.choice(n_rows * n_cols, num, replace=False)\n",
        "  rc_index = np.unravel_index(int_loc, (n_rows, n_cols))\n",
        "  rc_plotting = np.fliplr(np.array(rc_index).T)\n",
        "  return int_loc, rc_index, rc_plotting\n",
        "\n",
        "fig, ax = make_grid(7, 7)\n",
        "int_locs, rc_index, rc_plotting = init_loc(...)\n",
        "\n",
        "rc_critter_loc = rc_plotting[0]\n",
        "plot_critter(fig, ax, rc_critter_loc, 7)\n",
        "\n",
        "rc_food_loc = rc_plotting[...]\n",
        "plot_food(fig, ax, rc_food_loc, 7)\n",
        "\n",
        "fig.legend(loc='outside right upper')"
      ]
    },
    {
      "cell_type": "code",
      "execution_count": 52,
      "metadata": {
        "execution": {},
        "id": "oeL8iE2Y0gk5",
        "outputId": "f013e119-10d0-4ad6-957f-a2733fd03f25",
        "colab": {
          "base_uri": "https://localhost:8080/",
          "height": 628
        }
      },
      "outputs": [
        {
          "output_type": "display_data",
          "data": {
            "text/plain": [
              "<Figure size 700x600 with 1 Axes>"
            ],
            "image/png": "[encoded data removed]"
          },
          "metadata": {
            "image/png": {
              "width": 707,
              "height": 611
            }
          }
        }
      ],
      "source": [
        "#to_remove solution\n",
        "def init_loc(n_rows, n_cols, num):\n",
        "  \"\"\"\n",
        "  Samples random 2d grid locations, without replacement,\n",
        "\n",
        "  Returns:\n",
        "    int_loc: ndarray(int) of flat indices for a grid\n",
        "    rc_index: (ndarray(int), ndarray(int)) a pair of arrays the first\n",
        "      giving the row indices, the second giving the col indices, useful\n",
        "      for indexing an n_rows by n_cols numpy array\n",
        "    rc_plotting: ndarray(int) num x 2, same rc coordinates but structured\n",
        "      in the way that matplotlib likes\n",
        "  \"\"\"\n",
        "  int_loc = np.random.choice(n_rows * n_cols, num, replace=False)\n",
        "  rc_index = np.unravel_index(int_loc, (n_rows, n_cols))\n",
        "  rc_plotting = np.fliplr(np.array(rc_index).T)\n",
        "  return int_loc, rc_index, rc_plotting\n",
        "\n",
        "with plt.xkcd():\n",
        "  fig, ax = make_grid(7, 7)\n",
        "  int_locs, rc_index, rc_plotting = init_loc(7, 7, 11)\n",
        "\n",
        "  rc_critter = (rc_plotting[0])\n",
        "  plot_critter(fig, ax, rc_critter, 7)\n",
        "\n",
        "  rc_food = rc_plotting[1:]\n",
        "  plot_food(fig, ax, rc_food, 7)\n",
        "\n",
        "  fig.legend(loc='outside right upper')"
      ]
    },
    {
      "cell_type": "code",
      "execution_count": 53,
      "metadata": {
        "cellView": "form",
        "execution": {},
        "id": "WaFgAcDd0gk6",
        "outputId": "69f145d9-ac80-46eb-d3c5-1afc3da8ca80",
        "colab": {
          "base_uri": "https://localhost:8080/",
          "height": 81,
          "referenced_widgets": [
            "b53a5344a78b4f438c03b7a2593c3659",
            "577def3b5e6544aa8b8f41eec766252a",
            "088f930121c54ca3b59912ccc4478a15",
            "9d434f1f5c8e4b9fae237bad7c8e59da",
            "137cbad6d9f54239b47b39a3e2c1be8a",
            "0aed7128ab554ad2b4de218bec2db4e7",
            "8d68e6ac861d42f590dc73eda60bf4b1",
            "d14c0af615904db9b925da1575c82b1f",
            "200f733b40ad49b5803eff809df41b42",
            "b5b5762d5f8b462e9916a33a559bd2c5",
            "bd059ca871004c96beac5e9ff71ddbed",
            "eabe2576d0614a46aa95c558e8c6df1b",
            "7c8a2fade073463dbdff881d464a43e0",
            "53f5fe580f97466da767b7b1243f7154",
            "92869dbadcdd43b1a86914296585b2e5",
            "784fbdf88bac497eb5c240133fbcd520",
            "527bda2fd50d4c428a19bf97bbf5163c",
            "b5c56be369bc4dc090e2dabfd6b9dccc",
            "e58a4983ba8f47b4957084bcd646c223",
            "76d1bc4836464fd1a9767f39315d8cf2",
            "b2c72aff71b64603acbf1fd80823aa82",
            "76d183c4a8cb4822876f1753223ecf44",
            "c50cf96efe3e4d5e935bdf0fa90eda22",
            "ae82914f697449588f95a4452e6614e0",
            "950168afeb46496aba29154545a2600b",
            "c8af22fadef64d9a96e0dbed3c6af1f6",
            "214a02cf781a4863b78ceae73f0590bf"
          ]
        }
      },
      "outputs": [
        {
          "output_type": "display_data",
          "data": {
            "text/plain": [
              "VBox(children=(Label(value=''), HBox(children=(Button(description='🙂', layout=Layout(height='auto', width='aut…"
            ],
            "application/vnd.jupyter.widget-view+json": {
              "version_major": 2,
              "version_minor": 0,
              "model_id": "b53a5344a78b4f438c03b7a2593c3659"
            }
          },
          "metadata": {}
        }
      ],
      "source": [
        "# @markdown Vibe Check\n",
        "content_review(\"Sequence 1.1.1 Micro 1\")"
      ]
    },
    {
      "cell_type": "markdown",
      "metadata": {
        "execution": {},
        "id": "nHpKtdRW0gk6"
      },
      "source": [
        "---\n",
        "# Micro 1.1.1.2: Random Eating"
      ]
    },
    {
      "cell_type": "markdown",
      "metadata": {
        "execution": {},
        "id": "2AoXixtC0gk7"
      },
      "source": [
        "Now that we have an environment scattered with food and an organism, let's introduce some behaviour. The organism drifts around the environment randomly and eats the food it happens to stumble upon. (Can you think of any organisms that employ this strategy?). When food is eaten, the organism gets a **reward**, in this case a *Food Eaten* point, and a new food item appears randomly somewhere else in the environment (that doesn't already have food). Run the code cell below to see what this looks like."
      ]
    },
    {
      "cell_type": "code",
      "execution_count": null,
      "metadata": {
        "cellView": "form",
        "execution": {},
        "tags": [],
        "id": "mZ3meM7p0gk8"
      },
      "outputs": [],
      "source": [
        "# @title Random Movement\n",
        "# @markdown You don't need to worry about how this code works, yet – just **run the cell** for now and watch what happens\n",
        "display(output)\n",
        "\n",
        "# 20 random button presses, one every ~3 seconds\n",
        "state = init_state(n_rows=7, n_cols=7, num_food=10)\n",
        "for ii in range(30):\n",
        "  random_click()\n",
        "  time.sleep(0.1)"
      ]
    },
    {
      "cell_type": "markdown",
      "metadata": {
        "execution": {},
        "id": "SmKx-q8i0gk9"
      },
      "source": [
        "*Question:* When the organism is just drifting around randomly how good is it at eating lots of food, what is its efficiency in terms of food per movement? Now run the cell above a few more times. Does the organism always eat the same amount of food or does it change between simulation runs?"
      ]
    },
    {
      "cell_type": "code",
      "execution_count": null,
      "metadata": {
        "execution": {},
        "id": "Foz9O5AF0gk-"
      },
      "outputs": [],
      "source": [
        "# to_remove explanation\n",
        "\n",
        "\"\"\"\n",
        "The amount of food eaten varies a lot from simulation run to simulation run,\n",
        "usually it manages to eat one or two pieces of food, sometimes more sometimes less.\n",
        "\"\"\""
      ]
    },
    {
      "cell_type": "markdown",
      "metadata": {
        "execution": {},
        "id": "UdUUFIi10gk-"
      },
      "source": [
        "Before we move on it's important to test that our simulation is running as we expect. Randomness can make testing hard, but can overcome in part by setting up the environment in such a way that the outcome becomes deterministic. In the two cells bellow change how the the Gridworld is initialized. By alterning the size, shape and number of food items available create a scenario where the organism will always achieve perfect efficnency and a scenario where the organism will fail completely."
      ]
    },
    {
      "cell_type": "code",
      "execution_count": null,
      "metadata": {
        "execution": {},
        "id": "_zCaaPyh0gk-"
      },
      "outputs": [],
      "source": [
        "###############################################################################\n",
        "# TODO for students: replace ... in init_state(...) to initialize a grid world\n",
        "# where the organism is always 100% efficient.\n",
        "raise NotImplementedError(\"Exercise: make random movement 100% efficient\")\n",
        "################################################################################\n",
        "\n",
        "display(output)\n",
        "\n",
        "# 20 random moves, one every ~0.1 seconds\n",
        "state = init_state(...)\n",
        "for ii in range(30):\n",
        "  random_click()\n",
        "  time.sleep(0.1)"
      ]
    },
    {
      "cell_type": "code",
      "execution_count": null,
      "metadata": {
        "execution": {},
        "tags": [],
        "id": "nYZGzcES0gk_"
      },
      "outputs": [],
      "source": [
        "#to_remove solution\n",
        "\n",
        "display(output)\n",
        "\n",
        "# 20 random moves, one every ~0.1 seconds\n",
        "state = init_state(n_rows=3, n_cols=2, num_food=5)\n",
        "for ii in range(30):\n",
        "  random_click()\n",
        "  time.sleep(0.1)"
      ]
    },
    {
      "cell_type": "code",
      "execution_count": null,
      "metadata": {
        "execution": {},
        "id": "Zevl3iOn0glB"
      },
      "outputs": [],
      "source": [
        "###############################################################################\n",
        "# TODO for students: replace ... in init_state(...) to initialize a grid world\n",
        "# where the organism is always 0% efficient.\n",
        "raise NotImplementedError(\"Exercise: make random movement 0% efficient\")\n",
        "################################################################################\n",
        "\n",
        "display(output)\n",
        "\n",
        "# 20 random button presses, one every ~0.1 seconds\n",
        "state = init_state(...)\n",
        "for ii in range(30):\n",
        "  random_click()\n",
        "  time.sleep(0.1)"
      ]
    },
    {
      "cell_type": "code",
      "execution_count": null,
      "metadata": {
        "execution": {},
        "tags": [],
        "id": "OxuJRiVk0glC"
      },
      "outputs": [],
      "source": [
        "#to_remove solution\n",
        "\n",
        "display(output)\n",
        "\n",
        "# 20 random button presses, one every ~0.1 seconds\n",
        "state = init_state(n_rows=7, n_cols=7, num_food=0)\n",
        "for ii in range(30):\n",
        "  random_click()\n",
        "  time.sleep(0.1)"
      ]
    },
    {
      "cell_type": "code",
      "execution_count": null,
      "metadata": {
        "cellView": "form",
        "execution": {},
        "id": "mZfpieSC0glD"
      },
      "outputs": [],
      "source": [
        "# @markdown Vibe Check\n",
        "content_review(\"Sequence 1.1.1 Micro 2\")"
      ]
    },
    {
      "cell_type": "markdown",
      "metadata": {
        "execution": {},
        "id": "C1I1zdN00glD"
      },
      "source": [
        "---\n",
        "# Micro 1.1.1.3: Better Than Random Eating\n",
        "Now it's your turn to control the organism. Run the next cell and see how much more efficient than random drifting your control of the organism is in terms of food per movement."
      ]
    },
    {
      "cell_type": "code",
      "execution_count": null,
      "metadata": {
        "cellView": "form",
        "execution": {},
        "tags": [],
        "id": "c8DN43UZ0glD"
      },
      "outputs": [],
      "source": [
        "# @title Controlled Movement\n",
        "# @markdown You don't need to worry about how this code works – just **run the cell** and then use the buttons to guide the organism\n",
        "\n",
        "# user in control\n",
        "state = init_state(n_rows=7, n_cols=7, num_food=10)\n",
        "with output:\n",
        "  output.clear_output(wait=True)\n",
        "  print('Press a button')\n",
        "  plot_fig_from_scratch()\n",
        "display(widgets.HBox([left_button, widgets.VBox([up_button, down_button]), right_button]), output)"
      ]
    },
    {
      "cell_type": "markdown",
      "metadata": {
        "execution": {},
        "id": "8775ghdb0glE"
      },
      "source": [
        "Hopefully your performance was more successful than random flailing. Even in this relatively simple and contrived foraging scenario intelligence can help a lot. What kinds of strategies and heuristics did you use to guide your choice of direction? Essentially, the fundamental purpose of a nervous system and a brain is to solve problems of this kind—deciding which actions to take based on environmental inputs to maximize rewards."
      ]
    },
    {
      "cell_type": "code",
      "execution_count": null,
      "metadata": {
        "cellView": "form",
        "execution": {},
        "id": "0EnS0bN-0glE"
      },
      "outputs": [],
      "source": [
        "# @markdown Vibe Check\n",
        "content_review(\"Sequence 1.1.1 Micro 3\")"
      ]
    },
    {
      "cell_type": "markdown",
      "metadata": {
        "execution": {},
        "id": "RWZ3OAjZ0glF"
      },
      "source": [
        "---\n",
        "# Micro 1.1.1.4: Optimal Eating\n",
        "Finally we'd like to introduce a time traveling super organism, GW7x7-10-30, from the last chapter of this book. GW7x7-10-30 has absolutely mastered 7x7 Gridworld, with 10 food items and a 30 round duration. Run the next cell and see how efficient a highly optimized and specialized Gridworld organism can be. Are you as good as gw7x7-10-30? If not, you gotta read this book 😉 (If you can't beat the AIs, at least learn how to program them.)"
      ]
    },
    {
      "cell_type": "markdown",
      "metadata": {
        "execution": {},
        "id": "gJAY18u40glG"
      },
      "source": [
        "(Last chapter not made yet so working on a minimal sketch/skeleton version to produce this agent)"
      ]
    },
    {
      "cell_type": "code",
      "execution_count": null,
      "metadata": {
        "cellView": "form",
        "execution": {},
        "id": "TVCx5Vy-0glG"
      },
      "outputs": [],
      "source": [
        "# @title Optimal Movement\n",
        "# @markdown You don't need to worry about how this code works – just **run the cell** to watch the super organism behave. See if you can outperform them.\n",
        "\n",
        "# master organism in control"
      ]
    },
    {
      "cell_type": "code",
      "execution_count": null,
      "metadata": {
        "cellView": "form",
        "execution": {},
        "id": "ksuLXPBl0glH"
      },
      "outputs": [],
      "source": [
        "# @markdown Vibe Check\n",
        "content_review(\"Sequence 1.1.1 Micro 4\")"
      ]
    },
    {
      "cell_type": "markdown",
      "metadata": {
        "execution": {},
        "id": "undCdl9Z0glH"
      },
      "source": [
        "---\n",
        "# Graveyard\n"
      ]
    },
    {
      "cell_type": "markdown",
      "metadata": {
        "execution": {},
        "id": "LJQOB9ji0glI"
      },
      "source": [
        "Useful scavenging from github and SO"
      ]
    },
    {
      "cell_type": "code",
      "execution_count": null,
      "metadata": {
        "execution": {},
        "id": "mhnIfi-r0glJ"
      },
      "outputs": [],
      "source": [
        "out = widgets.Output(layout=widgets.Layout(height='300px'))\n",
        "\n",
        "x = np.linspace(0,1,100)\n",
        "\n",
        "def update_plot(w):\n",
        "    with out:\n",
        "        # Without clear_output(), figures get appended below each other inside\n",
        "        # the output widget\n",
        "        # Ah ha! Got it! I need wait=True!\n",
        "        out.clear_output(wait=True)\n",
        "        plt.plot(x, x**p_widget.value)\n",
        "        plt.show()\n",
        "\n",
        "p_widget = widgets.FloatSlider(min=0, max=2, step=0.1, value = 1)\n",
        "update_plot([])\n",
        "p_widget.observe(update_plot)\n",
        "display(p_widget, out)"
      ]
    },
    {
      "cell_type": "code",
      "execution_count": null,
      "metadata": {
        "execution": {},
        "id": "NXU9Iptk0glJ"
      },
      "outputs": [],
      "source": [
        "import ipywidgets as widgets\n",
        "\n",
        "x = 0\n",
        "y = {\"x\": 0}\n",
        "b = widgets.Button(description=\"Do it\")\n",
        "\n",
        "def doit(obj):\n",
        "    print(x, y)\n",
        "    # x += 1 # uncommenting makes the above print fail\n",
        "    y[\"x\"] += 1 # this is ok\n",
        "\n",
        "b.on_click(doit)\n",
        "display(b)"
      ]
    },
    {
      "cell_type": "code",
      "execution_count": null,
      "metadata": {
        "execution": {},
        "tags": [],
        "id": "UqZm5lae0glK"
      },
      "outputs": [],
      "source": [
        "# how to get figures to work in this context nicely???\n",
        "a = widgets.FloatSlider(description='a', min=0, max=10)\n",
        "b = widgets.FloatSlider(description='b', min=0, max=10)\n",
        "c = widgets.FloatSlider(description='c', min=0, max=10)\n",
        "\n",
        "def f(a, b, c):\n",
        "    print('{}*{}*{}={}'.format(a, b, c, a*b*c))\n",
        "\n",
        "out = widgets.interactive_output(f, {'a': a, 'b': b, 'c': c})\n",
        "\n",
        "widgets.HBox([widgets.VBox([a, b, c]), out])"
      ]
    },
    {
      "cell_type": "code",
      "execution_count": null,
      "metadata": {
        "execution": {},
        "id": "p7qXSBtT0glL"
      },
      "outputs": [],
      "source": [
        "from matplotlib import animation, rc, patches\n",
        "from IPython.display import HTML"
      ]
    },
    {
      "cell_type": "code",
      "execution_count": null,
      "metadata": {
        "execution": {},
        "id": "gLAsY9Eu0glL"
      },
      "outputs": [],
      "source": [
        "# First set up the figure, the axis, and the plot element we want to animate\n",
        "fig, ax = plt.subplots()\n",
        "\n",
        "ax.set_xticks(np.arange(0, 11, 1))\n",
        "ax.set_yticks(np.arange(0, 11, 1))\n",
        "\n",
        "# Labels for major ticks\n",
        "ax.set_xticklabels(np.arange(0, 11, 1))\n",
        "ax.set_yticklabels(np.arange(0, 11, 1))\n",
        "\n",
        "# Minor ticks\n",
        "ax.set_xticks(np.arange(1.5, 10.5, 1), minor=True)\n",
        "ax.set_yticks(np.arange(1.5, 10.5, 1), minor=True)\n",
        "\n",
        "# Gridlines based on minor ticks\n",
        "ax.grid(which='minor', color='grey', linestyle='-', linewidth=2, alpha=0.5)\n",
        "\n",
        "# Remove minor ticks\n",
        "ax.tick_params(which='minor', bottom=False, left=False)\n",
        "\n",
        "ax.set_xlim(( 0.5, 10.5))\n",
        "ax.set_ylim(( 0.5, 10.5))\n",
        "\n",
        "#ax.axis(\"equal\")\n",
        "scatter = ax.scatter([], [])\n",
        "#critterCircle = plt.Circle((5,5), 0.4)\n",
        "#dot = ax.add_patch(critterCircle)\n",
        "#scatter.set_offsets([[5, 5]])\n",
        "\n",
        "scatter.set_offsets([[3, 11-3]])\n",
        "#fig.canvas.draw()\n",
        "#fig.canvas.flush_events()"
      ]
    },
    {
      "cell_type": "code",
      "execution_count": null,
      "metadata": {
        "execution": {},
        "id": "_viWkpYC0glM"
      },
      "outputs": [],
      "source": [
        "def init():\n",
        "    scatter.set_offsets([[5, 5]])\n",
        "    return scatter,"
      ]
    },
    {
      "cell_type": "code",
      "execution_count": null,
      "metadata": {
        "execution": {},
        "id": "bG7ZifLj0glM"
      },
      "outputs": [],
      "source": [
        "def animate_dot(i):\n",
        "    print(i)\n",
        "    x = i\n",
        "    y = 11-i\n",
        "    scatter.set_offsets([[x, y]])\n",
        "    return scatter,"
      ]
    },
    {
      "cell_type": "code",
      "execution_count": null,
      "metadata": {
        "execution": {},
        "id": "tv-cuLC90glN"
      },
      "outputs": [],
      "source": [
        "# call the animator. blit=True means only re-draw the parts that have changed.\n",
        "anim = animation.FuncAnimation(fig, animate_dot, init_func=init,\n",
        "                               frames=(np.arange(10)+1), interval=500, blit=True)"
      ]
    },
    {
      "cell_type": "code",
      "execution_count": null,
      "metadata": {
        "execution": {},
        "tags": [],
        "id": "Z5V7h9iq0glN"
      },
      "outputs": [],
      "source": [
        "HTML(anim.to_html5_video())"
      ]
    },
    {
      "cell_type": "code",
      "execution_count": null,
      "metadata": {
        "execution": {},
        "id": "jP6Axnkb0glO"
      },
      "outputs": [],
      "source": [
        "rc('animation', html='html5')"
      ]
    },
    {
      "cell_type": "code",
      "execution_count": null,
      "metadata": {
        "execution": {},
        "id": "GsaJZbxt0glO"
      },
      "outputs": [],
      "source": [
        "anim"
      ]
    },
    {
      "cell_type": "markdown",
      "metadata": {
        "execution": {},
        "id": "xcbm2CPs0glP"
      },
      "source": [
        "These movies are really pretty compared drawing everything from scratch, each time, need to figure out some way to combine the two eventually, but will keep prototyping in janky mode for now."
      ]
    }
  ],
  "metadata": {
    "colab": {
      "name": "P1C1_Sequence1",
      "provenance": [],
      "include_colab_link": true
    },
    "kernel": {
      "display_name": "Python 3",
      "language": "python",
      "name": "python3"
    },
    "kernelspec": {
      "display_name": "Python 3 (ipykernel)",
      "name": "python3"
    },
    "language_info": {
      "codemirror_mode": {
        "name": "ipython",
        "version": 3
      },
      "file_extension": ".py",
      "mimetype": "text/x-python",
      "name": "python",
      "nbconvert_exporter": "python",
      "pygments_lexer": "ipython3",
      "version": "3.9.16"
    },
    "widgets": {
      "application/vnd.jupyter.widget-state+json": {
        "b53a5344a78b4f438c03b7a2593c3659": {
          "model_module": "@jupyter-widgets/controls",
          "model_name": "VBoxModel",
          "model_module_version": "1.5.0",
          "state": {
            "_dom_classes": [],
            "_model_module": "@jupyter-widgets/controls",
            "_model_module_version": "1.5.0",
            "_model_name": "VBoxModel",
            "_view_count": null,
            "_view_module": "@jupyter-widgets/controls",
            "_view_module_version": "1.5.0",
            "_view_name": "VBoxView",
            "box_style": "",
            "children": [
              "IPY_MODEL_577def3b5e6544aa8b8f41eec766252a",
              "IPY_MODEL_088f930121c54ca3b59912ccc4478a15",
              "IPY_MODEL_9d434f1f5c8e4b9fae237bad7c8e59da",
              "IPY_MODEL_137cbad6d9f54239b47b39a3e2c1be8a"
            ],
            "layout": "IPY_MODEL_0aed7128ab554ad2b4de218bec2db4e7"
          }
        },
        "577def3b5e6544aa8b8f41eec766252a": {
          "model_module": "@jupyter-widgets/controls",
          "model_name": "LabelModel",
          "model_module_version": "1.5.0",
          "state": {
            "_dom_classes": [],
            "_model_module": "@jupyter-widgets/controls",
            "_model_module_version": "1.5.0",
            "_model_name": "LabelModel",
            "_view_count": null,
            "_view_module": "@jupyter-widgets/controls",
            "_view_module_version": "1.5.0",
            "_view_name": "LabelView",
            "description": "",
            "description_tooltip": null,
            "layout": "IPY_MODEL_8d68e6ac861d42f590dc73eda60bf4b1",
            "placeholder": "​",
            "style": "IPY_MODEL_d14c0af615904db9b925da1575c82b1f",
            "value": ""
          }
        },
        "088f930121c54ca3b59912ccc4478a15": {
          "model_module": "@jupyter-widgets/controls",
          "model_name": "HBoxModel",
          "model_module_version": "1.5.0",
          "state": {
            "_dom_classes": [],
            "_model_module": "@jupyter-widgets/controls",
            "_model_module_version": "1.5.0",
            "_model_name": "HBoxModel",
            "_view_count": null,
            "_view_module": "@jupyter-widgets/controls",
            "_view_module_version": "1.5.0",
            "_view_name": "HBoxView",
            "box_style": "",
            "children": [
              "IPY_MODEL_200f733b40ad49b5803eff809df41b42",
              "IPY_MODEL_b5b5762d5f8b462e9916a33a559bd2c5",
              "IPY_MODEL_bd059ca871004c96beac5e9ff71ddbed"
            ],
            "layout": "IPY_MODEL_eabe2576d0614a46aa95c558e8c6df1b"
          }
        },
        "9d434f1f5c8e4b9fae237bad7c8e59da": {
          "model_module": "@jupyter-widgets/controls",
          "model_name": "HBoxModel",
          "model_module_version": "1.5.0",
          "state": {
            "_dom_classes": [],
            "_model_module": "@jupyter-widgets/controls",
            "_model_module_version": "1.5.0",
            "_model_name": "HBoxModel",
            "_view_count": null,
            "_view_module": "@jupyter-widgets/controls",
            "_view_module_version": "1.5.0",
            "_view_name": "HBoxView",
            "box_style": "",
            "children": [
              "IPY_MODEL_7c8a2fade073463dbdff881d464a43e0",
              "IPY_MODEL_53f5fe580f97466da767b7b1243f7154"
            ],
            "layout": "IPY_MODEL_92869dbadcdd43b1a86914296585b2e5"
          }
        },
        "137cbad6d9f54239b47b39a3e2c1be8a": {
          "model_module": "@jupyter-widgets/controls",
          "model_name": "LabelModel",
          "model_module_version": "1.5.0",
          "state": {
            "_dom_classes": [],
            "_model_module": "@jupyter-widgets/controls",
            "_model_module_version": "1.5.0",
            "_model_name": "LabelModel",
            "_view_count": null,
            "_view_module": "@jupyter-widgets/controls",
            "_view_module_version": "1.5.0",
            "_view_name": "LabelView",
            "description": "",
            "description_tooltip": null,
            "layout": "IPY_MODEL_784fbdf88bac497eb5c240133fbcd520",
            "placeholder": "​",
            "style": "IPY_MODEL_527bda2fd50d4c428a19bf97bbf5163c",
            "value": "Thanks for your feedback!"
          }
        },
        "0aed7128ab554ad2b4de218bec2db4e7": {
          "model_module": "@jupyter-widgets/base",
          "model_name": "LayoutModel",
          "model_module_version": "1.2.0",
          "state": {
            "_model_module": "@jupyter-widgets/base",
            "_model_module_version": "1.2.0",
            "_model_name": "LayoutModel",
            "_view_count": null,
            "_view_module": "@jupyter-widgets/base",
            "_view_module_version": "1.2.0",
            "_view_name": "LayoutView",
            "align_content": null,
            "align_items": null,
            "align_self": null,
            "border": null,
            "bottom": null,
            "display": null,
            "flex": null,
            "flex_flow": null,
            "grid_area": null,
            "grid_auto_columns": null,
            "grid_auto_flow": null,
            "grid_auto_rows": null,
            "grid_column": null,
            "grid_gap": null,
            "grid_row": null,
            "grid_template_areas": null,
            "grid_template_columns": null,
            "grid_template_rows": null,
            "height": null,
            "justify_content": null,
            "justify_items": null,
            "left": null,
            "margin": null,
            "max_height": null,
            "max_width": null,
            "min_height": null,
            "min_width": null,
            "object_fit": null,
            "object_position": null,
            "order": null,
            "overflow": null,
            "overflow_x": null,
            "overflow_y": null,
            "padding": null,
            "right": null,
            "top": null,
            "visibility": null,
            "width": null
          }
        },
        "8d68e6ac861d42f590dc73eda60bf4b1": {
          "model_module": "@jupyter-widgets/base",
          "model_name": "LayoutModel",
          "model_module_version": "1.2.0",
          "state": {
            "_model_module": "@jupyter-widgets/base",
            "_model_module_version": "1.2.0",
            "_model_name": "LayoutModel",
            "_view_count": null,
            "_view_module": "@jupyter-widgets/base",
            "_view_module_version": "1.2.0",
            "_view_name": "LayoutView",
            "align_content": null,
            "align_items": null,
            "align_self": null,
            "border": null,
            "bottom": null,
            "display": null,
            "flex": null,
            "flex_flow": null,
            "grid_area": null,
            "grid_auto_columns": null,
            "grid_auto_flow": null,
            "grid_auto_rows": null,
            "grid_column": null,
            "grid_gap": null,
            "grid_row": null,
            "grid_template_areas": null,
            "grid_template_columns": null,
            "grid_template_rows": null,
            "height": null,
            "justify_content": null,
            "justify_items": null,
            "left": null,
            "margin": null,
            "max_height": null,
            "max_width": null,
            "min_height": null,
            "min_width": null,
            "object_fit": null,
            "object_position": null,
            "order": null,
            "overflow": null,
            "overflow_x": null,
            "overflow_y": null,
            "padding": null,
            "right": null,
            "top": null,
            "visibility": null,
            "width": null
          }
        },
        "d14c0af615904db9b925da1575c82b1f": {
          "model_module": "@jupyter-widgets/controls",
          "model_name": "DescriptionStyleModel",
          "model_module_version": "1.5.0",
          "state": {
            "_model_module": "@jupyter-widgets/controls",
            "_model_module_version": "1.5.0",
            "_model_name": "DescriptionStyleModel",
            "_view_count": null,
            "_view_module": "@jupyter-widgets/base",
            "_view_module_version": "1.2.0",
            "_view_name": "StyleView",
            "description_width": ""
          }
        },
        "200f733b40ad49b5803eff809df41b42": {
          "model_module": "@jupyter-widgets/controls",
          "model_name": "ButtonModel",
          "model_module_version": "1.5.0",
          "state": {
            "_dom_classes": [
              "happy"
            ],
            "_model_module": "@jupyter-widgets/controls",
            "_model_module_version": "1.5.0",
            "_model_name": "ButtonModel",
            "_view_count": null,
            "_view_module": "@jupyter-widgets/controls",
            "_view_module_version": "1.5.0",
            "_view_name": "ButtonView",
            "button_style": "",
            "description": "🙂",
            "disabled": false,
            "icon": "",
            "layout": "IPY_MODEL_b5c56be369bc4dc090e2dabfd6b9dccc",
            "style": "IPY_MODEL_e58a4983ba8f47b4957084bcd646c223",
            "tooltip": "Happy"
          }
        },
        "b5b5762d5f8b462e9916a33a559bd2c5": {
          "model_module": "@jupyter-widgets/controls",
          "model_name": "ButtonModel",
          "model_module_version": "1.5.0",
          "state": {
            "_dom_classes": [
              "medium"
            ],
            "_model_module": "@jupyter-widgets/controls",
            "_model_module_version": "1.5.0",
            "_model_name": "ButtonModel",
            "_view_count": null,
            "_view_module": "@jupyter-widgets/controls",
            "_view_module_version": "1.5.0",
            "_view_name": "ButtonView",
            "button_style": "",
            "description": "😐",
            "disabled": false,
            "icon": "",
            "layout": "IPY_MODEL_76d1bc4836464fd1a9767f39315d8cf2",
            "style": "IPY_MODEL_b2c72aff71b64603acbf1fd80823aa82",
            "tooltip": "Medium"
          }
        },
        "bd059ca871004c96beac5e9ff71ddbed": {
          "model_module": "@jupyter-widgets/controls",
          "model_name": "ButtonModel",
          "model_module_version": "1.5.0",
          "state": {
            "_dom_classes": [
              "sad"
            ],
            "_model_module": "@jupyter-widgets/controls",
            "_model_module_version": "1.5.0",
            "_model_name": "ButtonModel",
            "_view_count": null,
            "_view_module": "@jupyter-widgets/controls",
            "_view_module_version": "1.5.0",
            "_view_name": "ButtonView",
            "button_style": "",
            "description": "🙁",
            "disabled": false,
            "icon": "",
            "layout": "IPY_MODEL_76d183c4a8cb4822876f1753223ecf44",
            "style": "IPY_MODEL_c50cf96efe3e4d5e935bdf0fa90eda22",
            "tooltip": "Sad"
          }
        },
        "eabe2576d0614a46aa95c558e8c6df1b": {
          "model_module": "@jupyter-widgets/base",
          "model_name": "LayoutModel",
          "model_module_version": "1.2.0",
          "state": {
            "_model_module": "@jupyter-widgets/base",
            "_model_module_version": "1.2.0",
            "_model_name": "LayoutModel",
            "_view_count": null,
            "_view_module": "@jupyter-widgets/base",
            "_view_module_version": "1.2.0",
            "_view_name": "LayoutView",
            "align_content": null,
            "align_items": null,
            "align_self": null,
            "border": null,
            "bottom": null,
            "display": null,
            "flex": null,
            "flex_flow": null,
            "grid_area": null,
            "grid_auto_columns": null,
            "grid_auto_flow": null,
            "grid_auto_rows": null,
            "grid_column": null,
            "grid_gap": null,
            "grid_row": null,
            "grid_template_areas": null,
            "grid_template_columns": null,
            "grid_template_rows": null,
            "height": null,
            "justify_content": null,
            "justify_items": null,
            "left": null,
            "margin": null,
            "max_height": null,
            "max_width": null,
            "min_height": null,
            "min_width": null,
            "object_fit": null,
            "object_position": null,
            "order": null,
            "overflow": null,
            "overflow_x": null,
            "overflow_y": null,
            "padding": null,
            "right": null,
            "top": null,
            "visibility": null,
            "width": null
          }
        },
        "7c8a2fade073463dbdff881d464a43e0": {
          "model_module": "@jupyter-widgets/controls",
          "model_name": "TextareaModel",
          "model_module_version": "1.5.0",
          "state": {
            "_dom_classes": [],
            "_model_module": "@jupyter-widgets/controls",
            "_model_module_version": "1.5.0",
            "_model_name": "TextareaModel",
            "_view_count": null,
            "_view_module": "@jupyter-widgets/controls",
            "_view_module_version": "1.5.0",
            "_view_name": "TextareaView",
            "continuous_update": true,
            "description": "",
            "description_tooltip": null,
            "disabled": false,
            "layout": "IPY_MODEL_ae82914f697449588f95a4452e6614e0",
            "placeholder": "We want your feedback!",
            "rows": null,
            "style": "IPY_MODEL_950168afeb46496aba29154545a2600b",
            "value": ""
          }
        },
        "53f5fe580f97466da767b7b1243f7154": {
          "model_module": "@jupyter-widgets/controls",
          "model_name": "ButtonModel",
          "model_module_version": "1.5.0",
          "state": {
            "_dom_classes": [],
            "_model_module": "@jupyter-widgets/controls",
            "_model_module_version": "1.5.0",
            "_model_name": "ButtonModel",
            "_view_count": null,
            "_view_module": "@jupyter-widgets/controls",
            "_view_module_version": "1.5.0",
            "_view_name": "ButtonView",
            "button_style": "",
            "description": "Submit",
            "disabled": false,
            "icon": "",
            "layout": "IPY_MODEL_c8af22fadef64d9a96e0dbed3c6af1f6",
            "style": "IPY_MODEL_214a02cf781a4863b78ceae73f0590bf",
            "tooltip": ""
          }
        },
        "92869dbadcdd43b1a86914296585b2e5": {
          "model_module": "@jupyter-widgets/base",
          "model_name": "LayoutModel",
          "model_module_version": "1.2.0",
          "state": {
            "_model_module": "@jupyter-widgets/base",
            "_model_module_version": "1.2.0",
            "_model_name": "LayoutModel",
            "_view_count": null,
            "_view_module": "@jupyter-widgets/base",
            "_view_module_version": "1.2.0",
            "_view_name": "LayoutView",
            "align_content": null,
            "align_items": null,
            "align_self": null,
            "border": null,
            "bottom": null,
            "display": "none",
            "flex": null,
            "flex_flow": null,
            "grid_area": null,
            "grid_auto_columns": null,
            "grid_auto_flow": null,
            "grid_auto_rows": null,
            "grid_column": null,
            "grid_gap": null,
            "grid_row": null,
            "grid_template_areas": null,
            "grid_template_columns": null,
            "grid_template_rows": null,
            "height": null,
            "justify_content": null,
            "justify_items": null,
            "left": null,
            "margin": null,
            "max_height": null,
            "max_width": null,
            "min_height": null,
            "min_width": null,
            "object_fit": null,
            "object_position": null,
            "order": null,
            "overflow": null,
            "overflow_x": null,
            "overflow_y": null,
            "padding": null,
            "right": null,
            "top": null,
            "visibility": null,
            "width": null
          }
        },
        "784fbdf88bac497eb5c240133fbcd520": {
          "model_module": "@jupyter-widgets/base",
          "model_name": "LayoutModel",
          "model_module_version": "1.2.0",
          "state": {
            "_model_module": "@jupyter-widgets/base",
            "_model_module_version": "1.2.0",
            "_model_name": "LayoutModel",
            "_view_count": null,
            "_view_module": "@jupyter-widgets/base",
            "_view_module_version": "1.2.0",
            "_view_name": "LayoutView",
            "align_content": null,
            "align_items": null,
            "align_self": null,
            "border": null,
            "bottom": null,
            "display": "none",
            "flex": null,
            "flex_flow": null,
            "grid_area": null,
            "grid_auto_columns": null,
            "grid_auto_flow": null,
            "grid_auto_rows": null,
            "grid_column": null,
            "grid_gap": null,
            "grid_row": null,
            "grid_template_areas": null,
            "grid_template_columns": null,
            "grid_template_rows": null,
            "height": null,
            "justify_content": null,
            "justify_items": null,
            "left": null,
            "margin": null,
            "max_height": null,
            "max_width": null,
            "min_height": null,
            "min_width": null,
            "object_fit": null,
            "object_position": null,
            "order": null,
            "overflow": null,
            "overflow_x": null,
            "overflow_y": null,
            "padding": null,
            "right": null,
            "top": null,
            "visibility": null,
            "width": null
          }
        },
        "527bda2fd50d4c428a19bf97bbf5163c": {
          "model_module": "@jupyter-widgets/controls",
          "model_name": "DescriptionStyleModel",
          "model_module_version": "1.5.0",
          "state": {
            "_model_module": "@jupyter-widgets/controls",
            "_model_module_version": "1.5.0",
            "_model_name": "DescriptionStyleModel",
            "_view_count": null,
            "_view_module": "@jupyter-widgets/base",
            "_view_module_version": "1.2.0",
            "_view_name": "StyleView",
            "description_width": ""
          }
        },
        "b5c56be369bc4dc090e2dabfd6b9dccc": {
          "model_module": "@jupyter-widgets/base",
          "model_name": "LayoutModel",
          "model_module_version": "1.2.0",
          "state": {
            "_model_module": "@jupyter-widgets/base",
            "_model_module_version": "1.2.0",
            "_model_name": "LayoutModel",
            "_view_count": null,
            "_view_module": "@jupyter-widgets/base",
            "_view_module_version": "1.2.0",
            "_view_name": "LayoutView",
            "align_content": null,
            "align_items": null,
            "align_self": null,
            "border": null,
            "bottom": null,
            "display": null,
            "flex": null,
            "flex_flow": null,
            "grid_area": null,
            "grid_auto_columns": null,
            "grid_auto_flow": null,
            "grid_auto_rows": null,
            "grid_column": null,
            "grid_gap": null,
            "grid_row": null,
            "grid_template_areas": null,
            "grid_template_columns": null,
            "grid_template_rows": null,
            "height": "auto",
            "justify_content": null,
            "justify_items": null,
            "left": null,
            "margin": null,
            "max_height": null,
            "max_width": null,
            "min_height": null,
            "min_width": null,
            "object_fit": null,
            "object_position": null,
            "order": null,
            "overflow": null,
            "overflow_x": null,
            "overflow_y": null,
            "padding": null,
            "right": null,
            "top": null,
            "visibility": null,
            "width": "auto"
          }
        },
        "e58a4983ba8f47b4957084bcd646c223": {
          "model_module": "@jupyter-widgets/controls",
          "model_name": "ButtonStyleModel",
          "model_module_version": "1.5.0",
          "state": {
            "_model_module": "@jupyter-widgets/controls",
            "_model_module_version": "1.5.0",
            "_model_name": "ButtonStyleModel",
            "_view_count": null,
            "_view_module": "@jupyter-widgets/base",
            "_view_module_version": "1.2.0",
            "_view_name": "StyleView",
            "button_color": "#aaffaa",
            "font_weight": ""
          }
        },
        "76d1bc4836464fd1a9767f39315d8cf2": {
          "model_module": "@jupyter-widgets/base",
          "model_name": "LayoutModel",
          "model_module_version": "1.2.0",
          "state": {
            "_model_module": "@jupyter-widgets/base",
            "_model_module_version": "1.2.0",
            "_model_name": "LayoutModel",
            "_view_count": null,
            "_view_module": "@jupyter-widgets/base",
            "_view_module_version": "1.2.0",
            "_view_name": "LayoutView",
            "align_content": null,
            "align_items": null,
            "align_self": null,
            "border": null,
            "bottom": null,
            "display": null,
            "flex": null,
            "flex_flow": null,
            "grid_area": null,
            "grid_auto_columns": null,
            "grid_auto_flow": null,
            "grid_auto_rows": null,
            "grid_column": null,
            "grid_gap": null,
            "grid_row": null,
            "grid_template_areas": null,
            "grid_template_columns": null,
            "grid_template_rows": null,
            "height": "auto",
            "justify_content": null,
            "justify_items": null,
            "left": null,
            "margin": null,
            "max_height": null,
            "max_width": null,
            "min_height": null,
            "min_width": null,
            "object_fit": null,
            "object_position": null,
            "order": null,
            "overflow": null,
            "overflow_x": null,
            "overflow_y": null,
            "padding": null,
            "right": null,
            "top": null,
            "visibility": null,
            "width": "auto"
          }
        },
        "b2c72aff71b64603acbf1fd80823aa82": {
          "model_module": "@jupyter-widgets/controls",
          "model_name": "ButtonStyleModel",
          "model_module_version": "1.5.0",
          "state": {
            "_model_module": "@jupyter-widgets/controls",
            "_model_module_version": "1.5.0",
            "_model_name": "ButtonStyleModel",
            "_view_count": null,
            "_view_module": "@jupyter-widgets/base",
            "_view_module_version": "1.2.0",
            "_view_name": "StyleView",
            "button_color": "#dddd77",
            "font_weight": ""
          }
        },
        "76d183c4a8cb4822876f1753223ecf44": {
          "model_module": "@jupyter-widgets/base",
          "model_name": "LayoutModel",
          "model_module_version": "1.2.0",
          "state": {
            "_model_module": "@jupyter-widgets/base",
            "_model_module_version": "1.2.0",
            "_model_name": "LayoutModel",
            "_view_count": null,
            "_view_module": "@jupyter-widgets/base",
            "_view_module_version": "1.2.0",
            "_view_name": "LayoutView",
            "align_content": null,
            "align_items": null,
            "align_self": null,
            "border": null,
            "bottom": null,
            "display": null,
            "flex": null,
            "flex_flow": null,
            "grid_area": null,
            "grid_auto_columns": null,
            "grid_auto_flow": null,
            "grid_auto_rows": null,
            "grid_column": null,
            "grid_gap": null,
            "grid_row": null,
            "grid_template_areas": null,
            "grid_template_columns": null,
            "grid_template_rows": null,
            "height": "auto",
            "justify_content": null,
            "justify_items": null,
            "left": null,
            "margin": null,
            "max_height": null,
            "max_width": null,
            "min_height": null,
            "min_width": null,
            "object_fit": null,
            "object_position": null,
            "order": null,
            "overflow": null,
            "overflow_x": null,
            "overflow_y": null,
            "padding": null,
            "right": null,
            "top": null,
            "visibility": null,
            "width": "auto"
          }
        },
        "c50cf96efe3e4d5e935bdf0fa90eda22": {
          "model_module": "@jupyter-widgets/controls",
          "model_name": "ButtonStyleModel",
          "model_module_version": "1.5.0",
          "state": {
            "_model_module": "@jupyter-widgets/controls",
            "_model_module_version": "1.5.0",
            "_model_name": "ButtonStyleModel",
            "_view_count": null,
            "_view_module": "@jupyter-widgets/base",
            "_view_module_version": "1.2.0",
            "_view_name": "StyleView",
            "button_color": "#ffaaaa",
            "font_weight": ""
          }
        },
        "ae82914f697449588f95a4452e6614e0": {
          "model_module": "@jupyter-widgets/base",
          "model_name": "LayoutModel",
          "model_module_version": "1.2.0",
          "state": {
            "_model_module": "@jupyter-widgets/base",
            "_model_module_version": "1.2.0",
            "_model_name": "LayoutModel",
            "_view_count": null,
            "_view_module": "@jupyter-widgets/base",
            "_view_module_version": "1.2.0",
            "_view_name": "LayoutView",
            "align_content": null,
            "align_items": null,
            "align_self": null,
            "border": null,
            "bottom": null,
            "display": null,
            "flex": null,
            "flex_flow": null,
            "grid_area": null,
            "grid_auto_columns": null,
            "grid_auto_flow": null,
            "grid_auto_rows": null,
            "grid_column": null,
            "grid_gap": null,
            "grid_row": null,
            "grid_template_areas": null,
            "grid_template_columns": null,
            "grid_template_rows": null,
            "height": "auto",
            "justify_content": null,
            "justify_items": null,
            "left": null,
            "margin": null,
            "max_height": null,
            "max_width": null,
            "min_height": null,
            "min_width": null,
            "object_fit": null,
            "object_position": null,
            "order": null,
            "overflow": null,
            "overflow_x": null,
            "overflow_y": null,
            "padding": null,
            "right": null,
            "top": null,
            "visibility": null,
            "width": "auto"
          }
        },
        "950168afeb46496aba29154545a2600b": {
          "model_module": "@jupyter-widgets/controls",
          "model_name": "DescriptionStyleModel",
          "model_module_version": "1.5.0",
          "state": {
            "_model_module": "@jupyter-widgets/controls",
            "_model_module_version": "1.5.0",
            "_model_name": "DescriptionStyleModel",
            "_view_count": null,
            "_view_module": "@jupyter-widgets/base",
            "_view_module_version": "1.2.0",
            "_view_name": "StyleView",
            "description_width": ""
          }
        },
        "c8af22fadef64d9a96e0dbed3c6af1f6": {
          "model_module": "@jupyter-widgets/base",
          "model_name": "LayoutModel",
          "model_module_version": "1.2.0",
          "state": {
            "_model_module": "@jupyter-widgets/base",
            "_model_module_version": "1.2.0",
            "_model_name": "LayoutModel",
            "_view_count": null,
            "_view_module": "@jupyter-widgets/base",
            "_view_module_version": "1.2.0",
            "_view_name": "LayoutView",
            "align_content": null,
            "align_items": null,
            "align_self": null,
            "border": null,
            "bottom": null,
            "display": null,
            "flex": null,
            "flex_flow": null,
            "grid_area": null,
            "grid_auto_columns": null,
            "grid_auto_flow": null,
            "grid_auto_rows": null,
            "grid_column": null,
            "grid_gap": null,
            "grid_row": null,
            "grid_template_areas": null,
            "grid_template_columns": null,
            "grid_template_rows": null,
            "height": "auto",
            "justify_content": null,
            "justify_items": null,
            "left": null,
            "margin": null,
            "max_height": null,
            "max_width": null,
            "min_height": null,
            "min_width": null,
            "object_fit": null,
            "object_position": null,
            "order": null,
            "overflow": null,
            "overflow_x": null,
            "overflow_y": null,
            "padding": null,
            "right": null,
            "top": null,
            "visibility": null,
            "width": "auto"
          }
        },
        "214a02cf781a4863b78ceae73f0590bf": {
          "model_module": "@jupyter-widgets/controls",
          "model_name": "ButtonStyleModel",
          "model_module_version": "1.5.0",
          "state": {
            "_model_module": "@jupyter-widgets/controls",
            "_model_module_version": "1.5.0",
            "_model_name": "ButtonStyleModel",
            "_view_count": null,
            "_view_module": "@jupyter-widgets/base",
            "_view_module_version": "1.2.0",
            "_view_name": "StyleView",
            "button_color": null,
            "font_weight": ""
          }
        }
      }
    }
  },
  "nbformat": 4,
  "nbformat_minor": 0
}