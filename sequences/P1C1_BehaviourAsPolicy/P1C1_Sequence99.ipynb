{
  "cells": [
    {
      "cell_type": "code",
      "execution_count": 1,
      "id": "be781dc3-482a-471c-8708-66170464cd83",
      "metadata": {
        "id": "be781dc3-482a-471c-8708-66170464cd83"
      },
      "outputs": [],
      "source": [
        "a = 1\n",
        "b = 2"
      ]
    },
    {
      "cell_type": "code",
      "execution_count": 2,
      "id": "123a6cd5-cf97-4fcb-a129-c0295d1b7e68",
      "metadata": {
        "id": "123a6cd5-cf97-4fcb-a129-c0295d1b7e68"
      },
      "outputs": [],
      "source": [
        "c = a + b"
      ]
    },
    {
      "cell_type": "code",
      "execution_count": 3,
      "id": "0e9bf5e1-2cdd-430f-9ba9-fa54f1e7c9b7",
      "metadata": {
        "id": "0e9bf5e1-2cdd-430f-9ba9-fa54f1e7c9b7"
      },
      "outputs": [],
      "source": [
        "import numpy as np"
      ]
    },
    {
      "cell_type": "code",
      "source": [
        "print('test colab-github workflow')"
      ],
      "metadata": {
        "id": "BtVMxuhJr8LY",
        "outputId": "affd6273-7f9b-43fa-c5bd-809563401d49",
        "colab": {
          "base_uri": "https://localhost:8080/"
        }
      },
      "id": "BtVMxuhJr8LY",
      "execution_count": 4,
      "outputs": [
        {
          "output_type": "stream",
          "name": "stdout",
          "text": [
            "test colab-github workflow\n"
          ]
        }
      ]
    },
    {
      "cell_type": "code",
      "source": [],
      "metadata": {
        "id": "Qj4lRFoTsC4j"
      },
      "id": "Qj4lRFoTsC4j",
      "execution_count": null,
      "outputs": []
    }
  ],
  "metadata": {
    "kernelspec": {
      "display_name": "Python 3 (ipykernel)",
      "language": "python",
      "name": "python3"
    },
    "language_info": {
      "codemirror_mode": {
        "name": "ipython",
        "version": 3
      },
      "file_extension": ".py",
      "mimetype": "text/x-python",
      "name": "python",
      "nbconvert_exporter": "python",
      "pygments_lexer": "ipython3",
      "version": "3.9.16-final"
    },
    "colab": {
      "provenance": []
    }
  },
  "nbformat": 4,
  "nbformat_minor": 5
}