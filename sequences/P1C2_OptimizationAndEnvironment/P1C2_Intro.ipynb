{
 "cells": [
  {
   "cell_type": "markdown",
   "metadata": {
    "execution": {}
   },
   "source": [
    "The following is part of a test for an upcoming text book on computational neuroscience from an optimization and learning perspective. The book will start with evolution because ultimately, all aspects of the brain are shaped by evolution and, as we will see, evolution can also be seen as an optimization algorithm. We are sharing it now to get feedback on what works and what does not and the developments we should do."
   ]
  },
  {
   "cell_type": "markdown",
   "metadata": {
    "execution": {}
   },
   "source": [
    "___\n",
    "# Chapter 1.2 Optimizing Behaviour - Environment is Central\n",
    "\n",
    "### Objective: In the previous chapter we learned to describe and think about behaviour as a policy and to evaluate an organism's behaviour relative to the goals implied by the organism's environmental niche. In this next chapter we are going to really focus on ***Optimization***, different ways of making a policy better, different ways an organism might become better suited to its niche.\n",
    "\n",
    "You will learn:\n",
    "*   How to more formally define an objective function. In the last chapter our policy goals were loosely stated as 'eat lots of food'. In this chapter we will better formalize goals, eventually using mathematics and the Markov Decision Process framework, so that these goals can directly guide policy improvement.\n",
    "*   Different optimization methods. There are many different methods for modifying a policy to improve its performance, and we will begin to explore a few of these (guess and check, grid search, propose and test).\n",
    "*   Normative Thinking - How optimization can be used descriptively, prescriptively, and predictively in different context, and how to keep track of which contexts are appropriate for optimization as description, perscription and prediction.  "
   ]
  },
  {
   "cell_type": "markdown",
   "metadata": {
    "execution": {}
   },
   "source": [
    "This chapter is the second of three in the first part of the book. The first part of the book is about\n",
    "## **Behaviour, Environments and Optimization: Evolution and Learning**\n",
    "\n",
    "### **Animals are adapted to their specific environments; their behaviour is best understood within the context of their evolutionary environment.**\n",
    "\n",
    "### Objective: Part 1 of the book aims to introduce the fundamental concepts of\n",
    "* ### **Environment**, where an organism lives\n",
    "* ### **Behaviour**, what the organism does in the environment\n",
    "* ### **Optimization**, how learning and evolution shape an organism's behaviour to make it better suited to its environment\n",
    "\n",
    "This is the core of why we are writing this book: pretty much anything happening in the brain (and biology) can be viewed as part of a process that brings about improvement in this sense. In this first part of the book we set out this foundational perspective. Each subsequent part shows how this perspective connects insights from Machine Learning to the function of the brain in a way that can both synthesize and guide empirical neuroscience research.  "
   ]
  }
 ],
 "metadata": {
  "colab": {
   "collapsed_sections": [],
   "include_colab_link": true,
   "name": "P1C2_Intro",
   "toc_visible": true
  },
  "kernel": {
   "display_name": "Python 3",
   "language": "python",
   "name": "python3"
  },
  "language_info": {
   "codemirror_mode": {
    "name": "ipython",
    "version": 3
   },
   "file_extension": ".py",
   "mimetype": "text/x-python",
   "name": "python",
   "nbconvert_exporter": "python",
   "pygments_lexer": "ipython3",
   "version": 3
  }
 },
 "nbformat": 4,
 "nbformat_minor": 2
}
