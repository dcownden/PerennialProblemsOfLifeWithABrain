{
  "cells": [
    {
      "cell_type": "markdown",
      "metadata": {
        "id": "view-in-github",
        "colab_type": "text"
      },
      "source": [
        "<a href=\"https://colab.research.google.com/github/dcownden/PerennialProblemsOfLifeWithABrain/blob/super-opt-perturb/sequences/P2C1_CurveFitting/P2C1_Sequence1.ipynb\" target=\"_parent\"><img src=\"https://colab.research.google.com/assets/colab-badge.svg\" alt=\"Open In Colab\"/></a>"
      ]
    },
    {
      "cell_type": "markdown",
      "metadata": {
        "execution": {},
        "id": "XQIBvM6dukJe"
      },
      "source": [
        "The following is part of a test for an upcoming text book on computational neuroscience from an optimization and learning perspective. The book will start with evolution because ultimately, all aspects of the brain are shaped by evolution and, as we will see, evolution can also be seen as an optimization algorithm. We are sharing it now to get feedback on what works and what does not and the developments we should do."
      ]
    },
    {
      "cell_type": "markdown",
      "metadata": {
        "execution": {},
        "id": "8WYLuZVNukJh"
      },
      "source": [
        "___\n",
        "# **2.1.1: Curve Fitting Through Perturbation**\n",
        "In the first part of the book we gained insight into what the brain is for: rapid acquisition of adaptive behaviours. Now that we know what a brain is for, we are going to start thinking about how it does what it needs to do. Instead of taking a bottom up approach grounded in observed physiological mechanisms, we are going to use a problem oriented, top down approach. That is, we will think about what problems the brain is solving and then survey the various physiological mechanisms that could feasibly implement algorithms that solve those problems. We will start with problems that are simple to understand from a statistical and mathematical perspective; a broad sub-field of machine learning known as supervised learning. Supervised learning problems take as given many affordances and abilities without obvious phsyilogical implementations in the brain. Nevertheless, for simplicity and to build foundational understanding, we start with this class of problems and associated algorithms, drawing connections to physiological mechanisms where we can. As more elaborate learning algorithms (un/semi-supervised learning, complex reinforcement learning) and their applications become clear, we promise that an outline of the physiology of a unified neural system which feasibly solves the myriad statistical decision problems faced by living animals will emerge.\n",
        "\n",
        "### Objective: Solve a simple problem using perturbation methods, and connect these methods with physiological neural plasticity mechanisms.\n",
        "\n",
        "In this sequence we will:\n",
        "\n",
        "* Introduce two visual (binary) discrimination tasks, one simple, the other more complex.\n",
        "\n",
        "* Build and train a simple 'neural circuit' model which 'learns' to solve these binary discrimination problems based on scalar reward feedback.\n",
        "\n",
        "* Relate the different aspects of our simple 'neural circuit' model to various neural plasticity mechanisms.\n"
      ]
    },
    {
      "cell_type": "markdown",
      "metadata": {
        "execution": {},
        "id": "EH_YZ1XqukJj"
      },
      "source": [
        "# Setup\n",
        "\n",
        "Run the following cell to setup and install the various dependencies and helper functions for this ."
      ]
    },
    {
      "cell_type": "code",
      "execution_count": 1,
      "metadata": {
        "execution": {},
        "id": "mgBlu_W7ukJl",
        "colab": {
          "base_uri": "https://localhost:8080/"
        },
        "outputId": "6f47f2d3-7841-4726-8635-078de2e9b92f"
      },
      "outputs": [
        {
          "output_type": "stream",
          "name": "stdout",
          "text": [
            "Best feature is 21\n",
            "Random seed 2021 has been set.\n",
            "This notebook isn't using and doesn't need a GPU. Good.\n",
            "Running in colab\n"
          ]
        }
      ],
      "source": [
        "# @title Dependencies, Imports and Setup\n",
        "# @markdown You don't need to worry about how this code works – but you do need to **run the cell**\n",
        "!apt install libgraphviz-dev > /dev/null 2> /dev/null #colab\n",
        "!pip install ipympl pygraphviz vibecheck datatops jupyterquiz ucimlrepo > /dev/null 2> /dev/null #google.colab\n",
        "\n",
        "import requests\n",
        "from requests.exceptions import RequestException\n",
        "import numpy as np\n",
        "import itertools\n",
        "import collections\n",
        "import matplotlib\n",
        "import matplotlib.pyplot as plt\n",
        "import matplotlib.patches as mpatches\n",
        "from matplotlib.animation import FuncAnimation\n",
        "import seaborn as sns\n",
        "import pandas as pd\n",
        "import pygraphviz as pgv\n",
        "import ipywidgets as widgets\n",
        "import time\n",
        "import logging\n",
        "import random\n",
        "import os\n",
        "import copy\n",
        "import torch\n",
        "import warnings\n",
        "import torch.nn as nn\n",
        "import torch.optim as optim\n",
        "import torch.nn.functional as F\n",
        "from io import BytesIO\n",
        "from enum import Enum\n",
        "from scipy.spatial.distance import cdist\n",
        "from scipy.stats import norm\n",
        "from scipy.optimize import minimize\n",
        "from sklearn.linear_model import LinearRegression\n",
        "from tabulate import tabulate\n",
        "from IPython.display import display, clear_output, Markdown, HTML, Image\n",
        "from jupyterquiz import display_quiz\n",
        "from vibecheck import DatatopsContentReviewContainer\n",
        "from pathlib import Path\n",
        "from typing import List, Dict\n",
        "from tqdm.notebook import tqdm\n",
        "from ucimlrepo import fetch_ucirepo\n",
        "\n",
        "data_set = fetch_ucirepo(id=80)\n",
        "X = data_set.data.features.values\n",
        "# Translate the data to have a minimum of 0\n",
        "X_translated = X - X.min()\n",
        "# Scale the data to have a range from 0 to 12 (which is 6 - (-6))\n",
        "scaling_factor = 12 / (X.max() - X.min())\n",
        "X_scaled = X_translated * scaling_factor\n",
        "# Finally, shift the data to be centered between -6 and 6\n",
        "X_final = X_scaled - 6\n",
        "\n",
        "y = data_set.data.targets.values\n",
        "rng = np.random.default_rng(seed=2021)\n",
        "scramble_permutation = rng.permutation(X.shape[1])\n",
        "Xs = X_final[:, scramble_permutation]\n",
        "y1 = y % 2\n",
        "y2 = np.array(y >= 5, dtype=y.dtype)\n",
        "simple_index = ((y.flatten()==1) | (y.flatten()==0))\n",
        "X_simple = Xs[simple_index]\n",
        "y1_simple = y1[simple_index]\n",
        "# if you only had one feature which would likely be best for discrimination\n",
        "epsilon = 10\n",
        "class_a_sep = np.mean(X_simple[y1_simple.flatten() == 1, :], axis=0) / (np.std(X_simple[y1_simple.flatten() == 1, :], axis=0) + epsilon)\n",
        "class_b_sep = np.mean(X_simple[y1_simple.flatten() == 0, :], axis=0) / (np.std(X_simple[y1_simple.flatten() == 0, :], axis=0) + epsilon)\n",
        "best_feature = np.argmax(class_a_sep - class_b_sep)\n",
        "print(f'Best feature is {best_feature}')\n",
        "X_simple_1_feature = X_simple[:, [best_feature]]\n",
        "\n",
        "import warnings\n",
        "warnings.filterwarnings(\"ignore\", category=UserWarning, module=\"matplotlib\")\n",
        "# random seed settings and\n",
        "# getting torch to use gpu if it's there\n",
        "\n",
        "\n",
        "def set_seed(seed=None, seed_torch=True):\n",
        "  \"\"\"\n",
        "  Function that controls randomness. NumPy and random modules must be imported.\n",
        "\n",
        "  Args:\n",
        "    seed : Integer\n",
        "      A non-negative integer that defines the random state. Default is `None`.\n",
        "    seed_torch : Boolean\n",
        "      If `True` sets the random seed for pytorch tensors, so pytorch module\n",
        "      must be imported. Default is `True`.\n",
        "\n",
        "  Returns:\n",
        "    Nothing.\n",
        "  \"\"\"\n",
        "  if seed is None:\n",
        "    seed = np.random.choice(2 ** 32)\n",
        "  random.seed(seed)\n",
        "  np.random.seed(seed)\n",
        "  if seed_torch:\n",
        "    torch.manual_seed(seed)\n",
        "    torch.cuda.manual_seed_all(seed)\n",
        "    torch.cuda.manual_seed(seed)\n",
        "    torch.backends.cudnn.benchmark = False\n",
        "    torch.backends.cudnn.deterministic = True\n",
        "\n",
        "  print(f'Random seed {seed} has been set.')\n",
        "\n",
        "\n",
        "def seed_worker(worker_id):\n",
        "  \"\"\"\n",
        "  DataLoader will reseed workers following randomness in\n",
        "  multi-process data loading algorithm.\n",
        "\n",
        "  Args:\n",
        "    worker_id: integer\n",
        "      ID of subprocess to seed. 0 means that\n",
        "      the data will be loaded in the main process\n",
        "      Refer: https://pytorch.org/docs/stable/data.html#data-loading-randomness for more details\n",
        "\n",
        "  Returns:\n",
        "    Nothing\n",
        "  \"\"\"\n",
        "  worker_seed = torch.initial_seed() % 2**32\n",
        "  np.random.seed(worker_seed)\n",
        "  random.seed(worker_seed)\n",
        "\n",
        "\n",
        "def set_device():\n",
        "  \"\"\"\n",
        "  Set the device. CUDA if available, CPU otherwise\n",
        "\n",
        "  Args:\n",
        "    None\n",
        "\n",
        "  Returns:\n",
        "    Nothing\n",
        "  \"\"\"\n",
        "  device = \"cuda\" if torch.cuda.is_available() else \"cpu\"\n",
        "  if device != \"cuda\":\n",
        "    print(\"This notebook isn't using and doesn't need a GPU. Good.\")\n",
        "  else:\n",
        "    print(\"GPU is enabled in this notebook but not needed.\")\n",
        "    print(\"If possible, in the menu under `Runtime` -> \")\n",
        "    print(\"`Change runtime type.`  select `CPU`\")\n",
        "\n",
        "  return device\n",
        "\n",
        "\n",
        "SEED = 2021\n",
        "set_seed(seed=SEED)\n",
        "DEVICE = set_device()\n",
        "\n",
        "\n",
        "def printmd(string):\n",
        "  display(Markdown(string))\n",
        "\n",
        "\n",
        "# the different utility .py files used in this notebook\n",
        "filenames = []\n",
        "# just run the code straight out of the response, no local copies needed!\n",
        "for filename in filenames:\n",
        "  url = f'https://raw.githubusercontent.com/dcownden/PerennialProblemsOfLifeWithABrain/main/utils/{filename}'\n",
        "  response = requests.get(url)\n",
        "  # Check that we got a valid response\n",
        "  if response.status_code == 200:\n",
        "    code = response.content.decode()\n",
        "    exec(code)\n",
        "  else:\n",
        "    print(f'Failed to download {url}')\n",
        "\n",
        "# environment contingent imports\n",
        "try:\n",
        "  print('Running in colab')\n",
        "  from google.colab import output\n",
        "  output.enable_custom_widget_manager()\n",
        "  from google.colab import data_table\n",
        "  data_table.disable_dataframe_formatter()\n",
        "  #from google.colab import output as colab_output\n",
        "  #colab_output.enable_custom_widget_manager()\n",
        "  IN_COLAB = True\n",
        "except:\n",
        "  IN_COLAB = False\n",
        "  print('Not running in colab')\n",
        "\n",
        "%matplotlib inline\n",
        "%config InlineBackend.figure_format = 'retina'\n",
        "%matplotlib widget\n",
        "plt.style.use(\"https://raw.githubusercontent.com/dcownden/PerennialProblemsOfLifeWithABrain/main/pplb.mplstyle\")\n",
        "plt.ioff() #need to use plt.show() or display explicitly\n",
        "logging.getLogger('matplotlib.font_manager').setLevel(logging.ERROR)\n",
        "\n",
        "\n",
        "def remove_ip_clutter(fig):\n",
        "  fig.canvas.header_visible = False\n",
        "  fig.canvas.toolbar_visible = False\n",
        "  fig.canvas.resizable = False\n",
        "  fig.canvas.footer_visible = False\n",
        "  fig.canvas.draw()\n",
        "\n",
        "\n",
        "def content_review(notebook_section: str):\n",
        "  return DatatopsContentReviewContainer(\n",
        "    \"\",  # No text prompt\n",
        "    notebook_section,\n",
        "    {\n",
        "      \"url\": \"https://pmyvdlilci.execute-api.us-east-1.amazonaws.com/klab\",\n",
        "      \"name\": \"neuro_book\",\n",
        "      \"user_key\": \"xuk960xj\",\n",
        "    },\n",
        "  ).render()\n",
        "feedback_prefix = \"P2C1_S1\""
      ]
    },
    {
      "cell_type": "markdown",
      "metadata": {
        "execution": {},
        "id": "KqWHFCZhukJp"
      },
      "source": [
        "# 2.1.1.1: Learning to Do the Right Thing\n",
        "\n",
        "In our last chapter on evolution, we motivated much of our modeling using a binary classification problem in which a lurking predator must choose between striking and not striking based on sensory input. Initially, we viewed the behavioral map from sensory input to action as genetically determined. However, we concluded the last chapter by highlighting the evolutionary advantage of at least partially learning these sensory-behaviour maps within an organism's lifetime. These advantages emerge in part due to variable environments and complex behaviors with non-linear fitness impacts. Here we shift our focus and work with the case where the behavioural map from sensory input to action is to be entirely 'learned' by the organism, using feedback signals from the environment. Before we build a highly abstracted model of a neural circuit to solve this problem, let's see if your neural network is up to the task. Given a sensory input pattern, determine whether to strike or not. Try to maximize your average score and see how well you can perform. We will start with a very simple 'sensory' pattern."
      ]
    },
    {
      "cell_type": "code",
      "source": [
        "# @markdown **Run this cell** to try out the 'strike-no-strike' discrimination task.\n",
        "\n",
        "class InteractiveMNISTPredator():\n",
        "  def __init__(self,\n",
        "               features=Xs,\n",
        "               labels=y,\n",
        "               feedback_type='on_strike_only', seed=123):\n",
        "    # Initialize dataset, settings for image scrambling and feedback\n",
        "    self.features = features\n",
        "    self.labels = labels\n",
        "    # features is num_data_points x 64 (reshape to 8x8 for display, each cell 0-16)\n",
        "    # labels is num_data_points x 1 (values 0-9 or 0/1 depending)\n",
        "    self.feedback_type = feedback_type\n",
        "    self.rng = np.random.default_rng(seed)\n",
        "    sample_order = self.rng.permutation(self.features.shape[0])\n",
        "    self.features = self.features[sample_order]\n",
        "    self.labels = self.labels[sample_order]\n",
        "    # intialize game state\n",
        "    self.current_index = 0\n",
        "    self.score = 0\n",
        "    self.best_possible_score = 0\n",
        "    self.successful_strikes = 0\n",
        "    self.failed_strikes = 0\n",
        "    self.non_strikes = 0\n",
        "    # Initialize widgets\n",
        "    self.strike_button = widgets.Button(description='Strike')\n",
        "    self.no_strike_button = widgets.Button(description='No Strike')\n",
        "    self.score_display = widgets.Output()\n",
        "    self.feedback_display = widgets.Output()\n",
        "\n",
        "    # Initialize the figure for image display\n",
        "    self.fig, self.ax = plt.subplots(figsize=(4, 4))\n",
        "    remove_ip_clutter(self.fig)\n",
        "    self.show_next_image()\n",
        "    # Bind event handlers\n",
        "    self.strike_button.on_click(self.on_strike_clicked)\n",
        "    self.no_strike_button.on_click(self.on_no_strike_clicked)\n",
        "\n",
        "    # Arrange widgets in a layout\n",
        "    buttons_layout = widgets.HBox([self.strike_button, self.no_strike_button])\n",
        "    board_buttons = widgets.VBox([self.fig.canvas, buttons_layout])\n",
        "    self.ui = widgets.HBox([board_buttons, widgets.VBox([self.score_display,\n",
        "                                                         self.feedback_display])])\n",
        "\n",
        "  def show_next_image(self):\n",
        "    # Display the next image\n",
        "    image = self.features[self.current_index]\n",
        "    if len(image) == 64:\n",
        "        image = image.reshape(8, 8)\n",
        "    elif len(image) == 1:\n",
        "      scalar_value = image.flatten()[0]\n",
        "      # Initialize the 8x8 array with -6 (black)\n",
        "      image = np.full((8, 8), -6.0)\n",
        "      # Set the second ring to 6 (white)\n",
        "      image[1:-1, 1:-1] = 6\n",
        "      # Set the third (inner ring) back to -6 (black)\n",
        "      image[2:-2, 2:-2] = -6\n",
        "      # Assuming scalar_value is already in the range -6 to 6\n",
        "      #print(scalar_value)\n",
        "      image[3:-3, 3:-3] = scalar_value\n",
        "    else:\n",
        "      raise ValueError(f'Unexpected image shape: {image.shape}')\n",
        "    # Display the image\n",
        "    #print(image)\n",
        "    self.fig.clf()\n",
        "    self.ax = self.fig.add_subplot(111)\n",
        "    self.ax.set_xlim(-.5, 7.5)\n",
        "    self.ax.set_ylim(-0.5, 7.5)\n",
        "    self.ax.set_aspect('equal')\n",
        "    self.ax.axis('off')\n",
        "    self.ax.imshow(image, cmap='gray', vmin=-6, vmax=6)\n",
        "    self.fig.canvas.draw_idle()  # Force redraw\n",
        "\n",
        "  def on_strike_clicked(self, button):\n",
        "    self.process_decision('Strike')\n",
        "\n",
        "  def on_no_strike_clicked(self, button):\n",
        "    self.process_decision('No Strike')\n",
        "\n",
        "  def process_decision(self, decision):\n",
        "    # freeze buttons while we process\n",
        "    self.strike_button.disabled = True\n",
        "    self.no_strike_button.disabled = True\n",
        "\n",
        "    # Process the user's decision, update score, and provide feedback\n",
        "    correct_action = 'Strike' if self.labels[self.current_index] == 1 else 'No Strike'\n",
        "    if decision == 'Strike':\n",
        "      if decision == correct_action:\n",
        "        self.score += 1\n",
        "        self.successful_strikes += 1\n",
        "      else:\n",
        "        self.score -= 1\n",
        "        self.failed_strikes += 1\n",
        "    elif decision == 'No Strike':\n",
        "      self.non_strikes += 1\n",
        "      # no strike means no gain or loss\n",
        "    else:\n",
        "      raise ValueError(f'Unknown decision: {decision}')\n",
        "\n",
        "    # Show feedback and score\n",
        "    if (self.feedback_type == 'both' or\n",
        "      (self.feedback_type == 'on_strike_only' and decision == 'Strike')):\n",
        "      # Show informative feedback\n",
        "      feedback = f'Your last choice: {decision}\\nCorrect last choice: {correct_action}'\n",
        "    else:\n",
        "      # Show uninformative feedback\n",
        "      feedback = 'Feedback only available after striking.'\n",
        "    with self.feedback_display:\n",
        "      clear_output(wait=True)\n",
        "      print(feedback)\n",
        "\n",
        "    # Show score\n",
        "    with self.score_display:\n",
        "      clear_output(wait=True)\n",
        "      average_score = self.score / (self.current_index+1)\n",
        "      print(f'Total Score: {self.score}')\n",
        "      print(f'Number of Trials: {self.current_index + 1}')\n",
        "      print(f'Successful Strikes: {self.successful_strikes}')\n",
        "      print(f'Failed Strikes: {self.failed_strikes}')\n",
        "      print(f'Non-Strikes: {self.non_strikes}')\n",
        "      print(f'Average Score Per Trial: {average_score:.2f}')\n",
        "\n",
        "    # Prepare the next image\n",
        "    self.current_index += 1\n",
        "    #print(self.current_index)\n",
        "    self.show_next_image()\n",
        "    # Re-enable buttons\n",
        "    self.strike_button.disabled = False\n",
        "    self.no_strike_button.disabled = False\n",
        "\n",
        "\n",
        "scramble_01_imp = InteractiveMNISTPredator(features=X_simple_1_feature,\n",
        "                                           labels=y1_simple, feedback_type='both')\n",
        "display(scramble_01_imp.fig.canvas)\n",
        "clear_output()\n",
        "display(scramble_01_imp.ui)"
      ],
      "metadata": {
        "colab": {
          "base_uri": "https://localhost:8080/",
          "height": 457,
          "referenced_widgets": [
            "7781f4aef05a4025addadcbae6ddb15d",
            "f5c466d6b644412da2738a79e48d5a32",
            "38ebd60aca604a50b48ddcaa563a02d1",
            "3ba62f9d03c648e58a86b98417b4f03b",
            "e96400808459465da17f07273b4116cb",
            "53288888cb644ccebd885d660010f66a",
            "e3013d54fdae4cda89c64f7973d034b5",
            "17913acc02934d8e80ecb6391a36dc67",
            "ebcf0149592a4d9ebf91478f71a1bbaf",
            "8ce535173d0f4780a7dcd27d45b40fd2",
            "2f27cea3af9a421bb1d63ac6e896592d",
            "c4ec03b546194c6db9c194608c41f783",
            "8b6f1fc5ed694895addff2f8652997b4",
            "b11aa9e6913543e58df596246f523a53",
            "cb3c8fc5898641c4ae7783af3939738b",
            "fe2409ec214d46668acd4dc13c784490",
            "2143d52fd6bb4449854a56f7f923d061",
            "49607fdce4804379b3d8b37b6ffa7462",
            "30187bb3607c4df78e2123629c517113",
            "a7aa7f64d826451eae04ef77fd4bb9b2",
            "7d85295e6e8946be911701bc3e189105",
            "dcb9e2d69fb3457c95fe994989b03dce"
          ]
        },
        "id": "Sm2TXO9rDYeF",
        "outputId": "1d939426-1a76-4906-a9da-0fe00d0e6bb7",
        "cellView": "form"
      },
      "execution_count": 2,
      "outputs": [
        {
          "output_type": "display_data",
          "data": {
            "text/plain": [
              "HBox(children=(VBox(children=(Canvas(footer_visible=False, header_visible=False, resizable=False, toolbar=Tool…"
            ],
            "application/vnd.jupyter.widget-view+json": {
              "version_major": 2,
              "version_minor": 0,
              "model_id": "7781f4aef05a4025addadcbae6ddb15d"
            }
          },
          "metadata": {
            "application/vnd.jupyter.widget-view+json": {
              "colab": {
                "custom_widget_manager": {
                  "url": "https://ssl.gstatic.com/colaboratory-static/widgets/colab-cdn-widget-manager/b3e629b1971e1542/manager.min.js"
                }
              }
            }
          }
        }
      ]
    },
    {
      "cell_type": "markdown",
      "source": [
        "For us at least, this task wasn't too hard. The simple association - strike when the center pixel is relatively light, don't strike when the center pixel is dark - works well. We can learn this association with our eyes and brains. Now, let's see if we can come up with a way to program an algorithm that will also learn this association. The dataset that underlies this strike-no-strike decision problem is sourced from the UCI Machine Learning Repository, (Alpaydin,E. and Kaynak,C. 1998. https://doi.org/10.24432/C50P49). Let's take a quick look at the data before we start coming up with a simple machine learning algorithm to correctly distinguish between the strike and no-strike cases."
      ],
      "metadata": {
        "id": "0uJnSw4CWzr3"
      }
    },
    {
      "cell_type": "code",
      "source": [
        "# What is the shape and type of the data we have to work with\n",
        "print(f'features data type: {X_simple_1_feature.dtype}')\n",
        "print(f'features shape: {X_simple_1_feature.shape}')\n",
        "print(f'labels data type: {y1_simple.dtype}')\n",
        "print(f'labels shape: {y1_simple.shape}')"
      ],
      "metadata": {
        "id": "7kDym35Uj2Uj",
        "outputId": "43596492-559e-4493-ef09-f7b311984efa",
        "colab": {
          "base_uri": "https://localhost:8080/"
        }
      },
      "execution_count": 3,
      "outputs": [
        {
          "output_type": "stream",
          "name": "stdout",
          "text": [
            "features data type: float64\n",
            "features shape: (1125, 1)\n",
            "labels data type: int64\n",
            "labels shape: (1125, 1)\n"
          ]
        }
      ]
    },
    {
      "cell_type": "code",
      "source": [
        "# what do the labels look like, what is their range\n",
        "print(y1_simple[:10])\n",
        "print(f'max label: {np.max(y1_simple)}')\n",
        "print(f'min label: {np.min(y1_simple)}')"
      ],
      "metadata": {
        "id": "JBy46a4QkQVF",
        "outputId": "93cfe6c7-2287-4a39-b24a-f3f7f24af962",
        "colab": {
          "base_uri": "https://localhost:8080/"
        }
      },
      "execution_count": 4,
      "outputs": [
        {
          "output_type": "stream",
          "name": "stdout",
          "text": [
            "[[0]\n",
            " [0]\n",
            " [0]\n",
            " [1]\n",
            " [0]\n",
            " [1]\n",
            " [0]\n",
            " [1]\n",
            " [0]\n",
            " [1]]\n",
            "max label: 1\n",
            "min label: 0\n"
          ]
        }
      ]
    },
    {
      "cell_type": "markdown",
      "source": [
        "***Note on Terminology:*** In a Supervised Learning context what we have been thinking of as the inputs to a sensory-behaviour circuit are called **features**. In a statistical/regression/experimental context these features or inputs are thought of as the independent variables or regressors. The 'correct' behavioural output is called the **label** or **target** in a supervised learning ML context, or the dependent variable in a statistical/regression/experimental context. Supervised Learning revolves around the concept of feature-label or $(\\mathbf{x},\\mathbf{y})$ pairs. The basic goal of Supervised Learning is to discover the rule or process that generates these pairs, or a good approximation of it, solely by examining examples. The set of examples that we have to learn the rule from is called the **training set**. We will use the terms features and label when we want to emphasize the abstract algorithm and learning problem, and the terms sensory-input and target behaviour when we want to emphasize the embodied neural context of the problem."
      ],
      "metadata": {
        "id": "MR5xjAVeviBM"
      }
    },
    {
      "cell_type": "markdown",
      "source": [
        "In the game we setup above we used the label '1' to correspond to situations when 'strike' is the correct action and the label '0' to correspond to situations where 'no-strike' is the correct action."
      ],
      "metadata": {
        "id": "uNx5o78_nasq"
      }
    },
    {
      "cell_type": "code",
      "source": [
        "# what do the features look like, what is there range\n",
        "print(X_simple_1_feature[:10])\n",
        "print(f'max features: {np.max(X_simple_1_feature)}')\n",
        "print(f'min features: {np.min(X_simple_1_feature)}')"
      ],
      "metadata": {
        "id": "neO50Ie4ljUC",
        "outputId": "fd2ba48b-31d6-467e-969e-f80ac13cb979",
        "colab": {
          "base_uri": "https://localhost:8080/"
        }
      },
      "execution_count": 5,
      "outputs": [
        {
          "output_type": "stream",
          "name": "stdout",
          "text": [
            "[[-6. ]\n",
            " [-6. ]\n",
            " [-6. ]\n",
            " [ 6. ]\n",
            " [-6. ]\n",
            " [ 4.5]\n",
            " [-6. ]\n",
            " [ 6. ]\n",
            " [-6. ]\n",
            " [ 6. ]]\n",
            "max features: 6.0\n",
            "min features: -6.0\n"
          ]
        }
      ]
    },
    {
      "cell_type": "markdown",
      "source": [
        "In the visualization above a high 'feature value' corresponded to lighter colors in the center pixels and a lower feature value corresponded to darker feature values."
      ],
      "metadata": {
        "id": "qJd2qyMvnyvp"
      }
    },
    {
      "cell_type": "code",
      "source": [
        "# and for scalar data always good to look at a histogram\n",
        "fig, (ax1, ax2) = plt.subplots(2, 1)\n",
        "ax1.hist(X_simple_1_feature[y1_simple.flatten() == 1])\n",
        "ax1.set_title('Feature Distribution When Strike is Correct')\n",
        "ax2.hist(X_simple_1_feature[y1_simple.flatten() == 0])\n",
        "ax2.set_title('Feature Distribution When No-Strike is Correct')\n",
        "plt.show()"
      ],
      "metadata": {
        "id": "4_kJe4Dbkrro",
        "outputId": "3262cf5a-7cd1-482b-abaa-3a37d54b98fb",
        "colab": {
          "base_uri": "https://localhost:8080/",
          "height": 689,
          "referenced_widgets": [
            "6228e5b7139e40a8a0a0b06a53383304",
            "0d4827ce93cf401da48c6fcf391f72c7",
            "d941b330628b4d2dadafa446e4577d6c",
            "05e75475ad4b44fb8ef4856cf1898d82"
          ]
        }
      },
      "execution_count": 6,
      "outputs": [
        {
          "output_type": "display_data",
          "data": {
            "text/plain": [
              "Canvas(toolbar=Toolbar(toolitems=[('Home', 'Reset original view', 'home', 'home'), ('Back', 'Back to previous …"
            ],
            "image/png": "[encoded data removed]",
            "text/html": [
              "\n",
              "            <div style=\"display: inline-block;\">\n",
              "                <div class=\"jupyter-widgets widget-label\" style=\"text-align: center;\">\n",
              "                    Figure\n",
              "                </div>\n",
              "                <img src='data:image/png;base64,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' width=800.0/>\n",
              "            </div>\n",
              "        "
            ],
            "application/vnd.jupyter.widget-view+json": {
              "version_major": 2,
              "version_minor": 0,
              "model_id": "6228e5b7139e40a8a0a0b06a53383304"
            }
          },
          "metadata": {
            "application/vnd.jupyter.widget-view+json": {
              "colab": {
                "custom_widget_manager": {
                  "url": "https://ssl.gstatic.com/colaboratory-static/widgets/colab-cdn-widget-manager/b3e629b1971e1542/manager.min.js"
                }
              }
            }
          }
        }
      ]
    },
    {
      "cell_type": "markdown",
      "source": [
        "Looking at the distribution of the feature across these two classes (strike vs. no-strike situations), we see that we should be able to correctly discriminate between these two cases most of the time using just this one feature."
      ],
      "metadata": {
        "id": "fhSQPPZmolv4"
      }
    },
    {
      "cell_type": "markdown",
      "source": [
        "Now, if we were acting as scientists (which we sometimes do!), we'd think hard and carefully about the specific physical processes behind these features (the ML term for model/sensory inputs) and labels (the ML term for 'correct answer'), and this would guide the types of analyses to perform on the data and the kinds of inferences and conclusions we could draw.\n",
        "But in this moment, we're not acting as scientists in pursuit of deep understanding; we're acting as algorithm designers focused on figuring out how to do the right thing. We want to come up with a process for 'learning a function' that takes this feature as an input and generates the correct behaviour (as defined by the labels) as output. A zero label means no strike is the right thing to do (no prey present) and a one label means striking is the right thing to do (prey are present).  "
      ],
      "metadata": {
        "id": "aiVMgOYftfDi"
      }
    },
    {
      "cell_type": "markdown",
      "source": [
        "As inspiration for our learning algorithm we imagine a very simple organism. One that has a single sensory input neuron, in turn connected to a single output neuron by single synaptic weight. If the output neuron fires (spikes) the predator strikes, and if it does not fire the predator does not strike.\n",
        "\n",
        "We model this creature's sensory-behaviour system as follows. Let $x$ be the raw sensory input (scalar) in a given episode. We imagine that $x$ corresponds to the activation level and firing rate of a single photosensitive neuron. This input neuron is then connected by a synapse to a single output neuron. The activation level of this output neuron is computed as\n",
        "$$y = wx + b$$\n",
        "Here, $b$ is the (scalar) bias, or baseline activation level of the output neuron and $w$ is the strength of the synaptic weight between the input neuron and the output neuron. Is this case there is only one output and one input so $w$ is a scalar. In cases with multiple inputs and outputs we would use $\\mathbf{W}$ to denote the matrix of such synaptic weights and $\\mathbf{x}$ to denote the vector of sensory inputs. (A quick notation reminder: bold lowercase letters typically represent column vectors, bold uppercase letters typically denote matrices or higher-order tensors.) We imagine that the probabilistic spiking of this output neuron determines the strike-no-strike behaviour of the organism, specifically:\n",
        "$$ \\Pr \\{\\text{strike}\\} = \\sigma(y) $$\n",
        "$$ \\Pr \\{\\text{no strike}\\} = 1 - \\sigma(y)$$\n",
        "\n",
        "Here $\\sigma(y): \\frac{1}{1+e^{-y}} = \\frac{e^y}{1+e^y}$ is the standard logistic (sigmoid) function."
      ],
      "metadata": {
        "id": "xA-sEkUNTD94"
      }
    },
    {
      "cell_type": "markdown",
      "source": [
        "--Picture of this very simple neural circuit here--"
      ],
      "metadata": {
        "id": "OiIFH5wIzBcO"
      }
    },
    {
      "cell_type": "markdown",
      "source": [
        "**Quick Math Exercise: The Connection Between Softmax Normalization and the Standard Logistic Sigmoid.**\n",
        "\n",
        "Consider a random variable with two possible outcomes, $A$ and $B$. The probability of each outcome is determined by applying the softmax function to their respective scores, $a$ and $b$. Specifically, the probability of outcome $A$ occurring is given by the softmax formula:\n",
        "$$ \\Pr \\{A\\} = \\frac{e^a}{e^a + e^b}$$\n",
        "Interestingly, $\\Pr\\{A\\}$ can be expressed in terms of the logistic (sigmoid) function, $\\sigma(x)$, where $x$ is a function of the scores $a$ and $b$. Your task is to determine this function, denoted as $f(a, b)$, so that $\\Pr{A} = \\sigma(f(a, b))$.\n",
        "\n",
        "(Answer: $$\\frac{e^a}{e^a + e^b} = \\frac{1}{1 + e^{b-a}} = \\sigma(a-b)$$\n",
        "The sigmoid of the difference in the scores gives the probability.)"
      ],
      "metadata": {
        "id": "QPaUCc6KsAXV"
      }
    },
    {
      "cell_type": "markdown",
      "source": [
        "Having established how behaviour is determined by sensory input, $x$, and parameters $w$, $b$, i.e. our policy, we now need to develop a rule for modifying this policy based on environmental feedback.\n",
        "\n",
        "Our goal is to come up with a rule that prescribes changes to the synaptic weight $w$ and bias $b$ in such a way that the reward obtained over time increases (and ideally approaches the theoretical maximum over many learning trials).\n",
        "\n",
        "Our previous 'guess and check' learning method from sequence 1.3.4, while not the most efficient, proved effective, as were the 'propose and reject' style algorithms that we explored earlier and that are akin to what evolution by natural selection implements. Building on this idea of 'propose and reject' we will perturb the existing parameters by a small amount and evaluate the behaviour function using the perturbed parameters. However, instead of just simply accepting or rejecting the proposed parameters (kind of like natural selection does) we will instead ***measure the relationship between the change in the performance of the organism (in terms of reward obtained) and the changes in the parameters.*** An update will then be applied to the weights that is ***proportional*** to the ***measured performance changes*** over the ***measured parameter changes***, i.e. an estimate of the rate of change in performance for changes in the parameters. As a word equation\n",
        "\n",
        "$$ \\text{Parameter Update} = \\alpha \\cdot \\frac{\\text{Measured Perturbation in Performance}}{\\text{Measured Perturbation in Parameters}}$$\n",
        "\n",
        "where $\\alpha$ is some constant of proportionality, in this case usually called the learning rate or step-size meta-parameter of the learning algorithm.\n",
        "\n",
        "On the one hand we might expect a 'measure and update' method to be more efficient than a 'propose and reject' method, because with a 'propose and reject' algorithm we don't make any parameter updates unless 'better' parameters are proposed. This means that most of the information from evaluation is thrown away every time parameters are rejected. In contrast, a 'measure and update' method will always updated the parameters using the information gleaned from the tested parameters. However, unlike the 'propose and reject' algorithm it's possible that the updates made by a 'measure and update' approach do not actually improve performance.\n",
        "\n",
        "Let's try it and see."
      ],
      "metadata": {
        "id": "ewD_6vPoUgq6"
      }
    },
    {
      "cell_type": "code",
      "source": [
        "################################################################################\n",
        "# TODO for students: Complete the lines with ... to implement a parameter\n",
        "# evalution function\n",
        "raise NotImplementedError(\"Exercise: parameter evaluation\")\n",
        "################################################################################\n",
        "\n",
        "\n",
        "def np_sigmoid(x):\n",
        "  return 1 / (1 + np.exp(-x))\n",
        "\n",
        "\n",
        "def eval_params_slow(w, b, x, y):\n",
        "  \"\"\"\n",
        "  evaluates parameters of simple behaviour circuit given inputs and target\n",
        "  outputs, use for loops to think carefully about what we're doing\n",
        "  Args:\n",
        "    w: (scalar) weight between sensory and output neuron\n",
        "    b: (scalar) bias of behavioural output neuron\n",
        "    x: (1 np.array x batch) sensory input\n",
        "       (can be single input, mini-batch of inputs or the whole batch of inputs)\n",
        "    y: (1 np.array x batch) target behavioural output (can be a single target,\n",
        "       mini-batch of targets, or whole batch), needs to correspond to input\n",
        "\n",
        "  Returns:\n",
        "    R_bar: the average/expected reward obtained given the parameters, over the\n",
        "           (mini-)batch of inputs and targets. (mini-batch could be size 1)\n",
        "  \"\"\"\n",
        "  batch_len = x.shape[1]\n",
        "  h = np.zeros((1, batch_len))\n",
        "  y_hat = np.zeros((1, batch_len))\n",
        "  R_total = 0\n",
        "  for ii in range(batch_len):\n",
        "    h[0,ii] = ...\n",
        "    y_hat[0,ii] = np_sigmoid(...)\n",
        "    # y_hat is our probability of striking\n",
        "    # compute the expected score\n",
        "    if y[0,ii] == 1:\n",
        "      # supposed to strike\n",
        "      # with probability y_hat creature strikes and gets a point\n",
        "      R_total += y_hat[0,ii] * 1.0\n",
        "      # with probability 1-y_hat creature doesn't strike and gets zero points\n",
        "      R_total += (1-y_hat[0,ii]) * 0.0\n",
        "    elif y[0,ii] == 0:\n",
        "      # not supposed to strike\n",
        "      # with probability y_hat creature strikes and loses a point\n",
        "      R_total += y_hat[0,ii] * -1.0\n",
        "      # with probability 1-y_hat creature doesn't strike and gets zero points\n",
        "      R_total += (1-y_hat[0,ii]) * 0.0\n",
        "    else:\n",
        "      raise ValueError(f'Unexpected target: {y[ii,0]}')\n",
        "  R_avg = R_total / batch_len\n",
        "  return R_avg\n",
        "\n",
        "\n",
        "def eval_params(w, b, x, y):\n",
        "  \"\"\"\n",
        "  evaluates parameters of simple behaviour circuit given inputs and target\n",
        "  outputs, use numpy broadcasting to be fast and concise\n",
        "  Args:\n",
        "    w: (scalar) weight between sensory and output neuron\n",
        "    b: (scalar) bias of behavioural output neuron\n",
        "    x: (batch x 1 np.array) sensory input\n",
        "       (can be single input, mini-batch of inputs or the whole batch of inputs)\n",
        "    y: (batch x 1 np.array) target behavioural output (can be a single target,\n",
        "       mini-batch of targets, or whole batch), needs to correspond to input\n",
        "\n",
        "  Returns:\n",
        "    R_bar: the average/expected reward obtained given the parameters, over the\n",
        "           (mini-)batch of inputs and targets. (mini-batch could be size 1)\n",
        "  \"\"\"\n",
        "  h = w * x + b\n",
        "  y_hat = np_sigmoid(h)\n",
        "  y_score = np.copy(y)\n",
        "  y_score[y_score == 0] = -1\n",
        "  batch_expected_reward = y_score * y_hat\n",
        "  R_avg = np.mean(batch_expected_reward)\n",
        "  return R_avg\n"
      ],
      "metadata": {
        "colab": {
          "base_uri": "https://localhost:8080/",
          "height": 247
        },
        "id": "EWc4CR-CUBPH",
        "outputId": "44985ff8-f558-48a1-ad7e-0b289c0a5807"
      },
      "execution_count": 7,
      "outputs": [
        {
          "output_type": "error",
          "ename": "NotImplementedError",
          "evalue": "Exercise: parameter evaluation",
          "traceback": [
            "\u001b[0;31m---------------------------------------------------------------------------\u001b[0m",
            "\u001b[0;31mNotImplementedError\u001b[0m                       Traceback (most recent call last)",
            "\u001b[0;32m<ipython-input-7-358b573a227c>\u001b[0m in \u001b[0;36m<cell line: 4>\u001b[0;34m()\u001b[0m\n\u001b[1;32m      2\u001b[0m \u001b[0;31m# TODO for students: Complete the lines with ... to implement a parameter\u001b[0m\u001b[0;34m\u001b[0m\u001b[0;34m\u001b[0m\u001b[0m\n\u001b[1;32m      3\u001b[0m \u001b[0;31m# evalution function\u001b[0m\u001b[0;34m\u001b[0m\u001b[0;34m\u001b[0m\u001b[0m\n\u001b[0;32m----> 4\u001b[0;31m \u001b[0;32mraise\u001b[0m \u001b[0mNotImplementedError\u001b[0m\u001b[0;34m(\u001b[0m\u001b[0;34m\"Exercise: parameter evaluation\"\u001b[0m\u001b[0;34m)\u001b[0m\u001b[0;34m\u001b[0m\u001b[0;34m\u001b[0m\u001b[0m\n\u001b[0m\u001b[1;32m      5\u001b[0m \u001b[0;31m################################################################################\u001b[0m\u001b[0;34m\u001b[0m\u001b[0;34m\u001b[0m\u001b[0m\n\u001b[1;32m      6\u001b[0m \u001b[0;34m\u001b[0m\u001b[0m\n",
            "\u001b[0;31mNotImplementedError\u001b[0m: Exercise: parameter evaluation"
          ]
        }
      ]
    },
    {
      "cell_type": "code",
      "source": [
        "# to_remove solution\n",
        "\n",
        "def np_sigmoid(x):\n",
        "  return 1 / (1 + np.exp(-x))\n",
        "\n",
        "\n",
        "def eval_params_slow(w, b, x, y):\n",
        "  \"\"\"\n",
        "  evaluates parameters of simple behaviour circuit given inputs and target\n",
        "  outputs, use for loops to think carefully about what we're doing\n",
        "  Args:\n",
        "    w: (scalar) weight between sensory and output neuron\n",
        "    b: (scalar) bias of behavioural output neuron\n",
        "    x: (1 np.array x batch) sensory input\n",
        "       (can be single input, mini-batch of inputs or the whole batch of inputs)\n",
        "    y: (1 np.array x batch) target behavioural output (can be a single target,\n",
        "       mini-batch of targets, or whole batch), needs to correspond to input\n",
        "\n",
        "  Returns:\n",
        "    R_bar: the average/expected reward obtained given the parameters, over the\n",
        "           (mini-)batch of inputs and targets. (mini-batch could be size 1)\n",
        "  \"\"\"\n",
        "  batch_len = x.shape[1]\n",
        "  h = np.zeros((1, batch_len))\n",
        "  y_hat = np.zeros((1, batch_len))\n",
        "  R_total = 0\n",
        "  for ii in range(batch_len):\n",
        "    h[0,ii] = w * x[0,ii] + b\n",
        "    y_hat[0,ii] = np_sigmoid(h[0,ii])\n",
        "    # y_hat is our probability of striking\n",
        "    # compute the expected score\n",
        "    if y[0,ii] == 1:\n",
        "      # supposed to strike\n",
        "      # with probability y_hat creature strikes and gets a point\n",
        "      R_total += y_hat[0,ii] * 1.0\n",
        "      # with probability 1-y_hat creature doesn't strike and gets zero points\n",
        "      R_total += (1-y_hat[0,ii]) * 0.0\n",
        "    elif y[0,ii] == 0:\n",
        "      # not supposed to strike\n",
        "      # with probability y_hat creature strikes and loses a point\n",
        "      R_total += y_hat[0,ii] * -1.0\n",
        "      # with probability 1-y_hat creature doesn't strike and gets zero points\n",
        "      R_total += (1-y_hat[0,ii]) * 0.0\n",
        "    else:\n",
        "      raise ValueError(f'Unexpected target: {y[ii,0]}')\n",
        "  R_avg = R_total / batch_len\n",
        "  return R_avg\n",
        "\n",
        "\n",
        "def eval_params(w, b, x, y):\n",
        "  \"\"\"\n",
        "  evaluates parameters of simple behaviour circuit given inputs and target\n",
        "  outputs, use numpy broadcasting to be fast and concise\n",
        "  Args:\n",
        "    w: (scalar) weight between sensory and output neuron\n",
        "    b: (scalar) bias of behavioural output neuron\n",
        "    x: (batch x 1 np.array) sensory input\n",
        "       (can be single input, mini-batch of inputs or the whole batch of inputs)\n",
        "    y: (batch x 1 np.array) target behavioural output (can be a single target,\n",
        "       mini-batch of targets, or whole batch), needs to correspond to input\n",
        "\n",
        "  Returns:\n",
        "    R_bar: the average/expected reward obtained given the parameters, over the\n",
        "           (mini-)batch of inputs and targets. (mini-batch could be size 1)\n",
        "  \"\"\"\n",
        "  h = w * x + b\n",
        "  y_hat = np_sigmoid(h)\n",
        "  y_score = np.copy(y)\n",
        "  y_score[y_score == 0] = -1\n",
        "  batch_expected_reward = y_score * y_hat\n",
        "  R_avg = np.mean(batch_expected_reward)\n",
        "  return R_avg\n"
      ],
      "metadata": {
        "id": "HDa7I96ubNUs"
      },
      "execution_count": 8,
      "outputs": []
    },
    {
      "cell_type": "markdown",
      "source": [
        "In this exercise, we actually implemented the same function twice, once using a for loop to iterate over the (mini-)batch of inputs and targets, and once using NumPy broadcasting to compute the batch reward (roughly) in parallel. Run the following code cells to see what kind of computational efficiency this buys us."
      ],
      "metadata": {
        "id": "kW3lxhcre236"
      }
    },
    {
      "cell_type": "code",
      "source": [
        "X_simple_1_feature.T.shape"
      ],
      "metadata": {
        "id": "sPJ1Z3KvqsCx",
        "outputId": "45a25cd4-e586-4f97-81c6-019f7400624d",
        "colab": {
          "base_uri": "https://localhost:8080/"
        }
      },
      "execution_count": 9,
      "outputs": [
        {
          "output_type": "execute_result",
          "data": {
            "text/plain": [
              "(1, 1125)"
            ]
          },
          "metadata": {},
          "execution_count": 9
        }
      ]
    },
    {
      "cell_type": "code",
      "source": [
        "eval_params_slow(1, 0, X_simple_1_feature.T, y1_simple.T)"
      ],
      "metadata": {
        "id": "Vn3QskI2q8Rl",
        "outputId": "f08a5239-5a30-46f0-94e5-e62dca8efa3a",
        "colab": {
          "base_uri": "https://localhost:8080/"
        }
      },
      "execution_count": 10,
      "outputs": [
        {
          "output_type": "execute_result",
          "data": {
            "text/plain": [
              "0.46215956306090394"
            ]
          },
          "metadata": {},
          "execution_count": 10
        }
      ]
    },
    {
      "cell_type": "code",
      "source": [
        "eval_params(1, 0, X_simple_1_feature.T, y1_simple.T)"
      ],
      "metadata": {
        "id": "5w4Cvwj5rNFX",
        "outputId": "4eb5a007-604a-4c0c-ca9c-9f414403558e",
        "colab": {
          "base_uri": "https://localhost:8080/"
        }
      },
      "execution_count": 11,
      "outputs": [
        {
          "output_type": "execute_result",
          "data": {
            "text/plain": [
              "0.4621595630608997"
            ]
          },
          "metadata": {},
          "execution_count": 11
        }
      ]
    },
    {
      "cell_type": "code",
      "source": [
        "%timeit eval_params_slow(1, 0, X_simple_1_feature.T, y1_simple.T)"
      ],
      "metadata": {
        "colab": {
          "base_uri": "https://localhost:8080/"
        },
        "id": "5Ym0WutAbU-t",
        "outputId": "e9e28e83-8632-4754-9ec5-2edb054fa757"
      },
      "execution_count": 12,
      "outputs": [
        {
          "output_type": "stream",
          "name": "stdout",
          "text": [
            "3.45 ms ± 22.3 µs per loop (mean ± std. dev. of 7 runs, 100 loops each)\n"
          ]
        }
      ]
    },
    {
      "cell_type": "code",
      "source": [
        "%timeit eval_params(1, 0, X_simple_1_feature.T, y1_simple.T)"
      ],
      "metadata": {
        "colab": {
          "base_uri": "https://localhost:8080/"
        },
        "id": "03WM4qQJfZcP",
        "outputId": "b04c8d84-0149-4806-e662-e24373746b89"
      },
      "execution_count": 13,
      "outputs": [
        {
          "output_type": "stream",
          "name": "stdout",
          "text": [
            "52.8 µs ± 430 ns per loop (mean ± std. dev. of 7 runs, 10000 loops each)\n"
          ]
        }
      ]
    },
    {
      "cell_type": "markdown",
      "source": [
        "In our specific example (on the specific COLAB instance we're writing this on in 2024), the broadcasting approach in Python, using NumPy, is approximately 50 times faster than using for-loops. This is because for-loops in interpreted languages like Python incur significant overhead at each iteration, but also because potential dependencies between loop iterations limit parallelization. In contrast, broadcasting allows for vectorized operations, enabling parallel execution that can harness more of the underlying hardware's computational power. NumPy enhances this efficiency further by utilizing highly optimized, pre-compiled linear algebra libraries (primarily hardware-specific implementations of BLAS and LAPACK). The same principles apply (though are sometimes less critical) in compiled languages or with Just-In-Time (JIT) compilation frameworks like JAX. Broadcasting or tensor notation not only improves performance but also maintains code brevity and alignment with mathematical notation. As scientists and programmers, we do not need to understand every detail of how the magic of computational parallelism allows for fast linear algebra, but it is crucial to appreciate the potential impacts on computational efficiency."
      ],
      "metadata": {
        "id": "LeWqCr0Zhl9r"
      }
    },
    {
      "cell_type": "markdown",
      "source": [
        "Okay, so we have the ability to evaluate the parameters in terms of the average score they yield when applied across the whole dataset of example pairs of sensory inputs and correct actions. In each iteration of our learning (training) loop, we will perturb our parameters using Gaussian noise and ***measure the relationship*** between the parameter changes and the average expected reward as determined by our evaluation function. After measuring this relationship, we will update each parameter in proportion to the rate of improvement of the score with respect to the change in the underlying parameter."
      ],
      "metadata": {
        "id": "aUyHKEkHrtgJ"
      }
    },
    {
      "cell_type": "code",
      "source": [
        "# @title Measure and Update Training Loop\n",
        "################################################################################\n",
        "# TODO for students: Complete the lines with ... to implement a parameter\n",
        "# evalution function\n",
        "raise NotImplementedError(\"Exercise: Measure and Update Training Loop\")\n",
        "################################################################################\n",
        "\n",
        "\n",
        "learn_rng = np.random.default_rng(0)\n",
        "num_learning_episodes = 100000\n",
        "alpha = 200 #learning rate / step size\n",
        "perturbation_scale = 0.1 # std of guassian parameter perturbations\n",
        "w_init = 1\n",
        "b_init = 0\n",
        "w = w_init\n",
        "b = b_init\n",
        "start_time = time.time()\n",
        "for ii in range(num_learning_episodes+1):\n",
        "  R_bar_old = eval_params(w, b, X_simple_1_feature.T, y1_simple.T)\n",
        "  # perturb w and evaluate\n",
        "  w_perturbation = learn_rng.normal(0, perturbation_scale)\n",
        "  w_perturbed = w + ...\n",
        "  R_bar_perturbed_w = eval_params(..., b, X_simple_1_feature.T, y1_simple.T)\n",
        "  # perturb b and evaluate\n",
        "  b_perturbation = learn_rng.normal(0, perturbation_scale)\n",
        "  b_perturbed = b + ...\n",
        "  R_bar_perturbed_b = eval_params(..., b_perturbed, X_simple_1_feature, y1_simple)\n",
        "  # estimate rate of change of reward for each parameter\n",
        "  finite_difference_w = ...\n",
        "  finite_difference_b = ...\n",
        "  # update parameters based on finte difference estimate rate of change\n",
        "  # of reward with respect to parameters\n",
        "  delta_w = alpha * finite_difference_w\n",
        "  delta_b = alpha * finite_difference_b\n",
        "  w += delta_w\n",
        "  b += delta_b\n",
        "\n",
        "  if ii == 0 or ii % 5000 == 0:\n",
        "    elapsed_time = time.time() - start_time\n",
        "    print(f'{\"Iteration\":>12}: {ii:<6} | {\"w\":>1}={w:<8.4f} | {\"b\":>1}={b:<8.4f} | {\"R_bar\":>5}={R_bar_old:<8.6f} | {\"Time\":>4}={elapsed_time:<5.2f} seconds')"
      ],
      "metadata": {
        "colab": {
          "base_uri": "https://localhost:8080/",
          "height": 247
        },
        "id": "dWnBDq3j-wkl",
        "outputId": "c8808d98-456c-4acb-f0a5-f506eeb27b02"
      },
      "execution_count": 14,
      "outputs": [
        {
          "output_type": "error",
          "ename": "NotImplementedError",
          "evalue": "Exercise: Measure and Update Training Loop",
          "traceback": [
            "\u001b[0;31m---------------------------------------------------------------------------\u001b[0m",
            "\u001b[0;31mNotImplementedError\u001b[0m                       Traceback (most recent call last)",
            "\u001b[0;32m<ipython-input-14-823afaf06cc6>\u001b[0m in \u001b[0;36m<cell line: 5>\u001b[0;34m()\u001b[0m\n\u001b[1;32m      3\u001b[0m \u001b[0;31m# TODO for students: Complete the lines with ... to implement a parameter\u001b[0m\u001b[0;34m\u001b[0m\u001b[0;34m\u001b[0m\u001b[0m\n\u001b[1;32m      4\u001b[0m \u001b[0;31m# evalution function\u001b[0m\u001b[0;34m\u001b[0m\u001b[0;34m\u001b[0m\u001b[0m\n\u001b[0;32m----> 5\u001b[0;31m \u001b[0;32mraise\u001b[0m \u001b[0mNotImplementedError\u001b[0m\u001b[0;34m(\u001b[0m\u001b[0;34m\"Exercise: Measure and Update Training Loop\"\u001b[0m\u001b[0;34m)\u001b[0m\u001b[0;34m\u001b[0m\u001b[0;34m\u001b[0m\u001b[0m\n\u001b[0m\u001b[1;32m      6\u001b[0m \u001b[0;31m################################################################################\u001b[0m\u001b[0;34m\u001b[0m\u001b[0;34m\u001b[0m\u001b[0m\n\u001b[1;32m      7\u001b[0m \u001b[0;34m\u001b[0m\u001b[0m\n",
            "\u001b[0;31mNotImplementedError\u001b[0m: Exercise: Measure and Update Training Loop"
          ]
        }
      ]
    },
    {
      "cell_type": "code",
      "source": [
        "# to_remove solution\n",
        "\n",
        "learn_rng = np.random.default_rng(1)\n",
        "num_learning_episodes = 100000\n",
        "alpha = 100 #learning rate / step size\n",
        "perturbation_scale = 0.01 # std of guassian parameter perturbations\n",
        "w_init = 1\n",
        "b_init = 0\n",
        "w = w_init\n",
        "b = b_init\n",
        "start_time = time.time()\n",
        "for ii in range(num_learning_episodes+1):\n",
        "  R_bar_old = eval_params(w, b, X_simple_1_feature.T, y1_simple.T)\n",
        "  # perturb w and evaluate\n",
        "  w_perturbation = learn_rng.normal(0, perturbation_scale)\n",
        "  w_perturbed = w + w_perturbation\n",
        "  R_bar_perturbed_w = eval_params(w_perturbed, b, X_simple_1_feature.T, y1_simple.T)\n",
        "  # perturb b and evaluate\n",
        "  b_perturbation = learn_rng.normal(0, perturbation_scale)\n",
        "  b_perturbed = b + b_perturbation\n",
        "  R_bar_perturbed_b = eval_params(w, b_perturbed, X_simple_1_feature, y1_simple)\n",
        "  # estimate rate of change of reward for each parameter\n",
        "  finite_difference_w = (R_bar_perturbed_w - R_bar_old) / w_perturbation\n",
        "  finite_difference_b = (R_bar_perturbed_b - R_bar_old) / b_perturbation\n",
        "  # update parameters based on finte difference estimate rate of change\n",
        "  # of reward with respect to parameters\n",
        "  delta_w = alpha * finite_difference_w\n",
        "  delta_b = alpha * finite_difference_b\n",
        "  w += delta_w\n",
        "  b += delta_b\n",
        "\n",
        "  if ii == 0 or ii % 5000 == 0:\n",
        "    elapsed_time = time.time() - start_time\n",
        "    print(f'{\"Iteration\":>12}: {ii:<6} | {\"w\":>1}={w:<8.4f} | {\"b\":>1}={b:<8.4f} | {\"R_bar\":>5}={R_bar_old:<8.6f} | {\"Time\":>4}={elapsed_time:<5.2f} seconds')"
      ],
      "metadata": {
        "colab": {
          "base_uri": "https://localhost:8080/"
        },
        "id": "XzuNzClBsiGX",
        "outputId": "89e2a9fb-c1bf-4bfa-cbc2-762a0c625d6e"
      },
      "execution_count": 15,
      "outputs": [
        {
          "output_type": "stream",
          "name": "stdout",
          "text": [
            "   Iteration: 0      | w=3.3084   | b=1.2322   | R_bar=0.462160 | Time=0.00  seconds\n",
            "   Iteration: 5000   | w=10.5986  | b=35.7523  | R_bar=0.494930 | Time=0.88  seconds\n",
            "   Iteration: 10000  | w=12.4737  | b=42.0861  | R_bar=0.495021 | Time=1.73  seconds\n",
            "   Iteration: 15000  | w=13.5704  | b=45.7886  | R_bar=0.495051 | Time=2.57  seconds\n",
            "   Iteration: 20000  | w=14.3501  | b=48.4207  | R_bar=0.495066 | Time=3.43  seconds\n",
            "   Iteration: 25000  | w=14.9541  | b=50.4571  | R_bar=0.495075 | Time=4.28  seconds\n",
            "   Iteration: 30000  | w=15.4459  | b=52.1207  | R_bar=0.495081 | Time=5.12  seconds\n",
            "   Iteration: 35000  | w=15.8618  | b=53.5206  | R_bar=0.495086 | Time=6.02  seconds\n",
            "   Iteration: 40000  | w=16.2205  | b=54.7341  | R_bar=0.495089 | Time=6.86  seconds\n",
            "   Iteration: 45000  | w=16.5378  | b=55.8054  | R_bar=0.495091 | Time=7.72  seconds\n",
            "   Iteration: 50000  | w=16.8211  | b=56.7606  | R_bar=0.495093 | Time=8.56  seconds\n",
            "   Iteration: 55000  | w=17.0772  | b=57.6255  | R_bar=0.495095 | Time=9.42  seconds\n",
            "   Iteration: 60000  | w=17.3128  | b=58.4166  | R_bar=0.495096 | Time=10.28 seconds\n",
            "   Iteration: 65000  | w=17.5266  | b=59.1392  | R_bar=0.495097 | Time=11.14 seconds\n",
            "   Iteration: 70000  | w=17.7256  | b=59.8123  | R_bar=0.495098 | Time=12.03 seconds\n",
            "   Iteration: 75000  | w=17.9107  | b=60.4377  | R_bar=0.495099 | Time=12.88 seconds\n",
            "   Iteration: 80000  | w=18.0842  | b=61.0238  | R_bar=0.495100 | Time=13.76 seconds\n",
            "   Iteration: 85000  | w=18.2466  | b=61.5708  | R_bar=0.495101 | Time=14.67 seconds\n",
            "   Iteration: 90000  | w=18.3989  | b=62.0867  | R_bar=0.495101 | Time=15.60 seconds\n",
            "   Iteration: 95000  | w=18.5449  | b=62.5774  | R_bar=0.495102 | Time=16.45 seconds\n",
            "   Iteration: 100000 | w=18.6823  | b=63.0412  | R_bar=0.495102 | Time=17.31 seconds\n"
          ]
        }
      ]
    },
    {
      "cell_type": "markdown",
      "source": [
        "Is an R_bar of 0.4951... good or bad? Let's look at the data. How many striking opportunities are there, versus situation where no-strike is best?"
      ],
      "metadata": {
        "id": "y4twkW7jhuGg"
      }
    },
    {
      "cell_type": "code",
      "source": [
        "# number of striking opportunities\n",
        "np.sum(y1_simple == 1)"
      ],
      "metadata": {
        "colab": {
          "base_uri": "https://localhost:8080/"
        },
        "id": "4kXwXVBQh0rz",
        "outputId": "f2dd1c87-cfe0-4757-ae9c-b22278713088"
      },
      "execution_count": 16,
      "outputs": [
        {
          "output_type": "execute_result",
          "data": {
            "text/plain": [
              "571"
            ]
          },
          "metadata": {},
          "execution_count": 16
        }
      ]
    },
    {
      "cell_type": "code",
      "source": [
        "#number of non-strike situations\n",
        "np.sum(y1_simple == 0)"
      ],
      "metadata": {
        "colab": {
          "base_uri": "https://localhost:8080/"
        },
        "id": "1J_2fz4siiKJ",
        "outputId": "f6aefd43-4667-44f6-828f-1a1dedd826ac"
      },
      "execution_count": 17,
      "outputs": [
        {
          "output_type": "execute_result",
          "data": {
            "text/plain": [
              "554"
            ]
          },
          "metadata": {},
          "execution_count": 17
        }
      ]
    },
    {
      "cell_type": "code",
      "source": [
        "# proportion of situations where a point can be earned\n",
        "571 / (571 + 554)"
      ],
      "metadata": {
        "colab": {
          "base_uri": "https://localhost:8080/"
        },
        "id": "14VOIptYin9V",
        "outputId": "eca1df90-53c0-48c3-901b-c535adc31845"
      },
      "execution_count": 18,
      "outputs": [
        {
          "output_type": "execute_result",
          "data": {
            "text/plain": [
              "0.5075555555555555"
            ]
          },
          "metadata": {},
          "execution_count": 18
        }
      ]
    },
    {
      "cell_type": "markdown",
      "source": [
        "So, back to our question: Is an average score of 0.4951... per round good? Well, yes. A perfect score is ~0.5075. Given that we have only a single feature - that can't perfectly separate the two cases as the feature distributions for each case overlap - we are bound to have a few false positives and false negatives. These will lower the score a bit, but for the most part, this is roughly as good as can be expected."
      ],
      "metadata": {
        "id": "zhb-ZCysjHIu"
      }
    },
    {
      "cell_type": "markdown",
      "source": [
        "**Algorithmic Thinking Exercise:**\n",
        "\n",
        "In the 'measure and update' learning loop implemented above, we perturb each parameter, measure the effect of perturbations, and then update the parameters. Alternatively we could have perturbed the $w$ parameter, evaluated and then updated the $w$ parameter, and then perturbed the $b$ parameter, evaluated, and then updated the $b$ parameter.\n",
        "1. In the implementation above how many times is the `eval_params` function called per iteration?\n",
        "\n",
        "  (Answer: 3)\n",
        "2. If we used the alternative method where each parameter is updated and evaluated separately, how many times would eval_params need to be called per iteration?\n",
        "\n",
        "  (Answer: 4, After updating $w$ we can't simply use `R_bar_old` to measure the change in performance from changing $b$ since `R_bar_perturbed_b` will be computed using the updated $w$. An `R_bar_new_w_old_b` will need to be computed and used to inform the changes to $b$.)\n",
        "3. If we had $n$ parameters instead of 2, how many times would the `eval_params` function be called per iteration in the implementation above?\n",
        "\n",
        "  (Answer: $n+1$)\n",
        "4. If we had $n$ parameters instead of 2, how many times would the `eval_params` function be called per iteration in the alternate implementation?\n",
        "\n",
        "  (Answer: $2n$)\n",
        "\n",
        "Little details like this in implementation can make big differences to algorithm speed. Note though that this slower alternative isn't quite a dead loss. Technically the parameter updates made by the alternative algorithm, will be 'better' (precisely what we mean by better we leave aside for the moment), however, in this particular case the 'betterness' of the parameter updates is not enough to make up for the added computational cost of calling `eval_params` and extra $n-1$ times."
      ],
      "metadata": {
        "id": "4dOKfdyHwVin"
      }
    },
    {
      "cell_type": "markdown",
      "source": [
        "Okay, now just as a sanity and intuition check, two questions:\n",
        "1. Do we get the same answer when we use a propose and reject method?  \n",
        "2. Is the propose and reject method quicker or slower at finding the solution?\n",
        "Let's quickly adapt the adapt 'measure and update' learning loop to do 'propose and reject' instead."
      ],
      "metadata": {
        "id": "GSrLe6Jsu2va"
      }
    },
    {
      "cell_type": "code",
      "source": [
        "# @title Propose And Reject Training Loop\n",
        "learn_rng = np.random.default_rng(0)\n",
        "num_learning_episodes = 50000\n",
        "perturbation_scale = 0.1 # std of guassian parameter perturbations\n",
        "w_init = 1\n",
        "b_init = 0\n",
        "w = w_init\n",
        "b = b_init\n",
        "start_time = time.time()  # Record the start time\n",
        "R_bar_best = eval_params(w, b, X_simple_1_feature.T, y1_simple.T)\n",
        "for ii in range(num_learning_episodes+1):\n",
        "  # perturb w and evaluate\n",
        "  w_perturbation = learn_rng.normal(0, perturbation_scale)\n",
        "  w_proposed = w + w_perturbation\n",
        "  R_bar_proposed = eval_params(w_proposed, b, X_simple_1_feature, y1_simple)\n",
        "  if R_bar_best < R_bar_proposed:\n",
        "    w = w_proposed\n",
        "    R_bar_best = R_bar_proposed\n",
        "  # perturb b and evaluate\n",
        "  b_perturbation = learn_rng.normal(0, perturbation_scale)\n",
        "  b_proposed = b + b_perturbation\n",
        "  R_bar_proposed = eval_params(w, b_proposed, X_simple_1_feature, y1_simple)\n",
        "  if R_bar_best < R_bar_proposed:\n",
        "    b = b_proposed\n",
        "    R_bar_best = R_bar_proposed\n",
        "\n",
        "  if ii == 0 or ii % 5000 == 0:\n",
        "    elapsed_time = time.time() - start_time\n",
        "    print(f'{\"Iteration\":>12}: {ii:<6} | {\"w\":>1}={w:<8.4f} | {\"b\":>1}={b:<8.4f} | {\"R_bar\":>5}={R_bar_best:<8.6f} | {\"Time\":>4}={elapsed_time:<5.2f} seconds')\n"
      ],
      "metadata": {
        "id": "rpObYXz3vP5-",
        "colab": {
          "base_uri": "https://localhost:8080/"
        },
        "outputId": "c0bd32ff-85d0-4370-cf1c-feef2b358656"
      },
      "execution_count": 19,
      "outputs": [
        {
          "output_type": "stream",
          "name": "stdout",
          "text": [
            "   Iteration: 0      | w=1.0126   | b=0.0000   | R_bar=0.462444 | Time=0.00  seconds\n",
            "   Iteration: 5000   | w=27.5288  | b=92.8324  | R_bar=0.495111 | Time=0.57  seconds\n",
            "   Iteration: 10000  | w=51.3567  | b=173.3680 | R_bar=0.495111 | Time=1.16  seconds\n",
            "   Iteration: 15000  | w=70.6678  | b=238.4978 | R_bar=0.495111 | Time=1.78  seconds\n",
            "   Iteration: 20000  | w=71.1767  | b=240.2648 | R_bar=0.495111 | Time=2.41  seconds\n",
            "   Iteration: 25000  | w=71.1767  | b=240.2648 | R_bar=0.495111 | Time=3.03  seconds\n",
            "   Iteration: 30000  | w=71.1767  | b=240.2648 | R_bar=0.495111 | Time=3.67  seconds\n",
            "   Iteration: 35000  | w=71.1767  | b=240.2648 | R_bar=0.495111 | Time=4.30  seconds\n",
            "   Iteration: 40000  | w=71.1767  | b=240.2648 | R_bar=0.495111 | Time=4.94  seconds\n",
            "   Iteration: 45000  | w=71.1767  | b=240.2648 | R_bar=0.495111 | Time=5.59  seconds\n",
            "   Iteration: 50000  | w=71.1767  | b=240.2648 | R_bar=0.495111 | Time=6.22  seconds\n"
          ]
        }
      ]
    },
    {
      "cell_type": "markdown",
      "source": [
        "Both 'Propose and Reject' and 'Measure and Update' get to similar answers, but 'Propose and Reject' gets there much more quickly. In part, this is because there are fewer calls to `eval_params` per iteration (2 instead of 3). Additionally, this is because the step size in parameter space remains relatively constant throughout the 'Propose and Reject' process, while in the 'Measure and Update' method, the step size in parameter space diminishes as the relative improvements in performance decrease. For these reasons, our initial hope that 'Measure and Update' might be more efficient that 'Propose and Reject' is not born out in this simple problem."
      ],
      "metadata": {
        "id": "CGVcSJSK9--Z"
      }
    },
    {
      "cell_type": "markdown",
      "source": [
        "-- animation of propose and reject versus measure and update in this simple 2 parameter problem --"
      ],
      "metadata": {
        "id": "FXUoraMjDIXm"
      }
    },
    {
      "cell_type": "markdown",
      "source": [
        "A couple things to think about here:\n",
        "1. In our 'Measure and Update' implementation above we make one perturbation and one measurement of change in reward for each parameter. What would happen if we perturbed every parameter at once and then made a single measurement of change in reward? There would only be two calls to `eval_params` per iteration, regardless of the number of parameters. Together these two `eval_params` would measure the combined effect of all the parameter changes on reward. As a result the estimated effect of any one parameter on the reward would be polluted by the effects of all the other parameter perturbations. Whether this improves or breaks the algorithm will depend on whether the efficiency from fewer `eval_params` calls compensate for the noise introduced, or if the noise make these faster parameter updates fundamentally unhelpful? In other words is it better to take more/quicker noisy steps in parameters space or fewer/slower steps in better directions?\n",
        "2. In the learning loops above the impact on reward for a perturbation is measured using the entirety of the data set available to us. In this example the data set is only ~1000 examples, but what if it consisted of trillions of examples, would it still make sense to use the entire data set to evaluate each perturbation or would it be better to evaluate parameter changes using a smaller sample from this data set? Using a smaller sample will often make evaluations faster at the price of introducing noise to the estimate of rate of reward change (on the full data set) with respect to parameter changes. Again, this is question of more/quicker noisy steps or fewer/slower careful steps in parameters space.\n",
        "3. In the learning loops above we measure the relationship between parameter changes and reward changes using a single perturbation, but could we make better parameter updates if we measured using many perturbations before updating the parameters? This would require making more evaluations per update. Whether is this is a good or bad idea again comes down to a question of more/quicker noisy parameter updates versus fewer/slower careful parameter updates. What is the right balance?\n",
        "\n",
        "For this very straightforward problem these questions may seem kind of beside the point. We have a good answer, and it didn't take too long to get, why worry about these details now? We don't really need to now, but as we'll soon see, these details become increasingly relevant as we work to extend this 'measure and update' approach to a more complex problem. Indeed, the trade-off between more/quick noisy steps and few/slow careful steps is one of the fundamental questions at the dark heart of Machine Learning."
      ],
      "metadata": {
        "id": "17CKb7j5u08Z"
      }
    },
    {
      "cell_type": "code",
      "source": [
        "# @markdown Submit your feedback\n",
        "content_review(f\"{feedback_prefix}_M1\")"
      ],
      "metadata": {
        "id": "R9HNZ8pSp3BR",
        "cellView": "form",
        "outputId": "d301a0e2-b3b6-49cc-acb2-16253a8e9db6",
        "colab": {
          "base_uri": "https://localhost:8080/",
          "height": 62,
          "referenced_widgets": [
            "e38038054bc541868089fda9d757ac50",
            "b5879ae9551c450e995bc001c2caf1ae",
            "9115fb5d35f9490297d0d3722be80611",
            "f2e114a810f6494ab82fb6b8ac45b1ac",
            "27669d3ea23941b7b2617f84916e1879",
            "318863c453324ef28a224fc255b924a5",
            "f1e7cf9437a44614aab757577dc72d5e",
            "115ee928914c470f9fc1231bb1d09385",
            "664c7c4869da410ab8d7a5d7f9cf516c",
            "b01079ea7a734061970b9d43e641795d",
            "84cc097941d041d8835cc0d658df1aad",
            "cc0fc8baa2834d4ebe5f3aca61d9c49a",
            "53f94972a5c14c0d82d979ac40b565b2",
            "87998e55dd5547cdb1c93605c9c6e135",
            "fbd392433a7244d3aef19aee289c4d7d",
            "7143a33064f84701b83a2792f4e3ec6c",
            "a8575d4fc8dd47cf9828cbc1e02d0ab2",
            "23467d0d816c49b1b5fd186e64ce7e10",
            "93b0a0fb3fe643d2b98e35d14c7d63d4",
            "9e7da845e6604604b40d41846dd9223e",
            "6752ff90b1164af09351fff7f2994223",
            "1106ad33bc2d481187bce183ff4c063b",
            "899362ec921445f3ac24158edf597bfc",
            "44dfd698faec4199977bd64de30ab3cd",
            "7fbf9f67394545b7995d60afbf51b2bf",
            "461f4a98486946538f61885040ff910a"
          ]
        }
      },
      "execution_count": 20,
      "outputs": [
        {
          "output_type": "display_data",
          "data": {
            "text/plain": [
              "VBox(children=(VBox(children=(HBox(children=(Button(description='🙂', layout=Layout(height='auto', padding='0.5…"
            ],
            "application/vnd.jupyter.widget-view+json": {
              "version_major": 2,
              "version_minor": 0,
              "model_id": "e38038054bc541868089fda9d757ac50"
            }
          },
          "metadata": {
            "application/vnd.jupyter.widget-view+json": {
              "colab": {
                "custom_widget_manager": {
                  "url": "https://ssl.gstatic.com/colaboratory-static/widgets/colab-cdn-widget-manager/b3e629b1971e1542/manager.min.js"
                }
              }
            }
          }
        }
      ]
    },
    {
      "cell_type": "markdown",
      "source": [
        "# 2.1.1.2: Learning to Do the Right Thing - Harder\n",
        "In the previous section, we worked on a pretty simple discrimination problem, there was a single feature that, for the most part, correlated with correct times to strike and not-strike. Now we're going to look at a slightly harder problem, where the answer is less obvious (to us at least). As before, given a sensory input pattern, the problem is to determine whether or not to strike. Again, try to maximize your average score for this new problem where the 'sensory' input is more complex."
      ],
      "metadata": {
        "id": "WbP4qinopnuv"
      }
    },
    {
      "cell_type": "code",
      "source": [
        "scramble_bin_hard = InteractiveMNISTPredator(features=Xs,\n",
        "                                             labels=y1,\n",
        "                                             feedback_type='both')\n",
        "display(scramble_bin_hard.fig.canvas)\n",
        "clear_output()\n",
        "display(scramble_bin_hard.ui)"
      ],
      "metadata": {
        "id": "kndWMGwahrvp",
        "outputId": "8a77fec7-a360-4dad-e11f-8970910efad7",
        "colab": {
          "base_uri": "https://localhost:8080/",
          "height": 457,
          "referenced_widgets": [
            "de1a843191ab44448fa26c0fc30bf8c6",
            "a0a223a04b8e4424b926c9d980d11417",
            "c1af999ef0d147e3ac6e4da340a00f5f",
            "2acaf69b78b74827b235841888d22567",
            "93bc79392b6a47a8ac4714b3540c654b",
            "9cd4a9d396184d7a8419105ebb064f30",
            "45b38f9dfbeb4e0587d5c8a6c7fe9779",
            "27c1f0ecabbc45f19adff0908de2350e",
            "f9b3e930761d419ea5668cb58967deb0",
            "e8aa85d45ff4449cb930b2bf86ffcbae",
            "dd3b731ce6d24fa1aeb60606148e5c62",
            "cfe17fdce5844179b4054b0c909549ca",
            "bb141e7d2c8d45308312982b410c86bf",
            "3109c6eabe564db78be74cdefda91068",
            "97f48c49480144b7be6e48d18090dd87",
            "f0af321189994124ac88dc64cdea4b87",
            "fb22284bb67a45748eb17221901f04a1",
            "a895d09310814bfb96ec186d0fa3129a",
            "a29fc5808ad14646932251db8ee6646e",
            "06b29629ac144021bf05699a09be2eac",
            "d46b9770c1984e478f6830930312c7cc",
            "5c803f6b6436415ea958c2b6b5140719"
          ]
        }
      },
      "execution_count": 21,
      "outputs": [
        {
          "output_type": "display_data",
          "data": {
            "text/plain": [
              "HBox(children=(VBox(children=(Canvas(footer_visible=False, header_visible=False, resizable=False, toolbar=Tool…"
            ],
            "application/vnd.jupyter.widget-view+json": {
              "version_major": 2,
              "version_minor": 0,
              "model_id": "de1a843191ab44448fa26c0fc30bf8c6"
            }
          },
          "metadata": {
            "application/vnd.jupyter.widget-view+json": {
              "colab": {
                "custom_widget_manager": {
                  "url": "https://ssl.gstatic.com/colaboratory-static/widgets/colab-cdn-widget-manager/b3e629b1971e1542/manager.min.js"
                }
              }
            }
          }
        }
      ]
    },
    {
      "cell_type": "markdown",
      "source": [
        "So now instead of a single feature to base our strike/no-strike discrimination on, we have 64 (8x8) features to potentially inform our decision. Will our simple setup from before readily generalize to this situation with richer sensory input? Let's find out."
      ],
      "metadata": {
        "id": "cqeN8CUKfTkn"
      }
    },
    {
      "cell_type": "markdown",
      "source": [
        "We model this creature's sensory-behaviour system much as before. Now, $\\mathbf{x}$ is the raw sensory input (vector) in a given episode. Each element $x_i$ of $\\mathbf{x}$ corresponds to the activation level and firing rate of a single photosensitive neuron."
      ],
      "metadata": {
        "id": "zwRcciGmf_EA"
      }
    },
    {
      "cell_type": "code",
      "source": [
        "# the data set we're working with has 5620 example sensory inputs,\n",
        "# each consistinge of 64 (8x8) values\n",
        "print(Xs.shape)"
      ],
      "metadata": {
        "id": "u4pbUK4uTmN2",
        "outputId": "881e81fa-9c06-4c2d-9147-32cff557f6cc",
        "colab": {
          "base_uri": "https://localhost:8080/"
        }
      },
      "execution_count": 22,
      "outputs": [
        {
          "output_type": "stream",
          "name": "stdout",
          "text": [
            "(5620, 64)\n"
          ]
        }
      ]
    },
    {
      "cell_type": "code",
      "source": [
        "# this is the first example\n",
        "print(Xs[0].reshape(8,8,))"
      ],
      "metadata": {
        "id": "jBHrUfmHTxwM",
        "outputId": "e403e02f-bc74-4836-d8af-1d5759d956d1",
        "colab": {
          "base_uri": "https://localhost:8080/"
        }
      },
      "execution_count": 23,
      "outputs": [
        {
          "output_type": "stream",
          "name": "stdout",
          "text": [
            "[[-1.5   0.   -4.5  -5.25  3.    5.25 -3.75 -6.  ]\n",
            " [-6.   -6.   -2.25 -0.75  4.5  -1.5  -6.   -6.  ]\n",
            " [-4.5  -6.   -6.   -6.   -6.   -6.   -0.75 -5.25]\n",
            " [-0.75  4.5  -3.75  0.75 -2.25 -1.5  -0.75  3.75]\n",
            " [-6.   -5.25  5.25  0.   -6.    1.5   3.   -0.75]\n",
            " [-6.   -6.   -6.   -6.   -5.25 -6.    3.75  6.  ]\n",
            " [-6.   -6.   -2.25 -6.   -6.    2.25 -6.   -1.5 ]\n",
            " [ 6.    6.   -6.   -6.   -3.   -6.    0.75 -6.  ]]\n"
          ]
        }
      ]
    },
    {
      "cell_type": "code",
      "source": [
        "# visualizing the example we see that lower values correspond to darker pixels\n",
        "# and higher values correspond to lighter values\n",
        "fig, ax = plt.subplots(figsize=(4,4))\n",
        "remove_ip_clutter(fig)\n",
        "ax.imshow(Xs[0].reshape(8,8), cmap='gray')\n",
        "plt.show()"
      ],
      "metadata": {
        "id": "z95_m-llUADX",
        "outputId": "547ab83b-b609-4097-efb7-d401eb6418f6",
        "colab": {
          "base_uri": "https://localhost:8080/",
          "height": 425,
          "referenced_widgets": [
            "b99cb6fd7a2e407cb7a2e8abf7720d82",
            "17ab0efc93e7483e94211f0e4a72baf3",
            "935e7ed7786246fab8e3f3880b901c8a",
            "89bf39610ba54a4f8036bacfc058d65e"
          ]
        }
      },
      "execution_count": 24,
      "outputs": [
        {
          "output_type": "display_data",
          "data": {
            "text/plain": [
              "Canvas(footer_visible=False, header_visible=False, resizable=False, toolbar=Toolbar(toolitems=[('Home', 'Reset…"
            ],
            "image/png": "[encoded data removed]",
            "text/html": [
              "\n",
              "            <div style=\"display: inline-block;\">\n",
              "                <div class=\"jupyter-widgets widget-label\" style=\"text-align: center;\">\n",
              "                    Figure\n",
              "                </div>\n",
              "                <img src='data:image/png;base64,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' width=400.0/>\n",
              "            </div>\n",
              "        "
            ],
            "application/vnd.jupyter.widget-view+json": {
              "version_major": 2,
              "version_minor": 0,
              "model_id": "b99cb6fd7a2e407cb7a2e8abf7720d82"
            }
          },
          "metadata": {
            "application/vnd.jupyter.widget-view+json": {
              "colab": {
                "custom_widget_manager": {
                  "url": "https://ssl.gstatic.com/colaboratory-static/widgets/colab-cdn-widget-manager/b3e629b1971e1542/manager.min.js"
                }
              }
            }
          }
        }
      ]
    },
    {
      "cell_type": "markdown",
      "source": [
        "These input neurons are then connected by synapses to a single output neuron. The activation level of this output neuron is computed as\n",
        "$$y = \\mathbf{Wx} + b$$\n",
        "Here, $b$ is the (scalar) bias, or baseline activation level of the output neuron, and $\\mathbf{W}$ is a matrix of synaptic weights between the input neurons and the single output neuron. (In this case where there is only one output neuron so $\\mathbf{W}$ has shape 1x64 so could aslo be thought of as a row vector.)  As before, the probabilistic spiking of this output neuron determines the strike-no-strike behaviour of the organism, specifically:\n",
        "$$ \\Pr \\{\\text{strike}\\} = \\sigma(y) $$\n",
        "$$ \\Pr \\{\\text{no strike}\\} = 1 - \\sigma(y)$$\n",
        "\n",
        "Recall that $\\sigma(y): \\frac{1}{1+e^{-y}} = \\frac{e^y}{1+e^y}$ is the standard logistic (sigmoid) function."
      ],
      "metadata": {
        "id": "WRmF-ZEFTmio"
      }
    },
    {
      "cell_type": "code",
      "source": [
        "# the eval_params function needs to be adapted\n",
        "# to work with this richer sensory input\n",
        "def eval_params_rich(W, b, x, y):\n",
        "  \"\"\"\n",
        "  evaluates parameters of simple behaviour circuit given inputs and target\n",
        "  outputs, use numpy broadcasting to be fast and concise\n",
        "  Args:\n",
        "    W: (outputs(1) x inputs(64) np.array)\n",
        "       weights between sensory neurons and output neuron\n",
        "    b: (scalar) bias of behavioural output neuron\n",
        "    x: (input(64) x batch np.array) sensory input\n",
        "       (can be single input, mini-batch of inputs or the whole batch of inputs)\n",
        "    y: (outputs(1) x batch np.array) target behavioural output\n",
        "       (can be a single target, mini-batch of targets, or whole batch),\n",
        "       needs to correspond to input\n",
        "\n",
        "  Returns:\n",
        "    R_bar: the average/expected reward obtained given the parameters, over the\n",
        "           (mini-)batch of inputs and targets. (mini-batch could be size 1)\n",
        "  \"\"\"\n",
        "  h = np.dot(W,x) + b # 1 x batch\n",
        "  y_hat = np_sigmoid(h) # 1 x batch\n",
        "  y_score = np.copy(y)\n",
        "  y_score[y_score == 0] = -1\n",
        "  batch_expected_reward = y_score * y_hat\n",
        "  R_bar = np.mean(batch_expected_reward)\n",
        "  return R_bar"
      ],
      "metadata": {
        "id": "k8TV7mJBhdDi"
      },
      "execution_count": 25,
      "outputs": []
    },
    {
      "cell_type": "code",
      "source": [
        "eval_params_rich(np.ones((1,64)), 0, Xs.T, y1.T)"
      ],
      "metadata": {
        "id": "FYEjgOeis2tJ",
        "outputId": "6a4d6a16-fe04-4b47-ef61-fd8c89131c2b",
        "colab": {
          "base_uri": "https://localhost:8080/"
        }
      },
      "execution_count": 26,
      "outputs": [
        {
          "output_type": "execute_result",
          "data": {
            "text/plain": [
              "1.4359891754087805e-28"
            ]
          },
          "metadata": {},
          "execution_count": 26
        }
      ]
    },
    {
      "cell_type": "code",
      "source": [
        "%timeit eval_params_rich(np.ones((1,64)), 0, Xs.T, y1.T)"
      ],
      "metadata": {
        "id": "6IYYpUeKuR2D",
        "outputId": "85704e66-8a10-44de-a692-c7b0a8593bc0",
        "colab": {
          "base_uri": "https://localhost:8080/"
        }
      },
      "execution_count": 27,
      "outputs": [
        {
          "output_type": "stream",
          "name": "stdout",
          "text": [
            "373 µs ± 11.6 µs per loop (mean ± std. dev. of 7 runs, 1000 loops each)\n"
          ]
        }
      ]
    },
    {
      "cell_type": "markdown",
      "source": [
        "That's working and relatively quick now let's adapt our learning loop for this new setup."
      ],
      "metadata": {
        "id": "lcPHz1akurSi"
      }
    },
    {
      "cell_type": "code",
      "source": [
        "# @title Measure and Update Training Loop\n",
        "\n",
        "learn_rng = np.random.default_rng(0)\n",
        "num_learning_episodes = 2000\n",
        "alpha = 0.5 #learning rate or step size\n",
        "perturbation_scale = 0.001 # std of gaussian perturbations\n",
        "W_init = np.zeros((1,64))\n",
        "b_init = 0\n",
        "W = W_init\n",
        "b = b_init\n",
        "start_time = time.time()\n",
        "for ii in range(num_learning_episodes+1):\n",
        "  R_bar_old = eval_params_rich(W, b, Xs.T, y1.T)\n",
        "  # get pertubations for W all at once\n",
        "  W_perturbations = learn_rng.normal(0, perturbation_scale, size=(1,64))\n",
        "  #perturb and evaluate each W_j seperately\n",
        "  finite_differences_W = np.zeros(W.shape)\n",
        "  for j in range(W_perturbations.shape[1]):\n",
        "    W_perturbed = np.copy(W)\n",
        "    W_perturbed[0,j] += W_perturbations[0,j]\n",
        "    R_bar_perturbed_Wj = eval_params_rich(W_perturbed, b, Xs.T, y1.T)\n",
        "    finite_difference_Wj = (R_bar_perturbed_Wj - R_bar_old) / W_perturbations[0,j]\n",
        "    finite_differences_W[0,j] = finite_difference_Wj\n",
        "  # perturb b and evaluate\n",
        "  b_perturbation = learn_rng.normal(0, perturbation_scale)\n",
        "  b_perturbed = b + b_perturbation\n",
        "  R_bar_perturbed_b = eval_params_rich(W, b_perturbed, Xs.T, y1.T)\n",
        "  # estimate rate of change of reward for each parameter\n",
        "  finite_difference_b = (R_bar_perturbed_b - R_bar_old) / b_perturbation\n",
        "  # update parameters based on finte difference estimate rate of change\n",
        "  # of reward with respect to parameters\n",
        "  delta_W = alpha * finite_differences_W\n",
        "  delta_b = alpha * finite_difference_b\n",
        "  W += delta_W\n",
        "  b += delta_b\n",
        "\n",
        "  if ii == 0 or ii % 100 == 0:\n",
        "    elapsed_time = time.time() - start_time\n",
        "    print(f'{\"Iteration\":>12}: {ii:<6} | {\"W_0\":>1}={W[0,0]:<8.4f} | {\"b\":>1}={b:<8.4f} | {\"R_bar\":>5}={R_bar_old:<8.6f} | {\"Time\":>4}={elapsed_time:<5.2f} seconds')"
      ],
      "metadata": {
        "id": "WgUHwBLIuxzy",
        "outputId": "a5d28837-b477-418a-aed8-27c6ad6cd98b",
        "colab": {
          "base_uri": "https://localhost:8080/"
        }
      },
      "execution_count": 28,
      "outputs": [
        {
          "output_type": "stream",
          "name": "stdout",
          "text": [
            "   Iteration: 0      | W_0=0.1041   | b=0.0008   | R_bar=0.003381 | Time=0.04  seconds\n",
            "   Iteration: 100    | W_0=0.1621   | b=-0.0103  | R_bar=0.425334 | Time=2.98  seconds\n",
            "   Iteration: 200    | W_0=0.1680   | b=-0.0147  | R_bar=0.430483 | Time=5.58  seconds\n",
            "   Iteration: 300    | W_0=0.1803   | b=-0.0191  | R_bar=0.433381 | Time=7.95  seconds\n",
            "   Iteration: 400    | W_0=0.1900   | b=-0.0221  | R_bar=0.434753 | Time=10.41 seconds\n",
            "   Iteration: 500    | W_0=0.1991   | b=-0.0246  | R_bar=0.435717 | Time=12.80 seconds\n",
            "   Iteration: 600    | W_0=0.2072   | b=-0.0266  | R_bar=0.436449 | Time=15.80 seconds\n",
            "   Iteration: 700    | W_0=0.2148   | b=-0.0283  | R_bar=0.437030 | Time=18.77 seconds\n",
            "   Iteration: 800    | W_0=0.2224   | b=-0.0298  | R_bar=0.437506 | Time=21.12 seconds\n",
            "   Iteration: 900    | W_0=0.2301   | b=-0.0311  | R_bar=0.437906 | Time=23.54 seconds\n",
            "   Iteration: 1000   | W_0=0.2379   | b=-0.0323  | R_bar=0.438249 | Time=25.91 seconds\n",
            "   Iteration: 1100   | W_0=0.2458   | b=-0.0333  | R_bar=0.438549 | Time=28.84 seconds\n",
            "   Iteration: 1200   | W_0=0.2537   | b=-0.0344  | R_bar=0.438815 | Time=31.69 seconds\n",
            "   Iteration: 1300   | W_0=0.2623   | b=-0.0353  | R_bar=0.439054 | Time=34.02 seconds\n",
            "   Iteration: 1400   | W_0=0.2707   | b=-0.0363  | R_bar=0.439271 | Time=36.40 seconds\n",
            "   Iteration: 1500   | W_0=0.2795   | b=-0.0371  | R_bar=0.439470 | Time=38.73 seconds\n",
            "   Iteration: 1600   | W_0=0.2885   | b=-0.0380  | R_bar=0.439655 | Time=41.08 seconds\n",
            "   Iteration: 1700   | W_0=0.2975   | b=-0.0388  | R_bar=0.439828 | Time=44.03 seconds\n",
            "   Iteration: 1800   | W_0=0.3063   | b=-0.0396  | R_bar=0.439991 | Time=46.98 seconds\n",
            "   Iteration: 1900   | W_0=0.3151   | b=-0.0404  | R_bar=0.440147 | Time=49.32 seconds\n",
            "   Iteration: 2000   | W_0=0.3235   | b=-0.0412  | R_bar=0.440296 | Time=51.69 seconds\n"
          ]
        }
      ]
    },
    {
      "cell_type": "markdown",
      "source": [
        "So it looks like this is learning to do an okay job. A quick inspection of the data tells us that doing perfect discrimination would give an average score of 0.503... per round.\n",
        "\n"
      ],
      "metadata": {
        "id": "tgaiKFpvBWmi"
      }
    },
    {
      "cell_type": "code",
      "source": [
        "# There are this many cases where striking is the right thing to do\n",
        "np.sum(y1 == 1)"
      ],
      "metadata": {
        "colab": {
          "base_uri": "https://localhost:8080/"
        },
        "id": "d-fNz9iBFAhj",
        "outputId": "78930be0-1e7f-4825-ecb3-6a9addc4792b"
      },
      "execution_count": 29,
      "outputs": [
        {
          "output_type": "execute_result",
          "data": {
            "text/plain": [
              "2829"
            ]
          },
          "metadata": {},
          "execution_count": 29
        }
      ]
    },
    {
      "cell_type": "code",
      "source": [
        "# And this many cases where striking is the wrong thing to do\n",
        "np.sum(y1 == 0)"
      ],
      "metadata": {
        "colab": {
          "base_uri": "https://localhost:8080/"
        },
        "id": "cGqttsgCE3E2",
        "outputId": "3cf64c5b-d6a0-4fd3-c3bf-9dcb9f7de4e4"
      },
      "execution_count": 30,
      "outputs": [
        {
          "output_type": "execute_result",
          "data": {
            "text/plain": [
              "2791"
            ]
          },
          "metadata": {},
          "execution_count": 30
        }
      ]
    },
    {
      "cell_type": "code",
      "source": [
        "# So this the average score per round with perfect discrimination\n",
        "np.sum(y1 == 1) / (len(y1))"
      ],
      "metadata": {
        "colab": {
          "base_uri": "https://localhost:8080/"
        },
        "id": "I2MLYQaVFCsJ",
        "outputId": "f4acabd4-0082-4b06-ca8b-c1223988150a"
      },
      "execution_count": 31,
      "outputs": [
        {
          "output_type": "execute_result",
          "data": {
            "text/plain": [
              "0.5033807829181495"
            ]
          },
          "metadata": {},
          "execution_count": 31
        }
      ]
    },
    {
      "cell_type": "markdown",
      "source": [
        "Without benchmarks, it's hard to know what level is possible given this particular dataset and discrimination task using this particular sensory-behaviour circuit. Not only are we unsure if this is a good result in a general sense, but we also don't know whether our less-than-perfect performance is due to limitations of the circuit architecture (the model in ML terms) or our learning algorithm's inability to find optimal parameters for the given architecture. We could always let the above learning process run for a really long time and see where it stops, but who wants to wait around for results, not us. Let's see if we can come up with some faster learning processes for this sensory-behaviour circuit."
      ],
      "metadata": {
        "id": "obYz3bc0Fkcw"
      }
    },
    {
      "cell_type": "code",
      "source": [
        "# @markdown Submit your feedback\n",
        "content_review(f\"{feedback_prefix}_M2\")"
      ],
      "metadata": {
        "colab": {
          "base_uri": "https://localhost:8080/",
          "height": 62,
          "referenced_widgets": [
            "2c83c3558cb84a9c9feeac2b1fd37154",
            "6212a2c610ad4f20acab2b21d55f7fde",
            "724832d2f9d9492ab77a54b7a4064491",
            "7e6a0f746a79428e823839ce256ba85c",
            "2eb54e8f8ceb4ccdb060bc9ee28acf66",
            "3af982500fdf46f2ad79c457e41f51c7",
            "fb7c44f1fbda4d4393c1d1ddd00f39a0",
            "ab728448033a4cabaf9f33e32ab51fa8",
            "e2c19730e6014b0eb6dacb7039bd652a",
            "5a1a2d6127954ec68341bf1992983974",
            "82c05ac308e94736ab47bfb7cded7a21",
            "a062d263bb1b42d79c6363f097212934",
            "89fbc92d51aa433e9adb815f2e230839",
            "b06a03e454a94d089417c1a7c24b4ff9",
            "3fe19f49a5864a4b86d6bfc04751b913",
            "5678ead9820a4dcaa409cc2eef0a95b2",
            "0e769e885b41485a8e508fab6db113b5",
            "84e1ec55faec490393df45cf48297e88",
            "747a7570a64f4704a954ea72e8202d3b",
            "fa47726cb53f4d3596326bb0e9a522b8",
            "d42f4903220c4d5396c41738ab2746ca",
            "7f764ba750e74e3289ffc7b956580ce3",
            "025f19c006484c54a0811f1a570aee5b",
            "578663e857c447b3859256dd39db6635",
            "cf1e0aef12ea461f94baaf0a8b960a74",
            "34c53ab0d8704281996184ce760f3a9d"
          ]
        },
        "cellView": "form",
        "id": "1NKmZU0G36Tn",
        "outputId": "ece15101-4a70-4f86-cfee-3ccbdbadbca3"
      },
      "execution_count": 32,
      "outputs": [
        {
          "output_type": "display_data",
          "data": {
            "text/plain": [
              "VBox(children=(VBox(children=(HBox(children=(Button(description='🙂', layout=Layout(height='auto', padding='0.5…"
            ],
            "application/vnd.jupyter.widget-view+json": {
              "version_major": 2,
              "version_minor": 0,
              "model_id": "2c83c3558cb84a9c9feeac2b1fd37154"
            }
          },
          "metadata": {
            "application/vnd.jupyter.widget-view+json": {
              "colab": {
                "custom_widget_manager": {
                  "url": "https://ssl.gstatic.com/colaboratory-static/widgets/colab-cdn-widget-manager/b3e629b1971e1542/manager.min.js"
                }
              }
            }
          }
        }
      ]
    },
    {
      "cell_type": "markdown",
      "source": [
        "# 2.1.1.3: Learning to Do the Right Thing - Faster\n",
        "\n",
        "In our simple problem 'propose and reject' was quite effective, let's see how it fares in this more complex problem. First, though, to make our programing and notation a little cleaner we are going 'hide' our bias term. We to do this by augmenting the features to include a feature that always has the value '1'. Then, the 'weight' associated with this feature, which always has a value of '1', will effectively serve as the bias term."
      ],
      "metadata": {
        "id": "y8e3RjxFqE2B"
      }
    },
    {
      "cell_type": "code",
      "source": [
        "# Before augmentation this is the shape of the feature set\n",
        "Xs.shape"
      ],
      "metadata": {
        "colab": {
          "base_uri": "https://localhost:8080/"
        },
        "id": "_CGFWjY0HeTC",
        "outputId": "cd92e605-dfe5-46cb-ab43-f0bcbe2dd7a2"
      },
      "execution_count": 33,
      "outputs": [
        {
          "output_type": "execute_result",
          "data": {
            "text/plain": [
              "(5620, 64)"
            ]
          },
          "metadata": {},
          "execution_count": 33
        }
      ]
    },
    {
      "cell_type": "code",
      "source": [
        "# After augmentation there is one extra column of features\n",
        "Xs_aug = np.hstack([Xs, np.ones((Xs.shape[0],1))])\n",
        "print(Xs_aug.shape)"
      ],
      "metadata": {
        "colab": {
          "base_uri": "https://localhost:8080/"
        },
        "id": "FiTpJqrGHg_T",
        "outputId": "427a8c47-bfe9-41bf-d740-41f1db5cd035"
      },
      "execution_count": 34,
      "outputs": [
        {
          "output_type": "stream",
          "name": "stdout",
          "text": [
            "(5620, 65)\n"
          ]
        }
      ]
    },
    {
      "cell_type": "code",
      "source": [
        "# We need to tweak our eval_params function to work with this augmented\n",
        "# feature set\n",
        "\n",
        "def eval_params_aug(W, x, y):\n",
        "  \"\"\"\n",
        "  evaluates parameters of simple behaviour circuit given inputs and target\n",
        "  outputs, use numpy broadcasting to be fast and concise\n",
        "  Args:\n",
        "    W: (outputs(1) x inputs(64) np.array)\n",
        "       weights between sensory neurons and output neuron\n",
        "    x: (input(64) x batch np.array) sensory input\n",
        "       (can be single input, mini-batch of inputs or the whole batch of inputs)\n",
        "    y: (outputs(1) x batch np.array) target behavioural output\n",
        "       (can be a single target, mini-batch of targets, or whole batch),\n",
        "       needs to correspond to input\n",
        "\n",
        "  Returns:\n",
        "    R_bar: the average/expected reward obtained given the parameters, over the\n",
        "           (mini-)batch of inputs and targets. (mini-batch could be size 1)\n",
        "  \"\"\"\n",
        "  h = np.dot(W,x) # 1 x batch\n",
        "  y_hat = np_sigmoid(h) # 1 x batch\n",
        "  y_score = np.copy(y)\n",
        "  y_score[y_score == 0] = -1\n",
        "  batch_expected_reward = y_score * y_hat\n",
        "  R_bar = np.mean(batch_expected_reward)\n",
        "  return R_bar"
      ],
      "metadata": {
        "id": "ybsMG2l0H4VY"
      },
      "execution_count": 35,
      "outputs": []
    },
    {
      "cell_type": "markdown",
      "source": [
        "This is what 'propose and reject' looks like for this harder problem:"
      ],
      "metadata": {
        "id": "AeBVcJhoIuDg"
      }
    },
    {
      "cell_type": "code",
      "source": [
        "# @title Propose and Reject Training Loop\n",
        "learn_rng = np.random.default_rng(0)\n",
        "num_learning_episodes = 2000\n",
        "perturbation_scale = 0.1 # std of gaussian perturbations\n",
        "W_init = np.zeros((1,65))\n",
        "W = W_init\n",
        "start_time = time.time()\n",
        "R_bar_best = eval_params_aug(W, Xs_aug.T, y1.T)\n",
        "for ii in range(num_learning_episodes+1):\n",
        "  W_perturbations = learn_rng.normal(0, perturbation_scale, size=(1,65))\n",
        "  #perturb and evaluate each W_j seperately\n",
        "  finite_differences_W = np.zeros(W.shape)\n",
        "  for j in range(W_perturbations.shape[1]):\n",
        "    #perturb W\n",
        "    W[0,j] += W_perturbations[0,j]\n",
        "    R_bar_perturbed = eval_params_aug(W, Xs_aug.T, y1.T)\n",
        "    if R_bar_perturbed > R_bar_best:\n",
        "      # leave the perturbation in place and update the best\n",
        "      R_bar_best = R_bar_perturbed\n",
        "    else:\n",
        "      #undo the perturbation\n",
        "      W[0,j] -= W_perturbations[0,j]\n",
        "  if ii == 0 or ii % 100 == 0:\n",
        "    elapsed_time = time.time() - start_time\n",
        "    print(f'{\"Iteration\":>12}: {ii:<6} | {\"W_0\":>1}={W[0,0]:<8.4f} | {\"b\":>1}={W[0,-1]:<8.4f} | {\"R_bar\":>5}={R_bar_best:<8.6f} | {\"Time\":>4}={elapsed_time:<5.2f} seconds')"
      ],
      "metadata": {
        "id": "xMv8pHi4I5_f",
        "outputId": "48563a9a-fba2-487b-9457-94def33b876e",
        "colab": {
          "base_uri": "https://localhost:8080/"
        }
      },
      "execution_count": 36,
      "outputs": [
        {
          "output_type": "stream",
          "name": "stdout",
          "text": [
            "   Iteration: 0      | W_0=0.0126   | b=0.0000   | R_bar=0.203890 | Time=0.04  seconds\n",
            "   Iteration: 100    | W_0=0.2405   | b=-0.3796  | R_bar=0.435554 | Time=2.36  seconds\n",
            "   Iteration: 200    | W_0=0.2774   | b=-0.5088  | R_bar=0.437951 | Time=5.03  seconds\n",
            "   Iteration: 300    | W_0=0.3170   | b=-0.7997  | R_bar=0.439129 | Time=7.88  seconds\n",
            "   Iteration: 400    | W_0=0.3589   | b=-1.0423  | R_bar=0.439855 | Time=10.12 seconds\n",
            "   Iteration: 500    | W_0=0.3789   | b=-1.1784  | R_bar=0.440282 | Time=12.34 seconds\n",
            "   Iteration: 600    | W_0=0.4278   | b=-1.2118  | R_bar=0.440657 | Time=14.56 seconds\n",
            "   Iteration: 700    | W_0=0.4436   | b=-1.2546  | R_bar=0.440974 | Time=16.77 seconds\n",
            "   Iteration: 800    | W_0=0.4752   | b=-1.3299  | R_bar=0.441181 | Time=19.61 seconds\n",
            "   Iteration: 900    | W_0=0.5016   | b=-1.5042  | R_bar=0.441429 | Time=22.37 seconds\n",
            "   Iteration: 1000   | W_0=0.5436   | b=-1.6193  | R_bar=0.441608 | Time=25.19 seconds\n",
            "   Iteration: 1100   | W_0=0.5660   | b=-1.7564  | R_bar=0.441752 | Time=27.91 seconds\n",
            "   Iteration: 1200   | W_0=0.5756   | b=-1.7599  | R_bar=0.441883 | Time=30.17 seconds\n",
            "   Iteration: 1300   | W_0=0.5889   | b=-1.9816  | R_bar=0.442041 | Time=32.93 seconds\n",
            "   Iteration: 1400   | W_0=0.6027   | b=-2.1024  | R_bar=0.442186 | Time=35.93 seconds\n",
            "   Iteration: 1500   | W_0=0.6118   | b=-2.2585  | R_bar=0.442316 | Time=38.19 seconds\n",
            "   Iteration: 1600   | W_0=0.6257   | b=-2.5928  | R_bar=0.442438 | Time=40.41 seconds\n",
            "   Iteration: 1700   | W_0=0.6549   | b=-2.8970  | R_bar=0.442532 | Time=42.64 seconds\n",
            "   Iteration: 1800   | W_0=0.6871   | b=-2.9229  | R_bar=0.442654 | Time=44.91 seconds\n",
            "   Iteration: 1900   | W_0=0.6946   | b=-3.1036  | R_bar=0.442761 | Time=47.84 seconds\n",
            "   Iteration: 2000   | W_0=0.7150   | b=-3.2464  | R_bar=0.442845 | Time=50.62 seconds\n"
          ]
        }
      ]
    },
    {
      "cell_type": "markdown",
      "source": [
        "This 'propose and reject' method was faster, in that, although it took as long per iteration, the iterations got to a higher `R_bar` more quickly. Again we could run this for a long time and see where improvement really caps out, but we wont' just now.\n",
        "\n",
        "An important idea for speeding up learning is the idea of a 'mini-batch'. Currently in our learning the impact on reward for a perturbation is measured using the entirety of the dataset available to us. If we were to use a smaller (but representative) sample of this data set for our evaluations of parameter perturbations, we could potentially speed things up significantly."
      ],
      "metadata": {
        "id": "vdhmZ67l47Ln"
      }
    },
    {
      "cell_type": "code",
      "source": [
        "Xs_aug.shape"
      ],
      "metadata": {
        "colab": {
          "base_uri": "https://localhost:8080/"
        },
        "id": "kkwfb4Ij8qzH",
        "outputId": "28ce4b27-3eeb-4efb-eef0-aa9d4d32d49c"
      },
      "execution_count": 37,
      "outputs": [
        {
          "output_type": "execute_result",
          "data": {
            "text/plain": [
              "(5620, 65)"
            ]
          },
          "metadata": {},
          "execution_count": 37
        }
      ]
    },
    {
      "cell_type": "markdown",
      "source": [
        "Our dataset consists of 5620 examples to learn from. This size means the dataset can be nicely broken down into 10 mini-batches of 562. Let's find out how much faster our evaluation function is when using a mini-batch that is ten times smaller."
      ],
      "metadata": {
        "id": "5UtpSg_R8xiY"
      }
    },
    {
      "cell_type": "code",
      "source": [
        "W = np.zeros((1,65))\n",
        "%timeit eval_params_aug(W, Xs_aug[:562,:].T, y1[:562].T)"
      ],
      "metadata": {
        "colab": {
          "base_uri": "https://localhost:8080/"
        },
        "id": "ahfhDrI49Fn5",
        "outputId": "a9dd1326-6f5a-48ac-e907-c73da27eb18f"
      },
      "execution_count": 38,
      "outputs": [
        {
          "output_type": "stream",
          "name": "stdout",
          "text": [
            "136 µs ± 12.4 µs per loop (mean ± std. dev. of 7 runs, 10000 loops each)\n"
          ]
        }
      ]
    },
    {
      "cell_type": "code",
      "source": [
        "%timeit eval_params_aug(W, Xs_aug.T, y1.T)"
      ],
      "metadata": {
        "colab": {
          "base_uri": "https://localhost:8080/"
        },
        "id": "vpwDHmYC9TxK",
        "outputId": "367e7b28-0d85-4a23-a438-85ce6cb6c70b"
      },
      "execution_count": 39,
      "outputs": [
        {
          "output_type": "stream",
          "name": "stdout",
          "text": [
            "397 µs ± 128 µs per loop (mean ± std. dev. of 7 runs, 1000 loops each)\n"
          ]
        }
      ]
    },
    {
      "cell_type": "markdown",
      "source": [
        "We observe a 2-3x speed up in this case. One thing to notice is that this was not a 10x speedup. This is due to the 'algorithmic efficiencies of scale' inherent in our heavily optimized evaluation function, which utilizes numpy broadcasting. These efficiencies of scale are tied to underlying hardware implementations of the operations. Thus in practical ML contexts choosing a 'good' mini-batch size requires consideration of hardware specific effciencies of scale, to answer the question how much worse are my parameter updates versus how much faster are they for a given mini-batch size."
      ],
      "metadata": {
        "id": "1joZX-YT9blc"
      }
    },
    {
      "cell_type": "code",
      "source": [
        "# @title Mini-Batched Measure and Update Training Loop\n",
        "learn_rng = np.random.default_rng(0)\n",
        "num_epochs = 800\n",
        "alpha = 0.5 #learning rate or step size\n",
        "perturbation_scale = 0.001 # std of gaussian perturbations\n",
        "num_batches = 10  # Number of mini-batches\n",
        "batch_size = 562  # Size of each mini-batch\n",
        "W_init = np.zeros((1,65))\n",
        "W = W_init\n",
        "start_time = time.time()\n",
        "indices = np.arange(Xs_aug.shape[0])\n",
        "for epoch in range(num_epochs):\n",
        "  learn_rng.shuffle(indices)  # Shuffle the indices for each epoch\n",
        "  for batch in range(num_batches):\n",
        "    # Select a mini-batch for this iteration\n",
        "    batch_indices = indices[batch * batch_size : (batch + 1) * batch_size]\n",
        "    Xs_batch = Xs_aug[batch_indices, :].T\n",
        "    y1_batch = y1[batch_indices].T\n",
        "    R_bar_old = eval_params_aug(W, Xs_batch, y1_batch)\n",
        "    W_perturbations = learn_rng.normal(0, perturbation_scale, size=(1,65))\n",
        "    #perturb and evaluate each W_j seperately\n",
        "    finite_differences_W = np.zeros(W.shape)\n",
        "    for jj in range(W_perturbations.shape[1]):\n",
        "      original_value = W[0,jj]\n",
        "      W[0, jj] += W_perturbations[0, jj]\n",
        "      R_bar_perturbed_Wj = eval_params_aug(W, Xs_batch, y1_batch)\n",
        "      finite_differences_W[0,jj] = (R_bar_perturbed_Wj - R_bar_old) / W_perturbations[0,jj]\n",
        "      W[0,jj] = original_value  # Revert the perturbation\n",
        "\n",
        "    delta_W = alpha * finite_differences_W\n",
        "    W += delta_W\n",
        "\n",
        "  if epoch == 0 or (epoch + 1) % 50 == 0:\n",
        "    R_bar_full_batch = eval_params_aug(W, Xs_aug.T, y1.T)\n",
        "    elapsed_time = time.time() - start_time\n",
        "    print(f'Epoch {epoch + 1}/{num_epochs} completed | Full Batch R_bar: {R_bar_full_batch:.6f} | Time elapsed: {elapsed_time:.2f} seconds')"
      ],
      "metadata": {
        "id": "VWJOh_fH9tj-",
        "colab": {
          "base_uri": "https://localhost:8080/"
        },
        "outputId": "92df457c-3a6a-404e-f248-66572026b9ae"
      },
      "execution_count": 40,
      "outputs": [
        {
          "output_type": "stream",
          "name": "stdout",
          "text": [
            "Epoch 1/800 completed | Full Batch R_bar: 0.379098 | Time elapsed: 0.09 seconds\n",
            "Epoch 50/800 completed | Full Batch R_bar: 0.434961 | Time elapsed: 3.18 seconds\n",
            "Epoch 100/800 completed | Full Batch R_bar: 0.438279 | Time elapsed: 6.22 seconds\n",
            "Epoch 150/800 completed | Full Batch R_bar: 0.438686 | Time elapsed: 9.28 seconds\n",
            "Epoch 200/800 completed | Full Batch R_bar: 0.440117 | Time elapsed: 13.93 seconds\n",
            "Epoch 250/800 completed | Full Batch R_bar: 0.441061 | Time elapsed: 17.00 seconds\n",
            "Epoch 300/800 completed | Full Batch R_bar: 0.441562 | Time elapsed: 20.09 seconds\n",
            "Epoch 350/800 completed | Full Batch R_bar: 0.441167 | Time elapsed: 23.16 seconds\n",
            "Epoch 400/800 completed | Full Batch R_bar: 0.442362 | Time elapsed: 27.20 seconds\n",
            "Epoch 450/800 completed | Full Batch R_bar: 0.442165 | Time elapsed: 30.27 seconds\n",
            "Epoch 500/800 completed | Full Batch R_bar: 0.442647 | Time elapsed: 33.37 seconds\n",
            "Epoch 550/800 completed | Full Batch R_bar: 0.443151 | Time elapsed: 36.46 seconds\n",
            "Epoch 600/800 completed | Full Batch R_bar: 0.443172 | Time elapsed: 40.01 seconds\n",
            "Epoch 650/800 completed | Full Batch R_bar: 0.443541 | Time elapsed: 43.52 seconds\n",
            "Epoch 700/800 completed | Full Batch R_bar: 0.443594 | Time elapsed: 46.58 seconds\n",
            "Epoch 750/800 completed | Full Batch R_bar: 0.442776 | Time elapsed: 49.69 seconds\n",
            "Epoch 800/800 completed | Full Batch R_bar: 0.443400 | Time elapsed: 53.31 seconds\n"
          ]
        }
      ]
    },
    {
      "cell_type": "markdown",
      "source": [
        "Applying the mini-batch idea to the 'measure and update' process made it quicker, and perhaps it even performed a bit better than 'propose and reject'. However, it's important to note that comparisons between algorithms is challenging, as algorithm performance often depends heavily on the choice of meta-parameters, such as learning rate, perturbation scale, mini-batch size, etc., realitve to the dataset and underlying model being optimized."
      ],
      "metadata": {
        "id": "Js-NNrSWDPeF"
      }
    },
    {
      "cell_type": "code",
      "source": [
        "# @markdown Submit your feedback\n",
        "content_review(f\"{feedback_prefix}_M3\")"
      ],
      "metadata": {
        "cellView": "form",
        "id": "kY5Dfd6CEaX0"
      },
      "execution_count": 41,
      "outputs": []
    },
    {
      "cell_type": "markdown",
      "source": [
        "# 2.1.1.4 Learning to Do the Right Thing - Better - Stronger\n",
        "One thing that could be holding back performance on this discrimination problem is that our algorithms are not capable of finding the optimal parameters for the given model, but... we don't really think that is the case here. Another possibility is that our simple sensory-behaviour circuit is not flexible or complex enough to fully discriminate between the two types of input. There is good reason to think that this might be the case. Our current sensory-behavioural circuit is effectively equivalent to logistic regression, i.e. each feature can either inhibit or potentiate striking behaviour to varying degrees, but there is no possibility for conditional interaction between features. By 'conditional interaction,' we mean a scenario where, for instance, feature 1 typically inhibits the behavior, except when feature 2 is positive, under which condition feature 1 becomes potentiating. These kinds of feature interactions are impossible in the current model. One way to allow for such interactions is to augment the base set of features with composite features, e.g. incorporate all the pairwise products of the existing feature set, so that instead of 65 features (bias included) we have $(65^2 - 1) = 4224$ features to work with. This could work, but what if we want something that depends on the interaction of more than 2 features, adding higher order polynomial terms will quickly make the problem intractable (Reference appendix section on why hidden layers not polynomials if we do that). If we had some mechanistically grounded understanding or hypothesis about the relationship between the features and label could might be able to cherry pick some small subset of higher order interaction terms, but the ML/supervised learning framework is in large part about automating the feature selection processes based on the data alone. In turns out that instead of resorting the regression on polynomial terms to capture feature interactions, there is a much more compact and expressive way of allowing for feature interactions. The idea is to allow for feature interactions to emerge as needed in a 'hidden' computational layer of our highly abstracted neurons."
      ],
      "metadata": {
        "id": "gGe17GoREp3F"
      }
    },
    {
      "cell_type": "markdown",
      "source": [
        "As before $\\mathbf{x}$ is the raw sensory input (vector) in a given episode and each element of $\\mathbf{x}$ corresponds to the activation level and firing rate of a single photosensitive neuron.\n",
        "These input neurons are then connected by synapses to a 'hidden layer' of intermediate computational neurons, say 10 of them. The activation level of these hidden layer neurons is computed as\n",
        "$$\\mathbf{h} = \\sigma(\\mathbf{W}_{in} \\cdot \\mathbf{x})$$\n",
        "Now $\\mathbf{W}_{in}$ is a matrix of synaptic weights between the input neurons and the hidden layer neurons, and $\\cdot$ denotes standard matrix vector multiplication. (In this case $\\mathbf{W}$ has shape $10 \\times 64$. Each the values in the $i^{th}$ row of $\\mathbf{W}_{in}$ given the sign and strenght of the connections coming into the $i^{th}$ element of $h$ and similarly each value in the $j^{th}$ column of $\\mathbf{W}_{in}$ corresponds to connection strengths coming out of the $j^{th}$ sensory input neuron.)  We still us $\\sigma$ to represent the standard logistic sigmoid function, but in these case applied elementwise the vector output of the product $\\mathbf{W}_{in} \\cdot \\mathbf{x}$. Then much as before our striking probability is computed as\n",
        "$$y = \\mathbf{W}_{out} \\cdot \\mathbf{h}$$\n",
        "and\n",
        "$$ \\Pr \\{\\text{strike}\\} = \\sigma(y) $$\n",
        "$$ \\Pr \\{\\text{no strike}\\} = 1 - \\sigma(y)$$\n",
        "Here $\\mathbf{W}_{out}$ has shape $1  \\times 10$.\n"
      ],
      "metadata": {
        "id": "K8xT5vSjKO-p"
      }
    },
    {
      "cell_type": "markdown",
      "source": [
        "We will need to write a new eval params function for this new model, let's do it."
      ],
      "metadata": {
        "id": "hYTBLyDMcdyL"
      }
    },
    {
      "cell_type": "code",
      "source": [
        "def eval_params_hidden(W_in, W_out, x, y):\n",
        "  \"\"\"\n",
        "  evaluates parameters of simple behaviour circuit given inputs and target\n",
        "  outputs, use numpy broadcasting to be fast and concise\n",
        "  Args:\n",
        "    W_in: (hidden-neurons(20) x inputs(65) np.array)\n",
        "           weights between sensory neurons and hidden layer neurons\n",
        "    W_out: (output(1) x hidden-neurons(20) np.array)\n",
        "           weights between hidden layer neurons and output\n",
        "    x: (input(64) x batch np.array) sensory input\n",
        "       (can be single input, mini-batch of inputs or the whole batch of inputs)\n",
        "    y: (outputs(1) x batch np.array) target behavioural output\n",
        "       (can be a single target, mini-batch of targets, or whole batch),\n",
        "       needs to correspond to input\n",
        "\n",
        "  Returns:\n",
        "    R_bar: the average/expected reward obtained given the parameters, over the\n",
        "           (mini-)batch of inputs and targets. (mini-batch could be size 1)\n",
        "  \"\"\"\n",
        "  h = np_sigmoid(np.dot(W_in,x)) # hidden x batch\n",
        "  y_hat = np_sigmoid(np.dot(W_out,h)) # 1 x batch\n",
        "  y_score = np.copy(y)\n",
        "  y_score[y_score == 0] = -1\n",
        "  batch_expected_reward = y_score * y_hat\n",
        "  R_bar = np.mean(batch_expected_reward)\n",
        "  return R_bar"
      ],
      "metadata": {
        "id": "oNN34t6ZHBRH"
      },
      "execution_count": 42,
      "outputs": []
    },
    {
      "cell_type": "markdown",
      "source": [
        "We've got a more complicated circuit with more parameters, how much longer does it take us to evaluate?"
      ],
      "metadata": {
        "id": "n0ELBJiPfEfL"
      }
    },
    {
      "cell_type": "code",
      "source": [
        "W = np.zeros((1,65))\n",
        "%timeit eval_params_aug(W, Xs_aug[:562,:].T, y1[:562].T)"
      ],
      "metadata": {
        "id": "FGzMFKAzfLTK",
        "colab": {
          "base_uri": "https://localhost:8080/"
        },
        "outputId": "bd2af7ae-7e65-40c8-e744-a75af091c352"
      },
      "execution_count": 43,
      "outputs": [
        {
          "output_type": "stream",
          "name": "stdout",
          "text": [
            "139 µs ± 13.7 µs per loop (mean ± std. dev. of 7 runs, 10000 loops each)\n"
          ]
        }
      ]
    },
    {
      "cell_type": "code",
      "source": [
        "W_in = np.zeros((10,65))\n",
        "W_out = np.zeros((1,10))\n",
        "%timeit eval_params_hidden(W_in, W_out, Xs_aug[:562,:].T, y1[:562].T)"
      ],
      "metadata": {
        "id": "WsUio7Mmfbng",
        "colab": {
          "base_uri": "https://localhost:8080/"
        },
        "outputId": "3a8b551c-ef3d-4272-f227-1a5bd03e8a14"
      },
      "execution_count": 44,
      "outputs": [
        {
          "output_type": "stream",
          "name": "stdout",
          "text": [
            "295 µs ± 15.6 µs per loop (mean ± std. dev. of 7 runs, 1000 loops each)\n"
          ]
        }
      ]
    },
    {
      "cell_type": "markdown",
      "source": [
        "We're added a lot more operations here, and now our senory to behaviour function takes about 4x times longer to evaluate. What if we made our minibatch really small, like 20, so that we had 261 mini-batches each of size 20, how much of a speed up does that give us?"
      ],
      "metadata": {
        "id": "v0BtwS8jgY8d"
      }
    },
    {
      "cell_type": "code",
      "source": [
        "%timeit eval_params_hidden(W_in, W_out, Xs_aug[:10,:].T, y1[:10].T)"
      ],
      "metadata": {
        "id": "MTD7IqYKhPFX",
        "colab": {
          "base_uri": "https://localhost:8080/"
        },
        "outputId": "2b8723f5-37ca-4b5e-fec8-cf00711458ba"
      },
      "execution_count": 45,
      "outputs": [
        {
          "output_type": "stream",
          "name": "stdout",
          "text": [
            "41.3 µs ± 1.33 µs per loop (mean ± std. dev. of 7 runs, 10000 loops each)\n"
          ]
        }
      ]
    },
    {
      "cell_type": "markdown",
      "source": [
        "Okay that's starting to be pretty quick again, but we have a lot more parameters to evaluate, $11 \\times 65 = 715$, as contrasted with $65$ from our more simple circuit? Can the mini-batched measure and update training loop, find good parameters is reasonable amount of time?"
      ],
      "metadata": {
        "id": "rQRSUbl-hYXU"
      }
    },
    {
      "cell_type": "code",
      "source": [
        "# @title 10 Hidden Units - Measure and Update Training Loop\n",
        "learn_rng = np.random.default_rng(0)\n",
        "num_epochs = 20\n",
        "alpha = 0.5 #learning rate or step size\n",
        "perturbation_scale = 0.001 # std of gaussian perturbations\n",
        "num_batches = 261  # Number of mini-batches\n",
        "batch_size = 20  # Size of each mini-batch\n",
        "num_hidden_units = 10\n",
        "# initializing both layers as zero leads to some issues, so we\n",
        "# use a Xavier/Glorot random initialization scheme\n",
        "in_init = np.sqrt(6 / (65 + num_hidden_units))\n",
        "W_in_init = learn_rng.uniform(-in_init, in_init, size=(num_hidden_units, 65))\n",
        "out_init = np.sqrt(6 / (10 + 1))\n",
        "W_out_init = learn_rng.uniform(-out_init, out_init, size=(1, num_hidden_units))\n",
        "W_in = W_in_init\n",
        "W_out = W_out_init\n",
        "start_time = time.time()\n",
        "indices = np.arange(Xs_aug.shape[0])\n",
        "for epoch in range(num_epochs):\n",
        "  learn_rng.shuffle(indices)  # Shuffle the indices for each epoch\n",
        "  for batch in range(num_batches):\n",
        "    # Select a mini-batch for this iteration\n",
        "    batch_indices = indices[batch * batch_size : (batch + 1) * batch_size]\n",
        "    Xs_batch = Xs_aug[batch_indices, :].T\n",
        "    y1_batch = y1[batch_indices].T\n",
        "    R_bar_old = eval_params_hidden(W_in, W_out, Xs_batch, y1_batch)\n",
        "    W_in_perturbations = learn_rng.normal(0, perturbation_scale, size=W_in.shape)\n",
        "    W_out_perturbations = learn_rng.normal(0, perturbation_scale, size=W_out.shape)\n",
        "    #perturb and evaluate each parameter seperately\n",
        "    finite_differences_W_in = np.zeros(W_in.shape)\n",
        "    for ii in range(W_in_perturbations.shape[0]):\n",
        "      for jj in range(W_in_perturbations.shape[1]):\n",
        "        original_value = W_in[ii,jj]\n",
        "        W_in[ii,jj] += W_in_perturbations[ii,jj] # perturb\n",
        "        R_bar_perturbed = eval_params_hidden(W_in, W_out, Xs_batch, y1_batch) #evaluate\n",
        "        finite_differences_W_in[ii,jj] = (R_bar_perturbed - R_bar_old) / W_in_perturbations[ii,jj]\n",
        "        W_in[ii,jj] = original_value  # Revert the perturbation\n",
        "    finite_differences_W_out = np.zeros(W_out.shape)\n",
        "    for ii in range(W_out_perturbations.shape[0]):\n",
        "      for jj in range(W_out_perturbations.shape[1]):\n",
        "        original_value = W_out[ii,jj]\n",
        "        W_out[ii,jj] += W_out_perturbations[ii,jj] # perturb\n",
        "        R_bar_perturbed = eval_params_hidden(W_in, W_out, Xs_batch, y1_batch) #evaluate\n",
        "        finite_differences_W_out[ii,jj] = (R_bar_perturbed - R_bar_old) / W_out_perturbations[ii,jj]\n",
        "        W_out[ii,jj] = original_value  # Revert the perturbation\n",
        "\n",
        "    delta_W_in = alpha * finite_differences_W_in\n",
        "    W_in += delta_W_in\n",
        "    delta_W_out = alpha * finite_differences_W_out\n",
        "    W_out += delta_W_out\n",
        "\n",
        "  R_bar_full_batch = eval_params_hidden(W_in, W_out, Xs_aug.T, y1.T)\n",
        "  elapsed_time = time.time() - start_time\n",
        "  print(f'Epoch {epoch + 1}/{num_epochs} completed | Full Batch R_bar: {R_bar_full_batch:.6f} | Time elapsed: {elapsed_time:.2f} seconds')"
      ],
      "metadata": {
        "colab": {
          "base_uri": "https://localhost:8080/"
        },
        "id": "jhSxe1JuCwQr",
        "outputId": "7b2d58f2-dcef-4025-e3c6-2ce72b8b3bcb"
      },
      "execution_count": 46,
      "outputs": [
        {
          "output_type": "stream",
          "name": "stdout",
          "text": [
            "Epoch 1/20 completed | Full Batch R_bar: 0.406532 | Time elapsed: 7.78 seconds\n",
            "Epoch 2/20 completed | Full Batch R_bar: 0.423125 | Time elapsed: 15.42 seconds\n",
            "Epoch 3/20 completed | Full Batch R_bar: 0.445063 | Time elapsed: 23.02 seconds\n",
            "Epoch 4/20 completed | Full Batch R_bar: 0.460641 | Time elapsed: 30.58 seconds\n",
            "Epoch 5/20 completed | Full Batch R_bar: 0.462208 | Time elapsed: 38.18 seconds\n",
            "Epoch 6/20 completed | Full Batch R_bar: 0.467596 | Time elapsed: 45.71 seconds\n",
            "Epoch 7/20 completed | Full Batch R_bar: 0.475705 | Time elapsed: 53.23 seconds\n",
            "Epoch 8/20 completed | Full Batch R_bar: 0.478295 | Time elapsed: 60.73 seconds\n",
            "Epoch 9/20 completed | Full Batch R_bar: 0.470753 | Time elapsed: 68.41 seconds\n",
            "Epoch 10/20 completed | Full Batch R_bar: 0.476134 | Time elapsed: 75.95 seconds\n",
            "Epoch 11/20 completed | Full Batch R_bar: 0.481902 | Time elapsed: 83.47 seconds\n",
            "Epoch 12/20 completed | Full Batch R_bar: 0.481203 | Time elapsed: 91.04 seconds\n",
            "Epoch 13/20 completed | Full Batch R_bar: 0.481828 | Time elapsed: 98.56 seconds\n",
            "Epoch 14/20 completed | Full Batch R_bar: 0.483372 | Time elapsed: 106.03 seconds\n",
            "Epoch 15/20 completed | Full Batch R_bar: 0.485513 | Time elapsed: 113.55 seconds\n",
            "Epoch 16/20 completed | Full Batch R_bar: 0.486326 | Time elapsed: 121.13 seconds\n",
            "Epoch 17/20 completed | Full Batch R_bar: 0.483341 | Time elapsed: 128.66 seconds\n",
            "Epoch 18/20 completed | Full Batch R_bar: 0.486165 | Time elapsed: 136.15 seconds\n",
            "Epoch 19/20 completed | Full Batch R_bar: 0.487774 | Time elapsed: 143.64 seconds\n",
            "Epoch 20/20 completed | Full Batch R_bar: 0.485775 | Time elapsed: 151.13 seconds\n"
          ]
        }
      ]
    },
    {
      "cell_type": "markdown",
      "source": [
        "So this new, more complex circuit is great. We're much closer to the theoretical maximum performance of 0.5033807829181495, maybe with a few more hidden units, and a little longer training time we could have perfect discrimination. Let's see what happens when we go up to 20 hidden units."
      ],
      "metadata": {
        "id": "oxiqiOEaHS26"
      }
    },
    {
      "cell_type": "code",
      "source": [
        "# @title 20 Hidden Units - Measure and Update Training Loop\n",
        "learn_rng = np.random.default_rng(0)\n",
        "num_epochs = 20\n",
        "alpha = 0.5 #learning rate or step size\n",
        "perturbation_scale = 0.001 # std of gaussian perturbations\n",
        "num_batches = 261  # Number of mini-batches\n",
        "batch_size = 20  # Size of each mini-batch\n",
        "num_hidden_units = 20\n",
        "# initializing both layers as zero leads to some issues, so we\n",
        "# use a Xavier/Glorot random initialization scheme\n",
        "in_init = np.sqrt(6 / (65 + num_hidden_units))\n",
        "W_in_init = learn_rng.uniform(-in_init, in_init, size=(num_hidden_units, 65))\n",
        "out_init = np.sqrt(6 / (10 + 1))\n",
        "W_out_init = learn_rng.uniform(-out_init, out_init, size=(1, num_hidden_units))\n",
        "W_in = W_in_init\n",
        "W_out = W_out_init\n",
        "start_time = time.time()\n",
        "indices = np.arange(Xs_aug.shape[0])\n",
        "for epoch in range(num_epochs):\n",
        "  learn_rng.shuffle(indices)  # Shuffle the indices for each epoch\n",
        "  for batch in range(num_batches):\n",
        "    # Select a mini-batch for this iteration\n",
        "    batch_indices = indices[batch * batch_size : (batch + 1) * batch_size]\n",
        "    Xs_batch = Xs_aug[batch_indices, :].T\n",
        "    y1_batch = y1[batch_indices].T\n",
        "    R_bar_old = eval_params_hidden(W_in, W_out, Xs_batch, y1_batch)\n",
        "    W_in_perturbations = learn_rng.normal(0, perturbation_scale, size=W_in.shape)\n",
        "    W_out_perturbations = learn_rng.normal(0, perturbation_scale, size=W_out.shape)\n",
        "    #perturb and evaluate each parameter seperately\n",
        "    finite_differences_W_in = np.zeros(W_in.shape)\n",
        "    for ii in range(W_in_perturbations.shape[0]):\n",
        "      for jj in range(W_in_perturbations.shape[1]):\n",
        "        original_value = W_in[ii,jj]\n",
        "        W_in[ii,jj] += W_in_perturbations[ii,jj] # perturb\n",
        "        R_bar_perturbed = eval_params_hidden(W_in, W_out, Xs_batch, y1_batch) #evaluate\n",
        "        finite_differences_W_in[ii,jj] = (R_bar_perturbed - R_bar_old) / W_in_perturbations[ii,jj]\n",
        "        W_in[ii,jj] = original_value  # Revert the perturbation\n",
        "    finite_differences_W_out = np.zeros(W_out.shape)\n",
        "    for ii in range(W_out_perturbations.shape[0]):\n",
        "      for jj in range(W_out_perturbations.shape[1]):\n",
        "        original_value = W_out[ii,jj]\n",
        "        W_out[ii,jj] += W_out_perturbations[ii,jj] # perturb\n",
        "        R_bar_perturbed = eval_params_hidden(W_in, W_out, Xs_batch, y1_batch) #evaluate\n",
        "        finite_differences_W_out[ii,jj] = (R_bar_perturbed - R_bar_old) / W_out_perturbations[ii,jj]\n",
        "        W_out[ii,jj] = original_value  # Revert the perturbation\n",
        "\n",
        "    delta_W_in = alpha * finite_differences_W_in\n",
        "    W_in += delta_W_in\n",
        "    delta_W_out = alpha * finite_differences_W_out\n",
        "    W_out += delta_W_out\n",
        "\n",
        "  R_bar_full_batch = eval_params_hidden(W_in, W_out, Xs_aug.T, y1.T)\n",
        "  elapsed_time = time.time() - start_time\n",
        "  print(f'Epoch {epoch + 1}/{num_epochs} completed | Full Batch R_bar: {R_bar_full_batch:.6f} | Time elapsed: {elapsed_time:.2f} seconds')"
      ],
      "metadata": {
        "id": "zQUtKQSehhwJ",
        "colab": {
          "base_uri": "https://localhost:8080/"
        },
        "outputId": "861be8f1-65ea-489e-fee8-25e1373d528f"
      },
      "execution_count": 47,
      "outputs": [
        {
          "output_type": "stream",
          "name": "stdout",
          "text": [
            "Epoch 1/20 completed | Full Batch R_bar: 0.427418 | Time elapsed: 16.07 seconds\n",
            "Epoch 2/20 completed | Full Batch R_bar: 0.451890 | Time elapsed: 32.27 seconds\n",
            "Epoch 3/20 completed | Full Batch R_bar: 0.463534 | Time elapsed: 48.85 seconds\n",
            "Epoch 4/20 completed | Full Batch R_bar: 0.472850 | Time elapsed: 65.10 seconds\n",
            "Epoch 5/20 completed | Full Batch R_bar: 0.477027 | Time elapsed: 81.26 seconds\n",
            "Epoch 6/20 completed | Full Batch R_bar: 0.476913 | Time elapsed: 97.46 seconds\n",
            "Epoch 7/20 completed | Full Batch R_bar: 0.479920 | Time elapsed: 113.71 seconds\n",
            "Epoch 8/20 completed | Full Batch R_bar: 0.482906 | Time elapsed: 130.05 seconds\n",
            "Epoch 9/20 completed | Full Batch R_bar: 0.488190 | Time elapsed: 146.14 seconds\n",
            "Epoch 10/20 completed | Full Batch R_bar: 0.488225 | Time elapsed: 162.22 seconds\n",
            "Epoch 11/20 completed | Full Batch R_bar: 0.488511 | Time elapsed: 178.27 seconds\n",
            "Epoch 12/20 completed | Full Batch R_bar: 0.491174 | Time elapsed: 194.41 seconds\n",
            "Epoch 13/20 completed | Full Batch R_bar: 0.486808 | Time elapsed: 210.46 seconds\n",
            "Epoch 14/20 completed | Full Batch R_bar: 0.492496 | Time elapsed: 226.64 seconds\n",
            "Epoch 15/20 completed | Full Batch R_bar: 0.490746 | Time elapsed: 242.76 seconds\n",
            "Epoch 16/20 completed | Full Batch R_bar: 0.493733 | Time elapsed: 259.02 seconds\n",
            "Epoch 17/20 completed | Full Batch R_bar: 0.493721 | Time elapsed: 275.23 seconds\n",
            "Epoch 18/20 completed | Full Batch R_bar: 0.495369 | Time elapsed: 291.42 seconds\n",
            "Epoch 19/20 completed | Full Batch R_bar: 0.493431 | Time elapsed: 307.68 seconds\n",
            "Epoch 20/20 completed | Full Batch R_bar: 0.495330 | Time elapsed: 323.87 seconds\n"
          ]
        }
      ]
    },
    {
      "cell_type": "markdown",
      "source": [
        "This more complex circuit get's us even closer to the theoretical maximum performance of 0.5033..., but it's taking longer to get there. This is because there are more parameters to figure out good values for. Consequently, function evaluations take a bit longer, and more significantly, we need many more function evaluations — an additional one for each parameter — in each iteration. With more hidden units and more time we can likely learn perfect discrimination, but it will take even longer (more than 5 minutes!)."
      ],
      "metadata": {
        "id": "cdJsdO4fqZ_S"
      }
    },
    {
      "cell_type": "markdown",
      "source": [
        "Although the toy neural circuit models in this sequence are a far cry from actual neural circuits, they still provide insight into potential learning processes in the brain. We can imagine a scenario where synaptic strengths between neurons in a circuit undergo small, transient perturbations. The brain might integrate and compare the performance of these perturbations over a learning episode (for example, a day) to previous performance levels. (Though, we leave aside the specifics of how this integration and comparison occur.)\n",
        "\n",
        "If performance improves with a perturbation, synaptic changes could be consolidated in the direction of the perturbation, proportionate to the degree of improvement. Conversely, if performance worsens, changes might be consolidated in the opposite direction, also proportional to the performance decrease. This concept, while still vague, suggests a mechanism of synaptic adjustment based on performance feedback.\n",
        "\n",
        "One critical point to consider is the scalability of such a learning process. The number of learning episodes required for effective optimization grows with the number of parameters in a neural circuit. This implies that 'measure and update' perturbation-based learning cannot be the primary mechanism driving neural plasticity in large, complex neural circuits. This limitation is critical, as life simply isn't long enough to accommodate the learning episodes needed for such extensive optimization.\n",
        "\n",
        "However, as demonstrated in our example, a more complex circuit achieved significantly better performance in the discrimination task, so large complex circuits can be useful. This suggests that even if empirical evidence of perturbation-based learning in the brain exists and its physiological implementation is understood, such processes are unlikely to be the primary drivers of neural plasticity for complex and challenging behaviors.\n",
        "\n",
        "(One counterargument in favor of simple learning rules is that extensive learning might not be necessary if genetic predisposition starts the circuit off close to an optimal parameter configuration. Then subsequently, relatively slow learning processes could 'fine-tune' the neural circuit's configuration. However, as noted in our earlier discussions on evolution, changing environments necessitate that a significant portion of behavior must emerge from learning, thereby limiting the extent to which genetic predispositions can facilitate efficient and adaptive learning.)"
      ],
      "metadata": {
        "id": "xeJ-Tt-eURML"
      }
    },
    {
      "cell_type": "markdown",
      "source": [
        "This concludes our sequence on fitting data through perturbations. In the sequence to come, we will see how different tricks and insights can make our learning algorithms faster and more efficient. We close with a thought on how all of this learning is based simply on changes in average reward. These learning algorithms make no use of information about what the right output should have been (compared to what it was) in any specific situation. Could we make more effective parameter updates if we incorporated information about which situations our circuit already yields 'correct' behavior and which ones it does not?"
      ],
      "metadata": {
        "id": "VRencsrpKEkj"
      }
    },
    {
      "cell_type": "code",
      "execution_count": 48,
      "metadata": {
        "execution": {},
        "id": "YVSwSMZoukJv",
        "colab": {
          "base_uri": "https://localhost:8080/",
          "height": 62,
          "referenced_widgets": [
            "6e2deed9f60d4401bad565e81e1b6f70",
            "12b0c6a109594007a8e7dcd6c9f2eeae",
            "f5a013a0e56b4b6ca198ed1cd3e132e9",
            "f3b0948541164876abd62c50e37a067f",
            "536e783b179a4b9d845d3feac4e9efce",
            "4c42884bf06a4475a5468a0e523209c3",
            "8995a7fdcc2c43e0b0085adc87d27629",
            "613b7f6e87064689883a868b0c5170c5",
            "7c119242e4274642941c7f0abfd19253",
            "07942a25011d4fdeae5084284f39fbe5",
            "fd9905d0a1764ed7b05cf952262522be",
            "2da3de68d58f4b83b12cd213d4d7ac6b",
            "ed532f4b081d41b2bfbbd61111f48705",
            "815d3710883b4b6589a6b676db530ebf",
            "f49398972c4446a1bfcef65e31dcc2a5",
            "3eb274e5ac9e40f1858fa21f5aeb560f",
            "1b8450177279432b87a88eb0ee724006",
            "02915559c2b24e16a38d7ca52bc7888f",
            "397c3f1fe61a45e48f3a423029c06301",
            "b08dbdb896af4b41912cb97fc9182662",
            "0874f8bacd024a4191ea6dc3763e3b55",
            "956fbe129592436cadd2dc46c967fd06",
            "4209bb380ead41db969d16f5d418be41",
            "2a9b21dd86fb4e1386aa893aa1731109",
            "120522513adb46eeb00515fe3e212973",
            "e23645dfd9d0449a960fc1788a6f442c"
          ]
        },
        "cellView": "form",
        "outputId": "7f13c4fd-8997-4d8a-88b6-d92e5ad76e4e"
      },
      "outputs": [
        {
          "output_type": "display_data",
          "data": {
            "text/plain": [
              "VBox(children=(VBox(children=(HBox(children=(Button(description='🙂', layout=Layout(height='auto', padding='0.5…"
            ],
            "application/vnd.jupyter.widget-view+json": {
              "version_major": 2,
              "version_minor": 0,
              "model_id": "6e2deed9f60d4401bad565e81e1b6f70"
            }
          },
          "metadata": {
            "application/vnd.jupyter.widget-view+json": {
              "colab": {
                "custom_widget_manager": {
                  "url": "https://ssl.gstatic.com/colaboratory-static/widgets/colab-cdn-widget-manager/b3e629b1971e1542/manager.min.js"
                }
              }
            }
          }
        }
      ],
      "source": [
        "# @markdown Submit your feedback\n",
        "content_review(f\"{feedback_prefix}_M4\")"
      ]
    },
    {
      "cell_type": "markdown",
      "source": [
        "# Quiz"
      ],
      "metadata": {
        "id": "lR_7V-3XirHz"
      }
    },
    {
      "cell_type": "code",
      "source": [
        "# @markdown **Run this cell** to take the quiz\n",
        "comprehension_quiz = [\n",
        "  {\n",
        "    \"question\": \"How does the complexity of a neural circuit (number of parameters) impact the number of learning iterations and hence time to learn using a 'measure and update' learning process?\",\n",
        "    \"type\": \"multiple_choice\",\n",
        "    \"answers\": [\n",
        "      {\n",
        "        \"answer\": \"It does not affect the number of iterations required; the process scales well regardless of circuit complexity.\",\n",
        "        \"correct\": False,\n",
        "        \"feedback\": \"Actually, the the number of iterations required grows with the complexity of the circt due to more parameters requiring optimization.\"\n",
        "      },\n",
        "      {\n",
        "        \"answer\": \"The process requires few learning iterations, by leveraging algorithmic economies of scale\",\n",
        "        \"correct\": False,\n",
        "        \"feedback\": \"Contrary to this, an increase in parameters leads the more learning iterations being required.\"\n",
        "      },\n",
        "      {\n",
        "        \"answer\": \"The process becomes requires more learning episodes for larger, more complex circuits.\",\n",
        "        \"correct\": True,\n",
        "        \"feedback\": \"Correct! More parameters mean more complexity and thus more learning episodes are needed.\"\n",
        "      },\n",
        "      {\n",
        "        \"answer\": \"The number of learning iterations needed is solely dependent on the type of learning task, not the circuit complexity.\",\n",
        "        \"correct\": False,\n",
        "        \"feedback\": \"Circuit complexity, particularly the number of parameters, plays a significant role in the number of learning iterations needed.\"\n",
        "      }\n",
        "    ]\n",
        "  },\n",
        "  {\n",
        "    \"question\": \"Why was the introduction of a 'hidden layer' beneficial in our complex discrimination tasks?\",\n",
        "    \"type\": \"multiple_choice\",\n",
        "    \"answers\": [\n",
        "      {\n",
        "        \"answer\": \"It allowed the model to perform tasks more quickly but with reduced accuracy.\",\n",
        "        \"correct\": False,\n",
        "        \"feedback\": \"The hidden layer's primary benefit is not speed at the cost of accuracy, but rather an enhancement in handling complex patterns.\"\n",
        "      },\n",
        "      {\n",
        "        \"answer\": \"It introduces feature interactions and non-linearities, enabling the model to capture complex patterns.\",\n",
        "        \"correct\": True,\n",
        "        \"feedback\": \"Exactly! Hidden layers allow for complex interactions and non-linear processing of features, which can be crucial for generating behaviour contingent on rich sensory input.\"\n",
        "      },\n",
        "      {\n",
        "        \"answer\": \"It reduces the number of parameters needed, simplifying the model.\",\n",
        "        \"correct\": False,\n",
        "        \"feedback\": \"Adding a hidden layer typically increases the number of parameters, adding complexity to the model.\"\n",
        "      },\n",
        "      {\n",
        "        \"answer\": \"It primarily improves the model's visualization, making it easier to interpret.\",\n",
        "        \"correct\": False,\n",
        "        \"feedback\": \"While interpretability is important, this is not an advantage of adding a hidden layer.\"\n",
        "      }\n",
        "    ]\n",
        "  },\n",
        "  {\n",
        "    \"question\": \"In the context of machine learning, what is the impact of using a 'mini-batch' approach?\",\n",
        "    \"type\": \"multiple_choice\",\n",
        "    \"answers\": [\n",
        "      {\n",
        "        \"answer\": \"It guarantees a 10x speedup in learning algorithms.\",\n",
        "        \"correct\": False,\n",
        "        \"feedback\": \"While mini-batches can speed up learning, the magnitude of this speed-up will depend on choice of mini-batch size and the interaction of this size with underlying algorithmic efficiencies of scale at the hardware implementation level.\"\n",
        "      },\n",
        "      {\n",
        "        \"answer\": \"It reduces the time for evaluations by using a smaller, representative data sample.\",\n",
        "        \"correct\": True,\n",
        "        \"feedback\": \"Correct! A mini-batch approach uses a smaller subset of data for quicker evaluations, though it introduces some noise to the estimates.\"\n",
        "      },\n",
        "      {\n",
        "        \"answer\": \"It decreases the accuracy of parameter evaluation\",\n",
        "        \"correct\": True,\n",
        "        \"feedback\": \"Correct! Mini-batches do introduce some noise to parameter evaluation, but is used thoughtfully this usually isn't an issue.\"\n",
        "      },\n",
        "      {\n",
        "        \"answer\": \"It eliminates the need for parameter updates in the learning process.\",\n",
        "        \"correct\": False,\n",
        "        \"feedback\": \"Mini-batches still require parameter updates; they just alter the way data is processed during learning.\"\n",
        "      }\n",
        "    ]\n",
        "  },\n",
        "  {\n",
        "    \"question\": \"What challenge arises when comparing different machine learning algorithms?\",\n",
        "    \"type\": \"multiple_choice\",\n",
        "    \"answers\": [\n",
        "      {\n",
        "        \"answer\": \"Algorithms cannot be compared due to their differing objectives.\",\n",
        "        \"correct\": False,\n",
        "        \"feedback\": \"While objectives can vary, this doesn't make comparison impossible; it's more about how different parameters and conditions affect performance.\"\n",
        "      },\n",
        "      {\n",
        "        \"answer\": \"All algorithms perform similarly when given the same data and task.\",\n",
        "        \"correct\": False,\n",
        "        \"feedback\": \"Performance can vary significantly between algorithms depending on their design and the specificities of the task and data.\"\n",
        "      },\n",
        "      {\n",
        "        \"answer\": \"Performance is highly dependent on meta-parameter choices, making direct comparisons challenging.\",\n",
        "        \"correct\": True,\n",
        "        \"feedback\": \"Variations in learning rate, perturbation scale, mini-batch size, and other meta-parameters can significantly impact algorithm performance, complicating direct comparisons.\"\n",
        "      },\n",
        "      {\n",
        "        \"answer\": \"Algorithms' performance cannot be measured or quantified.\",\n",
        "        \"correct\": False,\n",
        "        \"feedback\": \"Performance can indeed be measured and quantified, but the challenge lies in accounting for differences in meta-parameters and conditions.\"\n",
        "      }\n",
        "    ]\n",
        "  }\n",
        "]\n",
        "\n",
        "display_quiz(comprehension_quiz)"
      ],
      "metadata": {
        "id": "w2KeqdiGit2Q",
        "colab": {
          "base_uri": "https://localhost:8080/",
          "height": 1000
        },
        "cellView": "form",
        "outputId": "0151fc08-9b2e-4f7c-a15a-010cf0cb0238"
      },
      "execution_count": 49,
      "outputs": [
        {
          "output_type": "display_data",
          "data": {
            "text/plain": [
              "<IPython.core.display.HTML object>"
            ],
            "text/html": [
              "<div id=\"zOIrpOcCEKeu\" data-shufflequestions=\"False\"\n",
              "               data-shuffleanswers=\"True\"\n",
              "               data-preserveresponses=\"false\"\n",
              "               data-numquestions=\"1000000\"\n",
              "               data-maxwidth=\"600\"\n",
              "               style=\"border-radius: 10px; text-align: left\"> <style>\n",
              "#zOIrpOcCEKeu {\n",
              "   --jq-multiple-choice-bg: #6f78ffff;\n",
              "   --jq-mc-button-bg: #fafafa;\n",
              "   --jq-mc-button-border: #e0e0e0e0;\n",
              "   --jq-mc-button-inset-shadow: #555555;\n",
              "   --jq-many-choice-bg: #f75c03ff;\n",
              "   --jq-numeric-bg: #392061ff;\n",
              "   --jq-numeric-input-bg: #c0c0c0;\n",
              "   --jq-numeric-input-label: #101010;\n",
              "   --jq-numeric-input-shadow: #999999;\n",
              "   --jq-incorrect-color: #c80202;\n",
              "   --jq-correct-color: #009113;\n",
              "   --jq-text-color: #fafafa;\n",
              "}\n",
              "\n",
              ".Quiz {\n",
              "    max-width: 600px;\n",
              "    margin-top: 15px;\n",
              "    margin-left: auto;\n",
              "    margin-right: auto;\n",
              "    margin-bottom: 15px;\n",
              "    padding-bottom: 4px;\n",
              "    padding-top: 4px;\n",
              "    line-height: 1.1;\n",
              "    font-size: 16pt;\n",
              "    border-radius: inherit;\n",
              "}\n",
              "\n",
              ".QuizCode {\n",
              "    font-size: 14pt;\n",
              "    margin-top: 10px;\n",
              "    margin-left: 20px;\n",
              "    margin-right: 20px;\n",
              "}\n",
              "\n",
              ".QuizCode>pre {\n",
              "    padding: 4px;\n",
              "}\n",
              "\n",
              ".Answer {\n",
              "    margin: 10px 0;\n",
              "    display: grid;\n",
              "    grid-template-columns: 1fr 1fr;\n",
              "    grid-gap: 10px;\n",
              "    border-radius: inherit;\n",
              "}\n",
              "\n",
              ".Feedback {\n",
              "    font-size: 16pt;\n",
              "    text-align: center;\n",
              "    min-height: 2em;\n",
              "}\n",
              "\n",
              ".Input {\n",
              "    align: left;\n",
              "    font-size: 20pt;\n",
              "}\n",
              "\n",
              ".Input-text {\n",
              "    display: block;\n",
              "    margin: 10px;\n",
              "    color: inherit;\n",
              "    width: 140px;\n",
              "    background-color: var(--jq-numeric-input-bg);\n",
              "    color: var(--jq-text-color);\n",
              "    padding: 5px;\n",
              "    padding-left: 10px;\n",
              "    font-family: inherit;\n",
              "    font-size: 20px;\n",
              "    font-weight: inherit;\n",
              "    line-height: 20pt;\n",
              "    border: none;\n",
              "    border-radius: 0.2rem;\n",
              "    transition: box-shadow 0.1s);\n",
              "}\n",
              "\n",
              ".Input-text:focus {\n",
              "    outline: none;\n",
              "    background-color: var(--jq-numeric-input-bg);\n",
              "    box-shadow: 0.6rem 0.8rem 1.4rem -0.5rem var(--jq-numeric-input-shadow);\n",
              "}\n",
              "\n",
              ".MCButton {\n",
              "    background: var(--jq-mc-button-bg);\n",
              "    border: 1px solid var(--jq-mc-button-border);\n",
              "    border-radius: inherit;\n",
              "    padding: 10px;\n",
              "    font-size: 16px;\n",
              "    cursor: pointer;\n",
              "    text-align: center;\n",
              "    display: flex;\n",
              "    align-items: center;\n",
              "    justify-content: center;\n",
              "}\n",
              "\n",
              ".MCButton p {\n",
              "    color: inherit;\n",
              "}\n",
              "\n",
              ".MultipleChoiceQn {\n",
              "    padding: 10px;\n",
              "    background: var(--jq-multiple-choice-bg);\n",
              "    color: var(--jq-text-color);\n",
              "    border-radius: inherit;\n",
              "}\n",
              "\n",
              ".ManyChoiceQn {\n",
              "    padding: 10px;\n",
              "    background: var(--jq-many-choice-bg);\n",
              "    color: var(--jq-text-color);\n",
              "    border-radius: inherit;\n",
              "}\n",
              "\n",
              ".NumericQn {\n",
              "    padding: 10px;\n",
              "    background: var(--jq-numeric-bg);\n",
              "    color: var(--jq-text-color);\n",
              "    border-radius: inherit;\n",
              "}\n",
              "\n",
              ".NumericQn p {\n",
              "    color: inherit;\n",
              "}\n",
              "\n",
              ".InpLabel {\n",
              "    line-height: 34px;\n",
              "    float: left;\n",
              "    margin-right: 10px;\n",
              "    color: var(--jq-numeric-input-label);\n",
              "    font-size: 15pt;\n",
              "}\n",
              "\n",
              ".incorrect {\n",
              "    color: var(--jq-incorrect-color);\n",
              "}\n",
              "\n",
              ".correct {\n",
              "    color: var(--jq-correct-color);\n",
              "}\n",
              "\n",
              ".correctButton {\n",
              "    /*\n",
              "    background: var(--jq-correct-color);\n",
              "   */\n",
              "    animation: correct-anim 0.6s ease;\n",
              "    animation-fill-mode: forwards;\n",
              "    color: var(--jq-text-color);\n",
              "    box-shadow: inset 0px 0px 5px var(--jq-mc-button-inset-shadow);\n",
              "    outline: none;\n",
              "}\n",
              "\n",
              ".incorrectButton {\n",
              "    animation: incorrect-anim 0.8s ease;\n",
              "    animation-fill-mode: forwards;\n",
              "    color: var(--jq-text-color);\n",
              "    box-shadow: inset 0px 0px 5px var(--jq-mc-button-inset-shadow);\n",
              "    outline: none;\n",
              "}\n",
              "\n",
              "@keyframes incorrect-anim {\n",
              "    100% {\n",
              "        background-color: var(--jq-incorrect-color);\n",
              "    }\n",
              "}\n",
              "\n",
              "@keyframes correct-anim {\n",
              "    100% {\n",
              "        background-color: var(--jq-correct-color);\n",
              "    }\n",
              "}\n",
              "</style>"
            ]
          },
          "metadata": {}
        },
        {
          "output_type": "display_data",
          "data": {
            "text/plain": [
              "<IPython.core.display.Javascript object>"
            ],
            "application/javascript": [
              "var questionszOIrpOcCEKeu=[{\"question\": \"How does the complexity of a neural circuit (number of parameters) impact the number of learning iterations and hence time to learn using a 'measure and update' learning process?\", \"type\": \"multiple_choice\", \"answers\": [{\"answer\": \"It does not affect the number of iterations required; the process scales well regardless of circuit complexity.\", \"correct\": false, \"feedback\": \"Actually, the the number of iterations required grows with the complexity of the circt due to more parameters requiring optimization.\"}, {\"answer\": \"The process requires few learning iterations, by leveraging algorithmic economies of scale\", \"correct\": false, \"feedback\": \"Contrary to this, an increase in parameters leads the more learning iterations being required.\"}, {\"answer\": \"The process becomes requires more learning episodes for larger, more complex circuits.\", \"correct\": true, \"feedback\": \"Correct! More parameters mean more complexity and thus more learning episodes are needed.\"}, {\"answer\": \"The number of learning iterations needed is solely dependent on the type of learning task, not the circuit complexity.\", \"correct\": false, \"feedback\": \"Circuit complexity, particularly the number of parameters, plays a significant role in the number of learning iterations needed.\"}]}, {\"question\": \"Why was the introduction of a 'hidden layer' beneficial in our complex discrimination tasks?\", \"type\": \"multiple_choice\", \"answers\": [{\"answer\": \"It allowed the model to perform tasks more quickly but with reduced accuracy.\", \"correct\": false, \"feedback\": \"The hidden layer's primary benefit is not speed at the cost of accuracy, but rather an enhancement in handling complex patterns.\"}, {\"answer\": \"It introduces feature interactions and non-linearities, enabling the model to capture complex patterns.\", \"correct\": true, \"feedback\": \"Exactly! Hidden layers allow for complex interactions and non-linear processing of features, which can be crucial for generating behaviour contingent on rich sensory input.\"}, {\"answer\": \"It reduces the number of parameters needed, simplifying the model.\", \"correct\": false, \"feedback\": \"Adding a hidden layer typically increases the number of parameters, adding complexity to the model.\"}, {\"answer\": \"It primarily improves the model's visualization, making it easier to interpret.\", \"correct\": false, \"feedback\": \"While interpretability is important, this is not an advantage of adding a hidden layer.\"}]}, {\"question\": \"In the context of machine learning, what is the impact of using a 'mini-batch' approach?\", \"type\": \"multiple_choice\", \"answers\": [{\"answer\": \"It guarantees a 10x speedup in learning algorithms.\", \"correct\": false, \"feedback\": \"While mini-batches can speed up learning, the magnitude of this speed-up will depend on choice of mini-batch size and the interaction of this size with underlying algorithmic efficiencies of scale at the hardware implementation level.\"}, {\"answer\": \"It reduces the time for evaluations by using a smaller, representative data sample.\", \"correct\": true, \"feedback\": \"Correct! A mini-batch approach uses a smaller subset of data for quicker evaluations, though it introduces some noise to the estimates.\"}, {\"answer\": \"It decreases the accuracy of parameter evaluation\", \"correct\": true, \"feedback\": \"Correct! Mini-batches do introduce some noise to parameter evaluation, but is used thoughtfully this usually isn't an issue.\"}, {\"answer\": \"It eliminates the need for parameter updates in the learning process.\", \"correct\": false, \"feedback\": \"Mini-batches still require parameter updates; they just alter the way data is processed during learning.\"}]}, {\"question\": \"What challenge arises when comparing different machine learning algorithms?\", \"type\": \"multiple_choice\", \"answers\": [{\"answer\": \"Algorithms cannot be compared due to their differing objectives.\", \"correct\": false, \"feedback\": \"While objectives can vary, this doesn't make comparison impossible; it's more about how different parameters and conditions affect performance.\"}, {\"answer\": \"All algorithms perform similarly when given the same data and task.\", \"correct\": false, \"feedback\": \"Performance can vary significantly between algorithms depending on their design and the specificities of the task and data.\"}, {\"answer\": \"Performance is highly dependent on meta-parameter choices, making direct comparisons challenging.\", \"correct\": true, \"feedback\": \"Variations in learning rate, perturbation scale, mini-batch size, and other meta-parameters can significantly impact algorithm performance, complicating direct comparisons.\"}, {\"answer\": \"Algorithms' performance cannot be measured or quantified.\", \"correct\": false, \"feedback\": \"Performance can indeed be measured and quantified, but the challenge lies in accounting for differences in meta-parameters and conditions.\"}]}];\n",
              "    // Make a random ID\n",
              "function makeid(length) {\n",
              "    var result = [];\n",
              "    var characters = 'ABCDEFGHIJKLMNOPQRSTUVWXYZabcdefghijklmnopqrstuvwxyz';\n",
              "    var charactersLength = characters.length;\n",
              "    for (var i = 0; i < length; i++) {\n",
              "        result.push(characters.charAt(Math.floor(Math.random() * charactersLength)));\n",
              "    }\n",
              "    return result.join('');\n",
              "}\n",
              "\n",
              "// Choose a random subset of an array. Can also be used to shuffle the array\n",
              "function getRandomSubarray(arr, size) {\n",
              "    var shuffled = arr.slice(0), i = arr.length, temp, index;\n",
              "    while (i--) {\n",
              "        index = Math.floor((i + 1) * Math.random());\n",
              "        temp = shuffled[index];\n",
              "        shuffled[index] = shuffled[i];\n",
              "        shuffled[i] = temp;\n",
              "    }\n",
              "    return shuffled.slice(0, size);\n",
              "}\n",
              "\n",
              "function printResponses(responsesContainer) {\n",
              "    var responses=JSON.parse(responsesContainer.dataset.responses);\n",
              "    var stringResponses='<B>IMPORTANT!</B>To preserve this answer sequence for submission, when you have finalized your answers: <ol> <li> Copy the text in this cell below \"Answer String\"</li> <li> Double click on the cell directly below the Answer String, labeled \"Replace Me\"</li> <li> Select the whole \"Replace Me\" text</li> <li> Paste in your answer string and press shift-Enter.</li><li>Save the notebook using the save icon or File->Save Notebook menu item</li></ul><br><br><br><b>Answer String:</b><br> ';\n",
              "    console.log(responses);\n",
              "    responses.forEach((response, index) => {\n",
              "        if (response) {\n",
              "            console.log(index + ': ' + response);\n",
              "            stringResponses+= index + ': ' + response +\"<BR>\";\n",
              "        }\n",
              "    });\n",
              "    responsesContainer.innerHTML=stringResponses;\n",
              "}\n",
              "function check_mc() {\n",
              "    var id = this.id.split('-')[0];\n",
              "    //var response = this.id.split('-')[1];\n",
              "    //console.log(response);\n",
              "    //console.log(\"In check_mc(), id=\"+id);\n",
              "    //console.log(event.srcElement.id)           \n",
              "    //console.log(event.srcElement.dataset.correct)   \n",
              "    //console.log(event.srcElement.dataset.feedback)\n",
              "\n",
              "    var label = event.srcElement;\n",
              "    //console.log(label, label.nodeName);\n",
              "    var depth = 0;\n",
              "    while ((label.nodeName != \"LABEL\") && (depth < 20)) {\n",
              "        label = label.parentElement;\n",
              "        console.log(depth, label);\n",
              "        depth++;\n",
              "    }\n",
              "\n",
              "\n",
              "\n",
              "    var answers = label.parentElement.children;\n",
              "\n",
              "    //console.log(answers);\n",
              "\n",
              "\n",
              "    // Split behavior based on multiple choice vs many choice:\n",
              "    var fb = document.getElementById(\"fb\" + id);\n",
              "\n",
              "\n",
              "\n",
              "\n",
              "    if (fb.dataset.numcorrect == 1) {\n",
              "        // What follows is for the saved responses stuff\n",
              "        var outerContainer = fb.parentElement.parentElement;\n",
              "        var responsesContainer = document.getElementById(\"responses\" + outerContainer.id);\n",
              "        if (responsesContainer) {\n",
              "            //console.log(responsesContainer);\n",
              "            var response = label.firstChild.innerText;\n",
              "            if (label.querySelector(\".QuizCode\")){\n",
              "                response+= label.querySelector(\".QuizCode\").firstChild.innerText;\n",
              "            }\n",
              "            console.log(response);\n",
              "            //console.log(document.getElementById(\"quizWrap\"+id));\n",
              "            var qnum = document.getElementById(\"quizWrap\"+id).dataset.qnum;\n",
              "            console.log(\"Question \" + qnum);\n",
              "            //console.log(id, \", got numcorrect=\",fb.dataset.numcorrect);\n",
              "            var responses=JSON.parse(responsesContainer.dataset.responses);\n",
              "            console.log(responses);\n",
              "            responses[qnum]= response;\n",
              "            responsesContainer.setAttribute('data-responses', JSON.stringify(responses));\n",
              "            printResponses(responsesContainer);\n",
              "        }\n",
              "        // End code to preserve responses\n",
              "        \n",
              "        for (var i = 0; i < answers.length; i++) {\n",
              "            var child = answers[i];\n",
              "            //console.log(child);\n",
              "            child.className = \"MCButton\";\n",
              "        }\n",
              "\n",
              "\n",
              "\n",
              "        if (label.dataset.correct == \"true\") {\n",
              "            // console.log(\"Correct action\");\n",
              "            if (\"feedback\" in label.dataset) {\n",
              "                fb.textContent = jaxify(label.dataset.feedback);\n",
              "            } else {\n",
              "                fb.textContent = \"Correct!\";\n",
              "            }\n",
              "            label.classList.add(\"correctButton\");\n",
              "\n",
              "            fb.className = \"Feedback\";\n",
              "            fb.classList.add(\"correct\");\n",
              "\n",
              "        } else {\n",
              "            if (\"feedback\" in label.dataset) {\n",
              "                fb.textContent = jaxify(label.dataset.feedback);\n",
              "            } else {\n",
              "                fb.textContent = \"Incorrect -- try again.\";\n",
              "            }\n",
              "            //console.log(\"Error action\");\n",
              "            label.classList.add(\"incorrectButton\");\n",
              "            fb.className = \"Feedback\";\n",
              "            fb.classList.add(\"incorrect\");\n",
              "        }\n",
              "    }\n",
              "    else {\n",
              "        var reset = false;\n",
              "        var feedback;\n",
              "         if (label.dataset.correct == \"true\") {\n",
              "            if (\"feedback\" in label.dataset) {\n",
              "                feedback = jaxify(label.dataset.feedback);\n",
              "            } else {\n",
              "                feedback = \"Correct!\";\n",
              "            }\n",
              "            if (label.dataset.answered <= 0) {\n",
              "                if (fb.dataset.answeredcorrect < 0) {\n",
              "                    fb.dataset.answeredcorrect = 1;\n",
              "                    reset = true;\n",
              "                } else {\n",
              "                    fb.dataset.answeredcorrect++;\n",
              "                }\n",
              "                if (reset) {\n",
              "                    for (var i = 0; i < answers.length; i++) {\n",
              "                        var child = answers[i];\n",
              "                        child.className = \"MCButton\";\n",
              "                        child.dataset.answered = 0;\n",
              "                    }\n",
              "                }\n",
              "                label.classList.add(\"correctButton\");\n",
              "                label.dataset.answered = 1;\n",
              "                fb.className = \"Feedback\";\n",
              "                fb.classList.add(\"correct\");\n",
              "\n",
              "            }\n",
              "        } else {\n",
              "            if (\"feedback\" in label.dataset) {\n",
              "                feedback = jaxify(label.dataset.feedback);\n",
              "            } else {\n",
              "                feedback = \"Incorrect -- try again.\";\n",
              "            }\n",
              "            if (fb.dataset.answeredcorrect > 0) {\n",
              "                fb.dataset.answeredcorrect = -1;\n",
              "                reset = true;\n",
              "            } else {\n",
              "                fb.dataset.answeredcorrect--;\n",
              "            }\n",
              "\n",
              "            if (reset) {\n",
              "                for (var i = 0; i < answers.length; i++) {\n",
              "                    var child = answers[i];\n",
              "                    child.className = \"MCButton\";\n",
              "                    child.dataset.answered = 0;\n",
              "                }\n",
              "            }\n",
              "            label.classList.add(\"incorrectButton\");\n",
              "            fb.className = \"Feedback\";\n",
              "            fb.classList.add(\"incorrect\");\n",
              "        }\n",
              "        // What follows is for the saved responses stuff\n",
              "        var outerContainer = fb.parentElement.parentElement;\n",
              "        var responsesContainer = document.getElementById(\"responses\" + outerContainer.id);\n",
              "        if (responsesContainer) {\n",
              "            //console.log(responsesContainer);\n",
              "            var response = label.firstChild.innerText;\n",
              "            if (label.querySelector(\".QuizCode\")){\n",
              "                response+= label.querySelector(\".QuizCode\").firstChild.innerText;\n",
              "            }\n",
              "            console.log(response);\n",
              "            //console.log(document.getElementById(\"quizWrap\"+id));\n",
              "            var qnum = document.getElementById(\"quizWrap\"+id).dataset.qnum;\n",
              "            console.log(\"Question \" + qnum);\n",
              "            //console.log(id, \", got numcorrect=\",fb.dataset.numcorrect);\n",
              "            var responses=JSON.parse(responsesContainer.dataset.responses);\n",
              "            if (label.dataset.correct == \"true\") {\n",
              "                if (typeof(responses[qnum]) == \"object\"){\n",
              "                    if (!responses[qnum].includes(response))\n",
              "                        responses[qnum].push(response);\n",
              "                } else{\n",
              "                    responses[qnum]= [ response ];\n",
              "                }\n",
              "            } else {\n",
              "                responses[qnum]= response;\n",
              "            }\n",
              "            console.log(responses);\n",
              "            responsesContainer.setAttribute('data-responses', JSON.stringify(responses));\n",
              "            printResponses(responsesContainer);\n",
              "        }\n",
              "        // End save responses stuff\n",
              "\n",
              "\n",
              "\n",
              "        var numcorrect = fb.dataset.numcorrect;\n",
              "        var answeredcorrect = fb.dataset.answeredcorrect;\n",
              "        if (answeredcorrect >= 0) {\n",
              "            fb.textContent = feedback + \" [\" + answeredcorrect + \"/\" + numcorrect + \"]\";\n",
              "        } else {\n",
              "            fb.textContent = feedback + \" [\" + 0 + \"/\" + numcorrect + \"]\";\n",
              "        }\n",
              "\n",
              "\n",
              "    }\n",
              "\n",
              "    if (typeof MathJax != 'undefined') {\n",
              "        var version = MathJax.version;\n",
              "        console.log('MathJax version', version);\n",
              "        if (version[0] == \"2\") {\n",
              "            MathJax.Hub.Queue([\"Typeset\", MathJax.Hub]);\n",
              "        } else if (version[0] == \"3\") {\n",
              "            MathJax.typeset([fb]);\n",
              "        }\n",
              "    } else {\n",
              "        console.log('MathJax not detected');\n",
              "    }\n",
              "\n",
              "}\n",
              "\n",
              "function make_mc(qa, shuffle_answers, outerqDiv, qDiv, aDiv, id) {\n",
              "    var shuffled;\n",
              "    if (shuffle_answers == \"True\") {\n",
              "        //console.log(shuffle_answers+\" read as true\");\n",
              "        shuffled = getRandomSubarray(qa.answers, qa.answers.length);\n",
              "    } else {\n",
              "        //console.log(shuffle_answers+\" read as false\");\n",
              "        shuffled = qa.answers;\n",
              "    }\n",
              "\n",
              "\n",
              "    var num_correct = 0;\n",
              "\n",
              "\n",
              "\n",
              "    shuffled.forEach((item, index, ans_array) => {\n",
              "        //console.log(answer);\n",
              "\n",
              "        // Make input element\n",
              "        var inp = document.createElement(\"input\");\n",
              "        inp.type = \"radio\";\n",
              "        inp.id = \"quizo\" + id + index;\n",
              "        inp.style = \"display:none;\";\n",
              "        aDiv.append(inp);\n",
              "\n",
              "        //Make label for input element\n",
              "        var lab = document.createElement(\"label\");\n",
              "        lab.className = \"MCButton\";\n",
              "        lab.id = id + '-' + index;\n",
              "        lab.onclick = check_mc;\n",
              "        var aSpan = document.createElement('span');\n",
              "        aSpan.classsName = \"\";\n",
              "        //qDiv.id=\"quizQn\"+id+index;\n",
              "        if (\"answer\" in item) {\n",
              "            aSpan.innerHTML = jaxify(item.answer);\n",
              "            //aSpan.innerHTML=item.answer;\n",
              "        }\n",
              "        lab.append(aSpan);\n",
              "\n",
              "        // Create div for code inside question\n",
              "        var codeSpan;\n",
              "        if (\"code\" in item) {\n",
              "            codeSpan = document.createElement('span');\n",
              "            codeSpan.id = \"code\" + id + index;\n",
              "            codeSpan.className = \"QuizCode\";\n",
              "            var codePre = document.createElement('pre');\n",
              "            codeSpan.append(codePre);\n",
              "            var codeCode = document.createElement('code');\n",
              "            codePre.append(codeCode);\n",
              "            codeCode.innerHTML = item.code;\n",
              "            lab.append(codeSpan);\n",
              "            //console.log(codeSpan);\n",
              "        }\n",
              "\n",
              "        //lab.textContent=item.answer;\n",
              "\n",
              "        // Set the data attributes for the answer\n",
              "        lab.setAttribute('data-correct', item.correct);\n",
              "        if (item.correct) {\n",
              "            num_correct++;\n",
              "        }\n",
              "        if (\"feedback\" in item) {\n",
              "            lab.setAttribute('data-feedback', item.feedback);\n",
              "        }\n",
              "        lab.setAttribute('data-answered', 0);\n",
              "\n",
              "        aDiv.append(lab);\n",
              "\n",
              "    });\n",
              "\n",
              "    if (num_correct > 1) {\n",
              "        outerqDiv.className = \"ManyChoiceQn\";\n",
              "    } else {\n",
              "        outerqDiv.className = \"MultipleChoiceQn\";\n",
              "    }\n",
              "\n",
              "    return num_correct;\n",
              "\n",
              "}\n",
              "function check_numeric(ths, event) {\n",
              "\n",
              "    if (event.keyCode === 13) {\n",
              "        ths.blur();\n",
              "\n",
              "        var id = ths.id.split('-')[0];\n",
              "\n",
              "        var submission = ths.value;\n",
              "        if (submission.indexOf('/') != -1) {\n",
              "            var sub_parts = submission.split('/');\n",
              "            //console.log(sub_parts);\n",
              "            submission = sub_parts[0] / sub_parts[1];\n",
              "        }\n",
              "        //console.log(\"Reader entered\", submission);\n",
              "\n",
              "        if (\"precision\" in ths.dataset) {\n",
              "            var precision = ths.dataset.precision;\n",
              "            // console.log(\"1:\", submission)\n",
              "            submission = Math.round((1 * submission + Number.EPSILON) * 10 ** precision) / 10 ** precision;\n",
              "            // console.log(\"Rounded to \", submission, \" precision=\", precision  );\n",
              "        }\n",
              "\n",
              "\n",
              "        //console.log(\"In check_numeric(), id=\"+id);\n",
              "        //console.log(event.srcElement.id)           \n",
              "        //console.log(event.srcElement.dataset.feedback)\n",
              "\n",
              "        var fb = document.getElementById(\"fb\" + id);\n",
              "        fb.style.display = \"none\";\n",
              "        fb.textContent = \"Incorrect -- try again.\";\n",
              "\n",
              "        var answers = JSON.parse(ths.dataset.answers);\n",
              "        //console.log(answers);\n",
              "\n",
              "        var defaultFB = \"\";\n",
              "        var correct;\n",
              "        var done = false;\n",
              "        answers.every(answer => {\n",
              "            //console.log(answer.type);\n",
              "\n",
              "            correct = false;\n",
              "            // if (answer.type==\"value\"){\n",
              "            if ('value' in answer) {\n",
              "                if (submission == answer.value) {\n",
              "                    if (\"feedback\" in answer) {\n",
              "                        fb.textContent = jaxify(answer.feedback);\n",
              "                    } else {\n",
              "                        fb.textContent = jaxify(\"Correct\");\n",
              "                    }\n",
              "                    correct = answer.correct;\n",
              "                    //console.log(answer.correct);\n",
              "                    done = true;\n",
              "                }\n",
              "                // } else if (answer.type==\"range\") {\n",
              "            } else if ('range' in answer) {\n",
              "                //console.log(answer.range);\n",
              "                if ((submission >= answer.range[0]) && (submission < answer.range[1])) {\n",
              "                    fb.textContent = jaxify(answer.feedback);\n",
              "                    correct = answer.correct;\n",
              "                    //console.log(answer.correct);\n",
              "                    done = true;\n",
              "                }\n",
              "            } else if (answer.type == \"default\") {\n",
              "                defaultFB = answer.feedback;\n",
              "            }\n",
              "            if (done) {\n",
              "                return false; // Break out of loop if this has been marked correct\n",
              "            } else {\n",
              "                return true; // Keep looking for case that includes this as a correct answer\n",
              "            }\n",
              "        });\n",
              "\n",
              "        if ((!done) && (defaultFB != \"\")) {\n",
              "            fb.innerHTML = jaxify(defaultFB);\n",
              "            //console.log(\"Default feedback\", defaultFB);\n",
              "        }\n",
              "\n",
              "        fb.style.display = \"block\";\n",
              "        if (correct) {\n",
              "            ths.className = \"Input-text\";\n",
              "            ths.classList.add(\"correctButton\");\n",
              "            fb.className = \"Feedback\";\n",
              "            fb.classList.add(\"correct\");\n",
              "        } else {\n",
              "            ths.className = \"Input-text\";\n",
              "            ths.classList.add(\"incorrectButton\");\n",
              "            fb.className = \"Feedback\";\n",
              "            fb.classList.add(\"incorrect\");\n",
              "        }\n",
              "\n",
              "        // What follows is for the saved responses stuff\n",
              "        var outerContainer = fb.parentElement.parentElement;\n",
              "        var responsesContainer = document.getElementById(\"responses\" + outerContainer.id);\n",
              "        if (responsesContainer) {\n",
              "            console.log(submission);\n",
              "            var qnum = document.getElementById(\"quizWrap\"+id).dataset.qnum;\n",
              "            //console.log(\"Question \" + qnum);\n",
              "            //console.log(id, \", got numcorrect=\",fb.dataset.numcorrect);\n",
              "            var responses=JSON.parse(responsesContainer.dataset.responses);\n",
              "            console.log(responses);\n",
              "            if (submission == ths.value){\n",
              "                responses[qnum]= submission;\n",
              "            } else {\n",
              "                responses[qnum]= ths.value + \"(\" + submission +\")\";\n",
              "            }\n",
              "            responsesContainer.setAttribute('data-responses', JSON.stringify(responses));\n",
              "            printResponses(responsesContainer);\n",
              "        }\n",
              "        // End code to preserve responses\n",
              "\n",
              "        if (typeof MathJax != 'undefined') {\n",
              "            var version = MathJax.version;\n",
              "            console.log('MathJax version', version);\n",
              "            if (version[0] == \"2\") {\n",
              "                MathJax.Hub.Queue([\"Typeset\", MathJax.Hub]);\n",
              "            } else if (version[0] == \"3\") {\n",
              "                MathJax.typeset([fb]);\n",
              "            }\n",
              "        } else {\n",
              "            console.log('MathJax not detected');\n",
              "        }\n",
              "        return false;\n",
              "    }\n",
              "\n",
              "}\n",
              "\n",
              "function isValid(el, charC) {\n",
              "    //console.log(\"Input char: \", charC);\n",
              "    if (charC == 46) {\n",
              "        if (el.value.indexOf('.') === -1) {\n",
              "            return true;\n",
              "        } else if (el.value.indexOf('/') != -1) {\n",
              "            var parts = el.value.split('/');\n",
              "            if (parts[1].indexOf('.') === -1) {\n",
              "                return true;\n",
              "            }\n",
              "        }\n",
              "        else {\n",
              "            return false;\n",
              "        }\n",
              "    } else if (charC == 47) {\n",
              "        if (el.value.indexOf('/') === -1) {\n",
              "            if ((el.value != \"\") && (el.value != \".\")) {\n",
              "                return true;\n",
              "            } else {\n",
              "                return false;\n",
              "            }\n",
              "        } else {\n",
              "            return false;\n",
              "        }\n",
              "    } else if (charC == 45) {\n",
              "        var edex = el.value.indexOf('e');\n",
              "        if (edex == -1) {\n",
              "            edex = el.value.indexOf('E');\n",
              "        }\n",
              "\n",
              "        if (el.value == \"\") {\n",
              "            return true;\n",
              "        } else if (edex == (el.value.length - 1)) { // If just after e or E\n",
              "            return true;\n",
              "        } else {\n",
              "            return false;\n",
              "        }\n",
              "    } else if (charC == 101) { // \"e\"\n",
              "        if ((el.value.indexOf('e') === -1) && (el.value.indexOf('E') === -1) && (el.value.indexOf('/') == -1)) {\n",
              "            // Prev symbol must be digit or decimal point:\n",
              "            if (el.value.slice(-1).search(/\\d/) >= 0) {\n",
              "                return true;\n",
              "            } else if (el.value.slice(-1).search(/\\./) >= 0) {\n",
              "                return true;\n",
              "            } else {\n",
              "                return false;\n",
              "            }\n",
              "        } else {\n",
              "            return false;\n",
              "        }\n",
              "    } else {\n",
              "        if (charC > 31 && (charC < 48 || charC > 57))\n",
              "            return false;\n",
              "    }\n",
              "    return true;\n",
              "}\n",
              "\n",
              "function numeric_keypress(evnt) {\n",
              "    var charC = (evnt.which) ? evnt.which : evnt.keyCode;\n",
              "\n",
              "    if (charC == 13) {\n",
              "        check_numeric(this, evnt);\n",
              "    } else {\n",
              "        return isValid(this, charC);\n",
              "    }\n",
              "}\n",
              "\n",
              "\n",
              "\n",
              "\n",
              "\n",
              "function make_numeric(qa, outerqDiv, qDiv, aDiv, id) {\n",
              "\n",
              "\n",
              "\n",
              "    //console.log(answer);\n",
              "\n",
              "\n",
              "    outerqDiv.className = \"NumericQn\";\n",
              "    aDiv.style.display = 'block';\n",
              "\n",
              "    var lab = document.createElement(\"label\");\n",
              "    lab.className = \"InpLabel\";\n",
              "    lab.textContent = \"Type numeric answer here:\";\n",
              "    aDiv.append(lab);\n",
              "\n",
              "    var inp = document.createElement(\"input\");\n",
              "    inp.type = \"text\";\n",
              "    //inp.id=\"input-\"+id;\n",
              "    inp.id = id + \"-0\";\n",
              "    inp.className = \"Input-text\";\n",
              "    inp.setAttribute('data-answers', JSON.stringify(qa.answers));\n",
              "    if (\"precision\" in qa) {\n",
              "        inp.setAttribute('data-precision', qa.precision);\n",
              "    }\n",
              "    aDiv.append(inp);\n",
              "    //console.log(inp);\n",
              "\n",
              "    //inp.addEventListener(\"keypress\", check_numeric);\n",
              "    //inp.addEventListener(\"keypress\", numeric_keypress);\n",
              "    /*\n",
              "    inp.addEventListener(\"keypress\", function(event) {\n",
              "        return numeric_keypress(this, event);\n",
              "    }\n",
              "                        );\n",
              "                        */\n",
              "    //inp.onkeypress=\"return numeric_keypress(this, event)\";\n",
              "    inp.onkeypress = numeric_keypress;\n",
              "    inp.onpaste = event => false;\n",
              "\n",
              "    inp.addEventListener(\"focus\", function (event) {\n",
              "        this.value = \"\";\n",
              "        return false;\n",
              "    }\n",
              "    );\n",
              "\n",
              "\n",
              "}\n",
              "function jaxify(string) {\n",
              "    var mystring = string;\n",
              "\n",
              "    var count = 0;\n",
              "    var loc = mystring.search(/([^\\\\]|^)(\\$)/);\n",
              "\n",
              "    var count2 = 0;\n",
              "    var loc2 = mystring.search(/([^\\\\]|^)(\\$\\$)/);\n",
              "\n",
              "    //console.log(loc);\n",
              "\n",
              "    while ((loc >= 0) || (loc2 >= 0)) {\n",
              "\n",
              "        /* Have to replace all the double $$ first with current implementation */\n",
              "        if (loc2 >= 0) {\n",
              "            if (count2 % 2 == 0) {\n",
              "                mystring = mystring.replace(/([^\\\\]|^)(\\$\\$)/, \"$1\\\\[\");\n",
              "            } else {\n",
              "                mystring = mystring.replace(/([^\\\\]|^)(\\$\\$)/, \"$1\\\\]\");\n",
              "            }\n",
              "            count2++;\n",
              "        } else {\n",
              "            if (count % 2 == 0) {\n",
              "                mystring = mystring.replace(/([^\\\\]|^)(\\$)/, \"$1\\\\(\");\n",
              "            } else {\n",
              "                mystring = mystring.replace(/([^\\\\]|^)(\\$)/, \"$1\\\\)\");\n",
              "            }\n",
              "            count++;\n",
              "        }\n",
              "        loc = mystring.search(/([^\\\\]|^)(\\$)/);\n",
              "        loc2 = mystring.search(/([^\\\\]|^)(\\$\\$)/);\n",
              "        //console.log(mystring,\", loc:\",loc,\", loc2:\",loc2);\n",
              "    }\n",
              "\n",
              "    //console.log(mystring);\n",
              "    return mystring;\n",
              "}\n",
              "\n",
              "\n",
              "function show_questions(json, mydiv) {\n",
              "    console.log('show_questions');\n",
              "    //var mydiv=document.getElementById(myid);\n",
              "    var shuffle_questions = mydiv.dataset.shufflequestions;\n",
              "    var num_questions = mydiv.dataset.numquestions;\n",
              "    var shuffle_answers = mydiv.dataset.shuffleanswers;\n",
              "    var max_width = mydiv.dataset.maxwidth;\n",
              "\n",
              "    if (num_questions > json.length) {\n",
              "        num_questions = json.length;\n",
              "    }\n",
              "\n",
              "    var questions;\n",
              "    if ((num_questions < json.length) || (shuffle_questions == \"True\")) {\n",
              "        //console.log(num_questions+\",\"+json.length);\n",
              "        questions = getRandomSubarray(json, num_questions);\n",
              "    } else {\n",
              "        questions = json;\n",
              "    }\n",
              "\n",
              "    //console.log(\"SQ: \"+shuffle_questions+\", NQ: \" + num_questions + \", SA: \", shuffle_answers);\n",
              "\n",
              "    // Iterate over questions\n",
              "    questions.forEach((qa, index, array) => {\n",
              "        //console.log(qa.question); \n",
              "\n",
              "        var id = makeid(8);\n",
              "        //console.log(id);\n",
              "\n",
              "\n",
              "        // Create Div to contain question and answers\n",
              "        var iDiv = document.createElement('div');\n",
              "        //iDiv.id = 'quizWrap' + id + index;\n",
              "        iDiv.id = 'quizWrap' + id;\n",
              "        iDiv.className = 'Quiz';\n",
              "        iDiv.setAttribute('data-qnum', index);\n",
              "        iDiv.style.maxWidth  =max_width+\"px\";\n",
              "        mydiv.appendChild(iDiv);\n",
              "        // iDiv.innerHTML=qa.question;\n",
              "        \n",
              "        var outerqDiv = document.createElement('div');\n",
              "        outerqDiv.id = \"OuterquizQn\" + id + index;\n",
              "        // Create div to contain question part\n",
              "        var qDiv = document.createElement('div');\n",
              "        qDiv.id = \"quizQn\" + id + index;\n",
              "        \n",
              "        if (qa.question) {\n",
              "            iDiv.append(outerqDiv);\n",
              "\n",
              "            //qDiv.textContent=qa.question;\n",
              "            qDiv.innerHTML = jaxify(qa.question);\n",
              "            outerqDiv.append(qDiv);\n",
              "        }\n",
              "\n",
              "        // Create div for code inside question\n",
              "        var codeDiv;\n",
              "        if (\"code\" in qa) {\n",
              "            codeDiv = document.createElement('div');\n",
              "            codeDiv.id = \"code\" + id + index;\n",
              "            codeDiv.className = \"QuizCode\";\n",
              "            var codePre = document.createElement('pre');\n",
              "            codeDiv.append(codePre);\n",
              "            var codeCode = document.createElement('code');\n",
              "            codePre.append(codeCode);\n",
              "            codeCode.innerHTML = qa.code;\n",
              "            outerqDiv.append(codeDiv);\n",
              "            //console.log(codeDiv);\n",
              "        }\n",
              "\n",
              "\n",
              "        // Create div to contain answer part\n",
              "        var aDiv = document.createElement('div');\n",
              "        aDiv.id = \"quizAns\" + id + index;\n",
              "        aDiv.className = 'Answer';\n",
              "        iDiv.append(aDiv);\n",
              "\n",
              "        //console.log(qa.type);\n",
              "\n",
              "        var num_correct;\n",
              "        if ((qa.type == \"multiple_choice\") || (qa.type == \"many_choice\") ) {\n",
              "            num_correct = make_mc(qa, shuffle_answers, outerqDiv, qDiv, aDiv, id);\n",
              "            if (\"answer_cols\" in qa) {\n",
              "                //aDiv.style.gridTemplateColumns = 'auto '.repeat(qa.answer_cols);\n",
              "                aDiv.style.gridTemplateColumns = 'repeat(' + qa.answer_cols + ', 1fr)';\n",
              "            }\n",
              "        } else if (qa.type == \"numeric\") {\n",
              "            //console.log(\"numeric\");\n",
              "            make_numeric(qa, outerqDiv, qDiv, aDiv, id);\n",
              "        }\n",
              "\n",
              "\n",
              "        //Make div for feedback\n",
              "        var fb = document.createElement(\"div\");\n",
              "        fb.id = \"fb\" + id;\n",
              "        //fb.style=\"font-size: 20px;text-align:center;\";\n",
              "        fb.className = \"Feedback\";\n",
              "        fb.setAttribute(\"data-answeredcorrect\", 0);\n",
              "        fb.setAttribute(\"data-numcorrect\", num_correct);\n",
              "        iDiv.append(fb);\n",
              "\n",
              "\n",
              "    });\n",
              "    var preserveResponses = mydiv.dataset.preserveresponses;\n",
              "    console.log(preserveResponses);\n",
              "    console.log(preserveResponses == \"true\");\n",
              "    if (preserveResponses == \"true\") {\n",
              "        console.log(preserveResponses);\n",
              "        // Create Div to contain record of answers\n",
              "        var iDiv = document.createElement('div');\n",
              "        iDiv.id = 'responses' + mydiv.id;\n",
              "        iDiv.className = 'JCResponses';\n",
              "        // Create a place to store responses as an empty array\n",
              "        iDiv.setAttribute('data-responses', '[]');\n",
              "\n",
              "        // Dummy Text\n",
              "        iDiv.innerHTML=\"<b>Select your answers and then follow the directions that will appear here.</b>\"\n",
              "        //iDiv.className = 'Quiz';\n",
              "        mydiv.appendChild(iDiv);\n",
              "    }\n",
              "//console.log(\"At end of show_questions\");\n",
              "    if (typeof MathJax != 'undefined') {\n",
              "        console.log(\"MathJax version\", MathJax.version);\n",
              "        var version = MathJax.version;\n",
              "        setTimeout(function(){\n",
              "            var version = MathJax.version;\n",
              "            console.log('After sleep, MathJax version', version);\n",
              "            if (version[0] == \"2\") {\n",
              "                MathJax.Hub.Queue([\"Typeset\", MathJax.Hub]);\n",
              "            } else if (version[0] == \"3\") {\n",
              "                MathJax.typeset([mydiv]);\n",
              "            }\n",
              "        }, 500);\n",
              "if (typeof version == 'undefined') {\n",
              "        } else\n",
              "        {\n",
              "            if (version[0] == \"2\") {\n",
              "                MathJax.Hub.Queue([\"Typeset\", MathJax.Hub]);\n",
              "            } else if (version[0] == \"3\") {\n",
              "                MathJax.typeset([mydiv]);\n",
              "            } else {\n",
              "                console.log(\"MathJax not found\");\n",
              "            }\n",
              "        }\n",
              "    }\n",
              "    return false;\n",
              "}\n",
              "/* This is to handle asynchrony issues in loading Jupyter notebooks\n",
              "           where the quiz has been previously run. The Javascript was generally\n",
              "           being run before the div was added to the DOM. I tried to do this\n",
              "           more elegantly using Mutation Observer, but I didn't get it to work.\n",
              "\n",
              "           Someone more knowledgeable could make this better ;-) */\n",
              "\n",
              "        function try_show() {\n",
              "          if(document.getElementById(\"zOIrpOcCEKeu\")) {\n",
              "            show_questions(questionszOIrpOcCEKeu,  zOIrpOcCEKeu); \n",
              "          } else {\n",
              "             setTimeout(try_show, 200);\n",
              "          }\n",
              "        };\n",
              "    \n",
              "        {\n",
              "        // console.log(element);\n",
              "\n",
              "        //console.log(\"zOIrpOcCEKeu\");\n",
              "        // console.log(document.getElementById(\"zOIrpOcCEKeu\"));\n",
              "\n",
              "        try_show();\n",
              "        }\n",
              "        "
            ]
          },
          "metadata": {}
        }
      ]
    }
  ],
  "metadata": {
    "colab": {
      "machine_shape": "hm",
      "name": "P2C1_Sequence1",
      "provenance": [],
      "toc_visible": true,
      "include_colab_link": true
    },
    "kernel": {
      "display_name": "Python 3",
      "language": "python",
      "name": "python3"
    },
    "kernelspec": {
      "display_name": "Python 3",
      "name": "python3"
    },
    "language_info": {
      "codemirror_mode": {
        "name": "ipython",
        "version": 3
      },
      "file_extension": ".py",
      "mimetype": "text/x-python",
      "name": "python",
      "nbconvert_exporter": "python",
      "pygments_lexer": "ipython3",
      "version": "3.9.18"
    },
    "widgets": {
      "application/vnd.jupyter.widget-state+json": {
        "7781f4aef05a4025addadcbae6ddb15d": {
          "model_module": "@jupyter-widgets/controls",
          "model_name": "HBoxModel",
          "model_module_version": "1.5.0",
          "state": {
            "_dom_classes": [],
            "_model_module": "@jupyter-widgets/controls",
            "_model_module_version": "1.5.0",
            "_model_name": "HBoxModel",
            "_view_count": null,
            "_view_module": "@jupyter-widgets/controls",
            "_view_module_version": "1.5.0",
            "_view_name": "HBoxView",
            "box_style": "",
            "children": [
              "IPY_MODEL_f5c466d6b644412da2738a79e48d5a32",
              "IPY_MODEL_38ebd60aca604a50b48ddcaa563a02d1"
            ],
            "layout": "IPY_MODEL_3ba62f9d03c648e58a86b98417b4f03b"
          }
        },
        "f5c466d6b644412da2738a79e48d5a32": {
          "model_module": "@jupyter-widgets/controls",
          "model_name": "VBoxModel",
          "model_module_version": "1.5.0",
          "state": {
            "_dom_classes": [],
            "_model_module": "@jupyter-widgets/controls",
            "_model_module_version": "1.5.0",
            "_model_name": "VBoxModel",
            "_view_count": null,
            "_view_module": "@jupyter-widgets/controls",
            "_view_module_version": "1.5.0",
            "_view_name": "VBoxView",
            "box_style": "",
            "children": [
              "IPY_MODEL_e96400808459465da17f07273b4116cb",
              "IPY_MODEL_53288888cb644ccebd885d660010f66a"
            ],
            "layout": "IPY_MODEL_e3013d54fdae4cda89c64f7973d034b5"
          }
        },
        "38ebd60aca604a50b48ddcaa563a02d1": {
          "model_module": "@jupyter-widgets/controls",
          "model_name": "VBoxModel",
          "model_module_version": "1.5.0",
          "state": {
            "_dom_classes": [],
            "_model_module": "@jupyter-widgets/controls",
            "_model_module_version": "1.5.0",
            "_model_name": "VBoxModel",
            "_view_count": null,
            "_view_module": "@jupyter-widgets/controls",
            "_view_module_version": "1.5.0",
            "_view_name": "VBoxView",
            "box_style": "",
            "children": [
              "IPY_MODEL_17913acc02934d8e80ecb6391a36dc67",
              "IPY_MODEL_ebcf0149592a4d9ebf91478f71a1bbaf"
            ],
            "layout": "IPY_MODEL_8ce535173d0f4780a7dcd27d45b40fd2"
          }
        },
        "3ba62f9d03c648e58a86b98417b4f03b": {
          "model_module": "@jupyter-widgets/base",
          "model_name": "LayoutModel",
          "model_module_version": "1.2.0",
          "state": {
            "_model_module": "@jupyter-widgets/base",
            "_model_module_version": "1.2.0",
            "_model_name": "LayoutModel",
            "_view_count": null,
            "_view_module": "@jupyter-widgets/base",
            "_view_module_version": "1.2.0",
            "_view_name": "LayoutView",
            "align_content": null,
            "align_items": null,
            "align_self": null,
            "border": null,
            "bottom": null,
            "display": null,
            "flex": null,
            "flex_flow": null,
            "grid_area": null,
            "grid_auto_columns": null,
            "grid_auto_flow": null,
            "grid_auto_rows": null,
            "grid_column": null,
            "grid_gap": null,
            "grid_row": null,
            "grid_template_areas": null,
            "grid_template_columns": null,
            "grid_template_rows": null,
            "height": null,
            "justify_content": null,
            "justify_items": null,
            "left": null,
            "margin": null,
            "max_height": null,
            "max_width": null,
            "min_height": null,
            "min_width": null,
            "object_fit": null,
            "object_position": null,
            "order": null,
            "overflow": null,
            "overflow_x": null,
            "overflow_y": null,
            "padding": null,
            "right": null,
            "top": null,
            "visibility": null,
            "width": null
          }
        },
        "e96400808459465da17f07273b4116cb": {
          "model_module": "jupyter-matplotlib",
          "model_name": "MPLCanvasModel",
          "model_module_version": "^0.11",
          "state": {
            "_cursor": "default",
            "_data_url": "data:image/png;base64,iVBORw0KGgoAAAANSUhEUgAAAZAAAAGQCAYAAACAvzbMAAAAOXRFWHRTb2Z0d2FyZQBNYXRwbG90bGliIHZlcnNpb24zLjcuMSwgaHR0cHM6Ly9tYXRwbG90bGliLm9yZy/bCgiHAAAACXBIWXMAAA9hAAAPYQGoP6dpAAAF7ElEQVR4nO3X0U0EUQwEQYw2/5RNCtDH6i1cVQDW/LU8u7sfAPBDn6cHAPA3CQgAiYAAkAgIAImAAJAICACJgACQCAgAiYAAkAgIAImAAJAICACJgACQCAgAiYAAkAgIAImAAJAICACJgACQCAgAiYAAkAgIAMl15/GZufM8AN+wu7fc9YEAkAgIAImAAJAICACJgACQCAgAiYAAkAgIAImAAJAICACJgACQCAgAiYAAkAgIAImAAJAICACJgACQCAgAiYAAkAgIAImAAJAICACJgACQCAgAiYAAkAgIAImAAJAICACJgACQCAgAiYAAkAgIAImAAJAICACJgACQCAgAiYAAkAgIAImAAJAICACJgACQCAgAyXV6wJPs7ukJwMPNzOkJj+EDASAREAASAQEgERAAEgEBIBEQABIBASAREAASAQEgERAAEgEBIBEQABIBASAREAASAQEgERAAEgEBIBEQABIBASAREAASAQEgERAAEgEBIBEQABIBASAREAASAQEgERAAEgEBIBEQABIBASAREAASAQEgERAAEgEBIBEQABIBASAREAASAQEgERAAEgEBIBEQABIBASAREACS6/QAXjMzpyfAS3b39AQiHwgAiYAAkAgIAImAAJAICACJgACQCAgAiYAAkAgIAImAAJAICACJgACQCAgAiYAAkAgIAImAAJAICACJgACQCAgAiYAAkAgIAImAAJAICACJgACQCAgAiYAAkAgIAImAAJAICACJgACQCAgAiYAAkAgIAImAAJAICACJgACQCAgAiYAAkAgIAImAAJAICACJgACQCAgAyXV6AO9ld09P+Pdm5vQE3oQPBIBEQABIBASAREAASAQEgERAAEgEBIBEQABIBASAREAASAQEgERAAEgEBIBEQABIBASAREAASAQEgERAAEgEBIBEQABIBASAREAASAQEgERAAEgEBIBEQABIBASAREAASAQEgERAAEgEBIBEQABIBASAREAASAQEgERAAEgEBIBEQABIBASAREAASAQEgERAAEgEBIBEQABIBASAREAASAQEgERAAEgEBIBEQABIBASAREAASAQEgERAAEgEBIBEQABIBASAREAASAQEgERAAEgEBIBEQABIBASAREAASAQEgERAAEgEBIBEQABIBASAREAASAQEgERAAEgEBIBEQABIBASAREAASAQEgERAAEgEBIBEQABIBASAREAASAQEgERAAEgEBIBEQABIBASAREAASK7TA3gvM3N6AvBLfCAAJAICQCIgACQCAkAiIAAkAgJAIiAAJAICQCIgACQCAkAiIAAkAgJAIiAAJAICQCIgACQCAkAiIAAkAgJAIiAAJAICQCIgACQCAkAiIAAkAgJAIiAAJAICQCIgACQCAkAiIAAkAgJAIiAAJAICQCIgACQCAkAiIAAkAgJAIiAAJAICQCIgACQCAkAiIAAkAgJAIiAAJNfpAbxmd09PAN6UDwSAREAASAQEgERAAEgEBIBEQABIBASAREAASAQEgERAAEgEBIBEQABIBASAREAASAQEgERAAEgEBIBEQABIBASAREAASAQEgERAAEgEBIBEQABIBASAREAASAQEgERAAEgEBIBEQABIBASAREAASAQEgERAAEgEBIBEQABIBASAREAASAQEgERAAEgEBIBEQABIBASAREAASK7TA55kZk5PAPgzfCAAJAICQCIgACQCAkAiIAAkAgJAIiAAJAICQCIgACQCAkAiIAAkAgJAIiAAJAICQCIgACQCAkAiIAAkAgJAIiAAJAICQCIgACQCAkAiIAAkAgJAIiAAJAICQCIgACQCAkAiIAAkAgJAIiAAJAICQCIgACQCAkAiIAAkAgJAIiAAJAICQCIgACQCAkAiIAAkAgJAIiAAJNedx3f3zvMAHOQDASAREAASAQEgERAAEgEBIBEQABIBASAREAASAQEgERAAEgEBIBEQABIBASAREAASAQEgERAAEgEBIBEQABIBASAREAASAQEgERAAki945hks2PsWlgAAAABJRU5ErkJggg==",
            "_dom_classes": [],
            "_figure_label": "Figure 1",
            "_image_mode": "full",
            "_message": "",
            "_model_module": "jupyter-matplotlib",
            "_model_module_version": "^0.11",
            "_model_name": "MPLCanvasModel",
            "_rubberband_height": 0,
            "_rubberband_width": 0,
            "_rubberband_x": 0,
            "_rubberband_y": 0,
            "_size": [
              400,
              400
            ],
            "_view_count": null,
            "_view_module": "jupyter-matplotlib",
            "_view_module_version": "^0.11",
            "_view_name": "MPLCanvasView",
            "capture_scroll": false,
            "footer_visible": false,
            "header_visible": false,
            "layout": "IPY_MODEL_a7aa7f64d826451eae04ef77fd4bb9b2",
            "pan_zoom_throttle": 33,
            "resizable": false,
            "toolbar": "IPY_MODEL_7d85295e6e8946be911701bc3e189105",
            "toolbar_position": "left",
            "toolbar_visible": false
          }
        },
        "53288888cb644ccebd885d660010f66a": {
          "model_module": "@jupyter-widgets/controls",
          "model_name": "HBoxModel",
          "model_module_version": "1.5.0",
          "state": {
            "_dom_classes": [],
            "_model_module": "@jupyter-widgets/controls",
            "_model_module_version": "1.5.0",
            "_model_name": "HBoxModel",
            "_view_count": null,
            "_view_module": "@jupyter-widgets/controls",
            "_view_module_version": "1.5.0",
            "_view_name": "HBoxView",
            "box_style": "",
            "children": [
              "IPY_MODEL_2f27cea3af9a421bb1d63ac6e896592d",
              "IPY_MODEL_c4ec03b546194c6db9c194608c41f783"
            ],
            "layout": "IPY_MODEL_8b6f1fc5ed694895addff2f8652997b4"
          }
        },
        "e3013d54fdae4cda89c64f7973d034b5": {
          "model_module": "@jupyter-widgets/base",
          "model_name": "LayoutModel",
          "model_module_version": "1.2.0",
          "state": {
            "_model_module": "@jupyter-widgets/base",
            "_model_module_version": "1.2.0",
            "_model_name": "LayoutModel",
            "_view_count": null,
            "_view_module": "@jupyter-widgets/base",
            "_view_module_version": "1.2.0",
            "_view_name": "LayoutView",
            "align_content": null,
            "align_items": null,
            "align_self": null,
            "border": null,
            "bottom": null,
            "display": null,
            "flex": null,
            "flex_flow": null,
            "grid_area": null,
            "grid_auto_columns": null,
            "grid_auto_flow": null,
            "grid_auto_rows": null,
            "grid_column": null,
            "grid_gap": null,
            "grid_row": null,
            "grid_template_areas": null,
            "grid_template_columns": null,
            "grid_template_rows": null,
            "height": null,
            "justify_content": null,
            "justify_items": null,
            "left": null,
            "margin": null,
            "max_height": null,
            "max_width": null,
            "min_height": null,
            "min_width": null,
            "object_fit": null,
            "object_position": null,
            "order": null,
            "overflow": null,
            "overflow_x": null,
            "overflow_y": null,
            "padding": null,
            "right": null,
            "top": null,
            "visibility": null,
            "width": null
          }
        },
        "17913acc02934d8e80ecb6391a36dc67": {
          "model_module": "@jupyter-widgets/output",
          "model_name": "OutputModel",
          "model_module_version": "1.0.0",
          "state": {
            "_dom_classes": [],
            "_model_module": "@jupyter-widgets/output",
            "_model_module_version": "1.0.0",
            "_model_name": "OutputModel",
            "_view_count": null,
            "_view_module": "@jupyter-widgets/output",
            "_view_module_version": "1.0.0",
            "_view_name": "OutputView",
            "layout": "IPY_MODEL_b11aa9e6913543e58df596246f523a53",
            "msg_id": "",
            "outputs": []
          }
        },
        "ebcf0149592a4d9ebf91478f71a1bbaf": {
          "model_module": "@jupyter-widgets/output",
          "model_name": "OutputModel",
          "model_module_version": "1.0.0",
          "state": {
            "_dom_classes": [],
            "_model_module": "@jupyter-widgets/output",
            "_model_module_version": "1.0.0",
            "_model_name": "OutputModel",
            "_view_count": null,
            "_view_module": "@jupyter-widgets/output",
            "_view_module_version": "1.0.0",
            "_view_name": "OutputView",
            "layout": "IPY_MODEL_cb3c8fc5898641c4ae7783af3939738b",
            "msg_id": "",
            "outputs": []
          }
        },
        "8ce535173d0f4780a7dcd27d45b40fd2": {
          "model_module": "@jupyter-widgets/base",
          "model_name": "LayoutModel",
          "model_module_version": "1.2.0",
          "state": {
            "_model_module": "@jupyter-widgets/base",
            "_model_module_version": "1.2.0",
            "_model_name": "LayoutModel",
            "_view_count": null,
            "_view_module": "@jupyter-widgets/base",
            "_view_module_version": "1.2.0",
            "_view_name": "LayoutView",
            "align_content": null,
            "align_items": null,
            "align_self": null,
            "border": null,
            "bottom": null,
            "display": null,
            "flex": null,
            "flex_flow": null,
            "grid_area": null,
            "grid_auto_columns": null,
            "grid_auto_flow": null,
            "grid_auto_rows": null,
            "grid_column": null,
            "grid_gap": null,
            "grid_row": null,
            "grid_template_areas": null,
            "grid_template_columns": null,
            "grid_template_rows": null,
            "height": null,
            "justify_content": null,
            "justify_items": null,
            "left": null,
            "margin": null,
            "max_height": null,
            "max_width": null,
            "min_height": null,
            "min_width": null,
            "object_fit": null,
            "object_position": null,
            "order": null,
            "overflow": null,
            "overflow_x": null,
            "overflow_y": null,
            "padding": null,
            "right": null,
            "top": null,
            "visibility": null,
            "width": null
          }
        },
        "2f27cea3af9a421bb1d63ac6e896592d": {
          "model_module": "@jupyter-widgets/controls",
          "model_name": "ButtonModel",
          "model_module_version": "1.5.0",
          "state": {
            "_dom_classes": [],
            "_model_module": "@jupyter-widgets/controls",
            "_model_module_version": "1.5.0",
            "_model_name": "ButtonModel",
            "_view_count": null,
            "_view_module": "@jupyter-widgets/controls",
            "_view_module_version": "1.5.0",
            "_view_name": "ButtonView",
            "button_style": "",
            "description": "Strike",
            "disabled": false,
            "icon": "",
            "layout": "IPY_MODEL_fe2409ec214d46668acd4dc13c784490",
            "style": "IPY_MODEL_2143d52fd6bb4449854a56f7f923d061",
            "tooltip": ""
          }
        },
        "c4ec03b546194c6db9c194608c41f783": {
          "model_module": "@jupyter-widgets/controls",
          "model_name": "ButtonModel",
          "model_module_version": "1.5.0",
          "state": {
            "_dom_classes": [],
            "_model_module": "@jupyter-widgets/controls",
            "_model_module_version": "1.5.0",
            "_model_name": "ButtonModel",
            "_view_count": null,
            "_view_module": "@jupyter-widgets/controls",
            "_view_module_version": "1.5.0",
            "_view_name": "ButtonView",
            "button_style": "",
            "description": "No Strike",
            "disabled": false,
            "icon": "",
            "layout": "IPY_MODEL_49607fdce4804379b3d8b37b6ffa7462",
            "style": "IPY_MODEL_30187bb3607c4df78e2123629c517113",
            "tooltip": ""
          }
        },
        "8b6f1fc5ed694895addff2f8652997b4": {
          "model_module": "@jupyter-widgets/base",
          "model_name": "LayoutModel",
          "model_module_version": "1.2.0",
          "state": {
            "_model_module": "@jupyter-widgets/base",
            "_model_module_version": "1.2.0",
            "_model_name": "LayoutModel",
            "_view_count": null,
            "_view_module": "@jupyter-widgets/base",
            "_view_module_version": "1.2.0",
            "_view_name": "LayoutView",
            "align_content": null,
            "align_items": null,
            "align_self": null,
            "border": null,
            "bottom": null,
            "display": null,
            "flex": null,
            "flex_flow": null,
            "grid_area": null,
            "grid_auto_columns": null,
            "grid_auto_flow": null,
            "grid_auto_rows": null,
            "grid_column": null,
            "grid_gap": null,
            "grid_row": null,
            "grid_template_areas": null,
            "grid_template_columns": null,
            "grid_template_rows": null,
            "height": null,
            "justify_content": null,
            "justify_items": null,
            "left": null,
            "margin": null,
            "max_height": null,
            "max_width": null,
            "min_height": null,
            "min_width": null,
            "object_fit": null,
            "object_position": null,
            "order": null,
            "overflow": null,
            "overflow_x": null,
            "overflow_y": null,
            "padding": null,
            "right": null,
            "top": null,
            "visibility": null,
            "width": null
          }
        },
        "b11aa9e6913543e58df596246f523a53": {
          "model_module": "@jupyter-widgets/base",
          "model_name": "LayoutModel",
          "model_module_version": "1.2.0",
          "state": {
            "_model_module": "@jupyter-widgets/base",
            "_model_module_version": "1.2.0",
            "_model_name": "LayoutModel",
            "_view_count": null,
            "_view_module": "@jupyter-widgets/base",
            "_view_module_version": "1.2.0",
            "_view_name": "LayoutView",
            "align_content": null,
            "align_items": null,
            "align_self": null,
            "border": null,
            "bottom": null,
            "display": null,
            "flex": null,
            "flex_flow": null,
            "grid_area": null,
            "grid_auto_columns": null,
            "grid_auto_flow": null,
            "grid_auto_rows": null,
            "grid_column": null,
            "grid_gap": null,
            "grid_row": null,
            "grid_template_areas": null,
            "grid_template_columns": null,
            "grid_template_rows": null,
            "height": null,
            "justify_content": null,
            "justify_items": null,
            "left": null,
            "margin": null,
            "max_height": null,
            "max_width": null,
            "min_height": null,
            "min_width": null,
            "object_fit": null,
            "object_position": null,
            "order": null,
            "overflow": null,
            "overflow_x": null,
            "overflow_y": null,
            "padding": null,
            "right": null,
            "top": null,
            "visibility": null,
            "width": null
          }
        },
        "cb3c8fc5898641c4ae7783af3939738b": {
          "model_module": "@jupyter-widgets/base",
          "model_name": "LayoutModel",
          "model_module_version": "1.2.0",
          "state": {
            "_model_module": "@jupyter-widgets/base",
            "_model_module_version": "1.2.0",
            "_model_name": "LayoutModel",
            "_view_count": null,
            "_view_module": "@jupyter-widgets/base",
            "_view_module_version": "1.2.0",
            "_view_name": "LayoutView",
            "align_content": null,
            "align_items": null,
            "align_self": null,
            "border": null,
            "bottom": null,
            "display": null,
            "flex": null,
            "flex_flow": null,
            "grid_area": null,
            "grid_auto_columns": null,
            "grid_auto_flow": null,
            "grid_auto_rows": null,
            "grid_column": null,
            "grid_gap": null,
            "grid_row": null,
            "grid_template_areas": null,
            "grid_template_columns": null,
            "grid_template_rows": null,
            "height": null,
            "justify_content": null,
            "justify_items": null,
            "left": null,
            "margin": null,
            "max_height": null,
            "max_width": null,
            "min_height": null,
            "min_width": null,
            "object_fit": null,
            "object_position": null,
            "order": null,
            "overflow": null,
            "overflow_x": null,
            "overflow_y": null,
            "padding": null,
            "right": null,
            "top": null,
            "visibility": null,
            "width": null
          }
        },
        "fe2409ec214d46668acd4dc13c784490": {
          "model_module": "@jupyter-widgets/base",
          "model_name": "LayoutModel",
          "model_module_version": "1.2.0",
          "state": {
            "_model_module": "@jupyter-widgets/base",
            "_model_module_version": "1.2.0",
            "_model_name": "LayoutModel",
            "_view_count": null,
            "_view_module": "@jupyter-widgets/base",
            "_view_module_version": "1.2.0",
            "_view_name": "LayoutView",
            "align_content": null,
            "align_items": null,
            "align_self": null,
            "border": null,
            "bottom": null,
            "display": null,
            "flex": null,
            "flex_flow": null,
            "grid_area": null,
            "grid_auto_columns": null,
            "grid_auto_flow": null,
            "grid_auto_rows": null,
            "grid_column": null,
            "grid_gap": null,
            "grid_row": null,
            "grid_template_areas": null,
            "grid_template_columns": null,
            "grid_template_rows": null,
            "height": null,
            "justify_content": null,
            "justify_items": null,
            "left": null,
            "margin": null,
            "max_height": null,
            "max_width": null,
            "min_height": null,
            "min_width": null,
            "object_fit": null,
            "object_position": null,
            "order": null,
            "overflow": null,
            "overflow_x": null,
            "overflow_y": null,
            "padding": null,
            "right": null,
            "top": null,
            "visibility": null,
            "width": null
          }
        },
        "2143d52fd6bb4449854a56f7f923d061": {
          "model_module": "@jupyter-widgets/controls",
          "model_name": "ButtonStyleModel",
          "model_module_version": "1.5.0",
          "state": {
            "_model_module": "@jupyter-widgets/controls",
            "_model_module_version": "1.5.0",
            "_model_name": "ButtonStyleModel",
            "_view_count": null,
            "_view_module": "@jupyter-widgets/base",
            "_view_module_version": "1.2.0",
            "_view_name": "StyleView",
            "button_color": null,
            "font_weight": ""
          }
        },
        "49607fdce4804379b3d8b37b6ffa7462": {
          "model_module": "@jupyter-widgets/base",
          "model_name": "LayoutModel",
          "model_module_version": "1.2.0",
          "state": {
            "_model_module": "@jupyter-widgets/base",
            "_model_module_version": "1.2.0",
            "_model_name": "LayoutModel",
            "_view_count": null,
            "_view_module": "@jupyter-widgets/base",
            "_view_module_version": "1.2.0",
            "_view_name": "LayoutView",
            "align_content": null,
            "align_items": null,
            "align_self": null,
            "border": null,
            "bottom": null,
            "display": null,
            "flex": null,
            "flex_flow": null,
            "grid_area": null,
            "grid_auto_columns": null,
            "grid_auto_flow": null,
            "grid_auto_rows": null,
            "grid_column": null,
            "grid_gap": null,
            "grid_row": null,
            "grid_template_areas": null,
            "grid_template_columns": null,
            "grid_template_rows": null,
            "height": null,
            "justify_content": null,
            "justify_items": null,
            "left": null,
            "margin": null,
            "max_height": null,
            "max_width": null,
            "min_height": null,
            "min_width": null,
            "object_fit": null,
            "object_position": null,
            "order": null,
            "overflow": null,
            "overflow_x": null,
            "overflow_y": null,
            "padding": null,
            "right": null,
            "top": null,
            "visibility": null,
            "width": null
          }
        },
        "30187bb3607c4df78e2123629c517113": {
          "model_module": "@jupyter-widgets/controls",
          "model_name": "ButtonStyleModel",
          "model_module_version": "1.5.0",
          "state": {
            "_model_module": "@jupyter-widgets/controls",
            "_model_module_version": "1.5.0",
            "_model_name": "ButtonStyleModel",
            "_view_count": null,
            "_view_module": "@jupyter-widgets/base",
            "_view_module_version": "1.2.0",
            "_view_name": "StyleView",
            "button_color": null,
            "font_weight": ""
          }
        },
        "a7aa7f64d826451eae04ef77fd4bb9b2": {
          "model_module": "@jupyter-widgets/base",
          "model_name": "LayoutModel",
          "model_module_version": "1.2.0",
          "state": {
            "_model_module": "@jupyter-widgets/base",
            "_model_module_version": "1.2.0",
            "_model_name": "LayoutModel",
            "_view_count": null,
            "_view_module": "@jupyter-widgets/base",
            "_view_module_version": "1.2.0",
            "_view_name": "LayoutView",
            "align_content": null,
            "align_items": null,
            "align_self": null,
            "border": null,
            "bottom": null,
            "display": null,
            "flex": null,
            "flex_flow": null,
            "grid_area": null,
            "grid_auto_columns": null,
            "grid_auto_flow": null,
            "grid_auto_rows": null,
            "grid_column": null,
            "grid_gap": null,
            "grid_row": null,
            "grid_template_areas": null,
            "grid_template_columns": null,
            "grid_template_rows": null,
            "height": null,
            "justify_content": null,
            "justify_items": null,
            "left": null,
            "margin": null,
            "max_height": null,
            "max_width": null,
            "min_height": null,
            "min_width": null,
            "object_fit": null,
            "object_position": null,
            "order": null,
            "overflow": null,
            "overflow_x": null,
            "overflow_y": null,
            "padding": null,
            "right": null,
            "top": null,
            "visibility": null,
            "width": null
          }
        },
        "7d85295e6e8946be911701bc3e189105": {
          "model_module": "jupyter-matplotlib",
          "model_name": "ToolbarModel",
          "model_module_version": "^0.11",
          "state": {
            "_current_action": "",
            "_dom_classes": [],
            "_model_module": "jupyter-matplotlib",
            "_model_module_version": "^0.11",
            "_model_name": "ToolbarModel",
            "_view_count": null,
            "_view_module": "jupyter-matplotlib",
            "_view_module_version": "^0.11",
            "_view_name": "ToolbarView",
            "button_style": "",
            "collapsed": true,
            "layout": "IPY_MODEL_dcb9e2d69fb3457c95fe994989b03dce",
            "orientation": "vertical",
            "toolitems": [
              [
                "Home",
                "Reset original view",
                "home",
                "home"
              ],
              [
                "Back",
                "Back to previous view",
                "arrow-left",
                "back"
              ],
              [
                "Forward",
                "Forward to next view",
                "arrow-right",
                "forward"
              ],
              [
                "Pan",
                "Left button pans, Right button zooms\nx/y fixes axis, CTRL fixes aspect",
                "arrows",
                "pan"
              ],
              [
                "Zoom",
                "Zoom to rectangle\nx/y fixes axis",
                "square-o",
                "zoom"
              ],
              [
                "Download",
                "Download plot",
                "floppy-o",
                "save_figure"
              ]
            ]
          }
        },
        "dcb9e2d69fb3457c95fe994989b03dce": {
          "model_module": "@jupyter-widgets/base",
          "model_name": "LayoutModel",
          "model_module_version": "1.2.0",
          "state": {
            "_model_module": "@jupyter-widgets/base",
            "_model_module_version": "1.2.0",
            "_model_name": "LayoutModel",
            "_view_count": null,
            "_view_module": "@jupyter-widgets/base",
            "_view_module_version": "1.2.0",
            "_view_name": "LayoutView",
            "align_content": null,
            "align_items": null,
            "align_self": null,
            "border": null,
            "bottom": null,
            "display": null,
            "flex": null,
            "flex_flow": null,
            "grid_area": null,
            "grid_auto_columns": null,
            "grid_auto_flow": null,
            "grid_auto_rows": null,
            "grid_column": null,
            "grid_gap": null,
            "grid_row": null,
            "grid_template_areas": null,
            "grid_template_columns": null,
            "grid_template_rows": null,
            "height": null,
            "justify_content": null,
            "justify_items": null,
            "left": null,
            "margin": null,
            "max_height": null,
            "max_width": null,
            "min_height": null,
            "min_width": null,
            "object_fit": null,
            "object_position": null,
            "order": null,
            "overflow": null,
            "overflow_x": null,
            "overflow_y": null,
            "padding": null,
            "right": null,
            "top": null,
            "visibility": null,
            "width": null
          }
        },
        "6228e5b7139e40a8a0a0b06a53383304": {
          "model_module": "jupyter-matplotlib",
          "model_name": "MPLCanvasModel",
          "model_module_version": "^0.11",
          "state": {
            "_cursor": "default",
            "_data_url": "data:image/png;base64,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",
            "_dom_classes": [],
            "_figure_label": "Figure 2",
            "_image_mode": "full",
            "_message": "",
            "_model_module": "jupyter-matplotlib",
            "_model_module_version": "^0.11",
            "_model_name": "MPLCanvasModel",
            "_rubberband_height": 0,
            "_rubberband_width": 0,
            "_rubberband_x": 0,
            "_rubberband_y": 0,
            "_size": [
              800,
              600
            ],
            "_view_count": null,
            "_view_module": "jupyter-matplotlib",
            "_view_module_version": "^0.11",
            "_view_name": "MPLCanvasView",
            "capture_scroll": false,
            "footer_visible": true,
            "header_visible": true,
            "layout": "IPY_MODEL_0d4827ce93cf401da48c6fcf391f72c7",
            "pan_zoom_throttle": 33,
            "resizable": true,
            "toolbar": "IPY_MODEL_d941b330628b4d2dadafa446e4577d6c",
            "toolbar_position": "left",
            "toolbar_visible": "fade-in-fade-out"
          }
        },
        "0d4827ce93cf401da48c6fcf391f72c7": {
          "model_module": "@jupyter-widgets/base",
          "model_name": "LayoutModel",
          "model_module_version": "1.2.0",
          "state": {
            "_model_module": "@jupyter-widgets/base",
            "_model_module_version": "1.2.0",
            "_model_name": "LayoutModel",
            "_view_count": null,
            "_view_module": "@jupyter-widgets/base",
            "_view_module_version": "1.2.0",
            "_view_name": "LayoutView",
            "align_content": null,
            "align_items": null,
            "align_self": null,
            "border": null,
            "bottom": null,
            "display": null,
            "flex": null,
            "flex_flow": null,
            "grid_area": null,
            "grid_auto_columns": null,
            "grid_auto_flow": null,
            "grid_auto_rows": null,
            "grid_column": null,
            "grid_gap": null,
            "grid_row": null,
            "grid_template_areas": null,
            "grid_template_columns": null,
            "grid_template_rows": null,
            "height": null,
            "justify_content": null,
            "justify_items": null,
            "left": null,
            "margin": null,
            "max_height": null,
            "max_width": null,
            "min_height": null,
            "min_width": null,
            "object_fit": null,
            "object_position": null,
            "order": null,
            "overflow": null,
            "overflow_x": null,
            "overflow_y": null,
            "padding": null,
            "right": null,
            "top": null,
            "visibility": null,
            "width": null
          }
        },
        "d941b330628b4d2dadafa446e4577d6c": {
          "model_module": "jupyter-matplotlib",
          "model_name": "ToolbarModel",
          "model_module_version": "^0.11",
          "state": {
            "_current_action": "",
            "_dom_classes": [],
            "_model_module": "jupyter-matplotlib",
            "_model_module_version": "^0.11",
            "_model_name": "ToolbarModel",
            "_view_count": null,
            "_view_module": "jupyter-matplotlib",
            "_view_module_version": "^0.11",
            "_view_name": "ToolbarView",
            "button_style": "",
            "collapsed": true,
            "layout": "IPY_MODEL_05e75475ad4b44fb8ef4856cf1898d82",
            "orientation": "vertical",
            "toolitems": [
              [
                "Home",
                "Reset original view",
                "home",
                "home"
              ],
              [
                "Back",
                "Back to previous view",
                "arrow-left",
                "back"
              ],
              [
                "Forward",
                "Forward to next view",
                "arrow-right",
                "forward"
              ],
              [
                "Pan",
                "Left button pans, Right button zooms\nx/y fixes axis, CTRL fixes aspect",
                "arrows",
                "pan"
              ],
              [
                "Zoom",
                "Zoom to rectangle\nx/y fixes axis",
                "square-o",
                "zoom"
              ],
              [
                "Download",
                "Download plot",
                "floppy-o",
                "save_figure"
              ]
            ]
          }
        },
        "05e75475ad4b44fb8ef4856cf1898d82": {
          "model_module": "@jupyter-widgets/base",
          "model_name": "LayoutModel",
          "model_module_version": "1.2.0",
          "state": {
            "_model_module": "@jupyter-widgets/base",
            "_model_module_version": "1.2.0",
            "_model_name": "LayoutModel",
            "_view_count": null,
            "_view_module": "@jupyter-widgets/base",
            "_view_module_version": "1.2.0",
            "_view_name": "LayoutView",
            "align_content": null,
            "align_items": null,
            "align_self": null,
            "border": null,
            "bottom": null,
            "display": null,
            "flex": null,
            "flex_flow": null,
            "grid_area": null,
            "grid_auto_columns": null,
            "grid_auto_flow": null,
            "grid_auto_rows": null,
            "grid_column": null,
            "grid_gap": null,
            "grid_row": null,
            "grid_template_areas": null,
            "grid_template_columns": null,
            "grid_template_rows": null,
            "height": null,
            "justify_content": null,
            "justify_items": null,
            "left": null,
            "margin": null,
            "max_height": null,
            "max_width": null,
            "min_height": null,
            "min_width": null,
            "object_fit": null,
            "object_position": null,
            "order": null,
            "overflow": null,
            "overflow_x": null,
            "overflow_y": null,
            "padding": null,
            "right": null,
            "top": null,
            "visibility": null,
            "width": null
          }
        },
        "e38038054bc541868089fda9d757ac50": {
          "model_module": "@jupyter-widgets/controls",
          "model_name": "VBoxModel",
          "model_module_version": "1.5.0",
          "state": {
            "_dom_classes": [],
            "_model_module": "@jupyter-widgets/controls",
            "_model_module_version": "1.5.0",
            "_model_name": "VBoxModel",
            "_view_count": null,
            "_view_module": "@jupyter-widgets/controls",
            "_view_module_version": "1.5.0",
            "_view_name": "VBoxView",
            "box_style": "",
            "children": [
              "IPY_MODEL_b5879ae9551c450e995bc001c2caf1ae"
            ],
            "layout": "IPY_MODEL_9115fb5d35f9490297d0d3722be80611"
          }
        },
        "b5879ae9551c450e995bc001c2caf1ae": {
          "model_module": "@jupyter-widgets/controls",
          "model_name": "VBoxModel",
          "model_module_version": "1.5.0",
          "state": {
            "_dom_classes": [],
            "_model_module": "@jupyter-widgets/controls",
            "_model_module_version": "1.5.0",
            "_model_name": "VBoxModel",
            "_view_count": null,
            "_view_module": "@jupyter-widgets/controls",
            "_view_module_version": "1.5.0",
            "_view_name": "VBoxView",
            "box_style": "",
            "children": [
              "IPY_MODEL_f2e114a810f6494ab82fb6b8ac45b1ac",
              "IPY_MODEL_27669d3ea23941b7b2617f84916e1879",
              "IPY_MODEL_318863c453324ef28a224fc255b924a5"
            ],
            "layout": "IPY_MODEL_f1e7cf9437a44614aab757577dc72d5e"
          }
        },
        "9115fb5d35f9490297d0d3722be80611": {
          "model_module": "@jupyter-widgets/base",
          "model_name": "LayoutModel",
          "model_module_version": "1.2.0",
          "state": {
            "_model_module": "@jupyter-widgets/base",
            "_model_module_version": "1.2.0",
            "_model_name": "LayoutModel",
            "_view_count": null,
            "_view_module": "@jupyter-widgets/base",
            "_view_module_version": "1.2.0",
            "_view_name": "LayoutView",
            "align_content": null,
            "align_items": null,
            "align_self": null,
            "border": null,
            "bottom": null,
            "display": null,
            "flex": null,
            "flex_flow": null,
            "grid_area": null,
            "grid_auto_columns": null,
            "grid_auto_flow": null,
            "grid_auto_rows": null,
            "grid_column": null,
            "grid_gap": null,
            "grid_row": null,
            "grid_template_areas": null,
            "grid_template_columns": null,
            "grid_template_rows": null,
            "height": null,
            "justify_content": null,
            "justify_items": null,
            "left": null,
            "margin": null,
            "max_height": null,
            "max_width": null,
            "min_height": null,
            "min_width": null,
            "object_fit": null,
            "object_position": null,
            "order": null,
            "overflow": null,
            "overflow_x": null,
            "overflow_y": null,
            "padding": null,
            "right": null,
            "top": null,
            "visibility": null,
            "width": null
          }
        },
        "f2e114a810f6494ab82fb6b8ac45b1ac": {
          "model_module": "@jupyter-widgets/controls",
          "model_name": "HBoxModel",
          "model_module_version": "1.5.0",
          "state": {
            "_dom_classes": [],
            "_model_module": "@jupyter-widgets/controls",
            "_model_module_version": "1.5.0",
            "_model_name": "HBoxModel",
            "_view_count": null,
            "_view_module": "@jupyter-widgets/controls",
            "_view_module_version": "1.5.0",
            "_view_name": "HBoxView",
            "box_style": "",
            "children": [
              "IPY_MODEL_115ee928914c470f9fc1231bb1d09385",
              "IPY_MODEL_664c7c4869da410ab8d7a5d7f9cf516c",
              "IPY_MODEL_b01079ea7a734061970b9d43e641795d"
            ],
            "layout": "IPY_MODEL_84cc097941d041d8835cc0d658df1aad"
          }
        },
        "27669d3ea23941b7b2617f84916e1879": {
          "model_module": "@jupyter-widgets/controls",
          "model_name": "HBoxModel",
          "model_module_version": "1.5.0",
          "state": {
            "_dom_classes": [],
            "_model_module": "@jupyter-widgets/controls",
            "_model_module_version": "1.5.0",
            "_model_name": "HBoxModel",
            "_view_count": null,
            "_view_module": "@jupyter-widgets/controls",
            "_view_module_version": "1.5.0",
            "_view_name": "HBoxView",
            "box_style": "",
            "children": [
              "IPY_MODEL_cc0fc8baa2834d4ebe5f3aca61d9c49a",
              "IPY_MODEL_53f94972a5c14c0d82d979ac40b565b2"
            ],
            "layout": "IPY_MODEL_87998e55dd5547cdb1c93605c9c6e135"
          }
        },
        "318863c453324ef28a224fc255b924a5": {
          "model_module": "@jupyter-widgets/controls",
          "model_name": "LabelModel",
          "model_module_version": "1.5.0",
          "state": {
            "_dom_classes": [],
            "_model_module": "@jupyter-widgets/controls",
            "_model_module_version": "1.5.0",
            "_model_name": "LabelModel",
            "_view_count": null,
            "_view_module": "@jupyter-widgets/controls",
            "_view_module_version": "1.5.0",
            "_view_name": "LabelView",
            "description": "",
            "description_tooltip": null,
            "layout": "IPY_MODEL_fbd392433a7244d3aef19aee289c4d7d",
            "placeholder": "​",
            "style": "IPY_MODEL_7143a33064f84701b83a2792f4e3ec6c",
            "value": "Thanks for your feedback!"
          }
        },
        "f1e7cf9437a44614aab757577dc72d5e": {
          "model_module": "@jupyter-widgets/base",
          "model_name": "LayoutModel",
          "model_module_version": "1.2.0",
          "state": {
            "_model_module": "@jupyter-widgets/base",
            "_model_module_version": "1.2.0",
            "_model_name": "LayoutModel",
            "_view_count": null,
            "_view_module": "@jupyter-widgets/base",
            "_view_module_version": "1.2.0",
            "_view_name": "LayoutView",
            "align_content": null,
            "align_items": null,
            "align_self": null,
            "border": null,
            "bottom": null,
            "display": null,
            "flex": null,
            "flex_flow": null,
            "grid_area": null,
            "grid_auto_columns": null,
            "grid_auto_flow": null,
            "grid_auto_rows": null,
            "grid_column": null,
            "grid_gap": null,
            "grid_row": null,
            "grid_template_areas": null,
            "grid_template_columns": null,
            "grid_template_rows": null,
            "height": null,
            "justify_content": null,
            "justify_items": null,
            "left": null,
            "margin": null,
            "max_height": null,
            "max_width": null,
            "min_height": null,
            "min_width": null,
            "object_fit": null,
            "object_position": null,
            "order": null,
            "overflow": null,
            "overflow_x": null,
            "overflow_y": null,
            "padding": null,
            "right": null,
            "top": null,
            "visibility": null,
            "width": null
          }
        },
        "115ee928914c470f9fc1231bb1d09385": {
          "model_module": "@jupyter-widgets/controls",
          "model_name": "ButtonModel",
          "model_module_version": "1.5.0",
          "state": {
            "_dom_classes": [
              "happy"
            ],
            "_model_module": "@jupyter-widgets/controls",
            "_model_module_version": "1.5.0",
            "_model_name": "ButtonModel",
            "_view_count": null,
            "_view_module": "@jupyter-widgets/controls",
            "_view_module_version": "1.5.0",
            "_view_name": "ButtonView",
            "button_style": "",
            "description": "🙂",
            "disabled": false,
            "icon": "",
            "layout": "IPY_MODEL_a8575d4fc8dd47cf9828cbc1e02d0ab2",
            "style": "IPY_MODEL_23467d0d816c49b1b5fd186e64ce7e10",
            "tooltip": "happy"
          }
        },
        "664c7c4869da410ab8d7a5d7f9cf516c": {
          "model_module": "@jupyter-widgets/controls",
          "model_name": "ButtonModel",
          "model_module_version": "1.5.0",
          "state": {
            "_dom_classes": [
              "medium"
            ],
            "_model_module": "@jupyter-widgets/controls",
            "_model_module_version": "1.5.0",
            "_model_name": "ButtonModel",
            "_view_count": null,
            "_view_module": "@jupyter-widgets/controls",
            "_view_module_version": "1.5.0",
            "_view_name": "ButtonView",
            "button_style": "",
            "description": "😐",
            "disabled": false,
            "icon": "",
            "layout": "IPY_MODEL_93b0a0fb3fe643d2b98e35d14c7d63d4",
            "style": "IPY_MODEL_9e7da845e6604604b40d41846dd9223e",
            "tooltip": "medium"
          }
        },
        "b01079ea7a734061970b9d43e641795d": {
          "model_module": "@jupyter-widgets/controls",
          "model_name": "ButtonModel",
          "model_module_version": "1.5.0",
          "state": {
            "_dom_classes": [
              "sad"
            ],
            "_model_module": "@jupyter-widgets/controls",
            "_model_module_version": "1.5.0",
            "_model_name": "ButtonModel",
            "_view_count": null,
            "_view_module": "@jupyter-widgets/controls",
            "_view_module_version": "1.5.0",
            "_view_name": "ButtonView",
            "button_style": "",
            "description": "🙁",
            "disabled": false,
            "icon": "",
            "layout": "IPY_MODEL_6752ff90b1164af09351fff7f2994223",
            "style": "IPY_MODEL_1106ad33bc2d481187bce183ff4c063b",
            "tooltip": "sad"
          }
        },
        "84cc097941d041d8835cc0d658df1aad": {
          "model_module": "@jupyter-widgets/base",
          "model_name": "LayoutModel",
          "model_module_version": "1.2.0",
          "state": {
            "_model_module": "@jupyter-widgets/base",
            "_model_module_version": "1.2.0",
            "_model_name": "LayoutModel",
            "_view_count": null,
            "_view_module": "@jupyter-widgets/base",
            "_view_module_version": "1.2.0",
            "_view_name": "LayoutView",
            "align_content": null,
            "align_items": null,
            "align_self": null,
            "border": null,
            "bottom": null,
            "display": null,
            "flex": null,
            "flex_flow": null,
            "grid_area": null,
            "grid_auto_columns": null,
            "grid_auto_flow": null,
            "grid_auto_rows": null,
            "grid_column": null,
            "grid_gap": null,
            "grid_row": null,
            "grid_template_areas": null,
            "grid_template_columns": null,
            "grid_template_rows": null,
            "height": null,
            "justify_content": null,
            "justify_items": null,
            "left": null,
            "margin": null,
            "max_height": null,
            "max_width": null,
            "min_height": null,
            "min_width": null,
            "object_fit": null,
            "object_position": null,
            "order": null,
            "overflow": null,
            "overflow_x": null,
            "overflow_y": null,
            "padding": null,
            "right": null,
            "top": null,
            "visibility": null,
            "width": null
          }
        },
        "cc0fc8baa2834d4ebe5f3aca61d9c49a": {
          "model_module": "@jupyter-widgets/controls",
          "model_name": "TextareaModel",
          "model_module_version": "1.5.0",
          "state": {
            "_dom_classes": [],
            "_model_module": "@jupyter-widgets/controls",
            "_model_module_version": "1.5.0",
            "_model_name": "TextareaModel",
            "_view_count": null,
            "_view_module": "@jupyter-widgets/controls",
            "_view_module_version": "1.5.0",
            "_view_name": "TextareaView",
            "continuous_update": true,
            "description": "",
            "description_tooltip": null,
            "disabled": false,
            "layout": "IPY_MODEL_899362ec921445f3ac24158edf597bfc",
            "placeholder": "We want your feedback!",
            "rows": null,
            "style": "IPY_MODEL_44dfd698faec4199977bd64de30ab3cd",
            "value": ""
          }
        },
        "53f94972a5c14c0d82d979ac40b565b2": {
          "model_module": "@jupyter-widgets/controls",
          "model_name": "ButtonModel",
          "model_module_version": "1.5.0",
          "state": {
            "_dom_classes": [],
            "_model_module": "@jupyter-widgets/controls",
            "_model_module_version": "1.5.0",
            "_model_name": "ButtonModel",
            "_view_count": null,
            "_view_module": "@jupyter-widgets/controls",
            "_view_module_version": "1.5.0",
            "_view_name": "ButtonView",
            "button_style": "",
            "description": "Submit",
            "disabled": false,
            "icon": "",
            "layout": "IPY_MODEL_7fbf9f67394545b7995d60afbf51b2bf",
            "style": "IPY_MODEL_461f4a98486946538f61885040ff910a",
            "tooltip": ""
          }
        },
        "87998e55dd5547cdb1c93605c9c6e135": {
          "model_module": "@jupyter-widgets/base",
          "model_name": "LayoutModel",
          "model_module_version": "1.2.0",
          "state": {
            "_model_module": "@jupyter-widgets/base",
            "_model_module_version": "1.2.0",
            "_model_name": "LayoutModel",
            "_view_count": null,
            "_view_module": "@jupyter-widgets/base",
            "_view_module_version": "1.2.0",
            "_view_name": "LayoutView",
            "align_content": null,
            "align_items": null,
            "align_self": null,
            "border": null,
            "bottom": null,
            "display": "none",
            "flex": null,
            "flex_flow": null,
            "grid_area": null,
            "grid_auto_columns": null,
            "grid_auto_flow": null,
            "grid_auto_rows": null,
            "grid_column": null,
            "grid_gap": null,
            "grid_row": null,
            "grid_template_areas": null,
            "grid_template_columns": null,
            "grid_template_rows": null,
            "height": null,
            "justify_content": null,
            "justify_items": null,
            "left": null,
            "margin": null,
            "max_height": null,
            "max_width": null,
            "min_height": null,
            "min_width": null,
            "object_fit": null,
            "object_position": null,
            "order": null,
            "overflow": null,
            "overflow_x": null,
            "overflow_y": null,
            "padding": null,
            "right": null,
            "top": null,
            "visibility": null,
            "width": null
          }
        },
        "fbd392433a7244d3aef19aee289c4d7d": {
          "model_module": "@jupyter-widgets/base",
          "model_name": "LayoutModel",
          "model_module_version": "1.2.0",
          "state": {
            "_model_module": "@jupyter-widgets/base",
            "_model_module_version": "1.2.0",
            "_model_name": "LayoutModel",
            "_view_count": null,
            "_view_module": "@jupyter-widgets/base",
            "_view_module_version": "1.2.0",
            "_view_name": "LayoutView",
            "align_content": null,
            "align_items": null,
            "align_self": null,
            "border": null,
            "bottom": null,
            "display": "none",
            "flex": null,
            "flex_flow": null,
            "grid_area": null,
            "grid_auto_columns": null,
            "grid_auto_flow": null,
            "grid_auto_rows": null,
            "grid_column": null,
            "grid_gap": null,
            "grid_row": null,
            "grid_template_areas": null,
            "grid_template_columns": null,
            "grid_template_rows": null,
            "height": null,
            "justify_content": null,
            "justify_items": null,
            "left": null,
            "margin": null,
            "max_height": null,
            "max_width": null,
            "min_height": null,
            "min_width": null,
            "object_fit": null,
            "object_position": null,
            "order": null,
            "overflow": null,
            "overflow_x": null,
            "overflow_y": null,
            "padding": null,
            "right": null,
            "top": null,
            "visibility": null,
            "width": null
          }
        },
        "7143a33064f84701b83a2792f4e3ec6c": {
          "model_module": "@jupyter-widgets/controls",
          "model_name": "DescriptionStyleModel",
          "model_module_version": "1.5.0",
          "state": {
            "_model_module": "@jupyter-widgets/controls",
            "_model_module_version": "1.5.0",
            "_model_name": "DescriptionStyleModel",
            "_view_count": null,
            "_view_module": "@jupyter-widgets/base",
            "_view_module_version": "1.2.0",
            "_view_name": "StyleView",
            "description_width": ""
          }
        },
        "a8575d4fc8dd47cf9828cbc1e02d0ab2": {
          "model_module": "@jupyter-widgets/base",
          "model_name": "LayoutModel",
          "model_module_version": "1.2.0",
          "state": {
            "_model_module": "@jupyter-widgets/base",
            "_model_module_version": "1.2.0",
            "_model_name": "LayoutModel",
            "_view_count": null,
            "_view_module": "@jupyter-widgets/base",
            "_view_module_version": "1.2.0",
            "_view_name": "LayoutView",
            "align_content": null,
            "align_items": null,
            "align_self": null,
            "border": null,
            "bottom": null,
            "display": null,
            "flex": null,
            "flex_flow": null,
            "grid_area": null,
            "grid_auto_columns": null,
            "grid_auto_flow": null,
            "grid_auto_rows": null,
            "grid_column": null,
            "grid_gap": null,
            "grid_row": null,
            "grid_template_areas": null,
            "grid_template_columns": null,
            "grid_template_rows": null,
            "height": "auto",
            "justify_content": null,
            "justify_items": null,
            "left": null,
            "margin": null,
            "max_height": null,
            "max_width": null,
            "min_height": null,
            "min_width": null,
            "object_fit": null,
            "object_position": null,
            "order": null,
            "overflow": null,
            "overflow_x": null,
            "overflow_y": null,
            "padding": "0.5em",
            "right": null,
            "top": null,
            "visibility": null,
            "width": "auto"
          }
        },
        "23467d0d816c49b1b5fd186e64ce7e10": {
          "model_module": "@jupyter-widgets/controls",
          "model_name": "ButtonStyleModel",
          "model_module_version": "1.5.0",
          "state": {
            "_model_module": "@jupyter-widgets/controls",
            "_model_module_version": "1.5.0",
            "_model_name": "ButtonStyleModel",
            "_view_count": null,
            "_view_module": "@jupyter-widgets/base",
            "_view_module_version": "1.2.0",
            "_view_name": "StyleView",
            "button_color": "#aaffaa",
            "font_weight": ""
          }
        },
        "93b0a0fb3fe643d2b98e35d14c7d63d4": {
          "model_module": "@jupyter-widgets/base",
          "model_name": "LayoutModel",
          "model_module_version": "1.2.0",
          "state": {
            "_model_module": "@jupyter-widgets/base",
            "_model_module_version": "1.2.0",
            "_model_name": "LayoutModel",
            "_view_count": null,
            "_view_module": "@jupyter-widgets/base",
            "_view_module_version": "1.2.0",
            "_view_name": "LayoutView",
            "align_content": null,
            "align_items": null,
            "align_self": null,
            "border": null,
            "bottom": null,
            "display": null,
            "flex": null,
            "flex_flow": null,
            "grid_area": null,
            "grid_auto_columns": null,
            "grid_auto_flow": null,
            "grid_auto_rows": null,
            "grid_column": null,
            "grid_gap": null,
            "grid_row": null,
            "grid_template_areas": null,
            "grid_template_columns": null,
            "grid_template_rows": null,
            "height": "auto",
            "justify_content": null,
            "justify_items": null,
            "left": null,
            "margin": null,
            "max_height": null,
            "max_width": null,
            "min_height": null,
            "min_width": null,
            "object_fit": null,
            "object_position": null,
            "order": null,
            "overflow": null,
            "overflow_x": null,
            "overflow_y": null,
            "padding": "0.5em",
            "right": null,
            "top": null,
            "visibility": null,
            "width": "auto"
          }
        },
        "9e7da845e6604604b40d41846dd9223e": {
          "model_module": "@jupyter-widgets/controls",
          "model_name": "ButtonStyleModel",
          "model_module_version": "1.5.0",
          "state": {
            "_model_module": "@jupyter-widgets/controls",
            "_model_module_version": "1.5.0",
            "_model_name": "ButtonStyleModel",
            "_view_count": null,
            "_view_module": "@jupyter-widgets/base",
            "_view_module_version": "1.2.0",
            "_view_name": "StyleView",
            "button_color": "#dddd77",
            "font_weight": ""
          }
        },
        "6752ff90b1164af09351fff7f2994223": {
          "model_module": "@jupyter-widgets/base",
          "model_name": "LayoutModel",
          "model_module_version": "1.2.0",
          "state": {
            "_model_module": "@jupyter-widgets/base",
            "_model_module_version": "1.2.0",
            "_model_name": "LayoutModel",
            "_view_count": null,
            "_view_module": "@jupyter-widgets/base",
            "_view_module_version": "1.2.0",
            "_view_name": "LayoutView",
            "align_content": null,
            "align_items": null,
            "align_self": null,
            "border": null,
            "bottom": null,
            "display": null,
            "flex": null,
            "flex_flow": null,
            "grid_area": null,
            "grid_auto_columns": null,
            "grid_auto_flow": null,
            "grid_auto_rows": null,
            "grid_column": null,
            "grid_gap": null,
            "grid_row": null,
            "grid_template_areas": null,
            "grid_template_columns": null,
            "grid_template_rows": null,
            "height": "auto",
            "justify_content": null,
            "justify_items": null,
            "left": null,
            "margin": null,
            "max_height": null,
            "max_width": null,
            "min_height": null,
            "min_width": null,
            "object_fit": null,
            "object_position": null,
            "order": null,
            "overflow": null,
            "overflow_x": null,
            "overflow_y": null,
            "padding": "0.5em",
            "right": null,
            "top": null,
            "visibility": null,
            "width": "auto"
          }
        },
        "1106ad33bc2d481187bce183ff4c063b": {
          "model_module": "@jupyter-widgets/controls",
          "model_name": "ButtonStyleModel",
          "model_module_version": "1.5.0",
          "state": {
            "_model_module": "@jupyter-widgets/controls",
            "_model_module_version": "1.5.0",
            "_model_name": "ButtonStyleModel",
            "_view_count": null,
            "_view_module": "@jupyter-widgets/base",
            "_view_module_version": "1.2.0",
            "_view_name": "StyleView",
            "button_color": "#ffaaaa",
            "font_weight": ""
          }
        },
        "899362ec921445f3ac24158edf597bfc": {
          "model_module": "@jupyter-widgets/base",
          "model_name": "LayoutModel",
          "model_module_version": "1.2.0",
          "state": {
            "_model_module": "@jupyter-widgets/base",
            "_model_module_version": "1.2.0",
            "_model_name": "LayoutModel",
            "_view_count": null,
            "_view_module": "@jupyter-widgets/base",
            "_view_module_version": "1.2.0",
            "_view_name": "LayoutView",
            "align_content": null,
            "align_items": null,
            "align_self": null,
            "border": null,
            "bottom": null,
            "display": null,
            "flex": null,
            "flex_flow": null,
            "grid_area": null,
            "grid_auto_columns": null,
            "grid_auto_flow": null,
            "grid_auto_rows": null,
            "grid_column": null,
            "grid_gap": null,
            "grid_row": null,
            "grid_template_areas": null,
            "grid_template_columns": null,
            "grid_template_rows": null,
            "height": "auto",
            "justify_content": null,
            "justify_items": null,
            "left": null,
            "margin": null,
            "max_height": null,
            "max_width": null,
            "min_height": null,
            "min_width": null,
            "object_fit": null,
            "object_position": null,
            "order": null,
            "overflow": null,
            "overflow_x": null,
            "overflow_y": null,
            "padding": null,
            "right": null,
            "top": null,
            "visibility": null,
            "width": "auto"
          }
        },
        "44dfd698faec4199977bd64de30ab3cd": {
          "model_module": "@jupyter-widgets/controls",
          "model_name": "DescriptionStyleModel",
          "model_module_version": "1.5.0",
          "state": {
            "_model_module": "@jupyter-widgets/controls",
            "_model_module_version": "1.5.0",
            "_model_name": "DescriptionStyleModel",
            "_view_count": null,
            "_view_module": "@jupyter-widgets/base",
            "_view_module_version": "1.2.0",
            "_view_name": "StyleView",
            "description_width": ""
          }
        },
        "7fbf9f67394545b7995d60afbf51b2bf": {
          "model_module": "@jupyter-widgets/base",
          "model_name": "LayoutModel",
          "model_module_version": "1.2.0",
          "state": {
            "_model_module": "@jupyter-widgets/base",
            "_model_module_version": "1.2.0",
            "_model_name": "LayoutModel",
            "_view_count": null,
            "_view_module": "@jupyter-widgets/base",
            "_view_module_version": "1.2.0",
            "_view_name": "LayoutView",
            "align_content": null,
            "align_items": null,
            "align_self": null,
            "border": null,
            "bottom": null,
            "display": null,
            "flex": null,
            "flex_flow": null,
            "grid_area": null,
            "grid_auto_columns": null,
            "grid_auto_flow": null,
            "grid_auto_rows": null,
            "grid_column": null,
            "grid_gap": null,
            "grid_row": null,
            "grid_template_areas": null,
            "grid_template_columns": null,
            "grid_template_rows": null,
            "height": "auto",
            "justify_content": null,
            "justify_items": null,
            "left": null,
            "margin": null,
            "max_height": null,
            "max_width": null,
            "min_height": null,
            "min_width": null,
            "object_fit": null,
            "object_position": null,
            "order": null,
            "overflow": null,
            "overflow_x": null,
            "overflow_y": null,
            "padding": null,
            "right": null,
            "top": null,
            "visibility": null,
            "width": "auto"
          }
        },
        "461f4a98486946538f61885040ff910a": {
          "model_module": "@jupyter-widgets/controls",
          "model_name": "ButtonStyleModel",
          "model_module_version": "1.5.0",
          "state": {
            "_model_module": "@jupyter-widgets/controls",
            "_model_module_version": "1.5.0",
            "_model_name": "ButtonStyleModel",
            "_view_count": null,
            "_view_module": "@jupyter-widgets/base",
            "_view_module_version": "1.2.0",
            "_view_name": "StyleView",
            "button_color": null,
            "font_weight": ""
          }
        },
        "de1a843191ab44448fa26c0fc30bf8c6": {
          "model_module": "@jupyter-widgets/controls",
          "model_name": "HBoxModel",
          "model_module_version": "1.5.0",
          "state": {
            "_dom_classes": [],
            "_model_module": "@jupyter-widgets/controls",
            "_model_module_version": "1.5.0",
            "_model_name": "HBoxModel",
            "_view_count": null,
            "_view_module": "@jupyter-widgets/controls",
            "_view_module_version": "1.5.0",
            "_view_name": "HBoxView",
            "box_style": "",
            "children": [
              "IPY_MODEL_a0a223a04b8e4424b926c9d980d11417",
              "IPY_MODEL_c1af999ef0d147e3ac6e4da340a00f5f"
            ],
            "layout": "IPY_MODEL_2acaf69b78b74827b235841888d22567"
          }
        },
        "a0a223a04b8e4424b926c9d980d11417": {
          "model_module": "@jupyter-widgets/controls",
          "model_name": "VBoxModel",
          "model_module_version": "1.5.0",
          "state": {
            "_dom_classes": [],
            "_model_module": "@jupyter-widgets/controls",
            "_model_module_version": "1.5.0",
            "_model_name": "VBoxModel",
            "_view_count": null,
            "_view_module": "@jupyter-widgets/controls",
            "_view_module_version": "1.5.0",
            "_view_name": "VBoxView",
            "box_style": "",
            "children": [
              "IPY_MODEL_93bc79392b6a47a8ac4714b3540c654b",
              "IPY_MODEL_9cd4a9d396184d7a8419105ebb064f30"
            ],
            "layout": "IPY_MODEL_45b38f9dfbeb4e0587d5c8a6c7fe9779"
          }
        },
        "c1af999ef0d147e3ac6e4da340a00f5f": {
          "model_module": "@jupyter-widgets/controls",
          "model_name": "VBoxModel",
          "model_module_version": "1.5.0",
          "state": {
            "_dom_classes": [],
            "_model_module": "@jupyter-widgets/controls",
            "_model_module_version": "1.5.0",
            "_model_name": "VBoxModel",
            "_view_count": null,
            "_view_module": "@jupyter-widgets/controls",
            "_view_module_version": "1.5.0",
            "_view_name": "VBoxView",
            "box_style": "",
            "children": [
              "IPY_MODEL_27c1f0ecabbc45f19adff0908de2350e",
              "IPY_MODEL_f9b3e930761d419ea5668cb58967deb0"
            ],
            "layout": "IPY_MODEL_e8aa85d45ff4449cb930b2bf86ffcbae"
          }
        },
        "2acaf69b78b74827b235841888d22567": {
          "model_module": "@jupyter-widgets/base",
          "model_name": "LayoutModel",
          "model_module_version": "1.2.0",
          "state": {
            "_model_module": "@jupyter-widgets/base",
            "_model_module_version": "1.2.0",
            "_model_name": "LayoutModel",
            "_view_count": null,
            "_view_module": "@jupyter-widgets/base",
            "_view_module_version": "1.2.0",
            "_view_name": "LayoutView",
            "align_content": null,
            "align_items": null,
            "align_self": null,
            "border": null,
            "bottom": null,
            "display": null,
            "flex": null,
            "flex_flow": null,
            "grid_area": null,
            "grid_auto_columns": null,
            "grid_auto_flow": null,
            "grid_auto_rows": null,
            "grid_column": null,
            "grid_gap": null,
            "grid_row": null,
            "grid_template_areas": null,
            "grid_template_columns": null,
            "grid_template_rows": null,
            "height": null,
            "justify_content": null,
            "justify_items": null,
            "left": null,
            "margin": null,
            "max_height": null,
            "max_width": null,
            "min_height": null,
            "min_width": null,
            "object_fit": null,
            "object_position": null,
            "order": null,
            "overflow": null,
            "overflow_x": null,
            "overflow_y": null,
            "padding": null,
            "right": null,
            "top": null,
            "visibility": null,
            "width": null
          }
        },
        "93bc79392b6a47a8ac4714b3540c654b": {
          "model_module": "jupyter-matplotlib",
          "model_name": "MPLCanvasModel",
          "model_module_version": "^0.11",
          "state": {
            "_cursor": "default",
            "_data_url": "data:image/png;base64,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",
            "_dom_classes": [],
            "_figure_label": "Figure 2",
            "_image_mode": "full",
            "_message": "",
            "_model_module": "jupyter-matplotlib",
            "_model_module_version": "^0.11",
            "_model_name": "MPLCanvasModel",
            "_rubberband_height": 0,
            "_rubberband_width": 0,
            "_rubberband_x": 0,
            "_rubberband_y": 0,
            "_size": [
              400,
              400
            ],
            "_view_count": null,
            "_view_module": "jupyter-matplotlib",
            "_view_module_version": "^0.11",
            "_view_name": "MPLCanvasView",
            "capture_scroll": false,
            "footer_visible": false,
            "header_visible": false,
            "layout": "IPY_MODEL_06b29629ac144021bf05699a09be2eac",
            "pan_zoom_throttle": 33,
            "resizable": false,
            "toolbar": "IPY_MODEL_d46b9770c1984e478f6830930312c7cc",
            "toolbar_position": "left",
            "toolbar_visible": false
          }
        },
        "9cd4a9d396184d7a8419105ebb064f30": {
          "model_module": "@jupyter-widgets/controls",
          "model_name": "HBoxModel",
          "model_module_version": "1.5.0",
          "state": {
            "_dom_classes": [],
            "_model_module": "@jupyter-widgets/controls",
            "_model_module_version": "1.5.0",
            "_model_name": "HBoxModel",
            "_view_count": null,
            "_view_module": "@jupyter-widgets/controls",
            "_view_module_version": "1.5.0",
            "_view_name": "HBoxView",
            "box_style": "",
            "children": [
              "IPY_MODEL_dd3b731ce6d24fa1aeb60606148e5c62",
              "IPY_MODEL_cfe17fdce5844179b4054b0c909549ca"
            ],
            "layout": "IPY_MODEL_bb141e7d2c8d45308312982b410c86bf"
          }
        },
        "45b38f9dfbeb4e0587d5c8a6c7fe9779": {
          "model_module": "@jupyter-widgets/base",
          "model_name": "LayoutModel",
          "model_module_version": "1.2.0",
          "state": {
            "_model_module": "@jupyter-widgets/base",
            "_model_module_version": "1.2.0",
            "_model_name": "LayoutModel",
            "_view_count": null,
            "_view_module": "@jupyter-widgets/base",
            "_view_module_version": "1.2.0",
            "_view_name": "LayoutView",
            "align_content": null,
            "align_items": null,
            "align_self": null,
            "border": null,
            "bottom": null,
            "display": null,
            "flex": null,
            "flex_flow": null,
            "grid_area": null,
            "grid_auto_columns": null,
            "grid_auto_flow": null,
            "grid_auto_rows": null,
            "grid_column": null,
            "grid_gap": null,
            "grid_row": null,
            "grid_template_areas": null,
            "grid_template_columns": null,
            "grid_template_rows": null,
            "height": null,
            "justify_content": null,
            "justify_items": null,
            "left": null,
            "margin": null,
            "max_height": null,
            "max_width": null,
            "min_height": null,
            "min_width": null,
            "object_fit": null,
            "object_position": null,
            "order": null,
            "overflow": null,
            "overflow_x": null,
            "overflow_y": null,
            "padding": null,
            "right": null,
            "top": null,
            "visibility": null,
            "width": null
          }
        },
        "27c1f0ecabbc45f19adff0908de2350e": {
          "model_module": "@jupyter-widgets/output",
          "model_name": "OutputModel",
          "model_module_version": "1.0.0",
          "state": {
            "_dom_classes": [],
            "_model_module": "@jupyter-widgets/output",
            "_model_module_version": "1.0.0",
            "_model_name": "OutputModel",
            "_view_count": null,
            "_view_module": "@jupyter-widgets/output",
            "_view_module_version": "1.0.0",
            "_view_name": "OutputView",
            "layout": "IPY_MODEL_3109c6eabe564db78be74cdefda91068",
            "msg_id": "",
            "outputs": []
          }
        },
        "f9b3e930761d419ea5668cb58967deb0": {
          "model_module": "@jupyter-widgets/output",
          "model_name": "OutputModel",
          "model_module_version": "1.0.0",
          "state": {
            "_dom_classes": [],
            "_model_module": "@jupyter-widgets/output",
            "_model_module_version": "1.0.0",
            "_model_name": "OutputModel",
            "_view_count": null,
            "_view_module": "@jupyter-widgets/output",
            "_view_module_version": "1.0.0",
            "_view_name": "OutputView",
            "layout": "IPY_MODEL_97f48c49480144b7be6e48d18090dd87",
            "msg_id": "",
            "outputs": []
          }
        },
        "e8aa85d45ff4449cb930b2bf86ffcbae": {
          "model_module": "@jupyter-widgets/base",
          "model_name": "LayoutModel",
          "model_module_version": "1.2.0",
          "state": {
            "_model_module": "@jupyter-widgets/base",
            "_model_module_version": "1.2.0",
            "_model_name": "LayoutModel",
            "_view_count": null,
            "_view_module": "@jupyter-widgets/base",
            "_view_module_version": "1.2.0",
            "_view_name": "LayoutView",
            "align_content": null,
            "align_items": null,
            "align_self": null,
            "border": null,
            "bottom": null,
            "display": null,
            "flex": null,
            "flex_flow": null,
            "grid_area": null,
            "grid_auto_columns": null,
            "grid_auto_flow": null,
            "grid_auto_rows": null,
            "grid_column": null,
            "grid_gap": null,
            "grid_row": null,
            "grid_template_areas": null,
            "grid_template_columns": null,
            "grid_template_rows": null,
            "height": null,
            "justify_content": null,
            "justify_items": null,
            "left": null,
            "margin": null,
            "max_height": null,
            "max_width": null,
            "min_height": null,
            "min_width": null,
            "object_fit": null,
            "object_position": null,
            "order": null,
            "overflow": null,
            "overflow_x": null,
            "overflow_y": null,
            "padding": null,
            "right": null,
            "top": null,
            "visibility": null,
            "width": null
          }
        },
        "dd3b731ce6d24fa1aeb60606148e5c62": {
          "model_module": "@jupyter-widgets/controls",
          "model_name": "ButtonModel",
          "model_module_version": "1.5.0",
          "state": {
            "_dom_classes": [],
            "_model_module": "@jupyter-widgets/controls",
            "_model_module_version": "1.5.0",
            "_model_name": "ButtonModel",
            "_view_count": null,
            "_view_module": "@jupyter-widgets/controls",
            "_view_module_version": "1.5.0",
            "_view_name": "ButtonView",
            "button_style": "",
            "description": "Strike",
            "disabled": false,
            "icon": "",
            "layout": "IPY_MODEL_f0af321189994124ac88dc64cdea4b87",
            "style": "IPY_MODEL_fb22284bb67a45748eb17221901f04a1",
            "tooltip": ""
          }
        },
        "cfe17fdce5844179b4054b0c909549ca": {
          "model_module": "@jupyter-widgets/controls",
          "model_name": "ButtonModel",
          "model_module_version": "1.5.0",
          "state": {
            "_dom_classes": [],
            "_model_module": "@jupyter-widgets/controls",
            "_model_module_version": "1.5.0",
            "_model_name": "ButtonModel",
            "_view_count": null,
            "_view_module": "@jupyter-widgets/controls",
            "_view_module_version": "1.5.0",
            "_view_name": "ButtonView",
            "button_style": "",
            "description": "No Strike",
            "disabled": false,
            "icon": "",
            "layout": "IPY_MODEL_a895d09310814bfb96ec186d0fa3129a",
            "style": "IPY_MODEL_a29fc5808ad14646932251db8ee6646e",
            "tooltip": ""
          }
        },
        "bb141e7d2c8d45308312982b410c86bf": {
          "model_module": "@jupyter-widgets/base",
          "model_name": "LayoutModel",
          "model_module_version": "1.2.0",
          "state": {
            "_model_module": "@jupyter-widgets/base",
            "_model_module_version": "1.2.0",
            "_model_name": "LayoutModel",
            "_view_count": null,
            "_view_module": "@jupyter-widgets/base",
            "_view_module_version": "1.2.0",
            "_view_name": "LayoutView",
            "align_content": null,
            "align_items": null,
            "align_self": null,
            "border": null,
            "bottom": null,
            "display": null,
            "flex": null,
            "flex_flow": null,
            "grid_area": null,
            "grid_auto_columns": null,
            "grid_auto_flow": null,
            "grid_auto_rows": null,
            "grid_column": null,
            "grid_gap": null,
            "grid_row": null,
            "grid_template_areas": null,
            "grid_template_columns": null,
            "grid_template_rows": null,
            "height": null,
            "justify_content": null,
            "justify_items": null,
            "left": null,
            "margin": null,
            "max_height": null,
            "max_width": null,
            "min_height": null,
            "min_width": null,
            "object_fit": null,
            "object_position": null,
            "order": null,
            "overflow": null,
            "overflow_x": null,
            "overflow_y": null,
            "padding": null,
            "right": null,
            "top": null,
            "visibility": null,
            "width": null
          }
        },
        "3109c6eabe564db78be74cdefda91068": {
          "model_module": "@jupyter-widgets/base",
          "model_name": "LayoutModel",
          "model_module_version": "1.2.0",
          "state": {
            "_model_module": "@jupyter-widgets/base",
            "_model_module_version": "1.2.0",
            "_model_name": "LayoutModel",
            "_view_count": null,
            "_view_module": "@jupyter-widgets/base",
            "_view_module_version": "1.2.0",
            "_view_name": "LayoutView",
            "align_content": null,
            "align_items": null,
            "align_self": null,
            "border": null,
            "bottom": null,
            "display": null,
            "flex": null,
            "flex_flow": null,
            "grid_area": null,
            "grid_auto_columns": null,
            "grid_auto_flow": null,
            "grid_auto_rows": null,
            "grid_column": null,
            "grid_gap": null,
            "grid_row": null,
            "grid_template_areas": null,
            "grid_template_columns": null,
            "grid_template_rows": null,
            "height": null,
            "justify_content": null,
            "justify_items": null,
            "left": null,
            "margin": null,
            "max_height": null,
            "max_width": null,
            "min_height": null,
            "min_width": null,
            "object_fit": null,
            "object_position": null,
            "order": null,
            "overflow": null,
            "overflow_x": null,
            "overflow_y": null,
            "padding": null,
            "right": null,
            "top": null,
            "visibility": null,
            "width": null
          }
        },
        "97f48c49480144b7be6e48d18090dd87": {
          "model_module": "@jupyter-widgets/base",
          "model_name": "LayoutModel",
          "model_module_version": "1.2.0",
          "state": {
            "_model_module": "@jupyter-widgets/base",
            "_model_module_version": "1.2.0",
            "_model_name": "LayoutModel",
            "_view_count": null,
            "_view_module": "@jupyter-widgets/base",
            "_view_module_version": "1.2.0",
            "_view_name": "LayoutView",
            "align_content": null,
            "align_items": null,
            "align_self": null,
            "border": null,
            "bottom": null,
            "display": null,
            "flex": null,
            "flex_flow": null,
            "grid_area": null,
            "grid_auto_columns": null,
            "grid_auto_flow": null,
            "grid_auto_rows": null,
            "grid_column": null,
            "grid_gap": null,
            "grid_row": null,
            "grid_template_areas": null,
            "grid_template_columns": null,
            "grid_template_rows": null,
            "height": null,
            "justify_content": null,
            "justify_items": null,
            "left": null,
            "margin": null,
            "max_height": null,
            "max_width": null,
            "min_height": null,
            "min_width": null,
            "object_fit": null,
            "object_position": null,
            "order": null,
            "overflow": null,
            "overflow_x": null,
            "overflow_y": null,
            "padding": null,
            "right": null,
            "top": null,
            "visibility": null,
            "width": null
          }
        },
        "f0af321189994124ac88dc64cdea4b87": {
          "model_module": "@jupyter-widgets/base",
          "model_name": "LayoutModel",
          "model_module_version": "1.2.0",
          "state": {
            "_model_module": "@jupyter-widgets/base",
            "_model_module_version": "1.2.0",
            "_model_name": "LayoutModel",
            "_view_count": null,
            "_view_module": "@jupyter-widgets/base",
            "_view_module_version": "1.2.0",
            "_view_name": "LayoutView",
            "align_content": null,
            "align_items": null,
            "align_self": null,
            "border": null,
            "bottom": null,
            "display": null,
            "flex": null,
            "flex_flow": null,
            "grid_area": null,
            "grid_auto_columns": null,
            "grid_auto_flow": null,
            "grid_auto_rows": null,
            "grid_column": null,
            "grid_gap": null,
            "grid_row": null,
            "grid_template_areas": null,
            "grid_template_columns": null,
            "grid_template_rows": null,
            "height": null,
            "justify_content": null,
            "justify_items": null,
            "left": null,
            "margin": null,
            "max_height": null,
            "max_width": null,
            "min_height": null,
            "min_width": null,
            "object_fit": null,
            "object_position": null,
            "order": null,
            "overflow": null,
            "overflow_x": null,
            "overflow_y": null,
            "padding": null,
            "right": null,
            "top": null,
            "visibility": null,
            "width": null
          }
        },
        "fb22284bb67a45748eb17221901f04a1": {
          "model_module": "@jupyter-widgets/controls",
          "model_name": "ButtonStyleModel",
          "model_module_version": "1.5.0",
          "state": {
            "_model_module": "@jupyter-widgets/controls",
            "_model_module_version": "1.5.0",
            "_model_name": "ButtonStyleModel",
            "_view_count": null,
            "_view_module": "@jupyter-widgets/base",
            "_view_module_version": "1.2.0",
            "_view_name": "StyleView",
            "button_color": null,
            "font_weight": ""
          }
        },
        "a895d09310814bfb96ec186d0fa3129a": {
          "model_module": "@jupyter-widgets/base",
          "model_name": "LayoutModel",
          "model_module_version": "1.2.0",
          "state": {
            "_model_module": "@jupyter-widgets/base",
            "_model_module_version": "1.2.0",
            "_model_name": "LayoutModel",
            "_view_count": null,
            "_view_module": "@jupyter-widgets/base",
            "_view_module_version": "1.2.0",
            "_view_name": "LayoutView",
            "align_content": null,
            "align_items": null,
            "align_self": null,
            "border": null,
            "bottom": null,
            "display": null,
            "flex": null,
            "flex_flow": null,
            "grid_area": null,
            "grid_auto_columns": null,
            "grid_auto_flow": null,
            "grid_auto_rows": null,
            "grid_column": null,
            "grid_gap": null,
            "grid_row": null,
            "grid_template_areas": null,
            "grid_template_columns": null,
            "grid_template_rows": null,
            "height": null,
            "justify_content": null,
            "justify_items": null,
            "left": null,
            "margin": null,
            "max_height": null,
            "max_width": null,
            "min_height": null,
            "min_width": null,
            "object_fit": null,
            "object_position": null,
            "order": null,
            "overflow": null,
            "overflow_x": null,
            "overflow_y": null,
            "padding": null,
            "right": null,
            "top": null,
            "visibility": null,
            "width": null
          }
        },
        "a29fc5808ad14646932251db8ee6646e": {
          "model_module": "@jupyter-widgets/controls",
          "model_name": "ButtonStyleModel",
          "model_module_version": "1.5.0",
          "state": {
            "_model_module": "@jupyter-widgets/controls",
            "_model_module_version": "1.5.0",
            "_model_name": "ButtonStyleModel",
            "_view_count": null,
            "_view_module": "@jupyter-widgets/base",
            "_view_module_version": "1.2.0",
            "_view_name": "StyleView",
            "button_color": null,
            "font_weight": ""
          }
        },
        "06b29629ac144021bf05699a09be2eac": {
          "model_module": "@jupyter-widgets/base",
          "model_name": "LayoutModel",
          "model_module_version": "1.2.0",
          "state": {
            "_model_module": "@jupyter-widgets/base",
            "_model_module_version": "1.2.0",
            "_model_name": "LayoutModel",
            "_view_count": null,
            "_view_module": "@jupyter-widgets/base",
            "_view_module_version": "1.2.0",
            "_view_name": "LayoutView",
            "align_content": null,
            "align_items": null,
            "align_self": null,
            "border": null,
            "bottom": null,
            "display": null,
            "flex": null,
            "flex_flow": null,
            "grid_area": null,
            "grid_auto_columns": null,
            "grid_auto_flow": null,
            "grid_auto_rows": null,
            "grid_column": null,
            "grid_gap": null,
            "grid_row": null,
            "grid_template_areas": null,
            "grid_template_columns": null,
            "grid_template_rows": null,
            "height": null,
            "justify_content": null,
            "justify_items": null,
            "left": null,
            "margin": null,
            "max_height": null,
            "max_width": null,
            "min_height": null,
            "min_width": null,
            "object_fit": null,
            "object_position": null,
            "order": null,
            "overflow": null,
            "overflow_x": null,
            "overflow_y": null,
            "padding": null,
            "right": null,
            "top": null,
            "visibility": null,
            "width": null
          }
        },
        "d46b9770c1984e478f6830930312c7cc": {
          "model_module": "jupyter-matplotlib",
          "model_name": "ToolbarModel",
          "model_module_version": "^0.11",
          "state": {
            "_current_action": "",
            "_dom_classes": [],
            "_model_module": "jupyter-matplotlib",
            "_model_module_version": "^0.11",
            "_model_name": "ToolbarModel",
            "_view_count": null,
            "_view_module": "jupyter-matplotlib",
            "_view_module_version": "^0.11",
            "_view_name": "ToolbarView",
            "button_style": "",
            "collapsed": true,
            "layout": "IPY_MODEL_5c803f6b6436415ea958c2b6b5140719",
            "orientation": "vertical",
            "toolitems": [
              [
                "Home",
                "Reset original view",
                "home",
                "home"
              ],
              [
                "Back",
                "Back to previous view",
                "arrow-left",
                "back"
              ],
              [
                "Forward",
                "Forward to next view",
                "arrow-right",
                "forward"
              ],
              [
                "Pan",
                "Left button pans, Right button zooms\nx/y fixes axis, CTRL fixes aspect",
                "arrows",
                "pan"
              ],
              [
                "Zoom",
                "Zoom to rectangle\nx/y fixes axis",
                "square-o",
                "zoom"
              ],
              [
                "Download",
                "Download plot",
                "floppy-o",
                "save_figure"
              ]
            ]
          }
        },
        "5c803f6b6436415ea958c2b6b5140719": {
          "model_module": "@jupyter-widgets/base",
          "model_name": "LayoutModel",
          "model_module_version": "1.2.0",
          "state": {
            "_model_module": "@jupyter-widgets/base",
            "_model_module_version": "1.2.0",
            "_model_name": "LayoutModel",
            "_view_count": null,
            "_view_module": "@jupyter-widgets/base",
            "_view_module_version": "1.2.0",
            "_view_name": "LayoutView",
            "align_content": null,
            "align_items": null,
            "align_self": null,
            "border": null,
            "bottom": null,
            "display": null,
            "flex": null,
            "flex_flow": null,
            "grid_area": null,
            "grid_auto_columns": null,
            "grid_auto_flow": null,
            "grid_auto_rows": null,
            "grid_column": null,
            "grid_gap": null,
            "grid_row": null,
            "grid_template_areas": null,
            "grid_template_columns": null,
            "grid_template_rows": null,
            "height": null,
            "justify_content": null,
            "justify_items": null,
            "left": null,
            "margin": null,
            "max_height": null,
            "max_width": null,
            "min_height": null,
            "min_width": null,
            "object_fit": null,
            "object_position": null,
            "order": null,
            "overflow": null,
            "overflow_x": null,
            "overflow_y": null,
            "padding": null,
            "right": null,
            "top": null,
            "visibility": null,
            "width": null
          }
        },
        "b99cb6fd7a2e407cb7a2e8abf7720d82": {
          "model_module": "jupyter-matplotlib",
          "model_name": "MPLCanvasModel",
          "model_module_version": "^0.11",
          "state": {
            "_cursor": "default",
            "_data_url": "data:image/png;base64,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",
            "_dom_classes": [],
            "_figure_label": "Figure 3",
            "_image_mode": "full",
            "_message": "",
            "_model_module": "jupyter-matplotlib",
            "_model_module_version": "^0.11",
            "_model_name": "MPLCanvasModel",
            "_rubberband_height": 0,
            "_rubberband_width": 0,
            "_rubberband_x": 0,
            "_rubberband_y": 0,
            "_size": [
              400,
              400
            ],
            "_view_count": null,
            "_view_module": "jupyter-matplotlib",
            "_view_module_version": "^0.11",
            "_view_name": "MPLCanvasView",
            "capture_scroll": false,
            "footer_visible": false,
            "header_visible": false,
            "layout": "IPY_MODEL_17ab0efc93e7483e94211f0e4a72baf3",
            "pan_zoom_throttle": 33,
            "resizable": false,
            "toolbar": "IPY_MODEL_935e7ed7786246fab8e3f3880b901c8a",
            "toolbar_position": "left",
            "toolbar_visible": false
          }
        },
        "17ab0efc93e7483e94211f0e4a72baf3": {
          "model_module": "@jupyter-widgets/base",
          "model_name": "LayoutModel",
          "model_module_version": "1.2.0",
          "state": {
            "_model_module": "@jupyter-widgets/base",
            "_model_module_version": "1.2.0",
            "_model_name": "LayoutModel",
            "_view_count": null,
            "_view_module": "@jupyter-widgets/base",
            "_view_module_version": "1.2.0",
            "_view_name": "LayoutView",
            "align_content": null,
            "align_items": null,
            "align_self": null,
            "border": null,
            "bottom": null,
            "display": null,
            "flex": null,
            "flex_flow": null,
            "grid_area": null,
            "grid_auto_columns": null,
            "grid_auto_flow": null,
            "grid_auto_rows": null,
            "grid_column": null,
            "grid_gap": null,
            "grid_row": null,
            "grid_template_areas": null,
            "grid_template_columns": null,
            "grid_template_rows": null,
            "height": null,
            "justify_content": null,
            "justify_items": null,
            "left": null,
            "margin": null,
            "max_height": null,
            "max_width": null,
            "min_height": null,
            "min_width": null,
            "object_fit": null,
            "object_position": null,
            "order": null,
            "overflow": null,
            "overflow_x": null,
            "overflow_y": null,
            "padding": null,
            "right": null,
            "top": null,
            "visibility": null,
            "width": null
          }
        },
        "935e7ed7786246fab8e3f3880b901c8a": {
          "model_module": "jupyter-matplotlib",
          "model_name": "ToolbarModel",
          "model_module_version": "^0.11",
          "state": {
            "_current_action": "",
            "_dom_classes": [],
            "_model_module": "jupyter-matplotlib",
            "_model_module_version": "^0.11",
            "_model_name": "ToolbarModel",
            "_view_count": null,
            "_view_module": "jupyter-matplotlib",
            "_view_module_version": "^0.11",
            "_view_name": "ToolbarView",
            "button_style": "",
            "collapsed": true,
            "layout": "IPY_MODEL_89bf39610ba54a4f8036bacfc058d65e",
            "orientation": "vertical",
            "toolitems": [
              [
                "Home",
                "Reset original view",
                "home",
                "home"
              ],
              [
                "Back",
                "Back to previous view",
                "arrow-left",
                "back"
              ],
              [
                "Forward",
                "Forward to next view",
                "arrow-right",
                "forward"
              ],
              [
                "Pan",
                "Left button pans, Right button zooms\nx/y fixes axis, CTRL fixes aspect",
                "arrows",
                "pan"
              ],
              [
                "Zoom",
                "Zoom to rectangle\nx/y fixes axis",
                "square-o",
                "zoom"
              ],
              [
                "Download",
                "Download plot",
                "floppy-o",
                "save_figure"
              ]
            ]
          }
        },
        "89bf39610ba54a4f8036bacfc058d65e": {
          "model_module": "@jupyter-widgets/base",
          "model_name": "LayoutModel",
          "model_module_version": "1.2.0",
          "state": {
            "_model_module": "@jupyter-widgets/base",
            "_model_module_version": "1.2.0",
            "_model_name": "LayoutModel",
            "_view_count": null,
            "_view_module": "@jupyter-widgets/base",
            "_view_module_version": "1.2.0",
            "_view_name": "LayoutView",
            "align_content": null,
            "align_items": null,
            "align_self": null,
            "border": null,
            "bottom": null,
            "display": null,
            "flex": null,
            "flex_flow": null,
            "grid_area": null,
            "grid_auto_columns": null,
            "grid_auto_flow": null,
            "grid_auto_rows": null,
            "grid_column": null,
            "grid_gap": null,
            "grid_row": null,
            "grid_template_areas": null,
            "grid_template_columns": null,
            "grid_template_rows": null,
            "height": null,
            "justify_content": null,
            "justify_items": null,
            "left": null,
            "margin": null,
            "max_height": null,
            "max_width": null,
            "min_height": null,
            "min_width": null,
            "object_fit": null,
            "object_position": null,
            "order": null,
            "overflow": null,
            "overflow_x": null,
            "overflow_y": null,
            "padding": null,
            "right": null,
            "top": null,
            "visibility": null,
            "width": null
          }
        },
        "2c83c3558cb84a9c9feeac2b1fd37154": {
          "model_module": "@jupyter-widgets/controls",
          "model_name": "VBoxModel",
          "model_module_version": "1.5.0",
          "state": {
            "_dom_classes": [],
            "_model_module": "@jupyter-widgets/controls",
            "_model_module_version": "1.5.0",
            "_model_name": "VBoxModel",
            "_view_count": null,
            "_view_module": "@jupyter-widgets/controls",
            "_view_module_version": "1.5.0",
            "_view_name": "VBoxView",
            "box_style": "",
            "children": [
              "IPY_MODEL_6212a2c610ad4f20acab2b21d55f7fde"
            ],
            "layout": "IPY_MODEL_724832d2f9d9492ab77a54b7a4064491"
          }
        },
        "6212a2c610ad4f20acab2b21d55f7fde": {
          "model_module": "@jupyter-widgets/controls",
          "model_name": "VBoxModel",
          "model_module_version": "1.5.0",
          "state": {
            "_dom_classes": [],
            "_model_module": "@jupyter-widgets/controls",
            "_model_module_version": "1.5.0",
            "_model_name": "VBoxModel",
            "_view_count": null,
            "_view_module": "@jupyter-widgets/controls",
            "_view_module_version": "1.5.0",
            "_view_name": "VBoxView",
            "box_style": "",
            "children": [
              "IPY_MODEL_7e6a0f746a79428e823839ce256ba85c",
              "IPY_MODEL_2eb54e8f8ceb4ccdb060bc9ee28acf66",
              "IPY_MODEL_3af982500fdf46f2ad79c457e41f51c7"
            ],
            "layout": "IPY_MODEL_fb7c44f1fbda4d4393c1d1ddd00f39a0"
          }
        },
        "724832d2f9d9492ab77a54b7a4064491": {
          "model_module": "@jupyter-widgets/base",
          "model_name": "LayoutModel",
          "model_module_version": "1.2.0",
          "state": {
            "_model_module": "@jupyter-widgets/base",
            "_model_module_version": "1.2.0",
            "_model_name": "LayoutModel",
            "_view_count": null,
            "_view_module": "@jupyter-widgets/base",
            "_view_module_version": "1.2.0",
            "_view_name": "LayoutView",
            "align_content": null,
            "align_items": null,
            "align_self": null,
            "border": null,
            "bottom": null,
            "display": null,
            "flex": null,
            "flex_flow": null,
            "grid_area": null,
            "grid_auto_columns": null,
            "grid_auto_flow": null,
            "grid_auto_rows": null,
            "grid_column": null,
            "grid_gap": null,
            "grid_row": null,
            "grid_template_areas": null,
            "grid_template_columns": null,
            "grid_template_rows": null,
            "height": null,
            "justify_content": null,
            "justify_items": null,
            "left": null,
            "margin": null,
            "max_height": null,
            "max_width": null,
            "min_height": null,
            "min_width": null,
            "object_fit": null,
            "object_position": null,
            "order": null,
            "overflow": null,
            "overflow_x": null,
            "overflow_y": null,
            "padding": null,
            "right": null,
            "top": null,
            "visibility": null,
            "width": null
          }
        },
        "7e6a0f746a79428e823839ce256ba85c": {
          "model_module": "@jupyter-widgets/controls",
          "model_name": "HBoxModel",
          "model_module_version": "1.5.0",
          "state": {
            "_dom_classes": [],
            "_model_module": "@jupyter-widgets/controls",
            "_model_module_version": "1.5.0",
            "_model_name": "HBoxModel",
            "_view_count": null,
            "_view_module": "@jupyter-widgets/controls",
            "_view_module_version": "1.5.0",
            "_view_name": "HBoxView",
            "box_style": "",
            "children": [
              "IPY_MODEL_ab728448033a4cabaf9f33e32ab51fa8",
              "IPY_MODEL_e2c19730e6014b0eb6dacb7039bd652a",
              "IPY_MODEL_5a1a2d6127954ec68341bf1992983974"
            ],
            "layout": "IPY_MODEL_82c05ac308e94736ab47bfb7cded7a21"
          }
        },
        "2eb54e8f8ceb4ccdb060bc9ee28acf66": {
          "model_module": "@jupyter-widgets/controls",
          "model_name": "HBoxModel",
          "model_module_version": "1.5.0",
          "state": {
            "_dom_classes": [],
            "_model_module": "@jupyter-widgets/controls",
            "_model_module_version": "1.5.0",
            "_model_name": "HBoxModel",
            "_view_count": null,
            "_view_module": "@jupyter-widgets/controls",
            "_view_module_version": "1.5.0",
            "_view_name": "HBoxView",
            "box_style": "",
            "children": [
              "IPY_MODEL_a062d263bb1b42d79c6363f097212934",
              "IPY_MODEL_89fbc92d51aa433e9adb815f2e230839"
            ],
            "layout": "IPY_MODEL_b06a03e454a94d089417c1a7c24b4ff9"
          }
        },
        "3af982500fdf46f2ad79c457e41f51c7": {
          "model_module": "@jupyter-widgets/controls",
          "model_name": "LabelModel",
          "model_module_version": "1.5.0",
          "state": {
            "_dom_classes": [],
            "_model_module": "@jupyter-widgets/controls",
            "_model_module_version": "1.5.0",
            "_model_name": "LabelModel",
            "_view_count": null,
            "_view_module": "@jupyter-widgets/controls",
            "_view_module_version": "1.5.0",
            "_view_name": "LabelView",
            "description": "",
            "description_tooltip": null,
            "layout": "IPY_MODEL_3fe19f49a5864a4b86d6bfc04751b913",
            "placeholder": "​",
            "style": "IPY_MODEL_5678ead9820a4dcaa409cc2eef0a95b2",
            "value": "Thanks for your feedback!"
          }
        },
        "fb7c44f1fbda4d4393c1d1ddd00f39a0": {
          "model_module": "@jupyter-widgets/base",
          "model_name": "LayoutModel",
          "model_module_version": "1.2.0",
          "state": {
            "_model_module": "@jupyter-widgets/base",
            "_model_module_version": "1.2.0",
            "_model_name": "LayoutModel",
            "_view_count": null,
            "_view_module": "@jupyter-widgets/base",
            "_view_module_version": "1.2.0",
            "_view_name": "LayoutView",
            "align_content": null,
            "align_items": null,
            "align_self": null,
            "border": null,
            "bottom": null,
            "display": null,
            "flex": null,
            "flex_flow": null,
            "grid_area": null,
            "grid_auto_columns": null,
            "grid_auto_flow": null,
            "grid_auto_rows": null,
            "grid_column": null,
            "grid_gap": null,
            "grid_row": null,
            "grid_template_areas": null,
            "grid_template_columns": null,
            "grid_template_rows": null,
            "height": null,
            "justify_content": null,
            "justify_items": null,
            "left": null,
            "margin": null,
            "max_height": null,
            "max_width": null,
            "min_height": null,
            "min_width": null,
            "object_fit": null,
            "object_position": null,
            "order": null,
            "overflow": null,
            "overflow_x": null,
            "overflow_y": null,
            "padding": null,
            "right": null,
            "top": null,
            "visibility": null,
            "width": null
          }
        },
        "ab728448033a4cabaf9f33e32ab51fa8": {
          "model_module": "@jupyter-widgets/controls",
          "model_name": "ButtonModel",
          "model_module_version": "1.5.0",
          "state": {
            "_dom_classes": [
              "happy"
            ],
            "_model_module": "@jupyter-widgets/controls",
            "_model_module_version": "1.5.0",
            "_model_name": "ButtonModel",
            "_view_count": null,
            "_view_module": "@jupyter-widgets/controls",
            "_view_module_version": "1.5.0",
            "_view_name": "ButtonView",
            "button_style": "",
            "description": "🙂",
            "disabled": false,
            "icon": "",
            "layout": "IPY_MODEL_0e769e885b41485a8e508fab6db113b5",
            "style": "IPY_MODEL_84e1ec55faec490393df45cf48297e88",
            "tooltip": "happy"
          }
        },
        "e2c19730e6014b0eb6dacb7039bd652a": {
          "model_module": "@jupyter-widgets/controls",
          "model_name": "ButtonModel",
          "model_module_version": "1.5.0",
          "state": {
            "_dom_classes": [
              "medium"
            ],
            "_model_module": "@jupyter-widgets/controls",
            "_model_module_version": "1.5.0",
            "_model_name": "ButtonModel",
            "_view_count": null,
            "_view_module": "@jupyter-widgets/controls",
            "_view_module_version": "1.5.0",
            "_view_name": "ButtonView",
            "button_style": "",
            "description": "😐",
            "disabled": false,
            "icon": "",
            "layout": "IPY_MODEL_747a7570a64f4704a954ea72e8202d3b",
            "style": "IPY_MODEL_fa47726cb53f4d3596326bb0e9a522b8",
            "tooltip": "medium"
          }
        },
        "5a1a2d6127954ec68341bf1992983974": {
          "model_module": "@jupyter-widgets/controls",
          "model_name": "ButtonModel",
          "model_module_version": "1.5.0",
          "state": {
            "_dom_classes": [
              "sad"
            ],
            "_model_module": "@jupyter-widgets/controls",
            "_model_module_version": "1.5.0",
            "_model_name": "ButtonModel",
            "_view_count": null,
            "_view_module": "@jupyter-widgets/controls",
            "_view_module_version": "1.5.0",
            "_view_name": "ButtonView",
            "button_style": "",
            "description": "🙁",
            "disabled": false,
            "icon": "",
            "layout": "IPY_MODEL_d42f4903220c4d5396c41738ab2746ca",
            "style": "IPY_MODEL_7f764ba750e74e3289ffc7b956580ce3",
            "tooltip": "sad"
          }
        },
        "82c05ac308e94736ab47bfb7cded7a21": {
          "model_module": "@jupyter-widgets/base",
          "model_name": "LayoutModel",
          "model_module_version": "1.2.0",
          "state": {
            "_model_module": "@jupyter-widgets/base",
            "_model_module_version": "1.2.0",
            "_model_name": "LayoutModel",
            "_view_count": null,
            "_view_module": "@jupyter-widgets/base",
            "_view_module_version": "1.2.0",
            "_view_name": "LayoutView",
            "align_content": null,
            "align_items": null,
            "align_self": null,
            "border": null,
            "bottom": null,
            "display": null,
            "flex": null,
            "flex_flow": null,
            "grid_area": null,
            "grid_auto_columns": null,
            "grid_auto_flow": null,
            "grid_auto_rows": null,
            "grid_column": null,
            "grid_gap": null,
            "grid_row": null,
            "grid_template_areas": null,
            "grid_template_columns": null,
            "grid_template_rows": null,
            "height": null,
            "justify_content": null,
            "justify_items": null,
            "left": null,
            "margin": null,
            "max_height": null,
            "max_width": null,
            "min_height": null,
            "min_width": null,
            "object_fit": null,
            "object_position": null,
            "order": null,
            "overflow": null,
            "overflow_x": null,
            "overflow_y": null,
            "padding": null,
            "right": null,
            "top": null,
            "visibility": null,
            "width": null
          }
        },
        "a062d263bb1b42d79c6363f097212934": {
          "model_module": "@jupyter-widgets/controls",
          "model_name": "TextareaModel",
          "model_module_version": "1.5.0",
          "state": {
            "_dom_classes": [],
            "_model_module": "@jupyter-widgets/controls",
            "_model_module_version": "1.5.0",
            "_model_name": "TextareaModel",
            "_view_count": null,
            "_view_module": "@jupyter-widgets/controls",
            "_view_module_version": "1.5.0",
            "_view_name": "TextareaView",
            "continuous_update": true,
            "description": "",
            "description_tooltip": null,
            "disabled": false,
            "layout": "IPY_MODEL_025f19c006484c54a0811f1a570aee5b",
            "placeholder": "We want your feedback!",
            "rows": null,
            "style": "IPY_MODEL_578663e857c447b3859256dd39db6635",
            "value": ""
          }
        },
        "89fbc92d51aa433e9adb815f2e230839": {
          "model_module": "@jupyter-widgets/controls",
          "model_name": "ButtonModel",
          "model_module_version": "1.5.0",
          "state": {
            "_dom_classes": [],
            "_model_module": "@jupyter-widgets/controls",
            "_model_module_version": "1.5.0",
            "_model_name": "ButtonModel",
            "_view_count": null,
            "_view_module": "@jupyter-widgets/controls",
            "_view_module_version": "1.5.0",
            "_view_name": "ButtonView",
            "button_style": "",
            "description": "Submit",
            "disabled": false,
            "icon": "",
            "layout": "IPY_MODEL_cf1e0aef12ea461f94baaf0a8b960a74",
            "style": "IPY_MODEL_34c53ab0d8704281996184ce760f3a9d",
            "tooltip": ""
          }
        },
        "b06a03e454a94d089417c1a7c24b4ff9": {
          "model_module": "@jupyter-widgets/base",
          "model_name": "LayoutModel",
          "model_module_version": "1.2.0",
          "state": {
            "_model_module": "@jupyter-widgets/base",
            "_model_module_version": "1.2.0",
            "_model_name": "LayoutModel",
            "_view_count": null,
            "_view_module": "@jupyter-widgets/base",
            "_view_module_version": "1.2.0",
            "_view_name": "LayoutView",
            "align_content": null,
            "align_items": null,
            "align_self": null,
            "border": null,
            "bottom": null,
            "display": "none",
            "flex": null,
            "flex_flow": null,
            "grid_area": null,
            "grid_auto_columns": null,
            "grid_auto_flow": null,
            "grid_auto_rows": null,
            "grid_column": null,
            "grid_gap": null,
            "grid_row": null,
            "grid_template_areas": null,
            "grid_template_columns": null,
            "grid_template_rows": null,
            "height": null,
            "justify_content": null,
            "justify_items": null,
            "left": null,
            "margin": null,
            "max_height": null,
            "max_width": null,
            "min_height": null,
            "min_width": null,
            "object_fit": null,
            "object_position": null,
            "order": null,
            "overflow": null,
            "overflow_x": null,
            "overflow_y": null,
            "padding": null,
            "right": null,
            "top": null,
            "visibility": null,
            "width": null
          }
        },
        "3fe19f49a5864a4b86d6bfc04751b913": {
          "model_module": "@jupyter-widgets/base",
          "model_name": "LayoutModel",
          "model_module_version": "1.2.0",
          "state": {
            "_model_module": "@jupyter-widgets/base",
            "_model_module_version": "1.2.0",
            "_model_name": "LayoutModel",
            "_view_count": null,
            "_view_module": "@jupyter-widgets/base",
            "_view_module_version": "1.2.0",
            "_view_name": "LayoutView",
            "align_content": null,
            "align_items": null,
            "align_self": null,
            "border": null,
            "bottom": null,
            "display": "none",
            "flex": null,
            "flex_flow": null,
            "grid_area": null,
            "grid_auto_columns": null,
            "grid_auto_flow": null,
            "grid_auto_rows": null,
            "grid_column": null,
            "grid_gap": null,
            "grid_row": null,
            "grid_template_areas": null,
            "grid_template_columns": null,
            "grid_template_rows": null,
            "height": null,
            "justify_content": null,
            "justify_items": null,
            "left": null,
            "margin": null,
            "max_height": null,
            "max_width": null,
            "min_height": null,
            "min_width": null,
            "object_fit": null,
            "object_position": null,
            "order": null,
            "overflow": null,
            "overflow_x": null,
            "overflow_y": null,
            "padding": null,
            "right": null,
            "top": null,
            "visibility": null,
            "width": null
          }
        },
        "5678ead9820a4dcaa409cc2eef0a95b2": {
          "model_module": "@jupyter-widgets/controls",
          "model_name": "DescriptionStyleModel",
          "model_module_version": "1.5.0",
          "state": {
            "_model_module": "@jupyter-widgets/controls",
            "_model_module_version": "1.5.0",
            "_model_name": "DescriptionStyleModel",
            "_view_count": null,
            "_view_module": "@jupyter-widgets/base",
            "_view_module_version": "1.2.0",
            "_view_name": "StyleView",
            "description_width": ""
          }
        },
        "0e769e885b41485a8e508fab6db113b5": {
          "model_module": "@jupyter-widgets/base",
          "model_name": "LayoutModel",
          "model_module_version": "1.2.0",
          "state": {
            "_model_module": "@jupyter-widgets/base",
            "_model_module_version": "1.2.0",
            "_model_name": "LayoutModel",
            "_view_count": null,
            "_view_module": "@jupyter-widgets/base",
            "_view_module_version": "1.2.0",
            "_view_name": "LayoutView",
            "align_content": null,
            "align_items": null,
            "align_self": null,
            "border": null,
            "bottom": null,
            "display": null,
            "flex": null,
            "flex_flow": null,
            "grid_area": null,
            "grid_auto_columns": null,
            "grid_auto_flow": null,
            "grid_auto_rows": null,
            "grid_column": null,
            "grid_gap": null,
            "grid_row": null,
            "grid_template_areas": null,
            "grid_template_columns": null,
            "grid_template_rows": null,
            "height": "auto",
            "justify_content": null,
            "justify_items": null,
            "left": null,
            "margin": null,
            "max_height": null,
            "max_width": null,
            "min_height": null,
            "min_width": null,
            "object_fit": null,
            "object_position": null,
            "order": null,
            "overflow": null,
            "overflow_x": null,
            "overflow_y": null,
            "padding": "0.5em",
            "right": null,
            "top": null,
            "visibility": null,
            "width": "auto"
          }
        },
        "84e1ec55faec490393df45cf48297e88": {
          "model_module": "@jupyter-widgets/controls",
          "model_name": "ButtonStyleModel",
          "model_module_version": "1.5.0",
          "state": {
            "_model_module": "@jupyter-widgets/controls",
            "_model_module_version": "1.5.0",
            "_model_name": "ButtonStyleModel",
            "_view_count": null,
            "_view_module": "@jupyter-widgets/base",
            "_view_module_version": "1.2.0",
            "_view_name": "StyleView",
            "button_color": "#aaffaa",
            "font_weight": ""
          }
        },
        "747a7570a64f4704a954ea72e8202d3b": {
          "model_module": "@jupyter-widgets/base",
          "model_name": "LayoutModel",
          "model_module_version": "1.2.0",
          "state": {
            "_model_module": "@jupyter-widgets/base",
            "_model_module_version": "1.2.0",
            "_model_name": "LayoutModel",
            "_view_count": null,
            "_view_module": "@jupyter-widgets/base",
            "_view_module_version": "1.2.0",
            "_view_name": "LayoutView",
            "align_content": null,
            "align_items": null,
            "align_self": null,
            "border": null,
            "bottom": null,
            "display": null,
            "flex": null,
            "flex_flow": null,
            "grid_area": null,
            "grid_auto_columns": null,
            "grid_auto_flow": null,
            "grid_auto_rows": null,
            "grid_column": null,
            "grid_gap": null,
            "grid_row": null,
            "grid_template_areas": null,
            "grid_template_columns": null,
            "grid_template_rows": null,
            "height": "auto",
            "justify_content": null,
            "justify_items": null,
            "left": null,
            "margin": null,
            "max_height": null,
            "max_width": null,
            "min_height": null,
            "min_width": null,
            "object_fit": null,
            "object_position": null,
            "order": null,
            "overflow": null,
            "overflow_x": null,
            "overflow_y": null,
            "padding": "0.5em",
            "right": null,
            "top": null,
            "visibility": null,
            "width": "auto"
          }
        },
        "fa47726cb53f4d3596326bb0e9a522b8": {
          "model_module": "@jupyter-widgets/controls",
          "model_name": "ButtonStyleModel",
          "model_module_version": "1.5.0",
          "state": {
            "_model_module": "@jupyter-widgets/controls",
            "_model_module_version": "1.5.0",
            "_model_name": "ButtonStyleModel",
            "_view_count": null,
            "_view_module": "@jupyter-widgets/base",
            "_view_module_version": "1.2.0",
            "_view_name": "StyleView",
            "button_color": "#dddd77",
            "font_weight": ""
          }
        },
        "d42f4903220c4d5396c41738ab2746ca": {
          "model_module": "@jupyter-widgets/base",
          "model_name": "LayoutModel",
          "model_module_version": "1.2.0",
          "state": {
            "_model_module": "@jupyter-widgets/base",
            "_model_module_version": "1.2.0",
            "_model_name": "LayoutModel",
            "_view_count": null,
            "_view_module": "@jupyter-widgets/base",
            "_view_module_version": "1.2.0",
            "_view_name": "LayoutView",
            "align_content": null,
            "align_items": null,
            "align_self": null,
            "border": null,
            "bottom": null,
            "display": null,
            "flex": null,
            "flex_flow": null,
            "grid_area": null,
            "grid_auto_columns": null,
            "grid_auto_flow": null,
            "grid_auto_rows": null,
            "grid_column": null,
            "grid_gap": null,
            "grid_row": null,
            "grid_template_areas": null,
            "grid_template_columns": null,
            "grid_template_rows": null,
            "height": "auto",
            "justify_content": null,
            "justify_items": null,
            "left": null,
            "margin": null,
            "max_height": null,
            "max_width": null,
            "min_height": null,
            "min_width": null,
            "object_fit": null,
            "object_position": null,
            "order": null,
            "overflow": null,
            "overflow_x": null,
            "overflow_y": null,
            "padding": "0.5em",
            "right": null,
            "top": null,
            "visibility": null,
            "width": "auto"
          }
        },
        "7f764ba750e74e3289ffc7b956580ce3": {
          "model_module": "@jupyter-widgets/controls",
          "model_name": "ButtonStyleModel",
          "model_module_version": "1.5.0",
          "state": {
            "_model_module": "@jupyter-widgets/controls",
            "_model_module_version": "1.5.0",
            "_model_name": "ButtonStyleModel",
            "_view_count": null,
            "_view_module": "@jupyter-widgets/base",
            "_view_module_version": "1.2.0",
            "_view_name": "StyleView",
            "button_color": "#ffaaaa",
            "font_weight": ""
          }
        },
        "025f19c006484c54a0811f1a570aee5b": {
          "model_module": "@jupyter-widgets/base",
          "model_name": "LayoutModel",
          "model_module_version": "1.2.0",
          "state": {
            "_model_module": "@jupyter-widgets/base",
            "_model_module_version": "1.2.0",
            "_model_name": "LayoutModel",
            "_view_count": null,
            "_view_module": "@jupyter-widgets/base",
            "_view_module_version": "1.2.0",
            "_view_name": "LayoutView",
            "align_content": null,
            "align_items": null,
            "align_self": null,
            "border": null,
            "bottom": null,
            "display": null,
            "flex": null,
            "flex_flow": null,
            "grid_area": null,
            "grid_auto_columns": null,
            "grid_auto_flow": null,
            "grid_auto_rows": null,
            "grid_column": null,
            "grid_gap": null,
            "grid_row": null,
            "grid_template_areas": null,
            "grid_template_columns": null,
            "grid_template_rows": null,
            "height": "auto",
            "justify_content": null,
            "justify_items": null,
            "left": null,
            "margin": null,
            "max_height": null,
            "max_width": null,
            "min_height": null,
            "min_width": null,
            "object_fit": null,
            "object_position": null,
            "order": null,
            "overflow": null,
            "overflow_x": null,
            "overflow_y": null,
            "padding": null,
            "right": null,
            "top": null,
            "visibility": null,
            "width": "auto"
          }
        },
        "578663e857c447b3859256dd39db6635": {
          "model_module": "@jupyter-widgets/controls",
          "model_name": "DescriptionStyleModel",
          "model_module_version": "1.5.0",
          "state": {
            "_model_module": "@jupyter-widgets/controls",
            "_model_module_version": "1.5.0",
            "_model_name": "DescriptionStyleModel",
            "_view_count": null,
            "_view_module": "@jupyter-widgets/base",
            "_view_module_version": "1.2.0",
            "_view_name": "StyleView",
            "description_width": ""
          }
        },
        "cf1e0aef12ea461f94baaf0a8b960a74": {
          "model_module": "@jupyter-widgets/base",
          "model_name": "LayoutModel",
          "model_module_version": "1.2.0",
          "state": {
            "_model_module": "@jupyter-widgets/base",
            "_model_module_version": "1.2.0",
            "_model_name": "LayoutModel",
            "_view_count": null,
            "_view_module": "@jupyter-widgets/base",
            "_view_module_version": "1.2.0",
            "_view_name": "LayoutView",
            "align_content": null,
            "align_items": null,
            "align_self": null,
            "border": null,
            "bottom": null,
            "display": null,
            "flex": null,
            "flex_flow": null,
            "grid_area": null,
            "grid_auto_columns": null,
            "grid_auto_flow": null,
            "grid_auto_rows": null,
            "grid_column": null,
            "grid_gap": null,
            "grid_row": null,
            "grid_template_areas": null,
            "grid_template_columns": null,
            "grid_template_rows": null,
            "height": "auto",
            "justify_content": null,
            "justify_items": null,
            "left": null,
            "margin": null,
            "max_height": null,
            "max_width": null,
            "min_height": null,
            "min_width": null,
            "object_fit": null,
            "object_position": null,
            "order": null,
            "overflow": null,
            "overflow_x": null,
            "overflow_y": null,
            "padding": null,
            "right": null,
            "top": null,
            "visibility": null,
            "width": "auto"
          }
        },
        "34c53ab0d8704281996184ce760f3a9d": {
          "model_module": "@jupyter-widgets/controls",
          "model_name": "ButtonStyleModel",
          "model_module_version": "1.5.0",
          "state": {
            "_model_module": "@jupyter-widgets/controls",
            "_model_module_version": "1.5.0",
            "_model_name": "ButtonStyleModel",
            "_view_count": null,
            "_view_module": "@jupyter-widgets/base",
            "_view_module_version": "1.2.0",
            "_view_name": "StyleView",
            "button_color": null,
            "font_weight": ""
          }
        },
        "6e2deed9f60d4401bad565e81e1b6f70": {
          "model_module": "@jupyter-widgets/controls",
          "model_name": "VBoxModel",
          "model_module_version": "1.5.0",
          "state": {
            "_dom_classes": [],
            "_model_module": "@jupyter-widgets/controls",
            "_model_module_version": "1.5.0",
            "_model_name": "VBoxModel",
            "_view_count": null,
            "_view_module": "@jupyter-widgets/controls",
            "_view_module_version": "1.5.0",
            "_view_name": "VBoxView",
            "box_style": "",
            "children": [
              "IPY_MODEL_12b0c6a109594007a8e7dcd6c9f2eeae"
            ],
            "layout": "IPY_MODEL_f5a013a0e56b4b6ca198ed1cd3e132e9"
          }
        },
        "12b0c6a109594007a8e7dcd6c9f2eeae": {
          "model_module": "@jupyter-widgets/controls",
          "model_name": "VBoxModel",
          "model_module_version": "1.5.0",
          "state": {
            "_dom_classes": [],
            "_model_module": "@jupyter-widgets/controls",
            "_model_module_version": "1.5.0",
            "_model_name": "VBoxModel",
            "_view_count": null,
            "_view_module": "@jupyter-widgets/controls",
            "_view_module_version": "1.5.0",
            "_view_name": "VBoxView",
            "box_style": "",
            "children": [
              "IPY_MODEL_f3b0948541164876abd62c50e37a067f",
              "IPY_MODEL_536e783b179a4b9d845d3feac4e9efce",
              "IPY_MODEL_4c42884bf06a4475a5468a0e523209c3"
            ],
            "layout": "IPY_MODEL_8995a7fdcc2c43e0b0085adc87d27629"
          }
        },
        "f5a013a0e56b4b6ca198ed1cd3e132e9": {
          "model_module": "@jupyter-widgets/base",
          "model_name": "LayoutModel",
          "model_module_version": "1.2.0",
          "state": {
            "_model_module": "@jupyter-widgets/base",
            "_model_module_version": "1.2.0",
            "_model_name": "LayoutModel",
            "_view_count": null,
            "_view_module": "@jupyter-widgets/base",
            "_view_module_version": "1.2.0",
            "_view_name": "LayoutView",
            "align_content": null,
            "align_items": null,
            "align_self": null,
            "border": null,
            "bottom": null,
            "display": null,
            "flex": null,
            "flex_flow": null,
            "grid_area": null,
            "grid_auto_columns": null,
            "grid_auto_flow": null,
            "grid_auto_rows": null,
            "grid_column": null,
            "grid_gap": null,
            "grid_row": null,
            "grid_template_areas": null,
            "grid_template_columns": null,
            "grid_template_rows": null,
            "height": null,
            "justify_content": null,
            "justify_items": null,
            "left": null,
            "margin": null,
            "max_height": null,
            "max_width": null,
            "min_height": null,
            "min_width": null,
            "object_fit": null,
            "object_position": null,
            "order": null,
            "overflow": null,
            "overflow_x": null,
            "overflow_y": null,
            "padding": null,
            "right": null,
            "top": null,
            "visibility": null,
            "width": null
          }
        },
        "f3b0948541164876abd62c50e37a067f": {
          "model_module": "@jupyter-widgets/controls",
          "model_name": "HBoxModel",
          "model_module_version": "1.5.0",
          "state": {
            "_dom_classes": [],
            "_model_module": "@jupyter-widgets/controls",
            "_model_module_version": "1.5.0",
            "_model_name": "HBoxModel",
            "_view_count": null,
            "_view_module": "@jupyter-widgets/controls",
            "_view_module_version": "1.5.0",
            "_view_name": "HBoxView",
            "box_style": "",
            "children": [
              "IPY_MODEL_613b7f6e87064689883a868b0c5170c5",
              "IPY_MODEL_7c119242e4274642941c7f0abfd19253",
              "IPY_MODEL_07942a25011d4fdeae5084284f39fbe5"
            ],
            "layout": "IPY_MODEL_fd9905d0a1764ed7b05cf952262522be"
          }
        },
        "536e783b179a4b9d845d3feac4e9efce": {
          "model_module": "@jupyter-widgets/controls",
          "model_name": "HBoxModel",
          "model_module_version": "1.5.0",
          "state": {
            "_dom_classes": [],
            "_model_module": "@jupyter-widgets/controls",
            "_model_module_version": "1.5.0",
            "_model_name": "HBoxModel",
            "_view_count": null,
            "_view_module": "@jupyter-widgets/controls",
            "_view_module_version": "1.5.0",
            "_view_name": "HBoxView",
            "box_style": "",
            "children": [
              "IPY_MODEL_2da3de68d58f4b83b12cd213d4d7ac6b",
              "IPY_MODEL_ed532f4b081d41b2bfbbd61111f48705"
            ],
            "layout": "IPY_MODEL_815d3710883b4b6589a6b676db530ebf"
          }
        },
        "4c42884bf06a4475a5468a0e523209c3": {
          "model_module": "@jupyter-widgets/controls",
          "model_name": "LabelModel",
          "model_module_version": "1.5.0",
          "state": {
            "_dom_classes": [],
            "_model_module": "@jupyter-widgets/controls",
            "_model_module_version": "1.5.0",
            "_model_name": "LabelModel",
            "_view_count": null,
            "_view_module": "@jupyter-widgets/controls",
            "_view_module_version": "1.5.0",
            "_view_name": "LabelView",
            "description": "",
            "description_tooltip": null,
            "layout": "IPY_MODEL_f49398972c4446a1bfcef65e31dcc2a5",
            "placeholder": "​",
            "style": "IPY_MODEL_3eb274e5ac9e40f1858fa21f5aeb560f",
            "value": "Thanks for your feedback!"
          }
        },
        "8995a7fdcc2c43e0b0085adc87d27629": {
          "model_module": "@jupyter-widgets/base",
          "model_name": "LayoutModel",
          "model_module_version": "1.2.0",
          "state": {
            "_model_module": "@jupyter-widgets/base",
            "_model_module_version": "1.2.0",
            "_model_name": "LayoutModel",
            "_view_count": null,
            "_view_module": "@jupyter-widgets/base",
            "_view_module_version": "1.2.0",
            "_view_name": "LayoutView",
            "align_content": null,
            "align_items": null,
            "align_self": null,
            "border": null,
            "bottom": null,
            "display": null,
            "flex": null,
            "flex_flow": null,
            "grid_area": null,
            "grid_auto_columns": null,
            "grid_auto_flow": null,
            "grid_auto_rows": null,
            "grid_column": null,
            "grid_gap": null,
            "grid_row": null,
            "grid_template_areas": null,
            "grid_template_columns": null,
            "grid_template_rows": null,
            "height": null,
            "justify_content": null,
            "justify_items": null,
            "left": null,
            "margin": null,
            "max_height": null,
            "max_width": null,
            "min_height": null,
            "min_width": null,
            "object_fit": null,
            "object_position": null,
            "order": null,
            "overflow": null,
            "overflow_x": null,
            "overflow_y": null,
            "padding": null,
            "right": null,
            "top": null,
            "visibility": null,
            "width": null
          }
        },
        "613b7f6e87064689883a868b0c5170c5": {
          "model_module": "@jupyter-widgets/controls",
          "model_name": "ButtonModel",
          "model_module_version": "1.5.0",
          "state": {
            "_dom_classes": [
              "happy"
            ],
            "_model_module": "@jupyter-widgets/controls",
            "_model_module_version": "1.5.0",
            "_model_name": "ButtonModel",
            "_view_count": null,
            "_view_module": "@jupyter-widgets/controls",
            "_view_module_version": "1.5.0",
            "_view_name": "ButtonView",
            "button_style": "",
            "description": "🙂",
            "disabled": false,
            "icon": "",
            "layout": "IPY_MODEL_1b8450177279432b87a88eb0ee724006",
            "style": "IPY_MODEL_02915559c2b24e16a38d7ca52bc7888f",
            "tooltip": "happy"
          }
        },
        "7c119242e4274642941c7f0abfd19253": {
          "model_module": "@jupyter-widgets/controls",
          "model_name": "ButtonModel",
          "model_module_version": "1.5.0",
          "state": {
            "_dom_classes": [
              "medium"
            ],
            "_model_module": "@jupyter-widgets/controls",
            "_model_module_version": "1.5.0",
            "_model_name": "ButtonModel",
            "_view_count": null,
            "_view_module": "@jupyter-widgets/controls",
            "_view_module_version": "1.5.0",
            "_view_name": "ButtonView",
            "button_style": "",
            "description": "😐",
            "disabled": false,
            "icon": "",
            "layout": "IPY_MODEL_397c3f1fe61a45e48f3a423029c06301",
            "style": "IPY_MODEL_b08dbdb896af4b41912cb97fc9182662",
            "tooltip": "medium"
          }
        },
        "07942a25011d4fdeae5084284f39fbe5": {
          "model_module": "@jupyter-widgets/controls",
          "model_name": "ButtonModel",
          "model_module_version": "1.5.0",
          "state": {
            "_dom_classes": [
              "sad"
            ],
            "_model_module": "@jupyter-widgets/controls",
            "_model_module_version": "1.5.0",
            "_model_name": "ButtonModel",
            "_view_count": null,
            "_view_module": "@jupyter-widgets/controls",
            "_view_module_version": "1.5.0",
            "_view_name": "ButtonView",
            "button_style": "",
            "description": "🙁",
            "disabled": false,
            "icon": "",
            "layout": "IPY_MODEL_0874f8bacd024a4191ea6dc3763e3b55",
            "style": "IPY_MODEL_956fbe129592436cadd2dc46c967fd06",
            "tooltip": "sad"
          }
        },
        "fd9905d0a1764ed7b05cf952262522be": {
          "model_module": "@jupyter-widgets/base",
          "model_name": "LayoutModel",
          "model_module_version": "1.2.0",
          "state": {
            "_model_module": "@jupyter-widgets/base",
            "_model_module_version": "1.2.0",
            "_model_name": "LayoutModel",
            "_view_count": null,
            "_view_module": "@jupyter-widgets/base",
            "_view_module_version": "1.2.0",
            "_view_name": "LayoutView",
            "align_content": null,
            "align_items": null,
            "align_self": null,
            "border": null,
            "bottom": null,
            "display": null,
            "flex": null,
            "flex_flow": null,
            "grid_area": null,
            "grid_auto_columns": null,
            "grid_auto_flow": null,
            "grid_auto_rows": null,
            "grid_column": null,
            "grid_gap": null,
            "grid_row": null,
            "grid_template_areas": null,
            "grid_template_columns": null,
            "grid_template_rows": null,
            "height": null,
            "justify_content": null,
            "justify_items": null,
            "left": null,
            "margin": null,
            "max_height": null,
            "max_width": null,
            "min_height": null,
            "min_width": null,
            "object_fit": null,
            "object_position": null,
            "order": null,
            "overflow": null,
            "overflow_x": null,
            "overflow_y": null,
            "padding": null,
            "right": null,
            "top": null,
            "visibility": null,
            "width": null
          }
        },
        "2da3de68d58f4b83b12cd213d4d7ac6b": {
          "model_module": "@jupyter-widgets/controls",
          "model_name": "TextareaModel",
          "model_module_version": "1.5.0",
          "state": {
            "_dom_classes": [],
            "_model_module": "@jupyter-widgets/controls",
            "_model_module_version": "1.5.0",
            "_model_name": "TextareaModel",
            "_view_count": null,
            "_view_module": "@jupyter-widgets/controls",
            "_view_module_version": "1.5.0",
            "_view_name": "TextareaView",
            "continuous_update": true,
            "description": "",
            "description_tooltip": null,
            "disabled": false,
            "layout": "IPY_MODEL_4209bb380ead41db969d16f5d418be41",
            "placeholder": "We want your feedback!",
            "rows": null,
            "style": "IPY_MODEL_2a9b21dd86fb4e1386aa893aa1731109",
            "value": ""
          }
        },
        "ed532f4b081d41b2bfbbd61111f48705": {
          "model_module": "@jupyter-widgets/controls",
          "model_name": "ButtonModel",
          "model_module_version": "1.5.0",
          "state": {
            "_dom_classes": [],
            "_model_module": "@jupyter-widgets/controls",
            "_model_module_version": "1.5.0",
            "_model_name": "ButtonModel",
            "_view_count": null,
            "_view_module": "@jupyter-widgets/controls",
            "_view_module_version": "1.5.0",
            "_view_name": "ButtonView",
            "button_style": "",
            "description": "Submit",
            "disabled": false,
            "icon": "",
            "layout": "IPY_MODEL_120522513adb46eeb00515fe3e212973",
            "style": "IPY_MODEL_e23645dfd9d0449a960fc1788a6f442c",
            "tooltip": ""
          }
        },
        "815d3710883b4b6589a6b676db530ebf": {
          "model_module": "@jupyter-widgets/base",
          "model_name": "LayoutModel",
          "model_module_version": "1.2.0",
          "state": {
            "_model_module": "@jupyter-widgets/base",
            "_model_module_version": "1.2.0",
            "_model_name": "LayoutModel",
            "_view_count": null,
            "_view_module": "@jupyter-widgets/base",
            "_view_module_version": "1.2.0",
            "_view_name": "LayoutView",
            "align_content": null,
            "align_items": null,
            "align_self": null,
            "border": null,
            "bottom": null,
            "display": "none",
            "flex": null,
            "flex_flow": null,
            "grid_area": null,
            "grid_auto_columns": null,
            "grid_auto_flow": null,
            "grid_auto_rows": null,
            "grid_column": null,
            "grid_gap": null,
            "grid_row": null,
            "grid_template_areas": null,
            "grid_template_columns": null,
            "grid_template_rows": null,
            "height": null,
            "justify_content": null,
            "justify_items": null,
            "left": null,
            "margin": null,
            "max_height": null,
            "max_width": null,
            "min_height": null,
            "min_width": null,
            "object_fit": null,
            "object_position": null,
            "order": null,
            "overflow": null,
            "overflow_x": null,
            "overflow_y": null,
            "padding": null,
            "right": null,
            "top": null,
            "visibility": null,
            "width": null
          }
        },
        "f49398972c4446a1bfcef65e31dcc2a5": {
          "model_module": "@jupyter-widgets/base",
          "model_name": "LayoutModel",
          "model_module_version": "1.2.0",
          "state": {
            "_model_module": "@jupyter-widgets/base",
            "_model_module_version": "1.2.0",
            "_model_name": "LayoutModel",
            "_view_count": null,
            "_view_module": "@jupyter-widgets/base",
            "_view_module_version": "1.2.0",
            "_view_name": "LayoutView",
            "align_content": null,
            "align_items": null,
            "align_self": null,
            "border": null,
            "bottom": null,
            "display": "none",
            "flex": null,
            "flex_flow": null,
            "grid_area": null,
            "grid_auto_columns": null,
            "grid_auto_flow": null,
            "grid_auto_rows": null,
            "grid_column": null,
            "grid_gap": null,
            "grid_row": null,
            "grid_template_areas": null,
            "grid_template_columns": null,
            "grid_template_rows": null,
            "height": null,
            "justify_content": null,
            "justify_items": null,
            "left": null,
            "margin": null,
            "max_height": null,
            "max_width": null,
            "min_height": null,
            "min_width": null,
            "object_fit": null,
            "object_position": null,
            "order": null,
            "overflow": null,
            "overflow_x": null,
            "overflow_y": null,
            "padding": null,
            "right": null,
            "top": null,
            "visibility": null,
            "width": null
          }
        },
        "3eb274e5ac9e40f1858fa21f5aeb560f": {
          "model_module": "@jupyter-widgets/controls",
          "model_name": "DescriptionStyleModel",
          "model_module_version": "1.5.0",
          "state": {
            "_model_module": "@jupyter-widgets/controls",
            "_model_module_version": "1.5.0",
            "_model_name": "DescriptionStyleModel",
            "_view_count": null,
            "_view_module": "@jupyter-widgets/base",
            "_view_module_version": "1.2.0",
            "_view_name": "StyleView",
            "description_width": ""
          }
        },
        "1b8450177279432b87a88eb0ee724006": {
          "model_module": "@jupyter-widgets/base",
          "model_name": "LayoutModel",
          "model_module_version": "1.2.0",
          "state": {
            "_model_module": "@jupyter-widgets/base",
            "_model_module_version": "1.2.0",
            "_model_name": "LayoutModel",
            "_view_count": null,
            "_view_module": "@jupyter-widgets/base",
            "_view_module_version": "1.2.0",
            "_view_name": "LayoutView",
            "align_content": null,
            "align_items": null,
            "align_self": null,
            "border": null,
            "bottom": null,
            "display": null,
            "flex": null,
            "flex_flow": null,
            "grid_area": null,
            "grid_auto_columns": null,
            "grid_auto_flow": null,
            "grid_auto_rows": null,
            "grid_column": null,
            "grid_gap": null,
            "grid_row": null,
            "grid_template_areas": null,
            "grid_template_columns": null,
            "grid_template_rows": null,
            "height": "auto",
            "justify_content": null,
            "justify_items": null,
            "left": null,
            "margin": null,
            "max_height": null,
            "max_width": null,
            "min_height": null,
            "min_width": null,
            "object_fit": null,
            "object_position": null,
            "order": null,
            "overflow": null,
            "overflow_x": null,
            "overflow_y": null,
            "padding": "0.5em",
            "right": null,
            "top": null,
            "visibility": null,
            "width": "auto"
          }
        },
        "02915559c2b24e16a38d7ca52bc7888f": {
          "model_module": "@jupyter-widgets/controls",
          "model_name": "ButtonStyleModel",
          "model_module_version": "1.5.0",
          "state": {
            "_model_module": "@jupyter-widgets/controls",
            "_model_module_version": "1.5.0",
            "_model_name": "ButtonStyleModel",
            "_view_count": null,
            "_view_module": "@jupyter-widgets/base",
            "_view_module_version": "1.2.0",
            "_view_name": "StyleView",
            "button_color": "#aaffaa",
            "font_weight": ""
          }
        },
        "397c3f1fe61a45e48f3a423029c06301": {
          "model_module": "@jupyter-widgets/base",
          "model_name": "LayoutModel",
          "model_module_version": "1.2.0",
          "state": {
            "_model_module": "@jupyter-widgets/base",
            "_model_module_version": "1.2.0",
            "_model_name": "LayoutModel",
            "_view_count": null,
            "_view_module": "@jupyter-widgets/base",
            "_view_module_version": "1.2.0",
            "_view_name": "LayoutView",
            "align_content": null,
            "align_items": null,
            "align_self": null,
            "border": null,
            "bottom": null,
            "display": null,
            "flex": null,
            "flex_flow": null,
            "grid_area": null,
            "grid_auto_columns": null,
            "grid_auto_flow": null,
            "grid_auto_rows": null,
            "grid_column": null,
            "grid_gap": null,
            "grid_row": null,
            "grid_template_areas": null,
            "grid_template_columns": null,
            "grid_template_rows": null,
            "height": "auto",
            "justify_content": null,
            "justify_items": null,
            "left": null,
            "margin": null,
            "max_height": null,
            "max_width": null,
            "min_height": null,
            "min_width": null,
            "object_fit": null,
            "object_position": null,
            "order": null,
            "overflow": null,
            "overflow_x": null,
            "overflow_y": null,
            "padding": "0.5em",
            "right": null,
            "top": null,
            "visibility": null,
            "width": "auto"
          }
        },
        "b08dbdb896af4b41912cb97fc9182662": {
          "model_module": "@jupyter-widgets/controls",
          "model_name": "ButtonStyleModel",
          "model_module_version": "1.5.0",
          "state": {
            "_model_module": "@jupyter-widgets/controls",
            "_model_module_version": "1.5.0",
            "_model_name": "ButtonStyleModel",
            "_view_count": null,
            "_view_module": "@jupyter-widgets/base",
            "_view_module_version": "1.2.0",
            "_view_name": "StyleView",
            "button_color": "#dddd77",
            "font_weight": ""
          }
        },
        "0874f8bacd024a4191ea6dc3763e3b55": {
          "model_module": "@jupyter-widgets/base",
          "model_name": "LayoutModel",
          "model_module_version": "1.2.0",
          "state": {
            "_model_module": "@jupyter-widgets/base",
            "_model_module_version": "1.2.0",
            "_model_name": "LayoutModel",
            "_view_count": null,
            "_view_module": "@jupyter-widgets/base",
            "_view_module_version": "1.2.0",
            "_view_name": "LayoutView",
            "align_content": null,
            "align_items": null,
            "align_self": null,
            "border": null,
            "bottom": null,
            "display": null,
            "flex": null,
            "flex_flow": null,
            "grid_area": null,
            "grid_auto_columns": null,
            "grid_auto_flow": null,
            "grid_auto_rows": null,
            "grid_column": null,
            "grid_gap": null,
            "grid_row": null,
            "grid_template_areas": null,
            "grid_template_columns": null,
            "grid_template_rows": null,
            "height": "auto",
            "justify_content": null,
            "justify_items": null,
            "left": null,
            "margin": null,
            "max_height": null,
            "max_width": null,
            "min_height": null,
            "min_width": null,
            "object_fit": null,
            "object_position": null,
            "order": null,
            "overflow": null,
            "overflow_x": null,
            "overflow_y": null,
            "padding": "0.5em",
            "right": null,
            "top": null,
            "visibility": null,
            "width": "auto"
          }
        },
        "956fbe129592436cadd2dc46c967fd06": {
          "model_module": "@jupyter-widgets/controls",
          "model_name": "ButtonStyleModel",
          "model_module_version": "1.5.0",
          "state": {
            "_model_module": "@jupyter-widgets/controls",
            "_model_module_version": "1.5.0",
            "_model_name": "ButtonStyleModel",
            "_view_count": null,
            "_view_module": "@jupyter-widgets/base",
            "_view_module_version": "1.2.0",
            "_view_name": "StyleView",
            "button_color": "#ffaaaa",
            "font_weight": ""
          }
        },
        "4209bb380ead41db969d16f5d418be41": {
          "model_module": "@jupyter-widgets/base",
          "model_name": "LayoutModel",
          "model_module_version": "1.2.0",
          "state": {
            "_model_module": "@jupyter-widgets/base",
            "_model_module_version": "1.2.0",
            "_model_name": "LayoutModel",
            "_view_count": null,
            "_view_module": "@jupyter-widgets/base",
            "_view_module_version": "1.2.0",
            "_view_name": "LayoutView",
            "align_content": null,
            "align_items": null,
            "align_self": null,
            "border": null,
            "bottom": null,
            "display": null,
            "flex": null,
            "flex_flow": null,
            "grid_area": null,
            "grid_auto_columns": null,
            "grid_auto_flow": null,
            "grid_auto_rows": null,
            "grid_column": null,
            "grid_gap": null,
            "grid_row": null,
            "grid_template_areas": null,
            "grid_template_columns": null,
            "grid_template_rows": null,
            "height": "auto",
            "justify_content": null,
            "justify_items": null,
            "left": null,
            "margin": null,
            "max_height": null,
            "max_width": null,
            "min_height": null,
            "min_width": null,
            "object_fit": null,
            "object_position": null,
            "order": null,
            "overflow": null,
            "overflow_x": null,
            "overflow_y": null,
            "padding": null,
            "right": null,
            "top": null,
            "visibility": null,
            "width": "auto"
          }
        },
        "2a9b21dd86fb4e1386aa893aa1731109": {
          "model_module": "@jupyter-widgets/controls",
          "model_name": "DescriptionStyleModel",
          "model_module_version": "1.5.0",
          "state": {
            "_model_module": "@jupyter-widgets/controls",
            "_model_module_version": "1.5.0",
            "_model_name": "DescriptionStyleModel",
            "_view_count": null,
            "_view_module": "@jupyter-widgets/base",
            "_view_module_version": "1.2.0",
            "_view_name": "StyleView",
            "description_width": ""
          }
        },
        "120522513adb46eeb00515fe3e212973": {
          "model_module": "@jupyter-widgets/base",
          "model_name": "LayoutModel",
          "model_module_version": "1.2.0",
          "state": {
            "_model_module": "@jupyter-widgets/base",
            "_model_module_version": "1.2.0",
            "_model_name": "LayoutModel",
            "_view_count": null,
            "_view_module": "@jupyter-widgets/base",
            "_view_module_version": "1.2.0",
            "_view_name": "LayoutView",
            "align_content": null,
            "align_items": null,
            "align_self": null,
            "border": null,
            "bottom": null,
            "display": null,
            "flex": null,
            "flex_flow": null,
            "grid_area": null,
            "grid_auto_columns": null,
            "grid_auto_flow": null,
            "grid_auto_rows": null,
            "grid_column": null,
            "grid_gap": null,
            "grid_row": null,
            "grid_template_areas": null,
            "grid_template_columns": null,
            "grid_template_rows": null,
            "height": "auto",
            "justify_content": null,
            "justify_items": null,
            "left": null,
            "margin": null,
            "max_height": null,
            "max_width": null,
            "min_height": null,
            "min_width": null,
            "object_fit": null,
            "object_position": null,
            "order": null,
            "overflow": null,
            "overflow_x": null,
            "overflow_y": null,
            "padding": null,
            "right": null,
            "top": null,
            "visibility": null,
            "width": "auto"
          }
        },
        "e23645dfd9d0449a960fc1788a6f442c": {
          "model_module": "@jupyter-widgets/controls",
          "model_name": "ButtonStyleModel",
          "model_module_version": "1.5.0",
          "state": {
            "_model_module": "@jupyter-widgets/controls",
            "_model_module_version": "1.5.0",
            "_model_name": "ButtonStyleModel",
            "_view_count": null,
            "_view_module": "@jupyter-widgets/base",
            "_view_module_version": "1.2.0",
            "_view_name": "StyleView",
            "button_color": null,
            "font_weight": ""
          }
        }
      }
    }
  },
  "nbformat": 4,
  "nbformat_minor": 0
}