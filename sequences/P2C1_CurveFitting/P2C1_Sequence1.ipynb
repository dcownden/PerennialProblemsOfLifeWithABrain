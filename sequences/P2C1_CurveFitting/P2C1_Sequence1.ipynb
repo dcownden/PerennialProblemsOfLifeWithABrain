{
  "cells": [
    {
      "cell_type": "markdown",
      "metadata": {
        "id": "view-in-github",
        "colab_type": "text"
      },
      "source": [
        "<a href=\"https://colab.research.google.com/github/dcownden/PerennialProblemsOfLifeWithABrain/blob/split-and-simple-perturb/sequences/P2C1_CurveFitting/P2C1_Sequence1.ipynb\" target=\"_parent\"><img src=\"https://colab.research.google.com/assets/colab-badge.svg\" alt=\"Open In Colab\"/></a>"
      ]
    },
    {
      "cell_type": "markdown",
      "metadata": {
        "execution": {},
        "id": "K10DbaXu1WBL"
      },
      "source": [
        "The following is part of a test for an upcoming text book on computational neuroscience from an optimization and learning perspective. The book will start with evolution because ultimately, all aspects of the brain are shaped by evolution and, as we will see, evolution can also be seen as an optimization algorithm. We are sharing it now to get feedback on what works and what does not and the developments we should do."
      ]
    },
    {
      "cell_type": "markdown",
      "metadata": {
        "execution": {},
        "id": "dsQ6T5OZ1WBM"
      },
      "source": [
        "___\n",
        "# **2.1.1: Curve Fitting Through Perturbation**\n",
        "In the first part of the book we gained insight into what the brain is for: rapid acquisition of adaptive behaviours. Now that we know what a brain is for, we are going to start thinking about how it does what it needs to do. Instead of taking a bottom up approach grounded in observed physiological mechanisms, we are going to use a problem oriented, top down approach. That is, we will think about what problems the brain is solving and then survey the various physiological mechanisms that could feasibly implement algorithms that solve those problems. We will start with problems that are simple to understand from a statistical and mathematical perspective; a broad sub-field of machine learning known as supervised learning. Supervised learning problems take as given many affordances and abilities without obvious physiological implementations in the brain. Nevertheless, for simplicity and to build foundational understanding, we start with this class of problems and associated algorithms, drawing connections to physiological mechanisms where we can. As more elaborate learning algorithms (un/semi-supervised learning, complex reinforcement learning) and their applications become clear, we promise that an outline of the physiology of a unified neural system which feasibly solves the myriad statistical decision problems faced by living animals will emerge.\n",
        "\n",
        "### Objective: Solve simple optimization problems using perturbation methods, and connect these methods with physiological neural plasticity mechanisms.\n",
        "\n",
        "In this sequence we will:\n",
        "\n",
        "* Introduce and review the fundamental ideas of optimization.\n",
        "\n",
        "* Introduce the perturb -> measure -> update learning rule\n",
        "\n",
        "* Introduce a simple visual (binary) discrimination tasks\n",
        "\n",
        "* Show how perturb -> measure -> update can be used to train a simple 'neural circuit' model which 'learns' to solve this simple binary discrimination problems based on scalar reward feedback.\n",
        "\n",
        "* Relate the different aspects of our simple 'neural circuit' model to various neural plasticity mechanisms.\n"
      ]
    },
    {
      "cell_type": "markdown",
      "metadata": {
        "execution": {},
        "id": "rK0I5ANa1WBM"
      },
      "source": [
        "# Setup\n",
        "\n",
        "Run the following cell to setup and install the various dependencies and helper functions for this ."
      ]
    },
    {
      "cell_type": "code",
      "execution_count": 1,
      "metadata": {
        "cellView": "form",
        "execution": {},
        "id": "g9MNYxfk1WBN",
        "colab": {
          "base_uri": "https://localhost:8080/"
        },
        "outputId": "cfcd7416-ea68-48a6-c44c-d2d1b67e7177"
      },
      "outputs": [
        {
          "output_type": "stream",
          "name": "stdout",
          "text": [
            "Best feature is 21\n",
            "Random seed 2021 has been set.\n",
            "This notebook isn't using and doesn't need a GPU. Good.\n",
            "Running in colab\n"
          ]
        }
      ],
      "source": [
        "# @title Dependencies, Imports and Setup\n",
        "# @markdown You don't need to worry about how this code works – but you do need to **run the cell**\n",
        "!apt install libgraphviz-dev > /dev/null 2> /dev/null #colab\n",
        "!pip install ipympl pygraphviz vibecheck datatops jupyterquiz ucimlrepo > /dev/null 2> /dev/null #google.colab\n",
        "\n",
        "import requests\n",
        "from requests.exceptions import RequestException\n",
        "import numpy as np\n",
        "import itertools\n",
        "import collections\n",
        "import matplotlib\n",
        "import matplotlib.pyplot as plt\n",
        "import matplotlib.patches as mpatches\n",
        "from matplotlib.animation import FuncAnimation\n",
        "import seaborn as sns\n",
        "import pandas as pd\n",
        "import pygraphviz as pgv\n",
        "import ipywidgets as widgets\n",
        "import time\n",
        "import logging\n",
        "import random\n",
        "import os\n",
        "import copy\n",
        "import torch\n",
        "import warnings\n",
        "import torch.nn as nn\n",
        "import torch.optim as optim\n",
        "import torch.nn.functional as F\n",
        "from io import BytesIO\n",
        "from enum import Enum\n",
        "from scipy.spatial.distance import cdist\n",
        "from scipy.stats import norm\n",
        "from scipy.optimize import minimize\n",
        "from sklearn.linear_model import LinearRegression\n",
        "from tabulate import tabulate\n",
        "from IPython.display import display, clear_output, Markdown, HTML, Image\n",
        "from jupyterquiz import display_quiz\n",
        "from vibecheck import DatatopsContentReviewContainer\n",
        "from pathlib import Path\n",
        "from typing import List, Dict\n",
        "from tqdm.notebook import tqdm\n",
        "from ucimlrepo import fetch_ucirepo\n",
        "\n",
        "data_set = fetch_ucirepo(id=80)\n",
        "X = data_set.data.features.values\n",
        "# Translate the data to have a minimum of 0\n",
        "X_translated = X - X.min()\n",
        "# Scale the data to have a range from 0 to 12 (which is 6 - (-6))\n",
        "scaling_factor = 12 / (X.max() - X.min())\n",
        "X_scaled = X_translated * scaling_factor\n",
        "# Finally, shift the data to be centered between -6 and 6\n",
        "X_final = X_scaled - 6\n",
        "\n",
        "y = data_set.data.targets.values\n",
        "rng = np.random.default_rng(seed=2021)\n",
        "scramble_permutation = rng.permutation(X.shape[1])\n",
        "Xs = X_final[:, scramble_permutation]\n",
        "y1 = y % 2\n",
        "y2 = np.array(y >= 5, dtype=y.dtype)\n",
        "simple_index = ((y.flatten()==1) | (y.flatten()==0))\n",
        "X_simple = Xs[simple_index]\n",
        "y1_simple = y1[simple_index]\n",
        "# if you only had one feature which would likely be best for discrimination\n",
        "epsilon = 10\n",
        "class_a_sep = np.mean(X_simple[y1_simple.flatten() == 1, :], axis=0) / (np.std(X_simple[y1_simple.flatten() == 1, :], axis=0) + epsilon)\n",
        "class_b_sep = np.mean(X_simple[y1_simple.flatten() == 0, :], axis=0) / (np.std(X_simple[y1_simple.flatten() == 0, :], axis=0) + epsilon)\n",
        "best_feature = np.argmax(class_a_sep - class_b_sep)\n",
        "print(f'Best feature is {best_feature}')\n",
        "X_simple_1_feature = X_simple[:, [best_feature]]\n",
        "\n",
        "import warnings\n",
        "warnings.filterwarnings(\"ignore\", category=UserWarning, module=\"matplotlib\")\n",
        "# random seed settings and\n",
        "# getting torch to use gpu if it's there\n",
        "\n",
        "\n",
        "def set_seed(seed=None, seed_torch=True):\n",
        "  \"\"\"\n",
        "  Function that controls randomness. NumPy and random modules must be imported.\n",
        "\n",
        "  Args:\n",
        "    seed : Integer\n",
        "      A non-negative integer that defines the random state. Default is `None`.\n",
        "    seed_torch : Boolean\n",
        "      If `True` sets the random seed for pytorch tensors, so pytorch module\n",
        "      must be imported. Default is `True`.\n",
        "\n",
        "  Returns:\n",
        "    Nothing.\n",
        "  \"\"\"\n",
        "  if seed is None:\n",
        "    seed = np.random.choice(2 ** 32)\n",
        "  random.seed(seed)\n",
        "  np.random.seed(seed)\n",
        "  if seed_torch:\n",
        "    torch.manual_seed(seed)\n",
        "    torch.cuda.manual_seed_all(seed)\n",
        "    torch.cuda.manual_seed(seed)\n",
        "    torch.backends.cudnn.benchmark = False\n",
        "    torch.backends.cudnn.deterministic = True\n",
        "\n",
        "  print(f'Random seed {seed} has been set.')\n",
        "\n",
        "\n",
        "def seed_worker(worker_id):\n",
        "  \"\"\"\n",
        "  DataLoader will reseed workers following randomness in\n",
        "  multi-process data loading algorithm.\n",
        "\n",
        "  Args:\n",
        "    worker_id: integer\n",
        "      ID of subprocess to seed. 0 means that\n",
        "      the data will be loaded in the main process\n",
        "      Refer: https://pytorch.org/docs/stable/data.html#data-loading-randomness for more details\n",
        "\n",
        "  Returns:\n",
        "    Nothing\n",
        "  \"\"\"\n",
        "  worker_seed = torch.initial_seed() % 2**32\n",
        "  np.random.seed(worker_seed)\n",
        "  random.seed(worker_seed)\n",
        "\n",
        "\n",
        "def set_device():\n",
        "  \"\"\"\n",
        "  Set the device. CUDA if available, CPU otherwise\n",
        "\n",
        "  Args:\n",
        "    None\n",
        "\n",
        "  Returns:\n",
        "    Nothing\n",
        "  \"\"\"\n",
        "  device = \"cuda\" if torch.cuda.is_available() else \"cpu\"\n",
        "  if device != \"cuda\":\n",
        "    print(\"This notebook isn't using and doesn't need a GPU. Good.\")\n",
        "  else:\n",
        "    print(\"GPU is enabled in this notebook but not needed.\")\n",
        "    print(\"If possible, in the menu under `Runtime` -> \")\n",
        "    print(\"`Change runtime type.`  select `CPU`\")\n",
        "\n",
        "  return device\n",
        "\n",
        "\n",
        "SEED = 2021\n",
        "set_seed(seed=SEED)\n",
        "DEVICE = set_device()\n",
        "\n",
        "\n",
        "def printmd(string):\n",
        "  display(Markdown(string))\n",
        "\n",
        "\n",
        "# the different utility .py files used in this notebook\n",
        "filenames = []\n",
        "# just run the code straight out of the response, no local copies needed!\n",
        "for filename in filenames:\n",
        "  url = f'https://raw.githubusercontent.com/dcownden/PerennialProblemsOfLifeWithABrain/main/utils/{filename}'\n",
        "  response = requests.get(url)\n",
        "  # Check that we got a valid response\n",
        "  if response.status_code == 200:\n",
        "    code = response.content.decode()\n",
        "    exec(code)\n",
        "  else:\n",
        "    print(f'Failed to download {url}')\n",
        "\n",
        "# environment contingent imports\n",
        "try:\n",
        "  print('Running in colab')\n",
        "  from google.colab import output\n",
        "  output.enable_custom_widget_manager()\n",
        "  from google.colab import data_table\n",
        "  data_table.disable_dataframe_formatter()\n",
        "  #from google.colab import output as colab_output\n",
        "  #colab_output.enable_custom_widget_manager()\n",
        "  IN_COLAB = True\n",
        "except:\n",
        "  IN_COLAB = False\n",
        "  print('Not running in colab')\n",
        "\n",
        "%matplotlib inline\n",
        "%config InlineBackend.figure_format = 'retina'\n",
        "%matplotlib widget\n",
        "plt.style.use(\"https://raw.githubusercontent.com/dcownden/PerennialProblemsOfLifeWithABrain/main/pplb.mplstyle\")\n",
        "plt.ioff() #need to use plt.show() or display explicitly\n",
        "logging.getLogger('matplotlib.font_manager').setLevel(logging.ERROR)\n",
        "\n",
        "\n",
        "def remove_ip_clutter(fig):\n",
        "  fig.canvas.header_visible = False\n",
        "  fig.canvas.toolbar_visible = False\n",
        "  fig.canvas.resizable = False\n",
        "  fig.canvas.footer_visible = False\n",
        "  fig.canvas.draw()\n",
        "\n",
        "\n",
        "def content_review(notebook_section: str):\n",
        "  return DatatopsContentReviewContainer(\n",
        "    \"\",  # No text prompt\n",
        "    notebook_section,\n",
        "    {\n",
        "      \"url\": \"https://pmyvdlilci.execute-api.us-east-1.amazonaws.com/klab\",\n",
        "      \"name\": \"neuro_book\",\n",
        "      \"user_key\": \"xuk960xj\",\n",
        "    },\n",
        "  ).render()\n",
        "feedback_prefix = \"P2C1_S1\""
      ]
    },
    {
      "cell_type": "markdown",
      "metadata": {
        "execution": {},
        "id": "bk3wDDr51WBO"
      },
      "source": [
        "# 2.1.1.1: Learning to Do the Right Thing\n",
        "\n",
        "In our last chapter 1.4 Life is Reinforcment Learning we motivated the idea that the within life time learning of an organism can be understood as solving a particular set of reinforcment learning problems selected for by the evolutionary process. In particular we view the evolutionary process as selecting both the intrinsic reward signals (i.e. which kinds of base sensory inputs are are intrisicially rewarding) and the neural plasticity rules through which the sensory to behaviour is updated according to these reward signals. We will come back to RL in the 4th part of this book but before we do we want to ground ourselves in a general optimization perspective. We will start with supervised learning which is very easy to understand as an optimization problem and then proceed to unsupervised learning and extended reinforcement learning which need some translation to be viewed as straightforward optimzation problems.\n",
        "\n",
        "In general an optimation problem is always of the form find some set of parameters or values, say $x$ such some other scalar valued quantity which depends in some way on those values, say $f(x)$, is as large or small as possible, subject to some constraints on what values $x$ can take.\n",
        "\n",
        "Example Optimization Problem:\n",
        "\n",
        "Find $x$ in on the interval $[-2, 2]$ such that $y = -x^2 + 2x + 3$ is as large as possible. This might be written more teresely with symbols as:\n",
        "\n",
        "$$\\underset{x\\in[-2,2]}{\\arg \\max}(-x^2 + 2x + 3)  $$\n",
        "\n",
        "If you have taken (and remember!) a first year or AP calculus course you might say oh, I know how to do that we take the derivative,\n",
        "\n",
        "$$\n",
        "\\frac{\\text{d}}{\\text{d}x} -x^2 + 2x + 3 = -2x + 2\n",
        "$$\n",
        "\n",
        "Then we set that equal to zero and solve for the extrema\n",
        "\n",
        "$$\n",
        "\\begin{align}\n",
        "-2x + 2 &= 0 \\\\\n",
        "x &= 1\n",
        "\\end{align}\n",
        "$$\n",
        "\n",
        "Looking at a picture this seems to be right"
      ]
    },
    {
      "cell_type": "code",
      "source": [
        "# @markdown **Run this cell** to plot the function we are optimizing\n",
        "\n",
        "def f(x):\n",
        "  return -x**2 + 2*x + 3\n",
        "\n",
        "x = np.linspace(-2, 2, 400)\n",
        "y = f(x)\n",
        "\n",
        "ymax = np.max(y)\n",
        "xmax = x[np.argmax(y)]\n",
        "\n",
        "fig, ax = plt.subplots(figsize=(8, 6))\n",
        "# Plot the function\n",
        "ax.plot(x, y, label='f(x)')\n",
        "ax.scatter(xmax, ymax, color='red', label=f'Max at {xmax:.2f}', zorder=5)\n",
        "ax.set_title('Plot of f(x) = -x^2 + 2x + 3 with max highlighted')\n",
        "ax.set_xlabel('x')\n",
        "ax.set_ylabel('f(x)')\n",
        "ax.legend()\n",
        "plt.grid(True)\n",
        "plt.show()\n"
      ],
      "metadata": {
        "cellView": "form",
        "colab": {
          "base_uri": "https://localhost:8080/",
          "height": 689,
          "referenced_widgets": [
            "faad82ca33e14d878b4a896feb5fd8f2",
            "1133b3456103426584e32d7963cf6d76",
            "f669baac24ed4f1f9ab9b134af425e22",
            "827b4cc27d5641c1a398af0f061574a8"
          ]
        },
        "id": "_DcMAdFI9zMU",
        "outputId": "68f3ef95-e230-4c8b-acaf-06c6a77c56d7"
      },
      "execution_count": 9,
      "outputs": [
        {
          "output_type": "display_data",
          "data": {
            "text/plain": [
              "Canvas(toolbar=Toolbar(toolitems=[('Home', 'Reset original view', 'home', 'home'), ('Back', 'Back to previous …"
            ],
            "image/png": "[encoded data removed]",
            "text/html": [
              "\n",
              "            <div style=\"display: inline-block;\">\n",
              "                <div class=\"jupyter-widgets widget-label\" style=\"text-align: center;\">\n",
              "                    Figure\n",
              "                </div>\n",
              "                <img src='data:image/png;base64,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' width=800.0/>\n",
              "            </div>\n",
              "        "
            ],
            "application/vnd.jupyter.widget-view+json": {
              "version_major": 2,
              "version_minor": 0,
              "model_id": "faad82ca33e14d878b4a896feb5fd8f2"
            }
          },
          "metadata": {
            "application/vnd.jupyter.widget-view+json": {
              "colab": {
                "custom_widget_manager": {
                  "url": "https://ssl.gstatic.com/colaboratory-static/widgets/colab-cdn-widget-manager/2b70e893a8ba7c0f/manager.min.js"
                }
              }
            }
          }
        }
      ]
    },
    {
      "cell_type": "markdown",
      "source": [
        "If the parabola were opening up instead of down the maximum would have been on the edges, so we should have checked those as well. Let's say that derivatives and algebra though are not our strong suite, we could do something like our propose and reject algorithm"
      ],
      "metadata": {
        "id": "W4P8aX0x9uvL"
      }
    },
    {
      "cell_type": "markdown",
      "source": [
        "as the optimization outwhere both the learning algorithm, i.e. how neural parameters change to modify behaviour, and the rewardmuch of our modeling using a binary classification problem in which a lurking predator must choose between striking and not striking based on sensory input. Initially, we viewed the behavioral map from sensory input to action as genetically determined. However, we concluded the last chapter by highlighting the evolutionary advantage of at least partially learning these sensory-behaviour maps within an organism's lifetime. These advantages emerge in part due to variable environments and complex behaviors with non-linear fitness impacts. Here we shift our focus and work with the case where the behavioural map from sensory input to action is to be entirely 'learned' by the organism, using feedback signals from the environment. Before we build a highly abstracted model of a neural circuit to solve this problem, let's see if your neural network is up to the task. Given a sensory input pattern, determine whether to strike or not. Try to maximize your average score and see how well you can perform. We will start with a very simple 'sensory' pattern."
      ],
      "metadata": {
        "id": "etsn-SQt9sGZ"
      }
    },
    {
      "cell_type": "code",
      "execution_count": null,
      "metadata": {
        "execution": {},
        "id": "4tk0g-2L1WBO"
      },
      "outputs": [],
      "source": [
        "# @markdown **Run this cell** to try out the 'strike-no-strike' discrimination task.\n",
        "\n",
        "class InteractiveMNISTPredator():\n",
        "  def __init__(self,\n",
        "               features=Xs,\n",
        "               labels=y,\n",
        "               feedback_type='on_strike_only', seed=123):\n",
        "    # Initialize dataset, settings for image scrambling and feedback\n",
        "    self.features = features\n",
        "    self.labels = labels\n",
        "    # features is num_data_points x 64 (reshape to 8x8 for display, each cell 0-16)\n",
        "    # labels is num_data_points x 1 (values 0-9 or 0/1 depending)\n",
        "    self.feedback_type = feedback_type\n",
        "    self.rng = np.random.default_rng(seed)\n",
        "    sample_order = self.rng.permutation(self.features.shape[0])\n",
        "    self.features = self.features[sample_order]\n",
        "    self.labels = self.labels[sample_order]\n",
        "    # initialize game state\n",
        "    self.current_index = 0\n",
        "    self.score = 0\n",
        "    self.best_possible_score = 0\n",
        "    self.successful_strikes = 0\n",
        "    self.failed_strikes = 0\n",
        "    self.non_strikes = 0\n",
        "    # Initialize widgets\n",
        "    self.strike_button = widgets.Button(description='Strike')\n",
        "    self.no_strike_button = widgets.Button(description='No Strike')\n",
        "    self.score_display = widgets.Output()\n",
        "    self.feedback_display = widgets.Output()\n",
        "\n",
        "    # Initialize the figure for image display\n",
        "    self.fig, self.ax = plt.subplots(figsize=(4, 4))\n",
        "    remove_ip_clutter(self.fig)\n",
        "    self.show_next_image()\n",
        "    # Bind event handlers\n",
        "    self.strike_button.on_click(self.on_strike_clicked)\n",
        "    self.no_strike_button.on_click(self.on_no_strike_clicked)\n",
        "\n",
        "    # Arrange widgets in a layout\n",
        "    buttons_layout = widgets.HBox([self.strike_button, self.no_strike_button])\n",
        "    board_buttons = widgets.VBox([self.fig.canvas, buttons_layout])\n",
        "    self.ui = widgets.HBox([board_buttons, widgets.VBox([self.score_display,\n",
        "                                                         self.feedback_display])])\n",
        "\n",
        "  def show_next_image(self):\n",
        "    # Display the next image\n",
        "    image = self.features[self.current_index]\n",
        "    if len(image) == 64:\n",
        "        image = image.reshape(8, 8)\n",
        "    elif len(image) == 1:\n",
        "      scalar_value = image.flatten()[0]\n",
        "      # Initialize the 8x8 array with -6 (black)\n",
        "      image = np.full((8, 8), -6.0)\n",
        "      # Set the second ring to 6 (white)\n",
        "      image[1:-1, 1:-1] = 6\n",
        "      # Set the third (inner ring) back to -6 (black)\n",
        "      image[2:-2, 2:-2] = -6\n",
        "      # Assuming scalar_value is already in the range -6 to 6\n",
        "      #print(scalar_value)\n",
        "      image[3:-3, 3:-3] = scalar_value\n",
        "    else:\n",
        "      raise ValueError(f'Unexpected image shape: {image.shape}')\n",
        "    # Display the image\n",
        "    #print(image)\n",
        "    self.fig.clf()\n",
        "    self.ax = self.fig.add_subplot(111)\n",
        "    self.ax.set_xlim(-.5, 7.5)\n",
        "    self.ax.set_ylim(-0.5, 7.5)\n",
        "    self.ax.set_aspect('equal')\n",
        "    self.ax.axis('off')\n",
        "    self.ax.imshow(image, cmap='gray', vmin=-6, vmax=6)\n",
        "    self.fig.canvas.draw_idle()  # Force redraw\n",
        "\n",
        "  def on_strike_clicked(self, button):\n",
        "    self.process_decision('Strike')\n",
        "\n",
        "  def on_no_strike_clicked(self, button):\n",
        "    self.process_decision('No Strike')\n",
        "\n",
        "  def process_decision(self, decision):\n",
        "    # freeze buttons while we process\n",
        "    self.strike_button.disabled = True\n",
        "    self.no_strike_button.disabled = True\n",
        "\n",
        "    # Process the user's decision, update score, and provide feedback\n",
        "    correct_action = 'Strike' if self.labels[self.current_index] == 1 else 'No Strike'\n",
        "    if decision == 'Strike':\n",
        "      if decision == correct_action:\n",
        "        self.score += 1\n",
        "        self.successful_strikes += 1\n",
        "      else:\n",
        "        self.score -= 1\n",
        "        self.failed_strikes += 1\n",
        "    elif decision == 'No Strike':\n",
        "      self.non_strikes += 1\n",
        "      # no strike means no gain or loss\n",
        "    else:\n",
        "      raise ValueError(f'Unknown decision: {decision}')\n",
        "\n",
        "    # Show feedback and score\n",
        "    if (self.feedback_type == 'both' or\n",
        "      (self.feedback_type == 'on_strike_only' and decision == 'Strike')):\n",
        "      # Show informative feedback\n",
        "      feedback = f'Your last choice: {decision}\\nCorrect last choice: {correct_action}'\n",
        "    else:\n",
        "      # Show uninformative feedback\n",
        "      feedback = 'Feedback only available after striking.'\n",
        "    with self.feedback_display:\n",
        "      clear_output(wait=True)\n",
        "      print(feedback)\n",
        "\n",
        "    # Show score\n",
        "    with self.score_display:\n",
        "      clear_output(wait=True)\n",
        "      average_score = self.score / (self.current_index+1)\n",
        "      print(f'Total Score: {self.score}')\n",
        "      print(f'Number of Trials: {self.current_index + 1}')\n",
        "      print(f'Successful Strikes: {self.successful_strikes}')\n",
        "      print(f'Failed Strikes: {self.failed_strikes}')\n",
        "      print(f'Non-Strikes: {self.non_strikes}')\n",
        "      print(f'Average Score Per Trial: {average_score:.2f}')\n",
        "\n",
        "    # Prepare the next image\n",
        "    self.current_index += 1\n",
        "    #print(self.current_index)\n",
        "    self.show_next_image()\n",
        "    # Re-enable buttons\n",
        "    self.strike_button.disabled = False\n",
        "    self.no_strike_button.disabled = False\n",
        "\n",
        "\n",
        "scramble_01_imp = InteractiveMNISTPredator(features=X_simple_1_feature,\n",
        "                                           labels=y1_simple, feedback_type='both')\n",
        "display(scramble_01_imp.fig.canvas)\n",
        "clear_output()\n",
        "display(scramble_01_imp.ui)"
      ]
    },
    {
      "cell_type": "markdown",
      "metadata": {
        "execution": {},
        "id": "aTT7F8Mc1WBO"
      },
      "source": [
        "For us at least, this task wasn't too hard. The simple association - strike when the center pixel is relatively light, don't strike when the center pixel is dark - works well. We can learn this association with our eyes and brains. Now, let's see if we can come up with a way to program an algorithm that will also learn this association. The dataset that underlies this strike-no-strike decision problem is sourced from the UCI Machine Learning Repository, (Alpaydin,E. and Kaynak,C. 1998. https://doi.org/10.24432/C50P49). Let's take a quick look at the data before we start coming up with a simple machine learning algorithm to correctly distinguish between the strike and no-strike cases."
      ]
    },
    {
      "cell_type": "code",
      "execution_count": null,
      "metadata": {
        "execution": {},
        "id": "2NDUNIao1WBP"
      },
      "outputs": [],
      "source": [
        "# What is the shape and type of the data we have to work with\n",
        "print(f'features data type: {X_simple_1_feature.dtype}')\n",
        "print(f'features shape: {X_simple_1_feature.shape}')\n",
        "print(f'labels data type: {y1_simple.dtype}')\n",
        "print(f'labels shape: {y1_simple.shape}')"
      ]
    },
    {
      "cell_type": "code",
      "execution_count": null,
      "metadata": {
        "execution": {},
        "id": "Oo2TSyD21WBP"
      },
      "outputs": [],
      "source": [
        "# what do the labels look like, what is their range\n",
        "print(y1_simple[:10])\n",
        "print(f'max label: {np.max(y1_simple)}')\n",
        "print(f'min label: {np.min(y1_simple)}')"
      ]
    },
    {
      "cell_type": "markdown",
      "metadata": {
        "execution": {},
        "id": "X2wgTK0F1WBQ"
      },
      "source": [
        "***Note on Terminology:*** In a Supervised Learning context what we have been thinking of as the inputs to a sensory-behaviour circuit are called **features**. In a statistical/regression/experimental context these features or inputs are thought of as the independent variables or regressors. The 'correct' behavioural output is called the **label** or **target** in a supervised learning ML context, or the dependent variable in a statistical/regression/experimental context. Supervised Learning revolves around the concept of feature-label or $(\\mathbf{x},\\mathbf{y})$ pairs. The basic goal of Supervised Learning is to discover the rule or process that generates these pairs, or a good approximation of it, solely by examining examples. The set of examples that we have to learn the rule from is called the **training set**. We will use the terms features and label when we want to emphasize the abstract algorithm and learning problem, and the terms sensory-input and target behaviour when we want to emphasize the embodied neural context of the problem."
      ]
    },
    {
      "cell_type": "markdown",
      "metadata": {
        "execution": {},
        "id": "3gZtYExH1WBQ"
      },
      "source": [
        "In the game we setup above we used the label '1' to correspond to situations when 'strike' is the correct action and the label '0' to correspond to situations where 'no-strike' is the correct action."
      ]
    },
    {
      "cell_type": "code",
      "execution_count": null,
      "metadata": {
        "execution": {},
        "id": "dsj4vaXT1WBQ"
      },
      "outputs": [],
      "source": [
        "# what do the features look like, what is there range\n",
        "print(X_simple_1_feature[:10])\n",
        "print(f'max features: {np.max(X_simple_1_feature)}')\n",
        "print(f'min features: {np.min(X_simple_1_feature)}')"
      ]
    },
    {
      "cell_type": "markdown",
      "metadata": {
        "execution": {},
        "id": "wT4YSNCg1WBR"
      },
      "source": [
        "In the visualization above a high 'feature value' corresponded to lighter colors in the center pixels and a lower feature value corresponded to darker feature values."
      ]
    },
    {
      "cell_type": "code",
      "execution_count": null,
      "metadata": {
        "execution": {},
        "id": "6sAKqAk01WBR"
      },
      "outputs": [],
      "source": [
        "# and for scalar data always good to look at a histogram\n",
        "fig, (ax1, ax2) = plt.subplots(2, 1)\n",
        "ax1.hist(X_simple_1_feature[y1_simple.flatten() == 1])\n",
        "ax1.set_title('Feature Distribution When Strike is Correct')\n",
        "ax2.hist(X_simple_1_feature[y1_simple.flatten() == 0])\n",
        "ax2.set_title('Feature Distribution When No-Strike is Correct')\n",
        "plt.show()"
      ]
    },
    {
      "cell_type": "markdown",
      "metadata": {
        "execution": {},
        "id": "eGEBD_4v1WBR"
      },
      "source": [
        "Looking at the distribution of the feature across these two classes (strike vs. no-strike situations), we see that we should be able to correctly discriminate between these two cases most of the time using just this one feature."
      ]
    },
    {
      "cell_type": "markdown",
      "metadata": {
        "execution": {},
        "id": "AWLKuUME1WBR"
      },
      "source": [
        "Now, if we were acting as scientists (which we sometimes do!), we'd think hard and carefully about the specific physical processes behind these features (the ML term for model/sensory inputs) and labels (the ML term for 'correct answer'), and this would guide the types of analyses to perform on the data and the kinds of inferences and conclusions we could draw.\n",
        "But in this moment, we're not acting as scientists in pursuit of deep understanding; we're acting as algorithm designers focused on figuring out how to do the right thing. We want to come up with a process for 'learning a function' that takes this feature as an input and generates the correct behaviour (as defined by the labels) as output. A zero label means no strike is the right thing to do (no prey present) and a one label means striking is the right thing to do (prey are present).  "
      ]
    },
    {
      "cell_type": "markdown",
      "metadata": {
        "execution": {},
        "id": "BS6eL35o1WBR"
      },
      "source": [
        "As inspiration for our learning algorithm we imagine a very simple organism. One that has a single sensory input neuron, in turn connected to a single output neuron by single synaptic weight. If the output neuron fires (spikes) the predator strikes, and if it does not fire the predator does not strike.\n",
        "\n",
        "We model this creature's sensory-behaviour system as follows. Let $x$ be the raw sensory input (scalar) in a given episode. We imagine that $x$ corresponds to the activation level and firing rate of a single photosensitive neuron. This input neuron is then connected by a synapse to a single output neuron. The activation level of this output neuron is computed as\n",
        "$$y = wx + b$$\n",
        "Here, $b$ is the (scalar) bias, or baseline activation level of the output neuron and $w$ is the strength of the synaptic weight between the input neuron and the output neuron. Is this case there is only one output and one input so $w$ is a scalar. In cases with multiple inputs and outputs we would use $\\mathbf{W}$ to denote the matrix of such synaptic weights and $\\mathbf{x}$ to denote the vector of sensory inputs. (A quick notation reminder: bold lowercase letters typically represent column vectors, bold uppercase letters typically denote matrices or higher-order tensors.) We imagine that the probabilistic spiking of this output neuron determines the strike-no-strike behaviour of the organism, specifically:\n",
        "$$ \\Pr \\{\\text{strike}\\} = \\sigma(y) $$\n",
        "$$ \\Pr \\{\\text{no strike}\\} = 1 - \\sigma(y)$$\n",
        "\n",
        "Here $\\sigma(y): \\frac{1}{1+e^{-y}} = \\frac{e^y}{1+e^y}$ is the standard logistic (sigmoid) function."
      ]
    },
    {
      "cell_type": "markdown",
      "metadata": {
        "execution": {},
        "id": "qVb6gURi1WBR"
      },
      "source": [
        "--Picture of this very simple neural circuit here--"
      ]
    },
    {
      "cell_type": "markdown",
      "metadata": {
        "execution": {},
        "id": "RSBZ6LMI1WBR"
      },
      "source": [
        "**Quick Math Exercise: The Connection Between Softmax Normalization and the Standard Logistic Sigmoid.**\n",
        "\n",
        "Consider a random variable with two possible outcomes, $A$ and $B$. The probability of each outcome is determined by applying the softmax function to their respective scores, $a$ and $b$. Specifically, the probability of outcome $A$ occurring is given by the softmax formula:\n",
        "$$ \\Pr \\{A\\} = \\frac{e^a}{e^a + e^b}$$\n",
        "Interestingly, $\\Pr\\{A\\}$ can be expressed in terms of the logistic (sigmoid) function, $\\sigma(x)$, where $x$ is a function of the scores $a$ and $b$. Your task is to determine this function, denoted as $f(a, b)$, so that $\\Pr{A} = \\sigma(f(a, b))$.\n",
        "\n",
        "(Answer: $$\\frac{e^a}{e^a + e^b} = \\frac{1}{1 + e^{b-a}} = \\sigma(a-b)$$\n",
        "The sigmoid of the difference in the scores gives the probability.)"
      ]
    },
    {
      "cell_type": "markdown",
      "metadata": {
        "execution": {},
        "id": "uhFdaqe31WBS"
      },
      "source": [
        "Having established how behaviour is determined by sensory input, $x$, and parameters $w$, $b$, i.e. our policy, we now need to develop a rule for modifying this policy based on environmental feedback.\n",
        "\n",
        "Our goal is to come up with a rule that prescribes changes to the synaptic weight $w$ and bias $b$ in such a way that the reward obtained over time increases (and ideally approaches the theoretical maximum over many learning trials).\n",
        "\n",
        "Our previous 'guess and check' learning method from sequence 1.3.4, while not the most efficient, proved effective, as were the 'propose and reject' style algorithms that we explored earlier and that are akin to what evolution by natural selection implements. Building on this idea of 'propose and reject' we will perturb the existing parameters by a small amount and evaluate the behaviour function using the perturbed parameters. However, instead of just simply accepting or rejecting the proposed parameters (kind of like natural selection does) we will instead ***measure the relationship between the change in the performance of the organism (in terms of reward obtained) and the changes in the parameters.*** An update will then be applied to the weights that is ***proportional*** to the ***measured performance changes*** over the ***measured parameter changes***, i.e. an estimate of the rate of change in performance for changes in the parameters. As a word equation\n",
        "\n",
        "$$ \\text{Parameter Update} = \\alpha \\cdot \\frac{\\text{Measured Perturbation in Performance}}{\\text{Measured Perturbation in Parameters}}$$\n",
        "\n",
        "where $\\alpha$ is some constant of proportionality, in this case usually called the learning rate or step-size meta-parameter of the learning algorithm.\n",
        "\n",
        "On the one hand we might expect a 'measure and update' method to be more efficient than a 'propose and reject' method, because with a 'propose and reject' algorithm we don't make any parameter updates unless 'better' parameters are proposed. This means that most of the information from evaluation is thrown away every time parameters are rejected. In contrast, a 'measure and update' method will always updated the parameters using the information gleaned from the tested parameters. However, unlike the 'propose and reject' algorithm it's possible that the updates made by a 'measure and update' approach do not actually improve performance.\n",
        "\n",
        "Let's try it and see."
      ]
    },
    {
      "cell_type": "code",
      "execution_count": null,
      "metadata": {
        "execution": {},
        "id": "MrYfKMp61WBS"
      },
      "outputs": [],
      "source": [
        "################################################################################\n",
        "# TODO for students: Complete the lines with ... to implement a parameter\n",
        "# evaluation function\n",
        "raise NotImplementedError(\"Exercise: parameter evaluation\")\n",
        "################################################################################\n",
        "\n",
        "\n",
        "def np_sigmoid(x):\n",
        "  return 1 / (1 + np.exp(-x))\n",
        "\n",
        "\n",
        "def eval_params_slow(w, b, x, y):\n",
        "  \"\"\"\n",
        "  evaluates parameters of simple behaviour circuit given inputs and target\n",
        "  outputs, use for loops to think carefully about what we're doing\n",
        "  Args:\n",
        "    w: (scalar) weight between sensory and output neuron\n",
        "    b: (scalar) bias of behavioural output neuron\n",
        "    x: (1 np.array x batch) sensory input\n",
        "       (can be single input, mini-batch of inputs or the whole batch of inputs)\n",
        "    y: (1 np.array x batch) target behavioural output (can be a single target,\n",
        "       mini-batch of targets, or whole batch), needs to correspond to input\n",
        "\n",
        "  Returns:\n",
        "    R_bar: the average/expected reward obtained given the parameters, over the\n",
        "           (mini-)batch of inputs and targets. (mini-batch could be size 1)\n",
        "  \"\"\"\n",
        "  batch_len = x.shape[1]\n",
        "  h = np.zeros((1, batch_len))\n",
        "  y_hat = np.zeros((1, batch_len))\n",
        "  R_total = 0\n",
        "  for ii in range(batch_len):\n",
        "    h[0,ii] = ...\n",
        "    y_hat[0,ii] = np_sigmoid(...)\n",
        "    # y_hat is our probability of striking\n",
        "    # compute the expected score\n",
        "    if y[0,ii] == 1:\n",
        "      # supposed to strike\n",
        "      # with probability y_hat creature strikes and gets a point\n",
        "      R_total += y_hat[0,ii] * 1.0\n",
        "      # with probability 1-y_hat creature doesn't strike and gets zero points\n",
        "      R_total += (1-y_hat[0,ii]) * 0.0\n",
        "    elif y[0,ii] == 0:\n",
        "      # not supposed to strike\n",
        "      # with probability y_hat creature strikes and loses a point\n",
        "      R_total += y_hat[0,ii] * -1.0\n",
        "      # with probability 1-y_hat creature doesn't strike and gets zero points\n",
        "      R_total += (1-y_hat[0,ii]) * 0.0\n",
        "    else:\n",
        "      raise ValueError(f'Unexpected target: {y[ii,0]}')\n",
        "  R_avg = R_total / batch_len\n",
        "  return R_avg\n",
        "\n",
        "\n",
        "def eval_params(w, b, x, y):\n",
        "  \"\"\"\n",
        "  evaluates parameters of simple behaviour circuit given inputs and target\n",
        "  outputs, use numpy broadcasting to be fast and concise\n",
        "  Args:\n",
        "    w: (scalar) weight between sensory and output neuron\n",
        "    b: (scalar) bias of behavioural output neuron\n",
        "    x: (batch x 1 np.array) sensory input\n",
        "       (can be single input, mini-batch of inputs or the whole batch of inputs)\n",
        "    y: (batch x 1 np.array) target behavioural output (can be a single target,\n",
        "       mini-batch of targets, or whole batch), needs to correspond to input\n",
        "\n",
        "  Returns:\n",
        "    R_bar: the average/expected reward obtained given the parameters, over the\n",
        "           (mini-)batch of inputs and targets. (mini-batch could be size 1)\n",
        "  \"\"\"\n",
        "  h = w * x + b\n",
        "  y_hat = np_sigmoid(h)\n",
        "  y_score = np.copy(y)\n",
        "  y_score[y_score == 0] = -1\n",
        "  batch_expected_reward = y_score * y_hat\n",
        "  R_avg = np.mean(batch_expected_reward)\n",
        "  return R_avg"
      ]
    },
    {
      "cell_type": "code",
      "execution_count": null,
      "metadata": {
        "execution": {},
        "id": "kD8dYNlV1WBS"
      },
      "outputs": [],
      "source": [
        "# to_remove solution\n",
        "\n",
        "def np_sigmoid(x):\n",
        "  return 1 / (1 + np.exp(-x))\n",
        "\n",
        "\n",
        "def eval_params_slow(w, b, x, y):\n",
        "  \"\"\"\n",
        "  evaluates parameters of simple behaviour circuit given inputs and target\n",
        "  outputs, use for loops to think carefully about what we're doing\n",
        "  Args:\n",
        "    w: (scalar) weight between sensory and output neuron\n",
        "    b: (scalar) bias of behavioural output neuron\n",
        "    x: (1 np.array x batch) sensory input\n",
        "       (can be single input, mini-batch of inputs or the whole batch of inputs)\n",
        "    y: (1 np.array x batch) target behavioural output (can be a single target,\n",
        "       mini-batch of targets, or whole batch), needs to correspond to input\n",
        "\n",
        "  Returns:\n",
        "    R_bar: the average/expected reward obtained given the parameters, over the\n",
        "           (mini-)batch of inputs and targets. (mini-batch could be size 1)\n",
        "  \"\"\"\n",
        "  batch_len = x.shape[1]\n",
        "  h = np.zeros((1, batch_len))\n",
        "  y_hat = np.zeros((1, batch_len))\n",
        "  R_total = 0\n",
        "  for ii in range(batch_len):\n",
        "    h[0,ii] = w * x[0,ii] + b\n",
        "    y_hat[0,ii] = np_sigmoid(h[0,ii])\n",
        "    # y_hat is our probability of striking\n",
        "    # compute the expected score\n",
        "    if y[0,ii] == 1:\n",
        "      # supposed to strike\n",
        "      # with probability y_hat creature strikes and gets a point\n",
        "      R_total += y_hat[0,ii] * 1.0\n",
        "      # with probability 1-y_hat creature doesn't strike and gets zero points\n",
        "      R_total += (1-y_hat[0,ii]) * 0.0\n",
        "    elif y[0,ii] == 0:\n",
        "      # not supposed to strike\n",
        "      # with probability y_hat creature strikes and loses a point\n",
        "      R_total += y_hat[0,ii] * -1.0\n",
        "      # with probability 1-y_hat creature doesn't strike and gets zero points\n",
        "      R_total += (1-y_hat[0,ii]) * 0.0\n",
        "    else:\n",
        "      raise ValueError(f'Unexpected target: {y[ii,0]}')\n",
        "  R_avg = R_total / batch_len\n",
        "  return R_avg\n",
        "\n",
        "\n",
        "def eval_params(w, b, x, y):\n",
        "  \"\"\"\n",
        "  evaluates parameters of simple behaviour circuit given inputs and target\n",
        "  outputs, use numpy broadcasting to be fast and concise\n",
        "  Args:\n",
        "    w: (scalar) weight between sensory and output neuron\n",
        "    b: (scalar) bias of behavioural output neuron\n",
        "    x: (batch x 1 np.array) sensory input\n",
        "       (can be single input, mini-batch of inputs or the whole batch of inputs)\n",
        "    y: (batch x 1 np.array) target behavioural output (can be a single target,\n",
        "       mini-batch of targets, or whole batch), needs to correspond to input\n",
        "\n",
        "  Returns:\n",
        "    R_bar: the average/expected reward obtained given the parameters, over the\n",
        "           (mini-)batch of inputs and targets. (mini-batch could be size 1)\n",
        "  \"\"\"\n",
        "  h = w * x + b\n",
        "  y_hat = np_sigmoid(h)\n",
        "  y_score = np.copy(y)\n",
        "  y_score[y_score == 0] = -1\n",
        "  batch_expected_reward = y_score * y_hat\n",
        "  R_avg = np.mean(batch_expected_reward)\n",
        "  return R_avg"
      ]
    },
    {
      "cell_type": "markdown",
      "metadata": {
        "execution": {},
        "id": "zJB4eb291WBS"
      },
      "source": [
        "In this exercise, we actually implemented the same function twice, once using a for loop to iterate over the (mini-)batch of inputs and targets, and once using NumPy broadcasting to compute the batch reward (roughly) in parallel. Run the following code cells to see what kind of computational efficiency this buys us."
      ]
    },
    {
      "cell_type": "code",
      "execution_count": null,
      "metadata": {
        "execution": {},
        "id": "5M2Xr5bf1WBS"
      },
      "outputs": [],
      "source": [
        "X_simple_1_feature.T.shape"
      ]
    },
    {
      "cell_type": "code",
      "execution_count": null,
      "metadata": {
        "execution": {},
        "id": "x-dVrE831WBT"
      },
      "outputs": [],
      "source": [
        "eval_params_slow(1, 0, X_simple_1_feature.T, y1_simple.T)"
      ]
    },
    {
      "cell_type": "code",
      "execution_count": null,
      "metadata": {
        "execution": {},
        "id": "CvPOstv-1WBT"
      },
      "outputs": [],
      "source": [
        "eval_params(1, 0, X_simple_1_feature.T, y1_simple.T)"
      ]
    },
    {
      "cell_type": "code",
      "execution_count": null,
      "metadata": {
        "execution": {},
        "id": "Z_ZdNWS71WBT"
      },
      "outputs": [],
      "source": [
        "%timeit eval_params_slow(1, 0, X_simple_1_feature.T, y1_simple.T)"
      ]
    },
    {
      "cell_type": "code",
      "execution_count": null,
      "metadata": {
        "execution": {},
        "id": "DwsYSiSM1WBT"
      },
      "outputs": [],
      "source": [
        "%timeit eval_params(1, 0, X_simple_1_feature.T, y1_simple.T)"
      ]
    },
    {
      "cell_type": "markdown",
      "metadata": {
        "execution": {},
        "id": "wMHy0yJs1WBT"
      },
      "source": [
        "In our specific example (on the specific COLAB instance we're writing this on in 2024), the broadcasting approach in Python, using NumPy, is approximately 50 times faster than using for-loops. This is because for-loops in interpreted languages like Python incur significant overhead at each iteration, but also because potential dependencies between loop iterations limit parallelization. In contrast, broadcasting allows for vectorized operations, enabling parallel execution that can harness more of the underlying hardware's computational power. NumPy enhances this efficiency further by utilizing highly optimized, pre-compiled linear algebra libraries (primarily hardware-specific implementations of BLAS and LAPACK). The same principles apply (though are sometimes less critical) in compiled languages or with Just-In-Time (JIT) compilation frameworks like JAX. Broadcasting or tensor notation not only improves performance but also maintains code brevity and alignment with mathematical notation. As scientists and programmers, we do not need to understand every detail of how the magic of computational parallelism allows for fast linear algebra, but it is crucial to appreciate the potential impacts on computational efficiency."
      ]
    },
    {
      "cell_type": "markdown",
      "metadata": {
        "execution": {},
        "id": "0_7j3Uqx1WBT"
      },
      "source": [
        "Okay, so we have the ability to evaluate the parameters in terms of the average score they yield when applied across the whole dataset of example pairs of sensory inputs and correct actions. In each iteration of our learning (training) loop, we will perturb our parameters using Gaussian noise and ***measure the relationship*** between the parameter changes and the average expected reward as determined by our evaluation function. After measuring this relationship, we will update each parameter in proportion to the rate of improvement of the score with respect to the change in the underlying parameter."
      ]
    },
    {
      "cell_type": "code",
      "execution_count": null,
      "metadata": {
        "cellView": "form",
        "execution": {},
        "id": "mmh9nnkN1WBU"
      },
      "outputs": [],
      "source": [
        "# @title Measure and Update Training Loop"
      ]
    },
    {
      "cell_type": "code",
      "execution_count": null,
      "metadata": {
        "execution": {},
        "id": "XlonS2sV1WBU"
      },
      "outputs": [],
      "source": [
        "################################################################################\n",
        "# TODO for students: Complete the lines with ... to implement a parameter\n",
        "# evalution function\n",
        "raise NotImplementedError(\"Exercise: Measure and Update Training Loop\")\n",
        "################################################################################\n",
        "\n",
        "\n",
        "learn_rng = np.random.default_rng(0)\n",
        "num_learning_episodes = 100000\n",
        "alpha = 100 #learning rate / step size\n",
        "perturbation_scale = 0.01 # std of Gaussian parameter perturbations\n",
        "w_init = 1\n",
        "b_init = 0\n",
        "w = w_init\n",
        "b = b_init\n",
        "start_time = time.time()\n",
        "for ii in range(num_learning_episodes+1):\n",
        "  R_bar_old = eval_params(w, b, X_simple_1_feature.T, y1_simple.T)\n",
        "  # perturb w and evaluate\n",
        "  w_perturbation = learn_rng.normal(0, perturbation_scale)\n",
        "  w_perturbed = w + ...\n",
        "  R_bar_perturbed_w = eval_params(..., b, X_simple_1_feature.T, y1_simple.T)\n",
        "  # perturb b and evaluate\n",
        "  b_perturbation = learn_rng.normal(0, perturbation_scale)\n",
        "  b_perturbed = b + ...\n",
        "  R_bar_perturbed_b = eval_params(..., b_perturbed, X_simple_1_feature, y1_simple)\n",
        "  # estimate rate of change of reward for each parameter\n",
        "  finite_difference_w = ...\n",
        "  finite_difference_b = ...\n",
        "  # update parameters based on finte difference estimate rate of change\n",
        "  # of reward with respect to parameters\n",
        "  delta_w = alpha * finite_difference_w\n",
        "  delta_b = alpha * finite_difference_b\n",
        "  w += delta_w\n",
        "  b += delta_b\n",
        "\n",
        "  if ii == 0 or ii % 5000 == 0:\n",
        "    elapsed_time = time.time() - start_time\n",
        "    print(f'{\"Iteration\":>12}: {ii:<6} | {\"w\":>1}={w:<8.4f} | {\"b\":>1}={b:<8.4f} | {\"R_bar\":>5}={R_bar_old:<8.6f} | {\"Time\":>4}={elapsed_time:<5.2f} seconds')"
      ]
    },
    {
      "cell_type": "code",
      "execution_count": null,
      "metadata": {
        "execution": {},
        "id": "R-08fuQk1WBU"
      },
      "outputs": [],
      "source": [
        "# to_remove solution\n",
        "\n",
        "learn_rng = np.random.default_rng(0)\n",
        "num_learning_episodes = 100000\n",
        "alpha = 100 #learning rate / step size\n",
        "perturbation_scale = 0.01 # std of Gaussian parameter perturbations\n",
        "w_init = 1\n",
        "b_init = 0\n",
        "w = w_init\n",
        "b = b_init\n",
        "start_time = time.time()\n",
        "for ii in range(num_learning_episodes+1):\n",
        "  R_bar_old = eval_params(w, b, X_simple_1_feature.T, y1_simple.T)\n",
        "  # perturb w and evaluate\n",
        "  w_perturbation = learn_rng.normal(0, perturbation_scale)\n",
        "  w_perturbed = w + w_perturbation\n",
        "  R_bar_perturbed_w = eval_params(w_perturbed, b, X_simple_1_feature.T, y1_simple.T)\n",
        "  # perturb b and evaluate\n",
        "  b_perturbation = learn_rng.normal(0, perturbation_scale)\n",
        "  b_perturbed = b + b_perturbation\n",
        "  R_bar_perturbed_b = eval_params(w, b_perturbed, X_simple_1_feature, y1_simple)\n",
        "  # estimate rate of change of reward for each parameter\n",
        "  finite_difference_w = (R_bar_perturbed_w - R_bar_old) / w_perturbation\n",
        "  finite_difference_b = (R_bar_perturbed_b - R_bar_old) / b_perturbation\n",
        "  # update parameters based on finte difference estimate rate of change\n",
        "  # of reward with respect to parameters\n",
        "  delta_w = alpha * finite_difference_w\n",
        "  delta_b = alpha * finite_difference_b\n",
        "  w += delta_w\n",
        "  b += delta_b\n",
        "\n",
        "  if ii == 0 or ii % 5000 == 0:\n",
        "    elapsed_time = time.time() - start_time\n",
        "    print(f'{\"Iteration\":>12}: {ii:<6} | {\"w\":>1}={w:<8.4f} | {\"b\":>1}={b:<8.4f} | {\"R_bar\":>5}={R_bar_old:<8.6f} | {\"Time\":>4}={elapsed_time:<5.2f} seconds')"
      ]
    },
    {
      "cell_type": "markdown",
      "metadata": {
        "execution": {},
        "id": "W7cJt4tz1WBU"
      },
      "source": [
        "Is an R_bar of 0.4951... good or bad? Let's look at the data. How many striking opportunities are there, versus situation where no-strike is best?"
      ]
    },
    {
      "cell_type": "code",
      "execution_count": null,
      "metadata": {
        "execution": {},
        "id": "rK-CxLmi1WBU"
      },
      "outputs": [],
      "source": [
        "# number of striking opportunities\n",
        "np.sum(y1_simple == 1)"
      ]
    },
    {
      "cell_type": "code",
      "execution_count": null,
      "metadata": {
        "execution": {},
        "id": "yidhPMTf1WBV"
      },
      "outputs": [],
      "source": [
        "#number of non-strike situations\n",
        "np.sum(y1_simple == 0)"
      ]
    },
    {
      "cell_type": "code",
      "execution_count": null,
      "metadata": {
        "execution": {},
        "id": "7SriK6Rl1WBV"
      },
      "outputs": [],
      "source": [
        "# proportion of situations where a point can be earned\n",
        "571 / (571 + 554)"
      ]
    },
    {
      "cell_type": "markdown",
      "metadata": {
        "execution": {},
        "id": "TjOdKFOT1WBV"
      },
      "source": [
        "So, back to our question: Is an average score of 0.4951... per round good? Well, yes. A perfect score is ~0.5075. Given that we have only a single feature - that can't perfectly separate the two cases as the feature distributions for each case overlap - we are bound to have a few false positives and false negatives. These will lower the score a bit, but for the most part, this is roughly as good as can be expected."
      ]
    },
    {
      "cell_type": "markdown",
      "metadata": {
        "execution": {},
        "id": "cN_2-dSs1WBV"
      },
      "source": [
        "**Algorithmic Thinking Exercise:**\n",
        "\n",
        "In the 'measure and update' learning loop implemented above, we perturb each parameter, measure the effect of perturbations, and then update the parameters. Alternatively we could have perturbed the $w$ parameter, evaluated and then updated the $w$ parameter, and then perturbed the $b$ parameter, evaluated, and then updated the $b$ parameter.\n",
        "1. In the implementation above how many times is the `eval_params` function called per iteration?\n",
        "\n",
        "  (Answer: 3)\n",
        "2. If we used the alternative method where each parameter is updated and evaluated separately, how many times would eval_params need to be called per iteration?\n",
        "\n",
        "  (Answer: 4, After updating $w$ we can't simply use `R_bar_old` to measure the change in performance from changing $b$ since `R_bar_perturbed_b` will be computed using the updated $w$. An `R_bar_new_w_old_b` will need to be computed and used to inform the changes to $b$.)\n",
        "3. If we had $n$ parameters instead of 2, how many times would the `eval_params` function be called per iteration in the implementation above?\n",
        "\n",
        "  (Answer: $n+1$)\n",
        "4. If we had $n$ parameters instead of 2, how many times would the `eval_params` function be called per iteration in the alternate implementation?\n",
        "\n",
        "  (Answer: $2n$)\n",
        "\n",
        "Little details like this in implementation can make big differences to algorithm speed. Note though that this slower alternative isn't quite a dead loss. Technically the parameter updates made by the alternative algorithm, will be 'better' (precisely what we mean by better we leave aside for the moment), however, in this particular case the 'betterness' of the parameter updates is not enough to make up for the added computational cost of calling `eval_params` and extra $n-1$ times."
      ]
    },
    {
      "cell_type": "markdown",
      "metadata": {
        "execution": {},
        "id": "Mc1Kz-3l1WBV"
      },
      "source": [
        "Okay, now just as a sanity and intuition check, two questions:\n",
        "1. Do we get the same answer when we use a propose and reject method?  \n",
        "2. Is the propose and reject method quicker or slower at finding the solution?\n",
        "Let's quickly adapt the adapt 'measure and update' learning loop to do 'propose and reject' instead."
      ]
    },
    {
      "cell_type": "code",
      "execution_count": null,
      "metadata": {
        "cellView": "form",
        "execution": {},
        "id": "srAXLkuT1WBV"
      },
      "outputs": [],
      "source": [
        "# @title Propose And Reject Training Loop\n",
        "learn_rng = np.random.default_rng(0)\n",
        "num_learning_episodes = 50000\n",
        "perturbation_scale = 0.1 # std of Gaussian parameter perturbations\n",
        "w_init = 1\n",
        "b_init = 0\n",
        "w = w_init\n",
        "b = b_init\n",
        "start_time = time.time()  # Record the start time\n",
        "R_bar_best = eval_params(w, b, X_simple_1_feature.T, y1_simple.T)\n",
        "for ii in range(num_learning_episodes+1):\n",
        "  # perturb w and evaluate\n",
        "  w_perturbation = learn_rng.normal(0, perturbation_scale)\n",
        "  w_proposed = w + w_perturbation\n",
        "  R_bar_proposed = eval_params(w_proposed, b, X_simple_1_feature, y1_simple)\n",
        "  if R_bar_best < R_bar_proposed:\n",
        "    w = w_proposed\n",
        "    R_bar_best = R_bar_proposed\n",
        "  # perturb b and evaluate\n",
        "  b_perturbation = learn_rng.normal(0, perturbation_scale)\n",
        "  b_proposed = b + b_perturbation\n",
        "  R_bar_proposed = eval_params(w, b_proposed, X_simple_1_feature, y1_simple)\n",
        "  if R_bar_best < R_bar_proposed:\n",
        "    b = b_proposed\n",
        "    R_bar_best = R_bar_proposed\n",
        "\n",
        "  if ii == 0 or ii % 5000 == 0:\n",
        "    elapsed_time = time.time() - start_time\n",
        "    print(f'{\"Iteration\":>12}: {ii:<6} | {\"w\":>1}={w:<8.4f} | {\"b\":>1}={b:<8.4f} | {\"R_bar\":>5}={R_bar_best:<8.6f} | {\"Time\":>4}={elapsed_time:<5.2f} seconds')"
      ]
    },
    {
      "cell_type": "markdown",
      "metadata": {
        "execution": {},
        "id": "Z9VUCwSQ1WBW"
      },
      "source": [
        "Both 'Propose and Reject' and 'Measure and Update' get to similar answers, but 'Propose and Reject' gets there much more quickly. In part, this is because there are fewer calls to `eval_params` per iteration (2 instead of 3). Additionally, this is because the step size in parameter space remains relatively constant throughout the 'Propose and Reject' process, while in the 'Measure and Update' method, the step size in parameter space diminishes as the relative improvements in performance decrease. For these reasons, our initial hope that 'Measure and Update' might be more efficient that 'Propose and Reject' is not born out in this simple problem."
      ]
    },
    {
      "cell_type": "markdown",
      "metadata": {
        "execution": {},
        "id": "rLoSNjw11WBW"
      },
      "source": [
        "-- animation of propose and reject versus measure and update in this simple 2 parameter problem --"
      ]
    },
    {
      "cell_type": "markdown",
      "metadata": {
        "execution": {},
        "id": "HM9k7P2J1WBW"
      },
      "source": [
        "A couple things to think about here:\n",
        "1. In our 'Measure and Update' implementation above we make one perturbation and one measurement of change in reward for each parameter. What would happen if we perturbed every parameter at once and then made a single measurement of change in reward? There would only be two calls to `eval_params` per iteration, regardless of the number of parameters. Together these two `eval_params` would measure the combined effect of all the parameter changes on reward. As a result the estimated effect of any one parameter on the reward would be polluted by the effects of all the other parameter perturbations. Whether this improves or breaks the algorithm will depend on whether the efficiency from fewer `eval_params` calls compensate for the noise introduced, or if the noise make these faster parameter updates fundamentally unhelpful? In other words is it better to take more/quicker noisy steps in parameters space or fewer/slower steps in better directions?\n",
        "2. In the learning loops above the impact on reward for a perturbation is measured using the entirety of the data set available to us. In this example the data set is only ~1000 examples, but what if it consisted of trillions of examples, would it still make sense to use the entire data set to evaluate each perturbation or would it be better to evaluate parameter changes using a smaller sample from this data set? Using a smaller sample will often make evaluations faster at the price of introducing noise to the estimate of rate of reward change (on the full data set) with respect to parameter changes. Again, this is question of more/quicker noisy steps or fewer/slower careful steps in parameters space.\n",
        "3. In the learning loops above we measure the relationship between parameter changes and reward changes using a single perturbation, but could we make better parameter updates if we measured using many perturbations before updating the parameters? This would require making more evaluations per update. Whether is this is a good or bad idea again comes down to a question of more/quicker noisy parameter updates versus fewer/slower careful parameter updates. What is the right balance?\n",
        "\n",
        "For this very straightforward problem these questions may seem kind of beside the point. We have a good answer, and it didn't take too long to get, why worry about these details now? We don't really need to now, but as we'll soon see, these details become increasingly relevant as we work to extend this 'measure and update' approach to a more complex problem. Indeed, the trade-off between more/quick noisy steps and few/slow careful steps is one of the fundamental questions at the dark heart of Machine Learning."
      ]
    },
    {
      "cell_type": "code",
      "execution_count": null,
      "metadata": {
        "cellView": "form",
        "execution": {},
        "id": "h5hsCcsn1WBW"
      },
      "outputs": [],
      "source": [
        "# @markdown Submit your feedback\n",
        "content_review(f\"{feedback_prefix}_M1\")"
      ]
    },
    {
      "cell_type": "markdown",
      "metadata": {
        "execution": {},
        "id": "VVx5170U1WBX"
      },
      "source": [
        "# 2.1.1.2: Learning to Do the Right Thing - Harder\n",
        "In the previous section, we worked on a pretty simple discrimination problem, there was a single feature that, for the most part, correlated with correct times to strike and not-strike. Now we're going to look at a slightly harder problem, where the answer is less obvious (to us at least). As before, given a sensory input pattern, the problem is to determine whether or not to strike. Again, try to maximize your average score for this new problem where the 'sensory' input is more complex."
      ]
    },
    {
      "cell_type": "code",
      "execution_count": null,
      "metadata": {
        "execution": {},
        "id": "PoNk-PSu1WBX"
      },
      "outputs": [],
      "source": [
        "scramble_bin_hard = InteractiveMNISTPredator(features=Xs,\n",
        "                                             labels=y1,\n",
        "                                             feedback_type='both')\n",
        "display(scramble_bin_hard.fig.canvas)\n",
        "clear_output()\n",
        "display(scramble_bin_hard.ui)"
      ]
    },
    {
      "cell_type": "markdown",
      "metadata": {
        "execution": {},
        "id": "Jd_KBJln1WBX"
      },
      "source": [
        "So now instead of a single feature to base our strike/no-strike discrimination on, we have 64 (8x8) features to potentially inform our decision. Will our simple setup from before readily generalize to this situation with richer sensory input? Let's find out."
      ]
    },
    {
      "cell_type": "markdown",
      "metadata": {
        "execution": {},
        "id": "D2cy3xL11WBX"
      },
      "source": [
        "We model this creature's sensory-behaviour system much as before. Now, $\\mathbf{x}$ is the raw sensory input (vector) in a given episode. Each element $x_i$ of $\\mathbf{x}$ corresponds to the activation level and firing rate of a single photosensitive neuron."
      ]
    },
    {
      "cell_type": "code",
      "execution_count": null,
      "metadata": {
        "execution": {},
        "id": "U69XyJHh1WBX"
      },
      "outputs": [],
      "source": [
        "# the data set we're working with has 5620 example sensory inputs,\n",
        "# each consisting of 64 (8x8) values\n",
        "print(Xs.shape)"
      ]
    },
    {
      "cell_type": "code",
      "execution_count": null,
      "metadata": {
        "execution": {},
        "id": "V-LjU2oK1WBY"
      },
      "outputs": [],
      "source": [
        "# this is the first example\n",
        "print(Xs[0].reshape(8,8,))"
      ]
    },
    {
      "cell_type": "code",
      "execution_count": null,
      "metadata": {
        "execution": {},
        "id": "QgHeKgUn1WBY"
      },
      "outputs": [],
      "source": [
        "# visualizing the example we see that lower values correspond to darker pixels\n",
        "# and higher values correspond to lighter values\n",
        "fig, ax = plt.subplots(figsize=(4,4))\n",
        "remove_ip_clutter(fig)\n",
        "ax.imshow(Xs[0].reshape(8,8), cmap='gray')\n",
        "plt.show()"
      ]
    },
    {
      "cell_type": "markdown",
      "metadata": {
        "execution": {},
        "id": "h1HMByOF1WBY"
      },
      "source": [
        "These input neurons are then connected by synapses to a single output neuron. The activation level of this output neuron is computed as\n",
        "$$y = \\mathbf{Wx} + b$$\n",
        "Here, $b$ is the (scalar) bias, or baseline activation level of the output neuron, and $\\mathbf{W}$ is a matrix of synaptic weights between the input neurons and the single output neuron. (In this case where there is only one output neuron so $\\mathbf{W}$ has shape 1x64 so could also be thought of as a row vector.)  As before, the probabilistic spiking of this output neuron determines the strike-no-strike behaviour of the organism, specifically:\n",
        "$$ \\Pr \\{\\text{strike}\\} = \\sigma(y) $$\n",
        "$$ \\Pr \\{\\text{no strike}\\} = 1 - \\sigma(y)$$\n",
        "\n",
        "Recall that $\\sigma(y): \\frac{1}{1+e^{-y}} = \\frac{e^y}{1+e^y}$ is the standard logistic (sigmoid) function."
      ]
    },
    {
      "cell_type": "code",
      "execution_count": null,
      "metadata": {
        "execution": {},
        "id": "4gbPaJas1WBa"
      },
      "outputs": [],
      "source": [
        "# the eval_params function needs to be adapted\n",
        "# to work with this richer sensory input\n",
        "def eval_params_rich(W, b, x, y):\n",
        "  \"\"\"\n",
        "  evaluates parameters of simple behaviour circuit given inputs and target\n",
        "  outputs, use numpy broadcasting to be fast and concise\n",
        "  Args:\n",
        "    W: (outputs(1) x inputs(64) np.array)\n",
        "       weights between sensory neurons and output neuron\n",
        "    b: (scalar) bias of behavioural output neuron\n",
        "    x: (input(64) x batch np.array) sensory input\n",
        "       (can be single input, mini-batch of inputs or the whole batch of inputs)\n",
        "    y: (outputs(1) x batch np.array) target behavioural output\n",
        "       (can be a single target, mini-batch of targets, or whole batch),\n",
        "       needs to correspond to input\n",
        "\n",
        "  Returns:\n",
        "    R_bar: the average/expected reward obtained given the parameters, over the\n",
        "           (mini-)batch of inputs and targets. (mini-batch could be size 1)\n",
        "  \"\"\"\n",
        "  h = np.dot(W,x) + b # 1 x batch\n",
        "  y_hat = np_sigmoid(h) # 1 x batch\n",
        "  y_score = np.copy(y)\n",
        "  y_score[y_score == 0] = -1\n",
        "  batch_expected_reward = y_score * y_hat\n",
        "  R_bar = np.mean(batch_expected_reward)\n",
        "  return R_bar"
      ]
    },
    {
      "cell_type": "code",
      "execution_count": null,
      "metadata": {
        "execution": {},
        "id": "gNwHuHgt1WBb"
      },
      "outputs": [],
      "source": [
        "eval_params_rich(np.ones((1,64)), 0, Xs.T, y1.T)"
      ]
    },
    {
      "cell_type": "code",
      "execution_count": null,
      "metadata": {
        "execution": {},
        "id": "-y4AhMMO1WBb"
      },
      "outputs": [],
      "source": [
        "%timeit eval_params_rich(np.ones((1,64)), 0, Xs.T, y1.T)"
      ]
    },
    {
      "cell_type": "markdown",
      "metadata": {
        "execution": {},
        "id": "oQzyKLKD1WBb"
      },
      "source": [
        "That's working and relatively quick now let's adapt our learning loop for this new setup."
      ]
    },
    {
      "cell_type": "code",
      "execution_count": null,
      "metadata": {
        "cellView": "form",
        "execution": {},
        "id": "VO11Qm2R1WBc"
      },
      "outputs": [],
      "source": [
        "# @title Measure and Update Training Loop\n",
        "\n",
        "learn_rng = np.random.default_rng(0)\n",
        "num_learning_episodes = 2000\n",
        "alpha = 0.5 #learning rate or step size\n",
        "perturbation_scale = 0.001 # std of gaussian perturbations\n",
        "W_init = np.zeros((1,64))\n",
        "b_init = 0\n",
        "W = W_init\n",
        "b = b_init\n",
        "start_time = time.time()\n",
        "for ii in range(num_learning_episodes+1):\n",
        "  R_bar_old = eval_params_rich(W, b, Xs.T, y1.T)\n",
        "  # get perturbations for W all at once\n",
        "  W_perturbations = learn_rng.normal(0, perturbation_scale, size=(1,64))\n",
        "  #perturb and evaluate each W_j separately\n",
        "  finite_differences_W = np.zeros(W.shape)\n",
        "  for j in range(W_perturbations.shape[1]):\n",
        "    W_perturbed = np.copy(W)\n",
        "    W_perturbed[0,j] += W_perturbations[0,j]\n",
        "    R_bar_perturbed_Wj = eval_params_rich(W_perturbed, b, Xs.T, y1.T)\n",
        "    finite_difference_Wj = (R_bar_perturbed_Wj - R_bar_old) / W_perturbations[0,j]\n",
        "    finite_differences_W[0,j] = finite_difference_Wj\n",
        "  # perturb b and evaluate\n",
        "  b_perturbation = learn_rng.normal(0, perturbation_scale)\n",
        "  b_perturbed = b + b_perturbation\n",
        "  R_bar_perturbed_b = eval_params_rich(W, b_perturbed, Xs.T, y1.T)\n",
        "  # estimate rate of change of reward for each parameter\n",
        "  finite_difference_b = (R_bar_perturbed_b - R_bar_old) / b_perturbation\n",
        "  # update parameters based on finte difference estimate rate of change\n",
        "  # of reward with respect to parameters\n",
        "  delta_W = alpha * finite_differences_W\n",
        "  delta_b = alpha * finite_difference_b\n",
        "  W += delta_W\n",
        "  b += delta_b\n",
        "\n",
        "  if ii == 0 or ii % 100 == 0:\n",
        "    elapsed_time = time.time() - start_time\n",
        "    print(f'{\"Iteration\":>12}: {ii:<6} | {\"W_0\":>1}={W[0,0]:<8.4f} | {\"b\":>1}={b:<8.4f} | {\"R_bar\":>5}={R_bar_old:<8.6f} | {\"Time\":>4}={elapsed_time:<5.2f} seconds')"
      ]
    },
    {
      "cell_type": "markdown",
      "metadata": {
        "execution": {},
        "id": "mkwFZoSU1WBc"
      },
      "source": [
        "So it looks like this is learning to do an okay job. A quick inspection of the data tells us that doing perfect discrimination would give an average score of 0.503... per round.\n",
        "\n"
      ]
    },
    {
      "cell_type": "code",
      "execution_count": null,
      "metadata": {
        "execution": {},
        "id": "JUpp3swa1WBc"
      },
      "outputs": [],
      "source": [
        "# There are this many cases where striking is the right thing to do\n",
        "np.sum(y1 == 1)"
      ]
    },
    {
      "cell_type": "code",
      "execution_count": null,
      "metadata": {
        "execution": {},
        "id": "TLyN1UUk1WBc"
      },
      "outputs": [],
      "source": [
        "# And this many cases where striking is the wrong thing to do\n",
        "np.sum(y1 == 0)"
      ]
    },
    {
      "cell_type": "code",
      "execution_count": null,
      "metadata": {
        "execution": {},
        "id": "ct8HGexg1WBc"
      },
      "outputs": [],
      "source": [
        "# So this the average score per round with perfect discrimination\n",
        "np.sum(y1 == 1) / (len(y1))"
      ]
    },
    {
      "cell_type": "markdown",
      "metadata": {
        "execution": {},
        "id": "z1GEogqC1WBc"
      },
      "source": [
        "Without benchmarks, it's hard to know what level is possible given this particular dataset and discrimination task using this particular sensory-behaviour circuit. Not only are we unsure if this is a good result in a general sense, but we also don't know whether our less-than-perfect performance is due to limitations of the circuit architecture (the model in ML terms) or our learning algorithm's inability to find optimal parameters for the given architecture. We could always let the above learning process run for a really long time and see where it stops, but who wants to wait around for results, not us. Let's see if we can come up with some faster learning processes for this sensory-behaviour circuit."
      ]
    },
    {
      "cell_type": "code",
      "execution_count": null,
      "metadata": {
        "cellView": "form",
        "execution": {},
        "id": "9tMBgz6P1WBc"
      },
      "outputs": [],
      "source": [
        "# @markdown Submit your feedback\n",
        "content_review(f\"{feedback_prefix}_M2\")"
      ]
    },
    {
      "cell_type": "markdown",
      "metadata": {
        "execution": {},
        "id": "ByiWMW3S1WBd"
      },
      "source": [
        "# 2.1.1.3: Learning to Do the Right Thing - Faster\n",
        "\n",
        "In our simple problem 'propose and reject' was quite effective, let's see how it fares in this more complex problem. First, though, to make our programming and notation a little cleaner we are going 'hide' our bias term. We to do this by augmenting the features to include a feature that always has the value '1'. Then, the 'weight' associated with this feature, which always has a value of '1', will effectively serve as the bias term."
      ]
    },
    {
      "cell_type": "code",
      "execution_count": null,
      "metadata": {
        "execution": {},
        "id": "QGE_WrhC1WBd"
      },
      "outputs": [],
      "source": [
        "# Before augmentation this is the shape of the feature set\n",
        "Xs.shape"
      ]
    },
    {
      "cell_type": "code",
      "execution_count": null,
      "metadata": {
        "execution": {},
        "id": "EidQO-5i1WBd"
      },
      "outputs": [],
      "source": [
        "# After augmentation there is one extra column of features\n",
        "Xs_aug = np.hstack([Xs, np.ones((Xs.shape[0],1))])\n",
        "print(Xs_aug.shape)"
      ]
    },
    {
      "cell_type": "code",
      "execution_count": null,
      "metadata": {
        "execution": {},
        "id": "76wGesr31WBd"
      },
      "outputs": [],
      "source": [
        "# We need to tweak our eval_params function to work with this augmented\n",
        "# feature set\n",
        "\n",
        "def eval_params_aug(W, x, y):\n",
        "  \"\"\"\n",
        "  evaluates parameters of simple behaviour circuit given inputs and target\n",
        "  outputs, use numpy broadcasting to be fast and concise\n",
        "  Args:\n",
        "    W: (outputs(1) x inputs(64) np.array)\n",
        "       weights between sensory neurons and output neuron\n",
        "    x: (input(64) x batch np.array) sensory input\n",
        "       (can be single input, mini-batch of inputs or the whole batch of inputs)\n",
        "    y: (outputs(1) x batch np.array) target behavioural output\n",
        "       (can be a single target, mini-batch of targets, or whole batch),\n",
        "       needs to correspond to input\n",
        "\n",
        "  Returns:\n",
        "    R_bar: the average/expected reward obtained given the parameters, over the\n",
        "           (mini-)batch of inputs and targets. (mini-batch could be size 1)\n",
        "  \"\"\"\n",
        "  h = np.dot(W,x) # 1 x batch\n",
        "  y_hat = np_sigmoid(h) # 1 x batch\n",
        "  y_score = np.copy(y)\n",
        "  y_score[y_score == 0] = -1\n",
        "  batch_expected_reward = y_score * y_hat\n",
        "  R_bar = np.mean(batch_expected_reward)\n",
        "  return R_bar"
      ]
    },
    {
      "cell_type": "markdown",
      "metadata": {
        "execution": {},
        "id": "voZTwDp91WBd"
      },
      "source": [
        "This is what 'propose and reject' looks like for this harder problem:"
      ]
    },
    {
      "cell_type": "code",
      "execution_count": null,
      "metadata": {
        "cellView": "form",
        "execution": {},
        "id": "au90M3_G1WBd"
      },
      "outputs": [],
      "source": [
        "# @title Propose and Reject Training Loop\n",
        "learn_rng = np.random.default_rng(0)\n",
        "num_learning_episodes = 2000\n",
        "perturbation_scale = 0.1 # std of gaussian perturbations\n",
        "W_init = np.zeros((1,65))\n",
        "W = W_init\n",
        "start_time = time.time()\n",
        "R_bar_best = eval_params_aug(W, Xs_aug.T, y1.T)\n",
        "for ii in range(num_learning_episodes+1):\n",
        "  W_perturbations = learn_rng.normal(0, perturbation_scale, size=(1,65))\n",
        "  #perturb and evaluate each W_j separately\n",
        "  finite_differences_W = np.zeros(W.shape)\n",
        "  for j in range(W_perturbations.shape[1]):\n",
        "    #perturb W\n",
        "    W[0,j] += W_perturbations[0,j]\n",
        "    R_bar_perturbed = eval_params_aug(W, Xs_aug.T, y1.T)\n",
        "    if R_bar_perturbed > R_bar_best:\n",
        "      # leave the perturbation in place and update the best\n",
        "      R_bar_best = R_bar_perturbed\n",
        "    else:\n",
        "      #undo the perturbation\n",
        "      W[0,j] -= W_perturbations[0,j]\n",
        "  if ii == 0 or ii % 100 == 0:\n",
        "    elapsed_time = time.time() - start_time\n",
        "    print(f'{\"Iteration\":>12}: {ii:<6} | {\"W_0\":>1}={W[0,0]:<8.4f} | {\"b\":>1}={W[0,-1]:<8.4f} | {\"R_bar\":>5}={R_bar_best:<8.6f} | {\"Time\":>4}={elapsed_time:<5.2f} seconds')"
      ]
    },
    {
      "cell_type": "markdown",
      "metadata": {
        "execution": {},
        "id": "wn8V4sOR1WBd"
      },
      "source": [
        "This 'propose and reject' method was faster, in that, although it took as long per iteration, the iterations got to a higher `R_bar` more quickly. Again we could run this for a long time and see where improvement really caps out, but we wont' just now.\n",
        "\n",
        "An important idea for speeding up learning is the idea of a 'mini-batch'. Currently in our learning the impact on reward for a perturbation is measured using the entirety of the dataset available to us. If we were to use a smaller (but representative) sample of this data set for our evaluations of parameter perturbations, we could potentially speed things up significantly."
      ]
    },
    {
      "cell_type": "code",
      "execution_count": null,
      "metadata": {
        "execution": {},
        "id": "sRPdrBLo1WBd"
      },
      "outputs": [],
      "source": [
        "Xs_aug.shape"
      ]
    },
    {
      "cell_type": "markdown",
      "metadata": {
        "execution": {},
        "id": "VRTkeB481WBd"
      },
      "source": [
        "Our dataset consists of 5620 examples to learn from. This size means the dataset can be nicely broken down into 10 mini-batches of 562. Let's find out how much faster our evaluation function is when using a mini-batch that is ten times smaller."
      ]
    },
    {
      "cell_type": "code",
      "execution_count": null,
      "metadata": {
        "execution": {},
        "id": "aNDDcS6N1WBd"
      },
      "outputs": [],
      "source": [
        "W = np.zeros((1,65))\n",
        "%timeit eval_params_aug(W, Xs_aug[:562,:].T, y1[:562].T)"
      ]
    },
    {
      "cell_type": "code",
      "execution_count": null,
      "metadata": {
        "execution": {},
        "id": "59WW7LgG1WBd"
      },
      "outputs": [],
      "source": [
        "%timeit eval_params_aug(W, Xs_aug.T, y1.T)"
      ]
    },
    {
      "cell_type": "markdown",
      "metadata": {
        "execution": {},
        "id": "_ounvdOy1WBd"
      },
      "source": [
        "We observe a 2-3x speed up in this case. One thing to notice is that this was not a 10x speedup. This is due to the 'algorithmic efficiencies of scale' inherent in our heavily optimized evaluation function, which utilizes numpy broadcasting. These efficiencies of scale are tied to underlying hardware implementations of the operations. Thus in practical ML contexts choosing a 'good' mini-batch size requires consideration of hardware specific efficiencies of scale, to answer the question how much worse are my parameter updates versus how much faster are they for a given mini-batch size."
      ]
    },
    {
      "cell_type": "code",
      "execution_count": null,
      "metadata": {
        "cellView": "form",
        "execution": {},
        "id": "t6y4RnvK1WBd"
      },
      "outputs": [],
      "source": [
        "# @title Mini-Batched Measure and Update Training Loop\n",
        "learn_rng = np.random.default_rng(0)\n",
        "num_epochs = 800\n",
        "alpha = 0.5 #learning rate or step size\n",
        "perturbation_scale = 0.001 # std of gaussian perturbations\n",
        "num_batches = 10  # Number of mini-batches\n",
        "batch_size = 562  # Size of each mini-batch\n",
        "W_init = np.zeros((1,65))\n",
        "W = W_init\n",
        "start_time = time.time()\n",
        "indices = np.arange(Xs_aug.shape[0])\n",
        "for epoch in range(num_epochs):\n",
        "  learn_rng.shuffle(indices)  # Shuffle the indices for each epoch\n",
        "  for batch in range(num_batches):\n",
        "    # Select a mini-batch for this iteration\n",
        "    batch_indices = indices[batch * batch_size : (batch + 1) * batch_size]\n",
        "    Xs_batch = Xs_aug[batch_indices, :].T\n",
        "    y1_batch = y1[batch_indices].T\n",
        "    R_bar_old = eval_params_aug(W, Xs_batch, y1_batch)\n",
        "    W_perturbations = learn_rng.normal(0, perturbation_scale, size=(1,65))\n",
        "    #perturb and evaluate each W_j separately\n",
        "    finite_differences_W = np.zeros(W.shape)\n",
        "    for jj in range(W_perturbations.shape[1]):\n",
        "      original_value = W[0,jj]\n",
        "      W[0, jj] += W_perturbations[0, jj]\n",
        "      R_bar_perturbed_Wj = eval_params_aug(W, Xs_batch, y1_batch)\n",
        "      finite_differences_W[0,jj] = (R_bar_perturbed_Wj - R_bar_old) / W_perturbations[0,jj]\n",
        "      W[0,jj] = original_value  # Revert the perturbation\n",
        "\n",
        "    delta_W = alpha * finite_differences_W\n",
        "    W += delta_W\n",
        "\n",
        "  if epoch == 0 or (epoch + 1) % 50 == 0:\n",
        "    R_bar_full_batch = eval_params_aug(W, Xs_aug.T, y1.T)\n",
        "    elapsed_time = time.time() - start_time\n",
        "    print(f'Epoch {epoch + 1}/{num_epochs} completed | Full Batch R_bar: {R_bar_full_batch:.6f} | Time elapsed: {elapsed_time:.2f} seconds')"
      ]
    },
    {
      "cell_type": "markdown",
      "metadata": {
        "execution": {},
        "id": "jurYNOTI1WBd"
      },
      "source": [
        "Applying the mini-batch idea to the 'measure and update' process made it quicker, and perhaps it even performed a bit better than 'propose and reject'. However, it's important to note that comparisons between algorithms is challenging, as algorithm performance often depends heavily on the choice of meta-parameters, such as learning rate, perturbation scale, mini-batch size, etc., relative to the dataset and underlying model being optimized."
      ]
    },
    {
      "cell_type": "code",
      "execution_count": null,
      "metadata": {
        "cellView": "form",
        "execution": {},
        "id": "vUgIUJ271WBd"
      },
      "outputs": [],
      "source": [
        "# @markdown Submit your feedback\n",
        "content_review(f\"{feedback_prefix}_M3\")"
      ]
    },
    {
      "cell_type": "markdown",
      "metadata": {
        "execution": {},
        "id": "_812T9sO1WBe"
      },
      "source": [
        "# 2.1.1.4 Learning to Do the Right Thing - Better - Stronger\n",
        "One thing that could be holding back performance on this discrimination problem is that our algorithms are not capable of finding the optimal parameters for the given model, but... we don't really think that is the case here. Another possibility is that our simple sensory-behaviour circuit is not flexible or complex enough to fully discriminate between the two types of input. There is good reason to think that this might be the case. Our current sensory-behavioural circuit is effectively equivalent to logistic regression, i.e. each feature can either inhibit or potentiate striking behaviour to varying degrees, but there is no possibility for conditional interaction between features. By 'conditional interaction,' we mean a scenario where, for instance, feature 1 typically inhibits the behavior, except when feature 2 is positive, under which condition feature 1 becomes potentiating. These kinds of feature interactions are impossible in the current model. One way to allow for such interactions is to augment the base set of features with composite features, e.g. incorporate all the pairwise products of the existing feature set, so that instead of 65 features (bias included) we have $(65^2 - 1) = 4224$ features to work with. This could work, but what if we want something that depends on the interaction of more than 2 features, adding higher order polynomial terms will quickly make the problem intractable (Reference appendix section on why hidden layers not polynomials if we do that). If we had some mechanistically grounded understanding or hypothesis about the relationship between the features and label could might be able to cherry pick some small subset of higher order interaction terms, but the ML/supervised learning framework is in large part about automating the feature selection processes based on the data alone. In turns out that instead of resorting the regression on polynomial terms to capture feature interactions, there is a much more compact and expressive way of allowing for feature interactions. The idea is to allow for feature interactions to emerge as needed in a 'hidden' computational layer of our highly abstracted neurons."
      ]
    },
    {
      "cell_type": "markdown",
      "metadata": {
        "execution": {},
        "id": "kTnbKRyS1WBe"
      },
      "source": [
        "As before $\\mathbf{x}$ is the raw sensory input (vector) in a given episode and each element of $\\mathbf{x}$ corresponds to the activation level and firing rate of a single photosensitive neuron.\n",
        "These input neurons are then connected by synapses to a 'hidden layer' of intermediate computational neurons, say 10 of them. The activation level of these hidden layer neurons is computed as\n",
        "$$\\mathbf{h} = \\sigma(\\mathbf{W}_{in} \\cdot \\mathbf{x})$$\n",
        "Now $\\mathbf{W}_{in}$ is a matrix of synaptic weights between the input neurons and the hidden layer neurons, and $\\cdot$ denotes standard matrix vector multiplication. (In this case $\\mathbf{W}$ has shape $10 \\times 64$. Each the values in the $i^{th}$ row of $\\mathbf{W}_{in}$ given the sign and strength of the connections coming into the $i^{th}$ element of $h$ and similarly each value in the $j^{th}$ column of $\\mathbf{W}_{in}$ corresponds to connection strengths coming out of the $j^{th}$ sensory input neuron.)  We still us $\\sigma$ to represent the standard logistic sigmoid function, but in these case applied elementwise the vector output of the product $\\mathbf{W}_{in} \\cdot \\mathbf{x}$. Then much as before our striking probability is computed as\n",
        "$$y = \\mathbf{W}_{out} \\cdot \\mathbf{h}$$\n",
        "and\n",
        "$$ \\Pr \\{\\text{strike}\\} = \\sigma(y) $$\n",
        "$$ \\Pr \\{\\text{no strike}\\} = 1 - \\sigma(y)$$\n",
        "Here $\\mathbf{W}_{out}$ has shape $1  \\times 10$.\n"
      ]
    },
    {
      "cell_type": "markdown",
      "metadata": {
        "execution": {},
        "id": "BfiLbhiO1WBe"
      },
      "source": [
        "We will need to write a new eval params function for this new model, let's do it."
      ]
    },
    {
      "cell_type": "code",
      "execution_count": null,
      "metadata": {
        "execution": {},
        "id": "ldkvhkx91WBe"
      },
      "outputs": [],
      "source": [
        "def eval_params_hidden(W_in, W_out, x, y):\n",
        "  \"\"\"\n",
        "  evaluates parameters of simple behaviour circuit given inputs and target\n",
        "  outputs, use numpy broadcasting to be fast and concise\n",
        "  Args:\n",
        "    W_in: (hidden-neurons(20) x inputs(65) np.array)\n",
        "           weights between sensory neurons and hidden layer neurons\n",
        "    W_out: (output(1) x hidden-neurons(20) np.array)\n",
        "           weights between hidden layer neurons and output\n",
        "    x: (input(64) x batch np.array) sensory input\n",
        "       (can be single input, mini-batch of inputs or the whole batch of inputs)\n",
        "    y: (outputs(1) x batch np.array) target behavioural output\n",
        "       (can be a single target, mini-batch of targets, or whole batch),\n",
        "       needs to correspond to input\n",
        "\n",
        "  Returns:\n",
        "    R_bar: the average/expected reward obtained given the parameters, over the\n",
        "           (mini-)batch of inputs and targets. (mini-batch could be size 1)\n",
        "  \"\"\"\n",
        "  h = np_sigmoid(np.dot(W_in,x)) # hidden x batch\n",
        "  y_hat = np_sigmoid(np.dot(W_out,h)) # 1 x batch\n",
        "  y_score = np.copy(y)\n",
        "  y_score[y_score == 0] = -1\n",
        "  batch_expected_reward = y_score * y_hat\n",
        "  R_bar = np.mean(batch_expected_reward)\n",
        "  return R_bar"
      ]
    },
    {
      "cell_type": "markdown",
      "metadata": {
        "execution": {},
        "id": "0GQyzfYW1WBe"
      },
      "source": [
        "We've got a more complicated circuit with more parameters, how much longer does it take us to evaluate?"
      ]
    },
    {
      "cell_type": "code",
      "execution_count": null,
      "metadata": {
        "execution": {},
        "id": "XpX07CEp1WBe"
      },
      "outputs": [],
      "source": [
        "W = np.zeros((1,65))\n",
        "%timeit eval_params_aug(W, Xs_aug[:562,:].T, y1[:562].T)"
      ]
    },
    {
      "cell_type": "code",
      "execution_count": null,
      "metadata": {
        "execution": {},
        "id": "hK-mLIJT1WBe"
      },
      "outputs": [],
      "source": [
        "W_in = np.zeros((10,65))\n",
        "W_out = np.zeros((1,10))\n",
        "%timeit eval_params_hidden(W_in, W_out, Xs_aug[:562,:].T, y1[:562].T)"
      ]
    },
    {
      "cell_type": "markdown",
      "metadata": {
        "execution": {},
        "id": "-DjIgguH1WBe"
      },
      "source": [
        "We're added a lot more operations here, and now our sensory to behaviour function takes about 4x times longer to evaluate. What if we made our minibatch really small, like 20, so that we had 261 mini-batches each of size 20, how much of a speed up does that give us?"
      ]
    },
    {
      "cell_type": "code",
      "execution_count": null,
      "metadata": {
        "execution": {},
        "id": "hA_nPIy11WBf"
      },
      "outputs": [],
      "source": [
        "%timeit eval_params_hidden(W_in, W_out, Xs_aug[:10,:].T, y1[:10].T)"
      ]
    },
    {
      "cell_type": "markdown",
      "metadata": {
        "execution": {},
        "id": "3FNwFCIZ1WBf"
      },
      "source": [
        "Okay that's starting to be pretty quick again, but we have a lot more parameters to evaluate, $11 \\times 65 = 715$, as contrasted with $65$ from our more simple circuit? Can the mini-batched measure and update training loop, find good parameters is reasonable amount of time?"
      ]
    },
    {
      "cell_type": "code",
      "execution_count": null,
      "metadata": {
        "cellView": "form",
        "execution": {},
        "id": "rHFbHUc11WBf"
      },
      "outputs": [],
      "source": [
        "# @title 10 Hidden Units - Measure and Update Training Loop\n",
        "learn_rng = np.random.default_rng(0)\n",
        "num_epochs = 20\n",
        "alpha = 0.5 #learning rate or step size\n",
        "perturbation_scale = 0.001 # std of gaussian perturbations\n",
        "num_batches = 261  # Number of mini-batches\n",
        "batch_size = 20  # Size of each mini-batch\n",
        "num_hidden_units = 10\n",
        "# initializing both layers as zero leads to some issues, so we\n",
        "# use a Xavier/Glorot random initialization scheme\n",
        "in_init = np.sqrt(6 / (65 + num_hidden_units))\n",
        "W_in_init = learn_rng.uniform(-in_init, in_init, size=(num_hidden_units, 65))\n",
        "out_init = np.sqrt(6 / (10 + 1))\n",
        "W_out_init = learn_rng.uniform(-out_init, out_init, size=(1, num_hidden_units))\n",
        "W_in = W_in_init\n",
        "W_out = W_out_init\n",
        "start_time = time.time()\n",
        "indices = np.arange(Xs_aug.shape[0])\n",
        "for epoch in range(num_epochs):\n",
        "  learn_rng.shuffle(indices)  # Shuffle the indices for each epoch\n",
        "  for batch in range(num_batches):\n",
        "    # Select a mini-batch for this iteration\n",
        "    batch_indices = indices[batch * batch_size : (batch + 1) * batch_size]\n",
        "    Xs_batch = Xs_aug[batch_indices, :].T\n",
        "    y1_batch = y1[batch_indices].T\n",
        "    R_bar_old = eval_params_hidden(W_in, W_out, Xs_batch, y1_batch)\n",
        "    W_in_perturbations = learn_rng.normal(0, perturbation_scale, size=W_in.shape)\n",
        "    W_out_perturbations = learn_rng.normal(0, perturbation_scale, size=W_out.shape)\n",
        "    #perturb and evaluate each parameter separately\n",
        "    finite_differences_W_in = np.zeros(W_in.shape)\n",
        "    for ii in range(W_in_perturbations.shape[0]):\n",
        "      for jj in range(W_in_perturbations.shape[1]):\n",
        "        original_value = W_in[ii,jj]\n",
        "        W_in[ii,jj] += W_in_perturbations[ii,jj] # perturb\n",
        "        R_bar_perturbed = eval_params_hidden(W_in, W_out, Xs_batch, y1_batch) #evaluate\n",
        "        finite_differences_W_in[ii,jj] = (R_bar_perturbed - R_bar_old) / W_in_perturbations[ii,jj]\n",
        "        W_in[ii,jj] = original_value  # Revert the perturbation\n",
        "    finite_differences_W_out = np.zeros(W_out.shape)\n",
        "    for ii in range(W_out_perturbations.shape[0]):\n",
        "      for jj in range(W_out_perturbations.shape[1]):\n",
        "        original_value = W_out[ii,jj]\n",
        "        W_out[ii,jj] += W_out_perturbations[ii,jj] # perturb\n",
        "        R_bar_perturbed = eval_params_hidden(W_in, W_out, Xs_batch, y1_batch) #evaluate\n",
        "        finite_differences_W_out[ii,jj] = (R_bar_perturbed - R_bar_old) / W_out_perturbations[ii,jj]\n",
        "        W_out[ii,jj] = original_value  # Revert the perturbation\n",
        "\n",
        "    delta_W_in = alpha * finite_differences_W_in\n",
        "    W_in += delta_W_in\n",
        "    delta_W_out = alpha * finite_differences_W_out\n",
        "    W_out += delta_W_out\n",
        "\n",
        "  R_bar_full_batch = eval_params_hidden(W_in, W_out, Xs_aug.T, y1.T)\n",
        "  elapsed_time = time.time() - start_time\n",
        "  print(f'Epoch {epoch + 1}/{num_epochs} completed | Full Batch R_bar: {R_bar_full_batch:.6f} | Time elapsed: {elapsed_time:.2f} seconds')"
      ]
    },
    {
      "cell_type": "markdown",
      "metadata": {
        "execution": {},
        "id": "dAVlZ9AM1WBf"
      },
      "source": [
        "So this new, more complex circuit is great. We're much closer to the theoretical maximum performance of 0.5033807829181495, maybe with a few more hidden units, and a little longer training time we could have perfect discrimination. Let's see what happens when we go up to 20 hidden units."
      ]
    },
    {
      "cell_type": "code",
      "execution_count": null,
      "metadata": {
        "cellView": "form",
        "execution": {},
        "id": "0mc3DDl51WBf"
      },
      "outputs": [],
      "source": [
        "# @title 20 Hidden Units - Measure and Update Training Loop\n",
        "learn_rng = np.random.default_rng(0)\n",
        "num_epochs = 20\n",
        "alpha = 0.5 #learning rate or step size\n",
        "perturbation_scale = 0.001 # std of gaussian perturbations\n",
        "num_batches = 261  # Number of mini-batches\n",
        "batch_size = 20  # Size of each mini-batch\n",
        "num_hidden_units = 20\n",
        "# initializing both layers as zero leads to some issues, so we\n",
        "# use a Xavier/Glorot random initialization scheme\n",
        "in_init = np.sqrt(6 / (65 + num_hidden_units))\n",
        "W_in_init = learn_rng.uniform(-in_init, in_init, size=(num_hidden_units, 65))\n",
        "out_init = np.sqrt(6 / (10 + 1))\n",
        "W_out_init = learn_rng.uniform(-out_init, out_init, size=(1, num_hidden_units))\n",
        "W_in = W_in_init\n",
        "W_out = W_out_init\n",
        "start_time = time.time()\n",
        "indices = np.arange(Xs_aug.shape[0])\n",
        "for epoch in range(num_epochs):\n",
        "  learn_rng.shuffle(indices)  # Shuffle the indices for each epoch\n",
        "  for batch in range(num_batches):\n",
        "    # Select a mini-batch for this iteration\n",
        "    batch_indices = indices[batch * batch_size : (batch + 1) * batch_size]\n",
        "    Xs_batch = Xs_aug[batch_indices, :].T\n",
        "    y1_batch = y1[batch_indices].T\n",
        "    R_bar_old = eval_params_hidden(W_in, W_out, Xs_batch, y1_batch)\n",
        "    W_in_perturbations = learn_rng.normal(0, perturbation_scale, size=W_in.shape)\n",
        "    W_out_perturbations = learn_rng.normal(0, perturbation_scale, size=W_out.shape)\n",
        "    #perturb and evaluate each parameter separately\n",
        "    finite_differences_W_in = np.zeros(W_in.shape)\n",
        "    for ii in range(W_in_perturbations.shape[0]):\n",
        "      for jj in range(W_in_perturbations.shape[1]):\n",
        "        original_value = W_in[ii,jj]\n",
        "        W_in[ii,jj] += W_in_perturbations[ii,jj] # perturb\n",
        "        R_bar_perturbed = eval_params_hidden(W_in, W_out, Xs_batch, y1_batch) #evaluate\n",
        "        finite_differences_W_in[ii,jj] = (R_bar_perturbed - R_bar_old) / W_in_perturbations[ii,jj]\n",
        "        W_in[ii,jj] = original_value  # Revert the perturbation\n",
        "    finite_differences_W_out = np.zeros(W_out.shape)\n",
        "    for ii in range(W_out_perturbations.shape[0]):\n",
        "      for jj in range(W_out_perturbations.shape[1]):\n",
        "        original_value = W_out[ii,jj]\n",
        "        W_out[ii,jj] += W_out_perturbations[ii,jj] # perturb\n",
        "        R_bar_perturbed = eval_params_hidden(W_in, W_out, Xs_batch, y1_batch) #evaluate\n",
        "        finite_differences_W_out[ii,jj] = (R_bar_perturbed - R_bar_old) / W_out_perturbations[ii,jj]\n",
        "        W_out[ii,jj] = original_value  # Revert the perturbation\n",
        "\n",
        "    delta_W_in = alpha * finite_differences_W_in\n",
        "    W_in += delta_W_in\n",
        "    delta_W_out = alpha * finite_differences_W_out\n",
        "    W_out += delta_W_out\n",
        "\n",
        "  R_bar_full_batch = eval_params_hidden(W_in, W_out, Xs_aug.T, y1.T)\n",
        "  elapsed_time = time.time() - start_time\n",
        "  print(f'Epoch {epoch + 1}/{num_epochs} completed | Full Batch R_bar: {R_bar_full_batch:.6f} | Time elapsed: {elapsed_time:.2f} seconds')"
      ]
    },
    {
      "cell_type": "markdown",
      "metadata": {
        "execution": {},
        "id": "LSDa_Dr61WBf"
      },
      "source": [
        "This more complex circuit get's us even closer to the theoretical maximum performance of 0.5033..., but it's taking longer to get there. This is because there are more parameters to figure out good values for. Consequently, function evaluations take a bit longer, and more significantly, we need many more function evaluations — an additional one for each parameter — in each iteration. With more hidden units and more time we can likely learn perfect discrimination, but it will take even longer (more than 5 minutes!)."
      ]
    },
    {
      "cell_type": "markdown",
      "metadata": {
        "execution": {},
        "id": "AHpCDp9X1WBf"
      },
      "source": [
        "Although the toy neural circuit models in this sequence are a far cry from actual neural circuits, they still provide insight into potential learning processes in the brain. We can imagine a scenario where synaptic strengths between neurons in a circuit undergo small, transient perturbations. The brain might integrate and compare the performance of these perturbations over a learning episode (for example, a day) to previous performance levels. (Though, we leave aside the specifics of how this integration and comparison occur.)\n",
        "\n",
        "If performance improves with a perturbation, synaptic changes could be consolidated in the direction of the perturbation, proportionate to the degree of improvement. Conversely, if performance worsens, changes might be consolidated in the opposite direction, also proportional to the performance decrease. This concept, while still vague, suggests a mechanism of synaptic adjustment based on performance feedback.\n",
        "\n",
        "One critical point to consider is the scalability of such a learning process. The number of learning episodes required for effective optimization grows with the number of parameters in a neural circuit. This implies that 'measure and update' perturbation-based learning cannot be the primary mechanism driving neural plasticity in large, complex neural circuits. This limitation is critical, as life simply isn't long enough to accommodate the learning episodes needed for such extensive optimization.\n",
        "\n",
        "However, as demonstrated in our example, a more complex circuit achieved significantly better performance in the discrimination task, so large complex circuits can be useful. This suggests that even if empirical evidence of perturbation-based learning in the brain exists and its physiological implementation is understood, such processes are unlikely to be the primary drivers of neural plasticity for complex and challenging behaviors.\n",
        "\n",
        "(One counterargument in favor of simple learning rules is that extensive learning might not be necessary if genetic predisposition starts the circuit off close to an optimal parameter configuration. Then subsequently, relatively slow learning processes could 'fine-tune' the neural circuit's configuration. However, as noted in our earlier discussions on evolution, changing environments necessitate that a significant portion of behavior must emerge from learning, thereby limiting the extent to which genetic predispositions can facilitate efficient and adaptive learning.)"
      ]
    },
    {
      "cell_type": "markdown",
      "metadata": {
        "execution": {},
        "id": "8pFBGeYz1WBg"
      },
      "source": [
        "This concludes our sequence on fitting data through perturbations. In the sequence to come, we will see how different tricks and insights can make our learning algorithms faster and more efficient. We close with a thought on how all of this learning is based simply on changes in average reward. These learning algorithms make no use of information about what the right output should have been (compared to what it was) in any specific situation. Could we make more effective parameter updates if we incorporated information about which situations our circuit already yields 'correct' behavior and which ones it does not?"
      ]
    },
    {
      "cell_type": "code",
      "execution_count": null,
      "metadata": {
        "cellView": "form",
        "execution": {},
        "id": "zXSZ3jWY1WBg"
      },
      "outputs": [],
      "source": [
        "# @markdown Submit your feedback\n",
        "content_review(f\"{feedback_prefix}_M4\")"
      ]
    },
    {
      "cell_type": "markdown",
      "metadata": {
        "execution": {},
        "id": "BEXzmGM51WBg"
      },
      "source": [
        "# Quiz"
      ]
    },
    {
      "cell_type": "code",
      "execution_count": null,
      "metadata": {
        "cellView": "form",
        "execution": {},
        "id": "495IPYu51WBg"
      },
      "outputs": [],
      "source": [
        "# @markdown **Run this cell** to take the quiz\n",
        "comprehension_quiz = [\n",
        "  {\n",
        "    \"question\": \"How does the complexity of a neural circuit (number of parameters) impact the number of learning iterations and hence time to learn using a 'measure and update' learning process?\",\n",
        "    \"type\": \"multiple_choice\",\n",
        "    \"answers\": [\n",
        "      {\n",
        "        \"answer\": \"It does not affect the number of iterations required; the process scales well regardless of circuit complexity.\",\n",
        "        \"correct\": False,\n",
        "        \"feedback\": \"Actually, the the number of iterations required grows with the complexity of the circuit due to more parameters requiring optimization.\"\n",
        "      },\n",
        "      {\n",
        "        \"answer\": \"The process requires few learning iterations, by leveraging algorithmic economies of scale\",\n",
        "        \"correct\": False,\n",
        "        \"feedback\": \"Contrary to this, an increase in parameters leads the more learning iterations being required.\"\n",
        "      },\n",
        "      {\n",
        "        \"answer\": \"The process becomes requires more learning episodes for larger, more complex circuits.\",\n",
        "        \"correct\": True,\n",
        "        \"feedback\": \"Correct! More parameters mean more complexity and thus more learning episodes are needed.\"\n",
        "      },\n",
        "      {\n",
        "        \"answer\": \"The number of learning iterations needed is solely dependent on the type of learning task, not the circuit complexity.\",\n",
        "        \"correct\": False,\n",
        "        \"feedback\": \"Circuit complexity, particularly the number of parameters, plays a significant role in the number of learning iterations needed.\"\n",
        "      }\n",
        "    ]\n",
        "  },\n",
        "  {\n",
        "    \"question\": \"Why was the introduction of a 'hidden layer' beneficial in our complex discrimination tasks?\",\n",
        "    \"type\": \"multiple_choice\",\n",
        "    \"answers\": [\n",
        "      {\n",
        "        \"answer\": \"It allowed the model to perform tasks more quickly but with reduced accuracy.\",\n",
        "        \"correct\": False,\n",
        "        \"feedback\": \"The hidden layer's primary benefit is not speed at the cost of accuracy, but rather an enhancement in handling complex patterns.\"\n",
        "      },\n",
        "      {\n",
        "        \"answer\": \"It introduces feature interactions and non-linearities, enabling the model to capture complex patterns.\",\n",
        "        \"correct\": True,\n",
        "        \"feedback\": \"Exactly! Hidden layers allow for complex interactions and non-linear processing of features, which can be crucial for generating behaviour contingent on rich sensory input.\"\n",
        "      },\n",
        "      {\n",
        "        \"answer\": \"It reduces the number of parameters needed, simplifying the model.\",\n",
        "        \"correct\": False,\n",
        "        \"feedback\": \"Adding a hidden layer typically increases the number of parameters, adding complexity to the model.\"\n",
        "      },\n",
        "      {\n",
        "        \"answer\": \"It primarily improves the model's visualization, making it easier to interpret.\",\n",
        "        \"correct\": False,\n",
        "        \"feedback\": \"While interpretability is important, this is not an advantage of adding a hidden layer.\"\n",
        "      }\n",
        "    ]\n",
        "  },\n",
        "  {\n",
        "    \"question\": \"In the context of machine learning, what is the impact of using a 'mini-batch' approach?\",\n",
        "    \"type\": \"multiple_choice\",\n",
        "    \"answers\": [\n",
        "      {\n",
        "        \"answer\": \"It guarantees a 10x speedup in learning algorithms.\",\n",
        "        \"correct\": False,\n",
        "        \"feedback\": \"While mini-batches can speed up learning, the magnitude of this speed-up will depend on choice of mini-batch size and the interaction of this size with underlying algorithmic efficiencies of scale at the hardware implementation level.\"\n",
        "      },\n",
        "      {\n",
        "        \"answer\": \"It reduces the time for evaluations by using a smaller, representative data sample.\",\n",
        "        \"correct\": True,\n",
        "        \"feedback\": \"Correct! A mini-batch approach uses a smaller subset of data for quicker evaluations, though it introduces some noise to the estimates.\"\n",
        "      },\n",
        "      {\n",
        "        \"answer\": \"It decreases the accuracy of parameter evaluation\",\n",
        "        \"correct\": True,\n",
        "        \"feedback\": \"Correct! Mini-batches do introduce some noise to parameter evaluation, but is used thoughtfully this usually isn't an issue.\"\n",
        "      },\n",
        "      {\n",
        "        \"answer\": \"It eliminates the need for parameter updates in the learning process.\",\n",
        "        \"correct\": False,\n",
        "        \"feedback\": \"Mini-batches still require parameter updates; they just alter the way data is processed during learning.\"\n",
        "      }\n",
        "    ]\n",
        "  },\n",
        "  {\n",
        "    \"question\": \"What challenge arises when comparing different machine learning algorithms?\",\n",
        "    \"type\": \"multiple_choice\",\n",
        "    \"answers\": [\n",
        "      {\n",
        "        \"answer\": \"Algorithms cannot be compared due to their differing objectives.\",\n",
        "        \"correct\": False,\n",
        "        \"feedback\": \"While objectives can vary, this doesn't make comparison impossible; it's more about how different parameters and conditions affect performance.\"\n",
        "      },\n",
        "      {\n",
        "        \"answer\": \"All algorithms perform similarly when given the same data and task.\",\n",
        "        \"correct\": False,\n",
        "        \"feedback\": \"Performance can vary significantly between algorithms depending on their design and the specificities of the task and data.\"\n",
        "      },\n",
        "      {\n",
        "        \"answer\": \"Performance is highly dependent on meta-parameter choices, making direct comparisons challenging.\",\n",
        "        \"correct\": True,\n",
        "        \"feedback\": \"Variations in learning rate, perturbation scale, mini-batch size, and other meta-parameters can significantly impact algorithm performance, complicating direct comparisons.\"\n",
        "      },\n",
        "      {\n",
        "        \"answer\": \"Algorithms' performance cannot be measured or quantified.\",\n",
        "        \"correct\": False,\n",
        "        \"feedback\": \"Performance can indeed be measured and quantified, but the challenge lies in accounting for differences in meta-parameters and conditions.\"\n",
        "      }\n",
        "    ]\n",
        "  }\n",
        "]\n",
        "\n",
        "display_quiz(comprehension_quiz)"
      ]
    }
  ],
  "metadata": {
    "colab": {
      "machine_shape": "hm",
      "name": "P2C1_Sequence1",
      "provenance": [],
      "toc_visible": true,
      "include_colab_link": true
    },
    "kernel": {
      "display_name": "Python 3",
      "language": "python",
      "name": "python3"
    },
    "kernelspec": {
      "display_name": "Python 3",
      "name": "python3"
    },
    "language_info": {
      "codemirror_mode": {
        "name": "ipython",
        "version": 3
      },
      "file_extension": ".py",
      "mimetype": "text/x-python",
      "name": "python",
      "nbconvert_exporter": "python",
      "pygments_lexer": "ipython3",
      "version": "3.9.18"
    },
    "widgets": {
      "application/vnd.jupyter.widget-state+json": {
        "faad82ca33e14d878b4a896feb5fd8f2": {
          "model_module": "jupyter-matplotlib",
          "model_name": "MPLCanvasModel",
          "model_module_version": "^0.11",
          "state": {
            "_cursor": "default",
            "_data_url": "data:image/png;base64,iVBORw0KGgoAAAANSUhEUgAAAyAAAAJYCAYAAACadoJwAAAAOXRFWHRTb2Z0d2FyZQBNYXRwbG90bGliIHZlcnNpb24zLjcuMSwgaHR0cHM6Ly9tYXRwbG90bGliLm9yZy/bCgiHAAAACXBIWXMAAA9hAAAPYQGoP6dpAACLtklEQVR4nOzdd3hT1f8H8HfSle4JLXRR2jLKliV7FhDZoIAgQ8GByFBBBRRwAYKIoILAl72VjSB7K3vv0dIWCrSU7pkm5/dHbX6tHbRpkpsm79fz9BFv7vjk9DbJO/eec2RCCAEiIiIiIiIDkEtdABERERERmQ8GECIiIiIiMhgGECIiIiIiMhgGECIiIiIiMhgGECIiIiIiMhgGECIiIiIiMhgGECIiIiIiMhgGECIiIiIiMhgGECIiIiIiMhgGECIiIiIiMhgGECIiIiIiMhgGECIiIiIiMhgGECIiIiIiMhgGECIiIiIiMhgGECIiIiIiMhgGECIiIiIiMhgGECIiIiIiMhgGECIiIiIiMhgGECIiIiIiMhgGECIiIiIiMhgGECIiIiIiMhgGECqRadOmQSaToW3btlKXojfHjx/Hq6++igoVKsDCwgIymQy9evUq1T527NiB9u3bw9XVFXK5HDKZDOPGjSuw3tKlSyGTyfD+++/rpngAkZGRsLGxQVBQELKysnS2XyIqH4YNGwaZTIZhw4ZpvQ+ZTAaZTIYjR47orC4C2rZtC5lMhmnTpkmyfXHK+jsvbnt9nU9HjhzR7Ls8e/DggeZ5PHjwQOpyDIoBxIzkhoj//igUCvj4+KBHjx7YtGkThBAGq+nSpUuYNm0a5s2bZ7BjFubUqVNo3749du/ejbi4OLi5ucHT0xOurq4l3sfmzZvRs2dPHD58GMnJyfDw8ICnpyecnJzyrZeSkoIvvvgCNjY2mDx5ss6eg5+fH4YPH4779+/jl19+0dl+Tdnt27fh6ekJmUwGa2tr7N69u8TbpqSkYOPGjRgxYgTq1asHR0dHWFtbw8vLC126dMGKFSuQnZ2tx+p1Ly4uDsuXL8fgwYMREhICe3t72NjYwMfHB7169cLWrVulLtGg1q5dizFjxqBly5aoUqUK7O3toVAo4Ofnh969e2Pz5s1Sl1hiK1aswLRp0xgsiGA8nz3MmiCzMXXqVAFAABCenp6aH4VCoVkOQLzyyisiIyOj0G3btGmj05qWL18uAAh/f3+d7re0+vfvLwCIFi1aiLi4OK320bRpUwFA9O3bV6Smpha53pdffikAiA8++EDbcosUEREhrKyshJubm4iPj9f5/k1JeHi48PHxyXfu29raiiNHjpRo+6CgoHzbWltbC0dHx3zLGjduLGJiYvT8THTH0tIyX/0KhULY29sXeH0o7vw2Jf997s7OzsLa2jrfsk6dOomUlBSpSxVCCPHZZ5+J6tWri88++6zAY23atBEAxNSpU4vdR+7zOnz4sH6KNFMlbf+ivPnmm6J69epiwYIFui1MlP13Xtz21atXF9WrVxenT58uW5H/cfjwYc1xtWEsnz3Cw8M1zyM8PFzSWgyNV0DM1JMnTzQ/qampuHbtGkJDQwEAe/bswZQpUySu0LCuXr0KABgwYADc3NzKtI9hw4bBzs6u0HXS09Mxf/58ANDp7Ve5/Pz80LVrVzx//hxLly7V+f5NxePHj9GxY0c8fPgQXl5e2LdvH+rXr4/09HR0794dZ86ceeE+lEolQkJCMHv2bFy/fh2ZmZlISkrC48eP8emnn8LCwgJnz55F3759dX5VccWKFWW+1aYw2dnZaNKkCX799Vfcv38f6enpSElJQXh4ON5++20AOa8P7777rk6PW1a5t6fo+tv9ESNGYOXKlbh79y4yMjKQkJCAjIwM3L9/Hx9++CEAYN++ffj44491elxtzZgxA7du3cKMGTOkLoV0bNWqVbh16xZGjx4tdSmlcuvWLdy6dQtNmjSRuhQyMgwgBLlcjlq1amHHjh0ICgoCAPz222/l7vaRskhLSwMAODg46HUfGzduREJCAurXr49atWppfaziDB48GACwePFig95OV17ExcUhNDQU9+/fR0BAAE6cOIHQ0FAcOXIErVq1QnJyMl555RVNoCzKihUrcO3aNXzyyScICQnRLPfy8sLMmTPxzTffAMjpW3Ty5Em9PiddOXToEE6fPo33338fVatW1SyvUqUKli5dqgkea9asQVRUlFRlGsy8efMwZMgQBAUFwcbGBkDOPe1Vq1bF/PnzMXDgQAA5Hw6VSqWUpRIRlSsMIKShUCjw2muvAQCSk5Nx69atUm1/8eJFDBkyBP7+/lAoFHB1dUXz5s0xb948ZGZmFlhfJpNh+PDhAICIiIgCfVO06WynTQ15O38NHz48Xw0v6hSWtwNZrnbt2uXbR15LliwBALzxxhuF7u/999+HTCaDi4tLkcdeuHAhZDIZLC0tcezYsQKPd+/eHY6Ojrh7967J3O997949ODk5QSaTYezYsYWuk5ycjODgYMhkMnTu3LnQ8JWUlITOnTvj+vXrqFWrFk6cOIHAwEAAgLOzM/bu3Ytu3brh+fPnCA0Nxd27d4usKfdb96LkXjEAgLNnz5b0qUqqXbt2xT6e9zmdO3cu32OzZs3S9KUp6grS7t27NYMzrF27tuwFS+zll18GkHNl8/nz5yXebvPmzZDJZKhQoUKh52nnzp01rx/Xrl0r8PiMGTMgk8nQqlWrfMsL64See7Xs6NGjAIDp06cXeK0t6rUmOTkZU6ZMQY0aNWBrawt3d3d069YNp0+fLvFzzeu/HW4jIiIwcuRI+Pn5QaFQIDAwEFOmTEFqaqpmm2vXrmHw4MHw9fWFQqFAcHAwvvnmmyIDX3x8PP73v//h9ddfR506deDm5gaFQgF/f3+88cYbOHXqVKHb/f3337C0tIRMJsOPP/5Y6DoPHz6Eu7s7ZDIZRo4cqVUbAIAQAkuWLEHTpk3h5OQER0dHNGvWDGvWrClymxd1QlcqlZg7dy7q168Pe3t7uLm5oW3btvjjjz9KtH0uXf/OX9QJ/dmzZxg/fjyqVq0KhUKBSpUq4bXXXsOFCxdKtH2ue/fu4a233oKvr6+m39rIkSPx6NGjQmsq7WeP2NhYTJkyBQ0aNICzszMUCgWqVq2Kt99+G9evXy+2tkePHuHdd9/NV9vw4cNx7969YrczeZLeAEYGlbcPSFF++eUXzTonT54ssG1RfUDmzp0rZDJZvnulraysNP9ft25dER0dnW8bT09P4eTkJAAIuVyer1+Kp6enmD17dqmen7Y1eHp6CrlcLgAIJyenfDVERkYWe8zIyEjNurnHcXV1zbePXAkJCZrj/PPPP4XuLy0tTdSqVUsAEM2aNRNKpTLf41evXtX02fnyyy+LrKtDhw4CgJg4ceKLmq3cWLVqlaaNd+3aVeDxwYMHCwCiYsWK4smTJwUeT01NFa1atRIAxMsvv1xkXx+lUqnZl5+fn4iIiNCq3qSkJE29pT2XXyT3/uWhQ4fqdL8vcuXKFc1z+v333/M9plarRceOHQUAUbVqVZGUlJTv8ejoaFGhQgUBQAwZMkSndeXeX2/ofgv9+vUTAISDg4NQq9Ul3i42NlbzWnX58uV8j2VlZQk7OztNO//0008Fts9t5/++BgwdOrTAebFhwwbh6empeS20t7cv8Fqb93Uu97jr1q3T9HNSKBT5arK2thZ79+4t8fPNlfd+982bNwsXFxfN666FhYXmsVatWomsrCyxa9cuzXGdnZ3zvb7379+/0GPkfZ+zsLAQrq6uwsbGRrNMJpMV2qZCCPHVV19pnt+FCxfyPaZSqTTnWc2aNUvdDyp32ylTpoiePXsKAMLS0lLzHpj7U9TrenF9SFJSUkTr1q0LPO/c9vr888+L3b6sv/PcdQr7+yvusdu3b4vKlStr1rGxsdG0h7W1tdixY0eR2+ftA3Lo0CHh4OAgAAhHR8d8fdkqV64sHj58mG/b0n722L9/v+ZcBSCsrKzy9Q+ztrYWK1euLLRtzp8/L1xdXTXr2traamp1cnISGzduNNs+IAwgZqQkAWTChAmadW7evFlg28ICyM6dOzXb9OzZU4SFhQkhhMjMzBSrVq3SdMxt3ry5yM7OzretrjqClaUGIYTw9/cXAMTy5cu1rqG4F1ohhNi1a5fmxeu/nfzzunr1qrC1tRUAxKRJkzTL84aTFi1aFPo8ck2aNEkAEE2bNtX6+RijN998UwAQHh4e+cLkypUrNR8u9uzZU2C7zMxM0blzZwFAhIaGvrDTsFqtFmPGjBEARHBwcKGB5kXyvnn+9ddfpd6+OFIFkPnz52ue061btwo8/vjxY1GxYkUBQAwaNEizPG84CQoKEsnJyTqty5ABJCEhQZw9e1YMHz78hR8ai1O3bl0BQPz444/5lh8/flzz4ST39SyvzMxMzevDf59vYQEkV2k7obu6uoqQkBBx6NAhoVKphFqtFmfOnBHVq1fXvGarVKpSPee8AcTFxUV06NBBXL9+XQiR8/o2f/58TRCZMmWKcHZ2Fv379xcPHjwQQgiRnJwsJk+erNnH/v37Cxzjt99+E1OnThXnzp0TmZmZQoic8y8sLEyMHTtWyGQyYWFhUSBgCJETMtq2bSsAiGrVquV7nZg+fbrmQ/KlS5dK9byF+P/2d3V1Fc7OzmLFihUiLS1NCCFEVFSU6N69u+YD8Z07d4rcvrDf37vvvqvZdtasWZq/r9jYWM3rWO4H6OICiLa/c20CSFZWlqhTp47m9XzLli2a97SbN2+K9u3b5/vgXlwAcXV1FT169NB8ZsnMzBQbN27UvO+/+eabBeoq6WePK1euaP7eRo4cKW7cuKGpMyIiQowaNUoTJs+ePZtv26SkJOHn5yeAnC+z9u3bp/mi4u+//xa1atXKF2wYQMhkvSiAJCYmar6NcHNzy/dCU1wAqVmzpuZbq8I+FOf9IPbfb011FUDKUoMQhgkgX3zxhQAgateu/cJ9LVy4UPOGcujQISHE/7/JuLi4vPBb+d9//13zopj7JqzNc9HmR58fipOTkzXf0HXo0EGoVCpx9+5dzTdK48eP19uxSyMrK0vzATMwMFBkZWXpdP9SBJD4+HhRqVIlzd9ZUXbv3q355nXFihVCCCFmzJihCd//fZPWBX0HkPXr1xd6rtvY2IjPPvus2C8DijJu3DgBQHTv3j3f8twPup9//rmwsrISLi4u+V6Ljx49KoCcb6j/+0WGLgNIhQoVxNOnTws8nvcq2IkTJ0r+hEX+AFKrVq1Cv4jJ/ZIh98uCwq4s5V7JfPvtt0t1fCGE+OCDD4rd9uHDh8Ld3V0AEMOGDRNCCHHixAlNMCrq6smL5LY/AM1rel4ZGRma999vvvmmyO3/+/uLiIjQXFn/+uuvCz127nnxogCi7e9cmwCyevVqAeR8aXTs2LEC26Wnp4saNWqUKIC0a9eu0GCU+4WJra1tgbsJSvrZo3379pq/x6Lkhrz/flkwa9YsAeRcIblx40aB7R4/fpwvZJlbAGEfEEJCQgIOHjyI9u3bIzo6GgAwduxYyOUvPj2uXLmCmzdvAgCmTJkCCwuLAut0795dMwLG+vXrdVi58dRQErltW6FChReu+95776FPnz5Qq9UYPHgwFi9ejN9++w1ATj8SPz+/Yrf38PAAkDOqUWxsbKlr9fT01PrH2dm51McrKQcHB2zYsAHW1tY4ePAgvv76awwcOBApKSlo0KABZs6cqbdjl8bYsWNx5coVyGQy/Pzzz7CyspK6pDJRq9V488038fjxYygUCvz8889FrvvKK69g/PjxAIDRo0djzZo1+PLLLwEA3333HRo1amSQmnXJ1tZWc37nvr5YWFhg4sSJ+Pjjjwt9zXmR3P42x44dg0ql0iw/fPgwAKBbt25o2rQpEhISNPfD5328WbNmmo7x+vDOO++gYsWKBZbXqVMHAQEBAHJee7U1fvz4Quvv3Lmz5t+fffZZof2sctfR5vivvvoqAODEiROFPu7t7Y1ly5YByOk/s3DhQrzxxhtQqVTo1q0bxowZU+pj5tWiRYtC+1rZ2Nho9bw2b94MtVoNOzs7zd/df33xxRcl2pe+f+d5/f777wCA1q1bF+jLBOT0SZ0wYUKJ9jVp0qRCP6/07NkTQE4freL68xXlwYMHOHToECwtLfHJJ58Uud6QIUMAAAcOHMj3t7xhwwYAwGuvvYaaNWsW2M7LywvvvfdeqesyFZZSF0DSKK7z7ODBg0s8QV5uR1RLS0u0adOmyPVCQ0Nx5syZAh1XdcEYaiiJ3CBQ0mF+ly5dinPnziEyMlIz+tCIESPQr1+/F26b9xixsbHw9vYuVa1Pnjwp1fqG1LBhQ3z33Xf45JNPNJ0F7e3tNcFEaj/88AMWLlwIIOeNv0uXLlrt5++//0afPn0KfSw9PR1Azqhqf/31V6Hr/PTTT+jfv79Wx/6vsWPHYteuXQCAX375BXXr1i12/RkzZuDIkSO4cOEC3nzzTQBAp06dyjRc7dixY7Fx48ZCH8vtAN6nT58iz4GynNM9e/bUfJjJzs7GzZs3MWPGDHz99ddYvHgxtm7dimbNmpVqn23atIGFhQUSExNx/vx5NGnSBBkZGfjnn3/g4OCAJk2aoF27djhx4gQOHTqkCW6HDh0C8OIBA8qqadOmRT5WuXJlhIeHl6rj/X8VNSyrp6en5t+NGzcudp34+PhCHw8LC8Ovv/6Kw4cP4/79+0hOToZarc63zsOHD4usrUePHhg9ejR+/vlnjBo1CgBQqVIlLF++vOgnVEIvalcApWrX3HDaqFEj2NvbF7pOYGAgfH19Xzhynb5/53nl1l3ce3bbtm1LtK+i6s5tT6B0bZord/RCtVqdb6TD/8oNHampqYiLi0PFihWRlZWlGUmxffv2RW7bvn17sx02mwHETOV9kbexsYGHhwcaNGiAQYMGleqNLSYmBkDON+7FfRvn4+OTb31dMoYaSiIjIwMASvytpaurK3755Rd0794dAFC1alX89NNPJdrW1ta2wHGN1Zw5czBnzpxCHzt79ix8fX0LLP/oo4+wYcMGTZicM2cOqlWrptc6S2LBggWab8rGjRuH6dOna72vrKwsPH36tNh1MjIyivz95oaUsvrkk080Vzx+/PFHvPXWWy/cxtraGitXrkSdOnUA5IwwtnLlymK/+HiRxMTEF7ZHUR9IdcnS0hJ16tTBunXr4OHhgQULFqB///64fft2vr+7F3F2dkaDBg1w7tw5HDp0CE2aNMHff/+NzMxMtG/fHpaWlmjfvj2+/vprHDp0CBMnTkR6erpmFCd9BxBHR8ciH7O0zPnoUJahh4vaf+6+S7JOYcffunUrBg4cmG/UQycnJygUCshkMmRlZSE+Pj7fSFuFmTNnDrZu3aoZRWnZsmWaK8tloet2zf1iK++H7cJ4e3u/MIDo+3eeV0nqLukXZyU5l7SpO/euBbVa/cLXnly5w/E/f/5cM5VBcc8j93OJOeItWGYq70SEEREROH/+PJYuXar3NzVz5u7uDqB0H5Jyh+0FcobyK+mwfXm/7ck9rrFKSUnB06dPC/3Jezk7r7Nnz+Ly5cua/y9sOGJD+/nnnzW3Z4wePbrIoTxLqm3bthA5/fQK/OR+Ezt06NAi19HFJIUTJ07EDz/8ACDnA9m4ceNKvO3ixYs1/05KSsKlS5fKVMuKFSuKfK6536IePny4yHX0IfeWl6ioKOzZs6fU2+d+M5p7VSP3v7nLmzVrBoVCgRMnTkCpVOLkyZPIysqCnZ1dsd9Wm6u4uDgMGzZME+KOHDmCtLQ0TXh98uSJ5tafF/nzzz/zDeGaO4yxsSpLuJeSMded+/7j6elZ5OvKf3+qVKkibdHlCAMIlUnu/aLPnj0rdJ6NXLmXuwu7v9QUaiiJ3L4fJb0U/PPPP2PHjh2wsLBASEgIMjMzMWDAAM03LMXJe4yS9Dn5Ly8vL61/ipqnoyjTpk0r1Yt5UlISBg4cCKVSiTp16kAmk2H9+vVYsWJFqZ+nrixYsEAzM/YHH3yABQsWSFaLrkyYMAGzZ88GAHz//felun1q165dmjaoW7cuhBAYOnRoib9FLC/yfrOpzZj+uV/45AaL/wYQGxsbNG/eHKmpqTh9+rTm8ZYtW5b7fkX6sHv3biQlJcHV1RU7d+5EmzZtClyVKsmteFFRURgxYgQAaG43/P777zXtb0xyX99zv60vSmHzYUipJHVLXbOXlxeAnM8WL7pi9l9ubm6avmHFPQ+pn6OUGECoTHLvS87Ozi72G6IDBw4AKHhPb27HsbJ8Q1nWGgwl9x7S8PDwF6579epVTQe8L7/8Ert374aLiwtu3rxZZEfDvHKPUalSJbi4uJS61qKuSJTkJzExsdTHK433338fYWFh8PT0xIEDBzSB58MPP9Sqo2FZLViwIN+Vj+I6aJcXn3zyiea2uO+//77EnUEB4PHjx5pJvoYPH45jx46hSpUqiImJ0VyxMRVhYWGafxd3+0pRcoNEWloaDhw4gLNnz8LNzQ3169fXrJP3KkluB3RtrlTr4rXW2OXeYlS9enXY2dkVuk7u+0BRVCoVBg0ahPj4eISEhODUqVPo3bu3ZiCGuLg4ndddFi+99BKAnL6QRX1IDgsLe+HtV4aWW3dxEwzqcyLdkvw9tGjRAkDOOVHaK5zW1taa8Jr7d1sYYwy1hsIAQmVSt25dzQfrb775ptBbZnbv3q2ZRXXgwIH5HnNycgKQMxKXVDUYSuvWrQHk9EEpbob19PR0DBgwABkZGWjZsiUmT54Mf39/zS0tixcvxubNm4s9Vu5zzT1maZX0cnNhP/q8ErFy5UqsW7cOMpkMK1euRMWKFTFr1iw0aNAAKSkpGDhwILKysvR2/P/KGz4+/PBDk7jy8cknn+S77ao04SP3Q9qzZ88QHByMBQsWwNnZGevWrYOlpSX27t2LuXPn6qt0ncq9f7s4eTuPFteZtigODg6aL0S++uorZGdno02bNvlG9MkNGzt27ND0edImgOjitdbY5Y7Ad+fOnUL7Rl26dAnr1q0rdh/ffPMNjh8/DhsbG2zYsAG2trZYunQpfHx8EB0drQnXxqJPnz6Qy+VITU0tso/gt99+a+CqXix3MJVjx45pOnvnlZmZWWTfQF0oyd9DcHCwpiP85MmTX/jl2n/vbsgdBOT333/H7du3C6wfExODRYsWlaJq08IAQmU2a9YsAMDx48fRr18/zbfvSqUSa9eu1Xzgb968OXr16pVv29q1awPIua1m06ZNktRgKDVr1tTc/pUbEAozfvx43LhxAy4uLli7dq3mMu5rr72Gt99+GwAwcuTIYr/Ryt2/Nh+KjNW9e/cwevRoADltlDtkpbW1NdavXw97e3ucP38ekyZNMkg9v/zyiyZ8jB07FvPnzzfIcfUpb5+PuXPnlnrUqu+//x4HDx6ElZWV5ncC5PRlmDp1KoCcITPzDitrrGbOnInBgwdjz549+T6kZGdn4/Tp0+jTpw9WrVoFAHjjjTeKHSWnOLlhIvdv9r8j5jRp0gQODg44f/48srOz4ejoiIYNG5b6OLmvtbt37zbZ2z46deoEuVyO58+fY9CgQZrnmZWVhU2bNqFTp07FXqk6efIkvv76awDA7NmzNYMouLm5Yc2aNZDL5di5c6dRXeX09/fXvC98+eWXmDNnDlJSUgDk9In56KOPsGzZMq2uhOtT//79UatWLQgh0KdPH2zfvl3z5eHt27fRrVs3vY7GWNLPHgsWLICDgwPu3LmDl19+Gdu3b88Xbh89eoTVq1ejQ4cO+PTTT/Nt+/7778PHxweZmZno0qULDh48qLnicvr0aXTs2LHA6GxmRReTiVD5UJKZ0F+0bWETEQohxNy5czWTj+HfyfKsra01/1+nTh3x6NGjQrft0KGDZj1HR0fh7+8v/P39C8wQ/CJlqcEQExEKIcTYsWMFAPHGG28U+vjmzZs1+ylswsTU1FTN5ExFTbp4+/ZtzeRHMTExWj8fY5KVlSUaNWokAIgGDRoUOrni//73P83EVnv37tV7TXnPNU9Pz2J/xowZo9Nj62MiwoiICM3zkcvlL3xOs2fPzrf96dOnhZWVlQBQ4DEhip9luqz0MRFh3tdLAMLBwUG4u7sLS0vLfMv79+8v0tPTtT7OwYMH8+0vd2bwvLp06aJ5vGvXrkXuq7iJCO/cuSMUCkW+32/ua21UVJRmvZK8jpV0UsP/yjsRYVGTruWdYK4oxU0i9+mnn+ZrT2dnZ815GRAQINauXVvo/uPj4zWzVnfr1q3Q4+ZOJqtQKMSVK1dK/LyFKFmbFfc+W9z2ycnJomXLlprnZWFhIVxdXTWvUVOmTBGtW7cWAMSMGTMKbF/W33lx2xf32M2bN4WXl5dmHRsbG+Hs7Kz5986dOzWP/fPPP/m2Lcl58qLjl/Szx4kTJ/LVaWFhIdzd3TUzpOf+jBgxosAxzp49m2+2czs7O83EuY6OjmLjxo2ciJCoLMaPH49z585h8ODB8PX1RVpaGmxtbfHyyy/jxx9/xNmzZ4scbu+PP/7A+PHjUa1aNSiVSkRERCAiIqLUtwqUpQZDyZ3PY/v27QXu183b8fHtt98udL4POzs7rF+/HjY2Njh+/Di++eabAuusXbsWANC7d2+tOqAbo0mTJuHcuXOwt7fH+vXrC53r4a233sLrr78OIQSGDBmi9+GWRZ57h6XuF6MLeb+Jyx12srif3G9ZASA5OVkzMEBoaGihV07kcjlWr14NNzc33LlzR3M1y1i99dZbWLBgAfr27YsaNWrA2toaCQkJsLe3R506dfDOO+/g+PHj2LBhAxQKhdbHad68uWZobi8vr0KvpOS9KqLtSIXBwcE4fPgwevTogQoVKiAuLk7zWluS283Ki5kzZ2LVqlVo0qQJbG1toVQqERQUhEmTJuHixYtFvgeMHDkSkZGR8PLy0kxE+F9Tp05F8+bNkZGRgQEDBuhsqOuycnBwwMGDBzF79mzUrVsX1tbWmtHhtmzZgq+//lrzfmpMV0Jq1KiBK1euYMyYMahSpQqEEFAoFHj99ddx6tQpTR8MQD91l/SzR4sWLXDnzh3MmTMHrVu3houLCxISEmBhYYGaNWti8ODBWLt2LebNm1fgGI0aNcKVK1cwYsQIeHt7Izs7G87Ozhg6dCguXLhQ5Hw45kAm8r6LEpHetW/fHocPH8bKlSs1M6jqihACwcHBuH//Po4ePap1HxAiIjINKSkpcHd3R1ZWFo4dO1bozOPGaP/+/ejUqRMUCgWSkpI48puJ4RUQIgPL7RD4/fff63xEmk2bNuH+/fvo3LkzwwcREWHu3LnIysqCm5ubZKNAlpYQQtO3s3379gwfJogBhMjAmjVrhn79+uH69eslnhSrJNRqNb766ivI5XLN/A1ERGTakpOTMWDAAPz111/5bh+KiIjAhAkTMG3aNADAuHHjynS7oK4dPnwY48aNw7lz5zS3swkhcP78eXTv3h0HDx6ETCbDxIkTJa6U9IG3YBFJ4MGDB1ixYgWCg4MxaNAgnezz4cOHWLp0KQICAjB06FCd7JOIiIxbQkICXF1dNf+fO9JXcnKyZlnfvn2xYcMGWFpaGry+omzbtg29e/fW/L+rqyvS09M1o0zJZDLMmTMHH330kVQlkh4xgBARERGVU9nZ2fjtt9+wf/9+XLt2DbGxsUhPT4eHhwcaNWqEIUOGoG/fvpDJZFKXms+TJ0+wdOlSHDx4EGFhYYiNjYUQApUrV0arVq0wevRozUTDZHoYQIiIiIiIyGDYB4SIiIiIiAyGAYSIiIiIiAyGAUTHhBBISkrS+fCqRERERESmgAFEx5KTk+Hs7Jxv9AlDUiqV2L59O5RKpSTHL6/Ybtpj22mPbacdtpv22HbaY9tph+2mPVNuOwYQIiIiIiIyGAYQIiIiIiIyGAYQIiIiIiIyGAYQIiIiIiIyGAYQIiIiIiIyGAYQIiIiIiIyGAYQIiIiIiIyGEupCzB3QgioVCpkZ2frZH9KpRKWlpbIyMiASqXSyT7NgTm3m5WVFSwsLKQug4iIiMwEA4hEhBBISEhAbGysTj/wCiHg5eWFqKgoyGQyne3X1Jl7u7m4uMDLy8ssnzsREREZFgOIRJ48eYKEhAQ4OTnByckJlpaWOvnwp1arkZKSAgcHB8jlvMOupMy13YQQSEtLQ0xMDACgUqVKEldEREREpo4BRAIqlQqJiYmoUKECPDw8dLpvtVqNrKwsKBQKs/ogXVbm3G62trYAgJiYGFSsWJG3YxEREZFemdcnLSOhVCohhIC9vb3UpRABAOzs7ADknJtERERE+sQAIiHeb0/GguciERERGQoDCBERERERGQwDyH8cOnQIMpkMMpkM9+7dk7qccu/+/fvo2rUr3NzcIJPJMG/ePM1ya2trHDhwoNT7PHbsGCwtLXHr1i0dV0tERERE+sZO6HkolUp88MEHsLe3R2pqqtTlmIShQ4fi1q1b+PLLL+Hh4YFGjRoBACZNmoTGjRujY8eOpd5n69at0aJFC0yaNAlbtmzRdclERET/T6UCjh+HLCoK7hERQOfOgJWV1FURlWu8ApLHnDlz8Pz5c4wcOVLqUkxCeno6Tp48icGDB2PcuHEYPHgwatSogXv37uH333/Hhx9+qPW+P/jgA2zduhW3b9/WYcVERER5bNkCVKkCtGsHyyFD0PKLL2AZFJSznIi0xgDyr8jISHzzzTeYOXMmnJ2dpS7HJMTGxgLImeQur6VLl8Le3h49evTQet/du3eHg4MDli5dWpYSiYiICrdlC9CvH/DwYf7l0dE5yxlCiLTGAPKvsWPHok6dOhg2bJjUpZiEYcOGwd/fHwAwffp0Tb8aANi8eTNat26tGfoVAOLj4+Hr64uaNWsiPT1ds1ylUqFVq1ZwdXVFVFSUZrmtrS1at26NzZs3G+gZERGR2VCpgLFjASEKPCTLXTZuXM56RFRq7AMC4M8//8SOHTtw+vTpEg9HmpmZiczMzALLk5KSAOT0JylqToXceUDUajXUarX2hRdC/PvCmLt/qYwcORL16tXDRx99hF69eqF3794AgOjoaNy7dw+DBg3KV5+zszOWL1+OTp064aOPPsIvv/wCAPj2229x4sQJrFu3Dt7e3vm2adKkCXbv3o2oqCh4e3uXqV5jaTepqNVqCCGgVCpLPRFh7nnOOURKj22nHbab9syt7VRqgYR0JeJTs5CYrkRKZjbSslRIzVIhLUuFtDz/n65UIVulRrZaoOr1cxj/3ysfeQkBREXhhylLcL9WI1jIZbC0kMPOygJ21hawtc75r521xb/LLOGgsICzrRVc7azhamcFhZV5TPpqbuecLhlD21npqb+T2QeQjIwMjBkzBm+99Zamg3RJzJgxA9OnTy/y8X379uX7hj8vS0tLeHl5ISUlBVlZWZrlQghkKHXz4Tc9LkEn+wEAhZW81PNE1KpVC46OjgCA6tWra263On78OADAy8tLE9ZyNWrUCB988AF+/vlntG3bFu7u7vj666/Rv39/vPLKKwXWr1SpEgDg3LlzmmOVVXJysk72U95kZWUhPT0dx44dQ3Z2tlb72L9/v46rMh9sO+2w3bRXnttOCCAtG0jIAhKyZEjMAhIyZUjIAlKzgdRsGVKVQEo2kJ4NCJR+nqMeN+6XaL2I62HYLXxLvX8AsJIL2FsC9paAnaWAoxXgbA04WwvNf12sc5ZZmsD9KuX5nJOalG3Xs2dPvezX7APIjBkzEB8fjxkzZpRqu88//xwfffRRgeVJSUnw9fVFp06d4OTkVOi2GRkZiIqKgoODAxQKhWZ5WlY2Gswyvj/Qa9NCYWdd+lPFwcEBAGBjY6Npi9zRxSpXrlxo+8yePRsnTpzAmDFj4OjoCB8fHyxatKjQdX18fAAAaWlpRbZ1SQkhkJycDEdHR7OclC8jI0NzW1vec7IklEol9u/fj9DQUL19U2Kq2HbaYbtpr7y0XXJGNiKfp/37k675d3RiBp4mZSIzu3Rf1jnbWsLF1hoOipyrEXbWFrC3zv9vhZUFrCxlsJTL4V05Adj54v12Da2HevVrQKUWyMpWI12pQnqWCmlKFdIyc66qpGWpkJaVjeSMbCSkK5GQpkS2WkCplv0bogC8ICS52lmhsosCfq528HOzg6+bLfzcbOHraodKzgpYyI33fau8nHPGyJTbzqwDyOPHjzFr1iyMHz8eKSkpSElJAQAkJCQAAB49egRra2v4+fkV2NbGxgY2NjZF7tvKyqrIk0WlUkEmk0Eul0Mu//+vNfL+25j8t87SbAdA81yLWpaXQqHAmjVrUKdOHcTExOD48eMFOrHrqr68cm+7KqouUyeX51zlKu68fZGybGvu2HbaYbtpzxjaTq0WeJSQjrsxybj9JAV3Y5IR/iwVEXFpeJ6a9cLt3e2t4eWsgJeTQvNfD0cbzS1ObvbWcLW3houtFSwtSvm63jIAmP0Z8OhRof1AIJMBPj7oMmoAUMrbVoUQSMnMRkKaEvFpWYhPUyIhLQuxyZl4kpiBJ0kZeJqU+99MZGWrEZ+mRHyaEtejC16lt7KQwcfVDlU97BHk6YBqFR0R7OmAoIoOWn15qC/GcM6VV6bYdsZzZkrg6dOnyMzMxMyZMzFz5swCj7dt2xb29vaaYKJvtlYWuPFV5zLtQ61WIzkpGY5Ojjr7IG2rw/tUK1SoACCn03lRdu/eremTcfnyZbRs2bLQ9XL34eHhobP6iIhI9+JTs3AtOhG3HifjztOcn7sxKUjLKroTt7u9Nfzd7eDvbv/vf+3g7ZLzjX9FJxvYWOqxD4WFBfDTTzmjXclk+UKIkMlyrlfMm1fq8AHkfNHlqLCCo8IKvm6F36qtOZYQSEhT4nFiBh7Gp+W5KpSGyLg0RMWnQakSCH+WivBnqTh4Kybf9j6utqjm6Yjgig4IqeyEWpWdEeBhb9RXTMg8mHUACQgIwNatWwss37BhAzZu3IiFCxdqbvMxBJlMVuZvK9RqNbL/vaxsjN/k16xZEwCKnGX+8uXLmDJlCnr16oWMjAxMmDABHTp0QI0aNQqse/9+zj26ISEh+iuYiIhKJT41C1cfJeLqo0Rc+/e/D+PTC13XykKGwAoOCPZ0RLWKDgis6AB/95zbjBwVEn/j26cP8McfOaNh5e2Q7u2dE0769NF7CTKZDK7/XskJqVzwVmOVWuBJUgYinqXifmwK7jzNuZJ092kK4lKz8DA+HQ/j03EoTzCxs7ZASCUn1PZ2/vfHCUEVHEp/lYioDMw6gDg7O6NXr14Fll+6dAkA0LFjRwQFBRm2KBPn5eWFoKAgnDlzpsBjGRkZGDRoENzd3bFkyRJkZ2ejTp06eOONN3D69OkClx9Pnz6NKlWqlHkELCIi0o5SpcbNx0k49yAe5yPicSkqAY8SCg8bVdztEFLZCdU8Hf/9cYC/uz2sjPmDb58+QM+ewPHjyI6KwqmICDT95BNYlbKvnL5YyGXwdrGFt4stmgflvxsgLiUT92JScCcmBXeeJON6dCJuPE5CWpYK5yLicS7i/+9EsLGUo66PM17yd0VDP1e85O8KD4eibzMnKiuzDiAkjT59+uDnn39Gamoq7O3tNcsnTpyIGzduYM+ePZrbqpYsWYLevXvjiy++yHebXHp6Oo4fP4533nnH4PUTEZmrxDQlLkTF4/yDeJyLeI7LUYlIVxa8jSrAwx61vZ1Rxzvnm/ZalZ3hbFtO72G3sADatoVQKhG3e7dWt11Jwd3BBu4ONmha1V2zTKUWCItNwbXoRFx7lIRrjxJxPToJKZnZOPsgHmcf/H8oqeJulxNI/v2pVtERct66RTrCAFKIadOmYdq0aVKXYbJGjhyJ2bNnY9u2bRg0aBCAnGGLf/75Z4wePRqdO/9/P5hevXpp1n/llVfQpk0bAMCuXbuQnJyMESNGSPIciIjMQUpmNs6Ex+Hve3E4eT8Ot54kFeiT7WxrpfmQ2sDPBbW9neEk9e1TVCgLuQzBno4I9nRE7wY5y9RqgfC4VFyIiMeFyJwrWXeepuBBXBoexKVhy4VHAAA3e2u8XNUNzQI90DzQHVU97M1y1EjSDQYQ0psqVapoOpPnFRQUhNdeew2//PKLJoB06tSpyAkAFy9ejMWLF+db9ssvv6BXr16F9g0hIiLtZChVuBAZj3/ux+HkvWe4/DARKnX+1/EAD3u85OeKRlVc0cjfFYEVHPjNeDkml+f0wwms4IDXGuXMaZKYpsTFqHhciIjH+ch4XIhIwPPULOy++gS7rz4BAHg62aB5oAeaVXVH8yB3+LgW36GeKC8GEJLEd999h5o1a2rGty6N48eP48SJE7h27ZqeqiMiMh8Rcak4fCsGh2/H4lRYXIE5Nvzc7NAiyB3N/v2wWcGRfQNMnbOdFdpWr4i21SsCALKy1bjyMAF/34/D3/ef4UJkAp4mZWLrxUfYejHnCklgBXu0+3ebxgGu+h2ljMo9BhCSRGBgYL5Z4EujVatWWs/WTURk7rLVwMn7cTh+7zkO345BWGxqvscrONqgeaA7WgR6oFmg+wuHiiXTZ20pR6MqbmhUxQ1jOgTnXCmLiNcEkssPE3E/NhX3Y8Ox9EQ47Kwt0DzQA+1qVEDLqq5Sl09GiAGEiIjIxCWkZeHAzRjsvfYYx25bIPP0ec1jFnIZGvm7on2NnG+vq3k68N5+KpbCygLNgzz+HXmrOhLTlThx9xmO3I7BkTuxiE3OxIGbT3Hg5lMAQCVbC9y2voeudSujVmUnnl/EAEJERGSKYpIysPfGU+y99gT/hMXl6cshg4eDNdpWr4j2NSqiZbAHO41TmTjbWuHVupXwat1KUKsFbjxOygkjt2NxITIej9Nl+PVoGH49GgZvF1t0ruWFzrU80aiKGydFNFMMIERERCYi6nka9l5/gj3XnuBCZHy+EatqeDmiY40KUMTdwch+obCxsZauUDJZcrlMM8nh6PbBiE1Mw0+/H0CMdSUcu/sMjxLSsexkOJadDIe7vTVCQzzRpbYXWgR5GPecMKRTDCBERETlWExyBv688hjbL0XjUlRCvsfq+7qgS20vdK7lhQAPeyiVSuzefYejVpHBuNhZoXEFga5d6yNbyHHsbiz2XnuCAzefIi41CxvORmHD2Si42Vvjldpe6FGvMhpXceM5auIYQIiIiMqZpAwl/rr2BDsuRePv+8+Qe3eVXAY0DXBHl9pe6FTLE5WcbaUtlCgPW2uLf2+/8oJSpcbpsOfYc+0x/rr2BHGpWVh7OhJrT0eikrMC3etVRo967DNiqhhAiIiIyoHMbBUO3YzB9kvROHQ7Bll5hstt4OeCnvUqo2vdSqjoqJCwSqKSsbKQo2WwB1oGe2B6j1r4+34cdlyOxt5rT/A4MQOLj4Vh8bEwVK1gj571vNG3oTfnGjEhDCBERERG7EZ0Ejadi8K2S4+QkKbULA+q6IBe9Suje73K8He3l7BCorKxtJCjdbUKaF2tAr7pVRtHbsdix+VHOHgzZ5joHw/cwbyDd9A80B2vNfRF51pesLXmPCPlGQMIERGRkUlIy8L2S9H4/XwUrj1K0iz3dLJBr/re6FnfGzUrOfLWFDI5CisLdKnthS61vZCcocS+60+x+cJD/H0/Difv5fw42liiW71K6NfQFy/5ufDvoBxiACEiIjICarXAiXvPsOlcFPZdf4osVc4tVlYWMnQK8UK/Rj5oHVyBw5aS2XBUWKFvQx/0beiDqOdp2HLhEf64EIWo5+lYfyYK689EIbCCPV5v5IvXGvnCzZ4ju5UXDCBEREQSik/Nwu/no7D2dCQi4tI0y2tWcsLrjXzQs743P1iR2fN1s8PYjsH4sH0QToc/x+/no7Dn6hPcj03FjD238MO+O+haxwuDX/ZHQ39XXhUxcgwgREREBiaEwMWoBKw5FYFdVx5rOpQ72lii90veeL2RL2p7O0tcJZHxkctlaBbojmaB7viqZzZ2XY7G2tORuPooEdsuRWPbpWjU8HLEoKZ+6NXAG46cZNMoccYX0psjR45AJpNBJpPh22+/LXSdjRs3atZZsWKFYQsspbCwMEybNg2XLl0q8TabNm3CsGHDULt2bVhaWmr1jUx6ejo+/fRT+Pr6QqFQoHbt2liyZEmZ1yUiw0vLysb6M5HotuAE+vz6N7ZceISsbDVqVXbCzD51cHpyB3zVszbDB1EJONhYYkATP+z8sCV2jG6B1xv5QGElx60nyfhi+3W8/N1BTNp6FbeeJL14Z2RQvAJCeqdQKLBq1SpMnjy5wGMrV66EQqFARkaGBJWVTlhYGKZPn44qVaqgfv36Jdrm119/xZkzZ9CgQQP4+fkhPDy81Mft168f9u3bh9GjRyMkJAR//vkn3nnnHSQkJGDChAlar0tEhhOdkI6Vfz/A+jORSMrIBgBYW8rRvW5lDH7ZD/V92ZGWqCzq+rjg+34umNw1BFsuPsSaUxG4H5uKdacjse50JFoEueOtFgFoV70iJzk0AgwgpHc9evTApk2bcOrUKbz88sua5U+ePMG+ffvQr18/bNy4UcIK9WfVqlWoXLkyLC0tMXjw4FIHkF27dmH37t2YO3cuxo8fDwAYOXIkevbsialTp2LYsGGoUKFCqdclIsO4FJWA/50Ix+6rj6H6d7ZAf3c7DG7qj34NfeDKvh1EOuVsZ4XhLQIwrHkVnAp7jtWnHuCva080I2gFeNhjeIsq6PuSD+xt+DFYKrwFi/SuQ4cO8Pb2xqpVq/ItX7NmDaytrfH6668X2CYpKQmTJk1Cw4YN4eLiAltbWzRo0ACrV6/Ot15YWBicnJzQrl07qNX/PylXamoqqlWrhqpVqyIpqfhLr+vXr8err76KkJAQKBQK+Pr6YvTo0fm2W7FiBUJDQwEAw4cP19w2Nm3atGL37efnB0tL7V/g1q9fD4VCgffeey/f8nHjxiE9PR3bt2/Xal0i0p9slRq7rz5G34V/o9cvJ7HzcjRUaoFmVd2xdEgjHP64LUa2rsrwQaRHMllOX5FfBzXEsYnt8E7rqnBUWCL8WSq+3H4dzWYcxIzdNxGdkC51qWaJAcTUqFSwPHECWL8eOHIEUKmkrghyuRyDBw/Ghg0bkJWVpVm+cuVK9OzZE05OTgW2iY6OxqpVq9CmTRt89913mDFjBhwdHTFkyBAsW7ZMs17VqlUxf/58HDlyBHPmzNEsHzNmDMLCwrB69epC95/XokWL4OjoiHfffRfz589Ht27dsGTJEnTv3l2zTuvWrfHZZ58BAN555x2sXr0aq1evRp8+fbRul5I4d+4c6tWrB1tb23zLmzZtqnlcm3WJSPfSsrKx7EQ42s45glFrL+B8RDysLGTo85I3/hzTEuvfeRkdQzx5+weRgfm42mFS15o49XkHTO9RC1Xc7ZCUkY3fjoWh1feHMXbDRdx8zH4ihsRrT6ZkyxbIxo6Fw8OH/7/Mxwf46SdAzx+UX2To0KGYNWsWdu7cib59++LChQu4du0aZs+eXej6VatWxYMHD/JdPRg7diw6duyIWbNm4a233tIsHzZsGP7880988cUXCA0NRXh4OJYtW4YvvvgCLVq0eGFte/bsgUKhQFJSEpycnCCXy/Hyyy9j2LBh+Oeff9CsWTNUrVoVHTp0wMyZM9GsWTMMHjy47I1SAtHR0ahdu3aB5XZ2dnB1dcWjR4+0WpeIdCchLQsr/47Air/DEf/vTOWudlYY/LI/3nzZHxWdFBJXSEQAYG9jiaHNq+DNl/1x6FYMlp0Mx9/347D9UjS2X4pG+xoV8X7bQDSu4iZ1qSaPAcRUbNkC9OsHCJF/+aNHOcv/+EPSEFKzZk00atQIK1euRN++fbFy5UpUqlQJoaGhOHz4cIH1ra3//9aErKwspKSkQK1Wo2PHjpg0aZImLOT67bffcOrUKQwYMADPnj1DkyZN8OWXX5aoNjs7O6jVaqjVaiQmJkKlUqF169YAgLNnz6JZs2ZlfPbaS0tLg42NTaGPKRQKpKena7UuEZXd06QMLD0ehnWnI5GalXO12d/dDu+0roq+L/lAYWUhcYVEVBi5XIaOIZ7oGOKJa48Ssejofey++hiHbsXg0K0YNPJ3xah2gWhXvSIHh9ATBhBToFIBY8cCQqDAn4kQgEwGjBsH9OwJWEj3hjh06FB89NFHiI6Oxrp16zBs2DBYFFGPEAI//fQTFi1ahDt37kD8J1glJCTkCyBubm747bff8Oqrr0KhUGDt2rUl7ntx5swZTJo0CSdPniwwGldCQkLpnqSO2dnZITMzs9DHMjIy8t1uVZp1iUh7D56l4rdj97H5/CPNbOU1vBwxql0Qutb2gqUF724mKi9qezvj5zde+vfvOgybzz/EuYh4vLXiHGp4OeK9NoHoVrcS/651jK1pCo4fB/LedvVfQgBRUTnrSWjgwIGQyWQYMmQInj17hqFDhxa57uzZszF+/HgEBQVh2bJl2L17N/bv368Z3Slvh/Ncf/75J4CcD9u3b98uUU0PHjxAu3btcPfuXUyePBlbt27F/v378ddffxV5HEOqXLlyobdOpaWlIT4+Ht7e3lqtS0Sldy8mBWM3XET7H45g/ZkoZKnUaFzFFcuHNcaesa3Qo15lfkghKqeqeNhjRp86OPFpO7zbuirsrS1w60kyxm28hI5zj2Lz+YfIVkn7mcCU8AqIKXj8WLfr6Ym7uzu6du2Kbdu2oUGDBoX2V8i1fv16BAQEYOfOnfkufx46dKjQ9ffs2YNff/0Vo0aNwokTJ/DWW2/h6tWrqFixYrE1bd++HWlpaVixYgUaNGig6QNy586dAutKcRm2YcOG2Lp1K9LT0/NdwTh9+rTmcW3WJaKSux+bggUH72LH5Wj8O5Iu2lWvgFHtgnivOJGJqeikwOdda2JU2yCsOR2B/50Ix4O4NHz8+2UsOHQXH7YPRs/6/LKhrNh6pqBSJd2up0eTJ0/G1KlTi+x8niv31qy8VyDi4uLyjYCVKzY2FsOHD0ft2rUxd+5crF27FklJSXj77bdfWE9hxwFQaH329vYAgPj4+BfuVxuRkZG4detWvmUDBw5ERkYGFi1alG/5vHnzYGtri549e2q1LhG9WPizVIzfeAmhc49i26Wc8BEa4oldH7bE8uFNGD6ITJiznRU+aBeE4xPb4bNXasDN3loTRHhFpOx4BcQUtGqVM9rVo0cFO6EDOX1AfHxy1pNYo0aN0KhRoxeu16tXL3zxxRfo1q0bevXqhZiYGCxevBje3t54+vRpvnVHjBiBhIQE7Nu3DzY2NqhduzZmzpyJcePGYdGiRQXmxcirS5cuUCgUGDZsGEaMGAE3Nzf8+eefiI2NLbBurVq1YGtri4ULF8LBwQGOjo6oXbt2sVdyjh07hmPHjgEArl27BgD45ptvAAD+/v548803NesOGTIER48ezdffpXv37ujcuTMmTpyIqKgohISEYNeuXdixYwdmzJiR7wpPadYloqI9eJaK+YfuYtvFR5orHh1remJcx2DU9naWtjgiMih7G0u81yYQb77sj9WnIrD4WFi+KyKj2wejF6+IlBoDiCmwsMgZardfPwiZDLK8IST3tqF58yTtgF5an332GZRKJVauXInDhw8jICAAn376KRwcHDB8+HDNeosXL8aOHTvwww8/oG7duprlY8aMwe7du/Hxxx+jXbt2qF69eqHHCQoKwq5duzBp0iR8//33sLOzw6uvvorVq1cX+MDu6OiIlStXYtq0afjggw+gVCoxderUYgPIoUOHMH369HzLvvjiCwBAmzZt8gWQomzZsgVTp07F+vXrERsbi8DAQCxatAjvvvtumdYlovyiE9Lx04G7+OPCQ82s5R1qVMS4jtVQx4fBg8icFRVEPvn9MhYeuYcJnaujcy0vjppVQjLx3+GFqEySkpLg7OyMxMTEIifAy8jIQHh4OAICAqBQ6HB8+C1bIMaOhSxvh3Rf35zwIfE8IMZOrVbnmwfE3JTlnFQqldi9eze6du0KKysrPVVomth22tF1u8WnZmHh0ftY8fcDZGXn3FLRvkZFjO0QjHq+LmXevzHhOac9tp12TLXdUjOzsfpUBBYdvY+Ef+f/qefrgk87V0fzIA+dHMNU2w7gFRDT0qcPRPfuSN27F3aJiZB7e+fcdlWOrnwQERlKWlY2lp98gEVH7iM5MxsA0CTADZ92qYGG/q4SV0dExiz3isgbTf2w9FgYlp4Ix+WoBLyx9DRaBXtgQufqqOvjInWZRosBxNRYWCC7ZUvAyQkww2/yiYheRKlSY8PZKMw/eBexyTlz59Ss5ISJXaqjbbUKvIWCiErMSWGFjzpVx5vNquCXw/ew9nQEjt99huN3n6FrHS983Kk6Ais4SF2m0WEAISIisyCEwJ5rTzDrr1uIiEsDAPi62eKTTtXRvW5lyOUMHkSknQqONpjWoxbebhmAH/ffwdZLj7D76hPsvf4UbzTxw7iOwXB3sJG6TKPBAEJERCbvUlQCvtl1A+cicobR9nCwxoftgzGwiR+sLXm1mIh0w9fNDnP718c7bapizt7bOHAzBqtPRWDbxUf4oH0QhjWvAoUVb41nACEiIpMVnZCO7/+6hW2XogEACis53mkdmDPTsQ3fAolIP2p4OWHp0Mb4534cvvnzBq5HJ2HmnltYcyoCn3apgW51K5n17Z589SUiIpOTmpmNRUfvY/GxMGT+O7JVn5e8MaFzdVRytpW4OiIyF80C3bFzdEtsufgIs/fewsP4dHy4/iKWnwzHlG4heMnPPAe8YAAhIiKToVIL/HE+CnP23dF0MG9SxQ1TutXkiDREJAm5XIZ+DX3QtY4XlhwLx6Kj93EhMgF9fv0b3etVxuev1EBlF/P6YoQBREKcgoWMBc9FMgUXIuMxdft1XH2UCADwc7PDpK41ODkYERkFO2tLjO0YjAFNfPHDvtv4/fxD7LwcjQM3nmJ0+yCMaBUAG0vz6B/CACIBKysryGQypKamwtbWvBIvGae0tJwRgUxtoiMyD89SMjFrzy38fj5nElZHG0uM6RCMIc39zebNnIjKD08nBb7vVw9Dm1fBtB3XcfZBPGbvvY1N56IwtXsI2tfwlLpEvWMAkYCFhQWcnZ0RGxuLzMxMODk5wdLSUiff0KnVamRlZSEjI8MsZ/TWlrm2mxACaWlpiImJgYuLCyw4aSWVI9kqNdaeCccP++8gOSNnIsF+DX3waZcaqODI4S6JyLjVquyMTe82w/ZL0fhu901ExKXhrRXn0L5GRXzZLQTeztZSl6g3DCAS8fLygq2tLWJiYpCUlKSz/QohkJ6eDltbW95yUArm3m4uLi7w8vKSugyiEruXBPy68BRuP00BANT2dsL0HrU5gzkRlSsymQy9GnijY4gnFhy8i2Unw3HoVgxO3H2Gt1v4I0AldYX6wQAiEZlMBhcXFzg7O0OlUiE7O1sn+1UqlTh27Bhat27N22lKwZzbzcrKilc+qNyISc7ANztvYMd1SwApcLGzwoTO1TGgsR8sOJEgEZVTDjaW+LxrTbze2BfTdlzH8bvPsPBYOFysLVCtYRLq+7tLXaJOMYBITCaTwdLSEpaWuvlVWFhYIDs7GwqFwuw+SJcF243IuKnVAuvORGLWX7eQnJENGQT6N/bFp11qwtXedG9TICLzEljBAaveaoJ9N57i653XkZiaDj83O6nL0jkGECIiMmq3niRh0paruBCZAACoXdkJnd2f470eIfzCgIhMjkwmQ+daXmge4IJV2/bCUWF6H9dN7xkREZFJSM9SYf6hu1hyLAzZagF7a4uc260aeWPvX3ukLo+ISK8UVhbwsZe6Cv1gACEiIqNz5HYMvth+DVHP0wEAnWt5YlqPWqjkbAulUilxdUREVBYMIEREZDRikzMxfed17LryGABQ2VmB6T1rIzTE9MfFJyIyFwwgREQkOSEEtl+KxrSd15GQpoRcBgxvEYCPQqvB3oZvVUREpoSv6kREJKkniRmYvPUqDt6KAQDUrOSE7/vWRR0fZ4krIyIifWAAISIiSQghsPFsFL798yaSM7NhbSHHmA5BeLdNIKws5FKXR0REesIAQkREBhf1PA2fb7mKE/eeAQDq+bpgdr+6qObpKHFlRESkbwwgRERkMGq1wOpTEZj11y2kZalgYynHhM7VMbxFAGcyJyIyEwwgRERkEI8S0vHJpsv4JywOANAkwA2z+tZFgIeJDnRPRESFYgAhIiK9EkLgj/MP8dXOG0jOzIatlQU+71oDg5v6Q86rHkREZocBhIiI9OZZSiY+33IV+288BQC85OeCua/XRxVe9SAiMlsMIEREpBd/XXuMSVuv4XlqFqwsZBgfWg3vtg5kXw8iIjPHAEJERDqVmK7E9B3XseXiIwBADS9HzH29PkIqO0lcGRERGQMGECIi0pnTYXEYv/ESohMzIJcB77UJxNiOwbCxtJC6NCIiMhIMIEREVGZKlRrzDtzBr0fuQwjA390Oc1+vh4b+blKXRkRERoYBhIiIyiQiLhVjNlzC5agEAMDrjXwwtXst2NvwLYaIiAriuwMREWlFCIHNFx5h6vZrSM1SwUlhiRl96uLVupWkLo2IiIwYAwgREZVaYroSU7Zdw87L0QByJhX8sX99eLvYSlwZEREZOwYQIiIqlXMPnmPshkt4lJAOC7kM4zsG4/22QRxel4iISoQBhIiISkStFlh49D7m7r8DlVrAz80OPw2ojwZ+rlKXRkRE5QgDCBERvdCzlEx8tOkyjt2JBQD0buCNr3vVhgM7mhMRUSnxnYOIiIp1KiwOY9ZfRExyJhRWcnzVozZea+QDmYy3XBERUekxgBARUaFUaoFfDt/DvAN3oBZAUEUH/DroJVTzdJS6NCIiKscYQIiIqIDY5EyM23gRJ+/FAQD6NfTBVz1rwc6abxtERFQ2fCchIqJ8/r73DGM2XMKzlEzYWlngm1610behj9RlERGRiWAAISIiADmjXC06dh9z9t6GWgDVPR3xy6AGCKrIW66IiEh3GECIiAiJ6Up8vOkyDtx8CiDnlquve9aGrbWFxJUREZGpYQAhIjJzNx8n4f015/EgLg3WFnJM71kLAxr7cpQrIiLSCwYQIiIztuXCQ0zaehUZSjW8XWyxcPBLqOvjInVZRERkwhhAiIjMUGa2Cl/vuoE1pyIBAK2rVcBP/evD1d5a4sqIiMjUMYAQEZmZ6IR0vL/2Ai5HJUAmA8a0D8aYDsGwkPOWKyIi0j8GECIiM3Im/DneX3MecalZcLa1wrz+9dGuRkWpyyIiIjPCAEJEZAaEEFhzOhLTd1xHtlogpJITfnuzIXzd7KQujYiIzAwDCBGRicvMVmHq9uvYcDYKANC9XmV837cuh9glIiJJMIAQEZmwmKQMvLfmPC5E5vT3+LRLDbzbuiqH2CUiIskwgBARmaiLkfF4b815PE3KhJPCEvMHNkDb6uzvQURE0mIAISIyQZvORWHK1mvIUqkRXNEBi4c0QoCHvdRlERERMYAQEZkSlVrg2z9vYtnJcABApxBPzO1fHw42fLknIiLjwHckIiITkZyhxIfrL+LI7VgAwLiOwRjTPhhyzu9BRERGhAGEiMgERD1Pw9srz+LO0xQorOSY+3p9dK1TSeqyiIiICpBLXYDUzp07h3HjxqFu3bpwdHSEl5cXOnTogAMHDkhdGhFRiZyPeI5ev5zEnacpqOhog03vNmP4ICIio2X2AWTmzJlYu3Ytmjdvjh9++AETJ05ETEwMQkNDsXDhQqnLIyIq1taLDzFw8WnEpWahVmUnbB/dAnV9XKQui4iIqEhmfwvW+PHjsXbtWtjY2GiWvf/++6hfvz4mT56MkSNHwtLS7JuJiIyMWi0wd/8d/Hz4HgCgcy1P/Ni/Puys+XpFRETGzeyvgLRo0SJf+AAAW1tbdOvWDfHx8Xjy5IlElRERFS49S4XR6y9owseotoFYOKghwwcREZULfLcqQnR0NCwtLeHi4iJ1KUREGk+TMjBi5TlcfZQIKwsZZvSpi34NfaQui4iIqMQYQApx8+ZNbNmyBT169ICDg0Oh62RmZiIzM7PA8qSkJACAUqmEUqnUa52FyT2mFMcuz9hu2mPbaa+0bXfrSTJGrL6Ap0mZcLWzwi8D66NxFVeza3uec9pj22mPbacdtpv2jKHtrKys9LJfmRBC6GXP5VRiYiKaNWuG6OhoXL58Gf7+/oWuN23aNEyfPr3I/axbtw52dnb6KpOIzMytBBmW3ZEjUyWDp63AOzVU8FBIXRUREZmynj176mW/DCB5pKeno3Pnzjhz5gz27NmDdu3aFblucVdAfH198ezZMzg5Oemz3EIplUrs378foaGhekutpojtpj22nfZK2nabLzzClO03kK0WaFLFFb++UR/Otubb1jzntMe20x7bTjtsN+0ZQ9vp67i8BetfWVlZ6N27N/755x/88ccfxYYPALCxsSnQeT0vKysrSf/QpD5+ecV20x7bTntFtZ0QAvMP3sOPB+4AAHrUq4zZr9WFjaWFoUs0SjzntMe20x7bTjtsN+2ZYtsxgADIzs7G66+/jv3792PVqlV6u9xERFRSSpUak7dexaZzDwEA77cNxIRO1SGXyySujIiIqGzMPoCo1WoMHjwY27dvx6JFizBo0CCpSyIiM5eSmY1Ray/g2J1YyGXAVz1rY/DLhfdHIyIiKm/MPoB88skn2LhxI1q3bg17e3usWbMm3+OhoaHw9PSUqDoiMjdPkzIwfPlZ3HicBFsrC/z8RgN0qMnXICIiMh1mH0AuXLgAADh27BiOHTtW4PHDhw8zgBCRQdx5moxhy84gOjEDHg7WWDasMer6uEhdFhERkU6ZfQA5cuSI1CUQEeFUWBxGrjqH5IxsVK1gj5XDm8DXjUN5ExGR6TH7AEJEJLV9N55i/O9XkZWtRuMqrlj8ZiO42ltLXRYREZFeMIAQEUnon6cybDp1GWoBdArxxPyBDaCw4jC7RERkuhhAiIgkIITAwqNh2BCWEzYGNPbFN71qw9JCLnFlRERE+sUAQkRkYGq1wNd/3sDykw8AAO+3DsDEV2pCJuMcH0REZPoYQIiIDCgrW40Jf1zG9kvRAIDeVVT4KDSY4YOIiMwGAwgRkYGkZWXj/TUXcPROLCzlMszsUxtWjy5KXRYREZFB8WZjIiIDiE/NwhtLTuPonVgorORYMrQRetarJHVZREREBscrIEREehadkI4hy87gXkwKnG2tsGxYYzT0d4VSqZS6NCIiIoNjACEi0qPwZ6kYtOQUohMz4OWkwKq3m6Cap6PUZREREUmGAYSISE9uPUnC4KVn8CwlE1U97LF6RFN4u9hKXRYREZGkGECIiPTgclQChi4/g4Q0JWpWcsLqt5vAw8FG6rKIiIgkxwBCRKRjp8Pi8PbKc0jJzEZ9XxesHN4EznZWUpdFRERkFBhAiIh06OidWLy7+hwylGq8XNUNS4c2hoMNX2qJiIhy8V2RiEhH/rr2BB+uvwClSqBd9QpYOLghFFYWUpdFRERkVBhAiIh0YOvFh/jk9ytQqQW61vHCvP4NYG3JqZaIiIj+iwGEiKiM1p6OwJRt1yAE0K+hD2b2qQNLC4YPIiKiwjCAEBGVweJj9/Hd7lsAgKHN/DG1ey3I5TKJqyIiIjJeDCBERFpacPAufth/BwDwfttATOxcHTIZwwcREVFxGECIiEpJCIF5B+7ip4N3AQCfdKqG0e2DJa6KiIiofGAAISIqBSEE5u6/gwWH7gEAPn+lBt5tEyhxVUREROUHAwgRUQkJITB77238euQ+AGDKqzUxolVViasiIiIqXxhAiIhKQAiBmXtu4bdjYQCAL7uF4K2WARJXRUREVP4wgBARvYAQAt/+eRNLT4QDAKb3qIWhzatIWxQREVE5xQBCRFQMIQS+2nUDy08+AAB83as23nzZX9qiiIiIyjEGECKiIgghMG3Hdaz8JwIA8F3vOnijqZ/EVREREZVvDCBERIVQqwW+3HENa05FQiYDZvWpi9cb+0pdFhERUbnHAEJE9B9qtcDkbdew/kxO+Jjdrx76NfSRuiwiIiKTwABCRJSHEAJTd1zH+jORkMuAOa/VQ5+XGD6IiIh0RS51AURExiK3w/nqUxGQMXwQERHpBQMIERH+f56P3NGuZvWpy/BBRESkBwwgREQA5u6/o5lk8NvetdnhnIiISE8YQIjI7P104C4WHLoHAJjWPQSDmnKeDyIiIn1hACEis/bL4Xv48cAdAMCUV2tiWIsAiSsiIiIybQwgRGS2lhwLw+y9twEAE7tUx4hWVSWuiIiIyPQxgBCRWVpxMhzf7r4JAPgotBpGtQ2SuCIiIiLzwABCRGZnzakITNt5AwDwYfsgjOkQLHFFRERE5oMBhIjMyu/nojBl2zUAwLttquKj0GoSV0RERGReGECIyGzsvvoYn26+AgAY3qIKPutSAzKZTOKqiIiIzAsDCBGZhSO3YzB2w0WoBTCgsS++7BbC8EFERCQBBhAiMnmnw+Lw3przUKoEutWthG9712H4ICIikggDCBGZtCsPE/D2ynPIUKrRvkZF/Ni/PizkDB9ERERSYQAhIpN152kyhiw7g5TMbLxc1Q2/DnoJVhZ82SMiIpIS34mJyCRFxKVi8NLTSEhTop6vC5YObQyFlYXUZREREZk9BhAiMjmPE9MxaOlpxCRnorqnI1YObwwHG0upyyIiIiIwgBCRiYlLycTgpafxMD4dVdztsHpEE7jYWUtdFhEREf2LAYSITEZiuhJDlp3B/dhUVHZWYM2IpqjoqJC6LCIiIsqDAYSITEJ6lgpvrziL69FJ8HCwxpoRTeHjaid1WURERPQfDCBEVO4pVWqMXncB5yLi4aiwxKq3mqJqBQepyyIiIqJCMIAQUbkmhMDnW67i4K0Y2FjKsWxYY4RUdpK6LCIiIioCAwgRlWsz/7qFP84/hIVchl/eeAmNq7hJXRIREREVgwGEiMqtJcfC8NvRMADAjD510DHEU+KKiIiI6EUYQIioXNp8/iG+3X0TAPDZKzXweiNfiSsiIiKikmAAIaJy59Ctp5i4+QoAYETLALzbuqrEFREREVFJMYAQUblyPuI5Rq29AJVaoE8Db0zqWhMymUzqsoiIiKiEGECIqNy4/SQZw5efRYZSjXbVK2BWv7qQyxk+iIiIyhMGECIqFx7Gp2HIstNIysjGS34u+GXQS7Cy4EsYERFRecN3byIyes9TszBk2Rk8TcpEcEUHLBvWGHbWllKXRURERFpgACEio5aepcLbK88iLDYVlZ0VWPV2E7jYWUtdFhEREWmJAYSIjJZKLTB2w0VcjEyAk8ISK99qgkrOtlKXRURERGXAAEJERkkIgek7r2PfjaewtpBj6dDGCPZ0lLosIiIiKiMGECIySouPhWHVPxEAgB/710eTADeJKyIiIiJdYAAhIqOz/dIjzNhzCwAw5dWaeLVuJYkrIiIiIl1hACEio/L3/Wf45PfLAIC3WgRgRCvOck5ERGRKGECIyGjcfpKMd1efh1Il0LWOF6a8WlPqkoiIiEjHGECIyCg8SczAsOVnkJyRjcZVXDH39fqc5ZyIiMgEMYAQkeSSMpQYtvwMHidmILCCPZYMaQSFlYXUZREREZEeMIAQkaSystV4f8153HqSjAqONlgxnBMNEhERmTIGECKSjBACn225gpP34mBnbYHlwxrD181O6rKIiIhIjxhAiEgyCw7dw5YLj2Ahl+HXQS+htrez1CURERGRnjGAEJEktl96hLn77wAAvupZC22rV5S4IiIiIjIEBhAiMrhzD55jwu9XAAAjWwVgUFN/iSsiIiIiQ2EAISKDiohLxTurzyNLpUanEE989grn+iAiIjInDCBEZDCJaUoMX3EWz1OzUMfbGfMG1IcF5/ogIiIyKwwgRGQQWdlqvLvmHMJiU1HZWYH/DW0EO2tLqcsiIiIiA2MAISK9E0Jg0tarOBX2HA42lvjfsMao6KSQuiwiIiKSAAMIEendr0fu44/zDyGXAQveaICalZykLomIiIgkwgBCRHq183I0Zu+9DQCY3qMW2nG4XSIiIrPGAEJEenM+Ih4f/34ZAPBWiwC82ayKtAURERGR5BhAiEgvop6n4Z1V55CVrUbHmp6Y/CqH2yUiIiIGECLSg5TMbIxcdQ5xqVmoVdkJP3G4XSIiIvoXAwgR6ZRaLTBuwyXcepKMCo42WDq0EextONwuERER5WAAAaBSqTBz5kwEBQXBxsYGQUFBmDlzJlQqldSlEZU7s/fdxoGbT2FtKcfiNxuikrOt1CURERGREeHXkgA+/PBDLFy4EMOHD0fz5s1x8uRJfP7554iKisIvv/widXlE5caWCw+x8Mh9AMDsfnXRwM9V4oqIiIjI2Jh9ALl69SoWLVqEMWPG4KeffgIAjBgxAk5OTliwYAHee+891KlTR+IqiYzfxagEfLb5KgDgg3aB6FnfW+KKiIiIyBiZ/S1YGzZsgBAC48aNy7d83LhxEEJg48aN0hRGVI7EZwKj1l1ClkqNTiGe+Di0utQlERERkZEy+ysg586dg6enJwICAvItDwgIQMWKFXHu3DmJKiMqH9KysrHklgWepWWhhpcjfuxfH3KOeEVERERFMPsAEh0dDW/vwm8V8fb2xqNHjwp9LDMzE5mZmQWWJyUlAQCUSiWUSqXuCi2h3GNKcezyjO2mHbVaYMIfV/EoTQZ3eyssGlQf1nLBdiwhnnfaYbtpj22nPbaddthu2jOGtrOystLLfmVCCKGXPZcTgYGB8PT0xN9//13gsebNmyMmJgb37t0r8Ni0adMwffr0Ive7bt062NnZ6bRWImOzO1KOvY/ksJAJfFhLhQBHqSsiIiIiXenZs6de9mv2AaROnTqwtrbG+fPnCzz20ksvQalU4urVqwUeK+4KiK+vL549ewYnJye91FwcpVKJ/fv3IzQ0VG+p1RSx3Urvz6tPMG7TFQDAG4EqTBnUkW1XSjzvtMN20x7bTntsO+2w3bRnDG2nr+Oa/S1YlStXxuXLlwt97NGjR2jQoEGhj9nY2MDGxqbI/VpZWUn6hyb18csrtlvJXHmYgE+3XAMAvN3CH3XV99l2ZcC20w7bTXtsO+2x7bTDdtOeKbad2Y+C1bBhQzx9+hTh4eH5loeHhyMmJgYNGzaUqDIi4xSbnIl3Vp1HZrYa7WtUxIRO1aQuiYiIiMoRsw8g/fv3h0wmw7x58/ItnzdvHmQyGfr37y9NYURGKCtbjVFrz+NJUgYCK9jjpwH1YcERr4iIiKgUzP4WrHr16uGdd97B/PnzkZycjBYtWuDkyZNYvnw53n33XdStW1fqEomMxvSd13H2QTwcbSyxZEgjOCqsOLIJERERlYrZBxAA+Pnnn+Hn54elS5di7dq18Pb2xrfffouJEydKXRqR0Vh3OhJrT0dCJgN+GlgfVSs4SF0SERERlUMMIAAsLS0xadIkTJo0SepSiIzS+YjnmLojp9P5J52qo30NT4krIiIiovLK7PuAEFHxniRm4L01F6BUCXSt44VRbQOlLomIiIjKMUmugCQmJiI2NhYJCQlwcXFBhQoV4OzsLEUpRFSMDKUK7645j9jkTNTwcsTsfvUgk7HTOREREWnPIAEkOzsbW7duxZ9//omjR48iMjKywDp+fn5o06YNunXrhl69esHSkneHEUlJCIEvt1/D5agEONtaYfGbjWBvw79LIiIiKhu9fppISEjArFmzsGzZMjx79gxCCMjlclSuXBlubm5wcnJCYmIi4uPjERkZiVWrVmH16tXw8PDA22+/jYkTJ8LFxUWfJRJREVafisCmcw8hlwE/v9EAfu52UpdEREREJkBvfUDmzJmDwMBAzJo1C87OzpgyZQoOHjyI+Ph4REVF4fLlyzh+/DiuXLmCqKgoJCQk4MCBA5g0aRKcnJwwc+ZMBAYG4ocfftBXiURUhFNhcfhq5w0AwOev1ESr4AoSV0RERESmQm8BZOLEiWjVqhX++ecf3LlzB9OnT0e7du3g6OhY6PqOjo5o3749vv76a9y9excnT55Ey5YtORQukYE9SkjHB2svIFst0LN+ZYxoFSB1SURERGRC9HYL1oULF1C/fn2tt2/WrBm2b9+OS5cu6awmIipehlKFd1efQ1xqFmpVdsLMPnXZ6ZyIiIh0Sm9XQMoSPvSxHyIqnhACU7Zdw7VHSXCzt8ZvbzaErbWF1GURERGRiTHKeUBUKpXUJRCZnXVnIvHH+X87nQ9sAB9XdjonIiIi3TNYAHn//feRnp7+wvXu3LmDZs2aGaAiIsp1MTIe03ZcBwBM7FIDzYM8JK6IiIiITJXBAshvv/2Ghg0b4uLFi0Wus3jxYjRs2BDnz583VFlEZi8uJROj1ubMdN65lifebV1V6pKIiIjIhBksgLz99tu4desWmjVrhpkzZ0IIoXksLi4OvXr1wvvvvw8AWLRokaHKIjJr2So1Plx/EY8TM1C1gj3mvMaZzomIiEi/DBZAlixZgi1btsDR0RGTJ09Gu3btEBkZib/++gt16tTBjh070LhxY1y8eBEjR440VFlEZm3Ovjv4+34c7Kwt8NvghnBUWEldEhEREZk4vc6E/l+9evVC06ZNMWzYMOzfvx+1atVCWloa5HI5vvzyS3zxxRewsOCoO0SG8Ne1x1h09D4A4Pt+dRHsWfgcPURERES6ZPBRsCpVqoRZs2bByckJqampAID+/ftj6tSpDB9EBnI/NgWf/H4FADCiZQC61a0scUVERERkLgweQObOnYtmzZohKSkJvXv3hru7O9avX4+2bdsiIiLC0OUQmZ3UzGy8t/o8UjKz0STADZ++UkPqkoiIiMiMGCyAREdHIzQ0FBMmTICdnR02bdqEzZs34/LlywgNDcXx48dRr149rF271lAlEZkdIQQmbr6CuzEp8HSywc9vNICVhVFOB0REREQmymCfPOrUqYODBw+iXbt2uHLlCvr16wcg55asv/76C/PmzUNWVhaGDBmCgQMHGqosIrPyvxPh+PPKY1jKZfh10Euo6KiQuiQiIiIyMwYLIKmpqZgzZw4OHDgAb2/vAo+PGTMG586dQ926dbFp0yZDlUVkNk6HxWHGnlsAgC+6haChv5vEFREREZE5MtgoWKdPn0a9evWKXSckJARnzpzBlClTDFQVkXmITc7E6PUXoVIL9KpfGUOa+UtdEhEREZkpg10BeVH4yGVlZYVZs2bpuRoi86FSC4zdcBGxyZmo5umA7/rU4WSDREREJBn2PiUycT8d+P/JBn8d9BLsrA06/Q8RERFRPnoLIJ9++imeP39epn08e/YMEydO1FFFRObn6J1YLDh8DwAwo08dBFXkZINEREQkLb0FkHnz5qFKlSr46KOPcPHixVJte/78eYwdOxYBAQGYP3++niokMm3RCekYt+EihAAGNfVDz/oFB38gIiIiMjS93Ytx/fp1fP7555g3bx5++uknBAcHo23btmjcuDGqV68OV1dXODo6Ijk5Gc+fP8ft27dx9uxZHDlyBPfu3YMQAq+99hpmzJihrxKJTJZSpcbodRcQn6ZEbW8nfNEtROqSiIiIiADoMYAEBQXh999/x4ULF7Bw4UJs3LgRixcvxpIlS4rcRggBBwcHjBgxAqNGjSpxx3Uiym/Wnlu4EJkAR4Ulfn2jIRRWFlKXRERERATAAMPwvvTSS1iyZAnmzZuHo0eP4vjx47hy5QpiYmKQmJgIZ2dnVKxYEfXq1UOrVq3QunVr2Nvb67ssIpP117UnWHoiHAAw57V68HO3k7giIiIiov+ntwDSvn17dOnSRdOJ/Pz58wgKCkLXrl31dUgisxcRl4oJf1wGAIxsFYDOtbwkroiIiIgoP711Qj9y5Ahu3bql+f+2bdtyfg8iPcpQqjBq7QUkZ2Sjkb8rJnapIXVJRERERAXoLYBYW1sjNTU13zIhhL4OR2T2vtp1A9ejk+Bmb40FbzSAlQWn+SEiIiLjo9dO6AcPHsTRo0cREBAAAEhJSUFkZGSJtvfz89NXaUQmZ9vFR1h3OhIyGTCvf31UcraVuiQiIiKiQuktgLzzzjsYN24c2rdvr1m2efNmbN68+YXbymQyZGdn66s0IpNyLyYFk7ZeBQB82D4YratVkLgiIiIioqLpLYCMGTMGPj4+2L59Ox4+fIjDhw+jYsWKqFGD96UT6UqGUoXR6y4gLUuF5oHuGNshWOqSiIiIiIql12F4+/Tpgz59+gAA5HI5XnnlFSxbtkyfhyQyK9/8eQO3niTDw8Ea8/rXh4VcJnVJRERERMXS+zwguaZOnYoGDRoY6nBEJm/31cdYcyqnT9Xc1+ujopNC4oqIiIiIXsygAYSIdCPqeRo+/eMKAOD9toHs90FERETlBsfpJCpnsrLVGL3+IpIzs9HQ3xUfhVaTuiQiIiKiEmMAISpnZu+9hctRCXC2tcL8gZzvg4iIiMoXfnIhKkcO3XqKJcfDAQCz+9WFtwvn+yAiIqLyhQGEqJx4nJiOjzddBgAMa14FnWp5SVwRERERUekxgBCVA9kqNcauv4T4NCVqezvh866cT4eIiIjKJwYQonJg/sG7OPPgORxsLPHzwJdgY2khdUlEREREWmEAITJyf997hgWH7wEAvu1dG1U87CWuiIiIiEh7DCBERuxZSibGbrwEIYABjX3Rs7631CURERERlQkDCJGRUqsFPt50GbHJmajm6YCp3WtJXRIRERFRmTGAEBmp5X8/wNE7sbCxlGPBwJdga81+H0RERFT+MYAQGaHr0YmYtecWAGDKqzVR3ctR4oqIiIiIdIMBhMjIpGVlY8z6i8hSqdGxpicGv+wvdUlEREREOsMAQmRkvt51E/djU+HpZIPv+9WFTCaTuiQiIiIinWEAITIif117jPVnIiGTAXNfrw83e2upSyIiIiLSKQYQIiMRnZCOTzdfBQC82zoQLYI8JK6IiIiISPcYQIiMgEotMH7jJSSmK1HPxxkfd6omdUlEREREesEAQmQEFh65h9Phz2FnbYGfBjSAlQX/NImIiMg08VMOkcQuRMbjxwN3AQBf9ayNKh72EldEREREpD8MIEQSSspQYuyGi1CpBXrUq4y+L3lLXRIRERGRXjGAEEnoy23XEPU8HT6utvimd20OuUtEREQmjwGESCJbLjzEtkvRsJDL8NOABnBSWEldEhEREZHeMYAQSSDqeRq+3H4dADC2QzAa+rtKXBERERGRYTCAEBlYtkqN8RsvISUzG42ruOKDdkFSl0RERERkMAwgRAa26Oh9nIuIh4ONJea+Xh8Wcvb7ICIiIvPBAEJkQFceJmDev0PuTu9RC75udhJXRERERGRYDCBEBpKWlY1xGy4hWy3wap1K6MMhd4mIiMgMMYAQGch3u28i7FkqPJ1s8C2H3CUiIiIzxQBCZACHbj3FmlORAIAfXqsPFztriSsiIiIikgYDCJGePUvJxMQ/rgAA3moRgJbBHhJXRERERCQdBhAiPRJC4LPNV/EsJQvVPB0wsUt1qUsiIiIikhQDCJEebTgbhQM3n8LaQo55/RtAYWUhdUlEREREkmIAIdKT8Gep+GrnDQDAhM7VEVLZSeKKiIiIiKTHAEKkB0qVGuM2XkK6UoVmVd3xdssAqUsiIiIiMgoMIER68POhe7gclQBHhSV+eL0e5JztnIiIiAgAAwiRzl2MjMfPh+8BAL7tXQeVXWwlroiIiIjIeDCAEOlQepYKH226DJVaoGf9yuhRr7LUJREREREZFQYQIh2auecmwp+lwstJga961pa6HCIiIiKjwwBCpCMn7z3Dyn8iAADf96sLZ1sriSsiIiIiMj4MIEQ6kJShxITfLwMABr/sh9bVKkhcEREREZFxYgAh0oHpO24gOjED/u52mNS1ptTlEBERERktBhCiMtp7/Qk2X3gIuQz44bV6sLO2lLokIiIiIqPFAEJUBs9SMjFpy1UAwDutA9GoipvEFREREREZNwYQIi0JITB561XEpWahhpcjxocGS10SERERkdFjACHS0taLj7D3+lNYWcjww+v1YGNpIXVJREREREaPAYRIC9EJ6Zi64zoAYGyHYNSq7CxxRURERETlAwMIUSmp1QIT/7iC5Ixs1Pd1wXttAqUuiYiIiKjcMOsAkpaWhkWLFqFr167w8fGBnZ0dQkJCMHHiRCQkJEhdHhmpNacjcOLeMyis5Jj7ej1YWpj1nxERERFRqZj1J6ewsDCMGjUKqampGDVqFObPn482bdrgxx9/ROPGjZGUlCR1iWRkwp+l4rvdNwEAn3WpgaoVHCSuiIiIiKh8MesJC7y8vHDp0iXUrVtXs2zEiBFo3Lgx3n77bSxduhQfffSRhBWSMVGpBT75/TIylGo0D3THkGZVpC6JiIiIqNwx6ysgHh4e+cJHrtdeew0AcOPGDUOXREZs2YlwnI+Ih4ONJWa/Vg9yuUzqkoiIiIjKHbMOIEWJjo4GAFSoUEHiSshY3I9NwZx9twEAU16tCW8XW4krIiIiIiqfzPoWrKJ8++23kMlkGDBgQJHrZGZmIjMzs8Dy3H4jSqUSSqVSbzUWJfeYUhy7PCuu3VRqgU82XUJmthqtgtzRp74X2zcPnnPaY9tph+2mPbad9th22mG7ac8Y2s7Kykov+5UJIYRe9mxgQohCA0Fh5HI5rK2tC31s8eLFePfddzFu3Dj8+OOPRe5j2rRpmD59epGPr1u3DnZ2diWqh4zboWgZtkdYwMZC4PN6KrjaSF0RERERkf717NlTL/s1mQDy4MEDBAQElGjdNm3a4MiRIwWWb9u2Df369UOXLl2wbds2WFoWfYGouCsgvr6+ePbsGZycnEpcv64olUrs378foaGhekutpqiodguLTUWPX/9BZrYa3/YMweuNfCSs0jjxnNMe2047bDftse20x7bTDttNe8bQdvo6rsncguXh4YHly5eXaF0vL68Cy/bt24cBAwagRYsW+P3334sNHwBgY2MDG5uivwq3srKS9A9N6uOXV3nbTaUW+Hzb9Zxbr4I98MbLVSCTseN5UXjOaY9tpx22m/bYdtpj22mH7aY9U2w7kwkgDg4OGDZsmFbbHj16FL169UKdOnWwc+dO2NqygzHljHp1ITIBDjaWmNm3LsMHERERkQ6Y/ShYp0+fRrdu3RAYGIi9e/dKctsUGR+OekVERESkHyZzBUQbEREReOWVV5CRkYGhQ4di9+7d+R739PREaGioRNWRVFRqgQm/X9bcetW/sa/UJRERERGZDLMOIOHh4YiPjwcATJgwocDjbdq0YQAxQ7z1ioiIiEh/zDqAtG3bFiYyCBjpSFhsKm+9IiIiItIjs+8DQpRLLYDPtl7jrVdEREREesQAQvSvI49luBiVyFuviIiIiPSIAYQIObde7Y7M+XPgrVdERERE+sMAQmZPpRb4bOs1KIUMLYPceesVERERkR4xgJDZW34yHBejEmFjIfBtzxDeekVERESkRwwgZNYePEvF7L05o1718lejMm+9IiIiItIrBhAyW2q1wKebryAzW43mVd3QrCKHZCYiIiLSNwYQMlsbzkbhdPhz2FpZ4OueIeCdV0RERET6xwBCZulxYjpm7L4JAPikc3X4udlJXBERERGReWAAIbMjhMCUrdeQnJmN+r4uGNa8itQlEREREZkNBhAyOzuvPMbBWzGwspDh+351YSHnvVdEREREhsIAQmbleWoWpu24DgAY3S4Y1TwdJa6IiIiIyLwwgJBZ+WrndTxPzUJ1T0e83zZQ6nKIiIiIzA4DCJmNQ7eeYtulaMhlwKx+dWFtydOfiIiIyND4CYzMQnKGEpO3XgMAvN0yAPV9XaQtiIiIiMhMMYCQWZj11y08TsyAn5sdPgqtLnU5RERERGaLAYRM3umwOKw5FQkAmNm3DmytLSSuiIiIiMh8MYCQSctQqvDZlqsAgIFNfNE80EPiioiIiIjMGwMImbR5B+4i/FkqPJ1s8NkrNaUuh4iIiMjsMYCQybr6MBFLjocBAL7uWRvOtlYSV0REREREDCBkkpQqNSZuvgKVWuDVupXQqZaX1CURERERERhAyEQtPhaGm4+T4GJnhWnda0ldDhERERH9iwGETE5YbAp+OngXAPBltxBUcLSRuCIiIiIiysUAQiZFCIHJW68hK1uNVsEe6N3AW+qSiIiIiCgPBhAyKX+cf4h/wuKgsJLj2151IJPJpC6JiIiIiPJgACGTEZeSiW933wQAjOtYDX7udhJXRERERET/xQBCJuObP28iIU2JmpWc8HbLAKnLISIiIqJCMICQSTh+NxZbLz6CTAbM6FMHVhY8tYmIiIiMET+lUbmXnqXC5K3XAABDm1VBfV8XaQsiIiIioiIxgFC599PBu4h8noZKzgp80rm61OUQERERUTEYQKhcu/k4CUuOhwEAvupZGw42lhJXRERERETFYQChckulFvh8y1Wo1AJdankhNMRT6pKIiIiI6AUYQKjcWnMqApeiEuBgY4lpPWpJXQ4RERERlQADCJVLjxPTMXvvbQDAp12qw8tZIXFFRERERFQSDCBULk3dfh0pmdlo4OeCQU39pS6HiIiIiEqIAYTKnb+uPcG+G09hKZdhRp86kMtlUpdERERERCXEAELlSnKGEtN2XAcAvNO6Kmp4OUlcERERERGVBgMIlStz9t7Gk6QM+LvbYUyHYKnLISIiIqJSYgChcuNCZDxWnYoAAHzXuw4UVhYSV0REREREpcUAQuWCUqXGpC1XIQTQ5yVvtAjykLokIiIiItICAwiVC8tPhuPWk2S42llhyqshUpdDRERERFpiACGjF52QjnkH7gIAPn+lJtzsrSWuiIiIiIi0xQBCRm/6zutIy1Khkb8r+jX0kbocIiIiIioDBhAyagdvPsXe609hIZfhm961OecHERERUTnHAEJGKz1Lhan/zvkxomUA5/wgIiIiMgEMIGS0Fhy6i4fx6ajsrOCcH0REREQmggGEjNK9mGQsOR4GAJjaoxbsbSwlroiIiIiIdIEBhIyOEAKTt16DUiXQoUZFdArxlLokIiIiItIRBhAyOlsuPMLp8OdQWMkxrUctyGTseE5ERERkKhhAyKgkpGXhu903AQBjOgTD181O4oqIiIiISJcYQMiofL/3NuJSsxBc0QEjWlaVuhwiIiIi0jEGEDIaFyPjsf5MJADg6161YW3J05OIiIjI1PATHhmFbJUak7degxBA35d88HJVd6lLIiIiIiI9YAAho7DynwjceJwEZ1srTOpaQ+pyiIiIiEhPGEBIck8SMzB3320AwKddasDdwUbiioiIiIhIXxhASHJf77qB1CwVGvi5YEBjX6nLISIiIiI9YgAhSR25HYM/rz6GhVyGb3vVgVzOOT+IiIiITBkDCEkmQ6nC1B3XAQDDmldBSGUniSsiIiIiIn1jACHJ/HY0DBFxafB0ssH40GpSl0NEREREBsAAQpKIep6GX4/cAwBMeTUEDjaWEldERERERIbAAEKSmL7zBjKz1Wge6I5udStJXQ4RERERGQgDCBnc4VsxOHDzKSzlMkzvUQsyGTueExEREZkLBhAyqAylCtN25nQ8H96iCoI9HSWuiIiIiIgMiQGEDGrJsf/veD62IzueExEREZkbBhAymKjnafjl347nk7rWZMdzIiIiIjPEAEIG8/WuG8hQqtE0wA096lWWuhwiIiIikgADCBnEkdsx2HfjKSzkMnzVszY7nhMRERGZKQYQ0rvMbBWm/Tvj+fDmVVDdix3PiYiIiMwVAwjp3dLj4XgQl4YKjjYY2zFY6nKIiIiISEIMIKRXjxLSseDQXQDA5K414aiwkrgiIiIiIpISAwjp1dc7czqeNwlwQ8/67HhOREREZO4YQEhvjt2JxV/Xn/zb8ZwznhMRERERAwjpSd6O50ObVUENLyeJKyIiIiIiY8AAQnrxvxPhCHuWCg8HG4wLZcdzIiIiIsrBAEI6F52QjgUHc2c8rwEndjwnIiIion8xgJDOffvnTaQrVWhcxRW9G3hLXQ4RERERGREGENKpv+89w59XH3PGcyIiIiIqFAMI6Uy2So1pO3M6ng9u6oealdjxnIiIiIjyYwAhnVlzKgJ3nqbA1c4K40OrSV0OERERERkhBhDSieepWZi7/w4A4ONO1eFiZy1xRURERERkjBhASCd+2HcbSRnZqFnJCQOb+EldDhEREREZKQaQ/2jTpg1kMhkGDx4sdSnlxvXoRKw7EwkAmN6jFizk7HhORERERIVjAMlj9erVOH/+vNRllCtCCEzfcQNCAN3qVkKTADepSyIiIiIiI8YA8q+EhARMmDABU6ZMkbqUcmXnlcc48+A5FFZyTOpaU+pyiIiIiMjIMYD8a8qUKXBycsJHH30kdSnlRlpWNmbsvgkAGNU2CJVdbCWuiIiIiIiMnaXUBRiDCxcuYOHChdi5cyesrTl6U0ktPHIfjxMz4ONqi3daV5W6HCIiIiIqB8w+gKjVaowaNQqvvvoqunbtWuLtMjMzkZmZWWB5UlISAECpVEKpVOqszpLKPaa+jx0Vn4bfjoUBAD7rXA0WUEOpVOv1mPpkqHYzRWw77bHttMN20x7bTntsO+2w3bRnDG1nZWWll/3KhBBCL3s2MCFEoYGgMHK5XHOlY/HixRgzZgyuX7+OwMBAAIBMJsOgQYOwZs2aIvcxbdo0TJ8+vcjH161bBzs7u1I8g/Llf7fluPJcjmrOaoyqqYaMA18RERERmZSePXvqZb8mE0AePHiAgICAEq3bpk0bHDlyBM+ePUP16tUxatQofP3115rHSxJAirsC4uvri2fPnsHJyan0T6SMlEol9u/fj9DQUL2l1pP34zBsxXlYyGXYOaoZgj0d9HIcQzJEu5kqtp322HbaYbtpj22nPbaddthu2jOGttPXcU3mFiwPDw8sX768ROt6eXkBgCZ0DBw4EA8ePMi3TmpqKh48eAA3N7dCg4SNjQ1sbGyKPIaVlZWkf2j6Or5Spca3u28DAN582R8hPq46P4aUpP69lWdsO+2x7bTDdtMe2057bDvtsN20Z4ptZzIBxMHBAcOGDSvVNhEREXj+/Dlq1apV4LFt27Zh27ZtmD17Nj755BMdVVn+rTkVgbsxKXC1s8L4jtWkLoeIiIiIyhmTCSDa+PzzzwsNLb1790abNm0wbtw41K5d2/CFGam4lEzM3X8HAPBJ5+pwtjOtNE5ERERE+mfWAaRp06ZFPubj44NevXoZrphyYM6+O0jOyEZIJScMaOwndTlEREREVA5xIkIqkWuPErHhbCQAYFqPWrCQc9grIiIiIio9s74CUhQTGRhMZ4QQmL7zOoQAuterjCYBblKXRERERETlFK+A0AvtuvIYZx/Ew9bKAp+/UkPqcoiIiIioHGMAoWJlKFWYuecWAOD9toGo7GIrcUVEREREVJ4xgFCxlh4Pw6OEdFRyVmBkq6pSl0NERERE5RwDCBUpJikDvx65DwD47JUasLW2kLgiIiIiIirvGECoSLP33kZalgoN/FzQo15lqcshIiIiIhPAAEKFuvowEX9ceAgA+KJbCGQyDrtLRERERGXHAEIFCCHw9a4bEALoWb8yXvJzlbokIiIiIjIRDCBUwF/XnuDMg+dQWMnxaRcOu0tEREREusMAQvlkKFX4bs9NAMA7rTnsLhERERHpFgMI5bP85ANEPU+Hp5MN3mvDYXeJiIiISLcYQEgjNjkTvxy+BwD4tEsN2FlbSlwREREREZkaBhDSmLv/NlIys1HXxxm96ntLXQ4RERERmSAGEAIAXI9OxIazUQCAL7uFQC7nsLtEREREpHsMIJRv2N1udSuhURU3qUsiIiIiIhPFAELYd+MpToU9h7WlHJ+9wmF3iYiIiEh/GEDMXGa2Ct/t/nfY3VZV4eNqJ3FFRERERGTKGEDM3Kq/IxARl4YKjjZ4v22g1OUQERERkYljADFjcSmZmH/wLgBgQufqsLfhsLtEREREpF8MIGZs7v47SM7MRq3KTuj3ko/U5RARERGRGWAAMVO3nyRj/ZlIABx2l4iIiIgMhwHETM3YcxNqAXSp5YWmVd2lLoeIiIiIzAQDiBk6fjcWR27HwspCxmF3iYiIiMigGEDMjEot8O2fOcPuvvlyFVTxsJe4IiIiIiIyJwwgZmbzhYe49SQZTgpLfNg+SOpyiIiIiMjMMICYkbSsbMzZexsA8GH7YLjaW0tcERERERGZGwYQM7LkWDhikjPh62aLIc39pS6HiIiIiMwQA4iZiEnKwG/H7gMAPu1SAzaWFhJXRERERETmiAHETMzdfwdpWSo08HPBq3UqSV0OEREREZkpBhAzcOtJEjadiwIATHm1JmQyTjpIRERERNJgADEDM3bfgloAXet4oaG/m9TlEBEREZEZYwAxccfuxOLonZxJBz/twkkHiYiIiEhaDCAmTKUW+G53zqSDQ5pVgb87Jx0kIiIiImkxgJiwzec56SARERERGRcGEBOVmpmNOftyJh0c0yEYLnacdJCIiIiIpMcAYqKWnYxATHIm/Nzs8GYzTjpIRERERMbBUuoCSPcSs4Al58IBcNJBIiIiIjIuvAJignZHyZGuVOMlPxd0reMldTlERERERBoMICbm1pNknI7JmWhw8qshnHSQiIiIiIwKA4iJmbX3DgRkeKWWJxr6u0pdDhERERFRPgwgJuTonVicuBcHC5nAJ52CpS6HiIiIiKgAdkI3If5udgitWRHKhCfwc7OTuhwiIiIiogJ4BcSEVPGwx69v1EdPf7XUpRARERERFYoBxATJ2e+ciIiIiIwUAwgRERERERkMAwgRERERERkMAwgRERERERkMAwgRERERERkMAwgRERERERkMAwgRERERERkMAwgRERERERkMAwgRERERERkMAwgRERERERkMAwgRERERERkMAwgRERERERkMAwgRERERERkMAwgRERERERkMAwgRERERERkMAwgRERERERkMAwgRERERERkMAwgRERERERmMpdQFmBohBAAgKSlJkuMrlUqkpaUhKSkJVlZWktRQHrHdtMe20x7bTjtsN+2x7bTHttMO2017xtJ2jo6OkMlkOt0nA4iOJScnAwB8fX0lroSIiIiIqGwSExPh5OSk033KRO5X9qQTarUa0dHRekmLJZGUlARfX19ERUXp/GQxZWw37bHttMe20w7bTXtsO+2x7bTDdtOesbQdr4CUA3K5HD4+PlKXAScnJ/6ha4Htpj22nfbYdtphu2mPbac9tp122G7aM8W2Yyd0IiIiIiIyGAYQIiIiIiIyGAYQIiIiIiIyGAYQIiIiIiIyGAYQE2NjY4OpU6fCxsZG6lLKFbab9th22mPbaYftpj22nfbYdtphu2nPlNuOw/ASEREREZHB8AoIEREREREZDAMIEREREREZDAMIEREREREZDAMIEREREREZDANIOZaWloZFixaha9eu8PHxgZ2dHUJCQjBx4kQkJCSUeD8qlQozZ85EUFAQbGxsEBQUhJkzZ0KlUumveInt27cP77zzDho2bAhra2vIZDI8ePCgxNs/ePAAMpms0J8RI0bor3AjUNa2A8zznMt17do1dO3aFU5OTnByckLXrl1x7dq1Em1r6uddWc+LsrRteVaWdhs2bFiR59TDhw8NUL20UlJSMG3aNHTv3h2VKlWCTCbDsGHDSrUPcz3vytp25nrunTt3DuPGjUPdunXh6OgILy8vdOjQAQcOHCjxPkzhnLOUugDSXlhYGEaNGoVWrVph1KhRqFixIs6fP48ff/wRW7duxfnz5+Hk5PTC/Xz44YdYuHAhhg8fjubNm+PkyZP4/PPPERUVhV9++cUAz8Tw1q1bh/Xr16NOnTqoXr261n+4PXv2RL9+/fItCwoK0kWJRksXbWeO5xwA3L17Fy1btoSbmxumT58OAJg/fz5atWqFM2fOIDg4uET7MdXzriznha7atjzSxd/TypUrIZfn/07Szc1NH+UalWfPnmH69OmoVKkSGjVqhF27dpVqe3M+78radrnM7dybOXMmjh49ir59+2L06NFISUnB8uXLERoail9//RXvv/9+sdubzDknqNyKjY0Vly9fLrD8f//7nwAgfvjhhxfu48qVK0Imk4kxY8bkWz5mzBghk8nElStXdFavMXn48KHIyMgQQggxefJkAUCEh4eXePvw8HABQEyePFlPFRqvsraduZ5zQgjRt29fYW9vLyIjIzXLIiMjhb29vejXr98Ltzfl866s50VZ27a8Kmu7DR06VAAQSqVSn2UarYyMDPHw4UMhhBBKpVIAEEOHDi3x9uZ63glR9rYz13PvxIkTmvfQXGlpaaJatWrC1dX1he1hKuccb8Eqxzw8PFC3bt0Cy1977TUAwI0bN164jw0bNkAIgXHjxuVbPm7cOAghsHHjRp3Uamy8vb11NrFPeno60tPTdbKv8qCsbWeu51xKSgp27tyJvn37wtfXV7Pc19cXffv2xc6dO5Gamlri/ZnaeVeW80LXbVue6OrvSQiBpKQkqNVqPVRpvGxsbODt7a3VtuZ83gFla7u8zO3ca9GiRYH3UFtbW3Tr1g3x8fF48uRJkdua0jnHAGKCoqOjAQAVKlR44brnzp2Dp6cnAgIC8i0PCAhAxYoVce7cOb3UaCp++ukn2NnZwc7ODsHBwfj111+lLsnomes5d/XqVWRlZaFZs2YFHnv55ZeRmZmJq1evlmhfpnjeleW80GXblje6+ntyd3eHs7MzHBwc0LdvX9y/f18f5ZoUcz7vdInnXo7o6GhYWlrCxcWlyHVM6ZxjHxAT9O2330Imk2HAgAEvXDc6OrrIbzC8vb3x6NEjXZdnEuRyOTp06IDevXvDz88P0dHRWLx4MT744AOEh4dj9uzZUpdotMz1nMv9YqCw55677EXP3ZTPu7KcF7po2/KqrH9PXl5e+PjjjzWDSvz999/4+eefcezYMZw7dw7+/v76KNskmPN5pws89/7fzZs3sWXLFvTo0QMODg5FrmdK5xwDiJEQQiAzM7NE68rlclhbWxf62OLFi7F69WqMGzcO9erVe+G+0tLS4OjoWOhjCoUCSUlJJapJKrpqt9Ly8/MrMGLFiBEj0KZNG8ydOxfvvfceAgMDdXIsfZGq7cr7OQdo13ZpaWkAUOjtawqFAgBeeEuVKZx3RSnLeaGLti2vyvr3NHPmzHz/37dvX4SGhuKVV17B1KlTsWLFCl2VanLM+bzTBZ57ORITE9G3b1/Y2tpi7ty5xa5rSuccb8EyEhEREbC1tS3RT6dOnQrdx7Zt2zBq1Ci8+uqrJf4m1M7OrsgPUhkZGbC1tdX6ORmCLtpNVywsLPDpp59CrVbj4MH/a+/+QpqK+ziOf6LaRY4wkCYSLImIwmnLCyFJU5LWRaZeaETkTaUXo7oIobsu0qjuwosgYWgFiVFUkGA+SGBo4IV6I6SoES76I4Z/Sqbyey4eFPakNrd25rb3CwQ957f529fvhp+ds/P7T1R/178Qq9rFe89J4dVux44dkrTqY5+fn5eksB57vPXdWiLpi2jVNh5E4/nk8Xh05MgRdXR0RDq9hJbMfRctydZ7v3//1unTpzU6OqoXL1789ahPIvUcR0A2ibS0NPl8vpDGpqen/7Gto6NDZ8+eVX5+vtra2rRtW2h/2oyMDA0MDKy6b2JiQm63O6T7iZVI6/avLb94/PjxI+q/K1Kxql2895wUXu0yMjIkrX54fHlbuB/ojKe+W0skfRHN2m520Xo+OZ3OuDmXPFaSue+iKVl6LxAIqLy8XD09PXr27JmKior+eptE6jkCyCZht9s3vPjRsnfv3qmsrEwul0uvX7/eUPrNzc1VR0eHxsbGgj7EODY2pm/fvik3NzesOVklkrpFw8jIiCTJ4XDEeCZ/F6vaxXvPSeHVzuVyyWazqaenR7W1tUH7ent7ZbPZlJWVFdZ84qnv1hJJX0SztptdtJ5PIyMjcd1PVkjmvoumZOi9xcVFVVZW6u3bt2ppadGZM2dCul1C9Vwsrv2Lf6e3t9fY7XaTlZVlJicn1x3r9/vN0NCQCQQCK9v6+/vXvYb8auuMJJq/rWWxWt2+fv36x7hfv34Zt9tttm/fHnR97kQWTu2SuecqKipMSkqK+fz588q25eu3V1RUBI1Ntr4LtS8CgYAZGhoyfr8/aNxGaptIIqnb7OysmZ2d/eM+nz59aiSZmpqa6E5+k1lvLQv6bn0brV0y997S0pKpqqoyksyDBw/WHJfoPccRkDj26dMnnTp1SvPz86qurtabN2+C9jscDpWUlKz8fOPGDTU3N2tsbEx79+6VJOXk5Ojy5cu6f/++ZmZmlJ+fr/fv38vn86mmpmbVdUYSweDgoF69eiVJ6u7uliQ1NjYqNTVVqamp8nq9K2NXq1tNTY0mJydVXFysPXv2yO/3q7m5WaOjo7p9+3bQ9bkTTaS1S9aek6SGhgZ1dnaqoKBAV65ckfS/FWy3bt2qhoaGoLHJ1neh9sXExIQOHjyo6urqoA+pbqS2iSSSug0PD6u4uFhVVVU6cODAyjurT548kdPpXFllOdE1Njbq58+fK+tQDA4O6tatW5Kk0tJSZWdn03drCLd2ydx7169fV2trqwoKCpSSkqLHjx8H7S8pKZHD4Uj8not1AkL4urq6jKQ1vwoLC4PGL686+v/vVi8sLJj6+nqTmZlpbDabyczMNPX19Qm9OqnP51uzbk6nM2jsanVramoyx44dM7t37zbbtm0zqamppri42Lx8+dLaBxIDkdbOmOTsuWUDAwPG4/EYu91u7Ha78Xg8qx71Sca+C6UvlleDX+2d1lBrm2jCrduXL1/MuXPnzP79+01KSoqx2Wxm37595tq1a+b79+8xeCSx4XQ613xN8/l8xhj6bi3h1i6Ze6+wsHDd/926urqMMYnfc1uMMSYKuQYAAAAA/sBleAEAAABYhgACAAAAwDIEEAAAAACWIYAAAAAAsAwBBAAAAIBlCCAAAAAALEMAAQAAAGAZAggAAAAAyxBAAAAAAFiGAAIAAADAMgQQAAAAAJYhgAAAAACwDAEEAAAAgGUIIACATa+qqkpbtmxRXV3dH/s+fvwou90uu92u4eHhGMwOALARW4wxJtaTAABgPVNTU8rOzpbf71dnZ6eKiookSQsLCzp69Kj6+vr08OFDXbx4McYzBQD8DUdAAACb3q5du9TS0iJJunDhgqampiRJN2/eVF9fn8rKyggfABAnOAICAIgbdXV1unfvniorK+X1enX8+HE5HA4NDg4qLS0t1tMDAISAAAIAiBuBQEB5eXnq7+/Xzp07NTMzo/b2dp08eTLWUwMAhIhTsAAAccNms6m5uVmSND09rdraWsIHAMQZAggAIK60traufN/f36+lpaUYzgYAsFEEEABA3Oju7tadO3eUnp6uEydOqKenR/X19bGeFgBgA/gMCAAgLkxPTysnJ0fj4+Nqb2+X2+2Wy+XS1NSUuru7lZeXF+spAgBCwBEQAEBc8Hq9Gh8fl9frlcfjkcPhUFNTkxYXF3X+/HnNzc3FeooAgBAQQAAAm15bW5sePXqkQ4cO6e7duyvbS0tLdenSJY2MjOjq1asxnCEAIFScggUA2NQmJibkcrk0NzenDx8+6PDhw0H75+bm5Ha7NTw8rOfPn6u8vDw2EwUAhIQAAgAAAMAynIIFAAAAwDIEEAAAAACWIYAAAAAAsAwBBAAAAIBlCCAAAAAALEMAAQAAAGAZAggAAAAAyxBAAAAAAFiGAAIAAADAMgQQAAAAAJYhgAAAAACwDAEEAAAAgGUIIAAAAAAsQwABAAAAYBkCCAAAAADLEEAAAAAAWIYAAgAAAMAyBBAAAAAAliGAAAAAALAMAQQAAACAZQggAAAAACxDAAEAAABgGQIIAAAAAMsQQAAAAABYhgACAAAAwDL/Bc8w4uY5a+scAAAAAElFTkSuQmCC",
            "_dom_classes": [],
            "_figure_label": "Figure 4",
            "_image_mode": "full",
            "_message": "x=−1.973 y=1.76",
            "_model_module": "jupyter-matplotlib",
            "_model_module_version": "^0.11",
            "_model_name": "MPLCanvasModel",
            "_rubberband_height": 0,
            "_rubberband_width": 0,
            "_rubberband_x": 0,
            "_rubberband_y": 0,
            "_size": [
              800,
              600
            ],
            "_view_count": null,
            "_view_module": "jupyter-matplotlib",
            "_view_module_version": "^0.11",
            "_view_name": "MPLCanvasView",
            "capture_scroll": false,
            "footer_visible": true,
            "header_visible": true,
            "layout": "IPY_MODEL_1133b3456103426584e32d7963cf6d76",
            "pan_zoom_throttle": 33,
            "resizable": true,
            "toolbar": "IPY_MODEL_f669baac24ed4f1f9ab9b134af425e22",
            "toolbar_position": "left",
            "toolbar_visible": "fade-in-fade-out"
          }
        },
        "1133b3456103426584e32d7963cf6d76": {
          "model_module": "@jupyter-widgets/base",
          "model_name": "LayoutModel",
          "model_module_version": "1.2.0",
          "state": {
            "_model_module": "@jupyter-widgets/base",
            "_model_module_version": "1.2.0",
            "_model_name": "LayoutModel",
            "_view_count": null,
            "_view_module": "@jupyter-widgets/base",
            "_view_module_version": "1.2.0",
            "_view_name": "LayoutView",
            "align_content": null,
            "align_items": null,
            "align_self": null,
            "border": null,
            "bottom": null,
            "display": null,
            "flex": null,
            "flex_flow": null,
            "grid_area": null,
            "grid_auto_columns": null,
            "grid_auto_flow": null,
            "grid_auto_rows": null,
            "grid_column": null,
            "grid_gap": null,
            "grid_row": null,
            "grid_template_areas": null,
            "grid_template_columns": null,
            "grid_template_rows": null,
            "height": null,
            "justify_content": null,
            "justify_items": null,
            "left": null,
            "margin": null,
            "max_height": null,
            "max_width": null,
            "min_height": null,
            "min_width": null,
            "object_fit": null,
            "object_position": null,
            "order": null,
            "overflow": null,
            "overflow_x": null,
            "overflow_y": null,
            "padding": null,
            "right": null,
            "top": null,
            "visibility": null,
            "width": null
          }
        },
        "f669baac24ed4f1f9ab9b134af425e22": {
          "model_module": "jupyter-matplotlib",
          "model_name": "ToolbarModel",
          "model_module_version": "^0.11",
          "state": {
            "_current_action": "",
            "_dom_classes": [],
            "_model_module": "jupyter-matplotlib",
            "_model_module_version": "^0.11",
            "_model_name": "ToolbarModel",
            "_view_count": null,
            "_view_module": "jupyter-matplotlib",
            "_view_module_version": "^0.11",
            "_view_name": "ToolbarView",
            "button_style": "",
            "collapsed": true,
            "layout": "IPY_MODEL_827b4cc27d5641c1a398af0f061574a8",
            "orientation": "vertical",
            "toolitems": [
              [
                "Home",
                "Reset original view",
                "home",
                "home"
              ],
              [
                "Back",
                "Back to previous view",
                "arrow-left",
                "back"
              ],
              [
                "Forward",
                "Forward to next view",
                "arrow-right",
                "forward"
              ],
              [
                "Pan",
                "Left button pans, Right button zooms\nx/y fixes axis, CTRL fixes aspect",
                "arrows",
                "pan"
              ],
              [
                "Zoom",
                "Zoom to rectangle\nx/y fixes axis",
                "square-o",
                "zoom"
              ],
              [
                "Download",
                "Download plot",
                "floppy-o",
                "save_figure"
              ]
            ]
          }
        },
        "827b4cc27d5641c1a398af0f061574a8": {
          "model_module": "@jupyter-widgets/base",
          "model_name": "LayoutModel",
          "model_module_version": "1.2.0",
          "state": {
            "_model_module": "@jupyter-widgets/base",
            "_model_module_version": "1.2.0",
            "_model_name": "LayoutModel",
            "_view_count": null,
            "_view_module": "@jupyter-widgets/base",
            "_view_module_version": "1.2.0",
            "_view_name": "LayoutView",
            "align_content": null,
            "align_items": null,
            "align_self": null,
            "border": null,
            "bottom": null,
            "display": null,
            "flex": null,
            "flex_flow": null,
            "grid_area": null,
            "grid_auto_columns": null,
            "grid_auto_flow": null,
            "grid_auto_rows": null,
            "grid_column": null,
            "grid_gap": null,
            "grid_row": null,
            "grid_template_areas": null,
            "grid_template_columns": null,
            "grid_template_rows": null,
            "height": null,
            "justify_content": null,
            "justify_items": null,
            "left": null,
            "margin": null,
            "max_height": null,
            "max_width": null,
            "min_height": null,
            "min_width": null,
            "object_fit": null,
            "object_position": null,
            "order": null,
            "overflow": null,
            "overflow_x": null,
            "overflow_y": null,
            "padding": null,
            "right": null,
            "top": null,
            "visibility": null,
            "width": null
          }
        }
      }
    }
  },
  "nbformat": 4,
  "nbformat_minor": 0
}