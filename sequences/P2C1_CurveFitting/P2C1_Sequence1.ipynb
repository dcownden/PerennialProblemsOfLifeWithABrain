{
  "cells": [
    {
      "cell_type": "markdown",
      "metadata": {
        "id": "view-in-github",
        "colab_type": "text"
      },
      "source": [
        "<a href=\"https://colab.research.google.com/github/dcownden/PerennialProblemsOfLifeWithABrain/blob/super-opt-perturb/sequences/P2C1_CurveFitting/P2C1_Sequence1.ipynb\" target=\"_parent\"><img src=\"https://colab.research.google.com/assets/colab-badge.svg\" alt=\"Open In Colab\"/></a>"
      ]
    },
    {
      "cell_type": "markdown",
      "metadata": {
        "execution": {},
        "id": "XQIBvM6dukJe"
      },
      "source": [
        "The following is part of a test for an upcoming text book on computational neuroscience from an optimization and learning perspective. The book will start with evolution because ultimately, all aspects of the brain are shaped by evolution and, as we will see, evolution can also be seen as an optimization algorithm. We are sharing it now to get feedback on what works and what does not and the developments we should do."
      ]
    },
    {
      "cell_type": "markdown",
      "metadata": {
        "execution": {},
        "id": "8WYLuZVNukJh"
      },
      "source": [
        "___\n",
        "# **2.1.1: Curve Fitting Through Perturbation**\n",
        "In the first part of the book we gained insight into what the brain is for: rapid acquisition of adaptive behaviours. Now that we know what a brain is for we are going to start thinking about how it does what it needs to do. Instead of taking a bottom up approach grounded in observed physiological mechanisms, we are going to use a problem oriented, top down approach. That is, we will think about what problems the brain is solving and then survey the various physiological mechanisms that could feasibly implement algorithms that solve those problems. We will start with problems that are simple to understand from a statistical and mathematical perspective; a broad sub-field of machine learning known as supervised learning. Supervised learning problems presuppose many features without clear physiological counterparts in the brain. Nevertheless, for simplicity and to build foundational understanding we start this class of problems and associated alogorithimg, drawing connections to physiological mechanisms where we can. As more elaborate learning algorithms (un/semi-supervised learning, complex reinforcement learning) and their applications become clear, we promise that an outline of the physiology of a unified neural system which feasibly solves the myriad statistical decision problems faced by living animals will emerge.\n",
        "\n",
        "### Objective: Solve a simple problem using perturbation methods, and connect these methods with physiological neural plasticity mechanisms.\n",
        "\n",
        "In this sequence we will:\n",
        "\n",
        "* Introduce two visual (binary) discrimination task, one very simple, one slightly more complex\n",
        "\n",
        "* Build and train a simple 'neural circuit' model which 'learns' to solve these binary discrimination problems based on scalar reward feedback.\n",
        "\n",
        "* Relate the different aspect of our simple 'neural circuit' model to different neural plasticity mechanisms.\n"
      ]
    },
    {
      "cell_type": "markdown",
      "metadata": {
        "execution": {},
        "id": "EH_YZ1XqukJj"
      },
      "source": [
        "# Setup\n",
        "\n",
        "Run the following cell to setup and install the various dependencies and helper functions for this ."
      ]
    },
    {
      "cell_type": "code",
      "execution_count": 1,
      "metadata": {
        "execution": {},
        "id": "mgBlu_W7ukJl",
        "colab": {
          "base_uri": "https://localhost:8080/"
        },
        "outputId": "5913fea6-9854-4d61-e273-d248ad6ae7cf"
      },
      "outputs": [
        {
          "output_type": "stream",
          "name": "stdout",
          "text": [
            "Best feature is 21\n",
            "Random seed 2021 has been set.\n",
            "This notebook isn't using and doesn't need a GPU. Good.\n",
            "Running in colab\n"
          ]
        }
      ],
      "source": [
        "# @title Dependencies, Imports and Setup\n",
        "# @markdown You don't need to worry about how this code works – but you do need to **run the cell**\n",
        "!apt install libgraphviz-dev > /dev/null 2> /dev/null #colab\n",
        "!pip install ipympl pygraphviz vibecheck datatops jupyterquiz ucimlrepo > /dev/null 2> /dev/null #google.colab\n",
        "\n",
        "import requests\n",
        "from requests.exceptions import RequestException\n",
        "import numpy as np\n",
        "import itertools\n",
        "import collections\n",
        "import matplotlib\n",
        "import matplotlib.pyplot as plt\n",
        "import matplotlib.patches as mpatches\n",
        "from matplotlib.animation import FuncAnimation\n",
        "import seaborn as sns\n",
        "import pandas as pd\n",
        "import pygraphviz as pgv\n",
        "import ipywidgets as widgets\n",
        "import time\n",
        "import logging\n",
        "import random\n",
        "import os\n",
        "import copy\n",
        "import torch\n",
        "import warnings\n",
        "import torch.nn as nn\n",
        "import torch.optim as optim\n",
        "import torch.nn.functional as F\n",
        "from io import BytesIO\n",
        "from enum import Enum\n",
        "from scipy.spatial.distance import cdist\n",
        "from scipy.stats import norm\n",
        "from scipy.optimize import minimize\n",
        "from sklearn.linear_model import LinearRegression\n",
        "from tabulate import tabulate\n",
        "from IPython.display import display, clear_output, Markdown, HTML, Image\n",
        "from jupyterquiz import display_quiz\n",
        "from vibecheck import DatatopsContentReviewContainer\n",
        "from pathlib import Path\n",
        "from typing import List, Dict\n",
        "from tqdm.notebook import tqdm\n",
        "from ucimlrepo import fetch_ucirepo\n",
        "\n",
        "data_set = fetch_ucirepo(id=80)\n",
        "X = data_set.data.features.values\n",
        "# Translate the data to have a minimum of 0\n",
        "X_translated = X - X.min()\n",
        "# Scale the data to have a range from 0 to 12 (which is 6 - (-6))\n",
        "scaling_factor = 12 / (X.max() - X.min())\n",
        "X_scaled = X_translated * scaling_factor\n",
        "# Finally, shift the data to be centered between -6 and 6\n",
        "X_final = X_scaled - 6\n",
        "\n",
        "y = data_set.data.targets.values\n",
        "rng = np.random.default_rng(seed=2021)\n",
        "scramble_permutation = rng.permutation(X.shape[1])\n",
        "Xs = X_final[:, scramble_permutation]\n",
        "y1 = y % 2\n",
        "y2 = np.array(y >= 5, dtype=y.dtype)\n",
        "simple_index = ((y.flatten()==1) | (y.flatten()==0))\n",
        "X_simple = Xs[simple_index]\n",
        "y1_simple = y1[simple_index]\n",
        "# if you only had one feature which would likely be best for discrimination\n",
        "epsilon = 10\n",
        "class_a_sep = np.mean(X_simple[y1_simple.flatten() == 1, :], axis=0) / (np.std(X_simple[y1_simple.flatten() == 1, :], axis=0) + epsilon)\n",
        "class_b_sep = np.mean(X_simple[y1_simple.flatten() == 0, :], axis=0) / (np.std(X_simple[y1_simple.flatten() == 0, :], axis=0) + epsilon)\n",
        "best_feature = np.argmax(class_a_sep - class_b_sep)\n",
        "print(f'Best feature is {best_feature}')\n",
        "X_simple_1_feature = X_simple[:, [best_feature]]\n",
        "\n",
        "import warnings\n",
        "warnings.filterwarnings(\"ignore\", category=UserWarning, module=\"matplotlib\")\n",
        "# random seed settings and\n",
        "# getting torch to use gpu if it's there\n",
        "\n",
        "\n",
        "def set_seed(seed=None, seed_torch=True):\n",
        "  \"\"\"\n",
        "  Function that controls randomness. NumPy and random modules must be imported.\n",
        "\n",
        "  Args:\n",
        "    seed : Integer\n",
        "      A non-negative integer that defines the random state. Default is `None`.\n",
        "    seed_torch : Boolean\n",
        "      If `True` sets the random seed for pytorch tensors, so pytorch module\n",
        "      must be imported. Default is `True`.\n",
        "\n",
        "  Returns:\n",
        "    Nothing.\n",
        "  \"\"\"\n",
        "  if seed is None:\n",
        "    seed = np.random.choice(2 ** 32)\n",
        "  random.seed(seed)\n",
        "  np.random.seed(seed)\n",
        "  if seed_torch:\n",
        "    torch.manual_seed(seed)\n",
        "    torch.cuda.manual_seed_all(seed)\n",
        "    torch.cuda.manual_seed(seed)\n",
        "    torch.backends.cudnn.benchmark = False\n",
        "    torch.backends.cudnn.deterministic = True\n",
        "\n",
        "  print(f'Random seed {seed} has been set.')\n",
        "\n",
        "\n",
        "def seed_worker(worker_id):\n",
        "  \"\"\"\n",
        "  DataLoader will reseed workers following randomness in\n",
        "  multi-process data loading algorithm.\n",
        "\n",
        "  Args:\n",
        "    worker_id: integer\n",
        "      ID of subprocess to seed. 0 means that\n",
        "      the data will be loaded in the main process\n",
        "      Refer: https://pytorch.org/docs/stable/data.html#data-loading-randomness for more details\n",
        "\n",
        "  Returns:\n",
        "    Nothing\n",
        "  \"\"\"\n",
        "  worker_seed = torch.initial_seed() % 2**32\n",
        "  np.random.seed(worker_seed)\n",
        "  random.seed(worker_seed)\n",
        "\n",
        "\n",
        "def set_device():\n",
        "  \"\"\"\n",
        "  Set the device. CUDA if available, CPU otherwise\n",
        "\n",
        "  Args:\n",
        "    None\n",
        "\n",
        "  Returns:\n",
        "    Nothing\n",
        "  \"\"\"\n",
        "  device = \"cuda\" if torch.cuda.is_available() else \"cpu\"\n",
        "  if device != \"cuda\":\n",
        "    print(\"This notebook isn't using and doesn't need a GPU. Good.\")\n",
        "  else:\n",
        "    print(\"GPU is enabled in this notebook but not needed.\")\n",
        "    print(\"If possible, in the menu under `Runtime` -> \")\n",
        "    print(\"`Change runtime type.`  select `CPU`\")\n",
        "\n",
        "  return device\n",
        "\n",
        "\n",
        "SEED = 2021\n",
        "set_seed(seed=SEED)\n",
        "DEVICE = set_device()\n",
        "\n",
        "\n",
        "def printmd(string):\n",
        "  display(Markdown(string))\n",
        "\n",
        "\n",
        "# the different utility .py files used in this notebook\n",
        "filenames = []\n",
        "# just run the code straight out of the response, no local copies needed!\n",
        "for filename in filenames:\n",
        "  url = f'https://raw.githubusercontent.com/dcownden/PerennialProblemsOfLifeWithABrain/main/utils/{filename}'\n",
        "  response = requests.get(url)\n",
        "  # Check that we got a valid response\n",
        "  if response.status_code == 200:\n",
        "    code = response.content.decode()\n",
        "    exec(code)\n",
        "  else:\n",
        "    print(f'Failed to download {url}')\n",
        "\n",
        "# environment contingent imports\n",
        "try:\n",
        "  print('Running in colab')\n",
        "  from google.colab import output\n",
        "  output.enable_custom_widget_manager()\n",
        "  from google.colab import data_table\n",
        "  data_table.disable_dataframe_formatter()\n",
        "  #from google.colab import output as colab_output\n",
        "  #colab_output.enable_custom_widget_manager()\n",
        "  IN_COLAB = True\n",
        "except:\n",
        "  IN_COLAB = False\n",
        "  print('Not running in colab')\n",
        "\n",
        "%matplotlib inline\n",
        "%config InlineBackend.figure_format = 'retina'\n",
        "%matplotlib widget\n",
        "plt.style.use(\"https://raw.githubusercontent.com/dcownden/PerennialProblemsOfLifeWithABrain/main/pplb.mplstyle\")\n",
        "plt.ioff() #need to use plt.show() or display explicitly\n",
        "logging.getLogger('matplotlib.font_manager').setLevel(logging.ERROR)\n",
        "\n",
        "\n",
        "def remove_ip_clutter(fig):\n",
        "  fig.canvas.header_visible = False\n",
        "  fig.canvas.toolbar_visible = False\n",
        "  fig.canvas.resizable = False\n",
        "  fig.canvas.footer_visible = False\n",
        "  fig.canvas.draw()\n",
        "\n",
        "\n",
        "def content_review(notebook_section: str):\n",
        "  return DatatopsContentReviewContainer(\n",
        "    \"\",  # No text prompt\n",
        "    notebook_section,\n",
        "    {\n",
        "      \"url\": \"https://pmyvdlilci.execute-api.us-east-1.amazonaws.com/klab\",\n",
        "      \"name\": \"neuro_book\",\n",
        "      \"user_key\": \"xuk960xj\",\n",
        "    },\n",
        "  ).render()\n",
        "feedback_prefix = \"P2C1_S1\""
      ]
    },
    {
      "cell_type": "markdown",
      "metadata": {
        "execution": {},
        "id": "KqWHFCZhukJp"
      },
      "source": [
        "# 2.1.1.1: Learning to Do The Right Thing - Easy\n",
        "\n",
        "In our last chapter on evolution, we motivated much of our modeling using a binary classification problem in which a lurking predator most choose between striking and not striking based on sensory input. Initially, we viewed the behavioral map from sensory input to action as genetically determined. However, we concluded the last chapter by highlighting the evolutionary advantage of (at least partially) learning these sensory-behaviour maps within an organism's lifetime. (These advantages emerge in part due to variable environments and complex behaviors with non-linear fitness impacts.) Here we shift our focus, and work with the case where the behavioural map from sensory input to action is to be entirely 'learned' by the organism, using feedback signals from the environment. Before we built a highly abstracted model of a neural circuit to solve this problem, let's test if your neural network is up to the task. Given a sensory input pattern, determine whether to strike or not. Try to maximize your average score and see how well you can perform. We will start with a very simple 'sensory' pattern."
      ]
    },
    {
      "cell_type": "code",
      "source": [
        "class InteractiveMNISTPredator():\n",
        "  def __init__(self,\n",
        "               features=Xs,\n",
        "               labels=y,\n",
        "               feedback_type='on_strike_only', seed=123):\n",
        "    # Initialize dataset, settings for image scrambling and feedback\n",
        "    self.features = features\n",
        "    self.labels = labels\n",
        "    # features is num_data_points x 64 (reshape to 8x8 for display, each cell 0-16)\n",
        "    # labels is num_data_points x 1 (values 0-9 or 0/1 depending)\n",
        "    self.feedback_type = feedback_type\n",
        "    self.rng = np.random.default_rng(seed)\n",
        "    sample_order = self.rng.permutation(self.features.shape[0])\n",
        "    self.features = self.features[sample_order]\n",
        "    self.labels = self.labels[sample_order]\n",
        "    # intialize game state\n",
        "    self.current_index = 0\n",
        "    self.score = 0\n",
        "    self.best_possible_score = 0\n",
        "    self.successful_strikes = 0\n",
        "    self.failed_strikes = 0\n",
        "    self.non_strikes = 0\n",
        "    # Initialize widgets\n",
        "    self.strike_button = widgets.Button(description='Strike')\n",
        "    self.no_strike_button = widgets.Button(description='No Strike')\n",
        "    self.score_display = widgets.Output()\n",
        "    self.feedback_display = widgets.Output()\n",
        "\n",
        "    # Initialize the figure for image display\n",
        "    self.fig, self.ax = plt.subplots(figsize=(4, 4))\n",
        "    remove_ip_clutter(self.fig)\n",
        "    self.show_next_image()\n",
        "    # Bind event handlers\n",
        "    self.strike_button.on_click(self.on_strike_clicked)\n",
        "    self.no_strike_button.on_click(self.on_no_strike_clicked)\n",
        "\n",
        "    # Arrange widgets in a layout\n",
        "    buttons_layout = widgets.HBox([self.strike_button, self.no_strike_button])\n",
        "    board_buttons = widgets.VBox([self.fig.canvas, buttons_layout])\n",
        "    self.ui = widgets.HBox([board_buttons, widgets.VBox([self.score_display,\n",
        "                                                         self.feedback_display])])\n",
        "\n",
        "  def show_next_image(self):\n",
        "    # Display the next image\n",
        "    image = self.features[self.current_index]\n",
        "    if len(image) == 64:\n",
        "        image = image.reshape(8, 8)\n",
        "    elif len(image) == 1:\n",
        "      scalar_value = image.flatten()[0]\n",
        "      # Initialize the 8x8 array with -6 (black)\n",
        "      image = np.full((8, 8), -6.0)\n",
        "      # Set the second ring to 6 (white)\n",
        "      image[1:-1, 1:-1] = 6\n",
        "      # Set the third (inner ring) back to -6 (black)\n",
        "      image[2:-2, 2:-2] = -6\n",
        "      # Assuming scalar_value is already in the range -6 to 6\n",
        "      #print(scalar_value)\n",
        "      image[3:-3, 3:-3] = scalar_value\n",
        "    else:\n",
        "      raise ValueError(f'Unexpected image shape: {image.shape}')\n",
        "    # Display the image\n",
        "    #print(image)\n",
        "    self.fig.clf()\n",
        "    self.ax = self.fig.add_subplot(111)\n",
        "    self.ax.set_xlim(-.5, 7.5)\n",
        "    self.ax.set_ylim(-0.5, 7.5)\n",
        "    self.ax.set_aspect('equal')\n",
        "    self.ax.axis('off')\n",
        "    self.ax.imshow(image, cmap='gray', vmin=-6, vmax=6)\n",
        "    self.fig.canvas.draw_idle()  # Force redraw\n",
        "\n",
        "  def on_strike_clicked(self, button):\n",
        "    self.process_decision('Strike')\n",
        "\n",
        "  def on_no_strike_clicked(self, button):\n",
        "    self.process_decision('No Strike')\n",
        "\n",
        "  def process_decision(self, decision):\n",
        "    # freeze buttons while we process\n",
        "    self.strike_button.disabled = True\n",
        "    self.no_strike_button.disabled = True\n",
        "\n",
        "    # Process the user's decision, update score, and provide feedback\n",
        "    correct_action = 'Strike' if self.labels[self.current_index] == 1 else 'No Strike'\n",
        "    if decision == 'Strike':\n",
        "      if decision == correct_action:\n",
        "        self.score += 1\n",
        "        self.successful_strikes += 1\n",
        "      else:\n",
        "        self.score -= 1\n",
        "        self.failed_strikes += 1\n",
        "    elif decision == 'No Strike':\n",
        "      self.non_strikes += 1\n",
        "      # no strike means no gain or loss\n",
        "    else:\n",
        "      raise ValueError(f'Unknown decision: {decision}')\n",
        "\n",
        "    # Show feedback and score\n",
        "    if (self.feedback_type == 'both' or\n",
        "      (self.feedback_type == 'on_strike_only' and decision == 'Strike')):\n",
        "      # Show informative feedback\n",
        "      feedback = f'Your last choice: {decision}\\nCorrect last choice: {correct_action}'\n",
        "    else:\n",
        "      # Show uninformative feedback\n",
        "      feedback = 'Feedback only available after striking.'\n",
        "    with self.feedback_display:\n",
        "      clear_output(wait=True)\n",
        "      print(feedback)\n",
        "\n",
        "    # Show score\n",
        "    with self.score_display:\n",
        "      clear_output(wait=True)\n",
        "      average_score = self.score / (self.current_index+1)\n",
        "      print(f'Total Score: {self.score}')\n",
        "      print(f'Number of Trials: {self.current_index + 1}')\n",
        "      print(f'Successful Strikes: {self.successful_strikes}')\n",
        "      print(f'Failed Strikes: {self.failed_strikes}')\n",
        "      print(f'Non-Strikes: {self.non_strikes}')\n",
        "      print(f'Average Score Per Trial: {average_score:.2f}')\n",
        "\n",
        "    # Prepare the next image\n",
        "    self.current_index += 1\n",
        "    #print(self.current_index)\n",
        "    self.show_next_image()\n",
        "    # Re-enable buttons\n",
        "    self.strike_button.disabled = False\n",
        "    self.no_strike_button.disabled = False\n",
        "\n",
        "\n",
        "scramble_01_imp = InteractiveMNISTPredator(features=X_simple_1_feature,\n",
        "                                           labels=y1_simple, feedback_type='both')\n",
        "display(scramble_01_imp.fig.canvas)\n",
        "clear_output()\n",
        "display(scramble_01_imp.ui)"
      ],
      "metadata": {
        "colab": {
          "base_uri": "https://localhost:8080/",
          "height": 457,
          "referenced_widgets": [
            "fc70ad8b44bb41a0b84a6a0c0291be42",
            "954c692ee081493ab389c67ce23ed019",
            "b25527fe472a4846bd9be6e6af7d7275",
            "772555709fed4789a32b918a19146221",
            "0925813599f3412b89402115917f679f",
            "b51600ecbc7c4d62ae4934fdd8b6d4d0",
            "161b5bfa1b5e4d409a7c1e6c545d7fe7",
            "83f94881083e44c4befdd53bf8cb702a",
            "500bf7d8c7de4d52b5d1f4f268863a4b",
            "0f4990b503e14ae18380db87a2bb248d",
            "1d371ca321f54284aabf421a9144aea2",
            "856b374a23fc4121b74b689d124b3c27",
            "c635f64d50d3416c8f79af369b93690d",
            "928ad600760c446b918efdd2840504ea",
            "c3383869f97d45e8a631a2a1128f7165",
            "e10e9e3612694b82a0ffc312435c07f7",
            "4b32654ce317497ca11c384ca7bb5d4b",
            "7b14503ea8ed417f921ee4732dbdc3dc",
            "16e7060a25944ac3ac3a201b4e020eaf",
            "fa7991e6d959437fb0d36047a7cb9ce1",
            "39d61513a7d64f0bbf10c43f3d49d930",
            "de0f37fbeffc4e6d8b1845a94b99ba10"
          ]
        },
        "id": "Sm2TXO9rDYeF",
        "outputId": "928a740e-45f4-4116-ba3b-b29cd8b4e4cd"
      },
      "execution_count": 2,
      "outputs": [
        {
          "output_type": "display_data",
          "data": {
            "text/plain": [
              "HBox(children=(VBox(children=(Canvas(footer_visible=False, header_visible=False, resizable=False, toolbar=Tool…"
            ],
            "application/vnd.jupyter.widget-view+json": {
              "version_major": 2,
              "version_minor": 0,
              "model_id": "fc70ad8b44bb41a0b84a6a0c0291be42"
            }
          },
          "metadata": {
            "application/vnd.jupyter.widget-view+json": {
              "colab": {
                "custom_widget_manager": {
                  "url": "https://ssl.gstatic.com/colaboratory-static/widgets/colab-cdn-widget-manager/b3e629b1971e1542/manager.min.js"
                }
              }
            }
          }
        }
      ]
    },
    {
      "cell_type": "markdown",
      "source": [
        "For us at least, this task wasn't too hard, the simple association, strike when the center pixels are relatively light, don't strike when the center pixels are dark works well. We can learn this association with our eyes and brains, now let's see if we can come up with a way to program an algorithm that will also learn this association. The data set that underlies this strike-no-strike decision problem comes from the UCI Machine Learning Repository (Alpaydin,E. and Kaynak,C. (1998). https://doi.org/10.24432/C50P49.) Let's take a quick look at the data before we start coming up with a simple machine learning algorithm to correctly separate the cases when we should strike from when we should not."
      ],
      "metadata": {
        "id": "0uJnSw4CWzr3"
      }
    },
    {
      "cell_type": "code",
      "source": [
        "# What is the shape and type of the data we have to work with\n",
        "print(f'features data type: {X_simple_1_feature.dtype}')\n",
        "print(f'features shape: {X_simple_1_feature.shape}')\n",
        "print(f'labels data type: {y1_simple.dtype}')\n",
        "print(f'labels shape: {y1_simple.shape}')"
      ],
      "metadata": {
        "id": "7kDym35Uj2Uj",
        "outputId": "a3b86ec3-b1d5-4138-dd8e-f7fa2b7ba56a",
        "colab": {
          "base_uri": "https://localhost:8080/"
        }
      },
      "execution_count": 3,
      "outputs": [
        {
          "output_type": "stream",
          "name": "stdout",
          "text": [
            "features data type: float64\n",
            "features shape: (1125, 1)\n",
            "labels data type: int64\n",
            "labels shape: (1125, 1)\n"
          ]
        }
      ]
    },
    {
      "cell_type": "code",
      "source": [
        "# what do the labels look like, what is their range\n",
        "print(y1_simple[:10])\n",
        "print(f'max label: {np.max(y1_simple)}')\n",
        "print(f'min label: {np.min(y1_simple)}')"
      ],
      "metadata": {
        "id": "JBy46a4QkQVF",
        "outputId": "7505bc47-c889-45a7-b09c-cf5db1439481",
        "colab": {
          "base_uri": "https://localhost:8080/"
        }
      },
      "execution_count": 4,
      "outputs": [
        {
          "output_type": "stream",
          "name": "stdout",
          "text": [
            "[[0]\n",
            " [0]\n",
            " [0]\n",
            " [1]\n",
            " [0]\n",
            " [1]\n",
            " [0]\n",
            " [1]\n",
            " [0]\n",
            " [1]]\n",
            "max label: 1\n",
            "min label: 0\n"
          ]
        }
      ]
    },
    {
      "cell_type": "markdown",
      "source": [
        "**Note on Terminology:** In a Supervised Learning context **features** are the inputs to a sensory-behaviour circuit. In a statistical/regression/experimental context these features or inputs are thought of as the independent variables or regressors. The 'correct' behavioural output is called the **label** or **target** in a supervised learning ML context, or the dependent variable in a statistical/regression/experimentat. Supervised Learning revolves around the concept of feature/label or $(\\mathbf{x},\\mathbf{y})$ pairs, with the basic goal of supervised learning being to discover the rule or process which generates these pairs (or a good approximation of it), just from examining examples. The set of examples that we have to learn the rule from is called the **training set**. We will use the terms features and label when we want emphasize the abstract algorithm and learning problem, and sensory-input and target behaviour when we want to emphasize the embodied neural context of the problem."
      ],
      "metadata": {
        "id": "MR5xjAVeviBM"
      }
    },
    {
      "cell_type": "markdown",
      "source": [
        "In the game we setup above we used the label '1' to correspond to situations when 'strike' is the correct action and the label '0' to correspond to situations where 'no-strike' is the correct action."
      ],
      "metadata": {
        "id": "uNx5o78_nasq"
      }
    },
    {
      "cell_type": "code",
      "source": [
        "# what do the features look like, what is there range\n",
        "print(X_simple_1_feature[:10])\n",
        "print(f'max features: {np.max(X_simple_1_feature)}')\n",
        "print(f'min features: {np.min(X_simple_1_feature)}')"
      ],
      "metadata": {
        "id": "neO50Ie4ljUC",
        "outputId": "4bac246c-46b7-4a24-d9d8-c1453285d772",
        "colab": {
          "base_uri": "https://localhost:8080/"
        }
      },
      "execution_count": 5,
      "outputs": [
        {
          "output_type": "stream",
          "name": "stdout",
          "text": [
            "[[-6. ]\n",
            " [-6. ]\n",
            " [-6. ]\n",
            " [ 6. ]\n",
            " [-6. ]\n",
            " [ 4.5]\n",
            " [-6. ]\n",
            " [ 6. ]\n",
            " [-6. ]\n",
            " [ 6. ]]\n",
            "max features: 6.0\n",
            "min features: -6.0\n"
          ]
        }
      ]
    },
    {
      "cell_type": "markdown",
      "source": [
        "In the visualization above a high 'feature value' corresponded to lighter colors in the center pixels and a lower feature value corresponded to darker feature values."
      ],
      "metadata": {
        "id": "qJd2qyMvnyvp"
      }
    },
    {
      "cell_type": "code",
      "source": [
        "# and for scalar data always good to look at a histogram\n",
        "fig, (ax1, ax2) = plt.subplots(2, 1)\n",
        "ax1.hist(X_simple_1_feature[y1_simple.flatten() == 1])\n",
        "ax1.set_title('Feature Distribution When Strike is Correct')\n",
        "ax2.hist(X_simple_1_feature[y1_simple.flatten() == 0])\n",
        "ax2.set_title('Feature Distribution When No-Strike is Correct')\n",
        "plt.show()"
      ],
      "metadata": {
        "id": "4_kJe4Dbkrro",
        "outputId": "2dc2ff10-060b-4033-ecf9-7035a66a2a55",
        "colab": {
          "base_uri": "https://localhost:8080/",
          "height": 689,
          "referenced_widgets": [
            "b5abbaab28644ae9be78700c146e0985",
            "f8d55b8280bb48c4a4b12d0b0985fbda",
            "8d06152410244f6b8afcc2aba17b2882",
            "cefd644ad39d457e88e6412d05c3ea76"
          ]
        }
      },
      "execution_count": 6,
      "outputs": [
        {
          "output_type": "display_data",
          "data": {
            "text/plain": [
              "Canvas(toolbar=Toolbar(toolitems=[('Home', 'Reset original view', 'home', 'home'), ('Back', 'Back to previous …"
            ],
            "image/png": "[encoded data removed]",
            "text/html": [
              "\n",
              "            <div style=\"display: inline-block;\">\n",
              "                <div class=\"jupyter-widgets widget-label\" style=\"text-align: center;\">\n",
              "                    Figure\n",
              "                </div>\n",
              "                <img src='data:image/png;base64,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' width=800.0/>\n",
              "            </div>\n",
              "        "
            ],
            "application/vnd.jupyter.widget-view+json": {
              "version_major": 2,
              "version_minor": 0,
              "model_id": "b5abbaab28644ae9be78700c146e0985"
            }
          },
          "metadata": {
            "application/vnd.jupyter.widget-view+json": {
              "colab": {
                "custom_widget_manager": {
                  "url": "https://ssl.gstatic.com/colaboratory-static/widgets/colab-cdn-widget-manager/b3e629b1971e1542/manager.min.js"
                }
              }
            }
          }
        }
      ]
    },
    {
      "cell_type": "markdown",
      "source": [
        "Looking at the distribution of the feature across these two classes (strike vs. no-strike situations) we see that we should be able to correctly discriminate between these two cases most of the time using just this one feature."
      ],
      "metadata": {
        "id": "fhSQPPZmolv4"
      }
    },
    {
      "cell_type": "markdown",
      "source": [
        "Now, if we were acting as scientist (which we sometimes do!), we'd think hard and carefully about the specific physical processes behind these features (the ML term for model/sensory inputs) and labels (the ML term for 'correct answer'), and this would guide the types of analyses to perform on the data and the kinds of inferences and conclusions we could draw.\n",
        "But in this moment, we're not acting as scientists in pursuit of deep understanding; we're acting as algorithm designers focused on figuring out how to do the right thing. We want come up with a process for 'learning a function' that takes this feature as an input and generates the correct behaviour (as defined by the labels) as a behavioural outputs. A zero label means no strike is the right thing to do (no prey present) and a one label means striking is the right thing to do (prey are present).  "
      ],
      "metadata": {
        "id": "aiVMgOYftfDi"
      }
    },
    {
      "cell_type": "markdown",
      "source": [
        "As inspiration for our learning algorithm we imagine a very simple organism. One that has a signle sensory input neuron, in turn connected to a single output neuron by single synaptic weight. If the output neuron fires (spikes) the predator strikes, and if it does not fire the predator does not strike.\n",
        "\n",
        "We model this creature's sensory-behaviour system as follows. Let $x$ be the raw sensory input (scalar) in a given episode. We imagine that $x$ corresponds to the activation level and firing rate of a single photosensitive neuron. This input neuron is then connected by a synapse to a single output neuron. The activation level of this output neuron is computed as\n",
        "$$y = wx + b$$\n",
        "Here, $b$ is the (scalar) bias, or baseline activation level of the output neuron and $w$ is the strength of the synaptic weight between the input neuron and the output neuron (is this case there is only one output and one input so $w$ is a scalar, in cases with multiple inputs and outputs we would use $\\mathbf{W}$ to denote the matrix of such synaptic weights and $\\mathbf{x}$ to denote the vector of sensory inputs. As a quick reminder, in our notation, bold lowercase letters represent column vectors, while bold uppercase letters denote matrices or higher-dimensional tensors.)  We imagine that the probabilistic spiking of this output neuron determines the strike-no-strike behaviour of the organism, specifically:\n",
        "$$ \\Pr \\{\\text{strike}\\} = \\sigma(y) $$\n",
        "$$ \\Pr \\{\\text{no strike}\\} = 1 - \\sigma(y)$$\n",
        "\n",
        "Here $\\sigma(y): \\frac{1}{1+e^{-y}} = \\frac{e^y}{1+e^y}$ is the standard logistic (sigmoid) function."
      ],
      "metadata": {
        "id": "xA-sEkUNTD94"
      }
    },
    {
      "cell_type": "markdown",
      "source": [
        "--Picture of this very simple neural circuit here--"
      ],
      "metadata": {
        "id": "OiIFH5wIzBcO"
      }
    },
    {
      "cell_type": "markdown",
      "source": [
        "**Quick Math Exercise**\n",
        "\n",
        "Consider a random variable with two possible outcomes, $A$ and $B$. The probability of each outcome is determined by applying the softmax function to their respective scores, $a$ and $b$. Specifically, the probability of outcome $A$ occurring is given by the softmax formula:\n",
        "$$ \\Pr \\{A\\} = \\frac{e^a}{e^a + e^b}$$\n",
        "Interestingly, $\\Pr{A}$ can be expressed in terms of the logistic (sigmoid) function, $\\sigma(x)$, where $x$ is a function of the scores $a$ and $b$. Your task is to determine this function, denoted as $f(a, b)$, so that $\\Pr{A} = \\sigma(f(a, b))$."
      ],
      "metadata": {
        "id": "QPaUCc6KsAXV"
      }
    },
    {
      "cell_type": "markdown",
      "source": [
        "\n",
        "Having established how behaviour is determined by sensory input, $x$, and parameters $w$, $b$, i.e. our policy, we now need to develop a rule for modifying this policy based on environmental feedback.\n",
        "\n",
        "Our goal is to come up with a rule that prescribes changes to the synaptic weight $w$ and bias $b$ in such a way that the reward obtained over time increases (and ideally approaches the theoretical maximum over many learning trials).\n",
        "\n",
        "Our previous 'guess and check' learning method from sequence 1.3.4, while not the most efficient, proved effective, as was the 'propose and reject' style algorithms that we explored earlier and that are akin to what evolution by natural selection implements. Building on this idea of 'propose and reject' we will perturb the existing weights by a small amount, evaluate the behaviour function using the perturbed weights. However, instead of just simply accepting or rejecting the proposed parameters (kind of like natural selection does) we will instead ***measure the relationship between the change in the performance of the the organism (in terms of reward obtained) and the changes in the parameters.*** An update will then be applied to the weights that is ***proportional*** to the ***measured performance changes*** over the ***measured parameter changes***, i.e. an estimate of the rate of change in performance for changes in the parameters. As a word equation\n",
        "\n",
        "$$ \\text{Parameter Update} = \\alpha \\cdot \\frac{\\text{Measured Perturbation in Performance}}{\\text{Measured Perturbation in Parameters}}$$\n",
        "\n",
        "where $\\alpha$ is some constant of proportionality, in this case usually called the learning rate or step-size meta-parameter of the learning algorithm.\n",
        "\n",
        "On the one hand we might expect a 'measure and update' method to be more efficient than a 'propose and reject' method, because with a 'propose and reject' alogorithm we don't make any parameter updates unless 'better' parameters are proposed. This means that most of the information from evaluation is thrown away every time parameters are rejected. In contrast, a 'measure and update' method will always updated the parameters using the information gleaned from the tested parameters. However, unlike the 'propose and reject' algorithm it's possible that the updates made by a 'measure and update' approach do not actually improve performance.\n",
        "\n",
        "Let's try it and see."
      ],
      "metadata": {
        "id": "ewD_6vPoUgq6"
      }
    },
    {
      "cell_type": "code",
      "source": [
        "################################################################################\n",
        "# TODO for students: Complete the lines with ... to implement a parameter\n",
        "# evalution function\n",
        "raise NotImplementedError(\"Exercise: parameter evaluation\")\n",
        "################################################################################\n",
        "\n",
        "\n",
        "def np_sigmoid(x):\n",
        "  return 1 / (1 + np.exp(-x))\n",
        "\n",
        "\n",
        "def eval_params_slow(w, b, x, y):\n",
        "  \"\"\"\n",
        "  evaluates parameters of simple behaviour circuit given inputs and target\n",
        "  outputs, use for loops to think carefully about what we're doing\n",
        "  Args:\n",
        "    w: (scalar) weight between sensory and output neuron\n",
        "    b: (scalar) bias of behavioural output neuron\n",
        "    x: (1 np.array x batch) sensory input\n",
        "       (can be single input, mini-batch of inputs or the whole batch of inputs)\n",
        "    y: (1 np.array x batch) target behavioural output (can be a single target,\n",
        "       mini-batch of targets, or whole batch), needs to correspond to input\n",
        "\n",
        "  Returns:\n",
        "    R_bar: the average/expected reward obtained given the parameters, over the\n",
        "           (mini-)batch of inputs and targets. (mini-batch could be size 1)\n",
        "  \"\"\"\n",
        "  batch_len = x.shape[1]\n",
        "  h = np.zeros((1, batch_len))\n",
        "  y_hat = np.zeros((1, batch_len))\n",
        "  R_total = 0\n",
        "  for ii in range(batch_len):\n",
        "    h[0,ii] = w * x[0,ii] + b\n",
        "    y_hat[0,ii] = np_sigmoid(h[0,ii])\n",
        "    # y_hat is our probability of striking\n",
        "    # compute the expected score\n",
        "    if y[0,ii] == 1:\n",
        "      # supposed to strike\n",
        "      # with probability y_hat creature strikes and gets a point\n",
        "      R_total += y_hat[0,ii] * 1.0\n",
        "      # with probability 1-y_hat creature doesn't strike and gets zero points\n",
        "      R_total += (1-y_hat[0,ii]) * 0.0\n",
        "    elif y[0,ii] == 0:\n",
        "      # not supposed to strike\n",
        "      # with probability y_hat creature strikes and loses a point\n",
        "      R_total += y_hat[0,ii] * -1.0\n",
        "      # with probability 1-y_hat creature doesn't strike and gets zero points\n",
        "      R_total += (1-y_hat[0,ii]) * 0.0\n",
        "    else:\n",
        "      raise ValueError(f'Unexpected target: {y[ii,0]}')\n",
        "  R_avg = R_total / batch_len\n",
        "  return R_avg\n",
        "\n",
        "\n",
        "def eval_params(w, b, x, y):\n",
        "  \"\"\"\n",
        "  evaluates parameters of simple behaviour circuit given inputs and target\n",
        "  outputs, use numpy broadcasting to be fast and concise\n",
        "  Args:\n",
        "    w: (scalar) weight between sensory and output neuron\n",
        "    b: (scalar) bias of behavioural output neuron\n",
        "    x: (batch x 1 np.array) sensory input\n",
        "       (can be single input, mini-batch of inputs or the whole batch of inputs)\n",
        "    y: (batch x 1 np.array) target behavioural output (can be a single target,\n",
        "       mini-batch of targets, or whole batch), needs to correspond to input\n",
        "\n",
        "  Returns:\n",
        "    R_bar: the average/expected reward obtained given the parameters, over the\n",
        "           (mini-)batch of inputs and targets. (mini-batch could be size 1)\n",
        "  \"\"\"\n",
        "  h = w * x + b\n",
        "  y_hat = np_sigmoid(h)\n",
        "  y_score = np.copy(y)\n",
        "  y_score[y_score == 0] = -1\n",
        "  batch_expected_reward = y_score * y_hat\n",
        "  R_avg = np.mean(batch_expected_reward)\n",
        "  return R_avg\n"
      ],
      "metadata": {
        "colab": {
          "base_uri": "https://localhost:8080/",
          "height": 247
        },
        "id": "EWc4CR-CUBPH",
        "outputId": "2ea5b040-4067-45fe-f74a-dcb2cb027936"
      },
      "execution_count": 14,
      "outputs": [
        {
          "output_type": "error",
          "ename": "NotImplementedError",
          "evalue": "Exercise: parameter evaluation",
          "traceback": [
            "\u001b[0;31m---------------------------------------------------------------------------\u001b[0m",
            "\u001b[0;31mNotImplementedError\u001b[0m                       Traceback (most recent call last)",
            "\u001b[0;32m<ipython-input-14-1aa2db591237>\u001b[0m in \u001b[0;36m<cell line: 4>\u001b[0;34m()\u001b[0m\n\u001b[1;32m      2\u001b[0m \u001b[0;31m# TODO for students: Complete the lines with ... to implement a parameter\u001b[0m\u001b[0;34m\u001b[0m\u001b[0;34m\u001b[0m\u001b[0m\n\u001b[1;32m      3\u001b[0m \u001b[0;31m# evalution function\u001b[0m\u001b[0;34m\u001b[0m\u001b[0;34m\u001b[0m\u001b[0m\n\u001b[0;32m----> 4\u001b[0;31m \u001b[0;32mraise\u001b[0m \u001b[0mNotImplementedError\u001b[0m\u001b[0;34m(\u001b[0m\u001b[0;34m\"Exercise: parameter evaluation\"\u001b[0m\u001b[0;34m)\u001b[0m\u001b[0;34m\u001b[0m\u001b[0;34m\u001b[0m\u001b[0m\n\u001b[0m\u001b[1;32m      5\u001b[0m \u001b[0;31m################################################################################\u001b[0m\u001b[0;34m\u001b[0m\u001b[0;34m\u001b[0m\u001b[0m\n\u001b[1;32m      6\u001b[0m \u001b[0;34m\u001b[0m\u001b[0m\n",
            "\u001b[0;31mNotImplementedError\u001b[0m: Exercise: parameter evaluation"
          ]
        }
      ]
    },
    {
      "cell_type": "code",
      "source": [
        "# to_remove solution\n",
        "\n",
        "def np_sigmoid(x):\n",
        "  return 1 / (1 + np.exp(-x))\n",
        "\n",
        "\n",
        "def eval_params_slow(w, b, x, y):\n",
        "  \"\"\"\n",
        "  evaluates parameters of simple behaviour circuit given inputs and target\n",
        "  outputs, use for loops to think carefully about what we're doing\n",
        "  Args:\n",
        "    w: (scalar) weight between sensory and output neuron\n",
        "    b: (scalar) bias of behavioural output neuron\n",
        "    x: (1 np.array x batch) sensory input\n",
        "       (can be single input, mini-batch of inputs or the whole batch of inputs)\n",
        "    y: (1 np.array x batch) target behavioural output (can be a single target,\n",
        "       mini-batch of targets, or whole batch), needs to correspond to input\n",
        "\n",
        "  Returns:\n",
        "    R_bar: the average/expected reward obtained given the parameters, over the\n",
        "           (mini-)batch of inputs and targets. (mini-batch could be size 1)\n",
        "  \"\"\"\n",
        "  batch_len = x.shape[1]\n",
        "  h = np.zeros((1, batch_len))\n",
        "  y_hat = np.zeros((1, batch_len))\n",
        "  R_total = 0\n",
        "  for ii in range(batch_len):\n",
        "    h[0,ii] = w * x[0,ii] + b\n",
        "    y_hat[0,ii] = np_sigmoid(h[0,ii])\n",
        "    # y_hat is our probability of striking\n",
        "    # compute the expected score\n",
        "    if y[0,ii] == 1:\n",
        "      # supposed to strike\n",
        "      # with probability y_hat creature strikes and gets a point\n",
        "      R_total += y_hat[0,ii] * 1.0\n",
        "      # with probability 1-y_hat creature doesn't strike and gets zero points\n",
        "      R_total += (1-y_hat[0,ii]) * 0.0\n",
        "    elif y[0,ii] == 0:\n",
        "      # not supposed to strike\n",
        "      # with probability y_hat creature strikes and loses a point\n",
        "      R_total += y_hat[0,ii] * -1.0\n",
        "      # with probability 1-y_hat creature doesn't strike and gets zero points\n",
        "      R_total += (1-y_hat[0,ii]) * 0.0\n",
        "    else:\n",
        "      raise ValueError(f'Unexpected target: {y[ii,0]}')\n",
        "  R_avg = R_total / batch_len\n",
        "  return R_avg\n",
        "\n",
        "\n",
        "def eval_params(w, b, x, y):\n",
        "  \"\"\"\n",
        "  evaluates parameters of simple behaviour circuit given inputs and target\n",
        "  outputs, use numpy broadcasting to be fast and concise\n",
        "  Args:\n",
        "    w: (scalar) weight between sensory and output neuron\n",
        "    b: (scalar) bias of behavioural output neuron\n",
        "    x: (batch x 1 np.array) sensory input\n",
        "       (can be single input, mini-batch of inputs or the whole batch of inputs)\n",
        "    y: (batch x 1 np.array) target behavioural output (can be a single target,\n",
        "       mini-batch of targets, or whole batch), needs to correspond to input\n",
        "\n",
        "  Returns:\n",
        "    R_bar: the average/expected reward obtained given the parameters, over the\n",
        "           (mini-)batch of inputs and targets. (mini-batch could be size 1)\n",
        "  \"\"\"\n",
        "  h = w * x + b\n",
        "  y_hat = np_sigmoid(h)\n",
        "  y_score = np.copy(y)\n",
        "  y_score[y_score == 0] = -1\n",
        "  batch_expected_reward = y_score * y_hat\n",
        "  R_avg = np.mean(batch_expected_reward)\n",
        "  return R_avg\n"
      ],
      "metadata": {
        "id": "HDa7I96ubNUs"
      },
      "execution_count": 15,
      "outputs": []
    },
    {
      "cell_type": "markdown",
      "source": [
        "In this exercise we actually implemented the same function twice, once using a for loop to iterate over the (mini-)batch of inputs and targets, and once using numpy broadcasting to compute the batch reward (roughly) in parallel. Run the following code cells to see what kind of computational efficiency this buys us."
      ],
      "metadata": {
        "id": "kW3lxhcre236"
      }
    },
    {
      "cell_type": "code",
      "source": [
        "X_simple_1_feature.T.shape"
      ],
      "metadata": {
        "id": "sPJ1Z3KvqsCx",
        "outputId": "9eb27e24-4474-4077-b04e-dc6b90b067b6",
        "colab": {
          "base_uri": "https://localhost:8080/"
        }
      },
      "execution_count": 16,
      "outputs": [
        {
          "output_type": "execute_result",
          "data": {
            "text/plain": [
              "(1, 1125)"
            ]
          },
          "metadata": {},
          "execution_count": 16
        }
      ]
    },
    {
      "cell_type": "code",
      "source": [
        "eval_params_slow(1, 0, X_simple_1_feature.T, y1_simple.T)"
      ],
      "metadata": {
        "id": "Vn3QskI2q8Rl",
        "outputId": "28bdbc11-866e-45b8-8b10-f9f99d5d00fe",
        "colab": {
          "base_uri": "https://localhost:8080/"
        }
      },
      "execution_count": 17,
      "outputs": [
        {
          "output_type": "execute_result",
          "data": {
            "text/plain": [
              "0.46215956306090394"
            ]
          },
          "metadata": {},
          "execution_count": 17
        }
      ]
    },
    {
      "cell_type": "code",
      "source": [
        "eval_params(1, 0, X_simple_1_feature.T, y1_simple.T)"
      ],
      "metadata": {
        "id": "5w4Cvwj5rNFX",
        "outputId": "4e614ac4-6035-4adc-92eb-b1a61b4dc092",
        "colab": {
          "base_uri": "https://localhost:8080/"
        }
      },
      "execution_count": 18,
      "outputs": [
        {
          "output_type": "execute_result",
          "data": {
            "text/plain": [
              "0.4621595630608997"
            ]
          },
          "metadata": {},
          "execution_count": 18
        }
      ]
    },
    {
      "cell_type": "code",
      "source": [
        "%timeit eval_params_slow(1, 0, X_simple_1_feature.T, y1_simple.T)"
      ],
      "metadata": {
        "colab": {
          "base_uri": "https://localhost:8080/"
        },
        "id": "5Ym0WutAbU-t",
        "outputId": "264124a0-58d2-43db-bf54-17f8abb25393"
      },
      "execution_count": 19,
      "outputs": [
        {
          "output_type": "stream",
          "name": "stdout",
          "text": [
            "3.39 ms ± 34.3 µs per loop (mean ± std. dev. of 7 runs, 100 loops each)\n"
          ]
        }
      ]
    },
    {
      "cell_type": "code",
      "source": [
        "%timeit eval_params(1, 0, X_simple_1_feature.T, y1_simple.T)"
      ],
      "metadata": {
        "colab": {
          "base_uri": "https://localhost:8080/"
        },
        "id": "03WM4qQJfZcP",
        "outputId": "ec333df8-b54c-4243-86b2-5e62a657667b"
      },
      "execution_count": 20,
      "outputs": [
        {
          "output_type": "stream",
          "name": "stdout",
          "text": [
            "50.5 µs ± 297 ns per loop (mean ± std. dev. of 7 runs, 10000 loops each)\n"
          ]
        }
      ]
    },
    {
      "cell_type": "markdown",
      "source": [
        "In our specific example (on the specific COLAB instance we're writing this on in 2024), the broadcasting approach in Python, using NumPy, is approximately 50 times faster than using for-loops. This is because for-loops in interpreted languages like Python incur significant overhead at each iteration, in part due to potential dependencies between loop iterations which limit parallelization. In contrast, broadcasting allows for vectorized operations, enabling parallel execution that can harness more of the underlying hardware's computational power. NumPy enhances this efficiency further by utilizing highly optimized, pre-compiled linear algebra libraries (primarily hardware-specific implementations of BLAS and LAPACK). The same principles apply (though are sometimes less critical) in compiled languages or with Just-In-Time (JIT) compilation frameworks like JAX. Broadcasting or tensor notation not only improves performance but also maintains code brevity and alignment with mathematical notation. As scientists and programmers, we do not need to understand every detail of how the magic of computational parallelism allows for fast linear algebra, but it is crucial to appreciate the potential impacts on computational efficiency."
      ],
      "metadata": {
        "id": "LeWqCr0Zhl9r"
      }
    },
    {
      "cell_type": "markdown",
      "source": [
        "Okay so we have the ability to evaluate the parameters in terms of the average score the yeild when applied across the whole 'data set' of examples we have of senory inputs and correct actions. Let's start with 'neutral' parameters $w=0$ and $b=0$, which gives a fifty-fifty chance of striking or not-striking regardless of input. Then, in each iteration of our learning (training) loop we will perturb our parameters using Gaussian noise and ***measure the relationship*** between the parameter changes and the average expected reward as determined by our evalutation function. After measuring this relationship, we will update each parameter in proportion to the rate of improvement of the score with resepct to the change in the underlying parameter."
      ],
      "metadata": {
        "id": "aUyHKEkHrtgJ"
      }
    },
    {
      "cell_type": "code",
      "source": [
        "# @title Measure and Update Training Loop\n",
        "\n",
        "learn_rng = np.random.default_rng(0)\n",
        "num_learning_episodes = 100000\n",
        "alpha = 200 #learning rate / step size\n",
        "perturbation_scale = 0.1 # std of guassian parameter perturbations\n",
        "w_init = 1\n",
        "b_init = 0\n",
        "w = w_init\n",
        "b = b_init\n",
        "start_time = time.time()\n",
        "for ii in range(num_learning_episodes+1):\n",
        "  R_bar_old = eval_params(w, b, X_simple_1_feature.T, y1_simple.T)\n",
        "  # perturb w and evaluate\n",
        "  w_perturbation = learn_rng.normal(0, perturbation_scale)\n",
        "  w_perturbed = w + w_perturbation\n",
        "  R_bar_perturbed_w = eval_params(w_perturbed, b, X_simple_1_feature.T, y1_simple.T)\n",
        "  # perturb b and evaluate\n",
        "  b_perturbation = learn_rng.normal(0, perturbation_scale)\n",
        "  b_perturbed = b + b_perturbation\n",
        "  R_bar_perturbed_b = eval_params(w, b_perturbed, X_simple_1_feature, y1_simple)\n",
        "  # estimate rate of change of reward for each parameter\n",
        "  finite_difference_w = (R_bar_perturbed_w - R_bar_old) / w_perturbation\n",
        "  finite_difference_b = (R_bar_perturbed_b - R_bar_old) / b_perturbation\n",
        "  # update parameters based on finte difference estimate rate of change\n",
        "  # of reward with respect to parameters\n",
        "  delta_w = alpha * finite_difference_w\n",
        "  delta_b = alpha * finite_difference_b\n",
        "  w += delta_w\n",
        "  b += delta_b\n",
        "\n",
        "  if ii == 0 or ii % 5000 == 0:\n",
        "    elapsed_time = time.time() - start_time\n",
        "    print(f'{\"Iteration\":>12}: {ii:<6} | {\"w\":>1}={w:<8.4f} | {\"b\":>1}={b:<8.4f} | {\"R_bar\":>5}={R_bar_old:<8.6f} | {\"Time\":>4}={elapsed_time:<5.2f} seconds')"
      ],
      "metadata": {
        "colab": {
          "base_uri": "https://localhost:8080/"
        },
        "id": "XzuNzClBsiGX",
        "outputId": "ce9b560e-b29f-456d-b348-4112b842ecd8"
      },
      "execution_count": 21,
      "outputs": [
        {
          "output_type": "stream",
          "name": "stdout",
          "text": [
            "   Iteration: 0      | w=5.5287   | b=2.4765   | R_bar=0.462160 | Time=0.00  seconds\n",
            "   Iteration: 5000   | w=12.5186  | b=42.2319  | R_bar=0.495022 | Time=0.80  seconds\n",
            "   Iteration: 10000  | w=14.3977  | b=48.6602  | R_bar=0.495067 | Time=1.61  seconds\n",
            "   Iteration: 15000  | w=15.5291  | b=52.3596  | R_bar=0.495082 | Time=2.42  seconds\n",
            "   Iteration: 20000  | w=16.2992  | b=55.0076  | R_bar=0.495089 | Time=3.22  seconds\n",
            "   Iteration: 25000  | w=16.8975  | b=57.0190  | R_bar=0.495094 | Time=4.03  seconds\n",
            "   Iteration: 30000  | w=17.3875  | b=58.6933  | R_bar=0.495097 | Time=4.85  seconds\n",
            "   Iteration: 35000  | w=17.8059  | b=60.0948  | R_bar=0.495099 | Time=5.67  seconds\n",
            "   Iteration: 40000  | w=18.1838  | b=61.3382  | R_bar=0.495100 | Time=6.47  seconds\n",
            "   Iteration: 45000  | w=18.4996  | b=62.4001  | R_bar=0.495102 | Time=7.28  seconds\n",
            "   Iteration: 50000  | w=18.7787  | b=63.3663  | R_bar=0.495103 | Time=8.09  seconds\n",
            "   Iteration: 55000  | w=19.0346  | b=64.2503  | R_bar=0.495103 | Time=8.90  seconds\n",
            "   Iteration: 60000  | w=19.2774  | b=65.0346  | R_bar=0.495104 | Time=9.71  seconds\n",
            "   Iteration: 65000  | w=19.4783  | b=65.7386  | R_bar=0.495105 | Time=10.51 seconds\n",
            "   Iteration: 70000  | w=19.6835  | b=66.4303  | R_bar=0.495105 | Time=11.32 seconds\n",
            "   Iteration: 75000  | w=19.8704  | b=67.0558  | R_bar=0.495105 | Time=12.13 seconds\n",
            "   Iteration: 80000  | w=20.0446  | b=67.6330  | R_bar=0.495106 | Time=12.94 seconds\n",
            "   Iteration: 85000  | w=20.2126  | b=68.1825  | R_bar=0.495106 | Time=13.75 seconds\n",
            "   Iteration: 90000  | w=20.3563  | b=68.6949  | R_bar=0.495106 | Time=14.57 seconds\n",
            "   Iteration: 95000  | w=20.5071  | b=69.1857  | R_bar=0.495107 | Time=15.38 seconds\n",
            "   Iteration: 100000 | w=20.6387  | b=69.6485  | R_bar=0.495107 | Time=16.18 seconds\n"
          ]
        }
      ]
    },
    {
      "cell_type": "markdown",
      "source": [
        "Is an R_bar of 0.4951... good or bad? Let's look at the data. How many striking opportunities are there, versus situation where no-strike is best?"
      ],
      "metadata": {
        "id": "y4twkW7jhuGg"
      }
    },
    {
      "cell_type": "code",
      "source": [
        "# number of striking opportunities\n",
        "np.sum(y1_simple == 1)"
      ],
      "metadata": {
        "colab": {
          "base_uri": "https://localhost:8080/"
        },
        "id": "4kXwXVBQh0rz",
        "outputId": "ed5756a0-ab81-45eb-a5d7-e18620d40f2b"
      },
      "execution_count": 22,
      "outputs": [
        {
          "output_type": "execute_result",
          "data": {
            "text/plain": [
              "571"
            ]
          },
          "metadata": {},
          "execution_count": 22
        }
      ]
    },
    {
      "cell_type": "code",
      "source": [
        "#number of non-strike situations\n",
        "np.sum(y1_simple == 0)"
      ],
      "metadata": {
        "colab": {
          "base_uri": "https://localhost:8080/"
        },
        "id": "1J_2fz4siiKJ",
        "outputId": "d5727521-f56a-4699-f284-f7d25bc0eda9"
      },
      "execution_count": 23,
      "outputs": [
        {
          "output_type": "execute_result",
          "data": {
            "text/plain": [
              "554"
            ]
          },
          "metadata": {},
          "execution_count": 23
        }
      ]
    },
    {
      "cell_type": "code",
      "source": [
        "# proportion of situations where a point can be earned\n",
        "571 / (571 + 554)"
      ],
      "metadata": {
        "colab": {
          "base_uri": "https://localhost:8080/"
        },
        "id": "14VOIptYin9V",
        "outputId": "ce534af0-d954-46c3-f951-4fbc4eb9f6ff"
      },
      "execution_count": 24,
      "outputs": [
        {
          "output_type": "execute_result",
          "data": {
            "text/plain": [
              "0.5075555555555555"
            ]
          },
          "metadata": {},
          "execution_count": 24
        }
      ]
    },
    {
      "cell_type": "markdown",
      "source": [
        "So, back to our question: Is an average score of 0.4951... per round good? Well, yes. A perfect score is 0.5075..., and given that we only have this one feature to work with - a feature that can't perfectly separate the two cases (as the distributions overlap a bit) - we are bound to have a few false positives and false negatives. These will lower the score a bit, but for the most part, this is roughly as good as can be expected."
      ],
      "metadata": {
        "id": "zhb-ZCysjHIu"
      }
    },
    {
      "cell_type": "markdown",
      "source": [
        "**Algorithmic Thinking Exercise:**\n",
        "\n",
        "In the 'measure and update' learning loop implemented above we perturb each parameter, measure the effect of perturbations, and then update the parameters. Alternatively we could have perturbed the $w$ parameter, evaluated and then updated the $w$ parameter, and then perturbed the $b$ parameter, evaluated, and then updated the $b$ parameter.\n",
        "1. In the implementation above how many times is the `eval_params` function called per iteration?\n",
        "\n",
        "  (Answer: 3)\n",
        "2. If we used the alternative where each parameter is updated and after evaulation, how many times would`eval_params` need to be called per iteration?\n",
        "\n",
        "  (Answer: 4, After updating $w$ we can't simply use `R_bar_old` to measure the change in performance from changing $b$ since `R_bar_perturbed_b` will be computed using the updated $w$. An `R_bar_new_w_old_b` will need to be computed and used to inform the changes to $b$.)\n",
        "3. If we had $n$ parameters instead of 2, how many times would the `eval_params` function be called per iteration in the implementation above?\n",
        "\n",
        "  (Answer: $n+1$)\n",
        "4. If we had $n$ parameters and instead of 2, how many times would the `eval_params` function be called per iteration in the alternate implementation?\n",
        "\n",
        "  (Answer: $2n$)\n",
        "\n",
        "Little details like this in implementation can make big differences to algorithm speed. Note though that this slower alternative isn't quite a dead loss. Technically the parameter updates made by the alternative algorithm, will be 'better' (precisely what we mean by better we leave aside for the moment), however, in this particular case the 'betterness' of the parameter updates is not enough to make up for the added computational cost of calling `eval_params` and extra $n-1$ times."
      ],
      "metadata": {
        "id": "4dOKfdyHwVin"
      }
    },
    {
      "cell_type": "markdown",
      "source": [
        "Okay, now just as a sanity and intuition check, two questions:\n",
        "1. Do we get the same answer when we use a propose and reject method?  \n",
        "2. Is the propose and reject method quicker or slower at finding the solution?\n",
        "Let's quickly adapt the adapt 'measure and update' learning loop to do 'propose and reject' instead."
      ],
      "metadata": {
        "id": "GSrLe6Jsu2va"
      }
    },
    {
      "cell_type": "code",
      "source": [
        "# @title Propose And Reject Training Loop\n",
        "learn_rng = np.random.default_rng(0)\n",
        "num_learning_episodes = 50000\n",
        "perturbation_scale = 0.1 # std of guassian parameter perturbations\n",
        "w_init = 1\n",
        "b_init = 0\n",
        "w = w_init\n",
        "b = b_init\n",
        "start_time = time.time()  # Record the start time\n",
        "R_bar_best = eval_params(w, b, X_simple_1_feature.T, y1_simple.T)\n",
        "for ii in range(num_learning_episodes+1):\n",
        "  # perturb w and evaluate\n",
        "  w_perturbation = learn_rng.normal(0, perturbation_scale)\n",
        "  w_proposed = w + w_perturbation\n",
        "  R_bar_proposed = eval_params(w_proposed, b, X_simple_1_feature, y1_simple)\n",
        "  if R_bar_best < R_bar_proposed:\n",
        "    w = w_proposed\n",
        "    R_bar_best = R_bar_proposed\n",
        "  # perturb b and evaluate\n",
        "  b_perturbation = learn_rng.normal(0, perturbation_scale)\n",
        "  b_proposed = b + b_perturbation\n",
        "  R_bar_proposed = eval_params(w, b_proposed, X_simple_1_feature, y1_simple)\n",
        "  if R_bar_best < R_bar_proposed:\n",
        "    b = b_proposed\n",
        "    R_bar_best = R_bar_proposed\n",
        "\n",
        "  if ii == 0 or ii % 5000 == 0:\n",
        "    elapsed_time = time.time() - start_time\n",
        "    print(f'{\"Iteration\":>12}: {ii:<6} | {\"w\":>1}={w:<8.4f} | {\"b\":>1}={b:<8.4f} | {\"R_bar\":>5}={R_bar_best:<8.6f} | {\"Time\":>4}={elapsed_time:<5.2f} seconds')\n"
      ],
      "metadata": {
        "id": "rpObYXz3vP5-",
        "outputId": "e93d7f6a-7413-40a4-c3b7-c617e792bb82",
        "colab": {
          "base_uri": "https://localhost:8080/"
        }
      },
      "execution_count": 25,
      "outputs": [
        {
          "output_type": "stream",
          "name": "stdout",
          "text": [
            "   Iteration: 0      | w=1.0126   | b=0.0000   | R_bar=0.462444 | Time=0.00  seconds\n",
            "   Iteration: 5000   | w=27.5288  | b=92.8324  | R_bar=0.495111 | Time=0.53  seconds\n",
            "   Iteration: 10000  | w=51.3567  | b=173.3680 | R_bar=0.495111 | Time=1.07  seconds\n",
            "   Iteration: 15000  | w=70.6678  | b=238.4978 | R_bar=0.495111 | Time=1.65  seconds\n",
            "   Iteration: 20000  | w=71.1767  | b=240.2648 | R_bar=0.495111 | Time=2.24  seconds\n",
            "   Iteration: 25000  | w=71.1767  | b=240.2648 | R_bar=0.495111 | Time=2.83  seconds\n",
            "   Iteration: 30000  | w=71.1767  | b=240.2648 | R_bar=0.495111 | Time=3.41  seconds\n",
            "   Iteration: 35000  | w=71.1767  | b=240.2648 | R_bar=0.495111 | Time=3.99  seconds\n",
            "   Iteration: 40000  | w=71.1767  | b=240.2648 | R_bar=0.495111 | Time=4.57  seconds\n",
            "   Iteration: 45000  | w=71.1767  | b=240.2648 | R_bar=0.495111 | Time=5.16  seconds\n",
            "   Iteration: 50000  | w=71.1767  | b=240.2648 | R_bar=0.495111 | Time=5.75  seconds\n"
          ]
        }
      ]
    },
    {
      "cell_type": "markdown",
      "source": [
        "Okay so both 'Propose and Reject' and 'Measure and Update' get to similar answers, but 'Propose and Reject' get's there much more quickly. In part this is because there are fewer calls to `eval_params` per iteration (2 instead of 3). But, this is also because the step size (in parameter space) stays relatively large throughout the process, whereas the step size (in parameter space) in our 'Measure and Update' process diminishes as the relative improvements in performance diminish. This is one reason why the improvements in `R_bar` are initially rapid, but slow down in the 'Measure and Update' process."
      ],
      "metadata": {
        "id": "CGVcSJSK9--Z"
      }
    },
    {
      "cell_type": "markdown",
      "source": [
        "A couple things to think about here:\n",
        "1. In our 'Measure and Update' training loop we make one perturbation and one measurement of change in reward for each parameter. What would happen if we perturbed every parameter and then made a single measurement of change in reward? This would mean only two calls to `eval_params` per iteration, regardless of the number of parameters. Together these two `eval_params` would measure the combined effect of all the parameter changes on reward. As a result the estimated effect of any one parameter on the reward, would be polluted by the effects of all the other parameter perturbations. Would the efficiency from fewer `eval_params` calls compensate for the noise introduced, or would the noise make these updates unhelpful. In other words is it better to take more/quicker noisy steps in parameters space or fewer/slower steps in better directions?\n",
        "2. In the learning loops above the impact on reward for a perturbation is measured using the entirety of the data set available to us. In this example the data set is only ~1000 examples, but what if it consisted of trillions of examples, would it still make sense to use the entire data set to evaluate each perturbation or would it be better to evaluate parameter changes using a smaller sample from this data set? Using a smaller sample will often make our evaluations faster at the price of introducing noise to the estimate of rate of reward change (on the full data set) with respect to parameter changes. Again, this is question of more/quicker noisy steps or fewer/slower careful steps in parameters space.\n",
        "3. In the learning loops above we measure the relationship between parameter changes and reward changes using a single perturbation, but could we make better parameter updates if we measured using many perturbations before updating the parameters? This would require making more evaluations per update, again it comes down to more/quicker noisy parameter updates versus fewer/slower careful parameter updates. What is the right balance?\n",
        "\n",
        "For this very straightforward problem these questions may seem kind of beside the point. We have a good answer, and it didn't take too long to get, why worry about these details now? We don't really need to now, but as we'll soon see, these details become increasingly relevant as we work to extend this measure and improve approach to more complex problems. Indeed, the trade-off between more/quick noisy steps and few/slow careful steps is one of the fundamental questions at the dark heart of Machine Learning."
      ],
      "metadata": {
        "id": "17CKb7j5u08Z"
      }
    },
    {
      "cell_type": "code",
      "source": [
        "# @markdown Submit your feedback\n",
        "content_review(f\"{feedback_prefix}_M1\")"
      ],
      "metadata": {
        "id": "R9HNZ8pSp3BR",
        "cellView": "form",
        "outputId": "4e9dbaed-aac7-4d92-cdb8-63a0536bd44e",
        "colab": {
          "base_uri": "https://localhost:8080/",
          "height": 62,
          "referenced_widgets": [
            "24dac9931c2f42a58777d5de8a6ddd40",
            "8317d046663d45dd9022df94e53196fa",
            "6d13b1d0c1a44d95a03448b3e5dd6fe9",
            "041af0fb50494f909e797305cbbe978b",
            "353a80ac091445fa9c60c61d0ef7a945",
            "fd7858d476d840fca336bee7649122c9",
            "7f8ea13965d944289ff65d789e374312",
            "33c380d691d94da98dfe979415a9700d",
            "f1ef5b689ee3478d95f9ab46c95c9c70",
            "f460eba7567a4c78975376567918fbcc",
            "2063acd79aed45ebb0784c41704c500e",
            "b907ddc0d07e4cc49028e7cab6c0a0be",
            "e121859753384a918f7c3789348b9212",
            "b866cbea32ca466586d615c6111bc29f",
            "191c963d6810433f94b47495203dba0d",
            "bf41c361c03e494c92365c0ad86529e3",
            "c3e99dd252324c1987bdd923e9bdd25c",
            "c12f44651a64443b8e8ccdbca0b24876",
            "ba7de31d225845cc8b707ad5e5253cc7",
            "6f8d55c09abe49a9a7cc44e9453599ad",
            "5522f254eba24f4fadcee1ffba65fd58",
            "4f0fbb32528d46b69a5e4a3ccd6b033a",
            "8152a400dbd64c8fb8dcc6d18cfe69ca",
            "ece64dab94584cb380577575ed03c11d",
            "0a89a9e36dd547a8a6484c802b286333",
            "786d72f79c754b3b807bda47d52ae294"
          ]
        }
      },
      "execution_count": 26,
      "outputs": [
        {
          "output_type": "display_data",
          "data": {
            "text/plain": [
              "VBox(children=(VBox(children=(HBox(children=(Button(description='🙂', layout=Layout(height='auto', padding='0.5…"
            ],
            "application/vnd.jupyter.widget-view+json": {
              "version_major": 2,
              "version_minor": 0,
              "model_id": "24dac9931c2f42a58777d5de8a6ddd40"
            }
          },
          "metadata": {
            "application/vnd.jupyter.widget-view+json": {
              "colab": {
                "custom_widget_manager": {
                  "url": "https://ssl.gstatic.com/colaboratory-static/widgets/colab-cdn-widget-manager/b3e629b1971e1542/manager.min.js"
                }
              }
            }
          }
        }
      ]
    },
    {
      "cell_type": "markdown",
      "source": [
        "# 2.1.1.2: Learning to Do The Right Thing - Harder\n",
        "In the previous section we worked on a pretty simple discrimination problem, there was a single feature that (for the most part) correlated with when striking was and wasn't the right thing to do. Now we're going to look at a slightly harder problem, where the answer is less obvious (to us at least). As before, given a sensory input pattern, the problem is to determine whether or not to strike. Again, try to maximize your average score. Now though, the 'sensory' pattern is more complex."
      ],
      "metadata": {
        "id": "WbP4qinopnuv"
      }
    },
    {
      "cell_type": "code",
      "source": [
        "scramble_bin_hard = InteractiveMNISTPredator(features=Xs,\n",
        "                                             labels=y1,\n",
        "                                             feedback_type='both')\n",
        "display(scramble_bin_hard.fig.canvas)\n",
        "clear_output()\n",
        "display(scramble_bin_hard.ui)"
      ],
      "metadata": {
        "id": "kndWMGwahrvp",
        "outputId": "82b16406-d061-43d1-a321-a05362fbfd24",
        "colab": {
          "base_uri": "https://localhost:8080/",
          "height": 457,
          "referenced_widgets": [
            "b24b0245064643d58b9e3dfa471135bb",
            "e53056f4097a4240b929d1f5de4bdf9f",
            "f4b800be48964e68a87a58d4eb55c683",
            "3b7cf5dd04cc4afdbc800420dc9be629",
            "cf1f55bcdc0c462d8317f811a0edca24",
            "e0ee5d7eb34e409d8ff1b9f6411edfd0",
            "4fc6972bcd654f15913ec38798cad930",
            "b3183a79d0df4baf9efc631428c91110",
            "2237625b32904239835f7f5bc80fbcc5",
            "c1861646533c4fbb9ce88c2756869af8",
            "a2be5f7048bb45adbdbec077496bdee2",
            "f0bf84dccc6f416ebd19e5c941c86947",
            "a62476320a40491eb4705b31405c03d9",
            "e7727d631edd4cc696028f2de12f0036",
            "997fa74899304c0bab7584dfaacd30cb",
            "bd514ef61bbb4c63bb81576f76ca3bed",
            "1fda498f84b344c9a3f20342ba05c69e",
            "a1caaf17dd7941fdaba7e14138a62deb",
            "7b7c6d43f67349089c7035c2dcb25189",
            "f8068f5bcdb64d43b3a92bb875368a55",
            "60c90b510d2d48a8a738841b9ec5ff42",
            "3ec14ceb8bda48f78d2be56eb48e5980"
          ]
        }
      },
      "execution_count": 27,
      "outputs": [
        {
          "output_type": "display_data",
          "data": {
            "text/plain": [
              "HBox(children=(VBox(children=(Canvas(footer_visible=False, header_visible=False, resizable=False, toolbar=Tool…"
            ],
            "application/vnd.jupyter.widget-view+json": {
              "version_major": 2,
              "version_minor": 0,
              "model_id": "b24b0245064643d58b9e3dfa471135bb"
            }
          },
          "metadata": {
            "application/vnd.jupyter.widget-view+json": {
              "colab": {
                "custom_widget_manager": {
                  "url": "https://ssl.gstatic.com/colaboratory-static/widgets/colab-cdn-widget-manager/b3e629b1971e1542/manager.min.js"
                }
              }
            }
          }
        }
      ]
    },
    {
      "cell_type": "markdown",
      "source": [
        "So now instead of a single feature to base our strike/no-strike discrimination on we have 64 (8x8) features to potentially inform our decision. Will our simple setup from before readily generalize to this situation with richer sensory input? Let's find out."
      ],
      "metadata": {
        "id": "cqeN8CUKfTkn"
      }
    },
    {
      "cell_type": "markdown",
      "source": [
        "We model this creature's sensory-behaviour system much as before. Now $\\mathbf{x}$ is the raw sensory input (vector) in a given episode. Each element $x_i$ of $\\mathbf{x}$ corresponds to the activation level and firing rate of a single photosensitive neuron."
      ],
      "metadata": {
        "id": "zwRcciGmf_EA"
      }
    },
    {
      "cell_type": "code",
      "source": [
        "# the data set we're working with has 5620 example sensory inputs,\n",
        "# each consistinge of 64 (8x8) values\n",
        "print(Xs.shape)"
      ],
      "metadata": {
        "id": "u4pbUK4uTmN2",
        "outputId": "fb06cad4-6772-4e05-8c2c-481c35fd12d4",
        "colab": {
          "base_uri": "https://localhost:8080/"
        }
      },
      "execution_count": 28,
      "outputs": [
        {
          "output_type": "stream",
          "name": "stdout",
          "text": [
            "(5620, 64)\n"
          ]
        }
      ]
    },
    {
      "cell_type": "code",
      "source": [
        "# this is the first example\n",
        "print(Xs[0].reshape(8,8,))"
      ],
      "metadata": {
        "id": "jBHrUfmHTxwM",
        "outputId": "56b39157-76b6-4677-cc8d-0414b3eaa665",
        "colab": {
          "base_uri": "https://localhost:8080/"
        }
      },
      "execution_count": 29,
      "outputs": [
        {
          "output_type": "stream",
          "name": "stdout",
          "text": [
            "[[-1.5   0.   -4.5  -5.25  3.    5.25 -3.75 -6.  ]\n",
            " [-6.   -6.   -2.25 -0.75  4.5  -1.5  -6.   -6.  ]\n",
            " [-4.5  -6.   -6.   -6.   -6.   -6.   -0.75 -5.25]\n",
            " [-0.75  4.5  -3.75  0.75 -2.25 -1.5  -0.75  3.75]\n",
            " [-6.   -5.25  5.25  0.   -6.    1.5   3.   -0.75]\n",
            " [-6.   -6.   -6.   -6.   -5.25 -6.    3.75  6.  ]\n",
            " [-6.   -6.   -2.25 -6.   -6.    2.25 -6.   -1.5 ]\n",
            " [ 6.    6.   -6.   -6.   -3.   -6.    0.75 -6.  ]]\n"
          ]
        }
      ]
    },
    {
      "cell_type": "code",
      "source": [
        "# visualizing the example we see that lower values correspond to darker pixels\n",
        "# and higher values correspond to lighter values\n",
        "fig, ax = plt.subplots(figsize=(4,4))\n",
        "remove_ip_clutter(fig)\n",
        "ax.imshow(Xs[0].reshape(8,8), cmap='gray')\n",
        "plt.show()"
      ],
      "metadata": {
        "id": "z95_m-llUADX",
        "outputId": "706b3f88-caa0-4bde-a9d8-c12ef905e1b9",
        "colab": {
          "base_uri": "https://localhost:8080/",
          "height": 425,
          "referenced_widgets": [
            "7e7b3271b7e74e06a6566aa4a20473cf",
            "d6ea93d34c8e4298aa66881f14ba4d1f",
            "ab1e7502988b4a6cb436f5af4a630701",
            "22c07b0c27f24c96953392332e62e0c5"
          ]
        }
      },
      "execution_count": 30,
      "outputs": [
        {
          "output_type": "display_data",
          "data": {
            "text/plain": [
              "Canvas(footer_visible=False, header_visible=False, resizable=False, toolbar=Toolbar(toolitems=[('Home', 'Reset…"
            ],
            "image/png": "[encoded data removed]",
            "text/html": [
              "\n",
              "            <div style=\"display: inline-block;\">\n",
              "                <div class=\"jupyter-widgets widget-label\" style=\"text-align: center;\">\n",
              "                    Figure\n",
              "                </div>\n",
              "                <img src='data:image/png;base64,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' width=400.0/>\n",
              "            </div>\n",
              "        "
            ],
            "application/vnd.jupyter.widget-view+json": {
              "version_major": 2,
              "version_minor": 0,
              "model_id": "7e7b3271b7e74e06a6566aa4a20473cf"
            }
          },
          "metadata": {
            "application/vnd.jupyter.widget-view+json": {
              "colab": {
                "custom_widget_manager": {
                  "url": "https://ssl.gstatic.com/colaboratory-static/widgets/colab-cdn-widget-manager/b3e629b1971e1542/manager.min.js"
                }
              }
            }
          }
        }
      ]
    },
    {
      "cell_type": "markdown",
      "source": [
        "These input neurons are then connected by synapses to a single output neuron. The activation level of this output neuron is computed as\n",
        "$$y = \\mathbf{Wx} + b$$\n",
        "As before, $b$ is the (scalar) bias, or baseline activation level of the output neuron and $\\mathbf{W}$ is a matrix of synaptic weights between the input neurons and the single output neuron. (In this case where there is only one output neuron so $\\mathbf{W}$ has shape 1x64 so could aslo be thought of as a row vector.)  As before, the probabilistic spiking of this output neuron determines the strike-no-strike behaviour of the organism, specifically:\n",
        "$$ \\Pr \\{\\text{strike}\\} = \\sigma(y) $$\n",
        "$$ \\Pr \\{\\text{no strike}\\} = 1 - \\sigma(y)$$\n",
        "\n",
        "Recall that $\\sigma(y): \\frac{1}{1+e^{-y}} = \\frac{e^y}{1+e^y}$ is the standard logistic (sigmoid) function."
      ],
      "metadata": {
        "id": "WRmF-ZEFTmio"
      }
    },
    {
      "cell_type": "code",
      "source": [
        "def eval_params_rich(W, b, x, y):\n",
        "  \"\"\"\n",
        "  evaluates parameters of simple behaviour circuit given inputs and target\n",
        "  outputs, use numpy broadcasting to be fast and concise\n",
        "  Args:\n",
        "    W: (outputs(1) x inputs(64) np.array)\n",
        "       weights between sensory neurons and output neuron\n",
        "    b: (scalar) bias of behavioural output neuron\n",
        "    x: (input(64) x batch np.array) sensory input\n",
        "       (can be single input, mini-batch of inputs or the whole batch of inputs)\n",
        "    y: (outputs(1) x batch np.array) target behavioural output\n",
        "       (can be a single target, mini-batch of targets, or whole batch),\n",
        "       needs to correspond to input\n",
        "\n",
        "  Returns:\n",
        "    R_bar: the average/expected reward obtained given the parameters, over the\n",
        "           (mini-)batch of inputs and targets. (mini-batch could be size 1)\n",
        "  \"\"\"\n",
        "  h = np.dot(W,x) + b # 1 x batch\n",
        "  y_hat = np_sigmoid(h) # 1 x batch\n",
        "  y_score = np.copy(y)\n",
        "  y_score[y_score == 0] = -1\n",
        "  batch_expected_reward = y_score * y_hat\n",
        "  R_bar = np.mean(batch_expected_reward)\n",
        "  return R_bar"
      ],
      "metadata": {
        "id": "k8TV7mJBhdDi"
      },
      "execution_count": 31,
      "outputs": []
    },
    {
      "cell_type": "code",
      "source": [
        "eval_params_rich(np.ones((1,64)), 0, Xs.T, y1.T)"
      ],
      "metadata": {
        "id": "FYEjgOeis2tJ",
        "outputId": "8dc16cfd-cef1-41af-d0e9-5eb4f8d03c2c",
        "colab": {
          "base_uri": "https://localhost:8080/"
        }
      },
      "execution_count": 32,
      "outputs": [
        {
          "output_type": "execute_result",
          "data": {
            "text/plain": [
              "1.4359891754087805e-28"
            ]
          },
          "metadata": {},
          "execution_count": 32
        }
      ]
    },
    {
      "cell_type": "code",
      "source": [
        "%timeit eval_params_rich(np.ones((1,64)), 0, Xs.T, y1.T)"
      ],
      "metadata": {
        "id": "6IYYpUeKuR2D",
        "outputId": "474c9018-9569-4933-e7ca-505705d9cb71",
        "colab": {
          "base_uri": "https://localhost:8080/"
        }
      },
      "execution_count": 33,
      "outputs": [
        {
          "output_type": "stream",
          "name": "stdout",
          "text": [
            "400 µs ± 80.8 µs per loop (mean ± std. dev. of 7 runs, 1000 loops each)\n"
          ]
        }
      ]
    },
    {
      "cell_type": "markdown",
      "source": [
        "That's working and relatively quick now let's adapt our learning loop for this new setup."
      ],
      "metadata": {
        "id": "lcPHz1akurSi"
      }
    },
    {
      "cell_type": "code",
      "source": [
        "# @title Measure and Update Training Loop\n",
        "\n",
        "learn_rng = np.random.default_rng(0)\n",
        "num_learning_episodes = 2000\n",
        "alpha = 0.5 #learning rate or step size\n",
        "perturbation_scale = 0.001 # std of gaussian perturbations\n",
        "W_init = np.zeros((1,64))\n",
        "b_init = 0\n",
        "W = W_init\n",
        "b = b_init\n",
        "start_time = time.time()\n",
        "for ii in range(num_learning_episodes+1):\n",
        "  R_bar_old = eval_params_rich(W, b, Xs.T, y1.T)\n",
        "  # get pertubations for W all at once\n",
        "  W_perturbations = learn_rng.normal(0, perturbation_scale, size=(1,64))\n",
        "  #perturb and evaluate each W_j seperately\n",
        "  finite_differences_W = np.zeros(W.shape)\n",
        "  for j in range(W_perturbations.shape[1]):\n",
        "    W_perturbed = np.copy(W)\n",
        "    W_perturbed[0,j] += W_perturbations[0,j]\n",
        "    R_bar_perturbed_Wj = eval_params_rich(W_perturbed, b, Xs.T, y1.T)\n",
        "    finite_difference_Wj = (R_bar_perturbed_Wj - R_bar_old) / W_perturbations[0,j]\n",
        "    finite_differences_W[0,j] = finite_difference_Wj\n",
        "  # perturb b and evaluate\n",
        "  b_perturbation = learn_rng.normal(0, perturbation_scale)\n",
        "  b_perturbed = b + b_perturbation\n",
        "  R_bar_perturbed_b = eval_params_rich(W, b_perturbed, Xs.T, y1.T)\n",
        "  # estimate rate of change of reward for each parameter\n",
        "  finite_difference_b = (R_bar_perturbed_b - R_bar_old) / b_perturbation\n",
        "  # update parameters based on finte difference estimate rate of change\n",
        "  # of reward with respect to parameters\n",
        "  delta_W = alpha * finite_differences_W\n",
        "  delta_b = alpha * finite_difference_b\n",
        "  W += delta_W\n",
        "  b += delta_b\n",
        "\n",
        "  if ii == 0 or ii % 100 == 0:\n",
        "    elapsed_time = time.time() - start_time\n",
        "    print(f'{\"Iteration\":>12}: {ii:<6} | {\"W_0\":>1}={W[0,0]:<8.4f} | {\"b\":>1}={b:<8.4f} | {\"R_bar\":>5}={R_bar_old:<8.6f} | {\"Time\":>4}={elapsed_time:<5.2f} seconds')"
      ],
      "metadata": {
        "id": "WgUHwBLIuxzy",
        "outputId": "9f36213e-6770-4287-da3f-c24ba7646216",
        "colab": {
          "base_uri": "https://localhost:8080/"
        }
      },
      "execution_count": 55,
      "outputs": [
        {
          "output_type": "stream",
          "name": "stdout",
          "text": [
            "   Iteration: 0      | W_0=0.1041   | b=0.0008   | R_bar=0.003381 | Time=0.03  seconds\n",
            "   Iteration: 100    | W_0=0.1621   | b=-0.0103  | R_bar=0.425334 | Time=2.34  seconds\n",
            "   Iteration: 200    | W_0=0.1680   | b=-0.0147  | R_bar=0.430483 | Time=5.26  seconds\n",
            "   Iteration: 300    | W_0=0.1803   | b=-0.0191  | R_bar=0.433381 | Time=8.13  seconds\n",
            "   Iteration: 400    | W_0=0.1900   | b=-0.0221  | R_bar=0.434753 | Time=10.42 seconds\n",
            "   Iteration: 500    | W_0=0.1991   | b=-0.0246  | R_bar=0.435717 | Time=12.71 seconds\n",
            "   Iteration: 600    | W_0=0.2072   | b=-0.0266  | R_bar=0.436449 | Time=14.99 seconds\n",
            "   Iteration: 700    | W_0=0.2148   | b=-0.0283  | R_bar=0.437030 | Time=17.37 seconds\n",
            "   Iteration: 800    | W_0=0.2224   | b=-0.0298  | R_bar=0.437506 | Time=20.35 seconds\n",
            "   Iteration: 900    | W_0=0.2301   | b=-0.0311  | R_bar=0.437906 | Time=22.66 seconds\n",
            "   Iteration: 1000   | W_0=0.2379   | b=-0.0323  | R_bar=0.438249 | Time=24.93 seconds\n",
            "   Iteration: 1100   | W_0=0.2458   | b=-0.0333  | R_bar=0.438549 | Time=27.19 seconds\n",
            "   Iteration: 1200   | W_0=0.2537   | b=-0.0344  | R_bar=0.438815 | Time=29.50 seconds\n",
            "   Iteration: 1300   | W_0=0.2623   | b=-0.0353  | R_bar=0.439054 | Time=32.20 seconds\n",
            "   Iteration: 1400   | W_0=0.2707   | b=-0.0363  | R_bar=0.439271 | Time=35.12 seconds\n",
            "   Iteration: 1500   | W_0=0.2795   | b=-0.0371  | R_bar=0.439470 | Time=37.37 seconds\n",
            "   Iteration: 1600   | W_0=0.2885   | b=-0.0380  | R_bar=0.439655 | Time=39.63 seconds\n",
            "   Iteration: 1700   | W_0=0.2975   | b=-0.0388  | R_bar=0.439828 | Time=41.91 seconds\n",
            "   Iteration: 1800   | W_0=0.3063   | b=-0.0396  | R_bar=0.439991 | Time=45.18 seconds\n",
            "   Iteration: 1900   | W_0=0.3151   | b=-0.0404  | R_bar=0.440147 | Time=48.62 seconds\n",
            "   Iteration: 2000   | W_0=0.3235   | b=-0.0412  | R_bar=0.440296 | Time=50.88 seconds\n"
          ]
        }
      ]
    },
    {
      "cell_type": "markdown",
      "source": [
        "So it looks like this is learning to do an okay job. A quick inspection of the data tells us that doing perfect discrimination would give an average score of 0.503... per round.\n",
        "\n"
      ],
      "metadata": {
        "id": "tgaiKFpvBWmi"
      }
    },
    {
      "cell_type": "code",
      "source": [
        "# There are this many cases where striking is the right thing to do\n",
        "np.sum(y1 == 1)"
      ],
      "metadata": {
        "colab": {
          "base_uri": "https://localhost:8080/"
        },
        "id": "d-fNz9iBFAhj",
        "outputId": "fe1d7b27-aa72-49bf-de85-9f1c1daa4b79"
      },
      "execution_count": 35,
      "outputs": [
        {
          "output_type": "execute_result",
          "data": {
            "text/plain": [
              "2829"
            ]
          },
          "metadata": {},
          "execution_count": 35
        }
      ]
    },
    {
      "cell_type": "code",
      "source": [
        "# And this many cases where striking is the wrong thing to do\n",
        "np.sum(y1 == 0)"
      ],
      "metadata": {
        "colab": {
          "base_uri": "https://localhost:8080/"
        },
        "id": "cGqttsgCE3E2",
        "outputId": "e4b7a34d-a59b-44a9-b108-b1ddb37f281b"
      },
      "execution_count": 36,
      "outputs": [
        {
          "output_type": "execute_result",
          "data": {
            "text/plain": [
              "2791"
            ]
          },
          "metadata": {},
          "execution_count": 36
        }
      ]
    },
    {
      "cell_type": "code",
      "source": [
        "# So this the average score per round with perfect discrimination\n",
        "np.sum(y1 == 1) / (len(y1))"
      ],
      "metadata": {
        "colab": {
          "base_uri": "https://localhost:8080/"
        },
        "id": "I2MLYQaVFCsJ",
        "outputId": "a2475d7d-c705-4227-d58d-ac4f3aff72a2"
      },
      "execution_count": 37,
      "outputs": [
        {
          "output_type": "execute_result",
          "data": {
            "text/plain": [
              "0.5033807829181495"
            ]
          },
          "metadata": {},
          "execution_count": 37
        }
      ]
    },
    {
      "cell_type": "markdown",
      "source": [
        "Without benchmarks it's hard to know what level is possible given this particular data set/discrimination task, and this particular sensory-behaviour circuit. I.e. is it the problem and the the circuit archetecture (in ML the model) or is it the learning algorithm that is holding us back? We could always let the above learning process run for a really long time and see where it stops, but who wants to wait around for results, not us. So let's see if we can come up with some faster learning processes for this sensory-behaviour circuit."
      ],
      "metadata": {
        "id": "obYz3bc0Fkcw"
      }
    },
    {
      "cell_type": "code",
      "source": [
        "# @markdown Submit your feedback\n",
        "content_review(f\"{feedback_prefix}_M2\")"
      ],
      "metadata": {
        "colab": {
          "base_uri": "https://localhost:8080/",
          "height": 62,
          "referenced_widgets": [
            "9d0677da40474b24adb597bec03f3ac5",
            "f7a36f87293a42f4a2f5951786185cc3",
            "0e48f3a0a75e4cf7a80ebde50ff7725c",
            "5b532ea2fd1b4e9fa0337d0d844798b6",
            "3320a33ff75d48f6ade6da19334161bb",
            "00960e180ac14920bd03bb5d1c9da768",
            "f0e84b72789241ebb674ff2ce05ce87d",
            "cab004cf0e60460eb48e61ea0c1c480e",
            "321c74c99a664ad28494e6642b35e0c1",
            "4de9aa451a3e4c8fa8d383c3e3bddb17",
            "09aad16841bb46d6a4d51d5028bc0bd7",
            "89d730b1055640c7b3463b1d6ff8528d",
            "53afab2ba79c4bf39cb1968255c8fdd6",
            "1388a0dac72b4e1bb9b36c7e26e22aa0",
            "b3210f74d07c4f40b5aab9e9ec619a5e",
            "3655d3fd38bf4b939fb21bacbc60c18a",
            "cb2c8fe2a6544891a290f892845aa6bd",
            "a8ccb59eea454565a01d85377842c735",
            "d386dd5aef224df98a0563473b2ace35",
            "106fdfa4318040c4a251e160f6169f4f",
            "ec7d95c078564e3b8af6430f477f38be",
            "e4748f824e554e7db5e1ae06c7013dcb",
            "78c46b6c220a457aad9673238cb8fcf5",
            "21a4720cac6448ba815c513e78fea4ef",
            "70c767f348074540b4947351f8fe6a07",
            "aa2211cb737f411aa62fbc778a439b6c"
          ]
        },
        "cellView": "form",
        "id": "1NKmZU0G36Tn",
        "outputId": "50829c6e-cef6-4843-b661-99e1b1a11127"
      },
      "execution_count": 38,
      "outputs": [
        {
          "output_type": "display_data",
          "data": {
            "text/plain": [
              "VBox(children=(VBox(children=(HBox(children=(Button(description='🙂', layout=Layout(height='auto', padding='0.5…"
            ],
            "application/vnd.jupyter.widget-view+json": {
              "version_major": 2,
              "version_minor": 0,
              "model_id": "9d0677da40474b24adb597bec03f3ac5"
            }
          },
          "metadata": {
            "application/vnd.jupyter.widget-view+json": {
              "colab": {
                "custom_widget_manager": {
                  "url": "https://ssl.gstatic.com/colaboratory-static/widgets/colab-cdn-widget-manager/b3e629b1971e1542/manager.min.js"
                }
              }
            }
          }
        }
      ]
    },
    {
      "cell_type": "markdown",
      "source": [
        "# 2.1.1.3: Learning to Do The Right Thing - Faster"
      ],
      "metadata": {
        "id": "y8e3RjxFqE2B"
      }
    },
    {
      "cell_type": "markdown",
      "source": [
        "In our simple problem 'propose and reject' was quite effective, let's see how it fares in this more complex problem. First though, to make our programing and notation a little cleaner we are going 'hide' our bias term. We to do this by augmenting the features, to contain a feature that always has value '1'. Then the 'weight' from this feature that always has value '1' to the output will be equivalent to a bias term."
      ],
      "metadata": {
        "id": "MkAtOAYdGn37"
      }
    },
    {
      "cell_type": "code",
      "source": [
        "# Before augmentation this is the shape of the feature set\n",
        "Xs.shape"
      ],
      "metadata": {
        "colab": {
          "base_uri": "https://localhost:8080/"
        },
        "id": "_CGFWjY0HeTC",
        "outputId": "723134e6-edde-4bd6-9b69-0619d3afee7f"
      },
      "execution_count": 39,
      "outputs": [
        {
          "output_type": "execute_result",
          "data": {
            "text/plain": [
              "(5620, 64)"
            ]
          },
          "metadata": {},
          "execution_count": 39
        }
      ]
    },
    {
      "cell_type": "code",
      "source": [
        "# After augmentation there is one extra column of features\n",
        "Xs_aug = np.hstack([Xs, np.ones((Xs.shape[0],1))])\n",
        "print(Xs_aug.shape)"
      ],
      "metadata": {
        "colab": {
          "base_uri": "https://localhost:8080/"
        },
        "id": "FiTpJqrGHg_T",
        "outputId": "646035bd-5f03-4a4f-b2c3-9618c0b713fb"
      },
      "execution_count": 40,
      "outputs": [
        {
          "output_type": "stream",
          "name": "stdout",
          "text": [
            "(5620, 65)\n"
          ]
        }
      ]
    },
    {
      "cell_type": "code",
      "source": [
        "# We need to tweak our eval_params function to work with this augmented\n",
        "# feature set\n",
        "\n",
        "\n",
        "def eval_params_aug(W, x, y):\n",
        "  \"\"\"\n",
        "  evaluates parameters of simple behaviour circuit given inputs and target\n",
        "  outputs, use numpy broadcasting to be fast and concise\n",
        "  Args:\n",
        "    W: (outputs(1) x inputs(64) np.array)\n",
        "       weights between sensory neurons and output neuron\n",
        "    x: (input(64) x batch np.array) sensory input\n",
        "       (can be single input, mini-batch of inputs or the whole batch of inputs)\n",
        "    y: (outputs(1) x batch np.array) target behavioural output\n",
        "       (can be a single target, mini-batch of targets, or whole batch),\n",
        "       needs to correspond to input\n",
        "\n",
        "  Returns:\n",
        "    R_bar: the average/expected reward obtained given the parameters, over the\n",
        "           (mini-)batch of inputs and targets. (mini-batch could be size 1)\n",
        "  \"\"\"\n",
        "  h = np.dot(W,x) # 1 x batch\n",
        "  y_hat = np_sigmoid(h) # 1 x batch\n",
        "  y_score = np.copy(y)\n",
        "  y_score[y_score == 0] = -1\n",
        "  batch_expected_reward = y_score * y_hat\n",
        "  R_bar = np.mean(batch_expected_reward)\n",
        "  return R_bar"
      ],
      "metadata": {
        "id": "ybsMG2l0H4VY"
      },
      "execution_count": 42,
      "outputs": []
    },
    {
      "cell_type": "markdown",
      "source": [
        "This is what 'propose and reject' looks like for this harder problem:"
      ],
      "metadata": {
        "id": "AeBVcJhoIuDg"
      }
    },
    {
      "cell_type": "code",
      "source": [
        "# @title Propose and Reject Training Loop\n",
        "learn_rng = np.random.default_rng(0)\n",
        "num_learning_episodes = 2000\n",
        "perturbation_scale = 0.1 # std of gaussian perturbations\n",
        "W_init = np.zeros((1,65))\n",
        "W = W_init\n",
        "start_time = time.time()\n",
        "R_bar_best = eval_params_aug(W, Xs_aug.T, y1.T)\n",
        "for ii in range(num_learning_episodes+1):\n",
        "  W_perturbations = learn_rng.normal(0, perturbation_scale, size=(1,65))\n",
        "  #perturb and evaluate each W_j seperately\n",
        "  finite_differences_W = np.zeros(W.shape)\n",
        "  for j in range(W_perturbations.shape[1]):\n",
        "    #perturb W\n",
        "    W[0,j] += W_perturbations[0,j]\n",
        "    R_bar_perturbed = eval_params_aug(W, Xs_aug.T, y1.T)\n",
        "    if R_bar_perturbed > R_bar_best:\n",
        "      # leave the perturbation in place and update the best\n",
        "      R_bar_best = R_bar_perturbed\n",
        "    else:\n",
        "      #undo the perturbation\n",
        "      W[0,j] -= W_perturbations[0,j]\n",
        "  if ii == 0 or ii % 100 == 0:\n",
        "    elapsed_time = time.time() - start_time\n",
        "    print(f'{\"Iteration\":>12}: {ii:<6} | {\"W_0\":>1}={W[0,0]:<8.4f} | {\"b\":>1}={W[0,-1]:<8.4f} | {\"R_bar\":>5}={R_bar_best:<8.6f} | {\"Time\":>4}={elapsed_time:<5.2f} seconds')"
      ],
      "metadata": {
        "id": "xMv8pHi4I5_f",
        "outputId": "68c9118d-79ea-46de-8abc-f57b9630b8cf",
        "colab": {
          "base_uri": "https://localhost:8080/"
        }
      },
      "execution_count": 43,
      "outputs": [
        {
          "output_type": "stream",
          "name": "stdout",
          "text": [
            "   Iteration: 0      | W_0=0.0126   | b=0.0000   | R_bar=0.203890 | Time=0.03  seconds\n",
            "   Iteration: 100    | W_0=0.2405   | b=-0.3796  | R_bar=0.435554 | Time=2.30  seconds\n",
            "   Iteration: 200    | W_0=0.2774   | b=-0.5088  | R_bar=0.437951 | Time=5.00  seconds\n",
            "   Iteration: 300    | W_0=0.3170   | b=-0.7997  | R_bar=0.439129 | Time=7.51  seconds\n",
            "   Iteration: 400    | W_0=0.3589   | b=-1.0423  | R_bar=0.439855 | Time=9.68  seconds\n",
            "   Iteration: 500    | W_0=0.3789   | b=-1.1784  | R_bar=0.440282 | Time=12.20 seconds\n",
            "   Iteration: 600    | W_0=0.4278   | b=-1.2118  | R_bar=0.440657 | Time=14.35 seconds\n",
            "   Iteration: 700    | W_0=0.4436   | b=-1.2546  | R_bar=0.440974 | Time=16.84 seconds\n",
            "   Iteration: 800    | W_0=0.4752   | b=-1.3299  | R_bar=0.441181 | Time=19.96 seconds\n",
            "   Iteration: 900    | W_0=0.5016   | b=-1.5042  | R_bar=0.441429 | Time=22.52 seconds\n",
            "   Iteration: 1000   | W_0=0.5436   | b=-1.6193  | R_bar=0.441608 | Time=24.69 seconds\n",
            "   Iteration: 1100   | W_0=0.5660   | b=-1.7564  | R_bar=0.441752 | Time=26.85 seconds\n",
            "   Iteration: 1200   | W_0=0.5756   | b=-1.7599  | R_bar=0.441883 | Time=29.03 seconds\n",
            "   Iteration: 1300   | W_0=0.5889   | b=-1.9816  | R_bar=0.442041 | Time=31.74 seconds\n",
            "   Iteration: 1400   | W_0=0.6027   | b=-2.1024  | R_bar=0.442186 | Time=34.20 seconds\n",
            "   Iteration: 1500   | W_0=0.6118   | b=-2.2585  | R_bar=0.442316 | Time=36.44 seconds\n",
            "   Iteration: 1600   | W_0=0.6257   | b=-2.5928  | R_bar=0.442438 | Time=38.60 seconds\n",
            "   Iteration: 1700   | W_0=0.6549   | b=-2.8970  | R_bar=0.442532 | Time=40.80 seconds\n",
            "   Iteration: 1800   | W_0=0.6871   | b=-2.9229  | R_bar=0.442654 | Time=43.00 seconds\n",
            "   Iteration: 1900   | W_0=0.6946   | b=-3.1036  | R_bar=0.442761 | Time=45.57 seconds\n",
            "   Iteration: 2000   | W_0=0.7150   | b=-3.2464  | R_bar=0.442845 | Time=48.28 seconds\n"
          ]
        }
      ]
    },
    {
      "cell_type": "markdown",
      "source": [
        "So this 'propose and reject' method was faster, in that although it took as long per iteration, the iterations got to a higher `R_bar` more quickly. Again we could run this for a long time and see where improvement really caps out."
      ],
      "metadata": {
        "id": "vdhmZ67l47Ln"
      }
    },
    {
      "cell_type": "markdown",
      "source": [
        "One important idea for speeding up learning is the idea of a 'mini-batch'. Currently in our learning the impact on reward for a perturbation is measured using the entirety of the data set available to us. If we were to use a smaller (but representative) sample of this data set for our evaluations of the parameter perturbations we could potentially speed things up a lot."
      ],
      "metadata": {
        "id": "OLBEwLdu8K9P"
      }
    },
    {
      "cell_type": "code",
      "source": [
        "Xs_aug.shape"
      ],
      "metadata": {
        "colab": {
          "base_uri": "https://localhost:8080/"
        },
        "id": "kkwfb4Ij8qzH",
        "outputId": "e49eaac9-feec-4f82-9f96-18449f4e402f"
      },
      "execution_count": 44,
      "outputs": [
        {
          "output_type": "execute_result",
          "data": {
            "text/plain": [
              "(5620, 65)"
            ]
          },
          "metadata": {},
          "execution_count": 44
        }
      ]
    },
    {
      "cell_type": "markdown",
      "source": [
        "Our data set consists of 5620 examples to learn from. This can be nicely broken down into 10 mini-batches of 562. How much faster is our evaluation function when we use a mini-batch which is ten times smaller?\n"
      ],
      "metadata": {
        "id": "5UtpSg_R8xiY"
      }
    },
    {
      "cell_type": "code",
      "source": [
        "W = np.zeros((1,65))\n",
        "%timeit eval_params_aug(W, Xs_aug[:562,:].T, y1[:562].T)"
      ],
      "metadata": {
        "colab": {
          "base_uri": "https://localhost:8080/"
        },
        "id": "ahfhDrI49Fn5",
        "outputId": "07cf4613-2591-4eb6-85b7-27179a7abea0"
      },
      "execution_count": 49,
      "outputs": [
        {
          "output_type": "stream",
          "name": "stdout",
          "text": [
            "136 µs ± 17.6 µs per loop (mean ± std. dev. of 7 runs, 10000 loops each)\n"
          ]
        }
      ]
    },
    {
      "cell_type": "code",
      "source": [
        "%timeit eval_params_aug(W, Xs_aug.T, y1.T)"
      ],
      "metadata": {
        "colab": {
          "base_uri": "https://localhost:8080/"
        },
        "id": "vpwDHmYC9TxK",
        "outputId": "2fb97a76-3758-4a99-b320-8878c89eac17"
      },
      "execution_count": 46,
      "outputs": [
        {
          "output_type": "stream",
          "name": "stdout",
          "text": [
            "409 µs ± 107 µs per loop (mean ± std. dev. of 7 runs, 1000 loops each)\n"
          ]
        }
      ]
    },
    {
      "cell_type": "markdown",
      "source": [
        "So a 2-3 times speed up. One thing to notice, is that this was not a 10x speedup. This is because in our heavily optimized evaluation function (utiliszing numpy broadcasting) there are a lot of 'algorithmic efficiencies of scale' being utilized. These efficiencies of scale are tied to underlying hardware implementations of the operations. Thus in practical ML contexts choosing a 'good' mini-batch size requires consideration hardware specific effciencies of scale, to answer the question how much worse are my parameter updates versus how much faster are they."
      ],
      "metadata": {
        "id": "1joZX-YT9blc"
      }
    },
    {
      "cell_type": "code",
      "source": [
        "# @title Mini-Batched Measure and Update Training Loop\n",
        "learn_rng = np.random.default_rng(0)\n",
        "num_epochs = 800\n",
        "alpha = 0.5 #learning rate or step size\n",
        "perturbation_scale = 0.001 # std of gaussian perturbations\n",
        "num_batches = 10  # Number of mini-batches\n",
        "batch_size = 562  # Size of each mini-batch\n",
        "W_init = np.zeros((1,65))\n",
        "W = W_init\n",
        "start_time = time.time()\n",
        "indices = np.arange(Xs_aug.shape[0])\n",
        "for epoch in range(num_epochs):\n",
        "  learn_rng.shuffle(indices)  # Shuffle the indices for each epoch\n",
        "  for batch in range(num_batches):\n",
        "    # Select a mini-batch for this iteration\n",
        "    batch_indices = indices[batch * batch_size : (batch + 1) * batch_size]\n",
        "    Xs_batch = Xs_aug[batch_indices, :].T\n",
        "    y1_batch = y1[batch_indices].T\n",
        "    R_bar_old = eval_params_aug(W, Xs_batch, y1_batch)\n",
        "    W_perturbations = learn_rng.normal(0, perturbation_scale, size=(1,65))\n",
        "    #perturb and evaluate each W_j seperately\n",
        "    finite_differences_W = np.zeros(W.shape)\n",
        "    for jj in range(W_perturbations.shape[1]):\n",
        "      original_value = W[0,jj]\n",
        "      W[0, jj] += W_perturbations[0, jj]\n",
        "      R_bar_perturbed_Wj = eval_params_aug(W, Xs_batch, y1_batch)\n",
        "      finite_differences_W[0,jj] = (R_bar_perturbed_Wj - R_bar_old) / W_perturbations[0,jj]\n",
        "      W[0,jj] = original_value  # Revert the perturbation\n",
        "\n",
        "    delta_W = alpha * finite_differences_W\n",
        "    W += delta_W\n",
        "\n",
        "  if epoch == 0 or (epoch + 1) % 50 == 0:\n",
        "    R_bar_full_batch = eval_params_aug(W, Xs_aug.T, y1.T)\n",
        "    elapsed_time = time.time() - start_time\n",
        "    print(f'Epoch {epoch + 1}/{num_epochs} completed | Full Batch R_bar: {R_bar_full_batch:.6f} | Time elapsed: {elapsed_time:.2f} seconds')"
      ],
      "metadata": {
        "id": "VWJOh_fH9tj-",
        "colab": {
          "base_uri": "https://localhost:8080/"
        },
        "outputId": "11527faf-468e-440e-bf33-518746902e4d"
      },
      "execution_count": 54,
      "outputs": [
        {
          "output_type": "stream",
          "name": "stdout",
          "text": [
            "Epoch 1/800 completed | Full Batch R_bar: 0.379098 | Time elapsed: 0.06 seconds\n",
            "Epoch 50/800 completed | Full Batch R_bar: 0.434961 | Time elapsed: 2.97 seconds\n",
            "Epoch 100/800 completed | Full Batch R_bar: 0.438279 | Time elapsed: 5.86 seconds\n",
            "Epoch 150/800 completed | Full Batch R_bar: 0.438686 | Time elapsed: 8.75 seconds\n",
            "Epoch 200/800 completed | Full Batch R_bar: 0.440117 | Time elapsed: 12.36 seconds\n",
            "Epoch 250/800 completed | Full Batch R_bar: 0.441061 | Time elapsed: 15.58 seconds\n",
            "Epoch 300/800 completed | Full Batch R_bar: 0.441562 | Time elapsed: 18.52 seconds\n",
            "Epoch 350/800 completed | Full Batch R_bar: 0.441167 | Time elapsed: 21.44 seconds\n",
            "Epoch 400/800 completed | Full Batch R_bar: 0.442362 | Time elapsed: 24.60 seconds\n",
            "Epoch 450/800 completed | Full Batch R_bar: 0.442165 | Time elapsed: 28.19 seconds\n",
            "Epoch 500/800 completed | Full Batch R_bar: 0.442647 | Time elapsed: 31.17 seconds\n",
            "Epoch 550/800 completed | Full Batch R_bar: 0.443151 | Time elapsed: 34.14 seconds\n",
            "Epoch 600/800 completed | Full Batch R_bar: 0.443172 | Time elapsed: 37.25 seconds\n",
            "Epoch 650/800 completed | Full Batch R_bar: 0.443541 | Time elapsed: 41.01 seconds\n",
            "Epoch 700/800 completed | Full Batch R_bar: 0.443594 | Time elapsed: 43.84 seconds\n",
            "Epoch 750/800 completed | Full Batch R_bar: 0.442776 | Time elapsed: 46.69 seconds\n",
            "Epoch 800/800 completed | Full Batch R_bar: 0.443400 | Time elapsed: 49.62 seconds\n"
          ]
        }
      ]
    },
    {
      "cell_type": "markdown",
      "source": [
        "Okay so apply the mini-batch idea to 'measure and update' helped make it quicker, maybe even performing a bit better than 'propose and reject', though such comparisons are fraught due to performance being so dependent on meta-parameter choices (e.g. learning rate, perturbation scale, mini-batch size, etc.)."
      ],
      "metadata": {
        "id": "Js-NNrSWDPeF"
      }
    },
    {
      "cell_type": "code",
      "source": [
        "# @markdown Submit your feedback\n",
        "content_review(f\"{feedback_prefix}_M3\")"
      ],
      "metadata": {
        "id": "kY5Dfd6CEaX0"
      },
      "execution_count": null,
      "outputs": []
    },
    {
      "cell_type": "markdown",
      "source": [
        "# 2.1.1.4 Learning to Do The Right Thing - Better\n",
        "So one thing that could be holding back performance on this discrimination problem is that our algorithms are not capable of finding the optimal parameters for the given model, but... we don't really think that is the case here. Another possibility is that our simple sensory-behaviour circuit is not flexible/complex enough to fully discriminate between the two types of input. There is good reason to think that this might be the case. Our current sensory-behavioural circuit is effectively equivalent to logistic regression, i.e. each feature can either inhibit or potentiate striking behaviour to varying degrees, but there is no possibility for conditional interaction between features. By conditional interaction we mean allowing for the possibility that feature 1 is typically inhibitory of the behaviour, except, when feature 2 is positive, in which case feature 1 becomes potentiating. These kinds of feature interactions are impossible in the current model. One way to allow for such interactions is to augment the base set of features with composite features, e.g. incorporate all the pairwise products of the existing feature set, so that instead of 65 features (bias included) we have $(65^2 - 1) = 4224$ features to work with. This could work, but what if we want something that depends on the interaction of more than 2 features, adding higher order polynomial terms will quickly make the problem intractable. If we had some mechanistically grounded understanding or hypothesis about the relationship between the features and label could might be able to cherry pick some small subset of higher order interaction terms, but the ML/supervised learning framework is in large part about automating the feature selection processes based on the data alone. In turns out that instead of resorting the regression on polynomial terms to capture feature interactions, there is a much more compact and expressive way of allowing for feature interactions. The idea is to allow for feature interactions to emerge as needed in a 'hidden' computational layer of our highly abstracted neurons. In mathematical terms we mean precisely this."
      ],
      "metadata": {
        "id": "gGe17GoREp3F"
      }
    },
    {
      "cell_type": "markdown",
      "source": [
        "\n",
        "\n",
        "As before $\\mathbf{x}$ is the raw sensory input (vector) in a given episode and each element of $\\mathbf{x}$ corresponds to the activation level and firing rate of a single photosensitive neuron.\n",
        "These input neurons are then connected by synapses to a 'hidden layer' of intermediate computational neurons. The activation level of these hidden layer neurons is computed as\n",
        "$$\\mathbf{h} = \\mathbf{W}_1 \\cdot \\mathbf{x}$$\n",
        "Now $\\mathbf{W}$ is a matrix of synaptic weights between the input neurons and the hidden layer neurons, and $\\cdot$ is is usual matrix vector multiplication. (In this case $\\mathbf{W}$ has shape 20x64. Each the values in the $i^{th}$ row of $\\mathbf{W}$ given the sign and strenght of the connections coming into the $i^{th}$ element of $h$ and similarly each value in the $j^{th}$ column of  )  As before, the probabilistic spiking of this output neuron determines the strike-no-strike behaviour of the organism, specifically:\n",
        "$$ \\Pr \\{\\text{strike}\\} = \\sigma(y) $$\n",
        "$$ \\Pr \\{\\text{no strike}\\} = 1 - \\sigma(y)$$\n",
        "\n",
        "Recall that $\\sigma(y): \\frac{1}{1+e^{-y}} = \\frac{e^y}{1+e^y}$ is the standard logistic (sigmoid) function."
      ],
      "metadata": {
        "id": "K8xT5vSjKO-p"
      }
    },
    {
      "cell_type": "code",
      "source": [
        "65**2"
      ],
      "metadata": {
        "colab": {
          "base_uri": "https://localhost:8080/"
        },
        "id": "oNN34t6ZHBRH",
        "outputId": "1fb65b52-2584-4a6e-e96c-8db946b9a800"
      },
      "execution_count": 56,
      "outputs": [
        {
          "output_type": "execute_result",
          "data": {
            "text/plain": [
              "4225"
            ]
          },
          "metadata": {},
          "execution_count": 56
        }
      ]
    },
    {
      "cell_type": "markdown",
      "source": [
        "# Save for later"
      ],
      "metadata": {
        "id": "wbMoBpEgCFKS"
      }
    },
    {
      "cell_type": "code",
      "source": [
        "# @title Mini-Batched Measure and Update Training Loop\n",
        "learn_rng = np.random.default_rng(0)\n",
        "num_epochs = 1000  # Number of passes over the entire dataset\n",
        "# relationship between number of batches and batch size depends on size of the data set\n",
        "num_batches = 20  # Number of mini-batches\n",
        "batch_size = 281  # Size of each mini-batch\n",
        "num_perturbuations = 66 # needs to be greater than number of parameters for this approach\n",
        "alpha = 0.05  # Learning rate or step size\n",
        "perturbation_scale = 0.00001  # std of Gaussian perturbations\n",
        "W_init = np.zeros((1,65))\n",
        "W = W_init\n",
        "\n",
        "start_time = time.time()\n",
        "indices = np.arange(Xs_aug.shape[0])\n",
        "for epoch in range(num_epochs):\n",
        "  learn_rng.shuffle(indices)  # Shuffle the indices for each epoch\n",
        "  for batch in range(num_batches):\n",
        "    # Select a mini-batch for this iteration\n",
        "    batch_indices = indices[batch * batch_size : (batch + 1) * batch_size]\n",
        "    Xs_batch = Xs_aug[batch_indices, :].T\n",
        "    y1_batch = y1[batch_indices].T\n",
        "    R_bar_old = eval_params_aug(W, Xs_batch, y1_batch)\n",
        "    # Store data from perturbations here\n",
        "    perturbations = np.zeros((num_differences, 65))\n",
        "    test_R_bar_values = np.zeros(num_differences)\n",
        "\n",
        "    for jj in range(num_differences):\n",
        "      W_perturbation = learn_rng.normal(0, perturbation_scale, size=(1,65))\n",
        "      W_perturbed = W + W_perturbation\n",
        "      # Evaluate the perturbation\n",
        "      R_bar_perturbed = eval_params_aug(W_perturbed, Xs_batch, y1_batch)\n",
        "      perturbations[jj, :] = W_perturbation.squeeze()\n",
        "      test_R_bar_values[jj] = R_bar_perturbed - R_bar_old\n",
        "\n",
        "    # Perform linear regression to estimate how R_bar changes with underlying parameter changes\n",
        "    XTX = np.dot(perturbations.T, perturbations)\n",
        "    XTy = np.dot(perturbations.T, test_R_bar_values)\n",
        "    change_R_bar_by_change_parameters_estimate = np.linalg.solve(XTX, XTy)\n",
        "\n",
        "    # Update the parameters based on this estimate\n",
        "    delta_W = alpha * change_R_bar_by_change_parameters_estimate\n",
        "    W += delta_W\n",
        "\n",
        "  # Print progress at the end of each epoch\n",
        "  if epoch == 0 or (epoch + 1) % 40 == 0:\n",
        "    R_bar_full_batch = eval_params_aug(W, Xs_aug.T, y1.T)\n",
        "    elapsed_time = time.time() - start_time\n",
        "    print(f'Epoch {epoch + 1}/{num_epochs} completed | Full Batch R_bar: {R_bar_full_batch:.6f} | Time elapsed: {elapsed_time:.2f} seconds')"
      ],
      "metadata": {
        "id": "y4BuqDNsszIr"
      },
      "execution_count": null,
      "outputs": []
    },
    {
      "cell_type": "markdown",
      "source": [
        "\n",
        "In a given learning episode one of four cases can occur:\n",
        "\n",
        "1. Prey is present, given the sensory input the organisms strikes, a positive reward is obtained\n",
        "2. Prey is not present, given the sensory input the organism strikes, a negative reward is obtained\n",
        "3. Prey is present, given the sensory input the organism does not strike, no reward is obtained\n",
        "4. Prey is not present, given the sensory input the organism does not strike, no reward is obtained\n",
        "\n",
        "We have the (initial) caveat that from the perspective of the organisms cases 3 and 4 are identical, so the parameter update rule must also be identical in each of those cases.\n",
        "\n",
        "It has been noted and proposed many times that the inherent stochasticity of synaptic firing might provide a kind of natural 'guess' and allow for this kind of learning to be implemented in the brain, [citations]. Empirical evidence for this kind of learning is also begining to accumulate [citations].\n",
        "\n",
        "The basic idea is as follows. Due to the stochastic spiking of neurons, in any given episode of senosry input -> behaviour production -> contingent reward, some but not all of the synaptic weights are causally implicated in the production of the behaviour (and consequent reward). When a good thing happens, synaptic connections that were involved in the generation of the behaviour should be strengthened, and conversely when bad things happen synaptic connections that were involved in the generation of the behaviour should be weakened. Synaptic connections that were not involved in producing the behaviour should be left unchanged. Zooming in to the synaptic level the four cases above are expanded as follows:\n",
        "\n",
        "1. Both input and output neurons spike, a good thing happens\n",
        "2. Both input and output neurons spike, a bad thing happens\n",
        "3. Input neuron spikes but output neuron doesn't spike, a neutral thing happens\n",
        "4. Input neuron doesn't spike, output neuron spikes, a good thing happens\n",
        "5. Input neuron doesn't spike, output neuron spikes, a bad thing happens\n",
        "6. Neither input nor output neuron spikes, a neutral thing happens.\n",
        "\n",
        "In this our first and most simple (from a physiological mechanism perspective, actually a bit complicated from a mathematical description perspective), only in the first two cases, when both the pre- and post- synaptic neurons fire, is the synapse causally implicated in the reward outcome. So our rule needs to prescribe no change, unless both pre- and post- synaptic neurons have fired. If a good thing happens, then the connection should be reinforced, and if a bad thing happens then the connection should be weakened. Our learning rule written to echo and presiage the 'REINFORCE' formulation of Williams (1992), and also Resrola Wagnar rule, and also TD formulations. In some sense this is cannonical form of learning rules is.\n",
        "\n",
        "$$\\Delta w_i = \\alpha \\cdot (r - b) \\cdot s_i \\cdot s_o$$\n",
        "\n",
        "Almost every learning rule for parameters that we look at will be roughly composed of these three factors: learning rate, error, eligibility. The first factor is positive learning rate or step size parameter of the learning process. In this specific case $\\alpha$ is constant, but it could be made contingent on various factors in more complicated models, e.g. learning rates often start high and are lowered as the learning system gets more 'dialed in'. The second part is an 'error' term, in this case a 'reward prediction error', $(r-b)$, gives the way in which the actual received reward $r$ differs from some baseline expectation. Again in more complicated learning rules $b$ could be made contingent on many factors, and this contingency of $b$ on other factors might itself be learned. Here though, we assume a constant expected reward, $b=0$, so we can think of $b$ as an expectation of how good the world is on average, if the organism is performing as well as expected. We imagine that parameters like $\\alpha$ and $b$ are set and tuned by evolution to ensure effective learning. Lastly, in this simple model the $s_i \\cdot s_o$ term is the 'eligibility' of the synapse for change. In general, this will be some measure of how causally implicated the particular parameter $w_i$ is in causing the received reward. Here we use one of the simplest possible eligibility terms, which takes the value one only when both pre- and post- synaptic neurons fire, and is otherwise zero. Again in more complicated learning rules, this eligibility term could be more complicated, e.g. it might incorporate knowledge of the structure of the network producing the behaviour, often in the form of a gradient, to further modulate the strength and direction of the weight change. Note, $w_i$ is the $i^{\\text{th}}$ element of $\\mathbf{W}$ and $s_i$ and $s_o$ are the realized spikes during the episode for the $i^{\\text{th}}$ input neuron and the output neuron respectively. Okay, let's implement and see how well this works!"
      ],
      "metadata": {
        "id": "vgLrLL-fs3pd"
      }
    },
    {
      "cell_type": "markdown",
      "source": [
        "We model this creature's sensory-behaviour system as follows. Let $\\mathbf{x}$ be the raw sensory input vector in a given episode. We imagine that each element of $\\mathbf{x}$, denoted $x_i$ corresponds to the activation level of a single photosensitive neuron. These activation levels might be losely interpreted as firing rates. This input neurons are then connected by synapses to a single output neuron. The activation level of this output neuron is computed as\n",
        "$$y = \\mathbf{Wx}$$\n",
        "Here, $\\mathbf{W}$ is the matrix of synaptic weights between the input neurons and the output neuron (is this case there is only one output so $\\mathbf{W}$ is effectively a row vector). As a quick reminder, in our notation, bold lowercase letters represent column vectors, while bold uppercase letters denote matrices or higher-dimensional tensors. We imagine that the probabilistic spiking of this output neuron determines the strike-no-strike behaviour of the organism, specifically:\n",
        "$$ \\Pr \\{\\text{strike}\\} = \\sigma(y) $$\n",
        "$$ \\Pr \\{\\text{no strike}\\} = 1 - \\sigma(y)$$\n",
        "\n",
        "Here $\\sigma(x): \\frac{1}{1+e^{-x}} = \\frac{e^x}{1+e^x}$ is the standard logistic (sigmoid) function."
      ],
      "metadata": {
        "id": "Ol1hpBxbpi9j"
      }
    },
    {
      "cell_type": "code",
      "source": [
        "\n",
        "\n",
        "def learning_episode(W, x, target, rng, alpha=0.01, b=0, ):\n",
        "  #forward pass, generate behaviour\n",
        "  sensory_nueron_spike_probs = np_sigmoid(x)\n",
        "  sensory_neuron_spikes = rng.binomial(1, sensory_nueron_spike_probs)\n",
        "  output_neuron_activation = np.dot(W, sensory_neuron_spikes)\n",
        "  output_neuron_spike_prob = np_sigmoid(output_neuron_activation)\n",
        "  output_neuron_spike = rng.binomial(1, output_neuron_spike_prob)\n",
        "  #evaluate behaviour\n",
        "  reward = output_neuron_spike * target\n",
        "  # backward pass,update parameters\n",
        "  W += alpha * (reward - b) * output_neuron_spike * sensory_neuron_spikes\n",
        "  return W, reward, output_neuron_spike, output_neuron_spike_prob"
      ],
      "metadata": {
        "id": "dLxma3Exf7fa"
      },
      "execution_count": null,
      "outputs": []
    },
    {
      "cell_type": "code",
      "source": [
        "# Now embedd those learning episodes in a training loop\n",
        "# pre calculate activation to probability for efficiency\n",
        "train_rng = np.random.default_rng(1234)\n",
        "W = train_rng.standard_normal(size=(1, Xs.shape[1]))\n",
        "\n",
        "epochs = 500  # Number of times to iterate over the dataset\n",
        "performance_tracker = {'cumulative_reward': [], 'accuracy': [],\n",
        "                       'TP':[], 'FP':[], 'TN':[], 'FN':[],}\n",
        "max_possible_reward = np.sum(y1==1)\n",
        "alpha=0.00001\n",
        "b=0\n",
        "pbar = tqdm(range(epochs), desc='Training Progress')\n",
        "for epoch in pbar:\n",
        "  cumulative_reward = 0\n",
        "  TP, FP, TN, FN = 0, 0, 0, 0\n",
        "  shuffled_indices = train_rng.permutation(Xs.shape[0])\n",
        "  for i in shuffled_indices:  # Iterate over each example\n",
        "    x = Xs[i]\n",
        "    target = y1[i]\n",
        "    W, reward, output_neuron_spike, _ = learning_episode(W, x, target,\n",
        "                                                         train_rng, alpha, b)\n",
        "    # Track performance\n",
        "    cumulative_reward += reward\n",
        "    # Update confusion matrix\n",
        "    if output_neuron_spike == 1 and target == 1:\n",
        "      TP += 1\n",
        "    elif output_neuron_spike == 1 and target == -1:\n",
        "      FP += 1\n",
        "    elif output_neuron_spike == 0 and target == 1:\n",
        "      FN += 1\n",
        "    elif output_neuron_spike == 0 and target == -1:\n",
        "      TN += 1\n",
        "  epoch_accuracy = (TP + TN) / Xs.shape[0]\n",
        "  performance_tracker['cumulative_reward'].append(cumulative_reward)\n",
        "  performance_tracker['accuracy'].append(epoch_accuracy)\n",
        "  # Store confusion matrix values\n",
        "  performance_tracker.setdefault('TP', []).append(TP)\n",
        "  performance_tracker.setdefault('FP', []).append(FP)\n",
        "  performance_tracker.setdefault('TN', []).append(TN)\n",
        "  performance_tracker.setdefault('FN', []).append(FN)\n",
        "  pbar.set_postfix({\n",
        "        'Acc': f'{epoch_accuracy:.4f}',\n",
        "        'Cum. Reward': cumulative_reward/max_possible_reward,\n",
        "        'TP': TP, 'FP': FP, 'TN': TN, 'FN': FN\n",
        "    })"
      ],
      "metadata": {
        "id": "t9SNxgT2uzYH"
      },
      "execution_count": null,
      "outputs": []
    },
    {
      "cell_type": "code",
      "source": [
        "# if we visualize the features do they look like anything?\n",
        "plt.imshow(Xs[0,:].reshape(8,8), cmap='gray')\n",
        "plt.show()"
      ],
      "metadata": {
        "id": "JfZh_bgfl1XG"
      },
      "execution_count": null,
      "outputs": []
    },
    {
      "cell_type": "code",
      "source": [
        "# Plot cumulative reward\n",
        "plt.subplot(1, 2, 1)\n",
        "plt.plot(performance_tracker['cumulative_reward']/max_possible_reward)\n",
        "plt.title('Normalized Cumulative Reward Over Epochs')\n",
        "plt.xlabel('Epoch')\n",
        "plt.ylabel('Cumulative Reward')\n",
        "\n",
        "# Plot accuracy\n",
        "plt.subplot(1, 2, 2)\n",
        "plt.plot(performance_tracker['accuracy'])\n",
        "plt.title('Accuracy Over Epochs')\n",
        "plt.xlabel('Epoch')\n",
        "plt.ylabel('Accuracy')\n",
        "\n",
        "plt.tight_layout()\n",
        "plt.show()"
      ],
      "metadata": {
        "id": "-nxPaNevgbU6"
      },
      "execution_count": null,
      "outputs": []
    },
    {
      "cell_type": "code",
      "source": [
        "plt.hist(W.flatten())\n",
        "plt.show()"
      ],
      "metadata": {
        "id": "8dpVE26shqJk"
      },
      "execution_count": null,
      "outputs": []
    },
    {
      "cell_type": "code",
      "source": [
        "scramble_full_imp = InteractiveMNISTPredator(just_01=False)\n",
        "display(scramble_full_imp.fig.canvas)\n",
        "clear_output()\n",
        "display(scramble_full_imp.ui)"
      ],
      "metadata": {
        "id": "sDmpSlxrgb-q"
      },
      "execution_count": null,
      "outputs": []
    },
    {
      "cell_type": "markdown",
      "metadata": {
        "execution": {},
        "id": "ajjALRsNukJp"
      },
      "source": [
        "**Coding Exercise: Implement minimal trial and error learning.**\n",
        "\n",
        "On each learning round $t$ each individual who has yet to experience variable payoffs tries a new neural parameter configuration distributed as $g'(t)$ above, and receives a resulting score $z(g'(t))$. Additionally each round some proportion of the target $y$ is subject to change with some fixed probability. Let's adapt our evolutionary simulation function from the previous sequences to implement this simple form of learning and environmental change:"
      ]
    },
    {
      "cell_type": "code",
      "execution_count": null,
      "metadata": {
        "execution": {},
        "id": "YVSwSMZoukJv"
      },
      "outputs": [],
      "source": [
        "# @markdown Submit your feedback\n",
        "content_review(f\"{feedback_prefix}_M1\")"
      ]
    }
  ],
  "metadata": {
    "colab": {
      "machine_shape": "hm",
      "name": "P2C1_Sequence1",
      "provenance": [],
      "toc_visible": true,
      "include_colab_link": true
    },
    "kernel": {
      "display_name": "Python 3",
      "language": "python",
      "name": "python3"
    },
    "kernelspec": {
      "display_name": "Python 3",
      "name": "python3"
    },
    "language_info": {
      "codemirror_mode": {
        "name": "ipython",
        "version": 3
      },
      "file_extension": ".py",
      "mimetype": "text/x-python",
      "name": "python",
      "nbconvert_exporter": "python",
      "pygments_lexer": "ipython3",
      "version": "3.9.18"
    },
    "widgets": {
      "application/vnd.jupyter.widget-state+json": {
        "fc70ad8b44bb41a0b84a6a0c0291be42": {
          "model_module": "@jupyter-widgets/controls",
          "model_name": "HBoxModel",
          "model_module_version": "1.5.0",
          "state": {
            "_dom_classes": [],
            "_model_module": "@jupyter-widgets/controls",
            "_model_module_version": "1.5.0",
            "_model_name": "HBoxModel",
            "_view_count": null,
            "_view_module": "@jupyter-widgets/controls",
            "_view_module_version": "1.5.0",
            "_view_name": "HBoxView",
            "box_style": "",
            "children": [
              "IPY_MODEL_954c692ee081493ab389c67ce23ed019",
              "IPY_MODEL_b25527fe472a4846bd9be6e6af7d7275"
            ],
            "layout": "IPY_MODEL_772555709fed4789a32b918a19146221"
          }
        },
        "954c692ee081493ab389c67ce23ed019": {
          "model_module": "@jupyter-widgets/controls",
          "model_name": "VBoxModel",
          "model_module_version": "1.5.0",
          "state": {
            "_dom_classes": [],
            "_model_module": "@jupyter-widgets/controls",
            "_model_module_version": "1.5.0",
            "_model_name": "VBoxModel",
            "_view_count": null,
            "_view_module": "@jupyter-widgets/controls",
            "_view_module_version": "1.5.0",
            "_view_name": "VBoxView",
            "box_style": "",
            "children": [
              "IPY_MODEL_0925813599f3412b89402115917f679f",
              "IPY_MODEL_b51600ecbc7c4d62ae4934fdd8b6d4d0"
            ],
            "layout": "IPY_MODEL_161b5bfa1b5e4d409a7c1e6c545d7fe7"
          }
        },
        "b25527fe472a4846bd9be6e6af7d7275": {
          "model_module": "@jupyter-widgets/controls",
          "model_name": "VBoxModel",
          "model_module_version": "1.5.0",
          "state": {
            "_dom_classes": [],
            "_model_module": "@jupyter-widgets/controls",
            "_model_module_version": "1.5.0",
            "_model_name": "VBoxModel",
            "_view_count": null,
            "_view_module": "@jupyter-widgets/controls",
            "_view_module_version": "1.5.0",
            "_view_name": "VBoxView",
            "box_style": "",
            "children": [
              "IPY_MODEL_83f94881083e44c4befdd53bf8cb702a",
              "IPY_MODEL_500bf7d8c7de4d52b5d1f4f268863a4b"
            ],
            "layout": "IPY_MODEL_0f4990b503e14ae18380db87a2bb248d"
          }
        },
        "772555709fed4789a32b918a19146221": {
          "model_module": "@jupyter-widgets/base",
          "model_name": "LayoutModel",
          "model_module_version": "1.2.0",
          "state": {
            "_model_module": "@jupyter-widgets/base",
            "_model_module_version": "1.2.0",
            "_model_name": "LayoutModel",
            "_view_count": null,
            "_view_module": "@jupyter-widgets/base",
            "_view_module_version": "1.2.0",
            "_view_name": "LayoutView",
            "align_content": null,
            "align_items": null,
            "align_self": null,
            "border": null,
            "bottom": null,
            "display": null,
            "flex": null,
            "flex_flow": null,
            "grid_area": null,
            "grid_auto_columns": null,
            "grid_auto_flow": null,
            "grid_auto_rows": null,
            "grid_column": null,
            "grid_gap": null,
            "grid_row": null,
            "grid_template_areas": null,
            "grid_template_columns": null,
            "grid_template_rows": null,
            "height": null,
            "justify_content": null,
            "justify_items": null,
            "left": null,
            "margin": null,
            "max_height": null,
            "max_width": null,
            "min_height": null,
            "min_width": null,
            "object_fit": null,
            "object_position": null,
            "order": null,
            "overflow": null,
            "overflow_x": null,
            "overflow_y": null,
            "padding": null,
            "right": null,
            "top": null,
            "visibility": null,
            "width": null
          }
        },
        "0925813599f3412b89402115917f679f": {
          "model_module": "jupyter-matplotlib",
          "model_name": "MPLCanvasModel",
          "model_module_version": "^0.11",
          "state": {
            "_cursor": "default",
            "_data_url": "data:image/png;base64,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",
            "_dom_classes": [],
            "_figure_label": "Figure 1",
            "_image_mode": "diff",
            "_message": "",
            "_model_module": "jupyter-matplotlib",
            "_model_module_version": "^0.11",
            "_model_name": "MPLCanvasModel",
            "_rubberband_height": 0,
            "_rubberband_width": 0,
            "_rubberband_x": 0,
            "_rubberband_y": 0,
            "_size": [
              400,
              400
            ],
            "_view_count": null,
            "_view_module": "jupyter-matplotlib",
            "_view_module_version": "^0.11",
            "_view_name": "MPLCanvasView",
            "capture_scroll": false,
            "footer_visible": false,
            "header_visible": false,
            "layout": "IPY_MODEL_e10e9e3612694b82a0ffc312435c07f7",
            "pan_zoom_throttle": 33,
            "resizable": false,
            "toolbar": "IPY_MODEL_4b32654ce317497ca11c384ca7bb5d4b",
            "toolbar_position": "left",
            "toolbar_visible": false
          }
        },
        "b51600ecbc7c4d62ae4934fdd8b6d4d0": {
          "model_module": "@jupyter-widgets/controls",
          "model_name": "HBoxModel",
          "model_module_version": "1.5.0",
          "state": {
            "_dom_classes": [],
            "_model_module": "@jupyter-widgets/controls",
            "_model_module_version": "1.5.0",
            "_model_name": "HBoxModel",
            "_view_count": null,
            "_view_module": "@jupyter-widgets/controls",
            "_view_module_version": "1.5.0",
            "_view_name": "HBoxView",
            "box_style": "",
            "children": [
              "IPY_MODEL_1d371ca321f54284aabf421a9144aea2",
              "IPY_MODEL_856b374a23fc4121b74b689d124b3c27"
            ],
            "layout": "IPY_MODEL_c635f64d50d3416c8f79af369b93690d"
          }
        },
        "161b5bfa1b5e4d409a7c1e6c545d7fe7": {
          "model_module": "@jupyter-widgets/base",
          "model_name": "LayoutModel",
          "model_module_version": "1.2.0",
          "state": {
            "_model_module": "@jupyter-widgets/base",
            "_model_module_version": "1.2.0",
            "_model_name": "LayoutModel",
            "_view_count": null,
            "_view_module": "@jupyter-widgets/base",
            "_view_module_version": "1.2.0",
            "_view_name": "LayoutView",
            "align_content": null,
            "align_items": null,
            "align_self": null,
            "border": null,
            "bottom": null,
            "display": null,
            "flex": null,
            "flex_flow": null,
            "grid_area": null,
            "grid_auto_columns": null,
            "grid_auto_flow": null,
            "grid_auto_rows": null,
            "grid_column": null,
            "grid_gap": null,
            "grid_row": null,
            "grid_template_areas": null,
            "grid_template_columns": null,
            "grid_template_rows": null,
            "height": null,
            "justify_content": null,
            "justify_items": null,
            "left": null,
            "margin": null,
            "max_height": null,
            "max_width": null,
            "min_height": null,
            "min_width": null,
            "object_fit": null,
            "object_position": null,
            "order": null,
            "overflow": null,
            "overflow_x": null,
            "overflow_y": null,
            "padding": null,
            "right": null,
            "top": null,
            "visibility": null,
            "width": null
          }
        },
        "83f94881083e44c4befdd53bf8cb702a": {
          "model_module": "@jupyter-widgets/output",
          "model_name": "OutputModel",
          "model_module_version": "1.0.0",
          "state": {
            "_dom_classes": [],
            "_model_module": "@jupyter-widgets/output",
            "_model_module_version": "1.0.0",
            "_model_name": "OutputModel",
            "_view_count": null,
            "_view_module": "@jupyter-widgets/output",
            "_view_module_version": "1.0.0",
            "_view_name": "OutputView",
            "layout": "IPY_MODEL_928ad600760c446b918efdd2840504ea",
            "msg_id": "",
            "outputs": [
              {
                "output_type": "stream",
                "name": "stdout",
                "text": [
                  "Total Score: 4\n",
                  "Number of Trials: 7\n",
                  "Successful Strikes: 4\n",
                  "Failed Strikes: 0\n",
                  "Non-Strikes: 3\n",
                  "Average Score Per Trial: 0.57\n"
                ]
              }
            ]
          }
        },
        "500bf7d8c7de4d52b5d1f4f268863a4b": {
          "model_module": "@jupyter-widgets/output",
          "model_name": "OutputModel",
          "model_module_version": "1.0.0",
          "state": {
            "_dom_classes": [],
            "_model_module": "@jupyter-widgets/output",
            "_model_module_version": "1.0.0",
            "_model_name": "OutputModel",
            "_view_count": null,
            "_view_module": "@jupyter-widgets/output",
            "_view_module_version": "1.0.0",
            "_view_name": "OutputView",
            "layout": "IPY_MODEL_c3383869f97d45e8a631a2a1128f7165",
            "msg_id": "",
            "outputs": [
              {
                "output_type": "stream",
                "name": "stdout",
                "text": [
                  "Your last choice: No Strike\n",
                  "Correct last choice: No Strike\n"
                ]
              }
            ]
          }
        },
        "0f4990b503e14ae18380db87a2bb248d": {
          "model_module": "@jupyter-widgets/base",
          "model_name": "LayoutModel",
          "model_module_version": "1.2.0",
          "state": {
            "_model_module": "@jupyter-widgets/base",
            "_model_module_version": "1.2.0",
            "_model_name": "LayoutModel",
            "_view_count": null,
            "_view_module": "@jupyter-widgets/base",
            "_view_module_version": "1.2.0",
            "_view_name": "LayoutView",
            "align_content": null,
            "align_items": null,
            "align_self": null,
            "border": null,
            "bottom": null,
            "display": null,
            "flex": null,
            "flex_flow": null,
            "grid_area": null,
            "grid_auto_columns": null,
            "grid_auto_flow": null,
            "grid_auto_rows": null,
            "grid_column": null,
            "grid_gap": null,
            "grid_row": null,
            "grid_template_areas": null,
            "grid_template_columns": null,
            "grid_template_rows": null,
            "height": null,
            "justify_content": null,
            "justify_items": null,
            "left": null,
            "margin": null,
            "max_height": null,
            "max_width": null,
            "min_height": null,
            "min_width": null,
            "object_fit": null,
            "object_position": null,
            "order": null,
            "overflow": null,
            "overflow_x": null,
            "overflow_y": null,
            "padding": null,
            "right": null,
            "top": null,
            "visibility": null,
            "width": null
          }
        },
        "1d371ca321f54284aabf421a9144aea2": {
          "model_module": "@jupyter-widgets/controls",
          "model_name": "ButtonModel",
          "model_module_version": "1.5.0",
          "state": {
            "_dom_classes": [],
            "_model_module": "@jupyter-widgets/controls",
            "_model_module_version": "1.5.0",
            "_model_name": "ButtonModel",
            "_view_count": null,
            "_view_module": "@jupyter-widgets/controls",
            "_view_module_version": "1.5.0",
            "_view_name": "ButtonView",
            "button_style": "",
            "description": "Strike",
            "disabled": false,
            "icon": "",
            "layout": "IPY_MODEL_7b14503ea8ed417f921ee4732dbdc3dc",
            "style": "IPY_MODEL_16e7060a25944ac3ac3a201b4e020eaf",
            "tooltip": ""
          }
        },
        "856b374a23fc4121b74b689d124b3c27": {
          "model_module": "@jupyter-widgets/controls",
          "model_name": "ButtonModel",
          "model_module_version": "1.5.0",
          "state": {
            "_dom_classes": [],
            "_model_module": "@jupyter-widgets/controls",
            "_model_module_version": "1.5.0",
            "_model_name": "ButtonModel",
            "_view_count": null,
            "_view_module": "@jupyter-widgets/controls",
            "_view_module_version": "1.5.0",
            "_view_name": "ButtonView",
            "button_style": "",
            "description": "No Strike",
            "disabled": false,
            "icon": "",
            "layout": "IPY_MODEL_fa7991e6d959437fb0d36047a7cb9ce1",
            "style": "IPY_MODEL_39d61513a7d64f0bbf10c43f3d49d930",
            "tooltip": ""
          }
        },
        "c635f64d50d3416c8f79af369b93690d": {
          "model_module": "@jupyter-widgets/base",
          "model_name": "LayoutModel",
          "model_module_version": "1.2.0",
          "state": {
            "_model_module": "@jupyter-widgets/base",
            "_model_module_version": "1.2.0",
            "_model_name": "LayoutModel",
            "_view_count": null,
            "_view_module": "@jupyter-widgets/base",
            "_view_module_version": "1.2.0",
            "_view_name": "LayoutView",
            "align_content": null,
            "align_items": null,
            "align_self": null,
            "border": null,
            "bottom": null,
            "display": null,
            "flex": null,
            "flex_flow": null,
            "grid_area": null,
            "grid_auto_columns": null,
            "grid_auto_flow": null,
            "grid_auto_rows": null,
            "grid_column": null,
            "grid_gap": null,
            "grid_row": null,
            "grid_template_areas": null,
            "grid_template_columns": null,
            "grid_template_rows": null,
            "height": null,
            "justify_content": null,
            "justify_items": null,
            "left": null,
            "margin": null,
            "max_height": null,
            "max_width": null,
            "min_height": null,
            "min_width": null,
            "object_fit": null,
            "object_position": null,
            "order": null,
            "overflow": null,
            "overflow_x": null,
            "overflow_y": null,
            "padding": null,
            "right": null,
            "top": null,
            "visibility": null,
            "width": null
          }
        },
        "928ad600760c446b918efdd2840504ea": {
          "model_module": "@jupyter-widgets/base",
          "model_name": "LayoutModel",
          "model_module_version": "1.2.0",
          "state": {
            "_model_module": "@jupyter-widgets/base",
            "_model_module_version": "1.2.0",
            "_model_name": "LayoutModel",
            "_view_count": null,
            "_view_module": "@jupyter-widgets/base",
            "_view_module_version": "1.2.0",
            "_view_name": "LayoutView",
            "align_content": null,
            "align_items": null,
            "align_self": null,
            "border": null,
            "bottom": null,
            "display": null,
            "flex": null,
            "flex_flow": null,
            "grid_area": null,
            "grid_auto_columns": null,
            "grid_auto_flow": null,
            "grid_auto_rows": null,
            "grid_column": null,
            "grid_gap": null,
            "grid_row": null,
            "grid_template_areas": null,
            "grid_template_columns": null,
            "grid_template_rows": null,
            "height": null,
            "justify_content": null,
            "justify_items": null,
            "left": null,
            "margin": null,
            "max_height": null,
            "max_width": null,
            "min_height": null,
            "min_width": null,
            "object_fit": null,
            "object_position": null,
            "order": null,
            "overflow": null,
            "overflow_x": null,
            "overflow_y": null,
            "padding": null,
            "right": null,
            "top": null,
            "visibility": null,
            "width": null
          }
        },
        "c3383869f97d45e8a631a2a1128f7165": {
          "model_module": "@jupyter-widgets/base",
          "model_name": "LayoutModel",
          "model_module_version": "1.2.0",
          "state": {
            "_model_module": "@jupyter-widgets/base",
            "_model_module_version": "1.2.0",
            "_model_name": "LayoutModel",
            "_view_count": null,
            "_view_module": "@jupyter-widgets/base",
            "_view_module_version": "1.2.0",
            "_view_name": "LayoutView",
            "align_content": null,
            "align_items": null,
            "align_self": null,
            "border": null,
            "bottom": null,
            "display": null,
            "flex": null,
            "flex_flow": null,
            "grid_area": null,
            "grid_auto_columns": null,
            "grid_auto_flow": null,
            "grid_auto_rows": null,
            "grid_column": null,
            "grid_gap": null,
            "grid_row": null,
            "grid_template_areas": null,
            "grid_template_columns": null,
            "grid_template_rows": null,
            "height": null,
            "justify_content": null,
            "justify_items": null,
            "left": null,
            "margin": null,
            "max_height": null,
            "max_width": null,
            "min_height": null,
            "min_width": null,
            "object_fit": null,
            "object_position": null,
            "order": null,
            "overflow": null,
            "overflow_x": null,
            "overflow_y": null,
            "padding": null,
            "right": null,
            "top": null,
            "visibility": null,
            "width": null
          }
        },
        "e10e9e3612694b82a0ffc312435c07f7": {
          "model_module": "@jupyter-widgets/base",
          "model_name": "LayoutModel",
          "model_module_version": "1.2.0",
          "state": {
            "_model_module": "@jupyter-widgets/base",
            "_model_module_version": "1.2.0",
            "_model_name": "LayoutModel",
            "_view_count": null,
            "_view_module": "@jupyter-widgets/base",
            "_view_module_version": "1.2.0",
            "_view_name": "LayoutView",
            "align_content": null,
            "align_items": null,
            "align_self": null,
            "border": null,
            "bottom": null,
            "display": null,
            "flex": null,
            "flex_flow": null,
            "grid_area": null,
            "grid_auto_columns": null,
            "grid_auto_flow": null,
            "grid_auto_rows": null,
            "grid_column": null,
            "grid_gap": null,
            "grid_row": null,
            "grid_template_areas": null,
            "grid_template_columns": null,
            "grid_template_rows": null,
            "height": null,
            "justify_content": null,
            "justify_items": null,
            "left": null,
            "margin": null,
            "max_height": null,
            "max_width": null,
            "min_height": null,
            "min_width": null,
            "object_fit": null,
            "object_position": null,
            "order": null,
            "overflow": null,
            "overflow_x": null,
            "overflow_y": null,
            "padding": null,
            "right": null,
            "top": null,
            "visibility": null,
            "width": null
          }
        },
        "4b32654ce317497ca11c384ca7bb5d4b": {
          "model_module": "jupyter-matplotlib",
          "model_name": "ToolbarModel",
          "model_module_version": "^0.11",
          "state": {
            "_current_action": "",
            "_dom_classes": [],
            "_model_module": "jupyter-matplotlib",
            "_model_module_version": "^0.11",
            "_model_name": "ToolbarModel",
            "_view_count": null,
            "_view_module": "jupyter-matplotlib",
            "_view_module_version": "^0.11",
            "_view_name": "ToolbarView",
            "button_style": "",
            "collapsed": true,
            "layout": "IPY_MODEL_de0f37fbeffc4e6d8b1845a94b99ba10",
            "orientation": "vertical",
            "toolitems": [
              [
                "Home",
                "Reset original view",
                "home",
                "home"
              ],
              [
                "Back",
                "Back to previous view",
                "arrow-left",
                "back"
              ],
              [
                "Forward",
                "Forward to next view",
                "arrow-right",
                "forward"
              ],
              [
                "Pan",
                "Left button pans, Right button zooms\nx/y fixes axis, CTRL fixes aspect",
                "arrows",
                "pan"
              ],
              [
                "Zoom",
                "Zoom to rectangle\nx/y fixes axis",
                "square-o",
                "zoom"
              ],
              [
                "Download",
                "Download plot",
                "floppy-o",
                "save_figure"
              ]
            ]
          }
        },
        "7b14503ea8ed417f921ee4732dbdc3dc": {
          "model_module": "@jupyter-widgets/base",
          "model_name": "LayoutModel",
          "model_module_version": "1.2.0",
          "state": {
            "_model_module": "@jupyter-widgets/base",
            "_model_module_version": "1.2.0",
            "_model_name": "LayoutModel",
            "_view_count": null,
            "_view_module": "@jupyter-widgets/base",
            "_view_module_version": "1.2.0",
            "_view_name": "LayoutView",
            "align_content": null,
            "align_items": null,
            "align_self": null,
            "border": null,
            "bottom": null,
            "display": null,
            "flex": null,
            "flex_flow": null,
            "grid_area": null,
            "grid_auto_columns": null,
            "grid_auto_flow": null,
            "grid_auto_rows": null,
            "grid_column": null,
            "grid_gap": null,
            "grid_row": null,
            "grid_template_areas": null,
            "grid_template_columns": null,
            "grid_template_rows": null,
            "height": null,
            "justify_content": null,
            "justify_items": null,
            "left": null,
            "margin": null,
            "max_height": null,
            "max_width": null,
            "min_height": null,
            "min_width": null,
            "object_fit": null,
            "object_position": null,
            "order": null,
            "overflow": null,
            "overflow_x": null,
            "overflow_y": null,
            "padding": null,
            "right": null,
            "top": null,
            "visibility": null,
            "width": null
          }
        },
        "16e7060a25944ac3ac3a201b4e020eaf": {
          "model_module": "@jupyter-widgets/controls",
          "model_name": "ButtonStyleModel",
          "model_module_version": "1.5.0",
          "state": {
            "_model_module": "@jupyter-widgets/controls",
            "_model_module_version": "1.5.0",
            "_model_name": "ButtonStyleModel",
            "_view_count": null,
            "_view_module": "@jupyter-widgets/base",
            "_view_module_version": "1.2.0",
            "_view_name": "StyleView",
            "button_color": null,
            "font_weight": ""
          }
        },
        "fa7991e6d959437fb0d36047a7cb9ce1": {
          "model_module": "@jupyter-widgets/base",
          "model_name": "LayoutModel",
          "model_module_version": "1.2.0",
          "state": {
            "_model_module": "@jupyter-widgets/base",
            "_model_module_version": "1.2.0",
            "_model_name": "LayoutModel",
            "_view_count": null,
            "_view_module": "@jupyter-widgets/base",
            "_view_module_version": "1.2.0",
            "_view_name": "LayoutView",
            "align_content": null,
            "align_items": null,
            "align_self": null,
            "border": null,
            "bottom": null,
            "display": null,
            "flex": null,
            "flex_flow": null,
            "grid_area": null,
            "grid_auto_columns": null,
            "grid_auto_flow": null,
            "grid_auto_rows": null,
            "grid_column": null,
            "grid_gap": null,
            "grid_row": null,
            "grid_template_areas": null,
            "grid_template_columns": null,
            "grid_template_rows": null,
            "height": null,
            "justify_content": null,
            "justify_items": null,
            "left": null,
            "margin": null,
            "max_height": null,
            "max_width": null,
            "min_height": null,
            "min_width": null,
            "object_fit": null,
            "object_position": null,
            "order": null,
            "overflow": null,
            "overflow_x": null,
            "overflow_y": null,
            "padding": null,
            "right": null,
            "top": null,
            "visibility": null,
            "width": null
          }
        },
        "39d61513a7d64f0bbf10c43f3d49d930": {
          "model_module": "@jupyter-widgets/controls",
          "model_name": "ButtonStyleModel",
          "model_module_version": "1.5.0",
          "state": {
            "_model_module": "@jupyter-widgets/controls",
            "_model_module_version": "1.5.0",
            "_model_name": "ButtonStyleModel",
            "_view_count": null,
            "_view_module": "@jupyter-widgets/base",
            "_view_module_version": "1.2.0",
            "_view_name": "StyleView",
            "button_color": null,
            "font_weight": ""
          }
        },
        "de0f37fbeffc4e6d8b1845a94b99ba10": {
          "model_module": "@jupyter-widgets/base",
          "model_name": "LayoutModel",
          "model_module_version": "1.2.0",
          "state": {
            "_model_module": "@jupyter-widgets/base",
            "_model_module_version": "1.2.0",
            "_model_name": "LayoutModel",
            "_view_count": null,
            "_view_module": "@jupyter-widgets/base",
            "_view_module_version": "1.2.0",
            "_view_name": "LayoutView",
            "align_content": null,
            "align_items": null,
            "align_self": null,
            "border": null,
            "bottom": null,
            "display": null,
            "flex": null,
            "flex_flow": null,
            "grid_area": null,
            "grid_auto_columns": null,
            "grid_auto_flow": null,
            "grid_auto_rows": null,
            "grid_column": null,
            "grid_gap": null,
            "grid_row": null,
            "grid_template_areas": null,
            "grid_template_columns": null,
            "grid_template_rows": null,
            "height": null,
            "justify_content": null,
            "justify_items": null,
            "left": null,
            "margin": null,
            "max_height": null,
            "max_width": null,
            "min_height": null,
            "min_width": null,
            "object_fit": null,
            "object_position": null,
            "order": null,
            "overflow": null,
            "overflow_x": null,
            "overflow_y": null,
            "padding": null,
            "right": null,
            "top": null,
            "visibility": null,
            "width": null
          }
        },
        "b5abbaab28644ae9be78700c146e0985": {
          "model_module": "jupyter-matplotlib",
          "model_name": "MPLCanvasModel",
          "model_module_version": "^0.11",
          "state": {
            "_cursor": "default",
            "_data_url": "data:image/png;base64,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",
            "_dom_classes": [],
            "_figure_label": "Figure 2",
            "_image_mode": "full",
            "_message": "",
            "_model_module": "jupyter-matplotlib",
            "_model_module_version": "^0.11",
            "_model_name": "MPLCanvasModel",
            "_rubberband_height": 0,
            "_rubberband_width": 0,
            "_rubberband_x": 0,
            "_rubberband_y": 0,
            "_size": [
              800,
              600
            ],
            "_view_count": null,
            "_view_module": "jupyter-matplotlib",
            "_view_module_version": "^0.11",
            "_view_name": "MPLCanvasView",
            "capture_scroll": false,
            "footer_visible": true,
            "header_visible": true,
            "layout": "IPY_MODEL_f8d55b8280bb48c4a4b12d0b0985fbda",
            "pan_zoom_throttle": 33,
            "resizable": true,
            "toolbar": "IPY_MODEL_8d06152410244f6b8afcc2aba17b2882",
            "toolbar_position": "left",
            "toolbar_visible": "fade-in-fade-out"
          }
        },
        "f8d55b8280bb48c4a4b12d0b0985fbda": {
          "model_module": "@jupyter-widgets/base",
          "model_name": "LayoutModel",
          "model_module_version": "1.2.0",
          "state": {
            "_model_module": "@jupyter-widgets/base",
            "_model_module_version": "1.2.0",
            "_model_name": "LayoutModel",
            "_view_count": null,
            "_view_module": "@jupyter-widgets/base",
            "_view_module_version": "1.2.0",
            "_view_name": "LayoutView",
            "align_content": null,
            "align_items": null,
            "align_self": null,
            "border": null,
            "bottom": null,
            "display": null,
            "flex": null,
            "flex_flow": null,
            "grid_area": null,
            "grid_auto_columns": null,
            "grid_auto_flow": null,
            "grid_auto_rows": null,
            "grid_column": null,
            "grid_gap": null,
            "grid_row": null,
            "grid_template_areas": null,
            "grid_template_columns": null,
            "grid_template_rows": null,
            "height": null,
            "justify_content": null,
            "justify_items": null,
            "left": null,
            "margin": null,
            "max_height": null,
            "max_width": null,
            "min_height": null,
            "min_width": null,
            "object_fit": null,
            "object_position": null,
            "order": null,
            "overflow": null,
            "overflow_x": null,
            "overflow_y": null,
            "padding": null,
            "right": null,
            "top": null,
            "visibility": null,
            "width": null
          }
        },
        "8d06152410244f6b8afcc2aba17b2882": {
          "model_module": "jupyter-matplotlib",
          "model_name": "ToolbarModel",
          "model_module_version": "^0.11",
          "state": {
            "_current_action": "",
            "_dom_classes": [],
            "_model_module": "jupyter-matplotlib",
            "_model_module_version": "^0.11",
            "_model_name": "ToolbarModel",
            "_view_count": null,
            "_view_module": "jupyter-matplotlib",
            "_view_module_version": "^0.11",
            "_view_name": "ToolbarView",
            "button_style": "",
            "collapsed": true,
            "layout": "IPY_MODEL_cefd644ad39d457e88e6412d05c3ea76",
            "orientation": "vertical",
            "toolitems": [
              [
                "Home",
                "Reset original view",
                "home",
                "home"
              ],
              [
                "Back",
                "Back to previous view",
                "arrow-left",
                "back"
              ],
              [
                "Forward",
                "Forward to next view",
                "arrow-right",
                "forward"
              ],
              [
                "Pan",
                "Left button pans, Right button zooms\nx/y fixes axis, CTRL fixes aspect",
                "arrows",
                "pan"
              ],
              [
                "Zoom",
                "Zoom to rectangle\nx/y fixes axis",
                "square-o",
                "zoom"
              ],
              [
                "Download",
                "Download plot",
                "floppy-o",
                "save_figure"
              ]
            ]
          }
        },
        "cefd644ad39d457e88e6412d05c3ea76": {
          "model_module": "@jupyter-widgets/base",
          "model_name": "LayoutModel",
          "model_module_version": "1.2.0",
          "state": {
            "_model_module": "@jupyter-widgets/base",
            "_model_module_version": "1.2.0",
            "_model_name": "LayoutModel",
            "_view_count": null,
            "_view_module": "@jupyter-widgets/base",
            "_view_module_version": "1.2.0",
            "_view_name": "LayoutView",
            "align_content": null,
            "align_items": null,
            "align_self": null,
            "border": null,
            "bottom": null,
            "display": null,
            "flex": null,
            "flex_flow": null,
            "grid_area": null,
            "grid_auto_columns": null,
            "grid_auto_flow": null,
            "grid_auto_rows": null,
            "grid_column": null,
            "grid_gap": null,
            "grid_row": null,
            "grid_template_areas": null,
            "grid_template_columns": null,
            "grid_template_rows": null,
            "height": null,
            "justify_content": null,
            "justify_items": null,
            "left": null,
            "margin": null,
            "max_height": null,
            "max_width": null,
            "min_height": null,
            "min_width": null,
            "object_fit": null,
            "object_position": null,
            "order": null,
            "overflow": null,
            "overflow_x": null,
            "overflow_y": null,
            "padding": null,
            "right": null,
            "top": null,
            "visibility": null,
            "width": null
          }
        },
        "24dac9931c2f42a58777d5de8a6ddd40": {
          "model_module": "@jupyter-widgets/controls",
          "model_name": "VBoxModel",
          "model_module_version": "1.5.0",
          "state": {
            "_dom_classes": [],
            "_model_module": "@jupyter-widgets/controls",
            "_model_module_version": "1.5.0",
            "_model_name": "VBoxModel",
            "_view_count": null,
            "_view_module": "@jupyter-widgets/controls",
            "_view_module_version": "1.5.0",
            "_view_name": "VBoxView",
            "box_style": "",
            "children": [
              "IPY_MODEL_8317d046663d45dd9022df94e53196fa"
            ],
            "layout": "IPY_MODEL_6d13b1d0c1a44d95a03448b3e5dd6fe9"
          }
        },
        "8317d046663d45dd9022df94e53196fa": {
          "model_module": "@jupyter-widgets/controls",
          "model_name": "VBoxModel",
          "model_module_version": "1.5.0",
          "state": {
            "_dom_classes": [],
            "_model_module": "@jupyter-widgets/controls",
            "_model_module_version": "1.5.0",
            "_model_name": "VBoxModel",
            "_view_count": null,
            "_view_module": "@jupyter-widgets/controls",
            "_view_module_version": "1.5.0",
            "_view_name": "VBoxView",
            "box_style": "",
            "children": [
              "IPY_MODEL_041af0fb50494f909e797305cbbe978b",
              "IPY_MODEL_353a80ac091445fa9c60c61d0ef7a945",
              "IPY_MODEL_fd7858d476d840fca336bee7649122c9"
            ],
            "layout": "IPY_MODEL_7f8ea13965d944289ff65d789e374312"
          }
        },
        "6d13b1d0c1a44d95a03448b3e5dd6fe9": {
          "model_module": "@jupyter-widgets/base",
          "model_name": "LayoutModel",
          "model_module_version": "1.2.0",
          "state": {
            "_model_module": "@jupyter-widgets/base",
            "_model_module_version": "1.2.0",
            "_model_name": "LayoutModel",
            "_view_count": null,
            "_view_module": "@jupyter-widgets/base",
            "_view_module_version": "1.2.0",
            "_view_name": "LayoutView",
            "align_content": null,
            "align_items": null,
            "align_self": null,
            "border": null,
            "bottom": null,
            "display": null,
            "flex": null,
            "flex_flow": null,
            "grid_area": null,
            "grid_auto_columns": null,
            "grid_auto_flow": null,
            "grid_auto_rows": null,
            "grid_column": null,
            "grid_gap": null,
            "grid_row": null,
            "grid_template_areas": null,
            "grid_template_columns": null,
            "grid_template_rows": null,
            "height": null,
            "justify_content": null,
            "justify_items": null,
            "left": null,
            "margin": null,
            "max_height": null,
            "max_width": null,
            "min_height": null,
            "min_width": null,
            "object_fit": null,
            "object_position": null,
            "order": null,
            "overflow": null,
            "overflow_x": null,
            "overflow_y": null,
            "padding": null,
            "right": null,
            "top": null,
            "visibility": null,
            "width": null
          }
        },
        "041af0fb50494f909e797305cbbe978b": {
          "model_module": "@jupyter-widgets/controls",
          "model_name": "HBoxModel",
          "model_module_version": "1.5.0",
          "state": {
            "_dom_classes": [],
            "_model_module": "@jupyter-widgets/controls",
            "_model_module_version": "1.5.0",
            "_model_name": "HBoxModel",
            "_view_count": null,
            "_view_module": "@jupyter-widgets/controls",
            "_view_module_version": "1.5.0",
            "_view_name": "HBoxView",
            "box_style": "",
            "children": [
              "IPY_MODEL_33c380d691d94da98dfe979415a9700d",
              "IPY_MODEL_f1ef5b689ee3478d95f9ab46c95c9c70",
              "IPY_MODEL_f460eba7567a4c78975376567918fbcc"
            ],
            "layout": "IPY_MODEL_2063acd79aed45ebb0784c41704c500e"
          }
        },
        "353a80ac091445fa9c60c61d0ef7a945": {
          "model_module": "@jupyter-widgets/controls",
          "model_name": "HBoxModel",
          "model_module_version": "1.5.0",
          "state": {
            "_dom_classes": [],
            "_model_module": "@jupyter-widgets/controls",
            "_model_module_version": "1.5.0",
            "_model_name": "HBoxModel",
            "_view_count": null,
            "_view_module": "@jupyter-widgets/controls",
            "_view_module_version": "1.5.0",
            "_view_name": "HBoxView",
            "box_style": "",
            "children": [
              "IPY_MODEL_b907ddc0d07e4cc49028e7cab6c0a0be",
              "IPY_MODEL_e121859753384a918f7c3789348b9212"
            ],
            "layout": "IPY_MODEL_b866cbea32ca466586d615c6111bc29f"
          }
        },
        "fd7858d476d840fca336bee7649122c9": {
          "model_module": "@jupyter-widgets/controls",
          "model_name": "LabelModel",
          "model_module_version": "1.5.0",
          "state": {
            "_dom_classes": [],
            "_model_module": "@jupyter-widgets/controls",
            "_model_module_version": "1.5.0",
            "_model_name": "LabelModel",
            "_view_count": null,
            "_view_module": "@jupyter-widgets/controls",
            "_view_module_version": "1.5.0",
            "_view_name": "LabelView",
            "description": "",
            "description_tooltip": null,
            "layout": "IPY_MODEL_191c963d6810433f94b47495203dba0d",
            "placeholder": "​",
            "style": "IPY_MODEL_bf41c361c03e494c92365c0ad86529e3",
            "value": "Thanks for your feedback!"
          }
        },
        "7f8ea13965d944289ff65d789e374312": {
          "model_module": "@jupyter-widgets/base",
          "model_name": "LayoutModel",
          "model_module_version": "1.2.0",
          "state": {
            "_model_module": "@jupyter-widgets/base",
            "_model_module_version": "1.2.0",
            "_model_name": "LayoutModel",
            "_view_count": null,
            "_view_module": "@jupyter-widgets/base",
            "_view_module_version": "1.2.0",
            "_view_name": "LayoutView",
            "align_content": null,
            "align_items": null,
            "align_self": null,
            "border": null,
            "bottom": null,
            "display": null,
            "flex": null,
            "flex_flow": null,
            "grid_area": null,
            "grid_auto_columns": null,
            "grid_auto_flow": null,
            "grid_auto_rows": null,
            "grid_column": null,
            "grid_gap": null,
            "grid_row": null,
            "grid_template_areas": null,
            "grid_template_columns": null,
            "grid_template_rows": null,
            "height": null,
            "justify_content": null,
            "justify_items": null,
            "left": null,
            "margin": null,
            "max_height": null,
            "max_width": null,
            "min_height": null,
            "min_width": null,
            "object_fit": null,
            "object_position": null,
            "order": null,
            "overflow": null,
            "overflow_x": null,
            "overflow_y": null,
            "padding": null,
            "right": null,
            "top": null,
            "visibility": null,
            "width": null
          }
        },
        "33c380d691d94da98dfe979415a9700d": {
          "model_module": "@jupyter-widgets/controls",
          "model_name": "ButtonModel",
          "model_module_version": "1.5.0",
          "state": {
            "_dom_classes": [
              "happy"
            ],
            "_model_module": "@jupyter-widgets/controls",
            "_model_module_version": "1.5.0",
            "_model_name": "ButtonModel",
            "_view_count": null,
            "_view_module": "@jupyter-widgets/controls",
            "_view_module_version": "1.5.0",
            "_view_name": "ButtonView",
            "button_style": "",
            "description": "🙂",
            "disabled": false,
            "icon": "",
            "layout": "IPY_MODEL_c3e99dd252324c1987bdd923e9bdd25c",
            "style": "IPY_MODEL_c12f44651a64443b8e8ccdbca0b24876",
            "tooltip": "happy"
          }
        },
        "f1ef5b689ee3478d95f9ab46c95c9c70": {
          "model_module": "@jupyter-widgets/controls",
          "model_name": "ButtonModel",
          "model_module_version": "1.5.0",
          "state": {
            "_dom_classes": [
              "medium"
            ],
            "_model_module": "@jupyter-widgets/controls",
            "_model_module_version": "1.5.0",
            "_model_name": "ButtonModel",
            "_view_count": null,
            "_view_module": "@jupyter-widgets/controls",
            "_view_module_version": "1.5.0",
            "_view_name": "ButtonView",
            "button_style": "",
            "description": "😐",
            "disabled": false,
            "icon": "",
            "layout": "IPY_MODEL_ba7de31d225845cc8b707ad5e5253cc7",
            "style": "IPY_MODEL_6f8d55c09abe49a9a7cc44e9453599ad",
            "tooltip": "medium"
          }
        },
        "f460eba7567a4c78975376567918fbcc": {
          "model_module": "@jupyter-widgets/controls",
          "model_name": "ButtonModel",
          "model_module_version": "1.5.0",
          "state": {
            "_dom_classes": [
              "sad"
            ],
            "_model_module": "@jupyter-widgets/controls",
            "_model_module_version": "1.5.0",
            "_model_name": "ButtonModel",
            "_view_count": null,
            "_view_module": "@jupyter-widgets/controls",
            "_view_module_version": "1.5.0",
            "_view_name": "ButtonView",
            "button_style": "",
            "description": "🙁",
            "disabled": false,
            "icon": "",
            "layout": "IPY_MODEL_5522f254eba24f4fadcee1ffba65fd58",
            "style": "IPY_MODEL_4f0fbb32528d46b69a5e4a3ccd6b033a",
            "tooltip": "sad"
          }
        },
        "2063acd79aed45ebb0784c41704c500e": {
          "model_module": "@jupyter-widgets/base",
          "model_name": "LayoutModel",
          "model_module_version": "1.2.0",
          "state": {
            "_model_module": "@jupyter-widgets/base",
            "_model_module_version": "1.2.0",
            "_model_name": "LayoutModel",
            "_view_count": null,
            "_view_module": "@jupyter-widgets/base",
            "_view_module_version": "1.2.0",
            "_view_name": "LayoutView",
            "align_content": null,
            "align_items": null,
            "align_self": null,
            "border": null,
            "bottom": null,
            "display": null,
            "flex": null,
            "flex_flow": null,
            "grid_area": null,
            "grid_auto_columns": null,
            "grid_auto_flow": null,
            "grid_auto_rows": null,
            "grid_column": null,
            "grid_gap": null,
            "grid_row": null,
            "grid_template_areas": null,
            "grid_template_columns": null,
            "grid_template_rows": null,
            "height": null,
            "justify_content": null,
            "justify_items": null,
            "left": null,
            "margin": null,
            "max_height": null,
            "max_width": null,
            "min_height": null,
            "min_width": null,
            "object_fit": null,
            "object_position": null,
            "order": null,
            "overflow": null,
            "overflow_x": null,
            "overflow_y": null,
            "padding": null,
            "right": null,
            "top": null,
            "visibility": null,
            "width": null
          }
        },
        "b907ddc0d07e4cc49028e7cab6c0a0be": {
          "model_module": "@jupyter-widgets/controls",
          "model_name": "TextareaModel",
          "model_module_version": "1.5.0",
          "state": {
            "_dom_classes": [],
            "_model_module": "@jupyter-widgets/controls",
            "_model_module_version": "1.5.0",
            "_model_name": "TextareaModel",
            "_view_count": null,
            "_view_module": "@jupyter-widgets/controls",
            "_view_module_version": "1.5.0",
            "_view_name": "TextareaView",
            "continuous_update": true,
            "description": "",
            "description_tooltip": null,
            "disabled": false,
            "layout": "IPY_MODEL_8152a400dbd64c8fb8dcc6d18cfe69ca",
            "placeholder": "We want your feedback!",
            "rows": null,
            "style": "IPY_MODEL_ece64dab94584cb380577575ed03c11d",
            "value": ""
          }
        },
        "e121859753384a918f7c3789348b9212": {
          "model_module": "@jupyter-widgets/controls",
          "model_name": "ButtonModel",
          "model_module_version": "1.5.0",
          "state": {
            "_dom_classes": [],
            "_model_module": "@jupyter-widgets/controls",
            "_model_module_version": "1.5.0",
            "_model_name": "ButtonModel",
            "_view_count": null,
            "_view_module": "@jupyter-widgets/controls",
            "_view_module_version": "1.5.0",
            "_view_name": "ButtonView",
            "button_style": "",
            "description": "Submit",
            "disabled": false,
            "icon": "",
            "layout": "IPY_MODEL_0a89a9e36dd547a8a6484c802b286333",
            "style": "IPY_MODEL_786d72f79c754b3b807bda47d52ae294",
            "tooltip": ""
          }
        },
        "b866cbea32ca466586d615c6111bc29f": {
          "model_module": "@jupyter-widgets/base",
          "model_name": "LayoutModel",
          "model_module_version": "1.2.0",
          "state": {
            "_model_module": "@jupyter-widgets/base",
            "_model_module_version": "1.2.0",
            "_model_name": "LayoutModel",
            "_view_count": null,
            "_view_module": "@jupyter-widgets/base",
            "_view_module_version": "1.2.0",
            "_view_name": "LayoutView",
            "align_content": null,
            "align_items": null,
            "align_self": null,
            "border": null,
            "bottom": null,
            "display": "none",
            "flex": null,
            "flex_flow": null,
            "grid_area": null,
            "grid_auto_columns": null,
            "grid_auto_flow": null,
            "grid_auto_rows": null,
            "grid_column": null,
            "grid_gap": null,
            "grid_row": null,
            "grid_template_areas": null,
            "grid_template_columns": null,
            "grid_template_rows": null,
            "height": null,
            "justify_content": null,
            "justify_items": null,
            "left": null,
            "margin": null,
            "max_height": null,
            "max_width": null,
            "min_height": null,
            "min_width": null,
            "object_fit": null,
            "object_position": null,
            "order": null,
            "overflow": null,
            "overflow_x": null,
            "overflow_y": null,
            "padding": null,
            "right": null,
            "top": null,
            "visibility": null,
            "width": null
          }
        },
        "191c963d6810433f94b47495203dba0d": {
          "model_module": "@jupyter-widgets/base",
          "model_name": "LayoutModel",
          "model_module_version": "1.2.0",
          "state": {
            "_model_module": "@jupyter-widgets/base",
            "_model_module_version": "1.2.0",
            "_model_name": "LayoutModel",
            "_view_count": null,
            "_view_module": "@jupyter-widgets/base",
            "_view_module_version": "1.2.0",
            "_view_name": "LayoutView",
            "align_content": null,
            "align_items": null,
            "align_self": null,
            "border": null,
            "bottom": null,
            "display": "none",
            "flex": null,
            "flex_flow": null,
            "grid_area": null,
            "grid_auto_columns": null,
            "grid_auto_flow": null,
            "grid_auto_rows": null,
            "grid_column": null,
            "grid_gap": null,
            "grid_row": null,
            "grid_template_areas": null,
            "grid_template_columns": null,
            "grid_template_rows": null,
            "height": null,
            "justify_content": null,
            "justify_items": null,
            "left": null,
            "margin": null,
            "max_height": null,
            "max_width": null,
            "min_height": null,
            "min_width": null,
            "object_fit": null,
            "object_position": null,
            "order": null,
            "overflow": null,
            "overflow_x": null,
            "overflow_y": null,
            "padding": null,
            "right": null,
            "top": null,
            "visibility": null,
            "width": null
          }
        },
        "bf41c361c03e494c92365c0ad86529e3": {
          "model_module": "@jupyter-widgets/controls",
          "model_name": "DescriptionStyleModel",
          "model_module_version": "1.5.0",
          "state": {
            "_model_module": "@jupyter-widgets/controls",
            "_model_module_version": "1.5.0",
            "_model_name": "DescriptionStyleModel",
            "_view_count": null,
            "_view_module": "@jupyter-widgets/base",
            "_view_module_version": "1.2.0",
            "_view_name": "StyleView",
            "description_width": ""
          }
        },
        "c3e99dd252324c1987bdd923e9bdd25c": {
          "model_module": "@jupyter-widgets/base",
          "model_name": "LayoutModel",
          "model_module_version": "1.2.0",
          "state": {
            "_model_module": "@jupyter-widgets/base",
            "_model_module_version": "1.2.0",
            "_model_name": "LayoutModel",
            "_view_count": null,
            "_view_module": "@jupyter-widgets/base",
            "_view_module_version": "1.2.0",
            "_view_name": "LayoutView",
            "align_content": null,
            "align_items": null,
            "align_self": null,
            "border": null,
            "bottom": null,
            "display": null,
            "flex": null,
            "flex_flow": null,
            "grid_area": null,
            "grid_auto_columns": null,
            "grid_auto_flow": null,
            "grid_auto_rows": null,
            "grid_column": null,
            "grid_gap": null,
            "grid_row": null,
            "grid_template_areas": null,
            "grid_template_columns": null,
            "grid_template_rows": null,
            "height": "auto",
            "justify_content": null,
            "justify_items": null,
            "left": null,
            "margin": null,
            "max_height": null,
            "max_width": null,
            "min_height": null,
            "min_width": null,
            "object_fit": null,
            "object_position": null,
            "order": null,
            "overflow": null,
            "overflow_x": null,
            "overflow_y": null,
            "padding": "0.5em",
            "right": null,
            "top": null,
            "visibility": null,
            "width": "auto"
          }
        },
        "c12f44651a64443b8e8ccdbca0b24876": {
          "model_module": "@jupyter-widgets/controls",
          "model_name": "ButtonStyleModel",
          "model_module_version": "1.5.0",
          "state": {
            "_model_module": "@jupyter-widgets/controls",
            "_model_module_version": "1.5.0",
            "_model_name": "ButtonStyleModel",
            "_view_count": null,
            "_view_module": "@jupyter-widgets/base",
            "_view_module_version": "1.2.0",
            "_view_name": "StyleView",
            "button_color": "#aaffaa",
            "font_weight": ""
          }
        },
        "ba7de31d225845cc8b707ad5e5253cc7": {
          "model_module": "@jupyter-widgets/base",
          "model_name": "LayoutModel",
          "model_module_version": "1.2.0",
          "state": {
            "_model_module": "@jupyter-widgets/base",
            "_model_module_version": "1.2.0",
            "_model_name": "LayoutModel",
            "_view_count": null,
            "_view_module": "@jupyter-widgets/base",
            "_view_module_version": "1.2.0",
            "_view_name": "LayoutView",
            "align_content": null,
            "align_items": null,
            "align_self": null,
            "border": null,
            "bottom": null,
            "display": null,
            "flex": null,
            "flex_flow": null,
            "grid_area": null,
            "grid_auto_columns": null,
            "grid_auto_flow": null,
            "grid_auto_rows": null,
            "grid_column": null,
            "grid_gap": null,
            "grid_row": null,
            "grid_template_areas": null,
            "grid_template_columns": null,
            "grid_template_rows": null,
            "height": "auto",
            "justify_content": null,
            "justify_items": null,
            "left": null,
            "margin": null,
            "max_height": null,
            "max_width": null,
            "min_height": null,
            "min_width": null,
            "object_fit": null,
            "object_position": null,
            "order": null,
            "overflow": null,
            "overflow_x": null,
            "overflow_y": null,
            "padding": "0.5em",
            "right": null,
            "top": null,
            "visibility": null,
            "width": "auto"
          }
        },
        "6f8d55c09abe49a9a7cc44e9453599ad": {
          "model_module": "@jupyter-widgets/controls",
          "model_name": "ButtonStyleModel",
          "model_module_version": "1.5.0",
          "state": {
            "_model_module": "@jupyter-widgets/controls",
            "_model_module_version": "1.5.0",
            "_model_name": "ButtonStyleModel",
            "_view_count": null,
            "_view_module": "@jupyter-widgets/base",
            "_view_module_version": "1.2.0",
            "_view_name": "StyleView",
            "button_color": "#dddd77",
            "font_weight": ""
          }
        },
        "5522f254eba24f4fadcee1ffba65fd58": {
          "model_module": "@jupyter-widgets/base",
          "model_name": "LayoutModel",
          "model_module_version": "1.2.0",
          "state": {
            "_model_module": "@jupyter-widgets/base",
            "_model_module_version": "1.2.0",
            "_model_name": "LayoutModel",
            "_view_count": null,
            "_view_module": "@jupyter-widgets/base",
            "_view_module_version": "1.2.0",
            "_view_name": "LayoutView",
            "align_content": null,
            "align_items": null,
            "align_self": null,
            "border": null,
            "bottom": null,
            "display": null,
            "flex": null,
            "flex_flow": null,
            "grid_area": null,
            "grid_auto_columns": null,
            "grid_auto_flow": null,
            "grid_auto_rows": null,
            "grid_column": null,
            "grid_gap": null,
            "grid_row": null,
            "grid_template_areas": null,
            "grid_template_columns": null,
            "grid_template_rows": null,
            "height": "auto",
            "justify_content": null,
            "justify_items": null,
            "left": null,
            "margin": null,
            "max_height": null,
            "max_width": null,
            "min_height": null,
            "min_width": null,
            "object_fit": null,
            "object_position": null,
            "order": null,
            "overflow": null,
            "overflow_x": null,
            "overflow_y": null,
            "padding": "0.5em",
            "right": null,
            "top": null,
            "visibility": null,
            "width": "auto"
          }
        },
        "4f0fbb32528d46b69a5e4a3ccd6b033a": {
          "model_module": "@jupyter-widgets/controls",
          "model_name": "ButtonStyleModel",
          "model_module_version": "1.5.0",
          "state": {
            "_model_module": "@jupyter-widgets/controls",
            "_model_module_version": "1.5.0",
            "_model_name": "ButtonStyleModel",
            "_view_count": null,
            "_view_module": "@jupyter-widgets/base",
            "_view_module_version": "1.2.0",
            "_view_name": "StyleView",
            "button_color": "#ffaaaa",
            "font_weight": ""
          }
        },
        "8152a400dbd64c8fb8dcc6d18cfe69ca": {
          "model_module": "@jupyter-widgets/base",
          "model_name": "LayoutModel",
          "model_module_version": "1.2.0",
          "state": {
            "_model_module": "@jupyter-widgets/base",
            "_model_module_version": "1.2.0",
            "_model_name": "LayoutModel",
            "_view_count": null,
            "_view_module": "@jupyter-widgets/base",
            "_view_module_version": "1.2.0",
            "_view_name": "LayoutView",
            "align_content": null,
            "align_items": null,
            "align_self": null,
            "border": null,
            "bottom": null,
            "display": null,
            "flex": null,
            "flex_flow": null,
            "grid_area": null,
            "grid_auto_columns": null,
            "grid_auto_flow": null,
            "grid_auto_rows": null,
            "grid_column": null,
            "grid_gap": null,
            "grid_row": null,
            "grid_template_areas": null,
            "grid_template_columns": null,
            "grid_template_rows": null,
            "height": "auto",
            "justify_content": null,
            "justify_items": null,
            "left": null,
            "margin": null,
            "max_height": null,
            "max_width": null,
            "min_height": null,
            "min_width": null,
            "object_fit": null,
            "object_position": null,
            "order": null,
            "overflow": null,
            "overflow_x": null,
            "overflow_y": null,
            "padding": null,
            "right": null,
            "top": null,
            "visibility": null,
            "width": "auto"
          }
        },
        "ece64dab94584cb380577575ed03c11d": {
          "model_module": "@jupyter-widgets/controls",
          "model_name": "DescriptionStyleModel",
          "model_module_version": "1.5.0",
          "state": {
            "_model_module": "@jupyter-widgets/controls",
            "_model_module_version": "1.5.0",
            "_model_name": "DescriptionStyleModel",
            "_view_count": null,
            "_view_module": "@jupyter-widgets/base",
            "_view_module_version": "1.2.0",
            "_view_name": "StyleView",
            "description_width": ""
          }
        },
        "0a89a9e36dd547a8a6484c802b286333": {
          "model_module": "@jupyter-widgets/base",
          "model_name": "LayoutModel",
          "model_module_version": "1.2.0",
          "state": {
            "_model_module": "@jupyter-widgets/base",
            "_model_module_version": "1.2.0",
            "_model_name": "LayoutModel",
            "_view_count": null,
            "_view_module": "@jupyter-widgets/base",
            "_view_module_version": "1.2.0",
            "_view_name": "LayoutView",
            "align_content": null,
            "align_items": null,
            "align_self": null,
            "border": null,
            "bottom": null,
            "display": null,
            "flex": null,
            "flex_flow": null,
            "grid_area": null,
            "grid_auto_columns": null,
            "grid_auto_flow": null,
            "grid_auto_rows": null,
            "grid_column": null,
            "grid_gap": null,
            "grid_row": null,
            "grid_template_areas": null,
            "grid_template_columns": null,
            "grid_template_rows": null,
            "height": "auto",
            "justify_content": null,
            "justify_items": null,
            "left": null,
            "margin": null,
            "max_height": null,
            "max_width": null,
            "min_height": null,
            "min_width": null,
            "object_fit": null,
            "object_position": null,
            "order": null,
            "overflow": null,
            "overflow_x": null,
            "overflow_y": null,
            "padding": null,
            "right": null,
            "top": null,
            "visibility": null,
            "width": "auto"
          }
        },
        "786d72f79c754b3b807bda47d52ae294": {
          "model_module": "@jupyter-widgets/controls",
          "model_name": "ButtonStyleModel",
          "model_module_version": "1.5.0",
          "state": {
            "_model_module": "@jupyter-widgets/controls",
            "_model_module_version": "1.5.0",
            "_model_name": "ButtonStyleModel",
            "_view_count": null,
            "_view_module": "@jupyter-widgets/base",
            "_view_module_version": "1.2.0",
            "_view_name": "StyleView",
            "button_color": null,
            "font_weight": ""
          }
        },
        "b24b0245064643d58b9e3dfa471135bb": {
          "model_module": "@jupyter-widgets/controls",
          "model_name": "HBoxModel",
          "model_module_version": "1.5.0",
          "state": {
            "_dom_classes": [],
            "_model_module": "@jupyter-widgets/controls",
            "_model_module_version": "1.5.0",
            "_model_name": "HBoxModel",
            "_view_count": null,
            "_view_module": "@jupyter-widgets/controls",
            "_view_module_version": "1.5.0",
            "_view_name": "HBoxView",
            "box_style": "",
            "children": [
              "IPY_MODEL_e53056f4097a4240b929d1f5de4bdf9f",
              "IPY_MODEL_f4b800be48964e68a87a58d4eb55c683"
            ],
            "layout": "IPY_MODEL_3b7cf5dd04cc4afdbc800420dc9be629"
          }
        },
        "e53056f4097a4240b929d1f5de4bdf9f": {
          "model_module": "@jupyter-widgets/controls",
          "model_name": "VBoxModel",
          "model_module_version": "1.5.0",
          "state": {
            "_dom_classes": [],
            "_model_module": "@jupyter-widgets/controls",
            "_model_module_version": "1.5.0",
            "_model_name": "VBoxModel",
            "_view_count": null,
            "_view_module": "@jupyter-widgets/controls",
            "_view_module_version": "1.5.0",
            "_view_name": "VBoxView",
            "box_style": "",
            "children": [
              "IPY_MODEL_cf1f55bcdc0c462d8317f811a0edca24",
              "IPY_MODEL_e0ee5d7eb34e409d8ff1b9f6411edfd0"
            ],
            "layout": "IPY_MODEL_4fc6972bcd654f15913ec38798cad930"
          }
        },
        "f4b800be48964e68a87a58d4eb55c683": {
          "model_module": "@jupyter-widgets/controls",
          "model_name": "VBoxModel",
          "model_module_version": "1.5.0",
          "state": {
            "_dom_classes": [],
            "_model_module": "@jupyter-widgets/controls",
            "_model_module_version": "1.5.0",
            "_model_name": "VBoxModel",
            "_view_count": null,
            "_view_module": "@jupyter-widgets/controls",
            "_view_module_version": "1.5.0",
            "_view_name": "VBoxView",
            "box_style": "",
            "children": [
              "IPY_MODEL_b3183a79d0df4baf9efc631428c91110",
              "IPY_MODEL_2237625b32904239835f7f5bc80fbcc5"
            ],
            "layout": "IPY_MODEL_c1861646533c4fbb9ce88c2756869af8"
          }
        },
        "3b7cf5dd04cc4afdbc800420dc9be629": {
          "model_module": "@jupyter-widgets/base",
          "model_name": "LayoutModel",
          "model_module_version": "1.2.0",
          "state": {
            "_model_module": "@jupyter-widgets/base",
            "_model_module_version": "1.2.0",
            "_model_name": "LayoutModel",
            "_view_count": null,
            "_view_module": "@jupyter-widgets/base",
            "_view_module_version": "1.2.0",
            "_view_name": "LayoutView",
            "align_content": null,
            "align_items": null,
            "align_self": null,
            "border": null,
            "bottom": null,
            "display": null,
            "flex": null,
            "flex_flow": null,
            "grid_area": null,
            "grid_auto_columns": null,
            "grid_auto_flow": null,
            "grid_auto_rows": null,
            "grid_column": null,
            "grid_gap": null,
            "grid_row": null,
            "grid_template_areas": null,
            "grid_template_columns": null,
            "grid_template_rows": null,
            "height": null,
            "justify_content": null,
            "justify_items": null,
            "left": null,
            "margin": null,
            "max_height": null,
            "max_width": null,
            "min_height": null,
            "min_width": null,
            "object_fit": null,
            "object_position": null,
            "order": null,
            "overflow": null,
            "overflow_x": null,
            "overflow_y": null,
            "padding": null,
            "right": null,
            "top": null,
            "visibility": null,
            "width": null
          }
        },
        "cf1f55bcdc0c462d8317f811a0edca24": {
          "model_module": "jupyter-matplotlib",
          "model_name": "MPLCanvasModel",
          "model_module_version": "^0.11",
          "state": {
            "_cursor": "default",
            "_data_url": "data:image/png;base64,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",
            "_dom_classes": [],
            "_figure_label": "Figure 2",
            "_image_mode": "full",
            "_message": "",
            "_model_module": "jupyter-matplotlib",
            "_model_module_version": "^0.11",
            "_model_name": "MPLCanvasModel",
            "_rubberband_height": 0,
            "_rubberband_width": 0,
            "_rubberband_x": 0,
            "_rubberband_y": 0,
            "_size": [
              400,
              400
            ],
            "_view_count": null,
            "_view_module": "jupyter-matplotlib",
            "_view_module_version": "^0.11",
            "_view_name": "MPLCanvasView",
            "capture_scroll": false,
            "footer_visible": false,
            "header_visible": false,
            "layout": "IPY_MODEL_f8068f5bcdb64d43b3a92bb875368a55",
            "pan_zoom_throttle": 33,
            "resizable": false,
            "toolbar": "IPY_MODEL_60c90b510d2d48a8a738841b9ec5ff42",
            "toolbar_position": "left",
            "toolbar_visible": false
          }
        },
        "e0ee5d7eb34e409d8ff1b9f6411edfd0": {
          "model_module": "@jupyter-widgets/controls",
          "model_name": "HBoxModel",
          "model_module_version": "1.5.0",
          "state": {
            "_dom_classes": [],
            "_model_module": "@jupyter-widgets/controls",
            "_model_module_version": "1.5.0",
            "_model_name": "HBoxModel",
            "_view_count": null,
            "_view_module": "@jupyter-widgets/controls",
            "_view_module_version": "1.5.0",
            "_view_name": "HBoxView",
            "box_style": "",
            "children": [
              "IPY_MODEL_a2be5f7048bb45adbdbec077496bdee2",
              "IPY_MODEL_f0bf84dccc6f416ebd19e5c941c86947"
            ],
            "layout": "IPY_MODEL_a62476320a40491eb4705b31405c03d9"
          }
        },
        "4fc6972bcd654f15913ec38798cad930": {
          "model_module": "@jupyter-widgets/base",
          "model_name": "LayoutModel",
          "model_module_version": "1.2.0",
          "state": {
            "_model_module": "@jupyter-widgets/base",
            "_model_module_version": "1.2.0",
            "_model_name": "LayoutModel",
            "_view_count": null,
            "_view_module": "@jupyter-widgets/base",
            "_view_module_version": "1.2.0",
            "_view_name": "LayoutView",
            "align_content": null,
            "align_items": null,
            "align_self": null,
            "border": null,
            "bottom": null,
            "display": null,
            "flex": null,
            "flex_flow": null,
            "grid_area": null,
            "grid_auto_columns": null,
            "grid_auto_flow": null,
            "grid_auto_rows": null,
            "grid_column": null,
            "grid_gap": null,
            "grid_row": null,
            "grid_template_areas": null,
            "grid_template_columns": null,
            "grid_template_rows": null,
            "height": null,
            "justify_content": null,
            "justify_items": null,
            "left": null,
            "margin": null,
            "max_height": null,
            "max_width": null,
            "min_height": null,
            "min_width": null,
            "object_fit": null,
            "object_position": null,
            "order": null,
            "overflow": null,
            "overflow_x": null,
            "overflow_y": null,
            "padding": null,
            "right": null,
            "top": null,
            "visibility": null,
            "width": null
          }
        },
        "b3183a79d0df4baf9efc631428c91110": {
          "model_module": "@jupyter-widgets/output",
          "model_name": "OutputModel",
          "model_module_version": "1.0.0",
          "state": {
            "_dom_classes": [],
            "_model_module": "@jupyter-widgets/output",
            "_model_module_version": "1.0.0",
            "_model_name": "OutputModel",
            "_view_count": null,
            "_view_module": "@jupyter-widgets/output",
            "_view_module_version": "1.0.0",
            "_view_name": "OutputView",
            "layout": "IPY_MODEL_e7727d631edd4cc696028f2de12f0036",
            "msg_id": "",
            "outputs": []
          }
        },
        "2237625b32904239835f7f5bc80fbcc5": {
          "model_module": "@jupyter-widgets/output",
          "model_name": "OutputModel",
          "model_module_version": "1.0.0",
          "state": {
            "_dom_classes": [],
            "_model_module": "@jupyter-widgets/output",
            "_model_module_version": "1.0.0",
            "_model_name": "OutputModel",
            "_view_count": null,
            "_view_module": "@jupyter-widgets/output",
            "_view_module_version": "1.0.0",
            "_view_name": "OutputView",
            "layout": "IPY_MODEL_997fa74899304c0bab7584dfaacd30cb",
            "msg_id": "",
            "outputs": []
          }
        },
        "c1861646533c4fbb9ce88c2756869af8": {
          "model_module": "@jupyter-widgets/base",
          "model_name": "LayoutModel",
          "model_module_version": "1.2.0",
          "state": {
            "_model_module": "@jupyter-widgets/base",
            "_model_module_version": "1.2.0",
            "_model_name": "LayoutModel",
            "_view_count": null,
            "_view_module": "@jupyter-widgets/base",
            "_view_module_version": "1.2.0",
            "_view_name": "LayoutView",
            "align_content": null,
            "align_items": null,
            "align_self": null,
            "border": null,
            "bottom": null,
            "display": null,
            "flex": null,
            "flex_flow": null,
            "grid_area": null,
            "grid_auto_columns": null,
            "grid_auto_flow": null,
            "grid_auto_rows": null,
            "grid_column": null,
            "grid_gap": null,
            "grid_row": null,
            "grid_template_areas": null,
            "grid_template_columns": null,
            "grid_template_rows": null,
            "height": null,
            "justify_content": null,
            "justify_items": null,
            "left": null,
            "margin": null,
            "max_height": null,
            "max_width": null,
            "min_height": null,
            "min_width": null,
            "object_fit": null,
            "object_position": null,
            "order": null,
            "overflow": null,
            "overflow_x": null,
            "overflow_y": null,
            "padding": null,
            "right": null,
            "top": null,
            "visibility": null,
            "width": null
          }
        },
        "a2be5f7048bb45adbdbec077496bdee2": {
          "model_module": "@jupyter-widgets/controls",
          "model_name": "ButtonModel",
          "model_module_version": "1.5.0",
          "state": {
            "_dom_classes": [],
            "_model_module": "@jupyter-widgets/controls",
            "_model_module_version": "1.5.0",
            "_model_name": "ButtonModel",
            "_view_count": null,
            "_view_module": "@jupyter-widgets/controls",
            "_view_module_version": "1.5.0",
            "_view_name": "ButtonView",
            "button_style": "",
            "description": "Strike",
            "disabled": false,
            "icon": "",
            "layout": "IPY_MODEL_bd514ef61bbb4c63bb81576f76ca3bed",
            "style": "IPY_MODEL_1fda498f84b344c9a3f20342ba05c69e",
            "tooltip": ""
          }
        },
        "f0bf84dccc6f416ebd19e5c941c86947": {
          "model_module": "@jupyter-widgets/controls",
          "model_name": "ButtonModel",
          "model_module_version": "1.5.0",
          "state": {
            "_dom_classes": [],
            "_model_module": "@jupyter-widgets/controls",
            "_model_module_version": "1.5.0",
            "_model_name": "ButtonModel",
            "_view_count": null,
            "_view_module": "@jupyter-widgets/controls",
            "_view_module_version": "1.5.0",
            "_view_name": "ButtonView",
            "button_style": "",
            "description": "No Strike",
            "disabled": false,
            "icon": "",
            "layout": "IPY_MODEL_a1caaf17dd7941fdaba7e14138a62deb",
            "style": "IPY_MODEL_7b7c6d43f67349089c7035c2dcb25189",
            "tooltip": ""
          }
        },
        "a62476320a40491eb4705b31405c03d9": {
          "model_module": "@jupyter-widgets/base",
          "model_name": "LayoutModel",
          "model_module_version": "1.2.0",
          "state": {
            "_model_module": "@jupyter-widgets/base",
            "_model_module_version": "1.2.0",
            "_model_name": "LayoutModel",
            "_view_count": null,
            "_view_module": "@jupyter-widgets/base",
            "_view_module_version": "1.2.0",
            "_view_name": "LayoutView",
            "align_content": null,
            "align_items": null,
            "align_self": null,
            "border": null,
            "bottom": null,
            "display": null,
            "flex": null,
            "flex_flow": null,
            "grid_area": null,
            "grid_auto_columns": null,
            "grid_auto_flow": null,
            "grid_auto_rows": null,
            "grid_column": null,
            "grid_gap": null,
            "grid_row": null,
            "grid_template_areas": null,
            "grid_template_columns": null,
            "grid_template_rows": null,
            "height": null,
            "justify_content": null,
            "justify_items": null,
            "left": null,
            "margin": null,
            "max_height": null,
            "max_width": null,
            "min_height": null,
            "min_width": null,
            "object_fit": null,
            "object_position": null,
            "order": null,
            "overflow": null,
            "overflow_x": null,
            "overflow_y": null,
            "padding": null,
            "right": null,
            "top": null,
            "visibility": null,
            "width": null
          }
        },
        "e7727d631edd4cc696028f2de12f0036": {
          "model_module": "@jupyter-widgets/base",
          "model_name": "LayoutModel",
          "model_module_version": "1.2.0",
          "state": {
            "_model_module": "@jupyter-widgets/base",
            "_model_module_version": "1.2.0",
            "_model_name": "LayoutModel",
            "_view_count": null,
            "_view_module": "@jupyter-widgets/base",
            "_view_module_version": "1.2.0",
            "_view_name": "LayoutView",
            "align_content": null,
            "align_items": null,
            "align_self": null,
            "border": null,
            "bottom": null,
            "display": null,
            "flex": null,
            "flex_flow": null,
            "grid_area": null,
            "grid_auto_columns": null,
            "grid_auto_flow": null,
            "grid_auto_rows": null,
            "grid_column": null,
            "grid_gap": null,
            "grid_row": null,
            "grid_template_areas": null,
            "grid_template_columns": null,
            "grid_template_rows": null,
            "height": null,
            "justify_content": null,
            "justify_items": null,
            "left": null,
            "margin": null,
            "max_height": null,
            "max_width": null,
            "min_height": null,
            "min_width": null,
            "object_fit": null,
            "object_position": null,
            "order": null,
            "overflow": null,
            "overflow_x": null,
            "overflow_y": null,
            "padding": null,
            "right": null,
            "top": null,
            "visibility": null,
            "width": null
          }
        },
        "997fa74899304c0bab7584dfaacd30cb": {
          "model_module": "@jupyter-widgets/base",
          "model_name": "LayoutModel",
          "model_module_version": "1.2.0",
          "state": {
            "_model_module": "@jupyter-widgets/base",
            "_model_module_version": "1.2.0",
            "_model_name": "LayoutModel",
            "_view_count": null,
            "_view_module": "@jupyter-widgets/base",
            "_view_module_version": "1.2.0",
            "_view_name": "LayoutView",
            "align_content": null,
            "align_items": null,
            "align_self": null,
            "border": null,
            "bottom": null,
            "display": null,
            "flex": null,
            "flex_flow": null,
            "grid_area": null,
            "grid_auto_columns": null,
            "grid_auto_flow": null,
            "grid_auto_rows": null,
            "grid_column": null,
            "grid_gap": null,
            "grid_row": null,
            "grid_template_areas": null,
            "grid_template_columns": null,
            "grid_template_rows": null,
            "height": null,
            "justify_content": null,
            "justify_items": null,
            "left": null,
            "margin": null,
            "max_height": null,
            "max_width": null,
            "min_height": null,
            "min_width": null,
            "object_fit": null,
            "object_position": null,
            "order": null,
            "overflow": null,
            "overflow_x": null,
            "overflow_y": null,
            "padding": null,
            "right": null,
            "top": null,
            "visibility": null,
            "width": null
          }
        },
        "bd514ef61bbb4c63bb81576f76ca3bed": {
          "model_module": "@jupyter-widgets/base",
          "model_name": "LayoutModel",
          "model_module_version": "1.2.0",
          "state": {
            "_model_module": "@jupyter-widgets/base",
            "_model_module_version": "1.2.0",
            "_model_name": "LayoutModel",
            "_view_count": null,
            "_view_module": "@jupyter-widgets/base",
            "_view_module_version": "1.2.0",
            "_view_name": "LayoutView",
            "align_content": null,
            "align_items": null,
            "align_self": null,
            "border": null,
            "bottom": null,
            "display": null,
            "flex": null,
            "flex_flow": null,
            "grid_area": null,
            "grid_auto_columns": null,
            "grid_auto_flow": null,
            "grid_auto_rows": null,
            "grid_column": null,
            "grid_gap": null,
            "grid_row": null,
            "grid_template_areas": null,
            "grid_template_columns": null,
            "grid_template_rows": null,
            "height": null,
            "justify_content": null,
            "justify_items": null,
            "left": null,
            "margin": null,
            "max_height": null,
            "max_width": null,
            "min_height": null,
            "min_width": null,
            "object_fit": null,
            "object_position": null,
            "order": null,
            "overflow": null,
            "overflow_x": null,
            "overflow_y": null,
            "padding": null,
            "right": null,
            "top": null,
            "visibility": null,
            "width": null
          }
        },
        "1fda498f84b344c9a3f20342ba05c69e": {
          "model_module": "@jupyter-widgets/controls",
          "model_name": "ButtonStyleModel",
          "model_module_version": "1.5.0",
          "state": {
            "_model_module": "@jupyter-widgets/controls",
            "_model_module_version": "1.5.0",
            "_model_name": "ButtonStyleModel",
            "_view_count": null,
            "_view_module": "@jupyter-widgets/base",
            "_view_module_version": "1.2.0",
            "_view_name": "StyleView",
            "button_color": null,
            "font_weight": ""
          }
        },
        "a1caaf17dd7941fdaba7e14138a62deb": {
          "model_module": "@jupyter-widgets/base",
          "model_name": "LayoutModel",
          "model_module_version": "1.2.0",
          "state": {
            "_model_module": "@jupyter-widgets/base",
            "_model_module_version": "1.2.0",
            "_model_name": "LayoutModel",
            "_view_count": null,
            "_view_module": "@jupyter-widgets/base",
            "_view_module_version": "1.2.0",
            "_view_name": "LayoutView",
            "align_content": null,
            "align_items": null,
            "align_self": null,
            "border": null,
            "bottom": null,
            "display": null,
            "flex": null,
            "flex_flow": null,
            "grid_area": null,
            "grid_auto_columns": null,
            "grid_auto_flow": null,
            "grid_auto_rows": null,
            "grid_column": null,
            "grid_gap": null,
            "grid_row": null,
            "grid_template_areas": null,
            "grid_template_columns": null,
            "grid_template_rows": null,
            "height": null,
            "justify_content": null,
            "justify_items": null,
            "left": null,
            "margin": null,
            "max_height": null,
            "max_width": null,
            "min_height": null,
            "min_width": null,
            "object_fit": null,
            "object_position": null,
            "order": null,
            "overflow": null,
            "overflow_x": null,
            "overflow_y": null,
            "padding": null,
            "right": null,
            "top": null,
            "visibility": null,
            "width": null
          }
        },
        "7b7c6d43f67349089c7035c2dcb25189": {
          "model_module": "@jupyter-widgets/controls",
          "model_name": "ButtonStyleModel",
          "model_module_version": "1.5.0",
          "state": {
            "_model_module": "@jupyter-widgets/controls",
            "_model_module_version": "1.5.0",
            "_model_name": "ButtonStyleModel",
            "_view_count": null,
            "_view_module": "@jupyter-widgets/base",
            "_view_module_version": "1.2.0",
            "_view_name": "StyleView",
            "button_color": null,
            "font_weight": ""
          }
        },
        "f8068f5bcdb64d43b3a92bb875368a55": {
          "model_module": "@jupyter-widgets/base",
          "model_name": "LayoutModel",
          "model_module_version": "1.2.0",
          "state": {
            "_model_module": "@jupyter-widgets/base",
            "_model_module_version": "1.2.0",
            "_model_name": "LayoutModel",
            "_view_count": null,
            "_view_module": "@jupyter-widgets/base",
            "_view_module_version": "1.2.0",
            "_view_name": "LayoutView",
            "align_content": null,
            "align_items": null,
            "align_self": null,
            "border": null,
            "bottom": null,
            "display": null,
            "flex": null,
            "flex_flow": null,
            "grid_area": null,
            "grid_auto_columns": null,
            "grid_auto_flow": null,
            "grid_auto_rows": null,
            "grid_column": null,
            "grid_gap": null,
            "grid_row": null,
            "grid_template_areas": null,
            "grid_template_columns": null,
            "grid_template_rows": null,
            "height": null,
            "justify_content": null,
            "justify_items": null,
            "left": null,
            "margin": null,
            "max_height": null,
            "max_width": null,
            "min_height": null,
            "min_width": null,
            "object_fit": null,
            "object_position": null,
            "order": null,
            "overflow": null,
            "overflow_x": null,
            "overflow_y": null,
            "padding": null,
            "right": null,
            "top": null,
            "visibility": null,
            "width": null
          }
        },
        "60c90b510d2d48a8a738841b9ec5ff42": {
          "model_module": "jupyter-matplotlib",
          "model_name": "ToolbarModel",
          "model_module_version": "^0.11",
          "state": {
            "_current_action": "",
            "_dom_classes": [],
            "_model_module": "jupyter-matplotlib",
            "_model_module_version": "^0.11",
            "_model_name": "ToolbarModel",
            "_view_count": null,
            "_view_module": "jupyter-matplotlib",
            "_view_module_version": "^0.11",
            "_view_name": "ToolbarView",
            "button_style": "",
            "collapsed": true,
            "layout": "IPY_MODEL_3ec14ceb8bda48f78d2be56eb48e5980",
            "orientation": "vertical",
            "toolitems": [
              [
                "Home",
                "Reset original view",
                "home",
                "home"
              ],
              [
                "Back",
                "Back to previous view",
                "arrow-left",
                "back"
              ],
              [
                "Forward",
                "Forward to next view",
                "arrow-right",
                "forward"
              ],
              [
                "Pan",
                "Left button pans, Right button zooms\nx/y fixes axis, CTRL fixes aspect",
                "arrows",
                "pan"
              ],
              [
                "Zoom",
                "Zoom to rectangle\nx/y fixes axis",
                "square-o",
                "zoom"
              ],
              [
                "Download",
                "Download plot",
                "floppy-o",
                "save_figure"
              ]
            ]
          }
        },
        "3ec14ceb8bda48f78d2be56eb48e5980": {
          "model_module": "@jupyter-widgets/base",
          "model_name": "LayoutModel",
          "model_module_version": "1.2.0",
          "state": {
            "_model_module": "@jupyter-widgets/base",
            "_model_module_version": "1.2.0",
            "_model_name": "LayoutModel",
            "_view_count": null,
            "_view_module": "@jupyter-widgets/base",
            "_view_module_version": "1.2.0",
            "_view_name": "LayoutView",
            "align_content": null,
            "align_items": null,
            "align_self": null,
            "border": null,
            "bottom": null,
            "display": null,
            "flex": null,
            "flex_flow": null,
            "grid_area": null,
            "grid_auto_columns": null,
            "grid_auto_flow": null,
            "grid_auto_rows": null,
            "grid_column": null,
            "grid_gap": null,
            "grid_row": null,
            "grid_template_areas": null,
            "grid_template_columns": null,
            "grid_template_rows": null,
            "height": null,
            "justify_content": null,
            "justify_items": null,
            "left": null,
            "margin": null,
            "max_height": null,
            "max_width": null,
            "min_height": null,
            "min_width": null,
            "object_fit": null,
            "object_position": null,
            "order": null,
            "overflow": null,
            "overflow_x": null,
            "overflow_y": null,
            "padding": null,
            "right": null,
            "top": null,
            "visibility": null,
            "width": null
          }
        },
        "7e7b3271b7e74e06a6566aa4a20473cf": {
          "model_module": "jupyter-matplotlib",
          "model_name": "MPLCanvasModel",
          "model_module_version": "^0.11",
          "state": {
            "_cursor": "default",
            "_data_url": "data:image/png;base64,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",
            "_dom_classes": [],
            "_figure_label": "Figure 3",
            "_image_mode": "full",
            "_message": "",
            "_model_module": "jupyter-matplotlib",
            "_model_module_version": "^0.11",
            "_model_name": "MPLCanvasModel",
            "_rubberband_height": 0,
            "_rubberband_width": 0,
            "_rubberband_x": 0,
            "_rubberband_y": 0,
            "_size": [
              400,
              400
            ],
            "_view_count": null,
            "_view_module": "jupyter-matplotlib",
            "_view_module_version": "^0.11",
            "_view_name": "MPLCanvasView",
            "capture_scroll": false,
            "footer_visible": false,
            "header_visible": false,
            "layout": "IPY_MODEL_d6ea93d34c8e4298aa66881f14ba4d1f",
            "pan_zoom_throttle": 33,
            "resizable": false,
            "toolbar": "IPY_MODEL_ab1e7502988b4a6cb436f5af4a630701",
            "toolbar_position": "left",
            "toolbar_visible": false
          }
        },
        "d6ea93d34c8e4298aa66881f14ba4d1f": {
          "model_module": "@jupyter-widgets/base",
          "model_name": "LayoutModel",
          "model_module_version": "1.2.0",
          "state": {
            "_model_module": "@jupyter-widgets/base",
            "_model_module_version": "1.2.0",
            "_model_name": "LayoutModel",
            "_view_count": null,
            "_view_module": "@jupyter-widgets/base",
            "_view_module_version": "1.2.0",
            "_view_name": "LayoutView",
            "align_content": null,
            "align_items": null,
            "align_self": null,
            "border": null,
            "bottom": null,
            "display": null,
            "flex": null,
            "flex_flow": null,
            "grid_area": null,
            "grid_auto_columns": null,
            "grid_auto_flow": null,
            "grid_auto_rows": null,
            "grid_column": null,
            "grid_gap": null,
            "grid_row": null,
            "grid_template_areas": null,
            "grid_template_columns": null,
            "grid_template_rows": null,
            "height": null,
            "justify_content": null,
            "justify_items": null,
            "left": null,
            "margin": null,
            "max_height": null,
            "max_width": null,
            "min_height": null,
            "min_width": null,
            "object_fit": null,
            "object_position": null,
            "order": null,
            "overflow": null,
            "overflow_x": null,
            "overflow_y": null,
            "padding": null,
            "right": null,
            "top": null,
            "visibility": null,
            "width": null
          }
        },
        "ab1e7502988b4a6cb436f5af4a630701": {
          "model_module": "jupyter-matplotlib",
          "model_name": "ToolbarModel",
          "model_module_version": "^0.11",
          "state": {
            "_current_action": "",
            "_dom_classes": [],
            "_model_module": "jupyter-matplotlib",
            "_model_module_version": "^0.11",
            "_model_name": "ToolbarModel",
            "_view_count": null,
            "_view_module": "jupyter-matplotlib",
            "_view_module_version": "^0.11",
            "_view_name": "ToolbarView",
            "button_style": "",
            "collapsed": true,
            "layout": "IPY_MODEL_22c07b0c27f24c96953392332e62e0c5",
            "orientation": "vertical",
            "toolitems": [
              [
                "Home",
                "Reset original view",
                "home",
                "home"
              ],
              [
                "Back",
                "Back to previous view",
                "arrow-left",
                "back"
              ],
              [
                "Forward",
                "Forward to next view",
                "arrow-right",
                "forward"
              ],
              [
                "Pan",
                "Left button pans, Right button zooms\nx/y fixes axis, CTRL fixes aspect",
                "arrows",
                "pan"
              ],
              [
                "Zoom",
                "Zoom to rectangle\nx/y fixes axis",
                "square-o",
                "zoom"
              ],
              [
                "Download",
                "Download plot",
                "floppy-o",
                "save_figure"
              ]
            ]
          }
        },
        "22c07b0c27f24c96953392332e62e0c5": {
          "model_module": "@jupyter-widgets/base",
          "model_name": "LayoutModel",
          "model_module_version": "1.2.0",
          "state": {
            "_model_module": "@jupyter-widgets/base",
            "_model_module_version": "1.2.0",
            "_model_name": "LayoutModel",
            "_view_count": null,
            "_view_module": "@jupyter-widgets/base",
            "_view_module_version": "1.2.0",
            "_view_name": "LayoutView",
            "align_content": null,
            "align_items": null,
            "align_self": null,
            "border": null,
            "bottom": null,
            "display": null,
            "flex": null,
            "flex_flow": null,
            "grid_area": null,
            "grid_auto_columns": null,
            "grid_auto_flow": null,
            "grid_auto_rows": null,
            "grid_column": null,
            "grid_gap": null,
            "grid_row": null,
            "grid_template_areas": null,
            "grid_template_columns": null,
            "grid_template_rows": null,
            "height": null,
            "justify_content": null,
            "justify_items": null,
            "left": null,
            "margin": null,
            "max_height": null,
            "max_width": null,
            "min_height": null,
            "min_width": null,
            "object_fit": null,
            "object_position": null,
            "order": null,
            "overflow": null,
            "overflow_x": null,
            "overflow_y": null,
            "padding": null,
            "right": null,
            "top": null,
            "visibility": null,
            "width": null
          }
        },
        "9d0677da40474b24adb597bec03f3ac5": {
          "model_module": "@jupyter-widgets/controls",
          "model_name": "VBoxModel",
          "model_module_version": "1.5.0",
          "state": {
            "_dom_classes": [],
            "_model_module": "@jupyter-widgets/controls",
            "_model_module_version": "1.5.0",
            "_model_name": "VBoxModel",
            "_view_count": null,
            "_view_module": "@jupyter-widgets/controls",
            "_view_module_version": "1.5.0",
            "_view_name": "VBoxView",
            "box_style": "",
            "children": [
              "IPY_MODEL_f7a36f87293a42f4a2f5951786185cc3"
            ],
            "layout": "IPY_MODEL_0e48f3a0a75e4cf7a80ebde50ff7725c"
          }
        },
        "f7a36f87293a42f4a2f5951786185cc3": {
          "model_module": "@jupyter-widgets/controls",
          "model_name": "VBoxModel",
          "model_module_version": "1.5.0",
          "state": {
            "_dom_classes": [],
            "_model_module": "@jupyter-widgets/controls",
            "_model_module_version": "1.5.0",
            "_model_name": "VBoxModel",
            "_view_count": null,
            "_view_module": "@jupyter-widgets/controls",
            "_view_module_version": "1.5.0",
            "_view_name": "VBoxView",
            "box_style": "",
            "children": [
              "IPY_MODEL_5b532ea2fd1b4e9fa0337d0d844798b6",
              "IPY_MODEL_3320a33ff75d48f6ade6da19334161bb",
              "IPY_MODEL_00960e180ac14920bd03bb5d1c9da768"
            ],
            "layout": "IPY_MODEL_f0e84b72789241ebb674ff2ce05ce87d"
          }
        },
        "0e48f3a0a75e4cf7a80ebde50ff7725c": {
          "model_module": "@jupyter-widgets/base",
          "model_name": "LayoutModel",
          "model_module_version": "1.2.0",
          "state": {
            "_model_module": "@jupyter-widgets/base",
            "_model_module_version": "1.2.0",
            "_model_name": "LayoutModel",
            "_view_count": null,
            "_view_module": "@jupyter-widgets/base",
            "_view_module_version": "1.2.0",
            "_view_name": "LayoutView",
            "align_content": null,
            "align_items": null,
            "align_self": null,
            "border": null,
            "bottom": null,
            "display": null,
            "flex": null,
            "flex_flow": null,
            "grid_area": null,
            "grid_auto_columns": null,
            "grid_auto_flow": null,
            "grid_auto_rows": null,
            "grid_column": null,
            "grid_gap": null,
            "grid_row": null,
            "grid_template_areas": null,
            "grid_template_columns": null,
            "grid_template_rows": null,
            "height": null,
            "justify_content": null,
            "justify_items": null,
            "left": null,
            "margin": null,
            "max_height": null,
            "max_width": null,
            "min_height": null,
            "min_width": null,
            "object_fit": null,
            "object_position": null,
            "order": null,
            "overflow": null,
            "overflow_x": null,
            "overflow_y": null,
            "padding": null,
            "right": null,
            "top": null,
            "visibility": null,
            "width": null
          }
        },
        "5b532ea2fd1b4e9fa0337d0d844798b6": {
          "model_module": "@jupyter-widgets/controls",
          "model_name": "HBoxModel",
          "model_module_version": "1.5.0",
          "state": {
            "_dom_classes": [],
            "_model_module": "@jupyter-widgets/controls",
            "_model_module_version": "1.5.0",
            "_model_name": "HBoxModel",
            "_view_count": null,
            "_view_module": "@jupyter-widgets/controls",
            "_view_module_version": "1.5.0",
            "_view_name": "HBoxView",
            "box_style": "",
            "children": [
              "IPY_MODEL_cab004cf0e60460eb48e61ea0c1c480e",
              "IPY_MODEL_321c74c99a664ad28494e6642b35e0c1",
              "IPY_MODEL_4de9aa451a3e4c8fa8d383c3e3bddb17"
            ],
            "layout": "IPY_MODEL_09aad16841bb46d6a4d51d5028bc0bd7"
          }
        },
        "3320a33ff75d48f6ade6da19334161bb": {
          "model_module": "@jupyter-widgets/controls",
          "model_name": "HBoxModel",
          "model_module_version": "1.5.0",
          "state": {
            "_dom_classes": [],
            "_model_module": "@jupyter-widgets/controls",
            "_model_module_version": "1.5.0",
            "_model_name": "HBoxModel",
            "_view_count": null,
            "_view_module": "@jupyter-widgets/controls",
            "_view_module_version": "1.5.0",
            "_view_name": "HBoxView",
            "box_style": "",
            "children": [
              "IPY_MODEL_89d730b1055640c7b3463b1d6ff8528d",
              "IPY_MODEL_53afab2ba79c4bf39cb1968255c8fdd6"
            ],
            "layout": "IPY_MODEL_1388a0dac72b4e1bb9b36c7e26e22aa0"
          }
        },
        "00960e180ac14920bd03bb5d1c9da768": {
          "model_module": "@jupyter-widgets/controls",
          "model_name": "LabelModel",
          "model_module_version": "1.5.0",
          "state": {
            "_dom_classes": [],
            "_model_module": "@jupyter-widgets/controls",
            "_model_module_version": "1.5.0",
            "_model_name": "LabelModel",
            "_view_count": null,
            "_view_module": "@jupyter-widgets/controls",
            "_view_module_version": "1.5.0",
            "_view_name": "LabelView",
            "description": "",
            "description_tooltip": null,
            "layout": "IPY_MODEL_b3210f74d07c4f40b5aab9e9ec619a5e",
            "placeholder": "​",
            "style": "IPY_MODEL_3655d3fd38bf4b939fb21bacbc60c18a",
            "value": "Thanks for your feedback!"
          }
        },
        "f0e84b72789241ebb674ff2ce05ce87d": {
          "model_module": "@jupyter-widgets/base",
          "model_name": "LayoutModel",
          "model_module_version": "1.2.0",
          "state": {
            "_model_module": "@jupyter-widgets/base",
            "_model_module_version": "1.2.0",
            "_model_name": "LayoutModel",
            "_view_count": null,
            "_view_module": "@jupyter-widgets/base",
            "_view_module_version": "1.2.0",
            "_view_name": "LayoutView",
            "align_content": null,
            "align_items": null,
            "align_self": null,
            "border": null,
            "bottom": null,
            "display": null,
            "flex": null,
            "flex_flow": null,
            "grid_area": null,
            "grid_auto_columns": null,
            "grid_auto_flow": null,
            "grid_auto_rows": null,
            "grid_column": null,
            "grid_gap": null,
            "grid_row": null,
            "grid_template_areas": null,
            "grid_template_columns": null,
            "grid_template_rows": null,
            "height": null,
            "justify_content": null,
            "justify_items": null,
            "left": null,
            "margin": null,
            "max_height": null,
            "max_width": null,
            "min_height": null,
            "min_width": null,
            "object_fit": null,
            "object_position": null,
            "order": null,
            "overflow": null,
            "overflow_x": null,
            "overflow_y": null,
            "padding": null,
            "right": null,
            "top": null,
            "visibility": null,
            "width": null
          }
        },
        "cab004cf0e60460eb48e61ea0c1c480e": {
          "model_module": "@jupyter-widgets/controls",
          "model_name": "ButtonModel",
          "model_module_version": "1.5.0",
          "state": {
            "_dom_classes": [
              "happy"
            ],
            "_model_module": "@jupyter-widgets/controls",
            "_model_module_version": "1.5.0",
            "_model_name": "ButtonModel",
            "_view_count": null,
            "_view_module": "@jupyter-widgets/controls",
            "_view_module_version": "1.5.0",
            "_view_name": "ButtonView",
            "button_style": "",
            "description": "🙂",
            "disabled": false,
            "icon": "",
            "layout": "IPY_MODEL_cb2c8fe2a6544891a290f892845aa6bd",
            "style": "IPY_MODEL_a8ccb59eea454565a01d85377842c735",
            "tooltip": "happy"
          }
        },
        "321c74c99a664ad28494e6642b35e0c1": {
          "model_module": "@jupyter-widgets/controls",
          "model_name": "ButtonModel",
          "model_module_version": "1.5.0",
          "state": {
            "_dom_classes": [
              "medium"
            ],
            "_model_module": "@jupyter-widgets/controls",
            "_model_module_version": "1.5.0",
            "_model_name": "ButtonModel",
            "_view_count": null,
            "_view_module": "@jupyter-widgets/controls",
            "_view_module_version": "1.5.0",
            "_view_name": "ButtonView",
            "button_style": "",
            "description": "😐",
            "disabled": false,
            "icon": "",
            "layout": "IPY_MODEL_d386dd5aef224df98a0563473b2ace35",
            "style": "IPY_MODEL_106fdfa4318040c4a251e160f6169f4f",
            "tooltip": "medium"
          }
        },
        "4de9aa451a3e4c8fa8d383c3e3bddb17": {
          "model_module": "@jupyter-widgets/controls",
          "model_name": "ButtonModel",
          "model_module_version": "1.5.0",
          "state": {
            "_dom_classes": [
              "sad"
            ],
            "_model_module": "@jupyter-widgets/controls",
            "_model_module_version": "1.5.0",
            "_model_name": "ButtonModel",
            "_view_count": null,
            "_view_module": "@jupyter-widgets/controls",
            "_view_module_version": "1.5.0",
            "_view_name": "ButtonView",
            "button_style": "",
            "description": "🙁",
            "disabled": false,
            "icon": "",
            "layout": "IPY_MODEL_ec7d95c078564e3b8af6430f477f38be",
            "style": "IPY_MODEL_e4748f824e554e7db5e1ae06c7013dcb",
            "tooltip": "sad"
          }
        },
        "09aad16841bb46d6a4d51d5028bc0bd7": {
          "model_module": "@jupyter-widgets/base",
          "model_name": "LayoutModel",
          "model_module_version": "1.2.0",
          "state": {
            "_model_module": "@jupyter-widgets/base",
            "_model_module_version": "1.2.0",
            "_model_name": "LayoutModel",
            "_view_count": null,
            "_view_module": "@jupyter-widgets/base",
            "_view_module_version": "1.2.0",
            "_view_name": "LayoutView",
            "align_content": null,
            "align_items": null,
            "align_self": null,
            "border": null,
            "bottom": null,
            "display": null,
            "flex": null,
            "flex_flow": null,
            "grid_area": null,
            "grid_auto_columns": null,
            "grid_auto_flow": null,
            "grid_auto_rows": null,
            "grid_column": null,
            "grid_gap": null,
            "grid_row": null,
            "grid_template_areas": null,
            "grid_template_columns": null,
            "grid_template_rows": null,
            "height": null,
            "justify_content": null,
            "justify_items": null,
            "left": null,
            "margin": null,
            "max_height": null,
            "max_width": null,
            "min_height": null,
            "min_width": null,
            "object_fit": null,
            "object_position": null,
            "order": null,
            "overflow": null,
            "overflow_x": null,
            "overflow_y": null,
            "padding": null,
            "right": null,
            "top": null,
            "visibility": null,
            "width": null
          }
        },
        "89d730b1055640c7b3463b1d6ff8528d": {
          "model_module": "@jupyter-widgets/controls",
          "model_name": "TextareaModel",
          "model_module_version": "1.5.0",
          "state": {
            "_dom_classes": [],
            "_model_module": "@jupyter-widgets/controls",
            "_model_module_version": "1.5.0",
            "_model_name": "TextareaModel",
            "_view_count": null,
            "_view_module": "@jupyter-widgets/controls",
            "_view_module_version": "1.5.0",
            "_view_name": "TextareaView",
            "continuous_update": true,
            "description": "",
            "description_tooltip": null,
            "disabled": false,
            "layout": "IPY_MODEL_78c46b6c220a457aad9673238cb8fcf5",
            "placeholder": "We want your feedback!",
            "rows": null,
            "style": "IPY_MODEL_21a4720cac6448ba815c513e78fea4ef",
            "value": ""
          }
        },
        "53afab2ba79c4bf39cb1968255c8fdd6": {
          "model_module": "@jupyter-widgets/controls",
          "model_name": "ButtonModel",
          "model_module_version": "1.5.0",
          "state": {
            "_dom_classes": [],
            "_model_module": "@jupyter-widgets/controls",
            "_model_module_version": "1.5.0",
            "_model_name": "ButtonModel",
            "_view_count": null,
            "_view_module": "@jupyter-widgets/controls",
            "_view_module_version": "1.5.0",
            "_view_name": "ButtonView",
            "button_style": "",
            "description": "Submit",
            "disabled": false,
            "icon": "",
            "layout": "IPY_MODEL_70c767f348074540b4947351f8fe6a07",
            "style": "IPY_MODEL_aa2211cb737f411aa62fbc778a439b6c",
            "tooltip": ""
          }
        },
        "1388a0dac72b4e1bb9b36c7e26e22aa0": {
          "model_module": "@jupyter-widgets/base",
          "model_name": "LayoutModel",
          "model_module_version": "1.2.0",
          "state": {
            "_model_module": "@jupyter-widgets/base",
            "_model_module_version": "1.2.0",
            "_model_name": "LayoutModel",
            "_view_count": null,
            "_view_module": "@jupyter-widgets/base",
            "_view_module_version": "1.2.0",
            "_view_name": "LayoutView",
            "align_content": null,
            "align_items": null,
            "align_self": null,
            "border": null,
            "bottom": null,
            "display": "none",
            "flex": null,
            "flex_flow": null,
            "grid_area": null,
            "grid_auto_columns": null,
            "grid_auto_flow": null,
            "grid_auto_rows": null,
            "grid_column": null,
            "grid_gap": null,
            "grid_row": null,
            "grid_template_areas": null,
            "grid_template_columns": null,
            "grid_template_rows": null,
            "height": null,
            "justify_content": null,
            "justify_items": null,
            "left": null,
            "margin": null,
            "max_height": null,
            "max_width": null,
            "min_height": null,
            "min_width": null,
            "object_fit": null,
            "object_position": null,
            "order": null,
            "overflow": null,
            "overflow_x": null,
            "overflow_y": null,
            "padding": null,
            "right": null,
            "top": null,
            "visibility": null,
            "width": null
          }
        },
        "b3210f74d07c4f40b5aab9e9ec619a5e": {
          "model_module": "@jupyter-widgets/base",
          "model_name": "LayoutModel",
          "model_module_version": "1.2.0",
          "state": {
            "_model_module": "@jupyter-widgets/base",
            "_model_module_version": "1.2.0",
            "_model_name": "LayoutModel",
            "_view_count": null,
            "_view_module": "@jupyter-widgets/base",
            "_view_module_version": "1.2.0",
            "_view_name": "LayoutView",
            "align_content": null,
            "align_items": null,
            "align_self": null,
            "border": null,
            "bottom": null,
            "display": "none",
            "flex": null,
            "flex_flow": null,
            "grid_area": null,
            "grid_auto_columns": null,
            "grid_auto_flow": null,
            "grid_auto_rows": null,
            "grid_column": null,
            "grid_gap": null,
            "grid_row": null,
            "grid_template_areas": null,
            "grid_template_columns": null,
            "grid_template_rows": null,
            "height": null,
            "justify_content": null,
            "justify_items": null,
            "left": null,
            "margin": null,
            "max_height": null,
            "max_width": null,
            "min_height": null,
            "min_width": null,
            "object_fit": null,
            "object_position": null,
            "order": null,
            "overflow": null,
            "overflow_x": null,
            "overflow_y": null,
            "padding": null,
            "right": null,
            "top": null,
            "visibility": null,
            "width": null
          }
        },
        "3655d3fd38bf4b939fb21bacbc60c18a": {
          "model_module": "@jupyter-widgets/controls",
          "model_name": "DescriptionStyleModel",
          "model_module_version": "1.5.0",
          "state": {
            "_model_module": "@jupyter-widgets/controls",
            "_model_module_version": "1.5.0",
            "_model_name": "DescriptionStyleModel",
            "_view_count": null,
            "_view_module": "@jupyter-widgets/base",
            "_view_module_version": "1.2.0",
            "_view_name": "StyleView",
            "description_width": ""
          }
        },
        "cb2c8fe2a6544891a290f892845aa6bd": {
          "model_module": "@jupyter-widgets/base",
          "model_name": "LayoutModel",
          "model_module_version": "1.2.0",
          "state": {
            "_model_module": "@jupyter-widgets/base",
            "_model_module_version": "1.2.0",
            "_model_name": "LayoutModel",
            "_view_count": null,
            "_view_module": "@jupyter-widgets/base",
            "_view_module_version": "1.2.0",
            "_view_name": "LayoutView",
            "align_content": null,
            "align_items": null,
            "align_self": null,
            "border": null,
            "bottom": null,
            "display": null,
            "flex": null,
            "flex_flow": null,
            "grid_area": null,
            "grid_auto_columns": null,
            "grid_auto_flow": null,
            "grid_auto_rows": null,
            "grid_column": null,
            "grid_gap": null,
            "grid_row": null,
            "grid_template_areas": null,
            "grid_template_columns": null,
            "grid_template_rows": null,
            "height": "auto",
            "justify_content": null,
            "justify_items": null,
            "left": null,
            "margin": null,
            "max_height": null,
            "max_width": null,
            "min_height": null,
            "min_width": null,
            "object_fit": null,
            "object_position": null,
            "order": null,
            "overflow": null,
            "overflow_x": null,
            "overflow_y": null,
            "padding": "0.5em",
            "right": null,
            "top": null,
            "visibility": null,
            "width": "auto"
          }
        },
        "a8ccb59eea454565a01d85377842c735": {
          "model_module": "@jupyter-widgets/controls",
          "model_name": "ButtonStyleModel",
          "model_module_version": "1.5.0",
          "state": {
            "_model_module": "@jupyter-widgets/controls",
            "_model_module_version": "1.5.0",
            "_model_name": "ButtonStyleModel",
            "_view_count": null,
            "_view_module": "@jupyter-widgets/base",
            "_view_module_version": "1.2.0",
            "_view_name": "StyleView",
            "button_color": "#aaffaa",
            "font_weight": ""
          }
        },
        "d386dd5aef224df98a0563473b2ace35": {
          "model_module": "@jupyter-widgets/base",
          "model_name": "LayoutModel",
          "model_module_version": "1.2.0",
          "state": {
            "_model_module": "@jupyter-widgets/base",
            "_model_module_version": "1.2.0",
            "_model_name": "LayoutModel",
            "_view_count": null,
            "_view_module": "@jupyter-widgets/base",
            "_view_module_version": "1.2.0",
            "_view_name": "LayoutView",
            "align_content": null,
            "align_items": null,
            "align_self": null,
            "border": null,
            "bottom": null,
            "display": null,
            "flex": null,
            "flex_flow": null,
            "grid_area": null,
            "grid_auto_columns": null,
            "grid_auto_flow": null,
            "grid_auto_rows": null,
            "grid_column": null,
            "grid_gap": null,
            "grid_row": null,
            "grid_template_areas": null,
            "grid_template_columns": null,
            "grid_template_rows": null,
            "height": "auto",
            "justify_content": null,
            "justify_items": null,
            "left": null,
            "margin": null,
            "max_height": null,
            "max_width": null,
            "min_height": null,
            "min_width": null,
            "object_fit": null,
            "object_position": null,
            "order": null,
            "overflow": null,
            "overflow_x": null,
            "overflow_y": null,
            "padding": "0.5em",
            "right": null,
            "top": null,
            "visibility": null,
            "width": "auto"
          }
        },
        "106fdfa4318040c4a251e160f6169f4f": {
          "model_module": "@jupyter-widgets/controls",
          "model_name": "ButtonStyleModel",
          "model_module_version": "1.5.0",
          "state": {
            "_model_module": "@jupyter-widgets/controls",
            "_model_module_version": "1.5.0",
            "_model_name": "ButtonStyleModel",
            "_view_count": null,
            "_view_module": "@jupyter-widgets/base",
            "_view_module_version": "1.2.0",
            "_view_name": "StyleView",
            "button_color": "#dddd77",
            "font_weight": ""
          }
        },
        "ec7d95c078564e3b8af6430f477f38be": {
          "model_module": "@jupyter-widgets/base",
          "model_name": "LayoutModel",
          "model_module_version": "1.2.0",
          "state": {
            "_model_module": "@jupyter-widgets/base",
            "_model_module_version": "1.2.0",
            "_model_name": "LayoutModel",
            "_view_count": null,
            "_view_module": "@jupyter-widgets/base",
            "_view_module_version": "1.2.0",
            "_view_name": "LayoutView",
            "align_content": null,
            "align_items": null,
            "align_self": null,
            "border": null,
            "bottom": null,
            "display": null,
            "flex": null,
            "flex_flow": null,
            "grid_area": null,
            "grid_auto_columns": null,
            "grid_auto_flow": null,
            "grid_auto_rows": null,
            "grid_column": null,
            "grid_gap": null,
            "grid_row": null,
            "grid_template_areas": null,
            "grid_template_columns": null,
            "grid_template_rows": null,
            "height": "auto",
            "justify_content": null,
            "justify_items": null,
            "left": null,
            "margin": null,
            "max_height": null,
            "max_width": null,
            "min_height": null,
            "min_width": null,
            "object_fit": null,
            "object_position": null,
            "order": null,
            "overflow": null,
            "overflow_x": null,
            "overflow_y": null,
            "padding": "0.5em",
            "right": null,
            "top": null,
            "visibility": null,
            "width": "auto"
          }
        },
        "e4748f824e554e7db5e1ae06c7013dcb": {
          "model_module": "@jupyter-widgets/controls",
          "model_name": "ButtonStyleModel",
          "model_module_version": "1.5.0",
          "state": {
            "_model_module": "@jupyter-widgets/controls",
            "_model_module_version": "1.5.0",
            "_model_name": "ButtonStyleModel",
            "_view_count": null,
            "_view_module": "@jupyter-widgets/base",
            "_view_module_version": "1.2.0",
            "_view_name": "StyleView",
            "button_color": "#ffaaaa",
            "font_weight": ""
          }
        },
        "78c46b6c220a457aad9673238cb8fcf5": {
          "model_module": "@jupyter-widgets/base",
          "model_name": "LayoutModel",
          "model_module_version": "1.2.0",
          "state": {
            "_model_module": "@jupyter-widgets/base",
            "_model_module_version": "1.2.0",
            "_model_name": "LayoutModel",
            "_view_count": null,
            "_view_module": "@jupyter-widgets/base",
            "_view_module_version": "1.2.0",
            "_view_name": "LayoutView",
            "align_content": null,
            "align_items": null,
            "align_self": null,
            "border": null,
            "bottom": null,
            "display": null,
            "flex": null,
            "flex_flow": null,
            "grid_area": null,
            "grid_auto_columns": null,
            "grid_auto_flow": null,
            "grid_auto_rows": null,
            "grid_column": null,
            "grid_gap": null,
            "grid_row": null,
            "grid_template_areas": null,
            "grid_template_columns": null,
            "grid_template_rows": null,
            "height": "auto",
            "justify_content": null,
            "justify_items": null,
            "left": null,
            "margin": null,
            "max_height": null,
            "max_width": null,
            "min_height": null,
            "min_width": null,
            "object_fit": null,
            "object_position": null,
            "order": null,
            "overflow": null,
            "overflow_x": null,
            "overflow_y": null,
            "padding": null,
            "right": null,
            "top": null,
            "visibility": null,
            "width": "auto"
          }
        },
        "21a4720cac6448ba815c513e78fea4ef": {
          "model_module": "@jupyter-widgets/controls",
          "model_name": "DescriptionStyleModel",
          "model_module_version": "1.5.0",
          "state": {
            "_model_module": "@jupyter-widgets/controls",
            "_model_module_version": "1.5.0",
            "_model_name": "DescriptionStyleModel",
            "_view_count": null,
            "_view_module": "@jupyter-widgets/base",
            "_view_module_version": "1.2.0",
            "_view_name": "StyleView",
            "description_width": ""
          }
        },
        "70c767f348074540b4947351f8fe6a07": {
          "model_module": "@jupyter-widgets/base",
          "model_name": "LayoutModel",
          "model_module_version": "1.2.0",
          "state": {
            "_model_module": "@jupyter-widgets/base",
            "_model_module_version": "1.2.0",
            "_model_name": "LayoutModel",
            "_view_count": null,
            "_view_module": "@jupyter-widgets/base",
            "_view_module_version": "1.2.0",
            "_view_name": "LayoutView",
            "align_content": null,
            "align_items": null,
            "align_self": null,
            "border": null,
            "bottom": null,
            "display": null,
            "flex": null,
            "flex_flow": null,
            "grid_area": null,
            "grid_auto_columns": null,
            "grid_auto_flow": null,
            "grid_auto_rows": null,
            "grid_column": null,
            "grid_gap": null,
            "grid_row": null,
            "grid_template_areas": null,
            "grid_template_columns": null,
            "grid_template_rows": null,
            "height": "auto",
            "justify_content": null,
            "justify_items": null,
            "left": null,
            "margin": null,
            "max_height": null,
            "max_width": null,
            "min_height": null,
            "min_width": null,
            "object_fit": null,
            "object_position": null,
            "order": null,
            "overflow": null,
            "overflow_x": null,
            "overflow_y": null,
            "padding": null,
            "right": null,
            "top": null,
            "visibility": null,
            "width": "auto"
          }
        },
        "aa2211cb737f411aa62fbc778a439b6c": {
          "model_module": "@jupyter-widgets/controls",
          "model_name": "ButtonStyleModel",
          "model_module_version": "1.5.0",
          "state": {
            "_model_module": "@jupyter-widgets/controls",
            "_model_module_version": "1.5.0",
            "_model_name": "ButtonStyleModel",
            "_view_count": null,
            "_view_module": "@jupyter-widgets/base",
            "_view_module_version": "1.2.0",
            "_view_name": "StyleView",
            "button_color": null,
            "font_weight": ""
          }
        }
      }
    }
  },
  "nbformat": 4,
  "nbformat_minor": 0
}