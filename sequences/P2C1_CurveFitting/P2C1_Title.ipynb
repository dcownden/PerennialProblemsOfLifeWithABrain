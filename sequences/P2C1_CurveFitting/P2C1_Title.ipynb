{
  "nbformat": 4,
  "nbformat_minor": 0,
  "metadata": {
    "colab": {
      "provenance": [],
      "authorship_tag": "ABX9TyMDIgO2qtX8g6qaeLoF+yPO",
      "include_colab_link": true
    },
    "kernelspec": {
      "name": "python3",
      "display_name": "Python 3"
    },
    "language_info": {
      "name": "python"
    }
  },
  "cells": [
    {
      "cell_type": "markdown",
      "metadata": {
        "id": "view-in-github",
        "colab_type": "text"
      },
      "source": [
        "<a href=\"https://colab.research.google.com/github/dcownden/PerennialProblemsOfLifeWithABrain/blob/super-opt-perturb/sequences/P2C1_CurveFitting/P2C1_Title.ipynb\" target=\"_parent\"><img src=\"https://colab.research.google.com/assets/colab-badge.svg\" alt=\"Open In Colab\"/></a>"
      ]
    },
    {
      "cell_type": "markdown",
      "source": [
        "The following is part of a test for an upcoming text book on computational neuroscience from an optimization and learning perspective. The book will start with evolution because ultimately, all aspects of the brain are shaped by evolution and, as we will see, evolution can also be seen as an optimization algorithm. We are sharing it now to get feedback on what works and what does not and the developments we should do.\n",
        "___________________________________________________________________\n"
      ],
      "metadata": {
        "id": "ZmyVvcm4u4bn"
      }
    },
    {
      "cell_type": "markdown",
      "source": [
        "# Chapter 2.1 Curve Fitting\n",
        "Objective: This chapter aims to\n",
        "1. Introduce the basic supervised learning task, a.k.a. 'curve fitting'\n",
        "2. Show how this relates to the fundamental challenge of learning adaptive behaviours\n",
        "3. Highlight how adpative neural plasticity relates to supervised learning\n",
        "\n",
        "You will learn:\n",
        "1. How to optimize a function through perturbation, and how this relates to physiologically plausible plasticity mechanisms (node/weight pertutrbation, reinforce, probabalistic release etc. using global reward plus local noise and activity to estimate (very noisy) the gradient)\n",
        "2. How to optimize a function through the 'delta rule' and how this relates to physiologically plausible plasticity methods, e.g. hebbian learning when local targets are provided (not just global reinforcement signals).\n",
        "3. How Important Scale, Problem diffculty, and time are.\n",
        "4. How gradient descent is awesome and all these other methods can be understood as approximations of gradient desecent.\n",
        "\n",
        "  \n",
        "\n",
        "  \n"
      ],
      "metadata": {
        "id": "akARV6ndvBPT"
      }
    },
    {
      "cell_type": "markdown",
      "source": [
        "This chapter is the first of three in the second part of the book. The second part of the book is about\n",
        "## Supervised Learning: Improving Behaviour When the Target is Known.\n",
        "\n",
        "### Objective: Part 1 of the book aims to introduce the fundamental concepts of\n",
        "1. Curve Fitting:\n",
        "2. Generalization Error: (Train, Test, Validate)\n",
        "3. Importances of details: data scale, data set mixture (and order), model architecture, parameter fitting algorithm, all interact with eachother and make a difference for final outcomes\n",
        "\n",
        "In Part 1 of the book learned to view the brain as an evolved tool for rapidly adapting behaviour to be well suited to a given environment or situation. Now we start to use this perspective to show how the various supervised learning algorithms we explore might serve this adaptive purpose, and how these difference adaptive algorithms might correspond with physiological neural plasticity processes.  will now look at how much of machine learning Understand how supervised learning works. Aditionally, most (all?!?) of machine learning can be framed as extenstions or complications of basic supervised learning tasks. These techniques and ideas learned in this part of the book are foundational more general (and biologically relevant) problems investigated later in the book."
      ],
      "metadata": {
        "id": "mQDFa3Ao0r9B"
      }
    }
  ]
}