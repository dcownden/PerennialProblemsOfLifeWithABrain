{
  "cells": [
    {
      "cell_type": "markdown",
      "metadata": {
        "id": "view-in-github",
        "colab_type": "text"
      },
      "source": [
        "<a href=\"https://colab.research.google.com/github/dcownden/PerennialProblemsOfLifeWithABrain/blob/proto-gradients/sequences/P2C1_CurveFitting/P2C1_Sequence2.ipynb\" target=\"_parent\"><img src=\"https://colab.research.google.com/assets/colab-badge.svg\" alt=\"Open In Colab\"/></a>"
      ]
    },
    {
      "cell_type": "markdown",
      "metadata": {
        "execution": {},
        "id": "k8NZdGTSIrDl"
      },
      "source": [
        "The following is part of a test for an upcoming text book on computational neuroscience from an optimization and learning perspective. The book will start with evolution because ultimately, all aspects of the brain are shaped by evolution and, as we will see, evolution can also be seen as an optimization algorithm. We are sharing it now to get feedback on what works and what does not and the developments we should do."
      ]
    },
    {
      "cell_type": "markdown",
      "metadata": {
        "execution": {},
        "id": "HCF_BD2TIrDn"
      },
      "source": [
        "___\n",
        "# **2.1.2: Curve Fitting Through the Delta Rule**\n",
        "In the previous seqeunce we saw how a simple binary discrimination task could be solved by training a simple 'neural circuit' model using scalar reward feedback. Scalar reward feedback was sufficient for this simple problem, but as we will see in this sequence, as the discrimination task becomes more challenging, learning becomes problematically slow when driven solely by reward. To effectively train our neural circuit model we will need to update our parameters more efficiently. With perturbation, we were using a measure and see approach. In this sequence we will instead leverage our knowledge of the structure of the circuit to make more effient updates, specifically targeting those parameters of the model that were causally implicated in the output for adaption. Note that these updates will still be driven purely by a reward signal, i.e. the organism will still have no clear indication about what the correct action was when it fails.\n",
        "\n",
        "### Objective: See how reward driven perturbation is problematically slow on a more complicated problem. Solve this slightly more complicated problem using the \"Delta Rule\". See how how using knowledge of the structure of the model let's us make far more effcient parameter updates. Connect these methods with physiological neural plasticity mechanisms.\n",
        "\n",
        "In this sequence we will:\n",
        "\n",
        "* Introduce a 10-category classification tasks, i.e. a task where stimuli indicate which specific action, from a set of 10 possible actions, should be executed to obtain a reward.\n",
        "\n",
        "* See how the simple 'neural circuit' model which 'learned' to solve a binary discrimination problems based on reward feedback, is incapable of solving this more complext problem in a reasonable amount of time.\n",
        "\n",
        "* See how a slightly adapted 'neural circuit' model which uses knowledge of the model structure for efficeint parameter updates can solve this more complex problem in a reasonable amount of time.\n",
        "\n",
        "* Relate these structure based updates to various neural plasticity mechanisms.\n"
      ]
    },
    {
      "cell_type": "markdown",
      "metadata": {
        "execution": {},
        "id": "f_6HoMibIrDo"
      },
      "source": [
        "# Setup\n",
        "\n",
        "Run the following cell to setup and install the various dependencies and helper functions for this ."
      ]
    },
    {
      "cell_type": "code",
      "execution_count": 1,
      "metadata": {
        "execution": {},
        "id": "zqZo-X4vIrDo",
        "colab": {
          "base_uri": "https://localhost:8080/"
        },
        "outputId": "9087a43e-09b7-4e7a-bf73-fb707d3120d2",
        "cellView": "form"
      },
      "outputs": [
        {
          "output_type": "stream",
          "name": "stdout",
          "text": [
            "Best feature is 21\n",
            "Random seed 2021 has been set.\n",
            "This notebook isn't using and doesn't need a GPU. Good.\n",
            "Running in colab\n"
          ]
        }
      ],
      "source": [
        "# @title Dependencies, Imports and Setup\n",
        "# @markdown You don't need to worry about how this code works – but you do need to **run the cell**\n",
        "!apt install libgraphviz-dev > /dev/null 2> /dev/null #colab\n",
        "!pip install ipympl pygraphviz vibecheck datatops jupyterquiz ucimlrepo > /dev/null 2> /dev/null #google.colab\n",
        "\n",
        "import requests\n",
        "from requests.exceptions import RequestException\n",
        "import numpy as np\n",
        "import itertools\n",
        "import collections\n",
        "import matplotlib\n",
        "import matplotlib.pyplot as plt\n",
        "import matplotlib.patches as mpatches\n",
        "from matplotlib.animation import FuncAnimation\n",
        "import seaborn as sns\n",
        "import pandas as pd\n",
        "import pygraphviz as pgv\n",
        "import ipywidgets as widgets\n",
        "import time\n",
        "import logging\n",
        "import random\n",
        "import os\n",
        "import copy\n",
        "import torch\n",
        "import warnings\n",
        "import torch.nn as nn\n",
        "import torch.optim as optim\n",
        "import torch.nn.functional as F\n",
        "from io import BytesIO\n",
        "from enum import Enum\n",
        "from scipy.spatial.distance import cdist\n",
        "from scipy.stats import norm\n",
        "from scipy.optimize import minimize\n",
        "from sklearn.linear_model import LinearRegression\n",
        "from tabulate import tabulate\n",
        "from IPython.display import display, clear_output, Markdown, HTML, Image\n",
        "from jupyterquiz import display_quiz\n",
        "from vibecheck import DatatopsContentReviewContainer\n",
        "from pathlib import Path\n",
        "from typing import List, Dict\n",
        "from tqdm.notebook import tqdm\n",
        "from ucimlrepo import fetch_ucirepo\n",
        "\n",
        "data_set = fetch_ucirepo(id=80)\n",
        "X = data_set.data.features.values\n",
        "# Translate the data to have a minimum of 0\n",
        "X_translated = X - X.min()\n",
        "# Scale the data to have a range from 0 to 12 (which is 6 - (-6))\n",
        "scaling_factor = 12 / (X.max() - X.min())\n",
        "X_scaled = X_translated * scaling_factor\n",
        "# Finally, shift the data to be centered between -6 and 6\n",
        "X_final = X_scaled - 6\n",
        "\n",
        "y = data_set.data.targets.values\n",
        "rng = np.random.default_rng(seed=2021)\n",
        "scramble_permutation = rng.permutation(X.shape[1])\n",
        "Xs = X_final[:, scramble_permutation]\n",
        "y1 = y % 2\n",
        "y2 = np.array(y >= 5, dtype=y.dtype)\n",
        "simple_index = ((y.flatten()==1) | (y.flatten()==0))\n",
        "X_simple = Xs[simple_index]\n",
        "y1_simple = y1[simple_index]\n",
        "# if you only had one feature which would likely be best for discrimination\n",
        "epsilon = 10\n",
        "class_a_sep = np.mean(X_simple[y1_simple.flatten() == 1, :], axis=0) / (np.std(X_simple[y1_simple.flatten() == 1, :], axis=0) + epsilon)\n",
        "class_b_sep = np.mean(X_simple[y1_simple.flatten() == 0, :], axis=0) / (np.std(X_simple[y1_simple.flatten() == 0, :], axis=0) + epsilon)\n",
        "best_feature = np.argmax(class_a_sep - class_b_sep)\n",
        "print(f'Best feature is {best_feature}')\n",
        "X_simple_1_feature = X_simple[:, [best_feature]]\n",
        "\n",
        "import warnings\n",
        "warnings.filterwarnings(\"ignore\", category=UserWarning, module=\"matplotlib\")\n",
        "# random seed settings and\n",
        "# getting torch to use gpu if it's there\n",
        "\n",
        "\n",
        "def set_seed(seed=None, seed_torch=True):\n",
        "  \"\"\"\n",
        "  Function that controls randomness. NumPy and random modules must be imported.\n",
        "\n",
        "  Args:\n",
        "    seed : Integer\n",
        "      A non-negative integer that defines the random state. Default is `None`.\n",
        "    seed_torch : Boolean\n",
        "      If `True` sets the random seed for pytorch tensors, so pytorch module\n",
        "      must be imported. Default is `True`.\n",
        "\n",
        "  Returns:\n",
        "    Nothing.\n",
        "  \"\"\"\n",
        "  if seed is None:\n",
        "    seed = np.random.choice(2 ** 32)\n",
        "  random.seed(seed)\n",
        "  np.random.seed(seed)\n",
        "  if seed_torch:\n",
        "    torch.manual_seed(seed)\n",
        "    torch.cuda.manual_seed_all(seed)\n",
        "    torch.cuda.manual_seed(seed)\n",
        "    torch.backends.cudnn.benchmark = False\n",
        "    torch.backends.cudnn.deterministic = True\n",
        "\n",
        "  print(f'Random seed {seed} has been set.')\n",
        "\n",
        "\n",
        "def seed_worker(worker_id):\n",
        "  \"\"\"\n",
        "  DataLoader will reseed workers following randomness in\n",
        "  multi-process data loading algorithm.\n",
        "\n",
        "  Args:\n",
        "    worker_id: integer\n",
        "      ID of subprocess to seed. 0 means that\n",
        "      the data will be loaded in the main process\n",
        "      Refer: https://pytorch.org/docs/stable/data.html#data-loading-randomness for more details\n",
        "\n",
        "  Returns:\n",
        "    Nothing\n",
        "  \"\"\"\n",
        "  worker_seed = torch.initial_seed() % 2**32\n",
        "  np.random.seed(worker_seed)\n",
        "  random.seed(worker_seed)\n",
        "\n",
        "\n",
        "def set_device():\n",
        "  \"\"\"\n",
        "  Set the device. CUDA if available, CPU otherwise\n",
        "\n",
        "  Args:\n",
        "    None\n",
        "\n",
        "  Returns:\n",
        "    Nothing\n",
        "  \"\"\"\n",
        "  device = \"cuda\" if torch.cuda.is_available() else \"cpu\"\n",
        "  if device != \"cuda\":\n",
        "    print(\"This notebook isn't using and doesn't need a GPU. Good.\")\n",
        "  else:\n",
        "    print(\"GPU is enabled in this notebook but not needed.\")\n",
        "    print(\"If possible, in the menu under `Runtime` -> \")\n",
        "    print(\"`Change runtime type.`  select `CPU`\")\n",
        "\n",
        "  return device\n",
        "\n",
        "\n",
        "SEED = 2021\n",
        "set_seed(seed=SEED)\n",
        "DEVICE = set_device()\n",
        "\n",
        "\n",
        "def printmd(string):\n",
        "  display(Markdown(string))\n",
        "\n",
        "\n",
        "# the different utility .py files used in this notebook\n",
        "filenames = []\n",
        "# just run the code straight out of the response, no local copies needed!\n",
        "for filename in filenames:\n",
        "  url = f'https://raw.githubusercontent.com/dcownden/PerennialProblemsOfLifeWithABrain/main/utils/{filename}'\n",
        "  response = requests.get(url)\n",
        "  # Check that we got a valid response\n",
        "  if response.status_code == 200:\n",
        "    code = response.content.decode()\n",
        "    exec(code)\n",
        "  else:\n",
        "    print(f'Failed to download {url}')\n",
        "\n",
        "# environment contingent imports\n",
        "try:\n",
        "  print('Running in colab')\n",
        "  from google.colab import output\n",
        "  output.enable_custom_widget_manager()\n",
        "  from google.colab import data_table\n",
        "  data_table.disable_dataframe_formatter()\n",
        "  #from google.colab import output as colab_output\n",
        "  #colab_output.enable_custom_widget_manager()\n",
        "  IN_COLAB = True\n",
        "except:\n",
        "  IN_COLAB = False\n",
        "  print('Not running in colab')\n",
        "\n",
        "%matplotlib inline\n",
        "%config InlineBackend.figure_format = 'retina'\n",
        "%matplotlib widget\n",
        "plt.style.use(\"https://raw.githubusercontent.com/dcownden/PerennialProblemsOfLifeWithABrain/main/pplb.mplstyle\")\n",
        "plt.ioff() #need to use plt.show() or display explicitly\n",
        "logging.getLogger('matplotlib.font_manager').setLevel(logging.ERROR)\n",
        "\n",
        "\n",
        "def remove_ip_clutter(fig):\n",
        "  fig.canvas.header_visible = False\n",
        "  fig.canvas.toolbar_visible = False\n",
        "  fig.canvas.resizable = False\n",
        "  fig.canvas.footer_visible = False\n",
        "  fig.canvas.draw()\n",
        "\n",
        "\n",
        "def content_review(notebook_section: str):\n",
        "  return DatatopsContentReviewContainer(\n",
        "    \"\",  # No text prompt\n",
        "    notebook_section,\n",
        "    {\n",
        "      \"url\": \"https://pmyvdlilci.execute-api.us-east-1.amazonaws.com/klab\",\n",
        "      \"name\": \"neuro_book\",\n",
        "      \"user_key\": \"xuk960xj\",\n",
        "    },\n",
        "  ).render()\n",
        "feedback_prefix = \"P2C1_S1\""
      ]
    },
    {
      "cell_type": "markdown",
      "metadata": {
        "execution": {},
        "id": "YymxdnTgIrDo"
      },
      "source": [
        "# 2.1.2.1: Learning to Do 10 Different Right Things\n",
        "\n",
        "In our the last sequence we motivated a binary classification problem with the image of a lurking predator that must choose between striking and not striking based on sensory input. We focused on the case where the behavioural map from sensory input to action was to be entirely 'learned' by the organism, using feedback signals from the environment. In this sequence we will work with an almost identical problem, except that now instead of two possible actions, strike and no-strike, we deal with 10 possible distinct actions. Different sensory input patterns will indicate which of the 10 possible distinct actions yeild a reward. We can imagine these highly abstracted actions corresponding to different prey capture and/or predator avoidance behaviours. The organism must match the correct behaviour to the correct stimuli to eat and avoid being eaten. Before we build a highly abstracted model of a neural circuit to solve this problem, let's see if your neural network is up to the task. Given a sensory input pattern, determine which of ten actions to chose. Try to maximize your average score and see how well you can perform."
      ]
    },
    {
      "cell_type": "code",
      "execution_count": 2,
      "metadata": {
        "execution": {},
        "id": "7qu5vgaoIrDp",
        "colab": {
          "base_uri": "https://localhost:8080/",
          "height": 489,
          "referenced_widgets": [
            "0fbf45fa700b439a9f602b1a29ac6916",
            "08ffc647add44a8788c90a6a8bc43c07",
            "9cf9aecfa2cd470c937c7de7bb74984b",
            "d4591c2f94e84117b67f486a63046b53",
            "cdb2e0c801e540ef8a3c61f8667a0b3f",
            "2c089b0d9eb14a7db9aa0d0ea7908b19",
            "5c211aaebf6345faba81548a172ea17d",
            "c324a0cf709941b7bc5c14df8fc90dd0",
            "edb2f923860d4e13abdb7449c46e88b4",
            "43d5c01a48a14777bf07ba6d69cf3ef4",
            "ddba38973395435b93c6b353c3dcfff5",
            "6da49ceb8d4946c6a5e8af9939f2ceb4",
            "60d88ac8020041f1982dc082e68f97f3",
            "2960267b8f8f4c69807c44f01c7c9c06",
            "160e5f80f1ba42feb5c6c5f60cd30894",
            "71bbf2467da5431884247b475146bd26",
            "55e048b255924e7da61d5490a1f10682",
            "2fc9addfc84e4e579e816268ace5d317",
            "dc792f7a72444c4e8f4852507c3bbaca",
            "a5bcab249a814b7fb36ec9558f4aa6ad",
            "a8d610d472154c0e9a19dcb4324acdb3",
            "353bd3d768ee4e639347877b4cd62713",
            "23bab64d29d64745a2ad85b742b8589b",
            "fe35d91fb5f949faa3cf2fbaf02c237c",
            "43fc12d887c74ff5bb3c8cd96e924da6",
            "9682a90a472044a18f0a80950cbce476",
            "7fb0150d972e481ab3b51da226cab1a7",
            "5d19bda1d1a145d29812674cf18c98cd",
            "ffbae92825c8466983549e2b1d933045",
            "62c038553b334192b5502db704eeafb6",
            "a978058c5e3844738d94845ac75de985",
            "3445a1c30446416f8c7315b5460a6817",
            "00c9443905fe4a8b90cdace7208da8d4",
            "42ac5010fcdd4e448e9d6b8df223d387",
            "16c20b43767c435c947bde7a82948fd7",
            "de86e083449741a6806be3f45bb2a384",
            "b4af987ca09247d6892eff6104262c15",
            "3368292cdf664a4c942c75ab2425b430",
            "05123ed677f2425fa7e146ccc99dfa1a",
            "4d2478aaa4704d6898354652b56a0d8b",
            "75ce643ce63e4dd7b1a4a12d73813e7b",
            "7ed9e26c8938416fbc196614311bd383",
            "c97bcae6b0294c988d5fd69ce3528f93",
            "b4458fa45f9246c29587834030325b19",
            "9d82e96830974813b904cd5437509865",
            "ee6a1ca99e0542b98e29b82c061ee7cb",
            "082da7a35bd04eff824b3f33b330b5d1",
            "17b598f3877148919cc546ea2f1e690c",
            "dbc788b32c34412082c23a02afd6dd3c",
            "b96bfff771104107be246a0434dd6e3c"
          ]
        },
        "outputId": "c40b07dd-51c8-405d-dc29-0058f396362d",
        "cellView": "form"
      },
      "outputs": [
        {
          "output_type": "display_data",
          "data": {
            "text/plain": [
              "HBox(children=(VBox(children=(Canvas(footer_visible=False, header_visible=False, resizable=False, toolbar=Tool…"
            ],
            "application/vnd.jupyter.widget-view+json": {
              "version_major": 2,
              "version_minor": 0,
              "model_id": "0fbf45fa700b439a9f602b1a29ac6916"
            }
          },
          "metadata": {
            "application/vnd.jupyter.widget-view+json": {
              "colab": {
                "custom_widget_manager": {
                  "url": "https://ssl.gstatic.com/colaboratory-static/widgets/colab-cdn-widget-manager/2b70e893a8ba7c0f/manager.min.js"
                }
              }
            }
          }
        }
      ],
      "source": [
        "# @markdown **Run this cell** to try out the 10-action discrimination task.\n",
        "\n",
        "class InteractiveMNISTCritter():\n",
        "  def __init__(self,\n",
        "               features=Xs,\n",
        "               labels=y,\n",
        "               num_actions=2,\n",
        "               feedback_type='reward_only', seed=123):\n",
        "    # Initialize dataset, settings for image scrambling and feedback\n",
        "    self.features = features\n",
        "    self.labels = labels\n",
        "    self.num_actions = num_actions\n",
        "    # Ensure num_actions matches the number of unique labels\n",
        "    unique_labels = len(np.unique(self.labels))\n",
        "    if self.num_actions != unique_labels:\n",
        "        raise ValueError(f\"The number of actions ({self.num_actions}) must equal the number of unique labels ({unique_labels}).\")\n",
        "    # features is num_data_points x 64 (reshape to 8x8 for display, each cell 0-16)\n",
        "    # labels is num_data_points x 1 (values 0-9 or 0/1 depending)\n",
        "    self.feedback_type = feedback_type\n",
        "    self.rng = np.random.default_rng(seed)\n",
        "    sample_order = self.rng.permutation(self.features.shape[0])\n",
        "    self.features = self.features[sample_order]\n",
        "    self.labels = self.labels[sample_order]\n",
        "    # initialize game state\n",
        "    self.current_index = 0\n",
        "    self.score = 0\n",
        "    self.best_possible_score = 0\n",
        "    self.successful_actions = np.zeros(self.num_actions)\n",
        "    self.failed_actions = np.zeros(self.num_actions)\n",
        "    # Initialize widgets\n",
        "    self.action_buttons = [] # List to store buttons\n",
        "    for action_idx in range(self.num_actions):\n",
        "        # Create a button for each action\n",
        "        button = widgets.Button(description=f'Action {action_idx}')\n",
        "        button.on_click(self.on_button_click)\n",
        "        self.action_buttons.append(button)\n",
        "    self.score_display = widgets.Output()\n",
        "    self.feedback_display = widgets.Output()\n",
        "\n",
        "    # Initialize the figure for image display\n",
        "    self.fig, self.ax = plt.subplots(figsize=(4, 4))\n",
        "    remove_ip_clutter(self.fig)\n",
        "    self.show_next_image()\n",
        "\n",
        "    # Arrange widgets in a layout\n",
        "\n",
        "    button_split_index = (num_actions + 1) // 2  # This ensures the longer row is on top if odd number\n",
        "    row1_buttons = widgets.HBox(self.action_buttons[:button_split_index])\n",
        "    row2_buttons = widgets.HBox(self.action_buttons[button_split_index:])\n",
        "    buttons_layout = widgets.VBox([row1_buttons, row2_buttons])\n",
        "    board_buttons = widgets.VBox([self.fig.canvas, buttons_layout])\n",
        "    self.ui = widgets.HBox([board_buttons, widgets.VBox([self.score_display,\n",
        "                                                         self.feedback_display])])\n",
        "\n",
        "  def show_next_image(self):\n",
        "    # Display the next image\n",
        "    image = self.features[self.current_index]\n",
        "    if len(image) == 64:\n",
        "        image = image.reshape(8, 8)\n",
        "    elif len(image) == 1:\n",
        "      scalar_value = image.flatten()[0]\n",
        "      # Initialize the 8x8 array with -6 (black)\n",
        "      image = np.full((8, 8), -6.0)\n",
        "      # Set the second ring to 6 (white)\n",
        "      image[1:-1, 1:-1] = 6\n",
        "      # Set the third (inner ring) back to -6 (black)\n",
        "      image[2:-2, 2:-2] = -6\n",
        "      # Assuming scalar_value is already in the range -6 to 6\n",
        "      #print(scalar_value)\n",
        "      image[3:-3, 3:-3] = scalar_value\n",
        "    else:\n",
        "      raise ValueError(f'Unexpected image shape: {image.shape}')\n",
        "    # Display the image\n",
        "    #print(image)\n",
        "    self.fig.clf()\n",
        "    self.ax = self.fig.add_subplot(111)\n",
        "    self.ax.set_xlim(-.5, 7.5)\n",
        "    self.ax.set_ylim(-0.5, 7.5)\n",
        "    self.ax.set_aspect('equal')\n",
        "    self.ax.axis('off')\n",
        "    self.ax.imshow(image, cmap='gray', vmin=-6, vmax=6)\n",
        "    self.fig.canvas.draw_idle()  # Force redraw\n",
        "\n",
        "  def on_button_click(self, button):\n",
        "    # Disable buttons while processing\n",
        "    for btn in self.action_buttons:\n",
        "      btn.disabled = True\n",
        "    # Access the button's description to know which button was clicked\n",
        "    chosen_action = int(button.description.split(' ')[-1])\n",
        "    correct_action = self.labels[self.current_index]\n",
        "    if chosen_action == correct_action:\n",
        "      self.score += 1\n",
        "      self.successful_actions[chosen_action] += 1\n",
        "    else:\n",
        "      self.score -= 1\n",
        "      self.failed_actions[chosen_action] += 1\n",
        "    # Show text feedback\n",
        "    was_correct = 'Correct' if chosen_action == correct_action else 'Incorrect'\n",
        "    feedback = f'Your last choice: {chosen_action}\\n{was_correct}'\n",
        "    with self.feedback_display:\n",
        "      clear_output(wait=True)\n",
        "      print(feedback)\n",
        "    # Show score\n",
        "    with self.score_display:\n",
        "      clear_output(wait=True)\n",
        "      average_score = self.score / (self.current_index+1)\n",
        "      print(f'Total Score: {self.score}')\n",
        "      print(f'Number of Trials: {self.current_index + 1}')\n",
        "      print(f'Successful Actions: {self.successful_actions}')\n",
        "      print(f'Failed Actions: {self.failed_actions}')\n",
        "      print(f'Average Score Per Trial: {average_score:.2f}')\n",
        "    # Prepare the next image\n",
        "    self.current_index += 1\n",
        "    self.show_next_image()\n",
        "\n",
        "    # Re-enable buttons\n",
        "    for btn in self.action_buttons:\n",
        "      btn.disabled = False\n",
        "\n",
        "\n",
        "scramble_10 = InteractiveMNISTCritter(features=Xs, labels=y, num_actions=10)\n",
        "display(scramble_10.fig.canvas)\n",
        "clear_output()\n",
        "display(scramble_10.ui)"
      ]
    },
    {
      "cell_type": "markdown",
      "metadata": {
        "execution": {},
        "id": "NE1GqtN8IrDp"
      },
      "source": [
        "For us at least, this was basically impossible. Maybe though, we will be able to come up an algorithm that can learn these associations. As before the dataset that underlies this strike-no-strike decision problem is sourced from the UCI Machine Learning Repository, (Alpaydin,E. and Kaynak,C. 1998. https://doi.org/10.24432/C50P49). Let's take a quick look at the data before we start coming up with a simple machine learning algorithm to correctly distinguish between the strike and no-strike cases."
      ]
    },
    {
      "cell_type": "code",
      "execution_count": 3,
      "metadata": {
        "execution": {},
        "id": "S3k-kUDGIrDp",
        "colab": {
          "base_uri": "https://localhost:8080/"
        },
        "outputId": "864a573e-8f51-4e27-941f-9571f071db8e"
      },
      "outputs": [
        {
          "output_type": "stream",
          "name": "stdout",
          "text": [
            "features data type: float64\n",
            "features shape: (5620, 64)\n",
            "labels data type: int64\n",
            "labels shape: (5620, 1)\n"
          ]
        }
      ],
      "source": [
        "# What is the shape and type of the data we have to work with\n",
        "print(f'features data type: {Xs.dtype}')\n",
        "print(f'features shape: {Xs.shape}')\n",
        "print(f'labels data type: {y.dtype}')\n",
        "print(f'labels shape: {y.shape}')"
      ]
    },
    {
      "cell_type": "code",
      "execution_count": 4,
      "metadata": {
        "execution": {},
        "id": "xhGLnNX2IrDp",
        "colab": {
          "base_uri": "https://localhost:8080/"
        },
        "outputId": "8d9b8be5-7fd5-4dc9-8670-dbcbf09c7339"
      },
      "outputs": [
        {
          "output_type": "stream",
          "name": "stdout",
          "text": [
            "[[0]\n",
            " [0]\n",
            " [7]\n",
            " [4]\n",
            " [6]\n",
            " [2]\n",
            " [5]\n",
            " [5]\n",
            " [0]\n",
            " [8]]\n",
            "max label: 9\n",
            "min label: 0\n"
          ]
        }
      ],
      "source": [
        "# what do the labels look like, what is their range\n",
        "print(y[:10])\n",
        "print(f'max label: {np.max(y)}')\n",
        "print(f'min label: {np.min(y)}')"
      ]
    },
    {
      "cell_type": "markdown",
      "metadata": {
        "execution": {},
        "id": "KLmbkLn3IrDp"
      },
      "source": [
        "***Recall:*** In a Supervised Learning context what we have been thinking of as the inputs to a sensory-behaviour circuit are called **features**. In a statistical/regression/experimental context these features or inputs are thought of as the independent variables or regressors. The 'correct' behavioural output is called the **label** or **target** in a supervised learning ML context, or the dependent variable in a statistical/regression/experimental context. Supervised Learning revolves around the concept of feature-label or $(\\mathbf{x},\\mathbf{y})$ pairs. The basic goal of Supervised Learning is to discover the rule or process that generates these pairs, or a good approximation of it, solely by examining examples. The set of examples that we have to learn the rule from is called the **training set**. A reminder that we will use the terms features and label when we want to emphasize the abstract algorithm and learning problem, and the terms sensory-input and target behaviour when we want to emphasize the embodied neural context of the problem."
      ]
    },
    {
      "cell_type": "markdown",
      "metadata": {
        "execution": {},
        "id": "HQ3XVmTrIrDq"
      },
      "source": [
        "In the game we setup above we used the labels to correspond to the numbered actions. Note that we only recieved feedback about whether or not we had chosen the correct action, and not about what the correct action should have been. So even though the labels in this data set determine which action is rewarding, learning is still only based on reward, the teaching signal does not indicate which action would have been correct when an incorrect action is chosen."
      ]
    },
    {
      "cell_type": "code",
      "execution_count": 5,
      "metadata": {
        "execution": {},
        "id": "0p8i2F8tIrDq",
        "colab": {
          "base_uri": "https://localhost:8080/"
        },
        "outputId": "0d8df55d-c185-483b-b0cd-fffbddac46db"
      },
      "outputs": [
        {
          "output_type": "stream",
          "name": "stdout",
          "text": [
            "[[-1.5   0.   -4.5  -5.25  3.    5.25 -3.75 -6.   -6.   -6.   -2.25 -0.75\n",
            "   4.5  -1.5  -6.   -6.   -4.5  -6.   -6.   -6.   -6.   -6.   -0.75 -5.25\n",
            "  -0.75  4.5  -3.75  0.75 -2.25 -1.5  -0.75  3.75 -6.   -5.25  5.25  0.\n",
            "  -6.    1.5   3.   -0.75 -6.   -6.   -6.   -6.   -5.25 -6.    3.75  6.\n",
            "  -6.   -6.   -2.25 -6.   -6.    2.25 -6.   -1.5   6.    6.   -6.   -6.\n",
            "  -3.   -6.    0.75 -6.  ]\n",
            " [ 1.5   2.25 -6.   -6.    5.25  1.5  -6.   -6.   -6.   -6.    2.25  5.25\n",
            "   6.    6.   -6.   -6.   -3.75 -6.   -5.25 -6.   -6.   -6.    3.   -6.\n",
            "  -0.75  6.   -6.    0.    2.25  0.    2.25  3.   -6.   -6.    6.    0.\n",
            "  -3.75 -2.25 -1.5   3.   -6.   -6.   -6.   -6.   -3.75 -6.    3.75  3.\n",
            "  -6.   -6.    3.   -6.   -6.    4.5  -6.    1.5   6.    6.   -6.   -6.\n",
            "  -0.75 -6.    5.25 -1.5 ]\n",
            " [ 0.75 -6.   -6.    3.75  3.   -3.    6.   -5.25 -6.   -6.   -6.   -6.\n",
            "  -4.5   2.25 -6.   -6.   -6.   -6.    6.   -6.   -6.    6.    1.5  -6.\n",
            "  -5.25  4.5  -3.    6.    3.    0.75 -4.5   6.   -6.    1.5   5.25  6.\n",
            "  -6.    6.    6.   -5.25 -6.   -6.   -6.   -6.   -6.   -6.   -6.   -3.75\n",
            "  -6.   -6.   -6.   -6.   -6.    4.5  -6.    0.   -6.    2.25 -6.   -6.\n",
            "  -4.5   4.5  -6.   -0.75]\n",
            " [-6.   -3.75  0.    6.   -6.    6.   -3.   -0.75 -6.   -6.   -6.    5.25\n",
            "  -6.    2.25 -6.   -6.   -1.5  -6.   -6.   -6.   -6.    3.75 -4.5  -6.\n",
            "  -6.   -5.25  6.   -3.75  6.    6.    1.5  -3.   -6.    5.25 -3.75  1.5\n",
            "  -6.    3.75  2.25 -5.25 -6.   -6.   -6.   -6.   -4.5  -6.   -3.    6.\n",
            "  -6.   -6.    2.25 -6.   -6.    5.25 -6.   -6.    5.25 -2.25 -6.   -6.\n",
            "  -6.    6.   -6.   -5.25]\n",
            " [-3.   -3.75 -3.   -6.    4.5  -3.   -3.75 -6.   -6.   -6.    2.25  4.5\n",
            "   1.5  -6.   -6.   -6.   -6.   -6.   -3.75 -6.   -6.   -3.   -4.5  -6.\n",
            "  -6.    3.    4.5   0.   -4.5   0.   -6.    6.   -6.   -6.    4.5   2.25\n",
            "   3.   -6.   -3.   -3.   -6.   -6.   -6.   -6.   -0.75 -6.   -3.    6.\n",
            "  -6.   -6.   -1.5  -6.   -6.   -6.   -6.   -2.25  4.5   3.75 -6.   -6.\n",
            "  -6.    0.75  2.25 -6.  ]\n",
            " [ 1.5  -3.   -3.75 -5.25 -6.    5.25 -6.   -6.   -3.75 -6.   -6.    6.\n",
            "  -2.25  5.25 -1.5  -6.   -6.   -6.   -1.5  -6.   -6.    3.   -6.   -6.\n",
            "  -3.    6.   -1.5   5.25  4.5   1.5  -6.   -6.   -6.    6.    6.    1.5\n",
            "   0.    0.    1.5  -6.   -6.    6.   -6.   -6.    6.   -6.   -1.5   4.5\n",
            "  -6.   -6.   -5.25 -6.   -6.    3.75 -6.    2.25  6.    6.   -6.   -6.\n",
            "  -6.    0.75  0.    2.25]\n",
            " [-5.25 -6.    3.    2.25 -6.    5.25 -6.   -3.75 -6.   -0.75 -6.   -2.25\n",
            "  -6.   -1.5  -6.   -6.   -4.5  -6.   -6.   -6.   -6.   -6.   -3.   -6.\n",
            "  -6.    3.75  1.5   0.    3.    4.5  -1.5  -5.25 -6.   -2.25  2.25  1.5\n",
            "  -6.   -3.    3.75 -5.25 -6.   -6.   -6.   -6.   -6.   -6.    1.5   6.\n",
            "  -6.   -6.   -2.25 -6.   -6.    5.25 -6.   -5.25  6.    0.75 -6.   -6.\n",
            "  -6.   -3.   -3.75  6.  ]\n",
            " [-3.   -0.75  3.   -0.75 -6.    4.5  -6.   -3.   -6.   -4.5  -6.    0.\n",
            "  -1.5   3.   -6.   -6.   -6.   -6.   -6.   -6.   -6.   -4.5  -6.   -6.\n",
            "  -5.25  3.75  3.   -0.75 -0.75  4.5  -6.   -6.   -6.   -3.    1.5   3.75\n",
            "  -6.    3.    0.   -6.   -6.   -6.   -6.   -6.   -6.   -6.    3.    4.5\n",
            "  -6.   -6.   -2.25 -6.   -6.   -6.   -6.    0.    5.25  5.25 -6.   -6.\n",
            "  -6.    5.25 -2.25 -2.25]\n",
            " [ 1.5  -4.5   3.    3.75  3.    6.   -6.    0.   -6.   -4.5  -2.25 -2.25\n",
            "   6.    3.   -6.   -6.    1.5  -6.   -6.   -6.   -6.   -6.    0.   -6.\n",
            "  -6.    3.   -3.75  3.75 -2.25  5.25  0.    3.   -2.25 -0.75 -4.5   0.\n",
            "  -6.    3.75  4.5  -2.25 -6.   -6.   -6.   -6.   -6.   -6.    5.25  5.25\n",
            "  -6.   -6.   -0.75 -6.   -6.   -1.5  -6.    5.25  6.    6.   -6.   -6.\n",
            "  -2.25 -6.   -1.5  -5.25]\n",
            " [-3.75  0.75  3.   -4.5   2.25  0.    6.   -6.   -6.   -6.    3.    2.25\n",
            "   3.75  1.5  -6.   -6.   -6.   -6.    0.   -6.   -6.    3.   -3.   -6.\n",
            "  -1.5   5.25  6.    2.25 -6.    3.   -6.    3.   -6.   -6.    3.75  4.5\n",
            "   3.    0.    3.75 -5.25 -6.   -6.   -6.   -6.   -1.5  -6.   -3.75  6.\n",
            "  -6.   -6.    1.5  -6.   -6.   -1.5  -6.   -3.75  5.25  6.   -6.   -6.\n",
            "  -6.    3.75  3.75  6.  ]]\n",
            "max features: 6.0\n",
            "min features: -6.0\n"
          ]
        }
      ],
      "source": [
        "# what do the features look like, what is there range\n",
        "print(Xs[:10])\n",
        "print(f'max features: {np.max(Xs)}')\n",
        "print(f'min features: {np.min(Xs)}')"
      ]
    },
    {
      "cell_type": "markdown",
      "metadata": {
        "execution": {},
        "id": "CDiUws6jIrDq"
      },
      "source": [
        "In the visualization above a high 'feature value' corresponded to lighter colors in the center pixels and a lower feature value corresponded to darker feature values."
      ]
    },
    {
      "cell_type": "code",
      "execution_count": 6,
      "metadata": {
        "execution": {},
        "id": "MtXL6MicIrDq",
        "colab": {
          "base_uri": "https://localhost:8080/",
          "height": 689,
          "referenced_widgets": [
            "6091aff999d64c45b9d0ab22ae6c2c83",
            "40e51ee9097e4778bbddbe720a32c119",
            "abd8cff05f364e8d834235aab406d847",
            "e65adffc108f4e13b482e4e888b6013d"
          ]
        },
        "outputId": "a10ee6a8-e8a6-4abe-9fbf-65c24b9e1938"
      },
      "outputs": [
        {
          "output_type": "display_data",
          "data": {
            "text/plain": [
              "Canvas(toolbar=Toolbar(toolitems=[('Home', 'Reset original view', 'home', 'home'), ('Back', 'Back to previous …"
            ],
            "image/png": "[encoded data removed]",
            "text/html": [
              "\n",
              "            <div style=\"display: inline-block;\">\n",
              "                <div class=\"jupyter-widgets widget-label\" style=\"text-align: center;\">\n",
              "                    Figure\n",
              "                </div>\n",
              "                <img src='data:image/png;base64,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' width=800.0/>\n",
              "            </div>\n",
              "        "
            ],
            "application/vnd.jupyter.widget-view+json": {
              "version_major": 2,
              "version_minor": 0,
              "model_id": "6091aff999d64c45b9d0ab22ae6c2c83"
            }
          },
          "metadata": {
            "application/vnd.jupyter.widget-view+json": {
              "colab": {
                "custom_widget_manager": {
                  "url": "https://ssl.gstatic.com/colaboratory-static/widgets/colab-cdn-widget-manager/2b70e893a8ba7c0f/manager.min.js"
                }
              }
            }
          }
        }
      ],
      "source": [
        "# and for scalar data always good to look at a histogram\n",
        "fig, (ax1, ax2) = plt.subplots(2, 1)\n",
        "ax1.hist(Xs[y.flatten() == 0][3])\n",
        "ax1.set_title('Feature Distribution of 33rd Feature When Correct Action is 0')\n",
        "ax2.hist(Xs[y.flatten() == 9][33])\n",
        "ax2.set_title('Feature Distribution of 33rd Feature When Correct Action is 9')\n",
        "plt.show()"
      ]
    },
    {
      "cell_type": "markdown",
      "metadata": {
        "execution": {},
        "id": "PCtQjls4IrDq"
      },
      "source": [
        "Looking at the distribution of this one particular feature across these two particular classes (Action 0 is correct vs. action 9 is correct), we see that from this feature alone we are unlikely to be be able to correctly discriminate between these two classes. Other features, and possibly combinations of features will be required for successful classification."
      ]
    },
    {
      "cell_type": "markdown",
      "source": [
        "So this problem is too hard for our eyes and brains, but let's see if our perturbation learning model is able to learn this classification. Now that we have 10 possible output actions we are going to have to change the structure of our model slightly."
      ],
      "metadata": {
        "id": "JIGkxVUBhovP"
      }
    },
    {
      "cell_type": "markdown",
      "metadata": {
        "execution": {},
        "id": "EB67PUqiIrDq"
      },
      "source": [
        "We still use a simple organism as the inspiration for this model. One that has an array of sensory input neurons corresponding to the features, which are in turn connected to a layer of (highly abstracted) motor output neurons, with each neuron in the outpur layer corresponding to one specific action. We imagine that the activation level of these output neurons roughly corresponds to a firing rate, and that the action actually taken is determined by which of these actions neurons fires first... It's a race! (Box on poisson process model of firing rates and poisson races).\n",
        "\n",
        "We model this creature's sensory-behaviour system as follows. Let $\\mathbf{x}$ be the raw sensory input (vector) in a given episode. We imagine that $\\mathbf{x}$ corresponds to the activation level and firing rate of each photosensitive sensory neuron. These input neurons are then connected by a fully connected network of synapse to each of the output neurons. The activation level of the output neurons is computed as\n",
        "$$\\mathbf{y} = \\mathbf{Wx} + \\mathbf{b}$$\n",
        "Here, $\\mathbf{b}$ is a vector giving the bias, or baseline activation level of each of the output neurons and $\\mathbf{W}$ is the strength of the synaptic weights between the input neurons and the output neurons, represented as a $\\text{(number of actions)} \\times \\text{(number of features)}$ matrix. To streamline notation, exposition, and algorithm implementation we will typically \"hide\" the bias term $\\mathbf{b}$ by augmenting the base feature set with a new constant valued feature. Then, the baises become the corresponding column of $\\mathbf{W}$. (A quick notation reminder: bold lowercase letters typically represent column vectors, bold uppercase letters typically denote matrices or higher-order tensors.)\n",
        "\n",
        "We then use softmax normalization to transform these activations into a probability distribution over the possible actions. Recall that softmax normalization of a vector is defined as\n",
        "$$\\text{softmax}(y_i) := \\frac{e^{y_i}}{\\sum_{j} e^{y_j}}$$\n",
        "\n",
        "So the probability that action $i$ is taken given the softmax normalized value of the $i^{th}$ component of $\\mathbf{y}$, that is $\\text{softmax}(y_i)$. Thus the weights $\\mathbf{W}$ define the organism's policy under this model."
      ]
    },
    {
      "cell_type": "markdown",
      "metadata": {
        "execution": {},
        "id": "MVVJPj8vIrDr"
      },
      "source": [
        "--Picture of this very simple neural circuit here--"
      ]
    },
    {
      "cell_type": "markdown",
      "metadata": {
        "execution": {},
        "id": "fedFHX5JIrDr"
      },
      "source": [
        "Having established how behaviour is determined by sensory input, $\\mathbf{x}$, and parameters $\\mathbf{W}$ i.e. our policy, we a rule for modifying this policy based on environmental feedback.\n",
        "\n",
        "As in the previous sequence our goal is still to come up with a rule that prescribes changes to the synaptic weights $\\mathbf{W}$ in such a way that the reward obtained over time increases (and ideally approaches the theoretical maximum over many learning trials). Let's see how our mini-batched measure and update rule works on this problem. The measure and update or weight perturbation update rule is as follows.\n",
        "$$ \\text{Parameter Update} = \\alpha \\cdot \\frac{\\text{Measured Perturbation in Performance}}{\\text{Perturbation in Parameters}}$$\n",
        "\n",
        "where $\\alpha$ is some constant of proportionality, in this case usually called the learning rate or step-size meta-parameter of the learning algorithm.\n",
        "\n",
        "Let's try it and see."
      ]
    },
    {
      "cell_type": "code",
      "execution_count": 7,
      "metadata": {
        "execution": {},
        "id": "nuCKCaj7IrDw",
        "colab": {
          "base_uri": "https://localhost:8080/"
        },
        "outputId": "b4521d5d-abb3-4a1c-8e90-609889d8d8d6"
      },
      "outputs": [
        {
          "output_type": "stream",
          "name": "stdout",
          "text": [
            "Shape of features before augmentation: (5620, 64)\n",
            "Shape of features after augmentation: (5620, 65)\n"
          ]
        }
      ],
      "source": [
        "# Before augmentation this is the shape of the feature set\n",
        "print(f'Shape of features before augmentation: {Xs.shape}')\n",
        "Xs.shape\n",
        "# After augmentation there is one extra column of features\n",
        "Xs_aug = np.hstack([Xs, np.ones((Xs.shape[0],1))])\n",
        "print(f'Shape of features after augmentation: {Xs_aug.shape}')\n",
        "\n",
        "# We also want to encode the labels as 1-hots and also the reward implications\n",
        "# of each action for each stimuli to streamline the evaluations\n",
        "y_one_hot = np.eye(10)[y.flatten()]\n",
        "y_rewards = (2 * y_one_hot) - 1"
      ]
    },
    {
      "cell_type": "code",
      "source": [
        "y_one_hot[:10]"
      ],
      "metadata": {
        "colab": {
          "base_uri": "https://localhost:8080/"
        },
        "id": "SObn_wVHPZKK",
        "outputId": "5854c1ec-5241-4d6e-bf1c-c138d393eed6"
      },
      "execution_count": 8,
      "outputs": [
        {
          "output_type": "execute_result",
          "data": {
            "text/plain": [
              "array([[1., 0., 0., 0., 0., 0., 0., 0., 0., 0.],\n",
              "       [1., 0., 0., 0., 0., 0., 0., 0., 0., 0.],\n",
              "       [0., 0., 0., 0., 0., 0., 0., 1., 0., 0.],\n",
              "       [0., 0., 0., 0., 1., 0., 0., 0., 0., 0.],\n",
              "       [0., 0., 0., 0., 0., 0., 1., 0., 0., 0.],\n",
              "       [0., 0., 1., 0., 0., 0., 0., 0., 0., 0.],\n",
              "       [0., 0., 0., 0., 0., 1., 0., 0., 0., 0.],\n",
              "       [0., 0., 0., 0., 0., 1., 0., 0., 0., 0.],\n",
              "       [1., 0., 0., 0., 0., 0., 0., 0., 0., 0.],\n",
              "       [0., 0., 0., 0., 0., 0., 0., 0., 1., 0.]])"
            ]
          },
          "metadata": {},
          "execution_count": 8
        }
      ]
    },
    {
      "cell_type": "code",
      "source": [
        "y[:10]"
      ],
      "metadata": {
        "colab": {
          "base_uri": "https://localhost:8080/"
        },
        "id": "9PgfQQ_UQXqW",
        "outputId": "a9d10a7d-96d2-4270-cfd4-942edad38784"
      },
      "execution_count": 9,
      "outputs": [
        {
          "output_type": "execute_result",
          "data": {
            "text/plain": [
              "array([[0],\n",
              "       [0],\n",
              "       [7],\n",
              "       [4],\n",
              "       [6],\n",
              "       [2],\n",
              "       [5],\n",
              "       [5],\n",
              "       [0],\n",
              "       [8]])"
            ]
          },
          "metadata": {},
          "execution_count": 9
        }
      ]
    },
    {
      "cell_type": "code",
      "source": [
        "y_rewards[:10]"
      ],
      "metadata": {
        "colab": {
          "base_uri": "https://localhost:8080/"
        },
        "id": "Ovo3ZkPbQhNl",
        "outputId": "41a6b609-0399-4d9f-da27-fa3d85036b59"
      },
      "execution_count": 10,
      "outputs": [
        {
          "output_type": "execute_result",
          "data": {
            "text/plain": [
              "array([[ 1., -1., -1., -1., -1., -1., -1., -1., -1., -1.],\n",
              "       [ 1., -1., -1., -1., -1., -1., -1., -1., -1., -1.],\n",
              "       [-1., -1., -1., -1., -1., -1., -1.,  1., -1., -1.],\n",
              "       [-1., -1., -1., -1.,  1., -1., -1., -1., -1., -1.],\n",
              "       [-1., -1., -1., -1., -1., -1.,  1., -1., -1., -1.],\n",
              "       [-1., -1.,  1., -1., -1., -1., -1., -1., -1., -1.],\n",
              "       [-1., -1., -1., -1., -1.,  1., -1., -1., -1., -1.],\n",
              "       [-1., -1., -1., -1., -1.,  1., -1., -1., -1., -1.],\n",
              "       [ 1., -1., -1., -1., -1., -1., -1., -1., -1., -1.],\n",
              "       [-1., -1., -1., -1., -1., -1., -1., -1.,  1., -1.]])"
            ]
          },
          "metadata": {},
          "execution_count": 10
        }
      ]
    },
    {
      "cell_type": "code",
      "execution_count": 11,
      "metadata": {
        "execution": {},
        "id": "TFUuDvjFIrDw"
      },
      "outputs": [],
      "source": [
        "def np_sigmoid(x):\n",
        "  return 1 / (1 + np.exp(-x))\n",
        "\n",
        "def np_softmax(x):\n",
        "  x_shift = x - np.max(x, axis=0)\n",
        "  return np.exp(x_shift) / np.sum(np.exp(x_shift), axis=0)\n",
        "\n",
        "def eval_params(W, x, y):\n",
        "  \"\"\"\n",
        "  evaluates parameters of simple behaviour circuit given inputs and target\n",
        "  outputs, use numpy broadcasting to be fast and concise\n",
        "  Args:\n",
        "    W: (outputs(10) x inputs(65) np.array)\n",
        "       weights between sensory neurons and output neuron\n",
        "    x: (input(65) x batch np.array) sensory input\n",
        "       (can be single input, mini-batch of inputs or the whole batch of inputs)\n",
        "    y: (outputs(10) x batch np.array) target behavioural output as a vector\n",
        "       of the rewards recieved for each action taken given the x value\n",
        "       (can be a single target, mini-batch of targets, or whole batch),\n",
        "       needs to correspond to input\n",
        "\n",
        "  Returns:\n",
        "    R_bar: the average/expected reward obtained given the parameters, over the\n",
        "           (mini-)batch of inputs and targets. (mini-batch could be size 1)\n",
        "  \"\"\"\n",
        "  h = np.dot(W,x) # output x batch\n",
        "  y_hat = np_softmax(h) # outnput x batch\n",
        "  batch_expected_reward = np.sum(y * y_hat, axis=0)\n",
        "  R_bar = np.mean(batch_expected_reward)\n",
        "  return R_bar\n",
        "\n",
        "\n",
        "def eval_params_accuracy_percision_recall(W, x, y):\n",
        "  \"\"\"\n",
        "  evaluates parameters of simple behaviour circuit given inputs and target\n",
        "  outputs, use numpy broadcasting to be fast and concise\n",
        "  Args:\n",
        "    W: (outputs(10) x inputs(65) np.array)\n",
        "       weights between sensory neurons and output neuron\n",
        "    x: (input(65) x batch np.array) sensory input\n",
        "       (can be single input, mini-batch of inputs or the whole batch of inputs)\n",
        "    y: (outputs(10) x batch np.array) target behavioural output as a 1-hot\n",
        "       encoding the correct behaviour\n",
        "       (can be a single target, mini-batch of targets, or whole batch),\n",
        "       needs to correspond to input\n",
        "\n",
        "  Returns:\n",
        "    accuracy: percentage of correct classifications in the batch\n",
        "    percision: # correct deployments of action / # total deployments of action\n",
        "    recall: # correct deployments of action / # total cases when that action was correct\n",
        "  \"\"\"\n",
        "  h = np.dot(W,x) # output x batch\n",
        "  selected_indices = np.argmax(h, axis=0) # output x batch\n",
        "  selected = np.zeros_like(h)\n",
        "  selected[selected_indices, range(h.shape[1])] = 1\n",
        "  confusion = np.dot(y, selected.T) # outputs x outputs\n",
        "  # row sums are true classifications, col sums are selected classifications\n",
        "  accuracy = np.sum(np.diag(confusion)) / np.sum(confusion) if np.sum(confusion) > 0 else 0\n",
        "  class_precision = np.divide(np.diag(confusion), np.sum(confusion, axis=1),\n",
        "                              out=np.zeros_like(np.diag(confusion), dtype=float),\n",
        "                              where=np.sum(confusion, axis=1)!=0)\n",
        "  class_recall = np.divide(np.diag(confusion), np.sum(confusion, axis=0),\n",
        "                           out=np.zeros_like(np.diag(confusion), dtype=float),\n",
        "                           where=np.sum(confusion, axis=0)!=0)\n",
        "  return accuracy, class_precision, class_recall, confusion"
      ]
    },
    {
      "cell_type": "code",
      "source": [
        "Xs_aug.shape"
      ],
      "metadata": {
        "colab": {
          "base_uri": "https://localhost:8080/"
        },
        "id": "F1VCUZcdXRRh",
        "outputId": "645ecaf4-b4d1-435e-d78f-14e86b659bca"
      },
      "execution_count": 12,
      "outputs": [
        {
          "output_type": "execute_result",
          "data": {
            "text/plain": [
              "(5620, 65)"
            ]
          },
          "metadata": {},
          "execution_count": 12
        }
      ]
    },
    {
      "cell_type": "code",
      "source": [
        "5620 / 20"
      ],
      "metadata": {
        "colab": {
          "base_uri": "https://localhost:8080/"
        },
        "id": "LnjKW2AvXUnC",
        "outputId": "72898940-dcac-46f0-8437-83dbc8479f1b"
      },
      "execution_count": 13,
      "outputs": [
        {
          "output_type": "execute_result",
          "data": {
            "text/plain": [
              "281.0"
            ]
          },
          "metadata": {},
          "execution_count": 13
        }
      ]
    },
    {
      "cell_type": "code",
      "source": [
        "W = np.zeros((10,65))\n",
        "%timeit eval_params(W, Xs_aug.T, y_rewards.T)"
      ],
      "metadata": {
        "colab": {
          "base_uri": "https://localhost:8080/"
        },
        "id": "y9LblOOTR4kP",
        "outputId": "3b95b01b-a56d-48bb-ad31-3a1f8e97bdfd"
      },
      "execution_count": 14,
      "outputs": [
        {
          "output_type": "stream",
          "name": "stdout",
          "text": [
            "2.5 ms ± 180 µs per loop (mean ± std. dev. of 7 runs, 100 loops each)\n"
          ]
        }
      ]
    },
    {
      "cell_type": "code",
      "source": [
        "%timeit eval_params(W, Xs_aug[:562,:].T, y_rewards[:562].T)"
      ],
      "metadata": {
        "colab": {
          "base_uri": "https://localhost:8080/"
        },
        "id": "WXToBX9tQvyS",
        "outputId": "2b51fb61-bbea-44ca-ba28-ab2f63184742"
      },
      "execution_count": 15,
      "outputs": [
        {
          "output_type": "stream",
          "name": "stdout",
          "text": [
            "382 µs ± 16.1 µs per loop (mean ± std. dev. of 7 runs, 1000 loops each)\n"
          ]
        }
      ]
    },
    {
      "cell_type": "markdown",
      "source": [
        "Don't know if this isn't working because the algo is too slow or the model is not rich enough?"
      ],
      "metadata": {
        "id": "B40l7zGLXdnf"
      }
    },
    {
      "cell_type": "code",
      "source": [
        "# @title Mini-Batched Measure and Update Training Loop\n",
        "learn_rng = np.random.default_rng(0)\n",
        "num_epochs = 100\n",
        "alpha = 0.1 #learning rate or step size\n",
        "num_batches = 20  # Number of mini-batches\n",
        "batch_size = 281  # Size of each mini-batch\n",
        "a = np.sqrt(6. / (10+65))\n",
        "perturbation_scale = 2*a # std of gaussian perturbations\n",
        "W_init = learn_rng.uniform(low=-a, high=a, size=(10,65))\n",
        "W = W_init.copy()\n",
        "start_time = time.time()\n",
        "indices = np.arange(Xs_aug.shape[0])\n",
        "for epoch in range(num_epochs):\n",
        "  learn_rng.shuffle(indices)  # Shuffle the indices for each epoch\n",
        "  for batch in range(num_batches):\n",
        "    # Select a mini-batch for this iteration\n",
        "    batch_indices = indices[batch * batch_size : (batch + 1) * batch_size]\n",
        "    X_batch = Xs_aug[batch_indices, :].T\n",
        "    y_batch = y_rewards[batch_indices].T\n",
        "    R_bar_old = eval_params(W, X_batch, y_batch)\n",
        "    W_perturbations = learn_rng.normal(0, perturbation_scale, size=(10,65))\n",
        "    #perturb and evaluate each W_j separately\n",
        "    finite_differences_W = np.zeros(W.shape)\n",
        "    for ii in range(W_perturbations.shape[0]):\n",
        "      for jj in range(W_perturbations.shape[1]):\n",
        "        original_value = W[ii,jj]\n",
        "        W[ii, jj] += W_perturbations[ii, jj]\n",
        "        R_bar_perturbed_Wij = eval_params(W, X_batch, y_batch)\n",
        "        finite_differences_W[ii,jj] = (R_bar_perturbed_Wij - R_bar_old) / W_perturbations[ii,jj]\n",
        "        W[ii,jj] = original_value  # Revert the perturbation\n",
        "\n",
        "    delta_W = alpha * finite_differences_W\n",
        "    W += delta_W\n",
        "\n",
        "  if epoch == 0 or (epoch + 1) % 5 == 0:\n",
        "    accuracy, _, _, _ = eval_params_accuracy_percision_recall(W, Xs_aug.T, y_one_hot.T)\n",
        "    elapsed_time = time.time() - start_time\n",
        "    print(f'Epoch {epoch + 1}/{num_epochs} completed | Full Batch Accuracy: {accuracy:.6f} | Time elapsed: {elapsed_time:.2f} seconds')"
      ],
      "metadata": {
        "colab": {
          "base_uri": "https://localhost:8080/"
        },
        "id": "JCaMUzD1S_jS",
        "outputId": "e223e177-25c5-4f25-fad4-7a1da23debc1"
      },
      "execution_count": 16,
      "outputs": [
        {
          "output_type": "stream",
          "name": "stdout",
          "text": [
            "Epoch 1/100 completed | Full Batch Accuracy: 0.352135 | Time elapsed: 1.89 seconds\n",
            "Epoch 5/100 completed | Full Batch Accuracy: 0.561922 | Time elapsed: 9.47 seconds\n",
            "Epoch 10/100 completed | Full Batch Accuracy: 0.573488 | Time elapsed: 18.75 seconds\n",
            "Epoch 15/100 completed | Full Batch Accuracy: 0.578292 | Time elapsed: 27.95 seconds\n",
            "Epoch 20/100 completed | Full Batch Accuracy: 0.669395 | Time elapsed: 37.17 seconds\n",
            "Epoch 25/100 completed | Full Batch Accuracy: 0.769573 | Time elapsed: 46.49 seconds\n",
            "Epoch 30/100 completed | Full Batch Accuracy: 0.861922 | Time elapsed: 55.93 seconds\n",
            "Epoch 35/100 completed | Full Batch Accuracy: 0.870641 | Time elapsed: 65.28 seconds\n",
            "Epoch 40/100 completed | Full Batch Accuracy: 0.873310 | Time elapsed: 74.58 seconds\n",
            "Epoch 45/100 completed | Full Batch Accuracy: 0.874733 | Time elapsed: 83.79 seconds\n",
            "Epoch 50/100 completed | Full Batch Accuracy: 0.875267 | Time elapsed: 93.09 seconds\n",
            "Epoch 55/100 completed | Full Batch Accuracy: 0.875979 | Time elapsed: 102.43 seconds\n",
            "Epoch 60/100 completed | Full Batch Accuracy: 0.925801 | Time elapsed: 111.93 seconds\n",
            "Epoch 65/100 completed | Full Batch Accuracy: 0.967794 | Time elapsed: 121.53 seconds\n",
            "Epoch 70/100 completed | Full Batch Accuracy: 0.971886 | Time elapsed: 131.04 seconds\n",
            "Epoch 75/100 completed | Full Batch Accuracy: 0.973843 | Time elapsed: 140.62 seconds\n",
            "Epoch 80/100 completed | Full Batch Accuracy: 0.975445 | Time elapsed: 150.17 seconds\n",
            "Epoch 85/100 completed | Full Batch Accuracy: 0.976335 | Time elapsed: 159.67 seconds\n",
            "Epoch 90/100 completed | Full Batch Accuracy: 0.977046 | Time elapsed: 169.09 seconds\n",
            "Epoch 95/100 completed | Full Batch Accuracy: 0.978114 | Time elapsed: 178.56 seconds\n",
            "Epoch 100/100 completed | Full Batch Accuracy: 0.978826 | Time elapsed: 188.09 seconds\n"
          ]
        }
      ]
    },
    {
      "cell_type": "markdown",
      "source": [
        "Alot depends on random initialization here so important not to draw conclusions from a single training run, this is the average learning trajectory of the above loop over twenty runs"
      ],
      "metadata": {
        "id": "oKW2nBGNINmk"
      }
    },
    {
      "cell_type": "code",
      "source": [
        "accuracy, prec, recall, confusion = eval_params_accuracy_percision_recall(W, Xs_aug.T, y_one_hot.T)\n"
      ],
      "metadata": {
        "id": "fTFCArq2Pqhi"
      },
      "execution_count": 17,
      "outputs": []
    },
    {
      "cell_type": "markdown",
      "source": [
        "By looking at the confusion matrix we can see that on this first run at least, this model learned to do a pretty good job correctly paring each of the 10 possible actions with the correct class of stimuli."
      ],
      "metadata": {
        "id": "II5ZaGzFIqu_"
      }
    },
    {
      "cell_type": "code",
      "source": [
        "confusion"
      ],
      "metadata": {
        "colab": {
          "base_uri": "https://localhost:8080/"
        },
        "id": "xD7xlkxjPwvy",
        "outputId": "43be4dca-0ce4-43a6-853b-09aa6accb478"
      },
      "execution_count": 18,
      "outputs": [
        {
          "output_type": "execute_result",
          "data": {
            "text/plain": [
              "array([[552.,   0.,   0.,   0.,   1.,   0.,   1.,   0.,   0.,   0.],\n",
              "       [  0., 551.,   1.,   0.,   0.,   0.,   1.,   3.,  10.,   5.],\n",
              "       [  0.,   2., 547.,   2.,   0.,   0.,   1.,   1.,   3.,   1.],\n",
              "       [  0.,   0.,   0., 560.,   0.,   7.,   0.,   0.,   3.,   2.],\n",
              "       [  0.,   1.,   0.,   0., 554.,   0.,   3.,   0.,   5.,   5.],\n",
              "       [  0.,   1.,   2.,   1.,   0., 548.,   1.,   0.,   0.,   5.],\n",
              "       [  0.,   3.,   0.,   0.,   1.,   0., 554.,   0.,   0.,   0.],\n",
              "       [  0.,   0.,   0.,   2.,   1.,   0.,   0., 561.,   0.,   2.],\n",
              "       [  1.,   9.,   2.,   0.,   3.,   5.,   0.,   0., 533.,   1.],\n",
              "       [  0.,   6.,   0.,   3.,   1.,   2.,   0.,   4.,   5., 541.]])"
            ]
          },
          "metadata": {},
          "execution_count": 18
        }
      ]
    },
    {
      "cell_type": "markdown",
      "source": [
        "So it's able to learn to discriminate between all the different classes, in about 3 minutes. That's pretty good, but could it be fasters?"
      ],
      "metadata": {
        "id": "4Asc4wP2W8Rl"
      }
    },
    {
      "cell_type": "markdown",
      "source": [
        "# 2.1.2.2 Learning to do the right thing using the Delta Rule"
      ],
      "metadata": {
        "id": "TaTAuQ-qV-ZZ"
      }
    },
    {
      "cell_type": "markdown",
      "source": [
        "Looking at the code block above this is because we must loop through every single parameter to make updates and there are 10 x 65 = 650 of these, so there are 650 evaluations just to do one full update of the parameters, so great that this works but it is so slow.\n",
        "\n",
        "Now we had a similar number of units when we introduced a 10 unit hidden layer (10 x 65 + 10 x 1 = 660) to our binary discrimination task, and that performed relatively well. But that was also a much simpler problem.\n",
        "\n",
        "Let's see if we can leverage what we know about the structure of the model to make more efficient parameter updates. We focus on how to update params based on the experience of a single training example at first."
      ],
      "metadata": {
        "id": "-6pv5SW4VpPK"
      }
    },
    {
      "cell_type": "markdown",
      "source": [
        "A reward is recieved, if it is positive, this was good and in general we should reinforce the parameters by an amount that is proportional to their causal impact on bringing about the action choice that led to this reward. Similarly, if that reward is negative we should un-reinforce the parameters by an amount that is proportional to their causal impact on bringing about the action choice that led to this reward. Here is how we will achieve this.\n",
        "\n",
        "We are going to treat the $\\mathbf{y}$ as estimates of the reward that will be recieved when taking the corresponding action. (Then, the softmax normalization is how the critter translates these estimates of expected reward into a probability over actions). Taking this view, the organism only recieves information about the reward deriving from the particular action it took. If the reward is higher than what it expected the organism should update its parameters in a way that increases the expected reward when taking this action given the particular stimuli $\\mathbf{x}$ conversely if the reward is lower than expected the organism should update its parameters in a way that decreases the expected reward when taking this action given this particular stimuli. One of the simplest possible update rules that achieves this is the 'Delta Rule' or sometimes called the Widrow-Hoff rule or Least Mean Square (LMS) method\n",
        "\n",
        "$$\\delta \\mathbf{W}_{ij} =\n",
        "\\begin{cases}\n",
        "\\alpha \\cdot (r - \\mathbf{y}_i) \\cdot x_j & \\text{if } i = a, \\\\\n",
        "0 & \\text{if } i \\neq a.\n",
        "\\end{cases}\n",
        "$$\n",
        "\n",
        "Here, $\\mathbf{y}_i$ is the $i^{th}$ element of $\\mathbf{y}$ and $\\mathbf{x}_j$ is the $j^{th}$ element of $\\mathbf{x}$. Notice that only the weights directly responsible for estimating the reward from the chosen action are updated.\n",
        "\n",
        "Many of the learning rules we encounter will have this basic form: The update of a parameter will be proportional to some error signal or divergence between an expected/predicted/anticipated value and an observed value, in this case $y_i$ gives the expected reward when taking action $a=i$ conditional on stimuli/input pattern $\\mathbf{x}$ and $r$ is the actual reward recieved so $(r-\\mathbf{y}_i)$ is that error term. The parameter update will also be proportional to the causal relevance of that term for the error, in this case this is captured by the $\\mathbf{x}_j$ term. If $\\mathbf{x}_j$ was zero in this case $\\mathbf{W}_{ij}$ would have had no bearing on $\\mathbf{y}_i$ and so there would be no update. When $x_j$ is non-zero the sign (+/-) of $\\mathbf{x}_j$ aligns the parameter change correctly with the type of error. So that $\\mathbf{W}_ij$ increases both when the predicted reward is less than the actual with $\\mathbf{x}_j$ positive and when the predicted reward is greater than the actual with $\\mathbf{x}_j$ negative; and conversely $\\mathbf{W}_ij$ decreases both when the predicted reward is less than the actual with $\\mathbf{x}_j$ negative and when the predicted reward is greater than the actual with $\\mathbf{x}_j$ positve."
      ],
      "metadata": {
        "id": "aGYUBlE-2kVi"
      }
    },
    {
      "cell_type": "markdown",
      "source": [
        "Now let's program a training loop that uses this new update rule. First we need to code up an explicit action selection function. Previously, in our eval params function we were simply taking expected values, given the organism's probabilities of taking different actions. Now, however our update rule really only makes sense when a particular actions is taken and a particular reward is recieved."
      ],
      "metadata": {
        "id": "9-BWhLQ0YhbN"
      }
    },
    {
      "cell_type": "code",
      "source": [
        "def select_action(W, x, rng=None, temp=1, type='deterministic', ):\n",
        "  \"\"\"\n",
        "  Chooses actions based on a simple behaviour circuit, with parameters W\n",
        "  given inputs x. Choice is deterministic or stochastic as determined by type.\n",
        "  If stochastic we use softmax selection with temp and target\n",
        "  outputs, use numpy broadcasting to be fast and concise\n",
        "  Args:\n",
        "    W: (outputs(10) x inputs(65) np.array)\n",
        "       weights between sensory neurons and output neuron\n",
        "    x: (input(65) x batch np.array) sensory input\n",
        "       (can be single input, mini-batch of inputs or the whole batch of inputs)\n",
        "    temp: scalar temperature parameter for softmax selection, low values make it\n",
        "          closer to deterministic, high values make it closer to uniform random\n",
        "          selection\n",
        "    type: 'deterministic' or 'stochastic'\n",
        "  Returns:\n",
        "    selected_action_index, selected_action_probabilities, selected_aciton_one_hot\n",
        "  \"\"\"\n",
        "  if rng is None:\n",
        "    rng = np.random.default_rng(0)\n",
        "  v = np.dot(W, x) # (output x batch)\n",
        "  if type == 'deterministic':\n",
        "    selected_indices = np.argmax(v, axis=0) # output x batch\n",
        "  elif type == 'stochastic':\n",
        "    v_shift = v - np.max(v, axis=0)\n",
        "    selection_probs = np.exp(v_shift / temp) / np.sum(np.exp(v_shift / temp), axis=0)\n",
        "    cs_selection_probs = np.cumsum(selection_probs, axis=0)\n",
        "    rands = rng.random(size=(1, v.shape[1]))\n",
        "    is_greater = cs_selection_probs > rands\n",
        "    selected_indices = np.argmax(is_greater, axis=0)\n",
        "  else:\n",
        "    raise ValueError(f'Unknown type {type}')\n",
        "  selected = np.zeros_like(v)\n",
        "  selected[selected_indices, range(v.shape[1])] = 1\n",
        "  return selected_indices, selected, v\n",
        "\n",
        "def eval_params(W, x, y, use_expectation=True):\n",
        "  \"\"\"\n",
        "  evaluates parameters of simple behaviour circuit given inputs and target\n",
        "  outputs, use numpy broadcasting to be fast and concise\n",
        "  Args:\n",
        "    W: (outputs(10) x inputs(65) np.array)\n",
        "       weights between sensory neurons and output neuron\n",
        "    x: (input(65) x batch np.array) sensory input\n",
        "       (can be single input, mini-batch of inputs or the whole batch of inputs)\n",
        "    y: (outputs(10) x batch np.array) target behavioural output as a vector\n",
        "       of the rewards recieved for each action taken given the x value\n",
        "       (can be a single target, mini-batch of targets, or whole batch),\n",
        "       needs to correspond to input\n",
        "\n",
        "  Returns:\n",
        "    R_bar: the average/expected reward obtained given the parameters, over the\n",
        "           (mini-)batch of inputs and targets. (mini-batch could be size 1)\n",
        "  \"\"\"\n",
        "  h = np.dot(W,x) # output x batch\n",
        "  y_hat = np_softmax(h) # outnput x batch\n",
        "  if use_expectation:\n",
        "    batch_expected_reward = np.sum(y * y_hat, axis=0)\n",
        "    R_bar = np.mean(batch_expected_reward)\n",
        "  else:\n",
        "    selected_indices, selected, v = select_action(W, x, temp=1, type='stochastic')\n",
        "    actual_rewards = y[selected_indices, range(y.shape[1])]\n",
        "    R_bar = np.mean(actual_rewards)\n",
        "  return R_bar"
      ],
      "metadata": {
        "id": "sgDMTCGeZvq4"
      },
      "execution_count": 19,
      "outputs": []
    },
    {
      "cell_type": "code",
      "source": [
        "learn_rng = np.random.default_rng(0)\n",
        "num_epochs = 20000\n",
        "alpha = 0.0000006 #learning rate or step size\n",
        "a = np.sqrt(6. / (10+65))\n",
        "W_init = learn_rng.uniform(low=-a, high=a, size=(10,65))\n",
        "W = W_init.copy()\n",
        "start_time = time.time()\n",
        "indices = np.arange(Xs_aug.shape[0])\n",
        "for epoch in range(num_epochs):\n",
        "  selected_actions, selected_one_hot, v = select_action(W, Xs_aug.T, rng=learn_rng, type='stochastic')\n",
        "  range_index = np.arange(len(selected_actions))\n",
        "  y_selected = y_rewards[range_index, selected_actions].T\n",
        "  v_selected = v[selected_actions, range_index]\n",
        "  delta_W = np.zeros_like(W)\n",
        "  for action in range(W.shape[0]):\n",
        "    action_mask = selected_actions == action\n",
        "    if np.any(action_mask):\n",
        "      # stimuli that caused actions of this type\n",
        "      X_relevant = Xs_aug.T[:, action_mask]  # input x num actions of this type\n",
        "      # reward errors for actions of this type\n",
        "      reward_error = y_selected[action_mask] - v_selected[action_mask] # num_actions of this type\n",
        "      reward_error = reward_error[np.newaxis, :]  # (1, num_actions of this type)\n",
        "      delta_W[action, :] = np.sum(alpha * X_relevant * reward_error, axis=1)\n",
        "  W += delta_W\n",
        "\n",
        "  if epoch == 0 or (epoch + 1) % 500 == 0:\n",
        "    accuracy, _, _, _ = eval_params_accuracy_percision_recall(W, Xs_aug.T, y_one_hot.T)\n",
        "    elapsed_time = time.time() - start_time\n",
        "    print(f'Epoch {epoch + 1}/{num_epochs} completed | Full Batch Accuracy: {accuracy:.6f} | Time elapsed: {elapsed_time:.2f} seconds')"
      ],
      "metadata": {
        "colab": {
          "base_uri": "https://localhost:8080/"
        },
        "id": "UYvAFUQmY_6U",
        "outputId": "3bcc8dc1-1fda-49ab-adf3-264860ff83eb"
      },
      "execution_count": 20,
      "outputs": [
        {
          "output_type": "stream",
          "name": "stdout",
          "text": [
            "Epoch 1/20000 completed | Full Batch Accuracy: 0.080961 | Time elapsed: 0.02 seconds\n",
            "Epoch 500/20000 completed | Full Batch Accuracy: 0.498932 | Time elapsed: 5.40 seconds\n",
            "Epoch 1000/20000 completed | Full Batch Accuracy: 0.670819 | Time elapsed: 10.68 seconds\n",
            "Epoch 1500/20000 completed | Full Batch Accuracy: 0.816548 | Time elapsed: 16.48 seconds\n",
            "Epoch 2000/20000 completed | Full Batch Accuracy: 0.873488 | Time elapsed: 21.74 seconds\n",
            "Epoch 2500/20000 completed | Full Batch Accuracy: 0.905516 | Time elapsed: 27.35 seconds\n",
            "Epoch 3000/20000 completed | Full Batch Accuracy: 0.925089 | Time elapsed: 32.62 seconds\n",
            "Epoch 3500/20000 completed | Full Batch Accuracy: 0.933630 | Time elapsed: 38.28 seconds\n",
            "Epoch 4000/20000 completed | Full Batch Accuracy: 0.938256 | Time elapsed: 43.43 seconds\n",
            "Epoch 4500/20000 completed | Full Batch Accuracy: 0.942171 | Time elapsed: 48.60 seconds\n",
            "Epoch 5000/20000 completed | Full Batch Accuracy: 0.943772 | Time elapsed: 53.89 seconds\n",
            "Epoch 5500/20000 completed | Full Batch Accuracy: 0.945018 | Time elapsed: 59.05 seconds\n",
            "Epoch 6000/20000 completed | Full Batch Accuracy: 0.944306 | Time elapsed: 64.43 seconds\n",
            "Epoch 6500/20000 completed | Full Batch Accuracy: 0.946263 | Time elapsed: 69.58 seconds\n",
            "Epoch 7000/20000 completed | Full Batch Accuracy: 0.946085 | Time elapsed: 75.07 seconds\n",
            "Epoch 7500/20000 completed | Full Batch Accuracy: 0.946085 | Time elapsed: 80.34 seconds\n",
            "Epoch 8000/20000 completed | Full Batch Accuracy: 0.947509 | Time elapsed: 85.62 seconds\n",
            "Epoch 8500/20000 completed | Full Batch Accuracy: 0.946263 | Time elapsed: 91.13 seconds\n",
            "Epoch 9000/20000 completed | Full Batch Accuracy: 0.945907 | Time elapsed: 96.33 seconds\n",
            "Epoch 9500/20000 completed | Full Batch Accuracy: 0.946975 | Time elapsed: 101.74 seconds\n",
            "Epoch 10000/20000 completed | Full Batch Accuracy: 0.946797 | Time elapsed: 107.03 seconds\n",
            "Epoch 10500/20000 completed | Full Batch Accuracy: 0.946619 | Time elapsed: 112.62 seconds\n",
            "Epoch 11000/20000 completed | Full Batch Accuracy: 0.946975 | Time elapsed: 117.82 seconds\n",
            "Epoch 11500/20000 completed | Full Batch Accuracy: 0.946797 | Time elapsed: 123.20 seconds\n",
            "Epoch 12000/20000 completed | Full Batch Accuracy: 0.947153 | Time elapsed: 128.76 seconds\n",
            "Epoch 12500/20000 completed | Full Batch Accuracy: 0.947687 | Time elapsed: 133.99 seconds\n",
            "Epoch 13000/20000 completed | Full Batch Accuracy: 0.947687 | Time elapsed: 139.66 seconds\n",
            "Epoch 13500/20000 completed | Full Batch Accuracy: 0.947331 | Time elapsed: 145.05 seconds\n",
            "Epoch 14000/20000 completed | Full Batch Accuracy: 0.948043 | Time elapsed: 150.68 seconds\n",
            "Epoch 14500/20000 completed | Full Batch Accuracy: 0.948043 | Time elapsed: 155.96 seconds\n",
            "Epoch 15000/20000 completed | Full Batch Accuracy: 0.948577 | Time elapsed: 161.25 seconds\n",
            "Epoch 15500/20000 completed | Full Batch Accuracy: 0.949466 | Time elapsed: 166.55 seconds\n",
            "Epoch 16000/20000 completed | Full Batch Accuracy: 0.949644 | Time elapsed: 171.63 seconds\n",
            "Epoch 16500/20000 completed | Full Batch Accuracy: 0.949466 | Time elapsed: 177.15 seconds\n",
            "Epoch 17000/20000 completed | Full Batch Accuracy: 0.949288 | Time elapsed: 182.40 seconds\n",
            "Epoch 17500/20000 completed | Full Batch Accuracy: 0.949288 | Time elapsed: 188.11 seconds\n",
            "Epoch 18000/20000 completed | Full Batch Accuracy: 0.949644 | Time elapsed: 193.44 seconds\n",
            "Epoch 18500/20000 completed | Full Batch Accuracy: 0.950000 | Time elapsed: 198.99 seconds\n",
            "Epoch 19000/20000 completed | Full Batch Accuracy: 0.949644 | Time elapsed: 204.34 seconds\n",
            "Epoch 19500/20000 completed | Full Batch Accuracy: 0.950000 | Time elapsed: 209.60 seconds\n",
            "Epoch 20000/20000 completed | Full Batch Accuracy: 0.949466 | Time elapsed: 215.08 seconds\n"
          ]
        }
      ]
    },
    {
      "cell_type": "markdown",
      "source": [
        "It seems a bit faster, but not that much faster. This is because the comparison isn't really fair. In our measure and update loop we're using the proper expected reward, whereas in this reward-expectation error driven update we're using a specific sample of the reward based on actual sampled actions. Here's a version of our measure and update rule using actual sampled actions instead"
      ],
      "metadata": {
        "id": "G7ZctRx7JsQ8"
      }
    },
    {
      "cell_type": "markdown",
      "source": [
        "It's difficult to compare these directly, since the perturbation method with actual action sampling requires getting the purturbation scale dialed in just right so that perturbations are likely to change actual behavioural outcomes, in contrast if we just look at expectations there is a lot of information coming in there, basically every single action is able to evaluated at once. In contrast"
      ],
      "metadata": {
        "id": "a1r8Z0AhMoZ6"
      }
    },
    {
      "cell_type": "code",
      "source": [
        "# @title Mini-Batched Measure and Update Training Loop\n",
        "learn_rng = np.random.default_rng(0)\n",
        "num_epochs = 100\n",
        "alpha = 0.1 #learning rate or step size\n",
        "num_batches = 20  # Number of mini-batches\n",
        "batch_size = 281  # Size of each mini-batch\n",
        "a = np.sqrt(6. / (10+65))\n",
        "perturbation_scale = 2*a # std of gaussian perturbations\n",
        "W_init = learn_rng.uniform(low=-a, high=a, size=(10,65))\n",
        "W = W_init.copy()\n",
        "start_time = time.time()\n",
        "indices = np.arange(Xs_aug.shape[0])\n",
        "for epoch in range(num_epochs):\n",
        "  learn_rng.shuffle(indices)  # Shuffle the indices for each epoch\n",
        "  for batch in range(num_batches):\n",
        "    # Select a mini-batch for this iteration\n",
        "    batch_indices = indices[batch * batch_size : (batch + 1) * batch_size]\n",
        "    X_batch = Xs_aug[batch_indices, :].T\n",
        "    y_batch = y_rewards[batch_indices].T\n",
        "    R_bar_old = eval_params(W, X_batch, y_batch)\n",
        "    W_perturbations = learn_rng.normal(0, perturbation_scale, size=(10,65))\n",
        "    #perturb and evaluate each W_j separately\n",
        "    finite_differences_W = np.zeros(W.shape)\n",
        "    for ii in range(W_perturbations.shape[0]):\n",
        "      for jj in range(W_perturbations.shape[1]):\n",
        "        original_value = W[ii,jj]\n",
        "        W[ii, jj] += W_perturbations[ii, jj]\n",
        "        R_bar_perturbed_Wij = eval_params(W, X_batch, y_batch, use_expectation=False)\n",
        "        finite_differences_W[ii,jj] = (R_bar_perturbed_Wij - R_bar_old) / W_perturbations[ii,jj]\n",
        "        W[ii,jj] = original_value  # Revert the perturbation\n",
        "\n",
        "    delta_W = alpha * finite_differences_W\n",
        "    W += delta_W\n",
        "\n",
        "  if epoch == 0 or (epoch + 1) % 5 == 0:\n",
        "    accuracy, _, _, _ = eval_params_accuracy_percision_recall(W, Xs_aug.T, y_one_hot.T)\n",
        "    elapsed_time = time.time() - start_time\n",
        "    print(f'Epoch {epoch + 1}/{num_epochs} completed | Full Batch Accuracy: {accuracy:.6f} | Time elapsed: {elapsed_time:.2f} seconds')"
      ],
      "metadata": {
        "colab": {
          "base_uri": "https://localhost:8080/"
        },
        "id": "qB_gDH6OKWWt",
        "outputId": "a294afe6-0b8a-4a31-b724-65569b106512"
      },
      "execution_count": 21,
      "outputs": [
        {
          "output_type": "stream",
          "name": "stdout",
          "text": [
            "Epoch 1/100 completed | Full Batch Accuracy: 0.094662 | Time elapsed: 6.33 seconds\n",
            "Epoch 5/100 completed | Full Batch Accuracy: 0.094662 | Time elapsed: 32.03 seconds\n",
            "Epoch 10/100 completed | Full Batch Accuracy: 0.037367 | Time elapsed: 64.45 seconds\n",
            "Epoch 15/100 completed | Full Batch Accuracy: 0.074733 | Time elapsed: 98.20 seconds\n",
            "Epoch 20/100 completed | Full Batch Accuracy: 0.061388 | Time elapsed: 132.52 seconds\n",
            "Epoch 25/100 completed | Full Batch Accuracy: 0.099644 | Time elapsed: 173.84 seconds\n",
            "Epoch 30/100 completed | Full Batch Accuracy: 0.099644 | Time elapsed: 218.87 seconds\n",
            "Epoch 35/100 completed | Full Batch Accuracy: 0.099644 | Time elapsed: 263.95 seconds\n",
            "Epoch 40/100 completed | Full Batch Accuracy: 0.099644 | Time elapsed: 308.57 seconds\n",
            "Epoch 45/100 completed | Full Batch Accuracy: 0.099644 | Time elapsed: 353.71 seconds\n",
            "Epoch 50/100 completed | Full Batch Accuracy: 0.099644 | Time elapsed: 398.72 seconds\n",
            "Epoch 55/100 completed | Full Batch Accuracy: 0.099644 | Time elapsed: 443.68 seconds\n",
            "Epoch 60/100 completed | Full Batch Accuracy: 0.099644 | Time elapsed: 488.47 seconds\n",
            "Epoch 65/100 completed | Full Batch Accuracy: 0.099644 | Time elapsed: 533.75 seconds\n",
            "Epoch 70/100 completed | Full Batch Accuracy: 0.099644 | Time elapsed: 578.58 seconds\n",
            "Epoch 75/100 completed | Full Batch Accuracy: 0.099644 | Time elapsed: 623.11 seconds\n",
            "Epoch 80/100 completed | Full Batch Accuracy: 0.099644 | Time elapsed: 667.54 seconds\n",
            "Epoch 85/100 completed | Full Batch Accuracy: 0.099644 | Time elapsed: 712.03 seconds\n",
            "Epoch 90/100 completed | Full Batch Accuracy: 0.099644 | Time elapsed: 756.67 seconds\n",
            "Epoch 95/100 completed | Full Batch Accuracy: 0.099644 | Time elapsed: 801.75 seconds\n",
            "Epoch 100/100 completed | Full Batch Accuracy: 0.099644 | Time elapsed: 846.68 seconds\n"
          ]
        }
      ]
    },
    {
      "cell_type": "code",
      "source": [
        "selected_indices, selected, v = select_action(W, Xs_aug.T, rng=learn_rng, type='stochastic')"
      ],
      "metadata": {
        "id": "B8MiMbG5vBX2"
      },
      "execution_count": 22,
      "outputs": []
    },
    {
      "cell_type": "code",
      "source": [
        "selected_indices"
      ],
      "metadata": {
        "colab": {
          "base_uri": "https://localhost:8080/"
        },
        "id": "JDmwoIU8vt-o",
        "outputId": "6ffd6cb3-5047-4c33-ebfa-1a0bd977ae33"
      },
      "execution_count": 23,
      "outputs": [
        {
          "output_type": "execute_result",
          "data": {
            "text/plain": [
              "array([9, 9, 9, ..., 9, 9, 9])"
            ]
          },
          "metadata": {},
          "execution_count": 23
        }
      ]
    },
    {
      "cell_type": "code",
      "source": [
        "y_rewards.shape"
      ],
      "metadata": {
        "colab": {
          "base_uri": "https://localhost:8080/"
        },
        "id": "1xBvCP8KvZDI",
        "outputId": "53f81330-bf39-4943-c79c-342ed8cfae46"
      },
      "execution_count": 24,
      "outputs": [
        {
          "output_type": "execute_result",
          "data": {
            "text/plain": [
              "(5620, 10)"
            ]
          },
          "metadata": {},
          "execution_count": 24
        }
      ]
    },
    {
      "cell_type": "code",
      "source": [
        "selected_indices.shape"
      ],
      "metadata": {
        "colab": {
          "base_uri": "https://localhost:8080/"
        },
        "id": "quydTJnwvc3T",
        "outputId": "a447d1d1-b5d6-42df-8db1-ab0b52cefd13"
      },
      "execution_count": 25,
      "outputs": [
        {
          "output_type": "execute_result",
          "data": {
            "text/plain": [
              "(5620,)"
            ]
          },
          "metadata": {},
          "execution_count": 25
        }
      ]
    },
    {
      "cell_type": "code",
      "source": [
        "y_rewards[np.arange(len(selected_indices)), selected_indices].shape"
      ],
      "metadata": {
        "colab": {
          "base_uri": "https://localhost:8080/"
        },
        "id": "-lEFcmEwvKqk",
        "outputId": "e8abcffb-e171-404a-ed5d-8a153af8c107"
      },
      "execution_count": 26,
      "outputs": [
        {
          "output_type": "execute_result",
          "data": {
            "text/plain": [
              "(5620,)"
            ]
          },
          "metadata": {},
          "execution_count": 26
        }
      ]
    },
    {
      "cell_type": "code",
      "source": [
        "v.T[np.arange(len(selected_indices)), selected_indices].shape"
      ],
      "metadata": {
        "colab": {
          "base_uri": "https://localhost:8080/"
        },
        "id": "QTU3-twIwzFd",
        "outputId": "84f213cc-1c31-49bc-ebc4-3bd1c3ee7ddf"
      },
      "execution_count": 27,
      "outputs": [
        {
          "output_type": "execute_result",
          "data": {
            "text/plain": [
              "(5620,)"
            ]
          },
          "metadata": {},
          "execution_count": 27
        }
      ]
    },
    {
      "cell_type": "code",
      "source": [
        "np.mean((y - v)**2)"
      ],
      "metadata": {
        "colab": {
          "base_uri": "https://localhost:8080/",
          "height": 141
        },
        "id": "VGUBHFnaxQEO",
        "outputId": "44321952-64ed-4f00-c8ba-ebd281fc1462"
      },
      "execution_count": 28,
      "outputs": [
        {
          "output_type": "error",
          "ename": "ValueError",
          "evalue": "operands could not be broadcast together with shapes (5620,1) (10,5620) ",
          "traceback": [
            "\u001b[0;31m---------------------------------------------------------------------------\u001b[0m",
            "\u001b[0;31mValueError\u001b[0m                                Traceback (most recent call last)",
            "\u001b[0;32m<ipython-input-28-1734cee9e3ad>\u001b[0m in \u001b[0;36m<cell line: 1>\u001b[0;34m()\u001b[0m\n\u001b[0;32m----> 1\u001b[0;31m \u001b[0mnp\u001b[0m\u001b[0;34m.\u001b[0m\u001b[0mmean\u001b[0m\u001b[0;34m(\u001b[0m\u001b[0;34m(\u001b[0m\u001b[0my\u001b[0m \u001b[0;34m-\u001b[0m \u001b[0mv\u001b[0m\u001b[0;34m)\u001b[0m\u001b[0;34m**\u001b[0m\u001b[0;36m2\u001b[0m\u001b[0;34m)\u001b[0m\u001b[0;34m\u001b[0m\u001b[0;34m\u001b[0m\u001b[0m\n\u001b[0m",
            "\u001b[0;31mValueError\u001b[0m: operands could not be broadcast together with shapes (5620,1) (10,5620) "
          ]
        }
      ]
    },
    {
      "cell_type": "code",
      "source": [
        "v.shape"
      ],
      "metadata": {
        "id": "oQYcfkjDwvYk"
      },
      "execution_count": null,
      "outputs": []
    },
    {
      "cell_type": "markdown",
      "source": [
        "We're going to really want to walk through this step by step and see how the probability of the action taken increases or decrease, and then how by definition the probability of all the other actions goes up or down to balance this change."
      ],
      "metadata": {
        "id": "tzhpStRWur7_"
      }
    },
    {
      "cell_type": "code",
      "source": [
        "accuracy, prec, recall, confusion = eval_params_accuracy_percision_recall(W, Xs_aug.T, y_one_hot.T)"
      ],
      "metadata": {
        "id": "3ZM8z--Gs4CS"
      },
      "execution_count": null,
      "outputs": []
    },
    {
      "cell_type": "code",
      "source": [
        "np.sum(confusion, axis=0, keepdims=True)"
      ],
      "metadata": {
        "id": "2qMZJSf6s5Yg"
      },
      "execution_count": null,
      "outputs": []
    },
    {
      "cell_type": "markdown",
      "metadata": {
        "execution": {},
        "id": "2H9t80HSIrDw"
      },
      "source": [
        "This is what 'propose and reject' looks like for this harder problem:"
      ]
    },
    {
      "cell_type": "code",
      "execution_count": null,
      "metadata": {
        "execution": {},
        "id": "r0bzqxQKIrDw"
      },
      "outputs": [],
      "source": [
        "# @title Propose and Reject Training Loop\n"
      ]
    },
    {
      "cell_type": "code",
      "execution_count": null,
      "metadata": {
        "execution": {},
        "id": "pDG2WbbFIrDr"
      },
      "outputs": [],
      "source": [
        "################################################################################\n",
        "# TODO for students: Complete the lines with ... to implement a parameter\n",
        "# evaluation function\n",
        "raise NotImplementedError(\"Exercise: parameter evaluation\")\n",
        "################################################################################\n",
        "\n",
        "\n",
        "def np_sigmoid(x):\n",
        "  return 1 / (1 + np.exp(-x))\n",
        "\n",
        "\n",
        "def eval_params_slow(w, b, x, y):\n",
        "  \"\"\"\n",
        "  evaluates parameters of simple behaviour circuit given inputs and target\n",
        "  outputs, use for loops to think carefully about what we're doing\n",
        "  Args:\n",
        "    w: (scalar) weight between sensory and output neuron\n",
        "    b: (scalar) bias of behavioural output neuron\n",
        "    x: (1 np.array x batch) sensory input\n",
        "       (can be single input, mini-batch of inputs or the whole batch of inputs)\n",
        "    y: (1 np.array x batch) target behavioural output (can be a single target,\n",
        "       mini-batch of targets, or whole batch), needs to correspond to input\n",
        "\n",
        "  Returns:\n",
        "    R_bar: the average/expected reward obtained given the parameters, over the\n",
        "           (mini-)batch of inputs and targets. (mini-batch could be size 1)\n",
        "  \"\"\"\n",
        "  batch_len = x.shape[1]\n",
        "  h = np.zeros((1, batch_len))\n",
        "  y_hat = np.zeros((1, batch_len))\n",
        "  R_total = 0\n",
        "  for ii in range(batch_len):\n",
        "    h[0,ii] = ...\n",
        "    y_hat[0,ii] = np_sigmoid(...)\n",
        "    # y_hat is our probability of striking\n",
        "    # compute the expected score\n",
        "    if y[0,ii] == 1:\n",
        "      # supposed to strike\n",
        "      # with probability y_hat creature strikes and gets a point\n",
        "      R_total += y_hat[0,ii] * 1.0\n",
        "      # with probability 1-y_hat creature doesn't strike and gets zero points\n",
        "      R_total += (1-y_hat[0,ii]) * 0.0\n",
        "    elif y[0,ii] == 0:\n",
        "      # not supposed to strike\n",
        "      # with probability y_hat creature strikes and loses a point\n",
        "      R_total += y_hat[0,ii] * -1.0\n",
        "      # with probability 1-y_hat creature doesn't strike and gets zero points\n",
        "      R_total += (1-y_hat[0,ii]) * 0.0\n",
        "    else:\n",
        "      raise ValueError(f'Unexpected target: {y[ii,0]}')\n",
        "  R_avg = R_total / batch_len\n",
        "  return R_avg\n",
        "\n",
        "\n",
        "def eval_params(w, b, x, y):\n",
        "  \"\"\"\n",
        "  evaluates parameters of simple behaviour circuit given inputs and target\n",
        "  outputs, use numpy broadcasting to be fast and concise\n",
        "  Args:\n",
        "    w: (scalar) weight between sensory and output neuron\n",
        "    b: (scalar) bias of behavioural output neuron\n",
        "    x: (batch x 1 np.array) sensory input\n",
        "       (can be single input, mini-batch of inputs or the whole batch of inputs)\n",
        "    y: (batch x 1 np.array) target behavioural output (can be a single target,\n",
        "       mini-batch of targets, or whole batch), needs to correspond to input\n",
        "\n",
        "  Returns:\n",
        "    R_bar: the average/expected reward obtained given the parameters, over the\n",
        "           (mini-)batch of inputs and targets. (mini-batch could be size 1)\n",
        "  \"\"\"\n",
        "  h = w * x + b\n",
        "  y_hat = np_sigmoid(h)\n",
        "  y_score = np.copy(y)\n",
        "  y_score[y_score == 0] = -1\n",
        "  batch_expected_reward = y_score * y_hat\n",
        "  R_avg = np.mean(batch_expected_reward)\n",
        "  return R_avg"
      ]
    },
    {
      "cell_type": "code",
      "execution_count": null,
      "metadata": {
        "execution": {},
        "id": "Y_FBkG2zIrDr"
      },
      "outputs": [],
      "source": [
        "# to_remove solution\n",
        "\n",
        "def np_sigmoid(x):\n",
        "  return 1 / (1 + np.exp(-x))\n",
        "\n",
        "\n",
        "def eval_params_slow(w, b, x, y):\n",
        "  \"\"\"\n",
        "  evaluates parameters of simple behaviour circuit given inputs and target\n",
        "  outputs, use for loops to think carefully about what we're doing\n",
        "  Args:\n",
        "    w: (scalar) weight between sensory and output neuron\n",
        "    b: (scalar) bias of behavioural output neuron\n",
        "    x: (1 np.array x batch) sensory input\n",
        "       (can be single input, mini-batch of inputs or the whole batch of inputs)\n",
        "    y: (1 np.array x batch) target behavioural output (can be a single target,\n",
        "       mini-batch of targets, or whole batch), needs to correspond to input\n",
        "\n",
        "  Returns:\n",
        "    R_bar: the average/expected reward obtained given the parameters, over the\n",
        "           (mini-)batch of inputs and targets. (mini-batch could be size 1)\n",
        "  \"\"\"\n",
        "  batch_len = x.shape[1]\n",
        "  h = np.zeros((1, batch_len))\n",
        "  y_hat = np.zeros((1, batch_len))\n",
        "  R_total = 0\n",
        "  for ii in range(batch_len):\n",
        "    h[0,ii] = w * x[0,ii] + b\n",
        "    y_hat[0,ii] = np_sigmoid(h[0,ii])\n",
        "    # y_hat is our probability of striking\n",
        "    # compute the expected score\n",
        "    if y[0,ii] == 1:\n",
        "      # supposed to strike\n",
        "      # with probability y_hat creature strikes and gets a point\n",
        "      R_total += y_hat[0,ii] * 1.0\n",
        "      # with probability 1-y_hat creature doesn't strike and gets zero points\n",
        "      R_total += (1-y_hat[0,ii]) * 0.0\n",
        "    elif y[0,ii] == 0:\n",
        "      # not supposed to strike\n",
        "      # with probability y_hat creature strikes and loses a point\n",
        "      R_total += y_hat[0,ii] * -1.0\n",
        "      # with probability 1-y_hat creature doesn't strike and gets zero points\n",
        "      R_total += (1-y_hat[0,ii]) * 0.0\n",
        "    else:\n",
        "      raise ValueError(f'Unexpected target: {y[ii,0]}')\n",
        "  R_avg = R_total / batch_len\n",
        "  return R_avg\n",
        "\n",
        "\n",
        "def eval_params(w, b, x, y):\n",
        "  \"\"\"\n",
        "  evaluates parameters of simple behaviour circuit given inputs and target\n",
        "  outputs, use numpy broadcasting to be fast and concise\n",
        "  Args:\n",
        "    w: (scalar) weight between sensory and output neuron\n",
        "    b: (scalar) bias of behavioural output neuron\n",
        "    x: (batch x 1 np.array) sensory input\n",
        "       (can be single input, mini-batch of inputs or the whole batch of inputs)\n",
        "    y: (batch x 1 np.array) target behavioural output (can be a single target,\n",
        "       mini-batch of targets, or whole batch), needs to correspond to input\n",
        "\n",
        "  Returns:\n",
        "    R_bar: the average/expected reward obtained given the parameters, over the\n",
        "           (mini-)batch of inputs and targets. (mini-batch could be size 1)\n",
        "  \"\"\"\n",
        "  h = w * x + b\n",
        "  y_hat = np_sigmoid(h)\n",
        "  y_score = np.copy(y)\n",
        "  y_score[y_score == 0] = -1\n",
        "  batch_expected_reward = y_score * y_hat\n",
        "  R_avg = np.mean(batch_expected_reward)\n",
        "  return R_avg"
      ]
    },
    {
      "cell_type": "markdown",
      "metadata": {
        "execution": {},
        "id": "KjivN2ZcIrDr"
      },
      "source": [
        "In this exercise, we actually implemented the same function twice, once using a for loop to iterate over the (mini-)batch of inputs and targets, and once using NumPy broadcasting to compute the batch reward (roughly) in parallel. Run the following code cells to see what kind of computational efficiency this buys us."
      ]
    },
    {
      "cell_type": "code",
      "execution_count": null,
      "metadata": {
        "execution": {},
        "id": "6JR_3y4EIrDr"
      },
      "outputs": [],
      "source": [
        "X_simple_1_feature.T.shape"
      ]
    },
    {
      "cell_type": "code",
      "execution_count": null,
      "metadata": {
        "execution": {},
        "id": "lv-N8GlrIrDr"
      },
      "outputs": [],
      "source": [
        "eval_params_slow(1, 0, X_simple_1_feature.T, y1_simple.T)"
      ]
    },
    {
      "cell_type": "code",
      "execution_count": null,
      "metadata": {
        "execution": {},
        "id": "74GuZgL8IrDr"
      },
      "outputs": [],
      "source": [
        "eval_params(1, 0, X_simple_1_feature.T, y1_simple.T)"
      ]
    },
    {
      "cell_type": "code",
      "execution_count": null,
      "metadata": {
        "execution": {},
        "id": "FaiwicQ5IrDr"
      },
      "outputs": [],
      "source": [
        "%timeit eval_params_slow(1, 0, X_simple_1_feature.T, y1_simple.T)"
      ]
    },
    {
      "cell_type": "code",
      "execution_count": null,
      "metadata": {
        "execution": {},
        "id": "4hltqrcyIrDs"
      },
      "outputs": [],
      "source": [
        "%timeit eval_params(1, 0, X_simple_1_feature.T, y1_simple.T)"
      ]
    },
    {
      "cell_type": "markdown",
      "metadata": {
        "execution": {},
        "id": "7LbJhLdxIrDs"
      },
      "source": [
        "In our specific example (on the specific COLAB instance we're writing this on in 2024), the broadcasting approach in Python, using NumPy, is approximately 50 times faster than using for-loops. This is because for-loops in interpreted languages like Python incur significant overhead at each iteration, but also because potential dependencies between loop iterations limit parallelization. In contrast, broadcasting allows for vectorized operations, enabling parallel execution that can harness more of the underlying hardware's computational power. NumPy enhances this efficiency further by utilizing highly optimized, pre-compiled linear algebra libraries (primarily hardware-specific implementations of BLAS and LAPACK). The same principles apply (though are sometimes less critical) in compiled languages or with Just-In-Time (JIT) compilation frameworks like JAX. Broadcasting or tensor notation not only improves performance but also maintains code brevity and alignment with mathematical notation. As scientists and programmers, we do not need to understand every detail of how the magic of computational parallelism allows for fast linear algebra, but it is crucial to appreciate the potential impacts on computational efficiency."
      ]
    },
    {
      "cell_type": "markdown",
      "metadata": {
        "execution": {},
        "id": "apnqpXDCIrDs"
      },
      "source": [
        "Okay, so we have the ability to evaluate the parameters in terms of the average score they yield when applied across the whole dataset of example pairs of sensory inputs and correct actions. In each iteration of our learning (training) loop, we will perturb our parameters using Gaussian noise and ***measure the relationship*** between the parameter changes and the average expected reward as determined by our evaluation function. After measuring this relationship, we will update each parameter in proportion to the rate of improvement of the score with respect to the change in the underlying parameter."
      ]
    },
    {
      "cell_type": "code",
      "execution_count": null,
      "metadata": {
        "cellView": "form",
        "execution": {},
        "id": "5ftlrKqgIrDs"
      },
      "outputs": [],
      "source": [
        "# @title Measure and Update Training Loop"
      ]
    },
    {
      "cell_type": "code",
      "execution_count": null,
      "metadata": {
        "execution": {},
        "id": "1gPDHnLrIrDs"
      },
      "outputs": [],
      "source": [
        "################################################################################\n",
        "# TODO for students: Complete the lines with ... to implement a parameter\n",
        "# evalution function\n",
        "raise NotImplementedError(\"Exercise: Measure and Update Training Loop\")\n",
        "################################################################################\n",
        "\n",
        "\n",
        "learn_rng = np.random.default_rng(0)\n",
        "num_learning_episodes = 100000\n",
        "alpha = 100 #learning rate / step size\n",
        "perturbation_scale = 0.01 # std of Gaussian parameter perturbations\n",
        "w_init = 1\n",
        "b_init = 0\n",
        "w = w_init\n",
        "b = b_init\n",
        "start_time = time.time()\n",
        "for ii in range(num_learning_episodes+1):\n",
        "  R_bar_old = eval_params(w, b, X_simple_1_feature.T, y1_simple.T)\n",
        "  # perturb w and evaluate\n",
        "  w_perturbation = learn_rng.normal(0, perturbation_scale)\n",
        "  w_perturbed = w + ...\n",
        "  R_bar_perturbed_w = eval_params(..., b, X_simple_1_feature.T, y1_simple.T)\n",
        "  # perturb b and evaluate\n",
        "  b_perturbation = learn_rng.normal(0, perturbation_scale)\n",
        "  b_perturbed = b + ...\n",
        "  R_bar_perturbed_b = eval_params(..., b_perturbed, X_simple_1_feature, y1_simple)\n",
        "  # estimate rate of change of reward for each parameter\n",
        "  finite_difference_w = ...\n",
        "  finite_difference_b = ...\n",
        "  # update parameters based on finte difference estimate rate of change\n",
        "  # of reward with respect to parameters\n",
        "  delta_w = alpha * finite_difference_w\n",
        "  delta_b = alpha * finite_difference_b\n",
        "  w += delta_w\n",
        "  b += delta_b\n",
        "\n",
        "  if ii == 0 or ii % 5000 == 0:\n",
        "    elapsed_time = time.time() - start_time\n",
        "    print(f'{\"Iteration\":>12}: {ii:<6} | {\"w\":>1}={w:<8.4f} | {\"b\":>1}={b:<8.4f} | {\"R_bar\":>5}={R_bar_old:<8.6f} | {\"Time\":>4}={elapsed_time:<5.2f} seconds')"
      ]
    },
    {
      "cell_type": "code",
      "execution_count": null,
      "metadata": {
        "execution": {},
        "id": "WfOdFALSIrDs"
      },
      "outputs": [],
      "source": [
        "# to_remove solution\n",
        "\n",
        "learn_rng = np.random.default_rng(0)\n",
        "num_learning_episodes = 100000\n",
        "alpha = 100 #learning rate / step size\n",
        "perturbation_scale = 0.01 # std of Gaussian parameter perturbations\n",
        "w_init = 1\n",
        "b_init = 0\n",
        "w = w_init\n",
        "b = b_init\n",
        "start_time = time.time()\n",
        "for ii in range(num_learning_episodes+1):\n",
        "  R_bar_old = eval_params(w, b, X_simple_1_feature.T, y1_simple.T)\n",
        "  # perturb w and evaluate\n",
        "  w_perturbation = learn_rng.normal(0, perturbation_scale)\n",
        "  w_perturbed = w + w_perturbation\n",
        "  R_bar_perturbed_w = eval_params(w_perturbed, b, X_simple_1_feature.T, y1_simple.T)\n",
        "  # perturb b and evaluate\n",
        "  b_perturbation = learn_rng.normal(0, perturbation_scale)\n",
        "  b_perturbed = b + b_perturbation\n",
        "  R_bar_perturbed_b = eval_params(w, b_perturbed, X_simple_1_feature, y1_simple)\n",
        "  # estimate rate of change of reward for each parameter\n",
        "  finite_difference_w = (R_bar_perturbed_w - R_bar_old) / w_perturbation\n",
        "  finite_difference_b = (R_bar_perturbed_b - R_bar_old) / b_perturbation\n",
        "  # update parameters based on finte difference estimate rate of change\n",
        "  # of reward with respect to parameters\n",
        "  delta_w = alpha * finite_difference_w\n",
        "  delta_b = alpha * finite_difference_b\n",
        "  w += delta_w\n",
        "  b += delta_b\n",
        "\n",
        "  if ii == 0 or ii % 5000 == 0:\n",
        "    elapsed_time = time.time() - start_time\n",
        "    print(f'{\"Iteration\":>12}: {ii:<6} | {\"w\":>1}={w:<8.4f} | {\"b\":>1}={b:<8.4f} | {\"R_bar\":>5}={R_bar_old:<8.6f} | {\"Time\":>4}={elapsed_time:<5.2f} seconds')"
      ]
    },
    {
      "cell_type": "markdown",
      "metadata": {
        "execution": {},
        "id": "DJFvSukwIrDs"
      },
      "source": [
        "Is an R_bar of 0.4951... good or bad? Let's look at the data. How many striking opportunities are there, versus situation where no-strike is best?"
      ]
    },
    {
      "cell_type": "code",
      "execution_count": null,
      "metadata": {
        "execution": {},
        "id": "liEBbXlIIrDs"
      },
      "outputs": [],
      "source": [
        "# number of striking opportunities\n",
        "np.sum(y1_simple == 1)"
      ]
    },
    {
      "cell_type": "code",
      "execution_count": null,
      "metadata": {
        "execution": {},
        "id": "--7eLIaJIrDs"
      },
      "outputs": [],
      "source": [
        "#number of non-strike situations\n",
        "np.sum(y1_simple == 0)"
      ]
    },
    {
      "cell_type": "code",
      "execution_count": null,
      "metadata": {
        "execution": {},
        "id": "T0qKgiHRIrDs"
      },
      "outputs": [],
      "source": [
        "# proportion of situations where a point can be earned\n",
        "571 / (571 + 554)"
      ]
    },
    {
      "cell_type": "markdown",
      "metadata": {
        "execution": {},
        "id": "hdT5h5JhIrDs"
      },
      "source": [
        "So, back to our question: Is an average score of 0.4951... per round good? Well, yes. A perfect score is ~0.5075. Given that we have only a single feature - that can't perfectly separate the two cases as the feature distributions for each case overlap - we are bound to have a few false positives and false negatives. These will lower the score a bit, but for the most part, this is roughly as good as can be expected."
      ]
    },
    {
      "cell_type": "markdown",
      "metadata": {
        "execution": {},
        "id": "mULFkJ-WIrDs"
      },
      "source": [
        "**Algorithmic Thinking Exercise:**\n",
        "\n",
        "In the 'measure and update' learning loop implemented above, we perturb each parameter, measure the effect of perturbations, and then update the parameters. Alternatively we could have perturbed the $w$ parameter, evaluated and then updated the $w$ parameter, and then perturbed the $b$ parameter, evaluated, and then updated the $b$ parameter.\n",
        "1. In the implementation above how many times is the `eval_params` function called per iteration?\n",
        "\n",
        "  (Answer: 3)\n",
        "2. If we used the alternative method where each parameter is updated and evaluated separately, how many times would eval_params need to be called per iteration?\n",
        "\n",
        "  (Answer: 4, After updating $w$ we can't simply use `R_bar_old` to measure the change in performance from changing $b$ since `R_bar_perturbed_b` will be computed using the updated $w$. An `R_bar_new_w_old_b` will need to be computed and used to inform the changes to $b$.)\n",
        "3. If we had $n$ parameters instead of 2, how many times would the `eval_params` function be called per iteration in the implementation above?\n",
        "\n",
        "  (Answer: $n+1$)\n",
        "4. If we had $n$ parameters instead of 2, how many times would the `eval_params` function be called per iteration in the alternate implementation?\n",
        "\n",
        "  (Answer: $2n$)\n",
        "\n",
        "Little details like this in implementation can make big differences to algorithm speed. Note though that this slower alternative isn't quite a dead loss. Technically the parameter updates made by the alternative algorithm, will be 'better' (precisely what we mean by better we leave aside for the moment), however, in this particular case the 'betterness' of the parameter updates is not enough to make up for the added computational cost of calling `eval_params` and extra $n-1$ times."
      ]
    },
    {
      "cell_type": "markdown",
      "metadata": {
        "execution": {},
        "id": "FnU6Sg6fIrDt"
      },
      "source": [
        "Okay, now just as a sanity and intuition check, two questions:\n",
        "1. Do we get the same answer when we use a propose and reject method?  \n",
        "2. Is the propose and reject method quicker or slower at finding the solution?\n",
        "Let's quickly adapt the adapt 'measure and update' learning loop to do 'propose and reject' instead."
      ]
    },
    {
      "cell_type": "code",
      "execution_count": null,
      "metadata": {
        "cellView": "form",
        "execution": {},
        "id": "B91Q9dBOIrDt"
      },
      "outputs": [],
      "source": [
        "# @title Propose And Reject Training Loop\n",
        "learn_rng = np.random.default_rng(0)\n",
        "num_learning_episodes = 50000\n",
        "perturbation_scale = 0.1 # std of Gaussian parameter perturbations\n",
        "w_init = 1\n",
        "b_init = 0\n",
        "w = w_init\n",
        "b = b_init\n",
        "start_time = time.time()  # Record the start time\n",
        "R_bar_best = eval_params(w, b, X_simple_1_feature.T, y1_simple.T)\n",
        "for ii in range(num_learning_episodes+1):\n",
        "  # perturb w and evaluate\n",
        "  w_perturbation = learn_rng.normal(0, perturbation_scale)\n",
        "  w_proposed = w + w_perturbation\n",
        "  R_bar_proposed = eval_params(w_proposed, b, X_simple_1_feature, y1_simple)\n",
        "  if R_bar_best < R_bar_proposed:\n",
        "    w = w_proposed\n",
        "    R_bar_best = R_bar_proposed\n",
        "  # perturb b and evaluate\n",
        "  b_perturbation = learn_rng.normal(0, perturbation_scale)\n",
        "  b_proposed = b + b_perturbation\n",
        "  R_bar_proposed = eval_params(w, b_proposed, X_simple_1_feature, y1_simple)\n",
        "  if R_bar_best < R_bar_proposed:\n",
        "    b = b_proposed\n",
        "    R_bar_best = R_bar_proposed\n",
        "\n",
        "  if ii == 0 or ii % 5000 == 0:\n",
        "    elapsed_time = time.time() - start_time\n",
        "    print(f'{\"Iteration\":>12}: {ii:<6} | {\"w\":>1}={w:<8.4f} | {\"b\":>1}={b:<8.4f} | {\"R_bar\":>5}={R_bar_best:<8.6f} | {\"Time\":>4}={elapsed_time:<5.2f} seconds')"
      ]
    },
    {
      "cell_type": "markdown",
      "metadata": {
        "execution": {},
        "id": "XqCoem2gIrDt"
      },
      "source": [
        "Both 'Propose and Reject' and 'Measure and Update' get to similar answers, but 'Propose and Reject' gets there much more quickly. In part, this is because there are fewer calls to `eval_params` per iteration (2 instead of 3). Additionally, this is because the step size in parameter space remains relatively constant throughout the 'Propose and Reject' process, while in the 'Measure and Update' method, the step size in parameter space diminishes as the relative improvements in performance decrease. For these reasons, our initial hope that 'Measure and Update' might be more efficient that 'Propose and Reject' is not born out in this simple problem."
      ]
    },
    {
      "cell_type": "markdown",
      "metadata": {
        "execution": {},
        "id": "FfZ77t_KIrDt"
      },
      "source": [
        "-- animation of propose and reject versus measure and update in this simple 2 parameter problem --"
      ]
    },
    {
      "cell_type": "markdown",
      "metadata": {
        "execution": {},
        "id": "NyyBLeDLIrDt"
      },
      "source": [
        "A couple things to think about here:\n",
        "1. In our 'Measure and Update' implementation above we make one perturbation and one measurement of change in reward for each parameter. What would happen if we perturbed every parameter at once and then made a single measurement of change in reward? There would only be two calls to `eval_params` per iteration, regardless of the number of parameters. Together these two `eval_params` would measure the combined effect of all the parameter changes on reward. As a result the estimated effect of any one parameter on the reward would be polluted by the effects of all the other parameter perturbations. Whether this improves or breaks the algorithm will depend on whether the efficiency from fewer `eval_params` calls compensate for the noise introduced, or if the noise make these faster parameter updates fundamentally unhelpful? In other words is it better to take more/quicker noisy steps in parameters space or fewer/slower steps in better directions?\n",
        "2. In the learning loops above the impact on reward for a perturbation is measured using the entirety of the data set available to us. In this example the data set is only ~1000 examples, but what if it consisted of trillions of examples, would it still make sense to use the entire data set to evaluate each perturbation or would it be better to evaluate parameter changes using a smaller sample from this data set? Using a smaller sample will often make evaluations faster at the price of introducing noise to the estimate of rate of reward change (on the full data set) with respect to parameter changes. Again, this is question of more/quicker noisy steps or fewer/slower careful steps in parameters space.\n",
        "3. In the learning loops above we measure the relationship between parameter changes and reward changes using a single perturbation, but could we make better parameter updates if we measured using many perturbations before updating the parameters? This would require making more evaluations per update. Whether is this is a good or bad idea again comes down to a question of more/quicker noisy parameter updates versus fewer/slower careful parameter updates. What is the right balance?\n",
        "\n",
        "For this very straightforward problem these questions may seem kind of beside the point. We have a good answer, and it didn't take too long to get, why worry about these details now? We don't really need to now, but as we'll soon see, these details become increasingly relevant as we work to extend this 'measure and update' approach to a more complex problem. Indeed, the trade-off between more/quick noisy steps and few/slow careful steps is one of the fundamental questions at the dark heart of Machine Learning."
      ]
    },
    {
      "cell_type": "code",
      "execution_count": null,
      "metadata": {
        "cellView": "form",
        "execution": {},
        "id": "M4zGtypQIrDt"
      },
      "outputs": [],
      "source": [
        "# @markdown Submit your feedback\n",
        "content_review(f\"{feedback_prefix}_M1\")"
      ]
    },
    {
      "cell_type": "markdown",
      "metadata": {
        "execution": {},
        "id": "FvAmz2fLIrDt"
      },
      "source": [
        "# 2.1.1.2: Learning to Do the Right Thing - Harder\n",
        "In the previous section, we worked on a pretty simple discrimination problem, there was a single feature that, for the most part, correlated with correct times to strike and not-strike. Now we're going to look at a slightly harder problem, where the answer is less obvious (to us at least). As before, given a sensory input pattern, the problem is to determine whether or not to strike. Again, try to maximize your average score for this new problem where the 'sensory' input is more complex."
      ]
    },
    {
      "cell_type": "code",
      "execution_count": null,
      "metadata": {
        "execution": {},
        "id": "TL0fDoq8IrDt"
      },
      "outputs": [],
      "source": [
        "scramble_bin_hard = InteractiveMNISTPredator(features=Xs,\n",
        "                                             labels=y1,\n",
        "                                             feedback_type='both')\n",
        "display(scramble_bin_hard.fig.canvas)\n",
        "clear_output()\n",
        "display(scramble_bin_hard.ui)"
      ]
    },
    {
      "cell_type": "markdown",
      "metadata": {
        "execution": {},
        "id": "2PZYoTBVIrDt"
      },
      "source": [
        "So now instead of a single feature to base our strike/no-strike discrimination on, we have 64 (8x8) features to potentially inform our decision. Will our simple setup from before readily generalize to this situation with richer sensory input? Let's find out."
      ]
    },
    {
      "cell_type": "markdown",
      "metadata": {
        "execution": {},
        "id": "fYy2M5QmIrDu"
      },
      "source": [
        "We model this creature's sensory-behaviour system much as before. Now, $\\mathbf{x}$ is the raw sensory input (vector) in a given episode. Each element $x_i$ of $\\mathbf{x}$ corresponds to the activation level and firing rate of a single photosensitive neuron."
      ]
    },
    {
      "cell_type": "code",
      "execution_count": null,
      "metadata": {
        "execution": {},
        "id": "ZBSCku5uIrDu"
      },
      "outputs": [],
      "source": [
        "# the data set we're working with has 5620 example sensory inputs,\n",
        "# each consisting of 64 (8x8) values\n",
        "print(Xs.shape)"
      ]
    },
    {
      "cell_type": "code",
      "execution_count": null,
      "metadata": {
        "execution": {},
        "id": "3OTBiS42IrDu"
      },
      "outputs": [],
      "source": [
        "# this is the first example\n",
        "print(Xs[0].reshape(8,8,))"
      ]
    },
    {
      "cell_type": "code",
      "execution_count": null,
      "metadata": {
        "execution": {},
        "id": "hWo20S2HIrDu"
      },
      "outputs": [],
      "source": [
        "# visualizing the example we see that lower values correspond to darker pixels\n",
        "# and higher values correspond to lighter values\n",
        "fig, ax = plt.subplots(figsize=(4,4))\n",
        "remove_ip_clutter(fig)\n",
        "ax.imshow(Xs[0].reshape(8,8), cmap='gray')\n",
        "plt.show()"
      ]
    },
    {
      "cell_type": "markdown",
      "metadata": {
        "execution": {},
        "id": "P9DPmkdIIrDv"
      },
      "source": [
        "These input neurons are then connected by synapses to a single output neuron. The activation level of this output neuron is computed as\n",
        "$$y = \\mathbf{Wx} + b$$\n",
        "Here, $b$ is the (scalar) bias, or baseline activation level of the output neuron, and $\\mathbf{W}$ is a matrix of synaptic weights between the input neurons and the single output neuron. (In this case where there is only one output neuron so $\\mathbf{W}$ has shape 1x64 so could also be thought of as a row vector.)  As before, the probabilistic spiking of this output neuron determines the strike-no-strike behaviour of the organism, specifically:\n",
        "$$ \\Pr \\{\\text{strike}\\} = \\sigma(y) $$\n",
        "$$ \\Pr \\{\\text{no strike}\\} = 1 - \\sigma(y)$$\n",
        "\n",
        "Recall that $\\sigma(y): \\frac{1}{1+e^{-y}} = \\frac{e^y}{1+e^y}$ is the standard logistic (sigmoid) function."
      ]
    },
    {
      "cell_type": "code",
      "execution_count": null,
      "metadata": {
        "execution": {},
        "id": "P1PxKBnPIrDv"
      },
      "outputs": [],
      "source": [
        "# the eval_params function needs to be adapted\n",
        "# to work with this richer sensory input\n",
        "def eval_params_rich(W, b, x, y):\n",
        "  \"\"\"\n",
        "  evaluates parameters of simple behaviour circuit given inputs and target\n",
        "  outputs, use numpy broadcasting to be fast and concise\n",
        "  Args:\n",
        "    W: (outputs(1) x inputs(64) np.array)\n",
        "       weights between sensory neurons and output neuron\n",
        "    b: (scalar) bias of behavioural output neuron\n",
        "    x: (input(64) x batch np.array) sensory input\n",
        "       (can be single input, mini-batch of inputs or the whole batch of inputs)\n",
        "    y: (outputs(1) x batch np.array) target behavioural output\n",
        "       (can be a single target, mini-batch of targets, or whole batch),\n",
        "       needs to correspond to input\n",
        "\n",
        "  Returns:\n",
        "    R_bar: the average/expected reward obtained given the parameters, over the\n",
        "           (mini-)batch of inputs and targets. (mini-batch could be size 1)\n",
        "  \"\"\"\n",
        "  h = np.dot(W,x) + b # 1 x batch\n",
        "  y_hat = np_sigmoid(h) # 1 x batch\n",
        "  y_score = np.copy(y)\n",
        "  y_score[y_score == 0] = -1\n",
        "  batch_expected_reward = y_score * y_hat\n",
        "  R_bar = np.mean(batch_expected_reward)\n",
        "  return R_bar"
      ]
    },
    {
      "cell_type": "code",
      "execution_count": null,
      "metadata": {
        "execution": {},
        "id": "2zLsopvvIrDv"
      },
      "outputs": [],
      "source": [
        "eval_params_rich(np.ones((1,64)), 0, Xs.T, y1.T)"
      ]
    },
    {
      "cell_type": "code",
      "execution_count": null,
      "metadata": {
        "execution": {},
        "id": "XDA6oZdSIrDv"
      },
      "outputs": [],
      "source": [
        "%timeit eval_params_rich(np.ones((1,64)), 0, Xs.T, y1.T)"
      ]
    },
    {
      "cell_type": "markdown",
      "metadata": {
        "execution": {},
        "id": "sKiY9uGKIrDv"
      },
      "source": [
        "That's working and relatively quick now let's adapt our learning loop for this new setup."
      ]
    },
    {
      "cell_type": "code",
      "execution_count": null,
      "metadata": {
        "cellView": "form",
        "execution": {},
        "id": "iypJWDSzIrDv"
      },
      "outputs": [],
      "source": [
        "# @title Measure and Update Training Loop\n",
        "\n",
        "learn_rng = np.random.default_rng(0)\n",
        "num_learning_episodes = 2000\n",
        "alpha = 0.5 #learning rate or step size\n",
        "perturbation_scale = 0.001 # std of gaussian perturbations\n",
        "W_init = np.zeros((1,64))\n",
        "b_init = 0\n",
        "W = W_init\n",
        "b = b_init\n",
        "start_time = time.time()\n",
        "for ii in range(num_learning_episodes+1):\n",
        "  R_bar_old = eval_params_rich(W, b, Xs.T, y1.T)\n",
        "  # get perturbations for W all at once\n",
        "  W_perturbations = learn_rng.normal(0, perturbation_scale, size=(1,64))\n",
        "  #perturb and evaluate each W_j separately\n",
        "  finite_differences_W = np.zeros(W.shape)\n",
        "  for j in range(W_perturbations.shape[1]):\n",
        "    W_perturbed = np.copy(W)\n",
        "    W_perturbed[0,j] += W_perturbations[0,j]\n",
        "    R_bar_perturbed_Wj = eval_params_rich(W_perturbed, b, Xs.T, y1.T)\n",
        "    finite_difference_Wj = (R_bar_perturbed_Wj - R_bar_old) / W_perturbations[0,j]\n",
        "    finite_differences_W[0,j] = finite_difference_Wj\n",
        "  # perturb b and evaluate\n",
        "  b_perturbation = learn_rng.normal(0, perturbation_scale)\n",
        "  b_perturbed = b + b_perturbation\n",
        "  R_bar_perturbed_b = eval_params_rich(W, b_perturbed, Xs.T, y1.T)\n",
        "  # estimate rate of change of reward for each parameter\n",
        "  finite_difference_b = (R_bar_perturbed_b - R_bar_old) / b_perturbation\n",
        "  # update parameters based on finte difference estimate rate of change\n",
        "  # of reward with respect to parameters\n",
        "  delta_W = alpha * finite_differences_W\n",
        "  delta_b = alpha * finite_difference_b\n",
        "  W += delta_W\n",
        "  b += delta_b\n",
        "\n",
        "  if ii == 0 or ii % 100 == 0:\n",
        "    elapsed_time = time.time() - start_time\n",
        "    print(f'{\"Iteration\":>12}: {ii:<6} | {\"W_0\":>1}={W[0,0]:<8.4f} | {\"b\":>1}={b:<8.4f} | {\"R_bar\":>5}={R_bar_old:<8.6f} | {\"Time\":>4}={elapsed_time:<5.2f} seconds')"
      ]
    },
    {
      "cell_type": "markdown",
      "metadata": {
        "execution": {},
        "id": "ffTgdgLlIrDv"
      },
      "source": [
        "So it looks like this is learning to do an okay job. A quick inspection of the data tells us that doing perfect discrimination would give an average score of 0.503... per round.\n",
        "\n"
      ]
    },
    {
      "cell_type": "code",
      "execution_count": null,
      "metadata": {
        "execution": {},
        "id": "4ZAiDd_xIrDv"
      },
      "outputs": [],
      "source": [
        "# There are this many cases where striking is the right thing to do\n",
        "np.sum(y1 == 1)"
      ]
    },
    {
      "cell_type": "code",
      "execution_count": null,
      "metadata": {
        "execution": {},
        "id": "F_HrwdPUIrDv"
      },
      "outputs": [],
      "source": [
        "# And this many cases where striking is the wrong thing to do\n",
        "np.sum(y1 == 0)"
      ]
    },
    {
      "cell_type": "code",
      "execution_count": null,
      "metadata": {
        "execution": {},
        "id": "A1OnRxn7IrDv"
      },
      "outputs": [],
      "source": [
        "# So this the average score per round with perfect discrimination\n",
        "np.sum(y1 == 1) / (len(y1))"
      ]
    },
    {
      "cell_type": "markdown",
      "metadata": {
        "execution": {},
        "id": "55beHHPOIrDw"
      },
      "source": [
        "Without benchmarks, it's hard to know what level is possible given this particular dataset and discrimination task using this particular sensory-behaviour circuit. Not only are we unsure if this is a good result in a general sense, but we also don't know whether our less-than-perfect performance is due to limitations of the circuit architecture (the model in ML terms) or our learning algorithm's inability to find optimal parameters for the given architecture. We could always let the above learning process run for a really long time and see where it stops, but who wants to wait around for results, not us. Let's see if we can come up with some faster learning processes for this sensory-behaviour circuit."
      ]
    },
    {
      "cell_type": "code",
      "execution_count": null,
      "metadata": {
        "cellView": "form",
        "execution": {},
        "id": "irdujoNUIrDw"
      },
      "outputs": [],
      "source": [
        "# @markdown Submit your feedback\n",
        "content_review(f\"{feedback_prefix}_M2\")"
      ]
    },
    {
      "cell_type": "markdown",
      "metadata": {
        "execution": {},
        "id": "2fwSIEcmIrDw"
      },
      "source": [
        "# 2.1.1.3: Learning to Do the Right Thing - Faster\n",
        "\n",
        "In our simple problem 'propose and reject' was quite effective, let's see how it fares in this more complex problem. First, though, to make our programming and notation a little cleaner we are going 'hide' our bias term. We to do this by augmenting the features to include a feature that always has the value '1'. Then, the 'weight' associated with this feature, which always has a value of '1', will effectively serve as the bias term."
      ]
    },
    {
      "cell_type": "markdown",
      "metadata": {
        "execution": {},
        "id": "giCikKz8IrDw"
      },
      "source": [
        "This 'propose and reject' method was faster, in that, although it took as long per iteration, the iterations got to a higher `R_bar` more quickly. Again we could run this for a long time and see where improvement really caps out, but we wont' just now.\n",
        "\n",
        "An important idea for speeding up learning is the idea of a 'mini-batch'. Currently in our learning the impact on reward for a perturbation is measured using the entirety of the dataset available to us. If we were to use a smaller (but representative) sample of this data set for our evaluations of parameter perturbations, we could potentially speed things up significantly."
      ]
    },
    {
      "cell_type": "code",
      "execution_count": null,
      "metadata": {
        "execution": {},
        "id": "_CXBbw--IrDw"
      },
      "outputs": [],
      "source": [
        "Xs_aug.shape"
      ]
    },
    {
      "cell_type": "markdown",
      "metadata": {
        "execution": {},
        "id": "uobf9yc5IrDw"
      },
      "source": [
        "Our dataset consists of 5620 examples to learn from. This size means the dataset can be nicely broken down into 10 mini-batches of 562. Let's find out how much faster our evaluation function is when using a mini-batch that is ten times smaller."
      ]
    },
    {
      "cell_type": "code",
      "execution_count": null,
      "metadata": {
        "execution": {},
        "id": "Mc0dyKWRIrDw"
      },
      "outputs": [],
      "source": [
        "W = np.zeros((1,65))\n",
        "%timeit eval_params_aug(W, Xs_aug[:562,:].T, y1[:562].T)"
      ]
    },
    {
      "cell_type": "code",
      "execution_count": null,
      "metadata": {
        "execution": {},
        "id": "f91uIgzDIrDx"
      },
      "outputs": [],
      "source": [
        "%timeit eval_params_aug(W, Xs_aug.T, y1.T)"
      ]
    },
    {
      "cell_type": "markdown",
      "metadata": {
        "execution": {},
        "id": "xXO14zkhIrDx"
      },
      "source": [
        "We observe a 2-3x speed up in this case. One thing to notice is that this was not a 10x speedup. This is due to the 'algorithmic efficiencies of scale' inherent in our heavily optimized evaluation function, which utilizes numpy broadcasting. These efficiencies of scale are tied to underlying hardware implementations of the operations. Thus in practical ML contexts choosing a 'good' mini-batch size requires consideration of hardware specific efficiencies of scale, to answer the question how much worse are my parameter updates versus how much faster are they for a given mini-batch size."
      ]
    },
    {
      "cell_type": "code",
      "execution_count": null,
      "metadata": {
        "execution": {},
        "id": "r_9BAqXPIrDx"
      },
      "outputs": [],
      "source": [
        "# @title Mini-Batched Measure and Update Training Loop\n",
        "learn_rng = np.random.default_rng(0)\n",
        "num_epochs = 800\n",
        "alpha = 0.5 #learning rate or step size\n",
        "perturbation_scale = 0.001 # std of gaussian perturbations\n",
        "num_batches = 10  # Number of mini-batches\n",
        "batch_size = 562  # Size of each mini-batch\n",
        "W_init = np.zeros((1,65))\n",
        "W = W_init\n",
        "start_time = time.time()\n",
        "indices = np.arange(Xs_aug.shape[0])\n",
        "for epoch in range(num_epochs):\n",
        "  learn_rng.shuffle(indices)  # Shuffle the indices for each epoch\n",
        "  for batch in range(num_batches):\n",
        "    # Select a mini-batch for this iteration\n",
        "    batch_indices = indices[batch * batch_size : (batch + 1) * batch_size]\n",
        "    Xs_batch = Xs_aug[batch_indices, :].T\n",
        "    y1_batch = y1[batch_indices].T\n",
        "    R_bar_old = eval_params_aug(W, Xs_batch, y1_batch)\n",
        "    W_perturbations = learn_rng.normal(0, perturbation_scale, size=(1,65))\n",
        "    #perturb and evaluate each W_j separately\n",
        "    finite_differences_W = np.zeros(W.shape)\n",
        "    for jj in range(W_perturbations.shape[1]):\n",
        "      original_value = W[0,jj]\n",
        "      W[0, jj] += W_perturbations[0, jj]\n",
        "      R_bar_perturbed_Wj = eval_params_aug(W, Xs_batch, y1_batch)\n",
        "      finite_differences_W[0,jj] = (R_bar_perturbed_Wj - R_bar_old) / W_perturbations[0,jj]\n",
        "      W[0,jj] = original_value  # Revert the perturbation\n",
        "\n",
        "    delta_W = alpha * finite_differences_W\n",
        "    W += delta_W\n",
        "\n",
        "  if epoch == 0 or (epoch + 1) % 50 == 0:\n",
        "    R_bar_full_batch = eval_params_aug(W, Xs_aug.T, y1.T)\n",
        "    elapsed_time = time.time() - start_time\n",
        "    print(f'Epoch {epoch + 1}/{num_epochs} completed | Full Batch R_bar: {R_bar_full_batch:.6f} | Time elapsed: {elapsed_time:.2f} seconds')"
      ]
    },
    {
      "cell_type": "markdown",
      "metadata": {
        "execution": {},
        "id": "F5Je7F5iIrDx"
      },
      "source": [
        "Applying the mini-batch idea to the 'measure and update' process made it quicker, and perhaps it even performed a bit better than 'propose and reject'. However, it's important to note that comparisons between algorithms is challenging, as algorithm performance often depends heavily on the choice of meta-parameters, such as learning rate, perturbation scale, mini-batch size, etc., relative to the dataset and underlying model being optimized."
      ]
    },
    {
      "cell_type": "code",
      "execution_count": null,
      "metadata": {
        "cellView": "form",
        "execution": {},
        "id": "qPjK2SaGIrDx"
      },
      "outputs": [],
      "source": [
        "# @markdown Submit your feedback\n",
        "content_review(f\"{feedback_prefix}_M3\")"
      ]
    },
    {
      "cell_type": "markdown",
      "metadata": {
        "execution": {},
        "id": "MIzhb-vJIrDx"
      },
      "source": [
        "# 2.1.1.4 Learning to Do the Right Thing - Better - Stronger\n",
        "One thing that could be holding back performance on this discrimination problem is that our algorithms are not capable of finding the optimal parameters for the given model, but... we don't really think that is the case here. Another possibility is that our simple sensory-behaviour circuit is not flexible or complex enough to fully discriminate between the two types of input. There is good reason to think that this might be the case. Our current sensory-behavioural circuit is effectively equivalent to logistic regression, i.e. each feature can either inhibit or potentiate striking behaviour to varying degrees, but there is no possibility for conditional interaction between features. By 'conditional interaction,' we mean a scenario where, for instance, feature 1 typically inhibits the behavior, except when feature 2 is positive, under which condition feature 1 becomes potentiating. These kinds of feature interactions are impossible in the current model. One way to allow for such interactions is to augment the base set of features with composite features, e.g. incorporate all the pairwise products of the existing feature set, so that instead of 65 features (bias included) we have $(65^2 - 1) = 4224$ features to work with. This could work, but what if we want something that depends on the interaction of more than 2 features, adding higher order polynomial terms will quickly make the problem intractable (Reference appendix section on why hidden layers not polynomials if we do that). If we had some mechanistically grounded understanding or hypothesis about the relationship between the features and label could might be able to cherry pick some small subset of higher order interaction terms, but the ML/supervised learning framework is in large part about automating the feature selection processes based on the data alone. In turns out that instead of resorting the regression on polynomial terms to capture feature interactions, there is a much more compact and expressive way of allowing for feature interactions. The idea is to allow for feature interactions to emerge as needed in a 'hidden' computational layer of our highly abstracted neurons."
      ]
    },
    {
      "cell_type": "markdown",
      "metadata": {
        "execution": {},
        "id": "4_O-FYMwIrDx"
      },
      "source": [
        "As before $\\mathbf{x}$ is the raw sensory input (vector) in a given episode and each element of $\\mathbf{x}$ corresponds to the activation level and firing rate of a single photosensitive neuron.\n",
        "These input neurons are then connected by synapses to a 'hidden layer' of intermediate computational neurons, say 10 of them. The activation level of these hidden layer neurons is computed as\n",
        "$$\\mathbf{h} = \\sigma(\\mathbf{W}_{in} \\cdot \\mathbf{x})$$\n",
        "Now $\\mathbf{W}_{in}$ is a matrix of synaptic weights between the input neurons and the hidden layer neurons, and $\\cdot$ denotes standard matrix vector multiplication. (In this case $\\mathbf{W}$ has shape $10 \\times 64$. Each the values in the $i^{th}$ row of $\\mathbf{W}_{in}$ given the sign and strength of the connections coming into the $i^{th}$ element of $h$ and similarly each value in the $j^{th}$ column of $\\mathbf{W}_{in}$ corresponds to connection strengths coming out of the $j^{th}$ sensory input neuron.)  We still us $\\sigma$ to represent the standard logistic sigmoid function, but in these case applied elementwise the vector output of the product $\\mathbf{W}_{in} \\cdot \\mathbf{x}$. Then much as before our striking probability is computed as\n",
        "$$y = \\mathbf{W}_{out} \\cdot \\mathbf{h}$$\n",
        "and\n",
        "$$ \\Pr \\{\\text{strike}\\} = \\sigma(y) $$\n",
        "$$ \\Pr \\{\\text{no strike}\\} = 1 - \\sigma(y)$$\n",
        "Here $\\mathbf{W}_{out}$ has shape $1  \\times 10$.\n"
      ]
    },
    {
      "cell_type": "markdown",
      "metadata": {
        "execution": {},
        "id": "EViFE-2sIrDy"
      },
      "source": [
        "We will need to write a new eval params function for this new model, let's do it."
      ]
    },
    {
      "cell_type": "code",
      "execution_count": null,
      "metadata": {
        "execution": {},
        "id": "hQeLEa1lIrDy"
      },
      "outputs": [],
      "source": [
        "def eval_params_hidden(W_in, W_out, x, y):\n",
        "  \"\"\"\n",
        "  evaluates parameters of simple behaviour circuit given inputs and target\n",
        "  outputs, use numpy broadcasting to be fast and concise\n",
        "  Args:\n",
        "    W_in: (hidden-neurons(20) x inputs(65) np.array)\n",
        "           weights between sensory neurons and hidden layer neurons\n",
        "    W_out: (output(1) x hidden-neurons(20) np.array)\n",
        "           weights between hidden layer neurons and output\n",
        "    x: (input(64) x batch np.array) sensory input\n",
        "       (can be single input, mini-batch of inputs or the whole batch of inputs)\n",
        "    y: (outputs(1) x batch np.array) target behavioural output\n",
        "       (can be a single target, mini-batch of targets, or whole batch),\n",
        "       needs to correspond to input\n",
        "\n",
        "  Returns:\n",
        "    R_bar: the average/expected reward obtained given the parameters, over the\n",
        "           (mini-)batch of inputs and targets. (mini-batch could be size 1)\n",
        "  \"\"\"\n",
        "  h = np_sigmoid(np.dot(W_in,x)) # hidden x batch\n",
        "  y_hat = np_sigmoid(np.dot(W_out,h)) # 1 x batch\n",
        "  y_score = np.copy(y)\n",
        "  y_score[y_score == 0] = -1\n",
        "  batch_expected_reward = y_score * y_hat\n",
        "  R_bar = np.mean(batch_expected_reward)\n",
        "  return R_bar"
      ]
    },
    {
      "cell_type": "markdown",
      "metadata": {
        "execution": {},
        "id": "nYXwX40lIrDy"
      },
      "source": [
        "We've got a more complicated circuit with more parameters, how much longer does it take us to evaluate?"
      ]
    },
    {
      "cell_type": "code",
      "execution_count": null,
      "metadata": {
        "execution": {},
        "id": "sCNIcrloIrDy"
      },
      "outputs": [],
      "source": [
        "W = np.zeros((1,65))\n",
        "%timeit eval_params_aug(W, Xs_aug[:562,:].T, y1[:562].T)"
      ]
    },
    {
      "cell_type": "code",
      "execution_count": null,
      "metadata": {
        "execution": {},
        "id": "4f1PvVHTIrDy"
      },
      "outputs": [],
      "source": [
        "W_in = np.zeros((10,65))\n",
        "W_out = np.zeros((1,10))\n",
        "%timeit eval_params_hidden(W_in, W_out, Xs_aug[:562,:].T, y1[:562].T)"
      ]
    },
    {
      "cell_type": "markdown",
      "metadata": {
        "execution": {},
        "id": "N2-6wBmVIrDy"
      },
      "source": [
        "We're added a lot more operations here, and now our sensory to behaviour function takes about 4x times longer to evaluate. What if we made our minibatch really small, like 20, so that we had 261 mini-batches each of size 20, how much of a speed up does that give us?"
      ]
    },
    {
      "cell_type": "code",
      "execution_count": null,
      "metadata": {
        "execution": {},
        "id": "QcSmgg05IrDy"
      },
      "outputs": [],
      "source": [
        "%timeit eval_params_hidden(W_in, W_out, Xs_aug[:10,:].T, y1[:10].T)"
      ]
    },
    {
      "cell_type": "markdown",
      "metadata": {
        "execution": {},
        "id": "cG7ZGiG0IrDy"
      },
      "source": [
        "Okay that's starting to be pretty quick again, but we have a lot more parameters to evaluate, $11 \\times 65 = 715$, as contrasted with $65$ from our more simple circuit? Can the mini-batched measure and update training loop, find good parameters is reasonable amount of time?"
      ]
    },
    {
      "cell_type": "code",
      "execution_count": null,
      "metadata": {
        "cellView": "form",
        "execution": {},
        "id": "65nbDPGwIrDy"
      },
      "outputs": [],
      "source": [
        "# @title 10 Hidden Units - Measure and Update Training Loop\n",
        "learn_rng = np.random.default_rng(0)\n",
        "num_epochs = 20\n",
        "alpha = 0.5 #learning rate or step size\n",
        "perturbation_scale = 0.001 # std of gaussian perturbations\n",
        "num_batches = 261  # Number of mini-batches\n",
        "batch_size = 20  # Size of each mini-batch\n",
        "num_hidden_units = 10\n",
        "# initializing both layers as zero leads to some issues, so we\n",
        "# use a Xavier/Glorot random initialization scheme\n",
        "in_init = np.sqrt(6 / (65 + num_hidden_units))\n",
        "W_in_init = learn_rng.uniform(-in_init, in_init, size=(num_hidden_units, 65))\n",
        "out_init = np.sqrt(6 / (10 + 1))\n",
        "W_out_init = learn_rng.uniform(-out_init, out_init, size=(1, num_hidden_units))\n",
        "W_in = W_in_init\n",
        "W_out = W_out_init\n",
        "start_time = time.time()\n",
        "indices = np.arange(Xs_aug.shape[0])\n",
        "for epoch in range(num_epochs):\n",
        "  learn_rng.shuffle(indices)  # Shuffle the indices for each epoch\n",
        "  for batch in range(num_batches):\n",
        "    # Select a mini-batch for this iteration\n",
        "    batch_indices = indices[batch * batch_size : (batch + 1) * batch_size]\n",
        "    Xs_batch = Xs_aug[batch_indices, :].T\n",
        "    y1_batch = y1[batch_indices].T\n",
        "    R_bar_old = eval_params_hidden(W_in, W_out, Xs_batch, y1_batch)\n",
        "    W_in_perturbations = learn_rng.normal(0, perturbation_scale, size=W_in.shape)\n",
        "    W_out_perturbations = learn_rng.normal(0, perturbation_scale, size=W_out.shape)\n",
        "    #perturb and evaluate each parameter separately\n",
        "    finite_differences_W_in = np.zeros(W_in.shape)\n",
        "    for ii in range(W_in_perturbations.shape[0]):\n",
        "      for jj in range(W_in_perturbations.shape[1]):\n",
        "        original_value = W_in[ii,jj]\n",
        "        W_in[ii,jj] += W_in_perturbations[ii,jj] # perturb\n",
        "        R_bar_perturbed = eval_params_hidden(W_in, W_out, Xs_batch, y1_batch) #evaluate\n",
        "        finite_differences_W_in[ii,jj] = (R_bar_perturbed - R_bar_old) / W_in_perturbations[ii,jj]\n",
        "        W_in[ii,jj] = original_value  # Revert the perturbation\n",
        "    finite_differences_W_out = np.zeros(W_out.shape)\n",
        "    for ii in range(W_out_perturbations.shape[0]):\n",
        "      for jj in range(W_out_perturbations.shape[1]):\n",
        "        original_value = W_out[ii,jj]\n",
        "        W_out[ii,jj] += W_out_perturbations[ii,jj] # perturb\n",
        "        R_bar_perturbed = eval_params_hidden(W_in, W_out, Xs_batch, y1_batch) #evaluate\n",
        "        finite_differences_W_out[ii,jj] = (R_bar_perturbed - R_bar_old) / W_out_perturbations[ii,jj]\n",
        "        W_out[ii,jj] = original_value  # Revert the perturbation\n",
        "\n",
        "    delta_W_in = alpha * finite_differences_W_in\n",
        "    W_in += delta_W_in\n",
        "    delta_W_out = alpha * finite_differences_W_out\n",
        "    W_out += delta_W_out\n",
        "\n",
        "  R_bar_full_batch = eval_params_hidden(W_in, W_out, Xs_aug.T, y1.T)\n",
        "  elapsed_time = time.time() - start_time\n",
        "  print(f'Epoch {epoch + 1}/{num_epochs} completed | Full Batch R_bar: {R_bar_full_batch:.6f} | Time elapsed: {elapsed_time:.2f} seconds')"
      ]
    },
    {
      "cell_type": "markdown",
      "metadata": {
        "execution": {},
        "id": "gS0elUKMIrDy"
      },
      "source": [
        "So this new, more complex circuit is great. We're much closer to the theoretical maximum performance of 0.5033807829181495, maybe with a few more hidden units, and a little longer training time we could have perfect discrimination. Let's see what happens when we go up to 20 hidden units."
      ]
    },
    {
      "cell_type": "code",
      "execution_count": null,
      "metadata": {
        "execution": {},
        "id": "MeOSuAUEIrDz"
      },
      "outputs": [],
      "source": [
        "# @title 20 Hidden Units - Measure and Update Training Loop\n",
        "learn_rng = np.random.default_rng(0)\n",
        "num_epochs = 20\n",
        "alpha = 0.5 #learning rate or step size\n",
        "perturbation_scale = 0.001 # std of gaussian perturbations\n",
        "num_batches = 261  # Number of mini-batches\n",
        "batch_size = 20  # Size of each mini-batch\n",
        "num_hidden_units = 20\n",
        "# initializing both layers as zero leads to some issues, so we\n",
        "# use a Xavier/Glorot random initialization scheme\n",
        "in_init = np.sqrt(6 / (65 + num_hidden_units))\n",
        "W_in_init = learn_rng.uniform(-in_init, in_init, size=(num_hidden_units, 65))\n",
        "out_init = np.sqrt(6 / (10 + 1))\n",
        "W_out_init = learn_rng.uniform(-out_init, out_init, size=(1, num_hidden_units))\n",
        "W_in = W_in_init\n",
        "W_out = W_out_init\n",
        "start_time = time.time()\n",
        "indices = np.arange(Xs_aug.shape[0])\n",
        "for epoch in range(num_epochs):\n",
        "  learn_rng.shuffle(indices)  # Shuffle the indices for each epoch\n",
        "  for batch in range(num_batches):\n",
        "    # Select a mini-batch for this iteration\n",
        "    batch_indices = indices[batch * batch_size : (batch + 1) * batch_size]\n",
        "    Xs_batch = Xs_aug[batch_indices, :].T\n",
        "    y1_batch = y1[batch_indices].T\n",
        "    R_bar_old = eval_params_hidden(W_in, W_out, Xs_batch, y1_batch)\n",
        "    W_in_perturbations = learn_rng.normal(0, perturbation_scale, size=W_in.shape)\n",
        "    W_out_perturbations = learn_rng.normal(0, perturbation_scale, size=W_out.shape)\n",
        "    #perturb and evaluate each parameter separately\n",
        "    finite_differences_W_in = np.zeros(W_in.shape)\n",
        "    for ii in range(W_in_perturbations.shape[0]):\n",
        "      for jj in range(W_in_perturbations.shape[1]):\n",
        "        original_value = W_in[ii,jj]\n",
        "        W_in[ii,jj] += W_in_perturbations[ii,jj] # perturb\n",
        "        R_bar_perturbed = eval_params_hidden(W_in, W_out, Xs_batch, y1_batch) #evaluate\n",
        "        finite_differences_W_in[ii,jj] = (R_bar_perturbed - R_bar_old) / W_in_perturbations[ii,jj]\n",
        "        W_in[ii,jj] = original_value  # Revert the perturbation\n",
        "    finite_differences_W_out = np.zeros(W_out.shape)\n",
        "    for ii in range(W_out_perturbations.shape[0]):\n",
        "      for jj in range(W_out_perturbations.shape[1]):\n",
        "        original_value = W_out[ii,jj]\n",
        "        W_out[ii,jj] += W_out_perturbations[ii,jj] # perturb\n",
        "        R_bar_perturbed = eval_params_hidden(W_in, W_out, Xs_batch, y1_batch) #evaluate\n",
        "        finite_differences_W_out[ii,jj] = (R_bar_perturbed - R_bar_old) / W_out_perturbations[ii,jj]\n",
        "        W_out[ii,jj] = original_value  # Revert the perturbation\n",
        "\n",
        "    delta_W_in = alpha * finite_differences_W_in\n",
        "    W_in += delta_W_in\n",
        "    delta_W_out = alpha * finite_differences_W_out\n",
        "    W_out += delta_W_out\n",
        "\n",
        "  R_bar_full_batch = eval_params_hidden(W_in, W_out, Xs_aug.T, y1.T)\n",
        "  elapsed_time = time.time() - start_time\n",
        "  print(f'Epoch {epoch + 1}/{num_epochs} completed | Full Batch R_bar: {R_bar_full_batch:.6f} | Time elapsed: {elapsed_time:.2f} seconds')"
      ]
    },
    {
      "cell_type": "markdown",
      "metadata": {
        "execution": {},
        "id": "ukHqdTBAIrDz"
      },
      "source": [
        "This more complex circuit get's us even closer to the theoretical maximum performance of 0.5033..., but it's taking longer to get there. This is because there are more parameters to figure out good values for. Consequently, function evaluations take a bit longer, and more significantly, we need many more function evaluations — an additional one for each parameter — in each iteration. With more hidden units and more time we can likely learn perfect discrimination, but it will take even longer (more than 5 minutes!)."
      ]
    },
    {
      "cell_type": "markdown",
      "metadata": {
        "execution": {},
        "id": "UM9v45mvIrDz"
      },
      "source": [
        "Although the toy neural circuit models in this sequence are a far cry from actual neural circuits, they still provide insight into potential learning processes in the brain. We can imagine a scenario where synaptic strengths between neurons in a circuit undergo small, transient perturbations. The brain might integrate and compare the performance of these perturbations over a learning episode (for example, a day) to previous performance levels. (Though, we leave aside the specifics of how this integration and comparison occur.)\n",
        "\n",
        "If performance improves with a perturbation, synaptic changes could be consolidated in the direction of the perturbation, proportionate to the degree of improvement. Conversely, if performance worsens, changes might be consolidated in the opposite direction, also proportional to the performance decrease. This concept, while still vague, suggests a mechanism of synaptic adjustment based on performance feedback.\n",
        "\n",
        "One critical point to consider is the scalability of such a learning process. The number of learning episodes required for effective optimization grows with the number of parameters in a neural circuit. This implies that 'measure and update' perturbation-based learning cannot be the primary mechanism driving neural plasticity in large, complex neural circuits. This limitation is critical, as life simply isn't long enough to accommodate the learning episodes needed for such extensive optimization.\n",
        "\n",
        "However, as demonstrated in our example, a more complex circuit achieved significantly better performance in the discrimination task, so large complex circuits can be useful. This suggests that even if empirical evidence of perturbation-based learning in the brain exists and its physiological implementation is understood, such processes are unlikely to be the primary drivers of neural plasticity for complex and challenging behaviors.\n",
        "\n",
        "(One counterargument in favor of simple learning rules is that extensive learning might not be necessary if genetic predisposition starts the circuit off close to an optimal parameter configuration. Then subsequently, relatively slow learning processes could 'fine-tune' the neural circuit's configuration. However, as noted in our earlier discussions on evolution, changing environments necessitate that a significant portion of behavior must emerge from learning, thereby limiting the extent to which genetic predispositions can facilitate efficient and adaptive learning.)"
      ]
    },
    {
      "cell_type": "markdown",
      "metadata": {
        "execution": {},
        "id": "6x0Y01soIrDz"
      },
      "source": [
        "This concludes our sequence on fitting data through perturbations. In the sequence to come, we will see how different tricks and insights can make our learning algorithms faster and more efficient. We close with a thought on how all of this learning is based simply on changes in average reward. These learning algorithms make no use of information about what the right output should have been (compared to what it was) in any specific situation. Could we make more effective parameter updates if we incorporated information about which situations our circuit already yields 'correct' behavior and which ones it does not?"
      ]
    },
    {
      "cell_type": "markdown",
      "source": [
        "In Summary\n",
        "\n",
        "Rewards only, boo. Too slow. No information about what was good or bad about your chosen action. Not such"
      ],
      "metadata": {
        "id": "9DLqxcfXPCva"
      }
    },
    {
      "cell_type": "code",
      "execution_count": null,
      "metadata": {
        "cellView": "form",
        "execution": {},
        "id": "SoBU6l41IrDz"
      },
      "outputs": [],
      "source": [
        "# @markdown Submit your feedback\n",
        "content_review(f\"{feedback_prefix}_M4\")"
      ]
    },
    {
      "cell_type": "markdown",
      "metadata": {
        "execution": {},
        "id": "IqV3jtGhIrDz"
      },
      "source": [
        "# Quiz"
      ]
    },
    {
      "cell_type": "code",
      "execution_count": null,
      "metadata": {
        "cellView": "form",
        "execution": {},
        "id": "eWxDKmfdIrDz"
      },
      "outputs": [],
      "source": [
        "# @markdown **Run this cell** to take the quiz\n",
        "comprehension_quiz = [\n",
        "  {\n",
        "    \"question\": \"How does the complexity of a neural circuit (number of parameters) impact the number of learning iterations and hence time to learn using a 'measure and update' learning process?\",\n",
        "    \"type\": \"multiple_choice\",\n",
        "    \"answers\": [\n",
        "      {\n",
        "        \"answer\": \"It does not affect the number of iterations required; the process scales well regardless of circuit complexity.\",\n",
        "        \"correct\": False,\n",
        "        \"feedback\": \"Actually, the the number of iterations required grows with the complexity of the circuit due to more parameters requiring optimization.\"\n",
        "      },\n",
        "      {\n",
        "        \"answer\": \"The process requires few learning iterations, by leveraging algorithmic economies of scale\",\n",
        "        \"correct\": False,\n",
        "        \"feedback\": \"Contrary to this, an increase in parameters leads the more learning iterations being required.\"\n",
        "      },\n",
        "      {\n",
        "        \"answer\": \"The process becomes requires more learning episodes for larger, more complex circuits.\",\n",
        "        \"correct\": True,\n",
        "        \"feedback\": \"Correct! More parameters mean more complexity and thus more learning episodes are needed.\"\n",
        "      },\n",
        "      {\n",
        "        \"answer\": \"The number of learning iterations needed is solely dependent on the type of learning task, not the circuit complexity.\",\n",
        "        \"correct\": False,\n",
        "        \"feedback\": \"Circuit complexity, particularly the number of parameters, plays a significant role in the number of learning iterations needed.\"\n",
        "      }\n",
        "    ]\n",
        "  },\n",
        "  {\n",
        "    \"question\": \"Why was the introduction of a 'hidden layer' beneficial in our complex discrimination tasks?\",\n",
        "    \"type\": \"multiple_choice\",\n",
        "    \"answers\": [\n",
        "      {\n",
        "        \"answer\": \"It allowed the model to perform tasks more quickly but with reduced accuracy.\",\n",
        "        \"correct\": False,\n",
        "        \"feedback\": \"The hidden layer's primary benefit is not speed at the cost of accuracy, but rather an enhancement in handling complex patterns.\"\n",
        "      },\n",
        "      {\n",
        "        \"answer\": \"It introduces feature interactions and non-linearities, enabling the model to capture complex patterns.\",\n",
        "        \"correct\": True,\n",
        "        \"feedback\": \"Exactly! Hidden layers allow for complex interactions and non-linear processing of features, which can be crucial for generating behaviour contingent on rich sensory input.\"\n",
        "      },\n",
        "      {\n",
        "        \"answer\": \"It reduces the number of parameters needed, simplifying the model.\",\n",
        "        \"correct\": False,\n",
        "        \"feedback\": \"Adding a hidden layer typically increases the number of parameters, adding complexity to the model.\"\n",
        "      },\n",
        "      {\n",
        "        \"answer\": \"It primarily improves the model's visualization, making it easier to interpret.\",\n",
        "        \"correct\": False,\n",
        "        \"feedback\": \"While interpretability is important, this is not an advantage of adding a hidden layer.\"\n",
        "      }\n",
        "    ]\n",
        "  },\n",
        "  {\n",
        "    \"question\": \"In the context of machine learning, what is the impact of using a 'mini-batch' approach?\",\n",
        "    \"type\": \"multiple_choice\",\n",
        "    \"answers\": [\n",
        "      {\n",
        "        \"answer\": \"It guarantees a 10x speedup in learning algorithms.\",\n",
        "        \"correct\": False,\n",
        "        \"feedback\": \"While mini-batches can speed up learning, the magnitude of this speed-up will depend on choice of mini-batch size and the interaction of this size with underlying algorithmic efficiencies of scale at the hardware implementation level.\"\n",
        "      },\n",
        "      {\n",
        "        \"answer\": \"It reduces the time for evaluations by using a smaller, representative data sample.\",\n",
        "        \"correct\": True,\n",
        "        \"feedback\": \"Correct! A mini-batch approach uses a smaller subset of data for quicker evaluations, though it introduces some noise to the estimates.\"\n",
        "      },\n",
        "      {\n",
        "        \"answer\": \"It decreases the accuracy of parameter evaluation\",\n",
        "        \"correct\": True,\n",
        "        \"feedback\": \"Correct! Mini-batches do introduce some noise to parameter evaluation, but is used thoughtfully this usually isn't an issue.\"\n",
        "      },\n",
        "      {\n",
        "        \"answer\": \"It eliminates the need for parameter updates in the learning process.\",\n",
        "        \"correct\": False,\n",
        "        \"feedback\": \"Mini-batches still require parameter updates; they just alter the way data is processed during learning.\"\n",
        "      }\n",
        "    ]\n",
        "  },\n",
        "  {\n",
        "    \"question\": \"What challenge arises when comparing different machine learning algorithms?\",\n",
        "    \"type\": \"multiple_choice\",\n",
        "    \"answers\": [\n",
        "      {\n",
        "        \"answer\": \"Algorithms cannot be compared due to their differing objectives.\",\n",
        "        \"correct\": False,\n",
        "        \"feedback\": \"While objectives can vary, this doesn't make comparison impossible; it's more about how different parameters and conditions affect performance.\"\n",
        "      },\n",
        "      {\n",
        "        \"answer\": \"All algorithms perform similarly when given the same data and task.\",\n",
        "        \"correct\": False,\n",
        "        \"feedback\": \"Performance can vary significantly between algorithms depending on their design and the specificities of the task and data.\"\n",
        "      },\n",
        "      {\n",
        "        \"answer\": \"Performance is highly dependent on meta-parameter choices, making direct comparisons challenging.\",\n",
        "        \"correct\": True,\n",
        "        \"feedback\": \"Variations in learning rate, perturbation scale, mini-batch size, and other meta-parameters can significantly impact algorithm performance, complicating direct comparisons.\"\n",
        "      },\n",
        "      {\n",
        "        \"answer\": \"Algorithms' performance cannot be measured or quantified.\",\n",
        "        \"correct\": False,\n",
        "        \"feedback\": \"Performance can indeed be measured and quantified, but the challenge lies in accounting for differences in meta-parameters and conditions.\"\n",
        "      }\n",
        "    ]\n",
        "  }\n",
        "]\n",
        "\n",
        "display_quiz(comprehension_quiz)"
      ]
    }
  ],
  "metadata": {
    "colab": {
      "machine_shape": "hm",
      "name": "P2C1_Sequence2",
      "provenance": [],
      "toc_visible": true,
      "include_colab_link": true
    },
    "kernel": {
      "display_name": "Python 3",
      "language": "python",
      "name": "python3"
    },
    "kernelspec": {
      "display_name": "Python 3",
      "name": "python3"
    },
    "language_info": {
      "codemirror_mode": {
        "name": "ipython",
        "version": 3
      },
      "file_extension": ".py",
      "mimetype": "text/x-python",
      "name": "python",
      "nbconvert_exporter": "python",
      "pygments_lexer": "ipython3",
      "version": "3.9.18"
    },
    "widgets": {
      "application/vnd.jupyter.widget-state+json": {
        "0fbf45fa700b439a9f602b1a29ac6916": {
          "model_module": "@jupyter-widgets/controls",
          "model_name": "HBoxModel",
          "model_module_version": "1.5.0",
          "state": {
            "_dom_classes": [],
            "_model_module": "@jupyter-widgets/controls",
            "_model_module_version": "1.5.0",
            "_model_name": "HBoxModel",
            "_view_count": null,
            "_view_module": "@jupyter-widgets/controls",
            "_view_module_version": "1.5.0",
            "_view_name": "HBoxView",
            "box_style": "",
            "children": [
              "IPY_MODEL_08ffc647add44a8788c90a6a8bc43c07",
              "IPY_MODEL_9cf9aecfa2cd470c937c7de7bb74984b"
            ],
            "layout": "IPY_MODEL_d4591c2f94e84117b67f486a63046b53"
          }
        },
        "08ffc647add44a8788c90a6a8bc43c07": {
          "model_module": "@jupyter-widgets/controls",
          "model_name": "VBoxModel",
          "model_module_version": "1.5.0",
          "state": {
            "_dom_classes": [],
            "_model_module": "@jupyter-widgets/controls",
            "_model_module_version": "1.5.0",
            "_model_name": "VBoxModel",
            "_view_count": null,
            "_view_module": "@jupyter-widgets/controls",
            "_view_module_version": "1.5.0",
            "_view_name": "VBoxView",
            "box_style": "",
            "children": [
              "IPY_MODEL_cdb2e0c801e540ef8a3c61f8667a0b3f",
              "IPY_MODEL_2c089b0d9eb14a7db9aa0d0ea7908b19"
            ],
            "layout": "IPY_MODEL_5c211aaebf6345faba81548a172ea17d"
          }
        },
        "9cf9aecfa2cd470c937c7de7bb74984b": {
          "model_module": "@jupyter-widgets/controls",
          "model_name": "VBoxModel",
          "model_module_version": "1.5.0",
          "state": {
            "_dom_classes": [],
            "_model_module": "@jupyter-widgets/controls",
            "_model_module_version": "1.5.0",
            "_model_name": "VBoxModel",
            "_view_count": null,
            "_view_module": "@jupyter-widgets/controls",
            "_view_module_version": "1.5.0",
            "_view_name": "VBoxView",
            "box_style": "",
            "children": [
              "IPY_MODEL_c324a0cf709941b7bc5c14df8fc90dd0",
              "IPY_MODEL_edb2f923860d4e13abdb7449c46e88b4"
            ],
            "layout": "IPY_MODEL_43d5c01a48a14777bf07ba6d69cf3ef4"
          }
        },
        "d4591c2f94e84117b67f486a63046b53": {
          "model_module": "@jupyter-widgets/base",
          "model_name": "LayoutModel",
          "model_module_version": "1.2.0",
          "state": {
            "_model_module": "@jupyter-widgets/base",
            "_model_module_version": "1.2.0",
            "_model_name": "LayoutModel",
            "_view_count": null,
            "_view_module": "@jupyter-widgets/base",
            "_view_module_version": "1.2.0",
            "_view_name": "LayoutView",
            "align_content": null,
            "align_items": null,
            "align_self": null,
            "border": null,
            "bottom": null,
            "display": null,
            "flex": null,
            "flex_flow": null,
            "grid_area": null,
            "grid_auto_columns": null,
            "grid_auto_flow": null,
            "grid_auto_rows": null,
            "grid_column": null,
            "grid_gap": null,
            "grid_row": null,
            "grid_template_areas": null,
            "grid_template_columns": null,
            "grid_template_rows": null,
            "height": null,
            "justify_content": null,
            "justify_items": null,
            "left": null,
            "margin": null,
            "max_height": null,
            "max_width": null,
            "min_height": null,
            "min_width": null,
            "object_fit": null,
            "object_position": null,
            "order": null,
            "overflow": null,
            "overflow_x": null,
            "overflow_y": null,
            "padding": null,
            "right": null,
            "top": null,
            "visibility": null,
            "width": null
          }
        },
        "cdb2e0c801e540ef8a3c61f8667a0b3f": {
          "model_module": "jupyter-matplotlib",
          "model_name": "MPLCanvasModel",
          "model_module_version": "^0.11",
          "state": {
            "_cursor": "default",
            "_data_url": "data:image/png;base64,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",
            "_dom_classes": [],
            "_figure_label": "Figure 1",
            "_image_mode": "full",
            "_message": "",
            "_model_module": "jupyter-matplotlib",
            "_model_module_version": "^0.11",
            "_model_name": "MPLCanvasModel",
            "_rubberband_height": 0,
            "_rubberband_width": 0,
            "_rubberband_x": 0,
            "_rubberband_y": 0,
            "_size": [
              400,
              400
            ],
            "_view_count": null,
            "_view_module": "jupyter-matplotlib",
            "_view_module_version": "^0.11",
            "_view_name": "MPLCanvasView",
            "capture_scroll": false,
            "footer_visible": false,
            "header_visible": false,
            "layout": "IPY_MODEL_17b598f3877148919cc546ea2f1e690c",
            "pan_zoom_throttle": 33,
            "resizable": false,
            "toolbar": "IPY_MODEL_dbc788b32c34412082c23a02afd6dd3c",
            "toolbar_position": "left",
            "toolbar_visible": false
          }
        },
        "2c089b0d9eb14a7db9aa0d0ea7908b19": {
          "model_module": "@jupyter-widgets/controls",
          "model_name": "VBoxModel",
          "model_module_version": "1.5.0",
          "state": {
            "_dom_classes": [],
            "_model_module": "@jupyter-widgets/controls",
            "_model_module_version": "1.5.0",
            "_model_name": "VBoxModel",
            "_view_count": null,
            "_view_module": "@jupyter-widgets/controls",
            "_view_module_version": "1.5.0",
            "_view_name": "VBoxView",
            "box_style": "",
            "children": [
              "IPY_MODEL_ddba38973395435b93c6b353c3dcfff5",
              "IPY_MODEL_6da49ceb8d4946c6a5e8af9939f2ceb4"
            ],
            "layout": "IPY_MODEL_60d88ac8020041f1982dc082e68f97f3"
          }
        },
        "5c211aaebf6345faba81548a172ea17d": {
          "model_module": "@jupyter-widgets/base",
          "model_name": "LayoutModel",
          "model_module_version": "1.2.0",
          "state": {
            "_model_module": "@jupyter-widgets/base",
            "_model_module_version": "1.2.0",
            "_model_name": "LayoutModel",
            "_view_count": null,
            "_view_module": "@jupyter-widgets/base",
            "_view_module_version": "1.2.0",
            "_view_name": "LayoutView",
            "align_content": null,
            "align_items": null,
            "align_self": null,
            "border": null,
            "bottom": null,
            "display": null,
            "flex": null,
            "flex_flow": null,
            "grid_area": null,
            "grid_auto_columns": null,
            "grid_auto_flow": null,
            "grid_auto_rows": null,
            "grid_column": null,
            "grid_gap": null,
            "grid_row": null,
            "grid_template_areas": null,
            "grid_template_columns": null,
            "grid_template_rows": null,
            "height": null,
            "justify_content": null,
            "justify_items": null,
            "left": null,
            "margin": null,
            "max_height": null,
            "max_width": null,
            "min_height": null,
            "min_width": null,
            "object_fit": null,
            "object_position": null,
            "order": null,
            "overflow": null,
            "overflow_x": null,
            "overflow_y": null,
            "padding": null,
            "right": null,
            "top": null,
            "visibility": null,
            "width": null
          }
        },
        "c324a0cf709941b7bc5c14df8fc90dd0": {
          "model_module": "@jupyter-widgets/output",
          "model_name": "OutputModel",
          "model_module_version": "1.0.0",
          "state": {
            "_dom_classes": [],
            "_model_module": "@jupyter-widgets/output",
            "_model_module_version": "1.0.0",
            "_model_name": "OutputModel",
            "_view_count": null,
            "_view_module": "@jupyter-widgets/output",
            "_view_module_version": "1.0.0",
            "_view_name": "OutputView",
            "layout": "IPY_MODEL_2960267b8f8f4c69807c44f01c7c9c06",
            "msg_id": "",
            "outputs": []
          }
        },
        "edb2f923860d4e13abdb7449c46e88b4": {
          "model_module": "@jupyter-widgets/output",
          "model_name": "OutputModel",
          "model_module_version": "1.0.0",
          "state": {
            "_dom_classes": [],
            "_model_module": "@jupyter-widgets/output",
            "_model_module_version": "1.0.0",
            "_model_name": "OutputModel",
            "_view_count": null,
            "_view_module": "@jupyter-widgets/output",
            "_view_module_version": "1.0.0",
            "_view_name": "OutputView",
            "layout": "IPY_MODEL_160e5f80f1ba42feb5c6c5f60cd30894",
            "msg_id": "",
            "outputs": []
          }
        },
        "43d5c01a48a14777bf07ba6d69cf3ef4": {
          "model_module": "@jupyter-widgets/base",
          "model_name": "LayoutModel",
          "model_module_version": "1.2.0",
          "state": {
            "_model_module": "@jupyter-widgets/base",
            "_model_module_version": "1.2.0",
            "_model_name": "LayoutModel",
            "_view_count": null,
            "_view_module": "@jupyter-widgets/base",
            "_view_module_version": "1.2.0",
            "_view_name": "LayoutView",
            "align_content": null,
            "align_items": null,
            "align_self": null,
            "border": null,
            "bottom": null,
            "display": null,
            "flex": null,
            "flex_flow": null,
            "grid_area": null,
            "grid_auto_columns": null,
            "grid_auto_flow": null,
            "grid_auto_rows": null,
            "grid_column": null,
            "grid_gap": null,
            "grid_row": null,
            "grid_template_areas": null,
            "grid_template_columns": null,
            "grid_template_rows": null,
            "height": null,
            "justify_content": null,
            "justify_items": null,
            "left": null,
            "margin": null,
            "max_height": null,
            "max_width": null,
            "min_height": null,
            "min_width": null,
            "object_fit": null,
            "object_position": null,
            "order": null,
            "overflow": null,
            "overflow_x": null,
            "overflow_y": null,
            "padding": null,
            "right": null,
            "top": null,
            "visibility": null,
            "width": null
          }
        },
        "ddba38973395435b93c6b353c3dcfff5": {
          "model_module": "@jupyter-widgets/controls",
          "model_name": "HBoxModel",
          "model_module_version": "1.5.0",
          "state": {
            "_dom_classes": [],
            "_model_module": "@jupyter-widgets/controls",
            "_model_module_version": "1.5.0",
            "_model_name": "HBoxModel",
            "_view_count": null,
            "_view_module": "@jupyter-widgets/controls",
            "_view_module_version": "1.5.0",
            "_view_name": "HBoxView",
            "box_style": "",
            "children": [
              "IPY_MODEL_71bbf2467da5431884247b475146bd26",
              "IPY_MODEL_55e048b255924e7da61d5490a1f10682",
              "IPY_MODEL_2fc9addfc84e4e579e816268ace5d317",
              "IPY_MODEL_dc792f7a72444c4e8f4852507c3bbaca",
              "IPY_MODEL_a5bcab249a814b7fb36ec9558f4aa6ad"
            ],
            "layout": "IPY_MODEL_a8d610d472154c0e9a19dcb4324acdb3"
          }
        },
        "6da49ceb8d4946c6a5e8af9939f2ceb4": {
          "model_module": "@jupyter-widgets/controls",
          "model_name": "HBoxModel",
          "model_module_version": "1.5.0",
          "state": {
            "_dom_classes": [],
            "_model_module": "@jupyter-widgets/controls",
            "_model_module_version": "1.5.0",
            "_model_name": "HBoxModel",
            "_view_count": null,
            "_view_module": "@jupyter-widgets/controls",
            "_view_module_version": "1.5.0",
            "_view_name": "HBoxView",
            "box_style": "",
            "children": [
              "IPY_MODEL_353bd3d768ee4e639347877b4cd62713",
              "IPY_MODEL_23bab64d29d64745a2ad85b742b8589b",
              "IPY_MODEL_fe35d91fb5f949faa3cf2fbaf02c237c",
              "IPY_MODEL_43fc12d887c74ff5bb3c8cd96e924da6",
              "IPY_MODEL_9682a90a472044a18f0a80950cbce476"
            ],
            "layout": "IPY_MODEL_7fb0150d972e481ab3b51da226cab1a7"
          }
        },
        "60d88ac8020041f1982dc082e68f97f3": {
          "model_module": "@jupyter-widgets/base",
          "model_name": "LayoutModel",
          "model_module_version": "1.2.0",
          "state": {
            "_model_module": "@jupyter-widgets/base",
            "_model_module_version": "1.2.0",
            "_model_name": "LayoutModel",
            "_view_count": null,
            "_view_module": "@jupyter-widgets/base",
            "_view_module_version": "1.2.0",
            "_view_name": "LayoutView",
            "align_content": null,
            "align_items": null,
            "align_self": null,
            "border": null,
            "bottom": null,
            "display": null,
            "flex": null,
            "flex_flow": null,
            "grid_area": null,
            "grid_auto_columns": null,
            "grid_auto_flow": null,
            "grid_auto_rows": null,
            "grid_column": null,
            "grid_gap": null,
            "grid_row": null,
            "grid_template_areas": null,
            "grid_template_columns": null,
            "grid_template_rows": null,
            "height": null,
            "justify_content": null,
            "justify_items": null,
            "left": null,
            "margin": null,
            "max_height": null,
            "max_width": null,
            "min_height": null,
            "min_width": null,
            "object_fit": null,
            "object_position": null,
            "order": null,
            "overflow": null,
            "overflow_x": null,
            "overflow_y": null,
            "padding": null,
            "right": null,
            "top": null,
            "visibility": null,
            "width": null
          }
        },
        "2960267b8f8f4c69807c44f01c7c9c06": {
          "model_module": "@jupyter-widgets/base",
          "model_name": "LayoutModel",
          "model_module_version": "1.2.0",
          "state": {
            "_model_module": "@jupyter-widgets/base",
            "_model_module_version": "1.2.0",
            "_model_name": "LayoutModel",
            "_view_count": null,
            "_view_module": "@jupyter-widgets/base",
            "_view_module_version": "1.2.0",
            "_view_name": "LayoutView",
            "align_content": null,
            "align_items": null,
            "align_self": null,
            "border": null,
            "bottom": null,
            "display": null,
            "flex": null,
            "flex_flow": null,
            "grid_area": null,
            "grid_auto_columns": null,
            "grid_auto_flow": null,
            "grid_auto_rows": null,
            "grid_column": null,
            "grid_gap": null,
            "grid_row": null,
            "grid_template_areas": null,
            "grid_template_columns": null,
            "grid_template_rows": null,
            "height": null,
            "justify_content": null,
            "justify_items": null,
            "left": null,
            "margin": null,
            "max_height": null,
            "max_width": null,
            "min_height": null,
            "min_width": null,
            "object_fit": null,
            "object_position": null,
            "order": null,
            "overflow": null,
            "overflow_x": null,
            "overflow_y": null,
            "padding": null,
            "right": null,
            "top": null,
            "visibility": null,
            "width": null
          }
        },
        "160e5f80f1ba42feb5c6c5f60cd30894": {
          "model_module": "@jupyter-widgets/base",
          "model_name": "LayoutModel",
          "model_module_version": "1.2.0",
          "state": {
            "_model_module": "@jupyter-widgets/base",
            "_model_module_version": "1.2.0",
            "_model_name": "LayoutModel",
            "_view_count": null,
            "_view_module": "@jupyter-widgets/base",
            "_view_module_version": "1.2.0",
            "_view_name": "LayoutView",
            "align_content": null,
            "align_items": null,
            "align_self": null,
            "border": null,
            "bottom": null,
            "display": null,
            "flex": null,
            "flex_flow": null,
            "grid_area": null,
            "grid_auto_columns": null,
            "grid_auto_flow": null,
            "grid_auto_rows": null,
            "grid_column": null,
            "grid_gap": null,
            "grid_row": null,
            "grid_template_areas": null,
            "grid_template_columns": null,
            "grid_template_rows": null,
            "height": null,
            "justify_content": null,
            "justify_items": null,
            "left": null,
            "margin": null,
            "max_height": null,
            "max_width": null,
            "min_height": null,
            "min_width": null,
            "object_fit": null,
            "object_position": null,
            "order": null,
            "overflow": null,
            "overflow_x": null,
            "overflow_y": null,
            "padding": null,
            "right": null,
            "top": null,
            "visibility": null,
            "width": null
          }
        },
        "71bbf2467da5431884247b475146bd26": {
          "model_module": "@jupyter-widgets/controls",
          "model_name": "ButtonModel",
          "model_module_version": "1.5.0",
          "state": {
            "_dom_classes": [],
            "_model_module": "@jupyter-widgets/controls",
            "_model_module_version": "1.5.0",
            "_model_name": "ButtonModel",
            "_view_count": null,
            "_view_module": "@jupyter-widgets/controls",
            "_view_module_version": "1.5.0",
            "_view_name": "ButtonView",
            "button_style": "",
            "description": "Action 0",
            "disabled": false,
            "icon": "",
            "layout": "IPY_MODEL_5d19bda1d1a145d29812674cf18c98cd",
            "style": "IPY_MODEL_ffbae92825c8466983549e2b1d933045",
            "tooltip": ""
          }
        },
        "55e048b255924e7da61d5490a1f10682": {
          "model_module": "@jupyter-widgets/controls",
          "model_name": "ButtonModel",
          "model_module_version": "1.5.0",
          "state": {
            "_dom_classes": [],
            "_model_module": "@jupyter-widgets/controls",
            "_model_module_version": "1.5.0",
            "_model_name": "ButtonModel",
            "_view_count": null,
            "_view_module": "@jupyter-widgets/controls",
            "_view_module_version": "1.5.0",
            "_view_name": "ButtonView",
            "button_style": "",
            "description": "Action 1",
            "disabled": false,
            "icon": "",
            "layout": "IPY_MODEL_62c038553b334192b5502db704eeafb6",
            "style": "IPY_MODEL_a978058c5e3844738d94845ac75de985",
            "tooltip": ""
          }
        },
        "2fc9addfc84e4e579e816268ace5d317": {
          "model_module": "@jupyter-widgets/controls",
          "model_name": "ButtonModel",
          "model_module_version": "1.5.0",
          "state": {
            "_dom_classes": [],
            "_model_module": "@jupyter-widgets/controls",
            "_model_module_version": "1.5.0",
            "_model_name": "ButtonModel",
            "_view_count": null,
            "_view_module": "@jupyter-widgets/controls",
            "_view_module_version": "1.5.0",
            "_view_name": "ButtonView",
            "button_style": "",
            "description": "Action 2",
            "disabled": false,
            "icon": "",
            "layout": "IPY_MODEL_3445a1c30446416f8c7315b5460a6817",
            "style": "IPY_MODEL_00c9443905fe4a8b90cdace7208da8d4",
            "tooltip": ""
          }
        },
        "dc792f7a72444c4e8f4852507c3bbaca": {
          "model_module": "@jupyter-widgets/controls",
          "model_name": "ButtonModel",
          "model_module_version": "1.5.0",
          "state": {
            "_dom_classes": [],
            "_model_module": "@jupyter-widgets/controls",
            "_model_module_version": "1.5.0",
            "_model_name": "ButtonModel",
            "_view_count": null,
            "_view_module": "@jupyter-widgets/controls",
            "_view_module_version": "1.5.0",
            "_view_name": "ButtonView",
            "button_style": "",
            "description": "Action 3",
            "disabled": false,
            "icon": "",
            "layout": "IPY_MODEL_42ac5010fcdd4e448e9d6b8df223d387",
            "style": "IPY_MODEL_16c20b43767c435c947bde7a82948fd7",
            "tooltip": ""
          }
        },
        "a5bcab249a814b7fb36ec9558f4aa6ad": {
          "model_module": "@jupyter-widgets/controls",
          "model_name": "ButtonModel",
          "model_module_version": "1.5.0",
          "state": {
            "_dom_classes": [],
            "_model_module": "@jupyter-widgets/controls",
            "_model_module_version": "1.5.0",
            "_model_name": "ButtonModel",
            "_view_count": null,
            "_view_module": "@jupyter-widgets/controls",
            "_view_module_version": "1.5.0",
            "_view_name": "ButtonView",
            "button_style": "",
            "description": "Action 4",
            "disabled": false,
            "icon": "",
            "layout": "IPY_MODEL_de86e083449741a6806be3f45bb2a384",
            "style": "IPY_MODEL_b4af987ca09247d6892eff6104262c15",
            "tooltip": ""
          }
        },
        "a8d610d472154c0e9a19dcb4324acdb3": {
          "model_module": "@jupyter-widgets/base",
          "model_name": "LayoutModel",
          "model_module_version": "1.2.0",
          "state": {
            "_model_module": "@jupyter-widgets/base",
            "_model_module_version": "1.2.0",
            "_model_name": "LayoutModel",
            "_view_count": null,
            "_view_module": "@jupyter-widgets/base",
            "_view_module_version": "1.2.0",
            "_view_name": "LayoutView",
            "align_content": null,
            "align_items": null,
            "align_self": null,
            "border": null,
            "bottom": null,
            "display": null,
            "flex": null,
            "flex_flow": null,
            "grid_area": null,
            "grid_auto_columns": null,
            "grid_auto_flow": null,
            "grid_auto_rows": null,
            "grid_column": null,
            "grid_gap": null,
            "grid_row": null,
            "grid_template_areas": null,
            "grid_template_columns": null,
            "grid_template_rows": null,
            "height": null,
            "justify_content": null,
            "justify_items": null,
            "left": null,
            "margin": null,
            "max_height": null,
            "max_width": null,
            "min_height": null,
            "min_width": null,
            "object_fit": null,
            "object_position": null,
            "order": null,
            "overflow": null,
            "overflow_x": null,
            "overflow_y": null,
            "padding": null,
            "right": null,
            "top": null,
            "visibility": null,
            "width": null
          }
        },
        "353bd3d768ee4e639347877b4cd62713": {
          "model_module": "@jupyter-widgets/controls",
          "model_name": "ButtonModel",
          "model_module_version": "1.5.0",
          "state": {
            "_dom_classes": [],
            "_model_module": "@jupyter-widgets/controls",
            "_model_module_version": "1.5.0",
            "_model_name": "ButtonModel",
            "_view_count": null,
            "_view_module": "@jupyter-widgets/controls",
            "_view_module_version": "1.5.0",
            "_view_name": "ButtonView",
            "button_style": "",
            "description": "Action 5",
            "disabled": false,
            "icon": "",
            "layout": "IPY_MODEL_3368292cdf664a4c942c75ab2425b430",
            "style": "IPY_MODEL_05123ed677f2425fa7e146ccc99dfa1a",
            "tooltip": ""
          }
        },
        "23bab64d29d64745a2ad85b742b8589b": {
          "model_module": "@jupyter-widgets/controls",
          "model_name": "ButtonModel",
          "model_module_version": "1.5.0",
          "state": {
            "_dom_classes": [],
            "_model_module": "@jupyter-widgets/controls",
            "_model_module_version": "1.5.0",
            "_model_name": "ButtonModel",
            "_view_count": null,
            "_view_module": "@jupyter-widgets/controls",
            "_view_module_version": "1.5.0",
            "_view_name": "ButtonView",
            "button_style": "",
            "description": "Action 6",
            "disabled": false,
            "icon": "",
            "layout": "IPY_MODEL_4d2478aaa4704d6898354652b56a0d8b",
            "style": "IPY_MODEL_75ce643ce63e4dd7b1a4a12d73813e7b",
            "tooltip": ""
          }
        },
        "fe35d91fb5f949faa3cf2fbaf02c237c": {
          "model_module": "@jupyter-widgets/controls",
          "model_name": "ButtonModel",
          "model_module_version": "1.5.0",
          "state": {
            "_dom_classes": [],
            "_model_module": "@jupyter-widgets/controls",
            "_model_module_version": "1.5.0",
            "_model_name": "ButtonModel",
            "_view_count": null,
            "_view_module": "@jupyter-widgets/controls",
            "_view_module_version": "1.5.0",
            "_view_name": "ButtonView",
            "button_style": "",
            "description": "Action 7",
            "disabled": false,
            "icon": "",
            "layout": "IPY_MODEL_7ed9e26c8938416fbc196614311bd383",
            "style": "IPY_MODEL_c97bcae6b0294c988d5fd69ce3528f93",
            "tooltip": ""
          }
        },
        "43fc12d887c74ff5bb3c8cd96e924da6": {
          "model_module": "@jupyter-widgets/controls",
          "model_name": "ButtonModel",
          "model_module_version": "1.5.0",
          "state": {
            "_dom_classes": [],
            "_model_module": "@jupyter-widgets/controls",
            "_model_module_version": "1.5.0",
            "_model_name": "ButtonModel",
            "_view_count": null,
            "_view_module": "@jupyter-widgets/controls",
            "_view_module_version": "1.5.0",
            "_view_name": "ButtonView",
            "button_style": "",
            "description": "Action 8",
            "disabled": false,
            "icon": "",
            "layout": "IPY_MODEL_b4458fa45f9246c29587834030325b19",
            "style": "IPY_MODEL_9d82e96830974813b904cd5437509865",
            "tooltip": ""
          }
        },
        "9682a90a472044a18f0a80950cbce476": {
          "model_module": "@jupyter-widgets/controls",
          "model_name": "ButtonModel",
          "model_module_version": "1.5.0",
          "state": {
            "_dom_classes": [],
            "_model_module": "@jupyter-widgets/controls",
            "_model_module_version": "1.5.0",
            "_model_name": "ButtonModel",
            "_view_count": null,
            "_view_module": "@jupyter-widgets/controls",
            "_view_module_version": "1.5.0",
            "_view_name": "ButtonView",
            "button_style": "",
            "description": "Action 9",
            "disabled": false,
            "icon": "",
            "layout": "IPY_MODEL_ee6a1ca99e0542b98e29b82c061ee7cb",
            "style": "IPY_MODEL_082da7a35bd04eff824b3f33b330b5d1",
            "tooltip": ""
          }
        },
        "7fb0150d972e481ab3b51da226cab1a7": {
          "model_module": "@jupyter-widgets/base",
          "model_name": "LayoutModel",
          "model_module_version": "1.2.0",
          "state": {
            "_model_module": "@jupyter-widgets/base",
            "_model_module_version": "1.2.0",
            "_model_name": "LayoutModel",
            "_view_count": null,
            "_view_module": "@jupyter-widgets/base",
            "_view_module_version": "1.2.0",
            "_view_name": "LayoutView",
            "align_content": null,
            "align_items": null,
            "align_self": null,
            "border": null,
            "bottom": null,
            "display": null,
            "flex": null,
            "flex_flow": null,
            "grid_area": null,
            "grid_auto_columns": null,
            "grid_auto_flow": null,
            "grid_auto_rows": null,
            "grid_column": null,
            "grid_gap": null,
            "grid_row": null,
            "grid_template_areas": null,
            "grid_template_columns": null,
            "grid_template_rows": null,
            "height": null,
            "justify_content": null,
            "justify_items": null,
            "left": null,
            "margin": null,
            "max_height": null,
            "max_width": null,
            "min_height": null,
            "min_width": null,
            "object_fit": null,
            "object_position": null,
            "order": null,
            "overflow": null,
            "overflow_x": null,
            "overflow_y": null,
            "padding": null,
            "right": null,
            "top": null,
            "visibility": null,
            "width": null
          }
        },
        "5d19bda1d1a145d29812674cf18c98cd": {
          "model_module": "@jupyter-widgets/base",
          "model_name": "LayoutModel",
          "model_module_version": "1.2.0",
          "state": {
            "_model_module": "@jupyter-widgets/base",
            "_model_module_version": "1.2.0",
            "_model_name": "LayoutModel",
            "_view_count": null,
            "_view_module": "@jupyter-widgets/base",
            "_view_module_version": "1.2.0",
            "_view_name": "LayoutView",
            "align_content": null,
            "align_items": null,
            "align_self": null,
            "border": null,
            "bottom": null,
            "display": null,
            "flex": null,
            "flex_flow": null,
            "grid_area": null,
            "grid_auto_columns": null,
            "grid_auto_flow": null,
            "grid_auto_rows": null,
            "grid_column": null,
            "grid_gap": null,
            "grid_row": null,
            "grid_template_areas": null,
            "grid_template_columns": null,
            "grid_template_rows": null,
            "height": null,
            "justify_content": null,
            "justify_items": null,
            "left": null,
            "margin": null,
            "max_height": null,
            "max_width": null,
            "min_height": null,
            "min_width": null,
            "object_fit": null,
            "object_position": null,
            "order": null,
            "overflow": null,
            "overflow_x": null,
            "overflow_y": null,
            "padding": null,
            "right": null,
            "top": null,
            "visibility": null,
            "width": null
          }
        },
        "ffbae92825c8466983549e2b1d933045": {
          "model_module": "@jupyter-widgets/controls",
          "model_name": "ButtonStyleModel",
          "model_module_version": "1.5.0",
          "state": {
            "_model_module": "@jupyter-widgets/controls",
            "_model_module_version": "1.5.0",
            "_model_name": "ButtonStyleModel",
            "_view_count": null,
            "_view_module": "@jupyter-widgets/base",
            "_view_module_version": "1.2.0",
            "_view_name": "StyleView",
            "button_color": null,
            "font_weight": ""
          }
        },
        "62c038553b334192b5502db704eeafb6": {
          "model_module": "@jupyter-widgets/base",
          "model_name": "LayoutModel",
          "model_module_version": "1.2.0",
          "state": {
            "_model_module": "@jupyter-widgets/base",
            "_model_module_version": "1.2.0",
            "_model_name": "LayoutModel",
            "_view_count": null,
            "_view_module": "@jupyter-widgets/base",
            "_view_module_version": "1.2.0",
            "_view_name": "LayoutView",
            "align_content": null,
            "align_items": null,
            "align_self": null,
            "border": null,
            "bottom": null,
            "display": null,
            "flex": null,
            "flex_flow": null,
            "grid_area": null,
            "grid_auto_columns": null,
            "grid_auto_flow": null,
            "grid_auto_rows": null,
            "grid_column": null,
            "grid_gap": null,
            "grid_row": null,
            "grid_template_areas": null,
            "grid_template_columns": null,
            "grid_template_rows": null,
            "height": null,
            "justify_content": null,
            "justify_items": null,
            "left": null,
            "margin": null,
            "max_height": null,
            "max_width": null,
            "min_height": null,
            "min_width": null,
            "object_fit": null,
            "object_position": null,
            "order": null,
            "overflow": null,
            "overflow_x": null,
            "overflow_y": null,
            "padding": null,
            "right": null,
            "top": null,
            "visibility": null,
            "width": null
          }
        },
        "a978058c5e3844738d94845ac75de985": {
          "model_module": "@jupyter-widgets/controls",
          "model_name": "ButtonStyleModel",
          "model_module_version": "1.5.0",
          "state": {
            "_model_module": "@jupyter-widgets/controls",
            "_model_module_version": "1.5.0",
            "_model_name": "ButtonStyleModel",
            "_view_count": null,
            "_view_module": "@jupyter-widgets/base",
            "_view_module_version": "1.2.0",
            "_view_name": "StyleView",
            "button_color": null,
            "font_weight": ""
          }
        },
        "3445a1c30446416f8c7315b5460a6817": {
          "model_module": "@jupyter-widgets/base",
          "model_name": "LayoutModel",
          "model_module_version": "1.2.0",
          "state": {
            "_model_module": "@jupyter-widgets/base",
            "_model_module_version": "1.2.0",
            "_model_name": "LayoutModel",
            "_view_count": null,
            "_view_module": "@jupyter-widgets/base",
            "_view_module_version": "1.2.0",
            "_view_name": "LayoutView",
            "align_content": null,
            "align_items": null,
            "align_self": null,
            "border": null,
            "bottom": null,
            "display": null,
            "flex": null,
            "flex_flow": null,
            "grid_area": null,
            "grid_auto_columns": null,
            "grid_auto_flow": null,
            "grid_auto_rows": null,
            "grid_column": null,
            "grid_gap": null,
            "grid_row": null,
            "grid_template_areas": null,
            "grid_template_columns": null,
            "grid_template_rows": null,
            "height": null,
            "justify_content": null,
            "justify_items": null,
            "left": null,
            "margin": null,
            "max_height": null,
            "max_width": null,
            "min_height": null,
            "min_width": null,
            "object_fit": null,
            "object_position": null,
            "order": null,
            "overflow": null,
            "overflow_x": null,
            "overflow_y": null,
            "padding": null,
            "right": null,
            "top": null,
            "visibility": null,
            "width": null
          }
        },
        "00c9443905fe4a8b90cdace7208da8d4": {
          "model_module": "@jupyter-widgets/controls",
          "model_name": "ButtonStyleModel",
          "model_module_version": "1.5.0",
          "state": {
            "_model_module": "@jupyter-widgets/controls",
            "_model_module_version": "1.5.0",
            "_model_name": "ButtonStyleModel",
            "_view_count": null,
            "_view_module": "@jupyter-widgets/base",
            "_view_module_version": "1.2.0",
            "_view_name": "StyleView",
            "button_color": null,
            "font_weight": ""
          }
        },
        "42ac5010fcdd4e448e9d6b8df223d387": {
          "model_module": "@jupyter-widgets/base",
          "model_name": "LayoutModel",
          "model_module_version": "1.2.0",
          "state": {
            "_model_module": "@jupyter-widgets/base",
            "_model_module_version": "1.2.0",
            "_model_name": "LayoutModel",
            "_view_count": null,
            "_view_module": "@jupyter-widgets/base",
            "_view_module_version": "1.2.0",
            "_view_name": "LayoutView",
            "align_content": null,
            "align_items": null,
            "align_self": null,
            "border": null,
            "bottom": null,
            "display": null,
            "flex": null,
            "flex_flow": null,
            "grid_area": null,
            "grid_auto_columns": null,
            "grid_auto_flow": null,
            "grid_auto_rows": null,
            "grid_column": null,
            "grid_gap": null,
            "grid_row": null,
            "grid_template_areas": null,
            "grid_template_columns": null,
            "grid_template_rows": null,
            "height": null,
            "justify_content": null,
            "justify_items": null,
            "left": null,
            "margin": null,
            "max_height": null,
            "max_width": null,
            "min_height": null,
            "min_width": null,
            "object_fit": null,
            "object_position": null,
            "order": null,
            "overflow": null,
            "overflow_x": null,
            "overflow_y": null,
            "padding": null,
            "right": null,
            "top": null,
            "visibility": null,
            "width": null
          }
        },
        "16c20b43767c435c947bde7a82948fd7": {
          "model_module": "@jupyter-widgets/controls",
          "model_name": "ButtonStyleModel",
          "model_module_version": "1.5.0",
          "state": {
            "_model_module": "@jupyter-widgets/controls",
            "_model_module_version": "1.5.0",
            "_model_name": "ButtonStyleModel",
            "_view_count": null,
            "_view_module": "@jupyter-widgets/base",
            "_view_module_version": "1.2.0",
            "_view_name": "StyleView",
            "button_color": null,
            "font_weight": ""
          }
        },
        "de86e083449741a6806be3f45bb2a384": {
          "model_module": "@jupyter-widgets/base",
          "model_name": "LayoutModel",
          "model_module_version": "1.2.0",
          "state": {
            "_model_module": "@jupyter-widgets/base",
            "_model_module_version": "1.2.0",
            "_model_name": "LayoutModel",
            "_view_count": null,
            "_view_module": "@jupyter-widgets/base",
            "_view_module_version": "1.2.0",
            "_view_name": "LayoutView",
            "align_content": null,
            "align_items": null,
            "align_self": null,
            "border": null,
            "bottom": null,
            "display": null,
            "flex": null,
            "flex_flow": null,
            "grid_area": null,
            "grid_auto_columns": null,
            "grid_auto_flow": null,
            "grid_auto_rows": null,
            "grid_column": null,
            "grid_gap": null,
            "grid_row": null,
            "grid_template_areas": null,
            "grid_template_columns": null,
            "grid_template_rows": null,
            "height": null,
            "justify_content": null,
            "justify_items": null,
            "left": null,
            "margin": null,
            "max_height": null,
            "max_width": null,
            "min_height": null,
            "min_width": null,
            "object_fit": null,
            "object_position": null,
            "order": null,
            "overflow": null,
            "overflow_x": null,
            "overflow_y": null,
            "padding": null,
            "right": null,
            "top": null,
            "visibility": null,
            "width": null
          }
        },
        "b4af987ca09247d6892eff6104262c15": {
          "model_module": "@jupyter-widgets/controls",
          "model_name": "ButtonStyleModel",
          "model_module_version": "1.5.0",
          "state": {
            "_model_module": "@jupyter-widgets/controls",
            "_model_module_version": "1.5.0",
            "_model_name": "ButtonStyleModel",
            "_view_count": null,
            "_view_module": "@jupyter-widgets/base",
            "_view_module_version": "1.2.0",
            "_view_name": "StyleView",
            "button_color": null,
            "font_weight": ""
          }
        },
        "3368292cdf664a4c942c75ab2425b430": {
          "model_module": "@jupyter-widgets/base",
          "model_name": "LayoutModel",
          "model_module_version": "1.2.0",
          "state": {
            "_model_module": "@jupyter-widgets/base",
            "_model_module_version": "1.2.0",
            "_model_name": "LayoutModel",
            "_view_count": null,
            "_view_module": "@jupyter-widgets/base",
            "_view_module_version": "1.2.0",
            "_view_name": "LayoutView",
            "align_content": null,
            "align_items": null,
            "align_self": null,
            "border": null,
            "bottom": null,
            "display": null,
            "flex": null,
            "flex_flow": null,
            "grid_area": null,
            "grid_auto_columns": null,
            "grid_auto_flow": null,
            "grid_auto_rows": null,
            "grid_column": null,
            "grid_gap": null,
            "grid_row": null,
            "grid_template_areas": null,
            "grid_template_columns": null,
            "grid_template_rows": null,
            "height": null,
            "justify_content": null,
            "justify_items": null,
            "left": null,
            "margin": null,
            "max_height": null,
            "max_width": null,
            "min_height": null,
            "min_width": null,
            "object_fit": null,
            "object_position": null,
            "order": null,
            "overflow": null,
            "overflow_x": null,
            "overflow_y": null,
            "padding": null,
            "right": null,
            "top": null,
            "visibility": null,
            "width": null
          }
        },
        "05123ed677f2425fa7e146ccc99dfa1a": {
          "model_module": "@jupyter-widgets/controls",
          "model_name": "ButtonStyleModel",
          "model_module_version": "1.5.0",
          "state": {
            "_model_module": "@jupyter-widgets/controls",
            "_model_module_version": "1.5.0",
            "_model_name": "ButtonStyleModel",
            "_view_count": null,
            "_view_module": "@jupyter-widgets/base",
            "_view_module_version": "1.2.0",
            "_view_name": "StyleView",
            "button_color": null,
            "font_weight": ""
          }
        },
        "4d2478aaa4704d6898354652b56a0d8b": {
          "model_module": "@jupyter-widgets/base",
          "model_name": "LayoutModel",
          "model_module_version": "1.2.0",
          "state": {
            "_model_module": "@jupyter-widgets/base",
            "_model_module_version": "1.2.0",
            "_model_name": "LayoutModel",
            "_view_count": null,
            "_view_module": "@jupyter-widgets/base",
            "_view_module_version": "1.2.0",
            "_view_name": "LayoutView",
            "align_content": null,
            "align_items": null,
            "align_self": null,
            "border": null,
            "bottom": null,
            "display": null,
            "flex": null,
            "flex_flow": null,
            "grid_area": null,
            "grid_auto_columns": null,
            "grid_auto_flow": null,
            "grid_auto_rows": null,
            "grid_column": null,
            "grid_gap": null,
            "grid_row": null,
            "grid_template_areas": null,
            "grid_template_columns": null,
            "grid_template_rows": null,
            "height": null,
            "justify_content": null,
            "justify_items": null,
            "left": null,
            "margin": null,
            "max_height": null,
            "max_width": null,
            "min_height": null,
            "min_width": null,
            "object_fit": null,
            "object_position": null,
            "order": null,
            "overflow": null,
            "overflow_x": null,
            "overflow_y": null,
            "padding": null,
            "right": null,
            "top": null,
            "visibility": null,
            "width": null
          }
        },
        "75ce643ce63e4dd7b1a4a12d73813e7b": {
          "model_module": "@jupyter-widgets/controls",
          "model_name": "ButtonStyleModel",
          "model_module_version": "1.5.0",
          "state": {
            "_model_module": "@jupyter-widgets/controls",
            "_model_module_version": "1.5.0",
            "_model_name": "ButtonStyleModel",
            "_view_count": null,
            "_view_module": "@jupyter-widgets/base",
            "_view_module_version": "1.2.0",
            "_view_name": "StyleView",
            "button_color": null,
            "font_weight": ""
          }
        },
        "7ed9e26c8938416fbc196614311bd383": {
          "model_module": "@jupyter-widgets/base",
          "model_name": "LayoutModel",
          "model_module_version": "1.2.0",
          "state": {
            "_model_module": "@jupyter-widgets/base",
            "_model_module_version": "1.2.0",
            "_model_name": "LayoutModel",
            "_view_count": null,
            "_view_module": "@jupyter-widgets/base",
            "_view_module_version": "1.2.0",
            "_view_name": "LayoutView",
            "align_content": null,
            "align_items": null,
            "align_self": null,
            "border": null,
            "bottom": null,
            "display": null,
            "flex": null,
            "flex_flow": null,
            "grid_area": null,
            "grid_auto_columns": null,
            "grid_auto_flow": null,
            "grid_auto_rows": null,
            "grid_column": null,
            "grid_gap": null,
            "grid_row": null,
            "grid_template_areas": null,
            "grid_template_columns": null,
            "grid_template_rows": null,
            "height": null,
            "justify_content": null,
            "justify_items": null,
            "left": null,
            "margin": null,
            "max_height": null,
            "max_width": null,
            "min_height": null,
            "min_width": null,
            "object_fit": null,
            "object_position": null,
            "order": null,
            "overflow": null,
            "overflow_x": null,
            "overflow_y": null,
            "padding": null,
            "right": null,
            "top": null,
            "visibility": null,
            "width": null
          }
        },
        "c97bcae6b0294c988d5fd69ce3528f93": {
          "model_module": "@jupyter-widgets/controls",
          "model_name": "ButtonStyleModel",
          "model_module_version": "1.5.0",
          "state": {
            "_model_module": "@jupyter-widgets/controls",
            "_model_module_version": "1.5.0",
            "_model_name": "ButtonStyleModel",
            "_view_count": null,
            "_view_module": "@jupyter-widgets/base",
            "_view_module_version": "1.2.0",
            "_view_name": "StyleView",
            "button_color": null,
            "font_weight": ""
          }
        },
        "b4458fa45f9246c29587834030325b19": {
          "model_module": "@jupyter-widgets/base",
          "model_name": "LayoutModel",
          "model_module_version": "1.2.0",
          "state": {
            "_model_module": "@jupyter-widgets/base",
            "_model_module_version": "1.2.0",
            "_model_name": "LayoutModel",
            "_view_count": null,
            "_view_module": "@jupyter-widgets/base",
            "_view_module_version": "1.2.0",
            "_view_name": "LayoutView",
            "align_content": null,
            "align_items": null,
            "align_self": null,
            "border": null,
            "bottom": null,
            "display": null,
            "flex": null,
            "flex_flow": null,
            "grid_area": null,
            "grid_auto_columns": null,
            "grid_auto_flow": null,
            "grid_auto_rows": null,
            "grid_column": null,
            "grid_gap": null,
            "grid_row": null,
            "grid_template_areas": null,
            "grid_template_columns": null,
            "grid_template_rows": null,
            "height": null,
            "justify_content": null,
            "justify_items": null,
            "left": null,
            "margin": null,
            "max_height": null,
            "max_width": null,
            "min_height": null,
            "min_width": null,
            "object_fit": null,
            "object_position": null,
            "order": null,
            "overflow": null,
            "overflow_x": null,
            "overflow_y": null,
            "padding": null,
            "right": null,
            "top": null,
            "visibility": null,
            "width": null
          }
        },
        "9d82e96830974813b904cd5437509865": {
          "model_module": "@jupyter-widgets/controls",
          "model_name": "ButtonStyleModel",
          "model_module_version": "1.5.0",
          "state": {
            "_model_module": "@jupyter-widgets/controls",
            "_model_module_version": "1.5.0",
            "_model_name": "ButtonStyleModel",
            "_view_count": null,
            "_view_module": "@jupyter-widgets/base",
            "_view_module_version": "1.2.0",
            "_view_name": "StyleView",
            "button_color": null,
            "font_weight": ""
          }
        },
        "ee6a1ca99e0542b98e29b82c061ee7cb": {
          "model_module": "@jupyter-widgets/base",
          "model_name": "LayoutModel",
          "model_module_version": "1.2.0",
          "state": {
            "_model_module": "@jupyter-widgets/base",
            "_model_module_version": "1.2.0",
            "_model_name": "LayoutModel",
            "_view_count": null,
            "_view_module": "@jupyter-widgets/base",
            "_view_module_version": "1.2.0",
            "_view_name": "LayoutView",
            "align_content": null,
            "align_items": null,
            "align_self": null,
            "border": null,
            "bottom": null,
            "display": null,
            "flex": null,
            "flex_flow": null,
            "grid_area": null,
            "grid_auto_columns": null,
            "grid_auto_flow": null,
            "grid_auto_rows": null,
            "grid_column": null,
            "grid_gap": null,
            "grid_row": null,
            "grid_template_areas": null,
            "grid_template_columns": null,
            "grid_template_rows": null,
            "height": null,
            "justify_content": null,
            "justify_items": null,
            "left": null,
            "margin": null,
            "max_height": null,
            "max_width": null,
            "min_height": null,
            "min_width": null,
            "object_fit": null,
            "object_position": null,
            "order": null,
            "overflow": null,
            "overflow_x": null,
            "overflow_y": null,
            "padding": null,
            "right": null,
            "top": null,
            "visibility": null,
            "width": null
          }
        },
        "082da7a35bd04eff824b3f33b330b5d1": {
          "model_module": "@jupyter-widgets/controls",
          "model_name": "ButtonStyleModel",
          "model_module_version": "1.5.0",
          "state": {
            "_model_module": "@jupyter-widgets/controls",
            "_model_module_version": "1.5.0",
            "_model_name": "ButtonStyleModel",
            "_view_count": null,
            "_view_module": "@jupyter-widgets/base",
            "_view_module_version": "1.2.0",
            "_view_name": "StyleView",
            "button_color": null,
            "font_weight": ""
          }
        },
        "17b598f3877148919cc546ea2f1e690c": {
          "model_module": "@jupyter-widgets/base",
          "model_name": "LayoutModel",
          "model_module_version": "1.2.0",
          "state": {
            "_model_module": "@jupyter-widgets/base",
            "_model_module_version": "1.2.0",
            "_model_name": "LayoutModel",
            "_view_count": null,
            "_view_module": "@jupyter-widgets/base",
            "_view_module_version": "1.2.0",
            "_view_name": "LayoutView",
            "align_content": null,
            "align_items": null,
            "align_self": null,
            "border": null,
            "bottom": null,
            "display": null,
            "flex": null,
            "flex_flow": null,
            "grid_area": null,
            "grid_auto_columns": null,
            "grid_auto_flow": null,
            "grid_auto_rows": null,
            "grid_column": null,
            "grid_gap": null,
            "grid_row": null,
            "grid_template_areas": null,
            "grid_template_columns": null,
            "grid_template_rows": null,
            "height": null,
            "justify_content": null,
            "justify_items": null,
            "left": null,
            "margin": null,
            "max_height": null,
            "max_width": null,
            "min_height": null,
            "min_width": null,
            "object_fit": null,
            "object_position": null,
            "order": null,
            "overflow": null,
            "overflow_x": null,
            "overflow_y": null,
            "padding": null,
            "right": null,
            "top": null,
            "visibility": null,
            "width": null
          }
        },
        "dbc788b32c34412082c23a02afd6dd3c": {
          "model_module": "jupyter-matplotlib",
          "model_name": "ToolbarModel",
          "model_module_version": "^0.11",
          "state": {
            "_current_action": "",
            "_dom_classes": [],
            "_model_module": "jupyter-matplotlib",
            "_model_module_version": "^0.11",
            "_model_name": "ToolbarModel",
            "_view_count": null,
            "_view_module": "jupyter-matplotlib",
            "_view_module_version": "^0.11",
            "_view_name": "ToolbarView",
            "button_style": "",
            "collapsed": true,
            "layout": "IPY_MODEL_b96bfff771104107be246a0434dd6e3c",
            "orientation": "vertical",
            "toolitems": [
              [
                "Home",
                "Reset original view",
                "home",
                "home"
              ],
              [
                "Back",
                "Back to previous view",
                "arrow-left",
                "back"
              ],
              [
                "Forward",
                "Forward to next view",
                "arrow-right",
                "forward"
              ],
              [
                "Pan",
                "Left button pans, Right button zooms\nx/y fixes axis, CTRL fixes aspect",
                "arrows",
                "pan"
              ],
              [
                "Zoom",
                "Zoom to rectangle\nx/y fixes axis",
                "square-o",
                "zoom"
              ],
              [
                "Download",
                "Download plot",
                "floppy-o",
                "save_figure"
              ]
            ]
          }
        },
        "b96bfff771104107be246a0434dd6e3c": {
          "model_module": "@jupyter-widgets/base",
          "model_name": "LayoutModel",
          "model_module_version": "1.2.0",
          "state": {
            "_model_module": "@jupyter-widgets/base",
            "_model_module_version": "1.2.0",
            "_model_name": "LayoutModel",
            "_view_count": null,
            "_view_module": "@jupyter-widgets/base",
            "_view_module_version": "1.2.0",
            "_view_name": "LayoutView",
            "align_content": null,
            "align_items": null,
            "align_self": null,
            "border": null,
            "bottom": null,
            "display": null,
            "flex": null,
            "flex_flow": null,
            "grid_area": null,
            "grid_auto_columns": null,
            "grid_auto_flow": null,
            "grid_auto_rows": null,
            "grid_column": null,
            "grid_gap": null,
            "grid_row": null,
            "grid_template_areas": null,
            "grid_template_columns": null,
            "grid_template_rows": null,
            "height": null,
            "justify_content": null,
            "justify_items": null,
            "left": null,
            "margin": null,
            "max_height": null,
            "max_width": null,
            "min_height": null,
            "min_width": null,
            "object_fit": null,
            "object_position": null,
            "order": null,
            "overflow": null,
            "overflow_x": null,
            "overflow_y": null,
            "padding": null,
            "right": null,
            "top": null,
            "visibility": null,
            "width": null
          }
        },
        "6091aff999d64c45b9d0ab22ae6c2c83": {
          "model_module": "jupyter-matplotlib",
          "model_name": "MPLCanvasModel",
          "model_module_version": "^0.11",
          "state": {
            "_cursor": "default",
            "_data_url": "data:image/png;base64,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",
            "_dom_classes": [],
            "_figure_label": "Figure 2",
            "_image_mode": "full",
            "_message": "",
            "_model_module": "jupyter-matplotlib",
            "_model_module_version": "^0.11",
            "_model_name": "MPLCanvasModel",
            "_rubberband_height": 0,
            "_rubberband_width": 0,
            "_rubberband_x": 0,
            "_rubberband_y": 0,
            "_size": [
              800,
              600
            ],
            "_view_count": null,
            "_view_module": "jupyter-matplotlib",
            "_view_module_version": "^0.11",
            "_view_name": "MPLCanvasView",
            "capture_scroll": false,
            "footer_visible": true,
            "header_visible": true,
            "layout": "IPY_MODEL_40e51ee9097e4778bbddbe720a32c119",
            "pan_zoom_throttle": 33,
            "resizable": true,
            "toolbar": "IPY_MODEL_abd8cff05f364e8d834235aab406d847",
            "toolbar_position": "left",
            "toolbar_visible": "fade-in-fade-out"
          }
        },
        "40e51ee9097e4778bbddbe720a32c119": {
          "model_module": "@jupyter-widgets/base",
          "model_name": "LayoutModel",
          "model_module_version": "1.2.0",
          "state": {
            "_model_module": "@jupyter-widgets/base",
            "_model_module_version": "1.2.0",
            "_model_name": "LayoutModel",
            "_view_count": null,
            "_view_module": "@jupyter-widgets/base",
            "_view_module_version": "1.2.0",
            "_view_name": "LayoutView",
            "align_content": null,
            "align_items": null,
            "align_self": null,
            "border": null,
            "bottom": null,
            "display": null,
            "flex": null,
            "flex_flow": null,
            "grid_area": null,
            "grid_auto_columns": null,
            "grid_auto_flow": null,
            "grid_auto_rows": null,
            "grid_column": null,
            "grid_gap": null,
            "grid_row": null,
            "grid_template_areas": null,
            "grid_template_columns": null,
            "grid_template_rows": null,
            "height": null,
            "justify_content": null,
            "justify_items": null,
            "left": null,
            "margin": null,
            "max_height": null,
            "max_width": null,
            "min_height": null,
            "min_width": null,
            "object_fit": null,
            "object_position": null,
            "order": null,
            "overflow": null,
            "overflow_x": null,
            "overflow_y": null,
            "padding": null,
            "right": null,
            "top": null,
            "visibility": null,
            "width": null
          }
        },
        "abd8cff05f364e8d834235aab406d847": {
          "model_module": "jupyter-matplotlib",
          "model_name": "ToolbarModel",
          "model_module_version": "^0.11",
          "state": {
            "_current_action": "",
            "_dom_classes": [],
            "_model_module": "jupyter-matplotlib",
            "_model_module_version": "^0.11",
            "_model_name": "ToolbarModel",
            "_view_count": null,
            "_view_module": "jupyter-matplotlib",
            "_view_module_version": "^0.11",
            "_view_name": "ToolbarView",
            "button_style": "",
            "collapsed": true,
            "layout": "IPY_MODEL_e65adffc108f4e13b482e4e888b6013d",
            "orientation": "vertical",
            "toolitems": [
              [
                "Home",
                "Reset original view",
                "home",
                "home"
              ],
              [
                "Back",
                "Back to previous view",
                "arrow-left",
                "back"
              ],
              [
                "Forward",
                "Forward to next view",
                "arrow-right",
                "forward"
              ],
              [
                "Pan",
                "Left button pans, Right button zooms\nx/y fixes axis, CTRL fixes aspect",
                "arrows",
                "pan"
              ],
              [
                "Zoom",
                "Zoom to rectangle\nx/y fixes axis",
                "square-o",
                "zoom"
              ],
              [
                "Download",
                "Download plot",
                "floppy-o",
                "save_figure"
              ]
            ]
          }
        },
        "e65adffc108f4e13b482e4e888b6013d": {
          "model_module": "@jupyter-widgets/base",
          "model_name": "LayoutModel",
          "model_module_version": "1.2.0",
          "state": {
            "_model_module": "@jupyter-widgets/base",
            "_model_module_version": "1.2.0",
            "_model_name": "LayoutModel",
            "_view_count": null,
            "_view_module": "@jupyter-widgets/base",
            "_view_module_version": "1.2.0",
            "_view_name": "LayoutView",
            "align_content": null,
            "align_items": null,
            "align_self": null,
            "border": null,
            "bottom": null,
            "display": null,
            "flex": null,
            "flex_flow": null,
            "grid_area": null,
            "grid_auto_columns": null,
            "grid_auto_flow": null,
            "grid_auto_rows": null,
            "grid_column": null,
            "grid_gap": null,
            "grid_row": null,
            "grid_template_areas": null,
            "grid_template_columns": null,
            "grid_template_rows": null,
            "height": null,
            "justify_content": null,
            "justify_items": null,
            "left": null,
            "margin": null,
            "max_height": null,
            "max_width": null,
            "min_height": null,
            "min_width": null,
            "object_fit": null,
            "object_position": null,
            "order": null,
            "overflow": null,
            "overflow_x": null,
            "overflow_y": null,
            "padding": null,
            "right": null,
            "top": null,
            "visibility": null,
            "width": null
          }
        }
      }
    }
  },
  "nbformat": 4,
  "nbformat_minor": 0
}