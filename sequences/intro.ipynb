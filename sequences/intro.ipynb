{
  "cells": [
    {
      "cell_type": "markdown",
      "metadata": {
        "id": "view-in-github",
        "colab_type": "text"
      },
      "source": [
        "<a href=\"https://colab.research.google.com/github/dcownden/PerennialProblemsOfLifeWithABrain/blob/tweek-for-book/sequences/intro.ipynb\" target=\"_parent\"><img src=\"https://colab.research.google.com/assets/colab-badge.svg\" alt=\"Open In Colab\"/></a>"
      ]
    },
    {
      "cell_type": "markdown",
      "source": [
        "# Introduction"
      ],
      "metadata": {
        "id": "nxrczdwoonpQ"
      }
    },
    {
      "cell_type": "markdown",
      "source": [
        "The following is part of an early draft test for an upcoming text book on computational neuroscience from an optimization perspective. We are sharing it now to get feedback on what works and what does not and the developments we should do."
      ],
      "metadata": {
        "id": "nMqb8RmCouA2"
      }
    },
    {
      "cell_type": "markdown",
      "metadata": {
        "execution": {},
        "id": "ujb-Z9UZoeGr"
      },
      "source": [
        "## Understanding the Brain\n",
        "\n",
        "Traditional neuroscience textbooks present a fragmented view of the field, cataloging empirical observations and theoretical constructs without providing any conceptual links between them. This is arguably because the discipline has yet to agree on core principles that could provide students a big picture understanding to connect all of the things they are learning. This interactive book, which facilitates learning by doing, teaches a set of coherent computational principles for neural systems broadly, giving students of neuroscience, from undergraduate to advanced level, a big picture understanding that is relevant across spatial scales, species, and behavior.\n",
        "\n",
        "Why hasn't neuroscience established core principles yet? This is primarily due to the brain's complex nature as a high-dimensional, parallel computing system, which is challenging for human intuition to grasp. However, machine learning, a subfield of artificial intelligence, offers valuable conceptual as well as mathematical tools for understanding optimization in such high-dimensional systems. Our book, accompanied with a sequence of short interactive experiences, presents the principles derived from this perspective to better comprehend the brain.\n",
        "\n",
        "Why is it crucial to base computational principles for neuroscience on mathematical tools that optimize high-dimensional systems? The answer lies both in the high-dimensional nature of the brain and in the fundamental role of evolution in biology. Biology has unifying principles, primarily evolutionary theory, which allow us to comprehend the connections between all biological systems. Brains are not exempt from this; understanding them also requires the framework provided by evolutionary theory. Brains evolved to produce behaviors that are appropriate for an animal's current environment, and to adjust those behaviors rapidly as the environment changes. Put another way, both evolution and the functions that brains perform are forms of optimization–but they operate across very different scales of time. Brains shape behavior on short within generation time-scales to optimize proxies of fitness for the individual in the immediate situation, whereas evolution shapes brains on a longer between generations time-scale to optimize the fitness. As such, optimization is a conceptual core for understanding both the evolution of brains and the functions that brains perform. Given this, and the high-dimensional nature of brains, mathematical tools for understanding the optimization of high-dimensional systems are the right tools for understanding brains.\n",
        "\n",
        "As we will see, the kinds of understanding that machine learning theory generates are different from the kinds of understanding neuroscientists have traditionally aimed at. For example, the optimization perspective does not provide a very good explanation of what any individual neuron type does in a given species, nor does it tell us about the molecular pathways that shape a specific behavior, etc. But, we argue that this is a feature not a bug: if the goal is to develop unifying principles that apply to any brain or any function, then it is actually helpful to have theories that don’t speak directly to specific species, behaviors, cells, or molecules. In other words, our goal is to encourage neuroscience students to think more abstractly so that they can see the links across the things they are learning. This is not to say that specifics don’t matter for neuroscience. Rather, the hope is that the computational principles that a student will learn from this textbook will then help them to unify their understanding of the myriad specific facts that they will learn in the rest of their journey through neuroscience.\n",
        "\n",
        "We will explore key concepts in machine learning and demonstrate their relevance to neural systems. For instance, adjusting behavior by modifying large numbers of parameters involves estimating both the outcomes of behaviors and the impact of parameter changes on those outcomes. Adapting many parameters necessitates determining the appropriate adjustments for each. One approach is to perturb the parameters and observe the consequences, but this can be slow. A more efficient method involves using specialized mechanisms to calculate the effects of parameter changes on outcomes. Additionally, the brain can accelerate learning by predicting aspects of the world, enabling it to identify suitable parameters even when behavioral feedback is scarce. We will show how these and related concepts form a framework for understanding the brain.\n",
        "\n",
        "Our book starts with a chapter on evolution, presenting its effect in terms of optimization by considering the effects of perturbations. It continues with a sequence on supervised learning, on learning from immediate success and failure, discussing the nature of feedback signals provided by the environment and a sequence of progressively more powerful optimization mechanisms. It follows this up with a section on unsupervised learning, i.e. on learning the statistical regularities in the world. It concludes with considerations of reinforcement learning, learning problems where the feedback happens much later. Throughout the book, a consideration of high-dimensional spaces and the need to optimize effectively sets up the scaffolding of a set of clean principles that explain much of what is known in neuroscience.\n"
      ]
    }
  ],
  "metadata": {
    "colab": {
      "name": "intro",
      "provenance": [],
      "toc_visible": true,
      "include_colab_link": true
    },
    "kernel": {
      "display_name": "Python 3",
      "language": "python",
      "name": "python3"
    },
    "kernelspec": {
      "display_name": "Python 3",
      "name": "python3"
    },
    "language_info": {
      "codemirror_mode": {
        "name": "ipython",
        "version": 3
      },
      "file_extension": ".py",
      "mimetype": "text/x-python",
      "name": "python",
      "nbconvert_exporter": "python",
      "pygments_lexer": "ipython3",
      "version": "3.9.17"
    }
  },
  "nbformat": 4,
  "nbformat_minor": 0
}