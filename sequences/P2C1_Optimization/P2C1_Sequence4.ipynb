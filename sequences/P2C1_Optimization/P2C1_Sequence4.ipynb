{
  "cells": [
    {
      "cell_type": "markdown",
      "metadata": {
        "id": "view-in-github",
        "colab_type": "text"
      },
      "source": [
        "<a href=\"https://colab.research.google.com/github/dcownden/PerennialProblemsOfLifeWithABrain/blob/split-and-simple-perturb/sequences/P2C1_Optimization/P2C1_Sequence4.ipynb\" target=\"_parent\"><img src=\"https://colab.research.google.com/assets/colab-badge.svg\" alt=\"Open In Colab\"/></a>"
      ]
    },
    {
      "cell_type": "markdown",
      "metadata": {
        "execution": {},
        "id": "K10DbaXu1WBL"
      },
      "source": [
        "The following is part of a test for an upcoming text book on computational neuroscience from an optimization and learning perspective. The book will start with evolution because ultimately, all aspects of the brain are shaped by evolution and, as we will see, evolution can also be seen as an optimization algorithm. We are sharing it now to get feedback on what works and what does not and the developments we should do."
      ]
    },
    {
      "cell_type": "markdown",
      "metadata": {
        "execution": {},
        "id": "dsQ6T5OZ1WBM"
      },
      "source": [
        "___\n",
        "# **2.1.4: Learning Behaviour as a form of High Dimensional Optimization**\n",
        "\n",
        "### Objective: Explicitly connect the kinds of simple optimization process we saw in the previous sequences to learning adaptive behaviours.\n",
        "\n",
        "In this sequence we will:\n",
        "\n",
        "* Introduce a slightly more complex version of the strike-no-strike problem where the decision depends on 64 features instead of 1, and develop a simple artificial neural network that can solve this problem\n",
        "\n",
        "* Use perturb-measure-step to train this network\n",
        "\n",
        "* Investigate different times scales of learning and function evaluation.\n"
      ]
    },
    {
      "cell_type": "markdown",
      "metadata": {
        "execution": {},
        "id": "rK0I5ANa1WBM"
      },
      "source": [
        "# Setup\n",
        "\n",
        "Run the following cell to setup and install the various dependencies and helper functions for this ."
      ]
    },
    {
      "cell_type": "code",
      "execution_count": 1,
      "metadata": {
        "execution": {},
        "id": "g9MNYxfk1WBN",
        "cellView": "form",
        "colab": {
          "base_uri": "https://localhost:8080/"
        },
        "outputId": "a6f5b345-017e-48dd-8c2e-3d7de5924e02"
      },
      "outputs": [
        {
          "output_type": "stream",
          "name": "stdout",
          "text": [
            "Best feature is 21\n",
            "Random seed 2021 has been set.\n",
            "This notebook isn't using and doesn't need a GPU. Good.\n",
            "Running in colab\n"
          ]
        }
      ],
      "source": [
        "# @title Dependencies, Imports and Setup\n",
        "# @markdown You don't need to worry about how this code works – but you do need to **run the cell**\n",
        "!apt install libgraphviz-dev > /dev/null 2> /dev/null #colab\n",
        "!pip install ipympl pygraphviz vibecheck datatops jupyterquiz ucimlrepo > /dev/null 2> /dev/null #google.colab\n",
        "\n",
        "import asyncio\n",
        "import requests\n",
        "from requests.exceptions import RequestException\n",
        "import numpy as np\n",
        "import itertools\n",
        "import collections\n",
        "import matplotlib\n",
        "import matplotlib.pyplot as plt\n",
        "import matplotlib.patches as mpatches\n",
        "from matplotlib.lines import Line2D\n",
        "from matplotlib.colors import LogNorm\n",
        "from matplotlib.animation import FuncAnimation\n",
        "from matplotlib import gridspec\n",
        "import seaborn as sns\n",
        "import pandas as pd\n",
        "import pygraphviz as pgv\n",
        "import ipywidgets as widgets\n",
        "import time\n",
        "import logging\n",
        "import random\n",
        "import os\n",
        "import copy\n",
        "import torch\n",
        "import warnings\n",
        "import torch.nn as nn\n",
        "import torch.optim as optim\n",
        "import torch.nn.functional as F\n",
        "from io import BytesIO\n",
        "from enum import Enum\n",
        "from scipy.spatial.distance import cdist\n",
        "from scipy.stats import norm\n",
        "from scipy.optimize import minimize\n",
        "from sklearn.linear_model import LinearRegression\n",
        "from tabulate import tabulate\n",
        "from IPython.display import display, clear_output, Markdown, HTML, Image\n",
        "from jupyterquiz import display_quiz\n",
        "from vibecheck import DatatopsContentReviewContainer\n",
        "from pathlib import Path\n",
        "from typing import List, Dict\n",
        "from tqdm.notebook import tqdm\n",
        "from ucimlrepo import fetch_ucirepo\n",
        "\n",
        "data_set = fetch_ucirepo(id=80)\n",
        "X = data_set.data.features.values\n",
        "# Translate the data to have a minimum of 0\n",
        "X_translated = X - X.min()\n",
        "# Scale the data to have a range from 0 to 12 (which is 6 - (-6))\n",
        "scaling_factor = 12 / (X.max() - X.min())\n",
        "X_scaled = X_translated * scaling_factor\n",
        "# Finally, shift the data to be centered between -6 and 6\n",
        "X_final = X_scaled - 6\n",
        "\n",
        "y = data_set.data.targets.values\n",
        "rng = np.random.default_rng(seed=2021)\n",
        "scramble_permutation = rng.permutation(X.shape[1])\n",
        "Xs = X_final[:, scramble_permutation]\n",
        "y1 = y % 2\n",
        "y2 = np.array(y >= 5, dtype=y.dtype)\n",
        "simple_index = ((y.flatten()==1) | (y.flatten()==0))\n",
        "X_simple = Xs[simple_index]\n",
        "y1_simple = y1[simple_index]\n",
        "# if you only had one feature which would likely be best for discrimination\n",
        "epsilon = 10\n",
        "class_a_sep = np.mean(X_simple[y1_simple.flatten() == 1, :], axis=0) / (np.std(X_simple[y1_simple.flatten() == 1, :], axis=0) + epsilon)\n",
        "class_b_sep = np.mean(X_simple[y1_simple.flatten() == 0, :], axis=0) / (np.std(X_simple[y1_simple.flatten() == 0, :], axis=0) + epsilon)\n",
        "best_feature = np.argmax(class_a_sep - class_b_sep)\n",
        "print(f'Best feature is {best_feature}')\n",
        "X_simple_1_feature = X_simple[:, [best_feature]]\n",
        "\n",
        "import warnings\n",
        "warnings.filterwarnings(\"ignore\", category=UserWarning, module=\"matplotlib\")\n",
        "# random seed settings and\n",
        "# getting torch to use gpu if it's there\n",
        "\n",
        "\n",
        "def set_seed(seed=None, seed_torch=True):\n",
        "  \"\"\"\n",
        "  Function that controls randomness. NumPy and random modules must be imported.\n",
        "\n",
        "  Args:\n",
        "    seed : Integer\n",
        "      A non-negative integer that defines the random state. Default is `None`.\n",
        "    seed_torch : Boolean\n",
        "      If `True` sets the random seed for pytorch tensors, so pytorch module\n",
        "      must be imported. Default is `True`.\n",
        "\n",
        "  Returns:\n",
        "    Nothing.\n",
        "  \"\"\"\n",
        "  if seed is None:\n",
        "    seed = np.random.choice(2 ** 32)\n",
        "  random.seed(seed)\n",
        "  np.random.seed(seed)\n",
        "  if seed_torch:\n",
        "    torch.manual_seed(seed)\n",
        "    torch.cuda.manual_seed_all(seed)\n",
        "    torch.cuda.manual_seed(seed)\n",
        "    torch.backends.cudnn.benchmark = False\n",
        "    torch.backends.cudnn.deterministic = True\n",
        "\n",
        "  print(f'Random seed {seed} has been set.')\n",
        "\n",
        "\n",
        "def seed_worker(worker_id):\n",
        "  \"\"\"\n",
        "  DataLoader will reseed workers following randomness in\n",
        "  multi-process data loading algorithm.\n",
        "\n",
        "  Args:\n",
        "    worker_id: integer\n",
        "      ID of subprocess to seed. 0 means that\n",
        "      the data will be loaded in the main process\n",
        "      Refer: https://pytorch.org/docs/stable/data.html#data-loading-randomness for more details\n",
        "\n",
        "  Returns:\n",
        "    Nothing\n",
        "  \"\"\"\n",
        "  worker_seed = torch.initial_seed() % 2**32\n",
        "  np.random.seed(worker_seed)\n",
        "  random.seed(worker_seed)\n",
        "\n",
        "\n",
        "def set_device():\n",
        "  \"\"\"\n",
        "  Set the device. CUDA if available, CPU otherwise\n",
        "\n",
        "  Args:\n",
        "    None\n",
        "\n",
        "  Returns:\n",
        "    Nothing\n",
        "  \"\"\"\n",
        "  device = \"cuda\" if torch.cuda.is_available() else \"cpu\"\n",
        "  if device != \"cuda\":\n",
        "    print(\"This notebook isn't using and doesn't need a GPU. Good.\")\n",
        "  else:\n",
        "    print(\"GPU is enabled in this notebook but not needed.\")\n",
        "    print(\"If possible, in the menu under `Runtime` -> \")\n",
        "    print(\"`Change runtime type.`  select `CPU`\")\n",
        "\n",
        "  return device\n",
        "\n",
        "\n",
        "SEED = 2021\n",
        "set_seed(seed=SEED)\n",
        "DEVICE = set_device()\n",
        "\n",
        "\n",
        "def printmd(string):\n",
        "  display(Markdown(string))\n",
        "\n",
        "\n",
        "# the different utility .py files used in this notebook\n",
        "filenames = []\n",
        "# just run the code straight out of the response, no local copies needed!\n",
        "for filename in filenames:\n",
        "  url = f'https://raw.githubusercontent.com/dcownden/PerennialProblemsOfLifeWithABrain/main/utils/{filename}'\n",
        "  response = requests.get(url)\n",
        "  # Check that we got a valid response\n",
        "  if response.status_code == 200:\n",
        "    code = response.content.decode()\n",
        "    exec(code)\n",
        "  else:\n",
        "    print(f'Failed to download {url}')\n",
        "\n",
        "# environment contingent imports\n",
        "try:\n",
        "  print('Running in colab')\n",
        "  from google.colab import output\n",
        "  output.enable_custom_widget_manager()\n",
        "  from google.colab import data_table\n",
        "  data_table.disable_dataframe_formatter()\n",
        "  #from google.colab import output as colab_output\n",
        "  #colab_output.enable_custom_widget_manager()\n",
        "  IN_COLAB = True\n",
        "except:\n",
        "  IN_COLAB = False\n",
        "  print('Not running in colab')\n",
        "\n",
        "%matplotlib inline\n",
        "%config InlineBackend.figure_format = 'retina'\n",
        "%matplotlib widget\n",
        "plt.style.use(\"https://raw.githubusercontent.com/dcownden/PerennialProblemsOfLifeWithABrain/main/pplb.mplstyle\")\n",
        "plt.ioff() #need to use plt.show() or display explicitly\n",
        "logging.getLogger('matplotlib.font_manager').setLevel(logging.ERROR)\n",
        "\n",
        "\n",
        "def remove_ip_clutter(fig):\n",
        "  fig.canvas.header_visible = False\n",
        "  fig.canvas.toolbar_visible = False\n",
        "  fig.canvas.resizable = False\n",
        "  fig.canvas.footer_visible = False\n",
        "  fig.canvas.draw()\n",
        "\n",
        "\n",
        "def content_review(notebook_section: str):\n",
        "  return DatatopsContentReviewContainer(\n",
        "    \"\",  # No text prompt\n",
        "    notebook_section,\n",
        "    {\n",
        "      \"url\": \"https://pmyvdlilci.execute-api.us-east-1.amazonaws.com/klab\",\n",
        "      \"name\": \"neuro_book\",\n",
        "      \"user_key\": \"xuk960xj\",\n",
        "    },\n",
        "  ).render()\n",
        "feedback_prefix = \"P2C1_S2\""
      ]
    },
    {
      "cell_type": "markdown",
      "source": [
        "# 2.1.4.1 Learning Strike-No-Strike with Perturb-Measure-Step.\n",
        "\n",
        "Now that we know a bit about optimization in higher-dimensions we are going to introduce a harder, higher-dimensional version of our strike-no-strike problem. Whereas previously we had only a single input, now we are going to allow for 64 different inputs. So our cartoon organism that inspires this problem can now be thought of as having 64 photo-sensitive receptors, and based on this combination of inputs it must decide whether to strike or not. As before, the organism pays a cost of one if it strikes when it shouldn't and recieves a reward of one if it strikes when it should. It receives no cost or reward when it does not strike. To get a sense of this more complex discrimination problem, try it yourself by running the code cell below."
      ],
      "metadata": {
        "id": "OR3gHzvHXExf"
      }
    },
    {
      "cell_type": "code",
      "source": [
        "# @markdown **Run this cell** to try out the more complex 'strike-no-strike' discrimination task.\n",
        "\n",
        "class InteractiveMNISTPredator():\n",
        "  def __init__(self,\n",
        "               features=Xs,\n",
        "               labels=y,\n",
        "               feedback_type='on_strike_only', seed=123):\n",
        "    # Initialize dataset, settings for image scrambling and feedback\n",
        "    self.features = features\n",
        "    self.labels = labels\n",
        "    # features is num_data_points x 64 (reshape to 8x8 for display, each cell 0-16)\n",
        "    # labels is num_data_points x 1 (values 0-9 or 0/1 depending)\n",
        "    self.feedback_type = feedback_type\n",
        "    self.rng = np.random.default_rng(seed)\n",
        "    sample_order = self.rng.permutation(self.features.shape[0])\n",
        "    self.features = self.features[sample_order]\n",
        "    self.labels = self.labels[sample_order]\n",
        "    # initialize game state\n",
        "    self.current_index = 0\n",
        "    self.current_image = None\n",
        "    self.previous_image = None\n",
        "    self.score = 0\n",
        "    self.best_possible_score = 0\n",
        "    self.successful_strikes = 0\n",
        "    self.failed_strikes = 0\n",
        "    self.non_strikes = 0\n",
        "    # Initialize widgets\n",
        "    self.strike_button = widgets.Button(description='Strike')\n",
        "    self.no_strike_button = widgets.Button(description='No Strike')\n",
        "    self.score_display = widgets.Output()\n",
        "    self.feedback_display = widgets.Output()\n",
        "\n",
        "    # Initialize the figure for image display\n",
        "    self.fig, self.ax = plt.subplots(figsize=(4, 4))\n",
        "    remove_ip_clutter(self.fig)\n",
        "    self.prev_fig, self.prev_ax = plt.subplots(figsize=(4, 4))\n",
        "    remove_ip_clutter(self.prev_fig)\n",
        "    self.show_next_image()\n",
        "    # Bind event handlers\n",
        "    self.strike_button.on_click(self.on_strike_clicked)\n",
        "    self.no_strike_button.on_click(self.on_no_strike_clicked)\n",
        "\n",
        "    # Arrange widgets in a layout\n",
        "    buttons_layout = widgets.HBox([self.strike_button, self.no_strike_button])\n",
        "    current_buttons = widgets.VBox([self.fig.canvas, buttons_layout])\n",
        "    previous_feedback = widgets.VBox([self.prev_fig.canvas, self.feedback_display])\n",
        "    self.ui = widgets.HBox([previous_feedback, current_buttons, self.score_display])\n",
        "\n",
        "  def show_next_image(self):\n",
        "    # Display the next image\n",
        "    image = self.features[self.current_index]\n",
        "\n",
        "    if len(image) == 64:\n",
        "        image = image.reshape(8, 8)\n",
        "    elif len(image) == 1:\n",
        "      scalar_value = image.flatten()[0]\n",
        "      # Initialize the 8x8 array with -6 (black)\n",
        "      image = np.full((8, 8), -6.0)\n",
        "      # Set the first ring to 6 (white)\n",
        "      image[0, 0] = 6\n",
        "      # Set the second ring to 6 (white)\n",
        "      image[1:-1, 1:-1] = 6\n",
        "      # Set the third (inner ring) back to -6 (black)\n",
        "      image[2:-2, 2:-2] = -6\n",
        "      # Assuming scalar_value is already in the range -6 to 6\n",
        "      #print(scalar_value)\n",
        "      image[3:-3, 3:-3] = scalar_value\n",
        "    else:\n",
        "      raise ValueError(f'Unexpected image shape: {image.shape}')\n",
        "    if self.current_image is not None:\n",
        "      self.previous_image = self.current_image\n",
        "    self.current_image = image\n",
        "    # Display the image\n",
        "    #print(image)\n",
        "    self.fig.clf()\n",
        "    self.prev_fig.clf()\n",
        "    self.ax = self.fig.add_subplot(111)\n",
        "    self.prev_ax = self.prev_fig.add_subplot(111)\n",
        "    self.ax.set_xlim(-.5, 7.5)\n",
        "    self.ax.set_ylim(-0.5, 7.5)\n",
        "    self.prev_ax.set_xlim(-.5, 7.5)\n",
        "    self.prev_ax.set_ylim(-0.5, 7.5)\n",
        "    self.ax.set_aspect('equal')\n",
        "    self.prev_ax.set_aspect('equal')\n",
        "    self.ax.axis('off')\n",
        "    self.prev_ax.axis('off')\n",
        "    self.ax.imshow(self.current_image, cmap='gray', vmin=-6, vmax=6)\n",
        "    if self.previous_image is not None:\n",
        "      self.prev_ax.imshow(self.previous_image, cmap='gray', vmin=-6, vmax=6)\n",
        "    self.ax.set_title('Current Sensory Input')\n",
        "    self.prev_ax.set_title('Previous Sensory Input')\n",
        "    self.fig.canvas.draw()\n",
        "    self.prev_fig.canvas.draw()\n",
        "\n",
        "  def on_strike_clicked(self, button):\n",
        "    self.process_decision('Strike')\n",
        "\n",
        "  def on_no_strike_clicked(self, button):\n",
        "    self.process_decision('No Strike')\n",
        "\n",
        "  def process_decision(self, decision):\n",
        "    # freeze buttons while we process\n",
        "    self.strike_button.disabled = True\n",
        "    self.no_strike_button.disabled = True\n",
        "\n",
        "    # Process the user's decision, update score, and provide feedback\n",
        "    correct_action = 'Strike' if self.labels[self.current_index] == 1 else 'No Strike'\n",
        "    if decision == 'Strike':\n",
        "      if decision == correct_action:\n",
        "        self.score += 1\n",
        "        self.successful_strikes += 1\n",
        "      else:\n",
        "        self.score -= 1\n",
        "        self.failed_strikes += 1\n",
        "    elif decision == 'No Strike':\n",
        "      self.non_strikes += 1\n",
        "      # no strike means no gain or loss\n",
        "    else:\n",
        "      raise ValueError(f'Unknown decision: {decision}')\n",
        "\n",
        "    # Show feedback and score\n",
        "    if (self.feedback_type == 'both' or\n",
        "      (self.feedback_type == 'on_strike_only' and decision == 'Strike')):\n",
        "      # Show informative feedback\n",
        "      feedback = f'Your last choice: {decision}\\nCorrect last choice: {correct_action}'\n",
        "    else:\n",
        "      # Show uninformative feedback\n",
        "      feedback = 'Feedback only available after striking.'\n",
        "    with self.feedback_display:\n",
        "      clear_output(wait=True)\n",
        "      print(feedback)\n",
        "\n",
        "    # Show score\n",
        "    with self.score_display:\n",
        "      clear_output(wait=True)\n",
        "      average_score = self.score / (self.current_index+1)\n",
        "      print(f'Total Score: {self.score}')\n",
        "      print(f'Number of Trials: {self.current_index + 1}')\n",
        "      print(f'Successful Strikes: {self.successful_strikes}')\n",
        "      print(f'Failed Strikes: {self.failed_strikes}')\n",
        "      print(f'Non-Strikes: {self.non_strikes}')\n",
        "      print(f'Average Score Per Trial: {average_score:.2f}')\n",
        "\n",
        "    # Prepare the next image\n",
        "    self.current_index += 1\n",
        "    #print(self.current_index)\n",
        "    self.show_next_image()\n",
        "    # Re-enable buttons\n",
        "    self.strike_button.disabled = False\n",
        "    self.no_strike_button.disabled = False\n",
        "\n",
        "\n",
        "scramble_bin_hard = InteractiveMNISTPredator(features=Xs,\n",
        "                                             labels=y1,\n",
        "                                             feedback_type='both')\n",
        "display(scramble_bin_hard.fig.canvas)\n",
        "display(scramble_bin_hard.prev_fig.canvas)\n",
        "clear_output()\n",
        "display(scramble_bin_hard.ui)"
      ],
      "metadata": {
        "cellView": "form",
        "id": "y_YjCpnZCNyn",
        "colab": {
          "base_uri": "https://localhost:8080/",
          "height": 457,
          "referenced_widgets": [
            "32423c292b4646988c79db5bc7ccbc17",
            "2f8080ed4ddd41b993bf343b2d2a6fcf",
            "8d4f04362ab142388c5358e0e72c63c3",
            "50b9c9ccf8684df995206a1d0f829966",
            "707a3be2f80b4a57b199a82b57d677ce",
            "274c3692bbc448708078e9e883ed04f9",
            "f35b0b7920a24a959455407e3ab739d9",
            "cbf7108771df474a936715176b800300",
            "bcede1cf3fe945d1b6e416b2be2de0ab",
            "a21ee67e278a4741b7f3225fa706dfd1",
            "0643297da2774b3a86d871aa71b05a79",
            "d3b1e37cec22401292e8ffa764c00097",
            "8cd44f985a544a098349c325fa2a166a",
            "073c3a2b65a145e0afe2b7cb5a28900b",
            "d9d4f672555a4245a808c9477bcefb09",
            "cc75f3e58bc34647876b1c95cb2af48e",
            "3444490224e34fb5b515f81523fde249",
            "1fb25406e2af43bfac7964b1245744e5",
            "c0a74fb5abe645e0a6277aaae8083d7a",
            "309323f9149c499cb28b447026471379",
            "006eee3f375446ba9f54c023a978688e",
            "1cd6442244194e6c96e6ddcf15ac1708",
            "ce38e031b8a64a33a42cdfc5e9a71de6",
            "12d846ed76ec438cabe0768b3c473704",
            "19e347f3ab194919862505313398d80e",
            "208ce37fdb474757b63d5033634cc44c"
          ]
        },
        "outputId": "994be681-80cc-468a-9047-e26632f3432b"
      },
      "execution_count": 2,
      "outputs": [
        {
          "output_type": "display_data",
          "data": {
            "text/plain": [
              "HBox(children=(VBox(children=(Canvas(footer_visible=False, header_visible=False, resizable=False, toolbar=Tool…"
            ],
            "application/vnd.jupyter.widget-view+json": {
              "version_major": 2,
              "version_minor": 0,
              "model_id": "32423c292b4646988c79db5bc7ccbc17"
            }
          },
          "metadata": {
            "application/vnd.jupyter.widget-view+json": {
              "colab": {
                "custom_widget_manager": {
                  "url": "https://ssl.gstatic.com/colaboratory-static/widgets/colab-cdn-widget-manager/2b70e893a8ba7c0f/manager.min.js"
                }
              }
            }
          }
        }
      ]
    },
    {
      "cell_type": "markdown",
      "source": [
        "Maybe you were able to solve this with some savant like abstract pattern recognition powers. We were not able to learn to discriminate between the strike and no-strike situations over a dozen or so trials. The point here is that this is a non-trivial discrimination to learn. However, it is, as we will see in the next bit of code, a discrimination that a simple artificial neural network can learn to solve. (As before The dataset that underlies this strike-no-strike decision problem is sourced from the UCI Machine Learning Repository, Alpaydin,E. and Kaynak,C. 1998. https://doi.org/10.24432/C50P49.)"
      ],
      "metadata": {
        "id": "968qM9kkIK29"
      }
    },
    {
      "cell_type": "markdown",
      "source": [
        "We model this creature's sensory-behaviour system much as before. Now though, $\\mathbf{x}$ is the raw sensory input (vector) of length 64 in a given episode. Each element $x_i$ of $\\mathbf{x}$ corresponds to the activation level of a single photosensitive neuron."
      ],
      "metadata": {
        "id": "1CgwmAlsJG_w"
      }
    },
    {
      "cell_type": "code",
      "execution_count": 3,
      "metadata": {
        "execution": {},
        "id": "t4Uem5FrI5K_",
        "colab": {
          "base_uri": "https://localhost:8080/"
        },
        "outputId": "c31eea87-9e16-49e5-874e-0c89479036b5"
      },
      "outputs": [
        {
          "output_type": "stream",
          "name": "stdout",
          "text": [
            "(5620, 64)\n"
          ]
        }
      ],
      "source": [
        "# the data set we're working with has 5620 example sensory inputs,\n",
        "# each consisting of 64 values\n",
        "print(Xs.shape)"
      ]
    },
    {
      "cell_type": "code",
      "execution_count": 4,
      "metadata": {
        "execution": {},
        "id": "nLzHDIjCI5K_",
        "colab": {
          "base_uri": "https://localhost:8080/"
        },
        "outputId": "0633fe58-31c0-40d4-b567-4a843bb13d46"
      },
      "outputs": [
        {
          "output_type": "stream",
          "name": "stdout",
          "text": [
            "[[-1.5   0.   -4.5  -5.25  3.    5.25 -3.75 -6.  ]\n",
            " [-6.   -6.   -2.25 -0.75  4.5  -1.5  -6.   -6.  ]\n",
            " [-4.5  -6.   -6.   -6.   -6.   -6.   -0.75 -5.25]\n",
            " [-0.75  4.5  -3.75  0.75 -2.25 -1.5  -0.75  3.75]\n",
            " [-6.   -5.25  5.25  0.   -6.    1.5   3.   -0.75]\n",
            " [-6.   -6.   -6.   -6.   -5.25 -6.    3.75  6.  ]\n",
            " [-6.   -6.   -2.25 -6.   -6.    2.25 -6.   -1.5 ]\n",
            " [ 6.    6.   -6.   -6.   -3.   -6.    0.75 -6.  ]]\n"
          ]
        }
      ],
      "source": [
        "# this is the first example\n",
        "print(Xs[0].reshape(8,8,))"
      ]
    },
    {
      "cell_type": "code",
      "execution_count": 5,
      "metadata": {
        "execution": {},
        "id": "qJgsx8nSI5K_",
        "colab": {
          "base_uri": "https://localhost:8080/",
          "height": 425,
          "referenced_widgets": [
            "8db96211fb2144caa140cf0cbb975e33",
            "998ffa4f987847c1b3d93c47761cd91d",
            "cefb00138333496db457221aacd2c85d",
            "5c09b91b2dbc4d689f3414c031fe6e1d"
          ]
        },
        "outputId": "ad2d0001-15b8-4999-9a05-5a552e236fb0"
      },
      "outputs": [
        {
          "output_type": "display_data",
          "data": {
            "text/plain": [
              "Canvas(footer_visible=False, header_visible=False, resizable=False, toolbar=Toolbar(toolitems=[('Home', 'Reset…"
            ],
            "image/png": "[encoded data removed]",
            "text/html": [
              "\n",
              "            <div style=\"display: inline-block;\">\n",
              "                <div class=\"jupyter-widgets widget-label\" style=\"text-align: center;\">\n",
              "                    Figure\n",
              "                </div>\n",
              "                <img src='data:image/png;base64,iVBORw0KGgoAAAANSUhEUgAAAZAAAAGQCAYAAACAvzbMAAAAOXRFWHRTb2Z0d2FyZQBNYXRwbG90bGliIHZlcnNpb24zLjcuMSwgaHR0cHM6Ly9tYXRwbG90bGliLm9yZy/bCgiHAAAACXBIWXMAAA9hAAAPYQGoP6dpAAAZ3UlEQVR4nO3df2xV9eH/8ddllUML7S0bodRygbq6IZFfAjOIKT8EphlQCIslglslTjaYeLc4l/oPMIFbfwyB8cMYFkBxo2YRambmooCQNYS1m4hLyNQB49IKCLS9VNoLpefzxzeSb3cLXN72fU5v+3wk9w/Pve15pVGennvpvQHXdV0BAHCLevg9AACQmggIAMAIAQEAGCEgAAAjBAQAYISAAACMEBAAgBECAgAwQkAAAEYICADACAEBABghIAAAIwQEAGCEgAAAjBAQAIARAgIAMEJAAABGCAgAwAgBAQAYISAAACMEBABgJOUC4rquYrGYXNf1ewoAdGtpfg+4VRcvXlQwGNQjjzyinj17+j3nhoYMGeL3hJvatm2b3xOSUl9f7/eEm9q9e7ffE5IyatQovyckZdKkSX5PuKnDhw/7PSEptv6HO+WuQAAAnQMBAQAYISAAACMEBABghIAAAIwQEACAEQICADBCQAAARggIAMAIAQEAGCEgAAAjBAQAYISAAACMEBAAgBFPAnL16lWVlZWpoKBAjuOooKBAZWVlunr1qhenBwBY4MnngTz55JPavHmzHnvsMd13332qrKxUaWmpotGoNm7c6MUEAEAHsx6Qjz/+WK+88oqWLl2qdevWSZIef/xxZWVl6Xe/+51++tOfavjw4bZnAAA6mPWnsHbu3CnXdRUOh9scD4fDcl1X5eXlticAACywHpDq6mrl5OQoPz+/zfH8/Hz1799f1dXVticAACyw/hRWbW2t8vLy2r0vLy9PNTU17d4Xj8cVj8cTjsdisQ7dBwAwY/0K5NKlS3Icp937evXqpaampnbvi0QiCgaDCbdQKGRzLgAgSdYDkpGR0e6VhCQ1NzcrPT293ftKS0vV0NCQcItGozbnAgCSZP0prNtvv10fffRRu/fV1NRo9OjR7d7nOM51r1wAAP6zfgUyZswYnTlzRsePH29z/Pjx4zp79qzGjBljewIAwALrASkuLlYgENDatWvbHF+7dq0CgYCKi4ttTwAAWGD9KayRI0fqiSee0Pr163Xx4kVNmDBBlZWV2rp1qxYtWqQRI0bYngAAsMCTtzLZsGGDBg0apC1btuiNN95QXl6eVq1apWeeecaL0wMALPAkIGlpaXr22Wf17LPPenE6AIAHeDt3AIARAgIAMEJAAABGCAgAwAgBAQAYISAAACMEBABghIAAAIwQEACAEQICADBCQAAARggIAMCIJ2+maMMf/vAHvyd0CUVFRX5PSEp+fr7fE25qyJAhfk9ISjgc9ntCUg4fPuz3BNwEVyAAACMEBABghIAAAIwQEACAEQICADBCQAAARggIAMAIAQEAGCEgAAAjBAQAYISAAACMEBAAgBECAgAwQkAAAEasB6SxsVHLly/XzJkzlZubq0AgoJKSEtunBQBYZj0g586d04oVK/SPf/xDY8eOtX06AIBHrH+gVG5urk6dOqW8vDy1tLTotttus31KAIAHrF+BOI6jvLw826cBAHiMF9EBAEY67Weix+NxxePxhOOxWMyHNQCA/9Vpr0AikYiCwWDCLRQK+T0NAKBOHJDS0lI1NDQk3KLRqN/TAADqxE9hOY4jx3H8ngEAuI5OewUCAOjcCAgAwIgnT2Ft2LBB9fX1am1tlSQdOXJEK1eulCTNmjVLI0aM8GIGAKADeRKQl156Sf/973+v/fOHH36oDz/8UJI0cOBAAgIAKciTgJw4ccKL0wAAPMRrIAAAIwQEAGCEgAAAjBAQAIARAgIAMEJAAABGCAgAwAgBAQAYISAAACMEBABghIAAAIwQEACAkYDruq7fI25FLBZTMBjUoEGD1KNH5+4fbyIJmAuHw35PuKlt27b5PSEpdXV1Vr5v5/4TGADQaREQAIARAgIAMEJAAABGCAgAwAgBAQAYISAAACMEBABghIAAAIwQEACAEQICADBCQAAARggIAMAIAQEAGCEgAAAj1gNSXV2tcDisESNGKDMzUwMGDNADDzyg999/3/apAQAWWQ9IWVmZ3njjDd1333367W9/q2eeeUZnz57VtGnTtHnzZtunBwBYYv0TCSsrKzV27Fg5jnPtWFNTk0aNGqUvvvhCZ8+eVVpaWtLfj08kBLoHPpGw46TsJxJOmDChTTwkKT09XTNmzFBdXZ1Onz5tewIAwALf/he+trZWaWlpys7O9msCAOBrSP65ow509OhRvfXWW5o1a5b69OnT7mPi8bji8XjC8VgsZnseACAJnl+BNDQ0aO7cuUpPT9eaNWuu+7hIJKJgMJhwC4VCHq4FAFyPpwFpamrSzJkzdezYMe3atUuDBw++7mNLS0vV0NCQcItGox4uBgBcj2dPYV2+fFlz5szRwYMH9ac//UmTJ0++4eMdx0l48R0A0Hl4EpCWlhY9/PDDeu+99/Taa6+pqKjIi9MCACyyHpDW1lYtWLBAFRUVeuWVVzR//nzbpwQAeMB6QJ5++mmVl5ersLBQvXv31o4dO9rcP23aNOXk5NieAQDoYNYD8s9//lOSdODAAR04cCDh/n379hEQAEhB1gPywQcf2D4FAMAHnfvNpAAAnRYBAQAYISAAACMEBABghIAAAIwQEACAEQICADBCQAAARggIAMAIAQEAGCEgAAAjBAQAYMSzTyTsaD/4wQ86/ScWhsNhvyfc1OzZs/2ekJSSkhK/J9zUvn37/J6QlL59+/o9ocvo7m8WyxUIAMAIAQEAGCEgAAAjBAQAYISAAACMEBAAgBECAgAwQkAAAEYICADACAEBABghIAAAIwQEAGCEgAAAjBAQAIAR6wE5evSo5s2bpzvvvFN9+vRRVlaWRo8erfXr1+vy5cu2Tw8AsMT654FEo1FduHBB8+bN08CBA3X16lVVVlYqHA5r79692r17t+0JAAALrAdk+vTpmj59eptjixcvVt++fbVx40b9+9//1ne/+13bMwAAHcy310CGDBkiSaqvr/drAgDga/DsI20vXbqkS5cu6csvv9Tf//53vfDCC8rNzdWIESO8mgAA6ECeBeSFF17QihUrrv3zuHHj9Oqrryo9Pb3dx8fjccXj8YTjsVjM2kYAQPI8C8iPfvQj3X///Tp//rz27t2rf/3rXzd8+ioSibQJDgCgc/EsIHfccYfuuOMOSVJxcbFefvllTZ8+XR999JHuuuuuhMeXlpbql7/8ZcLxWCymUChkfS8A4MZ8exH9kUce0ZUrV7Rjx45273ccR1lZWe3eAAD+8y0gTU1NkqS6ujq/JgAAvgbrATl79my7xzdt2iRJuvfee21PAABYYP01kEWLFun8+fOaNGmSQqGQ6uvr9de//lV79uzR/fffr/nz59ueAACwwHpA5s2bp23btun3v/+9vvjiCzmOo6FDh+rFF1/Uk08+qbQ0z17HBwB0IOt/ehcXF6u4uNj2aQAAHuPt3AEARggIAMAIAQEAGCEgAAAjBAQAYISAAACMEBAAgBECAgAwQkAAAEYICADACAEBABghIAAAIwHXdV2/R9yKWCymYDDo94ykZGdn+z3hpk6cOOH3hKSsXbvW7wk3tXz5cr8nJGXbtm1+T0jKkCFD/J5wU7t37/Z7QlJefvllK9+XKxAAgBECAgAwQkAAAEYICADACAEBABghIAAAIwQEAGCEgAAAjBAQAIARAgIAMEJAAABGCAgAwAgBAQAYISAAACMEBABgxJeA7N27V4FAQIFAQJ999pkfEwAAX5PnAbly5YqWLFmi3r17e31qAEAH8jwgL730ki5cuKCf/OQnXp8aANCBPA3IyZMntXLlSpWVlaXMx9ICANrnaUCeeuopDR8+XCUlJV6eFgBgQZpXJ3rnnXf09ttv69ChQwoEAjd9fDweVzweTzgei8VszAMA3CJPrkCam5u1dOlSLVy4UGPHjk3qayKRiILBYMItFApZXgsASIYnAYlEIqqrq1MkEkn6a0pLS9XQ0JBwi0ajFpcCAJJl/Smszz//XM8//7x+8YtfqLGxUY2NjZKk+vp6SVJNTY169uypQYMGtfk6x3HkOI7teQAAQ9YDcubMGcXjcZWVlamsrCzh/kmTJql3797XwgIASA3WA5Kfn69du3YlHN+5c6fKy8u1efNmDRw40PYMAEAHsx6QYDCo2bNnJxw/fPiwJGnq1KkqKCiwPQMA0MF4M0UAgBHfArJ8+XK5rsvVBwCkKK5AAABGCAgAwAgBAQAYISAAACMEBABghIAAAIwQEACAEQICADBCQAAARggIAMAIAQEAGCEgAAAjAdd1Xb9H3IpYLKZgMOj3DCBBdna23xOS8tWngXZ2X33kQ2c2cuRIvyf4iisQAIARAgIAMEJAAABGCAgAwAgBAQAYISAAACMEBABghIAAAIwQEACAEQICADBCQAAARggIAMAIAQEAGCEgAAAj1gNy4sQJBQKBdm+PP/647dMDACxJ8+pERUVF+uEPf9jmWEFBgVenBwB0MM8Ccvfdd2vBggVenQ4AYJmnr4E0NTWpqanJy1MCACzxLCDr1q1TRkaGMjIydOedd2rTpk1enRoAYIH1p7B69OihBx54QHPmzNGgQYNUW1urV199VUuWLNHx48f14osvtvt18Xhc8Xg84XgsFrM9GQCQhIDruq7XJ7169aomTpyogwcP6pNPPtG3v/3thMcsX75cK1as8HoaYCw7O9vvCUmpr6/3e0JSDh8+7PeEmxo5cqTfE3zly++BfOMb39Cvf/1rtba2as+ePe0+prS0VA0NDQm3aDTq8VoAQHs8+1tY/2vw4MGSpHPnzrV7v+M4chzHy0kAgFvg22+if/bZZ5KknJwcvyYAAL4G6wE5e/ZswrGmpiatXLlSt912m6ZPn257AgDAAutPYS1atEjnz5/XlClTNHDgQNXW1mr79u06duyYIpGIQqGQ7QkAAAusB2TGjBnavn27Nm/erAsXLqhPnz6655579PLLL2vWrFm2Tw8AsMSXv8b7dcRiMQWDQb9nAAn4a7wdi7/G2/nxdu4AACMEBABghIAAAIwQEACAEQICADBCQAAARggIAMAIAQEAGCEgAAAjBAQAYISAAACMEBAAgBECAgAw4ttH2qJzKCoq8ntCUioqKvyecFOp8i63u3fv9ntCUkaNGuX3hJsqKSnxe0JStm7dauX7cgUCADBCQAAARggIAMAIAQEAGCEgAAAjBAQAYISAAACMEBAAgBECAgAwQkAAAEYICADACAEBABghIAAAIwQEAGDEs4CcPn1aS5Ys0eDBg+U4jnJzczVz5kydPHnSqwkAgA7kyeeBfPrppyosLJTjOFq4cKFCoZDOnz+vQ4cOqa6uToMGDfJiBgCgA1kPiOu6mj9/vgYMGKADBw4oMzPT9ikBAB6wHpB9+/apqqpKb7/9tjIzM9Xc3KwePXqoZ8+etk8NALDI+msg7777riQpOztbhYWFSk9PV69evTR+/HgdPHjQ9ukBAJZYD8gnn3wiSZo7d6769u2r8vJybdy4USdPntSUKVP08ccft/t18XhcsVis3RsAwH/Wn8JqbGyUJA0bNkwVFRXXjk+ePFl33323nnvuOb355psJXxeJRLRixQrb8wAAhqxfgaSnp0uSHn300TbHhw4dqnvvvVf79+9v9+tKS0vV0NCQcItGo7YnAwCSYP0KJC8vT5KUk5OTcF9ubq6qqqra/TrHceQ4jtVtAABz1q9Axo0bJ0k6depUwn3RaFT9+/e3PQEAYIH1gBQVFSkjI0NbtmxRS0vLteNVVVWqqqrSgw8+aHsCAMAC609h9evXT6tXr1Y4HNbEiRM1b948nTt3TuvWrVO/fv20bNky2xMAABZ48lYmTz31lL71rW9pzZo1+tWvfqWMjAx9//vfVyQSUSgU8mICAKCDeRIQSVqwYIEWLFjg1ekAAJbxdu4AACMEBABghIAAAIwQEACAEQICADBCQAAARggIAMAIAQEAGCEgAAAjBAQAYISAAACMEBAAgJGA67qu3yNuRSwWUzAYVENDg7Kysvyek/ICgYDfE7qMSZMm+T0hKR988IHfE5Kydu1avyfcVDgc9ntCUmz9Mc8VCADACAEBABghIAAAIwQEAGCEgAAAjBAQAIARAgIAMEJAAABGCAgAwAgBAQAYISAAACMEBABghIAAAIwQEACAEesBKSkpUSAQuO5t1apVticAACxIs32CRYsWaerUqQnH161bp+rqaj300EO2JwAALLAekPHjx2v8+PFtjl26dEmLFy/W8OHDdc8999ieAACwwJfXQHbt2qWLFy/qxz/+sR+nBwB0AF8Csn37dqWlpWnBggV+nB4A0AGsP4X1v2pqarRnzx499NBDysnJue7j4vG44vF4wvFYLGZzHgAgSZ5fgbz++utqbW1VSUnJDR8XiUQUDAYTbqFQyJuhAIAb8jwgr732mr75zW9q5syZN3xcaWmpGhoaEm7RaNSjpQCAG/H0KayqqiodPXpUixcvluM4N3ys4zg3fQwAwD+eXoFs375dkvjbVwDQBXgWkMuXL+uPf/yj7rrrLn3ve9/z6rQAAEs8C8if//xnXbhwgasPAOgiPAvI9u3b1aNHDz366KNenRIAYJFnL6JXVFR4dSoAgAd4O3cAgBECAgAwQkAAAEYICADACAEBABghIAAAIwQEAGCEgAAAjBAQAIARAgIAMEJAAABGCAgAwIinn0jYEVzXlSTFYjGflwBttbS0+D2hS2lubvZ7Qpfhuq4CgUCHf9+A+9WfyCni1KlTCoVCfs8AgJTR0NCgrKysDv++KReQ1tZW1dbWKjMzs8OKGovFFAqFFI1GrfyQuxN+lh2Hn2XH6e4/y4788/L/l3JPYfXo0UMDBw608r2zsrK65b9cNvCz7Dj8LDsOP8uOxYvoAAAjBAQAYISAAACMEBAAgBECIslxHC1btkyO4/g9JeXxs+w4/Cw7Dj9LO1Lur/ECADoHrkAAAEYICADACAEBABghIAAAI906IFevXlVZWZkKCgrkOI4KCgpUVlamq1ev+j0tpVRXVyscDmvEiBHKzMzUgAED9MADD+j999/3e1qXsHfvXgUCAQUCAX322Wd+z0k5p0+f1pIlSzR48GA5jqPc3FzNnDlTJ0+e9Htayku598LqSE8++aQ2b96sxx57TPfdd58qKytVWlqqaDSqjRs3+j0vZZSVlWn//v2aO3eufv7zn6uxsVFbt27VtGnTtGnTJv3sZz/ze2LKunLlipYsWaLevXvryy+/9HtOyvn0009VWFgox3G0cOFChUIhnT9/XocOHVJdXZ0GDRrk98TU5nZTR44ccQOBgLt06dI2x5cuXeoGAgH3yJEjPi1LPX/729/c5ubmNscuXbrkfuc733H79u3rXrlyxadlqW/16tVu//793XA47EpyP/30U78npYzW1lZ33Lhx7qhRo9xYLOb3nC6p2z6FtXPnTrmuq3A43OZ4OByW67oqLy/3Z1gKmjBhQsIvaKWnp2vGjBmqq6vT6dOnfVqW2k6ePKmVK1eqrKxMwWDQ7zkpZ9++faqqqtJvfvMbZWZmqrm5WZcvX/Z7VpfSbQNSXV2tnJwc5efntzmen5+v/v37q7q62qdlXUdtba3S0tKUnZ3t95SU9NRTT2n48OEqKSnxe0pKevfddyVJ2dnZKiwsVHp6unr16qXx48fr4MGDPq/rGrptQGpra5WXl9fufXl5eaqpqfF4Uddy9OhRvfXWW5o1a5b69Onj95yU88477+jtt9/Whg0brHwQUHfwySefSJLmzp2rvn37qry8XBs3btTJkyc1ZcoUffzxxz4vTH3d9kX0S5cuKTMzs937evXqxWeufw0NDQ2aO3eu0tPTtWbNGr/npJzm5mYtXbpUCxcu1NixY/2ek7IaGxslScOGDVNFRcW145MnT9bdd9+t5557Tm+++aZf87qEbhuQjIwMxePxdu9rbm5Wenq6x4u6hqamJs2cOVPHjh3TX/7yFw0ePNjvSSknEomorq5OkUjE7ykp7av/hh999NE2x4cOHap7771X+/fv92NWl9Jtn8K6/fbbr/s0VU1NzXWf3sL1Xb58WXPmzNHBgwdVXl6uyZMn+z0p5Xz++ed6/vnntWjRIjU2NurEiRM6ceKE6uvrJf2/fzf5/YXkfPXfcE5OTsJ9ubm5qqur83pSl9NtAzJmzBidOXNGx48fb3P8+PHjOnv2rMaMGePTstTU0tKihx9+WO+99562bdumoqIivyelpDNnzigej6usrEz5+fnXbuvWrZMkTZo0ScOGDfN5ZWoYN26cJOnUqVMJ90WjUfXv39/rSV1Otw1IcXGxAoGA1q5d2+b42rVrFQgEVFxc7M+wFNTa2qoFCxaooqJCmzZt0vz58/2elLLy8/O1a9euhNtX/z5u3rxZO3fu9HllaigqKlJGRoa2bNmilpaWa8erqqpUVVWlBx980Md1XUO3fQ1k5MiReuKJJ7R+/XpdvHhREyZMUGVlpbZu3apFixZpxIgRfk9MGU8//bTKy8tVWFio3r17a8eOHW3unzZtWrtPIyBRMBjU7NmzE44fPnxYkjR16lQVFBR4OypF9evXT6tXr1Y4HNbEiRM1b948nTt3TuvWrVO/fv20bNkyvyemPr9/k9FPV65ccVetWuXm5+e7PXv2dPPz891Vq1bxm9O3aOLEia6k69727dvn98SUt2zZMn4T3dDrr7/ujh492nUcx+3bt6/78MMPu//5z3/8ntUl8ImEAAAj3fY1EADA10NAAABGCAgAwAgBAQAYISAAACMEBABghIAAAIwQEACAEQICADBCQAAARggIAMAIAQEAGCEgAAAjBAQAYISAAACMEBAAgBECAgAwQkAAAEb+D+FHadfwuhuPAAAAAElFTkSuQmCC' width=400.0/>\n",
              "            </div>\n",
              "        "
            ],
            "application/vnd.jupyter.widget-view+json": {
              "version_major": 2,
              "version_minor": 0,
              "model_id": "8db96211fb2144caa140cf0cbb975e33"
            }
          },
          "metadata": {
            "application/vnd.jupyter.widget-view+json": {
              "colab": {
                "custom_widget_manager": {
                  "url": "https://ssl.gstatic.com/colaboratory-static/widgets/colab-cdn-widget-manager/2b70e893a8ba7c0f/manager.min.js"
                }
              }
            }
          }
        }
      ],
      "source": [
        "# visualizing the example we see that lower values correspond to darker pixels\n",
        "# and higher values correspond to lighter values\n",
        "fig, ax = plt.subplots(figsize=(4,4))\n",
        "remove_ip_clutter(fig)\n",
        "ax.imshow(Xs[0].reshape(8,8), cmap='gray')\n",
        "plt.show()"
      ]
    },
    {
      "cell_type": "markdown",
      "source": [
        "These input neurons are then connected by synapses to a single output neuron. The activation level of this output neuron is computed as\n",
        "$$a = \\mathbf{Wx} + b$$\n",
        "Here, $b$ is the (scalar) bias, or baseline activation level of the output neuron, and $\\mathbf{W}$ is a matrix of synaptic weights between the input neurons and the single output neuron. (In this case where there is only one output neuron so $\\mathbf{W}$ has shape 1x64 so could also be thought of as a row vector.)  \n",
        "\n",
        "Often to simplify exposition and coding the input $\\mathbf{x}$ is augmented to have a feature which is always 1, and then the bias terms can be treated as the weight connecting to this constant valued feature. That is\n",
        "\n",
        "$$a = \\mathbf{Wx}$$\n",
        "\n",
        "Though now $\\mathbf{W}$ has shape 1x65. As before, the probabilistic spiking of this output neuron determines the strike-no-strike behaviour of the organism, specifically:\n",
        "$$ \\Pr \\{\\text{strike}\\} = \\sigma(a) $$\n",
        "$$ \\Pr \\{\\text{no strike}\\} = 1 - \\sigma(a)$$\n",
        "\n",
        "Recall that $\\sigma(a): \\frac{1}{1+e^{-a}} = \\frac{e^a}{1+e^a}$ is the standard logistic (sigmoid) function."
      ],
      "metadata": {
        "id": "cyjeHHWJJ_vX"
      }
    },
    {
      "cell_type": "markdown",
      "source": [
        "The organism recieves a reward of 1 for striking at the right time and a penalty of -1 for striking at the wrong time. It also recieves a reward of zero when not striking, regardless of whether striking would have returned a reward or a penalty. Given this, complete the coding exercise below to write a function that determines the reward recieved for a given sensory input $\\mathbf{x}$, the organism's probablistic response to the stimulus, $\\Pr \\{\\text{strike}\\} = \\sigma(\\mathbf{Wx})$, and the resultant outcome of the behaviour given the presence ($y=1$) or absence ($y=0$) of prey. Note that reward depends on three inputs, two $\\mathbf{x}$ and $y$ have to do with the state of the environment, and are fully outside of the control of the organism, the other $\\mathbf{W}$ determines the organism's response to the environment, and it is this $\\mathbf{W}$, that the organism has some control over in that sense that $\\mathbf{W}$ is what changes as a result of learning."
      ],
      "metadata": {
        "id": "9fnPqbxRKPhl"
      }
    },
    {
      "cell_type": "code",
      "source": [
        "################################################################################\n",
        "# TODO for students: Complete the lines with ... set the appropriate rewards for\n",
        "# for the evaluations function\n",
        "raise NotImplementedError(\"Exercise: Set the reward for different outcomes\")\n",
        "################################################################################\n",
        "\n",
        "# As a little trick to keep our code cleaner we 'hide' our bias term.\n",
        "# We to do this by augmenting the features to include a feature that always has the value '1'.\n",
        "# Then, the 'weight' associated with this feature, which always has a value of '1', effectively serves as the bias term.\n",
        "# After augmentation there is one extra column of features\n",
        "Xs_aug = np.hstack([Xs, np.ones((Xs.shape[0],1))])\n",
        "\n",
        "def np_sigmoid(x):\n",
        "  x = np.clip(x, -500, 500) #prevent overflow, fine because sigmoid saturates\n",
        "  return 1 / (1 + np.exp(-x))\n",
        "\n",
        "def eval_params_stochastic_single(W, x, y, verbose=False, rng=None):\n",
        "  \"\"\"\n",
        "  evaluates parameters of simple behaviour circuit given inputs and target\n",
        "  outputs, use numpy broadcasting to be fast and concise\n",
        "  Args:\n",
        "    W: (outputs(1) x inputs(65) np.array)\n",
        "       weights between sensory neurons and output neuron\n",
        "    x: (input(65) np.array) sensory input\n",
        "    y: (outputs(1) np.array) target behavioural output\n",
        "\n",
        "  Returns:\n",
        "    R: the reward obtained given the parameters, inputs and targets\n",
        "  \"\"\"\n",
        "  if rng is None:\n",
        "    rng = np.random.default_rng()\n",
        "  # activaation\n",
        "  a = np.dot(W,x)\n",
        "  # strike probability\n",
        "  y_hat = np_sigmoid(a)\n",
        "  # what the organism actually does\n",
        "  # rng.random is a sample from the uniform distribution on [0,1)\n",
        "  y_sample = rng.random() < y_hat\n",
        "  if y_sample == 1: #organism strikes\n",
        "    if y == 1: #prey is present\n",
        "      R = ...\n",
        "    else: # prey is not present\n",
        "      R = ...\n",
        "  else: # organism does not strike\n",
        "    R = ...\n",
        "  if verbose:\n",
        "    print(f'Probability of striking: {y_hat}')\n",
        "    action_string = 'Strike' if y_sample == 1 else 'No Strike'\n",
        "    print(f'Action taken: {action_string}')\n",
        "    target_string = 'Strike' if y == 1 else 'No Strike'\n",
        "    print(f'Correct Action: {target_string}')\n",
        "    print(f'Reward recieved: {R}')\n",
        "  else:\n",
        "    return R\n",
        "\n",
        "eval_rng = np.random.default_rng(0)\n",
        "W_test = np.zeros((1,65))\n",
        "eval_params_stochastic_single(W_test, Xs_aug[0], y1[0], verbose=True, rng=eval_rng)"
      ],
      "metadata": {
        "id": "dAB-xsyQNzFs",
        "colab": {
          "base_uri": "https://localhost:8080/",
          "height": 211
        },
        "outputId": "0e4fddc3-ce99-414e-c0e8-5f46e503d8bd"
      },
      "execution_count": 6,
      "outputs": [
        {
          "output_type": "error",
          "ename": "NotImplementedError",
          "evalue": "Exercise: Set the reward for different outcomes",
          "traceback": [
            "\u001b[0;31m---------------------------------------------------------------------------\u001b[0m",
            "\u001b[0;31mNotImplementedError\u001b[0m                       Traceback (most recent call last)",
            "\u001b[0;32m<ipython-input-6-ff37001ffa4f>\u001b[0m in \u001b[0;36m<cell line: 4>\u001b[0;34m()\u001b[0m\n\u001b[1;32m      2\u001b[0m \u001b[0;31m# TODO for students: Complete the lines with ... set the appropriate rewards for\u001b[0m\u001b[0;34m\u001b[0m\u001b[0;34m\u001b[0m\u001b[0m\n\u001b[1;32m      3\u001b[0m \u001b[0;31m# for the evaluations function\u001b[0m\u001b[0;34m\u001b[0m\u001b[0;34m\u001b[0m\u001b[0m\n\u001b[0;32m----> 4\u001b[0;31m \u001b[0;32mraise\u001b[0m \u001b[0mNotImplementedError\u001b[0m\u001b[0;34m(\u001b[0m\u001b[0;34m\"Exercise: Set the reward for different outcomes\"\u001b[0m\u001b[0;34m)\u001b[0m\u001b[0;34m\u001b[0m\u001b[0;34m\u001b[0m\u001b[0m\n\u001b[0m\u001b[1;32m      5\u001b[0m \u001b[0;31m################################################################################\u001b[0m\u001b[0;34m\u001b[0m\u001b[0;34m\u001b[0m\u001b[0m\n\u001b[1;32m      6\u001b[0m \u001b[0;34m\u001b[0m\u001b[0m\n",
            "\u001b[0;31mNotImplementedError\u001b[0m: Exercise: Set the reward for different outcomes"
          ]
        }
      ]
    },
    {
      "cell_type": "code",
      "source": [
        "# to_remove solution\n",
        "\n",
        "# As a little trick to keep our code cleaner we 'hide' our bias term.\n",
        "# We to do this by augmenting the features to include a feature that always has the value '1'.\n",
        "# Then, the 'weight' associated with this feature, which always has a value of '1', effectively serves as the bias term.\n",
        "# After augmentation there is one extra column of features\n",
        "Xs_aug = np.hstack([Xs, np.ones((Xs.shape[0],1))])\n",
        "\n",
        "def np_sigmoid(x):\n",
        "  x = np.clip(x, -500, 500) #prevent overflow, fine because sigmoid saturates\n",
        "  return 1 / (1 + np.exp(-x))\n",
        "\n",
        "def eval_params_stochastic_single(W, x, y, verbose=False, rng=None):\n",
        "  \"\"\"\n",
        "  evaluates parameters of simple behaviour circuit given inputs and target\n",
        "  outputs, use numpy broadcasting to be fast and concise\n",
        "  Args:\n",
        "    W: (outputs(1) x inputs(65) np.array)\n",
        "       weights between sensory neurons and output neuron\n",
        "    x: (input(65) np.array) sensory input\n",
        "    y: (outputs(1) np.array) target behavioural output\n",
        "\n",
        "  Returns:\n",
        "    R: the reward obtained given the parameters, inputs and targets\n",
        "  \"\"\"\n",
        "  if rng is None:\n",
        "    rng = np.random.default_rng()\n",
        "  # activaation\n",
        "  a = np.dot(W,x)\n",
        "  # strike probability\n",
        "  y_hat = np_sigmoid(a)\n",
        "  # what the organism actually does\n",
        "  # rng.random is a sample from the uniform distribution on [0,1)\n",
        "  y_sample = rng.random() < y_hat\n",
        "  if y_sample == 1: #organism strikes\n",
        "    if y == 1: #prey is present\n",
        "      R = 1\n",
        "    else: # prey is not present\n",
        "      R = -1\n",
        "  else: # organism does not strike\n",
        "    R = 0\n",
        "  if verbose:\n",
        "    print(f'Probability of striking: {y_hat}')\n",
        "    action_string = 'Strike' if y_sample == 1 else 'No Strike'\n",
        "    print(f'Action taken: {action_string}')\n",
        "    target_string = 'Strike' if y == 1 else 'No Strike'\n",
        "    print(f'Correct Action: {target_string}')\n",
        "    print(f'Reward recieved: {R}')\n",
        "  else:\n",
        "    return R\n",
        "\n",
        "eval_rng = np.random.default_rng(0)\n",
        "W_test = np.zeros((1,65))\n",
        "eval_params_stochastic_single(W_test, Xs_aug[0], y1[0], verbose=True, rng=eval_rng)"
      ],
      "metadata": {
        "id": "mz00q3D8h1kx",
        "outputId": "33aa6bfd-a11a-42ef-d467-80a3eef5356e",
        "colab": {
          "base_uri": "https://localhost:8080/"
        }
      },
      "execution_count": 7,
      "outputs": [
        {
          "output_type": "stream",
          "name": "stdout",
          "text": [
            "Probability of striking: [0.5]\n",
            "Action taken: No Strike\n",
            "Correct Action: No Strike\n",
            "Reward recieved: 0\n"
          ]
        }
      ]
    },
    {
      "cell_type": "markdown",
      "source": [
        "So that evaluates the reward over a single experience. We can use numpy broadcasting to apply this same reward calculation efficiently to many, even all, the input-out pairs in our data set. We call this **batch** evaluation."
      ],
      "metadata": {
        "id": "gPh6sBUTnZnc"
      }
    },
    {
      "cell_type": "code",
      "source": [
        "################################################################################\n",
        "# TODO for students: Complete the lines with ... to compute the number of\n",
        "# True Positives, False Positives, True Negative and False Negatives in the batch\n",
        "raise NotImplementedError(\"Exercise: Compute the number of different Outcomes\")\n",
        "################################################################################\n",
        "\n",
        "def eval_params_stochastic_batch(W, x, y, verbose=False, rng=None):\n",
        "  \"\"\"\n",
        "  evaluates parameters of simple behaviour circuit given inputs and target\n",
        "  outputs, use numpy broadcasting to be fast and concise\n",
        "  Args:\n",
        "    W: (outputs(1) x inputs(65) np.array)\n",
        "       weights between sensory neurons and output neuron\n",
        "    x: (input(65) x batch np.array) sensory input\n",
        "    y: (outputs(1) x batch np.array) target behavioural output\n",
        "\n",
        "  Returns:\n",
        "    R: the reward obtained given the parameters, inputs and targets\n",
        "  \"\"\"\n",
        "  if rng is None:\n",
        "    rng = np.random.default_rng()\n",
        "  # activaation\n",
        "  a = np.dot(W,x) # 1 x batch\n",
        "  # strike probability\n",
        "  y_hat = np_sigmoid(a) # 1 x batch\n",
        "  # what the organism actually does\n",
        "  # rng.random is a sample from the uniform distribution on [0,1)\n",
        "  y_sample = rng.random(size=y_hat.shape) < y_hat  # 1 x batch\n",
        "  R = np.zeros(y_sample.shape)\n",
        "  did_strike = y_sample == ...\n",
        "  did_not_strike = y_sample == ...\n",
        "  should_strike = y == ...\n",
        "  should_not_strike = y == ...\n",
        "  TP = np.logical_and(did_strike, should_strike) # True Positive\n",
        "  FP = np.logical_and(did_strike, should_not_strike) # False Positive\n",
        "  FN = np.logical_and(did_not_strike, should_strike) # False Negative\n",
        "  TN = np.logical_and(did_not_strike, should_not_strike) # True Negative\n",
        "  R[TP] = 1\n",
        "  R[FP] = -1\n",
        "  R[FN] = 0\n",
        "  R[TN] = 0\n",
        "  TPs = np.sum(TP)\n",
        "  FPs = np.sum(FP)\n",
        "  FNs = np.sum(FN)\n",
        "  TNs = np.sum(TN)\n",
        "  confusion_matrix = np.array([[TPs, FNs], [FPs, TNs]])\n",
        "  if verbose:\n",
        "    table = [[\"Should Strike\", TPs, FNs],\n",
        "                 [\"Shouldn't Strike\", FPs, TNs]]\n",
        "    headers = [\"\", \"Did Strike\", \"Didn't Strike\"]\n",
        "    print(\"Confusion_matrix: \")\n",
        "    print(tabulate(table, headers=headers, tablefmt=\"grid\"))\n",
        "    print(f'Total Reward: {np.sum(R)}')\n",
        "    return None\n",
        "  else:\n",
        "    return np.sum(R), confusion_matrix\n",
        "\n",
        "eval_rng = np.random.default_rng(0)\n",
        "W_test = np.zeros((1,65))\n",
        "# Xs_aug and y1 are batch x 65 and batch x 1, function wants transpose of this shape\n",
        "# for broadcasting to work\n",
        "print('Evaluation 1')\n",
        "eval_params_stochastic_batch(W_test, Xs_aug.T, y1.T, verbose=True, rng=eval_rng)\n",
        "print('\\nEvaluation 2')\n",
        "eval_params_stochastic_batch(W_test, Xs_aug.T, y1.T, verbose=True, rng=eval_rng)"
      ],
      "metadata": {
        "id": "CI-p0If_8ucJ",
        "outputId": "4c364c5c-4504-4477-bdaf-57a409f994ca",
        "colab": {
          "base_uri": "https://localhost:8080/",
          "height": 211
        }
      },
      "execution_count": 8,
      "outputs": [
        {
          "output_type": "error",
          "ename": "NotImplementedError",
          "evalue": "Exercise: Compute the number of different Outcomes",
          "traceback": [
            "\u001b[0;31m---------------------------------------------------------------------------\u001b[0m",
            "\u001b[0;31mNotImplementedError\u001b[0m                       Traceback (most recent call last)",
            "\u001b[0;32m<ipython-input-8-ae4dad6f435a>\u001b[0m in \u001b[0;36m<cell line: 4>\u001b[0;34m()\u001b[0m\n\u001b[1;32m      2\u001b[0m \u001b[0;31m# TODO for students: Complete the lines with ... to compute the number of\u001b[0m\u001b[0;34m\u001b[0m\u001b[0;34m\u001b[0m\u001b[0m\n\u001b[1;32m      3\u001b[0m \u001b[0;31m# True Positives, False Positives, True Negative and False Negatives in the batch\u001b[0m\u001b[0;34m\u001b[0m\u001b[0;34m\u001b[0m\u001b[0m\n\u001b[0;32m----> 4\u001b[0;31m \u001b[0;32mraise\u001b[0m \u001b[0mNotImplementedError\u001b[0m\u001b[0;34m(\u001b[0m\u001b[0;34m\"Exercise: Compute the number of different Outcomes\"\u001b[0m\u001b[0;34m)\u001b[0m\u001b[0;34m\u001b[0m\u001b[0;34m\u001b[0m\u001b[0m\n\u001b[0m\u001b[1;32m      5\u001b[0m \u001b[0;31m################################################################################\u001b[0m\u001b[0;34m\u001b[0m\u001b[0;34m\u001b[0m\u001b[0m\n\u001b[1;32m      6\u001b[0m \u001b[0;34m\u001b[0m\u001b[0m\n",
            "\u001b[0;31mNotImplementedError\u001b[0m: Exercise: Compute the number of different Outcomes"
          ]
        }
      ]
    },
    {
      "cell_type": "code",
      "source": [
        "# to_remove solution\n",
        "\n",
        "# As a little trick to keep our code cleaner we 'hide' our bias term.\n",
        "# We to do this by augmenting the features to include a feature that always has the value '1'.\n",
        "# Then, the 'weight' associated with this feature, which always has a value of '1', effectively serves as the bias term.\n",
        "# After augmentation there is one extra column of features\n",
        "Xs_aug = np.hstack([Xs, np.ones((Xs.shape[0],1))])\n",
        "\n",
        "def np_sigmoid(x):\n",
        "  x = np.clip(x, -500, 500) #prevent overflow, fine because sigmoid saturates\n",
        "  return 1 / (1 + np.exp(-x))\n",
        "\n",
        "def eval_params_stochastic_batch(W, x, y, verbose=False, rng=None):\n",
        "  \"\"\"\n",
        "  evaluates parameters of simple behaviour circuit given inputs and target\n",
        "  outputs, use numpy broadcasting to be fast and concise\n",
        "  Args:\n",
        "    W: (outputs(1) x inputs(65) np.array)\n",
        "       weights between sensory neurons and output neuron\n",
        "    x: (input(65) x batch np.array) sensory input\n",
        "    y: (outputs(1) x batch np.array) target behavioural output\n",
        "\n",
        "  Returns:\n",
        "    R: the reward obtained given the parameters, inputs and targets\n",
        "  \"\"\"\n",
        "  if rng is None:\n",
        "    rng = np.random.default_rng()\n",
        "  # activaation\n",
        "  a = np.dot(W,x) # 1 x batch\n",
        "  # strike probability\n",
        "  y_hat = np_sigmoid(a) # 1 x batch\n",
        "  # what the organism actually does\n",
        "  # rng.random is a sample from the uniform distribution on [0,1)\n",
        "  y_sample = rng.random(size=y_hat.shape) < y_hat  # 1 x batch\n",
        "  R = np.zeros(y_sample.shape)\n",
        "  did_strike = y_sample == 1\n",
        "  did_not_strike = y_sample == 0\n",
        "  should_strike = y == 1\n",
        "  should_not_strike = y == 0\n",
        "  TP = np.logical_and(did_strike, should_strike) # True Positive\n",
        "  FP = np.logical_and(did_strike, should_not_strike) # False Positive\n",
        "  FN = np.logical_and(did_not_strike, should_strike) # False Negative\n",
        "  TN = np.logical_and(did_not_strike, should_not_strike) # True Negative\n",
        "  R[TP] = 1\n",
        "  R[FP] = -1\n",
        "  R[FN] = 0\n",
        "  R[TN] = 0\n",
        "  TPs = np.sum(TP)\n",
        "  FPs = np.sum(FP)\n",
        "  FNs = np.sum(FN)\n",
        "  TNs = np.sum(TN)\n",
        "  confusion_matrix = np.array([[TPs, FNs], [FPs, TNs]])\n",
        "  if verbose:\n",
        "    table = [[\"Should Strike\", TPs, FNs],\n",
        "                 [\"Shouldn't Strike\", FPs, TNs]]\n",
        "    headers = [\"\", \"Did Strike\", \"Didn't Strike\"]\n",
        "    print(\"Confusion_matrix: \")\n",
        "    print(tabulate(table, headers=headers, tablefmt=\"grid\"))\n",
        "    print(f'Total Reward: {np.sum(R)}')\n",
        "    return None\n",
        "  else:\n",
        "    return np.sum(R), confusion_matrix\n",
        "\n",
        "eval_rng = np.random.default_rng(0)\n",
        "W_test = np.zeros((1,65))\n",
        "# Xs_aug and y1 are batch x 65 and batch x 1, function wants transpose of this shape\n",
        "# for broadcasting to work\n",
        "print('Evaluation 1')\n",
        "eval_params_stochastic_batch(W_test, Xs_aug.T, y1.T, verbose=True, rng=eval_rng)\n",
        "print('\\nEvaluation 2')\n",
        "eval_params_stochastic_batch(W_test, Xs_aug.T, y1.T, verbose=True, rng=eval_rng)"
      ],
      "metadata": {
        "id": "pMYaMDiYp9TS",
        "outputId": "769e317b-4ee3-43fc-fa9f-ccb95e190e63",
        "colab": {
          "base_uri": "https://localhost:8080/"
        }
      },
      "execution_count": 9,
      "outputs": [
        {
          "output_type": "stream",
          "name": "stdout",
          "text": [
            "Evaluation 1\n",
            "Confusion_matrix: \n",
            "+------------------+--------------+-----------------+\n",
            "|                  |   Did Strike |   Didn't Strike |\n",
            "+==================+==============+=================+\n",
            "| Should Strike    |         1386 |            1443 |\n",
            "+------------------+--------------+-----------------+\n",
            "| Shouldn't Strike |         1420 |            1371 |\n",
            "+------------------+--------------+-----------------+\n",
            "Total Reward: -34.0\n",
            "\n",
            "Evaluation 2\n",
            "Confusion_matrix: \n",
            "+------------------+--------------+-----------------+\n",
            "|                  |   Did Strike |   Didn't Strike |\n",
            "+==================+==============+=================+\n",
            "| Should Strike    |         1419 |            1410 |\n",
            "+------------------+--------------+-----------------+\n",
            "| Shouldn't Strike |         1404 |            1387 |\n",
            "+------------------+--------------+-----------------+\n",
            "Total Reward: 15.0\n"
          ]
        }
      ]
    },
    {
      "cell_type": "markdown",
      "source": [
        "Note that the two evaluations give different total rewards, even though the exact same synaptic weights $\\mathbf{W}$ are being used, on the exact same batch of inputs $\\mathbf{x}$ and prey presence indicators $y$. This is expected given the inherent stochasticity in the organisms behaviour. This stochastic evaluation of the synaptic weights will make things difficult for the perturb-measure-step alogorithm though, because it relies upon precise function evaluations to get good estimates of the rate of improvement in a given direction in parameter space. We can overcome this stochastic evaluation issue though by using our knowledge of how the different probabilities of striking or not determine the expected, or average reward. By directly evaluating expected reward we can recover a precise, deterministic evaluation function."
      ],
      "metadata": {
        "id": "SNMQj2pq5c9I"
      }
    },
    {
      "cell_type": "code",
      "source": [
        "def eval_params_expectation_batch(W, x, y, verbose=False):\n",
        "  \"\"\"\n",
        "  evaluates parameters of simple behaviour circuit given inputs and target\n",
        "  outputs, use numpy broadcasting to be fast and concise\n",
        "  Args:\n",
        "    W: (outputs(1) x inputs(65) np.array)\n",
        "       weights between sensory neurons and output neuron\n",
        "    x: (input(65) x batch np.array) sensory input\n",
        "    y: (outputs(1) x batch np.array) target behavioural output\n",
        "\n",
        "  Returns:\n",
        "    R_exp: the expected reward obtained over the batch given the parameters, inputs and targets\n",
        "  \"\"\"\n",
        "  # activaation\n",
        "  a = np.dot(W,x) # 1 x batch\n",
        "  # strike probability\n",
        "  y_hat = np_sigmoid(a) # 1 x batch\n",
        "  # Expected true positives (TPs) and false positives (FPs)\n",
        "  TPs = np.sum(y_hat * y)  # Sum of strike probabilities where true label is 1\n",
        "  FPs = np.sum(y_hat * (1 - y))  # Sum of strike probabilities where true label is 0\n",
        "  # Expected false negatives (FN_e) and true negatives (TN_e)\n",
        "  FNs = np.sum((1 - y_hat) * y)  # Sum of no strike probabilities where true label is 1\n",
        "  TNs = np.sum((1 - y_hat) * (1 - y))  # Sum of no strike probabilities where true label is 0\n",
        "  R_exp = 1 * TPs + 0 * FNs + -1 * FPs + 0 * TNs\n",
        "  confusion_matrix = np.array([[TPs, FNs], [FPs, TNs]])\n",
        "  if verbose:\n",
        "    table = [[\"Should Strike\", TPs, FNs],\n",
        "             [\"Shouldn't Strike\", FPs, TNs]]\n",
        "    headers = [\"\", \"Did Strike\", \"Didn't Strike\"]\n",
        "    print(\"Confusion_matrix: \")\n",
        "    print(tabulate(table, headers=headers, tablefmt=\"grid\"))\n",
        "    print(f'Total Reward: {R_exp}')\n",
        "    return None\n",
        "  else:\n",
        "    return R_exp, confusion_matrix\n",
        "\n",
        "W_test = np.zeros((1,65))\n",
        "# Xs_aug and y1 are batch x 65 and batch x 1, function wants transpose of this shape\n",
        "# for broadcasting to work\n",
        "print('Evaluation 1')\n",
        "eval_params_expectation_batch(W_test, Xs_aug.T, y1.T, verbose=True)\n",
        "print('\\nEvaluation 2')\n",
        "eval_params_expectation_batch(W_test, Xs_aug.T, y1.T, verbose=True)"
      ],
      "metadata": {
        "id": "ZDlv-zwC6hkm",
        "outputId": "546585ec-1508-438d-fb80-c45e5ebe8497",
        "colab": {
          "base_uri": "https://localhost:8080/"
        }
      },
      "execution_count": 10,
      "outputs": [
        {
          "output_type": "stream",
          "name": "stdout",
          "text": [
            "Evaluation 1\n",
            "Confusion_matrix: \n",
            "+------------------+--------------+-----------------+\n",
            "|                  |   Did Strike |   Didn't Strike |\n",
            "+==================+==============+=================+\n",
            "| Should Strike    |       1414.5 |          1414.5 |\n",
            "+------------------+--------------+-----------------+\n",
            "| Shouldn't Strike |       1395.5 |          1395.5 |\n",
            "+------------------+--------------+-----------------+\n",
            "Total Reward: 19.0\n",
            "\n",
            "Evaluation 2\n",
            "Confusion_matrix: \n",
            "+------------------+--------------+-----------------+\n",
            "|                  |   Did Strike |   Didn't Strike |\n",
            "+==================+==============+=================+\n",
            "| Should Strike    |       1414.5 |          1414.5 |\n",
            "+------------------+--------------+-----------------+\n",
            "| Shouldn't Strike |       1395.5 |          1395.5 |\n",
            "+------------------+--------------+-----------------+\n",
            "Total Reward: 19.0\n"
          ]
        }
      ]
    },
    {
      "cell_type": "markdown",
      "source": [
        "Note that as hoped, the evaluation of parameters using expected reward, is consistent, as it should be. As a sanity check we see that the distribution of stochastic evaluations is roughly symmetric, and centered around this expectation, with the average of many such stochastic evaluations becoming close to our calculated expected value."
      ],
      "metadata": {
        "id": "JACJHFAi90df"
      }
    },
    {
      "cell_type": "code",
      "source": [
        "# @markdown **Run this cell** to visualize the distribution of stochastic parameter evaluation, relative to the expectation.\n",
        "def eval_params_expectation_batch(W, x, y, verbose=False):\n",
        "  \"\"\"\n",
        "  evaluates parameters of simple behaviour circuit given inputs and target\n",
        "  outputs, use numpy broadcasting to be fast and concise\n",
        "  Args:\n",
        "    W: (outputs(1) x inputs(65) np.array)\n",
        "       weights between sensory neurons and output neuron\n",
        "    x: (input(65) x batch np.array) sensory input\n",
        "    y: (outputs(1) x batch np.array) target behavioural output\n",
        "\n",
        "  Returns:\n",
        "    R_exp: the expected reward obtained over the batch given the parameters, inputs and targets\n",
        "  \"\"\"\n",
        "  # activaation\n",
        "  a = np.dot(W,x) # 1 x batch\n",
        "  # strike probability\n",
        "  y_hat = np_sigmoid(a) # 1 x batch\n",
        "  # Expected true positives (TPs) and false positives (FPs)\n",
        "  TPs = np.sum(y_hat * y)  # Sum of strike probabilities where true label is 1\n",
        "  FPs = np.sum(y_hat * (1 - y))  # Sum of strike probabilities where true label is 0\n",
        "  # Expected false negatives (FN_e) and true negatives (TN_e)\n",
        "  FNs = np.sum((1 - y_hat) * y)  # Sum of no strike probabilities where true label is 1\n",
        "  TNs = np.sum((1 - y_hat) * (1 - y))  # Sum of no strike probabilities where true label is 0\n",
        "  R_exp = 1 * TPs + 0 * FNs + -1 * FPs + 0 * TNs\n",
        "  confusion_matrix = np.array([[TPs, FNs], [FPs, TNs]])\n",
        "  if verbose:\n",
        "    table = [[\"Should Strike\", TPs, FNs],\n",
        "             [\"Shouldn't Strike\", FPs, TNs]]\n",
        "    headers = [\"\", \"Did Strike\", \"Didn't Strike\"]\n",
        "    print(\"Confusion_matrix: \")\n",
        "    print(tabulate(table, headers=headers, tablefmt=\"grid\"))\n",
        "    print(f'Total Reward: {R_exp}')\n",
        "    return None\n",
        "  else:\n",
        "    return R_exp, confusion_matrix\n",
        "\n",
        "def eval_params_stochastic_batch(W, x, y, verbose=False, rng=None):\n",
        "  \"\"\"\n",
        "  evaluates parameters of simple behaviour circuit given inputs and target\n",
        "  outputs, use numpy broadcasting to be fast and concise\n",
        "  Args:\n",
        "    W: (outputs(1) x inputs(65) np.array)\n",
        "       weights between sensory neurons and output neuron\n",
        "    x: (input(65) x batch np.array) sensory input\n",
        "    y: (outputs(1) x batch np.array) target behavioural output\n",
        "\n",
        "  Returns:\n",
        "    R: the reward obtained given the parameters, inputs and targets\n",
        "  \"\"\"\n",
        "  if rng is None:\n",
        "    rng = np.random.default_rng()\n",
        "  # activaation\n",
        "  a = np.dot(W,x) # 1 x batch\n",
        "  # strike probability\n",
        "  y_hat = np_sigmoid(a) # 1 x batch\n",
        "  # what the organism actually does\n",
        "  # rng.random is a sample from the uniform distribution on [0,1)\n",
        "  y_sample = rng.random(size=y_hat.shape) < y_hat  # 1 x batch\n",
        "  R = np.zeros(y_sample.shape)\n",
        "  did_strike = y_sample == 1\n",
        "  did_not_strike = y_sample == 0\n",
        "  should_strike = y == 1\n",
        "  should_not_strike = y == 0\n",
        "  TP = np.logical_and(did_strike, should_strike) # True Positive\n",
        "  FP = np.logical_and(did_strike, should_not_strike) # False Positive\n",
        "  FN = np.logical_and(did_not_strike, should_strike) # False Negative\n",
        "  TN = np.logical_and(did_not_strike, should_not_strike) # True Negative\n",
        "  R[TP] = 1\n",
        "  R[FP] = -1\n",
        "  R[FN] = 0\n",
        "  R[TN] = 0\n",
        "  TPs = np.sum(TP)\n",
        "  FPs = np.sum(FP)\n",
        "  FNs = np.sum(FN)\n",
        "  TNs = np.sum(TN)\n",
        "  confusion_matrix = np.array([[TPs, FNs], [FPs, TNs]])\n",
        "  if verbose:\n",
        "    table = [[\"Should Strike\", TPs, FNs],\n",
        "                 [\"Shouldn't Strike\", FPs, TNs]]\n",
        "    headers = [\"\", \"Did Strike\", \"Didn't Strike\"]\n",
        "    print(\"Confusion_matrix: \")\n",
        "    print(tabulate(table, headers=headers, tablefmt=\"grid\"))\n",
        "    print(f'Total Reward: {np.sum(R)}')\n",
        "    return None\n",
        "  else:\n",
        "    return np.sum(R), confusion_matrix\n",
        "\n",
        "W_test = np.zeros((1,65))\n",
        "exp_reward, _ = eval_params_expectation_batch(W_test, Xs_aug.T, y1.T, verbose=False)\n",
        "\n",
        "# Generate stochastic rewards\n",
        "stochastic_rewards = []\n",
        "for _ in range(500):  # Simulate 100 times to create a distribution\n",
        "  r, _ = eval_params_stochastic_batch(W_test, Xs_aug.T, y1.T, verbose=False)\n",
        "  stochastic_rewards.append(r)\n",
        "\n",
        "# Plotting\n",
        "fig, ax = plt.subplots(figsize=(10, 6))\n",
        "remove_ip_clutter(fig)\n",
        "ax.hist(stochastic_rewards, bins=20, alpha=0.75, label='Stochastic Evaluations')\n",
        "ax.axvline(x=exp_reward, color='r', linestyle='dashed', linewidth=2, label=f'Expected Reward: {exp_reward}')\n",
        "ax.set_title('Comparison of Stochastic Evaluations and Expected Reward')\n",
        "ax.set_xlabel('Reward')\n",
        "ax.set_ylabel('Frequency')\n",
        "ax.legend()\n",
        "plt.show()"
      ],
      "metadata": {
        "cellView": "form",
        "id": "fGcMioTH9zxZ",
        "outputId": "bc493c97-1900-4031-d0bd-7ad5913eebc8",
        "colab": {
          "base_uri": "https://localhost:8080/",
          "height": 625,
          "referenced_widgets": [
            "4737653e912c4ce2908c9168fdcbe877",
            "8aed4c73e2894953ad72716be0623ca6",
            "09e2d55dc43a45569d82642e98e8105c",
            "87381ed1feec4c5b85c0a7b5c287156a"
          ]
        }
      },
      "execution_count": 11,
      "outputs": [
        {
          "output_type": "display_data",
          "data": {
            "text/plain": [
              "Canvas(footer_visible=False, header_visible=False, resizable=False, toolbar=Toolbar(toolitems=[('Home', 'Reset…"
            ],
            "image/png": "[encoded data removed]",
            "text/html": [
              "\n",
              "            <div style=\"display: inline-block;\">\n",
              "                <div class=\"jupyter-widgets widget-label\" style=\"text-align: center;\">\n",
              "                    Figure\n",
              "                </div>\n",
              "                <img src='data:image/png;base64,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' width=1000.0/>\n",
              "            </div>\n",
              "        "
            ],
            "application/vnd.jupyter.widget-view+json": {
              "version_major": 2,
              "version_minor": 0,
              "model_id": "4737653e912c4ce2908c9168fdcbe877"
            }
          },
          "metadata": {
            "application/vnd.jupyter.widget-view+json": {
              "colab": {
                "custom_widget_manager": {
                  "url": "https://ssl.gstatic.com/colaboratory-static/widgets/colab-cdn-widget-manager/2b70e893a8ba7c0f/manager.min.js"
                }
              }
            }
          }
        }
      ]
    },
    {
      "cell_type": "markdown",
      "source": [
        "As yet another sanity check we calculate the expected reward when striking and not striking with equal probability, in all circumstances, which is what we expect from a $\\mathbf{W}$ of all zeros."
      ],
      "metadata": {
        "id": "q_M7oYlFC9y-"
      }
    },
    {
      "cell_type": "code",
      "source": [
        "# There are this many cases where striking is good\n",
        "np.sum(y1 == 1)"
      ],
      "metadata": {
        "id": "k1lP9VvCPLNq",
        "outputId": "658ff225-4839-4e1a-debb-4adbbea3b3e7",
        "colab": {
          "base_uri": "https://localhost:8080/"
        }
      },
      "execution_count": 12,
      "outputs": [
        {
          "output_type": "execute_result",
          "data": {
            "text/plain": [
              "2829"
            ]
          },
          "metadata": {},
          "execution_count": 12
        }
      ]
    },
    {
      "cell_type": "code",
      "source": [
        "# And this many cases where striking is bad\n",
        "np.sum(y1 == 0)"
      ],
      "metadata": {
        "id": "FjR08i1kPSoF",
        "outputId": "017b4bc0-5461-460b-d799-0862ca00a910",
        "colab": {
          "base_uri": "https://localhost:8080/"
        }
      },
      "execution_count": 13,
      "outputs": [
        {
          "output_type": "execute_result",
          "data": {
            "text/plain": [
              "2791"
            ]
          },
          "metadata": {},
          "execution_count": 13
        }
      ]
    },
    {
      "cell_type": "code",
      "source": [
        "# W = 0 should strike half the time no matter what,\n",
        "# in which case would expect a reward of\n",
        "(2829 - 2791) / 2"
      ],
      "metadata": {
        "id": "fKcCR599Piys",
        "outputId": "d71df5f6-aacc-4191-ee3e-74f0a9f4af08",
        "colab": {
          "base_uri": "https://localhost:8080/"
        }
      },
      "execution_count": 14,
      "outputs": [
        {
          "output_type": "execute_result",
          "data": {
            "text/plain": [
              "19.0"
            ]
          },
          "metadata": {},
          "execution_count": 14
        }
      ]
    },
    {
      "cell_type": "markdown",
      "source": [
        "That all checks out, so now that we have some confidence in our evaluation function let's see if perturb-measure-step is able to find a good set of values for $\\mathbf{W}$ using the batch expected value version of parameter evaluation. Run the training loop. The process will take a minute or two to complete, while its running inspect the code and see if it makes sense to you."
      ],
      "metadata": {
        "id": "EK8zI-aSDTJb"
      }
    },
    {
      "cell_type": "code",
      "source": [
        "# @title Stochastic-Perturb-Measure-Step Training Loop\n",
        "learn_rng = np.random.default_rng(0)\n",
        "num_steps = 60000\n",
        "step_scale = 0.002\n",
        "dimensional_scale_factor = np.sqrt(65)\n",
        "perturbation_scale = 0.0001 # std of gaussian test perturbations\n",
        "W_init = np.zeros((1,65))\n",
        "W = W_init\n",
        "start_time = time.time()\n",
        "for step in range(num_steps):\n",
        "  R_current, _ = eval_params_expectation_batch(W, Xs_aug.T, y1.T)\n",
        "  raw_test_perturb = learn_rng.standard_normal(size=(1,65))\n",
        "  unit_test_perturb = raw_test_perturb / np.linalg.norm(raw_test_perturb.flatten())\n",
        "  test_perturbation = unit_test_perturb * perturbation_scale\n",
        "  R_test, _ = eval_params_expectation_batch(W + test_perturbation, Xs_aug.T, y1.T)\n",
        "  directional_grad_est = (R_test - R_current) / perturbation_scale\n",
        "  W += step_scale * dimensional_scale_factor * directional_grad_est * unit_test_perturb\n",
        "\n",
        "  if step == 0 or (step + 1) % 3000 == 0:\n",
        "    elapsed_time = time.time() - start_time\n",
        "    print(f'Step {step + 1}/{num_steps} completed | Expected Total Batch Reward: {R_current:.6f} | Time elapsed: {elapsed_time:.2f} seconds')\n",
        "eval_params_expectation_batch(W, Xs_aug.T, y1.T, verbose=True)"
      ],
      "metadata": {
        "id": "DPCBERK3Q0kz",
        "outputId": "4d316905-884d-4bcf-ee0c-ff94adb8337f",
        "colab": {
          "base_uri": "https://localhost:8080/"
        }
      },
      "execution_count": 15,
      "outputs": [
        {
          "output_type": "stream",
          "name": "stdout",
          "text": [
            "Step 1/60000 completed | Expected Total Batch Reward: 19.000000 | Time elapsed: 0.00 seconds\n",
            "Step 3000/60000 completed | Expected Total Batch Reward: 2442.003912 | Time elapsed: 2.51 seconds\n",
            "Step 6000/60000 completed | Expected Total Batch Reward: 2473.775432 | Time elapsed: 5.29 seconds\n",
            "Step 9000/60000 completed | Expected Total Batch Reward: 2497.012773 | Time elapsed: 8.31 seconds\n",
            "Step 12000/60000 completed | Expected Total Batch Reward: 2503.843636 | Time elapsed: 10.73 seconds\n",
            "Step 15000/60000 completed | Expected Total Batch Reward: 2505.437199 | Time elapsed: 13.11 seconds\n",
            "Step 18000/60000 completed | Expected Total Batch Reward: 2506.286421 | Time elapsed: 15.55 seconds\n",
            "Step 21000/60000 completed | Expected Total Batch Reward: 2501.932631 | Time elapsed: 18.39 seconds\n",
            "Step 24000/60000 completed | Expected Total Batch Reward: 2505.883148 | Time elapsed: 21.30 seconds\n",
            "Step 27000/60000 completed | Expected Total Batch Reward: 2513.462130 | Time elapsed: 23.67 seconds\n",
            "Step 30000/60000 completed | Expected Total Batch Reward: 2515.948605 | Time elapsed: 26.07 seconds\n",
            "Step 33000/60000 completed | Expected Total Batch Reward: 2513.078300 | Time elapsed: 28.59 seconds\n",
            "Step 36000/60000 completed | Expected Total Batch Reward: 2515.938833 | Time elapsed: 31.59 seconds\n",
            "Step 39000/60000 completed | Expected Total Batch Reward: 2515.910101 | Time elapsed: 34.27 seconds\n",
            "Step 42000/60000 completed | Expected Total Batch Reward: 2520.748534 | Time elapsed: 36.63 seconds\n",
            "Step 45000/60000 completed | Expected Total Batch Reward: 2520.300044 | Time elapsed: 39.07 seconds\n",
            "Step 48000/60000 completed | Expected Total Batch Reward: 2516.101239 | Time elapsed: 41.42 seconds\n",
            "Step 51000/60000 completed | Expected Total Batch Reward: 2520.620180 | Time elapsed: 44.74 seconds\n",
            "Step 54000/60000 completed | Expected Total Batch Reward: 2520.762087 | Time elapsed: 47.40 seconds\n",
            "Step 57000/60000 completed | Expected Total Batch Reward: 2522.856034 | Time elapsed: 49.76 seconds\n",
            "Step 60000/60000 completed | Expected Total Batch Reward: 2524.840005 | Time elapsed: 52.14 seconds\n",
            "Confusion_matrix: \n",
            "+------------------+--------------+-----------------+\n",
            "|                  |   Did Strike |   Didn't Strike |\n",
            "+==================+==============+=================+\n",
            "| Should Strike    |     2661.9   |         167.099 |\n",
            "+------------------+--------------+-----------------+\n",
            "| Shouldn't Strike |      137.038 |        2653.96  |\n",
            "+------------------+--------------+-----------------+\n",
            "Total Reward: 2524.862648824306\n"
          ]
        }
      ]
    },
    {
      "cell_type": "markdown",
      "source": [
        "The best possible score is 2829, and perturb measure step is able to discover network parameters that achieve a score of roughly 2500, in 60,000 steps. This is pretty good, better than we the humans were able to do in terms of figuring out the pattern, before we got bored of the problem in a few minutes. This is all well and good as an optimization exercise, but if we want to connect this form of optimization back to our inspirational cartoon of neural behaviour as a kind of learning, there are a few issues. Three major issues stand out as ways in which the perturb-measure-step training loop above deviates from a process that is simple and local enough to serve as plausible (even if very abstract) model of a physiological syanptic plasticity processes. These key issues are:\n",
        "1. The organism's striking behaviour is stochastic but expected reward outcomes, not actual obtained reward outcomes are used to drive updates to the synaptic parameters $\\mathbf{W}$.\n",
        "2. The evaluation of a given synaptic configuration is based on performance over all of the 5620 of distcint input-outpur pairs (sensory-pattern, prey-presence) in the data set that defines the \"environment\" of this learning problem. Physiologically viable would be evaluations over a single, or at least relatively few, stimulus-response-reward episodes.\n",
        "3. Evaluations are performed in seperate perturbation and non-perturbation modes in the training loop above. A single mode of evaluation that operated fully \"online\" and in congunction with the ongoing generation of behaviour is more simple and easy to imagine physiological implementations of.\n",
        "\n",
        "There are of course many other ways in which the this cartoon learning system deviates from what might plausibly be implemented in an actual simple neural system, but these have more to do with the abstractness of the model, and can concievibly be remedied with careful choices about how to make the model more concrete so as to map nicely onto measurable phyiological features of neural plasticity. In contrast, for the critical points oulined above, it is difficult to imagine how any of these key issues can be overcome physiologically, without invoking additional complex neural circuits and processes, the orgin of which also need to be explained. So for this sequence and the next we focus on addressing these core issues, different-modes, batch versus single experience based reward, and expected versus actual recieved (stochastic) reward.\n",
        "\n",
        "In the rest of this sequence we will adapt the base perturb-measure-step update rule to address each of these three issues. But first let's just get a bit of a sense of how these issues impinge upon the fantasy of using perturb-measure-step as an algorithm that might feasibly be used by a living organism to update the connection strengths of this simple network determining behaviour in response to stimulus. In each interation in the vanilla perturb-measure-step training loop implemented above the organism first evaluates its current parameters based on the expected reward over all 5620 possible experiences. It then perturbs its synaptic parameters and evaluates its performance again on all 5620 experiences, these two evaluations are compared to determine $\\Delta R$ and this together with the pertrubations $\\Delta W_i$ determine the synaptic connections update according to\n",
        "\n",
        "$$ W_i' = W_i + s \\ \\Delta W_i \\ \\Delta R $$\n",
        "where\n",
        "$$\\Delta R = R(\\mathbf{W} + \\Delta \\mathbf{W}) - R(\\mathbf{W})$$\n",
        "and $R(\\mathbf{W})$ is our reward/evaluation function.\n",
        "Note that $s$ needs to be carefully choosen to account both for the average size of the perturbation $\\| \\mathbf{W} \\|$, the appropriately level of scaling given the expected alignment of a random perturbation with the gradient given the dimensionality of $\\mathbf{W}$, and the relative scale of the gradient. While this is can be a challenge in practical applications, the \"dialing-in\" of meta-parameters of learning algorithms is something that we expect evolution to be quite good at.\n",
        "\n",
        "This process would require the organism somehow integrate all of the reward outcomes of all 5620 experiences, remember this aggregated outcome, then integrate up the reward outcomes of another 5620 experiences accumulated while in 'perturbation' mode, and then update its parameters based on a comparison of the remembered and the recently accumlated aggregate reward outcome. This all seems a bit complicated, and difficult to implement with simple, primarily local, synaptic plasticity mechanisms. What we would like intead is a version of perturb-measure-step that updates its synaptic weights as a result of every reward experience, doesn't rely on an expected reward calculation, and that does not have a seperate perturbation mode.\n",
        "\n",
        "Removing the seperate perturbation mode is perhaps the easiest issue to address so we take this on first."
      ],
      "metadata": {
        "id": "T-Qw7kZ7T8Gp"
      }
    },
    {
      "cell_type": "markdown",
      "source": [
        "# 2.1.4.2 Stochastic-Step-Measure-Step\n",
        "\n",
        "One simple way to avoid a seperate perturbation evaluation is to simply compress the perturbation and the update into a single step. We call such an update method step-measure-step as contrasted with perturb measure step. This new update rule looks like this.\n",
        "\n",
        "\n",
        "\n",
        "$$\\ W_{i}(t+1)= W_i(t) + s \\ (W_i(t) - W_i(t-1)) \\ \\ R(\\mathbf{W}(t)) - R(\\mathbf{W}(t-1)) + \\xi_{i}(t)$$\n",
        "\n",
        "Previously we used $\\Delta$ to denote the perturbation and did not directly reference the parameter update. Because now we are combining the perturbation and the parameter update we use $\\Delta$ to denote this combined change, that is\n",
        "$$ \\ W_{i}(t+1) - W_i(t) = \\Delta W_i(t) $$\n",
        "\n",
        "Then the above simplifies\n",
        "\n",
        "$$ \\Delta W_i(t) = s \\ \\Delta W_i(t-1) \\ \\Delta R(t) + \\xi_i(t) $$\n",
        "Here $\\Delta R(t) = R(\\mathbf{W}(t)) - R(\\mathbf{W}(t-1))$\n",
        "\n",
        "Let's see if\n"
      ],
      "metadata": {
        "id": "Rdp1m0JJV2ff"
      }
    },
    {
      "cell_type": "code",
      "source": [
        "# @title Stochastic-Step-Measure-Step Training Loop\n",
        "learn_rng = np.random.default_rng(0)\n",
        "num_steps = 100000\n",
        "init_step_scale = 0.003 * np.sqrt(65)\n",
        "init_noise_scale = 0.0005\n",
        "total_scale = 1.0\n",
        "#later_step_scale = 0.002 * np.sqrt(65)\n",
        "#later_noise_scale = 0.0001\n",
        "W_init = np.zeros((1,65))\n",
        "W = W_init\n",
        "delta_W = np.zeros((1,65))\n",
        "R, _ = eval_params_expectation_batch(W, Xs_aug.T, y1.T)\n",
        "start_time = time.time()\n",
        "step_scale = init_step_scale\n",
        "noise_scale = init_noise_scale\n",
        "for step in range(num_steps):\n",
        "  R_old = R\n",
        "  R, _ = eval_params_expectation_batch(W, Xs_aug.T, y1.T)\n",
        "  delta_R = R - R_old\n",
        "  delta_W_noise = learn_rng.normal(0, noise_scale, size=(1,65))\n",
        "  delta_W = total_scale * (step_scale * delta_W * delta_R + delta_W_noise)\n",
        "  W += delta_W\n",
        "\n",
        "  if step == 0 or (step + 1) % 10000 == 0:\n",
        "    elapsed_time = time.time() - start_time\n",
        "    #print(f'Delta R: {delta_R}')\n",
        "    #print(f'Delta W: {delta_W}')\n",
        "    print(f'Step {step + 1}/{num_steps} completed | Total Expected Reward: {R:.6f} | Time elapsed: {elapsed_time:.2f} seconds')\n",
        "    #if step > 40000:\n",
        "    #  step_scale = later_step_scale\n",
        "    #  noise_scale = later_noise_scale\n",
        "eval_params_expectation_batch(W, Xs_aug.T, y1.T, verbose=True)"
      ],
      "metadata": {
        "id": "5Q6yqqAJWCHo",
        "outputId": "0157026d-9b43-49b8-f0c9-70cd28b7b4e5",
        "colab": {
          "base_uri": "https://localhost:8080/"
        }
      },
      "execution_count": 16,
      "outputs": [
        {
          "output_type": "stream",
          "name": "stdout",
          "text": [
            "Step 1/100000 completed | Total Expected Reward: 19.000000 | Time elapsed: 0.00 seconds\n",
            "Step 10000/100000 completed | Total Expected Reward: 1606.922149 | Time elapsed: 4.60 seconds\n",
            "Step 20000/100000 completed | Total Expected Reward: 1714.935587 | Time elapsed: 8.86 seconds\n",
            "Step 30000/100000 completed | Total Expected Reward: 1777.267511 | Time elapsed: 12.84 seconds\n",
            "Step 40000/100000 completed | Total Expected Reward: 1859.405580 | Time elapsed: 17.32 seconds\n",
            "Step 50000/100000 completed | Total Expected Reward: 1929.047608 | Time elapsed: 21.81 seconds\n",
            "Step 60000/100000 completed | Total Expected Reward: 1951.763270 | Time elapsed: 25.77 seconds\n",
            "Step 70000/100000 completed | Total Expected Reward: 1960.317681 | Time elapsed: 30.06 seconds\n",
            "Step 80000/100000 completed | Total Expected Reward: 1969.088658 | Time elapsed: 34.74 seconds\n",
            "Step 90000/100000 completed | Total Expected Reward: 1968.523797 | Time elapsed: 39.73 seconds\n",
            "Step 100000/100000 completed | Total Expected Reward: 2028.672296 | Time elapsed: 45.16 seconds\n",
            "Confusion_matrix: \n",
            "+------------------+--------------+-----------------+\n",
            "|                  |   Did Strike |   Didn't Strike |\n",
            "+==================+==============+=================+\n",
            "| Should Strike    |     2477.67  |         351.331 |\n",
            "+------------------+--------------+-----------------+\n",
            "| Shouldn't Strike |      448.199 |        2342.8   |\n",
            "+------------------+--------------+-----------------+\n",
            "Total Reward: 2029.4706196154564\n"
          ]
        }
      ]
    },
    {
      "cell_type": "markdown",
      "source": [
        "So this trick of smushing the perturbation and the update into a single step seems to work okay, though not as well as doing the very careful perturbation, but it shows that much of the correct pattern response to stimulus can be discovered through this mode. This particular idea for smushing together the perturbation and the update was is known as ALOPEX (an acronym from \"ALgorithms Of Pattern EXtraction\",  first proposed by Tzanakou and Harth in 1974.) This is one way of not having a seperate perturbation and non-perturbation mode. There are other ways, such as leveraging the stochasticity of relative spike timings (ref seung), and using reward signals directly (or above some anticipated baseline) and we will discuss these later. For now, it is enough to know that this issue can be mitigated, though with some apparrent cost to overall performance (relative to perturb-measure-step). Let's move on to the next issue."
      ],
      "metadata": {
        "id": "-73AjlBda7kA"
      }
    },
    {
      "cell_type": "markdown",
      "source": [
        "# 2.1.4.3 Full-Batch versus Mini-Batch Perturb-Measure-Step\n",
        "\n",
        "Another issue in terms of physiological viability was parameter evaluation based on performance across all possible experiences. In a simple model of learning and synaptic plasticity, we would like learning to be driven by the outcomes of a single stimulus-response-reward experience.\n",
        "\n",
        "This relates to an important idea in machine learning. The idea of the mini-batch. Even though we are ulitmately interested is the performance of the parameters over all of the input-target pairs in the data set, given how computers operate, it is typically possible to generate a sample evaluation based on a small random sample of the input-target pairs in the data set. Such a samlpe is called a mini-batch of the data. (As contrasted with the entire data-set which is called a full-batch or just batch). Evaluations on these mini-batches provides an estimate of the desired full-batch evaluation. In the extreme case a mini-batch can consist of a single input-output pair. In ML the idea of using mini-batches developed in the context of Gradient Descent optimization (which we haven't covered yet). So even though the mini-batch idea applies to all kinds of optimzation processes, for historical reasons,  learning with mini-batches of size 1 is called \"Stochastic Gradient Descent\", and learning with mini-batches of size greater than 1 but less than the full batch is called \"Mini-Batch Stochastic Gradient Descent\", and learning with the full batch is just called Gradient Descent. In practical ML settings, whenever the data-set becomes sufficiently large, mini-batches are almost always used, as they allow for the most efficient use of computational resources. Here we explicitly seperate the mini-batch idea from Gradient Descent, and so use the terms full-batch, mini-batch, and singleton based learning and evaluations. Let's see what having a mini-batch of different sizes does to our learning rates. For now we test out this mini-batch idea on perturb-measure-step."
      ],
      "metadata": {
        "id": "HIOigwyZeYwK"
      }
    },
    {
      "cell_type": "code",
      "source": [
        "# @title Mini-Batch(10) Stochastic-Perturb-Measure-Step Training Loop\n",
        "learn_rng = np.random.default_rng(0)\n",
        "step_scale = 0.002\n",
        "mini_batch_size = 10\n",
        "num_epochs = 400\n",
        "dimensional_scale_factor = np.sqrt(65)\n",
        "perturbation_scale = 0.0001 # std of gaussian test perturbations\n",
        "W_init = np.zeros((1,65))\n",
        "W = W_init\n",
        "start_time = time.time()\n",
        "indices = np.arange(Xs_aug.shape[0])\n",
        "for epoch in range(num_epochs):\n",
        "  np.random.shuffle(indices)\n",
        "  for batch_step in range(0, Xs_aug.shape[0], mini_batch_size):\n",
        "    batch_indices = indices[batch_step:batch_step+mini_batch_size]\n",
        "    batch_Xs = Xs_aug[batch_indices].T\n",
        "    batch_y1 = y1[batch_indices].T\n",
        "    R_current, _ = eval_params_expectation_batch(W, batch_Xs, batch_y1)\n",
        "    raw_test_perturb = learn_rng.standard_normal(size=(1,65))\n",
        "    unit_test_perturb = raw_test_perturb / np.linalg.norm(raw_test_perturb.flatten())\n",
        "    test_perturbation = unit_test_perturb * perturbation_scale\n",
        "    R_test, _ = eval_params_expectation_batch(W + test_perturbation, batch_Xs, batch_y1)\n",
        "    directional_grad_est = (R_test - R_current) / perturbation_scale\n",
        "    W += step_scale * dimensional_scale_factor * directional_grad_est * unit_test_perturb\n",
        "\n",
        "  if epoch == 0 or (epoch + 1) % 20 == 0:\n",
        "    total_expected_reward, _ = eval_params_expectation_batch(W, Xs_aug.T, y1.T)\n",
        "    elapsed_time = time.time() - start_time\n",
        "    print(f'Epoch {epoch + 1}/{num_epochs} completed | Expected Total Batch Reward: {total_expected_reward:.6f} | Time elapsed: {elapsed_time:.2f} seconds')\n",
        "eval_params_expectation_batch(W, Xs_aug.T, y1.T, verbose=True)"
      ],
      "metadata": {
        "id": "b_Q3ceuPUUkb",
        "outputId": "89bc302f-d004-4a5e-82eb-22f6216d39e2",
        "colab": {
          "base_uri": "https://localhost:8080/"
        }
      },
      "execution_count": 17,
      "outputs": [
        {
          "output_type": "stream",
          "name": "stdout",
          "text": [
            "Epoch 1/400 completed | Expected Total Batch Reward: 1722.243460 | Time elapsed: 0.14 seconds\n",
            "Epoch 20/400 completed | Expected Total Batch Reward: 2262.785506 | Time elapsed: 1.76 seconds\n",
            "Epoch 40/400 completed | Expected Total Batch Reward: 2335.979402 | Time elapsed: 3.49 seconds\n",
            "Epoch 60/400 completed | Expected Total Batch Reward: 2328.843701 | Time elapsed: 5.20 seconds\n",
            "Epoch 80/400 completed | Expected Total Batch Reward: 2346.610598 | Time elapsed: 6.91 seconds\n",
            "Epoch 100/400 completed | Expected Total Batch Reward: 2379.272708 | Time elapsed: 8.63 seconds\n",
            "Epoch 120/400 completed | Expected Total Batch Reward: 2390.854632 | Time elapsed: 10.38 seconds\n",
            "Epoch 140/400 completed | Expected Total Batch Reward: 2399.160385 | Time elapsed: 12.10 seconds\n",
            "Epoch 160/400 completed | Expected Total Batch Reward: 2399.460227 | Time elapsed: 13.83 seconds\n",
            "Epoch 180/400 completed | Expected Total Batch Reward: 2396.565104 | Time elapsed: 15.55 seconds\n",
            "Epoch 200/400 completed | Expected Total Batch Reward: 2399.896953 | Time elapsed: 17.24 seconds\n",
            "Epoch 220/400 completed | Expected Total Batch Reward: 2403.366968 | Time elapsed: 19.01 seconds\n",
            "Epoch 240/400 completed | Expected Total Batch Reward: 2411.129600 | Time elapsed: 20.69 seconds\n",
            "Epoch 260/400 completed | Expected Total Batch Reward: 2415.399398 | Time elapsed: 22.42 seconds\n",
            "Epoch 280/400 completed | Expected Total Batch Reward: 2421.362391 | Time elapsed: 24.15 seconds\n",
            "Epoch 300/400 completed | Expected Total Batch Reward: 2426.059501 | Time elapsed: 25.82 seconds\n",
            "Epoch 320/400 completed | Expected Total Batch Reward: 2417.184433 | Time elapsed: 27.51 seconds\n",
            "Epoch 340/400 completed | Expected Total Batch Reward: 2412.240894 | Time elapsed: 29.21 seconds\n",
            "Epoch 360/400 completed | Expected Total Batch Reward: 2415.440438 | Time elapsed: 30.91 seconds\n",
            "Epoch 380/400 completed | Expected Total Batch Reward: 2416.273358 | Time elapsed: 32.62 seconds\n",
            "Epoch 400/400 completed | Expected Total Batch Reward: 2426.138305 | Time elapsed: 34.38 seconds\n",
            "Confusion_matrix: \n",
            "+------------------+--------------+-----------------+\n",
            "|                  |   Did Strike |   Didn't Strike |\n",
            "+==================+==============+=================+\n",
            "| Should Strike    |     2604.77  |         224.231 |\n",
            "+------------------+--------------+-----------------+\n",
            "| Shouldn't Strike |      178.631 |        2612.37  |\n",
            "+------------------+--------------+-----------------+\n",
            "Total Reward: 2426.138304897553\n"
          ]
        }
      ]
    },
    {
      "cell_type": "markdown",
      "source": [
        "So with a mini-batch of size 10, this works really quite well, basically just as well as evaluating the parameters on the entire experience, what about when we scale down to the extreme case of a mini-batch of size 1?"
      ],
      "metadata": {
        "id": "pjayFNS7ilBP"
      }
    },
    {
      "cell_type": "code",
      "source": [
        "# @title Singleton Stochastic-Perturb-Measure-Step Training Loop\n",
        "learn_rng = np.random.default_rng(0)\n",
        "step_scale = 0.002\n",
        "mini_batch_size = 1\n",
        "num_epochs = 80\n",
        "dimensional_scale_factor = np.sqrt(65)\n",
        "perturbation_scale = 0.0001 # std of gaussian test perturbations\n",
        "W_init = np.zeros((1,65))\n",
        "W = W_init\n",
        "start_time = time.time()\n",
        "indices = np.arange(Xs_aug.shape[0])\n",
        "for epoch in range(num_epochs):\n",
        "  np.random.shuffle(indices)\n",
        "  for batch_step in range(0, Xs_aug.shape[0], mini_batch_size):\n",
        "    batch_indices = indices[batch_step:batch_step+mini_batch_size]\n",
        "    batch_Xs = Xs_aug[batch_indices].T\n",
        "    batch_y1 = y1[batch_indices].T\n",
        "    R_current, _ = eval_params_expectation_batch(W, batch_Xs, batch_y1)\n",
        "    raw_test_perturb = learn_rng.standard_normal(size=(1,65))\n",
        "    unit_test_perturb = raw_test_perturb / np.linalg.norm(raw_test_perturb.flatten())\n",
        "    test_perturbation = unit_test_perturb * perturbation_scale\n",
        "    R_test, _ = eval_params_expectation_batch(W + test_perturbation, batch_Xs, batch_y1)\n",
        "    directional_grad_est = (R_test - R_current) / perturbation_scale\n",
        "    W += step_scale * dimensional_scale_factor * directional_grad_est * unit_test_perturb\n",
        "\n",
        "  if epoch == 0 or (epoch + 1) % 5 == 0:\n",
        "    total_expected_reward, _ = eval_params_expectation_batch(W, Xs_aug.T, y1.T)\n",
        "    elapsed_time = time.time() - start_time\n",
        "    print(f'Epoch {epoch + 1}/{num_epochs} completed | Expected Total Batch Reward: {total_expected_reward:.6f} | Time elapsed: {elapsed_time:.2f} seconds')\n",
        "eval_params_expectation_batch(W, Xs_aug.T, y1.T, verbose=True)"
      ],
      "metadata": {
        "id": "zChE6Ud1i0dt",
        "outputId": "a7b80cf9-0a3c-4d6f-848b-a8d704ac6d51",
        "colab": {
          "base_uri": "https://localhost:8080/"
        }
      },
      "execution_count": 18,
      "outputs": [
        {
          "output_type": "stream",
          "name": "stdout",
          "text": [
            "Epoch 1/80 completed | Expected Total Batch Reward: 2064.597330 | Time elapsed: 0.74 seconds\n",
            "Epoch 5/80 completed | Expected Total Batch Reward: 2190.270438 | Time elapsed: 3.59 seconds\n",
            "Epoch 10/80 completed | Expected Total Batch Reward: 2264.973643 | Time elapsed: 6.99 seconds\n",
            "Epoch 15/80 completed | Expected Total Batch Reward: 2292.761648 | Time elapsed: 10.51 seconds\n",
            "Epoch 20/80 completed | Expected Total Batch Reward: 2299.088591 | Time elapsed: 13.96 seconds\n",
            "Epoch 25/80 completed | Expected Total Batch Reward: 2319.967617 | Time elapsed: 17.41 seconds\n",
            "Epoch 30/80 completed | Expected Total Batch Reward: 2340.407175 | Time elapsed: 20.84 seconds\n",
            "Epoch 35/80 completed | Expected Total Batch Reward: 2356.847704 | Time elapsed: 24.29 seconds\n",
            "Epoch 40/80 completed | Expected Total Batch Reward: 2352.177762 | Time elapsed: 27.74 seconds\n",
            "Epoch 45/80 completed | Expected Total Batch Reward: 2340.905439 | Time elapsed: 31.16 seconds\n",
            "Epoch 50/80 completed | Expected Total Batch Reward: 2363.636156 | Time elapsed: 34.63 seconds\n",
            "Epoch 55/80 completed | Expected Total Batch Reward: 2345.888648 | Time elapsed: 38.00 seconds\n",
            "Epoch 60/80 completed | Expected Total Batch Reward: 2341.663464 | Time elapsed: 41.45 seconds\n",
            "Epoch 65/80 completed | Expected Total Batch Reward: 2368.182179 | Time elapsed: 44.88 seconds\n",
            "Epoch 70/80 completed | Expected Total Batch Reward: 2371.760992 | Time elapsed: 48.32 seconds\n",
            "Epoch 75/80 completed | Expected Total Batch Reward: 2370.709511 | Time elapsed: 51.80 seconds\n",
            "Epoch 80/80 completed | Expected Total Batch Reward: 2381.069421 | Time elapsed: 55.24 seconds\n",
            "Confusion_matrix: \n",
            "+------------------+--------------+-----------------+\n",
            "|                  |   Did Strike |   Didn't Strike |\n",
            "+==================+==============+=================+\n",
            "| Should Strike    |     2500.74  |         328.256 |\n",
            "+------------------+--------------+-----------------+\n",
            "| Shouldn't Strike |      119.675 |        2671.33  |\n",
            "+------------------+--------------+-----------------+\n",
            "Total Reward: 2381.0694209651583\n"
          ]
        }
      ]
    },
    {
      "cell_type": "markdown",
      "source": [
        "So learning from a single experience using perturb-measure-step doesn't appear to be a problem at all. If anything it leads to faster (in terms of computational time) learning, since evaluations on a single (or small mini-batch of) input-output pair(s) are much quicker to compute than evaluations of the parameters based on the entirety of the avialble data-set.\n",
        "\n",
        "Now, unfortunately, the smushing together of the update step and the perturbation step, does not mix well with the mini-batch idea. The key issue here, is that in the mini-batch training loops above **the same** mini-batch was used to evaluate both the base parameters and the perturbed parameters alowing for a precise estimate of the rate of improvement in the direction of the test perturbation. If two **different** mini-batches are used to estimate the reward at two different points in the parameter space (as happens in when we try to use step-measure-step with mini-batches), the noise introduced by using different mini-batches makes the estimate the degree of improvement between the two points much noisier. While learning is still possible with this extra noise, it will make learning too slow to be practical both in an ML context and in the context of rapdily aquiring adaptive behaviours.\n",
        "\n",
        "Finally we turn our attention to using actual sampled rewards, instead of computed expectation of reward."
      ],
      "metadata": {
        "id": "0BZyRrdxj35_"
      }
    },
    {
      "cell_type": "markdown",
      "source": [
        "# 2.1.4.4 Recieved Reward Perturb-Measure-Step\n",
        "\n",
        "Later on in this book we will see how an organism might develop an internal model of how their actions interact with the dynamics of the environment to change the state of the environment and produce rewards, but for the moment we are focused on arriving at the simplest viable learning circuit that can rapidly learn good behaviour on the strike-no-stike problem, while invoking only simplest imaginable physiological mechanisms of plasticity. So we wish to exclude the computation of expected reward, and instead focus on the actual rewards recieved by the organism and how they might drive synaptic weight changes. In the training loop below we implement perturb-measure-step but using stochastic evaluation. Let's see how it goes"
      ],
      "metadata": {
        "id": "ye0f3r02J2he"
      }
    },
    {
      "cell_type": "code",
      "source": [
        "# @title Sampled-Reward Stochastic-Perturb-Measure-Step Training Loop\n",
        "learn_rng = np.random.default_rng(0)\n",
        "num_steps = 30000\n",
        "step_scale = 0.000005\n",
        "dimensional_scale_factor = np.sqrt(65)\n",
        "perturbation_scale = 0.01 # std of gaussian test perturbations\n",
        "W_init = np.zeros((1,65))\n",
        "W = W_init\n",
        "start_time = time.time()\n",
        "for step in range(num_steps):\n",
        "  R_current, _ = eval_params_stochastic_batch(W, Xs_aug.T, y1.T)\n",
        "  raw_test_perturb = learn_rng.standard_normal(size=(1,65))\n",
        "  unit_test_perturb = raw_test_perturb / np.linalg.norm(raw_test_perturb.flatten())\n",
        "  test_perturbation = unit_test_perturb * perturbation_scale\n",
        "  R_test, _ = eval_params_stochastic_batch(W + test_perturbation, Xs_aug.T, y1.T)\n",
        "  directional_grad_est = (R_test - R_current) / perturbation_scale\n",
        "  W += step_scale * dimensional_scale_factor * directional_grad_est * unit_test_perturb\n",
        "\n",
        "  if step == 0 or (step + 1) % 3000 == 0:\n",
        "    R_exp, _ = eval_params_expectation_batch(W, Xs_aug.T, y1.T)\n",
        "    elapsed_time = time.time() - start_time\n",
        "    print(f'Step {step + 1}/{num_steps} completed | Expected Total Batch Reward: {R_exp:.6f} | Time elapsed: {elapsed_time:.2f} seconds')\n",
        "eval_params_expectation_batch(W, Xs_aug.T, y1.T, verbose=True)"
      ],
      "metadata": {
        "id": "SveIOTt2LWB2"
      },
      "execution_count": null,
      "outputs": []
    },
    {
      "cell_type": "markdown",
      "source": [
        "# 2.1.4.5 Putting them all together\n",
        "\n",
        "So there are simple ideas that overcome our key issues with perturb-measure-step as implemented initially. We can effectively learn from single experiences, we can effectively learn from actual rewards resulting from actual rewards made (not expectated reward given hypothetical probabilities of taking given actions), and we can effectively use the difference in reward between two episodes for learning instead of requiring a seperate perturbation evaluations mode of operation for the network. All of these are lovely ideas, however, they do not combine particularly well, at least not in a straightforward way. Learning is still possible when all of these ideas are combined, but improvement is so slow as to be totally impractical. As can be seen in the figure below, (or if you want to burn a bunch of cpu cycles you can edit the cell below so that it runs.)"
      ],
      "metadata": {
        "id": "Jb1aF07qNrlv"
      }
    },
    {
      "cell_type": "code",
      "source": [
        "# @title Sampled-Reward Singleton Stochastic-Step-Measure-Step Training Loop\n",
        "learn_rng = np.random.default_rng(0)\n",
        "num_epochs = 10000\n",
        "mini_batch_size = 1\n",
        "step_scale =  0.000001\n",
        "noise_scale = 0.0000005\n",
        "W_init = np.zeros((1,65))\n",
        "W = W_init\n",
        "delta_W = np.zeros((1,65))\n",
        "R, _ = eval_params_stochastic_batch(W, Xs_aug.T, y1.T)\n",
        "start_time = time.time()\n",
        "for epoch in range(num_epochs):\n",
        "  np.random.shuffle(indices)\n",
        "  for batch_step in range(0, Xs_aug.shape[0], mini_batch_size):\n",
        "    batch_indices = indices[batch_step:batch_step+mini_batch_size]\n",
        "    batch_Xs = Xs_aug[batch_indices].T\n",
        "    batch_y1 = y1[batch_indices].T\n",
        "    R_old = R\n",
        "    R, _ = eval_params_stochastic_batch(W, batch_Xs, batch_y1)\n",
        "    delta_R = R - R_old\n",
        "    delta_W_noise = learn_rng.normal(0, noise_scale, size=(1,65))\n",
        "    delta_W = total_scale * (step_scale * delta_W * delta_R + delta_W_noise)\n",
        "    W += delta_W\n",
        "  if epoch == 0 or (epoch + 1) % 10 == 0:\n",
        "    total_expected_reward, _ = eval_params_expectation_batch(W, Xs_aug.T, y1.T)\n",
        "    elapsed_time = time.time() - start_time\n",
        "    print(f'Epoch {epoch + 1}/{num_epochs} completed | Expected Total Batch Reward: {total_expected_reward:.6f} | Time elapsed: {elapsed_time:.2f} seconds')\n",
        "eval_params_expectation_batch(W, Xs_aug.T, y1.T, verbose=True)"
      ],
      "metadata": {
        "id": "k-k30JNENuXY"
      },
      "execution_count": null,
      "outputs": []
    },
    {
      "cell_type": "markdown",
      "source": [
        "# 2.1.4.6 Is Solving High Dimensional Optimization Problem Necissary for Adaptive Behaviour? Hard Yes.\n",
        "\n",
        "From a machine learning perspective, when thinking about the performance of a model, there are several things that might be limiting performance. Maybe the data is fundamentally difficult, e.g. there are identical inputs with different correct outputs, i.e. $\\mathbf{x} = \\mathbf{x}$, but $y = 0 $ and $y'=1$. Another possibility is that learning algorithm being used is not effective given the model archetecture and the available data. Yet a third possibility is that archetecture of the model itstelf is not complex or flexible enough to capture the relevent patterns in the data. This last reason happens to be the case here.\n",
        "\n",
        "One reason for having a large, flexible brain is to produce complex behaviour that is contingent on the state of the world in complex ways. The simple strike-no-strike network we've been using, consists of a single layer of synaptic connections between the sensory inputs and the motor output. In a shallow network structure like this a sensory input either directly inhibits or promotes the striking behaviour, there is no possibility for a sensory input to promote striking in some sensory contexts, but inhibit it in others. This is a deficincy. Context is important, loud thumping and roaring noises at a concert means the band is good, similar noises when camping in the wilderness means a large animal is nearby. A shallow network does not allow for such context dependence.\n",
        "\n",
        "How do we allow for context dependence, or put another way, interactions between the inputs (beyond simply summing them together). As a starting point our current sensory-behavioural circuit is effectively equivalent to logistic regression, i.e. each sensory input element (feature in ML parlance) can either inhibit or potentiate striking behaviour to varying degrees, but there is no possibility for conditional interaction between features. By 'conditional interaction,' we mean a scenario where, for instance, feature 1 typically inhibits the behavior, except when feature 2 is positive, under which condition feature 1 becomes potentiating. These kinds of feature interactions are impossible in the current model. One way to allow for such interactions is to augment the base set of features with composite features, e.g. incorporate all the pairwise products of the existing feature set, so that instead of 65 features (bias included) we have $(\\frac{64 \\cdot 63}{2} + 64 + 64 + 1) = 2145$ features to work with. This could work, but what if we want something that depends on the interaction of more than 2 features, adding higher order polynomial terms will quickly make the problem intractable (Reference appendix section on why hidden layers not polynomials if we do that). If we had some mechanistically grounded understanding or hypothesis about the relationship between the features and label could might be able to cherry pick some small subset of higher order interaction terms, but the ML mindset is in large part about automating the feature selection processes based on the data alone. In turns out that instead of resorting the regression on polynomial terms to capture feature interactions, there is a much more compact and expressive way of allowing for feature interactions. The idea is to allow for feature interactions to emerge as needed in a 'hidden' computational layer of our highly abstracted neurons.\n",
        "\n",
        "Simply adding an additional layer to the network, consisting of some intermediate (hidden) neurons between the inputs and the outputs, allows for context dependent inhibition and promotion of striking are possible. There are theorems showing that a much as polynomials of arbitrarily high degree are a kind of universal function approximator (e.g. taylor series), simiarly networks with a singal (but potentially very large hidden layers) are a kind of universal function approximator. With this in mind, let's see if adding a hidden layer to our network improves performance.\n",
        "\n",
        "Our new strike-no-strike network with 1 hidden layer is structured as follows"
      ],
      "metadata": {
        "id": "u1lGLbkNVUj8"
      }
    },
    {
      "cell_type": "markdown",
      "source": [
        "As before $\\mathbf{x}$ is the raw sensory input (vector) in a given episode and each element of $\\mathbf{x}$ corresponds to the activation level and firing rate of a single photosensitive neuron.\n",
        "These input neurons are then connected by synapses to a 'hidden layer' of intermediate computational neurons, say 10 of them. The activation level of these hidden layer neurons is computed as\n",
        "$$\\mathbf{h} = \\sigma(\\mathbf{W}_{in} \\cdot \\mathbf{x})$$\n",
        "Now $\\mathbf{W}_{in}$ is a matrix of synaptic weights between the input neurons and the hidden layer neurons, and $\\cdot$ denotes standard matrix vector multiplication. (In this case $\\mathbf{W}$ has shape $10 \\times 65$. Each the values in the $i^{th}$ row of $\\mathbf{W}_{in}$ given the sign and strength of the connections coming into the $i^{th}$ element of $h$ and similarly each value in the $j^{th}$ column of $\\mathbf{W}_{in}$ corresponds to connection strengths coming out of the $j^{th}$ sensory input neuron.)  We still us $\\sigma$ to represent the standard logistic sigmoid function, but in this case applied elementwise the vector output of the product $\\mathbf{W}_{in} \\cdot \\mathbf{x}$. Then, much as before our striking probability is computed as\n",
        "$$a = \\mathbf{W}_{out} \\cdot \\mathbf{h}$$\n",
        "and\n",
        "$$ \\Pr \\{\\text{strike}\\} = \\sigma(a) $$\n",
        "$$ \\Pr \\{\\text{no strike}\\} = 1 - \\sigma(a)$$\n",
        "Here $\\mathbf{W}_{out}$ has shape $1  \\times 10$.\n"
      ],
      "metadata": {
        "id": "CvsVIoAvVNh0"
      }
    },
    {
      "cell_type": "markdown",
      "source": [
        "We will need to re-write a new eval params function for this new model, let's do it. To keep things quick and simple we will just use our expecation based evaluation"
      ],
      "metadata": {
        "id": "j9tt8sJofITF"
      }
    },
    {
      "cell_type": "code",
      "source": [
        "def eval_params_batch_expectation_hidden(W_in, W_out, x, y, verbose=False):\n",
        "  \"\"\"\n",
        "  evaluates parameters of simple behaviour circuit given inputs and target\n",
        "  outputs, use numpy broadcasting to be fast and concise\n",
        "  Args:\n",
        "    W_in: (hidden_neurons x inputs(65) np.array)\n",
        "           weights between sensory neurons and hidden layer neurons\n",
        "    W_out: (output(1) x hidden_neurons np.array)\n",
        "           weights between hidden layer neurons and output\n",
        "    x: (input(64) x batch np.array) sensory input\n",
        "       (can be single input, mini-batch of inputs or the whole batch of inputs)\n",
        "    y: (outputs(1) x batch np.array) target behavioural output\n",
        "       (can be a single target, mini-batch of targets, or whole batch),\n",
        "       needs to correspond to input\n",
        "\n",
        "  Returns:\n",
        "    R_exp: the average/expected total reward obtained given the parameters, over the\n",
        "           (mini-)batch of inputs and targets. (mini-batch could be size 1)\n",
        "  \"\"\"\n",
        "  # activation\n",
        "  h = np_sigmoid(np.dot(W_in,x)) # hidden_neurons x batch\n",
        "  # strike probability\n",
        "  y_hat = np_sigmoid(np.dot(W_out,h)) # 1 x batch\n",
        "  # Expected true positives (TPs) and false positives (FPs)\n",
        "  TPs = np.sum(y_hat * y)  # Sum of strike probabilities where true label is 1\n",
        "  FPs = np.sum(y_hat * (1 - y))  # Sum of strike probabilities where true label is 0\n",
        "  # Expected false negatives (FN_e) and true negatives (TN_e)\n",
        "  FNs = np.sum((1 - y_hat) * y)  # Sum of no strike probabilities where true label is 1\n",
        "  TNs = np.sum((1 - y_hat) * (1 - y))  # Sum of no strike probabilities where true label is 0\n",
        "  R_exp = 1 * TPs + 0 * FNs + -1 * FPs + 0 * TNs\n",
        "  confusion_matrix = np.array([[TPs, FNs], [FPs, TNs]])\n",
        "  if verbose:\n",
        "    table = [[\"Should Strike\", TPs, FNs],\n",
        "             [\"Shouldn't Strike\", FPs, TNs]]\n",
        "    headers = [\"\", \"Did Strike\", \"Didn't Strike\"]\n",
        "    print(\"Confusion_matrix: \")\n",
        "    print(tabulate(table, headers=headers, tablefmt=\"grid\"))\n",
        "    print(f'Total Reward: {R_exp}')\n",
        "    return None\n",
        "  else:\n",
        "    return R_exp, confusion_matrix\n"
      ],
      "metadata": {
        "id": "wequmEMQfJMp"
      },
      "execution_count": null,
      "outputs": []
    },
    {
      "cell_type": "markdown",
      "source": [
        "We've got a more complicated circuit with more parameters, how much longer does it take us to evaluate this circuit compared to our previous one?"
      ],
      "metadata": {
        "id": "Eiem7eE-fw8D"
      }
    },
    {
      "cell_type": "code",
      "source": [
        "W = np.zeros((1,65))\n",
        "%timeit eval_params_expectation_batch(W, Xs_aug.T, y1.T)"
      ],
      "metadata": {
        "id": "vyebIZ8Vf3bx"
      },
      "execution_count": null,
      "outputs": []
    },
    {
      "cell_type": "code",
      "source": [
        "W_in = np.zeros((10,65))\n",
        "W_out = np.zeros((1,10))\n",
        "%timeit eval_params_batch_expectation_hidden(W_in, W_out, Xs_aug.T, y1.T)"
      ],
      "metadata": {
        "id": "htd8pC1uf55M"
      },
      "execution_count": null,
      "outputs": []
    },
    {
      "cell_type": "markdown",
      "source": [
        "Roughly 5x longer per function evaluation, which means not only will we likely need more iterations of our algorithm because it is harder to find good parameters in high dimensions (we have 660 parameters now, which is a lot more than 65), but also each of those steps will take longer to process because function evaluations are also more costly. It will all be worth it if we can get better final performance though."
      ],
      "metadata": {
        "id": "Px0KZWgFgK1P"
      }
    },
    {
      "cell_type": "code",
      "source": [
        "# @title 10 Hidden Units - Perturb-Measure-Step Training Loop\n",
        "llearn_rng = np.random.default_rng(0)\n",
        "num_steps = 20000\n",
        "step_scale = 0.025\n",
        "perturbation_scale = 0.0001 # std of gaussian test perturbations\n",
        "num_hidden_units = 10\n",
        "# initializing both layers as zero leads to some issues, so we\n",
        "# use a Xavier/Glorot random initialization scheme\n",
        "in_init = np.sqrt(6 / (65 + num_hidden_units))\n",
        "W_in_init = learn_rng.uniform(-in_init, in_init, size=(num_hidden_units, 65))\n",
        "out_init = np.sqrt(6 / (10 + 1))\n",
        "W_out_init = learn_rng.uniform(-out_init, out_init, size=(1, num_hidden_units))\n",
        "flat_params = np.concatenate((W_in_init.flatten(), W_out_init.flatten()))\n",
        "dimensional_scale_factor = np.sqrt(len(flat_params))\n",
        "start_time = time.time()\n",
        "indices = np.arange(Xs_aug.shape[0])\n",
        "for step in range(num_steps):\n",
        "  W_in, W_out = np.split(flat_params, [65 * num_hidden_units])\n",
        "  W_in = W_in.reshape((num_hidden_units,65))\n",
        "  W_out = W_out.reshape((1,num_hidden_units))\n",
        "  R_current, _ = eval_params_batch_expectation_hidden(W_in, W_out, Xs_aug.T, y1.T)\n",
        "  raw_param_perturb = learn_rng.standard_normal(size=len(flat_params))\n",
        "  unit_param_perturb = raw_param_perturb / np.linalg.norm(raw_param_perturb.flatten())\n",
        "  test_perturbation = unit_param_perturb * perturbation_scale\n",
        "  perturbed_flat_params = flat_params + test_perturbation\n",
        "  W_in_test, W_out_test = np.split(perturbed_flat_params, [65 * num_hidden_units])\n",
        "  W_in_test = W_in_test.reshape((num_hidden_units,65))\n",
        "  W_out_test = W_out_test.reshape((1,num_hidden_units))\n",
        "  R_test, _ = eval_params_batch_expectation_hidden(W_in_test, W_out_test, Xs_aug.T, y1.T)\n",
        "  directional_grad_est = (R_test - R_current) / perturbation_scale\n",
        "  flat_params += step_scale * dimensional_scale_factor * directional_grad_est * unit_param_perturb\n",
        "\n",
        "  if step == 0 or (step + 1) % 1000 == 0:\n",
        "    elapsed_time = time.time() - start_time\n",
        "    print(f'Step {step + 1}/{num_steps} completed | Current Total Reward: {R_current:.6f} | Time elapsed: {elapsed_time:.2f} seconds')\n",
        "W_in, W_out = np.split(flat_params, [65 * num_hidden_units])\n",
        "W_in = W_in.reshape((num_hidden_units,65))\n",
        "W_out = W_out.reshape((1,num_hidden_units))\n",
        "eval_params_batch_expectation_hidden(W_in, W_out, Xs_aug.T, y1.T, verbose=True)\n"
      ],
      "metadata": {
        "id": "MDoAqfWghM--"
      },
      "execution_count": null,
      "outputs": []
    },
    {
      "cell_type": "markdown",
      "source": [
        "So this new, more complex circuit is great. We're much closer to the theoretical maximum performance of 2829, maybe with a few more hidden units, and a little longer training time we could have perfect discrimination. Let's see what happens when we go up to 20 hidden units. As a heads up this is going to take awhile (about 3 minutes) so you should read ahead while waiting for this training loop to complete"
      ],
      "metadata": {
        "id": "m4hKKsmKnjrD"
      }
    },
    {
      "cell_type": "code",
      "source": [
        "# @title 20 Hidden Units - Perturb-Measure-Step Training Loop\n",
        "learn_rng = np.random.default_rng(0)\n",
        "num_steps = 20000\n",
        "step_scale = 0.025\n",
        "perturbation_scale = 0.0001 # std of gaussian test perturbations\n",
        "num_hidden_units = 20\n",
        "# initializing both layers as zero leads to some issues, so we\n",
        "# use a Xavier/Glorot random initialization scheme\n",
        "in_init = np.sqrt(6 / (65 + num_hidden_units))\n",
        "W_in_init = learn_rng.uniform(-in_init, in_init, size=(num_hidden_units, 65))\n",
        "out_init = np.sqrt(6 / (10 + 1))\n",
        "W_out_init = learn_rng.uniform(-out_init, out_init, size=(1, num_hidden_units))\n",
        "flat_params = np.concatenate((W_in_init.flatten(), W_out_init.flatten()))\n",
        "dimensional_scale_factor = np.sqrt(len(flat_params))\n",
        "start_time = time.time()\n",
        "indices = np.arange(Xs_aug.shape[0])\n",
        "for step in range(num_steps):\n",
        "  W_in, W_out = np.split(flat_params, [65 * num_hidden_units])\n",
        "  W_in = W_in.reshape((num_hidden_units,65))\n",
        "  W_out = W_out.reshape((1,num_hidden_units))\n",
        "  R_current, _ = eval_params_batch_expectation_hidden(W_in, W_out, Xs_aug.T, y1.T)\n",
        "  raw_param_perturb = learn_rng.standard_normal(size=len(flat_params))\n",
        "  unit_param_perturb = raw_param_perturb / np.linalg.norm(raw_param_perturb.flatten())\n",
        "  test_perturbation = unit_param_perturb * perturbation_scale\n",
        "  perturbed_flat_params = flat_params + test_perturbation\n",
        "  W_in_test, W_out_test = np.split(perturbed_flat_params, [65 * num_hidden_units])\n",
        "  W_in_test = W_in_test.reshape((num_hidden_units,65))\n",
        "  W_out_test = W_out_test.reshape((1,num_hidden_units))\n",
        "  R_test, _ = eval_params_batch_expectation_hidden(W_in_test, W_out_test, Xs_aug.T, y1.T)\n",
        "  directional_grad_est = (R_test - R_current) / perturbation_scale\n",
        "  flat_params += step_scale * dimensional_scale_factor * directional_grad_est * unit_param_perturb\n",
        "\n",
        "  if step == 0 or (step + 1) % 1000 == 0:\n",
        "    elapsed_time = time.time() - start_time\n",
        "    print(f'Step {step + 1}/{num_steps} completed | Current Total Reward: {R_current:.6f} | Time elapsed: {elapsed_time:.2f} seconds')\n",
        "W_in, W_out = np.split(flat_params, [65 * num_hidden_units])\n",
        "W_in = W_in.reshape((num_hidden_units,65))\n",
        "W_out = W_out.reshape((1,num_hidden_units))\n",
        "eval_params_batch_expectation_hidden(W_in, W_out, Xs_aug.T, y1.T, verbose=True)"
      ],
      "metadata": {
        "id": "LV67Oyy1nxSi"
      },
      "execution_count": null,
      "outputs": []
    },
    {
      "cell_type": "markdown",
      "source": [
        "This more complex circuit gets us even closer to the theoretical maximum performance of 2829, but it's taking longer to get there. This is a consequence of both, the function evaluations required at each step being slower (for the more complex function) and because more iterations are needed to effectively search the higher dimensional space for a good configuration of $\\mathbf{W}_{in}$ and $\\mathbf{W}_{out}$. With even more hidden units and more time we can likely learn perfect discrimination, but it will take even longer (more than 3 minutes!)."
      ],
      "metadata": {
        "id": "DoYe61pfdTzu"
      }
    },
    {
      "cell_type": "markdown",
      "source": [
        "Although the toy neural circuit models in this sequence are a far cry from actual neural circuits, they still provide insight into possible mechanisms of synaptic plasticity the brain. We can imagine a scenario where synaptic strengths between neurons in a circuit undergo small, transient perturbations. The brain might integrate and compare the performance of these perturbations over a learning episode (for example, a day) to previous performance levels. (We leave aside the specifics of how this integration and comparison occur for now.)\n",
        "\n",
        "If performance improves with a perturbation, synaptic changes could be consolidated in the direction of the perturbation, proportionate to the degree of improvement. Conversely, if performance worsens, changes might be consolidated in the opposite direction, also proportional to the performance decrease. This concept, while still vague, suggests a mechanism of synaptic adjustment based on performance feedback.\n",
        "\n",
        "One critical point to consider is the scalability of such a learning process. The number of learning episodes required for effective optimization grows with the number of parameters in a neural circuit. This implies that 'perturb-measure-step' plasticity cannot be the primary mechanism driving neural plasticity in large, complex neural circuits that learn rapidly. This limitation is critical, the lifetimes of most animals simply aren't long enough to accommodate the number of learning iterations needed for extensive optimization.\n",
        "\n",
        "However, as demonstrated above, a more complex circuit achieved significantly better performance in the discrimination task, so large complex circuits can be useful. This suggests that even if empirical evidence of perturbation-based learning in the brain exists and its physiological implementation is understood, such processes are unlikely to be the primary drivers of neural plasticity for complex and challenging behaviors.\n",
        "\n",
        "(One counterargument in favor of simple learning rules is that extensive learning might not be necessary if genetic predisposition starts the circuit off close to an optimal parameter configuration. Then subsequently, relatively slow learning processes could 'fine-tune' the neural circuit's configuration. However, as noted in our earlier discussions on evolution, changing environments necessitate that a significant portion of behavior must emerge from learning, thereby limiting the extent to which genetic predispositions can facilitate efficient and adaptive learning.)"
      ],
      "metadata": {
        "id": "4s0X34-jgHZ2"
      }
    },
    {
      "cell_type": "markdown",
      "source": [
        "In this sequence we looked at how a simple neural circuit, and then a slightly more complex one were able to solve the strike-no-strike discrimination problem, when trained using perturb-measure-step. We found that several of the \"unrealistic\" aspects of perturb-measure-step (full batch learning, a seperate perturbation mode, used expected instead of actual reward to inform learning) could be mitigated, but only at the cost of slowing down learning (though using mini-batches in isolation, when evaluating the perturbation and current parameters on the same mini-batch was actually a speed up). Additionally we saw that using a more complex network (with hidden layers of increasing size) allowed for better perfomance on the discrimination task, but this extra performance came at a cost, function evaluation was more complex and there were more parameters to be optimized, and searching higher-dimensional spaces for good parameter configurations is always harder (more places to look, more directions to try, in addition to more compute required to for each test point evaluation).\n",
        "\n",
        "In the next sequence we will introduce a different perspective on neural plasticity, one in which synaptic plasticity is driven between a mismatch between an expectation or prediction about reward, and the actual recieved reward."
      ],
      "metadata": {
        "id": "B-UDcsvvhF9V"
      }
    },
    {
      "cell_type": "markdown",
      "source": [
        "# E-Phys/Neuro Box\n",
        "Neuroscientists have long conceptualized the learning process of neurons in terms of perturb, measure, step (cites). Synapses do not always produce an influence on the post-synaptic neuron if a spike comes in. In fact, they only produce a respose in about 50%% of all cases (cites, have figure element). We also know that there are mechanisms that can broadcast reward to all neurons, e.g. through Dopamine (cites). A neuron can then use a rule where learning is both proportional to rewards and proportional to the transmission at that point of time. The effect is that synapses whose existence helps make rewards higher gets consistently strengthened and those whose existence make rewards lower get consistently weakened. This way, single synapses can biophysically implement a global optimization algorithm.\n",
        "\n",
        "[insert pictuere from fiete paper around here].\n",
        "\n",
        "In our simple model of behaviour the pre-synaptic activity for synapse $W_i$ is $x_i$ and the post synaptic activity is $a = \\sum_i {W_i}$. We do not explicitly model spiking behaviour here though how stochastic spiking behaviour creates the perturbations necissary for perturb, measure, step has been extensively studied in (cites).\n"
      ],
      "metadata": {
        "id": "aMtVQ6srXmn8"
      }
    },
    {
      "cell_type": "code",
      "source": [
        "# @markdown Run this cell to display the box\n",
        "%%html\n",
        "<div style=\"background-color: #f2f2f2; border: 1px solid #d3d3d3; padding: 10px;\">\n",
        "    <p style=\"color: #333;\"> Neuroscientists have long conceptualized *the* the learning process of neurons in terms of perturb, measure, step (cites). Synapses do not always produce an influence on the post-synaptic neuron if a spike comes in. In fact, they only produce a respose in about 50%% of all cases (cites, have figure element). We also know that there are mechanisms that can broadcast reward to all neurons, e.g. through Dopamine (cites). A neuron can then use a synaptic plasticity rule where strengthening (weakening if reward is negative) of the synaptic connection is both proportional to rewards and proportional to the transmission at that point in time. The effect is that synapses whose existence helps make rewards higher gets consistently strengthened and those whose existence make rewards lower get consistently weakened. This way, single synapses can biophysically implement a global optimization algorithm.\n",
        "\n",
        "[insert pictuere from fiete paper around here].</p>\n",
        "</div>\n",
        "\n",
        "\n"
      ],
      "metadata": {
        "cellView": "form",
        "id": "1BKhllEEXtcY",
        "outputId": "ca7e876f-bd56-4fe5-fd3e-f1e4307cdbc2",
        "colab": {
          "base_uri": "https://localhost:8080/",
          "height": 120
        }
      },
      "execution_count": 2,
      "outputs": [
        {
          "output_type": "display_data",
          "data": {
            "text/plain": [
              "<IPython.core.display.HTML object>"
            ],
            "text/html": [
              "<div style=\"background-color: #f2f2f2; border: 1px solid #d3d3d3; padding: 10px;\">\n",
              "    <p style=\"color: #333;\"> Neuroscientists have long conceptualized *the* the learning process of neurons in terms of perturb, measure, step (cites). Synapses do not always produce an influence on the post-synaptic neuron if a spike comes in. In fact, they only produce a respose in about 50%% of all cases (cites, have figure element). We also know that there are mechanisms that can broadcast reward to all neurons, e.g. through Dopamine (cites). A neuron can then use a rule where learning is both proportional to rewards and proportional to the transmission at that point of time. The effect is that synapses whose existence helps make rewards higher gets consistently strengthened and those whose existence make rewards lower get consistently weakened. This way, single synapses can biophysically implement a global optimization algorithm.\n",
              "\n",
              "[insert pictuere from fiete paper around here].</p>\n",
              "</div>\n",
              "\n",
              "\n"
            ]
          },
          "metadata": {}
        }
      ]
    }
  ],
  "metadata": {
    "colab": {
      "machine_shape": "hm",
      "name": "P2C1_Sequence4",
      "provenance": [],
      "toc_visible": true,
      "include_colab_link": true
    },
    "kernel": {
      "display_name": "Python 3",
      "language": "python",
      "name": "python3"
    },
    "kernelspec": {
      "display_name": "Python 3",
      "name": "python3"
    },
    "language_info": {
      "codemirror_mode": {
        "name": "ipython",
        "version": 3
      },
      "file_extension": ".py",
      "mimetype": "text/x-python",
      "name": "python",
      "nbconvert_exporter": "python",
      "pygments_lexer": "ipython3",
      "version": "3.9.18"
    },
    "widgets": {
      "application/vnd.jupyter.widget-state+json": {
        "32423c292b4646988c79db5bc7ccbc17": {
          "model_module": "@jupyter-widgets/controls",
          "model_name": "HBoxModel",
          "model_module_version": "1.5.0",
          "state": {
            "_dom_classes": [],
            "_model_module": "@jupyter-widgets/controls",
            "_model_module_version": "1.5.0",
            "_model_name": "HBoxModel",
            "_view_count": null,
            "_view_module": "@jupyter-widgets/controls",
            "_view_module_version": "1.5.0",
            "_view_name": "HBoxView",
            "box_style": "",
            "children": [
              "IPY_MODEL_2f8080ed4ddd41b993bf343b2d2a6fcf",
              "IPY_MODEL_8d4f04362ab142388c5358e0e72c63c3",
              "IPY_MODEL_50b9c9ccf8684df995206a1d0f829966"
            ],
            "layout": "IPY_MODEL_707a3be2f80b4a57b199a82b57d677ce"
          }
        },
        "2f8080ed4ddd41b993bf343b2d2a6fcf": {
          "model_module": "@jupyter-widgets/controls",
          "model_name": "VBoxModel",
          "model_module_version": "1.5.0",
          "state": {
            "_dom_classes": [],
            "_model_module": "@jupyter-widgets/controls",
            "_model_module_version": "1.5.0",
            "_model_name": "VBoxModel",
            "_view_count": null,
            "_view_module": "@jupyter-widgets/controls",
            "_view_module_version": "1.5.0",
            "_view_name": "VBoxView",
            "box_style": "",
            "children": [
              "IPY_MODEL_274c3692bbc448708078e9e883ed04f9",
              "IPY_MODEL_f35b0b7920a24a959455407e3ab739d9"
            ],
            "layout": "IPY_MODEL_cbf7108771df474a936715176b800300"
          }
        },
        "8d4f04362ab142388c5358e0e72c63c3": {
          "model_module": "@jupyter-widgets/controls",
          "model_name": "VBoxModel",
          "model_module_version": "1.5.0",
          "state": {
            "_dom_classes": [],
            "_model_module": "@jupyter-widgets/controls",
            "_model_module_version": "1.5.0",
            "_model_name": "VBoxModel",
            "_view_count": null,
            "_view_module": "@jupyter-widgets/controls",
            "_view_module_version": "1.5.0",
            "_view_name": "VBoxView",
            "box_style": "",
            "children": [
              "IPY_MODEL_bcede1cf3fe945d1b6e416b2be2de0ab",
              "IPY_MODEL_a21ee67e278a4741b7f3225fa706dfd1"
            ],
            "layout": "IPY_MODEL_0643297da2774b3a86d871aa71b05a79"
          }
        },
        "50b9c9ccf8684df995206a1d0f829966": {
          "model_module": "@jupyter-widgets/output",
          "model_name": "OutputModel",
          "model_module_version": "1.0.0",
          "state": {
            "_dom_classes": [],
            "_model_module": "@jupyter-widgets/output",
            "_model_module_version": "1.0.0",
            "_model_name": "OutputModel",
            "_view_count": null,
            "_view_module": "@jupyter-widgets/output",
            "_view_module_version": "1.0.0",
            "_view_name": "OutputView",
            "layout": "IPY_MODEL_d3b1e37cec22401292e8ffa764c00097",
            "msg_id": "",
            "outputs": []
          }
        },
        "707a3be2f80b4a57b199a82b57d677ce": {
          "model_module": "@jupyter-widgets/base",
          "model_name": "LayoutModel",
          "model_module_version": "1.2.0",
          "state": {
            "_model_module": "@jupyter-widgets/base",
            "_model_module_version": "1.2.0",
            "_model_name": "LayoutModel",
            "_view_count": null,
            "_view_module": "@jupyter-widgets/base",
            "_view_module_version": "1.2.0",
            "_view_name": "LayoutView",
            "align_content": null,
            "align_items": null,
            "align_self": null,
            "border": null,
            "bottom": null,
            "display": null,
            "flex": null,
            "flex_flow": null,
            "grid_area": null,
            "grid_auto_columns": null,
            "grid_auto_flow": null,
            "grid_auto_rows": null,
            "grid_column": null,
            "grid_gap": null,
            "grid_row": null,
            "grid_template_areas": null,
            "grid_template_columns": null,
            "grid_template_rows": null,
            "height": null,
            "justify_content": null,
            "justify_items": null,
            "left": null,
            "margin": null,
            "max_height": null,
            "max_width": null,
            "min_height": null,
            "min_width": null,
            "object_fit": null,
            "object_position": null,
            "order": null,
            "overflow": null,
            "overflow_x": null,
            "overflow_y": null,
            "padding": null,
            "right": null,
            "top": null,
            "visibility": null,
            "width": null
          }
        },
        "274c3692bbc448708078e9e883ed04f9": {
          "model_module": "jupyter-matplotlib",
          "model_name": "MPLCanvasModel",
          "model_module_version": "^0.11",
          "state": {
            "_cursor": "default",
            "_data_url": "data:image/png;base64,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",
            "_dom_classes": [],
            "_figure_label": "Figure 2",
            "_image_mode": "full",
            "_message": "",
            "_model_module": "jupyter-matplotlib",
            "_model_module_version": "^0.11",
            "_model_name": "MPLCanvasModel",
            "_rubberband_height": 0,
            "_rubberband_width": 0,
            "_rubberband_x": 0,
            "_rubberband_y": 0,
            "_size": [
              400,
              400
            ],
            "_view_count": null,
            "_view_module": "jupyter-matplotlib",
            "_view_module_version": "^0.11",
            "_view_name": "MPLCanvasView",
            "capture_scroll": false,
            "footer_visible": false,
            "header_visible": false,
            "layout": "IPY_MODEL_006eee3f375446ba9f54c023a978688e",
            "pan_zoom_throttle": 33,
            "resizable": false,
            "toolbar": "IPY_MODEL_1cd6442244194e6c96e6ddcf15ac1708",
            "toolbar_position": "left",
            "toolbar_visible": false
          }
        },
        "f35b0b7920a24a959455407e3ab739d9": {
          "model_module": "@jupyter-widgets/output",
          "model_name": "OutputModel",
          "model_module_version": "1.0.0",
          "state": {
            "_dom_classes": [],
            "_model_module": "@jupyter-widgets/output",
            "_model_module_version": "1.0.0",
            "_model_name": "OutputModel",
            "_view_count": null,
            "_view_module": "@jupyter-widgets/output",
            "_view_module_version": "1.0.0",
            "_view_name": "OutputView",
            "layout": "IPY_MODEL_8cd44f985a544a098349c325fa2a166a",
            "msg_id": "",
            "outputs": []
          }
        },
        "cbf7108771df474a936715176b800300": {
          "model_module": "@jupyter-widgets/base",
          "model_name": "LayoutModel",
          "model_module_version": "1.2.0",
          "state": {
            "_model_module": "@jupyter-widgets/base",
            "_model_module_version": "1.2.0",
            "_model_name": "LayoutModel",
            "_view_count": null,
            "_view_module": "@jupyter-widgets/base",
            "_view_module_version": "1.2.0",
            "_view_name": "LayoutView",
            "align_content": null,
            "align_items": null,
            "align_self": null,
            "border": null,
            "bottom": null,
            "display": null,
            "flex": null,
            "flex_flow": null,
            "grid_area": null,
            "grid_auto_columns": null,
            "grid_auto_flow": null,
            "grid_auto_rows": null,
            "grid_column": null,
            "grid_gap": null,
            "grid_row": null,
            "grid_template_areas": null,
            "grid_template_columns": null,
            "grid_template_rows": null,
            "height": null,
            "justify_content": null,
            "justify_items": null,
            "left": null,
            "margin": null,
            "max_height": null,
            "max_width": null,
            "min_height": null,
            "min_width": null,
            "object_fit": null,
            "object_position": null,
            "order": null,
            "overflow": null,
            "overflow_x": null,
            "overflow_y": null,
            "padding": null,
            "right": null,
            "top": null,
            "visibility": null,
            "width": null
          }
        },
        "bcede1cf3fe945d1b6e416b2be2de0ab": {
          "model_module": "jupyter-matplotlib",
          "model_name": "MPLCanvasModel",
          "model_module_version": "^0.11",
          "state": {
            "_cursor": "default",
            "_data_url": "data:image/png;base64,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",
            "_dom_classes": [],
            "_figure_label": "Figure 1",
            "_image_mode": "full",
            "_message": "",
            "_model_module": "jupyter-matplotlib",
            "_model_module_version": "^0.11",
            "_model_name": "MPLCanvasModel",
            "_rubberband_height": 0,
            "_rubberband_width": 0,
            "_rubberband_x": 0,
            "_rubberband_y": 0,
            "_size": [
              400,
              400
            ],
            "_view_count": null,
            "_view_module": "jupyter-matplotlib",
            "_view_module_version": "^0.11",
            "_view_name": "MPLCanvasView",
            "capture_scroll": false,
            "footer_visible": false,
            "header_visible": false,
            "layout": "IPY_MODEL_ce38e031b8a64a33a42cdfc5e9a71de6",
            "pan_zoom_throttle": 33,
            "resizable": false,
            "toolbar": "IPY_MODEL_12d846ed76ec438cabe0768b3c473704",
            "toolbar_position": "left",
            "toolbar_visible": false
          }
        },
        "a21ee67e278a4741b7f3225fa706dfd1": {
          "model_module": "@jupyter-widgets/controls",
          "model_name": "HBoxModel",
          "model_module_version": "1.5.0",
          "state": {
            "_dom_classes": [],
            "_model_module": "@jupyter-widgets/controls",
            "_model_module_version": "1.5.0",
            "_model_name": "HBoxModel",
            "_view_count": null,
            "_view_module": "@jupyter-widgets/controls",
            "_view_module_version": "1.5.0",
            "_view_name": "HBoxView",
            "box_style": "",
            "children": [
              "IPY_MODEL_073c3a2b65a145e0afe2b7cb5a28900b",
              "IPY_MODEL_d9d4f672555a4245a808c9477bcefb09"
            ],
            "layout": "IPY_MODEL_cc75f3e58bc34647876b1c95cb2af48e"
          }
        },
        "0643297da2774b3a86d871aa71b05a79": {
          "model_module": "@jupyter-widgets/base",
          "model_name": "LayoutModel",
          "model_module_version": "1.2.0",
          "state": {
            "_model_module": "@jupyter-widgets/base",
            "_model_module_version": "1.2.0",
            "_model_name": "LayoutModel",
            "_view_count": null,
            "_view_module": "@jupyter-widgets/base",
            "_view_module_version": "1.2.0",
            "_view_name": "LayoutView",
            "align_content": null,
            "align_items": null,
            "align_self": null,
            "border": null,
            "bottom": null,
            "display": null,
            "flex": null,
            "flex_flow": null,
            "grid_area": null,
            "grid_auto_columns": null,
            "grid_auto_flow": null,
            "grid_auto_rows": null,
            "grid_column": null,
            "grid_gap": null,
            "grid_row": null,
            "grid_template_areas": null,
            "grid_template_columns": null,
            "grid_template_rows": null,
            "height": null,
            "justify_content": null,
            "justify_items": null,
            "left": null,
            "margin": null,
            "max_height": null,
            "max_width": null,
            "min_height": null,
            "min_width": null,
            "object_fit": null,
            "object_position": null,
            "order": null,
            "overflow": null,
            "overflow_x": null,
            "overflow_y": null,
            "padding": null,
            "right": null,
            "top": null,
            "visibility": null,
            "width": null
          }
        },
        "d3b1e37cec22401292e8ffa764c00097": {
          "model_module": "@jupyter-widgets/base",
          "model_name": "LayoutModel",
          "model_module_version": "1.2.0",
          "state": {
            "_model_module": "@jupyter-widgets/base",
            "_model_module_version": "1.2.0",
            "_model_name": "LayoutModel",
            "_view_count": null,
            "_view_module": "@jupyter-widgets/base",
            "_view_module_version": "1.2.0",
            "_view_name": "LayoutView",
            "align_content": null,
            "align_items": null,
            "align_self": null,
            "border": null,
            "bottom": null,
            "display": null,
            "flex": null,
            "flex_flow": null,
            "grid_area": null,
            "grid_auto_columns": null,
            "grid_auto_flow": null,
            "grid_auto_rows": null,
            "grid_column": null,
            "grid_gap": null,
            "grid_row": null,
            "grid_template_areas": null,
            "grid_template_columns": null,
            "grid_template_rows": null,
            "height": null,
            "justify_content": null,
            "justify_items": null,
            "left": null,
            "margin": null,
            "max_height": null,
            "max_width": null,
            "min_height": null,
            "min_width": null,
            "object_fit": null,
            "object_position": null,
            "order": null,
            "overflow": null,
            "overflow_x": null,
            "overflow_y": null,
            "padding": null,
            "right": null,
            "top": null,
            "visibility": null,
            "width": null
          }
        },
        "8cd44f985a544a098349c325fa2a166a": {
          "model_module": "@jupyter-widgets/base",
          "model_name": "LayoutModel",
          "model_module_version": "1.2.0",
          "state": {
            "_model_module": "@jupyter-widgets/base",
            "_model_module_version": "1.2.0",
            "_model_name": "LayoutModel",
            "_view_count": null,
            "_view_module": "@jupyter-widgets/base",
            "_view_module_version": "1.2.0",
            "_view_name": "LayoutView",
            "align_content": null,
            "align_items": null,
            "align_self": null,
            "border": null,
            "bottom": null,
            "display": null,
            "flex": null,
            "flex_flow": null,
            "grid_area": null,
            "grid_auto_columns": null,
            "grid_auto_flow": null,
            "grid_auto_rows": null,
            "grid_column": null,
            "grid_gap": null,
            "grid_row": null,
            "grid_template_areas": null,
            "grid_template_columns": null,
            "grid_template_rows": null,
            "height": null,
            "justify_content": null,
            "justify_items": null,
            "left": null,
            "margin": null,
            "max_height": null,
            "max_width": null,
            "min_height": null,
            "min_width": null,
            "object_fit": null,
            "object_position": null,
            "order": null,
            "overflow": null,
            "overflow_x": null,
            "overflow_y": null,
            "padding": null,
            "right": null,
            "top": null,
            "visibility": null,
            "width": null
          }
        },
        "073c3a2b65a145e0afe2b7cb5a28900b": {
          "model_module": "@jupyter-widgets/controls",
          "model_name": "ButtonModel",
          "model_module_version": "1.5.0",
          "state": {
            "_dom_classes": [],
            "_model_module": "@jupyter-widgets/controls",
            "_model_module_version": "1.5.0",
            "_model_name": "ButtonModel",
            "_view_count": null,
            "_view_module": "@jupyter-widgets/controls",
            "_view_module_version": "1.5.0",
            "_view_name": "ButtonView",
            "button_style": "",
            "description": "Strike",
            "disabled": false,
            "icon": "",
            "layout": "IPY_MODEL_3444490224e34fb5b515f81523fde249",
            "style": "IPY_MODEL_1fb25406e2af43bfac7964b1245744e5",
            "tooltip": ""
          }
        },
        "d9d4f672555a4245a808c9477bcefb09": {
          "model_module": "@jupyter-widgets/controls",
          "model_name": "ButtonModel",
          "model_module_version": "1.5.0",
          "state": {
            "_dom_classes": [],
            "_model_module": "@jupyter-widgets/controls",
            "_model_module_version": "1.5.0",
            "_model_name": "ButtonModel",
            "_view_count": null,
            "_view_module": "@jupyter-widgets/controls",
            "_view_module_version": "1.5.0",
            "_view_name": "ButtonView",
            "button_style": "",
            "description": "No Strike",
            "disabled": false,
            "icon": "",
            "layout": "IPY_MODEL_c0a74fb5abe645e0a6277aaae8083d7a",
            "style": "IPY_MODEL_309323f9149c499cb28b447026471379",
            "tooltip": ""
          }
        },
        "cc75f3e58bc34647876b1c95cb2af48e": {
          "model_module": "@jupyter-widgets/base",
          "model_name": "LayoutModel",
          "model_module_version": "1.2.0",
          "state": {
            "_model_module": "@jupyter-widgets/base",
            "_model_module_version": "1.2.0",
            "_model_name": "LayoutModel",
            "_view_count": null,
            "_view_module": "@jupyter-widgets/base",
            "_view_module_version": "1.2.0",
            "_view_name": "LayoutView",
            "align_content": null,
            "align_items": null,
            "align_self": null,
            "border": null,
            "bottom": null,
            "display": null,
            "flex": null,
            "flex_flow": null,
            "grid_area": null,
            "grid_auto_columns": null,
            "grid_auto_flow": null,
            "grid_auto_rows": null,
            "grid_column": null,
            "grid_gap": null,
            "grid_row": null,
            "grid_template_areas": null,
            "grid_template_columns": null,
            "grid_template_rows": null,
            "height": null,
            "justify_content": null,
            "justify_items": null,
            "left": null,
            "margin": null,
            "max_height": null,
            "max_width": null,
            "min_height": null,
            "min_width": null,
            "object_fit": null,
            "object_position": null,
            "order": null,
            "overflow": null,
            "overflow_x": null,
            "overflow_y": null,
            "padding": null,
            "right": null,
            "top": null,
            "visibility": null,
            "width": null
          }
        },
        "3444490224e34fb5b515f81523fde249": {
          "model_module": "@jupyter-widgets/base",
          "model_name": "LayoutModel",
          "model_module_version": "1.2.0",
          "state": {
            "_model_module": "@jupyter-widgets/base",
            "_model_module_version": "1.2.0",
            "_model_name": "LayoutModel",
            "_view_count": null,
            "_view_module": "@jupyter-widgets/base",
            "_view_module_version": "1.2.0",
            "_view_name": "LayoutView",
            "align_content": null,
            "align_items": null,
            "align_self": null,
            "border": null,
            "bottom": null,
            "display": null,
            "flex": null,
            "flex_flow": null,
            "grid_area": null,
            "grid_auto_columns": null,
            "grid_auto_flow": null,
            "grid_auto_rows": null,
            "grid_column": null,
            "grid_gap": null,
            "grid_row": null,
            "grid_template_areas": null,
            "grid_template_columns": null,
            "grid_template_rows": null,
            "height": null,
            "justify_content": null,
            "justify_items": null,
            "left": null,
            "margin": null,
            "max_height": null,
            "max_width": null,
            "min_height": null,
            "min_width": null,
            "object_fit": null,
            "object_position": null,
            "order": null,
            "overflow": null,
            "overflow_x": null,
            "overflow_y": null,
            "padding": null,
            "right": null,
            "top": null,
            "visibility": null,
            "width": null
          }
        },
        "1fb25406e2af43bfac7964b1245744e5": {
          "model_module": "@jupyter-widgets/controls",
          "model_name": "ButtonStyleModel",
          "model_module_version": "1.5.0",
          "state": {
            "_model_module": "@jupyter-widgets/controls",
            "_model_module_version": "1.5.0",
            "_model_name": "ButtonStyleModel",
            "_view_count": null,
            "_view_module": "@jupyter-widgets/base",
            "_view_module_version": "1.2.0",
            "_view_name": "StyleView",
            "button_color": null,
            "font_weight": ""
          }
        },
        "c0a74fb5abe645e0a6277aaae8083d7a": {
          "model_module": "@jupyter-widgets/base",
          "model_name": "LayoutModel",
          "model_module_version": "1.2.0",
          "state": {
            "_model_module": "@jupyter-widgets/base",
            "_model_module_version": "1.2.0",
            "_model_name": "LayoutModel",
            "_view_count": null,
            "_view_module": "@jupyter-widgets/base",
            "_view_module_version": "1.2.0",
            "_view_name": "LayoutView",
            "align_content": null,
            "align_items": null,
            "align_self": null,
            "border": null,
            "bottom": null,
            "display": null,
            "flex": null,
            "flex_flow": null,
            "grid_area": null,
            "grid_auto_columns": null,
            "grid_auto_flow": null,
            "grid_auto_rows": null,
            "grid_column": null,
            "grid_gap": null,
            "grid_row": null,
            "grid_template_areas": null,
            "grid_template_columns": null,
            "grid_template_rows": null,
            "height": null,
            "justify_content": null,
            "justify_items": null,
            "left": null,
            "margin": null,
            "max_height": null,
            "max_width": null,
            "min_height": null,
            "min_width": null,
            "object_fit": null,
            "object_position": null,
            "order": null,
            "overflow": null,
            "overflow_x": null,
            "overflow_y": null,
            "padding": null,
            "right": null,
            "top": null,
            "visibility": null,
            "width": null
          }
        },
        "309323f9149c499cb28b447026471379": {
          "model_module": "@jupyter-widgets/controls",
          "model_name": "ButtonStyleModel",
          "model_module_version": "1.5.0",
          "state": {
            "_model_module": "@jupyter-widgets/controls",
            "_model_module_version": "1.5.0",
            "_model_name": "ButtonStyleModel",
            "_view_count": null,
            "_view_module": "@jupyter-widgets/base",
            "_view_module_version": "1.2.0",
            "_view_name": "StyleView",
            "button_color": null,
            "font_weight": ""
          }
        },
        "006eee3f375446ba9f54c023a978688e": {
          "model_module": "@jupyter-widgets/base",
          "model_name": "LayoutModel",
          "model_module_version": "1.2.0",
          "state": {
            "_model_module": "@jupyter-widgets/base",
            "_model_module_version": "1.2.0",
            "_model_name": "LayoutModel",
            "_view_count": null,
            "_view_module": "@jupyter-widgets/base",
            "_view_module_version": "1.2.0",
            "_view_name": "LayoutView",
            "align_content": null,
            "align_items": null,
            "align_self": null,
            "border": null,
            "bottom": null,
            "display": null,
            "flex": null,
            "flex_flow": null,
            "grid_area": null,
            "grid_auto_columns": null,
            "grid_auto_flow": null,
            "grid_auto_rows": null,
            "grid_column": null,
            "grid_gap": null,
            "grid_row": null,
            "grid_template_areas": null,
            "grid_template_columns": null,
            "grid_template_rows": null,
            "height": null,
            "justify_content": null,
            "justify_items": null,
            "left": null,
            "margin": null,
            "max_height": null,
            "max_width": null,
            "min_height": null,
            "min_width": null,
            "object_fit": null,
            "object_position": null,
            "order": null,
            "overflow": null,
            "overflow_x": null,
            "overflow_y": null,
            "padding": null,
            "right": null,
            "top": null,
            "visibility": null,
            "width": null
          }
        },
        "1cd6442244194e6c96e6ddcf15ac1708": {
          "model_module": "jupyter-matplotlib",
          "model_name": "ToolbarModel",
          "model_module_version": "^0.11",
          "state": {
            "_current_action": "",
            "_dom_classes": [],
            "_model_module": "jupyter-matplotlib",
            "_model_module_version": "^0.11",
            "_model_name": "ToolbarModel",
            "_view_count": null,
            "_view_module": "jupyter-matplotlib",
            "_view_module_version": "^0.11",
            "_view_name": "ToolbarView",
            "button_style": "",
            "collapsed": true,
            "layout": "IPY_MODEL_19e347f3ab194919862505313398d80e",
            "orientation": "vertical",
            "toolitems": [
              [
                "Home",
                "Reset original view",
                "home",
                "home"
              ],
              [
                "Back",
                "Back to previous view",
                "arrow-left",
                "back"
              ],
              [
                "Forward",
                "Forward to next view",
                "arrow-right",
                "forward"
              ],
              [
                "Pan",
                "Left button pans, Right button zooms\nx/y fixes axis, CTRL fixes aspect",
                "arrows",
                "pan"
              ],
              [
                "Zoom",
                "Zoom to rectangle\nx/y fixes axis",
                "square-o",
                "zoom"
              ],
              [
                "Download",
                "Download plot",
                "floppy-o",
                "save_figure"
              ]
            ]
          }
        },
        "ce38e031b8a64a33a42cdfc5e9a71de6": {
          "model_module": "@jupyter-widgets/base",
          "model_name": "LayoutModel",
          "model_module_version": "1.2.0",
          "state": {
            "_model_module": "@jupyter-widgets/base",
            "_model_module_version": "1.2.0",
            "_model_name": "LayoutModel",
            "_view_count": null,
            "_view_module": "@jupyter-widgets/base",
            "_view_module_version": "1.2.0",
            "_view_name": "LayoutView",
            "align_content": null,
            "align_items": null,
            "align_self": null,
            "border": null,
            "bottom": null,
            "display": null,
            "flex": null,
            "flex_flow": null,
            "grid_area": null,
            "grid_auto_columns": null,
            "grid_auto_flow": null,
            "grid_auto_rows": null,
            "grid_column": null,
            "grid_gap": null,
            "grid_row": null,
            "grid_template_areas": null,
            "grid_template_columns": null,
            "grid_template_rows": null,
            "height": null,
            "justify_content": null,
            "justify_items": null,
            "left": null,
            "margin": null,
            "max_height": null,
            "max_width": null,
            "min_height": null,
            "min_width": null,
            "object_fit": null,
            "object_position": null,
            "order": null,
            "overflow": null,
            "overflow_x": null,
            "overflow_y": null,
            "padding": null,
            "right": null,
            "top": null,
            "visibility": null,
            "width": null
          }
        },
        "12d846ed76ec438cabe0768b3c473704": {
          "model_module": "jupyter-matplotlib",
          "model_name": "ToolbarModel",
          "model_module_version": "^0.11",
          "state": {
            "_current_action": "",
            "_dom_classes": [],
            "_model_module": "jupyter-matplotlib",
            "_model_module_version": "^0.11",
            "_model_name": "ToolbarModel",
            "_view_count": null,
            "_view_module": "jupyter-matplotlib",
            "_view_module_version": "^0.11",
            "_view_name": "ToolbarView",
            "button_style": "",
            "collapsed": true,
            "layout": "IPY_MODEL_208ce37fdb474757b63d5033634cc44c",
            "orientation": "vertical",
            "toolitems": [
              [
                "Home",
                "Reset original view",
                "home",
                "home"
              ],
              [
                "Back",
                "Back to previous view",
                "arrow-left",
                "back"
              ],
              [
                "Forward",
                "Forward to next view",
                "arrow-right",
                "forward"
              ],
              [
                "Pan",
                "Left button pans, Right button zooms\nx/y fixes axis, CTRL fixes aspect",
                "arrows",
                "pan"
              ],
              [
                "Zoom",
                "Zoom to rectangle\nx/y fixes axis",
                "square-o",
                "zoom"
              ],
              [
                "Download",
                "Download plot",
                "floppy-o",
                "save_figure"
              ]
            ]
          }
        },
        "19e347f3ab194919862505313398d80e": {
          "model_module": "@jupyter-widgets/base",
          "model_name": "LayoutModel",
          "model_module_version": "1.2.0",
          "state": {
            "_model_module": "@jupyter-widgets/base",
            "_model_module_version": "1.2.0",
            "_model_name": "LayoutModel",
            "_view_count": null,
            "_view_module": "@jupyter-widgets/base",
            "_view_module_version": "1.2.0",
            "_view_name": "LayoutView",
            "align_content": null,
            "align_items": null,
            "align_self": null,
            "border": null,
            "bottom": null,
            "display": null,
            "flex": null,
            "flex_flow": null,
            "grid_area": null,
            "grid_auto_columns": null,
            "grid_auto_flow": null,
            "grid_auto_rows": null,
            "grid_column": null,
            "grid_gap": null,
            "grid_row": null,
            "grid_template_areas": null,
            "grid_template_columns": null,
            "grid_template_rows": null,
            "height": null,
            "justify_content": null,
            "justify_items": null,
            "left": null,
            "margin": null,
            "max_height": null,
            "max_width": null,
            "min_height": null,
            "min_width": null,
            "object_fit": null,
            "object_position": null,
            "order": null,
            "overflow": null,
            "overflow_x": null,
            "overflow_y": null,
            "padding": null,
            "right": null,
            "top": null,
            "visibility": null,
            "width": null
          }
        },
        "208ce37fdb474757b63d5033634cc44c": {
          "model_module": "@jupyter-widgets/base",
          "model_name": "LayoutModel",
          "model_module_version": "1.2.0",
          "state": {
            "_model_module": "@jupyter-widgets/base",
            "_model_module_version": "1.2.0",
            "_model_name": "LayoutModel",
            "_view_count": null,
            "_view_module": "@jupyter-widgets/base",
            "_view_module_version": "1.2.0",
            "_view_name": "LayoutView",
            "align_content": null,
            "align_items": null,
            "align_self": null,
            "border": null,
            "bottom": null,
            "display": null,
            "flex": null,
            "flex_flow": null,
            "grid_area": null,
            "grid_auto_columns": null,
            "grid_auto_flow": null,
            "grid_auto_rows": null,
            "grid_column": null,
            "grid_gap": null,
            "grid_row": null,
            "grid_template_areas": null,
            "grid_template_columns": null,
            "grid_template_rows": null,
            "height": null,
            "justify_content": null,
            "justify_items": null,
            "left": null,
            "margin": null,
            "max_height": null,
            "max_width": null,
            "min_height": null,
            "min_width": null,
            "object_fit": null,
            "object_position": null,
            "order": null,
            "overflow": null,
            "overflow_x": null,
            "overflow_y": null,
            "padding": null,
            "right": null,
            "top": null,
            "visibility": null,
            "width": null
          }
        },
        "8db96211fb2144caa140cf0cbb975e33": {
          "model_module": "jupyter-matplotlib",
          "model_name": "MPLCanvasModel",
          "model_module_version": "^0.11",
          "state": {
            "_cursor": "default",
            "_data_url": "data:image/png;base64,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",
            "_dom_classes": [],
            "_figure_label": "Figure 3",
            "_image_mode": "full",
            "_message": "",
            "_model_module": "jupyter-matplotlib",
            "_model_module_version": "^0.11",
            "_model_name": "MPLCanvasModel",
            "_rubberband_height": 0,
            "_rubberband_width": 0,
            "_rubberband_x": 0,
            "_rubberband_y": 0,
            "_size": [
              400,
              400
            ],
            "_view_count": null,
            "_view_module": "jupyter-matplotlib",
            "_view_module_version": "^0.11",
            "_view_name": "MPLCanvasView",
            "capture_scroll": false,
            "footer_visible": false,
            "header_visible": false,
            "layout": "IPY_MODEL_998ffa4f987847c1b3d93c47761cd91d",
            "pan_zoom_throttle": 33,
            "resizable": false,
            "toolbar": "IPY_MODEL_cefb00138333496db457221aacd2c85d",
            "toolbar_position": "left",
            "toolbar_visible": false
          }
        },
        "998ffa4f987847c1b3d93c47761cd91d": {
          "model_module": "@jupyter-widgets/base",
          "model_name": "LayoutModel",
          "model_module_version": "1.2.0",
          "state": {
            "_model_module": "@jupyter-widgets/base",
            "_model_module_version": "1.2.0",
            "_model_name": "LayoutModel",
            "_view_count": null,
            "_view_module": "@jupyter-widgets/base",
            "_view_module_version": "1.2.0",
            "_view_name": "LayoutView",
            "align_content": null,
            "align_items": null,
            "align_self": null,
            "border": null,
            "bottom": null,
            "display": null,
            "flex": null,
            "flex_flow": null,
            "grid_area": null,
            "grid_auto_columns": null,
            "grid_auto_flow": null,
            "grid_auto_rows": null,
            "grid_column": null,
            "grid_gap": null,
            "grid_row": null,
            "grid_template_areas": null,
            "grid_template_columns": null,
            "grid_template_rows": null,
            "height": null,
            "justify_content": null,
            "justify_items": null,
            "left": null,
            "margin": null,
            "max_height": null,
            "max_width": null,
            "min_height": null,
            "min_width": null,
            "object_fit": null,
            "object_position": null,
            "order": null,
            "overflow": null,
            "overflow_x": null,
            "overflow_y": null,
            "padding": null,
            "right": null,
            "top": null,
            "visibility": null,
            "width": null
          }
        },
        "cefb00138333496db457221aacd2c85d": {
          "model_module": "jupyter-matplotlib",
          "model_name": "ToolbarModel",
          "model_module_version": "^0.11",
          "state": {
            "_current_action": "",
            "_dom_classes": [],
            "_model_module": "jupyter-matplotlib",
            "_model_module_version": "^0.11",
            "_model_name": "ToolbarModel",
            "_view_count": null,
            "_view_module": "jupyter-matplotlib",
            "_view_module_version": "^0.11",
            "_view_name": "ToolbarView",
            "button_style": "",
            "collapsed": true,
            "layout": "IPY_MODEL_5c09b91b2dbc4d689f3414c031fe6e1d",
            "orientation": "vertical",
            "toolitems": [
              [
                "Home",
                "Reset original view",
                "home",
                "home"
              ],
              [
                "Back",
                "Back to previous view",
                "arrow-left",
                "back"
              ],
              [
                "Forward",
                "Forward to next view",
                "arrow-right",
                "forward"
              ],
              [
                "Pan",
                "Left button pans, Right button zooms\nx/y fixes axis, CTRL fixes aspect",
                "arrows",
                "pan"
              ],
              [
                "Zoom",
                "Zoom to rectangle\nx/y fixes axis",
                "square-o",
                "zoom"
              ],
              [
                "Download",
                "Download plot",
                "floppy-o",
                "save_figure"
              ]
            ]
          }
        },
        "5c09b91b2dbc4d689f3414c031fe6e1d": {
          "model_module": "@jupyter-widgets/base",
          "model_name": "LayoutModel",
          "model_module_version": "1.2.0",
          "state": {
            "_model_module": "@jupyter-widgets/base",
            "_model_module_version": "1.2.0",
            "_model_name": "LayoutModel",
            "_view_count": null,
            "_view_module": "@jupyter-widgets/base",
            "_view_module_version": "1.2.0",
            "_view_name": "LayoutView",
            "align_content": null,
            "align_items": null,
            "align_self": null,
            "border": null,
            "bottom": null,
            "display": null,
            "flex": null,
            "flex_flow": null,
            "grid_area": null,
            "grid_auto_columns": null,
            "grid_auto_flow": null,
            "grid_auto_rows": null,
            "grid_column": null,
            "grid_gap": null,
            "grid_row": null,
            "grid_template_areas": null,
            "grid_template_columns": null,
            "grid_template_rows": null,
            "height": null,
            "justify_content": null,
            "justify_items": null,
            "left": null,
            "margin": null,
            "max_height": null,
            "max_width": null,
            "min_height": null,
            "min_width": null,
            "object_fit": null,
            "object_position": null,
            "order": null,
            "overflow": null,
            "overflow_x": null,
            "overflow_y": null,
            "padding": null,
            "right": null,
            "top": null,
            "visibility": null,
            "width": null
          }
        },
        "4737653e912c4ce2908c9168fdcbe877": {
          "model_module": "jupyter-matplotlib",
          "model_name": "MPLCanvasModel",
          "model_module_version": "^0.11",
          "state": {
            "_cursor": "default",
            "_data_url": "data:image/png;base64,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",
            "_dom_classes": [],
            "_figure_label": "Figure 3",
            "_image_mode": "full",
            "_message": "",
            "_model_module": "jupyter-matplotlib",
            "_model_module_version": "^0.11",
            "_model_name": "MPLCanvasModel",
            "_rubberband_height": 0,
            "_rubberband_width": 0,
            "_rubberband_x": 0,
            "_rubberband_y": 0,
            "_size": [
              1000,
              600
            ],
            "_view_count": null,
            "_view_module": "jupyter-matplotlib",
            "_view_module_version": "^0.11",
            "_view_name": "MPLCanvasView",
            "capture_scroll": false,
            "footer_visible": false,
            "header_visible": false,
            "layout": "IPY_MODEL_8aed4c73e2894953ad72716be0623ca6",
            "pan_zoom_throttle": 33,
            "resizable": false,
            "toolbar": "IPY_MODEL_09e2d55dc43a45569d82642e98e8105c",
            "toolbar_position": "left",
            "toolbar_visible": false
          }
        },
        "8aed4c73e2894953ad72716be0623ca6": {
          "model_module": "@jupyter-widgets/base",
          "model_name": "LayoutModel",
          "model_module_version": "1.2.0",
          "state": {
            "_model_module": "@jupyter-widgets/base",
            "_model_module_version": "1.2.0",
            "_model_name": "LayoutModel",
            "_view_count": null,
            "_view_module": "@jupyter-widgets/base",
            "_view_module_version": "1.2.0",
            "_view_name": "LayoutView",
            "align_content": null,
            "align_items": null,
            "align_self": null,
            "border": null,
            "bottom": null,
            "display": null,
            "flex": null,
            "flex_flow": null,
            "grid_area": null,
            "grid_auto_columns": null,
            "grid_auto_flow": null,
            "grid_auto_rows": null,
            "grid_column": null,
            "grid_gap": null,
            "grid_row": null,
            "grid_template_areas": null,
            "grid_template_columns": null,
            "grid_template_rows": null,
            "height": null,
            "justify_content": null,
            "justify_items": null,
            "left": null,
            "margin": null,
            "max_height": null,
            "max_width": null,
            "min_height": null,
            "min_width": null,
            "object_fit": null,
            "object_position": null,
            "order": null,
            "overflow": null,
            "overflow_x": null,
            "overflow_y": null,
            "padding": null,
            "right": null,
            "top": null,
            "visibility": null,
            "width": null
          }
        },
        "09e2d55dc43a45569d82642e98e8105c": {
          "model_module": "jupyter-matplotlib",
          "model_name": "ToolbarModel",
          "model_module_version": "^0.11",
          "state": {
            "_current_action": "",
            "_dom_classes": [],
            "_model_module": "jupyter-matplotlib",
            "_model_module_version": "^0.11",
            "_model_name": "ToolbarModel",
            "_view_count": null,
            "_view_module": "jupyter-matplotlib",
            "_view_module_version": "^0.11",
            "_view_name": "ToolbarView",
            "button_style": "",
            "collapsed": true,
            "layout": "IPY_MODEL_87381ed1feec4c5b85c0a7b5c287156a",
            "orientation": "vertical",
            "toolitems": [
              [
                "Home",
                "Reset original view",
                "home",
                "home"
              ],
              [
                "Back",
                "Back to previous view",
                "arrow-left",
                "back"
              ],
              [
                "Forward",
                "Forward to next view",
                "arrow-right",
                "forward"
              ],
              [
                "Pan",
                "Left button pans, Right button zooms\nx/y fixes axis, CTRL fixes aspect",
                "arrows",
                "pan"
              ],
              [
                "Zoom",
                "Zoom to rectangle\nx/y fixes axis",
                "square-o",
                "zoom"
              ],
              [
                "Download",
                "Download plot",
                "floppy-o",
                "save_figure"
              ]
            ]
          }
        },
        "87381ed1feec4c5b85c0a7b5c287156a": {
          "model_module": "@jupyter-widgets/base",
          "model_name": "LayoutModel",
          "model_module_version": "1.2.0",
          "state": {
            "_model_module": "@jupyter-widgets/base",
            "_model_module_version": "1.2.0",
            "_model_name": "LayoutModel",
            "_view_count": null,
            "_view_module": "@jupyter-widgets/base",
            "_view_module_version": "1.2.0",
            "_view_name": "LayoutView",
            "align_content": null,
            "align_items": null,
            "align_self": null,
            "border": null,
            "bottom": null,
            "display": null,
            "flex": null,
            "flex_flow": null,
            "grid_area": null,
            "grid_auto_columns": null,
            "grid_auto_flow": null,
            "grid_auto_rows": null,
            "grid_column": null,
            "grid_gap": null,
            "grid_row": null,
            "grid_template_areas": null,
            "grid_template_columns": null,
            "grid_template_rows": null,
            "height": null,
            "justify_content": null,
            "justify_items": null,
            "left": null,
            "margin": null,
            "max_height": null,
            "max_width": null,
            "min_height": null,
            "min_width": null,
            "object_fit": null,
            "object_position": null,
            "order": null,
            "overflow": null,
            "overflow_x": null,
            "overflow_y": null,
            "padding": null,
            "right": null,
            "top": null,
            "visibility": null,
            "width": null
          }
        }
      }
    }
  },
  "nbformat": 4,
  "nbformat_minor": 0
}