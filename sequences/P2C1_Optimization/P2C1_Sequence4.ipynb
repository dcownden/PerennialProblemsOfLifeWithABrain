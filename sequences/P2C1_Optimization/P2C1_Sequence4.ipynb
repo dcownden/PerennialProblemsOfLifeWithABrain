{
  "cells": [
    {
      "cell_type": "markdown",
      "metadata": {
        "id": "view-in-github",
        "colab_type": "text"
      },
      "source": [
        "<a href=\"https://colab.research.google.com/github/dcownden/PerennialProblemsOfLifeWithABrain/blob/split-and-simple-perturb/sequences/P2C1_Optimization/P2C1_Sequence4.ipynb\" target=\"_parent\"><img src=\"https://colab.research.google.com/assets/colab-badge.svg\" alt=\"Open In Colab\"/></a>"
      ]
    },
    {
      "cell_type": "markdown",
      "metadata": {
        "execution": {},
        "id": "K10DbaXu1WBL"
      },
      "source": [
        "The following is part of a test for an upcoming text book on computational neuroscience from an optimization and learning perspective. The book will start with evolution because ultimately, all aspects of the brain are shaped by evolution and, as we will see, evolution can also be seen as an optimization algorithm. We are sharing it now to get feedback on what works and what does not and the developments we should do."
      ]
    },
    {
      "cell_type": "markdown",
      "metadata": {
        "execution": {},
        "id": "dsQ6T5OZ1WBM"
      },
      "source": [
        "___\n",
        "# **2.1.4: Learning Behaviour as a form of High Dimensional Optimization**\n",
        "\n",
        "### Objective: Explicitly connect the kinds of simple optimization process we saw in the previous sequences to learning adaptive behaviours.\n",
        "\n",
        "In this sequence we will:\n",
        "\n",
        "* Introduce a slightly more complex version of the strike-no-strike problem where the decision depends on 64 features instead of 1, and develop a simple artificial neural network that can solve this problem\n",
        "\n",
        "* Use perturb-measure-step to train this network\n",
        "\n",
        "* Investigate different times scales of learning and function evaluation.\n"
      ]
    },
    {
      "cell_type": "markdown",
      "metadata": {
        "execution": {},
        "id": "rK0I5ANa1WBM"
      },
      "source": [
        "# Setup\n",
        "\n",
        "Run the following cell to setup and install the various dependencies and helper functions for this ."
      ]
    },
    {
      "cell_type": "code",
      "execution_count": 1,
      "metadata": {
        "execution": {},
        "id": "g9MNYxfk1WBN",
        "cellView": "form",
        "colab": {
          "base_uri": "https://localhost:8080/"
        },
        "outputId": "06922c71-5d2a-456d-eccb-f7837cb82e59"
      },
      "outputs": [
        {
          "output_type": "stream",
          "name": "stdout",
          "text": [
            "Best feature is 21\n",
            "Random seed 2021 has been set.\n",
            "This notebook isn't using and doesn't need a GPU. Good.\n",
            "Running in colab\n"
          ]
        }
      ],
      "source": [
        "# @title Dependencies, Imports and Setup\n",
        "# @markdown You don't need to worry about how this code works – but you do need to **run the cell**\n",
        "!apt install libgraphviz-dev > /dev/null 2> /dev/null #colab\n",
        "!pip install ipympl pygraphviz vibecheck datatops jupyterquiz ucimlrepo > /dev/null 2> /dev/null #google.colab\n",
        "\n",
        "import asyncio\n",
        "import requests\n",
        "from requests.exceptions import RequestException\n",
        "import numpy as np\n",
        "import itertools\n",
        "import collections\n",
        "import matplotlib\n",
        "import matplotlib.pyplot as plt\n",
        "import matplotlib.patches as mpatches\n",
        "from matplotlib.lines import Line2D\n",
        "from matplotlib.colors import LogNorm\n",
        "from matplotlib.animation import FuncAnimation\n",
        "from matplotlib import gridspec\n",
        "import seaborn as sns\n",
        "import pandas as pd\n",
        "import pygraphviz as pgv\n",
        "import ipywidgets as widgets\n",
        "import time\n",
        "import logging\n",
        "import random\n",
        "import os\n",
        "import copy\n",
        "import torch\n",
        "import warnings\n",
        "import torch.nn as nn\n",
        "import torch.optim as optim\n",
        "import torch.nn.functional as F\n",
        "from io import BytesIO\n",
        "from enum import Enum\n",
        "from scipy.spatial.distance import cdist\n",
        "from scipy.stats import norm\n",
        "from scipy.optimize import minimize\n",
        "from sklearn.linear_model import LinearRegression\n",
        "from tabulate import tabulate\n",
        "from IPython.display import display, clear_output, Markdown, HTML, Image\n",
        "from jupyterquiz import display_quiz\n",
        "from vibecheck import DatatopsContentReviewContainer\n",
        "from pathlib import Path\n",
        "from typing import List, Dict\n",
        "from tqdm.notebook import tqdm\n",
        "from ucimlrepo import fetch_ucirepo\n",
        "\n",
        "data_set = fetch_ucirepo(id=80)\n",
        "X = data_set.data.features.values\n",
        "# Translate the data to have a minimum of 0\n",
        "X_translated = X - X.min()\n",
        "# Scale the data to have a range from 0 to 12 (which is 6 - (-6))\n",
        "scaling_factor = 12 / (X.max() - X.min())\n",
        "X_scaled = X_translated * scaling_factor\n",
        "# Finally, shift the data to be centered between -6 and 6\n",
        "X_final = X_scaled - 6\n",
        "\n",
        "y = data_set.data.targets.values\n",
        "rng = np.random.default_rng(seed=2021)\n",
        "scramble_permutation = rng.permutation(X.shape[1])\n",
        "Xs = X_final[:, scramble_permutation]\n",
        "y1 = y % 2\n",
        "y2 = np.array(y >= 5, dtype=y.dtype)\n",
        "simple_index = ((y.flatten()==1) | (y.flatten()==0))\n",
        "X_simple = Xs[simple_index]\n",
        "y1_simple = y1[simple_index]\n",
        "# if you only had one feature which would likely be best for discrimination\n",
        "epsilon = 10\n",
        "class_a_sep = np.mean(X_simple[y1_simple.flatten() == 1, :], axis=0) / (np.std(X_simple[y1_simple.flatten() == 1, :], axis=0) + epsilon)\n",
        "class_b_sep = np.mean(X_simple[y1_simple.flatten() == 0, :], axis=0) / (np.std(X_simple[y1_simple.flatten() == 0, :], axis=0) + epsilon)\n",
        "best_feature = np.argmax(class_a_sep - class_b_sep)\n",
        "print(f'Best feature is {best_feature}')\n",
        "X_simple_1_feature = X_simple[:, [best_feature]]\n",
        "\n",
        "import warnings\n",
        "warnings.filterwarnings(\"ignore\", category=UserWarning, module=\"matplotlib\")\n",
        "# random seed settings and\n",
        "# getting torch to use gpu if it's there\n",
        "\n",
        "\n",
        "def set_seed(seed=None, seed_torch=True):\n",
        "  \"\"\"\n",
        "  Function that controls randomness. NumPy and random modules must be imported.\n",
        "\n",
        "  Args:\n",
        "    seed : Integer\n",
        "      A non-negative integer that defines the random state. Default is `None`.\n",
        "    seed_torch : Boolean\n",
        "      If `True` sets the random seed for pytorch tensors, so pytorch module\n",
        "      must be imported. Default is `True`.\n",
        "\n",
        "  Returns:\n",
        "    Nothing.\n",
        "  \"\"\"\n",
        "  if seed is None:\n",
        "    seed = np.random.choice(2 ** 32)\n",
        "  random.seed(seed)\n",
        "  np.random.seed(seed)\n",
        "  if seed_torch:\n",
        "    torch.manual_seed(seed)\n",
        "    torch.cuda.manual_seed_all(seed)\n",
        "    torch.cuda.manual_seed(seed)\n",
        "    torch.backends.cudnn.benchmark = False\n",
        "    torch.backends.cudnn.deterministic = True\n",
        "\n",
        "  print(f'Random seed {seed} has been set.')\n",
        "\n",
        "\n",
        "def seed_worker(worker_id):\n",
        "  \"\"\"\n",
        "  DataLoader will reseed workers following randomness in\n",
        "  multi-process data loading algorithm.\n",
        "\n",
        "  Args:\n",
        "    worker_id: integer\n",
        "      ID of subprocess to seed. 0 means that\n",
        "      the data will be loaded in the main process\n",
        "      Refer: https://pytorch.org/docs/stable/data.html#data-loading-randomness for more details\n",
        "\n",
        "  Returns:\n",
        "    Nothing\n",
        "  \"\"\"\n",
        "  worker_seed = torch.initial_seed() % 2**32\n",
        "  np.random.seed(worker_seed)\n",
        "  random.seed(worker_seed)\n",
        "\n",
        "\n",
        "def set_device():\n",
        "  \"\"\"\n",
        "  Set the device. CUDA if available, CPU otherwise\n",
        "\n",
        "  Args:\n",
        "    None\n",
        "\n",
        "  Returns:\n",
        "    Nothing\n",
        "  \"\"\"\n",
        "  device = \"cuda\" if torch.cuda.is_available() else \"cpu\"\n",
        "  if device != \"cuda\":\n",
        "    print(\"This notebook isn't using and doesn't need a GPU. Good.\")\n",
        "  else:\n",
        "    print(\"GPU is enabled in this notebook but not needed.\")\n",
        "    print(\"If possible, in the menu under `Runtime` -> \")\n",
        "    print(\"`Change runtime type.`  select `CPU`\")\n",
        "\n",
        "  return device\n",
        "\n",
        "\n",
        "SEED = 2021\n",
        "set_seed(seed=SEED)\n",
        "DEVICE = set_device()\n",
        "\n",
        "\n",
        "def printmd(string):\n",
        "  display(Markdown(string))\n",
        "\n",
        "\n",
        "# the different utility .py files used in this notebook\n",
        "filenames = []\n",
        "# just run the code straight out of the response, no local copies needed!\n",
        "for filename in filenames:\n",
        "  url = f'https://raw.githubusercontent.com/dcownden/PerennialProblemsOfLifeWithABrain/main/utils/{filename}'\n",
        "  response = requests.get(url)\n",
        "  # Check that we got a valid response\n",
        "  if response.status_code == 200:\n",
        "    code = response.content.decode()\n",
        "    exec(code)\n",
        "  else:\n",
        "    print(f'Failed to download {url}')\n",
        "\n",
        "# environment contingent imports\n",
        "try:\n",
        "  print('Running in colab')\n",
        "  from google.colab import output\n",
        "  output.enable_custom_widget_manager()\n",
        "  from google.colab import data_table\n",
        "  data_table.disable_dataframe_formatter()\n",
        "  #from google.colab import output as colab_output\n",
        "  #colab_output.enable_custom_widget_manager()\n",
        "  IN_COLAB = True\n",
        "except:\n",
        "  IN_COLAB = False\n",
        "  print('Not running in colab')\n",
        "\n",
        "%matplotlib inline\n",
        "%config InlineBackend.figure_format = 'retina'\n",
        "%matplotlib widget\n",
        "plt.style.use(\"https://raw.githubusercontent.com/dcownden/PerennialProblemsOfLifeWithABrain/main/pplb.mplstyle\")\n",
        "plt.ioff() #need to use plt.show() or display explicitly\n",
        "logging.getLogger('matplotlib.font_manager').setLevel(logging.ERROR)\n",
        "\n",
        "\n",
        "def remove_ip_clutter(fig):\n",
        "  fig.canvas.header_visible = False\n",
        "  fig.canvas.toolbar_visible = False\n",
        "  fig.canvas.resizable = False\n",
        "  fig.canvas.footer_visible = False\n",
        "  fig.canvas.draw()\n",
        "\n",
        "\n",
        "def content_review(notebook_section: str):\n",
        "  return DatatopsContentReviewContainer(\n",
        "    \"\",  # No text prompt\n",
        "    notebook_section,\n",
        "    {\n",
        "      \"url\": \"https://pmyvdlilci.execute-api.us-east-1.amazonaws.com/klab\",\n",
        "      \"name\": \"neuro_book\",\n",
        "      \"user_key\": \"xuk960xj\",\n",
        "    },\n",
        "  ).render()\n",
        "feedback_prefix = \"P2C1_S2\""
      ]
    },
    {
      "cell_type": "markdown",
      "source": [
        "# 2.1.4.1 Learning Strike-No-Strike with Perturb-Measure-Step.\n",
        "\n",
        "Now that we know a bit about optimization in higher-dimensions we are going to introduce a harder, higher-dimensional version of our strike-no-strike problem. Whereas previously we had only a single input, now we are going to allow for 64 different inputs. So our cartoon organism that inspires this problem can now be thought of as having 64 photo-sensitive receptors, and based on this combination of inputs it must decide whether to strike or not. As before, the organism pays a cost of one if it strikes when it shouldn't and recieves a reward of one if it strikes when it should. It receives no cost or reward when it does not strike. To get a sense of this more complex discrimination problem, try it yourself by running the code cell below."
      ],
      "metadata": {
        "id": "OR3gHzvHXExf"
      }
    },
    {
      "cell_type": "code",
      "source": [
        "# @markdown **Run this cell** to try out the more complex 'strike-no-strike' discrimination task.\n",
        "\n",
        "class InteractiveMNISTPredator():\n",
        "  def __init__(self,\n",
        "               features=Xs,\n",
        "               labels=y,\n",
        "               feedback_type='on_strike_only', seed=123):\n",
        "    # Initialize dataset, settings for image scrambling and feedback\n",
        "    self.features = features\n",
        "    self.labels = labels\n",
        "    # features is num_data_points x 64 (reshape to 8x8 for display, each cell 0-16)\n",
        "    # labels is num_data_points x 1 (values 0-9 or 0/1 depending)\n",
        "    self.feedback_type = feedback_type\n",
        "    self.rng = np.random.default_rng(seed)\n",
        "    sample_order = self.rng.permutation(self.features.shape[0])\n",
        "    self.features = self.features[sample_order]\n",
        "    self.labels = self.labels[sample_order]\n",
        "    # initialize game state\n",
        "    self.current_index = 0\n",
        "    self.current_image = None\n",
        "    self.previous_image = None\n",
        "    self.score = 0\n",
        "    self.best_possible_score = 0\n",
        "    self.successful_strikes = 0\n",
        "    self.failed_strikes = 0\n",
        "    self.non_strikes = 0\n",
        "    # Initialize widgets\n",
        "    self.strike_button = widgets.Button(description='Strike')\n",
        "    self.no_strike_button = widgets.Button(description='No Strike')\n",
        "    self.score_display = widgets.Output()\n",
        "    self.feedback_display = widgets.Output()\n",
        "\n",
        "    # Initialize the figure for image display\n",
        "    self.fig, self.ax = plt.subplots(figsize=(4, 4))\n",
        "    remove_ip_clutter(self.fig)\n",
        "    self.prev_fig, self.prev_ax = plt.subplots(figsize=(4, 4))\n",
        "    remove_ip_clutter(self.prev_fig)\n",
        "    self.show_next_image()\n",
        "    # Bind event handlers\n",
        "    self.strike_button.on_click(self.on_strike_clicked)\n",
        "    self.no_strike_button.on_click(self.on_no_strike_clicked)\n",
        "\n",
        "    # Arrange widgets in a layout\n",
        "    buttons_layout = widgets.HBox([self.strike_button, self.no_strike_button])\n",
        "    current_buttons = widgets.VBox([self.fig.canvas, buttons_layout])\n",
        "    previous_feedback = widgets.VBox([self.prev_fig.canvas, self.feedback_display])\n",
        "    self.ui = widgets.HBox([previous_feedback, current_buttons, self.score_display])\n",
        "\n",
        "  def show_next_image(self):\n",
        "    # Display the next image\n",
        "    image = self.features[self.current_index]\n",
        "\n",
        "    if len(image) == 64:\n",
        "        image = image.reshape(8, 8)\n",
        "    elif len(image) == 1:\n",
        "      scalar_value = image.flatten()[0]\n",
        "      # Initialize the 8x8 array with -6 (black)\n",
        "      image = np.full((8, 8), -6.0)\n",
        "      # Set the first ring to 6 (white)\n",
        "      image[0, 0] = 6\n",
        "      # Set the second ring to 6 (white)\n",
        "      image[1:-1, 1:-1] = 6\n",
        "      # Set the third (inner ring) back to -6 (black)\n",
        "      image[2:-2, 2:-2] = -6\n",
        "      # Assuming scalar_value is already in the range -6 to 6\n",
        "      #print(scalar_value)\n",
        "      image[3:-3, 3:-3] = scalar_value\n",
        "    else:\n",
        "      raise ValueError(f'Unexpected image shape: {image.shape}')\n",
        "    if self.current_image is not None:\n",
        "      self.previous_image = self.current_image\n",
        "    self.current_image = image\n",
        "    # Display the image\n",
        "    #print(image)\n",
        "    self.fig.clf()\n",
        "    self.prev_fig.clf()\n",
        "    self.ax = self.fig.add_subplot(111)\n",
        "    self.prev_ax = self.prev_fig.add_subplot(111)\n",
        "    self.ax.set_xlim(-.5, 7.5)\n",
        "    self.ax.set_ylim(-0.5, 7.5)\n",
        "    self.prev_ax.set_xlim(-.5, 7.5)\n",
        "    self.prev_ax.set_ylim(-0.5, 7.5)\n",
        "    self.ax.set_aspect('equal')\n",
        "    self.prev_ax.set_aspect('equal')\n",
        "    self.ax.axis('off')\n",
        "    self.prev_ax.axis('off')\n",
        "    self.ax.imshow(self.current_image, cmap='gray', vmin=-6, vmax=6)\n",
        "    if self.previous_image is not None:\n",
        "      self.prev_ax.imshow(self.previous_image, cmap='gray', vmin=-6, vmax=6)\n",
        "    self.ax.set_title('Current Sensory Input')\n",
        "    self.prev_ax.set_title('Previous Sensory Input')\n",
        "    self.fig.canvas.draw()\n",
        "    self.prev_fig.canvas.draw()\n",
        "\n",
        "  def on_strike_clicked(self, button):\n",
        "    self.process_decision('Strike')\n",
        "\n",
        "  def on_no_strike_clicked(self, button):\n",
        "    self.process_decision('No Strike')\n",
        "\n",
        "  def process_decision(self, decision):\n",
        "    # freeze buttons while we process\n",
        "    self.strike_button.disabled = True\n",
        "    self.no_strike_button.disabled = True\n",
        "\n",
        "    # Process the user's decision, update score, and provide feedback\n",
        "    correct_action = 'Strike' if self.labels[self.current_index] == 1 else 'No Strike'\n",
        "    if decision == 'Strike':\n",
        "      if decision == correct_action:\n",
        "        self.score += 1\n",
        "        self.successful_strikes += 1\n",
        "      else:\n",
        "        self.score -= 1\n",
        "        self.failed_strikes += 1\n",
        "    elif decision == 'No Strike':\n",
        "      self.non_strikes += 1\n",
        "      # no strike means no gain or loss\n",
        "    else:\n",
        "      raise ValueError(f'Unknown decision: {decision}')\n",
        "\n",
        "    # Show feedback and score\n",
        "    if (self.feedback_type == 'both' or\n",
        "      (self.feedback_type == 'on_strike_only' and decision == 'Strike')):\n",
        "      # Show informative feedback\n",
        "      feedback = f'Your last choice: {decision}\\nCorrect last choice: {correct_action}'\n",
        "    else:\n",
        "      # Show uninformative feedback\n",
        "      feedback = 'Feedback only available after striking.'\n",
        "    with self.feedback_display:\n",
        "      clear_output(wait=True)\n",
        "      print(feedback)\n",
        "\n",
        "    # Show score\n",
        "    with self.score_display:\n",
        "      clear_output(wait=True)\n",
        "      average_score = self.score / (self.current_index+1)\n",
        "      print(f'Total Score: {self.score}')\n",
        "      print(f'Number of Trials: {self.current_index + 1}')\n",
        "      print(f'Successful Strikes: {self.successful_strikes}')\n",
        "      print(f'Failed Strikes: {self.failed_strikes}')\n",
        "      print(f'Non-Strikes: {self.non_strikes}')\n",
        "      print(f'Average Score Per Trial: {average_score:.2f}')\n",
        "\n",
        "    # Prepare the next image\n",
        "    self.current_index += 1\n",
        "    #print(self.current_index)\n",
        "    self.show_next_image()\n",
        "    # Re-enable buttons\n",
        "    self.strike_button.disabled = False\n",
        "    self.no_strike_button.disabled = False\n",
        "\n",
        "\n",
        "scramble_bin_hard = InteractiveMNISTPredator(features=Xs,\n",
        "                                             labels=y1,\n",
        "                                             feedback_type='both')\n",
        "display(scramble_bin_hard.fig.canvas)\n",
        "display(scramble_bin_hard.prev_fig.canvas)\n",
        "clear_output()\n",
        "display(scramble_bin_hard.ui)"
      ],
      "metadata": {
        "cellView": "form",
        "id": "y_YjCpnZCNyn",
        "colab": {
          "base_uri": "https://localhost:8080/",
          "height": 457,
          "referenced_widgets": [
            "95fd563ddc2347ddbde7cd1d57fae637",
            "1229d77a56a042a4943b6104988511c9",
            "bf307a84b7ab476993b529da232675e6",
            "41e12e739d1c4ff8a1b4d640be3ae78e",
            "9579b0f49cb447d0920d50a3b1bd6738",
            "59133c5252fe4336b27558020633a3f6",
            "567b3e6414f549d4988ed7f323c23a54",
            "a1fae7617e954614837fd81b91ae843f",
            "86343b6e0d274af38315b4deb3c31d2a",
            "b3b20ce2f60443e9aa2508e3e2a1b3e3",
            "1a02a8f609694f38ace66915289f77f4",
            "5d3d1d625b6b4d54bc57e8b22ddd07f1",
            "72c620ffd57b4dafb4ff4e38d04201da",
            "86a3d95d4d0f4c81b4abe705056b34aa",
            "62b956497a11445b8daeba14fc86a5f4",
            "24319709036143df99c0dad87d6cc3a6",
            "d61626df5afe47399fd4f1db5c9c57f6",
            "f82d4f2cd7b1488fbcf3d6718716491b",
            "5f1f6bede9f24e1e92bfbeca7d845fb7",
            "da7d66c8f31043bfb75651ac6caa18d4",
            "2c819a635c1249439cb452b7558ae66b",
            "0d2d55b0e581428d8eae84d2060865bc",
            "808acf24fb0347d3ba5670e386bbee29",
            "cbf52e8b1be14c83af7c19812d5dcea3",
            "0de1210f684a497689492f5ebba0d2a3",
            "2937d2eb6b0e4dfbb8cac7daa593256f"
          ]
        },
        "outputId": "a5a02640-d607-4fd7-9874-344ab69cc9c5"
      },
      "execution_count": 2,
      "outputs": [
        {
          "output_type": "display_data",
          "data": {
            "text/plain": [
              "HBox(children=(VBox(children=(Canvas(footer_visible=False, header_visible=False, resizable=False, toolbar=Tool…"
            ],
            "application/vnd.jupyter.widget-view+json": {
              "version_major": 2,
              "version_minor": 0,
              "model_id": "95fd563ddc2347ddbde7cd1d57fae637"
            }
          },
          "metadata": {
            "application/vnd.jupyter.widget-view+json": {
              "colab": {
                "custom_widget_manager": {
                  "url": "https://ssl.gstatic.com/colaboratory-static/widgets/colab-cdn-widget-manager/2b70e893a8ba7c0f/manager.min.js"
                }
              }
            }
          }
        }
      ]
    },
    {
      "cell_type": "markdown",
      "source": [
        "Maybe you were able to solve this with some savant like abstract pattern recognition powers. We were not able to learn to discriminate between the strike and no-strike situations over a dozen or so trials. The point here is that this is a non-trivial discrimination to learn. However, it is, as we will see in the next bit of code, a discrimination that a simple artificial neural network can learn to solve. (As before The dataset that underlies this strike-no-strike decision problem is sourced from the UCI Machine Learning Repository, Alpaydin,E. and Kaynak,C. 1998. https://doi.org/10.24432/C50P49.)"
      ],
      "metadata": {
        "id": "968qM9kkIK29"
      }
    },
    {
      "cell_type": "markdown",
      "source": [
        "We model this creature's sensory-behaviour system much as before. Now though, $\\mathbf{x}$ is the raw sensory input (vector) of length 64 in a given episode. Each element $x_i$ of $\\mathbf{x}$ corresponds to the activation level of a single photosensitive neuron."
      ],
      "metadata": {
        "id": "1CgwmAlsJG_w"
      }
    },
    {
      "cell_type": "code",
      "execution_count": 3,
      "metadata": {
        "execution": {},
        "id": "t4Uem5FrI5K_",
        "colab": {
          "base_uri": "https://localhost:8080/"
        },
        "outputId": "8c60f10a-617c-41fe-e3f6-8c179c26eaaa"
      },
      "outputs": [
        {
          "output_type": "stream",
          "name": "stdout",
          "text": [
            "(5620, 64)\n"
          ]
        }
      ],
      "source": [
        "# the data set we're working with has 5620 example sensory inputs,\n",
        "# each consisting of 64 values\n",
        "print(Xs.shape)"
      ]
    },
    {
      "cell_type": "code",
      "execution_count": 4,
      "metadata": {
        "execution": {},
        "id": "nLzHDIjCI5K_",
        "colab": {
          "base_uri": "https://localhost:8080/"
        },
        "outputId": "a66d2d60-8281-4cf6-cc5c-23ea84a78fc5"
      },
      "outputs": [
        {
          "output_type": "stream",
          "name": "stdout",
          "text": [
            "[[-1.5   0.   -4.5  -5.25  3.    5.25 -3.75 -6.  ]\n",
            " [-6.   -6.   -2.25 -0.75  4.5  -1.5  -6.   -6.  ]\n",
            " [-4.5  -6.   -6.   -6.   -6.   -6.   -0.75 -5.25]\n",
            " [-0.75  4.5  -3.75  0.75 -2.25 -1.5  -0.75  3.75]\n",
            " [-6.   -5.25  5.25  0.   -6.    1.5   3.   -0.75]\n",
            " [-6.   -6.   -6.   -6.   -5.25 -6.    3.75  6.  ]\n",
            " [-6.   -6.   -2.25 -6.   -6.    2.25 -6.   -1.5 ]\n",
            " [ 6.    6.   -6.   -6.   -3.   -6.    0.75 -6.  ]]\n"
          ]
        }
      ],
      "source": [
        "# this is the first example\n",
        "print(Xs[0].reshape(8,8,))"
      ]
    },
    {
      "cell_type": "code",
      "execution_count": 5,
      "metadata": {
        "execution": {},
        "id": "qJgsx8nSI5K_",
        "colab": {
          "base_uri": "https://localhost:8080/",
          "height": 425,
          "referenced_widgets": [
            "9e1643e00a35469b8a0ca064879077e0",
            "8df98e116e5241b3bc235f26b8fb176a",
            "f168c5416fa343a7ba7d27d03e079227",
            "7c63f2470ead431aa8f5b29946a80329"
          ]
        },
        "outputId": "0f97b765-9b7f-4497-e6f1-c909e8000ddb"
      },
      "outputs": [
        {
          "output_type": "display_data",
          "data": {
            "text/plain": [
              "Canvas(footer_visible=False, header_visible=False, resizable=False, toolbar=Toolbar(toolitems=[('Home', 'Reset…"
            ],
            "image/png": "[encoded data removed]",
            "text/html": [
              "\n",
              "            <div style=\"display: inline-block;\">\n",
              "                <div class=\"jupyter-widgets widget-label\" style=\"text-align: center;\">\n",
              "                    Figure\n",
              "                </div>\n",
              "                <img src='data:image/png;base64,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' width=400.0/>\n",
              "            </div>\n",
              "        "
            ],
            "application/vnd.jupyter.widget-view+json": {
              "version_major": 2,
              "version_minor": 0,
              "model_id": "9e1643e00a35469b8a0ca064879077e0"
            }
          },
          "metadata": {
            "application/vnd.jupyter.widget-view+json": {
              "colab": {
                "custom_widget_manager": {
                  "url": "https://ssl.gstatic.com/colaboratory-static/widgets/colab-cdn-widget-manager/2b70e893a8ba7c0f/manager.min.js"
                }
              }
            }
          }
        }
      ],
      "source": [
        "# visualizing the example we see that lower values correspond to darker pixels\n",
        "# and higher values correspond to lighter values\n",
        "fig, ax = plt.subplots(figsize=(4,4))\n",
        "remove_ip_clutter(fig)\n",
        "ax.imshow(Xs[0].reshape(8,8), cmap='gray')\n",
        "plt.show()"
      ]
    },
    {
      "cell_type": "markdown",
      "source": [
        "These input neurons are then connected by synapses to a single output neuron. The activation level of this output neuron is computed as\n",
        "$$a = \\mathbf{Wx} + b$$\n",
        "Here, $b$ is the (scalar) bias, or baseline activation level of the output neuron, and $\\mathbf{W}$ is a matrix of synaptic weights between the input neurons and the single output neuron. (In this case where there is only one output neuron so $\\mathbf{W}$ has shape 1x64 so could also be thought of as a row vector.)  \n",
        "\n",
        "Often to simplify exposition and coding the input $\\mathbf{x}$ is augmented to have a feature which is always 1, and then the bias terms can be treated as the weight connecting to this constant valued feature. That is\n",
        "\n",
        "$$a = \\mathbf{Wx}$$\n",
        "\n",
        "Though now $\\mathbf{W}$ has shape 1x65. As before, the probabilistic spiking of this output neuron determines the strike-no-strike behaviour of the organism, specifically:\n",
        "$$ \\Pr \\{\\text{strike}\\} = \\sigma(a) $$\n",
        "$$ \\Pr \\{\\text{no strike}\\} = 1 - \\sigma(a)$$\n",
        "\n",
        "Recall that $\\sigma(a): \\frac{1}{1+e^{-a}} = \\frac{e^a}{1+e^a}$ is the standard logistic (sigmoid) function."
      ],
      "metadata": {
        "id": "cyjeHHWJJ_vX"
      }
    },
    {
      "cell_type": "markdown",
      "source": [
        "The organism recieves a reward of 1 for striking at the right time and a penalty of -1 for striking at the wrong time. It also recieves a reward of zero when not striking, regardless of whether striking would have returned a reward or a penalty. Given this, complete the coding exercise below to write a function that determines the reward recieved for a given sensory input $\\mathbf{x}$, the organism's probablistic response to the stimulus, $\\Pr \\{\\text{strike}\\} = \\sigma(\\mathbf{Wx})$, and the resultant outcome of the behaviour given the presence ($y=1$) or absence ($y=0$) of prey. Note that reward depends on three inputs, two $\\mathbf{x}$ and $y$ have to do with the state of the environment, and are fully outside of the control of the organism, the other $\\mathbf{W}$ determines the organism's response to the environment, and it is this $\\mathbf{W}$, that the organism has some control over in that sense that $\\mathbf{W}$ is what changes as a result of learning."
      ],
      "metadata": {
        "id": "9fnPqbxRKPhl"
      }
    },
    {
      "cell_type": "code",
      "source": [
        "################################################################################\n",
        "# TODO for students: Complete the lines with ... set the appropriate rewards for\n",
        "# for the evaluations function\n",
        "raise NotImplementedError(\"Exercise: Set the reward for different outcomes\")\n",
        "################################################################################\n",
        "\n",
        "# As a little trick to keep our code cleaner we 'hide' our bias term.\n",
        "# We to do this by augmenting the features to include a feature that always has the value '1'.\n",
        "# Then, the 'weight' associated with this feature, which always has a value of '1', effectively serves as the bias term.\n",
        "# After augmentation there is one extra column of features\n",
        "Xs_aug = np.hstack([Xs, np.ones((Xs.shape[0],1))])\n",
        "\n",
        "def np_sigmoid(x):\n",
        "  x = np.clip(x, -500, 500) #prevent overflow, fine because sigmoid saturates\n",
        "  return 1 / (1 + np.exp(-x))\n",
        "\n",
        "def eval_params_stochastic_single(W, x, y, verbose=False, rng=None):\n",
        "  \"\"\"\n",
        "  evaluates parameters of simple behaviour circuit given inputs and target\n",
        "  outputs, use numpy broadcasting to be fast and concise\n",
        "  Args:\n",
        "    W: (outputs(1) x inputs(65) np.array)\n",
        "       weights between sensory neurons and output neuron\n",
        "    x: (input(65) np.array) sensory input\n",
        "    y: (outputs(1) np.array) target behavioural output\n",
        "\n",
        "  Returns:\n",
        "    R: the reward obtained given the parameters, inputs and targets\n",
        "  \"\"\"\n",
        "  if rng is None:\n",
        "    rng = np.random.default_rng()\n",
        "  # activaation\n",
        "  a = np.dot(W,x)\n",
        "  # strike probability\n",
        "  y_hat = np_sigmoid(a)\n",
        "  # what the organism actually does\n",
        "  # rng.random is a sample from the uniform distribution on [0,1)\n",
        "  y_sample = rng.random() < y_hat\n",
        "  if y_sample == 1: #organism strikes\n",
        "    if y == 1: #prey is present\n",
        "      R = ...\n",
        "    else: # prey is not present\n",
        "      R = ...\n",
        "  else: # organism does not strike\n",
        "    R = ...\n",
        "  if verbose:\n",
        "    print(f'Probability of striking: {y_hat}')\n",
        "    action_string = 'Strike' if y_sample == 1 else 'No Strike'\n",
        "    print(f'Action taken: {action_string}')\n",
        "    target_string = 'Strike' if y == 1 else 'No Strike'\n",
        "    print(f'Correct Action: {target_string}')\n",
        "    print(f'Reward recieved: {R}')\n",
        "  else:\n",
        "    return R\n",
        "\n",
        "eval_rng = np.random.default_rng(0)\n",
        "W_test = np.zeros((1,65))\n",
        "eval_params_stochastic_single(W_test, Xs_aug[0], y1[0], verbose=True, rng=eval_rng)"
      ],
      "metadata": {
        "id": "dAB-xsyQNzFs",
        "colab": {
          "base_uri": "https://localhost:8080/",
          "height": 211
        },
        "outputId": "5cf8bd23-d35e-4c68-eb3f-58bfc11dc28d"
      },
      "execution_count": 6,
      "outputs": [
        {
          "output_type": "error",
          "ename": "NotImplementedError",
          "evalue": "Exercise: Set the reward for different outcomes",
          "traceback": [
            "\u001b[0;31m---------------------------------------------------------------------------\u001b[0m",
            "\u001b[0;31mNotImplementedError\u001b[0m                       Traceback (most recent call last)",
            "\u001b[0;32m<ipython-input-6-ff37001ffa4f>\u001b[0m in \u001b[0;36m<cell line: 4>\u001b[0;34m()\u001b[0m\n\u001b[1;32m      2\u001b[0m \u001b[0;31m# TODO for students: Complete the lines with ... set the appropriate rewards for\u001b[0m\u001b[0;34m\u001b[0m\u001b[0;34m\u001b[0m\u001b[0m\n\u001b[1;32m      3\u001b[0m \u001b[0;31m# for the evaluations function\u001b[0m\u001b[0;34m\u001b[0m\u001b[0;34m\u001b[0m\u001b[0m\n\u001b[0;32m----> 4\u001b[0;31m \u001b[0;32mraise\u001b[0m \u001b[0mNotImplementedError\u001b[0m\u001b[0;34m(\u001b[0m\u001b[0;34m\"Exercise: Set the reward for different outcomes\"\u001b[0m\u001b[0;34m)\u001b[0m\u001b[0;34m\u001b[0m\u001b[0;34m\u001b[0m\u001b[0m\n\u001b[0m\u001b[1;32m      5\u001b[0m \u001b[0;31m################################################################################\u001b[0m\u001b[0;34m\u001b[0m\u001b[0;34m\u001b[0m\u001b[0m\n\u001b[1;32m      6\u001b[0m \u001b[0;34m\u001b[0m\u001b[0m\n",
            "\u001b[0;31mNotImplementedError\u001b[0m: Exercise: Set the reward for different outcomes"
          ]
        }
      ]
    },
    {
      "cell_type": "code",
      "source": [
        "# to_remove solution\n",
        "\n",
        "# As a little trick to keep our code cleaner we 'hide' our bias term.\n",
        "# We to do this by augmenting the features to include a feature that always has the value '1'.\n",
        "# Then, the 'weight' associated with this feature, which always has a value of '1', effectively serves as the bias term.\n",
        "# After augmentation there is one extra column of features\n",
        "Xs_aug = np.hstack([Xs, np.ones((Xs.shape[0],1))])\n",
        "\n",
        "def np_sigmoid(x):\n",
        "  x = np.clip(x, -500, 500) #prevent overflow, fine because sigmoid saturates\n",
        "  return 1 / (1 + np.exp(-x))\n",
        "\n",
        "def eval_params_stochastic_single(W, x, y, verbose=False, rng=None):\n",
        "  \"\"\"\n",
        "  evaluates parameters of simple behaviour circuit given inputs and target\n",
        "  outputs, use numpy broadcasting to be fast and concise\n",
        "  Args:\n",
        "    W: (outputs(1) x inputs(65) np.array)\n",
        "       weights between sensory neurons and output neuron\n",
        "    x: (input(65) np.array) sensory input\n",
        "    y: (outputs(1) np.array) target behavioural output\n",
        "\n",
        "  Returns:\n",
        "    R: the reward obtained given the parameters, inputs and targets\n",
        "  \"\"\"\n",
        "  if rng is None:\n",
        "    rng = np.random.default_rng()\n",
        "  # activaation\n",
        "  a = np.dot(W,x)\n",
        "  # strike probability\n",
        "  y_hat = np_sigmoid(a)\n",
        "  # what the organism actually does\n",
        "  # rng.random is a sample from the uniform distribution on [0,1)\n",
        "  y_sample = rng.random() < y_hat\n",
        "  if y_sample == 1: #organism strikes\n",
        "    if y == 1: #prey is present\n",
        "      R = 1\n",
        "    else: # prey is not present\n",
        "      R = -1\n",
        "  else: # organism does not strike\n",
        "    R = 0\n",
        "  if verbose:\n",
        "    print(f'Probability of striking: {y_hat}')\n",
        "    action_string = 'Strike' if y_sample == 1 else 'No Strike'\n",
        "    print(f'Action taken: {action_string}')\n",
        "    target_string = 'Strike' if y == 1 else 'No Strike'\n",
        "    print(f'Correct Action: {target_string}')\n",
        "    print(f'Reward recieved: {R}')\n",
        "  else:\n",
        "    return R\n",
        "\n",
        "eval_rng = np.random.default_rng(0)\n",
        "W_test = np.zeros((1,65))\n",
        "eval_params_stochastic_single(W_test, Xs_aug[0], y1[0], verbose=True, rng=eval_rng)"
      ],
      "metadata": {
        "id": "mz00q3D8h1kx"
      },
      "execution_count": null,
      "outputs": []
    },
    {
      "cell_type": "markdown",
      "source": [
        "So that evaluates the reward over a single experience. We can use numpy broadcasting to apply this same reward calculation efficiently to many, even all, the input-out pairs in our data set. We call this **batch** evaluation."
      ],
      "metadata": {
        "id": "gPh6sBUTnZnc"
      }
    },
    {
      "cell_type": "code",
      "source": [
        "################################################################################\n",
        "# TODO for students: Complete the lines with ... to compute the number of\n",
        "# True Positives, False Positives, True Negative and False Negatives in the batch\n",
        "raise NotImplementedError(\"Exercise: Compute the number of different Outcomes\")\n",
        "################################################################################\n",
        "\n",
        "def eval_params_stochastic_batch(W, x, y, verbose=False, rng=None):\n",
        "  \"\"\"\n",
        "  evaluates parameters of simple behaviour circuit given inputs and target\n",
        "  outputs, use numpy broadcasting to be fast and concise\n",
        "  Args:\n",
        "    W: (outputs(1) x inputs(65) np.array)\n",
        "       weights between sensory neurons and output neuron\n",
        "    x: (input(65) x batch np.array) sensory input\n",
        "    y: (outputs(1) x batch np.array) target behavioural output\n",
        "\n",
        "  Returns:\n",
        "    R: the reward obtained given the parameters, inputs and targets\n",
        "  \"\"\"\n",
        "  if rng is None:\n",
        "    rng = np.random.default_rng()\n",
        "  # activaation\n",
        "  a = np.dot(W,x) # 1 x batch\n",
        "  # strike probability\n",
        "  y_hat = np_sigmoid(a) # 1 x batch\n",
        "  # what the organism actually does\n",
        "  # rng.random is a sample from the uniform distribution on [0,1)\n",
        "  y_sample = rng.random(size=y_hat.shape) < y_hat  # 1 x batch\n",
        "  R = np.zeros(y_sample.shape)\n",
        "  did_strike = y_sample == ...\n",
        "  did_not_strike = y_sample == ...\n",
        "  should_strike = y == ...\n",
        "  should_not_strike = y == ...\n",
        "  TP = np.logical_and(did_strike, should_strike) # True Positive\n",
        "  FP = np.logical_and(did_strike, should_not_strike) # False Positive\n",
        "  FN = np.logical_and(did_not_strike, should_strike) # False Negative\n",
        "  TN = np.logical_and(did_not_strike, should_not_strike) # True Negative\n",
        "  R[TP] = 1\n",
        "  R[FP] = -1\n",
        "  R[FN] = 0\n",
        "  R[TN] = 0\n",
        "  TPs = np.sum(TP)\n",
        "  FPs = np.sum(FP)\n",
        "  FNs = np.sum(FN)\n",
        "  TNs = np.sum(TN)\n",
        "  confusion_matrix = np.array([[TPs, FNs], [FPs, TNs]])\n",
        "  if verbose:\n",
        "    table = [[\"Should Strike\", TPs, FNs],\n",
        "                 [\"Shouldn't Strike\", FPs, TNs]]\n",
        "    headers = [\"\", \"Did Strike\", \"Didn't Strike\"]\n",
        "    print(\"Confusion_matrix: \")\n",
        "    print(tabulate(table, headers=headers, tablefmt=\"grid\"))\n",
        "    print(f'Total Reward: {np.sum(R)}')\n",
        "    return None\n",
        "  else:\n",
        "    return np.sum(R), confusion_matrix\n",
        "\n",
        "eval_rng = np.random.default_rng(0)\n",
        "W_test = np.zeros((1,65))\n",
        "# Xs_aug and y1 are batch x 65 and batch x 1, function wants transpose of this shape\n",
        "# for broadcasting to work\n",
        "print('Evaluation 1')\n",
        "eval_params_stochastic_batch(W_test, Xs_aug.T, y1.T, verbose=True, rng=eval_rng)\n",
        "print('\\nEvaluation 2')\n",
        "eval_params_stochastic_batch(W_test, Xs_aug.T, y1.T, verbose=True, rng=eval_rng)"
      ],
      "metadata": {
        "id": "CI-p0If_8ucJ"
      },
      "execution_count": null,
      "outputs": []
    },
    {
      "cell_type": "code",
      "source": [
        "# to_remove solution\n",
        "\n",
        "# As a little trick to keep our code cleaner we 'hide' our bias term.\n",
        "# We to do this by augmenting the features to include a feature that always has the value '1'.\n",
        "# Then, the 'weight' associated with this feature, which always has a value of '1', effectively serves as the bias term.\n",
        "# After augmentation there is one extra column of features\n",
        "Xs_aug = np.hstack([Xs, np.ones((Xs.shape[0],1))])\n",
        "\n",
        "def np_sigmoid(x):\n",
        "  x = np.clip(x, -500, 500) #prevent overflow, fine because sigmoid saturates\n",
        "  return 1 / (1 + np.exp(-x))\n",
        "\n",
        "def eval_params_stochastic_batch(W, x, y, verbose=False, rng=None):\n",
        "  \"\"\"\n",
        "  evaluates parameters of simple behaviour circuit given inputs and target\n",
        "  outputs, use numpy broadcasting to be fast and concise\n",
        "  Args:\n",
        "    W: (outputs(1) x inputs(65) np.array)\n",
        "       weights between sensory neurons and output neuron\n",
        "    x: (input(65) x batch np.array) sensory input\n",
        "    y: (outputs(1) x batch np.array) target behavioural output\n",
        "\n",
        "  Returns:\n",
        "    R: the reward obtained given the parameters, inputs and targets\n",
        "  \"\"\"\n",
        "  if rng is None:\n",
        "    rng = np.random.default_rng()\n",
        "  # activaation\n",
        "  a = np.dot(W,x) # 1 x batch\n",
        "  # strike probability\n",
        "  y_hat = np_sigmoid(a) # 1 x batch\n",
        "  # what the organism actually does\n",
        "  # rng.random is a sample from the uniform distribution on [0,1)\n",
        "  y_sample = rng.random(size=y_hat.shape) < y_hat  # 1 x batch\n",
        "  R = np.zeros(y_sample.shape)\n",
        "  did_strike = y_sample == 1\n",
        "  did_not_strike = y_sample == 0\n",
        "  should_strike = y == 1\n",
        "  should_not_strike = y == 0\n",
        "  TP = np.logical_and(did_strike, should_strike) # True Positive\n",
        "  FP = np.logical_and(did_strike, should_not_strike) # False Positive\n",
        "  FN = np.logical_and(did_not_strike, should_strike) # False Negative\n",
        "  TN = np.logical_and(did_not_strike, should_not_strike) # True Negative\n",
        "  R[TP] = 1\n",
        "  R[FP] = -1\n",
        "  R[FN] = 0\n",
        "  R[TN] = 0\n",
        "  TPs = np.sum(TP)\n",
        "  FPs = np.sum(FP)\n",
        "  FNs = np.sum(FN)\n",
        "  TNs = np.sum(TN)\n",
        "  confusion_matrix = np.array([[TPs, FNs], [FPs, TNs]])\n",
        "  if verbose:\n",
        "    table = [[\"Should Strike\", TPs, FNs],\n",
        "                 [\"Shouldn't Strike\", FPs, TNs]]\n",
        "    headers = [\"\", \"Did Strike\", \"Didn't Strike\"]\n",
        "    print(\"Confusion_matrix: \")\n",
        "    print(tabulate(table, headers=headers, tablefmt=\"grid\"))\n",
        "    print(f'Total Reward: {np.sum(R)}')\n",
        "    return None\n",
        "  else:\n",
        "    return np.sum(R), confusion_matrix\n",
        "\n",
        "eval_rng = np.random.default_rng(0)\n",
        "W_test = np.zeros((1,65))\n",
        "# Xs_aug and y1 are batch x 65 and batch x 1, function wants transpose of this shape\n",
        "# for broadcasting to work\n",
        "print('Evaluation 1')\n",
        "eval_params_stochastic_batch(W_test, Xs_aug.T, y1.T, verbose=True, rng=eval_rng)\n",
        "print('\\nEvaluation 2')\n",
        "eval_params_stochastic_batch(W_test, Xs_aug.T, y1.T, verbose=True, rng=eval_rng)"
      ],
      "metadata": {
        "id": "pMYaMDiYp9TS",
        "outputId": "2fca2ecb-aef6-46cf-90ff-a8f3d4379c55",
        "colab": {
          "base_uri": "https://localhost:8080/"
        }
      },
      "execution_count": 7,
      "outputs": [
        {
          "output_type": "stream",
          "name": "stdout",
          "text": [
            "Evaluation 1\n",
            "Confusion_matrix: \n",
            "+------------------+--------------+-----------------+\n",
            "|                  |   Did Strike |   Didn't Strike |\n",
            "+==================+==============+=================+\n",
            "| Should Strike    |         1386 |            1443 |\n",
            "+------------------+--------------+-----------------+\n",
            "| Shouldn't Strike |         1420 |            1371 |\n",
            "+------------------+--------------+-----------------+\n",
            "Total Reward: -34.0\n",
            "\n",
            "Evaluation 2\n",
            "Confusion_matrix: \n",
            "+------------------+--------------+-----------------+\n",
            "|                  |   Did Strike |   Didn't Strike |\n",
            "+==================+==============+=================+\n",
            "| Should Strike    |         1419 |            1410 |\n",
            "+------------------+--------------+-----------------+\n",
            "| Shouldn't Strike |         1404 |            1387 |\n",
            "+------------------+--------------+-----------------+\n",
            "Total Reward: 15.0\n"
          ]
        }
      ]
    },
    {
      "cell_type": "markdown",
      "source": [
        "Note that the two evaluations give different total rewards, even though the exact same synaptic weights $\\mathbf{W}$ are being used, on the exact same batch of inputs $\\mathbf{x}$ and prey presence indicators $y$. This is expected given the inherent stochasticity in the organisms behaviour. This stochastic evaluation of the synaptic weights will make things difficult for the perturb-measure-step alogorithm though, because it relies upon precise function evaluations to get good estimates of the rate of improvement in a given direction in parameter space. We can overcome this stochastic evaluation issue though by using our knowledge of how the different probabilities of striking or not determine the expected, or average reward. By directly evaluating expected reward we can recover a precise, deterministic evaluation function."
      ],
      "metadata": {
        "id": "SNMQj2pq5c9I"
      }
    },
    {
      "cell_type": "code",
      "source": [
        "def eval_params_expectation_batch(W, x, y, verbose=False):\n",
        "  \"\"\"\n",
        "  evaluates parameters of simple behaviour circuit given inputs and target\n",
        "  outputs, use numpy broadcasting to be fast and concise\n",
        "  Args:\n",
        "    W: (outputs(1) x inputs(65) np.array)\n",
        "       weights between sensory neurons and output neuron\n",
        "    x: (input(65) x batch np.array) sensory input\n",
        "    y: (outputs(1) x batch np.array) target behavioural output\n",
        "\n",
        "  Returns:\n",
        "    R_exp: the expected reward obtained over the batch given the parameters, inputs and targets\n",
        "  \"\"\"\n",
        "  # activaation\n",
        "  a = np.dot(W,x) # 1 x batch\n",
        "  # strike probability\n",
        "  y_hat = np_sigmoid(a) # 1 x batch\n",
        "  # Expected true positives (TPs) and false positives (FPs)\n",
        "  TPs = np.sum(y_hat * y)  # Sum of strike probabilities where true label is 1\n",
        "  FPs = np.sum(y_hat * (1 - y))  # Sum of strike probabilities where true label is 0\n",
        "  # Expected false negatives (FN_e) and true negatives (TN_e)\n",
        "  FNs = np.sum((1 - y_hat) * y)  # Sum of no strike probabilities where true label is 1\n",
        "  TNs = np.sum((1 - y_hat) * (1 - y))  # Sum of no strike probabilities where true label is 0\n",
        "  R_exp = 1 * TPs + 0 * FNs + -1 * FPs + 0 * TNs\n",
        "  confusion_matrix = np.array([[TPs, FNs], [FPs, TNs]])\n",
        "  if verbose:\n",
        "    table = [[\"Should Strike\", TPs, FNs],\n",
        "             [\"Shouldn't Strike\", FPs, TNs]]\n",
        "    headers = [\"\", \"Did Strike\", \"Didn't Strike\"]\n",
        "    print(\"Confusion_matrix: \")\n",
        "    print(tabulate(table, headers=headers, tablefmt=\"grid\"))\n",
        "    print(f'Total Reward: {R_exp}')\n",
        "    return None\n",
        "  else:\n",
        "    return R_exp, confusion_matrix\n",
        "\n",
        "W_test = np.zeros((1,65))\n",
        "# Xs_aug and y1 are batch x 65 and batch x 1, function wants transpose of this shape\n",
        "# for broadcasting to work\n",
        "print('Evaluation 1')\n",
        "eval_params_expectation_batch(W_test, Xs_aug.T, y1.T, verbose=True)\n",
        "print('\\nEvaluation 2')\n",
        "eval_params_expectation_batch(W_test, Xs_aug.T, y1.T, verbose=True)"
      ],
      "metadata": {
        "id": "ZDlv-zwC6hkm",
        "outputId": "a5ea4a2e-b164-4d8b-a454-6d751e8294eb",
        "colab": {
          "base_uri": "https://localhost:8080/"
        }
      },
      "execution_count": 8,
      "outputs": [
        {
          "output_type": "stream",
          "name": "stdout",
          "text": [
            "Evaluation 1\n",
            "Confusion_matrix: \n",
            "+------------------+--------------+-----------------+\n",
            "|                  |   Did Strike |   Didn't Strike |\n",
            "+==================+==============+=================+\n",
            "| Should Strike    |       1414.5 |          1414.5 |\n",
            "+------------------+--------------+-----------------+\n",
            "| Shouldn't Strike |       1395.5 |          1395.5 |\n",
            "+------------------+--------------+-----------------+\n",
            "Total Reward: 19.0\n",
            "\n",
            "Evaluation 2\n",
            "Confusion_matrix: \n",
            "+------------------+--------------+-----------------+\n",
            "|                  |   Did Strike |   Didn't Strike |\n",
            "+==================+==============+=================+\n",
            "| Should Strike    |       1414.5 |          1414.5 |\n",
            "+------------------+--------------+-----------------+\n",
            "| Shouldn't Strike |       1395.5 |          1395.5 |\n",
            "+------------------+--------------+-----------------+\n",
            "Total Reward: 19.0\n"
          ]
        }
      ]
    },
    {
      "cell_type": "markdown",
      "source": [
        "Note that as hoped, the evaluation of parameters using expected reward, is consistent, as it should be. As a sanity check we see that the distribution of stochastic evaluations is roughly symmetric, and centered around this expectation, with the average of many such stochastic evaluations becoming close to our calculated expected value."
      ],
      "metadata": {
        "id": "JACJHFAi90df"
      }
    },
    {
      "cell_type": "code",
      "source": [
        "# @markdown **Run this cell** to visualize the distribution of stochastic parameter evaluation, relative to the expectation.\n",
        "def eval_params_expectation_batch(W, x, y, verbose=False):\n",
        "  \"\"\"\n",
        "  evaluates parameters of simple behaviour circuit given inputs and target\n",
        "  outputs, use numpy broadcasting to be fast and concise\n",
        "  Args:\n",
        "    W: (outputs(1) x inputs(65) np.array)\n",
        "       weights between sensory neurons and output neuron\n",
        "    x: (input(65) x batch np.array) sensory input\n",
        "    y: (outputs(1) x batch np.array) target behavioural output\n",
        "\n",
        "  Returns:\n",
        "    R_exp: the expected reward obtained over the batch given the parameters, inputs and targets\n",
        "  \"\"\"\n",
        "  # activaation\n",
        "  a = np.dot(W,x) # 1 x batch\n",
        "  # strike probability\n",
        "  y_hat = np_sigmoid(a) # 1 x batch\n",
        "  # Expected true positives (TPs) and false positives (FPs)\n",
        "  TPs = np.sum(y_hat * y)  # Sum of strike probabilities where true label is 1\n",
        "  FPs = np.sum(y_hat * (1 - y))  # Sum of strike probabilities where true label is 0\n",
        "  # Expected false negatives (FN_e) and true negatives (TN_e)\n",
        "  FNs = np.sum((1 - y_hat) * y)  # Sum of no strike probabilities where true label is 1\n",
        "  TNs = np.sum((1 - y_hat) * (1 - y))  # Sum of no strike probabilities where true label is 0\n",
        "  R_exp = 1 * TPs + 0 * FNs + -1 * FPs + 0 * TNs\n",
        "  confusion_matrix = np.array([[TPs, FNs], [FPs, TNs]])\n",
        "  if verbose:\n",
        "    table = [[\"Should Strike\", TPs, FNs],\n",
        "             [\"Shouldn't Strike\", FPs, TNs]]\n",
        "    headers = [\"\", \"Did Strike\", \"Didn't Strike\"]\n",
        "    print(\"Confusion_matrix: \")\n",
        "    print(tabulate(table, headers=headers, tablefmt=\"grid\"))\n",
        "    print(f'Total Reward: {R_exp}')\n",
        "    return None\n",
        "  else:\n",
        "    return R_exp, confusion_matrix\n",
        "\n",
        "def eval_params_stochastic_batch(W, x, y, verbose=False, rng=None):\n",
        "  \"\"\"\n",
        "  evaluates parameters of simple behaviour circuit given inputs and target\n",
        "  outputs, use numpy broadcasting to be fast and concise\n",
        "  Args:\n",
        "    W: (outputs(1) x inputs(65) np.array)\n",
        "       weights between sensory neurons and output neuron\n",
        "    x: (input(65) x batch np.array) sensory input\n",
        "    y: (outputs(1) x batch np.array) target behavioural output\n",
        "\n",
        "  Returns:\n",
        "    R: the reward obtained given the parameters, inputs and targets\n",
        "  \"\"\"\n",
        "  if rng is None:\n",
        "    rng = np.random.default_rng()\n",
        "  # activaation\n",
        "  a = np.dot(W,x) # 1 x batch\n",
        "  # strike probability\n",
        "  y_hat = np_sigmoid(a) # 1 x batch\n",
        "  # what the organism actually does\n",
        "  # rng.random is a sample from the uniform distribution on [0,1)\n",
        "  y_sample = rng.random(size=y_hat.shape) < y_hat  # 1 x batch\n",
        "  R = np.zeros(y_sample.shape)\n",
        "  did_strike = y_sample == 1\n",
        "  did_not_strike = y_sample == 0\n",
        "  should_strike = y == 1\n",
        "  should_not_strike = y == 0\n",
        "  TP = np.logical_and(did_strike, should_strike) # True Positive\n",
        "  FP = np.logical_and(did_strike, should_not_strike) # False Positive\n",
        "  FN = np.logical_and(did_not_strike, should_strike) # False Negative\n",
        "  TN = np.logical_and(did_not_strike, should_not_strike) # True Negative\n",
        "  R[TP] = 1\n",
        "  R[FP] = -1\n",
        "  R[FN] = 0\n",
        "  R[TN] = 0\n",
        "  TPs = np.sum(TP)\n",
        "  FPs = np.sum(FP)\n",
        "  FNs = np.sum(FN)\n",
        "  TNs = np.sum(TN)\n",
        "  confusion_matrix = np.array([[TPs, FNs], [FPs, TNs]])\n",
        "  if verbose:\n",
        "    table = [[\"Should Strike\", TPs, FNs],\n",
        "                 [\"Shouldn't Strike\", FPs, TNs]]\n",
        "    headers = [\"\", \"Did Strike\", \"Didn't Strike\"]\n",
        "    print(\"Confusion_matrix: \")\n",
        "    print(tabulate(table, headers=headers, tablefmt=\"grid\"))\n",
        "    print(f'Total Reward: {np.sum(R)}')\n",
        "    return None\n",
        "  else:\n",
        "    return np.sum(R), confusion_matrix\n",
        "\n",
        "W_test = np.zeros((1,65))\n",
        "exp_reward, _ = eval_params_expectation_batch(W_test, Xs_aug.T, y1.T, verbose=False)\n",
        "\n",
        "# Generate stochastic rewards\n",
        "stochastic_rewards = []\n",
        "for _ in range(500):  # Simulate 100 times to create a distribution\n",
        "  r, _ = eval_params_stochastic_batch(W_test, Xs_aug.T, y1.T, verbose=False)\n",
        "  stochastic_rewards.append(r)\n",
        "\n",
        "# Plotting\n",
        "fig, ax = plt.subplots(figsize=(10, 6))\n",
        "remove_ip_clutter(fig)\n",
        "ax.hist(stochastic_rewards, bins=20, alpha=0.75, label='Stochastic Evaluations')\n",
        "ax.axvline(x=exp_reward, color='r', linestyle='dashed', linewidth=2, label=f'Expected Reward: {exp_reward}')\n",
        "ax.set_title('Comparison of Stochastic Evaluations and Expected Reward')\n",
        "ax.set_xlabel('Reward')\n",
        "ax.set_ylabel('Frequency')\n",
        "ax.legend()\n",
        "plt.show()"
      ],
      "metadata": {
        "cellView": "form",
        "id": "fGcMioTH9zxZ",
        "outputId": "0d1ba067-fddf-48bc-c9bd-ac87df3b6395",
        "colab": {
          "base_uri": "https://localhost:8080/",
          "height": 625,
          "referenced_widgets": [
            "2720fb1f3ffb494fbf9f18880c594821",
            "459479346e624be497c4616678044a8f",
            "c34c810d5ebf407c8e3131b4a96375d0",
            "a457bc318440446f8f06d07a793a46dd"
          ]
        }
      },
      "execution_count": 9,
      "outputs": [
        {
          "output_type": "display_data",
          "data": {
            "text/plain": [
              "Canvas(footer_visible=False, header_visible=False, resizable=False, toolbar=Toolbar(toolitems=[('Home', 'Reset…"
            ],
            "image/png": "[encoded data removed]",
            "text/html": [
              "\n",
              "            <div style=\"display: inline-block;\">\n",
              "                <div class=\"jupyter-widgets widget-label\" style=\"text-align: center;\">\n",
              "                    Figure\n",
              "                </div>\n",
              "                <img src='data:image/png;base64,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' width=1000.0/>\n",
              "            </div>\n",
              "        "
            ],
            "application/vnd.jupyter.widget-view+json": {
              "version_major": 2,
              "version_minor": 0,
              "model_id": "2720fb1f3ffb494fbf9f18880c594821"
            }
          },
          "metadata": {
            "application/vnd.jupyter.widget-view+json": {
              "colab": {
                "custom_widget_manager": {
                  "url": "https://ssl.gstatic.com/colaboratory-static/widgets/colab-cdn-widget-manager/2b70e893a8ba7c0f/manager.min.js"
                }
              }
            }
          }
        }
      ]
    },
    {
      "cell_type": "markdown",
      "source": [
        "As yet another sanity check we calculate the expected reward when striking and not striking with equal probability, in all circumstances, which is what we expect from a $\\mathbf{W}$ of all zeros."
      ],
      "metadata": {
        "id": "q_M7oYlFC9y-"
      }
    },
    {
      "cell_type": "code",
      "source": [
        "# There are this many cases where striking is good\n",
        "np.sum(y1 == 1)"
      ],
      "metadata": {
        "id": "k1lP9VvCPLNq",
        "outputId": "96a1d631-0c13-46c4-86a1-1d6fed1899f5",
        "colab": {
          "base_uri": "https://localhost:8080/"
        }
      },
      "execution_count": 10,
      "outputs": [
        {
          "output_type": "execute_result",
          "data": {
            "text/plain": [
              "2829"
            ]
          },
          "metadata": {},
          "execution_count": 10
        }
      ]
    },
    {
      "cell_type": "code",
      "source": [
        "# And this many cases where striking is bad\n",
        "np.sum(y1 == 0)"
      ],
      "metadata": {
        "id": "FjR08i1kPSoF",
        "outputId": "05371c21-d083-4d67-e563-a3f56ad26c31",
        "colab": {
          "base_uri": "https://localhost:8080/"
        }
      },
      "execution_count": 11,
      "outputs": [
        {
          "output_type": "execute_result",
          "data": {
            "text/plain": [
              "2791"
            ]
          },
          "metadata": {},
          "execution_count": 11
        }
      ]
    },
    {
      "cell_type": "code",
      "source": [
        "# W = 0 should strike half the time no matter what,\n",
        "# in which case would expect a reward of\n",
        "(2829 - 2791) / 2"
      ],
      "metadata": {
        "id": "fKcCR599Piys",
        "outputId": "0d214b62-7576-4ca8-8753-23b843a80482",
        "colab": {
          "base_uri": "https://localhost:8080/"
        }
      },
      "execution_count": 12,
      "outputs": [
        {
          "output_type": "execute_result",
          "data": {
            "text/plain": [
              "19.0"
            ]
          },
          "metadata": {},
          "execution_count": 12
        }
      ]
    },
    {
      "cell_type": "markdown",
      "source": [
        "That all checks out, so now that we have some confidence in our evaluation function let's see if perturb-measure-step is able to find a good set of values for $\\mathbf{W}$ using the batch expected value version of parameter evaluation. Run the training loop. The process will take a minute or two to complete, while its running inspect the code and see if it makes sense to you."
      ],
      "metadata": {
        "id": "EK8zI-aSDTJb"
      }
    },
    {
      "cell_type": "code",
      "source": [
        "# @title Stochastic-Perturb-Measure-Step Training Loop\n",
        "learn_rng = np.random.default_rng(0)\n",
        "num_steps = 60000\n",
        "step_scale = 0.002\n",
        "dimensional_scale_factor = np.sqrt(65)\n",
        "perturbation_scale = 0.0001 # std of gaussian test perturbations\n",
        "W_init = np.zeros((1,65))\n",
        "W = W_init\n",
        "start_time = time.time()\n",
        "for step in range(num_steps):\n",
        "  R_current, _ = eval_params_expectation_batch(W, Xs_aug.T, y1.T)\n",
        "  raw_test_perturb = learn_rng.standard_normal(size=(1,65))\n",
        "  unit_test_perturb = raw_test_perturb / np.linalg.norm(raw_test_perturb.flatten())\n",
        "  test_perturbation = unit_test_perturb * perturbation_scale\n",
        "  R_test, _ = eval_params_expectation_batch(W + test_perturbation, Xs_aug.T, y1.T)\n",
        "  directional_grad_est = (R_test - R_current) / perturbation_scale\n",
        "  W += step_scale * dimensional_scale_factor * directional_grad_est * unit_test_perturb\n",
        "\n",
        "  if step == 0 or (step + 1) % 3000 == 0:\n",
        "    elapsed_time = time.time() - start_time\n",
        "    print(f'Step {step + 1}/{num_steps} | Expected Full Batch Reward: {R_current:.6f} | Time: {elapsed_time:.2f}s | Avg. Time Per Step: {1000*elapsed_time/(step+1):.2f}ms')\n",
        "eval_params_expectation_batch(W, Xs_aug.T, y1.T, verbose=True)"
      ],
      "metadata": {
        "id": "DPCBERK3Q0kz",
        "outputId": "84ec3f27-5a63-4400-e18b-450c7b19fd43",
        "colab": {
          "base_uri": "https://localhost:8080/"
        }
      },
      "execution_count": 20,
      "outputs": [
        {
          "output_type": "stream",
          "name": "stdout",
          "text": [
            "Step 1/60000 | Expected Full Batch Reward: 19.000000 | Time: 0.00s | Avg. Time Per Step: 1.61ms\n",
            "Step 3000/60000 | Expected Full Batch Reward: 2465.388192 | Time: 2.72s | Avg. Time Per Step: 0.91ms\n",
            "Step 6000/60000 | Expected Full Batch Reward: 2481.044387 | Time: 5.39s | Avg. Time Per Step: 0.90ms\n",
            "Step 9000/60000 | Expected Full Batch Reward: 2491.196364 | Time: 8.07s | Avg. Time Per Step: 0.90ms\n",
            "Step 12000/60000 | Expected Full Batch Reward: 2493.919487 | Time: 12.43s | Avg. Time Per Step: 1.04ms\n",
            "Step 15000/60000 | Expected Full Batch Reward: 2493.363589 | Time: 15.77s | Avg. Time Per Step: 1.05ms\n",
            "Step 18000/60000 | Expected Full Batch Reward: 2499.385890 | Time: 18.50s | Avg. Time Per Step: 1.03ms\n",
            "Step 21000/60000 | Expected Full Batch Reward: 2502.837441 | Time: 21.22s | Avg. Time Per Step: 1.01ms\n",
            "Step 24000/60000 | Expected Full Batch Reward: 2499.388272 | Time: 24.17s | Avg. Time Per Step: 1.01ms\n",
            "Step 27000/60000 | Expected Full Batch Reward: 2509.477245 | Time: 28.79s | Avg. Time Per Step: 1.07ms\n",
            "Step 30000/60000 | Expected Full Batch Reward: 2509.248321 | Time: 31.47s | Avg. Time Per Step: 1.05ms\n",
            "Step 33000/60000 | Expected Full Batch Reward: 2506.456343 | Time: 34.19s | Avg. Time Per Step: 1.04ms\n",
            "Step 36000/60000 | Expected Full Batch Reward: 2509.403976 | Time: 36.89s | Avg. Time Per Step: 1.02ms\n",
            "Step 39000/60000 | Expected Full Batch Reward: 2508.228428 | Time: 41.56s | Avg. Time Per Step: 1.07ms\n",
            "Step 42000/60000 | Expected Full Batch Reward: 2508.970600 | Time: 44.55s | Avg. Time Per Step: 1.06ms\n",
            "Step 45000/60000 | Expected Full Batch Reward: 2511.349019 | Time: 47.29s | Avg. Time Per Step: 1.05ms\n",
            "Step 48000/60000 | Expected Full Batch Reward: 2500.910305 | Time: 50.01s | Avg. Time Per Step: 1.04ms\n",
            "Step 51000/60000 | Expected Full Batch Reward: 2508.810479 | Time: 53.55s | Avg. Time Per Step: 1.05ms\n",
            "Step 54000/60000 | Expected Full Batch Reward: 2517.121831 | Time: 57.64s | Avg. Time Per Step: 1.07ms\n",
            "Step 57000/60000 | Expected Full Batch Reward: 2515.771977 | Time: 60.36s | Avg. Time Per Step: 1.06ms\n",
            "Step 60000/60000 | Expected Full Batch Reward: 2519.473953 | Time: 63.04s | Avg. Time Per Step: 1.05ms\n",
            "Confusion_matrix: \n",
            "+------------------+--------------+-----------------+\n",
            "|                  |   Did Strike |   Didn't Strike |\n",
            "+==================+==============+=================+\n",
            "| Should Strike    |     2661.37  |         167.632 |\n",
            "+------------------+--------------+-----------------+\n",
            "| Shouldn't Strike |      141.878 |        2649.12  |\n",
            "+------------------+--------------+-----------------+\n",
            "Total Reward: 2519.4896784108005\n"
          ]
        }
      ]
    },
    {
      "cell_type": "markdown",
      "source": [
        "The best possible score is 2829, and perturb measure step is able to discover network parameters that achieve a score of roughly 2500, in 60,000 steps. This is pretty good, better than we the humans were able to do in terms of figuring out the pattern, before we got bored of the problem in a few minutes. This is all well and good as an optimization exercise, but if we want to connect this form of optimization back to our inspirational cartoon of neural behaviour as a kind of learning, there are a few issues. Three major issues stand out as ways in which the perturb-measure-step training loop above deviates from a process that is simple and local enough to serve as plausible (even if very abstract) model of a physiological syanptic plasticity processes. These key issues are:\n",
        "1. The organism's striking behaviour is stochastic but expected reward outcomes, not actual obtained reward outcomes are used to drive updates to the synaptic parameters $\\mathbf{W}$.\n",
        "2. The evaluation of a given synaptic configuration is based on performance over all of the 5620 of distcint input-outpur pairs (sensory-pattern, prey-presence) in the data set that defines the \"environment\" of this learning problem. Physiologically viable would be evaluations over a single, or at least relatively few, stimulus-response-reward episodes.\n",
        "3. Evaluations are performed in seperate perturbation and non-perturbation modes in the training loop above. A single mode of evaluation that operated fully \"online\" and in congunction with the ongoing generation of behaviour is more simple and easy to imagine physiological implementations of.\n",
        "\n",
        "There are of course many other ways in which the this cartoon learning system deviates from what might plausibly be implemented in an actual simple neural system, but these have more to do with the abstractness of the model, and can concievibly be remedied with careful choices about how to make the model more concrete so as to map nicely onto measurable phyiological features of neural plasticity. In contrast, for the critical points oulined above, it is difficult to imagine how any of these key issues can be overcome physiologically, without invoking additional complex neural circuits and processes, the orgin of which also need to be explained. So for this sequence and the next we focus on addressing these core issues: tracking base versus perturbation evaluation, using batched instead of single experience based reward to drive learning, and using expected versus actual recieved (stochastic) reward to drive learning.\n",
        "\n",
        "In the rest of this sequence we will adapt the base perturb-measure-step update rule to address each of these three issues. But first let's just get a bit of a sense of how these issues impinge upon the fantasy of using perturb-measure-step as an algorithm that might feasibly be used by a living organism to update the connection strengths of this simple network determining behaviour in response to stimulus. In each interation in the vanilla perturb-measure-step training loop implemented above the organism first evaluates its current parameters based on the expected reward over all 5620 possible experiences. It then perturbs its synaptic parameters and evaluates its performance again on all 5620 experiences, these two evaluations are compared to determine $\\Delta R$ and this together with the pertrubations $\\Delta W_i$ determine the synaptic connections update according to\n",
        "\n",
        "$$ W_i' = W_i + s \\ \\Delta W_i \\ \\Delta R $$\n",
        "where\n",
        "$$\\Delta R = R(\\mathbf{W} + \\Delta \\mathbf{W}) - R(\\mathbf{W})$$\n",
        "and $R(\\mathbf{W})$ is our reward/evaluation function.\n",
        "Note that $s$ needs to be carefully choosen to account both for the average size of the perturbation $\\| \\mathbf{W} \\|$, the appropriately level of scaling given the expected alignment of a random perturbation with the gradient given the dimensionality of $\\mathbf{W}$, and the relative scale of the gradient. While this is can be a challenge in practical applications, the \"dialing-in\" of meta-parameters of learning algorithms is something that we expect evolution to be quite good at.\n",
        "\n",
        "This process would require the organism somehow integrate all of the reward outcomes of all 5620 experiences, remember this aggregated outcome, then integrate up the reward outcomes of another 5620 experiences accumulated while in 'perturbation' mode, and then update its parameters based on a comparison of the remembered and the recently accumlated aggregate reward outcome. This all seems a bit complicated, and difficult to implement with simple, primarily local, synaptic plasticity mechanisms. What we would like intead is a version of perturb-measure-step that updates its synaptic weights as a result of every reward experience, doesn't rely on an expected reward calculation, and that does not have a seperate perturbation mode.\n",
        "\n",
        "Removing the seperate perturbation mode is perhaps the easiest issue to address so we take this on first."
      ],
      "metadata": {
        "id": "T-Qw7kZ7T8Gp"
      }
    },
    {
      "cell_type": "markdown",
      "source": [
        "# 2.1.4.2 Stochastic-Step-Measure-Step\n",
        "\n",
        "One simple way to avoid a seperate perturbation evaluation is to simply compress the perturbation and the update into a single step. We call such an update method step-measure-step as contrasted with perturb measure step. This new update rule looks like this.\n",
        "\n",
        "\n",
        "\n",
        "$$\\ W_{i}(t+1)= W_i(t) + s \\ (W_i(t) - W_i(t-1)) \\ \\ R(\\mathbf{W}(t)) - R(\\mathbf{W}(t-1)) + \\xi_{i}(t)$$\n",
        "\n",
        "Previously we used $\\Delta$ to denote the perturbation and did not directly reference the parameter update. Because now we are combining the perturbation and the parameter update we use $\\Delta$ to denote this combined change, that is\n",
        "$$ \\ W_{i}(t+1) - W_i(t) = \\Delta W_i(t) $$\n",
        "\n",
        "Then the above simplifies\n",
        "\n",
        "$$ \\Delta W_i(t) = s \\ \\Delta W_i(t-1) \\ \\Delta R(t) + \\xi_i(t) $$\n",
        "Here $\\Delta R(t) = R(\\mathbf{W}(t)) - R(\\mathbf{W}(t-1))$\n",
        "\n",
        "Let's see if\n"
      ],
      "metadata": {
        "id": "Rdp1m0JJV2ff"
      }
    },
    {
      "cell_type": "code",
      "source": [
        "# @title Stochastic-Step-Measure-Step Training Loop\n",
        "learn_rng = np.random.default_rng(0)\n",
        "num_steps = 100000\n",
        "init_step_scale = 0.003 * np.sqrt(65)\n",
        "init_noise_scale = 0.0005\n",
        "total_scale = 1.0\n",
        "#later_step_scale = 0.002 * np.sqrt(65)\n",
        "#later_noise_scale = 0.0001\n",
        "W_init = np.zeros((1,65))\n",
        "W = W_init\n",
        "delta_W = np.zeros((1,65))\n",
        "R, _ = eval_params_expectation_batch(W, Xs_aug.T, y1.T)\n",
        "start_time = time.time()\n",
        "step_scale = init_step_scale\n",
        "noise_scale = init_noise_scale\n",
        "for step in range(num_steps):\n",
        "  R_old = R\n",
        "  R, _ = eval_params_expectation_batch(W, Xs_aug.T, y1.T)\n",
        "  delta_R = R - R_old\n",
        "  delta_W_noise = learn_rng.normal(0, noise_scale, size=(1,65))\n",
        "  delta_W = total_scale * (step_scale * delta_W * delta_R + delta_W_noise)\n",
        "  W += delta_W\n",
        "\n",
        "  if step == 0 or (step + 1) % 10000 == 0:\n",
        "    elapsed_time = time.time() - start_time\n",
        "    #print(f'Delta R: {delta_R}')\n",
        "    #print(f'Delta W: {delta_W}')\n",
        "    print(f'Step {step + 1}/{num_steps} | Expected Full Batch Reward: {R:.6f} | Time: {elapsed_time:.2f}s | Avg. Time Per Step: {1000*elapsed_time/(step+1):.2f}ms')\n",
        "    #if step > 40000:\n",
        "    #  step_scale = later_step_scale\n",
        "    #  noise_scale = later_noise_scale\n",
        "eval_params_expectation_batch(W, Xs_aug.T, y1.T, verbose=True)"
      ],
      "metadata": {
        "id": "5Q6yqqAJWCHo",
        "outputId": "925adb58-3cc3-43f2-dac1-3593db93618a",
        "colab": {
          "base_uri": "https://localhost:8080/"
        }
      },
      "execution_count": 22,
      "outputs": [
        {
          "output_type": "stream",
          "name": "stdout",
          "text": [
            "Step 1/100000 | Expected Full Batch Reward: 19.000000 | Time: 0.00s | Avg. Time Per Step: 2.42ms\n",
            "Step 10000/100000 | Expected Full Batch Reward: 1606.922149 | Time: 6.59s | Avg. Time Per Step: 0.66ms\n",
            "Step 20000/100000 | Expected Full Batch Reward: 1714.935587 | Time: 12.09s | Avg. Time Per Step: 0.60ms\n",
            "Step 30000/100000 | Expected Full Batch Reward: 1777.267511 | Time: 18.37s | Avg. Time Per Step: 0.61ms\n",
            "Step 40000/100000 | Expected Full Batch Reward: 1859.405580 | Time: 22.96s | Avg. Time Per Step: 0.57ms\n",
            "Step 50000/100000 | Expected Full Batch Reward: 1929.047608 | Time: 29.85s | Avg. Time Per Step: 0.60ms\n",
            "Step 60000/100000 | Expected Full Batch Reward: 1951.763270 | Time: 34.46s | Avg. Time Per Step: 0.57ms\n",
            "Step 70000/100000 | Expected Full Batch Reward: 1960.317681 | Time: 40.07s | Avg. Time Per Step: 0.57ms\n",
            "Step 80000/100000 | Expected Full Batch Reward: 1969.088658 | Time: 48.40s | Avg. Time Per Step: 0.61ms\n",
            "Step 90000/100000 | Expected Full Batch Reward: 1968.523797 | Time: 53.12s | Avg. Time Per Step: 0.59ms\n",
            "Step 100000/100000 | Expected Full Batch Reward: 2028.672296 | Time: 60.26s | Avg. Time Per Step: 0.60ms\n",
            "Confusion_matrix: \n",
            "+------------------+--------------+-----------------+\n",
            "|                  |   Did Strike |   Didn't Strike |\n",
            "+==================+==============+=================+\n",
            "| Should Strike    |     2477.67  |         351.331 |\n",
            "+------------------+--------------+-----------------+\n",
            "| Shouldn't Strike |      448.199 |        2342.8   |\n",
            "+------------------+--------------+-----------------+\n",
            "Total Reward: 2029.4706196154582\n"
          ]
        }
      ]
    },
    {
      "cell_type": "markdown",
      "source": [
        "So this trick of smushing the perturbation and the update into a single step seems to work okay, though not as well as doing the very careful perturbation, but it shows that much of the correct pattern response to stimulus can be discovered through this mode. This particular idea for smushing together the perturbation and the update was is known as ALOPEX (an acronym from \"ALgorithms Of Pattern EXtraction\",  first proposed by Tzanakou and Harth in 1974.) This is one way of not having a seperate perturbation and non-perturbation mode. There are other ways, such as leveraging the stochasticity of relative spike timings (ref seung), and using reward signals directly (or above some anticipated baseline) and we will discuss these later. For now, it is enough to know that this issue can be mitigated, though with some apparrent cost to overall performance (relative to perturb-measure-step).\n",
        "\n",
        "Another point of comparison here is that the average time per step is almost half that of Perturb-Measure-Step, which is to be expected since perturb-measure-step requires to evaluations per step, whereas this step-measure-step only requires a single evaluation per step. However, in this case, this results in each step leading to less improvement, so that even thoug 100 thousand steps have been taken by step-measure-step, overall performance is not as good as that of perturb-measure-step after just 60 thousand steps.\n",
        "\n",
        "Let's move on to the next issue."
      ],
      "metadata": {
        "id": "-73AjlBda7kA"
      }
    },
    {
      "cell_type": "markdown",
      "source": [
        "_______________________________________________________________________\n",
        "# Algorithms Box: Comparing Algorithm Speed—Clock Time versus Iterations\n",
        "(This Box Needs Help)\n",
        "\n",
        "When comparing the \"speed\" of algoriths, the quantity of greatest practical interest is the total time taken to reach a \"good\" solution according to some criterion for some specific problem. Total time taken can be decomposed as follows\n",
        "\n",
        "$$\n",
        "\\text{Total Time Taken} = \\text{Iterations Required} \\times \\text{Average Time per Iteration}\n",
        "$$\n",
        "\n",
        "Breaking down the total clock time into these components provides insight in the following ways:\n",
        "\n",
        "   - **Iterations Required:** This metric reflects the abstract properties of the algorithm—its inherent efficiency and suitability for the problem at hand. It’s independent of the computing environment, which makes it valuable for theoretical comparisons across different settings.\n",
        "\n",
        "   - **Time Per Iteration:** This measures how long each cycle of the algorithm's process takes, influenced by two sub-factors:\n",
        "     - **Computational Complexity:** The inherent difficulty and amount of computation involved in each iteration of the algorithm. This is another abstraction, again useful for general comparisons\n",
        "     - **Implementation Efficiency:** How well the algorithm's computational steps are optimized for the hardware it runs on, including factors like code optimization and hardware utilization. While these factors are very specific to the compuational context of the algorithm, in practical engineering setting they are of paramount importance.\n",
        "\n",
        "While theorists are of course drawn to things like iterations required and computational complexity, implementation efficiency is also of profound importance. As an example the current \"AI Revolution\" was catalyzed co-opting GPU's, mass-market high-performance hardware designed for video games, for the more niche academic application of multiplying matrices quickly. (Transforming, abstract video-game states into 3d models, into 2d projections for a screen also at 60 frames per second also involves a lot multiplying matrices quickly)\n",
        "\n",
        "(In much the same way the theoretical underpinnings of Bayesian MCMC approaches were well understood for many decades prior to the this approach to inference becoming of any practical use with the advent of widely available fast, parrellel computation, and efficient implementations)\n",
        "\n",
        "Implementation Efficiency is something that we have to be especially aware of when jumping between computational platforms. An algorithm that is inefficient in some ways, but is easily parallelizable may be overall more effective when implemented on hardware that supports parllelization. Different algorithms allow for diffent kinds of implementation. An algorithm that requires many steps, each of great complexity might seem slow, but if those steps and complexity can be parellized out at the synapse level, i.e. very \"efficiently\" implemented in the brain, then perhaps overall it is a fast algorithm. Everything matters.\n",
        "\n",
        "_______________________________________________________________________\n"
      ],
      "metadata": {
        "id": "9O0CVefn2Usd"
      }
    },
    {
      "cell_type": "markdown",
      "source": [
        "# 2.1.4.3 Full-Batch versus Mini-Batch Perturb-Measure-Step\n",
        "\n",
        "Another issue in terms of physiological viability was parameter evaluation based on performance across all possible experiences. In a simple model of learning and synaptic plasticity, we would like learning to be driven by the outcomes of a single stimulus-response-reward experience.\n",
        "\n",
        "This relates to an important idea in machine learning. The idea of the mini-batch. Even though we are ulitmately interested is the performance of the parameters over all of the input-target pairs in the data set, given how computers operate, it is typically possible to generate a sample evaluation based on a small random sample of the input-target pairs in the data set. Such a samlpe is called a mini-batch of the data. (As contrasted with the entire data-set which is called a full-batch or just batch). Evaluations on these mini-batches provides an estimate of the desired full-batch evaluation. In the extreme case a mini-batch can consist of a single input-output pair. In ML the idea of using mini-batches developed in the context of Gradient Descent optimization (which we haven't covered yet). So even though the mini-batch idea applies to all kinds of optimzation processes, for historical reasons,  learning with mini-batches of size 1 is called \"Stochastic Gradient Descent\", and learning with mini-batches of size greater than 1 but less than the full batch is called \"Mini-Batch Stochastic Gradient Descent\", and learning with the full batch is just called Gradient Descent. In practical ML settings, whenever the data-set becomes sufficiently large, mini-batches are almost always used, as they allow for the most efficient use of computational resources. Here we explicitly seperate the mini-batch idea from Gradient Descent, and so use the terms full-batch, mini-batch, and singleton based learning and evaluations. Let's see what having a mini-batch of different sizes does to how quickly it takes for Perturb-Measure-Step to find a good solution. For now we test out this mini-batch idea on perturb-measure-step."
      ],
      "metadata": {
        "id": "HIOigwyZeYwK"
      }
    },
    {
      "cell_type": "code",
      "source": [
        "# @title Mini-Batch(10) Stochastic-Perturb-Measure-Step Training Loop\n",
        "learn_rng = np.random.default_rng(0)\n",
        "step_scale = 0.002\n",
        "mini_batch_size = 10\n",
        "num_epochs = 400\n",
        "dimensional_scale_factor = np.sqrt(65)\n",
        "perturbation_scale = 0.0001 # std of gaussian test perturbations\n",
        "W_init = np.zeros((1,65))\n",
        "W = W_init\n",
        "iterations = 0\n",
        "start_time = time.time()\n",
        "indices = np.arange(Xs_aug.shape[0])\n",
        "for epoch in range(num_epochs):\n",
        "  np.random.shuffle(indices)\n",
        "  for batch_step in range(0, Xs_aug.shape[0], mini_batch_size):\n",
        "    iterations += 1\n",
        "    batch_indices = indices[batch_step:batch_step+mini_batch_size]\n",
        "    batch_Xs = Xs_aug[batch_indices].T\n",
        "    batch_y1 = y1[batch_indices].T\n",
        "    R_current, _ = eval_params_expectation_batch(W, batch_Xs, batch_y1)\n",
        "    raw_test_perturb = learn_rng.standard_normal(size=(1,65))\n",
        "    unit_test_perturb = raw_test_perturb / np.linalg.norm(raw_test_perturb.flatten())\n",
        "    test_perturbation = unit_test_perturb * perturbation_scale\n",
        "    R_test, _ = eval_params_expectation_batch(W + test_perturbation, batch_Xs, batch_y1)\n",
        "    directional_grad_est = (R_test - R_current) / perturbation_scale\n",
        "    W += step_scale * dimensional_scale_factor * directional_grad_est * unit_test_perturb\n",
        "\n",
        "  if epoch == 0 or (epoch + 1) % 20 == 0:\n",
        "    total_expected_reward, _ = eval_params_expectation_batch(W, Xs_aug.T, y1.T)\n",
        "    elapsed_time = time.time() - start_time\n",
        "    print(f'Epoch {epoch + 1}/{num_epochs} | Steps: {iterations} | Expected Full Batch Reward: {total_expected_reward:.6f} | Steps: {} Time: {elapsed_time:.2f}s' | Avg. Time per Step: {elapsed_time/iterations:.2f} )\n",
        "eval_params_expectation_batch(W, Xs_aug.T, y1.T, verbose=True)"
      ],
      "metadata": {
        "id": "b_Q3ceuPUUkb"
      },
      "execution_count": null,
      "outputs": []
    },
    {
      "cell_type": "markdown",
      "source": [
        "So with a mini-batch of size 10, this works really quite well, basically just as well as evaluating the parameters on the entire experience, what about when we scale down to the extreme case of a mini-batch of size 1?"
      ],
      "metadata": {
        "id": "pjayFNS7ilBP"
      }
    },
    {
      "cell_type": "code",
      "source": [
        "# @title Singleton Stochastic-Perturb-Measure-Step Training Loop\n",
        "learn_rng = np.random.default_rng(0)\n",
        "step_scale = 0.002\n",
        "mini_batch_size = 1\n",
        "num_epochs = 80\n",
        "dimensional_scale_factor = np.sqrt(65)\n",
        "perturbation_scale = 0.0001 # std of gaussian test perturbations\n",
        "W_init = np.zeros((1,65))\n",
        "W = W_init\n",
        "start_time = time.time()\n",
        "indices = np.arange(Xs_aug.shape[0])\n",
        "for epoch in range(num_epochs):\n",
        "  np.random.shuffle(indices)\n",
        "  for batch_step in range(0, Xs_aug.shape[0], mini_batch_size):\n",
        "    batch_indices = indices[batch_step:batch_step+mini_batch_size]\n",
        "    batch_Xs = Xs_aug[batch_indices].T\n",
        "    batch_y1 = y1[batch_indices].T\n",
        "    R_current, _ = eval_params_expectation_batch(W, batch_Xs, batch_y1)\n",
        "    raw_test_perturb = learn_rng.standard_normal(size=(1,65))\n",
        "    unit_test_perturb = raw_test_perturb / np.linalg.norm(raw_test_perturb.flatten())\n",
        "    test_perturbation = unit_test_perturb * perturbation_scale\n",
        "    R_test, _ = eval_params_expectation_batch(W + test_perturbation, batch_Xs, batch_y1)\n",
        "    directional_grad_est = (R_test - R_current) / perturbation_scale\n",
        "    W += step_scale * dimensional_scale_factor * directional_grad_est * unit_test_perturb\n",
        "\n",
        "  if epoch == 0 or (epoch + 1) % 5 == 0:\n",
        "    total_expected_reward, _ = eval_params_expectation_batch(W, Xs_aug.T, y1.T)\n",
        "    elapsed_time = time.time() - start_time\n",
        "    print(f'Epoch {epoch + 1}/{num_epochs} completed | Expected Total Batch Reward: {total_expected_reward:.6f} | Time elapsed: {elapsed_time:.2f} seconds')\n",
        "eval_params_expectation_batch(W, Xs_aug.T, y1.T, verbose=True)"
      ],
      "metadata": {
        "id": "zChE6Ud1i0dt"
      },
      "execution_count": null,
      "outputs": []
    },
    {
      "cell_type": "markdown",
      "source": [
        "So learning from a single experience using perturb-measure-step doesn't appear to be a problem at all. If anything it leads to faster (in terms of computational time) learning, since evaluations on a single (or small mini-batch of) input-output pair(s) are much quicker to compute than evaluations of the parameters based on the entirety of the avialble data-set.\n",
        "\n",
        "Now, unfortunately, the smushing together of the update step and the perturbation step, does not mix well with the mini-batch idea. The key issue here, is that in the mini-batch training loops above **the same** mini-batch was used to evaluate both the base parameters and the perturbed parameters alowing for a precise estimate of the rate of improvement in the direction of the test perturbation. If two **different** mini-batches are used to estimate the reward at two different points in the parameter space (as happens in when we try to use step-measure-step with mini-batches), the noise introduced by using different mini-batches makes the estimate the degree of improvement between the two points much noisier. While learning is still possible with this extra noise, it will make learning too slow to be practical both in an ML context and in the context of rapdily aquiring adaptive behaviours.\n",
        "\n",
        "Finally we turn our attention to using actual sampled rewards, instead of computed expectation of reward."
      ],
      "metadata": {
        "id": "0BZyRrdxj35_"
      }
    },
    {
      "cell_type": "markdown",
      "source": [
        "# 2.1.4.4 Recieved Reward Perturb-Measure-Step\n",
        "\n",
        "Later on in this book we will see how an organism might develop an internal model of how their actions interact with the dynamics of the environment to change the state of the environment and produce rewards, but for the moment we are focused on arriving at the simplest viable learning circuit that can rapidly learn good behaviour on the strike-no-stike problem, while invoking only simplest imaginable physiological mechanisms of plasticity. So we wish to exclude the computation of expected reward, and instead focus on the actual rewards recieved by the organism and how they might drive synaptic weight changes. In the training loop below we implement perturb-measure-step but using stochastic evaluation. Let's see how it goes"
      ],
      "metadata": {
        "id": "ye0f3r02J2he"
      }
    },
    {
      "cell_type": "code",
      "source": [
        "# @title Sampled-Reward Stochastic-Perturb-Measure-Step Training Loop\n",
        "learn_rng = np.random.default_rng(0)\n",
        "num_steps = 30000\n",
        "step_scale = 0.000005\n",
        "dimensional_scale_factor = np.sqrt(65)\n",
        "perturbation_scale = 0.01 # std of gaussian test perturbations\n",
        "W_init = np.zeros((1,65))\n",
        "W = W_init\n",
        "start_time = time.time()\n",
        "for step in range(num_steps):\n",
        "  R_current, _ = eval_params_stochastic_batch(W, Xs_aug.T, y1.T)\n",
        "  raw_test_perturb = learn_rng.standard_normal(size=(1,65))\n",
        "  unit_test_perturb = raw_test_perturb / np.linalg.norm(raw_test_perturb.flatten())\n",
        "  test_perturbation = unit_test_perturb * perturbation_scale\n",
        "  R_test, _ = eval_params_stochastic_batch(W + test_perturbation, Xs_aug.T, y1.T)\n",
        "  directional_grad_est = (R_test - R_current) / perturbation_scale\n",
        "  W += step_scale * dimensional_scale_factor * directional_grad_est * unit_test_perturb\n",
        "\n",
        "  if step == 0 or (step + 1) % 3000 == 0:\n",
        "    R_exp, _ = eval_params_expectation_batch(W, Xs_aug.T, y1.T)\n",
        "    elapsed_time = time.time() - start_time\n",
        "    print(f'Step {step + 1}/{num_steps} completed | Expected Total Batch Reward: {R_exp:.6f} | Time elapsed: {elapsed_time:.2f} seconds')\n",
        "eval_params_expectation_batch(W, Xs_aug.T, y1.T, verbose=True)"
      ],
      "metadata": {
        "id": "SveIOTt2LWB2"
      },
      "execution_count": null,
      "outputs": []
    },
    {
      "cell_type": "markdown",
      "source": [
        "# 2.1.4.5 Putting them all together\n",
        "\n",
        "So there are simple ideas that overcome our key issues with perturb-measure-step as implemented initially. We can effectively learn from single experiences, we can effectively learn from actual rewards resulting from actual rewards made (not expectated reward given hypothetical probabilities of taking given actions), and we can effectively use the difference in reward between two episodes for learning instead of requiring a seperate perturbation evaluations mode of operation for the network. All of these are lovely ideas, however, they do not combine particularly well, at least not in a straightforward way. Learning is still possible when all of these ideas are combined, but improvement is so slow as to be totally impractical. As can be seen in the figure below, (or if you want to burn a bunch of cpu cycles you can edit the cell below so that it runs.)"
      ],
      "metadata": {
        "id": "Jb1aF07qNrlv"
      }
    },
    {
      "cell_type": "code",
      "source": [
        "# @title Sampled-Reward Singleton Stochastic-Step-Measure-Step Training Loop\n",
        "learn_rng = np.random.default_rng(0)\n",
        "num_epochs = 10000\n",
        "mini_batch_size = 1\n",
        "step_scale =  0.000001\n",
        "noise_scale = 0.0000005\n",
        "W_init = np.zeros((1,65))\n",
        "W = W_init\n",
        "delta_W = np.zeros((1,65))\n",
        "R, _ = eval_params_stochastic_batch(W, Xs_aug.T, y1.T)\n",
        "start_time = time.time()\n",
        "for epoch in range(num_epochs):\n",
        "  np.random.shuffle(indices)\n",
        "  for batch_step in range(0, Xs_aug.shape[0], mini_batch_size):\n",
        "    batch_indices = indices[batch_step:batch_step+mini_batch_size]\n",
        "    batch_Xs = Xs_aug[batch_indices].T\n",
        "    batch_y1 = y1[batch_indices].T\n",
        "    R_old = R\n",
        "    R, _ = eval_params_stochastic_batch(W, batch_Xs, batch_y1)\n",
        "    delta_R = R - R_old\n",
        "    delta_W_noise = learn_rng.normal(0, noise_scale, size=(1,65))\n",
        "    delta_W = total_scale * (step_scale * delta_W * delta_R + delta_W_noise)\n",
        "    W += delta_W\n",
        "  if epoch == 0 or (epoch + 1) % 10 == 0:\n",
        "    total_expected_reward, _ = eval_params_expectation_batch(W, Xs_aug.T, y1.T)\n",
        "    elapsed_time = time.time() - start_time\n",
        "    print(f'Epoch {epoch + 1}/{num_epochs} completed | Expected Total Batch Reward: {total_expected_reward:.6f} | Time elapsed: {elapsed_time:.2f} seconds')\n",
        "eval_params_expectation_batch(W, Xs_aug.T, y1.T, verbose=True)"
      ],
      "metadata": {
        "id": "k-k30JNENuXY"
      },
      "execution_count": null,
      "outputs": []
    },
    {
      "cell_type": "markdown",
      "source": [
        "# 2.1.4.6 Is Solving High Dimensional Optimization Problem Necissary for Adaptive Behaviour? Hard Yes.\n",
        "\n",
        "From a machine learning perspective, when thinking about the performance of a model, there are several things that might be limiting performance. Maybe the data is fundamentally difficult, e.g. there are identical inputs with different correct outputs, i.e. $\\mathbf{x} = \\mathbf{x}$, but $y = 0 $ and $y'=1$. Another possibility is that learning algorithm being used is not effective given the model archetecture and the available data. Yet a third possibility is that archetecture of the model itstelf is not complex or flexible enough to capture the relevent patterns in the data. This last reason happens to be the case here.\n",
        "\n",
        "One reason for having a large, flexible brain is to produce complex behaviour that is contingent on the state of the world in complex ways. The simple strike-no-strike network we've been using, consists of a single layer of synaptic connections between the sensory inputs and the motor output. In a shallow network structure like this a sensory input either directly inhibits or promotes the striking behaviour, there is no possibility for a sensory input to promote striking in some sensory contexts, but inhibit it in others. This is a deficincy. Context is important, loud thumping and roaring noises at a concert means the band is good, similar noises when camping in the wilderness means a large animal is nearby. A shallow network does not allow for such context dependence.\n",
        "\n",
        "How do we allow for context dependence, or put another way, interactions between the inputs (beyond simply summing them together). As a starting point our current sensory-behavioural circuit is effectively equivalent to logistic regression, i.e. each sensory input element (feature in ML parlance) can either inhibit or potentiate striking behaviour to varying degrees, but there is no possibility for conditional interaction between features. By 'conditional interaction,' we mean a scenario where, for instance, feature 1 typically inhibits the behavior, except when feature 2 is positive, under which condition feature 1 becomes potentiating. These kinds of feature interactions are impossible in the current model. One way to allow for such interactions is to augment the base set of features with composite features, e.g. incorporate all the pairwise products of the existing feature set, so that instead of 65 features (bias included) we have $(\\frac{64 \\cdot 63}{2} + 64 + 64 + 1) = 2145$ features to work with. This could work, but what if we want something that depends on the interaction of more than 2 features, adding higher order polynomial terms will quickly make the problem intractable (Reference appendix section on why hidden layers not polynomials if we do that). If we had some mechanistically grounded understanding or hypothesis about the relationship between the features and label could might be able to cherry pick some small subset of higher order interaction terms, but the ML mindset is in large part about automating the feature selection processes based on the data alone. In turns out that instead of resorting the regression on polynomial terms to capture feature interactions, there is a much more compact and expressive way of allowing for feature interactions. The idea is to allow for feature interactions to emerge as needed in a 'hidden' computational layer of our highly abstracted neurons.\n",
        "\n",
        "Simply adding an additional layer to the network, consisting of some intermediate (hidden) neurons between the inputs and the outputs, allows for context dependent inhibition and promotion of striking are possible. There are theorems showing that a much as polynomials of arbitrarily high degree are a kind of universal function approximator (e.g. taylor series), simiarly networks with a singal (but potentially very large hidden layers) are a kind of universal function approximator. With this in mind, let's see if adding a hidden layer to our network improves performance.\n",
        "\n",
        "Our new strike-no-strike network with 1 hidden layer is structured as follows"
      ],
      "metadata": {
        "id": "u1lGLbkNVUj8"
      }
    },
    {
      "cell_type": "markdown",
      "source": [
        "As before $\\mathbf{x}$ is the raw sensory input (vector) in a given episode and each element of $\\mathbf{x}$ corresponds to the activation level and firing rate of a single photosensitive neuron.\n",
        "These input neurons are then connected by synapses to a 'hidden layer' of intermediate computational neurons, say 10 of them. The activation level of these hidden layer neurons is computed as\n",
        "$$\\mathbf{h} = \\sigma(\\mathbf{W}_{in} \\cdot \\mathbf{x})$$\n",
        "Now $\\mathbf{W}_{in}$ is a matrix of synaptic weights between the input neurons and the hidden layer neurons, and $\\cdot$ denotes standard matrix vector multiplication. (In this case $\\mathbf{W}$ has shape $10 \\times 65$. Each the values in the $i^{th}$ row of $\\mathbf{W}_{in}$ given the sign and strength of the connections coming into the $i^{th}$ element of $h$ and similarly each value in the $j^{th}$ column of $\\mathbf{W}_{in}$ corresponds to connection strengths coming out of the $j^{th}$ sensory input neuron.)  We still us $\\sigma$ to represent the standard logistic sigmoid function, but in this case applied elementwise the vector output of the product $\\mathbf{W}_{in} \\cdot \\mathbf{x}$. Then, much as before our striking probability is computed as\n",
        "$$a = \\mathbf{W}_{out} \\cdot \\mathbf{h}$$\n",
        "and\n",
        "$$ \\Pr \\{\\text{strike}\\} = \\sigma(a) $$\n",
        "$$ \\Pr \\{\\text{no strike}\\} = 1 - \\sigma(a)$$\n",
        "Here $\\mathbf{W}_{out}$ has shape $1  \\times 10$.\n"
      ],
      "metadata": {
        "id": "CvsVIoAvVNh0"
      }
    },
    {
      "cell_type": "markdown",
      "source": [
        "We will need to re-write a new eval params function for this new model, let's do it. To keep things quick and simple we will just use our expecation based evaluation"
      ],
      "metadata": {
        "id": "j9tt8sJofITF"
      }
    },
    {
      "cell_type": "code",
      "source": [
        "def eval_params_batch_expectation_hidden(W_in, W_out, x, y, verbose=False):\n",
        "  \"\"\"\n",
        "  evaluates parameters of simple behaviour circuit given inputs and target\n",
        "  outputs, use numpy broadcasting to be fast and concise\n",
        "  Args:\n",
        "    W_in: (hidden_neurons x inputs(65) np.array)\n",
        "           weights between sensory neurons and hidden layer neurons\n",
        "    W_out: (output(1) x hidden_neurons np.array)\n",
        "           weights between hidden layer neurons and output\n",
        "    x: (input(64) x batch np.array) sensory input\n",
        "       (can be single input, mini-batch of inputs or the whole batch of inputs)\n",
        "    y: (outputs(1) x batch np.array) target behavioural output\n",
        "       (can be a single target, mini-batch of targets, or whole batch),\n",
        "       needs to correspond to input\n",
        "\n",
        "  Returns:\n",
        "    R_exp: the average/expected total reward obtained given the parameters, over the\n",
        "           (mini-)batch of inputs and targets. (mini-batch could be size 1)\n",
        "  \"\"\"\n",
        "  # activation\n",
        "  h = np_sigmoid(np.dot(W_in,x)) # hidden_neurons x batch\n",
        "  # strike probability\n",
        "  y_hat = np_sigmoid(np.dot(W_out,h)) # 1 x batch\n",
        "  # Expected true positives (TPs) and false positives (FPs)\n",
        "  TPs = np.sum(y_hat * y)  # Sum of strike probabilities where true label is 1\n",
        "  FPs = np.sum(y_hat * (1 - y))  # Sum of strike probabilities where true label is 0\n",
        "  # Expected false negatives (FN_e) and true negatives (TN_e)\n",
        "  FNs = np.sum((1 - y_hat) * y)  # Sum of no strike probabilities where true label is 1\n",
        "  TNs = np.sum((1 - y_hat) * (1 - y))  # Sum of no strike probabilities where true label is 0\n",
        "  R_exp = 1 * TPs + 0 * FNs + -1 * FPs + 0 * TNs\n",
        "  confusion_matrix = np.array([[TPs, FNs], [FPs, TNs]])\n",
        "  if verbose:\n",
        "    table = [[\"Should Strike\", TPs, FNs],\n",
        "             [\"Shouldn't Strike\", FPs, TNs]]\n",
        "    headers = [\"\", \"Did Strike\", \"Didn't Strike\"]\n",
        "    print(\"Confusion_matrix: \")\n",
        "    print(tabulate(table, headers=headers, tablefmt=\"grid\"))\n",
        "    print(f'Total Reward: {R_exp}')\n",
        "    return None\n",
        "  else:\n",
        "    return R_exp, confusion_matrix\n"
      ],
      "metadata": {
        "id": "wequmEMQfJMp"
      },
      "execution_count": null,
      "outputs": []
    },
    {
      "cell_type": "markdown",
      "source": [
        "We've got a more complicated circuit with more parameters, how much longer does it take us to evaluate this circuit compared to our previous one?"
      ],
      "metadata": {
        "id": "Eiem7eE-fw8D"
      }
    },
    {
      "cell_type": "code",
      "source": [
        "W = np.zeros((1,65))\n",
        "%timeit eval_params_expectation_batch(W, Xs_aug.T, y1.T)"
      ],
      "metadata": {
        "id": "vyebIZ8Vf3bx"
      },
      "execution_count": null,
      "outputs": []
    },
    {
      "cell_type": "code",
      "source": [
        "W_in = np.zeros((10,65))\n",
        "W_out = np.zeros((1,10))\n",
        "%timeit eval_params_batch_expectation_hidden(W_in, W_out, Xs_aug.T, y1.T)"
      ],
      "metadata": {
        "id": "htd8pC1uf55M"
      },
      "execution_count": null,
      "outputs": []
    },
    {
      "cell_type": "markdown",
      "source": [
        "Roughly 5x longer per function evaluation, which means not only will we likely need more iterations of our algorithm because it is harder to find good parameters in high dimensions (we have 660 parameters now, which is a lot more than 65), but also each of those steps will take longer to process because function evaluations are also more costly. It will all be worth it if we can get better final performance though."
      ],
      "metadata": {
        "id": "Px0KZWgFgK1P"
      }
    },
    {
      "cell_type": "code",
      "source": [
        "# @title 10 Hidden Units - Perturb-Measure-Step Training Loop\n",
        "llearn_rng = np.random.default_rng(0)\n",
        "num_steps = 20000\n",
        "step_scale = 0.025\n",
        "perturbation_scale = 0.0001 # std of gaussian test perturbations\n",
        "num_hidden_units = 10\n",
        "# initializing both layers as zero leads to some issues, so we\n",
        "# use a Xavier/Glorot random initialization scheme\n",
        "in_init = np.sqrt(6 / (65 + num_hidden_units))\n",
        "W_in_init = learn_rng.uniform(-in_init, in_init, size=(num_hidden_units, 65))\n",
        "out_init = np.sqrt(6 / (10 + 1))\n",
        "W_out_init = learn_rng.uniform(-out_init, out_init, size=(1, num_hidden_units))\n",
        "flat_params = np.concatenate((W_in_init.flatten(), W_out_init.flatten()))\n",
        "dimensional_scale_factor = np.sqrt(len(flat_params))\n",
        "start_time = time.time()\n",
        "indices = np.arange(Xs_aug.shape[0])\n",
        "for step in range(num_steps):\n",
        "  W_in, W_out = np.split(flat_params, [65 * num_hidden_units])\n",
        "  W_in = W_in.reshape((num_hidden_units,65))\n",
        "  W_out = W_out.reshape((1,num_hidden_units))\n",
        "  R_current, _ = eval_params_batch_expectation_hidden(W_in, W_out, Xs_aug.T, y1.T)\n",
        "  raw_param_perturb = learn_rng.standard_normal(size=len(flat_params))\n",
        "  unit_param_perturb = raw_param_perturb / np.linalg.norm(raw_param_perturb.flatten())\n",
        "  test_perturbation = unit_param_perturb * perturbation_scale\n",
        "  perturbed_flat_params = flat_params + test_perturbation\n",
        "  W_in_test, W_out_test = np.split(perturbed_flat_params, [65 * num_hidden_units])\n",
        "  W_in_test = W_in_test.reshape((num_hidden_units,65))\n",
        "  W_out_test = W_out_test.reshape((1,num_hidden_units))\n",
        "  R_test, _ = eval_params_batch_expectation_hidden(W_in_test, W_out_test, Xs_aug.T, y1.T)\n",
        "  directional_grad_est = (R_test - R_current) / perturbation_scale\n",
        "  flat_params += step_scale * dimensional_scale_factor * directional_grad_est * unit_param_perturb\n",
        "\n",
        "  if step == 0 or (step + 1) % 1000 == 0:\n",
        "    elapsed_time = time.time() - start_time\n",
        "    print(f'Step {step + 1}/{num_steps} completed | Current Total Reward: {R_current:.6f} | Time elapsed: {elapsed_time:.2f} seconds')\n",
        "W_in, W_out = np.split(flat_params, [65 * num_hidden_units])\n",
        "W_in = W_in.reshape((num_hidden_units,65))\n",
        "W_out = W_out.reshape((1,num_hidden_units))\n",
        "eval_params_batch_expectation_hidden(W_in, W_out, Xs_aug.T, y1.T, verbose=True)\n"
      ],
      "metadata": {
        "id": "MDoAqfWghM--"
      },
      "execution_count": null,
      "outputs": []
    },
    {
      "cell_type": "markdown",
      "source": [
        "So this new, more complex circuit is great. We're much closer to the theoretical maximum performance of 2829, maybe with a few more hidden units, and a little longer training time we could have perfect discrimination. Let's see what happens when we go up to 20 hidden units. As a heads up this is going to take awhile (about 3 minutes) so you should read ahead while waiting for this training loop to complete"
      ],
      "metadata": {
        "id": "m4hKKsmKnjrD"
      }
    },
    {
      "cell_type": "code",
      "source": [
        "# @title 20 Hidden Units - Perturb-Measure-Step Training Loop\n",
        "learn_rng = np.random.default_rng(0)\n",
        "num_steps = 20000\n",
        "step_scale = 0.025\n",
        "perturbation_scale = 0.0001 # std of gaussian test perturbations\n",
        "num_hidden_units = 20\n",
        "# initializing both layers as zero leads to some issues, so we\n",
        "# use a Xavier/Glorot random initialization scheme\n",
        "in_init = np.sqrt(6 / (65 + num_hidden_units))\n",
        "W_in_init = learn_rng.uniform(-in_init, in_init, size=(num_hidden_units, 65))\n",
        "out_init = np.sqrt(6 / (10 + 1))\n",
        "W_out_init = learn_rng.uniform(-out_init, out_init, size=(1, num_hidden_units))\n",
        "flat_params = np.concatenate((W_in_init.flatten(), W_out_init.flatten()))\n",
        "dimensional_scale_factor = np.sqrt(len(flat_params))\n",
        "start_time = time.time()\n",
        "indices = np.arange(Xs_aug.shape[0])\n",
        "for step in range(num_steps):\n",
        "  W_in, W_out = np.split(flat_params, [65 * num_hidden_units])\n",
        "  W_in = W_in.reshape((num_hidden_units,65))\n",
        "  W_out = W_out.reshape((1,num_hidden_units))\n",
        "  R_current, _ = eval_params_batch_expectation_hidden(W_in, W_out, Xs_aug.T, y1.T)\n",
        "  raw_param_perturb = learn_rng.standard_normal(size=len(flat_params))\n",
        "  unit_param_perturb = raw_param_perturb / np.linalg.norm(raw_param_perturb.flatten())\n",
        "  test_perturbation = unit_param_perturb * perturbation_scale\n",
        "  perturbed_flat_params = flat_params + test_perturbation\n",
        "  W_in_test, W_out_test = np.split(perturbed_flat_params, [65 * num_hidden_units])\n",
        "  W_in_test = W_in_test.reshape((num_hidden_units,65))\n",
        "  W_out_test = W_out_test.reshape((1,num_hidden_units))\n",
        "  R_test, _ = eval_params_batch_expectation_hidden(W_in_test, W_out_test, Xs_aug.T, y1.T)\n",
        "  directional_grad_est = (R_test - R_current) / perturbation_scale\n",
        "  flat_params += step_scale * dimensional_scale_factor * directional_grad_est * unit_param_perturb\n",
        "\n",
        "  if step == 0 or (step + 1) % 1000 == 0:\n",
        "    elapsed_time = time.time() - start_time\n",
        "    print(f'Step {step + 1}/{num_steps} completed | Current Total Reward: {R_current:.6f} | Time elapsed: {elapsed_time:.2f} seconds')\n",
        "W_in, W_out = np.split(flat_params, [65 * num_hidden_units])\n",
        "W_in = W_in.reshape((num_hidden_units,65))\n",
        "W_out = W_out.reshape((1,num_hidden_units))\n",
        "eval_params_batch_expectation_hidden(W_in, W_out, Xs_aug.T, y1.T, verbose=True)"
      ],
      "metadata": {
        "id": "LV67Oyy1nxSi"
      },
      "execution_count": null,
      "outputs": []
    },
    {
      "cell_type": "markdown",
      "source": [
        "This more complex circuit gets us even closer to the theoretical maximum performance of 2829, but it's taking longer to get there. This is a consequence of both, the function evaluations required at each step being slower (for the more complex function) and because more iterations are needed to effectively search the higher dimensional space for a good configuration of $\\mathbf{W}_{in}$ and $\\mathbf{W}_{out}$. With even more hidden units and more time we can likely learn perfect discrimination, but it will take even longer (more than 3 minutes!)."
      ],
      "metadata": {
        "id": "DoYe61pfdTzu"
      }
    },
    {
      "cell_type": "markdown",
      "source": [
        "Although the toy neural circuit models in this sequence are a far cry from actual neural circuits, they still provide insight into possible mechanisms of synaptic plasticity the brain. We can imagine a scenario where synaptic strengths between neurons in a circuit undergo small, transient perturbations. The brain might integrate and compare the performance of these perturbations over a learning episode (for example, a day) to previous performance levels. (We leave aside the specifics of how this integration and comparison occur for now.)\n",
        "\n",
        "If performance improves with a perturbation, synaptic changes could be consolidated in the direction of the perturbation, proportionate to the degree of improvement. Conversely, if performance worsens, changes might be consolidated in the opposite direction, also proportional to the performance decrease. This concept, while still vague, suggests a mechanism of synaptic adjustment based on performance feedback.\n",
        "\n",
        "One critical point to consider is the scalability of such a learning process. The number of learning episodes required for effective optimization grows with the number of parameters in a neural circuit. This implies that 'perturb-measure-step' plasticity cannot be the primary mechanism driving neural plasticity in large, complex neural circuits that learn rapidly. This limitation is critical, the lifetimes of most animals simply aren't long enough to accommodate the number of learning iterations needed for extensive optimization.\n",
        "\n",
        "However, as demonstrated above, a more complex circuit achieved significantly better performance in the discrimination task, so large complex circuits can be useful. This suggests that even if empirical evidence of perturbation-based learning in the brain exists and its physiological implementation is understood, such processes are unlikely to be the primary drivers of neural plasticity for complex and challenging behaviors.\n",
        "\n",
        "(One counterargument in favor of simple learning rules is that extensive learning might not be necessary if genetic predisposition starts the circuit off close to an optimal parameter configuration. Then subsequently, relatively slow learning processes could 'fine-tune' the neural circuit's configuration. However, as noted in our earlier discussions on evolution, changing environments necessitate that a significant portion of behavior must emerge from learning, thereby limiting the extent to which genetic predispositions can facilitate efficient and adaptive learning.)"
      ],
      "metadata": {
        "id": "4s0X34-jgHZ2"
      }
    },
    {
      "cell_type": "markdown",
      "source": [
        "In this sequence we looked at how a simple neural circuit, and then a slightly more complex one were able to solve the strike-no-strike discrimination problem, when trained using perturb-measure-step. We found that several of the \"unrealistic\" aspects of perturb-measure-step (full batch learning, a seperate perturbation mode, used expected instead of actual reward to inform learning) could be mitigated, but only at the cost of slowing down learning (though using mini-batches in isolation, when evaluating the perturbation and current parameters on the same mini-batch was actually a speed up). Additionally we saw that using a more complex network (with hidden layers of increasing size) allowed for better perfomance on the discrimination task, but this extra performance came at a cost, function evaluation was more complex and there were more parameters to be optimized, and searching higher-dimensional spaces for good parameter configurations is always harder (more places to look, more directions to try, in addition to more compute required to for each test point evaluation).\n",
        "\n",
        "In the next sequence we will introduce a different perspective on neural plasticity, one in which synaptic plasticity is driven between a mismatch between an expectation or prediction about reward, and the actual recieved reward."
      ],
      "metadata": {
        "id": "B-UDcsvvhF9V"
      }
    },
    {
      "cell_type": "markdown",
      "source": [
        "# E-Phys/Neuro Box\n",
        "Neuroscientists have long conceptualized the learning process of neurons in terms of perturb, measure, step (cites). Synapses do not always produce an influence on the post-synaptic neuron if a spike comes in. In fact, they only produce a respose in about 50%% of all cases (cites, have figure element). We also know that there are mechanisms that can broadcast reward to all neurons, e.g. through Dopamine (cites). A neuron can then use a rule where learning is both proportional to rewards and proportional to the transmission at that point of time. The effect is that synapses whose existence helps make rewards higher gets consistently strengthened and those whose existence make rewards lower get consistently weakened. This way, single synapses can biophysically implement a global optimization algorithm.\n",
        "\n",
        "[insert pictuere from fiete paper around here].\n",
        "\n",
        "In our simple model of behaviour the pre-synaptic activity for synapse $W_i$ is $x_i$ and the post synaptic activity is $a = \\sum_i {W_i}$. We do not explicitly model spiking behaviour here though how stochastic spiking behaviour creates the perturbations necissary for perturb, measure, step has been extensively studied in (cites).\n"
      ],
      "metadata": {
        "id": "aMtVQ6srXmn8"
      }
    },
    {
      "cell_type": "code",
      "source": [
        "# @markdown Run this cell to display the box\n",
        "%%html\n",
        "<div style=\"background-color: #f2f2f2; border: 1px solid #d3d3d3; padding: 10px;\">\n",
        "    <p style=\"color: #333;\"> Neuroscientists have long conceptualized *the* the learning process of neurons in terms of perturb, measure, step (cites). Synapses do not always produce an influence on the post-synaptic neuron if a spike comes in. In fact, they only produce a respose in about 50%% of all cases (cites, have figure element). We also know that there are mechanisms that can broadcast reward to all neurons, e.g. through Dopamine (cites). A neuron can then use a synaptic plasticity rule where strengthening (weakening if reward is negative) of the synaptic connection is both proportional to rewards and proportional to the transmission at that point in time. The effect is that synapses whose existence helps make rewards higher gets consistently strengthened and those whose existence make rewards lower get consistently weakened. This way, single synapses can biophysically implement a global optimization algorithm.\n",
        "\n",
        "[insert pictuere from fiete paper around here].</p>\n",
        "</div>\n",
        "\n",
        "\n"
      ],
      "metadata": {
        "cellView": "form",
        "id": "1BKhllEEXtcY"
      },
      "execution_count": null,
      "outputs": []
    }
  ],
  "metadata": {
    "colab": {
      "machine_shape": "hm",
      "name": "P2C1_Sequence4",
      "provenance": [],
      "toc_visible": true,
      "include_colab_link": true
    },
    "kernel": {
      "display_name": "Python 3",
      "language": "python",
      "name": "python3"
    },
    "kernelspec": {
      "display_name": "Python 3",
      "name": "python3"
    },
    "language_info": {
      "codemirror_mode": {
        "name": "ipython",
        "version": 3
      },
      "file_extension": ".py",
      "mimetype": "text/x-python",
      "name": "python",
      "nbconvert_exporter": "python",
      "pygments_lexer": "ipython3",
      "version": "3.9.18"
    },
    "widgets": {
      "application/vnd.jupyter.widget-state+json": {
        "95fd563ddc2347ddbde7cd1d57fae637": {
          "model_module": "@jupyter-widgets/controls",
          "model_name": "HBoxModel",
          "model_module_version": "1.5.0",
          "state": {
            "_dom_classes": [],
            "_model_module": "@jupyter-widgets/controls",
            "_model_module_version": "1.5.0",
            "_model_name": "HBoxModel",
            "_view_count": null,
            "_view_module": "@jupyter-widgets/controls",
            "_view_module_version": "1.5.0",
            "_view_name": "HBoxView",
            "box_style": "",
            "children": [
              "IPY_MODEL_1229d77a56a042a4943b6104988511c9",
              "IPY_MODEL_bf307a84b7ab476993b529da232675e6",
              "IPY_MODEL_41e12e739d1c4ff8a1b4d640be3ae78e"
            ],
            "layout": "IPY_MODEL_9579b0f49cb447d0920d50a3b1bd6738"
          }
        },
        "1229d77a56a042a4943b6104988511c9": {
          "model_module": "@jupyter-widgets/controls",
          "model_name": "VBoxModel",
          "model_module_version": "1.5.0",
          "state": {
            "_dom_classes": [],
            "_model_module": "@jupyter-widgets/controls",
            "_model_module_version": "1.5.0",
            "_model_name": "VBoxModel",
            "_view_count": null,
            "_view_module": "@jupyter-widgets/controls",
            "_view_module_version": "1.5.0",
            "_view_name": "VBoxView",
            "box_style": "",
            "children": [
              "IPY_MODEL_59133c5252fe4336b27558020633a3f6",
              "IPY_MODEL_567b3e6414f549d4988ed7f323c23a54"
            ],
            "layout": "IPY_MODEL_a1fae7617e954614837fd81b91ae843f"
          }
        },
        "bf307a84b7ab476993b529da232675e6": {
          "model_module": "@jupyter-widgets/controls",
          "model_name": "VBoxModel",
          "model_module_version": "1.5.0",
          "state": {
            "_dom_classes": [],
            "_model_module": "@jupyter-widgets/controls",
            "_model_module_version": "1.5.0",
            "_model_name": "VBoxModel",
            "_view_count": null,
            "_view_module": "@jupyter-widgets/controls",
            "_view_module_version": "1.5.0",
            "_view_name": "VBoxView",
            "box_style": "",
            "children": [
              "IPY_MODEL_86343b6e0d274af38315b4deb3c31d2a",
              "IPY_MODEL_b3b20ce2f60443e9aa2508e3e2a1b3e3"
            ],
            "layout": "IPY_MODEL_1a02a8f609694f38ace66915289f77f4"
          }
        },
        "41e12e739d1c4ff8a1b4d640be3ae78e": {
          "model_module": "@jupyter-widgets/output",
          "model_name": "OutputModel",
          "model_module_version": "1.0.0",
          "state": {
            "_dom_classes": [],
            "_model_module": "@jupyter-widgets/output",
            "_model_module_version": "1.0.0",
            "_model_name": "OutputModel",
            "_view_count": null,
            "_view_module": "@jupyter-widgets/output",
            "_view_module_version": "1.0.0",
            "_view_name": "OutputView",
            "layout": "IPY_MODEL_5d3d1d625b6b4d54bc57e8b22ddd07f1",
            "msg_id": "",
            "outputs": []
          }
        },
        "9579b0f49cb447d0920d50a3b1bd6738": {
          "model_module": "@jupyter-widgets/base",
          "model_name": "LayoutModel",
          "model_module_version": "1.2.0",
          "state": {
            "_model_module": "@jupyter-widgets/base",
            "_model_module_version": "1.2.0",
            "_model_name": "LayoutModel",
            "_view_count": null,
            "_view_module": "@jupyter-widgets/base",
            "_view_module_version": "1.2.0",
            "_view_name": "LayoutView",
            "align_content": null,
            "align_items": null,
            "align_self": null,
            "border": null,
            "bottom": null,
            "display": null,
            "flex": null,
            "flex_flow": null,
            "grid_area": null,
            "grid_auto_columns": null,
            "grid_auto_flow": null,
            "grid_auto_rows": null,
            "grid_column": null,
            "grid_gap": null,
            "grid_row": null,
            "grid_template_areas": null,
            "grid_template_columns": null,
            "grid_template_rows": null,
            "height": null,
            "justify_content": null,
            "justify_items": null,
            "left": null,
            "margin": null,
            "max_height": null,
            "max_width": null,
            "min_height": null,
            "min_width": null,
            "object_fit": null,
            "object_position": null,
            "order": null,
            "overflow": null,
            "overflow_x": null,
            "overflow_y": null,
            "padding": null,
            "right": null,
            "top": null,
            "visibility": null,
            "width": null
          }
        },
        "59133c5252fe4336b27558020633a3f6": {
          "model_module": "jupyter-matplotlib",
          "model_name": "MPLCanvasModel",
          "model_module_version": "^0.11",
          "state": {
            "_cursor": "default",
            "_data_url": "data:image/png;base64,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",
            "_dom_classes": [],
            "_figure_label": "Figure 2",
            "_image_mode": "full",
            "_message": "",
            "_model_module": "jupyter-matplotlib",
            "_model_module_version": "^0.11",
            "_model_name": "MPLCanvasModel",
            "_rubberband_height": 0,
            "_rubberband_width": 0,
            "_rubberband_x": 0,
            "_rubberband_y": 0,
            "_size": [
              400,
              400
            ],
            "_view_count": null,
            "_view_module": "jupyter-matplotlib",
            "_view_module_version": "^0.11",
            "_view_name": "MPLCanvasView",
            "capture_scroll": false,
            "footer_visible": false,
            "header_visible": false,
            "layout": "IPY_MODEL_2c819a635c1249439cb452b7558ae66b",
            "pan_zoom_throttle": 33,
            "resizable": false,
            "toolbar": "IPY_MODEL_0d2d55b0e581428d8eae84d2060865bc",
            "toolbar_position": "left",
            "toolbar_visible": false
          }
        },
        "567b3e6414f549d4988ed7f323c23a54": {
          "model_module": "@jupyter-widgets/output",
          "model_name": "OutputModel",
          "model_module_version": "1.0.0",
          "state": {
            "_dom_classes": [],
            "_model_module": "@jupyter-widgets/output",
            "_model_module_version": "1.0.0",
            "_model_name": "OutputModel",
            "_view_count": null,
            "_view_module": "@jupyter-widgets/output",
            "_view_module_version": "1.0.0",
            "_view_name": "OutputView",
            "layout": "IPY_MODEL_72c620ffd57b4dafb4ff4e38d04201da",
            "msg_id": "",
            "outputs": []
          }
        },
        "a1fae7617e954614837fd81b91ae843f": {
          "model_module": "@jupyter-widgets/base",
          "model_name": "LayoutModel",
          "model_module_version": "1.2.0",
          "state": {
            "_model_module": "@jupyter-widgets/base",
            "_model_module_version": "1.2.0",
            "_model_name": "LayoutModel",
            "_view_count": null,
            "_view_module": "@jupyter-widgets/base",
            "_view_module_version": "1.2.0",
            "_view_name": "LayoutView",
            "align_content": null,
            "align_items": null,
            "align_self": null,
            "border": null,
            "bottom": null,
            "display": null,
            "flex": null,
            "flex_flow": null,
            "grid_area": null,
            "grid_auto_columns": null,
            "grid_auto_flow": null,
            "grid_auto_rows": null,
            "grid_column": null,
            "grid_gap": null,
            "grid_row": null,
            "grid_template_areas": null,
            "grid_template_columns": null,
            "grid_template_rows": null,
            "height": null,
            "justify_content": null,
            "justify_items": null,
            "left": null,
            "margin": null,
            "max_height": null,
            "max_width": null,
            "min_height": null,
            "min_width": null,
            "object_fit": null,
            "object_position": null,
            "order": null,
            "overflow": null,
            "overflow_x": null,
            "overflow_y": null,
            "padding": null,
            "right": null,
            "top": null,
            "visibility": null,
            "width": null
          }
        },
        "86343b6e0d274af38315b4deb3c31d2a": {
          "model_module": "jupyter-matplotlib",
          "model_name": "MPLCanvasModel",
          "model_module_version": "^0.11",
          "state": {
            "_cursor": "default",
            "_data_url": "data:image/png;base64,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",
            "_dom_classes": [],
            "_figure_label": "Figure 1",
            "_image_mode": "full",
            "_message": "",
            "_model_module": "jupyter-matplotlib",
            "_model_module_version": "^0.11",
            "_model_name": "MPLCanvasModel",
            "_rubberband_height": 0,
            "_rubberband_width": 0,
            "_rubberband_x": 0,
            "_rubberband_y": 0,
            "_size": [
              400,
              400
            ],
            "_view_count": null,
            "_view_module": "jupyter-matplotlib",
            "_view_module_version": "^0.11",
            "_view_name": "MPLCanvasView",
            "capture_scroll": false,
            "footer_visible": false,
            "header_visible": false,
            "layout": "IPY_MODEL_808acf24fb0347d3ba5670e386bbee29",
            "pan_zoom_throttle": 33,
            "resizable": false,
            "toolbar": "IPY_MODEL_cbf52e8b1be14c83af7c19812d5dcea3",
            "toolbar_position": "left",
            "toolbar_visible": false
          }
        },
        "b3b20ce2f60443e9aa2508e3e2a1b3e3": {
          "model_module": "@jupyter-widgets/controls",
          "model_name": "HBoxModel",
          "model_module_version": "1.5.0",
          "state": {
            "_dom_classes": [],
            "_model_module": "@jupyter-widgets/controls",
            "_model_module_version": "1.5.0",
            "_model_name": "HBoxModel",
            "_view_count": null,
            "_view_module": "@jupyter-widgets/controls",
            "_view_module_version": "1.5.0",
            "_view_name": "HBoxView",
            "box_style": "",
            "children": [
              "IPY_MODEL_86a3d95d4d0f4c81b4abe705056b34aa",
              "IPY_MODEL_62b956497a11445b8daeba14fc86a5f4"
            ],
            "layout": "IPY_MODEL_24319709036143df99c0dad87d6cc3a6"
          }
        },
        "1a02a8f609694f38ace66915289f77f4": {
          "model_module": "@jupyter-widgets/base",
          "model_name": "LayoutModel",
          "model_module_version": "1.2.0",
          "state": {
            "_model_module": "@jupyter-widgets/base",
            "_model_module_version": "1.2.0",
            "_model_name": "LayoutModel",
            "_view_count": null,
            "_view_module": "@jupyter-widgets/base",
            "_view_module_version": "1.2.0",
            "_view_name": "LayoutView",
            "align_content": null,
            "align_items": null,
            "align_self": null,
            "border": null,
            "bottom": null,
            "display": null,
            "flex": null,
            "flex_flow": null,
            "grid_area": null,
            "grid_auto_columns": null,
            "grid_auto_flow": null,
            "grid_auto_rows": null,
            "grid_column": null,
            "grid_gap": null,
            "grid_row": null,
            "grid_template_areas": null,
            "grid_template_columns": null,
            "grid_template_rows": null,
            "height": null,
            "justify_content": null,
            "justify_items": null,
            "left": null,
            "margin": null,
            "max_height": null,
            "max_width": null,
            "min_height": null,
            "min_width": null,
            "object_fit": null,
            "object_position": null,
            "order": null,
            "overflow": null,
            "overflow_x": null,
            "overflow_y": null,
            "padding": null,
            "right": null,
            "top": null,
            "visibility": null,
            "width": null
          }
        },
        "5d3d1d625b6b4d54bc57e8b22ddd07f1": {
          "model_module": "@jupyter-widgets/base",
          "model_name": "LayoutModel",
          "model_module_version": "1.2.0",
          "state": {
            "_model_module": "@jupyter-widgets/base",
            "_model_module_version": "1.2.0",
            "_model_name": "LayoutModel",
            "_view_count": null,
            "_view_module": "@jupyter-widgets/base",
            "_view_module_version": "1.2.0",
            "_view_name": "LayoutView",
            "align_content": null,
            "align_items": null,
            "align_self": null,
            "border": null,
            "bottom": null,
            "display": null,
            "flex": null,
            "flex_flow": null,
            "grid_area": null,
            "grid_auto_columns": null,
            "grid_auto_flow": null,
            "grid_auto_rows": null,
            "grid_column": null,
            "grid_gap": null,
            "grid_row": null,
            "grid_template_areas": null,
            "grid_template_columns": null,
            "grid_template_rows": null,
            "height": null,
            "justify_content": null,
            "justify_items": null,
            "left": null,
            "margin": null,
            "max_height": null,
            "max_width": null,
            "min_height": null,
            "min_width": null,
            "object_fit": null,
            "object_position": null,
            "order": null,
            "overflow": null,
            "overflow_x": null,
            "overflow_y": null,
            "padding": null,
            "right": null,
            "top": null,
            "visibility": null,
            "width": null
          }
        },
        "72c620ffd57b4dafb4ff4e38d04201da": {
          "model_module": "@jupyter-widgets/base",
          "model_name": "LayoutModel",
          "model_module_version": "1.2.0",
          "state": {
            "_model_module": "@jupyter-widgets/base",
            "_model_module_version": "1.2.0",
            "_model_name": "LayoutModel",
            "_view_count": null,
            "_view_module": "@jupyter-widgets/base",
            "_view_module_version": "1.2.0",
            "_view_name": "LayoutView",
            "align_content": null,
            "align_items": null,
            "align_self": null,
            "border": null,
            "bottom": null,
            "display": null,
            "flex": null,
            "flex_flow": null,
            "grid_area": null,
            "grid_auto_columns": null,
            "grid_auto_flow": null,
            "grid_auto_rows": null,
            "grid_column": null,
            "grid_gap": null,
            "grid_row": null,
            "grid_template_areas": null,
            "grid_template_columns": null,
            "grid_template_rows": null,
            "height": null,
            "justify_content": null,
            "justify_items": null,
            "left": null,
            "margin": null,
            "max_height": null,
            "max_width": null,
            "min_height": null,
            "min_width": null,
            "object_fit": null,
            "object_position": null,
            "order": null,
            "overflow": null,
            "overflow_x": null,
            "overflow_y": null,
            "padding": null,
            "right": null,
            "top": null,
            "visibility": null,
            "width": null
          }
        },
        "86a3d95d4d0f4c81b4abe705056b34aa": {
          "model_module": "@jupyter-widgets/controls",
          "model_name": "ButtonModel",
          "model_module_version": "1.5.0",
          "state": {
            "_dom_classes": [],
            "_model_module": "@jupyter-widgets/controls",
            "_model_module_version": "1.5.0",
            "_model_name": "ButtonModel",
            "_view_count": null,
            "_view_module": "@jupyter-widgets/controls",
            "_view_module_version": "1.5.0",
            "_view_name": "ButtonView",
            "button_style": "",
            "description": "Strike",
            "disabled": false,
            "icon": "",
            "layout": "IPY_MODEL_d61626df5afe47399fd4f1db5c9c57f6",
            "style": "IPY_MODEL_f82d4f2cd7b1488fbcf3d6718716491b",
            "tooltip": ""
          }
        },
        "62b956497a11445b8daeba14fc86a5f4": {
          "model_module": "@jupyter-widgets/controls",
          "model_name": "ButtonModel",
          "model_module_version": "1.5.0",
          "state": {
            "_dom_classes": [],
            "_model_module": "@jupyter-widgets/controls",
            "_model_module_version": "1.5.0",
            "_model_name": "ButtonModel",
            "_view_count": null,
            "_view_module": "@jupyter-widgets/controls",
            "_view_module_version": "1.5.0",
            "_view_name": "ButtonView",
            "button_style": "",
            "description": "No Strike",
            "disabled": false,
            "icon": "",
            "layout": "IPY_MODEL_5f1f6bede9f24e1e92bfbeca7d845fb7",
            "style": "IPY_MODEL_da7d66c8f31043bfb75651ac6caa18d4",
            "tooltip": ""
          }
        },
        "24319709036143df99c0dad87d6cc3a6": {
          "model_module": "@jupyter-widgets/base",
          "model_name": "LayoutModel",
          "model_module_version": "1.2.0",
          "state": {
            "_model_module": "@jupyter-widgets/base",
            "_model_module_version": "1.2.0",
            "_model_name": "LayoutModel",
            "_view_count": null,
            "_view_module": "@jupyter-widgets/base",
            "_view_module_version": "1.2.0",
            "_view_name": "LayoutView",
            "align_content": null,
            "align_items": null,
            "align_self": null,
            "border": null,
            "bottom": null,
            "display": null,
            "flex": null,
            "flex_flow": null,
            "grid_area": null,
            "grid_auto_columns": null,
            "grid_auto_flow": null,
            "grid_auto_rows": null,
            "grid_column": null,
            "grid_gap": null,
            "grid_row": null,
            "grid_template_areas": null,
            "grid_template_columns": null,
            "grid_template_rows": null,
            "height": null,
            "justify_content": null,
            "justify_items": null,
            "left": null,
            "margin": null,
            "max_height": null,
            "max_width": null,
            "min_height": null,
            "min_width": null,
            "object_fit": null,
            "object_position": null,
            "order": null,
            "overflow": null,
            "overflow_x": null,
            "overflow_y": null,
            "padding": null,
            "right": null,
            "top": null,
            "visibility": null,
            "width": null
          }
        },
        "d61626df5afe47399fd4f1db5c9c57f6": {
          "model_module": "@jupyter-widgets/base",
          "model_name": "LayoutModel",
          "model_module_version": "1.2.0",
          "state": {
            "_model_module": "@jupyter-widgets/base",
            "_model_module_version": "1.2.0",
            "_model_name": "LayoutModel",
            "_view_count": null,
            "_view_module": "@jupyter-widgets/base",
            "_view_module_version": "1.2.0",
            "_view_name": "LayoutView",
            "align_content": null,
            "align_items": null,
            "align_self": null,
            "border": null,
            "bottom": null,
            "display": null,
            "flex": null,
            "flex_flow": null,
            "grid_area": null,
            "grid_auto_columns": null,
            "grid_auto_flow": null,
            "grid_auto_rows": null,
            "grid_column": null,
            "grid_gap": null,
            "grid_row": null,
            "grid_template_areas": null,
            "grid_template_columns": null,
            "grid_template_rows": null,
            "height": null,
            "justify_content": null,
            "justify_items": null,
            "left": null,
            "margin": null,
            "max_height": null,
            "max_width": null,
            "min_height": null,
            "min_width": null,
            "object_fit": null,
            "object_position": null,
            "order": null,
            "overflow": null,
            "overflow_x": null,
            "overflow_y": null,
            "padding": null,
            "right": null,
            "top": null,
            "visibility": null,
            "width": null
          }
        },
        "f82d4f2cd7b1488fbcf3d6718716491b": {
          "model_module": "@jupyter-widgets/controls",
          "model_name": "ButtonStyleModel",
          "model_module_version": "1.5.0",
          "state": {
            "_model_module": "@jupyter-widgets/controls",
            "_model_module_version": "1.5.0",
            "_model_name": "ButtonStyleModel",
            "_view_count": null,
            "_view_module": "@jupyter-widgets/base",
            "_view_module_version": "1.2.0",
            "_view_name": "StyleView",
            "button_color": null,
            "font_weight": ""
          }
        },
        "5f1f6bede9f24e1e92bfbeca7d845fb7": {
          "model_module": "@jupyter-widgets/base",
          "model_name": "LayoutModel",
          "model_module_version": "1.2.0",
          "state": {
            "_model_module": "@jupyter-widgets/base",
            "_model_module_version": "1.2.0",
            "_model_name": "LayoutModel",
            "_view_count": null,
            "_view_module": "@jupyter-widgets/base",
            "_view_module_version": "1.2.0",
            "_view_name": "LayoutView",
            "align_content": null,
            "align_items": null,
            "align_self": null,
            "border": null,
            "bottom": null,
            "display": null,
            "flex": null,
            "flex_flow": null,
            "grid_area": null,
            "grid_auto_columns": null,
            "grid_auto_flow": null,
            "grid_auto_rows": null,
            "grid_column": null,
            "grid_gap": null,
            "grid_row": null,
            "grid_template_areas": null,
            "grid_template_columns": null,
            "grid_template_rows": null,
            "height": null,
            "justify_content": null,
            "justify_items": null,
            "left": null,
            "margin": null,
            "max_height": null,
            "max_width": null,
            "min_height": null,
            "min_width": null,
            "object_fit": null,
            "object_position": null,
            "order": null,
            "overflow": null,
            "overflow_x": null,
            "overflow_y": null,
            "padding": null,
            "right": null,
            "top": null,
            "visibility": null,
            "width": null
          }
        },
        "da7d66c8f31043bfb75651ac6caa18d4": {
          "model_module": "@jupyter-widgets/controls",
          "model_name": "ButtonStyleModel",
          "model_module_version": "1.5.0",
          "state": {
            "_model_module": "@jupyter-widgets/controls",
            "_model_module_version": "1.5.0",
            "_model_name": "ButtonStyleModel",
            "_view_count": null,
            "_view_module": "@jupyter-widgets/base",
            "_view_module_version": "1.2.0",
            "_view_name": "StyleView",
            "button_color": null,
            "font_weight": ""
          }
        },
        "2c819a635c1249439cb452b7558ae66b": {
          "model_module": "@jupyter-widgets/base",
          "model_name": "LayoutModel",
          "model_module_version": "1.2.0",
          "state": {
            "_model_module": "@jupyter-widgets/base",
            "_model_module_version": "1.2.0",
            "_model_name": "LayoutModel",
            "_view_count": null,
            "_view_module": "@jupyter-widgets/base",
            "_view_module_version": "1.2.0",
            "_view_name": "LayoutView",
            "align_content": null,
            "align_items": null,
            "align_self": null,
            "border": null,
            "bottom": null,
            "display": null,
            "flex": null,
            "flex_flow": null,
            "grid_area": null,
            "grid_auto_columns": null,
            "grid_auto_flow": null,
            "grid_auto_rows": null,
            "grid_column": null,
            "grid_gap": null,
            "grid_row": null,
            "grid_template_areas": null,
            "grid_template_columns": null,
            "grid_template_rows": null,
            "height": null,
            "justify_content": null,
            "justify_items": null,
            "left": null,
            "margin": null,
            "max_height": null,
            "max_width": null,
            "min_height": null,
            "min_width": null,
            "object_fit": null,
            "object_position": null,
            "order": null,
            "overflow": null,
            "overflow_x": null,
            "overflow_y": null,
            "padding": null,
            "right": null,
            "top": null,
            "visibility": null,
            "width": null
          }
        },
        "0d2d55b0e581428d8eae84d2060865bc": {
          "model_module": "jupyter-matplotlib",
          "model_name": "ToolbarModel",
          "model_module_version": "^0.11",
          "state": {
            "_current_action": "",
            "_dom_classes": [],
            "_model_module": "jupyter-matplotlib",
            "_model_module_version": "^0.11",
            "_model_name": "ToolbarModel",
            "_view_count": null,
            "_view_module": "jupyter-matplotlib",
            "_view_module_version": "^0.11",
            "_view_name": "ToolbarView",
            "button_style": "",
            "collapsed": true,
            "layout": "IPY_MODEL_0de1210f684a497689492f5ebba0d2a3",
            "orientation": "vertical",
            "toolitems": [
              [
                "Home",
                "Reset original view",
                "home",
                "home"
              ],
              [
                "Back",
                "Back to previous view",
                "arrow-left",
                "back"
              ],
              [
                "Forward",
                "Forward to next view",
                "arrow-right",
                "forward"
              ],
              [
                "Pan",
                "Left button pans, Right button zooms\nx/y fixes axis, CTRL fixes aspect",
                "arrows",
                "pan"
              ],
              [
                "Zoom",
                "Zoom to rectangle\nx/y fixes axis",
                "square-o",
                "zoom"
              ],
              [
                "Download",
                "Download plot",
                "floppy-o",
                "save_figure"
              ]
            ]
          }
        },
        "808acf24fb0347d3ba5670e386bbee29": {
          "model_module": "@jupyter-widgets/base",
          "model_name": "LayoutModel",
          "model_module_version": "1.2.0",
          "state": {
            "_model_module": "@jupyter-widgets/base",
            "_model_module_version": "1.2.0",
            "_model_name": "LayoutModel",
            "_view_count": null,
            "_view_module": "@jupyter-widgets/base",
            "_view_module_version": "1.2.0",
            "_view_name": "LayoutView",
            "align_content": null,
            "align_items": null,
            "align_self": null,
            "border": null,
            "bottom": null,
            "display": null,
            "flex": null,
            "flex_flow": null,
            "grid_area": null,
            "grid_auto_columns": null,
            "grid_auto_flow": null,
            "grid_auto_rows": null,
            "grid_column": null,
            "grid_gap": null,
            "grid_row": null,
            "grid_template_areas": null,
            "grid_template_columns": null,
            "grid_template_rows": null,
            "height": null,
            "justify_content": null,
            "justify_items": null,
            "left": null,
            "margin": null,
            "max_height": null,
            "max_width": null,
            "min_height": null,
            "min_width": null,
            "object_fit": null,
            "object_position": null,
            "order": null,
            "overflow": null,
            "overflow_x": null,
            "overflow_y": null,
            "padding": null,
            "right": null,
            "top": null,
            "visibility": null,
            "width": null
          }
        },
        "cbf52e8b1be14c83af7c19812d5dcea3": {
          "model_module": "jupyter-matplotlib",
          "model_name": "ToolbarModel",
          "model_module_version": "^0.11",
          "state": {
            "_current_action": "",
            "_dom_classes": [],
            "_model_module": "jupyter-matplotlib",
            "_model_module_version": "^0.11",
            "_model_name": "ToolbarModel",
            "_view_count": null,
            "_view_module": "jupyter-matplotlib",
            "_view_module_version": "^0.11",
            "_view_name": "ToolbarView",
            "button_style": "",
            "collapsed": true,
            "layout": "IPY_MODEL_2937d2eb6b0e4dfbb8cac7daa593256f",
            "orientation": "vertical",
            "toolitems": [
              [
                "Home",
                "Reset original view",
                "home",
                "home"
              ],
              [
                "Back",
                "Back to previous view",
                "arrow-left",
                "back"
              ],
              [
                "Forward",
                "Forward to next view",
                "arrow-right",
                "forward"
              ],
              [
                "Pan",
                "Left button pans, Right button zooms\nx/y fixes axis, CTRL fixes aspect",
                "arrows",
                "pan"
              ],
              [
                "Zoom",
                "Zoom to rectangle\nx/y fixes axis",
                "square-o",
                "zoom"
              ],
              [
                "Download",
                "Download plot",
                "floppy-o",
                "save_figure"
              ]
            ]
          }
        },
        "0de1210f684a497689492f5ebba0d2a3": {
          "model_module": "@jupyter-widgets/base",
          "model_name": "LayoutModel",
          "model_module_version": "1.2.0",
          "state": {
            "_model_module": "@jupyter-widgets/base",
            "_model_module_version": "1.2.0",
            "_model_name": "LayoutModel",
            "_view_count": null,
            "_view_module": "@jupyter-widgets/base",
            "_view_module_version": "1.2.0",
            "_view_name": "LayoutView",
            "align_content": null,
            "align_items": null,
            "align_self": null,
            "border": null,
            "bottom": null,
            "display": null,
            "flex": null,
            "flex_flow": null,
            "grid_area": null,
            "grid_auto_columns": null,
            "grid_auto_flow": null,
            "grid_auto_rows": null,
            "grid_column": null,
            "grid_gap": null,
            "grid_row": null,
            "grid_template_areas": null,
            "grid_template_columns": null,
            "grid_template_rows": null,
            "height": null,
            "justify_content": null,
            "justify_items": null,
            "left": null,
            "margin": null,
            "max_height": null,
            "max_width": null,
            "min_height": null,
            "min_width": null,
            "object_fit": null,
            "object_position": null,
            "order": null,
            "overflow": null,
            "overflow_x": null,
            "overflow_y": null,
            "padding": null,
            "right": null,
            "top": null,
            "visibility": null,
            "width": null
          }
        },
        "2937d2eb6b0e4dfbb8cac7daa593256f": {
          "model_module": "@jupyter-widgets/base",
          "model_name": "LayoutModel",
          "model_module_version": "1.2.0",
          "state": {
            "_model_module": "@jupyter-widgets/base",
            "_model_module_version": "1.2.0",
            "_model_name": "LayoutModel",
            "_view_count": null,
            "_view_module": "@jupyter-widgets/base",
            "_view_module_version": "1.2.0",
            "_view_name": "LayoutView",
            "align_content": null,
            "align_items": null,
            "align_self": null,
            "border": null,
            "bottom": null,
            "display": null,
            "flex": null,
            "flex_flow": null,
            "grid_area": null,
            "grid_auto_columns": null,
            "grid_auto_flow": null,
            "grid_auto_rows": null,
            "grid_column": null,
            "grid_gap": null,
            "grid_row": null,
            "grid_template_areas": null,
            "grid_template_columns": null,
            "grid_template_rows": null,
            "height": null,
            "justify_content": null,
            "justify_items": null,
            "left": null,
            "margin": null,
            "max_height": null,
            "max_width": null,
            "min_height": null,
            "min_width": null,
            "object_fit": null,
            "object_position": null,
            "order": null,
            "overflow": null,
            "overflow_x": null,
            "overflow_y": null,
            "padding": null,
            "right": null,
            "top": null,
            "visibility": null,
            "width": null
          }
        },
        "9e1643e00a35469b8a0ca064879077e0": {
          "model_module": "jupyter-matplotlib",
          "model_name": "MPLCanvasModel",
          "model_module_version": "^0.11",
          "state": {
            "_cursor": "default",
            "_data_url": "data:image/png;base64,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",
            "_dom_classes": [],
            "_figure_label": "Figure 3",
            "_image_mode": "full",
            "_message": "",
            "_model_module": "jupyter-matplotlib",
            "_model_module_version": "^0.11",
            "_model_name": "MPLCanvasModel",
            "_rubberband_height": 0,
            "_rubberband_width": 0,
            "_rubberband_x": 0,
            "_rubberband_y": 0,
            "_size": [
              400,
              400
            ],
            "_view_count": null,
            "_view_module": "jupyter-matplotlib",
            "_view_module_version": "^0.11",
            "_view_name": "MPLCanvasView",
            "capture_scroll": false,
            "footer_visible": false,
            "header_visible": false,
            "layout": "IPY_MODEL_8df98e116e5241b3bc235f26b8fb176a",
            "pan_zoom_throttle": 33,
            "resizable": false,
            "toolbar": "IPY_MODEL_f168c5416fa343a7ba7d27d03e079227",
            "toolbar_position": "left",
            "toolbar_visible": false
          }
        },
        "8df98e116e5241b3bc235f26b8fb176a": {
          "model_module": "@jupyter-widgets/base",
          "model_name": "LayoutModel",
          "model_module_version": "1.2.0",
          "state": {
            "_model_module": "@jupyter-widgets/base",
            "_model_module_version": "1.2.0",
            "_model_name": "LayoutModel",
            "_view_count": null,
            "_view_module": "@jupyter-widgets/base",
            "_view_module_version": "1.2.0",
            "_view_name": "LayoutView",
            "align_content": null,
            "align_items": null,
            "align_self": null,
            "border": null,
            "bottom": null,
            "display": null,
            "flex": null,
            "flex_flow": null,
            "grid_area": null,
            "grid_auto_columns": null,
            "grid_auto_flow": null,
            "grid_auto_rows": null,
            "grid_column": null,
            "grid_gap": null,
            "grid_row": null,
            "grid_template_areas": null,
            "grid_template_columns": null,
            "grid_template_rows": null,
            "height": null,
            "justify_content": null,
            "justify_items": null,
            "left": null,
            "margin": null,
            "max_height": null,
            "max_width": null,
            "min_height": null,
            "min_width": null,
            "object_fit": null,
            "object_position": null,
            "order": null,
            "overflow": null,
            "overflow_x": null,
            "overflow_y": null,
            "padding": null,
            "right": null,
            "top": null,
            "visibility": null,
            "width": null
          }
        },
        "f168c5416fa343a7ba7d27d03e079227": {
          "model_module": "jupyter-matplotlib",
          "model_name": "ToolbarModel",
          "model_module_version": "^0.11",
          "state": {
            "_current_action": "",
            "_dom_classes": [],
            "_model_module": "jupyter-matplotlib",
            "_model_module_version": "^0.11",
            "_model_name": "ToolbarModel",
            "_view_count": null,
            "_view_module": "jupyter-matplotlib",
            "_view_module_version": "^0.11",
            "_view_name": "ToolbarView",
            "button_style": "",
            "collapsed": true,
            "layout": "IPY_MODEL_7c63f2470ead431aa8f5b29946a80329",
            "orientation": "vertical",
            "toolitems": [
              [
                "Home",
                "Reset original view",
                "home",
                "home"
              ],
              [
                "Back",
                "Back to previous view",
                "arrow-left",
                "back"
              ],
              [
                "Forward",
                "Forward to next view",
                "arrow-right",
                "forward"
              ],
              [
                "Pan",
                "Left button pans, Right button zooms\nx/y fixes axis, CTRL fixes aspect",
                "arrows",
                "pan"
              ],
              [
                "Zoom",
                "Zoom to rectangle\nx/y fixes axis",
                "square-o",
                "zoom"
              ],
              [
                "Download",
                "Download plot",
                "floppy-o",
                "save_figure"
              ]
            ]
          }
        },
        "7c63f2470ead431aa8f5b29946a80329": {
          "model_module": "@jupyter-widgets/base",
          "model_name": "LayoutModel",
          "model_module_version": "1.2.0",
          "state": {
            "_model_module": "@jupyter-widgets/base",
            "_model_module_version": "1.2.0",
            "_model_name": "LayoutModel",
            "_view_count": null,
            "_view_module": "@jupyter-widgets/base",
            "_view_module_version": "1.2.0",
            "_view_name": "LayoutView",
            "align_content": null,
            "align_items": null,
            "align_self": null,
            "border": null,
            "bottom": null,
            "display": null,
            "flex": null,
            "flex_flow": null,
            "grid_area": null,
            "grid_auto_columns": null,
            "grid_auto_flow": null,
            "grid_auto_rows": null,
            "grid_column": null,
            "grid_gap": null,
            "grid_row": null,
            "grid_template_areas": null,
            "grid_template_columns": null,
            "grid_template_rows": null,
            "height": null,
            "justify_content": null,
            "justify_items": null,
            "left": null,
            "margin": null,
            "max_height": null,
            "max_width": null,
            "min_height": null,
            "min_width": null,
            "object_fit": null,
            "object_position": null,
            "order": null,
            "overflow": null,
            "overflow_x": null,
            "overflow_y": null,
            "padding": null,
            "right": null,
            "top": null,
            "visibility": null,
            "width": null
          }
        },
        "2720fb1f3ffb494fbf9f18880c594821": {
          "model_module": "jupyter-matplotlib",
          "model_name": "MPLCanvasModel",
          "model_module_version": "^0.11",
          "state": {
            "_cursor": "default",
            "_data_url": "data:image/png;base64,iVBORw0KGgoAAAANSUhEUgAAA+gAAAJYCAYAAADxHswlAAAAOXRFWHRTb2Z0d2FyZQBNYXRwbG90bGliIHZlcnNpb24zLjcuMSwgaHR0cHM6Ly9tYXRwbG90bGliLm9yZy/bCgiHAAAACXBIWXMAAA9hAAAPYQGoP6dpAACUZElEQVR4nOzdeZxO5f/H8fc9M2Yzq2EmxjYh+xZSyBbtlpKlRKhQCC0Y9WWILJUlhL4iSpY2hL6SrUhKRVTSgqxZMjOWmTHL9ftjus9vbnPPGNt937lfz8djHuWc65zzOee+z7nP51zXuS6bMcYIAAAAAAC4lY+7AwAAAAAAACToAAAAAAB4BBJ0AAAAAAA8AAk6AAAAAAAegAQdAAAAAAAPQIIOAAAAAIAHIEEHAAAAAMADkKADAAAAAOABSNABAAAAAPAAJOgAAAAAAHgAEnQAAAAAADwACToAAAAAAB6ABB0AAAAAAA9Agg4AAAAAgAcgQQcAAAAAwAOQoAMAAAAA4AFI0AEAAAAA8AAk6AAAAAAAeAASdAAAAAAAPAAJOgAAAAAAHoAEHQAAAAAAD0CCDniZvXv3ymazyWazae/eve4Ox+NlZmZqwoQJql27tgoXLmwduyVLlrg7NLdav369dSyuJZwfBZeQkCCbzaamTZu6O5RL0q1bN9lsNnXr1s3doXi9a/V6grxx/nmef/s1/VpCgg63yMzM1OLFi9W1a1fdcMMNioiIkL+/v6Kjo9WoUSPFx8dr586d7g4T0IABA/TMM89o27ZtysjIUExMjGJiYhQYGFjgdaSnp2v27Nm6++67FRsbq4CAAIWHh+uGG25Qs2bNFB8fr08++USpqam5lk1ISFBCQgLJ4hXgqccyZ3JSkL/169e7O2SPtn79eiUkJOitt95ydyhwAc6fizNp0iQlJCRo27Zt7g7lktmT+/P/goKCVLp0abVp00aLFy+WMcbdoQKXxM/dAcD7fPXVV3rkkUe0e/dua1qhQoUUGhqqEydOaNOmTdq0aZPGjh2r+++/XwsWLJC/v78bI762FCpUSBUrVrT+H3k7deqUZs6cKUkaP368nn322Yuu4dm/f7/uvvtuhwdO/v7+8vX11e+//65ff/1V69ev19ixY7Vu3bpcT65HjBghSWratKnKli17Wfvj7QpyLN19fkRGRl7wesf1MH/r16/XiBEj1KRJk3xr54oXL66KFSuqePHirgsOVxXnz4VNmjRJ+/btU9myZVWrVi13h3NZfHx8VKxYMevfiYmJ2r9/v/bv369ly5Zp7ty5+vDDDxUQEODGKIGLR4IOl/r444/Vvn17paWlKSoqSs8++6zatWunChUqSMquWf/+++/1wQcf6PXXX9eHH36os2fPev0P6pUUGxurXbt2uTuMf4Vdu3YpPT1dkvTEE09cdHKemZmpNm3aaOfOnQoODlZ8fLweeeQRlSxZUjabTWlpafrhhx+0cuVKvf3221djF3CR3H1+fPjhhzQvdJExY8ZozJgx7g4DVxDnj3cpVaqUQ4soY4x++eUXDRkyREuXLtXKlSs1atQovfjii+4LErgEJOhwmV9//VUPP/yw0tLSVKVKFa1atUolS5Z0KOPr66u6deuqbt26eu6559SjRw83RQtIZ8+etf4/JCTkopdfu3atvv/+e0nSm2++qU6dOjnMDwgIUL169VSvXj0NGzZM586du7yAAQDwUjabTZUqVdLixYtVs2ZN7dq1S7NnzyZBx78O76DDZV544QUlJycrMDBQH330Ua7k/HxFihTRkiVLFB4enmvekSNH9Nxzz6lq1aoqXLiwChcurKpVq2rQoEH666+/nK7v/M6f9u3bp8cff1ylS5dWYGCgypUrpxdeeEFnzpyxltm5c6cefvhhlSpVSoGBgapQoYJGjRpl1aqer2nTprLZbEpISNC5c+c0duxY1ahRQ4ULF1ZkZKRatmypTz75JM99PnLkiKZMmaI2bdqocuXKCg8PV1BQkMqXL6/HHntMP/74Y57L5uxwxRijWbNmqVGjRoqKipLNZrPex7xQJ1gHDhzQwIEDrWMbEBCgEiVKqE6dOho4cKC++eYbp9tPTU3VpEmT1KBBA0VGRiowMFBlypRR165d833XrWzZslZ8586d08svv6yaNWuqcOHCCg8PV/PmzfW///0vz+ULIjMzU7Nnz1bz5s1VtGhRBQQEKDY2Vu3bt3f6PuJbb72Vq6OUnO+5FbSGJud+t2nTJt+yNpvNoRme/fO0a9asmUMMzppoJyUlaeTIkbrxxhsVFhamoKAgVahQQU888YT++OOPC8a7ZcsWde/eXeXLl1dwcLDCwsJUpUoV9ejRQ6tWrcp32d9++009evRQqVKlFBAQoJIlS+rxxx/XwYMHnZbPysrSmjVr9NRTT+nmm29WyZIl5e/vr6ioKDVp0kQzZszI8zyTpJMnT2rYsGHWvvr7++u6665TjRo11Lt3b61Zs8YqezHHsiCdxGVlZWnx4sVq27at1adAsWLFVKdOHQ0ePNhl/Wekp6eraNGistlseu211/ItO3v2bNlsNoWFhTk8eLqca05+cl4L85Jfh0QnT57Um2++qQ4dOqh69eoqUqSIdU156KGH9NVXX+Vaxv7Z2V9l2LBhQ653VHO+l16QTqrWr1+v9u3bW59z0aJFddttt2nOnDnKzMws0H6tWbNG99xzj4oVK6bAwEBVrlxZI0aMcNrnhN2qVat0//33W+dFWFiYrr/+et1+++165ZVX9Pfff+e5rDPp6elatmyZevbsqbp166p48eJWvy933HGHFixYkOf7uud34Hax57rdrl271LlzZ1133XUKDAzU9ddfr379+uX5m+0KixYtsvbto48+clpm27ZtCgwMlM1m0+jRox3m5fz9OnXqlOLj41WxYkUFBQWpaNGiatu2rbZs2XLBODZt2qSHH35YZcqUUWBgoMLDw3XTTTdp3LhxOn36dL7LnjhxQiNHjlT9+vWt86Rs2bK6/fbbNX36dCUlJUn6/+/lvn37JEndu3fPdX44s2LFCrVr1846ByIjI9W4cWNNnz79gg+V58+fr4YNGyo0NFTh4eGqX7++3njjjav+bri/v7+aN28uSTp06JBOnjzptNyxY8f0wgsvqHbt2goPD7e+l48++qjTa98HH3wgm82mYsWKOd2HO+64wzqWzn4HxowZI5vNpltvvdVh+qVc7+zOv9588MEHuv322xUdHS0fH59c1+BPPvlELVu2VEREhEJCQlSzZk2NHz8+399buIEBXODIkSPGx8fHSDKPPvroZa1r/fr1JiIiwkgykkzhwoVN4cKFrX9HRkaaL774Itdye/bsscp88MEH1jrCwsKMr6+vNe/WW281586dM8uXLzfBwcFGkgkPDzc2m80q07FjR6exNWnSxEgy8fHx5tZbbzWSjJ+fn0O8kszw4cOdLv/II49YZfz8/EyRIkWMn5+fNS0gIMC8//77+S7btWtX065dOyPJ+Pj4mMjISOPj42PmzJmT6zjs2bPHYR3btm0zkZGR1nxfX18TGRnpsO+PPPJIrm0fOHDAVKtWzSpTqFAhEx4ebv3bx8fHvPbaa07jLlOmjJFkpkyZYurXr28tHxISYi1vs9nMm2++6XT5C0lMTDRNmzZ12KeIiAiHfXr22Wcdllm4cKGJiYlxOBYxMTHW33333VegbY8fP95afvfu3RcV91NPPWViYmIcvtc5Y6hbt65D+Z07d5qSJUta5QMDA01oaGiBvjsZGRnmqaeecviOFi5c2OGzDw8Pd1hm3bp1Vtm1a9dan1doaKjDd7ZEiRLmwIEDubaZ83soyYSEhDh8Z+zn4tmzZ3Mtu3//flO6dGmH71dkZKTDedykSZNLOpb5nR/GGHPs2DHTuHFjhzgjIiIcvq9t2rTJ+4N1IuexXLdu3UUt26dPHyMp1/fhfPZzoFu3bg7TL+eaM3z48FzH2s5+LczrWneh5e3zcl6HAgICHK4JkydPdljmzz//NDExMdbvQaFChRw+55iYGLNw4cJc++7smmaMMQMHDnTYXkREhMN3rHnz5iY5OTnf/Ro/fryx2WzW8jmvO82aNTMZGRm5lh8xYoTD9ys4ONjh+3Up35Oc3zH7717O64Mk0759e5OZmZnvspdyrhtjzCeffOLw+YWEhJjAwEAjyRQvXtzMnj3bmnexLuf8McaYHj16GEmmSJEi5s8//3SYd/r0aVOxYkXr8zr/+Nh/vyZMmGCV8/f3N2FhYQ7Xp7x+vzIzM3Nde0NCQhy+ZxUrVjR79+51uvyqVascfqf8/PxMVFSUKVSokDXto48+MsYY8/LLL5uYmBjrXiwsLCzX+ZHT2bNnzQMPPJDre5PzO3zzzTebv//+O1dcWVlZpnv37g7nj/1eRJLp1KnTBc+//NiXLVOmTJ5lnnjiCWv7x44dyzV/9erVDvdmhQoVcriX9Pf3N3PnznVY5tixY9b+b9++3WHeuXPnrHtGSbmuT8YY06JFCyPJDBs2zGH6pVzvzl+2SZMm5umnn3Y43r6+vg7X4Jzbsf922c/hxo0bm/j4+DyvyXAtEnS4xIIFC6wLwvLlyy95PX/++ad1Qa1SpYrZuHGjNe/zzz+3fiCLFCmS60Yh5413RESEue2228yPP/5ojMn+IXrttdesH8UXXnjBhIeHm44dO1o/jKdOnTLPP/+8tY7Vq1fnis9+UxoeHm4CAgLMjBkzTEpKihV7zh+7pUuX5lr+xRdfNC+//LLZsWOHSU9PN8Zk/4Dv3LnTdO7c2UjZidPBgwdzLWv/wQoJCTF+fn7mlVdeMUlJSVbshw4dynUczk9AbrvtNiPJ3HjjjWbz5s0mKyvLGGNMWlqa2b17t3nllVfM+PHjHZbJyMiwEuvw8HDzzjvvmLS0NGOMMb///ru59957rR+MlStX5orbfoMTGRlpYmNjzZIlS8y5c+eMMcbs2rXL3HzzzdZ+JSYm5lr+QuwPK/z9/c1rr71mzpw5Y4wx5vDhw9aNmSQzffr0XMvmvPG7FOvXr3e4mc/r5jU/BbnxTE5ONnFxcUaSiY2NNStWrLBuJLdt22Ydw4CAALNt27Zcyw8aNMjaTo8ePcwvv/xizUtMTDRLlizJ9VAq57GJjIw0rVu3Nj///LMxJvv7smjRIisB6NKlS65t7t+/33Tu3NksW7bMnDhxwpp+6tQpM2fOHFOiRAkjyQwcODDXso8++qiRZMqWLWs+++wzK8nJyMgwe/fuNdOnTzeDBw++pGOZ3/mRnp5uGjZsaB3LcePGmaNHj1rzDx48aGbOnGni4+PzXL8zl5NgbNmyxVrWfvzPt2/fPuumcu3atQ7zLueaczUT9JkzZ5rhw4ebrVu3WteTrKws88cff5j+/fsbm81mfH19zXfffXdR680pvwRhypQp1nHt2bOnOXz4sDEmO2GbOHGidVPr7GGtffsRERHGx8fHxMfHWwlCUlKSGTZsmLXu8xO3vXv3WknM008/7XDcExMTzRdffGGefPJJs3Xr1nz37XxbtmwxvXr1MqtXr7Z+F4wx5sSJE2by5MlWQuksCbgS57p9/TVq1DBbtmwxxmR/zz755BNTsmRJh0TpYl1ugn769GlTqVIlK0nJ+dDEnmRGRUU5vX7bf7/Cw8NNZGSkWbx4sXUe/fTTT9Z54OfnZ7799ttcy7/wwgtGkomOjjbTpk2zroXnzp0z69atM7Vr17Z+k89/OPDdd99ZDzmqVq1qVq5caf12ZmRkmK1bt5pnnnnGfPbZZ05jtj+0z8vDDz9sJJnrr7/ezJ8/3/repKSkmKVLl5rrr7/eSDJt27bNtezkyZOtz6Rv377W9z8xMdEkJCRYD6yuVoKelpZmfaZhYWG55v/www8mKCjISDKPP/64+emnn6zPfd++febJJ5+0PrdvvvnGYdkaNWoYSWbixIkO07/44gtre1LuB7VpaWnWNs//nl6J6539wdngwYOt36XU1FTrHnbp0qXWZ9K+fXvrYdTZs2fNtGnTjL+/v/WZkKC7Hwk6XML+IyTJ6Y1eQfXu3du6SbDfMOWU80agT58+DvNy3nhXrVrVpKam5lq+S5cuVpmWLVtaCWpO9ppxZy0B7D/Gzm68jMm+IbHXvlWtWvVidt0YY8w999xjJJkXX3wx17ycNWF51VYbk38CYv/x+PLLLwsc08KFC631rVq1Ktf89PR0K4GvVq1arvn2m4WAgACnCcbRo0etm5B33nmnwHEZY8xXX31lxTZz5kynZewJfNGiRa2HKXaXm6AbY0zLli2tdfj6+ppbbrnFDBgwwLz99tsFqlUvyI3n2LFjjZRdA7Bjx45c85OTk03ZsmWNJHPPPfc4zPvll1+shGDQoEEF3q+cx8ZZzZIxxrz22mtGkgkKCrJuWgvqm2++sZLD8z+XypUrG0nm3Xffvah1Xm6CPmvWLOth04oVKy5q2/k5PwE6v1Yrv5YTxhjrwWReDwZeeuklI8mULl3a6TUtP/ldc65mgn4h9pYDzq7Dl5ugnz171hQpUsRIMg8++KDTZe3fbUm5kuWctVR57f/9999vJJkWLVo4TF+0aJGRZG644YZ8Y7/S3nvvPSPJlCtXLte8yz3X7TWZUVFR5q+//sq17I4dOxxqfC/W5Z4/xmQ/yLTXWCYkJBhjHCsWnD1QN+b/f78k5UqEjcn+LlWoUMFIMnfffbfDvD179hhfX18TFBTk9MGpMdnXbnvLKHtNuF2jRo2MJFOhQoWLenhdkAT9888/tx4cnN+qwG7//v1WjfP3339vTU9JSbHOH2cPbIwxZsiQIdZxu5IJelZWltm1a5dp27attf6nnnoq1/LNmzfP95ppjLFaNpyfaA8YMMBIMq1atXKYbm/5Eh8fbwoVKmQiIiIczpUNGzYYKbt1m7P7z/wU5HonZT/Uy0uVKlWs66Kzc3jGjBnWekjQ3Y8EHS6Rs6nR+TfbBZWVlWVd9PO7qNprA6Oiohym57zxnjVrltNl33nnHavMmjVrnJYZNWqUkWTq1auXa579prRUqVJ53gh/+umn1jZ++OGHPPfDmddff91IMnfccUeuefYfrMjISOsJrDP5JSDFixc3UvYrAAV13333GUnmlltuybPMypUr89xn+81C586d81y+WbNmF51AGvP/TVRLlizp9AfJmOxaDntsy5Ytc5h3JRL006dPmyeffNLhBjTnX5kyZUxCQoJDrVZOBUkq7bUseSUTxvz/d8fHx8fhZm7o0KHW+XIx52bOY+OsNYkx2TUR9jI//fRTgddtFx0dbSSZzZs3O0y/5ZZbjCTz6quvXtT6LjdBb9CggdOHHJfr/ObH+f05qzGyX5PySsDtDzQutmbfmPyvOe5M0O3XlIoVK17yevNK0HPWNOVsTZJTRkaGdb08/6bYvv2AgABz6tQpp8vPnTvXSoByWrVqlZGym32fPn063/ivpLNnz1r7fP7D78s513P+bj///PN5bv/BBx+8Ign6pZw/dvaHDL6+vmbevHnWKzfnP+zPyf771bBhwzzLvPHGG06vvfbvyYVemerbt6+RZHr37m1N2717t7VP7733Xr7L5xVzfgm6/dxw1oIpJ3sLubFjx1rTcp4/v/76q9PlEhMTrQfvl5Og+/j4ODyAydks3P65nP/bar/G+/n5ObTeOt/WrVuNlP2QOGerCvv+hYeHO0y3v0a0adMm6+FJztr3hIQEI2U/5LpYBbne+fj4OH0AZowx27dvv+A5nJmZaWJjY0nQPQSdxOFfY8+ePVbHOC1atMizXMuWLSVld5yyZ88ep2Vuuukmp9NjYmKs/69Xr16+ZfLqdET6/w6SnLn11lvl55c9gMLWrVtzzd++fbuefPJJ1ahRQ2FhYfLx8bE6HXnyySclZXfklpd69epd8rB09957ryTpkUce0TPPPKMNGzY4dCjljH0f8vtMmjVrJl9fX4fy56tfv36ey5coUUKSLrpjJPu2mjVrJh8f55e7ypUrKzY2Nt/YLkfhwoU1bdo0HThwQG+88Ya6dOmiypUrW8dj3759SkhIUK1atfT7779f9PrPnTunH374QVLBzousrCx999131vQvv/zSmh8YGHjR25fy/uzsn5vk/LM7d+6cZsyYodtvv10lSpRQQECAQ4dFR48elZT7+27/ng4ZMkQ9e/bU//73PyUnJ19S7AWVkZFhdZDYqlWrq7addevWyWQ/PHf656zjui5dushms+nPP//Uhg0bHOZ9++23+vnnnyVJXbt2dbrNy73mXC1//PGHnn32WdWpU0cRERHy9fW14rr77ruvWlz260CpUqV0ww03OC3j6+trdUKV13WjatWqeY7+kNc17aabblLRokV1+PBh1a9fX1OnTtWuXbuuSKdap06d0ssvv6wmTZooOjpa/v7+1vEMDg62yuV3TC/2XM/5u20/Xs7kN+9iXMr5Y9evXz+1atVKmZmZ6tq1q5KSklS9enW98sorF9xuQfbt/Gvvpk2bJEmffvqprrvuujz/5syZI0lW527S/1+3fX19ddddd10wvotlj+3NN9/MN7bPPvssV2w5z5/y5cs7XX94eLjq1Klz2XFmZWXpr7/+sv7S0tKseUOHDtWGDRsUFhbmdN+ysrJUpUqVPPftzjvvlCSdOXNGJ06csJZv0qSJfH19lZSUpG+//VZSdie5mzdvVkhIiG666SY1a9ZMUvZILnb2/7fPO9/lXu/Kly+v6Ohop/Psn4mfn1+uDursfHx8GKLQgzDMGlwiKirK+v+///7b4ce8oOw365KshMqZnL3DHz16VHFxcbnKhIaGOl3WnjgXpEx+PV7mF19gYKCioqL0119/OeyTJE2dOlX9+/dXVlaWpOyevcPDw63evVNSUpScnOzQ0/z58rpAF8T48eP122+/ad26dZowYYImTJggX19f1apVS/fcc4969uyZa9/s+3ChfS5atKjTfbbL63hLBTvmzhQkNin7O3Pw4ME8Y7sSoqOj9fjjj+vxxx+XJJ0+fVpr167Vyy+/rI0bN2rPnj3q1KlTnr3k5+Xvv/+2epO+mPPC7siRI5KkMmXKXNR2cyrI+XT+Z3f06FG1aNFCO3bssKbZvyf2hxfHjh1TVlZWru/7c889p+3bt2vx4sX673//q//+97+y2WyqWrWq7rzzTj322GOqWLHiJe+PMydOnLD24XKO1dVQunRpNWnSROvXr9fbb7/tcJP19ttvS8p+cFepUqVcy16Ja87V8NFHH+nBBx90uOEOCwuzetM+d+6cTp48eVXiupjrRs7y5yvINS0jI8NhekREhBYsWKCHHnpIP/74o/r16ycpO6Fp3LixOnTooI4dO6pQoUIF25l/7N69W7fddpvDDX5wcLAiIiKsh5f23tTzO6YXe65fyu+2O82ePVulSpVSamqqfH19tWDBggI9uMxv33LOy3k8Dh06JCn7eBfke3z+6AuSVLRoURUuXPiCy14se2zJyckFeviZM7aLPX8uR5kyZayHLpmZmTp48KDeffddJSQkaPz48apevXqu4U3t+2ZP7gsi5/6Fh4erdu3a2rp1q9auXaubbrpJX375pdLS0tS8eXP5+fmpefPmevHFF7V27VoNGjRIKSkpVk/szhL0K3G9y+/ez/6Z2EexyYunnIdgmDW4SNWqVa3/t48LDUc///yzBgwYoKysLLVv315ff/21UlNTdfLkSR05ckRHjhzRhAkTJCnf2hR7cnMpIiIitHbtWn3xxRcaNGiQGjZsKD8/P3377bcaOXKkKlSooAULFlzy+vH/QkJC1Lp1a23YsMH6wd66dWu+Q9JdDXm19LjaBg4cqB07digqKkqzZ8/W4cOHlZKSomPHjlnfd/uDvPO/74UKFdKiRYu0bds2DRs2TM2bN1dwcLB27typV155RVWrVtWrr756ReN113EqKHvt+Pvvv6+UlBRJ2cmf/Xzt0qVLrmWu1DXnSjtx4oS6detm3fCuX79eZ8+eVVJSkv766y8dOXJE7733nsvicbUWLVpoz549mjdvnh555BFVqFBBSUlJ+vjjj9WlSxfVrl37gkOana979+46cOCAypYtq/fee08nTpzQmTNndPToUR05csRhfa78rD3NvHnzrOHvMjMztXHjxqu2LfuD1cGDB+db62//yzkk6NW+Htljmz59eoFiyzl8obv4+vqqdOnSGjJkiGbOnKmMjAz16NHDakFkZ9+3mJiYAu2bMSbXsKb2VhH2WnH7f+3Tb7nlFgUGBmrjxo1KT0/Xpk2bdO7cOQUHB+dqhXKlrneXc+8Hz0OCDpfI2cQ4r7FGLyTn08H8mvnknHc5tcmXI7+bp7S0NKu5VM743n//fWVmZqpy5cpauHCh06bq9qfmV1ujRo00btw4bdy4UYmJiVq6dKmqV6+ulJQU9ejRw+Gps30f8vtMUlNTne7z1VaQ2HLOd8f3xcfHR4899pj1719++eWili9SpIj1w3wp58V1110nybGJ4tWWnp6uDz/8UFJ2DW737t2tOOwyMzN1/PjxfNdTs2ZNjRgxQmvWrFFiYqI+++wzNW7cWJmZmVYt+5VSpEgRq9bSlceqoB544AEFBQUpOTlZS5culZTddPbo0aMqVKiQHnzwwVzLXM1rjr1GNb+xvu3jM59v5cqVSk5OVmRkpD7++GM1adJEQUFBVySugvCE60bhwoXVpUsXvfXWW9q9e7cOHDigcePGKTAw0KFmvSD2799vNYlesGCBHnjgARUpUsShzNU6njmPTX6/ixf7wOFq+O677xQfHy9JqlGjhqTsB4nnJ3jOFHTfrtS1177s8ePHr0orksuJzb6PF/pMr+Zn/sgjj6hx48ZKSUnRgAEDHOZdiWNnf6huT7zPT9ADAgLUoEEDnTlzRlu2bLHmN2rUKFfrF1dc7+yfyfHjx/Mdu94TzkNkI0GHS8TExKhdu3aSpHfffVe7d+8u8LL2p/lxcXHWTcWaNWvyLG9/JyoqKspp83ZX2LBhQ561EF988YXVrLFu3brW9P3790vKTjryel/avm+uFBgYqNatW1sJVWpqqkOtgn0f8vtM1q9fb+1zXu/2Xw322NatW2c14T3frl27rB8lV8aWU873VM9vfmavKcnr++Tv72/dTBbkvPDx8dGNN95oTW/QoIEkafXq1fkmU1fSsWPHrG3Vrl3baZmNGzdeVDx+fn667bbbtGLFCgUEBMgYk+t8udCxvND67X1XfPzxxxe9/NUWGhqqtm3bSvr/Zu32/951110qWrRormWu5jUnMjLSYRvObNmyxel0+zIVK1Z0eDe6oHHZ9+VSa4Lt140DBw7k+VuVmZmpdevWSXLNdSM2NlaDBg3SM888Iyn7fC2onJ9BXufb1fptyfm7bT9ezuR8V9cdzpw5owcffFDnzp3Tbbfdpq+//lo33XSTUlJS1KlTJ4emx87kt2/2eT4+Pg7Hv2HDhpKyj/3FXnvt1+3MzEx98sknF7VsQc4Pe2zLly+/qHVL/3/+7N+/P89+VZKTk633t6+WESNGSMp+UJnz+2Xft0s5dnb2RPvs2bP67LPP9M0336hIkSKqVauWVSZnLbv9O+CsefvlXu8Kwv6ZZGRk6IsvvnBaJisry6GVBtyLBB0uM2rUKIWEhCglJUX333//BZ/UnTx5Uu3atbNqWWw2mzp27ChJmjlzptMniocOHdLMmTMlyWmNkav8+eefmjt3bq7pWVlZeumllyRJVapUUfXq1a154eHhkqQdO3Y4/eH85JNPrurFMyMjI88kVpLDE92cN/P297s2b96sTz/91Ol6R44cKUmqVq2aqlWrdqVCviB7bAcPHtSsWbOclhk2bJik7Hez8utk7VLs3LmzQE+k582bZ/3/+TfQ9g5uEhMT81zevp/vv/++du7cmWv+6dOnNX78eEnS3XffbX3XJKlbt27y9fXViRMnNHz48AvGeiWEhYVZybKzWu6MjAw9//zzeS6f381yQECA1aLg/KSzIMcyP48++qik7BqPlStXXtI6riZ7M/dPP/1Uv/76q1WTnlfncFfzmlOzZk1J0qpVq5zWUq1du1abN2/ON67du3c7TVy2bdumd999N89tX+7n3LJlS6vflISEBKdlZs6cab3LeiV/ay6UCNqvw3k9UHEm5/nu7Hw7deqURo0aVeD1XQybzaYOHTpIkmbMmOG0VcxPP/2k999//6psv6D69u2r3bt3KyoqSvPmzVNAQIDeffddhYaG6ocfftCzzz6b7/IbN250eq6kpqZar9vccccdioiIsOb16NFDfn5+On78+AWvvefOndPp06etf5cvX16NGzeWlN0Z2sV0klmQ86Nnz56Ssn/Dpk+fnu/6zpw541Ar27JlS+sB3Ysvvuh0mfHjx1uv4lwtTZs2tR5k/Oc//7GmV6hQweqn4/nnn8+zJY+dsw5OQ0JCrAdzI0eOVEZGhpo0aeJwXtqT8WXLljl0WHu+y73eFUSNGjVUuXJlSdLo0aOd3uvNnj3bLZ2BIg9XrkN44MI++ugj4+/vb6TscafHjh3rMAxHRkaG+e6778x//vMfExERYSSZkydPWvP3799vTa9atarZtGmTNW/jxo3WcEJFihQxBw4ccNh2fsMn2RVkWK05c+bkOVyLfWih8PBwExgYaN544w1r6Ko///zTdOjQwVr/hx9+6LDsZ599Zs174oknrOE/Tp8+bWbMmGGCg4NNVFRUntvOa8ig8+V1HPbs2WOuv/568+KLL5rvvvvOYSzb7du3W0OIFC5c2GFokoyMDGuc8/DwcDN//nxz7tw5Y4wxf/zxh2ndurW1vZUrV+aK52KGfLmU4Vjs45z7+/ubKVOmmDNnzhhjjDl8+LB57LHHrNimT5+ea9nLHWZtypQpxt/f33To0MEsXrzYHDp0yJqXkpJivvjiC9OqVStrGw888ECudTRs2NBIMu3atbNiP19ycrKJi4szUvaQcitXrrSGlfvhhx+s4cECAgKcjrebc0zaRx991GF89qSkJLNw4ULTtm3bSzo29jLnD21mH4YmNjbWrFmzxop3x44dpmXLliYgIMAaY/f870ZMTIwZMmSI2bx5s8N4sr/++qtp3769NeTMjz/+eNHHMr/rRHp6uhV3YGCgGT9+vDl27Jg1/+DBg2bChAkXPRxgzmOZ3xBwF5KRkWGuu+46I8nUrVvXSNnDLuY15u7lXnPyG87sl19+MT4+PkbKHi94//79xpjs4bzeeustExYWZg2/df7yu3fvtpa9//77rWt5WlqaWbRokSlWrJgVl7Pv3+rVq63hsnL+Rpwvv+vKlClTrPX36tXLHDlyxBhjzJkzZ8zkyZOtYRM7dux4UcfFLq/zZ8SIEebOO+808+bNs46ZMcakpqaaRYsWWUN/5Tek4vkyMzNN6dKlrd/NnOO2f/nll+bGG290OJ7nfwcv91zft2+fCQ0NNZJMrVq1rKGnsrKyzKpVq0zp0qWt3/VLudZe7vmT33jnb7/9tjXv448/zrWs/fcrPDzcFClSxLz33nvWb+fPP/9sjbft6+vrMOSWnX3sbCl7zPAdO3ZY89LT0833339vRowYYUqVKmW++OILh2W///57a6iyatWqmU8++cT67c3IyDBff/216dWrV65htTp37mwkmQYNGpi///47z+PSvXt3I8nYbDYzYMAA8/vvv1vzUlNTzebNm81zzz1noqKiHL6rxhgzYcIEa7/69+9vjh8/bozJ/j0ZOXKksdls1md+JcdBP9/y5cutOD755BNr+o4dO0xISIiRZCpVqmSWLFniMMzogQMHzLx580zz5s3NY4895nTdzz//vLVuSWbKlCkO89PT061tSDKhoaEO91V2l3u9K+iwkh9++KG1jo4dO1qfWUpKipk+fboJCAiwPhOGWXM/EnS43MaNG0358uUdLmz+/v6mSJEi1kXK/qPw4IMPWj84duvXr7duUuwJo/1GXpKJiIgwn3/+ea7tujJBj4+Pt27kCxUqZCIjIx3294UXXnC67k6dOjmUi4iIML6+vkaSqVOnjnXTeLUS9Jzb9vX1NUWKFLEeqNg/J2djrh44cMBUrVrVoVzOGy4fHx8zefJkp/Fc7QQ9MTHR+lyk7LFPIyMjjc1ms6Y9++yzTpe93AR9xowZDsfUntid/32QZG6//XaTnJycax05bxALFSpkYmNjTZkyZXKNu7tjxw5rDFP7dsLCwqx/BwQE5DlebkZGhunTp49DPCEhIQ7HKTw8/JKOTV43zlu3bnU4bwMCAqybeD8/PzNv3rw8vxs54/Tx8TGRkZHWjar92jFx4sRLOpYXuk4cO3bM3HrrrQ7bioiIcLgRa9OmTb7H5Hw5j2VkZKTDuL7O/l5++eU81/X00087HJ9evXrlu+3LueZc6MZw2LBhDusODw83fn5+RpJp27ateeGFF/JcfvDgwbmWtSfFcXFxZv78+Xl+/9LT003FihUdjmmZMmVMmTJlHM6BC11XBg4c6PA5R0ZGWvFL2eMZOztnLydBty9r/wsKCjJFihRxuF5Vrlw511jlF/Lxxx87xB4cHGyCg4Ot39CcD2uudIJuTHailHOM6tDQUBMUFGSk7DHfZ8+efcnX2ss5f/bs2XPB8c67dOlipOxKhZwPWY35/9+vCRMmWN+5gIAAh3sUm81m3njjDafrzsrKMv/5z38cPt+goCATFRVlnYf2v40bN+ZaftWqVQ7bKlSokImKirLOFUnmo48+clhmw4YN1vZ8fX1N8eLFrfMjp7S0NIeH2Dl/F3Leq0nKVSGSmZlpHbec12n7PnXq1OmyftcLmqAbY0ytWrWMJFOvXj2H6Rs3brQeaNqPRVRUlPW9tP/llaCvWbPGodz5D4SNMebOO++05t999915xng517uCJujG5H6okPOaduutt5r4+PgCrwtXFwk63CIjI8MsWLDAdO7c2ZQvX96EhYWZQoUKmaJFi5pGjRqZ559/3uzatSvP5Q8dOmSeeeYZU7lyZRMUFGSCg4NN5cqVzbPPPpvnjYsrE/Thw4ebtLQ089JLL5lq1aqZ4OBgEx4ebm677TazYsWKPNedmZlpJk2aZGrUqGElLLVq1TJjxowxqamp+W77chP0c+fOmWXLlpmBAweam2++2ZQsWdL4+/ub4OBgU6VKFdOnTx+HmtXzpaSkmAkTJpibb77ZhIeHG39/f1OqVCnTpUsX8/333+e53NVO0I3J/r69+eabpmnTpiYyMtIUKlTIFC9e3LRr1y7fGpfLTdCNyW59MG7cONOmTRtTvnx5U7hwYePj42NCQ0NNlSpVTNeuXZ22LMjp7bffNo0aNTLh4eHWjZGz70BiYqJJSEgwtWrVMiEhISYgIMCUK1fO9O7d2/z2228XjHXjxo2mc+fOpnTp0tbT9KpVq5pHH33UfPbZZw5lr8RN+48//mg6dOhgihYtagoVKmRKlChhOnToYL7++mtjTN7fjU8//dTEx8ebW2+91ZQpU8YEBgaawMBAU758edO9e3eHGsLzXehYFuQ6kZmZad555x1z1113mejoaFOoUCETHR1t6tSpY4YMGeL0Ri0/OY9lQf6GDx+e57q2bdvmUDa/GmT7vlzqNacgN4Zvv/22ufnmm03hwoVNSEiIqVu3rpkxY4bJysq64PLz5s0zN910k8M1fujQoSYxMfGC378DBw6Yxx57zMTFxTk8ZMz5XSrIdWXt2rWmXbt25rrrrrMetjZr1szMnj3bZGRkOF3mchL0gwcPmjfeeMM8+OCDplq1aiYqKsr4+fmZIkWKmFtvvdVMmjTJoabvYnz55ZfmnnvuMREREcbf39+ULl3adO/e3fqtvZoJujHZ53unTp1MdHS0CQgIMGXLljV9+/Y1R44cuaxr7aWeP+np6ebmm282UnYNdF7HNTk52apUuO2226zWPsY4XqOSkpLMkCFDTIUKFUxgYKApUqSIadWqlfnyyy8vuA87duwwTz75pKlcubIJCQkxfn5+pmjRoqZBgwbmueeey3cdR48eNc8//7ypXbu2CQsLM4GBgaZs2bLmjjvuMDNnzjRJSUm5llm5cqVp0aKFiYqKcki2nfnyyy9Nt27dTLly5UxQUJApVKiQue6660zTpk3NsGHDzA8//JBnbPPmzbPO/9DQUFOvXj3r/HdVgr548WJr/85vIZGcnGxeeeUV07hxY+uhSEhIiKlcubJ5+OGHzfz5883p06edrjclJcV66HTdddc5LTN+/Hhr2/k9WDXm0q93F5OgG5P9sKx58+YmLCzMBAcHm+rVq5uxY8eac+fOXfS6cPXYjLnEXlQA5NK0aVNt2LBBw4cPz/PdRQAA8O9XtmxZ7du3T3PmzFG3bt3cHQ6AawSdxAEAAAAA4AFI0AEAAAAA8AAk6AAAAAAAeAASdAAAAAAAPACdxAEAAAAA4AGoQQcAAAAAwAOQoAMAAAAA4AFI0K8AY4ySk5PF2wIAAAAAgEvl5+4ArgWnTp1SeHi4kpKSFBYW5u5wAAAouAkTpORkKSxMevppd0cDAIBXI0EHAMCbXXdddnIeHOzuSAAA8Hr04n4FJCcnU4MOAAAAALgsvIMOAAAAAIAHIEEHAAAAAMAD8A46AADe7JdfpIwMyc9PqljR3dEAAODVSNABAPBmt90mHTwoxcZKBw64OxoAALwaTdwBAAAAAPAA1KADAADAKxljlJmZqYyMDHeHAsDN/Pz85OvrK5vN5t443Lp1AAAAwMWMMUpMTNSxY8eUmZnp7nAAeAhfX19FR0crPDzcbYk6CToAAAC8ypEjR5SYmKiwsDCFhYXJz8/P7bVmANzHGKOMjAwlJyfr8OHDSklJUfHixd0SCwk6AAAAvEZmZqaSkpJUrFgxFS1a1N3hAPAgoaGhCggI0PHjxxUdHS1fX1+Xx0AncQAAAPAa6enpMsaocOHC7g4FgAcqXLiwjDFKT093y/ZJ0AEAAOB1aNIOwBl3XxtI0AEAAAAA8AAk6AAAAABcYv369bLZbJo1a5a7Q3HQtGlTlS1b1t1hXDFly5ZV06ZN3RpDt27d3F4b/W9Egg4AgDf75htp//7s/wK4puzevVtdu3ZV+fLlFRgYqGLFiqlOnToaMGCADh06ZJX77rvvlJCQoL1797ovWBdYu3atEhISlJiYeNW3ZU9O8/pbsmTJVY/BFbzlu+NK9OIOAIA3c9MwMoCn6vTGZneHYFnY85ZLXvbrr79W06ZNFRkZqW7duikuLk7Hjx/Xzp07NW/ePLVt21YlSpSQlJ1kjRgx4pqrRT7f2rVrNXr0aHXr1k0REREO8z799FMZY674NufOnSsfn9x1onXr1r3i23KH/L47//3vfzVjxgz3BPYvRoIOAAAAXGNGjhwpHx8fff3114qNjXWYl5KS4rYeqj2Vv7//VVnvQw89JD8/70y5ChUqpEKFCrk7jH8dmrgDAAAA15jffvtN5cuXz5WcS1JQUJDCwsIkSQkJCXr88cclSc2aNbOaYL/11ltW+a1bt+ruu+9WeHi4goKCVK9ePS1atMjpdjdu3Ki7775bRYoUUVBQkCpWrKiBAwc6LTt16lSVK1dOAQEBqlWrltatW+cwPzk5WUOHDlWdOnUUERGhoKAg1a5dW2+//Xaude3du1cPP/ywSpYsqYCAAEVHR6tZs2Zau3atpOwm56NHj5YkxcXFWfu5fv16SXm/g34x+3Mp7r//fkVERCg1NTXXvIkTJ8pms+nrr7+WJO3atUu9evVSxYoVFRwcrPDwcN1+++366quvLridvXv35vpc7Zo2bZrrffVp06apWbNmiomJkb+/v8qVK6cXXnhB586ds8pc6LuT1zvoq1evVpMmTRQSEqKQkBA1adJEa9asyVXOZrPp4Ycf1tq1a1WvXj0FBgaqTJkymjJlSq6yS5YsUYMGDRQZGang4GCVLVtWDz/8sE6dOnXBY+NpvPNxDgAAyPbGG9Lp01JIiNSzp7ujAXCFxMXFad26dfryyy/VoEGDPMvdf//9OnDggN58800NHTpUlStXliRrmc2bN6t58+aKiIjQ008/rbCwMM2fP1+dOnXS0aNH1a9fP2tdixYtUufOnVWiRAn17dtXJUuW1O+//67Fixdr4sSJDtudMWOGkpOT1bNnT/n7+2vSpElq06aN9u3bp8jISEnSoUOHNG/ePHXo0EGPPvqozp07pw8//FBdu3ZVenq6evToISl7bPvbb79dycnJ6t27t0qXLq1jx47p66+/1nfffafmzZurV69eSkxM1NKlSzVx4kQVLVpUkqz9deZi9icvJ06ckK+vb67p9u137txZH330kVasWKF27do5lJk/f74qVKigm266SVJ2B3vffPONOnbsqFKlSuno0aOaNWuWmjVrpm+//VZVqlQpUEwFMXHiRN16661q1aqVgoODtXHjRo0ZM0Z//vmn5s2bJ+nC3x1nPvjgA3Xo0MFK+CVp9uzZuuOOO/TBBx+oTZs2DuW3b9+ujh07qmfPnurevbsWLVqkp556SlWqVNFtt90mKfvVhfvvv1+NGzfWyJEjFRgYqH379mn58uVKTk5WaGjoFTsurmAzV+NlCy+TnJys8PBwJSUlWU8jAQD4VyhZUjp4UIqNlQ4ccHc0wFWXmpqqPXv2KC4uToGBgbnmXyvvoH/++ee67bbblJGRoVq1aqlRo0a6+eab1bJlS0VHRzuUnTVrlh5//HGtW7cuV01q/fr1tWPHDv30009WDXNqaqpuueUW7d69WwcOHFBkZKROnTql0qVLq2jRovrmm28c3vE2xlg1qevXr1ezZs1UokQJ/fzzz9a987Zt21S7dm1NmzZNTz75pCTp3Llz8vHxcWgiboxRixYtdODAAf3yyy+SspO4WrVqafHixWrfvn2ex+SFF17Q6NGjtWfPnly15U2bNtXevXutzs4Kuj956datm+bOnZvn/FOnTikkJERpaWmKiYlR8+bN9eGHH1rzf/nlF1WqVEkJCQkaPny4JOns2bMKDg52WM/x48dVpUoV3XfffZo5c6Y1vWzZsipbtqzVQmDv3r2Ki4vTnDlz1K1bt1z7Lskqm9e2RowYoZEjR+rPP/+0Wmbk992xHwN7upmRkaGyZcvKGKOdO3daD2JOnjypatWqycfHR3v27LE+b3uN/JYtW1SvXj1JUlpamkqXLq0mTZpo8eLFkqSBAwdq9uzZOnHixBV5neBC14irjRp0AAA8lCsShWlnzilK0okz59TnErZ3OQkEgKuncePG2rx5s8aPH69Vq1Zp27Ztmjp1qvz8/PTEE0/o1VdfveD7wX/99Ze+/vpr9ejRwyGhDQwM1MCBA/XII49o9erV6tChg1avXq3ExES98soruTpgc5bMdu3a1aFiq1atWgoLC9Pvv/9uTcv5Xvi5c+d0+vRpZWVlqUWLFho6dKiSk5MVFhZmbW/lypW64447rkiF2cXuT15WrVrltJO4oKAgSVJAQIDatWun+fPnKykpSeHh4ZKkd999V1J2DbtdzoT57NmzSklJkSTddNNN+uYKj8Rh31ZmZqZOnTqljIwMNWvWTAkJCfr222+dvjpxId9++60OHjyokSNHWsm5JEVGRqpXr14aPny4vvvuO6vFgJT9gMienEvZx+vmm292+J5ERETozJkzWrFihVq3bv2vH9qNd9ABAACAa1DdunW1ePFinTx5Urt27dLrr79uvcM7ZsyYCy6/Z88eSXLadNo+zV7m119/lSTVqFGjQLE5e987MjJSf//9t/VvY4wmTZqkSpUqKTAwUFFRUSpWrJiGDh0qSdZwaWXKlNHQoUM1d+5cFS1aVI0aNdKLL75oxXQpLnZ/8tK8eXO1aNEi11/OZu+dO3dWWlqa3n//fWvau+++q5tuuknly5e3piUnJ+upp55S8eLFVbhwYRUtWlTFihXTihUrrvjQcf/73//UoEEDBQUFKTIyUsWKFVOTJk0k6ZK3dTHfJ7uCfE/69u2r6tWrq23btoqOjlb79u311ltv6ezZs5cUp7uRoAMAAADXMB8fH1WsWFFPPPGEtmzZovDw8HybX7uCs/eyJTkMdfbyyy9r4MCBKl++vGbPnq2VK1dq9erVVidtWVlZVtnRo0dr9+7dGjdunIoWLapx48apatWq1vvSnqxp06aKjY21as2//vpr/fbbbw6155LUqVMnTZs2Te3bt9fChQu1atUqrV69Ws2bN3c4Fs7kV6ucmZnp8O/Nmzfrnnvu0alTpzRx4kR9/PHHWr16tdX524W2dSUV5HsSFRWlb775RqtXr1b37t21d+9ede/eXVWrVtXhw4ddFeoVQ4IOAAAAeImoqCiVK1dOBw8etKbllbzFxcVJkn766adc837++WdJ0vXXXy9JqlChgqTs98GvlAULFiguLk4ff/yxunXrprvuukstWrTI873g8uXLa+DAgVqyZIn279+v0qVLWx2RSRfXNP1q7E9efHx89OCDD2r9+vU6dOiQ5s+fL19fX3Xq1Mkqk5iYqE8++URdu3bVa6+9po4dO+r2229XixYtrKbu+cn5vvf5zq+1Xrx4sbKysrR8+XL16dNH9957r1q0aKHixYvnWvZijunFfJ8ulp+fn1q0aKHx48frm2++0bJly7R3715Nnz79ktbnTiToAAAAwDXms88+y1UzKkl//PGHfv75Z4feywsXLiwpd/IWExOj+vXra+HChdq3b581PS0tTZMmTVJwcLBatGghSWrZsqUiIiI0bty4XE2gL7VPanvtac4a2xMnTmj27NkO5ZKSknKN6x4ZGamyZcs67FNe++nM1dif/HTu3FlZWVl65513tGjRolyd+fn6+spms+Wqvf7iiy8KNMxaWFiYoqOjrWHn7BYvXuzwsMa+LcnxuGdlZenVV1/Ntd6LOaZ16tRRbGysZs6c6XBMExMTNXPmTJUsWVI33njjBddzvuPHj+eaVrt27QLH5WnoJA4AAAC4xgwYMECJiYlq06aNqlWrJj8/P+3evVtz587VuXPnNGrUKKtsnTp1JEljxoxRYmKigoKCVL9+fcXFxWnixIlq3ry5brnlFj3xxBMKDQ3V/Pnz9d133+m1116zamZDQ0M1bdo0denSRTVq1FD37t1VsmRJ7d27VwsXLnTo1Kug2rZtq//85z+699571bZtWx09elRvvPGGYmNj9ddff1nl1q1bp969e6tdu3aqWLGiAgMDtWHDBq1Zs0a9e/e2ytWtW1eSFB8fr4ceekj+/v5q3rx5rl7tr+T+vPvuu047iatdu7aqVq1q/btWrVqqUqWKRo0apVOnTuVq3h4aGqrmzZvrnXfeUUhIiGrVqqWff/5Zb775pqpWrVqg8b6feOIJjRgxQl26dFGjRo20c+dOLV68WOXKlXMo16ZNG02YMEH33HOPevXqpaysLC1evNhhDHS7/L475/Pz89PkyZPVoUMH1a9f3xomb/bs2Tp8+LA++OCDPJu05+fxxx/XkSNH1KJFC5UuXVrJycmaPXt2rlYI/xYk6AAAAMA15tVXX9WHH36oDRs26N1339Xp06cVHR2txo0b65lnntEtt/z/CAwVKlTQ1KlTNWHCBD3++OPKzMzUnDlzFBcXp1tuuUWff/65hg0bppdfflnp6emqWrWqFixYkCv5eeihh1S8eHG99NJLmjRpktLT01W6dGndd999l7QPQ4YMUXp6uubOnat169YpLi5OgwcPVkhIiLp3726Vq1mzplq3bq01a9Zo7ty58vHx0fXXX69JkyapT58+VrkWLVrohRde0Jw5c9S9e3dlZWVp3bp1ThP0K7U/jzzyiNPpY8aMcUjQpexa9Oeff17BwcFq27ZtrmXeffddPfPMM3rvvff01ltvqWbNmvrwww/19ttvOwyRlpehQ4fqxIkTWrBggT744APVr19fn376qfr37+9Q7tZbb9WCBQs0evRoDRkyREWKFFH79u31+OOPq1q1ag5l8/vuONOuXTt98sknGjVqlEaOHCkpO8mfNm2a1RrjYnXp0kWzZ8/W7Nmzdfz4cUVGRqpOnTqaOXOmGjZseEnrdCfGQb8CGAcdAHA1uGSYtcFtFJV4TCciiqnPuKUXvTzDrOHfxt1jHAPwbO6+RlCDDgCAFzscU0png0KUFBZ54cIAAOCqIkEHAMCLjXp6qrtDAAAA/6AXdwAAAAAAPAAJOgAAAAAAHoAEHQAAAAAAD8A76AAAeLG+byYo9HSiToVEaOqjCe4OBwAAr0aCDgCAF6u8+3trmDUAAOBeJOgAAOCSuWKs9svBOO0AgH+Ta+od9CNHjqhPnz4qU6aMAgICVLx4cbVq1Up//vmnQ7n//ve/qlatmgIDA1WqVCkNHjxYKSkpbooaAAAAAIBrqAb9119/VePGjRUQEKAePXqoVKlSOnHihLZs2aKTJ0+qdOnSkqTx48dr8ODBatOmjfr376+ffvpJr776qn788UctX77czXsBAAAAAPBW10SCboxR586ddd111+nzzz9XaGio03LHjh1TQkKCWrdurSVLlljTS5curaefflorVqzQPffc46KoAQAAAAD4f9dEE/d169bpm2++0ciRIxUaGqrU1FSdO3cuV7klS5YoJSVFAwYMcJjeq1cvBQYGasGCBS6KGAAAAAAAR9dEgv6///1PkhQREaHGjRsrKChIgYGBuuWWW7R58/93XrN161ZJ0s033+ywfHBwsGrUqGHNBwAAAOBdEhISZLPZ3B2GR2ratKmaNm3q7jC8wjWRoO/evVuS1K5dO0VGRmrRokWaNm2a/vzzTzVv3lw7duyQJB06dEhFihRRUFBQrnXExsbq4MGD+W4nLS1NycnJTv8AAAAAT7F+/XrZbLY8/9q2bevuEC/a2rVrlZCQoMTERLfGsXfv3lzHMywsTI0aNdLChQvdGpun+vrrr9WvXz/dcsstCg4Ols1m0/r16/Msv3z5cjVs2FCFCxdWWFiYbr/9dn3zzTcXtc2PPvpI9erVU1BQkGJiYtSzZ0/9/fffl7knV9818Q766dOnJUlVqlTR0qVLrenNmjVTtWrV9OKLL2rx4sU6e/asAgICnK4jMDDwgj25jxkzRiNGjLhygQMAAABX0aOPPuq05rNUqVKuD+YyrV27VqNHj1a3bt0UERHh7nDUpk0bPfDAAzLG6ODBg5o1a5YefPBBpaSkqHv37u4Oz6OsXLlS06dPV+XKlVWtWrV8k+233npL3bt314033qhRo0YpIyNDs2bNUpMmTbRhwwbVq1fvgttbvHixOnbsqMaNG2vy5Mnav3+/JkyYoK1bt2rz5s155oSe4JpI0O014l26dHGYXqlSJdWvX18bNmyQlN2UPS0tzek6UlNTndas5xQfH6+nn3461/Tk5OR/5UUOAIC1jVorOOW0zgaFuDsUAFfBzTffrIcfftjdYVyTqlWr5nBsu3fvrvLly+uVV175VyXoxhilpKQoODj4qm3jiSee0KBBgxQcHKxZs2blmaCnp6fr2WefVdWqVfXVV1+pUKFCkqSePXuqUqVK6t+/v7788st8t5Wenq4BAwboxhtv1Jo1a+Tnl53y3njjjbr//vs1a9Ys9enT58ru4BV0TTRxj42NlSTFxMTkmle8eHGdPHlSklSiRAn9/fffTmvKDx48aK0nLwEBAQoLC3P6BwDAv9EHrR7V2x3664NWj7o7FABucO7cOdWuXVvR0dH666+/HOY99NBD8vf317fffivp/5t2v/DCC3r77bdVuXJlBQYGqnLlynrnnXecrn/58uVq0qSJQkNDFRwcrAYNGmjFihVOy86ZM0c33XSTQkJCFBYWpnr16unNN9+UJHXr1k2jR4+WJMXFxVlNy3M2k/7xxx/VoUMHFStWTAEBAapUqZJeffVVZWVl5drW66+/rgoVKigwMFBVq1bV22+/fdHH7nwxMTGqVKmSfvvtt1zzvvzyS919992KjIxUYGCgatWqpblz5zqUadSokerWreswbcCAAbLZbBoyZIjD9GrVqqlFixbWv1etWqV27dqpdOnSCggI0HXXXaeuXbvq0KFDDsvl/AznzZun6tWrKyAgQG+88YYk6ezZsxo4cKBiYmIUHBysxo0b55lMHz58WLt27VJ6enqBjk1BHgDs3LlTJ06cUKdOnazkXJLCw8PVunVrbd68WX/88Ue+61i/fr0OHz6svn37Wsm5JN13330qU6aMx3cMfk0k6PZmDgcOHMg1b//+/YqOjpYk1alTR5L01VdfOZQ5e/asfvjhB2s+AAAAcC04ffq0jh8/nusvNTVVkuTv7693331Xp0+fVo8ePazl3n77bS1YsEAvvvhirnvk5cuXa8CAAerYsaNeeuklBQQEqEuXLpo/f75DuSlTpqhVq1YKCAjQiy++qDFjxigrK0utWrXK9a5237591aNHD/n6+uo///mPxowZo9q1a+vjjz+WlD3qUps2bSRJEydO1Ntvv209JJCy7+/r16+vH374QU8//bQmT56smjVr6tlnn1Xfvn0dtvXKK6+oT58+ioqK0rhx49SuXTv1799fy5Ytu6xjnZGRoQMHDigqKsph+pIlS9SkSROdOHFCQ4cO1auvvqqYmBh169ZN48ePt8o1adJE27ZtU1JSkjVt/fr18vHxcXgQcezYMf30008Ory7MmzdPaWlp6t27t6ZOnaqHH35YS5YsUbNmzazPOqelS5fq2WefVbt27TRlyhTVrFlTktSxY0dNmjRJzZo10yuvvKIqVaro9ttvd5pnxcfHq3Llyhfsx+ti2Fs7O0vmCxcuLEkXfBfd3vH3Lbfckmte/fr19f333zt9aOMprokm7m3atNFTTz2lWbNm6bHHHrOelHzzzTf65ptvrItN27Zt1b9/f02ePFnNmjWzlp85c6ZSU1PVqVMnt8QPAAAAXA0DBw7UwIEDc02fMmWKlbhWrlxZL7/8svr27atp06bp7rvvVt++fdWkSRM999xzuZbdsWOHvvvuOyup69Wrl2rUqKFnn31WHTp0UKFChXTw4EE9++yz6tOnj6ZOnWot27dvXzVo0MAq6+Pjo40bN2ratGnq0KGDFixYIB+f/69DNMZIyk62qlWrpqVLl6pt27YqW7asQ5nHHntMlSpV0qZNm6z3i3v37q1SpUppwoQJeuqpp1SpUiWdPHlSw4YNU7169fT555/L399fUnZn0zfeeONFHduUlBQdP37cegd9/PjxOnLkiMMrsSkpKXr88cd15513atmyZVYv8X369NEDDzyghIQE9ezZUxEREWratKleeuklffHFF7r33nt18uRJ7dixQx06dND777+v06dPKyQkRJ9//rmMMQ4J+n//+99cSW2rVq3UtGlTffTRR3rwwQcd5v3yyy/66aefVL58eWva//73Py1fvlz9+/fXpEmTrOlVq1bVU089pZIlS17U8bkUN9xwg/VAIudxNMZYry1f6IGAvdWAs9bRsbGxOnv2rE6ePJnrQYqnuCZq0IsWLaqXXnpJ3377rZo0aaIpU6Zo+PDhatmypYoWLarhw4dLkqKjozV8+HAtXbpU9913n2bNmqWBAwdq0KBBuvPOO9WqVSs37wkAAADcasIEqWTJC/+1bp172datC7bshAmOy506VbByl+Dpp5/W6tWrc/2d34t7nz59dPfdd+u5557T/fffLx8fH82bN88hWba77bbbrORcyq7Z7NWrl44cOWLVbn7wwQc6d+6cunXr5lBzf/LkSd1zzz06ePCgfv75Z0nZHXpJ0ksvvZRrewUZ9mzHjh368ccf1aVLF506dcphe3fddZeMMVqzZo0k6dNPP1VKSor69+9vJeeSVLNmTbVs2bIAR/T/TZgwQcWKFVN0dLRq166txYsXq2/fvhozZoxVZvXq1Tp+/Li6d++uEydOOMR2zz33KCUlRZs2bZIkNWjQQIUKFbJqyz///HNJ0rBhw5SRkaGNGzdKyq5VDwoK0k033WRtx56cG2OUnJys48ePq2rVqoqIiHBa43z33Xc7JOeSrM62z38o06tXL6ev9L711lsyxjg8LLlcRYoU0cMPP6yPP/5YQ4YM0a5du7Rz5049/vjj1shcZ8+ezXcd9vnOOoILDAyUpAt2Du5O10QNuiT1799fUVFRmjBhgp577jkFBwfrjjvu0JgxYxw6cBsyZIgiIyM1efJkrVy5UsWKFdOAAQPonR0A4JWmDW6jqMRjOhFRTH3GLb3wAsC1LjlZKkiTXWcdBB87VrBlzx+i1xjny12BoXwrV67s8K5yfubMmaNy5cpp27Ztevvtt1W6dGmn5SpVqpRrWsWKFSVJe/bsUYMGDbRr1y5JyrfH7aNHj6pq1ar69ddfVbhwYZUrV65AcZ7Pvq0BAwZowIABeW7LHl9e+1C5cmWtWrWqwNvt3LmzunXrpvT0dH333Xd66aWXdOrUKYd3p+2xtWvXLs/12GMrXLiw6tatayXo69evV40aNVS5cmVVrFhR69ev15133qn169frlltucXjAsHv3bg0ZMkSrV6+2RriyczYsnbNjvWfPHoWGhuaqefb399f111+f/8G4gl5//XVlZWVp/PjxGjdunKTsz+all17Sc889p9DQ0HyXtz+sSEtLczhGkqzm/hfqHNydrpkEXZIefvjhAvVS2atXL/Xq1csFEQEAAOBfJSxMukDHwZKkYsWcTyvIsufXRtpszpdzcUfEn3/+uZXcbd++/bJ6f7c3Tf/www/zTKhy1sJfDvu2hg8frkaNGjktExcXd0W2lVPZsmWthx933XWXrr/+ej300EOqX7++nnjiCYfYpk+fnqvG2q5KlSrW/zdt2lTjx49XUlKSNmzYYDVjb9q0qdavX68TJ07oxx9/VPv27a1lkpOT1bhxY6Wnp2vIkCGqUqWKQkJCZLPZ1KlTJ6fvW3tyglq4cGG9/fbbevXVV/XLL78oPDxc1atX18yZMyX9/8OgvJQoUUJSdlP48x/EHDx4UEFBQYqMjLw6wV8B11SCDgAAAFyWp5/O/rsUl9rJWGio5KQTLlc6ePCgevXqpXr16qlmzZqaMGGC7r77bod+m+zstcI5/fLLL5L+PxG2J6PFixfXzTffnO+2K1SooP/973/67bff8kxipbybu9uXCQwMvGBrAXt8u3btytX5nb3J/aV68MEHNXnyZA0bNkxdunRRSEiIFVtERESBWjI0adJEY8aM0ccff6zt27dbr+o2bdpUb775plasWJHr/fN169bpr7/+0ltvvaVHHnnEmp6SkmKNZlUQcXFxWrVqVa7Rrc6dO6c//vhDtWvXLvC6roTo6Girs28p+x35kJAQNWzYMN/l7J/r5s2bcyXoW7ZsUe3atZ2+uuEpPDcyAAAAAFedMUbdunVTamqq3nnnHU2ePFnly5fXI4884rR59Jo1a7R9+3br32fOnNHMmTMVExNjNWl/4IEHVKhQIQ0bNszpMFz2Zt2S1KFDB0nS888/n6u2114DLf1/L97nJ521a9dWpUqVNGnSpFxDxUnSqVOnrKbNt99+uwIDAzV58mSdO3fOKrN9+3atXr3a+QG6CPHx8Tp+/Lhef/11SdIdd9yhqKgojRo1KlfTcym7R/ac+9iwYUP5+flZQ8o1btxYUnaCnpGRoTFjxigwMFD169e3lvH19ZWkXMcuryHm8tL6n34VXn75ZYfpM2fOVLKT1y0uZpi1y/Xpp59q2bJl6tOnj0OLjKSkJO3atcuh5/umTZvquuuu09SpU5WZmWlN/+ijj7Rv3z6P7xicGnQAAADgGvXVV19ZHWPlFB4ebnWQPHHiRH322WeaOXOmbrjhBknS/Pnz1aBBA/Xu3TvXkGjVq1dX8+bN1a9fP4WHh2vu3Ln6448/NHfuXOv96zJlymjSpEnq27evatasqU6dOqlEiRI6dOiQvvrqK/3444/at2+fpOzxv3v37q0ZM2Zo//79atu2rUJDQ7Vjxw4dPnxYH330kSRZY4THx8dbY7Q3b95c0dHRmjt3rlq0aKEqVaro0UcfVYUKFXTy5Ent3LlTH374obZt26by5csrMjJSCQkJGjJkiJo0aaJOnTrpxIkTmjp1qmrUqKFt27Zd1vFu3bq1KleurFdffVX9+vVTSEiI3nzzTbVv316VK1dWt27dVKZMGR09elTff/+9li1bpjNnzlijUIWEhKhOnTrasmWLatWqZTXFvu6661SxYkXt2rVLTZs2degArWHDhipWrJieeeYZ/fnnn4qJidH69eu1efPmi+qp/K677tJdd92lyZMn68iRI2rSpIm2b9+uRYsWOX1nPT4+XnPnztWePXsu2FHcvn37rLHmv/32W0nZQ/nZO7574YUXrLITJ07Upk2b1KBBA4WFhenrr7/WW2+9pcaNGyshIcFhvR999JG6d++uOXPmqFu3bpKy35mfMGGCHnroITVv3lydO3fWgQMHNGHCBNWsWVM9e/Ys8DFxBxJ0AAAA4Br15ptv6s0338w1vWLFimrVqpV27NihoUOHqnXr1g6JS926dZWQkKDnn39e99xzj7p06WLNu/fee3XDDTdozJgx+uOPPxQXF6e5c+eqa9euDtt48sknVbFiRb3yyiuaNGmSzpw5o5iYGNWqVUtjx451KPv666+rVq1amjlzpoYPH66AgADdcMMN1rvcktSiRQu98MILmjNnjrp3766srCytW7dO0dHRuummm/Ttt99q9OjRmj9/vo4dO6YiRYqoQoUKGj58uEOT7cGDB6tw4cKaNGmSBg0apHLlymny5Mn6/fffLztBt9lsGjRokLp3764ZM2Zo4MCBatOmjTZv3qwxY8bojTfe0MmTJ1WsWDFVqVJFEyZMsGrA7Zo2baotW7Y4NGO3T//ll19yTY+MjNT//vc/Pfvss3r11Vfl6+urZs2aaf369U5fUcjP+++/r/j4eC1YsEDLli1T3bp19emnnzodbu9i7NmzR//5z38cps2ePdv6/5wJerVq1fTBBx/oxRdfVEpKisqVK6eRI0dq4MCBTntmd+bBBx+Uv7+/XnrpJT311FMKCwvTgw8+qLFjxxZ4He5iMznbVOCSJCcnKzw8XElJSU6HIAAA4FJ0emPzVd/Gtd6L+8Ket7g7BHiY1NRU7dmzR3FxcU5rlpG3vXv3Ki4uTs8//7xGjRrl7nCAq8Ld1wjeQQcAAAAAwAOQoAMAAAAA4AFI0AEAAAAA8AB0EgcAgBeb1mO4/DLOKcPP392hAPBwZcuWFd1XAVcXCToAAF7sp4o3ujsEAADwD5q4AwAAAADgAUjQAQAAAADwADRxBwDAi1X55TvrHXSau8Ob8C41AGfcfW0gQQcAwIv1mT1CUYnHdCKimPqMW+rucICrrlChQrLZbDpz5oyCgoLcHQ4AD3PmzBnZbDYVKlTILdsnQQcAAIDX8PX1VXh4uI4dO6a0tDSFhYXJz89PNpvN3aEBcBNjjDIyMpScnKzk5GRFRETI19fXLbGQoAMAAMCrXHfddQoKCtLRo0eVnJzs7nAAeAhfX18VL15c4eHhbouBBB0AAABexWazKSIiQuHh4crMzFRGRoa7QwLgZn5+fvL19XV7axoSdAAAAHglm80mPz8/+flxSwzAMzDMGgAAAAAAHoAEHQAAAAAAD0CCDgAAAACAByBBBwAAAADAA5CgAwAAAADgAeiyEgAAL9Zn3FJ3hwAAAP5BDToAAAAAAB6ABB0AAAAAAA9Agg4AAAAAgAfgHXQAgFfq9MZmd4fgEdp9/KaCU07rbFCIPmj1qLvDAQDAq5GgAwDgxZpvXKaoxGM6EVGMBB0AADejiTsAAAAAAB6ABB0AAAAAAA9Agg4AAAAAgAcgQQcAAAAAwAOQoAMAAAAA4AFI0AEAAAAA8AAk6AAAAAAAeAASdAAAAAAAPICfuwMAAADu8/MNtRV6OlGnQiLcHQoAAF6PBB0AAC829dEEd4cAAAD+QRN3AAAAAAA8AAk6AAAAAAAegAQdAAAAAAAPwDvoAICrotMbm90dAgrghQl9FZ58UklhkRr19FR3hwMAgFcjQQcAwIsV/2u/ohKPKTjltLtDAQDA69HEHQAAAAAAD0CCDgAAAACAByBBBwAAAADAA5CgAwAAAADgAUjQAQAAAADwACToAAAAAAB4ABJ0AAAAAAA8AAk6AAAAAAAewM/dAQAAAPf58J7uCkhLUVpAkLtDAQDA65GgAwDgxdY0buvuEAAAwD9o4g4AAAAAgAcgQQcAAAAAwAPQxB0AAC8WkXRcPllZyvLxUWJ4UXeH45U6vbHZ3SFc0MKet7g7BADwCtdEDfrevXtls9mc/j322GMOZTMzMzV27FiVL19eAQEBKl++vMaOHavMzEw3RQ8AgPuMfulRvT6krUa/9Ki7QwEAwOtdUzXobdq00QMPPOAwrXz58g7/7tevn6ZPn67u3burQYMG2rRpk+Lj47V//35NmzbNleECAAAAAGC5phL0atWq6eGHH85z/o4dOzRjxgw99dRTmjx5siTpscceU1hYmKZMmaLevXurevXqrgoXAAAAAADLNdHEPaeUlBSlpKQ4nbdw4UIZYzRgwACH6QMGDJAxRosWLXJBhAAAAAAA5HZNJeiTJ09WcHCwgoODVaFCBb3++usO87du3aqYmBjFxcU5TI+Li1N0dLS2bt3qynABAAAAALBcE03cfXx8dNttt+m+++5T6dKldejQIb3xxhvq06eP9uzZo5dfflmSdOjQIcXGxjpdR2xsrA4ePJjvdtLS0pSWlpZrenJy8uXvBAAAAADAq10TCXrp0qX12WefOUx77LHH1KRJE02YMEG9e/dWuXLldPbsWYWGhjpdR2Bg4AUT7TFjxmjEiBFXLG4AAHB1/RuGMAMAwO6aauKek6+vrwYPHqysrCytWbNGkhQcHOy0BlySUlNTFRQUlO864+PjlZSUlOtv//79Vzx+AAAAAIB3uSZq0PNSpkwZSdLx48clSSVKlND27dudlj148KBq166d7/oCAgIUEBBwZYMEAAAAAEDXcA26JP3222+SpJiYGElSnTp19Ndff2nPnj0O5fbs2aOjR4+qTp06Lo8RAAAAAADpGknQjx49mmtaSkqKRo0apUKFCun222+XJHXs2FE2m02TJk1yKDtp0iTZbDZ17NjRFeECAOAxRg18Tc8Of0ejBr7m7lAAAPB610QT9169eunEiRNq3ry5SpYsqUOHDmnu3Ln6448/NGbMGJUqVUqSVLNmTfXs2VOvvfaaTp06pYYNG2rTpk2aM2eOevXqpRo1arh5TwAAcK3D15VxdwgAAOAf10SCfu+992ru3LmaPn26/v77b4WEhOjGG2/UxIkT1bp1a4eyU6dOVenSpTVr1izNnz9fsbGxGj16tAYNGuSm6AEAAAAAkGzGGOPuIP7tkpOTFR4erqSkJIWFhbk7HADwCAxvBVw7Fva8xd0hAIBXuCZq0AEAwKVp+PWn8j+XqnP+gdp00+3uDgcAAK9Ggg4AgBd76INpiko8phMRxUjQAQBws2uiF3cAAAAAAP7tSNABAAAAAPAAJOgAAAAAAHgAEnQAAAAAADwACToAAAAAAB6ABB0AAAAAAA9Agg4AAAAAgAcgQQcAAAAAwAP4uTsAAADgPolhUQ7/BQAA7kOCDgCAF3v++dnuDgEAAPyDJu4AAAAAAHgAEnQAAAAAADwACToAAAAAAB6Ad9ABAPBij70zTiFnknW6cJhmPTzY3eEAAODVSNABAPBitXd8qajEYzoRUczdoQAA4PVo4g4AAAAAgAcgQQcAAAAAwAOQoAMAAAAA4AFI0AEAAAAA8AAk6AAAAAAAeAASdAAAAAAAPAAJOgAAAAAAHoAEHQAAAAAAD+Dn7gAAAID7fFmvpQqfPaUzwaHuDgUAAK9Hgg4AgBeb/0Bfd4cAAAD+QRN3AAAAAAA8AAk6AAAAAAAegAQdAAAAAAAPwDvoAAB4sVeHdVJk0nGdDC+qZ0YudHc4AAB4NWrQAQDwYoFpKQpOPavAtBR3hwIAgNcjQQcAAAAAwAOQoAMAAAAA4AFI0AEAAAAA8AB0EgcA/0Kd3tjs7hAAAABwhVGDDgAAAACAByBBBwAAAADAA5CgAwAAAADgAUjQAQAAAADwAHQSBwCAF3uz8yAVSk9TeqEAd4cCAIDXI0EHAMCLfVejobtDAAAA/6CJOwAAAAAAHoAEHQAAAAAAD0ATdwAAvFjcvl3yy0hXhl8h7SlTyd3hAADg1UjQAQDwYs++PlhRicd0IqKY+oxb6u5wAADwajRxBwAAAADAA5CgAwAAAADgAUjQAQAAAADwACToAAAAAAB4ABJ0AAAAAAA8AAk6AAAAAAAegAQdAAAAAAAPQIIOAAAAAIAHIEEHAAAAAMAD+Lk7AAAA4D7PjHhXNiMZm7sjAQAAJOgAAHix1MDC7g4BAAD8gybuAAAAAAB4gGs2QV+7dq1sNptsNpt+++03h3kpKSkaPHiwSpUqpcDAQFWrVk3//e9/3RQpAAAAAADXaBP39PR09enTR4ULF9aZM2dyzX/ggQf06aefqm/fvqpSpYpWrFihnj17KjExUc8995wbIgYAwD3uXr1AwalndDawsFa2fNDd4QAA4NWuyRr0V155RX///bcef/zxXPOWL1+ulStXavz48Zo4caIef/xxLVmyRK1bt9bw4cN17NgxN0QMAIB73PPZQj2wfLbu+Wyhu0MBAMDrXXMJ+p9//qlRo0Zp7NixCg8PzzV/wYIFCgwMVO/evR2mDxgwQCkpKVq6dKmrQgUAAAAAwHLNJej9+/dX9erV1a1bN6fzt27dqpo1ayooKMhhev369a35AAAAAAC4mkvfQS9Xrpwef/xxdevWTdddd90VX/+KFSu0bNkybdmyRTab8wFdDx06pGrVquWaHhwcrMjISB08eDDP9aelpSktLS3X9OTk5EsPGgAAAAAAubgGfe/evXr++edVunRp3X///frf//4nY8wVWXdqaqqeeuop9ejRQ3Xr1s2z3NmzZxUQEOB0XmBgoFJSUvJcdsyYMQoPD8/1V6pUqcuOHwAAAADg3VyaoO/bt0/Dhg1T8eLFtWTJEt1zzz0qW7asRo4cqQMHDlzWuseMGaOTJ09qzJgx+ZYLDg52WgsuZSf55zd9zyk+Pl5JSUm5/vbv339ZsQMAAAAA4NIEvWTJkho+fLj27t2rlStXqm3btjpy5IgSEhIUFxenVq1aadmyZcrKyrqo9R4+fFjjxo1Tr169dPr0ae3du1d79+5VYmKiJOngwYP6888/JUklSpRw2oz97NmzOnnypGJjY/PcTkBAgMLCwpz+AQAAAABwOdzSSZzNZtOdd96pDz74QPv379fYsWMVFxenFStW6L777lOpUqX0n//8R3v37i3Q+v766y+lpaVZ67H/TZ48WZLUtGlTValSRZJUp04dbd++PVdT9i1btljzAQAAAABwNbf34h4dHa1Bgwbp559/1sCBA2WM0eHDhzV69GiVL19ebdq00bZt2/JdR1xcnD766KNcfx07dpQkTZ8+XQsXZo/v+uCDDyo1NVUzZsxwWMekSZMUFBSkNm3aXJX9BAAAAAAgPy7txd2Zffv26c0339ScOXN06NAhSVKDBg3UvHlzLV68WB9//LE++eQTLVq0SPfdd5/TdYSHh6tt27a5ptsT+xYtWqh8+fKSpFatWumOO+7QoEGDtH//flWpUkXLly/XsmXLNGbMGEVHR1+V/QQAwBPtKV1RJyKjlRwa6e5QAADwem5J0DMyMrR06VL997//1WeffaasrCyFhYXpiSeeUO/eva1h0EaOHKn33ntPXbt21bBhw/JM0C/Whx9+qOHDh2vBggU6duyYypUrpxkzZqhXr15XZP0AAPxbvNJnvLtDAAAA/7CZKzXOWQH8+uuvmjVrlubOnatjx47JGKMbb7xRvXv31kMPPaTg4GCny7Vv317Lli3Ls/d1d0tOTlZ4eLiSkpLoMA6AS3R6Y7O7QwDgRRb2vMXdIQCAV3BpDXrFihVls9kUFBSk7t27q3fv3vmOWW4XHh6u9PR0F0QIAAAAAIB7uLSTuCpVqmjy5Mk6dOiQZs2aVaDkXJJmzZp10UOvAQAAAADwb+LSGvSdO3e6cnMAAOACnp02SGGnTio5NJL30QEAcDOXJuhZWVk6ffq0goKCVKhQIadl0tPTlZKSopCQEPn4uH0UOAAArmlxf/6iqMRjOhFRzN2hAADg9VyaAU+cOFGRkZHasGFDnmU2bNigyMhITZkyxYWRAQAAAADgXi5N0D/66COVKlVKLVq0yLNMixYtVLJkSX3wwQcujAwAAAAAAPdyaYL+66+/qmrVqhcsV61aNf36668uiAgAAAAAAM/g0gQ9KSlJ4eHhFywXHh6ukydPuiAiAAAAAAA8g0sT9OLFi+uHH364YLkffvhB0dHRLogIAAAAAADP4NIEvXnz5vr555+1aNGiPMssXrxYP/30k5o1a+bCyAAAAAAAcC+XJujPPfec/P391bVrV/Xt21c//PCDzpw5ozNnzuiHH35Q37591aVLF/n7++u5555zZWgAAAAAALiVS8dBr1SpkubNm6dHHnlE06dP1/Tp0x3mG2MUGBioOXPmqFq1aq4MDQAAAAAAt3Jpgi5J7du3V+3atTVhwgStWbNG+/fvlyRr+LUBAwaoQoUKrg4LAACvtKJFJwWnntHZwMLuDgUAAK/n8gRdksqXL6/XX3/dHZsGAAA5rGz5oLtDAAAA/3DpO+gAAAAAAMA5t9SgS1JGRoZOnDihtLS0PMuULl3ahREBAAAAAOA+Lk/QP/vsM40aNUpfffWV0tPT8yxns9mUkZHhwsgAAPA+galnZDOSsUmpvIcOAIBbuTRBX758ue677z5lZmYqMjJScXFxCg0NdWUIAAAgh1eHP6SoxGM6EVFMfcYtdXc4AAB4NZcm6CNGjFBWVpYmTpyovn37ytfX15WbBwAAAADAY7k0Qf/xxx91yy23qH///q7cLAAAAAAAHs+lvbiHhITQ8RsAAAAAAE64NEFv0aKFtm7d6spNAgAAAADwr+DSBH3cuHFKTk7W4MGD6aEdAAAAAIAcXPoO+pw5c3TXXXfplVde0QcffKCmTZuqZMmS8vHJ/ZzAZrPpP//5jyvDAwAAAADAbVyaoCckJMhms8kYoz/++EN//PFHnmVJ0AEAAAAA3sTlNegAAAAAACA3lybojzzyiCs3BwAAAADAv4ZLE3QAAOBZXnlynPwy0pXhV8jdoQAA4PXckqBnZGRoxYoV+vrrr3X8+HHVr19fPXr0kCQdOnRIx48fV5UqVeTnx/MDAACupj1lKrk7BAAA8A+XZ8AbN27Uww8/rP3798sYI5vNpvT0dCtB37x5szp06KD33ntP999/v6vDAwAAAADALVw6DvpPP/2kO++8U4cPH1a/fv20ePFiGWMcyrRq1UrBwcH64IMPXBkaAAAAAABu5dIa9BdffFGpqalauXKlbr/9dqdl/P39deONN+r77793ZWgAAHilG3/YpELpaUovFKDvajR0dzgAAHg1lybo69at00033ZRncm4XGxur7du3uygqAAC816Pzxysq8ZhORBTTdzWWujscAAC8mkubuCcmJqpUqVIXLHfmzBmlp6e7ICIAAAAAADyDSxP06Oho/fbbbxcs9/PPPxcokQcAAAAA4Frh0gS9efPm2rZtm9atW5dnmY8++ki//fabWrZs6cLIAAAAAABwL5cm6EOGDJG/v7/atm2r6dOn68iRI9a8kydPavbs2Xr00UdVuHBhPf30064MDQAAAAAAt3Jpgl6pUiUtWLBAWVlZ6tu3r2JjY2Wz2TR37lwVLVpUjz/+uNLS0jR//nzFxcW5MjQAAAAAANzKpQm6JLVt21Y7d+5Uv379VKlSJQUGBsrf31/XX3+9evXqpR9++EGtW7d2dVgAAAAAALiVS4dZsytTpowmTZrkjk0DAAAAAOCRXF6DDgAAAAAAciNBBwDAi6UGBOlsYLBSA4LcHQoAAF7PZowxrtqYr69vgcvabDZlZGRcxWiunOTkZIWHhyspKUlhYWHuDgeAF+j0xmZ3hwAAHmVhz1vcHQIAXDaXvoNeqlQp2Wy2XNOzsrJ05MgRpaenS8p+Rx0AAAAAAG/i0gR97969ec7LysrS2rVr1b9/f1WvXl0LFixwXWAAAAAAALiZx7yD7uPjoxYtWmj58uVasWKFxo0b5+6QAAAAAABwGY9J0O3i4uJ08803a/bs2e4OBQCAa17n96eq57wx6vz+VHeHAgCA1/O4BF2SgoODtX//fneHAQDANa/BN6vVfNPHavDNaneHAgCA1/O4BH3fvn36/PPPFRMT4+5QAAAAAABwGZd2Ejdv3rw8550+fVq7d+/WO++8o+TkZD355JMujAwAAAAAAPdyaYLerVs3p8Os2dmHZO/atatGjBjhqrAAAAAAAHA7lybow4YNyzNB9/f3V/HixdW4cWNdf/31rgwLAAAAAAC3c2mCnpCQ4MrNAQAAAADwr+FxncQBAAAAAOCNSNABAAAAAPAALm3ifjnvlttsNv3+++9XMBoAAAAAADyHSxP0vXv3unJzAADgAr6v3kAhZ5J1unCYu0MBAMDrubSJe1ZWlvr27auQkBANHjxY27ZtU2JiohITE7V9+3YNGTJEoaGh6tu3r7KysnL95eXnn39Wp06dVKFCBYWEhCgsLEy1a9fWa6+9pnPnzjmUzczM1NixY1W+fHkFBASofPnyGjt2rDIzM6/27gMA4HFmPTxYk3qN1qyHB7s7FAAAvJ5La9Bfe+01zZw5U5s2bVLdunUd5lWvXl3Vq1fX/fffrwYNGuj666/XgAEDCrTe/fv36++//1anTp1UsmRJZWZmatOmTRowYIDWrl2rJUuWWGX79eun6dOnq3v37mrQoIE2bdqk+Ph47d+/X9OmTbuCewsAAAAAQMHZjDHGVRurWrWqSpYsqVWrVuVb7s4779T+/fv1448/Xtb2+vbtq2nTpmnXrl2qWLGiduzYoZo1a6pfv36aPHmyVa5///6aMmWKtm/frurVq1/0dpKTkxUeHq6kpCSFhdFEEMDV1+mNze4OAQA8ysKet7g7BAC4bC5t4v7HH3+oSJEiFywXGRmpPXv2XPb2ypYtK0lKTEyUJC1cuFDGmFw18wMGDJAxRosWLbrsbQIAAAAAcClc2sS9SJEi+vzzz5WamqrAwECnZVJTU/X5558rMjLyotd/9uxZnT17VmfOnNHXX3+t8ePHq3jx4qpRo4YkaevWrYqJiVFcXJzDcnFxcYqOjtbWrVsvfqcAAPgXGz26hyKSTygxLErPPz/b3eEAAODVXFqDft999+nw4cN64IEHnPbovnfvXrVv315HjhzRfffdd9HrHz9+vIoVK6ayZcuqQ4cOKlu2rFauXKmgoCBJ0qFDhxQbG+t02djYWB08eDDf9aelpSk5OdnpHwAA/0YRyScUlXhMEckn3B0KAABez6U16C+++KLWrl2rlStXqkKFCqpbt67KlCkjSdq3b5++/fZbZWRkqFKlSnrxxRcvev1du3ZVo0aNdOLECa1du1Y7d+60mrdL2TXsoaGhTpcNDAy8YKI9ZswYjRgx4qLjAgAAAADgQlyaoEdGRurLL79UfHy85s2bpy1btmjLli3W/KCgIPXo0UNjxoy5pCbu119/va6//npJUseOHTVx4kTdfvvt2r59uypXrqzg4GClpaU5XTY1NdWqac9LfHy8nn766VzTk5OTVapUqYuOFwAAAAAAO5c2cZekiIgITZ8+XceOHdOGDRu0YMECLViwQOvXr9fRo0c1Y8aMS0rOnXnooYeUnp6ud955R5JUokSJPJuxHzx4MM/m73YBAQEKCwtz+gcAAAAAwOVwaQ16TsHBwbr11luv6jZSUlIkSSdPnpQk1alTR59++qn27Nnj0FHcnj17dPToUdWpU+eqxgMAAAAAQF5cXoNu9/fff2v16tVasGCBvvzyy8ta19GjR51Of/311yVJ9evXl5Td7N1ms2nSpEkO5SZNmiSbzaaOHTteVhwAAAAAAFwql9egHzt2TP3799f777+vzMxMSdIjjzyiBg0aSJJmzZqlQYMGadmyZWrUqFGB1tmrVy+dOHFCTZs2ValSpZSYmKhVq1ZpzZo1atSokTp37ixJqlmzpnr27KnXXntNp06dUsOGDbVp0ybNmTNHvXr1soZjAwAAAADA1Vxag/7333+rQYMGWrhwoapVq6Ynn3xSxhiHMvfff79OnTql999/v8Dr7dSpkwoXLqw333xTffr00ciRI5WUlKSXX35Zn332mfz8/v85xNSpUzV69GitX79eTz75pNavX6/Ro0dr6tSpV2w/AQAAAAC4WC6tQR89erR+//13DRs2TAkJCZKkadOmOZQpUqSIatSooQ0bNhR4vR07dixw83Q/Pz8NHTpUQ4cOLfD6AQAAAAC42lyaoC9ZskQ33HCDlZznpVy5clq/fr1LYgIAwJu9266P/M+l6px/oLtDAQDA67k0QT948KDatGlzwXI2m03JyckuiAgAAO+26abb3R0CAAD4h0vfQQ8LC9Phw4cvWO73339XsWLFXBARAAAAAACewaUJer169fTNN99oz549eZbZvn27tm3bpoYNG7owMgAAAAAA3MulCXq/fv2Ulpam++67Tz///HOu+b/99pu6dOkiY4z69u3rytAAAPBKxY/sU8lDf6j4kX3uDgUAAK/n0nfQ77zzTg0aNEjjx49XtWrVVKFCBdlsNq1atUo1a9bUTz/9pMzMTD3//PMFHgMdAABcuhcmPqWoxGM6EVFMfcYtdXc4AAB4NZfWoEvS2LFjtWjRIlWvXl27d++WMUaHDx/Wjh07VKFCBc2fP18vvviiq8MCAAAAAMCtXFqDnpycLJvNpvbt26t9+/Y6duyY9u7dq6ysLJUsWVKxsbGuDAcAAAAAAI/h0gQ9IiJC9evX1+bNmyVJxYoVo7d2AAAAAADk4ibu4eHhuv766125SQAAAAAA/hVcmqDXrl1bv//+uys3CQAAAADAv4JLE/TBgwfrm2++0fvvv+/KzQIAAAAA4PFc+g56UFCQHnvsMXXs2FH33nuvWrVqpdKlSyswMNBp+caNG7syPAAAAAAA3MalCXrTpk1ls9lkjNHHH3+s5cuX51s+MzPTRZEBAAAAAOBeLk3Qu3btKpvN5spNAgAAAADwr+DSBP2tt95y5eYAAMAFPD/0TflkZSnLx6Xd0gAAACeu6q9x8+bNNX78eKfz/vzzT/39999Xc/MAAOACEsOL6u/IaCWGF3V3KAAAeL2rmqCvX79eu3btcjovLi5Ozz333NXcPAAAAAAA/xpua89mjJExxl2bBwAAAADAo7j0HXQAAOBZbvt8iQLSUpQWEKQ1jdu6OxwAALwaCToAAF7s/hVzFJV4TCciipGgAwDgZnTZCgAAAACAByBBBwAAAADAA1z1BH3u3Lny9fXN9Wez2fKc5+vrKz8/Wt8DAAAAALzHVc+CL7Wndnp4BwAAAAB4k6uaoGdlZV3N1QMAAAAAcM3gHXQAAAAAADwACToAAAAAAB6AntgA4Dyd3tjs7hAAAADghUjQAQDwYodjSulsUIiSwiLdHQoAAF6PBB0AAC826ump7g4BAAD8g3fQAQAAAADwACToAAAAAAB4ABJ0AAAAAAA8AO+gAwDgxfq+maDQ04k6FRKhqY8muDscAAC8Ggk6AABerPLu7xWVeEwnIoq5OxQAALweTdwBAAAAAPAAJOgAAAAAAHgAEnQAAAAAADwACToAAAAAAB6ABB0AAAAAAA9Agg4AAAAAgAcgQQcAAAAAwAOQoAMAAAAA4AH83B0AAABwn7WNWis45bTOBoW4OxQAALweCToAAF7sg1aPujsEAADwD5q4AwAAAADgAUjQAQAAAADwACToAAAAAAB4AN5BBwDAi00b3EZRicd0IqKY+oxb6u5wAADwatSgAwAAAADgAUjQAQAAAADwACToAAAAAAB4ABJ0AAAAAAA8AAk6AAAAAAAegAQdAAAAAAAPQIIOAAAAAIAHuCYS9K1bt2rAgAGqUaOGQkNDdd111+m2227TZ599lqtsZmamxo4dq/LlyysgIEDly5fX2LFjlZmZ6YbIAQAAAADIdk0k6GPHjtX8+fPVoEEDvfrqqxo0aJCOHj2qli1bavr06Q5l+/Xrp/j4eDVu3FjTpk3Trbfeqvj4eD311FNuih4AAAAAAMlmjDHuDuJybdq0SXXr1lVAQIA1LSUlRbVq1dKxY8d09OhR+fn5aceOHapZs6b69eunyZMnW2X79++vKVOmaPv27apevfpFbz85OVnh4eFKSkpSWFjYFdknAO7T6Y3N7g4BcJkqv3wnv4xzyvDz108Vb3R3OMAlW9jzFneHAACX7ZqoQW/YsKFDci5JQUFBuvfee3Xy5EkdOXJEkrRw4UIZYzRgwACHsgMGDJAxRosWLXJVyAAAeISfKt6oH6reTHIOAIAHuCYS9LwcOnRIfn5+ioiIkJT9rnpMTIzi4uIcysXFxSk6Olpbt251Q5QAAAAAAEh+7g7gavn555/14YcfqnXr1goJCZGUnbDHxsY6LR8bG6uDBw/mu860tDSlpaXlmp6cnHz5AQMAAAAAvNo1maAnJSWpXbt2CgoK0oQJE6zpZ8+eVWhoqNNlAgMDL5hojxkzRiNGjLiisQIA4E68gw4AgOe45hL0lJQUtWrVSn/88Yc++eQTlSlTxpoXHBzstAZcklJTUxUUFJTvuuPj4/X000/nmp6cnKxSpUpdXuAAALhBn9kjFJV4TCciiqnPuKXuDgcAAK92TSXo586d03333afNmzfr/fffV7NmzRzmlyhRQtu3b3e67MGDB1W7du181x8QEJCrMzoAAAAAAK6Ea6aTuIyMDHXo0EGrV6/WW2+9pTZt2uQqU6dOHf3111/as2ePw/Q9e/bo6NGjqlOnjqvCBQAAAADAwTWRoGdlZenhhx/W0qVL9frrr6tz585Oy3Xs2FE2m02TJk1ymD5p0iTZbDZ17NjRBdECAAAAAJDbNdHE/dlnn9WiRYvUuHFjFS5cWO+8847D/JYtWyomJkY1a9ZUz5499dprr+nUqVNq2LChNm3apDlz5qhXr16qUaOGm/YAAAAAAODtrokE/bvvvpMkff755/r8889zzV+3bp1iYmIkSVOnTlXp0qU1a9YszZ8/X7GxsRo9erQGDRrk0pgBAAAAAMjpmkjQ169fX+Cyfn5+Gjp0qIYOHXr1AgIAAAAA4CJdE++gAwAAAADwb0eCDgAAAACAByBBBwAAAADAA1wT76ADAIBL02fcUneHAAAA/kENOgAAAAAAHoAEHQAAAAAAD0CCDgAAAACAB+AddAAAvFi7j99UcMppnQ0K0QetHnV3OAAAeDUSdAAAvFjzjcsUlXhMJyKKkaADAOBmNHEHAAAAAMADkKADAAAAAOABSNABAAAAAPAAJOgAAAAAAHgAEnQAAAAAADwACToAAAAAAB6ABB0AAAAAAA9Agg4AAAAAgAfwc3cAAADAfX6+obZCTyfqVEiEu0MBAMDrkaADAODFpj6a4O4QAADAP2jiDgAAAACAByBBBwAAAADAA5CgAwAAAADgAXgHHQAAL/bChL4KTz6ppLBIjXp6qrvDAQDAq5GgAwDgxYr/tV9RiccUnHLa3aEAAOD1aOIOAAAAAIAHIEEHAAAAAMADkKADAAAAAOABSNABAAAAAPAAJOgAAAAAAHgAEnQAAAAAADwACToAAAAAAB6ABB0AAAAAAA/g5+4AAACA+3x4T3cFpKUoLSDI3aEAAOD1SNABAPBiaxq3dXcIAADgHzRxBwAAAADAA1CDDgAAgH+9Tm9sdncI+VrY8xZ3hwDgX4AEHQAALxaRdFw+WVnK8vFRYnhRd4cDAIBXI0EHAMCLjX7pUUUlHtOJiGLqM26pu8MBAMCr8Q46AAAAAAAegAQdAAAAAAAPQIIOAAAAAIAHIEEHAAAAAMAD0EkcAAAAcJV5+jBwEkPBAZ6AGnQAAAAAADwACToAAAAAAB6ABB0AAAAAAA9Agg4AAAAAgAegkzgAALzYqIGvyTcrU5k+vu4OBQAAr0eCDgCAFzt8XRl3hwAAAP5Bgg7A5f4NQ80AAAAArsY76AAAAAAAeABq0AEA8GINv/5U/udSdc4/UJtuut3d4QAA4NVI0AEA8GIPfTBNUYnHdCKiGAk6AABuRhN3AAAAAAA8AAk6AAAAAAAegAQdAAAAAAAPQIIOAAAAAIAHIEEHAAAAAMADXDMJ+unTp5WQkKBWrVqpePHistls6tatm9OymZmZGjt2rMqXL6+AgACVL19eY8eOVWZmpmuDBgAAAADgH9dMgn78+HGNGDFC3377rerWrZtv2X79+ik+Pl6NGzfWtGnTdOuttyo+Pl5PPfWUi6IFAAAAAMDRNTMOevHixXXgwAHFxsYqIyNDhQoVclpux44dmjFjhp566ilNnjxZkvTYY48pLCxMU6ZMUe/evVW9enVXhg4AAAAAwLVTgx4QEKDY2NgLllu4cKGMMRowYIDD9AEDBsgYo0WLFl2lCAEA8DyJYVE6EVFMiWFR7g4FAACvd83UoBfU1q1bFRMTo7i4OIfpcXFxio6O1tatW90UGQAArvf887PdHQIAAPiH1yXohw4dyrOmPTY2VgcPHsxz2bS0NKWlpeWanpycfMXiAwAAAAB4p2umiXtBnT17VgEBAU7nBQYGKiUlJc9lx4wZo/Dw8Fx/pUqVulrhAgAAAAC8hNcl6MHBwU5rwSUpNTVVQUFBeS4bHx+vpKSkXH/79++/WuECAAAAALyE1zVxL1GihLZv3+503sGDB1W7du08lw0ICMiz9h0AgH+jx94Zp5AzyTpdOEyzHh7s7nAAAPBqXleDXqdOHf3111/as2ePw/Q9e/bo6NGjqlOnjpsiAwDA9Wrv+FI3f7dOtXd86e5QAADwel6XoHfs2FE2m02TJk1ymD5p0iTZbDZ17NjRPYEBAAAAALzaNdXEferUqUpMTFRWVpYk6YcfftCoUaMkSa1bt1aNGjVUs2ZN9ezZU6+99ppOnTqlhg0batOmTZozZ4569eqlGjVquHMXAAAAAABe6ppK0F955RXt27fP+vf333+v77//XpJUsmRJK/meOnWqSpcurVmzZmn+/PmKjY3V6NGjNWjQILfEDQAAAADANZWg7927t0Dl/Pz8NHToUA0dOvTqBgQAAAD8S3R6Y7O7Q7ighT1vcXcIwFXlde+gAwAAAADgiUjQAQAAAADwACToAAAAAAB4ABJ0AAAAAAA8wDXVSRwAALg4X9ZrqcJnT+lMcKi7QwEAwOuRoAMA4MXmP9DX3SEAAIB/0MQdAAAAAAAPQIIOAAAAAIAHIEEHAAAAAMAD8A46AABe7NVhnRSZdFwnw4vqmZEL3R0OAABejRp0AAC8WGBaioJTzyowLcXdoQAA4PVI0AEAAAAA8AAk6AAAAAAAeADeQQeuMZ3e2OzuEAAAAABcAmrQAQAAAADwACToAAAAAAB4ABJ0AAAAAAA8AAk6AAAAAAAegAQdAAAAAAAPQC/uAAB4sTc7D1Kh9DSlFwpwdygAAHg9EnQAALzYdzUaujsEAADwD5q4AwAAAADgAUjQAQAAAADwADRxBwDAi8Xt2yW/jHRl+BXSnjKV3B0OAABejQQdAAAv9uzrgxWVeEwnIoqpz7il7g4HAACvRhN3AAAAAAA8AAk6AAAAAAAegAQdAAAAAAAPQIIOAAAAAIAHIEEHAAAAAMADkKADAAAAAOABSNABAAAAAPAAJOgAAAAAAHgAEnQAAAAAADyAn7sDAAAA7vPMiHdlM5KxuTsSAABAgg4AgBdLDSzs7hAAAMA/aOIOAAAAAIAHIEEHAAAAAMAD0MQdAAAvdvfqBQpOPaOzgYW1suWD7g4HAACvRoIOAIAXu+ezhYpKPKYTEcVI0AEAcDOauAMAAAAA4AFI0AEAAAAA8AA0cYfH6PTGZneHcEELe97i7hAAAAAAXKOoQQcAAAAAwAOQoAMAAAAA4AFI0AEAAAAA8AAk6AAAAAAAeAASdAAAAAAAPAC9uAMA4MX2lK6oE5HRSg6NdHcoAAB4PZsxxrg7iH+75ORkhYeHKykpSWFhYe4OJ0//hmHMAAAAgLww5O3l+zfkBN78OdPEHQAAAAAAD0CCDgAAAACAByBBBwAAAADAA9BJHAAAXuzZaYMUduqkkkMj9Uqf8e4OBwAAr0aCDgCAF4v78xdFJR7TiYhi7g4FAACvRxN3AAAAAAA8ADXoAAAAAP4VPH2IMG8eHgxXhlfWoGdmZmrs2LEqX768AgICVL58eY0dO1aZmZnuDg0AAAAA4KW8sga9X79+mj59urp3764GDRpo06ZNio+P1/79+zVt2jR3hwcAAAAA8EJel6Dv2LFDM2bM0FNPPaXJkydLkh577DGFhYVpypQp6t27t6pXr+7mKAEAAAAA3sbrmrgvXLhQxhgNGDDAYfqAAQNkjNGiRYvcExgAAAAAwKt5XYK+detWxcTEKC4uzmF6XFycoqOjtXXrVjdFBgAAAADwZl7XxP3QoUOKjY11Oi82NlYHDx7Mc9m0tDSlpaXlmp6UlCRJSk5OvjJBXiXpKWfcHQIAwMOcMlkq9M9/+Z0AgMvj6fmA9O/ICf4NxzE0NFQ2m+2Kr9dmjDFXfK0erFy5coqJidGXX36Za16DBg109OhR/fbbb06XTUhI0IgRI652iAAAAAAAD5b0f+3df1DUdR7H8dcXbRcQkVMP+REiiuNdnihSdyaVSGdD5mFGc0w/buTmPKVfjjOVlf1RzGRhVkOGeZWFxXjWzHmX/Zgxsg5NPVO8O4QxDWxRgUYj7DRlkeBzf3jsubAoq9Auu8/HDDPu5/Pe73yWefnV935//ec/ioyM7PPtBl2DPmnSJNlsNu3du7fb3NSpU9XW1qaqqiqP7+3pCHpHR4eam5s1YsSIfvkWxR+cPHlSCQkJOnr0aL8EEfCE3MEXyB18hezBF8gdfCEQctdfR9CD7hT3uLg4VVZWepxraGhQampqj++12+2y2+0e56KiovpieX4vMjJywP4lwsBF7uAL5A6+QvbgC+QOvkDuugu6m8SlpaXp2LFjcjgcbuMOh0PHjx9XWlqaj1YGAAAAAAhmQdeg5+bmyrIsFRUVuY0XFRXJsizl5ub6ZmEAAAAAgKAWdKe4T548WQsXLtSqVat06tQppaena8eOHSopKdGiRYuUkpLi6yUCAAAAAIJQ0DXoklRcXKzRo0dr7dq1Wr9+veLj47V8+XItXbrU10sDAAAAAASpoGzQBw8erGXLlmnZsmW+XsqAYbfb9cQTT/R4kzygP5A7+AK5g6+QPfgCuYMvkLueBd1j1gAAAAAA8EdBd5M4AAAAAAD8EQ06AAAAAAB+gAYdAAAAAAA/QIMOAAAAAIAfoEGHS1lZmRYuXKi0tDTZbDZZlqW6uroe66urqzV79mxFRkYqMjJSs2fPVnV19WXXApKUl5cny7I8/tTX13erJ2O4XO3t7SosLFRycrLsdruSk5NVWFio9vZ2Xy8NAaCurq7HfdqCBQvcaskiLsX333+vJ598Ur/5zW8UGxsry7KUl5fnsdabjJFHXExvs+fNflAK3uwF5WPW4Nmf//xnbdiwQZMmTdKECRMu2NzU1NTouuuu0/Dhw1VQUCBJWrVqla6//nrt3r1b48ePv6RaoKs333xTISHu3yUOHz7c7TUZQ1944IEHtGbNGv3+97/X9OnTtWPHDj322GM6evSoVq9e7evlIUDMnTtXt99+u9tYcnKy22uyiEvR1NSkgoICxcbG6uqrr9YHH3zQY603GSOPuBhvsif1bj8oBXH2DPA/9fX1xul0GmOMefzxx40k43A4PNbm5OSYIUOGmCNHjrjGjhw5YoYMGWJuv/32S64FOs2fP99IMm1tbRetJWO4XPv27TOWZZnFixe7jS9evNhYlmX27dvno5UhUDgcDiPJPP744xesI4u4VE6n09TX1xtjjGlrazOSzPz587vVeZMx8oje6G32ersfNCa4s8cp7nCJj4+X3W6/aN3333+v999/Xzk5OUpISHCNJyQkKCcnR++//75Onz7tdS3giTFGJ0+eVEdHh8d5Moa+8Pbbb8sYoyVLlriNL1myRMYYvfPOO75ZGAJSS0uLWlpaPM6RRVwqu92u+Pj4i9Z5kzHyiN7obfbOd6H9oBTc2aNBh9eqqqp09uxZXXvttd3mpk2bptbWVlVVVXldC3gyYsQIDRs2TBEREcrJydGhQ4fc5skY+kJFRYVGjRqlpKQkt/GkpCRFR0eroqLCRytDoHnxxRcVHh6u8PBwjR8/Xi+//LLbPFlEf/MmY+QR/eFi+0EpuLPHNejwWmNjoyR5/Kasc6yhocHrWuB8MTExevDBB103Ldy5c6eKi4u1bds2VVRUKDExURIZQ99obGzs8dv/+Ph4MoTLFhISohtvvFHz5s3T6NGj1djYqFdffVX33XefHA6HVq5cKYksov95kzHyiL7U2/2gFNzZo0EPQMYYtba29qo2JCRENpvNq+2fOXNGkjyeDh8aGipJrlNWvKlFYLrUPBYWFrrN5eTkaNasWbr55pv1xBNPaN26dZLIGPrGmTNnNHToUI9zoaGhOnny5I+8IgSa0aNHa8uWLW5jCxYs0IwZM/TCCy8oPz9f48aNI4vod95kjDyiL/V2PygFd/Y4xT0AHT58WGFhYb36uemmm7zefnh4uCR5bLqcTqckKSwszOtaBKa+zGNWVpamTp2qsrIy1xgZQ18IDw/v8Yskp9NJhtAvBg0apEceeUQdHR365JNPJJFF9D9vMkYe0d887Qel4M4eR9AD0MiRI1VSUtKr2piYGK+3HxcXJ8nzacOdY52npHhTi8DU13lMTEx0u6acjKEvxMXFqbKy0uNcQ0ODUlNTf+QVIVh0Xq7T1NQkiSyi/3mTMfKIH0PX/aAU3NmjQQ9AERERysvL67ftT5o0STabTf/4xz+Un5/vNrdr1y7ZbDb94he/8LoWgamv81hbW6tRo0a5XpMx9IW0tDSVlZXJ4XC43ZDG4XDo+PHjSktL8+HqEMhqa2slybVfI4vob95kjDzix9B1PygFd/Y4xR1ei4iI0Jw5c7Rx40bV19e7xo8ePaqNGzdqzpw5ioiI8LoW6HT69GmPj0Z75513VFVVpVtuucU1RsbQF3Jzc2VZloqKitzGi4qKZFmWcnNzfbMwBIzjx493G2tpadFTTz2lK664wnWJD1lEf/MmY+QRfam3+0EpuLPHEXS47Nu3T++9954kafv27ZKk4uJiRUVFKSoqSvfff7+r9umnn9aWLVt0ww03aPHixZKkVatWadCgQXr66afdtutNLSBJNTU1yszMVG5uriZMmOA6Qr5+/XolJiaqoKDArZ6M4XJNnjxZCxcu1KpVq3Tq1Cmlp6drx44dKikp0aJFi5SSkuLrJWKAW7Rokb799ltlZmbqyiuvVGNjo95880199dVXeuaZZ5SQkCCJLOLyFBcX67vvvlNHR4ekc/+3e+qppyRJ2dnZSklJ8Spj5BG91Zvs9XY/KAV59gzwPyUlJUaSx5/ExMRu9ZWVlSYrK8tERESYiIgIk5WVZSorKz1u25ta4OuvvzZ33nmnGT9+vBkyZIix2Wxm3LhxZsmSJeabb77x+B4yhsvV1tZmli9fbpKSkozNZjNJSUlm+fLlpq2tzddLQwBYu3atuf766010dLQZPHiwiYqKMpmZmWbTpk3daskiLlViYmKP/5crKSlx1XmTMfKI3uhN9rzZDxoTvNmzjDHmx/5SAAAAAAAAuOMadAAAAAAA/AANOgAAAAAAfoAGHQAAAAAAP0CDDgAAAACAH6BBBwAAAADAD9CgAwAAAADgB2jQAQAAAADwAzToAAAAAAD4ARp0AAAAAAD8AA06AAADhGVZbj8hISEaNmyYpk2bpqKiIrW1tfl6iT5lWZbGjBnj62UAAHDJBvt6AQAAwDvz58+XJLW3t6uurk47d+7U559/rg8++ECbN2/W4MH88w4AwEBkGWOMrxcBAAAuzrIsSVLXf7o///xzZWRkyOl0qrS0VHfffbcvludzlmUpMTFRdXV1vl4KAACXhFPcAQAY4H71q18pLy9PkvTRRx/5djEAAOCS0aADABAAJk6cKEk6fvx4tzljjDZs2KDMzEz95Cc/UWhoqH7+85/rySef1JkzZ9xq8/LyZFmWysvL3cbfffdd17XvtbW1bnPFxcWyLEvPPfeca+zrr7/Ws88+qxkzZig+Pl42m00xMTG67bbbtGfPHo+fYcyYMbIsS8YYvfTSS5o8ebLCw8M1ZcoUV01zc7Puv/9+xcXFKTQ0VFdddZVefPHFbmcVAAAwENGgAwAQAE6dOiVJio6Odhvv6OjQXXfdpTvvvFN79uzRlClTNHv2bJ0+fVoFBQWaOXOmWlpaXPUzZsyQpG4N+t///nfXn3uay8jIcI1t2rRJjzzyiI4dO6aUlBTNmzdPcXFx+tvf/qb09HSVlZX1+Fny8/P14IMPKjo6WtnZ2Ro7dqwk6cSJE7ruuuu0evVqGWM0d+5cxcfH66GHHtLixYt794sCAMCPcRcZAAACwObNmyVJWVlZbuPPP/+8NmzYoIyMDG3YsEExMTGSpLNnz+ree+/V66+/roKCAhUWFkr6f5PdtQkvLy/XuHHj1NDQoPLyci1YsEDSuaPz27ZtU2RkpFJTU1316enpqq6udh3Z7/TRRx8pOztb9957r2pqalzX1Z/vr3/9q/71r391e++yZcv0xRdfKCsrSxs3blR4eLgkaffu3brxxhu9+XUBAOCXuEkcAAADRNebxHV0dMjhcOi5557Tn/70J82dO1d/+ctfXHdx/+GHHxQbG6uWlhYdOnRIo0aNctteS0uLxo4dq9bWVjU1NSkk5NyJdYmJiTp27Ji+++47hYaGqrm5WSNHjlR+fr7279+vQ4cO6ejRo5KkqqoqpaSkaPbs2frwww979TnuvvturV+/Xvv27dOkSZNc42PGjNHhw4e1cuVKPfTQQ27vOX36tH7605+qtbVVX375pcaNG+c2/+ijj2rFihXcJA4AMKBxBB0AgAHG01HnP/7xj3rllVfc5v75z3+qqalJs2bN6tacS1JYWJjS0tL04YcfqqamRhMmTJB07jT30tJS7dq1SxkZGdq6dauMMcrIyFB0dLS2bt2q2tpaJScnu460n396e6fW1lZt3rxZu3fv1jfffKOzZ89KOtfUS1JNTY1bg94pOzu729jevXvV0tKiX/7yl92ac0m64447tGLFCg+/LQAABg4adAAABpjO56A7nU5VVlbqwIEDeu211zR9+nTX3dwluY4kf/zxxx6b+vM1NTW5GvSMjAyVlpaqvLxcGRkZbk14dHS0CgoKVF5efsEGvaqqStnZ2Rc8mt153XxXo0eP7jbW2Ngo6dzRfU/GjBnT84cDAGCAoEEHAGCAWbdundvrlStXaunSpbrvvvs0c+ZMVxPb0dEhSUpOTlZ6evoFtzlixAjXn7teh15eXq6rrrpK0dHRioyMlN1uV3l5uf7whz9o27ZtGjp0qKZOnep6vzFGv/3tb1VXV6f8/Hzl5+dr7NixioiIkGVZWrZsmZ555pke77weGhrqza8DAICAQYMOAMAA9/DDD2vLli0qKytTQUGB3njjDUnSlVdeKUn62c9+1q2pv5CxY8cqISFBu3btUmNjo6qqqnTPPfdIOtc8T5s2TVu3blV1dbWampp08803a9CgQa73HzhwQAcOHNDVV1+tNWvWdNv+V1995fVnjI2NlSQdPnzY43xP4wAADCQ8Zg0AgADQeRf20tJSV7N6zTXXaNiwYdq6dauam5u92t6MGTPU2tqqFStWyBijmTNnuuYyMjJUX1+vtWvXul6f78SJE5L+/wVB17mPP/7Yq7VIUlpamsLCwrR3716PDf7bb7/t9TYBAPA3NOgAAASA1NRU3Xrrrfrhhx/07LPPSpLsdruWLl2qU6dO6bbbbvPY2DY0NKi0tLTbeGfT/eqrr8qyLNfz0bvOSXKbk86dUh8SEqJPP/1UNTU1rnGn06n8/HyvvyyQpIiICP3ud79Te3u7HnjgAbdnt1dUVKi4uNjrbQIA4G94zBoAAANE18esdVVZWanU1FTZ7XY5HA7FxMSoo6NDeXl5Ki0tlc1mU2pqqpKSknT27FkdPHhQ+/fvV0pKiv7973+7bau2tlbjx4+XJE2cOFHV1dWuOafTqaioKLW2tmro0KFqbm52Pdqt08KFC/Xaa68pLCxMmZmZCgsL02effab29nbNmTNH69atU0lJidtN7Tofs9bT52tubtb06dN18OBBxcbG6oYbbtCJEyf06aefatGiRVq9ejWPWQMADGgcQQcAIEBMnjxZ8+bNk9Pp1AsvvCBJCgkJ0VtvvaVNmzZp1qxZcjgc2rhxo7Zv367Q0FA9/PDDrmvWz5ecnOw6Rb3rKeyd16FLUnp6erfmXJLWrFmj559/XklJSfrkk0/02Wef6de//rUqKip6vBP7xQwfPlw7duzQPffcI2OM3n33XR05ckSFhYV66aWXLmmbAAD4E46gAwAAAADgBziCDgAAAACAH6BBBwAAAADAD9CgAwAAAADgB2jQAQAAAADwAzToAAAAAAD4ARp0AAAAAAD8AA06AAAAAAB+gAYdAAAAAAA/QIMOAAAAAIAfoEEHAAAAAMAP0KADAAAAAOAHaNABAAAAAPADNOgAAAAAAPgBGnQAAAAAAPwADToAAAAAAH6ABh0AAAAAAD9Agw4AAAAAgB+gQQcAAAAAwA/QoAMAAAAA4Ado0AEAAAAA8AM06AAAAAAA+AEadAAAAAAA/AANOgAAAAAAfoAGHQAAAAAAP0CDDgAAAACAH/gv21dwairB/P0AAAAASUVORK5CYII=",
            "_dom_classes": [],
            "_figure_label": "Figure 3",
            "_image_mode": "full",
            "_message": "",
            "_model_module": "jupyter-matplotlib",
            "_model_module_version": "^0.11",
            "_model_name": "MPLCanvasModel",
            "_rubberband_height": 0,
            "_rubberband_width": 0,
            "_rubberband_x": 0,
            "_rubberband_y": 0,
            "_size": [
              1000,
              600
            ],
            "_view_count": null,
            "_view_module": "jupyter-matplotlib",
            "_view_module_version": "^0.11",
            "_view_name": "MPLCanvasView",
            "capture_scroll": false,
            "footer_visible": false,
            "header_visible": false,
            "layout": "IPY_MODEL_459479346e624be497c4616678044a8f",
            "pan_zoom_throttle": 33,
            "resizable": false,
            "toolbar": "IPY_MODEL_c34c810d5ebf407c8e3131b4a96375d0",
            "toolbar_position": "left",
            "toolbar_visible": false
          }
        },
        "459479346e624be497c4616678044a8f": {
          "model_module": "@jupyter-widgets/base",
          "model_name": "LayoutModel",
          "model_module_version": "1.2.0",
          "state": {
            "_model_module": "@jupyter-widgets/base",
            "_model_module_version": "1.2.0",
            "_model_name": "LayoutModel",
            "_view_count": null,
            "_view_module": "@jupyter-widgets/base",
            "_view_module_version": "1.2.0",
            "_view_name": "LayoutView",
            "align_content": null,
            "align_items": null,
            "align_self": null,
            "border": null,
            "bottom": null,
            "display": null,
            "flex": null,
            "flex_flow": null,
            "grid_area": null,
            "grid_auto_columns": null,
            "grid_auto_flow": null,
            "grid_auto_rows": null,
            "grid_column": null,
            "grid_gap": null,
            "grid_row": null,
            "grid_template_areas": null,
            "grid_template_columns": null,
            "grid_template_rows": null,
            "height": null,
            "justify_content": null,
            "justify_items": null,
            "left": null,
            "margin": null,
            "max_height": null,
            "max_width": null,
            "min_height": null,
            "min_width": null,
            "object_fit": null,
            "object_position": null,
            "order": null,
            "overflow": null,
            "overflow_x": null,
            "overflow_y": null,
            "padding": null,
            "right": null,
            "top": null,
            "visibility": null,
            "width": null
          }
        },
        "c34c810d5ebf407c8e3131b4a96375d0": {
          "model_module": "jupyter-matplotlib",
          "model_name": "ToolbarModel",
          "model_module_version": "^0.11",
          "state": {
            "_current_action": "",
            "_dom_classes": [],
            "_model_module": "jupyter-matplotlib",
            "_model_module_version": "^0.11",
            "_model_name": "ToolbarModel",
            "_view_count": null,
            "_view_module": "jupyter-matplotlib",
            "_view_module_version": "^0.11",
            "_view_name": "ToolbarView",
            "button_style": "",
            "collapsed": true,
            "layout": "IPY_MODEL_a457bc318440446f8f06d07a793a46dd",
            "orientation": "vertical",
            "toolitems": [
              [
                "Home",
                "Reset original view",
                "home",
                "home"
              ],
              [
                "Back",
                "Back to previous view",
                "arrow-left",
                "back"
              ],
              [
                "Forward",
                "Forward to next view",
                "arrow-right",
                "forward"
              ],
              [
                "Pan",
                "Left button pans, Right button zooms\nx/y fixes axis, CTRL fixes aspect",
                "arrows",
                "pan"
              ],
              [
                "Zoom",
                "Zoom to rectangle\nx/y fixes axis",
                "square-o",
                "zoom"
              ],
              [
                "Download",
                "Download plot",
                "floppy-o",
                "save_figure"
              ]
            ]
          }
        },
        "a457bc318440446f8f06d07a793a46dd": {
          "model_module": "@jupyter-widgets/base",
          "model_name": "LayoutModel",
          "model_module_version": "1.2.0",
          "state": {
            "_model_module": "@jupyter-widgets/base",
            "_model_module_version": "1.2.0",
            "_model_name": "LayoutModel",
            "_view_count": null,
            "_view_module": "@jupyter-widgets/base",
            "_view_module_version": "1.2.0",
            "_view_name": "LayoutView",
            "align_content": null,
            "align_items": null,
            "align_self": null,
            "border": null,
            "bottom": null,
            "display": null,
            "flex": null,
            "flex_flow": null,
            "grid_area": null,
            "grid_auto_columns": null,
            "grid_auto_flow": null,
            "grid_auto_rows": null,
            "grid_column": null,
            "grid_gap": null,
            "grid_row": null,
            "grid_template_areas": null,
            "grid_template_columns": null,
            "grid_template_rows": null,
            "height": null,
            "justify_content": null,
            "justify_items": null,
            "left": null,
            "margin": null,
            "max_height": null,
            "max_width": null,
            "min_height": null,
            "min_width": null,
            "object_fit": null,
            "object_position": null,
            "order": null,
            "overflow": null,
            "overflow_x": null,
            "overflow_y": null,
            "padding": null,
            "right": null,
            "top": null,
            "visibility": null,
            "width": null
          }
        }
      }
    }
  },
  "nbformat": 4,
  "nbformat_minor": 0
}