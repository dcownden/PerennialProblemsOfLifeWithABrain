{
  "cells": [
    {
      "cell_type": "markdown",
      "metadata": {
        "id": "view-in-github",
        "colab_type": "text"
      },
      "source": [
        "<a href=\"https://colab.research.google.com/github/dcownden/PerennialProblemsOfLifeWithABrain/blob/split-and-simple-perturb/sequences/P2C1_Optimization/P2C1_Sequence4.ipynb\" target=\"_parent\"><img src=\"https://colab.research.google.com/assets/colab-badge.svg\" alt=\"Open In Colab\"/></a>"
      ]
    },
    {
      "cell_type": "markdown",
      "metadata": {
        "execution": {},
        "id": "K10DbaXu1WBL"
      },
      "source": [
        "The following is part of a test for an upcoming text book on computational neuroscience from an optimization and learning perspective. The book will start with evolution because ultimately, all aspects of the brain are shaped by evolution and, as we will see, evolution can also be seen as an optimization algorithm. We are sharing it now to get feedback on what works and what does not and the developments we should do."
      ]
    },
    {
      "cell_type": "markdown",
      "metadata": {
        "execution": {},
        "id": "dsQ6T5OZ1WBM"
      },
      "source": [
        "___\n",
        "# **2.1.4: Learning Behaviour as a form of High Dimensional Optimization**\n",
        "\n",
        "### Objective: Explicitly connect the kinds of simple optimization process we saw in the previous sequences to learning adaptive behaviours.\n",
        "\n",
        "In this sequence we will:\n",
        "\n",
        "* Introduce a slightly more complex version of the strike-no-strike problem where the decision depends on 64 features instead of 1, and develop a simple artificial neural network that can solve this problem\n",
        "\n",
        "* Use perturb-measure-step to train this network\n",
        "\n",
        "* Investigate different times scales of learning and function evaluation.\n"
      ]
    },
    {
      "cell_type": "markdown",
      "metadata": {
        "execution": {},
        "id": "rK0I5ANa1WBM"
      },
      "source": [
        "# Setup\n",
        "\n",
        "Run the following cell to setup and install the various dependencies and helper functions for this ."
      ]
    },
    {
      "cell_type": "code",
      "execution_count": 1,
      "metadata": {
        "execution": {},
        "id": "g9MNYxfk1WBN",
        "colab": {
          "base_uri": "https://localhost:8080/"
        },
        "outputId": "20128228-6bd8-4576-9039-59bf1a761ac3",
        "cellView": "form"
      },
      "outputs": [
        {
          "output_type": "stream",
          "name": "stdout",
          "text": [
            "Best feature is 21\n",
            "Random seed 2021 has been set.\n",
            "This notebook isn't using and doesn't need a GPU. Good.\n",
            "Running in colab\n"
          ]
        }
      ],
      "source": [
        "# @title Dependencies, Imports and Setup\n",
        "# @markdown You don't need to worry about how this code works – but you do need to **run the cell**\n",
        "!apt install libgraphviz-dev > /dev/null 2> /dev/null #colab\n",
        "!pip install ipympl pygraphviz vibecheck datatops jupyterquiz ucimlrepo > /dev/null 2> /dev/null #google.colab\n",
        "\n",
        "import asyncio\n",
        "import requests\n",
        "from requests.exceptions import RequestException\n",
        "import numpy as np\n",
        "import itertools\n",
        "import collections\n",
        "import matplotlib\n",
        "import matplotlib.pyplot as plt\n",
        "import matplotlib.patches as mpatches\n",
        "from matplotlib.lines import Line2D\n",
        "from matplotlib.colors import LogNorm\n",
        "from matplotlib.animation import FuncAnimation\n",
        "from matplotlib import gridspec\n",
        "import seaborn as sns\n",
        "import pandas as pd\n",
        "import pygraphviz as pgv\n",
        "import ipywidgets as widgets\n",
        "import time\n",
        "import logging\n",
        "import random\n",
        "import os\n",
        "import copy\n",
        "import torch\n",
        "import warnings\n",
        "import torch.nn as nn\n",
        "import torch.optim as optim\n",
        "import torch.nn.functional as F\n",
        "from io import BytesIO\n",
        "from enum import Enum\n",
        "from scipy.spatial.distance import cdist\n",
        "from scipy.stats import norm\n",
        "from scipy.optimize import minimize\n",
        "from sklearn.linear_model import LinearRegression\n",
        "from tabulate import tabulate\n",
        "from IPython.display import display, clear_output, Markdown, HTML, Image\n",
        "from jupyterquiz import display_quiz\n",
        "from vibecheck import DatatopsContentReviewContainer\n",
        "from pathlib import Path\n",
        "from typing import List, Dict\n",
        "from tqdm.notebook import tqdm\n",
        "from ucimlrepo import fetch_ucirepo\n",
        "\n",
        "data_set = fetch_ucirepo(id=80)\n",
        "X = data_set.data.features.values\n",
        "# Translate the data to have a minimum of 0\n",
        "X_translated = X - X.min()\n",
        "# Scale the data to have a range from 0 to 12 (which is 6 - (-6))\n",
        "scaling_factor = 12 / (X.max() - X.min())\n",
        "X_scaled = X_translated * scaling_factor\n",
        "# Finally, shift the data to be centered between -6 and 6\n",
        "X_final = X_scaled - 6\n",
        "\n",
        "y = data_set.data.targets.values\n",
        "rng = np.random.default_rng(seed=2021)\n",
        "scramble_permutation = rng.permutation(X.shape[1])\n",
        "Xs = X_final[:, scramble_permutation]\n",
        "y1 = y % 2\n",
        "y2 = np.array(y >= 5, dtype=y.dtype)\n",
        "simple_index = ((y.flatten()==1) | (y.flatten()==0))\n",
        "X_simple = Xs[simple_index]\n",
        "y1_simple = y1[simple_index]\n",
        "# if you only had one feature which would likely be best for discrimination\n",
        "epsilon = 10\n",
        "class_a_sep = np.mean(X_simple[y1_simple.flatten() == 1, :], axis=0) / (np.std(X_simple[y1_simple.flatten() == 1, :], axis=0) + epsilon)\n",
        "class_b_sep = np.mean(X_simple[y1_simple.flatten() == 0, :], axis=0) / (np.std(X_simple[y1_simple.flatten() == 0, :], axis=0) + epsilon)\n",
        "best_feature = np.argmax(class_a_sep - class_b_sep)\n",
        "print(f'Best feature is {best_feature}')\n",
        "X_simple_1_feature = X_simple[:, [best_feature]]\n",
        "\n",
        "import warnings\n",
        "warnings.filterwarnings(\"ignore\", category=UserWarning, module=\"matplotlib\")\n",
        "# random seed settings and\n",
        "# getting torch to use gpu if it's there\n",
        "\n",
        "\n",
        "def set_seed(seed=None, seed_torch=True):\n",
        "  \"\"\"\n",
        "  Function that controls randomness. NumPy and random modules must be imported.\n",
        "\n",
        "  Args:\n",
        "    seed : Integer\n",
        "      A non-negative integer that defines the random state. Default is `None`.\n",
        "    seed_torch : Boolean\n",
        "      If `True` sets the random seed for pytorch tensors, so pytorch module\n",
        "      must be imported. Default is `True`.\n",
        "\n",
        "  Returns:\n",
        "    Nothing.\n",
        "  \"\"\"\n",
        "  if seed is None:\n",
        "    seed = np.random.choice(2 ** 32)\n",
        "  random.seed(seed)\n",
        "  np.random.seed(seed)\n",
        "  if seed_torch:\n",
        "    torch.manual_seed(seed)\n",
        "    torch.cuda.manual_seed_all(seed)\n",
        "    torch.cuda.manual_seed(seed)\n",
        "    torch.backends.cudnn.benchmark = False\n",
        "    torch.backends.cudnn.deterministic = True\n",
        "\n",
        "  print(f'Random seed {seed} has been set.')\n",
        "\n",
        "\n",
        "def seed_worker(worker_id):\n",
        "  \"\"\"\n",
        "  DataLoader will reseed workers following randomness in\n",
        "  multi-process data loading algorithm.\n",
        "\n",
        "  Args:\n",
        "    worker_id: integer\n",
        "      ID of subprocess to seed. 0 means that\n",
        "      the data will be loaded in the main process\n",
        "      Refer: https://pytorch.org/docs/stable/data.html#data-loading-randomness for more details\n",
        "\n",
        "  Returns:\n",
        "    Nothing\n",
        "  \"\"\"\n",
        "  worker_seed = torch.initial_seed() % 2**32\n",
        "  np.random.seed(worker_seed)\n",
        "  random.seed(worker_seed)\n",
        "\n",
        "\n",
        "def set_device():\n",
        "  \"\"\"\n",
        "  Set the device. CUDA if available, CPU otherwise\n",
        "\n",
        "  Args:\n",
        "    None\n",
        "\n",
        "  Returns:\n",
        "    Nothing\n",
        "  \"\"\"\n",
        "  device = \"cuda\" if torch.cuda.is_available() else \"cpu\"\n",
        "  if device != \"cuda\":\n",
        "    print(\"This notebook isn't using and doesn't need a GPU. Good.\")\n",
        "  else:\n",
        "    print(\"GPU is enabled in this notebook but not needed.\")\n",
        "    print(\"If possible, in the menu under `Runtime` -> \")\n",
        "    print(\"`Change runtime type.`  select `CPU`\")\n",
        "\n",
        "  return device\n",
        "\n",
        "\n",
        "SEED = 2021\n",
        "set_seed(seed=SEED)\n",
        "DEVICE = set_device()\n",
        "\n",
        "\n",
        "def printmd(string):\n",
        "  display(Markdown(string))\n",
        "\n",
        "\n",
        "# the different utility .py files used in this notebook\n",
        "filenames = []\n",
        "# just run the code straight out of the response, no local copies needed!\n",
        "for filename in filenames:\n",
        "  url = f'https://raw.githubusercontent.com/dcownden/PerennialProblemsOfLifeWithABrain/main/utils/{filename}'\n",
        "  response = requests.get(url)\n",
        "  # Check that we got a valid response\n",
        "  if response.status_code == 200:\n",
        "    code = response.content.decode()\n",
        "    exec(code)\n",
        "  else:\n",
        "    print(f'Failed to download {url}')\n",
        "\n",
        "# environment contingent imports\n",
        "try:\n",
        "  print('Running in colab')\n",
        "  from google.colab import output\n",
        "  output.enable_custom_widget_manager()\n",
        "  from google.colab import data_table\n",
        "  data_table.disable_dataframe_formatter()\n",
        "  #from google.colab import output as colab_output\n",
        "  #colab_output.enable_custom_widget_manager()\n",
        "  IN_COLAB = True\n",
        "except:\n",
        "  IN_COLAB = False\n",
        "  print('Not running in colab')\n",
        "\n",
        "%matplotlib inline\n",
        "%config InlineBackend.figure_format = 'retina'\n",
        "%matplotlib widget\n",
        "plt.style.use(\"https://raw.githubusercontent.com/dcownden/PerennialProblemsOfLifeWithABrain/main/pplb.mplstyle\")\n",
        "plt.ioff() #need to use plt.show() or display explicitly\n",
        "logging.getLogger('matplotlib.font_manager').setLevel(logging.ERROR)\n",
        "\n",
        "\n",
        "def remove_ip_clutter(fig):\n",
        "  fig.canvas.header_visible = False\n",
        "  fig.canvas.toolbar_visible = False\n",
        "  fig.canvas.resizable = False\n",
        "  fig.canvas.footer_visible = False\n",
        "  fig.canvas.draw()\n",
        "\n",
        "\n",
        "def content_review(notebook_section: str):\n",
        "  return DatatopsContentReviewContainer(\n",
        "    \"\",  # No text prompt\n",
        "    notebook_section,\n",
        "    {\n",
        "      \"url\": \"https://pmyvdlilci.execute-api.us-east-1.amazonaws.com/klab\",\n",
        "      \"name\": \"neuro_book\",\n",
        "      \"user_key\": \"xuk960xj\",\n",
        "    },\n",
        "  ).render()\n",
        "feedback_prefix = \"P2C1_S2\""
      ]
    },
    {
      "cell_type": "markdown",
      "source": [
        "# 2.1.4.1 Learning Strike-No-Strike with Perturb-Measure-Step.\n",
        "\n",
        "Now that we know a bit about optimization in higher-dimensions we are going to introduce a harder, higher-dimensional version of our strike-no-strike problem. Whereas previously we had only a single input, now we are going to allow for 64 different inputs. So our cartoon organism that inspires this problem can now be thought of as having 64 photo-sensitive receptors, and based on this combination of inputs it must decide whether to strike or not. As before, the organism pays a cost of one if it strikes when it shouldn't and recieves a reward of one if it strikes when it should. It receives no cost or reward when it does not strike. To get a sense of this more complex discrimination problem, try it yourself by running the code cell below."
      ],
      "metadata": {
        "id": "OR3gHzvHXExf"
      }
    },
    {
      "cell_type": "code",
      "source": [
        "# @markdown **Run this cell** to try out the more complex 'strike-no-strike' discrimination task.\n",
        "\n",
        "class InteractiveMNISTPredator():\n",
        "  def __init__(self,\n",
        "               features=Xs,\n",
        "               labels=y,\n",
        "               feedback_type='on_strike_only', seed=123):\n",
        "    # Initialize dataset, settings for image scrambling and feedback\n",
        "    self.features = features\n",
        "    self.labels = labels\n",
        "    # features is num_data_points x 64 (reshape to 8x8 for display, each cell 0-16)\n",
        "    # labels is num_data_points x 1 (values 0-9 or 0/1 depending)\n",
        "    self.feedback_type = feedback_type\n",
        "    self.rng = np.random.default_rng(seed)\n",
        "    sample_order = self.rng.permutation(self.features.shape[0])\n",
        "    self.features = self.features[sample_order]\n",
        "    self.labels = self.labels[sample_order]\n",
        "    # initialize game state\n",
        "    self.current_index = 0\n",
        "    self.current_image = None\n",
        "    self.previous_image = None\n",
        "    self.score = 0\n",
        "    self.best_possible_score = 0\n",
        "    self.successful_strikes = 0\n",
        "    self.failed_strikes = 0\n",
        "    self.non_strikes = 0\n",
        "    # Initialize widgets\n",
        "    self.strike_button = widgets.Button(description='Strike')\n",
        "    self.no_strike_button = widgets.Button(description='No Strike')\n",
        "    self.score_display = widgets.Output()\n",
        "    self.feedback_display = widgets.Output()\n",
        "\n",
        "    # Initialize the figure for image display\n",
        "    self.fig, self.ax = plt.subplots(figsize=(4, 4))\n",
        "    remove_ip_clutter(self.fig)\n",
        "    self.prev_fig, self.prev_ax = plt.subplots(figsize=(4, 4))\n",
        "    remove_ip_clutter(self.prev_fig)\n",
        "    self.show_next_image()\n",
        "    # Bind event handlers\n",
        "    self.strike_button.on_click(self.on_strike_clicked)\n",
        "    self.no_strike_button.on_click(self.on_no_strike_clicked)\n",
        "\n",
        "    # Arrange widgets in a layout\n",
        "    buttons_layout = widgets.HBox([self.strike_button, self.no_strike_button])\n",
        "    current_buttons = widgets.VBox([self.fig.canvas, buttons_layout])\n",
        "    previous_feedback = widgets.VBox([self.prev_fig.canvas, self.feedback_display])\n",
        "    self.ui = widgets.HBox([previous_feedback, current_buttons, self.score_display])\n",
        "\n",
        "  def show_next_image(self):\n",
        "    # Display the next image\n",
        "    image = self.features[self.current_index]\n",
        "\n",
        "    if len(image) == 64:\n",
        "        image = image.reshape(8, 8)\n",
        "    elif len(image) == 1:\n",
        "      scalar_value = image.flatten()[0]\n",
        "      # Initialize the 8x8 array with -6 (black)\n",
        "      image = np.full((8, 8), -6.0)\n",
        "      # Set the first ring to 6 (white)\n",
        "      image[0, 0] = 6\n",
        "      # Set the second ring to 6 (white)\n",
        "      image[1:-1, 1:-1] = 6\n",
        "      # Set the third (inner ring) back to -6 (black)\n",
        "      image[2:-2, 2:-2] = -6\n",
        "      # Assuming scalar_value is already in the range -6 to 6\n",
        "      #print(scalar_value)\n",
        "      image[3:-3, 3:-3] = scalar_value\n",
        "    else:\n",
        "      raise ValueError(f'Unexpected image shape: {image.shape}')\n",
        "    if self.current_image is not None:\n",
        "      self.previous_image = self.current_image\n",
        "    self.current_image = image\n",
        "    # Display the image\n",
        "    #print(image)\n",
        "    self.fig.clf()\n",
        "    self.prev_fig.clf()\n",
        "    self.ax = self.fig.add_subplot(111)\n",
        "    self.prev_ax = self.prev_fig.add_subplot(111)\n",
        "    self.ax.set_xlim(-.5, 7.5)\n",
        "    self.ax.set_ylim(-0.5, 7.5)\n",
        "    self.prev_ax.set_xlim(-.5, 7.5)\n",
        "    self.prev_ax.set_ylim(-0.5, 7.5)\n",
        "    self.ax.set_aspect('equal')\n",
        "    self.prev_ax.set_aspect('equal')\n",
        "    self.ax.axis('off')\n",
        "    self.prev_ax.axis('off')\n",
        "    self.ax.imshow(self.current_image, cmap='gray', vmin=-6, vmax=6)\n",
        "    if self.previous_image is not None:\n",
        "      self.prev_ax.imshow(self.previous_image, cmap='gray', vmin=-6, vmax=6)\n",
        "    self.ax.set_title('Current Sensory Input')\n",
        "    self.prev_ax.set_title('Previous Sensory Input')\n",
        "    self.fig.canvas.draw()\n",
        "    self.prev_fig.canvas.draw()\n",
        "\n",
        "  def on_strike_clicked(self, button):\n",
        "    self.process_decision('Strike')\n",
        "\n",
        "  def on_no_strike_clicked(self, button):\n",
        "    self.process_decision('No Strike')\n",
        "\n",
        "  def process_decision(self, decision):\n",
        "    # freeze buttons while we process\n",
        "    self.strike_button.disabled = True\n",
        "    self.no_strike_button.disabled = True\n",
        "\n",
        "    # Process the user's decision, update score, and provide feedback\n",
        "    correct_action = 'Strike' if self.labels[self.current_index] == 1 else 'No Strike'\n",
        "    if decision == 'Strike':\n",
        "      if decision == correct_action:\n",
        "        self.score += 1\n",
        "        self.successful_strikes += 1\n",
        "      else:\n",
        "        self.score -= 1\n",
        "        self.failed_strikes += 1\n",
        "    elif decision == 'No Strike':\n",
        "      self.non_strikes += 1\n",
        "      # no strike means no gain or loss\n",
        "    else:\n",
        "      raise ValueError(f'Unknown decision: {decision}')\n",
        "\n",
        "    # Show feedback and score\n",
        "    if (self.feedback_type == 'both' or\n",
        "      (self.feedback_type == 'on_strike_only' and decision == 'Strike')):\n",
        "      # Show informative feedback\n",
        "      feedback = f'Your last choice: {decision}\\nCorrect last choice: {correct_action}'\n",
        "    else:\n",
        "      # Show uninformative feedback\n",
        "      feedback = 'Feedback only available after striking.'\n",
        "    with self.feedback_display:\n",
        "      clear_output(wait=True)\n",
        "      print(feedback)\n",
        "\n",
        "    # Show score\n",
        "    with self.score_display:\n",
        "      clear_output(wait=True)\n",
        "      average_score = self.score / (self.current_index+1)\n",
        "      print(f'Total Score: {self.score}')\n",
        "      print(f'Number of Trials: {self.current_index + 1}')\n",
        "      print(f'Successful Strikes: {self.successful_strikes}')\n",
        "      print(f'Failed Strikes: {self.failed_strikes}')\n",
        "      print(f'Non-Strikes: {self.non_strikes}')\n",
        "      print(f'Average Score Per Trial: {average_score:.2f}')\n",
        "\n",
        "    # Prepare the next image\n",
        "    self.current_index += 1\n",
        "    #print(self.current_index)\n",
        "    self.show_next_image()\n",
        "    # Re-enable buttons\n",
        "    self.strike_button.disabled = False\n",
        "    self.no_strike_button.disabled = False\n",
        "\n",
        "\n",
        "scramble_bin_hard = InteractiveMNISTPredator(features=Xs,\n",
        "                                             labels=y1,\n",
        "                                             feedback_type='both')\n",
        "display(scramble_bin_hard.fig.canvas)\n",
        "display(scramble_bin_hard.prev_fig.canvas)\n",
        "clear_output()\n",
        "display(scramble_bin_hard.ui)"
      ],
      "metadata": {
        "cellView": "form",
        "id": "y_YjCpnZCNyn",
        "colab": {
          "base_uri": "https://localhost:8080/",
          "height": 457,
          "referenced_widgets": [
            "bc87865f3cbf4da69f9e641dddebfa2e",
            "2f17824389e2474e95ccb6dd2fd551bc",
            "7f3b7909d9e3422da9a9ae1d01376382",
            "2ec468afb59f46da9d2806a324cef83f",
            "3ee774122ce84939ac60e789f3eb66fb",
            "c6d0708ed0f24183803c47c3a824814c",
            "db8dc02bbdf54139a592dfbd6820a8f6",
            "0a97c89bf9664b92ac26dc01b37767be",
            "722dcd703e6a44b9bead3359f838ea9a",
            "8e92a2b349e445a987181b0e8d930b44",
            "61aebf8ebf254c78ba0bbbaa10671479",
            "54a459b666cf4c0e87b730d8859cb93b",
            "2d937337db034ac49707b8c66e9500d0",
            "80aff85bb2204a31b9a00832bed52a55",
            "1a6cac72c7134abe87199afe87457d49",
            "2a6396ae69b14150b8bff8f9acaa6975",
            "28b2da7fcb934488b3eccbcc8ea8519e",
            "d6b0090d58b9450093b713e5fecfb309",
            "c928beee679944c3ac086778851a7694",
            "10059b61493940be80f9f1f4a8beace2",
            "61a32b09de174a49989ded9723260d7b",
            "8cbf7ead2b354eb2851a0c8e2976f7d0",
            "7c60352465934eea94bf272a68f15f52",
            "5c62d2463a714f189685b905c04936a2",
            "faa55eea47e549fcb50f0a2affbe3c40",
            "8564f8ff202749bc85fc6700d2ca37b4"
          ]
        },
        "outputId": "b561875e-25f3-414d-b6a6-d162af198e5c"
      },
      "execution_count": 2,
      "outputs": [
        {
          "output_type": "display_data",
          "data": {
            "text/plain": [
              "HBox(children=(VBox(children=(Canvas(footer_visible=False, header_visible=False, resizable=False, toolbar=Tool…"
            ],
            "application/vnd.jupyter.widget-view+json": {
              "version_major": 2,
              "version_minor": 0,
              "model_id": "bc87865f3cbf4da69f9e641dddebfa2e"
            }
          },
          "metadata": {
            "application/vnd.jupyter.widget-view+json": {
              "colab": {
                "custom_widget_manager": {
                  "url": "https://ssl.gstatic.com/colaboratory-static/widgets/colab-cdn-widget-manager/2b70e893a8ba7c0f/manager.min.js"
                }
              }
            }
          }
        }
      ]
    },
    {
      "cell_type": "markdown",
      "source": [
        "Maybe you were able to solve this with som savant like abstract pattern recognition powers. We were not able to learn to discriminate between the strike and no-strike situations over a dozen or so trials. The point here is that this is a non-trivial discrimination to learn. However, it is, as we will see in the next bit of code, a discrimination that a simple artificial neural network can learn to solve. (As before The dataset that underlies this strike-no-strike decision problem is sourced from the UCI Machine Learning Repository, Alpaydin,E. and Kaynak,C. 1998. https://doi.org/10.24432/C50P49.)"
      ],
      "metadata": {
        "id": "968qM9kkIK29"
      }
    },
    {
      "cell_type": "markdown",
      "source": [
        "We model this creature's sensory-behaviour system much as before. Now though, $\\mathbf{x}$ is the raw sensory input (vector) of length 64 in a given episode. Each element $x_i$ of $\\mathbf{x}$ corresponds to the activation level and firing rate of a single photosensitive neuron."
      ],
      "metadata": {
        "id": "1CgwmAlsJG_w"
      }
    },
    {
      "cell_type": "code",
      "execution_count": 3,
      "metadata": {
        "execution": {},
        "id": "t4Uem5FrI5K_",
        "colab": {
          "base_uri": "https://localhost:8080/"
        },
        "outputId": "b99ad58b-9e2a-48f5-f7ba-464d16d468ff"
      },
      "outputs": [
        {
          "output_type": "stream",
          "name": "stdout",
          "text": [
            "(5620, 64)\n"
          ]
        }
      ],
      "source": [
        "# the data set we're working with has 5620 example sensory inputs,\n",
        "# each consisting of 64 values\n",
        "print(Xs.shape)"
      ]
    },
    {
      "cell_type": "code",
      "execution_count": 4,
      "metadata": {
        "execution": {},
        "id": "nLzHDIjCI5K_",
        "colab": {
          "base_uri": "https://localhost:8080/"
        },
        "outputId": "d28e0abf-f7bb-4db0-eb12-7294ce5c1720"
      },
      "outputs": [
        {
          "output_type": "stream",
          "name": "stdout",
          "text": [
            "[[-1.5   0.   -4.5  -5.25  3.    5.25 -3.75 -6.  ]\n",
            " [-6.   -6.   -2.25 -0.75  4.5  -1.5  -6.   -6.  ]\n",
            " [-4.5  -6.   -6.   -6.   -6.   -6.   -0.75 -5.25]\n",
            " [-0.75  4.5  -3.75  0.75 -2.25 -1.5  -0.75  3.75]\n",
            " [-6.   -5.25  5.25  0.   -6.    1.5   3.   -0.75]\n",
            " [-6.   -6.   -6.   -6.   -5.25 -6.    3.75  6.  ]\n",
            " [-6.   -6.   -2.25 -6.   -6.    2.25 -6.   -1.5 ]\n",
            " [ 6.    6.   -6.   -6.   -3.   -6.    0.75 -6.  ]]\n"
          ]
        }
      ],
      "source": [
        "# this is the first example\n",
        "print(Xs[0].reshape(8,8,))"
      ]
    },
    {
      "cell_type": "code",
      "execution_count": 5,
      "metadata": {
        "execution": {},
        "id": "qJgsx8nSI5K_",
        "colab": {
          "base_uri": "https://localhost:8080/",
          "height": 425,
          "referenced_widgets": [
            "4e22068fffe347958f753f50c8438a11",
            "4015c514563548cd889d56a21d3003c9",
            "4ac915526d754be887c754a9bcb9872d",
            "9863a0864c2b443db9ed9f1b7ec82c0c"
          ]
        },
        "outputId": "5d9fcd90-b834-41a4-a4da-098b337b2480"
      },
      "outputs": [
        {
          "output_type": "display_data",
          "data": {
            "text/plain": [
              "Canvas(footer_visible=False, header_visible=False, resizable=False, toolbar=Toolbar(toolitems=[('Home', 'Reset…"
            ],
            "image/png": "[encoded data removed]",
            "text/html": [
              "\n",
              "            <div style=\"display: inline-block;\">\n",
              "                <div class=\"jupyter-widgets widget-label\" style=\"text-align: center;\">\n",
              "                    Figure\n",
              "                </div>\n",
              "                <img src='data:image/png;base64,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' width=400.0/>\n",
              "            </div>\n",
              "        "
            ],
            "application/vnd.jupyter.widget-view+json": {
              "version_major": 2,
              "version_minor": 0,
              "model_id": "4e22068fffe347958f753f50c8438a11"
            }
          },
          "metadata": {
            "application/vnd.jupyter.widget-view+json": {
              "colab": {
                "custom_widget_manager": {
                  "url": "https://ssl.gstatic.com/colaboratory-static/widgets/colab-cdn-widget-manager/2b70e893a8ba7c0f/manager.min.js"
                }
              }
            }
          }
        }
      ],
      "source": [
        "# visualizing the example we see that lower values correspond to darker pixels\n",
        "# and higher values correspond to lighter values\n",
        "fig, ax = plt.subplots(figsize=(4,4))\n",
        "remove_ip_clutter(fig)\n",
        "ax.imshow(Xs[0].reshape(8,8), cmap='gray')\n",
        "plt.show()"
      ]
    },
    {
      "cell_type": "markdown",
      "source": [
        "These input neurons are then connected by synapses to a single output neuron. The activation level of this output neuron is computed as\n",
        "$$a = \\mathbf{Wx} + b$$\n",
        "Here, $b$ is the (scalar) bias, or baseline activation level of the output neuron, and $\\mathbf{W}$ is a matrix of synaptic weights between the input neurons and the single output neuron. (In this case where there is only one output neuron so $\\mathbf{W}$ has shape 1x64 so could also be thought of as a row vector.)  \n",
        "\n",
        "Often to simplify exposition and coding the input $\\mathbf{x}$ is augmented with to have a feature which is always 1, and then the bias terms can be treated as the weight connecting to this constant valued feature. That is\n",
        "\n",
        "$$a = \\mathbf{Wx} + b$$\n",
        "\n",
        "Though now $\\mathbf{W}$ has shape 1x65. As before, the probabilistic spiking of this output neuron determines the strike-no-strike behaviour of the organism, specifically:\n",
        "$$ \\Pr \\{\\text{strike}\\} = \\sigma(a) $$\n",
        "$$ \\Pr \\{\\text{no strike}\\} = 1 - \\sigma(a)$$\n",
        "\n",
        "Recall that $\\sigma(a): \\frac{1}{1+e^{-a}} = \\frac{e^a}{1+e^a}$ is the standard logistic (sigmoid) function."
      ],
      "metadata": {
        "id": "cyjeHHWJJ_vX"
      }
    },
    {
      "cell_type": "markdown",
      "source": [
        "The organism recieves a reward of 1 for striking at the right time and a penalty of -1 for striking at the wrong time. It also recieves a reward of zero when not striking. Given this, complete coding exercise below to write a function that determines the reward recieved for a given sensory input $\\mathbf{x}$, the organism's probablistic response to the stimulous $\\mathbf{x}$ and the resultant outcome of the behaviour given presence or absense of prey as inidcated by $y$. Note that reward depends on three inputs, two $\\mathbf{x}$ and $y$ have to do with the state of the environment, and are fully outside of the control of the organism, the other $\\mathbf{W}$ determines the organism's response to the environment, and it is this $\\mathbf{W}$, that the organism has some control over, and is what changes as a result of learning."
      ],
      "metadata": {
        "id": "9fnPqbxRKPhl"
      }
    },
    {
      "cell_type": "code",
      "source": [
        "################################################################################\n",
        "# TODO for students: Complete the lines with ... set the appropriate rewards for\n",
        "# for the evaluations function\n",
        "raise NotImplementedError(\"Exercise: Set the reward for different outcomes\")\n",
        "################################################################################\n",
        "\n",
        "# As a little trick to keep our code cleaner we 'hide' our bias term.\n",
        "# We to do this by augmenting the features to include a feature that always has the value '1'.\n",
        "# Then, the 'weight' associated with this feature, which always has a value of '1', effectively serves as the bias term.\n",
        "# After augmentation there is one extra column of features\n",
        "Xs_aug = np.hstack([Xs, np.ones((Xs.shape[0],1))])\n",
        "\n",
        "def np_sigmoid(x):\n",
        "  x = np.clip(x, -500, 500) #prevent overflow, fine because sigmoid saturates\n",
        "  return 1 / (1 + np.exp(-x))\n",
        "\n",
        "def eval_params_stochastic_single(W, x, y, verbose=False, rng=None):\n",
        "  \"\"\"\n",
        "  evaluates parameters of simple behaviour circuit given inputs and target\n",
        "  outputs, use numpy broadcasting to be fast and concise\n",
        "  Args:\n",
        "    W: (outputs(1) x inputs(65) np.array)\n",
        "       weights between sensory neurons and output neuron\n",
        "    x: (input(65) np.array) sensory input\n",
        "    y: (outputs(1) np.array) target behavioural output\n",
        "\n",
        "  Returns:\n",
        "    R: the reward obtained given the parameters, inputs and targets\n",
        "  \"\"\"\n",
        "  if rng is None:\n",
        "    rng = np.random.default_rng()\n",
        "  # activaation\n",
        "  a = np.dot(W,x)\n",
        "  # strike probability\n",
        "  y_hat = np_sigmoid(a)\n",
        "  # what the organism actually does\n",
        "  # rng.random is a sample from the uniform distribution on [0,1)\n",
        "  y_sample = rng.random() < y_hat\n",
        "  if y_sample == 1: #organism strikes\n",
        "    if y == 1: #prey is present\n",
        "      R = ...\n",
        "    else: # prey is not present\n",
        "      R = ...\n",
        "  else: # organism does not strike\n",
        "    R = ...\n",
        "  if verbose:\n",
        "    print(f'Probability of striking: {y_hat}')\n",
        "    action_string = 'Strike' if y_sample == 1 else 'No Strike'\n",
        "    print(f'Action taken: {action_string}')\n",
        "    target_string = 'Strike' if y == 1 else 'No Strike'\n",
        "    print(f'Correct Action: {target_string}')\n",
        "    print(f'Reward recieved: {R}')\n",
        "  else:\n",
        "    return R\n",
        "\n",
        "eval_rng = np.random.default_rng(0)\n",
        "W_test = np.zeros((1,65))\n",
        "eval_params_stochastic_single(W_test, Xs_aug[0], y1[0], verbose=True, rng=eval_rng)"
      ],
      "metadata": {
        "id": "dAB-xsyQNzFs",
        "colab": {
          "base_uri": "https://localhost:8080/",
          "height": 211
        },
        "outputId": "9d128b13-d5c6-4135-fa1f-721fb7a06069"
      },
      "execution_count": 19,
      "outputs": [
        {
          "output_type": "error",
          "ename": "NotImplementedError",
          "evalue": "Exercise: Set the reward for different outcomes",
          "traceback": [
            "\u001b[0;31m---------------------------------------------------------------------------\u001b[0m",
            "\u001b[0;31mNotImplementedError\u001b[0m                       Traceback (most recent call last)",
            "\u001b[0;32m<ipython-input-19-9b0d55e56ac8>\u001b[0m in \u001b[0;36m<cell line: 4>\u001b[0;34m()\u001b[0m\n\u001b[1;32m      2\u001b[0m \u001b[0;31m# TODO for students: Complete the lines with ... set the appropriate rewards for\u001b[0m\u001b[0;34m\u001b[0m\u001b[0;34m\u001b[0m\u001b[0m\n\u001b[1;32m      3\u001b[0m \u001b[0;31m# for the evaluations function\u001b[0m\u001b[0;34m\u001b[0m\u001b[0;34m\u001b[0m\u001b[0m\n\u001b[0;32m----> 4\u001b[0;31m \u001b[0;32mraise\u001b[0m \u001b[0mNotImplementedError\u001b[0m\u001b[0;34m(\u001b[0m\u001b[0;34m\"Exercise: Set the reward for different outcomes\"\u001b[0m\u001b[0;34m)\u001b[0m\u001b[0;34m\u001b[0m\u001b[0;34m\u001b[0m\u001b[0m\n\u001b[0m\u001b[1;32m      5\u001b[0m \u001b[0;31m################################################################################\u001b[0m\u001b[0;34m\u001b[0m\u001b[0;34m\u001b[0m\u001b[0m\n\u001b[1;32m      6\u001b[0m \u001b[0;34m\u001b[0m\u001b[0m\n",
            "\u001b[0;31mNotImplementedError\u001b[0m: Exercise: Set the reward for different outcomes"
          ]
        }
      ]
    },
    {
      "cell_type": "code",
      "source": [
        "# to_remove solution\n",
        "\n",
        "# As a little trick to keep our code cleaner we 'hide' our bias term.\n",
        "# We to do this by augmenting the features to include a feature that always has the value '1'.\n",
        "# Then, the 'weight' associated with this feature, which always has a value of '1', effectively serves as the bias term.\n",
        "# After augmentation there is one extra column of features\n",
        "Xs_aug = np.hstack([Xs, np.ones((Xs.shape[0],1))])\n",
        "\n",
        "def np_sigmoid(x):\n",
        "  x = np.clip(x, -500, 500) #prevent overflow, fine because sigmoid saturates\n",
        "  return 1 / (1 + np.exp(-x))\n",
        "\n",
        "def eval_params_stochastic_single(W, x, y, verbose=False, rng=None):\n",
        "  \"\"\"\n",
        "  evaluates parameters of simple behaviour circuit given inputs and target\n",
        "  outputs, use numpy broadcasting to be fast and concise\n",
        "  Args:\n",
        "    W: (outputs(1) x inputs(65) np.array)\n",
        "       weights between sensory neurons and output neuron\n",
        "    x: (input(65) np.array) sensory input\n",
        "    y: (outputs(1) np.array) target behavioural output\n",
        "\n",
        "  Returns:\n",
        "    R: the reward obtained given the parameters, inputs and targets\n",
        "  \"\"\"\n",
        "  if rng is None:\n",
        "    rng = np.random.default_rng()\n",
        "  # activaation\n",
        "  a = np.dot(W,x)\n",
        "  # strike probability\n",
        "  y_hat = np_sigmoid(a)\n",
        "  # what the organism actually does\n",
        "  # rng.random is a sample from the uniform distribution on [0,1)\n",
        "  y_sample = rng.random() < y_hat\n",
        "  if y_sample == 1: #organism strikes\n",
        "    if y == 1: #prey is present\n",
        "      R = 1\n",
        "    else: # prey is not present\n",
        "      R = -1\n",
        "  else: # organism does not strike\n",
        "    R = 0\n",
        "  if verbose:\n",
        "    print(f'Probability of striking: {y_hat}')\n",
        "    action_string = 'Strike' if y_sample == 1 else 'No Strike'\n",
        "    print(f'Action taken: {action_string}')\n",
        "    target_string = 'Strike' if y == 1 else 'No Strike'\n",
        "    print(f'Correct Action: {target_string}')\n",
        "    print(f'Reward recieved: {R}')\n",
        "  else:\n",
        "    return R\n",
        "\n",
        "eval_rng = np.random.default_rng(0)\n",
        "W_test = np.zeros((1,65))\n",
        "eval_params_stochastic_single(W_test, Xs_aug[0], y1[0], verbose=True, rng=eval_rng)"
      ],
      "metadata": {
        "colab": {
          "base_uri": "https://localhost:8080/"
        },
        "id": "mz00q3D8h1kx",
        "outputId": "1de6b705-76ac-4aa5-c152-0057ddb1a5aa"
      },
      "execution_count": 23,
      "outputs": [
        {
          "output_type": "stream",
          "name": "stdout",
          "text": [
            "Probability of striking: [0.5]\n",
            "Action taken: No Strike\n",
            "Correct Action: No Strike\n",
            "Reward recieved: 0\n"
          ]
        }
      ]
    },
    {
      "cell_type": "markdown",
      "source": [
        "So that evaluates the reward over a single experience. We can use numpy broadcasting to apply this same reward calculation efficiently to many, even all, the input-out pairs in our data set. We call this **batch** evaluations."
      ],
      "metadata": {
        "id": "gPh6sBUTnZnc"
      }
    },
    {
      "cell_type": "code",
      "source": [
        "# to_remove solution\n",
        "\n",
        "# As a little trick to keep our code cleaner we 'hide' our bias term.\n",
        "# We to do this by augmenting the features to include a feature that always has the value '1'.\n",
        "# Then, the 'weight' associated with this feature, which always has a value of '1', effectively serves as the bias term.\n",
        "# After augmentation there is one extra column of features\n",
        "Xs_aug = np.hstack([Xs, np.ones((Xs.shape[0],1))])\n",
        "\n",
        "def np_sigmoid(x):\n",
        "  x = np.clip(x, -500, 500) #prevent overflow, fine because sigmoid saturates\n",
        "  return 1 / (1 + np.exp(-x))\n",
        "\n",
        "def eval_params_stochastic_batch(W, x, y, verbose=False, rng=None):\n",
        "  \"\"\"\n",
        "  evaluates parameters of simple behaviour circuit given inputs and target\n",
        "  outputs, use numpy broadcasting to be fast and concise\n",
        "  Args:\n",
        "    W: (outputs(1) x inputs(65) np.array)\n",
        "       weights between sensory neurons and output neuron\n",
        "    x: (input(65) x batch np.array) sensory input\n",
        "    y: (outputs(1) x batch np.array) target behavioural output\n",
        "\n",
        "  Returns:\n",
        "    R: the reward obtained given the parameters, inputs and targets\n",
        "  \"\"\"\n",
        "  if rng is None:\n",
        "    rng = np.random.default_rng()\n",
        "  # activaation\n",
        "  a = np.dot(W,x) # 1 x batch\n",
        "  # strike probability\n",
        "  y_hat = np_sigmoid(a) # 1 x batch\n",
        "  # what the organism actually does\n",
        "  # rng.random is a sample from the uniform distribution on [0,1)\n",
        "  y_sample = rng.random(size=y_hat.shape) < y_hat  # 1 x batch\n",
        "  R = np.zeros(y_sample.shape)\n",
        "  did_strike = y_sample == 1\n",
        "  did_not_strike = y_sample == 0\n",
        "  should_strike = y == 1\n",
        "  should_not_strike = y == 0\n",
        "  TP = np.logical_and(did_strike, should_strike) # True Positive\n",
        "  FP = np.logical_and(did_strike, should_not_strike) # False Positive\n",
        "  FN = np.logical_and(did_not_strike, should_strike) # False Negative\n",
        "  TN = np.logical_and(did_not_strike, should_not_strike) # True Negative\n",
        "  R[TP] = 1\n",
        "  R[FP] = -1\n",
        "  R[FN] = 0\n",
        "  R[TN] = 0\n",
        "  TPs = np.sum(TP)\n",
        "  FPs = np.sum(FP)\n",
        "  FNs = np.sum(FN)\n",
        "  TNs = np.sum(TN)\n",
        "  confusion_matrix = np.array([[TPs, FNs], [FPs, TNs]])\n",
        "  if verbose:\n",
        "    table = [[\"Should Strike\", TPs, FNs],\n",
        "                 [\"Shouldn't Strike\", FPs, TNs]]\n",
        "    headers = [\"\", \"Did Strike\", \"Didn't Strike\"]\n",
        "    print(\"Confusion_matrix: \")\n",
        "    print(tabulate(table, headers=headers, tablefmt=\"grid\"))\n",
        "    print(f'Total Reward: {np.sum(R)}')\n",
        "    return None\n",
        "  else:\n",
        "    return np.sum(R), confusion_matrix\n",
        "\n",
        "eval_rng = np.random.default_rng(0)\n",
        "W_test = np.zeros((1,65))\n",
        "# Xs_aug and y1 are batch x 65 and batch x 1, function wants transpose of this shape\n",
        "# for broadcasting to work\n",
        "print('Evaluation 1')\n",
        "eval_params_stochastic_batch(W_test, Xs_aug.T, y1.T, verbose=True, rng=eval_rng)\n",
        "print('\\nEvaluation 2')\n",
        "eval_params_stochastic_batch(W_test, Xs_aug.T, y1.T, verbose=True, rng=eval_rng)"
      ],
      "metadata": {
        "colab": {
          "base_uri": "https://localhost:8080/"
        },
        "id": "pMYaMDiYp9TS",
        "outputId": "ec5ee30e-7619-48e4-d7d2-cee67d61d0b3"
      },
      "execution_count": 38,
      "outputs": [
        {
          "output_type": "stream",
          "name": "stdout",
          "text": [
            "Evaluation 1\n",
            "Confusion_matrix: \n",
            "+------------------+--------------+-----------------+\n",
            "|                  |   Did Strike |   Didn't Strike |\n",
            "+==================+==============+=================+\n",
            "| Should Strike    |         1386 |            1443 |\n",
            "+------------------+--------------+-----------------+\n",
            "| Shouldn't Strike |         1420 |            1371 |\n",
            "+------------------+--------------+-----------------+\n",
            "Total Reward: -34.0\n",
            "\n",
            "Evaluation 2\n",
            "Confusion_matrix: \n",
            "+------------------+--------------+-----------------+\n",
            "|                  |   Did Strike |   Didn't Strike |\n",
            "+==================+==============+=================+\n",
            "| Should Strike    |         1419 |            1410 |\n",
            "+------------------+--------------+-----------------+\n",
            "| Shouldn't Strike |         1404 |            1387 |\n",
            "+------------------+--------------+-----------------+\n",
            "Total Reward: 15.0\n"
          ]
        }
      ]
    },
    {
      "cell_type": "markdown",
      "source": [
        "Note that the two evaluations give different total rewards, even though the exact same synaptic weights $\\mathbf{W}$ are being used, on the exact same batch of inputs $\\mathbf{x}$ and prey presence indicators $y$, because of the inherent stochasticity in the organisms behaviour. This stochastic evaluation of the synaptic weights will make things difficult for the perturb-measure-step alogorithm, which relies upon precise function evaluations to get good estimates of the rate of improvement in a given direction in parameter space. Again, we can potentially overcome this stochastic evaluation issue, by using our knowledge of how different probabilities of striking determine the expected, or average reward, we can recover a precise, deterministic evaluation function."
      ],
      "metadata": {
        "id": "SNMQj2pq5c9I"
      }
    },
    {
      "cell_type": "code",
      "source": [
        "def eval_params_expectation_batch(W, x, y, verbose=False):\n",
        "  \"\"\"\n",
        "  evaluates parameters of simple behaviour circuit given inputs and target\n",
        "  outputs, use numpy broadcasting to be fast and concise\n",
        "  Args:\n",
        "    W: (outputs(1) x inputs(65) np.array)\n",
        "       weights between sensory neurons and output neuron\n",
        "    x: (input(65) x batch np.array) sensory input\n",
        "    y: (outputs(1) x batch np.array) target behavioural output\n",
        "\n",
        "  Returns:\n",
        "    R_exp: the expected reward obtained over the batch given the parameters, inputs and targets\n",
        "  \"\"\"\n",
        "  # activaation\n",
        "  a = np.dot(W,x) # 1 x batch\n",
        "  # strike probability\n",
        "  y_hat = np_sigmoid(a) # 1 x batch\n",
        "  # Expected true positives (TPs) and false positives (FPs)\n",
        "  TPs = np.sum(y_hat * y)  # Sum of strike probabilities where true label is 1\n",
        "  FPs = np.sum(y_hat * (1 - y))  # Sum of strike probabilities where true label is 0\n",
        "  # Expected false negatives (FN_e) and true negatives (TN_e)\n",
        "  FNs = np.sum((1 - y_hat) * y)  # Sum of no strike probabilities where true label is 1\n",
        "  TNs = np.sum((1 - y_hat) * (1 - y))  # Sum of no strike probabilities where true label is 0\n",
        "  R_exp = 1 * TPs + 0 * FNs + -1 * FPs + 0 * TNs\n",
        "  confusion_matrix = np.array([[TPs, FNs], [FPs, TNs]])\n",
        "  if verbose:\n",
        "    table = [[\"Should Strike\", TPs, FNs],\n",
        "             [\"Shouldn't Strike\", FPs, TNs]]\n",
        "    headers = [\"\", \"Did Strike\", \"Didn't Strike\"]\n",
        "    print(\"Confusion_matrix: \")\n",
        "    print(tabulate(table, headers=headers, tablefmt=\"grid\"))\n",
        "    print(f'Total Reward: {R_exp}')\n",
        "    return None\n",
        "  else:\n",
        "    return R_exp, confusion_matrix\n",
        "\n",
        "W_test = np.zeros((1,65))\n",
        "# Xs_aug and y1 are batch x 65 and batch x 1, function wants transpose of this shape\n",
        "# for broadcasting to work\n",
        "print('Evaluation 1')\n",
        "eval_params_expectation_batch(W_test, Xs_aug.T, y1.T, verbose=True)\n",
        "print('\\nEvaluation 2')\n",
        "eval_params_expectation_batch(W_test, Xs_aug.T, y1.T, verbose=True)"
      ],
      "metadata": {
        "id": "ZDlv-zwC6hkm",
        "outputId": "a18a951a-093e-4a7b-a2f8-19affcb0cabc",
        "colab": {
          "base_uri": "https://localhost:8080/"
        }
      },
      "execution_count": 37,
      "outputs": [
        {
          "output_type": "stream",
          "name": "stdout",
          "text": [
            "Evaluation 1\n",
            "Confusion_matrix: \n",
            "+------------------+--------------+-----------------+\n",
            "|                  |   Did Strike |   Didn't Strike |\n",
            "+==================+==============+=================+\n",
            "| Should Strike    |       1414.5 |          1414.5 |\n",
            "+------------------+--------------+-----------------+\n",
            "| Shouldn't Strike |       1395.5 |          1395.5 |\n",
            "+------------------+--------------+-----------------+\n",
            "Total Reward: 19.0\n",
            "\n",
            "Evaluation 2\n",
            "Confusion_matrix: \n",
            "+------------------+--------------+-----------------+\n",
            "|                  |   Did Strike |   Didn't Strike |\n",
            "+==================+==============+=================+\n",
            "| Should Strike    |       1414.5 |          1414.5 |\n",
            "+------------------+--------------+-----------------+\n",
            "| Shouldn't Strike |       1395.5 |          1395.5 |\n",
            "+------------------+--------------+-----------------+\n",
            "Total Reward: 19.0\n"
          ]
        }
      ]
    },
    {
      "cell_type": "markdown",
      "source": [
        "Note that as hoped, the evaluation of parameters using expected reward, is consistent, as it should be. As a sanity check we see that the distribution of stochastic evaluations is roughly symmetric, and centered around this expectation, with the average of many such stochastic evaluations becoming close to our calculated expected value."
      ],
      "metadata": {
        "id": "JACJHFAi90df"
      }
    },
    {
      "cell_type": "code",
      "source": [
        "# @markdown **Run this cell** to visualize the distribution of stochastic parameter evaluation, relative to the expectation.\n",
        "def eval_params_expectation_batch(W, x, y, verbose=False):\n",
        "  \"\"\"\n",
        "  evaluates parameters of simple behaviour circuit given inputs and target\n",
        "  outputs, use numpy broadcasting to be fast and concise\n",
        "  Args:\n",
        "    W: (outputs(1) x inputs(65) np.array)\n",
        "       weights between sensory neurons and output neuron\n",
        "    x: (input(65) x batch np.array) sensory input\n",
        "    y: (outputs(1) x batch np.array) target behavioural output\n",
        "\n",
        "  Returns:\n",
        "    R_exp: the expected reward obtained over the batch given the parameters, inputs and targets\n",
        "  \"\"\"\n",
        "  # activaation\n",
        "  a = np.dot(W,x) # 1 x batch\n",
        "  # strike probability\n",
        "  y_hat = np_sigmoid(a) # 1 x batch\n",
        "  # Expected true positives (TPs) and false positives (FPs)\n",
        "  TPs = np.sum(y_hat * y)  # Sum of strike probabilities where true label is 1\n",
        "  FPs = np.sum(y_hat * (1 - y))  # Sum of strike probabilities where true label is 0\n",
        "  # Expected false negatives (FN_e) and true negatives (TN_e)\n",
        "  FNs = np.sum((1 - y_hat) * y)  # Sum of no strike probabilities where true label is 1\n",
        "  TNs = np.sum((1 - y_hat) * (1 - y))  # Sum of no strike probabilities where true label is 0\n",
        "  R_exp = 1 * TPs + 0 * FNs + -1 * FPs + 0 * TNs\n",
        "  confusion_matrix = np.array([[TPs, FNs], [FPs, TNs]])\n",
        "  if verbose:\n",
        "    table = [[\"Should Strike\", TPs, FNs],\n",
        "             [\"Shouldn't Strike\", FPs, TNs]]\n",
        "    headers = [\"\", \"Did Strike\", \"Didn't Strike\"]\n",
        "    print(\"Confusion_matrix: \")\n",
        "    print(tabulate(table, headers=headers, tablefmt=\"grid\"))\n",
        "    print(f'Total Reward: {R_exp}')\n",
        "    return None\n",
        "  else:\n",
        "    return R_exp, confusion_matrix\n",
        "\n",
        "def eval_params_stochastic_batch(W, x, y, verbose=False, rng=None):\n",
        "  \"\"\"\n",
        "  evaluates parameters of simple behaviour circuit given inputs and target\n",
        "  outputs, use numpy broadcasting to be fast and concise\n",
        "  Args:\n",
        "    W: (outputs(1) x inputs(65) np.array)\n",
        "       weights between sensory neurons and output neuron\n",
        "    x: (input(65) x batch np.array) sensory input\n",
        "    y: (outputs(1) x batch np.array) target behavioural output\n",
        "\n",
        "  Returns:\n",
        "    R: the reward obtained given the parameters, inputs and targets\n",
        "  \"\"\"\n",
        "  if rng is None:\n",
        "    rng = np.random.default_rng()\n",
        "  # activaation\n",
        "  a = np.dot(W,x) # 1 x batch\n",
        "  # strike probability\n",
        "  y_hat = np_sigmoid(a) # 1 x batch\n",
        "  # what the organism actually does\n",
        "  # rng.random is a sample from the uniform distribution on [0,1)\n",
        "  y_sample = rng.random(size=y_hat.shape) < y_hat  # 1 x batch\n",
        "  R = np.zeros(y_sample.shape)\n",
        "  did_strike = y_sample == 1\n",
        "  did_not_strike = y_sample == 0\n",
        "  should_strike = y == 1\n",
        "  should_not_strike = y == 0\n",
        "  TP = np.logical_and(did_strike, should_strike) # True Positive\n",
        "  FP = np.logical_and(did_strike, should_not_strike) # False Positive\n",
        "  FN = np.logical_and(did_not_strike, should_strike) # False Negative\n",
        "  TN = np.logical_and(did_not_strike, should_not_strike) # True Negative\n",
        "  R[TP] = 1\n",
        "  R[FP] = -1\n",
        "  R[FN] = 0\n",
        "  R[TN] = 0\n",
        "  TPs = np.sum(TP)\n",
        "  FPs = np.sum(FP)\n",
        "  FNs = np.sum(FN)\n",
        "  TNs = np.sum(TN)\n",
        "  confusion_matrix = np.array([[TPs, FNs], [FPs, TNs]])\n",
        "  if verbose:\n",
        "    table = [[\"Should Strike\", TPs, FNs],\n",
        "                 [\"Shouldn't Strike\", FPs, TNs]]\n",
        "    headers = [\"\", \"Did Strike\", \"Didn't Strike\"]\n",
        "    print(\"Confusion_matrix: \")\n",
        "    print(tabulate(table, headers=headers, tablefmt=\"grid\"))\n",
        "    print(f'Total Reward: {np.sum(R)}')\n",
        "    return None\n",
        "  else:\n",
        "    return np.sum(R), confusion_matrix\n",
        "\n",
        "W_test = np.zeros((1,65))\n",
        "exp_reward, _ = eval_params_expectation_batch(W_test, Xs_aug.T, y1.T, verbose=False)\n",
        "\n",
        "# Generate stochastic rewards\n",
        "stochastic_rewards = []\n",
        "for _ in range(500):  # Simulate 100 times to create a distribution\n",
        "  r, _ = eval_params_stochastic_batch(W_test, Xs_aug.T, y1.T, verbose=False)\n",
        "  stochastic_rewards.append(r)\n",
        "\n",
        "# Plotting\n",
        "fig, ax = plt.subplots(figsize=(10, 6))\n",
        "remove_ip_clutter(fig)\n",
        "ax.hist(stochastic_rewards, bins=20, alpha=0.75, label='Stochastic Evaluations')\n",
        "ax.axvline(x=exp_reward, color='r', linestyle='dashed', linewidth=2, label=f'Expected Reward: {exp_reward}')\n",
        "ax.set_title('Comparison of Stochastic Evaluations and Expected Reward')\n",
        "ax.set_xlabel('Reward')\n",
        "ax.set_ylabel('Frequency')\n",
        "ax.legend()\n",
        "plt.show()"
      ],
      "metadata": {
        "cellView": "form",
        "id": "fGcMioTH9zxZ",
        "outputId": "4aa7756d-c4e3-4814-ca8c-a70e77bfe361",
        "colab": {
          "base_uri": "https://localhost:8080/",
          "height": 625,
          "referenced_widgets": [
            "cbe07ce7c9ea4f1abd945671f2cca12a",
            "52e9106ded04411f83acec8f9267171e",
            "31dbebd7f6b846fba2431f7e750b4313",
            "a36d1b69b85841abbc45ae5dadb05c10"
          ]
        }
      },
      "execution_count": 43,
      "outputs": [
        {
          "output_type": "display_data",
          "data": {
            "text/plain": [
              "Canvas(footer_visible=False, header_visible=False, resizable=False, toolbar=Toolbar(toolitems=[('Home', 'Reset…"
            ],
            "image/png": "[encoded data removed]",
            "text/html": [
              "\n",
              "            <div style=\"display: inline-block;\">\n",
              "                <div class=\"jupyter-widgets widget-label\" style=\"text-align: center;\">\n",
              "                    Figure\n",
              "                </div>\n",
              "                <img src='data:image/png;base64,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' width=1000.0/>\n",
              "            </div>\n",
              "        "
            ],
            "application/vnd.jupyter.widget-view+json": {
              "version_major": 2,
              "version_minor": 0,
              "model_id": "cbe07ce7c9ea4f1abd945671f2cca12a"
            }
          },
          "metadata": {
            "application/vnd.jupyter.widget-view+json": {
              "colab": {
                "custom_widget_manager": {
                  "url": "https://ssl.gstatic.com/colaboratory-static/widgets/colab-cdn-widget-manager/2b70e893a8ba7c0f/manager.min.js"
                }
              }
            }
          }
        }
      ]
    },
    {
      "cell_type": "markdown",
      "source": [
        "As yet another sanity check we calculate the expected reward when striking and not striking with equal probability, in all circumstances, which is what we expect from a $\\mathbf{W}$ of all zeros."
      ],
      "metadata": {
        "id": "q_M7oYlFC9y-"
      }
    },
    {
      "cell_type": "code",
      "source": [
        "# There are this many cases where striking is good\n",
        "np.sum(y1 == 1)"
      ],
      "metadata": {
        "id": "k1lP9VvCPLNq",
        "colab": {
          "base_uri": "https://localhost:8080/"
        },
        "outputId": "590162fb-7473-409a-8662-19a40363a947"
      },
      "execution_count": 44,
      "outputs": [
        {
          "output_type": "execute_result",
          "data": {
            "text/plain": [
              "2829"
            ]
          },
          "metadata": {},
          "execution_count": 44
        }
      ]
    },
    {
      "cell_type": "code",
      "source": [
        "# And this many cases where striking is bad\n",
        "np.sum(y1 == 0)"
      ],
      "metadata": {
        "id": "FjR08i1kPSoF",
        "colab": {
          "base_uri": "https://localhost:8080/"
        },
        "outputId": "689a12e8-5b66-48f4-a3f5-33a75c61cd9b"
      },
      "execution_count": 45,
      "outputs": [
        {
          "output_type": "execute_result",
          "data": {
            "text/plain": [
              "2791"
            ]
          },
          "metadata": {},
          "execution_count": 45
        }
      ]
    },
    {
      "cell_type": "code",
      "source": [
        "# W = 0 should strike half the time no matter what,\n",
        "# in which case would expect a reward of\n",
        "(2829 - 2791) / 2"
      ],
      "metadata": {
        "id": "fKcCR599Piys",
        "colab": {
          "base_uri": "https://localhost:8080/"
        },
        "outputId": "19bfd3a9-6327-49ad-9b6a-75ea54b2a7ad"
      },
      "execution_count": 46,
      "outputs": [
        {
          "output_type": "execute_result",
          "data": {
            "text/plain": [
              "19.0"
            ]
          },
          "metadata": {},
          "execution_count": 46
        }
      ]
    },
    {
      "cell_type": "markdown",
      "source": [
        "That all checks out, so now that we have some confidence in our evaluations function let's see if perturb-measure-step is able to find a good set of values for $\\mathbf{W}$. Run the training loop. The process will take a minute or two to complete, while its running inspect the code and see if it makes sense to you."
      ],
      "metadata": {
        "id": "EK8zI-aSDTJb"
      }
    },
    {
      "cell_type": "code",
      "source": [
        "# @title Stochastic-Perturb-Measure-Step Training Loop\n",
        "learn_rng = np.random.default_rng(0)\n",
        "num_steps = 60000\n",
        "step_scale = 0.002\n",
        "dimensional_scale_factor = np.sqrt(65)\n",
        "perturbation_scale = 0.0001 # std of gaussian test perturbations\n",
        "W_init = np.zeros((1,65))\n",
        "W = W_init\n",
        "start_time = time.time()\n",
        "indices = np.arange(Xs_aug.shape[0])\n",
        "for step in range(num_steps):\n",
        "  R_current, _ = eval_params_expectation_batch(W, Xs_aug.T, y1.T)\n",
        "  raw_test_perturb = learn_rng.standard_normal(size=(1,65))\n",
        "  unit_test_perturb = raw_test_perturb / np.linalg.norm(raw_test_perturb.flatten())\n",
        "  test_perturbation = unit_test_perturb * perturbation_scale\n",
        "  R_test, _ = eval_params_expectation_batch(W + test_perturbation, Xs_aug.T, y1.T)\n",
        "  directional_grad_est = (R_test - R_current) / perturbation_scale\n",
        "  W += step_scale * dimensional_scale_factor * directional_grad_est * unit_test_perturb\n",
        "\n",
        "  if step == 0 or (step + 1) % 3000 == 0:\n",
        "    elapsed_time = time.time() - start_time\n",
        "    print(f'Step {step + 1}/{num_steps} completed | Expected Total Batch Reward: {R_current:.6f} | Time elapsed: {elapsed_time:.2f} seconds')\n",
        "eval_params_expectation_batch(W, Xs_aug.T, y1.T, verbose=True)"
      ],
      "metadata": {
        "id": "DPCBERK3Q0kz",
        "colab": {
          "base_uri": "https://localhost:8080/"
        },
        "outputId": "36d24d86-4755-4761-d4df-fb3ab0e25d23"
      },
      "execution_count": 51,
      "outputs": [
        {
          "output_type": "stream",
          "name": "stdout",
          "text": [
            "Step 1/60000 completed | Expected Total Batch Reward: 19.000000 | Time elapsed: 0.00 seconds\n",
            "Step 3000/60000 completed | Expected Total Batch Reward: 2442.003912 | Time elapsed: 2.41 seconds\n",
            "Step 6000/60000 completed | Expected Total Batch Reward: 2473.775432 | Time elapsed: 5.07 seconds\n",
            "Step 9000/60000 completed | Expected Total Batch Reward: 2497.012773 | Time elapsed: 7.95 seconds\n",
            "Step 12000/60000 completed | Expected Total Batch Reward: 2503.843636 | Time elapsed: 11.01 seconds\n",
            "Step 15000/60000 completed | Expected Total Batch Reward: 2505.437199 | Time elapsed: 13.36 seconds\n",
            "Step 18000/60000 completed | Expected Total Batch Reward: 2506.286421 | Time elapsed: 15.72 seconds\n",
            "Step 21000/60000 completed | Expected Total Batch Reward: 2501.932631 | Time elapsed: 18.44 seconds\n",
            "Step 24000/60000 completed | Expected Total Batch Reward: 2505.883148 | Time elapsed: 21.20 seconds\n",
            "Step 27000/60000 completed | Expected Total Batch Reward: 2513.462130 | Time elapsed: 23.59 seconds\n",
            "Step 30000/60000 completed | Expected Total Batch Reward: 2515.948605 | Time elapsed: 25.98 seconds\n",
            "Step 33000/60000 completed | Expected Total Batch Reward: 2513.078300 | Time elapsed: 28.36 seconds\n",
            "Step 36000/60000 completed | Expected Total Batch Reward: 2515.938833 | Time elapsed: 31.19 seconds\n",
            "Step 39000/60000 completed | Expected Total Batch Reward: 2515.910101 | Time elapsed: 34.38 seconds\n",
            "Step 42000/60000 completed | Expected Total Batch Reward: 2520.748534 | Time elapsed: 38.01 seconds\n",
            "Step 45000/60000 completed | Expected Total Batch Reward: 2520.300044 | Time elapsed: 41.04 seconds\n",
            "Step 48000/60000 completed | Expected Total Batch Reward: 2516.101239 | Time elapsed: 43.81 seconds\n",
            "Step 51000/60000 completed | Expected Total Batch Reward: 2520.620180 | Time elapsed: 47.60 seconds\n",
            "Step 54000/60000 completed | Expected Total Batch Reward: 2520.762087 | Time elapsed: 51.11 seconds\n",
            "Step 57000/60000 completed | Expected Total Batch Reward: 2522.856034 | Time elapsed: 54.32 seconds\n",
            "Step 60000/60000 completed | Expected Total Batch Reward: 2524.840005 | Time elapsed: 57.90 seconds\n",
            "Confusion_matrix: \n",
            "+------------------+--------------+-----------------+\n",
            "|                  |   Did Strike |   Didn't Strike |\n",
            "+==================+==============+=================+\n",
            "| Should Strike    |     2661.9   |         167.099 |\n",
            "+------------------+--------------+-----------------+\n",
            "| Shouldn't Strike |      137.038 |        2653.96  |\n",
            "+------------------+--------------+-----------------+\n",
            "Total Reward: 2524.862648824306\n"
          ]
        }
      ]
    },
    {
      "cell_type": "markdown",
      "source": [
        "The best possible score is 2829, and perturb measure step is able to discover network parameters that achieve a score of roughly 2500, in 60,000 steps. This is pretty good, better than we the humans were able to do in terms of figuring out the pattern, before we got bored of the problem in a few minutes. This is all well and good as an optimization exercise, but connecting this form of optimization back to our cartoon of neural behaviour, is a little off. There are three important aspects in which the perturb-measure-step training loop above deviates from a process that is simple and local enough to serve as plausible (even if very abstract) model of physiological syanptic plasticity processes. These key issues are\n",
        "1. The organism's striking behaviour of stochastic but expected reward outcomes, not actual obtained reward outcomes are used to update synaptic parameters $\\mathbf{W}.\n",
        "2. The evaluation of a given synaptic configuration is based on performance over all of the 5620 of distcint sensory-pattern, prey-presence pairs in our data set that define the environment, instead of on driven by reward outcomes over a single, or at least relatively few, stimulus-response-reward episodes.\n",
        "3. The organism would need to have distinct perturbation and non-perturbation modes of parameter evaluation to implement the training loop above, as contrasted with an ongoing evaluation and update mode.\n",
        "\n",
        "There are of course many other ways in which the this cartoon learning system deviates from what might plausibly be implemented in an actual simple neural system, but these have more to do with the abstractness of the model, and can concievibly be remedied with careful choices about how to make the model more concrete so as to map nicely onto measurable phyiological features of neural plasticity. In contrast, it is difficult to imagine how any of these key issues can be overcome physiologically, without invoking additional complex neural circuits and processes, the orgin of which also need to be explained. So for this sequence and the next we focus on addressing these core issues, different-modes, batch versus single experience based reward, and expected versus actual recieved (stochastic) reward.\n",
        "\n",
        "In the rest of this sequence we will adapt the base perturb-measure-step update rule to address each of these three issues. But first to get a sense of how these issues impinge upon the fantasy of our connecting perturb-measure-step with an algorithm that might feasibly be used by a living organism to update the connection strengths of this simple network determining behaviour in response to stimulous. In each interation in the vanilla perturb-measure-step training loop implemented above the organism first evaluates its current parameters based on the expected reward over all 5620 possible experiences. It then perturbs its perturbed parameters and evaluates its performance again on all 5620 experiences, these two evaluations are compared to determine $\\Delta R$ and this together with the pertrubations $\\Delta W_i$ determine the synaptic connections update according to\n",
        "\n",
        "$$ W_i' = W_i + s \\ \\Delta W_i \\ \\Delta R $$\n",
        "where\n",
        "$$\\Delta R = R(\\mathbf{W} + \\Delta \\mathbf{W}) - R(\\mathbf{W})$$\n",
        "and $R(\\mathbf{W})$ is our reward/evaluation function.\n",
        "Note that $s$ needs to be carefully choosen to account both for the average size of the perturbation $\\| \\mathbf{W} \\|$, the appropriately level of scaling given the expected alignment of a random perturbation with the gradient given the dimensionality of $\\mathbf{W}$, and the relative scale of the gradient.\n",
        "\n",
        "This process would require the organism somehow integrate all of the reward outcomes of all 5620 experiences, and then remember this aggregated outcome, while integrating up the reward outcomes of another 5620 experiences accumulated while in 'perturbation' mode, and then to update its parameters based on a comparison of the remembered and the recently accumlated aggregate reward outcome. This all seems a bit complicated, and difficult to implement with simple, primarily local synaptic plasticity mechanisms. What we would like intead is a version of perturb-measure-step that updates its synaptic weights as a result of every reward experience, doesn't rely on an expected reward calculation, and that does not have seperate perturbation mode.\n",
        "\n",
        "Removing the seperate perturbation mode is perhaps the easiest issue to address so we take this on first"
      ],
      "metadata": {
        "id": "T-Qw7kZ7T8Gp"
      }
    },
    {
      "cell_type": "markdown",
      "source": [
        "# 2.1.4.2 Stochastic-Step-Measure-Step\n",
        "\n",
        "One simple way to avoid a seperate perturbation evaluation is to simply compress the perturbation and the update into a single step. We call such an update method step-measure-step as contrasted with perturb measure step. This new update rule looks like this.\n",
        "\n",
        "\n",
        "\n",
        "$$\\ W_{i}(t+1)= W_i(t) + s \\ (W_i(t) - W_i(t-1)) \\ \\ R(\\mathbf{W}(t)) - R(\\mathbf{W}(t-1)) + \\xi_{i}(t)$$\n",
        "\n",
        "Previously we used $\\Delta$ to denote the perturbation and did not directly reference the parameter update. Because now we are combining the perturbation and the parameter update we use $\\Delta$ to denote this combined change, that is\n",
        "$$ \\ W_{i}(t+1) - W_i(t) = \\Delta W_i(t) $$\n",
        "\n",
        "Then the above simplifies\n",
        "\n",
        "$$ \\Delta W_i(t) = s \\ \\Delta W_i(t-1) \\ \\Delta R(t) + \\xi_i(t) $$\n",
        "Here $\\Delta R(t) = R(\\mathbf{W}(t)) - R(\\mathbf{W}(t-1))$\n",
        "\n",
        "Let's see if\n"
      ],
      "metadata": {
        "id": "Rdp1m0JJV2ff"
      }
    },
    {
      "cell_type": "code",
      "source": [
        "# @title Stochastic-Step-Measure-Step Training Loop\n",
        "learn_rng = np.random.default_rng(0)\n",
        "num_steps = 100000\n",
        "init_step_scale = 0.003 * np.sqrt(65)\n",
        "init_noise_scale = 0.0005\n",
        "total_scale = 1.0\n",
        "#later_step_scale = 0.002 * np.sqrt(65)\n",
        "#later_noise_scale = 0.0001\n",
        "W_init = np.zeros((1,65))\n",
        "W = W_init\n",
        "delta_W = np.zeros((1,65))\n",
        "R, _ = eval_params_expectation_batch(W, Xs_aug.T, y1.T)\n",
        "start_time = time.time()\n",
        "step_scale = init_step_scale\n",
        "noise_scale = init_noise_scale\n",
        "for step in range(num_steps):\n",
        "  R_old = R\n",
        "  R, _ = eval_params_expectation_batch(W, Xs_aug.T, y1.T)\n",
        "  delta_R = R - R_old\n",
        "  delta_W_noise = learn_rng.normal(0, noise_scale, size=(1,65))\n",
        "  delta_W = total_scale * (step_scale * delta_W * delta_R + delta_W_noise)\n",
        "  W += delta_W\n",
        "\n",
        "  if step == 0 or (step + 1) % 10000 == 0:\n",
        "    elapsed_time = time.time() - start_time\n",
        "    #print(f'Delta R: {delta_R}')\n",
        "    #print(f'Delta W: {delta_W}')\n",
        "    print(f'Step {step + 1}/{num_steps} completed | Total Expected Reward: {R:.6f} | Time elapsed: {elapsed_time:.2f} seconds')\n",
        "    #if step > 40000:\n",
        "    #  step_scale = later_step_scale\n",
        "    #  noise_scale = later_noise_scale\n",
        "eval_params_expectation_batch(W, Xs_aug.T, y1.T, verbose=True)"
      ],
      "metadata": {
        "colab": {
          "base_uri": "https://localhost:8080/"
        },
        "id": "5Q6yqqAJWCHo",
        "outputId": "a0befb8a-17bf-4ee3-f75b-d49b8a2ce082"
      },
      "execution_count": 103,
      "outputs": [
        {
          "output_type": "stream",
          "name": "stdout",
          "text": [
            "Step 1/100000 completed | Total Expected Reward: 19.000000 | Time elapsed: 0.00 seconds\n",
            "Step 10000/100000 completed | Total Expected Reward: 1606.922149 | Time elapsed: 5.61 seconds\n",
            "Step 20000/100000 completed | Total Expected Reward: 1714.935587 | Time elapsed: 9.60 seconds\n",
            "Step 30000/100000 completed | Total Expected Reward: 1777.267511 | Time elapsed: 13.92 seconds\n",
            "Step 40000/100000 completed | Total Expected Reward: 1859.405580 | Time elapsed: 18.54 seconds\n",
            "Step 50000/100000 completed | Total Expected Reward: 1929.047608 | Time elapsed: 23.34 seconds\n",
            "Step 60000/100000 completed | Total Expected Reward: 1951.763270 | Time elapsed: 29.40 seconds\n",
            "Step 70000/100000 completed | Total Expected Reward: 1960.317681 | Time elapsed: 34.29 seconds\n",
            "Step 80000/100000 completed | Total Expected Reward: 1969.088658 | Time elapsed: 39.04 seconds\n",
            "Step 90000/100000 completed | Total Expected Reward: 1968.523797 | Time elapsed: 43.82 seconds\n",
            "Step 100000/100000 completed | Total Expected Reward: 2028.672296 | Time elapsed: 48.62 seconds\n",
            "Confusion_matrix: \n",
            "+------------------+--------------+-----------------+\n",
            "|                  |   Did Strike |   Didn't Strike |\n",
            "+==================+==============+=================+\n",
            "| Should Strike    |     2477.67  |         351.331 |\n",
            "+------------------+--------------+-----------------+\n",
            "| Shouldn't Strike |      448.199 |        2342.8   |\n",
            "+------------------+--------------+-----------------+\n",
            "Total Reward: 2029.4706196154564\n"
          ]
        }
      ]
    },
    {
      "cell_type": "markdown",
      "source": [
        "So this trick of smushing the perturbation and the update into a single step seems to work okay, though not as well as doing the very careful perturbation, but it shows that much of the correct pattern response to stimulus can be discovered through this mode. This particular idea for smushing together the perturbation and the update was is known as ALOPEX (an acronym from \"ALgorithms Of Pattern EXtraction\",  first proposed by Tzanakou and Harth in 1974.)"
      ],
      "metadata": {
        "id": "-73AjlBda7kA"
      }
    },
    {
      "cell_type": "code",
      "source": [
        "W"
      ],
      "metadata": {
        "id": "b_Q3ceuPUUkb",
        "outputId": "70206c39-2e3f-47c8-c065-01f552fbc290",
        "colab": {
          "base_uri": "https://localhost:8080/"
        }
      },
      "execution_count": 92,
      "outputs": [
        {
          "output_type": "execute_result",
          "data": {
            "text/plain": [
              "array([[ 4.06339811e-02, -1.49762152e-01, -2.56122898e-03,\n",
              "         1.93127823e-01, -1.74608629e-01, -3.58433783e-01,\n",
              "         1.82291997e-01, -1.28214739e-01,  2.64739203e-01,\n",
              "         1.69144411e-01, -2.25449433e-01, -5.73282148e-02,\n",
              "        -4.78004186e-01, -9.89564369e-03, -1.76991915e-01,\n",
              "         1.02234207e-01, -1.63405396e-01,  3.26399782e-01,\n",
              "        -3.25076119e-01, -4.11892613e-01, -6.50223564e-02,\n",
              "        -1.62390527e-01,  3.64640411e-01,  1.77395918e-01,\n",
              "         5.67301239e-02, -2.18295773e-02,  3.25746272e-01,\n",
              "         6.21800828e-03, -9.93707581e-02, -7.62250618e-02,\n",
              "        -6.07856515e-04, -1.72614837e-01, -2.88068270e-01,\n",
              "         1.36283816e-01,  2.02030885e-01,  3.59212817e-01,\n",
              "        -5.30089933e-02,  1.32658729e-01, -7.76225614e-02,\n",
              "        -7.54126420e-02,  3.84433411e-01, -3.96355632e-02,\n",
              "        -2.59185589e-01,  8.67596770e-02, -1.78382271e-01,\n",
              "         7.23615106e-02,  4.55490099e-03, -1.94592216e-01,\n",
              "        -1.87439703e-02,  1.41914744e-01, -1.78446866e-03,\n",
              "         5.36216342e-02, -1.24164048e-01,  5.56437590e-02,\n",
              "         3.64794745e-01,  1.59936857e-01, -3.43839110e-02,\n",
              "        -3.60845926e-02,  1.53834920e-01,  5.54625598e-02,\n",
              "        -8.17212556e-01,  2.92263086e-01,  1.28723107e-01,\n",
              "         1.34141686e-01, -1.72089554e-01]])"
            ]
          },
          "metadata": {},
          "execution_count": 92
        }
      ]
    },
    {
      "cell_type": "code",
      "source": [
        "def train_and_evaluate(step_scale, noise_scale):\n",
        "  step_scale = step_scale * np.sqrt(65)\n",
        "  num_steps = 50000\n",
        "  W = np.zeros((1, 65))\n",
        "  delta_W = np.zeros((1,65))\n",
        "  R, _ = eval_params_expectation_batch(W, Xs_aug.T, y1.T)\n",
        "  for step in range(num_steps):\n",
        "    R_old = R\n",
        "    R, _ = eval_params_expectation_batch(W, Xs_aug.T, y1.T)\n",
        "    delta_R = R - R_old\n",
        "    delta_W_noise = learn_rng.normal(0, noise_scale, size=(1,65))\n",
        "    delta_W = step_scale * delta_W * delta_R + delta_W_noise\n",
        "    W += delta_W\n",
        "  R, _ = eval_params_expectation_batch(W, Xs_aug.T, y1.T)\n",
        "  return R  # or another performance metric"
      ],
      "metadata": {
        "id": "JoJb_CkDSRAO"
      },
      "execution_count": 87,
      "outputs": []
    },
    {
      "cell_type": "code",
      "source": [
        "results = []\n",
        "for step_scale in [0.003, 0.002, 0.001]:\n",
        "  for noise_scale in [0.002, 0.001, 0.0005,]:\n",
        "    print(f'Step Scale: {step_scale}, Noise Scale: {noise_scale}')\n",
        "    result = train_and_evaluate(step_scale, noise_scale)\n",
        "    print(result)\n",
        "    results.append((step_scale, noise_scale, result))"
      ],
      "metadata": {
        "id": "ccwgVP05U2g0",
        "outputId": "d2a88fbd-ebeb-48d0-f0ac-f5c227bad922",
        "colab": {
          "base_uri": "https://localhost:8080/"
        }
      },
      "execution_count": 88,
      "outputs": [
        {
          "output_type": "stream",
          "name": "stdout",
          "text": [
            "Step Scale: 0.003, Noise Scale: 0.002\n",
            "2115.8310688782753\n",
            "Step Scale: 0.003, Noise Scale: 0.001\n",
            "2010.1844608593062\n",
            "Step Scale: 0.003, Noise Scale: 0.0005\n",
            "2062.8369331084386\n",
            "Step Scale: 0.002, Noise Scale: 0.002\n",
            "1994.1346648728427\n",
            "Step Scale: 0.002, Noise Scale: 0.001\n",
            "2008.9006609551193\n",
            "Step Scale: 0.002, Noise Scale: 0.0005\n",
            "1874.3532150484257\n",
            "Step Scale: 0.001, Noise Scale: 0.002\n",
            "1642.5108274238391\n",
            "Step Scale: 0.001, Noise Scale: 0.001\n",
            "2015.7431209791555\n",
            "Step Scale: 0.001, Noise Scale: 0.0005\n",
            "1567.8349628790124\n"
          ]
        }
      ]
    },
    {
      "cell_type": "markdown",
      "source": [
        "# 2.1.3.5 Perturb-Measure-Step at the Synaptic Level\n",
        "\n",
        "So our update rule for perturb-measure-step can be written in compact mathematical notation as\n",
        "\n",
        "$$ \\mathbf{W}' = \\mathbf{W} + s \\Delta\\mathbf{W}\\Delta R $$\n",
        "\n",
        "This is saying that the new parameters are equal to the old parameters, shifted in the direction of some random perturbation, proportional to the rate of improvement in that random direction. So each element of the perturbation $\\Delta \\mathbf{W}$, $\\Delta W_i$, is normally distributed with mean zero and standard deviation equal to the perturbation scale. The rate of improvement in that direction is given by\n",
        "\n",
        "$$\\Delta R = \\frac{f(\\mathbf{W}_t + \\Delta \\mathbf{W}) - f(\\mathbf{W}_t)}{\\| \\Delta \\mathbf{W}\\|}$$\n",
        "\n",
        "This is all well and good, but what does this translate to in terms of an update rule for individual synapses?\n",
        "\n",
        "$$ W_i' = W_i + s \\Delta W_i \\Delta R $$\n",
        "\n",
        "From this rule it may be clear, that sometimes this learning rule will cause individual synaptic weights to shift in bad direction, since $\\Delta R$ is based on an evaluation of a shift in all the weights in our stochastic-perturb-measure-step. Note though, that in our original perturb-measure-step we only to perturbed one weight at a time, and systematically iterated through all the weights. From a physiological point of view this kind of systematic, iterative perturbation of weights seems basically impossible to coordinate, whereas small random perturbations to the effective synaptic weights is highly plausible through a number of different physiological mechanisms, several of which already have clear empirical support. Similarly, the presence of globally acting \"Reward Signals\" also has clear empirical evidence for some networks in the brain. From the perspective physiological mechanisms alone, this kind of synaptic update rule is highly plausible.  "
      ],
      "metadata": {
        "id": "r2A7RlNB2GVn"
      }
    },
    {
      "cell_type": "markdown",
      "source": [
        "Now whenever we look at the performance of a model, we have to ask ourselves, is it not getting better because our training algorithm can't make the model any better, or is the *expressivity* of the model maxed out, and given the structural limitations (basically the number of parameters in our model and how they combine to produce outputs that are contingent on inputs). Could such a model ever do any better? It turns out that this is roughly about as good as can be expected with a network as simple as this. The next question then is, can we do better with a more complex network? Let's see"
      ],
      "metadata": {
        "id": "-077uao8afjM"
      }
    },
    {
      "cell_type": "markdown",
      "source": [
        "# 2.1.3.4 Is Solving High Dimensional Optimization Problem Necissary for Adaptive Behaviour? Hard Yes.\n",
        "\n",
        "One reason for having a large, flexible brain is to produce complex behaviour that is contingent on the state of the world in complex ways. Our simple strike-no-strike network, consisted of a single layer of synaptic connections between the sensory inputs and the motor outputs. In a shallow network structure like this a sensory input either directly inhibits or promotes the striking behaviour, there is no possibility for the a sensory input to promote striking in some sensory contexts, but inhibit it in others. This is a deficincy. Context is important, loud thumping and roaring noises at a concert means the band is good, similar noises when camping in the wilderness means a large animal is nearby. A shallow network does not allow for such context dependence. However, by simply adding an additional layer to the network, consisting of some intermediate (hidden) neurons between the inputs and the output, limited forms of context dependent inhibition and promotion of striking are possible.\n",
        "\n",
        "One thing that could be holding back performance on this discrimination problem is that our algorithms are not capable of finding the optimal parameters for the given model, but... we don't really think that is the case here. Another possibility is that our simple sensory-behaviour circuit is not flexible or complex enough to fully discriminate between the two types of input. There is good reason to think that this might be the case. Our current sensory-behavioural circuit is effectively equivalent to logistic regression, i.e. each feature can either inhibit or potentiate striking behaviour to varying degrees, but there is no possibility for conditional interaction between features. By 'conditional interaction,' we mean a scenario where, for instance, feature 1 typically inhibits the behavior, except when feature 2 is positive, under which condition feature 1 becomes potentiating. These kinds of feature interactions are impossible in the current model. One way to allow for such interactions is to augment the base set of features with composite features, e.g. incorporate all the pairwise products of the existing feature set, so that instead of 65 features (bias included) we have $(65^2 - 1) = 4224$ features to work with. This could work, but what if we want something that depends on the interaction of more than 2 features, adding higher order polynomial terms will quickly make the problem intractable (Reference appendix section on why hidden layers not polynomials if we do that). If we had some mechanistically grounded understanding or hypothesis about the relationship between the features and label could might be able to cherry pick some small subset of higher order interaction terms, but the ML/supervised learning framework is in large part about automating the feature selection processes based on the data alone. In turns out that instead of resorting the regression on polynomial terms to capture feature interactions, there is a much more compact and expressive way of allowing for feature interactions. The idea is to allow for feature interactions to emerge as needed in a 'hidden' computational layer of our highly abstracted neurons.\n",
        "\n",
        "Our new strike-no-strike network with 1 hidden layer is structured as follows"
      ],
      "metadata": {
        "id": "u1lGLbkNVUj8"
      }
    },
    {
      "cell_type": "markdown",
      "source": [
        "As before $\\mathbf{x}$ is the raw sensory input (vector) in a given episode and each element of $\\mathbf{x}$ corresponds to the activation level and firing rate of a single photosensitive neuron.\n",
        "These input neurons are then connected by synapses to a 'hidden layer' of intermediate computational neurons, say 10 of them. The activation level of these hidden layer neurons is computed as\n",
        "$$\\mathbf{h} = \\sigma(\\mathbf{W}_{in} \\cdot \\mathbf{x})$$\n",
        "Now $\\mathbf{W}_{in}$ is a matrix of synaptic weights between the input neurons and the hidden layer neurons, and $\\cdot$ denotes standard matrix vector multiplication. (In this case $\\mathbf{W}$ has shape $10 \\times 65$. Each the values in the $i^{th}$ row of $\\mathbf{W}_{in}$ given the sign and strength of the connections coming into the $i^{th}$ element of $h$ and similarly each value in the $j^{th}$ column of $\\mathbf{W}_{in}$ corresponds to connection strengths coming out of the $j^{th}$ sensory input neuron.)  We still us $\\sigma$ to represent the standard logistic sigmoid function, but in these case applied elementwise the vector output of the product $\\mathbf{W}_{in} \\cdot \\mathbf{x}$. Then much as before our striking probability is computed as\n",
        "$$y = \\mathbf{W}_{out} \\cdot \\mathbf{h}$$\n",
        "and\n",
        "$$ \\Pr \\{\\text{strike}\\} = \\sigma(y) $$\n",
        "$$ \\Pr \\{\\text{no strike}\\} = 1 - \\sigma(y)$$\n",
        "Here $\\mathbf{W}_{out}$ has shape $1  \\times 10$.\n"
      ],
      "metadata": {
        "id": "CvsVIoAvVNh0"
      }
    },
    {
      "cell_type": "markdown",
      "source": [
        "We will need to write a new eval params function for this new model, let's do it."
      ],
      "metadata": {
        "id": "j9tt8sJofITF"
      }
    },
    {
      "cell_type": "code",
      "source": [
        "def eval_params_hidden(W_in, W_out, x, y, verbose=False):\n",
        "  \"\"\"\n",
        "  evaluates parameters of simple behaviour circuit given inputs and target\n",
        "  outputs, use numpy broadcasting to be fast and concise\n",
        "  Args:\n",
        "    W_in: (hidden-neurons(20) x inputs(65) np.array)\n",
        "           weights between sensory neurons and hidden layer neurons\n",
        "    W_out: (output(1) x hidden-neurons(20) np.array)\n",
        "           weights between hidden layer neurons and output\n",
        "    x: (input(64) x batch np.array) sensory input\n",
        "       (can be single input, mini-batch of inputs or the whole batch of inputs)\n",
        "    y: (outputs(1) x batch np.array) target behavioural output\n",
        "       (can be a single target, mini-batch of targets, or whole batch),\n",
        "       needs to correspond to input\n",
        "\n",
        "  Returns:\n",
        "    R_bar: the average/expected reward obtained given the parameters, over the\n",
        "           (mini-)batch of inputs and targets. (mini-batch could be size 1)\n",
        "  \"\"\"\n",
        "  h = np_sigmoid(np.dot(W_in,x)) # hidden x batch\n",
        "  y_hat = np_sigmoid(np.dot(W_out,h)) # 1 x batch\n",
        "  y_score = np.copy(y)\n",
        "  y_score[y_score == 0] = -1\n",
        "  batch_expected_reward = y_score * y_hat\n",
        "  R_bar = np.sum(batch_expected_reward)\n",
        "  if verbose:\n",
        "    # Expected true positives (TP_e) and false positives (FP_e)\n",
        "    TP_e = np.sum(y_hat * y)  # Probabilities where true label is 1\n",
        "    FP_e = np.sum(y_hat * (1 - y))  # Probabilities where true label is 0\n",
        "    # Expected false negatives (FN_e) and true negatives (TN_e)\n",
        "    FN_e = np.sum((1 - y_hat) * y)  # (1 - probabilities) where true label is 1\n",
        "    TN_e = np.sum((1 - y_hat) * (1 - y))  # (1 - probabilities) where true label is 0\n",
        "    confusion_matrix = np.array([[TP_e, FN_e], [FP_e, TN_e]])\n",
        "    table = [[\"Should Strike\", TP_e, FN_e],\n",
        "                 [\"Shouldn't Strike\", FP_e, TN_e]]\n",
        "    headers = [\"\", \"Did Strike\", \"Didn't Strike\"]\n",
        "    print(\"Expected Confusion_matrix: \")\n",
        "    print(tabulate(table, headers=headers, tablefmt=\"grid\"))\n",
        "    print(f'Expected reward: {R_bar}')\n",
        "    return None\n",
        "  else:\n",
        "    return R_bar\n"
      ],
      "metadata": {
        "id": "wequmEMQfJMp"
      },
      "execution_count": null,
      "outputs": []
    },
    {
      "cell_type": "markdown",
      "source": [
        "We've got a more complicated circuit with more parameters, how much longer does it take us to evaluate this circuit compared to our previous one?"
      ],
      "metadata": {
        "id": "Eiem7eE-fw8D"
      }
    },
    {
      "cell_type": "code",
      "source": [
        "W = np.zeros((1,65))\n",
        "%timeit eval_params_aug(W, Xs_aug.T, y1.T)"
      ],
      "metadata": {
        "id": "vyebIZ8Vf3bx"
      },
      "execution_count": null,
      "outputs": []
    },
    {
      "cell_type": "code",
      "source": [
        "W_in = np.zeros((10,65))\n",
        "W_out = np.zeros((1,10))\n",
        "%timeit eval_params_hidden(W_in, W_out, Xs_aug.T, y1.T)"
      ],
      "metadata": {
        "id": "htd8pC1uf55M"
      },
      "execution_count": null,
      "outputs": []
    },
    {
      "cell_type": "markdown",
      "source": [
        "Roughly 5x longer per function evaluation, which means not only will we likely need more iterations of our algorithm because it is harder to find good parameters in high dimensions (we have 660 parameters now, which is a lot more than 65), but also each of those steps will take longer to process because function evaluations are also more costly. It will all be worth it if we can get better final performance though."
      ],
      "metadata": {
        "id": "Px0KZWgFgK1P"
      }
    },
    {
      "cell_type": "code",
      "source": [
        "# @title 10 Hidden Units - Perturb-Measure-Step Training Loop\n",
        "learn_rng = np.random.default_rng(0)\n",
        "num_steps = 30000\n",
        "step_scale = 0.025\n",
        "perturbation_scale = 0.0001 # std of gaussian test perturbations\n",
        "num_hidden_units = 10\n",
        "# initializing both layers as zero leads to some issues, so we\n",
        "# use a Xavier/Glorot random initialization scheme\n",
        "in_init = np.sqrt(6 / (65 + num_hidden_units))\n",
        "W_in_init = learn_rng.uniform(-in_init, in_init, size=(num_hidden_units, 65))\n",
        "out_init = np.sqrt(6 / (10 + 1))\n",
        "W_out_init = learn_rng.uniform(-out_init, out_init, size=(1, num_hidden_units))\n",
        "flat_params = np.concatenate((W_in_init.flatten(), W_out_init.flatten()))\n",
        "dimensional_scale_factor = np.sqrt(len(flat_params))\n",
        "start_time = time.time()\n",
        "indices = np.arange(Xs_aug.shape[0])\n",
        "for step in range(num_steps):\n",
        "  W_in, W_out = np.split(flat_params, [650])\n",
        "  W_in = W_in.reshape((10,65))\n",
        "  W_out = W_out.reshape((1,10))\n",
        "  R_current = eval_params_hidden(W_in, W_out, Xs_aug.T, y1.T)\n",
        "  raw_param_perturb = learn_rng.standard_normal(size=len(flat_params))\n",
        "  unit_param_perturb = raw_param_perturb / np.linalg.norm(raw_param_perturb.flatten())\n",
        "  test_perturbation = unit_param_perturb * perturbation_scale\n",
        "  perturbed_flat_params = flat_params + test_perturbation\n",
        "  W_in_test, W_out_test = np.split(perturbed_flat_params, [650])\n",
        "  W_in_test = W_in_test.reshape((10,65))\n",
        "  W_out_test = W_out_test.reshape((1,10))\n",
        "  R_test = eval_params_hidden(W_in_test, W_out_test, Xs_aug.T, y1.T)\n",
        "  directional_grad_est = (R_test - R_current) / perturbation_scale\n",
        "  flat_params += step_scale * dimensional_scale_factor * directional_grad_est * unit_param_perturb\n",
        "\n",
        "  if step == 0 or (step + 1) % 1000 == 0:\n",
        "    elapsed_time = time.time() - start_time\n",
        "    print(f'Step {step + 1}/{num_steps} completed | Current Total Reward: {R_current:.6f} | Time elapsed: {elapsed_time:.2f} seconds')\n",
        "W_in, W_out = np.split(flat_params, [650])\n",
        "W_in = W_in.reshape((10,65))\n",
        "W_out = W_out.reshape((1,10))\n",
        "eval_params_hidden(W_in, W_out, Xs_aug.T, y1.T, verbose=True)\n"
      ],
      "metadata": {
        "id": "MDoAqfWghM--"
      },
      "execution_count": null,
      "outputs": []
    },
    {
      "cell_type": "markdown",
      "source": [
        "So this new, more complex circuit is great. We're much closer to the theoretical maximum performance of 2829, maybe with a few more hidden units, and a little longer training time we could have perfect discrimination. Let's see what happens when we go up to 20 hidden units. As a heads up this is going to take awhile (about 3 minutes) so you should read ahead while waiting for this training loop to complete"
      ],
      "metadata": {
        "id": "m4hKKsmKnjrD"
      }
    },
    {
      "cell_type": "code",
      "source": [
        "# @title 20 Hidden Units - Perturb-Measure-Step Training Loop\n",
        "learn_rng = np.random.default_rng(0)\n",
        "num_steps = 10000\n",
        "step_scale = 0.025\n",
        "perturbation_scale = 0.0001 # std of gaussian test perturbations\n",
        "num_hidden_units = 20\n",
        "# initializing both layers as zero leads to some issues, so we\n",
        "# use a Xavier/Glorot random initialization scheme\n",
        "in_init = np.sqrt(6 / (65 + num_hidden_units))\n",
        "W_in_init = learn_rng.uniform(-in_init, in_init, size=(num_hidden_units, 65))\n",
        "out_init = np.sqrt(6 / (num_hidden_units + 1))\n",
        "W_out_init = learn_rng.uniform(-out_init, out_init, size=(1, num_hidden_units))\n",
        "flat_params = np.concatenate((W_in_init.flatten(), W_out_init.flatten()))\n",
        "dimensional_scale_factor = np.sqrt(len(flat_params))\n",
        "start_time = time.time()\n",
        "indices = np.arange(Xs_aug.shape[0])\n",
        "for step in range(num_steps):\n",
        "  W_in, W_out = np.split(flat_params, [num_hidden_units*65])\n",
        "  W_in = W_in.reshape((num_hidden_units,65))\n",
        "  W_out = W_out.reshape((1,num_hidden_units))\n",
        "  R_current = eval_params_hidden(W_in, W_out, Xs_aug.T, y1.T)\n",
        "  raw_param_perturb = learn_rng.standard_normal(size=len(flat_params))\n",
        "  unit_param_perturb = raw_param_perturb / np.linalg.norm(raw_param_perturb.flatten())\n",
        "  test_perturbation = unit_param_perturb * perturbation_scale\n",
        "  perturbed_flat_params = flat_params + test_perturbation\n",
        "  W_in_test, W_out_test = np.split(perturbed_flat_params, [num_hidden_units*65])\n",
        "  W_in_test = W_in_test.reshape((num_hidden_units,65))\n",
        "  W_out_test = W_out_test.reshape((1,num_hidden_units))\n",
        "  R_test = eval_params_hidden(W_in_test, W_out_test, Xs_aug.T, y1.T)\n",
        "  directional_grad_est = (R_test - R_current) / perturbation_scale\n",
        "  flat_params += step_scale * dimensional_scale_factor * directional_grad_est * unit_param_perturb\n",
        "\n",
        "  if step == 0 or (step + 1) % 500 == 0:\n",
        "    elapsed_time = time.time() - start_time\n",
        "    print(f'Step {step + 1}/{num_steps} completed | Current Total Reward: {R_current:.6f} | Time elapsed: {elapsed_time:.2f} seconds')\n",
        "W_in, W_out = np.split(flat_params, [num_hidden_units*65])\n",
        "W_in = W_in.reshape((num_hidden_units,65))\n",
        "W_out = W_out.reshape((1,num_hidden_units))\n",
        "eval_params_hidden(W_in, W_out, Xs_aug.T, y1.T, verbose=True)\n"
      ],
      "metadata": {
        "id": "LV67Oyy1nxSi"
      },
      "execution_count": null,
      "outputs": []
    },
    {
      "cell_type": "markdown",
      "source": [
        "This more complex circuit gets us even closer to the theoretical maximum performance of 2829, but it's taking longer to get there. This is a consequence of both, the function evaluations required at each step being slower (for the more complex function) and because more iterations are needed to effectively search the higher dimensional space for a good configuration of $\\mathbf{W}_{in}$ and $\\mathbf{W}_{out}$. With even more hidden units and more time we can likely learn perfect discrimination, but it will take even longer (more than 3 minutes!)."
      ],
      "metadata": {
        "id": "DoYe61pfdTzu"
      }
    },
    {
      "cell_type": "markdown",
      "source": [
        "Although the toy neural circuit models in this sequence are a far cry from actual neural circuits, they still provide insight into possible mechanisms of synaptic plasticity the brain. We can imagine a scenario where synaptic strengths between neurons in a circuit undergo small, transient perturbations. The brain might integrate and compare the performance of these perturbations over a learning episode (for example, a day) to previous performance levels. (Ee leave aside the specifics of how this integration and comparison occur for now.)\n",
        "\n",
        "If performance improves with a perturbation, synaptic changes could be consolidated in the direction of the perturbation, proportionate to the degree of improvement. Conversely, if performance worsens, changes might be consolidated in the opposite direction, also proportional to the performance decrease. This concept, while still vague, suggests a mechanism of synaptic adjustment based on performance feedback.\n",
        "\n",
        "One critical point to consider is the scalability of such a learning process. The number of learning episodes required for effective optimization grows with the number of parameters in a neural circuit. This implies that 'perturb-measure-step' plasticity cannot be the primary mechanism driving neural plasticity in large, complex neural circuits that learn rapidly. This limitation is critical, the lifetimes of most animals simply aren't long enough to accommodate the number of learning iterations needed for extensive optimization.\n",
        "\n",
        "However, as demonstrated above, a more complex circuit achieved significantly better performance in the discrimination task, so large complex circuits can be useful. This suggests that even if empirical evidence of perturbation-based learning in the brain exists and its physiological implementation is understood, such processes are unlikely to be the primary drivers of neural plasticity for complex and challenging behaviors.\n",
        "\n",
        "(One counterargument in favor of simple learning rules is that extensive learning might not be necessary if genetic predisposition starts the circuit off close to an optimal parameter configuration. Then subsequently, relatively slow learning processes could 'fine-tune' the neural circuit's configuration. However, as noted in our earlier discussions on evolution, changing environments necessitate that a significant portion of behavior must emerge from learning, thereby limiting the extent to which genetic predispositions can facilitate efficient and adaptive learning.)"
      ],
      "metadata": {
        "id": "4s0X34-jgHZ2"
      }
    },
    {
      "cell_type": "markdown",
      "source": [
        "In the next sequence we will explore the relationship between perturb-measure-step updates and the gradient in even more detail, show how this together with stochastic function evaluation enable introduce the idea of stochastic function e"
      ],
      "metadata": {
        "id": "B-UDcsvvhF9V"
      }
    }
  ],
  "metadata": {
    "colab": {
      "machine_shape": "hm",
      "name": "P2C1_Sequence4",
      "provenance": [],
      "toc_visible": true,
      "include_colab_link": true
    },
    "kernel": {
      "display_name": "Python 3",
      "language": "python",
      "name": "python3"
    },
    "kernelspec": {
      "display_name": "Python 3",
      "name": "python3"
    },
    "language_info": {
      "codemirror_mode": {
        "name": "ipython",
        "version": 3
      },
      "file_extension": ".py",
      "mimetype": "text/x-python",
      "name": "python",
      "nbconvert_exporter": "python",
      "pygments_lexer": "ipython3",
      "version": "3.9.18"
    },
    "widgets": {
      "application/vnd.jupyter.widget-state+json": {
        "bc87865f3cbf4da69f9e641dddebfa2e": {
          "model_module": "@jupyter-widgets/controls",
          "model_name": "HBoxModel",
          "model_module_version": "1.5.0",
          "state": {
            "_dom_classes": [],
            "_model_module": "@jupyter-widgets/controls",
            "_model_module_version": "1.5.0",
            "_model_name": "HBoxModel",
            "_view_count": null,
            "_view_module": "@jupyter-widgets/controls",
            "_view_module_version": "1.5.0",
            "_view_name": "HBoxView",
            "box_style": "",
            "children": [
              "IPY_MODEL_2f17824389e2474e95ccb6dd2fd551bc",
              "IPY_MODEL_7f3b7909d9e3422da9a9ae1d01376382",
              "IPY_MODEL_2ec468afb59f46da9d2806a324cef83f"
            ],
            "layout": "IPY_MODEL_3ee774122ce84939ac60e789f3eb66fb"
          }
        },
        "2f17824389e2474e95ccb6dd2fd551bc": {
          "model_module": "@jupyter-widgets/controls",
          "model_name": "VBoxModel",
          "model_module_version": "1.5.0",
          "state": {
            "_dom_classes": [],
            "_model_module": "@jupyter-widgets/controls",
            "_model_module_version": "1.5.0",
            "_model_name": "VBoxModel",
            "_view_count": null,
            "_view_module": "@jupyter-widgets/controls",
            "_view_module_version": "1.5.0",
            "_view_name": "VBoxView",
            "box_style": "",
            "children": [
              "IPY_MODEL_c6d0708ed0f24183803c47c3a824814c",
              "IPY_MODEL_db8dc02bbdf54139a592dfbd6820a8f6"
            ],
            "layout": "IPY_MODEL_0a97c89bf9664b92ac26dc01b37767be"
          }
        },
        "7f3b7909d9e3422da9a9ae1d01376382": {
          "model_module": "@jupyter-widgets/controls",
          "model_name": "VBoxModel",
          "model_module_version": "1.5.0",
          "state": {
            "_dom_classes": [],
            "_model_module": "@jupyter-widgets/controls",
            "_model_module_version": "1.5.0",
            "_model_name": "VBoxModel",
            "_view_count": null,
            "_view_module": "@jupyter-widgets/controls",
            "_view_module_version": "1.5.0",
            "_view_name": "VBoxView",
            "box_style": "",
            "children": [
              "IPY_MODEL_722dcd703e6a44b9bead3359f838ea9a",
              "IPY_MODEL_8e92a2b349e445a987181b0e8d930b44"
            ],
            "layout": "IPY_MODEL_61aebf8ebf254c78ba0bbbaa10671479"
          }
        },
        "2ec468afb59f46da9d2806a324cef83f": {
          "model_module": "@jupyter-widgets/output",
          "model_name": "OutputModel",
          "model_module_version": "1.0.0",
          "state": {
            "_dom_classes": [],
            "_model_module": "@jupyter-widgets/output",
            "_model_module_version": "1.0.0",
            "_model_name": "OutputModel",
            "_view_count": null,
            "_view_module": "@jupyter-widgets/output",
            "_view_module_version": "1.0.0",
            "_view_name": "OutputView",
            "layout": "IPY_MODEL_54a459b666cf4c0e87b730d8859cb93b",
            "msg_id": "",
            "outputs": []
          }
        },
        "3ee774122ce84939ac60e789f3eb66fb": {
          "model_module": "@jupyter-widgets/base",
          "model_name": "LayoutModel",
          "model_module_version": "1.2.0",
          "state": {
            "_model_module": "@jupyter-widgets/base",
            "_model_module_version": "1.2.0",
            "_model_name": "LayoutModel",
            "_view_count": null,
            "_view_module": "@jupyter-widgets/base",
            "_view_module_version": "1.2.0",
            "_view_name": "LayoutView",
            "align_content": null,
            "align_items": null,
            "align_self": null,
            "border": null,
            "bottom": null,
            "display": null,
            "flex": null,
            "flex_flow": null,
            "grid_area": null,
            "grid_auto_columns": null,
            "grid_auto_flow": null,
            "grid_auto_rows": null,
            "grid_column": null,
            "grid_gap": null,
            "grid_row": null,
            "grid_template_areas": null,
            "grid_template_columns": null,
            "grid_template_rows": null,
            "height": null,
            "justify_content": null,
            "justify_items": null,
            "left": null,
            "margin": null,
            "max_height": null,
            "max_width": null,
            "min_height": null,
            "min_width": null,
            "object_fit": null,
            "object_position": null,
            "order": null,
            "overflow": null,
            "overflow_x": null,
            "overflow_y": null,
            "padding": null,
            "right": null,
            "top": null,
            "visibility": null,
            "width": null
          }
        },
        "c6d0708ed0f24183803c47c3a824814c": {
          "model_module": "jupyter-matplotlib",
          "model_name": "MPLCanvasModel",
          "model_module_version": "^0.11",
          "state": {
            "_cursor": "default",
            "_data_url": "data:image/png;base64,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",
            "_dom_classes": [],
            "_figure_label": "Figure 2",
            "_image_mode": "full",
            "_message": "",
            "_model_module": "jupyter-matplotlib",
            "_model_module_version": "^0.11",
            "_model_name": "MPLCanvasModel",
            "_rubberband_height": 0,
            "_rubberband_width": 0,
            "_rubberband_x": 0,
            "_rubberband_y": 0,
            "_size": [
              400,
              400
            ],
            "_view_count": null,
            "_view_module": "jupyter-matplotlib",
            "_view_module_version": "^0.11",
            "_view_name": "MPLCanvasView",
            "capture_scroll": false,
            "footer_visible": false,
            "header_visible": false,
            "layout": "IPY_MODEL_61a32b09de174a49989ded9723260d7b",
            "pan_zoom_throttle": 33,
            "resizable": false,
            "toolbar": "IPY_MODEL_8cbf7ead2b354eb2851a0c8e2976f7d0",
            "toolbar_position": "left",
            "toolbar_visible": false
          }
        },
        "db8dc02bbdf54139a592dfbd6820a8f6": {
          "model_module": "@jupyter-widgets/output",
          "model_name": "OutputModel",
          "model_module_version": "1.0.0",
          "state": {
            "_dom_classes": [],
            "_model_module": "@jupyter-widgets/output",
            "_model_module_version": "1.0.0",
            "_model_name": "OutputModel",
            "_view_count": null,
            "_view_module": "@jupyter-widgets/output",
            "_view_module_version": "1.0.0",
            "_view_name": "OutputView",
            "layout": "IPY_MODEL_2d937337db034ac49707b8c66e9500d0",
            "msg_id": "",
            "outputs": []
          }
        },
        "0a97c89bf9664b92ac26dc01b37767be": {
          "model_module": "@jupyter-widgets/base",
          "model_name": "LayoutModel",
          "model_module_version": "1.2.0",
          "state": {
            "_model_module": "@jupyter-widgets/base",
            "_model_module_version": "1.2.0",
            "_model_name": "LayoutModel",
            "_view_count": null,
            "_view_module": "@jupyter-widgets/base",
            "_view_module_version": "1.2.0",
            "_view_name": "LayoutView",
            "align_content": null,
            "align_items": null,
            "align_self": null,
            "border": null,
            "bottom": null,
            "display": null,
            "flex": null,
            "flex_flow": null,
            "grid_area": null,
            "grid_auto_columns": null,
            "grid_auto_flow": null,
            "grid_auto_rows": null,
            "grid_column": null,
            "grid_gap": null,
            "grid_row": null,
            "grid_template_areas": null,
            "grid_template_columns": null,
            "grid_template_rows": null,
            "height": null,
            "justify_content": null,
            "justify_items": null,
            "left": null,
            "margin": null,
            "max_height": null,
            "max_width": null,
            "min_height": null,
            "min_width": null,
            "object_fit": null,
            "object_position": null,
            "order": null,
            "overflow": null,
            "overflow_x": null,
            "overflow_y": null,
            "padding": null,
            "right": null,
            "top": null,
            "visibility": null,
            "width": null
          }
        },
        "722dcd703e6a44b9bead3359f838ea9a": {
          "model_module": "jupyter-matplotlib",
          "model_name": "MPLCanvasModel",
          "model_module_version": "^0.11",
          "state": {
            "_cursor": "default",
            "_data_url": "data:image/png;base64,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",
            "_dom_classes": [],
            "_figure_label": "Figure 1",
            "_image_mode": "full",
            "_message": "",
            "_model_module": "jupyter-matplotlib",
            "_model_module_version": "^0.11",
            "_model_name": "MPLCanvasModel",
            "_rubberband_height": 0,
            "_rubberband_width": 0,
            "_rubberband_x": 0,
            "_rubberband_y": 0,
            "_size": [
              400,
              400
            ],
            "_view_count": null,
            "_view_module": "jupyter-matplotlib",
            "_view_module_version": "^0.11",
            "_view_name": "MPLCanvasView",
            "capture_scroll": false,
            "footer_visible": false,
            "header_visible": false,
            "layout": "IPY_MODEL_7c60352465934eea94bf272a68f15f52",
            "pan_zoom_throttle": 33,
            "resizable": false,
            "toolbar": "IPY_MODEL_5c62d2463a714f189685b905c04936a2",
            "toolbar_position": "left",
            "toolbar_visible": false
          }
        },
        "8e92a2b349e445a987181b0e8d930b44": {
          "model_module": "@jupyter-widgets/controls",
          "model_name": "HBoxModel",
          "model_module_version": "1.5.0",
          "state": {
            "_dom_classes": [],
            "_model_module": "@jupyter-widgets/controls",
            "_model_module_version": "1.5.0",
            "_model_name": "HBoxModel",
            "_view_count": null,
            "_view_module": "@jupyter-widgets/controls",
            "_view_module_version": "1.5.0",
            "_view_name": "HBoxView",
            "box_style": "",
            "children": [
              "IPY_MODEL_80aff85bb2204a31b9a00832bed52a55",
              "IPY_MODEL_1a6cac72c7134abe87199afe87457d49"
            ],
            "layout": "IPY_MODEL_2a6396ae69b14150b8bff8f9acaa6975"
          }
        },
        "61aebf8ebf254c78ba0bbbaa10671479": {
          "model_module": "@jupyter-widgets/base",
          "model_name": "LayoutModel",
          "model_module_version": "1.2.0",
          "state": {
            "_model_module": "@jupyter-widgets/base",
            "_model_module_version": "1.2.0",
            "_model_name": "LayoutModel",
            "_view_count": null,
            "_view_module": "@jupyter-widgets/base",
            "_view_module_version": "1.2.0",
            "_view_name": "LayoutView",
            "align_content": null,
            "align_items": null,
            "align_self": null,
            "border": null,
            "bottom": null,
            "display": null,
            "flex": null,
            "flex_flow": null,
            "grid_area": null,
            "grid_auto_columns": null,
            "grid_auto_flow": null,
            "grid_auto_rows": null,
            "grid_column": null,
            "grid_gap": null,
            "grid_row": null,
            "grid_template_areas": null,
            "grid_template_columns": null,
            "grid_template_rows": null,
            "height": null,
            "justify_content": null,
            "justify_items": null,
            "left": null,
            "margin": null,
            "max_height": null,
            "max_width": null,
            "min_height": null,
            "min_width": null,
            "object_fit": null,
            "object_position": null,
            "order": null,
            "overflow": null,
            "overflow_x": null,
            "overflow_y": null,
            "padding": null,
            "right": null,
            "top": null,
            "visibility": null,
            "width": null
          }
        },
        "54a459b666cf4c0e87b730d8859cb93b": {
          "model_module": "@jupyter-widgets/base",
          "model_name": "LayoutModel",
          "model_module_version": "1.2.0",
          "state": {
            "_model_module": "@jupyter-widgets/base",
            "_model_module_version": "1.2.0",
            "_model_name": "LayoutModel",
            "_view_count": null,
            "_view_module": "@jupyter-widgets/base",
            "_view_module_version": "1.2.0",
            "_view_name": "LayoutView",
            "align_content": null,
            "align_items": null,
            "align_self": null,
            "border": null,
            "bottom": null,
            "display": null,
            "flex": null,
            "flex_flow": null,
            "grid_area": null,
            "grid_auto_columns": null,
            "grid_auto_flow": null,
            "grid_auto_rows": null,
            "grid_column": null,
            "grid_gap": null,
            "grid_row": null,
            "grid_template_areas": null,
            "grid_template_columns": null,
            "grid_template_rows": null,
            "height": null,
            "justify_content": null,
            "justify_items": null,
            "left": null,
            "margin": null,
            "max_height": null,
            "max_width": null,
            "min_height": null,
            "min_width": null,
            "object_fit": null,
            "object_position": null,
            "order": null,
            "overflow": null,
            "overflow_x": null,
            "overflow_y": null,
            "padding": null,
            "right": null,
            "top": null,
            "visibility": null,
            "width": null
          }
        },
        "2d937337db034ac49707b8c66e9500d0": {
          "model_module": "@jupyter-widgets/base",
          "model_name": "LayoutModel",
          "model_module_version": "1.2.0",
          "state": {
            "_model_module": "@jupyter-widgets/base",
            "_model_module_version": "1.2.0",
            "_model_name": "LayoutModel",
            "_view_count": null,
            "_view_module": "@jupyter-widgets/base",
            "_view_module_version": "1.2.0",
            "_view_name": "LayoutView",
            "align_content": null,
            "align_items": null,
            "align_self": null,
            "border": null,
            "bottom": null,
            "display": null,
            "flex": null,
            "flex_flow": null,
            "grid_area": null,
            "grid_auto_columns": null,
            "grid_auto_flow": null,
            "grid_auto_rows": null,
            "grid_column": null,
            "grid_gap": null,
            "grid_row": null,
            "grid_template_areas": null,
            "grid_template_columns": null,
            "grid_template_rows": null,
            "height": null,
            "justify_content": null,
            "justify_items": null,
            "left": null,
            "margin": null,
            "max_height": null,
            "max_width": null,
            "min_height": null,
            "min_width": null,
            "object_fit": null,
            "object_position": null,
            "order": null,
            "overflow": null,
            "overflow_x": null,
            "overflow_y": null,
            "padding": null,
            "right": null,
            "top": null,
            "visibility": null,
            "width": null
          }
        },
        "80aff85bb2204a31b9a00832bed52a55": {
          "model_module": "@jupyter-widgets/controls",
          "model_name": "ButtonModel",
          "model_module_version": "1.5.0",
          "state": {
            "_dom_classes": [],
            "_model_module": "@jupyter-widgets/controls",
            "_model_module_version": "1.5.0",
            "_model_name": "ButtonModel",
            "_view_count": null,
            "_view_module": "@jupyter-widgets/controls",
            "_view_module_version": "1.5.0",
            "_view_name": "ButtonView",
            "button_style": "",
            "description": "Strike",
            "disabled": false,
            "icon": "",
            "layout": "IPY_MODEL_28b2da7fcb934488b3eccbcc8ea8519e",
            "style": "IPY_MODEL_d6b0090d58b9450093b713e5fecfb309",
            "tooltip": ""
          }
        },
        "1a6cac72c7134abe87199afe87457d49": {
          "model_module": "@jupyter-widgets/controls",
          "model_name": "ButtonModel",
          "model_module_version": "1.5.0",
          "state": {
            "_dom_classes": [],
            "_model_module": "@jupyter-widgets/controls",
            "_model_module_version": "1.5.0",
            "_model_name": "ButtonModel",
            "_view_count": null,
            "_view_module": "@jupyter-widgets/controls",
            "_view_module_version": "1.5.0",
            "_view_name": "ButtonView",
            "button_style": "",
            "description": "No Strike",
            "disabled": false,
            "icon": "",
            "layout": "IPY_MODEL_c928beee679944c3ac086778851a7694",
            "style": "IPY_MODEL_10059b61493940be80f9f1f4a8beace2",
            "tooltip": ""
          }
        },
        "2a6396ae69b14150b8bff8f9acaa6975": {
          "model_module": "@jupyter-widgets/base",
          "model_name": "LayoutModel",
          "model_module_version": "1.2.0",
          "state": {
            "_model_module": "@jupyter-widgets/base",
            "_model_module_version": "1.2.0",
            "_model_name": "LayoutModel",
            "_view_count": null,
            "_view_module": "@jupyter-widgets/base",
            "_view_module_version": "1.2.0",
            "_view_name": "LayoutView",
            "align_content": null,
            "align_items": null,
            "align_self": null,
            "border": null,
            "bottom": null,
            "display": null,
            "flex": null,
            "flex_flow": null,
            "grid_area": null,
            "grid_auto_columns": null,
            "grid_auto_flow": null,
            "grid_auto_rows": null,
            "grid_column": null,
            "grid_gap": null,
            "grid_row": null,
            "grid_template_areas": null,
            "grid_template_columns": null,
            "grid_template_rows": null,
            "height": null,
            "justify_content": null,
            "justify_items": null,
            "left": null,
            "margin": null,
            "max_height": null,
            "max_width": null,
            "min_height": null,
            "min_width": null,
            "object_fit": null,
            "object_position": null,
            "order": null,
            "overflow": null,
            "overflow_x": null,
            "overflow_y": null,
            "padding": null,
            "right": null,
            "top": null,
            "visibility": null,
            "width": null
          }
        },
        "28b2da7fcb934488b3eccbcc8ea8519e": {
          "model_module": "@jupyter-widgets/base",
          "model_name": "LayoutModel",
          "model_module_version": "1.2.0",
          "state": {
            "_model_module": "@jupyter-widgets/base",
            "_model_module_version": "1.2.0",
            "_model_name": "LayoutModel",
            "_view_count": null,
            "_view_module": "@jupyter-widgets/base",
            "_view_module_version": "1.2.0",
            "_view_name": "LayoutView",
            "align_content": null,
            "align_items": null,
            "align_self": null,
            "border": null,
            "bottom": null,
            "display": null,
            "flex": null,
            "flex_flow": null,
            "grid_area": null,
            "grid_auto_columns": null,
            "grid_auto_flow": null,
            "grid_auto_rows": null,
            "grid_column": null,
            "grid_gap": null,
            "grid_row": null,
            "grid_template_areas": null,
            "grid_template_columns": null,
            "grid_template_rows": null,
            "height": null,
            "justify_content": null,
            "justify_items": null,
            "left": null,
            "margin": null,
            "max_height": null,
            "max_width": null,
            "min_height": null,
            "min_width": null,
            "object_fit": null,
            "object_position": null,
            "order": null,
            "overflow": null,
            "overflow_x": null,
            "overflow_y": null,
            "padding": null,
            "right": null,
            "top": null,
            "visibility": null,
            "width": null
          }
        },
        "d6b0090d58b9450093b713e5fecfb309": {
          "model_module": "@jupyter-widgets/controls",
          "model_name": "ButtonStyleModel",
          "model_module_version": "1.5.0",
          "state": {
            "_model_module": "@jupyter-widgets/controls",
            "_model_module_version": "1.5.0",
            "_model_name": "ButtonStyleModel",
            "_view_count": null,
            "_view_module": "@jupyter-widgets/base",
            "_view_module_version": "1.2.0",
            "_view_name": "StyleView",
            "button_color": null,
            "font_weight": ""
          }
        },
        "c928beee679944c3ac086778851a7694": {
          "model_module": "@jupyter-widgets/base",
          "model_name": "LayoutModel",
          "model_module_version": "1.2.0",
          "state": {
            "_model_module": "@jupyter-widgets/base",
            "_model_module_version": "1.2.0",
            "_model_name": "LayoutModel",
            "_view_count": null,
            "_view_module": "@jupyter-widgets/base",
            "_view_module_version": "1.2.0",
            "_view_name": "LayoutView",
            "align_content": null,
            "align_items": null,
            "align_self": null,
            "border": null,
            "bottom": null,
            "display": null,
            "flex": null,
            "flex_flow": null,
            "grid_area": null,
            "grid_auto_columns": null,
            "grid_auto_flow": null,
            "grid_auto_rows": null,
            "grid_column": null,
            "grid_gap": null,
            "grid_row": null,
            "grid_template_areas": null,
            "grid_template_columns": null,
            "grid_template_rows": null,
            "height": null,
            "justify_content": null,
            "justify_items": null,
            "left": null,
            "margin": null,
            "max_height": null,
            "max_width": null,
            "min_height": null,
            "min_width": null,
            "object_fit": null,
            "object_position": null,
            "order": null,
            "overflow": null,
            "overflow_x": null,
            "overflow_y": null,
            "padding": null,
            "right": null,
            "top": null,
            "visibility": null,
            "width": null
          }
        },
        "10059b61493940be80f9f1f4a8beace2": {
          "model_module": "@jupyter-widgets/controls",
          "model_name": "ButtonStyleModel",
          "model_module_version": "1.5.0",
          "state": {
            "_model_module": "@jupyter-widgets/controls",
            "_model_module_version": "1.5.0",
            "_model_name": "ButtonStyleModel",
            "_view_count": null,
            "_view_module": "@jupyter-widgets/base",
            "_view_module_version": "1.2.0",
            "_view_name": "StyleView",
            "button_color": null,
            "font_weight": ""
          }
        },
        "61a32b09de174a49989ded9723260d7b": {
          "model_module": "@jupyter-widgets/base",
          "model_name": "LayoutModel",
          "model_module_version": "1.2.0",
          "state": {
            "_model_module": "@jupyter-widgets/base",
            "_model_module_version": "1.2.0",
            "_model_name": "LayoutModel",
            "_view_count": null,
            "_view_module": "@jupyter-widgets/base",
            "_view_module_version": "1.2.0",
            "_view_name": "LayoutView",
            "align_content": null,
            "align_items": null,
            "align_self": null,
            "border": null,
            "bottom": null,
            "display": null,
            "flex": null,
            "flex_flow": null,
            "grid_area": null,
            "grid_auto_columns": null,
            "grid_auto_flow": null,
            "grid_auto_rows": null,
            "grid_column": null,
            "grid_gap": null,
            "grid_row": null,
            "grid_template_areas": null,
            "grid_template_columns": null,
            "grid_template_rows": null,
            "height": null,
            "justify_content": null,
            "justify_items": null,
            "left": null,
            "margin": null,
            "max_height": null,
            "max_width": null,
            "min_height": null,
            "min_width": null,
            "object_fit": null,
            "object_position": null,
            "order": null,
            "overflow": null,
            "overflow_x": null,
            "overflow_y": null,
            "padding": null,
            "right": null,
            "top": null,
            "visibility": null,
            "width": null
          }
        },
        "8cbf7ead2b354eb2851a0c8e2976f7d0": {
          "model_module": "jupyter-matplotlib",
          "model_name": "ToolbarModel",
          "model_module_version": "^0.11",
          "state": {
            "_current_action": "",
            "_dom_classes": [],
            "_model_module": "jupyter-matplotlib",
            "_model_module_version": "^0.11",
            "_model_name": "ToolbarModel",
            "_view_count": null,
            "_view_module": "jupyter-matplotlib",
            "_view_module_version": "^0.11",
            "_view_name": "ToolbarView",
            "button_style": "",
            "collapsed": true,
            "layout": "IPY_MODEL_faa55eea47e549fcb50f0a2affbe3c40",
            "orientation": "vertical",
            "toolitems": [
              [
                "Home",
                "Reset original view",
                "home",
                "home"
              ],
              [
                "Back",
                "Back to previous view",
                "arrow-left",
                "back"
              ],
              [
                "Forward",
                "Forward to next view",
                "arrow-right",
                "forward"
              ],
              [
                "Pan",
                "Left button pans, Right button zooms\nx/y fixes axis, CTRL fixes aspect",
                "arrows",
                "pan"
              ],
              [
                "Zoom",
                "Zoom to rectangle\nx/y fixes axis",
                "square-o",
                "zoom"
              ],
              [
                "Download",
                "Download plot",
                "floppy-o",
                "save_figure"
              ]
            ]
          }
        },
        "7c60352465934eea94bf272a68f15f52": {
          "model_module": "@jupyter-widgets/base",
          "model_name": "LayoutModel",
          "model_module_version": "1.2.0",
          "state": {
            "_model_module": "@jupyter-widgets/base",
            "_model_module_version": "1.2.0",
            "_model_name": "LayoutModel",
            "_view_count": null,
            "_view_module": "@jupyter-widgets/base",
            "_view_module_version": "1.2.0",
            "_view_name": "LayoutView",
            "align_content": null,
            "align_items": null,
            "align_self": null,
            "border": null,
            "bottom": null,
            "display": null,
            "flex": null,
            "flex_flow": null,
            "grid_area": null,
            "grid_auto_columns": null,
            "grid_auto_flow": null,
            "grid_auto_rows": null,
            "grid_column": null,
            "grid_gap": null,
            "grid_row": null,
            "grid_template_areas": null,
            "grid_template_columns": null,
            "grid_template_rows": null,
            "height": null,
            "justify_content": null,
            "justify_items": null,
            "left": null,
            "margin": null,
            "max_height": null,
            "max_width": null,
            "min_height": null,
            "min_width": null,
            "object_fit": null,
            "object_position": null,
            "order": null,
            "overflow": null,
            "overflow_x": null,
            "overflow_y": null,
            "padding": null,
            "right": null,
            "top": null,
            "visibility": null,
            "width": null
          }
        },
        "5c62d2463a714f189685b905c04936a2": {
          "model_module": "jupyter-matplotlib",
          "model_name": "ToolbarModel",
          "model_module_version": "^0.11",
          "state": {
            "_current_action": "",
            "_dom_classes": [],
            "_model_module": "jupyter-matplotlib",
            "_model_module_version": "^0.11",
            "_model_name": "ToolbarModel",
            "_view_count": null,
            "_view_module": "jupyter-matplotlib",
            "_view_module_version": "^0.11",
            "_view_name": "ToolbarView",
            "button_style": "",
            "collapsed": true,
            "layout": "IPY_MODEL_8564f8ff202749bc85fc6700d2ca37b4",
            "orientation": "vertical",
            "toolitems": [
              [
                "Home",
                "Reset original view",
                "home",
                "home"
              ],
              [
                "Back",
                "Back to previous view",
                "arrow-left",
                "back"
              ],
              [
                "Forward",
                "Forward to next view",
                "arrow-right",
                "forward"
              ],
              [
                "Pan",
                "Left button pans, Right button zooms\nx/y fixes axis, CTRL fixes aspect",
                "arrows",
                "pan"
              ],
              [
                "Zoom",
                "Zoom to rectangle\nx/y fixes axis",
                "square-o",
                "zoom"
              ],
              [
                "Download",
                "Download plot",
                "floppy-o",
                "save_figure"
              ]
            ]
          }
        },
        "faa55eea47e549fcb50f0a2affbe3c40": {
          "model_module": "@jupyter-widgets/base",
          "model_name": "LayoutModel",
          "model_module_version": "1.2.0",
          "state": {
            "_model_module": "@jupyter-widgets/base",
            "_model_module_version": "1.2.0",
            "_model_name": "LayoutModel",
            "_view_count": null,
            "_view_module": "@jupyter-widgets/base",
            "_view_module_version": "1.2.0",
            "_view_name": "LayoutView",
            "align_content": null,
            "align_items": null,
            "align_self": null,
            "border": null,
            "bottom": null,
            "display": null,
            "flex": null,
            "flex_flow": null,
            "grid_area": null,
            "grid_auto_columns": null,
            "grid_auto_flow": null,
            "grid_auto_rows": null,
            "grid_column": null,
            "grid_gap": null,
            "grid_row": null,
            "grid_template_areas": null,
            "grid_template_columns": null,
            "grid_template_rows": null,
            "height": null,
            "justify_content": null,
            "justify_items": null,
            "left": null,
            "margin": null,
            "max_height": null,
            "max_width": null,
            "min_height": null,
            "min_width": null,
            "object_fit": null,
            "object_position": null,
            "order": null,
            "overflow": null,
            "overflow_x": null,
            "overflow_y": null,
            "padding": null,
            "right": null,
            "top": null,
            "visibility": null,
            "width": null
          }
        },
        "8564f8ff202749bc85fc6700d2ca37b4": {
          "model_module": "@jupyter-widgets/base",
          "model_name": "LayoutModel",
          "model_module_version": "1.2.0",
          "state": {
            "_model_module": "@jupyter-widgets/base",
            "_model_module_version": "1.2.0",
            "_model_name": "LayoutModel",
            "_view_count": null,
            "_view_module": "@jupyter-widgets/base",
            "_view_module_version": "1.2.0",
            "_view_name": "LayoutView",
            "align_content": null,
            "align_items": null,
            "align_self": null,
            "border": null,
            "bottom": null,
            "display": null,
            "flex": null,
            "flex_flow": null,
            "grid_area": null,
            "grid_auto_columns": null,
            "grid_auto_flow": null,
            "grid_auto_rows": null,
            "grid_column": null,
            "grid_gap": null,
            "grid_row": null,
            "grid_template_areas": null,
            "grid_template_columns": null,
            "grid_template_rows": null,
            "height": null,
            "justify_content": null,
            "justify_items": null,
            "left": null,
            "margin": null,
            "max_height": null,
            "max_width": null,
            "min_height": null,
            "min_width": null,
            "object_fit": null,
            "object_position": null,
            "order": null,
            "overflow": null,
            "overflow_x": null,
            "overflow_y": null,
            "padding": null,
            "right": null,
            "top": null,
            "visibility": null,
            "width": null
          }
        },
        "4e22068fffe347958f753f50c8438a11": {
          "model_module": "jupyter-matplotlib",
          "model_name": "MPLCanvasModel",
          "model_module_version": "^0.11",
          "state": {
            "_cursor": "default",
            "_data_url": "data:image/png;base64,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",
            "_dom_classes": [],
            "_figure_label": "Figure 3",
            "_image_mode": "full",
            "_message": "",
            "_model_module": "jupyter-matplotlib",
            "_model_module_version": "^0.11",
            "_model_name": "MPLCanvasModel",
            "_rubberband_height": 0,
            "_rubberband_width": 0,
            "_rubberband_x": 0,
            "_rubberband_y": 0,
            "_size": [
              400,
              400
            ],
            "_view_count": null,
            "_view_module": "jupyter-matplotlib",
            "_view_module_version": "^0.11",
            "_view_name": "MPLCanvasView",
            "capture_scroll": false,
            "footer_visible": false,
            "header_visible": false,
            "layout": "IPY_MODEL_4015c514563548cd889d56a21d3003c9",
            "pan_zoom_throttle": 33,
            "resizable": false,
            "toolbar": "IPY_MODEL_4ac915526d754be887c754a9bcb9872d",
            "toolbar_position": "left",
            "toolbar_visible": false
          }
        },
        "4015c514563548cd889d56a21d3003c9": {
          "model_module": "@jupyter-widgets/base",
          "model_name": "LayoutModel",
          "model_module_version": "1.2.0",
          "state": {
            "_model_module": "@jupyter-widgets/base",
            "_model_module_version": "1.2.0",
            "_model_name": "LayoutModel",
            "_view_count": null,
            "_view_module": "@jupyter-widgets/base",
            "_view_module_version": "1.2.0",
            "_view_name": "LayoutView",
            "align_content": null,
            "align_items": null,
            "align_self": null,
            "border": null,
            "bottom": null,
            "display": null,
            "flex": null,
            "flex_flow": null,
            "grid_area": null,
            "grid_auto_columns": null,
            "grid_auto_flow": null,
            "grid_auto_rows": null,
            "grid_column": null,
            "grid_gap": null,
            "grid_row": null,
            "grid_template_areas": null,
            "grid_template_columns": null,
            "grid_template_rows": null,
            "height": null,
            "justify_content": null,
            "justify_items": null,
            "left": null,
            "margin": null,
            "max_height": null,
            "max_width": null,
            "min_height": null,
            "min_width": null,
            "object_fit": null,
            "object_position": null,
            "order": null,
            "overflow": null,
            "overflow_x": null,
            "overflow_y": null,
            "padding": null,
            "right": null,
            "top": null,
            "visibility": null,
            "width": null
          }
        },
        "4ac915526d754be887c754a9bcb9872d": {
          "model_module": "jupyter-matplotlib",
          "model_name": "ToolbarModel",
          "model_module_version": "^0.11",
          "state": {
            "_current_action": "",
            "_dom_classes": [],
            "_model_module": "jupyter-matplotlib",
            "_model_module_version": "^0.11",
            "_model_name": "ToolbarModel",
            "_view_count": null,
            "_view_module": "jupyter-matplotlib",
            "_view_module_version": "^0.11",
            "_view_name": "ToolbarView",
            "button_style": "",
            "collapsed": true,
            "layout": "IPY_MODEL_9863a0864c2b443db9ed9f1b7ec82c0c",
            "orientation": "vertical",
            "toolitems": [
              [
                "Home",
                "Reset original view",
                "home",
                "home"
              ],
              [
                "Back",
                "Back to previous view",
                "arrow-left",
                "back"
              ],
              [
                "Forward",
                "Forward to next view",
                "arrow-right",
                "forward"
              ],
              [
                "Pan",
                "Left button pans, Right button zooms\nx/y fixes axis, CTRL fixes aspect",
                "arrows",
                "pan"
              ],
              [
                "Zoom",
                "Zoom to rectangle\nx/y fixes axis",
                "square-o",
                "zoom"
              ],
              [
                "Download",
                "Download plot",
                "floppy-o",
                "save_figure"
              ]
            ]
          }
        },
        "9863a0864c2b443db9ed9f1b7ec82c0c": {
          "model_module": "@jupyter-widgets/base",
          "model_name": "LayoutModel",
          "model_module_version": "1.2.0",
          "state": {
            "_model_module": "@jupyter-widgets/base",
            "_model_module_version": "1.2.0",
            "_model_name": "LayoutModel",
            "_view_count": null,
            "_view_module": "@jupyter-widgets/base",
            "_view_module_version": "1.2.0",
            "_view_name": "LayoutView",
            "align_content": null,
            "align_items": null,
            "align_self": null,
            "border": null,
            "bottom": null,
            "display": null,
            "flex": null,
            "flex_flow": null,
            "grid_area": null,
            "grid_auto_columns": null,
            "grid_auto_flow": null,
            "grid_auto_rows": null,
            "grid_column": null,
            "grid_gap": null,
            "grid_row": null,
            "grid_template_areas": null,
            "grid_template_columns": null,
            "grid_template_rows": null,
            "height": null,
            "justify_content": null,
            "justify_items": null,
            "left": null,
            "margin": null,
            "max_height": null,
            "max_width": null,
            "min_height": null,
            "min_width": null,
            "object_fit": null,
            "object_position": null,
            "order": null,
            "overflow": null,
            "overflow_x": null,
            "overflow_y": null,
            "padding": null,
            "right": null,
            "top": null,
            "visibility": null,
            "width": null
          }
        },
        "cbe07ce7c9ea4f1abd945671f2cca12a": {
          "model_module": "jupyter-matplotlib",
          "model_name": "MPLCanvasModel",
          "model_module_version": "^0.11",
          "state": {
            "_cursor": "default",
            "_data_url": "data:image/png;base64,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",
            "_dom_classes": [],
            "_figure_label": "Figure 3",
            "_image_mode": "full",
            "_message": "x=−3.4 y=59.8",
            "_model_module": "jupyter-matplotlib",
            "_model_module_version": "^0.11",
            "_model_name": "MPLCanvasModel",
            "_rubberband_height": 0,
            "_rubberband_width": 0,
            "_rubberband_x": 0,
            "_rubberband_y": 0,
            "_size": [
              1000,
              600
            ],
            "_view_count": null,
            "_view_module": "jupyter-matplotlib",
            "_view_module_version": "^0.11",
            "_view_name": "MPLCanvasView",
            "capture_scroll": false,
            "footer_visible": false,
            "header_visible": false,
            "layout": "IPY_MODEL_52e9106ded04411f83acec8f9267171e",
            "pan_zoom_throttle": 33,
            "resizable": false,
            "toolbar": "IPY_MODEL_31dbebd7f6b846fba2431f7e750b4313",
            "toolbar_position": "left",
            "toolbar_visible": false
          }
        },
        "52e9106ded04411f83acec8f9267171e": {
          "model_module": "@jupyter-widgets/base",
          "model_name": "LayoutModel",
          "model_module_version": "1.2.0",
          "state": {
            "_model_module": "@jupyter-widgets/base",
            "_model_module_version": "1.2.0",
            "_model_name": "LayoutModel",
            "_view_count": null,
            "_view_module": "@jupyter-widgets/base",
            "_view_module_version": "1.2.0",
            "_view_name": "LayoutView",
            "align_content": null,
            "align_items": null,
            "align_self": null,
            "border": null,
            "bottom": null,
            "display": null,
            "flex": null,
            "flex_flow": null,
            "grid_area": null,
            "grid_auto_columns": null,
            "grid_auto_flow": null,
            "grid_auto_rows": null,
            "grid_column": null,
            "grid_gap": null,
            "grid_row": null,
            "grid_template_areas": null,
            "grid_template_columns": null,
            "grid_template_rows": null,
            "height": null,
            "justify_content": null,
            "justify_items": null,
            "left": null,
            "margin": null,
            "max_height": null,
            "max_width": null,
            "min_height": null,
            "min_width": null,
            "object_fit": null,
            "object_position": null,
            "order": null,
            "overflow": null,
            "overflow_x": null,
            "overflow_y": null,
            "padding": null,
            "right": null,
            "top": null,
            "visibility": null,
            "width": null
          }
        },
        "31dbebd7f6b846fba2431f7e750b4313": {
          "model_module": "jupyter-matplotlib",
          "model_name": "ToolbarModel",
          "model_module_version": "^0.11",
          "state": {
            "_current_action": "",
            "_dom_classes": [],
            "_model_module": "jupyter-matplotlib",
            "_model_module_version": "^0.11",
            "_model_name": "ToolbarModel",
            "_view_count": null,
            "_view_module": "jupyter-matplotlib",
            "_view_module_version": "^0.11",
            "_view_name": "ToolbarView",
            "button_style": "",
            "collapsed": true,
            "layout": "IPY_MODEL_a36d1b69b85841abbc45ae5dadb05c10",
            "orientation": "vertical",
            "toolitems": [
              [
                "Home",
                "Reset original view",
                "home",
                "home"
              ],
              [
                "Back",
                "Back to previous view",
                "arrow-left",
                "back"
              ],
              [
                "Forward",
                "Forward to next view",
                "arrow-right",
                "forward"
              ],
              [
                "Pan",
                "Left button pans, Right button zooms\nx/y fixes axis, CTRL fixes aspect",
                "arrows",
                "pan"
              ],
              [
                "Zoom",
                "Zoom to rectangle\nx/y fixes axis",
                "square-o",
                "zoom"
              ],
              [
                "Download",
                "Download plot",
                "floppy-o",
                "save_figure"
              ]
            ]
          }
        },
        "a36d1b69b85841abbc45ae5dadb05c10": {
          "model_module": "@jupyter-widgets/base",
          "model_name": "LayoutModel",
          "model_module_version": "1.2.0",
          "state": {
            "_model_module": "@jupyter-widgets/base",
            "_model_module_version": "1.2.0",
            "_model_name": "LayoutModel",
            "_view_count": null,
            "_view_module": "@jupyter-widgets/base",
            "_view_module_version": "1.2.0",
            "_view_name": "LayoutView",
            "align_content": null,
            "align_items": null,
            "align_self": null,
            "border": null,
            "bottom": null,
            "display": null,
            "flex": null,
            "flex_flow": null,
            "grid_area": null,
            "grid_auto_columns": null,
            "grid_auto_flow": null,
            "grid_auto_rows": null,
            "grid_column": null,
            "grid_gap": null,
            "grid_row": null,
            "grid_template_areas": null,
            "grid_template_columns": null,
            "grid_template_rows": null,
            "height": null,
            "justify_content": null,
            "justify_items": null,
            "left": null,
            "margin": null,
            "max_height": null,
            "max_width": null,
            "min_height": null,
            "min_width": null,
            "object_fit": null,
            "object_position": null,
            "order": null,
            "overflow": null,
            "overflow_x": null,
            "overflow_y": null,
            "padding": null,
            "right": null,
            "top": null,
            "visibility": null,
            "width": null
          }
        }
      }
    }
  },
  "nbformat": 4,
  "nbformat_minor": 0
}