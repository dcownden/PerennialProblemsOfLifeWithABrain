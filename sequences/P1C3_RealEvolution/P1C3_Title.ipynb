{
  "cells": [
    {
      "cell_type": "markdown",
      "metadata": {
        "id": "view-in-github",
        "colab_type": "text"
      },
      "source": [
        "<a href=\"https://colab.research.google.com/github/dcownden/PerennialProblemsOfLifeWithABrain/blob/toc-cleanup-p1c3/sequences/P1C3_RealEvolution/P1C3_Title.ipynb\" target=\"_parent\"><img src=\"https://colab.research.google.com/assets/colab-badge.svg\" alt=\"Open In Colab\"/></a>"
      ]
    },
    {
      "cell_type": "markdown",
      "metadata": {
        "execution": {},
        "id": "lu3LkIxYDc-V"
      },
      "source": [
        "The following is part of a test for an upcoming text book on computational neuroscience from an optimization and learning perspective. The book will start with evolution because ultimately, all aspects of the brain are shaped by evolution and, as we will see, evolution can also be seen as an optimization algorithm. We are sharing it now to get feedback on what works and what does not and the developments we should do."
      ]
    },
    {
      "cell_type": "markdown",
      "metadata": {
        "execution": {},
        "id": "7iKeIl17Dc-X"
      },
      "source": [
        "___\n",
        "# Chapter 1.3 Real Evolution\n",
        "\n",
        "### Objective:\n",
        "In the previous chapters we learned to describe and think about behaviour as a policy, to evaluate an organism's behaviour relative to the goals implied by its environmental niche, and to use a variety of optimization algorithms to improve an organisms behaviour relative to its niche, i.e. to adapt the behaviour to the environment. In this next chapter we are going to look at how evolutionary processes, i.e. natural selection for survivability and reproduction, provide a powerful framework for understanding much of the observable universe, neuroscience included!\n",
        "\n",
        "You will learn:\n",
        "*   What an evolutionary process is and how it provides a structure for answering fundamental why questions. Primarily question about why we observe the world in this one state and not another.\n",
        "*   What evolutionary processes are - selection applied to variation in a population - and how they are a form of optimization.\n",
        "*   Why sex is so important.\n",
        "*   How competition and interaction complicate optimization. Optimization in a strict sense does not directly apply to situations with multiple interacting organisms, each with their own goals that they are simultaneously optimizing for. Ideas from Game Theory and dynamical systems are required to do multi-organism 'optimization' the right way.\n",
        "*   How learning and evolution interact as parts of a nested optimization loop (Learning -> Inner, Evolution -> Outer), that can produce adaptive behaviour more efficiently than either process in isolation.     "
      ]
    },
    {
      "cell_type": "markdown",
      "metadata": {
        "execution": {},
        "id": "o4mBRuG1Dc-Y"
      },
      "source": [
        "### Context\n",
        "This chapter is the third of four in the first part of the book. The first part of the book is about **Behaviour, Environments and Optimization: Evolution and Learning**\n",
        "\n",
        "***Animals are adapted to their specific environments; their behaviour is best understood within the context of their evolutionary environment.***\n",
        "\n",
        "\n",
        "Part 1 of the book aims to introduce the fundamental concepts of\n",
        "* **Environment**, where an organism lives\n",
        "* **Behaviour**, what the organism does in the environment\n",
        "* **Optimization**, how learning and evolution shape an organism's behaviour to make it better suited to its environment\n",
        "\n",
        "This is the core of why we are writing this book: pretty much anything happening in the brain (and biology) can be viewed as part of a process that brings about improvement in this sense. In this first part of the book we set out this foundational perspective. Each subsequent part shows how this perspective connects insights from Machine Learning to the function of the brain in a way that can both synthesize and guide empirical neuroscience research."
      ]
    }
  ],
  "metadata": {
    "colab": {
      "name": "P1C3_Title",
      "provenance": [],
      "toc_visible": true,
      "include_colab_link": true
    },
    "kernel": {
      "display_name": "Python 3",
      "language": "python",
      "name": "python3"
    },
    "language_info": {
      "codemirror_mode": {
        "name": "ipython",
        "version": 3
      },
      "file_extension": ".py",
      "mimetype": "text/x-python",
      "name": "python",
      "nbconvert_exporter": "python",
      "pygments_lexer": "ipython3",
      "version": "3.9.18"
    }
  },
  "nbformat": 4,
  "nbformat_minor": 0
}