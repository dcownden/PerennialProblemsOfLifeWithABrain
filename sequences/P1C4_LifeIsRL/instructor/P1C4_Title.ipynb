{
 "cells": [
  {
   "cell_type": "markdown",
   "metadata": {
    "colab_type": "text",
    "execution": {},
    "id": "view-in-github"
   },
   "source": [
    "<a href=\"https://colab.research.google.com/github/dcownden/PerennialProblemsOfLifeWithABrain/blob/main/sequences/P1C4_LifeIsRL/instructor/P1C4_Title.ipynb\" target=\"_parent\"><img src=\"https://colab.research.google.com/assets/colab-badge.svg\" alt=\"Open In Colab\"/></a> &nbsp; <a href=\"https://kaggle.com/kernels/welcome?src=https://raw.githubusercontent.com/dcownden/PerennialProblemsOfLifeWithABrain/main/sequences/P1C4_LifeIsRL/instructor/P1C4_Title.ipynb\" target=\"_parent\"><img src=\"https://kaggle.com/static/images/open-in-kaggle.svg\" alt=\"Open in Kaggle\"/></a>"
   ]
  },
  {
   "cell_type": "markdown",
   "metadata": {
    "execution": {}
   },
   "source": [
    "The following is part of a test for an upcoming text book on computational neuroscience from an optimization and learning perspective. The book will start with evolution because ultimately, all aspects of the brain are shaped by evolution and, as we will see, evolution can also be seen as an optimization algorithm. We are sharing it now to get feedback on what works and what does not and the developments we should do."
   ]
  },
  {
   "cell_type": "markdown",
   "metadata": {
    "execution": {}
   },
   "source": [
    "___\n",
    "# Chapter 1.4 Life is Reinforcement Learning\n",
    "\n",
    "## Objective:\n",
    "In the previous chapters we learned to describe and think about behaviour as a policy, to evaluate an organism's behaviour relative to the goals implied by its environmental niche, to use optimization algorithms to improve an organisms behaviour relative to its niche and further looked at how the evolutionary processes can be understood as a form optimization on a population of organism's that improves the 'fittedness' of that population to its ecological niche. (Though this optimization is comlicated by the fact that the niche is also potentially evolving.) We will conclude this part of the book with a short chapter on reinforcement learning, showing how the theortical tools of Reinforcement Learning (RL), namely Partially Observable Markov Decision Process (POMDP), actually bring all these things together in one coherent framework. The last part of the book will go deeply into RL. But, we have been, and will continue to borrow from and build up to the core ideas of RL throughout the book, and now is the right time to formally introduce the theory, albeit in a very simplified context.\n"
   ]
  },
  {
   "cell_type": "markdown",
   "metadata": {
    "execution": {}
   },
   "source": [
    "This chapter is the fourth of fout in the first part of the book. The first part of the book is about\n",
    "## **Behaviour, Environments and Optimization: Evolution and Learning**\n",
    "\n",
    "***Animals are adapted to their specific environments; their behaviour is best understood within the context of their evolutionary environment.***\n",
    "\n",
    "## Objective: Part 1 of the book aims to introduce the fundamental concepts of\n",
    "* **Environment**, where an organism lives\n",
    "* **Behaviour**, what the organism does in the environment\n",
    "* **Optimization**, how learning and evolution shape an organism's behaviour to make it better suited to its environment\n",
    "\n",
    "This is the core of why we are writing this book: pretty much anything happening in the brain (and biology) can be viewed as part of a process that brings about improvement in this sense. In this first part of the book we set out this foundational perspective. Each subsequent part shows how this perspective connects insights from Machine Learning to the function of the brain in a way that can both synthesize and guide empirical neuroscience research.  "
   ]
  }
 ],
 "metadata": {
  "colab": {
   "collapsed_sections": [],
   "include_colab_link": true,
   "name": "P1C4_Title",
   "provenance": [],
   "toc_visible": true
  },
  "kernel": {
   "display_name": "Python 3",
   "language": "python",
   "name": "python3"
  },
  "language_info": {
   "codemirror_mode": {
    "name": "ipython",
    "version": 3
   },
   "file_extension": ".py",
   "mimetype": "text/x-python",
   "name": "python",
   "nbconvert_exporter": "python",
   "pygments_lexer": "ipython3",
   "version": "3.9.18"
  }
 },
 "nbformat": 4,
 "nbformat_minor": 0
}
