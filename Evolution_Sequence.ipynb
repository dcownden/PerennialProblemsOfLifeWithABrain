{
  "cells": [
    {
      "cell_type": "markdown",
      "metadata": {
        "id": "view-in-github",
        "colab_type": "text"
      },
      "source": [
        "<a href=\"https://colab.research.google.com/github/dcownden/PerennialProblemsOfLifeWithABrain/blob/main/Evolution_Sequence.ipynb\" target=\"_parent\"><img src=\"https://colab.research.google.com/assets/colab-badge.svg\" alt=\"Open In Colab\"/></a>"
      ]
    },
    {
      "cell_type": "code",
      "execution_count": null,
      "metadata": {
        "id": "-b2wR1CnojDC"
      },
      "outputs": [],
      "source": [
        "import numpy as np\n",
        "import ipywidgets as widgets\n",
        "from ipywidgets import interact, interactive\n",
        "import matplotlib.pyplot as plt"
      ]
    },
    {
      "cell_type": "markdown",
      "metadata": {
        "id": "mED-0_EXdJdo"
      },
      "source": [
        "### Motivate within lifetime learning from an evolutionary perspective\n",
        "#### Sequence Goals\n",
        "1. Develop a sense of why brains might have evolved, i.e. what problem do they solve, grounded in evolutionary thinking, i.e. fitness cost/benefit analyses, dynamical systems, generational time scales, environmental change, evolution is tracking a moving target.\n",
        "2. Build a simple evolutionary simulation that illustrates:  \n",
        "> * How evolutionary algorithms can solve a problem\n",
        "> * How within lifetime learning, in this case node perturbation, can also solve the same problem\n",
        ">* How these two processes, evolution and within lifetime learning interact synergistically, each speeding each other up and making them more robust to environmental shifts\n",
        ">* Under which conditions the somatic costs of within lifetime adaptation are \"worth it\" from a fitness perspective\n",
        "3. Big idea, but maybe this comes later contrast learning/evolution with Statistical Decision Theory, both get to the same place, but learning/evolution has simple feedback based information of the environment, whereas Statistical Decision Theory is grounded in an omnicient observer perspective, these can be somewhat reconciled, but at some point the statistical decision theory approach must formalize it's ignorance/uncertainty, whereas this is more implicit (and ignorable) in iterative feedback based approaches, good enough / best so far, versus provably the very best ever possible ever.\n"
      ]
    },
    {
      "cell_type": "markdown",
      "metadata": {
        "id": "ViZhycVtiaYo"
      },
      "source": [
        "### Test-bed creature/environment/problem \n",
        "#### Micro Unit Goals\n",
        "1. Soft intro to cost/reward functions, optimization, fitness, policy\n",
        "2. Notion that a policy is suited to (adapted to) a particular environment"
      ]
    },
    {
      "cell_type": "markdown",
      "metadata": {
        "id": "hKA9rutVnnmJ"
      },
      "source": [
        "To start consider the simplest possible creature that might need a neuron. It has a single photo-sensitive cell, connected to a single neuron. The firing of this neuron causes the muscles of creature's mouth to lunge out and strike at its prey."
      ]
    },
    {
      "cell_type": "markdown",
      "metadata": {
        "id": "Jaf5rGesyiOF"
      },
      "source": [
        "Picture of creature and \"environment\" when prey present relatively more light, when prey not present relatively less light"
      ]
    },
    {
      "cell_type": "markdown",
      "metadata": {
        "id": "xuwI4IARytYP"
      },
      "source": [
        "The distribution of light in the environment changes depending on whether or not prey is present. Based on this the creature \"decides\" whether or not to attempt to strike at the prey (if it's really there) or to lurk and conserve its energy."
      ]
    },
    {
      "cell_type": "markdown",
      "metadata": {
        "id": "woQOPMAR1IFN"
      },
      "source": [
        "If the prey is there and the creature strikes, the creature recieves a reward, but if the creature strikes and the prey is not present this wastes some energy and the creature pays a cost. Conversely, regardless of whether or not the prey is present, lurking and waiting incurs the same cost or reward. In an evolutionary context these rewards and costs can typically be thought of as increments (decrements) to the creature's fitness or the number of offspring surviving to reproductive age, but for now let's just work with more points is better."
      ]
    },
    {
      "cell_type": "markdown",
      "metadata": {
        "id": "7YSctH2Z3b12"
      },
      "source": [
        "Picture of payoff matrix (maybe replaces much or all of the the previous paragraph with picture of the payoff matrix aka tabular reward function), is this where we want to define  the reward resulting from taking action $a$ when the environment is in state $s$ is $R(s,a)$ ?"
      ]
    },
    {
      "cell_type": "markdown",
      "metadata": {
        "id": "F-ramDLn6c57"
      },
      "source": [
        "Pick a threshold for striking below and see how your creature fares."
      ]
    },
    {
      "cell_type": "code",
      "execution_count": null,
      "metadata": {
        "colab": {
          "base_uri": "https://localhost:8080/",
          "height": 424,
          "referenced_widgets": [
            "1d513a643e7b4575b31d20ff530d92b6",
            "1cd33d282b374b0a84698640cc03204b",
            "605d56e5dbe8434490e51dad13c99e01",
            "9511ddd7247f40c89d97b52024b13d05",
            "c3070786c0b94f58a6e1c5013f528e29",
            "c50484d364c0467aaa04e66a41374380",
            "08336f4bda3249cbb0fa6ea8e0a9b9ac",
            "729dd9f4a6ad48008102382c4b0be3a0",
            "1bc2b56598344316ab0fc5fab6254ab8",
            "d84a019d59c3492f8dbcab1891a90e1f",
            "de8e3598df404129b9aac7f59b7d6230",
            "96b4a31eed1b4f6cb98e48184530789d",
            "ee5a5bea8bc441278b232c423588d17c",
            "82207261109640a7acb1bb6020bd451d",
            "82a9a882a21a41289c53b5ad2db01dc8",
            "6aed912874804bad95e2ec4f5452044e",
            "694f76f5469449d39ec45721bbdcc1c1",
            "51b9e7d406584f20aadabd24ac26a545",
            "b14486c474a045cb91d0baabcde27f0d",
            "c33e753207c04ce1b9497bfef25c0ccd",
            "aeb48d8ec38d4112a40ee092f475d39b",
            "54b260f86c8a4a90ae6cc0393179838e",
            "a85a694b28a04351950c79792aaf79fd",
            "089a4a6c19e84066a3b756630f2cf0db",
            "f078fc0c4ef0455db9da29e2330ed39e",
            "8703caeac961490d927a395843557d62",
            "3d69bb4b1db24d11bbb90c98d86f1577",
            "2edd3567a962498280ca4886597edf89",
            "8e7a6c19d8f54eaba0beda7b98607b8b",
            "dc23e75a31be46eab8c35cd2ac700fe2",
            "cf7827d9a7b64340872573431af0b5f7",
            "ff7c2db970fa4ee8a1f7d21b2ebfec38",
            "a0733841b4db49a88f79a7d76fd4260a",
            "f39fb2ea64674deab6613dbedb0520bd",
            "5b8a36d5cacd49a69cf2ad4e4c59f38b"
          ]
        },
        "id": "stcz_5NHMy46",
        "outputId": "97536f2f-8e4f-4130-f2d6-a2cc665ed8b0"
      },
      "outputs": [
        {
          "data": {
            "application/vnd.jupyter.widget-view+json": {
              "model_id": "5b8a36d5cacd49a69cf2ad4e4c59f38b",
              "version_major": 2,
              "version_minor": 0
            },
            "text/plain": [
              "interactive(children=(FloatSlider(value=5.0, description='threshold', max=11.0, min=-1.0, step=0.5), FloatSlid…"
            ]
          },
          "metadata": {},
          "output_type": "display_data"
        }
      ],
      "source": [
        "@interact(threshold = (-1.0,11.0,0.5), \n",
        "          probPrey = (0.0,1.0,0.1), \n",
        "          numEpisodes = (1,200,1), \n",
        "          missCost = (-10,0,1), \n",
        "          preyReward = (0,10,1), \n",
        "          lurkCost = (-5, 5, 1),\n",
        "          preyPresent_min = (0,10, 1),\n",
        "          preyPresent_max = (0,10, 1),\n",
        "          preyAbsent_min = (0,10, 1),\n",
        "          preyAbsent_max = (0,10, 1))\n",
        "def fitness(threshold, probPrey, numEpisodes, missCost, preyReward, lurkCost, preyPresent_min, preyPresent_max, preyAbsent_min, preyAbsent_max):  \n",
        "  numFalseStrikes = 0\n",
        "  numCaptures = 0\n",
        "  numMissedOpportunities = 0\n",
        "  numGoodLurks = 0\n",
        "  \n",
        "  for ii in range(numEpisodes):\n",
        "    \n",
        "    preyPresent =  (1 == np.random.binomial(1, probPrey))\n",
        "    if preyPresent:\n",
        "      s = np.random.uniform(low=preyPresent_min, high=preyPresent_max)\n",
        "    else: # preyAbsent\n",
        "      s = np.random.uniform(low=preyAbsent_min, high=preyAbsent_max)\n",
        "    \n",
        "    def pi(s, threshold):\n",
        "      if s < threshold:\n",
        "        return 'lurk'\n",
        "      else: # s >= threshold\n",
        "        return 'strike'\n",
        "    \n",
        "    action = pi(s, threshold)\n",
        "\n",
        "    if action == 'strike' and preyPresent == True:\n",
        "      numCaptures = numCaptures + 1\n",
        "    elif action == 'strike' and preyPresent == False:\n",
        "      numFalseStrikes = numFalseStrikes + 1\n",
        "    elif action == 'lurk' and preyPresent == True:\n",
        "      numMissedOpportunities = numMissedOpportunities + 1\n",
        "    elif action == 'lurk' and preyPresent == False:\n",
        "      numGoodLurks = numGoodLurks + 1\n",
        "    else:\n",
        "      print('This should never happen, what went wrong?')\n",
        "\n",
        "\n",
        "  return({'False Strikes': numFalseStrikes,\n",
        "          'Captures': numCaptures,\n",
        "          'Missed Opportunities': numMissedOpportunities,\n",
        "          'Well Timed Lurks': numGoodLurks,\n",
        "          'Score': numFalseStrikes * missCost + numCaptures * preyReward + (numMissedOpportunities + numGoodLurks) * lurkCost})\n",
        "#figure out how to \n",
        "#1) get range selectors instead of sliders for those min, max parameters to ensure the maximums are above the minimums, \n",
        "#12 link ranges of min max parameters are such that the orientation of the threshold doesn't change, i.e. it would be better to strike below the threshold and lurk above it\n",
        "#2) how to format the labels of the sliders\n",
        "#3) how to fix all of these parameters of these and just let pi be tweaked\n",
        "#4) how to plot this nicely (distributions, threshold decision, all the false strikes, missed opportunities, well timed lurks, and captures)\n",
        "#5) output as a confusion matrix, introduce confusion matrix in a mouse over, explicitly in the text, or save for later"
      ]
    },
    {
      "cell_type": "markdown",
      "metadata": {
        "id": "UWAbKfzEU4uk"
      },
      "source": [
        "Questions For Now \n",
        "1. Leaving the environmental parameters at there initial default values of blah experiment until you have a good idea of what the optimal threshold is\n",
        "2. Set the parameters so that the creature never has False Strikes or Missed Opportunities. In this case what is true about the relative ordering of `preyPresentMin`, `preyAbsentMax,` and `threshold`.\n",
        "3. a) Set the threshold to 11, i.e. an always strike policy given the range of light intensities possible, and adjust the environmental parameters such that this always strike policy is optimal. b) Now set the threshold to -1, i.e. an always lurk policy, and adjust the environmental parameters such that this always lurk policy is optimal.\n",
        "4. What kind of environments don't require a decision based on inputs, i.e. where a policy of always strike or an always lurk is optimal? Answer (Constant environment (prey always there or never there), variable environment but differences not detactable (i.e. distribution overlap), variable environment with detactable variation but either cost of missing is so low relative to reward that better to always strike, or cost of missing is so high relative to reward that better to always lurk.\n",
        "\n",
        "Questions For Later\n",
        "1. a) Calculate the provably optimal threshold in this particular case and b) as general function of the parameters. (save this for later as an opportunity to introduce bayes rule, and statistical decision theory?)\n",
        "2. a) Given the nature of the actions and perceptions available give reasons why a threshold policy is optimal. b) What would have to be true about the distributions of light intensity in the absense/precense of prey for something other than a simple threshold policy to be the optimal policy?"
      ]
    },
    {
      "cell_type": "markdown",
      "metadata": {
        "id": "IRyD5to1quVj"
      },
      "source": [
        "### Evolutionary algorithm aka evolution simulator \n",
        "#### Micro Unit Goals\n",
        "1. Build an evolution simulator / implement an evolutionary algorithm to solve a problem\n",
        "2. Reproduction, heritable variation, selection as capital \"E\" evolution as contrasted with the unfolding or  evolution of any dynamical system\n",
        "3. Develop a sense of the time in terms of generations that it takes for the evolutionary algorithm to track the environment, and connect this to a changing environment, i.e. at what point is evolution too slow to keep up with the environment, play with shorter generations"
      ]
    },
    {
      "cell_type": "markdown",
      "metadata": {
        "id": "lq09bxE8bssK"
      },
      "source": [
        "An evolutionary process consists of reproduction, heritable variation, and selection. We're going to implement an evolutionary process to see how this causes the population to converge on the optimal strategy for the given environment. The fitness fucntion for creatures as described above is as follows"
      ]
    },
    {
      "cell_type": "code",
      "execution_count": null,
      "metadata": {
        "id": "2BfTHb8TbssL"
      },
      "outputs": [],
      "source": [
        "def fitnessTerse(threshold, environmentParams):  \n",
        "  probPrey = environmentParams['probPrey']\n",
        "  numEpisodes = environmentParams['numEpisodes']\n",
        "  missCost = environmentParams['missCost']\n",
        "  preyReward = environmentParams['preyRewards']\n",
        "  lurkCost = environmentParams['lurkCost']\n",
        "  preyPresent_min = environmentParams['preyPresent_min']\n",
        "  preyPresent_max = environmentParams['preyPresent_max']\n",
        "  preyAbsent_min = environmentParams['preyAbsent_min']\n",
        "  preyAbsent_max = environmentParams['preyAbsent_max']\n",
        "\n",
        "  numFalseStrikes = 0\n",
        "  numCaptures = 0\n",
        "  numMissedOpportunities = 0\n",
        "  numGoodLurks = 0\n",
        "  \n",
        "  for ii in range(numEpisodes):\n",
        "    \n",
        "    preyPresent =  (1 == np.random.binomial(1, probPrey))\n",
        "    if preyPresent:\n",
        "      s = np.random.uniform(low=preyPresent_min, high=preyPresent_max)\n",
        "    else: # preyAbsent\n",
        "      s = np.random.uniform(low=preyAbsent_min, high=preyAbsent_max)\n",
        "    \n",
        "    def pi(s, threshold):\n",
        "      if s < threshold:\n",
        "        return 'lurk'\n",
        "      else: # s >= threshold\n",
        "        return 'strike'\n",
        "    \n",
        "    action = pi(s, threshold)\n",
        "\n",
        "    if action == 'strike' and preyPresent == True:\n",
        "      numCaptures = numCaptures + 1\n",
        "    elif action == 'strike' and preyPresent == False:\n",
        "      numFalseStrikes = numFalseStrikes + 1\n",
        "    elif action == 'lurk' and preyPresent == True:\n",
        "      numMissedOpportunities = numMissedOpportunities + 1\n",
        "    elif action == 'lurk' and preyPresent == False:\n",
        "      numGoodLurks = numGoodLurks + 1\n",
        "    else:\n",
        "      print('This should never happen, what went wrong?')\n",
        "\n",
        "  fitnessScore = (numFalseStrikes * missCost + \n",
        "                  numCaptures * preyReward + \n",
        "                  (numMissedOpportunities + numGoodLurks) * lurkCost) \n",
        "  return(fitnessScore)"
      ]
    },
    {
      "cell_type": "code",
      "execution_count": null,
      "metadata": {
        "id": "o3USt0UHbssM"
      },
      "outputs": [],
      "source": [
        "# get them to code this themselves\n",
        "def evolutionGeneration(populationThresholds, \n",
        "                        environmentParams,\n",
        "                        evolutionParams):\n",
        "  mutationRate = evolutionParams['mutationRate']\n",
        "  mutationStep = evolutionParams['mutationStep']\n",
        "  \n",
        "  # How well does each creature do at obtaining resources\n",
        "  populationFitnessScores = np.zeros(len(populationThresholds))\n",
        "  for ii, threshold_ in enumerate(populationThresholds):\n",
        "    populationFitnessScores = fitnessTerse(threshold_, environmentParams)\n",
        "  \n",
        "  # Choose parents for the next generation based on fitnessScore\n",
        "  newPopulationThresholds = np.zeros(len(populationThresholds))\n",
        "  for ii in len(populationFitnessScores):\n",
        "    parentThreshold = random.choice(populationThresholds, size=None, replace=True, p=populationFitnessScores)\n",
        "    # Is the child a mutant\n",
        "    if np.random.binomial(1, mutationRate) == 1:\n",
        "      #Mutant!\n",
        "      newPopulationThresholds[ii] = parentThreshold + np.random.normal(loc=0.0, scale=mutationStep)\n",
        "    else:\n",
        "      #Not a mutant\n",
        "      newPopulationThresholds[ii] = parentThreshold\n",
        "  return(newPopulationThresholds)        "
      ]
    },
    {
      "cell_type": "code",
      "execution_count": null,
      "metadata": {
        "id": "pvjDcosrbssN"
      },
      "outputs": [],
      "source": [
        "def runEvolution(initialPopulationThresholds, environmentParams, evolutionParams):\n",
        "  numGenerations = evolutionParams['numGenerations']\n",
        "  populationThresholds = initialPopulationThresholds\n",
        "  for ii in range(numGenerations):\n",
        "    populationThresholds = evolutionGeneration(populationThresholds)\n",
        "    print(ii)\n",
        "    print(np.mean(populationThresholds))"
      ]
    },
    {
      "cell_type": "code",
      "execution_count": null,
      "metadata": {
        "id": "T8XxqYX1bssO"
      },
      "outputs": [],
      "source": []
    },
    {
      "cell_type": "markdown",
      "metadata": {
        "id": "rfOMyHNfbssP"
      },
      "source": [
        "Important to have the theortically correct optimal threshold as a function of the parameters, but we likely want to tuck this in appendix or use it as an intro to using Bayes rule to maximize expected returns"
      ]
    },
    {
      "cell_type": "markdown",
      "metadata": {
        "id": "IgbC-LijbssQ"
      },
      "source": [
        "picture of the game tree, "
      ]
    },
    {
      "cell_type": "markdown",
      "metadata": {
        "id": "EcXx0gWEbssR"
      },
      "source": [
        "nature makes a move and either the prey is present, call this state $s_1$, with probability $q$, or prey is absent with probability $1-q$, call this state $s_2$. Then a signal, $x$, is generated by the interaction of the photosensitive cell with the environment the strenght of which has the distribution:\n",
        "$$p(x|s_1) = \\begin{cases}\n",
        "      \\frac{1}{U_1 - L_1} & \\text{for } L_1 \\leq x \\leq U_1 \\\\\n",
        "      0 & \\text {for } x < L_1 \\text{ or } x > U_1\n",
        "    \\end{cases}$$\n",
        "$$p(x|s_2) = \\begin{cases}\n",
        "      \\frac{1}{U_2 - L_2} & \\text{for } L_2 \\leq x \\leq U_2 \\\\\n",
        "      0 & \\text {for } x < L_2 \\text{ or } x > U_2\n",
        "    \\end{cases}$$\n",
        "where $U_i$ and $L_i$ are the upper and lower bounds of the uniform signal distribution for the corresponding states indexed by $i \\in \\{1, 2\\}$"
      ]
    },
    {
      "cell_type": "markdown",
      "metadata": {
        "id": "_oHVWsgqbssS"
      },
      "source": [
        "How should an observation of given a signal $x$ change the belief that prey is present or absent, i.e. that $s_1$ or $s_2$ is the case. Specifically, prior to the observation $x$, the baseline probability of $s_1$ being the case is $q$, and we would like to know the probability of $p(s_1|x)$, which is given by Bayes' rule\n",
        "\n",
        "\n",
        "$$p(s_1|x) p(x) = p(s_1, x) = p(x|s_1) p(s_1)$$\n",
        "\n",
        "ignoring the middle term (which is just there to remind us that the LHS and the RHS are equal to eachother because they are different ways of expressing the joint probability density of $s_1$ and $x$ being the case at the same time, in terms of the conditional and and marginal probability densities, we can rearrange to solve for the term we want \n",
        "\n",
        "$$p(s_1|x) = \\frac{p(x|s_1) p(s_1)}{p(x)}$$\n",
        "\n",
        "at first it may seem like we don't know $p(x)$ but because there are only two states $s_1$ and $s_2$ it is easy to consider all possible states that give rise to $x$ and write down its distribution (as we will see, this is almost never the case for hard/interesting problems)\n",
        "\n",
        "$$p(s_1|x) = \\frac{p(x|s_1) p(s_1)}{p(x|s_1) p(s_1) + p(x|s_2) p(s_2) }$$\n",
        "\n"
      ]
    },
    {
      "cell_type": "markdown",
      "metadata": {
        "id": "pp4iN6b-bssT"
      },
      "source": [
        "??? inputs to function the conventional $x$ for experience or $s$ for state and signal, I think use $s$ when dealing with the fully observable case where state and signal are 1-1 but use x when in the partially observable case and s ???"
      ]
    },
    {
      "cell_type": "code",
      "execution_count": null,
      "metadata": {
        "id": "ZRa5vZb2bssT",
        "outputId": "ec454609-a445-4d51-b0e2-51db574368eb"
      },
      "outputs": [
        {
          "name": "stdout",
          "output_type": "stream",
          "text": [
            "Help on built-in function normal:\n",
            "\n",
            "normal(...) method of numpy.random.mtrand.RandomState instance\n",
            "    normal(loc=0.0, scale=1.0, size=None)\n",
            "    \n",
            "    Draw random samples from a normal (Gaussian) distribution.\n",
            "    \n",
            "    The probability density function of the normal distribution, first\n",
            "    derived by De Moivre and 200 years later by both Gauss and Laplace\n",
            "    independently [2]_, is often called the bell curve because of\n",
            "    its characteristic shape (see the example below).\n",
            "    \n",
            "    The normal distributions occurs often in nature.  For example, it\n",
            "    describes the commonly occurring distribution of samples influenced\n",
            "    by a large number of tiny, random disturbances, each with its own\n",
            "    unique distribution [2]_.\n",
            "    \n",
            "    .. note::\n",
            "        New code should use the ``normal`` method of a ``default_rng()``\n",
            "        instance instead; please see the :ref:`random-quick-start`.\n",
            "    \n",
            "    Parameters\n",
            "    ----------\n",
            "    loc : float or array_like of floats\n",
            "        Mean (\"centre\") of the distribution.\n",
            "    scale : float or array_like of floats\n",
            "        Standard deviation (spread or \"width\") of the distribution. Must be\n",
            "        non-negative.\n",
            "    size : int or tuple of ints, optional\n",
            "        Output shape.  If the given shape is, e.g., ``(m, n, k)``, then\n",
            "        ``m * n * k`` samples are drawn.  If size is ``None`` (default),\n",
            "        a single value is returned if ``loc`` and ``scale`` are both scalars.\n",
            "        Otherwise, ``np.broadcast(loc, scale).size`` samples are drawn.\n",
            "    \n",
            "    Returns\n",
            "    -------\n",
            "    out : ndarray or scalar\n",
            "        Drawn samples from the parameterized normal distribution.\n",
            "    \n",
            "    See Also\n",
            "    --------\n",
            "    scipy.stats.norm : probability density function, distribution or\n",
            "        cumulative density function, etc.\n",
            "    Generator.normal: which should be used for new code.\n",
            "    \n",
            "    Notes\n",
            "    -----\n",
            "    The probability density for the Gaussian distribution is\n",
            "    \n",
            "    .. math:: p(x) = \\frac{1}{\\sqrt{ 2 \\pi \\sigma^2 }}\n",
            "                     e^{ - \\frac{ (x - \\mu)^2 } {2 \\sigma^2} },\n",
            "    \n",
            "    where :math:`\\mu` is the mean and :math:`\\sigma` the standard\n",
            "    deviation. The square of the standard deviation, :math:`\\sigma^2`,\n",
            "    is called the variance.\n",
            "    \n",
            "    The function has its peak at the mean, and its \"spread\" increases with\n",
            "    the standard deviation (the function reaches 0.607 times its maximum at\n",
            "    :math:`x + \\sigma` and :math:`x - \\sigma` [2]_).  This implies that\n",
            "    normal is more likely to return samples lying close to the mean, rather\n",
            "    than those far away.\n",
            "    \n",
            "    References\n",
            "    ----------\n",
            "    .. [1] Wikipedia, \"Normal distribution\",\n",
            "           https://en.wikipedia.org/wiki/Normal_distribution\n",
            "    .. [2] P. R. Peebles Jr., \"Central Limit Theorem\" in \"Probability,\n",
            "           Random Variables and Random Signal Principles\", 4th ed., 2001,\n",
            "           pp. 51, 51, 125.\n",
            "    \n",
            "    Examples\n",
            "    --------\n",
            "    Draw samples from the distribution:\n",
            "    \n",
            "    >>> mu, sigma = 0, 0.1 # mean and standard deviation\n",
            "    >>> s = np.random.normal(mu, sigma, 1000)\n",
            "    \n",
            "    Verify the mean and the variance:\n",
            "    \n",
            "    >>> abs(mu - np.mean(s))\n",
            "    0.0  # may vary\n",
            "    \n",
            "    >>> abs(sigma - np.std(s, ddof=1))\n",
            "    0.1  # may vary\n",
            "    \n",
            "    Display the histogram of the samples, along with\n",
            "    the probability density function:\n",
            "    \n",
            "    >>> import matplotlib.pyplot as plt\n",
            "    >>> count, bins, ignored = plt.hist(s, 30, density=True)\n",
            "    >>> plt.plot(bins, 1/(sigma * np.sqrt(2 * np.pi)) *\n",
            "    ...                np.exp( - (bins - mu)**2 / (2 * sigma**2) ),\n",
            "    ...          linewidth=2, color='r')\n",
            "    >>> plt.show()\n",
            "    \n",
            "    Two-by-four array of samples from N(3, 6.25):\n",
            "    \n",
            "    >>> np.random.normal(3, 2.5, size=(2, 4))\n",
            "    array([[-4.49401501,  4.00950034, -1.81814867,  7.29718677],   # random\n",
            "           [ 0.39924804,  4.68456316,  4.99394529,  4.84057254]])  # random\n",
            "\n"
          ]
        }
      ],
      "source": [
        "help(np.random.normal)"
      ]
    },
    {
      "cell_type": "markdown",
      "metadata": {
        "id": "T0U9S0sCXEPZ"
      },
      "source": [
        "Is it worth calling out the confusion matrix false positive, false negative, true positive, true negative, etc. explicity now, or saving that for later?"
      ]
    },
    {
      "cell_type": "code",
      "execution_count": null,
      "metadata": {
        "id": "MbwYUE7i7I-b"
      },
      "outputs": [],
      "source": [
        "def fitness(pi, probPrey, numEpisodes, missCost, preyReward, lurkCost, preyPresent_min, preyPresent_max, preyAbsent_min, preyAbsent_max):\n",
        "  numFalseStrikes = 0\n",
        "  numCaptures = 0\n",
        "  numMissedOpportunities = 0\n",
        "  numGoodLurks = 0\n",
        "  for ii in range(numEpisodes):\n",
        "    preyPresent =  (1 == np.random.binomial(1, p_prey))\n",
        "    if preyPresent:\n",
        "      signal = np.random.uniform(low=preyPresent_min, high=preyPresent_max)\n",
        "    else: # preyAbsent\n",
        "      signal = np.random.uniform(low=preyAbsent_min, high=preyAbsent_max)\n",
        "    if signal < pi:\n",
        "      action = 'lurk'\n",
        "    else: #signal >= pi\n",
        "      action = 'strike'\n",
        "\n",
        "    if action == 'strike' and preyPresent == True:\n",
        "      numCaptures = numCaptures + 1\n",
        "    elif action == 'strike' and preyPresent == False:\n",
        "      numFalseStrikes = numFalseStrikes + 1\n",
        "    elif action == 'lurk' and preyPresent == True:\n",
        "      numMissedOpportunities = numMissedOpportunities + 1\n",
        "    elif action == 'lurk' and preyPresent == False:\n",
        "      numGoodLurks = numGoodLurks + 1\n",
        "    else:\n",
        "      print('This should never happen, what went wrong?')\n",
        "  return({'False Strikes': numFalseStrikes,\n",
        "          'Captures': numCaptures,\n",
        "          'Missed Opportunities': numMissedOpportunities,\n",
        "          'Well Timed Lurks': numGoodLurks,\n",
        "          'Score': numFalseStrikes * missCost + numCaptures * preyReward + (numMissedOpportunities + numGoodLurks) * lurkCost})    "
      ]
    },
    {
      "cell_type": "code",
      "execution_count": null,
      "metadata": {
        "id": "22--esdpLpg0"
      },
      "outputs": [],
      "source": [
        "widgets.interact(fitness, pi=4, );"
      ]
    },
    {
      "cell_type": "markdown",
      "metadata": {
        "id": "NJk6BmKh25Cd"
      },
      "source": [
        "Missed Opportunities, False Strikes, Prey Captured, Lurking at the right time"
      ]
    },
    {
      "cell_type": "code",
      "execution_count": null,
      "metadata": {
        "id": "6XC7_h6PykV3"
      },
      "outputs": [],
      "source": []
    },
    {
      "cell_type": "code",
      "execution_count": null,
      "metadata": {
        "id": "hbCPXWYZygQH"
      },
      "outputs": [],
      "source": []
    },
    {
      "cell_type": "code",
      "execution_count": null,
      "metadata": {
        "id": "w_mnEnYttCQn"
      },
      "outputs": [],
      "source": [
        "def fitness(x):\n",
        "  return x"
      ]
    },
    {
      "cell_type": "code",
      "execution_count": null,
      "metadata": {
        "id": "5oJGe-3Htecs"
      },
      "outputs": [],
      "source": [
        "widgets.interact(fitness, x=10);"
      ]
    },
    {
      "cell_type": "code",
      "execution_count": null,
      "metadata": {
        "id": "bue6qgMpn11k"
      },
      "outputs": [],
      "source": [
        "# The creature's environment is in one of two states in a given episode, either prey is present or not present\n",
        "p_prey = 0.3 #probability that prey is present in a given episode\n",
        "prey_present =  (1 == np.random.binomial(1, p_prey)) # True if prey present, False if prey not present\n",
        "#When the prey is present, the distribution of light in the environment is such that the photo receptive cell produces a signal strength between\n",
        "Present_min = 3.0\n",
        "Present_max = 6.0\n",
        "#When the prey is absent, the distribution of light in the environment is such that the photo receptive cell prooduces a signal strenght between\n",
        "Absent_min = 0.0\n",
        "Absent_max = 4.0\n",
        "\n",
        "# The creature's neuron implements a simple threshold policy. \n",
        "# It strikes at a prey of the signal strength is above the threshold, and will\n",
        "#In a given episode the presense or absense of "
      ]
    },
    {
      "cell_type": "code",
      "execution_count": null,
      "metadata": {
        "id": "P6qKvEVEJdi8"
      },
      "outputs": [],
      "source": []
    },
    {
      "cell_type": "markdown",
      "metadata": {
        "id": "nxFYN7PoihqL"
      },
      "source": [
        "The purpose of a brain is contingent action. There is no point in percieving the environment if it is always constant. If the environment is variable, there is still no point in percieving these environmental differences the creature preciveing these difference is also capable of different actions, which are differently suited to the different states of the unless of different behaviours that are better suited  to the state of the environment. alter behavior The goal here is to build the simplest possible example of a creature interacting with an environment, and to understand under what conditions it even needs to have a brain in the first place. The environment is variable, the creature has more than one action it can take, the actions have different variables depending on the state of the environment"
      ]
    },
    {
      "cell_type": "markdown",
      "metadata": {
        "id": "UACgKqpyJnzz"
      },
      "source": [
        "Picture of Environment Photo-receptor cell, single neuron, mouth/muscles."
      ]
    }
  ],
  "metadata": {
    "colab": {
      "provenance": [],
      "include_colab_link": true
    },
    "kernelspec": {
      "display_name": "Python 3 (ipykernel)",
      "language": "python",
      "name": "python3"
    },
    "language_info": {
      "codemirror_mode": {
        "name": "ipython",
        "version": 3
      },
      "file_extension": ".py",
      "mimetype": "text/x-python",
      "name": "python",
      "nbconvert_exporter": "python",
      "pygments_lexer": "ipython3",
      "version": "3.9.7"
    },
    "widgets": {
      "application/vnd.jupyter.widget-state+json": {
        "08336f4bda3249cbb0fa6ea8e0a9b9ac": {
          "model_module": "@jupyter-widgets/controls",
          "model_module_version": "1.5.0",
          "model_name": "IntSliderModel",
          "state": {
            "_dom_classes": [],
            "_model_module": "@jupyter-widgets/controls",
            "_model_module_version": "1.5.0",
            "_model_name": "IntSliderModel",
            "_view_count": null,
            "_view_module": "@jupyter-widgets/controls",
            "_view_module_version": "1.5.0",
            "_view_name": "IntSliderView",
            "continuous_update": true,
            "description": "lurkCost",
            "description_tooltip": null,
            "disabled": false,
            "layout": "IPY_MODEL_089a4a6c19e84066a3b756630f2cf0db",
            "max": 5,
            "min": -5,
            "orientation": "horizontal",
            "readout": true,
            "readout_format": "d",
            "step": 1,
            "style": "IPY_MODEL_f078fc0c4ef0455db9da29e2330ed39e",
            "value": 0
          }
        },
        "089a4a6c19e84066a3b756630f2cf0db": {
          "model_module": "@jupyter-widgets/base",
          "model_module_version": "1.2.0",
          "model_name": "LayoutModel",
          "state": {
            "_model_module": "@jupyter-widgets/base",
            "_model_module_version": "1.2.0",
            "_model_name": "LayoutModel",
            "_view_count": null,
            "_view_module": "@jupyter-widgets/base",
            "_view_module_version": "1.2.0",
            "_view_name": "LayoutView",
            "align_content": null,
            "align_items": null,
            "align_self": null,
            "border": null,
            "bottom": null,
            "display": null,
            "flex": null,
            "flex_flow": null,
            "grid_area": null,
            "grid_auto_columns": null,
            "grid_auto_flow": null,
            "grid_auto_rows": null,
            "grid_column": null,
            "grid_gap": null,
            "grid_row": null,
            "grid_template_areas": null,
            "grid_template_columns": null,
            "grid_template_rows": null,
            "height": null,
            "justify_content": null,
            "justify_items": null,
            "left": null,
            "margin": null,
            "max_height": null,
            "max_width": null,
            "min_height": null,
            "min_width": null,
            "object_fit": null,
            "object_position": null,
            "order": null,
            "overflow": null,
            "overflow_x": null,
            "overflow_y": null,
            "padding": null,
            "right": null,
            "top": null,
            "visibility": null,
            "width": null
          }
        },
        "1bc2b56598344316ab0fc5fab6254ab8": {
          "model_module": "@jupyter-widgets/controls",
          "model_module_version": "1.5.0",
          "model_name": "IntSliderModel",
          "state": {
            "_dom_classes": [],
            "_model_module": "@jupyter-widgets/controls",
            "_model_module_version": "1.5.0",
            "_model_name": "IntSliderModel",
            "_view_count": null,
            "_view_module": "@jupyter-widgets/controls",
            "_view_module_version": "1.5.0",
            "_view_name": "IntSliderView",
            "continuous_update": true,
            "description": "preyPresent_max",
            "description_tooltip": null,
            "disabled": false,
            "layout": "IPY_MODEL_2edd3567a962498280ca4886597edf89",
            "max": 10,
            "min": 0,
            "orientation": "horizontal",
            "readout": true,
            "readout_format": "d",
            "step": 1,
            "style": "IPY_MODEL_8e7a6c19d8f54eaba0beda7b98607b8b",
            "value": 5
          }
        },
        "1cd33d282b374b0a84698640cc03204b": {
          "model_module": "@jupyter-widgets/controls",
          "model_module_version": "1.5.0",
          "model_name": "FloatSliderModel",
          "state": {
            "_dom_classes": [],
            "_model_module": "@jupyter-widgets/controls",
            "_model_module_version": "1.5.0",
            "_model_name": "FloatSliderModel",
            "_view_count": null,
            "_view_module": "@jupyter-widgets/controls",
            "_view_module_version": "1.5.0",
            "_view_name": "FloatSliderView",
            "continuous_update": true,
            "description": "threshold",
            "description_tooltip": null,
            "disabled": false,
            "layout": "IPY_MODEL_82207261109640a7acb1bb6020bd451d",
            "max": 11,
            "min": -1,
            "orientation": "horizontal",
            "readout": true,
            "readout_format": ".2f",
            "step": 0.5,
            "style": "IPY_MODEL_82a9a882a21a41289c53b5ad2db01dc8",
            "value": 8.5
          }
        },
        "1d513a643e7b4575b31d20ff530d92b6": {
          "model_module": "@jupyter-widgets/controls",
          "model_module_version": "1.5.0",
          "model_name": "VBoxModel",
          "state": {
            "_dom_classes": [
              "widget-interact"
            ],
            "_model_module": "@jupyter-widgets/controls",
            "_model_module_version": "1.5.0",
            "_model_name": "VBoxModel",
            "_view_count": null,
            "_view_module": "@jupyter-widgets/controls",
            "_view_module_version": "1.5.0",
            "_view_name": "VBoxView",
            "box_style": "",
            "children": [
              "IPY_MODEL_1cd33d282b374b0a84698640cc03204b",
              "IPY_MODEL_605d56e5dbe8434490e51dad13c99e01",
              "IPY_MODEL_9511ddd7247f40c89d97b52024b13d05",
              "IPY_MODEL_c3070786c0b94f58a6e1c5013f528e29",
              "IPY_MODEL_c50484d364c0467aaa04e66a41374380",
              "IPY_MODEL_08336f4bda3249cbb0fa6ea8e0a9b9ac",
              "IPY_MODEL_729dd9f4a6ad48008102382c4b0be3a0",
              "IPY_MODEL_1bc2b56598344316ab0fc5fab6254ab8",
              "IPY_MODEL_d84a019d59c3492f8dbcab1891a90e1f",
              "IPY_MODEL_de8e3598df404129b9aac7f59b7d6230",
              "IPY_MODEL_96b4a31eed1b4f6cb98e48184530789d"
            ],
            "layout": "IPY_MODEL_ee5a5bea8bc441278b232c423588d17c"
          }
        },
        "2edd3567a962498280ca4886597edf89": {
          "model_module": "@jupyter-widgets/base",
          "model_module_version": "1.2.0",
          "model_name": "LayoutModel",
          "state": {
            "_model_module": "@jupyter-widgets/base",
            "_model_module_version": "1.2.0",
            "_model_name": "LayoutModel",
            "_view_count": null,
            "_view_module": "@jupyter-widgets/base",
            "_view_module_version": "1.2.0",
            "_view_name": "LayoutView",
            "align_content": null,
            "align_items": null,
            "align_self": null,
            "border": null,
            "bottom": null,
            "display": null,
            "flex": null,
            "flex_flow": null,
            "grid_area": null,
            "grid_auto_columns": null,
            "grid_auto_flow": null,
            "grid_auto_rows": null,
            "grid_column": null,
            "grid_gap": null,
            "grid_row": null,
            "grid_template_areas": null,
            "grid_template_columns": null,
            "grid_template_rows": null,
            "height": null,
            "justify_content": null,
            "justify_items": null,
            "left": null,
            "margin": null,
            "max_height": null,
            "max_width": null,
            "min_height": null,
            "min_width": null,
            "object_fit": null,
            "object_position": null,
            "order": null,
            "overflow": null,
            "overflow_x": null,
            "overflow_y": null,
            "padding": null,
            "right": null,
            "top": null,
            "visibility": null,
            "width": null
          }
        },
        "3d69bb4b1db24d11bbb90c98d86f1577": {
          "model_module": "@jupyter-widgets/controls",
          "model_module_version": "1.5.0",
          "model_name": "SliderStyleModel",
          "state": {
            "_model_module": "@jupyter-widgets/controls",
            "_model_module_version": "1.5.0",
            "_model_name": "SliderStyleModel",
            "_view_count": null,
            "_view_module": "@jupyter-widgets/base",
            "_view_module_version": "1.2.0",
            "_view_name": "StyleView",
            "description_width": "",
            "handle_color": null
          }
        },
        "51b9e7d406584f20aadabd24ac26a545": {
          "model_module": "@jupyter-widgets/base",
          "model_module_version": "1.2.0",
          "model_name": "LayoutModel",
          "state": {
            "_model_module": "@jupyter-widgets/base",
            "_model_module_version": "1.2.0",
            "_model_name": "LayoutModel",
            "_view_count": null,
            "_view_module": "@jupyter-widgets/base",
            "_view_module_version": "1.2.0",
            "_view_name": "LayoutView",
            "align_content": null,
            "align_items": null,
            "align_self": null,
            "border": null,
            "bottom": null,
            "display": null,
            "flex": null,
            "flex_flow": null,
            "grid_area": null,
            "grid_auto_columns": null,
            "grid_auto_flow": null,
            "grid_auto_rows": null,
            "grid_column": null,
            "grid_gap": null,
            "grid_row": null,
            "grid_template_areas": null,
            "grid_template_columns": null,
            "grid_template_rows": null,
            "height": null,
            "justify_content": null,
            "justify_items": null,
            "left": null,
            "margin": null,
            "max_height": null,
            "max_width": null,
            "min_height": null,
            "min_width": null,
            "object_fit": null,
            "object_position": null,
            "order": null,
            "overflow": null,
            "overflow_x": null,
            "overflow_y": null,
            "padding": null,
            "right": null,
            "top": null,
            "visibility": null,
            "width": null
          }
        },
        "54b260f86c8a4a90ae6cc0393179838e": {
          "model_module": "@jupyter-widgets/base",
          "model_module_version": "1.2.0",
          "model_name": "LayoutModel",
          "state": {
            "_model_module": "@jupyter-widgets/base",
            "_model_module_version": "1.2.0",
            "_model_name": "LayoutModel",
            "_view_count": null,
            "_view_module": "@jupyter-widgets/base",
            "_view_module_version": "1.2.0",
            "_view_name": "LayoutView",
            "align_content": null,
            "align_items": null,
            "align_self": null,
            "border": null,
            "bottom": null,
            "display": null,
            "flex": null,
            "flex_flow": null,
            "grid_area": null,
            "grid_auto_columns": null,
            "grid_auto_flow": null,
            "grid_auto_rows": null,
            "grid_column": null,
            "grid_gap": null,
            "grid_row": null,
            "grid_template_areas": null,
            "grid_template_columns": null,
            "grid_template_rows": null,
            "height": null,
            "justify_content": null,
            "justify_items": null,
            "left": null,
            "margin": null,
            "max_height": null,
            "max_width": null,
            "min_height": null,
            "min_width": null,
            "object_fit": null,
            "object_position": null,
            "order": null,
            "overflow": null,
            "overflow_x": null,
            "overflow_y": null,
            "padding": null,
            "right": null,
            "top": null,
            "visibility": null,
            "width": null
          }
        },
        "605d56e5dbe8434490e51dad13c99e01": {
          "model_module": "@jupyter-widgets/controls",
          "model_module_version": "1.5.0",
          "model_name": "FloatSliderModel",
          "state": {
            "_dom_classes": [],
            "_model_module": "@jupyter-widgets/controls",
            "_model_module_version": "1.5.0",
            "_model_name": "FloatSliderModel",
            "_view_count": null,
            "_view_module": "@jupyter-widgets/controls",
            "_view_module_version": "1.5.0",
            "_view_name": "FloatSliderView",
            "continuous_update": true,
            "description": "probPrey",
            "description_tooltip": null,
            "disabled": false,
            "layout": "IPY_MODEL_6aed912874804bad95e2ec4f5452044e",
            "max": 1,
            "min": 0,
            "orientation": "horizontal",
            "readout": true,
            "readout_format": ".2f",
            "step": 0.1,
            "style": "IPY_MODEL_694f76f5469449d39ec45721bbdcc1c1",
            "value": 0.5
          }
        },
        "694f76f5469449d39ec45721bbdcc1c1": {
          "model_module": "@jupyter-widgets/controls",
          "model_module_version": "1.5.0",
          "model_name": "SliderStyleModel",
          "state": {
            "_model_module": "@jupyter-widgets/controls",
            "_model_module_version": "1.5.0",
            "_model_name": "SliderStyleModel",
            "_view_count": null,
            "_view_module": "@jupyter-widgets/base",
            "_view_module_version": "1.2.0",
            "_view_name": "StyleView",
            "description_width": "",
            "handle_color": null
          }
        },
        "6aed912874804bad95e2ec4f5452044e": {
          "model_module": "@jupyter-widgets/base",
          "model_module_version": "1.2.0",
          "model_name": "LayoutModel",
          "state": {
            "_model_module": "@jupyter-widgets/base",
            "_model_module_version": "1.2.0",
            "_model_name": "LayoutModel",
            "_view_count": null,
            "_view_module": "@jupyter-widgets/base",
            "_view_module_version": "1.2.0",
            "_view_name": "LayoutView",
            "align_content": null,
            "align_items": null,
            "align_self": null,
            "border": null,
            "bottom": null,
            "display": null,
            "flex": null,
            "flex_flow": null,
            "grid_area": null,
            "grid_auto_columns": null,
            "grid_auto_flow": null,
            "grid_auto_rows": null,
            "grid_column": null,
            "grid_gap": null,
            "grid_row": null,
            "grid_template_areas": null,
            "grid_template_columns": null,
            "grid_template_rows": null,
            "height": null,
            "justify_content": null,
            "justify_items": null,
            "left": null,
            "margin": null,
            "max_height": null,
            "max_width": null,
            "min_height": null,
            "min_width": null,
            "object_fit": null,
            "object_position": null,
            "order": null,
            "overflow": null,
            "overflow_x": null,
            "overflow_y": null,
            "padding": null,
            "right": null,
            "top": null,
            "visibility": null,
            "width": null
          }
        },
        "729dd9f4a6ad48008102382c4b0be3a0": {
          "model_module": "@jupyter-widgets/controls",
          "model_module_version": "1.5.0",
          "model_name": "IntSliderModel",
          "state": {
            "_dom_classes": [],
            "_model_module": "@jupyter-widgets/controls",
            "_model_module_version": "1.5.0",
            "_model_name": "IntSliderModel",
            "_view_count": null,
            "_view_module": "@jupyter-widgets/controls",
            "_view_module_version": "1.5.0",
            "_view_name": "IntSliderView",
            "continuous_update": true,
            "description": "preyPresent_min",
            "description_tooltip": null,
            "disabled": false,
            "layout": "IPY_MODEL_8703caeac961490d927a395843557d62",
            "max": 10,
            "min": 0,
            "orientation": "horizontal",
            "readout": true,
            "readout_format": "d",
            "step": 1,
            "style": "IPY_MODEL_3d69bb4b1db24d11bbb90c98d86f1577",
            "value": 5
          }
        },
        "82207261109640a7acb1bb6020bd451d": {
          "model_module": "@jupyter-widgets/base",
          "model_module_version": "1.2.0",
          "model_name": "LayoutModel",
          "state": {
            "_model_module": "@jupyter-widgets/base",
            "_model_module_version": "1.2.0",
            "_model_name": "LayoutModel",
            "_view_count": null,
            "_view_module": "@jupyter-widgets/base",
            "_view_module_version": "1.2.0",
            "_view_name": "LayoutView",
            "align_content": null,
            "align_items": null,
            "align_self": null,
            "border": null,
            "bottom": null,
            "display": null,
            "flex": null,
            "flex_flow": null,
            "grid_area": null,
            "grid_auto_columns": null,
            "grid_auto_flow": null,
            "grid_auto_rows": null,
            "grid_column": null,
            "grid_gap": null,
            "grid_row": null,
            "grid_template_areas": null,
            "grid_template_columns": null,
            "grid_template_rows": null,
            "height": null,
            "justify_content": null,
            "justify_items": null,
            "left": null,
            "margin": null,
            "max_height": null,
            "max_width": null,
            "min_height": null,
            "min_width": null,
            "object_fit": null,
            "object_position": null,
            "order": null,
            "overflow": null,
            "overflow_x": null,
            "overflow_y": null,
            "padding": null,
            "right": null,
            "top": null,
            "visibility": null,
            "width": null
          }
        },
        "82a9a882a21a41289c53b5ad2db01dc8": {
          "model_module": "@jupyter-widgets/controls",
          "model_module_version": "1.5.0",
          "model_name": "SliderStyleModel",
          "state": {
            "_model_module": "@jupyter-widgets/controls",
            "_model_module_version": "1.5.0",
            "_model_name": "SliderStyleModel",
            "_view_count": null,
            "_view_module": "@jupyter-widgets/base",
            "_view_module_version": "1.2.0",
            "_view_name": "StyleView",
            "description_width": "",
            "handle_color": null
          }
        },
        "8703caeac961490d927a395843557d62": {
          "model_module": "@jupyter-widgets/base",
          "model_module_version": "1.2.0",
          "model_name": "LayoutModel",
          "state": {
            "_model_module": "@jupyter-widgets/base",
            "_model_module_version": "1.2.0",
            "_model_name": "LayoutModel",
            "_view_count": null,
            "_view_module": "@jupyter-widgets/base",
            "_view_module_version": "1.2.0",
            "_view_name": "LayoutView",
            "align_content": null,
            "align_items": null,
            "align_self": null,
            "border": null,
            "bottom": null,
            "display": null,
            "flex": null,
            "flex_flow": null,
            "grid_area": null,
            "grid_auto_columns": null,
            "grid_auto_flow": null,
            "grid_auto_rows": null,
            "grid_column": null,
            "grid_gap": null,
            "grid_row": null,
            "grid_template_areas": null,
            "grid_template_columns": null,
            "grid_template_rows": null,
            "height": null,
            "justify_content": null,
            "justify_items": null,
            "left": null,
            "margin": null,
            "max_height": null,
            "max_width": null,
            "min_height": null,
            "min_width": null,
            "object_fit": null,
            "object_position": null,
            "order": null,
            "overflow": null,
            "overflow_x": null,
            "overflow_y": null,
            "padding": null,
            "right": null,
            "top": null,
            "visibility": null,
            "width": null
          }
        },
        "8e7a6c19d8f54eaba0beda7b98607b8b": {
          "model_module": "@jupyter-widgets/controls",
          "model_module_version": "1.5.0",
          "model_name": "SliderStyleModel",
          "state": {
            "_model_module": "@jupyter-widgets/controls",
            "_model_module_version": "1.5.0",
            "_model_name": "SliderStyleModel",
            "_view_count": null,
            "_view_module": "@jupyter-widgets/base",
            "_view_module_version": "1.2.0",
            "_view_name": "StyleView",
            "description_width": "",
            "handle_color": null
          }
        },
        "9511ddd7247f40c89d97b52024b13d05": {
          "model_module": "@jupyter-widgets/controls",
          "model_module_version": "1.5.0",
          "model_name": "IntSliderModel",
          "state": {
            "_dom_classes": [],
            "_model_module": "@jupyter-widgets/controls",
            "_model_module_version": "1.5.0",
            "_model_name": "IntSliderModel",
            "_view_count": null,
            "_view_module": "@jupyter-widgets/controls",
            "_view_module_version": "1.5.0",
            "_view_name": "IntSliderView",
            "continuous_update": true,
            "description": "numEpisodes",
            "description_tooltip": null,
            "disabled": false,
            "layout": "IPY_MODEL_51b9e7d406584f20aadabd24ac26a545",
            "max": 200,
            "min": 1,
            "orientation": "horizontal",
            "readout": true,
            "readout_format": "d",
            "step": 1,
            "style": "IPY_MODEL_b14486c474a045cb91d0baabcde27f0d",
            "value": 100
          }
        },
        "96b4a31eed1b4f6cb98e48184530789d": {
          "model_module": "@jupyter-widgets/output",
          "model_module_version": "1.0.0",
          "model_name": "OutputModel",
          "state": {
            "_dom_classes": [],
            "_model_module": "@jupyter-widgets/output",
            "_model_module_version": "1.0.0",
            "_model_name": "OutputModel",
            "_view_count": null,
            "_view_module": "@jupyter-widgets/output",
            "_view_module_version": "1.0.0",
            "_view_name": "OutputView",
            "layout": "IPY_MODEL_f39fb2ea64674deab6613dbedb0520bd",
            "msg_id": "",
            "outputs": [
              {
                "data": {
                  "text/plain": "{'False Strikes': 0,\n 'Captures': 0,\n 'Missed Opportunities': 50,\n 'Well Timed Lurks': 50,\n 'Score': 0}"
                },
                "metadata": {},
                "output_type": "display_data"
              }
            ]
          }
        },
        "a0733841b4db49a88f79a7d76fd4260a": {
          "model_module": "@jupyter-widgets/controls",
          "model_module_version": "1.5.0",
          "model_name": "SliderStyleModel",
          "state": {
            "_model_module": "@jupyter-widgets/controls",
            "_model_module_version": "1.5.0",
            "_model_name": "SliderStyleModel",
            "_view_count": null,
            "_view_module": "@jupyter-widgets/base",
            "_view_module_version": "1.2.0",
            "_view_name": "StyleView",
            "description_width": "",
            "handle_color": null
          }
        },
        "a85a694b28a04351950c79792aaf79fd": {
          "model_module": "@jupyter-widgets/controls",
          "model_module_version": "1.5.0",
          "model_name": "SliderStyleModel",
          "state": {
            "_model_module": "@jupyter-widgets/controls",
            "_model_module_version": "1.5.0",
            "_model_name": "SliderStyleModel",
            "_view_count": null,
            "_view_module": "@jupyter-widgets/base",
            "_view_module_version": "1.2.0",
            "_view_name": "StyleView",
            "description_width": "",
            "handle_color": null
          }
        },
        "aeb48d8ec38d4112a40ee092f475d39b": {
          "model_module": "@jupyter-widgets/controls",
          "model_module_version": "1.5.0",
          "model_name": "SliderStyleModel",
          "state": {
            "_model_module": "@jupyter-widgets/controls",
            "_model_module_version": "1.5.0",
            "_model_name": "SliderStyleModel",
            "_view_count": null,
            "_view_module": "@jupyter-widgets/base",
            "_view_module_version": "1.2.0",
            "_view_name": "StyleView",
            "description_width": "",
            "handle_color": null
          }
        },
        "b14486c474a045cb91d0baabcde27f0d": {
          "model_module": "@jupyter-widgets/controls",
          "model_module_version": "1.5.0",
          "model_name": "SliderStyleModel",
          "state": {
            "_model_module": "@jupyter-widgets/controls",
            "_model_module_version": "1.5.0",
            "_model_name": "SliderStyleModel",
            "_view_count": null,
            "_view_module": "@jupyter-widgets/base",
            "_view_module_version": "1.2.0",
            "_view_name": "StyleView",
            "description_width": "",
            "handle_color": null
          }
        },
        "c3070786c0b94f58a6e1c5013f528e29": {
          "model_module": "@jupyter-widgets/controls",
          "model_module_version": "1.5.0",
          "model_name": "IntSliderModel",
          "state": {
            "_dom_classes": [],
            "_model_module": "@jupyter-widgets/controls",
            "_model_module_version": "1.5.0",
            "_model_name": "IntSliderModel",
            "_view_count": null,
            "_view_module": "@jupyter-widgets/controls",
            "_view_module_version": "1.5.0",
            "_view_name": "IntSliderView",
            "continuous_update": true,
            "description": "missCost",
            "description_tooltip": null,
            "disabled": false,
            "layout": "IPY_MODEL_c33e753207c04ce1b9497bfef25c0ccd",
            "max": 0,
            "min": -10,
            "orientation": "horizontal",
            "readout": true,
            "readout_format": "d",
            "step": 1,
            "style": "IPY_MODEL_aeb48d8ec38d4112a40ee092f475d39b",
            "value": -5
          }
        },
        "c33e753207c04ce1b9497bfef25c0ccd": {
          "model_module": "@jupyter-widgets/base",
          "model_module_version": "1.2.0",
          "model_name": "LayoutModel",
          "state": {
            "_model_module": "@jupyter-widgets/base",
            "_model_module_version": "1.2.0",
            "_model_name": "LayoutModel",
            "_view_count": null,
            "_view_module": "@jupyter-widgets/base",
            "_view_module_version": "1.2.0",
            "_view_name": "LayoutView",
            "align_content": null,
            "align_items": null,
            "align_self": null,
            "border": null,
            "bottom": null,
            "display": null,
            "flex": null,
            "flex_flow": null,
            "grid_area": null,
            "grid_auto_columns": null,
            "grid_auto_flow": null,
            "grid_auto_rows": null,
            "grid_column": null,
            "grid_gap": null,
            "grid_row": null,
            "grid_template_areas": null,
            "grid_template_columns": null,
            "grid_template_rows": null,
            "height": null,
            "justify_content": null,
            "justify_items": null,
            "left": null,
            "margin": null,
            "max_height": null,
            "max_width": null,
            "min_height": null,
            "min_width": null,
            "object_fit": null,
            "object_position": null,
            "order": null,
            "overflow": null,
            "overflow_x": null,
            "overflow_y": null,
            "padding": null,
            "right": null,
            "top": null,
            "visibility": null,
            "width": null
          }
        },
        "c50484d364c0467aaa04e66a41374380": {
          "model_module": "@jupyter-widgets/controls",
          "model_module_version": "1.5.0",
          "model_name": "IntSliderModel",
          "state": {
            "_dom_classes": [],
            "_model_module": "@jupyter-widgets/controls",
            "_model_module_version": "1.5.0",
            "_model_name": "IntSliderModel",
            "_view_count": null,
            "_view_module": "@jupyter-widgets/controls",
            "_view_module_version": "1.5.0",
            "_view_name": "IntSliderView",
            "continuous_update": true,
            "description": "preyReward",
            "description_tooltip": null,
            "disabled": false,
            "layout": "IPY_MODEL_54b260f86c8a4a90ae6cc0393179838e",
            "max": 10,
            "min": 0,
            "orientation": "horizontal",
            "readout": true,
            "readout_format": "d",
            "step": 1,
            "style": "IPY_MODEL_a85a694b28a04351950c79792aaf79fd",
            "value": 5
          }
        },
        "cf7827d9a7b64340872573431af0b5f7": {
          "model_module": "@jupyter-widgets/controls",
          "model_module_version": "1.5.0",
          "model_name": "SliderStyleModel",
          "state": {
            "_model_module": "@jupyter-widgets/controls",
            "_model_module_version": "1.5.0",
            "_model_name": "SliderStyleModel",
            "_view_count": null,
            "_view_module": "@jupyter-widgets/base",
            "_view_module_version": "1.2.0",
            "_view_name": "StyleView",
            "description_width": "",
            "handle_color": null
          }
        },
        "d84a019d59c3492f8dbcab1891a90e1f": {
          "model_module": "@jupyter-widgets/controls",
          "model_module_version": "1.5.0",
          "model_name": "IntSliderModel",
          "state": {
            "_dom_classes": [],
            "_model_module": "@jupyter-widgets/controls",
            "_model_module_version": "1.5.0",
            "_model_name": "IntSliderModel",
            "_view_count": null,
            "_view_module": "@jupyter-widgets/controls",
            "_view_module_version": "1.5.0",
            "_view_name": "IntSliderView",
            "continuous_update": true,
            "description": "preyAbsent_min",
            "description_tooltip": null,
            "disabled": false,
            "layout": "IPY_MODEL_dc23e75a31be46eab8c35cd2ac700fe2",
            "max": 10,
            "min": 0,
            "orientation": "horizontal",
            "readout": true,
            "readout_format": "d",
            "step": 1,
            "style": "IPY_MODEL_cf7827d9a7b64340872573431af0b5f7",
            "value": 5
          }
        },
        "dc23e75a31be46eab8c35cd2ac700fe2": {
          "model_module": "@jupyter-widgets/base",
          "model_module_version": "1.2.0",
          "model_name": "LayoutModel",
          "state": {
            "_model_module": "@jupyter-widgets/base",
            "_model_module_version": "1.2.0",
            "_model_name": "LayoutModel",
            "_view_count": null,
            "_view_module": "@jupyter-widgets/base",
            "_view_module_version": "1.2.0",
            "_view_name": "LayoutView",
            "align_content": null,
            "align_items": null,
            "align_self": null,
            "border": null,
            "bottom": null,
            "display": null,
            "flex": null,
            "flex_flow": null,
            "grid_area": null,
            "grid_auto_columns": null,
            "grid_auto_flow": null,
            "grid_auto_rows": null,
            "grid_column": null,
            "grid_gap": null,
            "grid_row": null,
            "grid_template_areas": null,
            "grid_template_columns": null,
            "grid_template_rows": null,
            "height": null,
            "justify_content": null,
            "justify_items": null,
            "left": null,
            "margin": null,
            "max_height": null,
            "max_width": null,
            "min_height": null,
            "min_width": null,
            "object_fit": null,
            "object_position": null,
            "order": null,
            "overflow": null,
            "overflow_x": null,
            "overflow_y": null,
            "padding": null,
            "right": null,
            "top": null,
            "visibility": null,
            "width": null
          }
        },
        "de8e3598df404129b9aac7f59b7d6230": {
          "model_module": "@jupyter-widgets/controls",
          "model_module_version": "1.5.0",
          "model_name": "IntSliderModel",
          "state": {
            "_dom_classes": [],
            "_model_module": "@jupyter-widgets/controls",
            "_model_module_version": "1.5.0",
            "_model_name": "IntSliderModel",
            "_view_count": null,
            "_view_module": "@jupyter-widgets/controls",
            "_view_module_version": "1.5.0",
            "_view_name": "IntSliderView",
            "continuous_update": true,
            "description": "preyAbsent_max",
            "description_tooltip": null,
            "disabled": false,
            "layout": "IPY_MODEL_ff7c2db970fa4ee8a1f7d21b2ebfec38",
            "max": 10,
            "min": 0,
            "orientation": "horizontal",
            "readout": true,
            "readout_format": "d",
            "step": 1,
            "style": "IPY_MODEL_a0733841b4db49a88f79a7d76fd4260a",
            "value": 5
          }
        },
        "ee5a5bea8bc441278b232c423588d17c": {
          "model_module": "@jupyter-widgets/base",
          "model_module_version": "1.2.0",
          "model_name": "LayoutModel",
          "state": {
            "_model_module": "@jupyter-widgets/base",
            "_model_module_version": "1.2.0",
            "_model_name": "LayoutModel",
            "_view_count": null,
            "_view_module": "@jupyter-widgets/base",
            "_view_module_version": "1.2.0",
            "_view_name": "LayoutView",
            "align_content": null,
            "align_items": null,
            "align_self": null,
            "border": null,
            "bottom": null,
            "display": null,
            "flex": null,
            "flex_flow": null,
            "grid_area": null,
            "grid_auto_columns": null,
            "grid_auto_flow": null,
            "grid_auto_rows": null,
            "grid_column": null,
            "grid_gap": null,
            "grid_row": null,
            "grid_template_areas": null,
            "grid_template_columns": null,
            "grid_template_rows": null,
            "height": null,
            "justify_content": null,
            "justify_items": null,
            "left": null,
            "margin": null,
            "max_height": null,
            "max_width": null,
            "min_height": null,
            "min_width": null,
            "object_fit": null,
            "object_position": null,
            "order": null,
            "overflow": null,
            "overflow_x": null,
            "overflow_y": null,
            "padding": null,
            "right": null,
            "top": null,
            "visibility": null,
            "width": null
          }
        },
        "f078fc0c4ef0455db9da29e2330ed39e": {
          "model_module": "@jupyter-widgets/controls",
          "model_module_version": "1.5.0",
          "model_name": "SliderStyleModel",
          "state": {
            "_model_module": "@jupyter-widgets/controls",
            "_model_module_version": "1.5.0",
            "_model_name": "SliderStyleModel",
            "_view_count": null,
            "_view_module": "@jupyter-widgets/base",
            "_view_module_version": "1.2.0",
            "_view_name": "StyleView",
            "description_width": "",
            "handle_color": null
          }
        },
        "f39fb2ea64674deab6613dbedb0520bd": {
          "model_module": "@jupyter-widgets/base",
          "model_module_version": "1.2.0",
          "model_name": "LayoutModel",
          "state": {
            "_model_module": "@jupyter-widgets/base",
            "_model_module_version": "1.2.0",
            "_model_name": "LayoutModel",
            "_view_count": null,
            "_view_module": "@jupyter-widgets/base",
            "_view_module_version": "1.2.0",
            "_view_name": "LayoutView",
            "align_content": null,
            "align_items": null,
            "align_self": null,
            "border": null,
            "bottom": null,
            "display": null,
            "flex": null,
            "flex_flow": null,
            "grid_area": null,
            "grid_auto_columns": null,
            "grid_auto_flow": null,
            "grid_auto_rows": null,
            "grid_column": null,
            "grid_gap": null,
            "grid_row": null,
            "grid_template_areas": null,
            "grid_template_columns": null,
            "grid_template_rows": null,
            "height": null,
            "justify_content": null,
            "justify_items": null,
            "left": null,
            "margin": null,
            "max_height": null,
            "max_width": null,
            "min_height": null,
            "min_width": null,
            "object_fit": null,
            "object_position": null,
            "order": null,
            "overflow": null,
            "overflow_x": null,
            "overflow_y": null,
            "padding": null,
            "right": null,
            "top": null,
            "visibility": null,
            "width": null
          }
        },
        "ff7c2db970fa4ee8a1f7d21b2ebfec38": {
          "model_module": "@jupyter-widgets/base",
          "model_module_version": "1.2.0",
          "model_name": "LayoutModel",
          "state": {
            "_model_module": "@jupyter-widgets/base",
            "_model_module_version": "1.2.0",
            "_model_name": "LayoutModel",
            "_view_count": null,
            "_view_module": "@jupyter-widgets/base",
            "_view_module_version": "1.2.0",
            "_view_name": "LayoutView",
            "align_content": null,
            "align_items": null,
            "align_self": null,
            "border": null,
            "bottom": null,
            "display": null,
            "flex": null,
            "flex_flow": null,
            "grid_area": null,
            "grid_auto_columns": null,
            "grid_auto_flow": null,
            "grid_auto_rows": null,
            "grid_column": null,
            "grid_gap": null,
            "grid_row": null,
            "grid_template_areas": null,
            "grid_template_columns": null,
            "grid_template_rows": null,
            "height": null,
            "justify_content": null,
            "justify_items": null,
            "left": null,
            "margin": null,
            "max_height": null,
            "max_width": null,
            "min_height": null,
            "min_width": null,
            "object_fit": null,
            "object_position": null,
            "order": null,
            "overflow": null,
            "overflow_x": null,
            "overflow_y": null,
            "padding": null,
            "right": null,
            "top": null,
            "visibility": null,
            "width": null
          }
        }
      }
    }
  },
  "nbformat": 4,
  "nbformat_minor": 0
}